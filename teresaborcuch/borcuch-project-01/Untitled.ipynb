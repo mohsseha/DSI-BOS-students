{
 "cells": [
  {
   "cell_type": "code",
   "execution_count": 15,
   "metadata": {
    "collapsed": false
   },
   "outputs": [
    {
     "name": "stdout",
     "output_type": "stream",
     "text": [
      "(53, 4)\n"
     ]
    },
    {
     "data": {
      "text/plain": [
       "array([['State', 'Rate', 'Verbal', 'Math'],\n",
       "       ['CT', '82', '509', '510'],\n",
       "       ['NJ', '81', '499', '513'],\n",
       "       ['MA', '79', '511', '515'],\n",
       "       ['NY', '77', '495', '505'],\n",
       "       ['NH', '72', '520', '516'],\n",
       "       ['RI', '71', '501', '499'],\n",
       "       ['PA', '71', '500', '499'],\n",
       "       ['VT', '69', '511', '506'],\n",
       "       ['ME', '69', '506', '500'],\n",
       "       ['VA', '68', '510', '501'],\n",
       "       ['DE', '67', '501', '499'],\n",
       "       ['MD', '65', '508', '510'],\n",
       "       ['NC', '65', '493', '499'],\n",
       "       ['GA', '63', '491', '489'],\n",
       "       ['IN', '60', '499', '501'],\n",
       "       ['SC', '57', '486', '488'],\n",
       "       ['DC', '56', '482', '474'],\n",
       "       ['OR', '55', '526', '526'],\n",
       "       ['FL', '54', '498', '499'],\n",
       "       ['WA', '53', '527', '527'],\n",
       "       ['TX', '53', '493', '499'],\n",
       "       ['HI', '52', '485', '515'],\n",
       "       ['AK', '51', '514', '510'],\n",
       "       ['CA', '51', '498', '517'],\n",
       "       ['AZ', '34', '523', '525'],\n",
       "       ['NV', '33', '509', '515'],\n",
       "       ['CO', '31', '539', '542'],\n",
       "       ['OH', '26', '534', '439'],\n",
       "       ['MT', '23', '539', '539'],\n",
       "       ['WV', '18', '527', '512'],\n",
       "       ['ID', '17', '543', '542'],\n",
       "       ['TN', '13', '562', '553'],\n",
       "       ['NM', '13', '551', '542'],\n",
       "       ['IL', '12', '576', '589'],\n",
       "       ['KY', '12', '550', '550'],\n",
       "       ['WY', '11', '547', '545'],\n",
       "       ['MI', '11', '561', '572'],\n",
       "       ['MN', '9', '580', '589'],\n",
       "       ['KS', '9', '577', '580'],\n",
       "       ['AL', '9', '559', '554'],\n",
       "       ['NE', '8', '562', '568'],\n",
       "       ['OK', '8', '567', '561'],\n",
       "       ['MO', '8', '577', '577'],\n",
       "       ['LA', '7', '564', '562'],\n",
       "       ['WI', '6', '584', '596'],\n",
       "       ['AR', '6', '562', '550'],\n",
       "       ['UT', '5', '575', '570'],\n",
       "       ['IA', '5', '593', '603'],\n",
       "       ['SD', '4', '577', '582'],\n",
       "       ['ND', '4', '592', '599'],\n",
       "       ['MS', '4', '566', '551'],\n",
       "       ['All', '45', '506', '514']], \n",
       "      dtype='|S6')"
      ]
     },
     "execution_count": 15,
     "metadata": {},
     "output_type": "execute_result"
    }
   ],
   "source": [
    "# make numpy array\n",
    "import numpy as np\n",
    "import csv\n",
    "f = open('/Users/teresaborcuch/DSI-course-materials/curriculum/03-projects/01-projects-weekly/project-01/assets/sat_scores.csv', 'rU')\n",
    "reader = csv.reader(f)\n",
    "sat_list = list(reader)\n",
    "sat_scores = np.array(sat_list)\n",
    "print(sat_scores.shape)\n",
    "sat_scores"
   ]
  },
  {
   "cell_type": "code",
   "execution_count": null,
   "metadata": {
    "collapsed": true
   },
   "outputs": [],
   "source": []
  }
 ],
 "metadata": {
  "anaconda-cloud": {},
  "kernelspec": {
   "display_name": "Python [default]",
   "language": "python",
   "name": "python2"
  },
  "language_info": {
   "codemirror_mode": {
    "name": "ipython",
    "version": 2
   },
   "file_extension": ".py",
   "mimetype": "text/x-python",
   "name": "python",
   "nbconvert_exporter": "python",
   "pygments_lexer": "ipython2",
   "version": "2.7.12"
  }
 },
 "nbformat": 4,
 "nbformat_minor": 1
}
