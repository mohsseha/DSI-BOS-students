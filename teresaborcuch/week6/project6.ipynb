{
 "cells": [
  {
   "cell_type": "markdown",
   "metadata": {},
   "source": [
    "Problem: Netflix is interested in acquiring some of the top movies of all time. What factors lead to their popularity? Rating = target variable."
   ]
  },
  {
   "cell_type": "code",
   "execution_count": 478,
   "metadata": {
    "collapsed": false
   },
   "outputs": [],
   "source": [
    "# Imports at the top\n",
    "import json\n",
    "from urllib import urlopen\n",
    "import pandas as pd\n",
    "import numpy as np\n",
    "import requests\n",
    "import json\n",
    "import re\n",
    "from bs4 import BeautifulSoup\n",
    "import matplotlib.pyplot as plt\n",
    "%matplotlib inline\n",
    "from sklearn.feature_extraction.text import CountVectorizer\n",
    "import nltk\n",
    "from sklearn.cross_validation import train_test_split\n",
    "from sklearn.feature_selection import RFECV\n",
    "from sklearn import metrics"
   ]
  },
  {
   "cell_type": "code",
   "execution_count": 217,
   "metadata": {
    "collapsed": false
   },
   "outputs": [],
   "source": [
    "# get IMDB's top 250\n",
    "titles = pd.read_html('http://www.imdb.com/chart/top')\n",
    "titles = titles[0]['Rank & Title']"
   ]
  },
  {
   "cell_type": "code",
   "execution_count": 218,
   "metadata": {
    "collapsed": false
   },
   "outputs": [
    {
     "data": {
      "text/plain": [
       "0    1.  The Shawshank Redemption  (1994)\n",
       "1               2.  The Godfather  (1972)\n",
       "2      3.  The Godfather: Part II  (1974)\n",
       "3             4.  The Dark Knight  (2008)\n",
       "4                5.  12 Angry Men  (1957)\n",
       "Name: Rank & Title, dtype: object"
      ]
     },
     "execution_count": 218,
     "metadata": {},
     "output_type": "execute_result"
    }
   ],
   "source": [
    "titles.head()"
   ]
  },
  {
   "cell_type": "code",
   "execution_count": 220,
   "metadata": {
    "collapsed": true
   },
   "outputs": [],
   "source": [
    "# clean them and replace spaces with + so they're ready for API\n",
    "clean_titles = []\n",
    "for x in titles:\n",
    "    title = \" \".join(re.findall(\"[a-zA-Z]+\", x)).replace(' ','+')\n",
    "    clean_titles.append(title)"
   ]
  },
  {
   "cell_type": "code",
   "execution_count": 221,
   "metadata": {
    "collapsed": false
   },
   "outputs": [
    {
     "data": {
      "text/plain": [
       "[u'The+Shawshank+Redemption',\n",
       " u'The+Godfather',\n",
       " u'The+Godfather+Part+II',\n",
       " u'The+Dark+Knight',\n",
       " u'Angry+Men',\n",
       " u'Schindler+s+List',\n",
       " u'Pulp+Fiction',\n",
       " u'The+Lord+of+the+Rings+The+Return+of+the+King',\n",
       " u'The+Good+the+Bad+and+the+Ugly',\n",
       " u'Fight+Club',\n",
       " u'The+Lord+of+the+Rings+The+Fellowship+of+the+Ring',\n",
       " u'Star+Wars+Episode+V+The+Empire+Strikes+Back',\n",
       " u'Forrest+Gump',\n",
       " u'Inception',\n",
       " u'The+Lord+of+the+Rings+The+Two+Towers',\n",
       " u'One+Flew+Over+the+Cuckoo+s+Nest',\n",
       " u'Goodfellas',\n",
       " u'The+Matrix',\n",
       " u'Seven+Samurai',\n",
       " u'Star+Wars+Episode+IV+A+New+Hope',\n",
       " u'La+La+Land',\n",
       " u'City+of+God',\n",
       " u'Se+en',\n",
       " u'The+Silence+of+the+Lambs',\n",
       " u'It+s+a+Wonderful+Life',\n",
       " u'The+Usual+Suspects',\n",
       " u'Life+Is+Beautiful',\n",
       " u'L+on+The+Professional',\n",
       " u'Spirited+Away',\n",
       " u'Saving+Private+Ryan',\n",
       " u'Once+Upon+a+Time+in+the+West',\n",
       " u'American+History+X',\n",
       " u'Interstellar',\n",
       " u'Casablanca',\n",
       " u'Psycho',\n",
       " u'City+Lights',\n",
       " u'The+Green+Mile',\n",
       " u'Raiders+of+the+Lost+Ark',\n",
       " u'The+Intouchables',\n",
       " u'Modern+Times',\n",
       " u'Rear+Window',\n",
       " u'The+Departed',\n",
       " u'The+Pianist',\n",
       " u'Terminator+Judgment+Day',\n",
       " u'Back+to+the+Future',\n",
       " u'Whiplash',\n",
       " u'Gladiator',\n",
       " u'Memento',\n",
       " u'Apocalypse+Now',\n",
       " u'The+Prestige',\n",
       " u'The+Lion+King',\n",
       " u'Alien',\n",
       " u'Dr+Strangelove+or+How+I+Learned+to+Stop+Worrying+and+Love+the+Bomb',\n",
       " u'Sunset+Blvd',\n",
       " u'The+Great+Dictator',\n",
       " u'The+Lives+of+Others',\n",
       " u'Cinema+Paradiso',\n",
       " u'Paths+of+Glory',\n",
       " u'Grave+of+the+Fireflies',\n",
       " u'Django+Unchained',\n",
       " u'The+Shining',\n",
       " u'WALL+E',\n",
       " u'American+Beauty',\n",
       " u'The+Dark+Knight+Rises',\n",
       " u'Princess+Mononoke',\n",
       " u'Aliens',\n",
       " u'Oldeuboi',\n",
       " u'Once+Upon+a+Time+in+America',\n",
       " u'Citizen+Kane',\n",
       " u'Das+Boot',\n",
       " u'Witness+for+the+Prosecution',\n",
       " u'North+by+Northwest',\n",
       " u'Vertigo',\n",
       " u'Star+Wars+Episode+VI+Return+of+the+Jedi',\n",
       " u'M',\n",
       " u'Reservoir+Dogs',\n",
       " u'Braveheart',\n",
       " u'Am+lie',\n",
       " u'Requiem+for+a+Dream',\n",
       " u'A+Clockwork+Orange',\n",
       " u'Taxi+Driver',\n",
       " u'Lawrence+of+Arabia',\n",
       " u'Double+Indemnity',\n",
       " u'Taare+Zameen+Par',\n",
       " u'To+Kill+a+Mockingbird',\n",
       " u'Eternal+Sunshine+of+the+Spotless+Mind',\n",
       " u'Toy+Story',\n",
       " u'Babam+ve+Oglum',\n",
       " u'Amadeus',\n",
       " u'Hacksaw+Ridge',\n",
       " u'Full+Metal+Jacket',\n",
       " u'The+Sting',\n",
       " u'A+Space+Odyssey',\n",
       " u'Bicycle+Thieves',\n",
       " u'Toy+Story',\n",
       " u'Singin+in+the+Rain',\n",
       " u'Snatch',\n",
       " u'Dangal',\n",
       " u'Inglourious+Basterds',\n",
       " u'The+Kid',\n",
       " u'Monty+Python+and+the+Holy+Grail',\n",
       " u'L+A+Confidential',\n",
       " u'Idiots',\n",
       " u'For+a+Few+Dollars+More',\n",
       " u'Scarface',\n",
       " u'Rash+mon',\n",
       " u'The+Apartment',\n",
       " u'Jagten',\n",
       " u'Indiana+Jones+and+the+Last+Crusade',\n",
       " u'Good+Will+Hunting',\n",
       " u'A+Separation',\n",
       " u'Metropolis',\n",
       " u'Yojimbo',\n",
       " u'All+About+Eve',\n",
       " u'Arrival',\n",
       " u'Batman+Begins',\n",
       " u'Some+Like+It+Hot',\n",
       " u'Up',\n",
       " u'The+Treasure+of+the+Sierra+Madre',\n",
       " u'Unforgiven',\n",
       " u'Downfall',\n",
       " u'Raging+Bull',\n",
       " u'The+Third+Man',\n",
       " u'Die+Hard',\n",
       " u'Children+of+Heaven',\n",
       " u'The+Great+Escape',\n",
       " u'Heat',\n",
       " u'Chinatown',\n",
       " u'Inside+Out',\n",
       " u'Pan+s+Labyrinth',\n",
       " u'Ikiru',\n",
       " u'My+Neighbor+Totoro',\n",
       " u'On+the+Waterfront',\n",
       " u'Room',\n",
       " u'Ran',\n",
       " u'The+Gold+Rush',\n",
       " u'The+Secret+in+Their+Eyes',\n",
       " u'The+Bridge+on+the+River+Kwai',\n",
       " u'Blade+Runner',\n",
       " u'Mr+Smith+Goes+to+Washington',\n",
       " u'The+Seventh+Seal',\n",
       " u'Lock+Stock+and+Two+Smoking+Barrels',\n",
       " u'Howl+s+Moving+Castle',\n",
       " u'The+Bandit',\n",
       " u'Casino',\n",
       " u'Judgment+at+Nuremberg',\n",
       " u'A+Wednesday',\n",
       " u'Incendies',\n",
       " u'A+Beautiful+Mind',\n",
       " u'The+General',\n",
       " u'Wild+Strawberries',\n",
       " u'The+Elephant+Man',\n",
       " u'Warrior',\n",
       " u'V+for+Vendetta',\n",
       " u'The+Wolf+of+Wall+Street',\n",
       " u'Sunrise',\n",
       " u'The+Passion+of+Joan+of+Arc',\n",
       " u'Gran+Torino',\n",
       " u'Rang+De+Basanti',\n",
       " u'Hera+Pheri',\n",
       " u'Andaz+Apna+Apna',\n",
       " u'Dial+M+for+Murder',\n",
       " u'The+Big+Lebowski',\n",
       " u'Trainspotting',\n",
       " u'Tokyo+Story',\n",
       " u'The+Deer+Hunter',\n",
       " u'Gone+with+the+Wind',\n",
       " u'Fargo',\n",
       " u'Finding+Nemo',\n",
       " u'The+Sixth+Sense',\n",
       " u'The+Thing',\n",
       " u'Cool+Hand+Luke',\n",
       " u'Rebecca',\n",
       " u'Munna+Bhai+M+B+B+S',\n",
       " u'No+Country+for+Old+Men',\n",
       " u'Sholay',\n",
       " u'How+to+Train+Your+Dragon',\n",
       " u'Into+the+Wild',\n",
       " u'Kill+Bill+Vol',\n",
       " u'Mary+and+Max',\n",
       " u'Gone+Girl',\n",
       " u'There+Will+Be+Blood',\n",
       " u'Come+and+See',\n",
       " u'It+Happened+One+Night',\n",
       " u'Life+of+Brian',\n",
       " u'Rush',\n",
       " u'Hotel+Rwanda',\n",
       " u'Platoon',\n",
       " u'Shutter+Island',\n",
       " u'Network',\n",
       " u'Star+Wars+Episode+VII+The+Force+Awakens',\n",
       " u'The+Wages+of+Fear',\n",
       " u'Spotlight',\n",
       " u'Stand+by+Me',\n",
       " u'The+Nights+of+Cabiria',\n",
       " u'In+the+Name+of+the+Father',\n",
       " u'Relatos+salvajes',\n",
       " u'The+Blows',\n",
       " u'Butch+Cassidy+and+the+Sundance+Kid',\n",
       " u'Mad+Max+Fury+Road',\n",
       " u'The+Maltese+Falcon',\n",
       " u'Years+a+Slave',\n",
       " u'Ben+Hur',\n",
       " u'The+Grand+Budapest+Hotel',\n",
       " u'Million+Dollar+Baby',\n",
       " u'Persona',\n",
       " u'Amores+Perros',\n",
       " u'The+Princess+Bride',\n",
       " u'Jurassic+Park',\n",
       " u'Drishyam',\n",
       " u'Hachi+A+Dog+s+Tale',\n",
       " u'Memories+of+Murder',\n",
       " u'Nausica+of+the+Valley+of+the+Wind',\n",
       " u'Stalker',\n",
       " u'The+Truman+Show',\n",
       " u'The+Grapes+of+Wrath',\n",
       " u'Before+Sunrise',\n",
       " u'The+Message',\n",
       " u'Touch+of+Evil',\n",
       " u'Annie+Hall',\n",
       " u'Gandhi',\n",
       " u'Rocky',\n",
       " u'Harry+Potter+and+the+Deathly+Hallows+Part',\n",
       " u'The+Bourne+Ultimatum',\n",
       " u'Diabolique',\n",
       " u'Donnie+Darko',\n",
       " u'Monsters+Inc',\n",
       " '',\n",
       " u'Prisoners',\n",
       " u'The+Terminator',\n",
       " u'The+Wizard+of+Oz',\n",
       " u'Zootopia',\n",
       " u'Groundhog+Day',\n",
       " u'Udaan',\n",
       " u'Catch+Me+If+You+Can',\n",
       " u'Twelve+Monkeys',\n",
       " u'La+Haine',\n",
       " u'Jaws',\n",
       " u'Barry+Lyndon',\n",
       " u'The+Best+Years+of+Our+Lives',\n",
       " u'Infernal+Affairs',\n",
       " u'Chak+de+India',\n",
       " u'Rogue+One',\n",
       " u'Strangers+on+a+Train',\n",
       " u'The+Battle+of+Algiers',\n",
       " u'Dog+Day+Afternoon',\n",
       " u'Sin+City',\n",
       " u'Kind+Hearts+and+Coronets',\n",
       " u'The+Help',\n",
       " u'The+Imitation+Game']"
      ]
     },
     "execution_count": 221,
     "metadata": {},
     "output_type": "execute_result"
    }
   ],
   "source": [
    "# these are the top 250 titles\n",
    "clean_titles"
   ]
  },
  {
   "cell_type": "code",
   "execution_count": 210,
   "metadata": {
    "collapsed": false
   },
   "outputs": [],
   "source": [
    "# get top 500 titles from Empire magazine to add more data\n",
    "url = 'http://www.empireonline.com/movies/features/500-greatest-movies/'\n",
    "soup = BeautifulSoup(urlopen(url).read(), 'html.parser')\n",
    "results = soup.find_all('h2')   "
   ]
  },
  {
   "cell_type": "code",
   "execution_count": 213,
   "metadata": {
    "collapsed": false
   },
   "outputs": [],
   "source": [
    "empire_titles = []\n",
    "for r in results:\n",
    "    title = r.text.strip()\n",
    "    empire_titles.append(title)"
   ]
  },
  {
   "cell_type": "code",
   "execution_count": 224,
   "metadata": {
    "collapsed": false
   },
   "outputs": [],
   "source": [
    "# clean and add +'s\n",
    "emp_titles = []\n",
    "for x in empire_titles:\n",
    "    title = \" \".join(re.findall(\"[a-zA-Z]+\", x)).replace(' ','+')\n",
    "    emp_titles.append(title)"
   ]
  },
  {
   "cell_type": "code",
   "execution_count": 226,
   "metadata": {
    "collapsed": false
   },
   "outputs": [
    {
     "data": {
      "text/plain": [
       "u'Ocean+s+Eleven'"
      ]
     },
     "execution_count": 226,
     "metadata": {},
     "output_type": "execute_result"
    }
   ],
   "source": [
    "emp_titles[0]"
   ]
  },
  {
   "cell_type": "code",
   "execution_count": 233,
   "metadata": {
    "collapsed": false
   },
   "outputs": [],
   "source": [
    "# merge the two\n",
    "titles = clean_titles + emp_titles"
   ]
  },
  {
   "cell_type": "code",
   "execution_count": 242,
   "metadata": {
    "collapsed": true
   },
   "outputs": [],
   "source": [
    "# use merged list to query omdb api\n",
    "data = []\n",
    "for title in titles:\n",
    "    resp = requests.get('http://www.omdbapi.com/?t={}&tomatoes=true'.format(title))\n",
    "    j = json.loads(resp.text)\n",
    "    data.append(j)"
   ]
  },
  {
   "cell_type": "code",
   "execution_count": 243,
   "metadata": {
    "collapsed": false
   },
   "outputs": [],
   "source": [
    "movies = pd.DataFrame(data)"
   ]
  },
  {
   "cell_type": "code",
   "execution_count": 245,
   "metadata": {
    "collapsed": false
   },
   "outputs": [],
   "source": [
    "del movies['Error']\n",
    "del movies['tomatoURL']\n",
    "del movies['totalSeasons']"
   ]
  },
  {
   "cell_type": "code",
   "execution_count": 249,
   "metadata": {
    "collapsed": true
   },
   "outputs": [],
   "source": [
    "del movies['tomatoImage']"
   ]
  },
  {
   "cell_type": "code",
   "execution_count": 247,
   "metadata": {
    "collapsed": false
   },
   "outputs": [
    {
     "name": "stdout",
     "output_type": "stream",
     "text": [
      "<class 'pandas.core.frame.DataFrame'>\n",
      "RangeIndex: 752 entries, 0 to 751\n",
      "Data columns (total 34 columns):\n",
      "Actors               685 non-null object\n",
      "Awards               685 non-null object\n",
      "BoxOffice            685 non-null object\n",
      "Country              685 non-null object\n",
      "DVD                  685 non-null object\n",
      "Director             685 non-null object\n",
      "Genre                685 non-null object\n",
      "Language             685 non-null object\n",
      "Metascore            685 non-null object\n",
      "Plot                 685 non-null object\n",
      "Poster               685 non-null object\n",
      "Production           685 non-null object\n",
      "Rated                685 non-null object\n",
      "Released             685 non-null object\n",
      "Response             752 non-null object\n",
      "Runtime              685 non-null object\n",
      "Title                685 non-null object\n",
      "Type                 685 non-null object\n",
      "Website              685 non-null object\n",
      "Writer               685 non-null object\n",
      "Year                 685 non-null object\n",
      "imdbID               685 non-null object\n",
      "imdbRating           685 non-null object\n",
      "imdbVotes            685 non-null object\n",
      "tomatoConsensus      685 non-null object\n",
      "tomatoFresh          685 non-null object\n",
      "tomatoImage          685 non-null object\n",
      "tomatoMeter          685 non-null object\n",
      "tomatoRating         685 non-null object\n",
      "tomatoReviews        685 non-null object\n",
      "tomatoRotten         685 non-null object\n",
      "tomatoUserMeter      685 non-null object\n",
      "tomatoUserRating     685 non-null object\n",
      "tomatoUserReviews    685 non-null object\n",
      "dtypes: object(34)\n",
      "memory usage: 199.8+ KB\n"
     ]
    }
   ],
   "source": [
    "movies.info()"
   ]
  },
  {
   "cell_type": "code",
   "execution_count": 248,
   "metadata": {
    "collapsed": false
   },
   "outputs": [
    {
     "data": {
      "text/html": [
       "<div>\n",
       "<table border=\"1\" class=\"dataframe\">\n",
       "  <thead>\n",
       "    <tr style=\"text-align: right;\">\n",
       "      <th></th>\n",
       "      <th>Actors</th>\n",
       "      <th>Awards</th>\n",
       "      <th>BoxOffice</th>\n",
       "      <th>Country</th>\n",
       "      <th>DVD</th>\n",
       "      <th>Director</th>\n",
       "      <th>Genre</th>\n",
       "      <th>Language</th>\n",
       "      <th>Metascore</th>\n",
       "      <th>Plot</th>\n",
       "      <th>...</th>\n",
       "      <th>tomatoConsensus</th>\n",
       "      <th>tomatoFresh</th>\n",
       "      <th>tomatoImage</th>\n",
       "      <th>tomatoMeter</th>\n",
       "      <th>tomatoRating</th>\n",
       "      <th>tomatoReviews</th>\n",
       "      <th>tomatoRotten</th>\n",
       "      <th>tomatoUserMeter</th>\n",
       "      <th>tomatoUserRating</th>\n",
       "      <th>tomatoUserReviews</th>\n",
       "    </tr>\n",
       "  </thead>\n",
       "  <tbody>\n",
       "    <tr>\n",
       "      <th>0</th>\n",
       "      <td>Tim Robbins, Morgan Freeman, Bob Gunton, Willi...</td>\n",
       "      <td>Nominated for 7 Oscars. Another 19 wins &amp; 30 n...</td>\n",
       "      <td>N/A</td>\n",
       "      <td>USA</td>\n",
       "      <td>27 Jan 1998</td>\n",
       "      <td>Frank Darabont</td>\n",
       "      <td>Crime, Drama</td>\n",
       "      <td>English</td>\n",
       "      <td>80</td>\n",
       "      <td>Two imprisoned men bond over a number of years...</td>\n",
       "      <td>...</td>\n",
       "      <td>The Shawshank Redemption is an uplifting, deep...</td>\n",
       "      <td>61</td>\n",
       "      <td>certified</td>\n",
       "      <td>91</td>\n",
       "      <td>8.2</td>\n",
       "      <td>67</td>\n",
       "      <td>6</td>\n",
       "      <td>98</td>\n",
       "      <td>4.4</td>\n",
       "      <td>881901</td>\n",
       "    </tr>\n",
       "    <tr>\n",
       "      <th>1</th>\n",
       "      <td>Marlon Brando, Al Pacino, James Caan, Richard ...</td>\n",
       "      <td>Won 3 Oscars. Another 23 wins &amp; 27 nominations.</td>\n",
       "      <td>N/A</td>\n",
       "      <td>USA</td>\n",
       "      <td>09 Oct 2001</td>\n",
       "      <td>Francis Ford Coppola</td>\n",
       "      <td>Crime, Drama</td>\n",
       "      <td>English, Italian, Latin</td>\n",
       "      <td>100</td>\n",
       "      <td>The aging patriarch of an organized crime dyna...</td>\n",
       "      <td>...</td>\n",
       "      <td>One of Hollywood's greatest critical and comme...</td>\n",
       "      <td>83</td>\n",
       "      <td>certified</td>\n",
       "      <td>99</td>\n",
       "      <td>9.2</td>\n",
       "      <td>84</td>\n",
       "      <td>1</td>\n",
       "      <td>98</td>\n",
       "      <td>4.4</td>\n",
       "      <td>728802</td>\n",
       "    </tr>\n",
       "    <tr>\n",
       "      <th>2</th>\n",
       "      <td>David Chase, Mick LaSalle, Richard Marks, Kenn...</td>\n",
       "      <td>N/A</td>\n",
       "      <td>N/A</td>\n",
       "      <td>USA</td>\n",
       "      <td>N/A</td>\n",
       "      <td>N/A</td>\n",
       "      <td>Documentary, Short</td>\n",
       "      <td>English</td>\n",
       "      <td>N/A</td>\n",
       "      <td>A short that features various interviewees dis...</td>\n",
       "      <td>...</td>\n",
       "      <td>N/A</td>\n",
       "      <td>N/A</td>\n",
       "      <td>N/A</td>\n",
       "      <td>N/A</td>\n",
       "      <td>N/A</td>\n",
       "      <td>N/A</td>\n",
       "      <td>N/A</td>\n",
       "      <td>N/A</td>\n",
       "      <td>N/A</td>\n",
       "      <td>N/A</td>\n",
       "    </tr>\n",
       "    <tr>\n",
       "      <th>3</th>\n",
       "      <td>Christian Bale, Heath Ledger, Aaron Eckhart, M...</td>\n",
       "      <td>Won 2 Oscars. Another 146 wins &amp; 142 nominations.</td>\n",
       "      <td>$533,316,061.00</td>\n",
       "      <td>USA, UK</td>\n",
       "      <td>09 Dec 2008</td>\n",
       "      <td>Christopher Nolan</td>\n",
       "      <td>Action, Crime, Drama</td>\n",
       "      <td>English, Mandarin</td>\n",
       "      <td>82</td>\n",
       "      <td>When the menace known as the Joker wreaks havo...</td>\n",
       "      <td>...</td>\n",
       "      <td>Dark, complex and unforgettable, The Dark Knig...</td>\n",
       "      <td>298</td>\n",
       "      <td>certified</td>\n",
       "      <td>94</td>\n",
       "      <td>8.6</td>\n",
       "      <td>317</td>\n",
       "      <td>19</td>\n",
       "      <td>94</td>\n",
       "      <td>4.4</td>\n",
       "      <td>1824965</td>\n",
       "    </tr>\n",
       "    <tr>\n",
       "      <th>4</th>\n",
       "      <td>Martin Balsam, John Fiedler, Lee J. Cobb, E.G....</td>\n",
       "      <td>Nominated for 3 Oscars. Another 16 wins &amp; 8 no...</td>\n",
       "      <td>N/A</td>\n",
       "      <td>USA</td>\n",
       "      <td>06 Mar 2001</td>\n",
       "      <td>Sidney Lumet</td>\n",
       "      <td>Crime, Drama</td>\n",
       "      <td>English</td>\n",
       "      <td>N/A</td>\n",
       "      <td>A jury holdout attempts to prevent a miscarria...</td>\n",
       "      <td>...</td>\n",
       "      <td>Sidney Lumet's feature debut is a superbly wri...</td>\n",
       "      <td>48</td>\n",
       "      <td>certified</td>\n",
       "      <td>100</td>\n",
       "      <td>8.9</td>\n",
       "      <td>48</td>\n",
       "      <td>0</td>\n",
       "      <td>97</td>\n",
       "      <td>4.2</td>\n",
       "      <td>103072</td>\n",
       "    </tr>\n",
       "  </tbody>\n",
       "</table>\n",
       "<p>5 rows × 34 columns</p>\n",
       "</div>"
      ],
      "text/plain": [
       "                                              Actors  \\\n",
       "0  Tim Robbins, Morgan Freeman, Bob Gunton, Willi...   \n",
       "1  Marlon Brando, Al Pacino, James Caan, Richard ...   \n",
       "2  David Chase, Mick LaSalle, Richard Marks, Kenn...   \n",
       "3  Christian Bale, Heath Ledger, Aaron Eckhart, M...   \n",
       "4  Martin Balsam, John Fiedler, Lee J. Cobb, E.G....   \n",
       "\n",
       "                                              Awards        BoxOffice  \\\n",
       "0  Nominated for 7 Oscars. Another 19 wins & 30 n...              N/A   \n",
       "1    Won 3 Oscars. Another 23 wins & 27 nominations.              N/A   \n",
       "2                                                N/A              N/A   \n",
       "3  Won 2 Oscars. Another 146 wins & 142 nominations.  $533,316,061.00   \n",
       "4  Nominated for 3 Oscars. Another 16 wins & 8 no...              N/A   \n",
       "\n",
       "   Country          DVD              Director                 Genre  \\\n",
       "0      USA  27 Jan 1998        Frank Darabont          Crime, Drama   \n",
       "1      USA  09 Oct 2001  Francis Ford Coppola          Crime, Drama   \n",
       "2      USA          N/A                   N/A    Documentary, Short   \n",
       "3  USA, UK  09 Dec 2008     Christopher Nolan  Action, Crime, Drama   \n",
       "4      USA  06 Mar 2001          Sidney Lumet          Crime, Drama   \n",
       "\n",
       "                  Language Metascore  \\\n",
       "0                  English        80   \n",
       "1  English, Italian, Latin       100   \n",
       "2                  English       N/A   \n",
       "3        English, Mandarin        82   \n",
       "4                  English       N/A   \n",
       "\n",
       "                                                Plot        ...         \\\n",
       "0  Two imprisoned men bond over a number of years...        ...          \n",
       "1  The aging patriarch of an organized crime dyna...        ...          \n",
       "2  A short that features various interviewees dis...        ...          \n",
       "3  When the menace known as the Joker wreaks havo...        ...          \n",
       "4  A jury holdout attempts to prevent a miscarria...        ...          \n",
       "\n",
       "                                     tomatoConsensus tomatoFresh tomatoImage  \\\n",
       "0  The Shawshank Redemption is an uplifting, deep...          61   certified   \n",
       "1  One of Hollywood's greatest critical and comme...          83   certified   \n",
       "2                                                N/A         N/A         N/A   \n",
       "3  Dark, complex and unforgettable, The Dark Knig...         298   certified   \n",
       "4  Sidney Lumet's feature debut is a superbly wri...          48   certified   \n",
       "\n",
       "  tomatoMeter tomatoRating tomatoReviews tomatoRotten tomatoUserMeter  \\\n",
       "0          91          8.2            67            6              98   \n",
       "1          99          9.2            84            1              98   \n",
       "2         N/A          N/A           N/A          N/A             N/A   \n",
       "3          94          8.6           317           19              94   \n",
       "4         100          8.9            48            0              97   \n",
       "\n",
       "  tomatoUserRating tomatoUserReviews  \n",
       "0              4.4            881901  \n",
       "1              4.4            728802  \n",
       "2              N/A               N/A  \n",
       "3              4.4           1824965  \n",
       "4              4.2            103072  \n",
       "\n",
       "[5 rows x 34 columns]"
      ]
     },
     "execution_count": 248,
     "metadata": {},
     "output_type": "execute_result"
    }
   ],
   "source": [
    "movies.head()"
   ]
  },
  {
   "cell_type": "code",
   "execution_count": 253,
   "metadata": {
    "collapsed": false
   },
   "outputs": [],
   "source": [
    "mov = movies.replace('N/A',np.nan)"
   ]
  },
  {
   "cell_type": "code",
   "execution_count": 254,
   "metadata": {
    "collapsed": false
   },
   "outputs": [
    {
     "name": "stdout",
     "output_type": "stream",
     "text": [
      "<class 'pandas.core.frame.DataFrame'>\n",
      "RangeIndex: 752 entries, 0 to 751\n",
      "Data columns (total 33 columns):\n",
      "Actors               680 non-null object\n",
      "Awards               642 non-null object\n",
      "BoxOffice            169 non-null object\n",
      "Country              685 non-null object\n",
      "DVD                  638 non-null object\n",
      "Director             673 non-null object\n",
      "Genre                684 non-null object\n",
      "Language             682 non-null object\n",
      "Metascore            418 non-null object\n",
      "Plot                 678 non-null object\n",
      "Poster               669 non-null object\n",
      "Production           636 non-null object\n",
      "Rated                650 non-null object\n",
      "Released             677 non-null object\n",
      "Response             752 non-null object\n",
      "Runtime              683 non-null object\n",
      "Title                685 non-null object\n",
      "Type                 685 non-null object\n",
      "Website              287 non-null object\n",
      "Writer               668 non-null object\n",
      "Year                 685 non-null object\n",
      "imdbID               685 non-null object\n",
      "imdbRating           679 non-null object\n",
      "imdbVotes            679 non-null object\n",
      "tomatoConsensus      522 non-null object\n",
      "tomatoFresh          636 non-null object\n",
      "tomatoMeter          636 non-null object\n",
      "tomatoRating         636 non-null object\n",
      "tomatoReviews        636 non-null object\n",
      "tomatoRotten         636 non-null object\n",
      "tomatoUserMeter      647 non-null object\n",
      "tomatoUserRating     647 non-null object\n",
      "tomatoUserReviews    658 non-null object\n",
      "dtypes: object(33)\n",
      "memory usage: 193.9+ KB\n"
     ]
    }
   ],
   "source": [
    "mov.info()"
   ]
  },
  {
   "cell_type": "code",
   "execution_count": 262,
   "metadata": {
    "collapsed": false
   },
   "outputs": [],
   "source": [
    "mov = mov.dropna(axis = 0, subset = ['Title'])"
   ]
  },
  {
   "cell_type": "code",
   "execution_count": 269,
   "metadata": {
    "collapsed": false
   },
   "outputs": [],
   "source": [
    "mov = mov.drop_duplicates(subset = ['Title'])"
   ]
  },
  {
   "cell_type": "code",
   "execution_count": 272,
   "metadata": {
    "collapsed": false
   },
   "outputs": [],
   "source": [
    "mov = mov.dropna(axis = 0, subset = ['imdbRating'])"
   ]
  },
  {
   "cell_type": "code",
   "execution_count": 281,
   "metadata": {
    "collapsed": false
   },
   "outputs": [],
   "source": [
    "mov['imdbRating'] = mov['imdbRating'].astype('float')"
   ]
  },
  {
   "cell_type": "code",
   "execution_count": 282,
   "metadata": {
    "collapsed": false
   },
   "outputs": [
    {
     "data": {
      "image/png": "[encoded data removed]",
      "text/plain": [
       "<matplotlib.figure.Figure at 0x11a924910>"
      ]
     },
     "metadata": {},
     "output_type": "display_data"
    }
   ],
   "source": [
    "# plot \n",
    "plt.hist(mov['imdbRating'])\n",
    "plt.show()"
   ]
  },
  {
   "cell_type": "code",
   "execution_count": 283,
   "metadata": {
    "collapsed": true
   },
   "outputs": [],
   "source": [
    "# get top 1000 titles from NYT to add more data\n",
    "url = 'http://www.nytimes.com/ref/movies/1000best.html'\n",
    "soup = BeautifulSoup(urlopen(url).read(), 'html.parser')\n",
    "results = soup.find_all('a href')   "
   ]
  },
  {
   "cell_type": "code",
   "execution_count": 337,
   "metadata": {
    "collapsed": false
   },
   "outputs": [],
   "source": [
    "results = soup.find_all('a', href = re.compile('^http://movies.nytimes.com/movie'))"
   ]
  },
  {
   "cell_type": "code",
   "execution_count": 346,
   "metadata": {
    "collapsed": false
   },
   "outputs": [],
   "source": [
    "nyt_titles = []\n",
    "for i in results:\n",
    "    title = i.text.strip()\n",
    "    nyt_titles.append(title)\n",
    "    "
   ]
  },
  {
   "cell_type": "code",
   "execution_count": 348,
   "metadata": {
    "collapsed": false
   },
   "outputs": [],
   "source": [
    "# clean and add +'s\n",
    "titles = []\n",
    "for x in nyt_titles:\n",
    "    title = \" \".join(re.findall(\"[a-zA-Z]+\", x)).replace(' ','+')\n",
    "    titles.append(title)"
   ]
  },
  {
   "cell_type": "code",
   "execution_count": 351,
   "metadata": {
    "collapsed": false
   },
   "outputs": [],
   "source": [
    "titles = titles[3:]"
   ]
  },
  {
   "cell_type": "code",
   "execution_count": 354,
   "metadata": {
    "collapsed": false
   },
   "outputs": [],
   "source": [
    "# now scrape api for these titles\n",
    "data = []\n",
    "for title in titles:\n",
    "    resp = requests.get('http://www.omdbapi.com/?t={}'.format(title))\n",
    "    j = json.loads(resp.text)\n",
    "    data.append(j)"
   ]
  },
  {
   "cell_type": "code",
   "execution_count": 355,
   "metadata": {
    "collapsed": true
   },
   "outputs": [],
   "source": [
    "movies = pd.DataFrame(data)"
   ]
  },
  {
   "cell_type": "code",
   "execution_count": 365,
   "metadata": {
    "collapsed": true
   },
   "outputs": [],
   "source": [
    "movies['imdbRating'].replace('N/A',np.nan, inplace = True)"
   ]
  },
  {
   "cell_type": "code",
   "execution_count": 366,
   "metadata": {
    "collapsed": false
   },
   "outputs": [],
   "source": [
    "movies = movies.dropna(subset = ['imdbRating'])"
   ]
  },
  {
   "cell_type": "code",
   "execution_count": 367,
   "metadata": {
    "collapsed": false
   },
   "outputs": [],
   "source": [
    "movies['imdbRating'] = movies['imdbRating'].astype(float)"
   ]
  },
  {
   "cell_type": "code",
   "execution_count": 368,
   "metadata": {
    "collapsed": false
   },
   "outputs": [
    {
     "data": {
      "image/png": "[encoded data removed]",
      "text/plain": [
       "<matplotlib.figure.Figure at 0x105e055d0>"
      ]
     },
     "metadata": {},
     "output_type": "display_data"
    }
   ],
   "source": [
    "# much better distribution of scores\n",
    "plt.hist(movies['imdbRating'])\n",
    "plt.show()"
   ]
  },
  {
   "cell_type": "code",
   "execution_count": 369,
   "metadata": {
    "collapsed": false
   },
   "outputs": [
    {
     "data": {
      "text/plain": [
       "Actors           object\n",
       "Awards           object\n",
       "Country          object\n",
       "Director         object\n",
       "Error            object\n",
       "Genre            object\n",
       "Language         object\n",
       "Metascore        object\n",
       "Plot             object\n",
       "Poster           object\n",
       "Rated            object\n",
       "Released         object\n",
       "Response         object\n",
       "Runtime          object\n",
       "Title            object\n",
       "Type             object\n",
       "Writer           object\n",
       "Year             object\n",
       "imdbID           object\n",
       "imdbRating      float64\n",
       "imdbVotes        object\n",
       "totalSeasons     object\n",
       "dtype: object"
      ]
     },
     "execution_count": 369,
     "metadata": {},
     "output_type": "execute_result"
    }
   ],
   "source": [
    "movies.dtypes"
   ]
  },
  {
   "cell_type": "code",
   "execution_count": 373,
   "metadata": {
    "collapsed": false
   },
   "outputs": [],
   "source": [
    "movies = movies.drop_duplicates(subset = ['imdbID'])"
   ]
  },
  {
   "cell_type": "code",
   "execution_count": 376,
   "metadata": {
    "collapsed": false
   },
   "outputs": [],
   "source": [
    "del movies['Error']\n",
    "del movies['totalSeasons']"
   ]
  },
  {
   "cell_type": "code",
   "execution_count": 378,
   "metadata": {
    "collapsed": false
   },
   "outputs": [],
   "source": [
    "del movies['Poster']"
   ]
  },
  {
   "cell_type": "code",
   "execution_count": 383,
   "metadata": {
    "collapsed": true
   },
   "outputs": [],
   "source": [
    "del movies['Metascore']\n",
    "del movies['Response']"
   ]
  },
  {
   "cell_type": "code",
   "execution_count": 385,
   "metadata": {
    "collapsed": true
   },
   "outputs": [],
   "source": [
    "del movies['Released']"
   ]
  },
  {
   "cell_type": "code",
   "execution_count": 384,
   "metadata": {
    "collapsed": false
   },
   "outputs": [],
   "source": [
    "movies.to_csv('/Users/teresaborcuch/Desktop/nyt_top1000.csv', encoding = 'utf8')"
   ]
  },
  {
   "cell_type": "code",
   "execution_count": 387,
   "metadata": {
    "collapsed": false
   },
   "outputs": [],
   "source": [
    "del movies['Language']"
   ]
  },
  {
   "cell_type": "code",
   "execution_count": 408,
   "metadata": {
    "collapsed": true
   },
   "outputs": [],
   "source": [
    "movies['won_Oscar'] = [1 if re.match(\"Won . Oscar\", row[1]) is not None else 0 for i, row in movies.iterrows()]"
   ]
  },
  {
   "cell_type": "code",
   "execution_count": 410,
   "metadata": {
    "collapsed": true
   },
   "outputs": [],
   "source": [
    "movies['nominated_Oscar'] = [1 if re.match(\"Nominated for . Oscar\", row[1]) is not None else 0 for i, row in movies.iterrows()]"
   ]
  },
  {
   "cell_type": "code",
   "execution_count": 427,
   "metadata": {
    "collapsed": false
   },
   "outputs": [],
   "source": [
    "movies = pd.read_csv('/Users/teresaborcuch/Desktop/nyt_top1000.csv')"
   ]
  },
  {
   "cell_type": "code",
   "execution_count": 430,
   "metadata": {
    "collapsed": false
   },
   "outputs": [],
   "source": [
    "movies['Actors'] = movies['Actors'].astype(str)"
   ]
  },
  {
   "cell_type": "code",
   "execution_count": 464,
   "metadata": {
    "collapsed": false,
    "scrolled": true
   },
   "outputs": [
    {
     "data": {
      "text/plain": [
       "CountVectorizer(analyzer=u'word', binary=False, decode_error=u'strict',\n",
       "        dtype=<type 'numpy.int64'>, encoding=u'utf-8', input=u'content',\n",
       "        lowercase=True, max_df=1.0, max_features=1000, min_df=1,\n",
       "        ngram_range=(2, 3), preprocessor=None, stop_words=None,\n",
       "        strip_accents=None, token_pattern=u'(?u)\\\\b\\\\w\\\\w+\\\\b',\n",
       "        tokenizer=None, vocabulary=None)"
      ]
     },
     "execution_count": 464,
     "metadata": {},
     "output_type": "execute_result"
    }
   ],
   "source": [
    "# do NLP with 2 n-grams on actor field\n",
    "bigram_vectorizer = CountVectorizer(ngram_range=(2,3), max_features = 1000)\n",
    "bigram_vectorizer.fit(movies['Actors'])"
   ]
  },
  {
   "cell_type": "code",
   "execution_count": 465,
   "metadata": {
    "collapsed": false
   },
   "outputs": [
    {
     "data": {
      "text/plain": [
       "1000"
      ]
     },
     "execution_count": 465,
     "metadata": {},
     "output_type": "execute_result"
    }
   ],
   "source": [
    "len(bigram_vectorizer.get_feature_names())"
   ]
  },
  {
   "cell_type": "code",
   "execution_count": 466,
   "metadata": {
    "collapsed": true
   },
   "outputs": [],
   "source": [
    "bigrams = pd.DataFrame(bigram_vectorizer.transform(movies['Actors']).todense(),\n",
    "                      columns = bigram_vectorizer.get_feature_names())"
   ]
  },
  {
   "cell_type": "code",
   "execution_count": 473,
   "metadata": {
    "collapsed": true
   },
   "outputs": [],
   "source": [
    "# make train and test groups\n",
    "X_train, X_test, y_train, y_test = train_test_split(bigrams, movies['imdbRating'])"
   ]
  },
  {
   "cell_type": "code",
   "execution_count": 467,
   "metadata": {
    "collapsed": true
   },
   "outputs": [],
   "source": [
    "actor_names = bigrams.sum(axis =0)"
   ]
  },
  {
   "cell_type": "code",
   "execution_count": 468,
   "metadata": {
    "collapsed": false
   },
   "outputs": [
    {
     "data": {
      "text/plain": [
       "burt lancaster     11\n",
       "cary grant         10\n",
       "humphrey bogart     9\n",
       "john wayne          9\n",
       "dustin hoffman      9\n",
       "dtype: int64"
      ]
     },
     "execution_count": 468,
     "metadata": {},
     "output_type": "execute_result"
    }
   ],
   "source": [
    "actor_names.sort_values(ascending = False).head()"
   ]
  },
  {
   "cell_type": "code",
   "execution_count": 486,
   "metadata": {
    "collapsed": false
   },
   "outputs": [
    {
     "data": {
      "text/plain": [
       "RFECV(cv=3,\n",
       "   estimator=LinearRegression(copy_X=True, fit_intercept=True, n_jobs=1, normalize=False),\n",
       "   estimator_params=None, scoring='mean_squared_error', step=1, verbose=0)"
      ]
     },
     "execution_count": 486,
     "metadata": {},
     "output_type": "execute_result"
    }
   ],
   "source": [
    "# fit a Logistic Regression to actor names\n",
    "y = movies['imdbRating']\n",
    "from sklearn.linear_model import LinearRegression\n",
    "linreg = LinearRegression()\n",
    "# use RFECV to pick optimal # of features\n",
    "rfecv = RFECV(estimator = linreg, cv = 3, scoring = 'mean_squared_error')\n",
    "rfecv.fit(bigrams, y)"
   ]
  },
  {
   "cell_type": "code",
   "execution_count": 487,
   "metadata": {
    "collapsed": false
   },
   "outputs": [],
   "source": [
    "rfecv_cols = X_train.columns[rfecv.support_]"
   ]
  },
  {
   "cell_type": "code",
   "execution_count": 488,
   "metadata": {
    "collapsed": false
   },
   "outputs": [
    {
     "data": {
      "text/plain": [
       "1"
      ]
     },
     "execution_count": 488,
     "metadata": {},
     "output_type": "execute_result"
    }
   ],
   "source": [
    "len(rfecv_cols)"
   ]
  },
  {
   "cell_type": "code",
   "execution_count": 489,
   "metadata": {
    "collapsed": false
   },
   "outputs": [
    {
     "data": {
      "text/plain": [
       "Index([u'mel gibson'], dtype='object')"
      ]
     },
     "execution_count": 489,
     "metadata": {},
     "output_type": "execute_result"
    }
   ],
   "source": [
    "rfecv_cols"
   ]
  },
  {
   "cell_type": "code",
   "execution_count": 498,
   "metadata": {
    "collapsed": false
   },
   "outputs": [],
   "source": [
    "mel_x_test = X_test['mel gibson']\n",
    "mel_x_test = mel_x_test.values.reshape(-1,1)"
   ]
  },
  {
   "cell_type": "code",
   "execution_count": 513,
   "metadata": {
    "collapsed": false
   },
   "outputs": [
    {
     "name": "stdout",
     "output_type": "stream",
     "text": [
      "(646,)\n",
      "(646,)\n"
     ]
    }
   ],
   "source": [
    "y_test_re = y_test.values.reshape(-1,1)\n",
    "print X_train['mel gibson'].shape\n",
    "print y_train.shape"
   ]
  },
  {
   "cell_type": "code",
   "execution_count": 514,
   "metadata": {
    "collapsed": false
   },
   "outputs": [
    {
     "data": {
      "text/plain": [
       "-0.022444488204428126"
      ]
     },
     "execution_count": 514,
     "metadata": {},
     "output_type": "execute_result"
    }
   ],
   "source": [
    "linreg = LinearRegression().fit(X_train['mel gibson'].values.reshape(-1,1), y_train)\n",
    "linreg.score(mel_x_test, y_test_re)"
   ]
  },
  {
   "cell_type": "code",
   "execution_count": 494,
   "metadata": {
    "collapsed": false
   },
   "outputs": [
    {
     "data": {
      "text/plain": [
       "(216,)"
      ]
     },
     "execution_count": 494,
     "metadata": {},
     "output_type": "execute_result"
    }
   ],
   "source": [
    "X_test['mel gibson'].shape"
   ]
  },
  {
   "cell_type": "code",
   "execution_count": 470,
   "metadata": {
    "collapsed": false
   },
   "outputs": [],
   "source": [
    "model_summary = pd.DataFrame(columns = ['actor','coefficient'])\n",
    "model_summary['actor'] = bigrams.columns\n",
    "model_summary['coefficient'] = abs(linreg.coef_)"
   ]
  },
  {
   "cell_type": "code",
   "execution_count": 471,
   "metadata": {
    "collapsed": false
   },
   "outputs": [
    {
     "data": {
      "text/html": [
       "<div>\n",
       "<table border=\"1\" class=\"dataframe\">\n",
       "  <thead>\n",
       "    <tr style=\"text-align: right;\">\n",
       "      <th></th>\n",
       "      <th>actor</th>\n",
       "      <th>coefficient</th>\n",
       "    </tr>\n",
       "  </thead>\n",
       "  <tbody>\n",
       "    <tr>\n",
       "      <th>143</th>\n",
       "      <td>de vilallonga</td>\n",
       "      <td>6.318323e+14</td>\n",
       "    </tr>\n",
       "    <tr>\n",
       "      <th>317</th>\n",
       "      <td>jessie royce</td>\n",
       "      <td>4.802984e+14</td>\n",
       "    </tr>\n",
       "    <tr>\n",
       "      <th>358</th>\n",
       "      <td>josé luis de</td>\n",
       "      <td>4.243735e+14</td>\n",
       "    </tr>\n",
       "    <tr>\n",
       "      <th>108</th>\n",
       "      <td>claude brialy</td>\n",
       "      <td>3.536199e+14</td>\n",
       "    </tr>\n",
       "    <tr>\n",
       "      <th>15</th>\n",
       "      <td>allen diane</td>\n",
       "      <td>3.395237e+14</td>\n",
       "    </tr>\n",
       "    <tr>\n",
       "      <th>0</th>\n",
       "      <td>adolphe menjou</td>\n",
       "      <td>3.137494e+14</td>\n",
       "    </tr>\n",
       "    <tr>\n",
       "      <th>142</th>\n",
       "      <td>de sica</td>\n",
       "      <td>2.821537e+14</td>\n",
       "    </tr>\n",
       "    <tr>\n",
       "      <th>254</th>\n",
       "      <td>helena bonham carter</td>\n",
       "      <td>2.689854e+14</td>\n",
       "    </tr>\n",
       "    <tr>\n",
       "      <th>350</th>\n",
       "      <td>john williams</td>\n",
       "      <td>2.684730e+14</td>\n",
       "    </tr>\n",
       "    <tr>\n",
       "      <th>54</th>\n",
       "      <td>benicio del</td>\n",
       "      <td>2.658837e+14</td>\n",
       "    </tr>\n",
       "    <tr>\n",
       "      <th>244</th>\n",
       "      <td>harris james</td>\n",
       "      <td>2.654301e+14</td>\n",
       "    </tr>\n",
       "    <tr>\n",
       "      <th>193</th>\n",
       "      <td>fairbanks jr</td>\n",
       "      <td>2.653161e+14</td>\n",
       "    </tr>\n",
       "    <tr>\n",
       "      <th>445</th>\n",
       "      <td>mcguire george</td>\n",
       "      <td>2.587148e+14</td>\n",
       "    </tr>\n",
       "    <tr>\n",
       "      <th>258</th>\n",
       "      <td>herbert marshall</td>\n",
       "      <td>2.561626e+14</td>\n",
       "    </tr>\n",
       "    <tr>\n",
       "      <th>146</th>\n",
       "      <td>dean stanton</td>\n",
       "      <td>2.548477e+14</td>\n",
       "    </tr>\n",
       "    <tr>\n",
       "      <th>115</th>\n",
       "      <td>connolly roscoe</td>\n",
       "      <td>2.476188e+14</td>\n",
       "    </tr>\n",
       "    <tr>\n",
       "      <th>39</th>\n",
       "      <td>astaire cyd</td>\n",
       "      <td>2.460497e+14</td>\n",
       "    </tr>\n",
       "    <tr>\n",
       "      <th>516</th>\n",
       "      <td>mendonça raymond</td>\n",
       "      <td>2.428750e+14</td>\n",
       "    </tr>\n",
       "    <tr>\n",
       "      <th>467</th>\n",
       "      <td>mcqueen robert vaughn</td>\n",
       "      <td>2.421175e+14</td>\n",
       "    </tr>\n",
       "    <tr>\n",
       "      <th>440</th>\n",
       "      <td>max von</td>\n",
       "      <td>2.416415e+14</td>\n",
       "    </tr>\n",
       "  </tbody>\n",
       "</table>\n",
       "</div>"
      ],
      "text/plain": [
       "                     actor   coefficient\n",
       "143          de vilallonga  6.318323e+14\n",
       "317           jessie royce  4.802984e+14\n",
       "358           josé luis de  4.243735e+14\n",
       "108          claude brialy  3.536199e+14\n",
       "15             allen diane  3.395237e+14\n",
       "0           adolphe menjou  3.137494e+14\n",
       "142                de sica  2.821537e+14\n",
       "254   helena bonham carter  2.689854e+14\n",
       "350          john williams  2.684730e+14\n",
       "54             benicio del  2.658837e+14\n",
       "244           harris james  2.654301e+14\n",
       "193           fairbanks jr  2.653161e+14\n",
       "445         mcguire george  2.587148e+14\n",
       "258       herbert marshall  2.561626e+14\n",
       "146           dean stanton  2.548477e+14\n",
       "115        connolly roscoe  2.476188e+14\n",
       "39             astaire cyd  2.460497e+14\n",
       "516       mendonça raymond  2.428750e+14\n",
       "467  mcqueen robert vaughn  2.421175e+14\n",
       "440                max von  2.416415e+14"
      ]
     },
     "execution_count": 471,
     "metadata": {},
     "output_type": "execute_result"
    }
   ],
   "source": [
    "model_summary.sort_values('coefficient', ascending = False).head(20)"
   ]
  },
  {
   "cell_type": "code",
   "execution_count": null,
   "metadata": {
    "collapsed": true
   },
   "outputs": [],
   "source": []
  }
 ],
 "metadata": {
  "anaconda-cloud": {},
  "kernelspec": {
   "display_name": "Python [default]",
   "language": "python",
   "name": "python2"
  },
  "language_info": {
   "codemirror_mode": {
    "name": "ipython",
    "version": 2
   },
   "file_extension": ".py",
   "mimetype": "text/x-python",
   "name": "python",
   "nbconvert_exporter": "python",
   "pygments_lexer": "ipython2",
   "version": "2.7.12"
  }
 },
 "nbformat": 4,
 "nbformat_minor": 1
}
