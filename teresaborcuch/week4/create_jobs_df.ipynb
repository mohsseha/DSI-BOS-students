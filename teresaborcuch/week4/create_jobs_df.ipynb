{
 "cells": [
  {
   "cell_type": "code",
   "execution_count": 85,
   "metadata": {
    "collapsed": false
   },
   "outputs": [],
   "source": [
    "import pandas as pd\n",
    "import numpy as np\n",
    "import matplotlib.pyplot as plt"
   ]
  },
  {
   "cell_type": "code",
   "execution_count": 86,
   "metadata": {
    "collapsed": true
   },
   "outputs": [],
   "source": [
    "# Make df with job id's that have descriptions containing Python\n",
    "python_df = pd.read_csv('/Users/teresaborcuch/DSI-BOS-students/timote_hogan/Project-04/id_and_Python.csv')\n"
   ]
  },
  {
   "cell_type": "code",
   "execution_count": 87,
   "metadata": {
    "collapsed": false
   },
   "outputs": [
    {
     "data": {
      "text/plain": [
       "(305, 3)"
      ]
     },
     "execution_count": 87,
     "metadata": {},
     "output_type": "execute_result"
    }
   ],
   "source": [
    "python_df.shape"
   ]
  },
  {
   "cell_type": "code",
   "execution_count": 88,
   "metadata": {
    "collapsed": false
   },
   "outputs": [
    {
     "data": {
      "text/html": [
       "<div>\n",
       "<table border=\"1\" class=\"dataframe\">\n",
       "  <thead>\n",
       "    <tr style=\"text-align: right;\">\n",
       "      <th></th>\n",
       "      <th>Unnamed: 0</th>\n",
       "      <th>id</th>\n",
       "      <th>over_90k</th>\n",
       "    </tr>\n",
       "  </thead>\n",
       "  <tbody>\n",
       "    <tr>\n",
       "      <th>0</th>\n",
       "      <td>0</td>\n",
       "      <td>jl_85c4e91c561780aa</td>\n",
       "      <td>0</td>\n",
       "    </tr>\n",
       "    <tr>\n",
       "      <th>1</th>\n",
       "      <td>1</td>\n",
       "      <td>jl_e632343c455d80f9</td>\n",
       "      <td>0</td>\n",
       "    </tr>\n",
       "    <tr>\n",
       "      <th>2</th>\n",
       "      <td>2</td>\n",
       "      <td>jl_1b5a168dfc7b2712</td>\n",
       "      <td>0</td>\n",
       "    </tr>\n",
       "    <tr>\n",
       "      <th>3</th>\n",
       "      <td>3</td>\n",
       "      <td>jl_05654b2739edb3dc</td>\n",
       "      <td>0</td>\n",
       "    </tr>\n",
       "    <tr>\n",
       "      <th>4</th>\n",
       "      <td>4</td>\n",
       "      <td>jl_1a7766c45b1abbeb</td>\n",
       "      <td>0</td>\n",
       "    </tr>\n",
       "  </tbody>\n",
       "</table>\n",
       "</div>"
      ],
      "text/plain": [
       "   Unnamed: 0                   id  over_90k\n",
       "0           0  jl_85c4e91c561780aa         0\n",
       "1           1  jl_e632343c455d80f9         0\n",
       "2           2  jl_1b5a168dfc7b2712         0\n",
       "3           3  jl_05654b2739edb3dc         0\n",
       "4           4  jl_1a7766c45b1abbeb         0"
      ]
     },
     "execution_count": 88,
     "metadata": {},
     "output_type": "execute_result"
    }
   ],
   "source": [
    "salary_df.head()"
   ]
  },
  {
   "cell_type": "code",
   "execution_count": 89,
   "metadata": {
    "collapsed": false
   },
   "outputs": [],
   "source": [
    "salary_df = pd.read_csv('/Users/teresaborcuch/DSI-BOS-students/timote_hogan/Project-04/id_salary.csv')"
   ]
  },
  {
   "cell_type": "code",
   "execution_count": 90,
   "metadata": {
    "collapsed": true
   },
   "outputs": [],
   "source": [
    "years_df = pd.read_csv('/Users/teresaborcuch/DSI-BOS-students/timote_hogan/Project-04/id_years.csv')"
   ]
  },
  {
   "cell_type": "code",
   "execution_count": 91,
   "metadata": {
    "collapsed": false
   },
   "outputs": [
    {
     "data": {
      "text/html": [
       "<div>\n",
       "<table border=\"1\" class=\"dataframe\">\n",
       "  <thead>\n",
       "    <tr style=\"text-align: right;\">\n",
       "      <th></th>\n",
       "      <th>Unnamed: 0</th>\n",
       "      <th>id</th>\n",
       "      <th>has_phd</th>\n",
       "      <th>title</th>\n",
       "    </tr>\n",
       "  </thead>\n",
       "  <tbody>\n",
       "    <tr>\n",
       "      <th>0</th>\n",
       "      <td>0</td>\n",
       "      <td>jl_9587aad4baab10f1</td>\n",
       "      <td>1</td>\n",
       "      <td>Data Science Engineer</td>\n",
       "    </tr>\n",
       "    <tr>\n",
       "      <th>1</th>\n",
       "      <td>1</td>\n",
       "      <td>jl_8cce239a68b06ecc</td>\n",
       "      <td>1</td>\n",
       "      <td>Bioinformatics Engineer I</td>\n",
       "    </tr>\n",
       "    <tr>\n",
       "      <th>2</th>\n",
       "      <td>2</td>\n",
       "      <td>jl_d5e17d142783f070</td>\n",
       "      <td>1</td>\n",
       "      <td>Research Scientist</td>\n",
       "    </tr>\n",
       "    <tr>\n",
       "      <th>3</th>\n",
       "      <td>3</td>\n",
       "      <td>jl_fa8592452682f9a1</td>\n",
       "      <td>1</td>\n",
       "      <td>Senior Machine Learning Engineer</td>\n",
       "    </tr>\n",
       "    <tr>\n",
       "      <th>4</th>\n",
       "      <td>4</td>\n",
       "      <td>jl_c110f141fea2888f</td>\n",
       "      <td>1</td>\n",
       "      <td>Senior Clinical Scientist</td>\n",
       "    </tr>\n",
       "  </tbody>\n",
       "</table>\n",
       "</div>"
      ],
      "text/plain": [
       "   Unnamed: 0                   id  has_phd                             title\n",
       "0           0  jl_9587aad4baab10f1        1             Data Science Engineer\n",
       "1           1  jl_8cce239a68b06ecc        1         Bioinformatics Engineer I\n",
       "2           2  jl_d5e17d142783f070        1                Research Scientist\n",
       "3           3  jl_fa8592452682f9a1        1  Senior Machine Learning Engineer\n",
       "4           4  jl_c110f141fea2888f        1         Senior Clinical Scientist"
      ]
     },
     "execution_count": 91,
     "metadata": {},
     "output_type": "execute_result"
    }
   ],
   "source": [
    "phd_df = pd.read_csv('/Users/teresaborcuch/DSI-BOS-students/timote_hogan/Project-04/phd_df.csv')\n",
    "\n",
    "phd_df=phd_df.rename(columns = {'job_id':'id'})\n",
    "phd_df.head()"
   ]
  },
  {
   "cell_type": "code",
   "execution_count": 92,
   "metadata": {
    "collapsed": true
   },
   "outputs": [],
   "source": [
    "startup_df = pd.read_csv('/Users/teresaborcuch/DSI-BOS-students/timote_hogan/Project-04/startup_df.csv')"
   ]
  },
  {
   "cell_type": "code",
   "execution_count": 93,
   "metadata": {
    "collapsed": true
   },
   "outputs": [],
   "source": [
    "scientist_df = pd.read_csv('/Users/teresaborcuch/DSI-BOS-students/timote_hogan/Scientist_Classifier.csv')"
   ]
  },
  {
   "cell_type": "code",
   "execution_count": 94,
   "metadata": {
    "collapsed": false
   },
   "outputs": [
    {
     "data": {
      "text/plain": [
       "Index([u'Unnamed: 0_x', u'id', u'Python', u'Unnamed: 0_y', u'over_90k'], dtype='object')"
      ]
     },
     "execution_count": 94,
     "metadata": {},
     "output_type": "execute_result"
    }
   ],
   "source": [
    "# merge python and salary dfs\n",
    "jobs = pd.merge(python_df, salary_df, how = 'outer', on ='id')\n",
    "jobs.columns"
   ]
  },
  {
   "cell_type": "code",
   "execution_count": 95,
   "metadata": {
    "collapsed": false
   },
   "outputs": [],
   "source": [
    "del jobs[u'Unnamed: 0_x']"
   ]
  },
  {
   "cell_type": "code",
   "execution_count": 96,
   "metadata": {
    "collapsed": false
   },
   "outputs": [],
   "source": [
    "del jobs[u'Unnamed: 0_y']"
   ]
  },
  {
   "cell_type": "code",
   "execution_count": 97,
   "metadata": {
    "collapsed": false
   },
   "outputs": [],
   "source": [
    "# now merge phd\n",
    "jobs = pd.merge(jobs, phd_df, how = 'outer', on = 'id')"
   ]
  },
  {
   "cell_type": "code",
   "execution_count": 98,
   "metadata": {
    "collapsed": false
   },
   "outputs": [],
   "source": [
    "del jobs['Unnamed: 0']"
   ]
  },
  {
   "cell_type": "code",
   "execution_count": 99,
   "metadata": {
    "collapsed": true
   },
   "outputs": [],
   "source": [
    "# now merge years\n",
    "jobs = pd.merge(jobs, years_df, how = 'outer', on = 'id')"
   ]
  },
  {
   "cell_type": "code",
   "execution_count": 100,
   "metadata": {
    "collapsed": false
   },
   "outputs": [],
   "source": [
    "del jobs['Unnamed: 0']"
   ]
  },
  {
   "cell_type": "code",
   "execution_count": 101,
   "metadata": {
    "collapsed": true
   },
   "outputs": [],
   "source": [
    "# now merge startup\n",
    "jobs = pd.merge(jobs, startup_df, how = 'outer', on = 'id')"
   ]
  },
  {
   "cell_type": "code",
   "execution_count": 102,
   "metadata": {
    "collapsed": false
   },
   "outputs": [],
   "source": [
    "del jobs['Unnamed: 0']"
   ]
  },
  {
   "cell_type": "code",
   "execution_count": 103,
   "metadata": {
    "collapsed": false
   },
   "outputs": [],
   "source": [
    "scientist_df = scientist_df.rename(columns = {'ID':'id'})"
   ]
  },
  {
   "cell_type": "code",
   "execution_count": 104,
   "metadata": {
    "collapsed": false
   },
   "outputs": [],
   "source": [
    "# now merge scientist\n",
    "jobs = pd.merge(jobs, scientist_df, how = 'outer', on = 'id')"
   ]
  },
  {
   "cell_type": "code",
   "execution_count": 105,
   "metadata": {
    "collapsed": false
   },
   "outputs": [
    {
     "data": {
      "text/html": [
       "<div>\n",
       "<table border=\"1\" class=\"dataframe\">\n",
       "  <thead>\n",
       "    <tr style=\"text-align: right;\">\n",
       "      <th></th>\n",
       "      <th>id</th>\n",
       "      <th>Python</th>\n",
       "      <th>over_90k</th>\n",
       "      <th>has_phd</th>\n",
       "      <th>title</th>\n",
       "      <th>years</th>\n",
       "      <th>has_startup</th>\n",
       "      <th>Unnamed: 0</th>\n",
       "      <th>Title</th>\n",
       "      <th>Classifier</th>\n",
       "    </tr>\n",
       "  </thead>\n",
       "  <tbody>\n",
       "    <tr>\n",
       "      <th>0</th>\n",
       "      <td>jl_f43cd8061406b3d7</td>\n",
       "      <td>1.0</td>\n",
       "      <td>1.0</td>\n",
       "      <td>NaN</td>\n",
       "      <td>NaN</td>\n",
       "      <td>NaN</td>\n",
       "      <td>NaN</td>\n",
       "      <td>2.0</td>\n",
       "      <td>NaN</td>\n",
       "      <td>NaN</td>\n",
       "    </tr>\n",
       "    <tr>\n",
       "      <th>1</th>\n",
       "      <td>jl_b59a64d3298e7fe8</td>\n",
       "      <td>1.0</td>\n",
       "      <td>1.0</td>\n",
       "      <td>NaN</td>\n",
       "      <td>NaN</td>\n",
       "      <td>NaN</td>\n",
       "      <td>NaN</td>\n",
       "      <td>1.0</td>\n",
       "      <td>NaN</td>\n",
       "      <td>NaN</td>\n",
       "    </tr>\n",
       "    <tr>\n",
       "      <th>2</th>\n",
       "      <td>jl_fbadb59b5f73dc18</td>\n",
       "      <td>1.0</td>\n",
       "      <td>1.0</td>\n",
       "      <td>NaN</td>\n",
       "      <td>NaN</td>\n",
       "      <td>0.0</td>\n",
       "      <td>NaN</td>\n",
       "      <td>3.0</td>\n",
       "      <td>NaN</td>\n",
       "      <td>NaN</td>\n",
       "    </tr>\n",
       "    <tr>\n",
       "      <th>3</th>\n",
       "      <td>jl_90603c7f1f0af480</td>\n",
       "      <td>1.0</td>\n",
       "      <td>1.0</td>\n",
       "      <td>NaN</td>\n",
       "      <td>NaN</td>\n",
       "      <td>0.0</td>\n",
       "      <td>NaN</td>\n",
       "      <td>16.0</td>\n",
       "      <td>NaN</td>\n",
       "      <td>NaN</td>\n",
       "    </tr>\n",
       "    <tr>\n",
       "      <th>4</th>\n",
       "      <td>jl_70351b5092814475</td>\n",
       "      <td>1.0</td>\n",
       "      <td>1.0</td>\n",
       "      <td>1.0</td>\n",
       "      <td>Biomedical Data Scientist</td>\n",
       "      <td>NaN</td>\n",
       "      <td>NaN</td>\n",
       "      <td>5.0</td>\n",
       "      <td>biomedical data scientist</td>\n",
       "      <td>1.0</td>\n",
       "    </tr>\n",
       "  </tbody>\n",
       "</table>\n",
       "</div>"
      ],
      "text/plain": [
       "                    id  Python  over_90k  has_phd                      title  \\\n",
       "0  jl_f43cd8061406b3d7     1.0       1.0      NaN                        NaN   \n",
       "1  jl_b59a64d3298e7fe8     1.0       1.0      NaN                        NaN   \n",
       "2  jl_fbadb59b5f73dc18     1.0       1.0      NaN                        NaN   \n",
       "3  jl_90603c7f1f0af480     1.0       1.0      NaN                        NaN   \n",
       "4  jl_70351b5092814475     1.0       1.0      1.0  Biomedical Data Scientist   \n",
       "\n",
       "   years  has_startup  Unnamed: 0                      Title  Classifier  \n",
       "0    NaN          NaN         2.0                        NaN         NaN  \n",
       "1    NaN          NaN         1.0                        NaN         NaN  \n",
       "2    0.0          NaN         3.0                        NaN         NaN  \n",
       "3    0.0          NaN        16.0                        NaN         NaN  \n",
       "4    NaN          NaN         5.0  biomedical data scientist         1.0  "
      ]
     },
     "execution_count": 105,
     "metadata": {},
     "output_type": "execute_result"
    }
   ],
   "source": [
    "jobs.head()"
   ]
  },
  {
   "cell_type": "code",
   "execution_count": 106,
   "metadata": {
    "collapsed": false
   },
   "outputs": [],
   "source": [
    "jobs['has_phd'].fillna('0', inplace = True)"
   ]
  },
  {
   "cell_type": "code",
   "execution_count": 107,
   "metadata": {
    "collapsed": false
   },
   "outputs": [],
   "source": [
    "jobs['has_startup'].fillna('0', inplace = True)"
   ]
  },
  {
   "cell_type": "code",
   "execution_count": 108,
   "metadata": {
    "collapsed": false
   },
   "outputs": [],
   "source": [
    "del jobs['Unnamed: 0']"
   ]
  },
  {
   "cell_type": "code",
   "execution_count": 109,
   "metadata": {
    "collapsed": false
   },
   "outputs": [],
   "source": [
    "jobs = jobs.rename(columns = {'Classifier': 'has_scientist'})"
   ]
  },
  {
   "cell_type": "code",
   "execution_count": 112,
   "metadata": {
    "collapsed": false
   },
   "outputs": [],
   "source": [
    "jobs = jobs.drop_duplicates(subset = 'id')"
   ]
  },
  {
   "cell_type": "code",
   "execution_count": 116,
   "metadata": {
    "collapsed": false
   },
   "outputs": [],
   "source": [
    "title_df = pd.read_csv('/Users/teresaborcuch/Desktop/title_df.csv')"
   ]
  },
  {
   "cell_type": "code",
   "execution_count": 118,
   "metadata": {
    "collapsed": false
   },
   "outputs": [],
   "source": [
    "jobs = pd.merge(jobs,title_df,how = 'outer', on = 'id')"
   ]
  },
  {
   "cell_type": "code",
   "execution_count": 120,
   "metadata": {
    "collapsed": false
   },
   "outputs": [],
   "source": [
    "del jobs['title_x']\n",
    "del jobs['Unnamed: 0']\n",
    "del jobs['Title']\n",
    "del jobs['has_scientist']"
   ]
  },
  {
   "cell_type": "code",
   "execution_count": 122,
   "metadata": {
    "collapsed": false
   },
   "outputs": [],
   "source": [
    "jobs = jobs.rename(columns = {'title_y': 'title'})"
   ]
  },
  {
   "cell_type": "code",
   "execution_count": 124,
   "metadata": {
    "collapsed": false
   },
   "outputs": [],
   "source": [
    "jobs = jobs.drop_duplicates(subset = 'id')"
   ]
  },
  {
   "cell_type": "code",
   "execution_count": 125,
   "metadata": {
    "collapsed": false
   },
   "outputs": [
    {
     "data": {
      "text/plain": [
       "(1972, 8)"
      ]
     },
     "execution_count": 125,
     "metadata": {},
     "output_type": "execute_result"
    }
   ],
   "source": [
    "jobs.shape"
   ]
  },
  {
   "cell_type": "code",
   "execution_count": 126,
   "metadata": {
    "collapsed": false
   },
   "outputs": [
    {
     "data": {
      "text/plain": [
       "802"
      ]
     },
     "execution_count": 126,
     "metadata": {},
     "output_type": "execute_result"
    }
   ],
   "source": [
    "jobs['title'].count()"
   ]
  },
  {
   "cell_type": "code",
   "execution_count": 221,
   "metadata": {
    "collapsed": false
   },
   "outputs": [],
   "source": [
    "jobs1 = jobs.dropna(subset = ['id', 'over_90k','has_phd','years','has_startup','title'])"
   ]
  },
  {
   "cell_type": "code",
   "execution_count": 222,
   "metadata": {
    "collapsed": false
   },
   "outputs": [
    {
     "data": {
      "text/plain": [
       "(357, 10)"
      ]
     },
     "execution_count": 222,
     "metadata": {},
     "output_type": "execute_result"
    }
   ],
   "source": [
    "jobs1.shape"
   ]
  },
  {
   "cell_type": "code",
   "execution_count": 133,
   "metadata": {
    "collapsed": false
   },
   "outputs": [
    {
     "data": {
      "text/plain": [
       "357"
      ]
     },
     "execution_count": 133,
     "metadata": {},
     "output_type": "execute_result"
    }
   ],
   "source": [
    "jobs1['company'].count()"
   ]
  },
  {
   "cell_type": "code",
   "execution_count": 134,
   "metadata": {
    "collapsed": true
   },
   "outputs": [],
   "source": [
    "jobs2 = jobs.dropna(subset = ['company'])"
   ]
  },
  {
   "cell_type": "code",
   "execution_count": 190,
   "metadata": {
    "collapsed": false
   },
   "outputs": [],
   "source": [
    "jobs['scientist_title'] = [0] * len(jobs['id'])"
   ]
  },
  {
   "cell_type": "code",
   "execution_count": 191,
   "metadata": {
    "collapsed": false
   },
   "outputs": [
    {
     "data": {
      "text/html": [
       "<div>\n",
       "<table border=\"1\" class=\"dataframe\">\n",
       "  <thead>\n",
       "    <tr style=\"text-align: right;\">\n",
       "      <th></th>\n",
       "      <th>id</th>\n",
       "      <th>Python</th>\n",
       "      <th>over_90k</th>\n",
       "      <th>has_phd</th>\n",
       "      <th>years</th>\n",
       "      <th>has_startup</th>\n",
       "      <th>title</th>\n",
       "      <th>company</th>\n",
       "      <th>scientist_title</th>\n",
       "    </tr>\n",
       "  </thead>\n",
       "  <tbody>\n",
       "    <tr>\n",
       "      <th>0</th>\n",
       "      <td>jl_f43cd8061406b3d7</td>\n",
       "      <td>1.0</td>\n",
       "      <td>1.0</td>\n",
       "      <td>0</td>\n",
       "      <td>NaN</td>\n",
       "      <td>0</td>\n",
       "      <td>Director of Data Science and Analysis</td>\n",
       "      <td>Fidelity Investments</td>\n",
       "      <td>0</td>\n",
       "    </tr>\n",
       "    <tr>\n",
       "      <th>1</th>\n",
       "      <td>jl_b59a64d3298e7fe8</td>\n",
       "      <td>1.0</td>\n",
       "      <td>1.0</td>\n",
       "      <td>0</td>\n",
       "      <td>NaN</td>\n",
       "      <td>0</td>\n",
       "      <td>NaN</td>\n",
       "      <td>NaN</td>\n",
       "      <td>0</td>\n",
       "    </tr>\n",
       "    <tr>\n",
       "      <th>2</th>\n",
       "      <td>jl_fbadb59b5f73dc18</td>\n",
       "      <td>1.0</td>\n",
       "      <td>1.0</td>\n",
       "      <td>0</td>\n",
       "      <td>0.0</td>\n",
       "      <td>0</td>\n",
       "      <td>NaN</td>\n",
       "      <td>NaN</td>\n",
       "      <td>0</td>\n",
       "    </tr>\n",
       "    <tr>\n",
       "      <th>3</th>\n",
       "      <td>jl_90603c7f1f0af480</td>\n",
       "      <td>1.0</td>\n",
       "      <td>1.0</td>\n",
       "      <td>0</td>\n",
       "      <td>0.0</td>\n",
       "      <td>0</td>\n",
       "      <td>Analytics Engineer (Boston)</td>\n",
       "      <td>QuantumBlack</td>\n",
       "      <td>0</td>\n",
       "    </tr>\n",
       "    <tr>\n",
       "      <th>4</th>\n",
       "      <td>jl_70351b5092814475</td>\n",
       "      <td>1.0</td>\n",
       "      <td>1.0</td>\n",
       "      <td>1</td>\n",
       "      <td>NaN</td>\n",
       "      <td>0</td>\n",
       "      <td>NaN</td>\n",
       "      <td>NaN</td>\n",
       "      <td>0</td>\n",
       "    </tr>\n",
       "  </tbody>\n",
       "</table>\n",
       "</div>"
      ],
      "text/plain": [
       "                    id  Python  over_90k has_phd  years has_startup  \\\n",
       "0  jl_f43cd8061406b3d7     1.0       1.0       0    NaN           0   \n",
       "1  jl_b59a64d3298e7fe8     1.0       1.0       0    NaN           0   \n",
       "2  jl_fbadb59b5f73dc18     1.0       1.0       0    0.0           0   \n",
       "3  jl_90603c7f1f0af480     1.0       1.0       0    0.0           0   \n",
       "4  jl_70351b5092814475     1.0       1.0       1    NaN           0   \n",
       "\n",
       "                                   title               company  \\\n",
       "0  Director of Data Science and Analysis  Fidelity Investments   \n",
       "1                                    NaN                   NaN   \n",
       "2                                    NaN                   NaN   \n",
       "3            Analytics Engineer (Boston)          QuantumBlack   \n",
       "4                                    NaN                   NaN   \n",
       "\n",
       "   scientist_title  \n",
       "0                0  \n",
       "1                0  \n",
       "2                0  \n",
       "3                0  \n",
       "4                0  "
      ]
     },
     "execution_count": 191,
     "metadata": {},
     "output_type": "execute_result"
    }
   ],
   "source": [
    "jobs.head()"
   ]
  },
  {
   "cell_type": "code",
   "execution_count": 207,
   "metadata": {
    "collapsed": false
   },
   "outputs": [],
   "source": [
    "scientists = []\n",
    "for i, row in jobs.iterrows():\n",
    "    title = str(row[6])\n",
    "    if \"Scientist\" in title:\n",
    "        scientists.append(1)\n",
    "    else:\n",
    "        scientists.append(0)\n",
    "        \n",
    "jobs['scientist_title'] = scientists"
   ]
  },
  {
   "cell_type": "code",
   "execution_count": 211,
   "metadata": {
    "collapsed": false
   },
   "outputs": [],
   "source": [
    "#jobs['analyst_title'] = [None] * len(jobs['id'])\n",
    "analysts = []\n",
    "for i, row in jobs.iterrows():\n",
    "    title = str(row[6])\n",
    "    if \"Analyst\" in title:\n",
    "        analysts.append(1)\n",
    "    else:\n",
    "        analysts.append(0)\n",
    "        \n",
    "jobs['analyst_title'] = analysts"
   ]
  },
  {
   "cell_type": "code",
   "execution_count": 212,
   "metadata": {
    "collapsed": false
   },
   "outputs": [
    {
     "data": {
      "text/html": [
       "<div>\n",
       "<table border=\"1\" class=\"dataframe\">\n",
       "  <thead>\n",
       "    <tr style=\"text-align: right;\">\n",
       "      <th></th>\n",
       "      <th>id</th>\n",
       "      <th>Python</th>\n",
       "      <th>over_90k</th>\n",
       "      <th>has_phd</th>\n",
       "      <th>years</th>\n",
       "      <th>has_startup</th>\n",
       "      <th>title</th>\n",
       "      <th>company</th>\n",
       "      <th>scientist_title</th>\n",
       "      <th>analyst_title</th>\n",
       "    </tr>\n",
       "  </thead>\n",
       "  <tbody>\n",
       "    <tr>\n",
       "      <th>0</th>\n",
       "      <td>jl_f43cd8061406b3d7</td>\n",
       "      <td>1.0</td>\n",
       "      <td>1.0</td>\n",
       "      <td>0</td>\n",
       "      <td>NaN</td>\n",
       "      <td>0</td>\n",
       "      <td>Director of Data Science and Analysis</td>\n",
       "      <td>Fidelity Investments</td>\n",
       "      <td>0</td>\n",
       "      <td>0</td>\n",
       "    </tr>\n",
       "    <tr>\n",
       "      <th>1</th>\n",
       "      <td>jl_b59a64d3298e7fe8</td>\n",
       "      <td>1.0</td>\n",
       "      <td>1.0</td>\n",
       "      <td>0</td>\n",
       "      <td>NaN</td>\n",
       "      <td>0</td>\n",
       "      <td>NaN</td>\n",
       "      <td>NaN</td>\n",
       "      <td>0</td>\n",
       "      <td>0</td>\n",
       "    </tr>\n",
       "    <tr>\n",
       "      <th>2</th>\n",
       "      <td>jl_fbadb59b5f73dc18</td>\n",
       "      <td>1.0</td>\n",
       "      <td>1.0</td>\n",
       "      <td>0</td>\n",
       "      <td>0.0</td>\n",
       "      <td>0</td>\n",
       "      <td>NaN</td>\n",
       "      <td>NaN</td>\n",
       "      <td>0</td>\n",
       "      <td>0</td>\n",
       "    </tr>\n",
       "    <tr>\n",
       "      <th>3</th>\n",
       "      <td>jl_90603c7f1f0af480</td>\n",
       "      <td>1.0</td>\n",
       "      <td>1.0</td>\n",
       "      <td>0</td>\n",
       "      <td>0.0</td>\n",
       "      <td>0</td>\n",
       "      <td>Analytics Engineer (Boston)</td>\n",
       "      <td>QuantumBlack</td>\n",
       "      <td>0</td>\n",
       "      <td>0</td>\n",
       "    </tr>\n",
       "    <tr>\n",
       "      <th>4</th>\n",
       "      <td>jl_70351b5092814475</td>\n",
       "      <td>1.0</td>\n",
       "      <td>1.0</td>\n",
       "      <td>1</td>\n",
       "      <td>NaN</td>\n",
       "      <td>0</td>\n",
       "      <td>NaN</td>\n",
       "      <td>NaN</td>\n",
       "      <td>0</td>\n",
       "      <td>0</td>\n",
       "    </tr>\n",
       "    <tr>\n",
       "      <th>5</th>\n",
       "      <td>jl_05de118416baeef8</td>\n",
       "      <td>1.0</td>\n",
       "      <td>NaN</td>\n",
       "      <td>0</td>\n",
       "      <td>NaN</td>\n",
       "      <td>0</td>\n",
       "      <td>NaN</td>\n",
       "      <td>NaN</td>\n",
       "      <td>0</td>\n",
       "      <td>0</td>\n",
       "    </tr>\n",
       "    <tr>\n",
       "      <th>6</th>\n",
       "      <td>jl_50022587c7a4a8d9</td>\n",
       "      <td>1.0</td>\n",
       "      <td>1.0</td>\n",
       "      <td>0</td>\n",
       "      <td>0.0</td>\n",
       "      <td>0</td>\n",
       "      <td>Data Scientist Intern: Pricing &amp; Profitability...</td>\n",
       "      <td>Wayfair</td>\n",
       "      <td>1</td>\n",
       "      <td>0</td>\n",
       "    </tr>\n",
       "    <tr>\n",
       "      <th>7</th>\n",
       "      <td>jl_44da2bd2b0b7e145</td>\n",
       "      <td>1.0</td>\n",
       "      <td>1.0</td>\n",
       "      <td>1</td>\n",
       "      <td>0.0</td>\n",
       "      <td>0</td>\n",
       "      <td>Machine Learning Scientist</td>\n",
       "      <td>Amazon Corporate LLC</td>\n",
       "      <td>1</td>\n",
       "      <td>0</td>\n",
       "    </tr>\n",
       "    <tr>\n",
       "      <th>8</th>\n",
       "      <td>jl_f5945f64ec7013e3</td>\n",
       "      <td>1.0</td>\n",
       "      <td>1.0</td>\n",
       "      <td>0</td>\n",
       "      <td>0.0</td>\n",
       "      <td>0</td>\n",
       "      <td>Data Scientist</td>\n",
       "      <td>MIT</td>\n",
       "      <td>1</td>\n",
       "      <td>0</td>\n",
       "    </tr>\n",
       "    <tr>\n",
       "      <th>9</th>\n",
       "      <td>jl_6c9d0349b46d0aae</td>\n",
       "      <td>1.0</td>\n",
       "      <td>1.0</td>\n",
       "      <td>1</td>\n",
       "      <td>3.0</td>\n",
       "      <td>0</td>\n",
       "      <td>Data Insights Analyst</td>\n",
       "      <td>Planet Pharma</td>\n",
       "      <td>0</td>\n",
       "      <td>1</td>\n",
       "    </tr>\n",
       "    <tr>\n",
       "      <th>10</th>\n",
       "      <td>jl_32062be6a68c7531</td>\n",
       "      <td>1.0</td>\n",
       "      <td>1.0</td>\n",
       "      <td>1</td>\n",
       "      <td>4.0</td>\n",
       "      <td>0</td>\n",
       "      <td>Clinical Data Scientist (8570)</td>\n",
       "      <td>BioPoint</td>\n",
       "      <td>1</td>\n",
       "      <td>0</td>\n",
       "    </tr>\n",
       "    <tr>\n",
       "      <th>12</th>\n",
       "      <td>jl_e632343c455d80f9</td>\n",
       "      <td>1.0</td>\n",
       "      <td>0.0</td>\n",
       "      <td>0</td>\n",
       "      <td>0.0</td>\n",
       "      <td>0</td>\n",
       "      <td>Scientist, Cancer Genomics – Informatics</td>\n",
       "      <td>Foundation Medicine, Inc.</td>\n",
       "      <td>1</td>\n",
       "      <td>0</td>\n",
       "    </tr>\n",
       "    <tr>\n",
       "      <th>14</th>\n",
       "      <td>jl_4fbc1d778df8203e</td>\n",
       "      <td>1.0</td>\n",
       "      <td>1.0</td>\n",
       "      <td>0</td>\n",
       "      <td>2.0</td>\n",
       "      <td>0</td>\n",
       "      <td>Data Scientist</td>\n",
       "      <td>Rapid7</td>\n",
       "      <td>1</td>\n",
       "      <td>0</td>\n",
       "    </tr>\n",
       "    <tr>\n",
       "      <th>16</th>\n",
       "      <td>jl_2370348e80d8c420</td>\n",
       "      <td>1.0</td>\n",
       "      <td>1.0</td>\n",
       "      <td>0</td>\n",
       "      <td>3.0</td>\n",
       "      <td>0</td>\n",
       "      <td>Data Scientist</td>\n",
       "      <td>Strategic Employment Partners</td>\n",
       "      <td>1</td>\n",
       "      <td>0</td>\n",
       "    </tr>\n",
       "    <tr>\n",
       "      <th>17</th>\n",
       "      <td>jl_85c4e91c561780aa</td>\n",
       "      <td>1.0</td>\n",
       "      <td>0.0</td>\n",
       "      <td>0</td>\n",
       "      <td>1.0</td>\n",
       "      <td>0</td>\n",
       "      <td>Data Scientist - Waltham, MA location</td>\n",
       "      <td>Amadeus</td>\n",
       "      <td>1</td>\n",
       "      <td>0</td>\n",
       "    </tr>\n",
       "    <tr>\n",
       "      <th>19</th>\n",
       "      <td>jl_ada8a7b4477d3923</td>\n",
       "      <td>1.0</td>\n",
       "      <td>1.0</td>\n",
       "      <td>1</td>\n",
       "      <td>3.0</td>\n",
       "      <td>0</td>\n",
       "      <td>NaN</td>\n",
       "      <td>NaN</td>\n",
       "      <td>0</td>\n",
       "      <td>0</td>\n",
       "    </tr>\n",
       "    <tr>\n",
       "      <th>20</th>\n",
       "      <td>jl_25732595a7113f45</td>\n",
       "      <td>1.0</td>\n",
       "      <td>1.0</td>\n",
       "      <td>0</td>\n",
       "      <td>2.0</td>\n",
       "      <td>0</td>\n",
       "      <td>Biomedical Data Scientist</td>\n",
       "      <td>Booz Allen Hamilton</td>\n",
       "      <td>1</td>\n",
       "      <td>0</td>\n",
       "    </tr>\n",
       "    <tr>\n",
       "      <th>21</th>\n",
       "      <td>jl_b3462acabd0f43c3</td>\n",
       "      <td>1.0</td>\n",
       "      <td>0.0</td>\n",
       "      <td>1</td>\n",
       "      <td>NaN</td>\n",
       "      <td>0</td>\n",
       "      <td>Bioinformatics Scientist</td>\n",
       "      <td>Harvard University</td>\n",
       "      <td>1</td>\n",
       "      <td>0</td>\n",
       "    </tr>\n",
       "    <tr>\n",
       "      <th>22</th>\n",
       "      <td>jl_45aa9a89795b5d2b</td>\n",
       "      <td>1.0</td>\n",
       "      <td>1.0</td>\n",
       "      <td>1</td>\n",
       "      <td>0.0</td>\n",
       "      <td>0</td>\n",
       "      <td>Senior Data Scientist</td>\n",
       "      <td>Verizon</td>\n",
       "      <td>1</td>\n",
       "      <td>0</td>\n",
       "    </tr>\n",
       "    <tr>\n",
       "      <th>23</th>\n",
       "      <td>jl_2d63f589c7b4584b</td>\n",
       "      <td>1.0</td>\n",
       "      <td>1.0</td>\n",
       "      <td>1</td>\n",
       "      <td>2.0</td>\n",
       "      <td>0</td>\n",
       "      <td>Data Scientist</td>\n",
       "      <td>Wayfair</td>\n",
       "      <td>1</td>\n",
       "      <td>0</td>\n",
       "    </tr>\n",
       "    <tr>\n",
       "      <th>24</th>\n",
       "      <td>jl_b8658ac1d1483ab5</td>\n",
       "      <td>1.0</td>\n",
       "      <td>1.0</td>\n",
       "      <td>0</td>\n",
       "      <td>0.0</td>\n",
       "      <td>0</td>\n",
       "      <td>Data Scientist</td>\n",
       "      <td>Jobspring Partners</td>\n",
       "      <td>1</td>\n",
       "      <td>0</td>\n",
       "    </tr>\n",
       "    <tr>\n",
       "      <th>26</th>\n",
       "      <td>jl_40aa8253449c2054</td>\n",
       "      <td>1.0</td>\n",
       "      <td>0.0</td>\n",
       "      <td>0</td>\n",
       "      <td>2.0</td>\n",
       "      <td>1</td>\n",
       "      <td>Part Time Data Science Instructor</td>\n",
       "      <td>General Assembly</td>\n",
       "      <td>0</td>\n",
       "      <td>0</td>\n",
       "    </tr>\n",
       "    <tr>\n",
       "      <th>28</th>\n",
       "      <td>jl_9d3c55e683467e2c</td>\n",
       "      <td>1.0</td>\n",
       "      <td>0.0</td>\n",
       "      <td>0</td>\n",
       "      <td>NaN</td>\n",
       "      <td>0</td>\n",
       "      <td>Bioinformatics Analyst I - Molecular Biology Core</td>\n",
       "      <td>Dana-Farber Cancer Institute</td>\n",
       "      <td>0</td>\n",
       "      <td>1</td>\n",
       "    </tr>\n",
       "    <tr>\n",
       "      <th>29</th>\n",
       "      <td>jl_b5b7c26924376b59</td>\n",
       "      <td>1.0</td>\n",
       "      <td>1.0</td>\n",
       "      <td>0</td>\n",
       "      <td>0.0</td>\n",
       "      <td>0</td>\n",
       "      <td>NaN</td>\n",
       "      <td>NaN</td>\n",
       "      <td>0</td>\n",
       "      <td>0</td>\n",
       "    </tr>\n",
       "    <tr>\n",
       "      <th>30</th>\n",
       "      <td>jl_69101ac67eec9ea2</td>\n",
       "      <td>1.0</td>\n",
       "      <td>NaN</td>\n",
       "      <td>0</td>\n",
       "      <td>0.0</td>\n",
       "      <td>0</td>\n",
       "      <td>Software Engineer</td>\n",
       "      <td>Schireson Associates</td>\n",
       "      <td>0</td>\n",
       "      <td>0</td>\n",
       "    </tr>\n",
       "    <tr>\n",
       "      <th>31</th>\n",
       "      <td>jl_7ccd144baa4275ab</td>\n",
       "      <td>1.0</td>\n",
       "      <td>NaN</td>\n",
       "      <td>0</td>\n",
       "      <td>NaN</td>\n",
       "      <td>0</td>\n",
       "      <td>NaN</td>\n",
       "      <td>NaN</td>\n",
       "      <td>0</td>\n",
       "      <td>0</td>\n",
       "    </tr>\n",
       "    <tr>\n",
       "      <th>32</th>\n",
       "      <td>jl_ba19b2e0984e8e1f</td>\n",
       "      <td>1.0</td>\n",
       "      <td>1.0</td>\n",
       "      <td>1</td>\n",
       "      <td>3.0</td>\n",
       "      <td>1</td>\n",
       "      <td>Bioinformatics Scientist</td>\n",
       "      <td>Foundation Medicine, Inc.</td>\n",
       "      <td>1</td>\n",
       "      <td>0</td>\n",
       "    </tr>\n",
       "    <tr>\n",
       "      <th>33</th>\n",
       "      <td>jl_5f30454eae8a42bd</td>\n",
       "      <td>1.0</td>\n",
       "      <td>1.0</td>\n",
       "      <td>1</td>\n",
       "      <td>3.0</td>\n",
       "      <td>0</td>\n",
       "      <td>PhD Research Scientist- Machine Learning</td>\n",
       "      <td>Rakuten, Inc.</td>\n",
       "      <td>1</td>\n",
       "      <td>0</td>\n",
       "    </tr>\n",
       "    <tr>\n",
       "      <th>35</th>\n",
       "      <td>jl_ba29f67e688108c5</td>\n",
       "      <td>1.0</td>\n",
       "      <td>1.0</td>\n",
       "      <td>0</td>\n",
       "      <td>2.0</td>\n",
       "      <td>0</td>\n",
       "      <td>NaN</td>\n",
       "      <td>NaN</td>\n",
       "      <td>0</td>\n",
       "      <td>0</td>\n",
       "    </tr>\n",
       "    <tr>\n",
       "      <th>36</th>\n",
       "      <td>jl_ffb7f83fa7858f6a</td>\n",
       "      <td>1.0</td>\n",
       "      <td>1.0</td>\n",
       "      <td>1</td>\n",
       "      <td>NaN</td>\n",
       "      <td>0</td>\n",
       "      <td>Data Scientist, Algorithms</td>\n",
       "      <td>Wayfair</td>\n",
       "      <td>1</td>\n",
       "      <td>0</td>\n",
       "    </tr>\n",
       "    <tr>\n",
       "      <th>38</th>\n",
       "      <td>jl_62f334a900a46076</td>\n",
       "      <td>1.0</td>\n",
       "      <td>1.0</td>\n",
       "      <td>0</td>\n",
       "      <td>2.0</td>\n",
       "      <td>0</td>\n",
       "      <td>Scientist, Research and Modeling - Cyber Risk</td>\n",
       "      <td>AIR Worldwide</td>\n",
       "      <td>1</td>\n",
       "      <td>0</td>\n",
       "    </tr>\n",
       "    <tr>\n",
       "      <th>39</th>\n",
       "      <td>jl_4ec3c1a1ffc6ff64</td>\n",
       "      <td>1.0</td>\n",
       "      <td>1.0</td>\n",
       "      <td>0</td>\n",
       "      <td>4.0</td>\n",
       "      <td>0</td>\n",
       "      <td>Data Scientist</td>\n",
       "      <td>Oracle</td>\n",
       "      <td>1</td>\n",
       "      <td>0</td>\n",
       "    </tr>\n",
       "    <tr>\n",
       "      <th>40</th>\n",
       "      <td>jl_445f9f72145ccbcc</td>\n",
       "      <td>1.0</td>\n",
       "      <td>0.0</td>\n",
       "      <td>1</td>\n",
       "      <td>0.0</td>\n",
       "      <td>0</td>\n",
       "      <td>Innovation Fellow, Clinical Data Science Center</td>\n",
       "      <td>Partners HealthCare(PHS)</td>\n",
       "      <td>0</td>\n",
       "      <td>0</td>\n",
       "    </tr>\n",
       "    <tr>\n",
       "      <th>42</th>\n",
       "      <td>jl_8d188c08bf77e2fc</td>\n",
       "      <td>1.0</td>\n",
       "      <td>1.0</td>\n",
       "      <td>1</td>\n",
       "      <td>4.0</td>\n",
       "      <td>0</td>\n",
       "      <td>Senior Data Scientist – Computational Biologist</td>\n",
       "      <td>Tessella</td>\n",
       "      <td>1</td>\n",
       "      <td>0</td>\n",
       "    </tr>\n",
       "    <tr>\n",
       "      <th>43</th>\n",
       "      <td>jl_dfef34cc5989dfbe</td>\n",
       "      <td>1.0</td>\n",
       "      <td>1.0</td>\n",
       "      <td>1</td>\n",
       "      <td>4.0</td>\n",
       "      <td>0</td>\n",
       "      <td>Senior Data Scientist</td>\n",
       "      <td>Rapid7</td>\n",
       "      <td>1</td>\n",
       "      <td>0</td>\n",
       "    </tr>\n",
       "    <tr>\n",
       "      <th>44</th>\n",
       "      <td>jl_a638c3a55a1cfe96</td>\n",
       "      <td>1.0</td>\n",
       "      <td>1.0</td>\n",
       "      <td>1</td>\n",
       "      <td>1.0</td>\n",
       "      <td>0</td>\n",
       "      <td>Staff Data Scientist</td>\n",
       "      <td>GE Global Operations</td>\n",
       "      <td>1</td>\n",
       "      <td>0</td>\n",
       "    </tr>\n",
       "    <tr>\n",
       "      <th>45</th>\n",
       "      <td>jl_c28f0284f9a5d601</td>\n",
       "      <td>1.0</td>\n",
       "      <td>1.0</td>\n",
       "      <td>1</td>\n",
       "      <td>NaN</td>\n",
       "      <td>0</td>\n",
       "      <td>Principal Data Scientist - 37854BR</td>\n",
       "      <td>Aetna</td>\n",
       "      <td>1</td>\n",
       "      <td>0</td>\n",
       "    </tr>\n",
       "    <tr>\n",
       "      <th>46</th>\n",
       "      <td>jl_d433fe393f99e1f8</td>\n",
       "      <td>1.0</td>\n",
       "      <td>NaN</td>\n",
       "      <td>1</td>\n",
       "      <td>0.0</td>\n",
       "      <td>0</td>\n",
       "      <td>Applied Scientist II -</td>\n",
       "      <td>Amazon Corporate LLC</td>\n",
       "      <td>1</td>\n",
       "      <td>0</td>\n",
       "    </tr>\n",
       "    <tr>\n",
       "      <th>48</th>\n",
       "      <td>jl_021a7edb5cf4793f</td>\n",
       "      <td>1.0</td>\n",
       "      <td>1.0</td>\n",
       "      <td>1</td>\n",
       "      <td>NaN</td>\n",
       "      <td>0</td>\n",
       "      <td>NaN</td>\n",
       "      <td>NaN</td>\n",
       "      <td>0</td>\n",
       "      <td>0</td>\n",
       "    </tr>\n",
       "    <tr>\n",
       "      <th>49</th>\n",
       "      <td>jl_0ea00cbc973dc761</td>\n",
       "      <td>1.0</td>\n",
       "      <td>NaN</td>\n",
       "      <td>1</td>\n",
       "      <td>NaN</td>\n",
       "      <td>0</td>\n",
       "      <td>Cognitive / AI Data Scientist</td>\n",
       "      <td>QuintilesIMS</td>\n",
       "      <td>1</td>\n",
       "      <td>0</td>\n",
       "    </tr>\n",
       "    <tr>\n",
       "      <th>50</th>\n",
       "      <td>jl_e80b58b3976b3590</td>\n",
       "      <td>1.0</td>\n",
       "      <td>1.0</td>\n",
       "      <td>0</td>\n",
       "      <td>2.0</td>\n",
       "      <td>0</td>\n",
       "      <td>Data Scientist</td>\n",
       "      <td>Aspen Technology</td>\n",
       "      <td>1</td>\n",
       "      <td>0</td>\n",
       "    </tr>\n",
       "    <tr>\n",
       "      <th>51</th>\n",
       "      <td>jl_b856f9a5bc9b6cef</td>\n",
       "      <td>1.0</td>\n",
       "      <td>1.0</td>\n",
       "      <td>1</td>\n",
       "      <td>0.0</td>\n",
       "      <td>1</td>\n",
       "      <td>NaN</td>\n",
       "      <td>NaN</td>\n",
       "      <td>0</td>\n",
       "      <td>0</td>\n",
       "    </tr>\n",
       "    <tr>\n",
       "      <th>52</th>\n",
       "      <td>jl_8dcb69dd20ec366f</td>\n",
       "      <td>1.0</td>\n",
       "      <td>1.0</td>\n",
       "      <td>1</td>\n",
       "      <td>1.0</td>\n",
       "      <td>0</td>\n",
       "      <td>Data Scientist</td>\n",
       "      <td>Akamai</td>\n",
       "      <td>1</td>\n",
       "      <td>0</td>\n",
       "    </tr>\n",
       "    <tr>\n",
       "      <th>53</th>\n",
       "      <td>jl_d2b92fbd9fccfbff</td>\n",
       "      <td>1.0</td>\n",
       "      <td>NaN</td>\n",
       "      <td>0</td>\n",
       "      <td>0.0</td>\n",
       "      <td>0</td>\n",
       "      <td>NaN</td>\n",
       "      <td>NaN</td>\n",
       "      <td>0</td>\n",
       "      <td>0</td>\n",
       "    </tr>\n",
       "    <tr>\n",
       "      <th>54</th>\n",
       "      <td>jl_00e49ce025b8313b</td>\n",
       "      <td>1.0</td>\n",
       "      <td>1.0</td>\n",
       "      <td>1</td>\n",
       "      <td>NaN</td>\n",
       "      <td>0</td>\n",
       "      <td>NaN</td>\n",
       "      <td>NaN</td>\n",
       "      <td>0</td>\n",
       "      <td>0</td>\n",
       "    </tr>\n",
       "    <tr>\n",
       "      <th>55</th>\n",
       "      <td>jl_acce68fa735f50b1</td>\n",
       "      <td>1.0</td>\n",
       "      <td>0.0</td>\n",
       "      <td>0</td>\n",
       "      <td>NaN</td>\n",
       "      <td>0</td>\n",
       "      <td>Junior Front-End Data Scientist</td>\n",
       "      <td>Mathematica Policy Research</td>\n",
       "      <td>1</td>\n",
       "      <td>0</td>\n",
       "    </tr>\n",
       "    <tr>\n",
       "      <th>56</th>\n",
       "      <td>jl_d1a877c30ca7a5e6</td>\n",
       "      <td>1.0</td>\n",
       "      <td>1.0</td>\n",
       "      <td>0</td>\n",
       "      <td>0.0</td>\n",
       "      <td>0</td>\n",
       "      <td>NaN</td>\n",
       "      <td>NaN</td>\n",
       "      <td>0</td>\n",
       "      <td>0</td>\n",
       "    </tr>\n",
       "    <tr>\n",
       "      <th>57</th>\n",
       "      <td>jl_01a41531e800513c</td>\n",
       "      <td>1.0</td>\n",
       "      <td>1.0</td>\n",
       "      <td>1</td>\n",
       "      <td>2.0</td>\n",
       "      <td>0</td>\n",
       "      <td>Data Scientist</td>\n",
       "      <td>Partners HealthCare(PHS)</td>\n",
       "      <td>1</td>\n",
       "      <td>0</td>\n",
       "    </tr>\n",
       "    <tr>\n",
       "      <th>58</th>\n",
       "      <td>jl_3d766c8404b3e286</td>\n",
       "      <td>1.0</td>\n",
       "      <td>1.0</td>\n",
       "      <td>0</td>\n",
       "      <td>0.0</td>\n",
       "      <td>0</td>\n",
       "      <td>Senior Data Scientist</td>\n",
       "      <td>National Fire Protection Association</td>\n",
       "      <td>1</td>\n",
       "      <td>0</td>\n",
       "    </tr>\n",
       "    <tr>\n",
       "      <th>59</th>\n",
       "      <td>jl_5a95e9f625751e1e</td>\n",
       "      <td>1.0</td>\n",
       "      <td>1.0</td>\n",
       "      <td>0</td>\n",
       "      <td>NaN</td>\n",
       "      <td>0</td>\n",
       "      <td>Data Operations Analyst</td>\n",
       "      <td>McKinsey &amp; Company</td>\n",
       "      <td>0</td>\n",
       "      <td>1</td>\n",
       "    </tr>\n",
       "  </tbody>\n",
       "</table>\n",
       "</div>"
      ],
      "text/plain": [
       "                     id  Python  over_90k has_phd  years has_startup  \\\n",
       "0   jl_f43cd8061406b3d7     1.0       1.0       0    NaN           0   \n",
       "1   jl_b59a64d3298e7fe8     1.0       1.0       0    NaN           0   \n",
       "2   jl_fbadb59b5f73dc18     1.0       1.0       0    0.0           0   \n",
       "3   jl_90603c7f1f0af480     1.0       1.0       0    0.0           0   \n",
       "4   jl_70351b5092814475     1.0       1.0       1    NaN           0   \n",
       "5   jl_05de118416baeef8     1.0       NaN       0    NaN           0   \n",
       "6   jl_50022587c7a4a8d9     1.0       1.0       0    0.0           0   \n",
       "7   jl_44da2bd2b0b7e145     1.0       1.0       1    0.0           0   \n",
       "8   jl_f5945f64ec7013e3     1.0       1.0       0    0.0           0   \n",
       "9   jl_6c9d0349b46d0aae     1.0       1.0       1    3.0           0   \n",
       "10  jl_32062be6a68c7531     1.0       1.0       1    4.0           0   \n",
       "12  jl_e632343c455d80f9     1.0       0.0       0    0.0           0   \n",
       "14  jl_4fbc1d778df8203e     1.0       1.0       0    2.0           0   \n",
       "16  jl_2370348e80d8c420     1.0       1.0       0    3.0           0   \n",
       "17  jl_85c4e91c561780aa     1.0       0.0       0    1.0           0   \n",
       "19  jl_ada8a7b4477d3923     1.0       1.0       1    3.0           0   \n",
       "20  jl_25732595a7113f45     1.0       1.0       0    2.0           0   \n",
       "21  jl_b3462acabd0f43c3     1.0       0.0       1    NaN           0   \n",
       "22  jl_45aa9a89795b5d2b     1.0       1.0       1    0.0           0   \n",
       "23  jl_2d63f589c7b4584b     1.0       1.0       1    2.0           0   \n",
       "24  jl_b8658ac1d1483ab5     1.0       1.0       0    0.0           0   \n",
       "26  jl_40aa8253449c2054     1.0       0.0       0    2.0           1   \n",
       "28  jl_9d3c55e683467e2c     1.0       0.0       0    NaN           0   \n",
       "29  jl_b5b7c26924376b59     1.0       1.0       0    0.0           0   \n",
       "30  jl_69101ac67eec9ea2     1.0       NaN       0    0.0           0   \n",
       "31  jl_7ccd144baa4275ab     1.0       NaN       0    NaN           0   \n",
       "32  jl_ba19b2e0984e8e1f     1.0       1.0       1    3.0           1   \n",
       "33  jl_5f30454eae8a42bd     1.0       1.0       1    3.0           0   \n",
       "35  jl_ba29f67e688108c5     1.0       1.0       0    2.0           0   \n",
       "36  jl_ffb7f83fa7858f6a     1.0       1.0       1    NaN           0   \n",
       "38  jl_62f334a900a46076     1.0       1.0       0    2.0           0   \n",
       "39  jl_4ec3c1a1ffc6ff64     1.0       1.0       0    4.0           0   \n",
       "40  jl_445f9f72145ccbcc     1.0       0.0       1    0.0           0   \n",
       "42  jl_8d188c08bf77e2fc     1.0       1.0       1    4.0           0   \n",
       "43  jl_dfef34cc5989dfbe     1.0       1.0       1    4.0           0   \n",
       "44  jl_a638c3a55a1cfe96     1.0       1.0       1    1.0           0   \n",
       "45  jl_c28f0284f9a5d601     1.0       1.0       1    NaN           0   \n",
       "46  jl_d433fe393f99e1f8     1.0       NaN       1    0.0           0   \n",
       "48  jl_021a7edb5cf4793f     1.0       1.0       1    NaN           0   \n",
       "49  jl_0ea00cbc973dc761     1.0       NaN       1    NaN           0   \n",
       "50  jl_e80b58b3976b3590     1.0       1.0       0    2.0           0   \n",
       "51  jl_b856f9a5bc9b6cef     1.0       1.0       1    0.0           1   \n",
       "52  jl_8dcb69dd20ec366f     1.0       1.0       1    1.0           0   \n",
       "53  jl_d2b92fbd9fccfbff     1.0       NaN       0    0.0           0   \n",
       "54  jl_00e49ce025b8313b     1.0       1.0       1    NaN           0   \n",
       "55  jl_acce68fa735f50b1     1.0       0.0       0    NaN           0   \n",
       "56  jl_d1a877c30ca7a5e6     1.0       1.0       0    0.0           0   \n",
       "57  jl_01a41531e800513c     1.0       1.0       1    2.0           0   \n",
       "58  jl_3d766c8404b3e286     1.0       1.0       0    0.0           0   \n",
       "59  jl_5a95e9f625751e1e     1.0       1.0       0    NaN           0   \n",
       "\n",
       "                                                title  \\\n",
       "0               Director of Data Science and Analysis   \n",
       "1                                                 NaN   \n",
       "2                                                 NaN   \n",
       "3                         Analytics Engineer (Boston)   \n",
       "4                                                 NaN   \n",
       "5                                                 NaN   \n",
       "6   Data Scientist Intern: Pricing & Profitability...   \n",
       "7                          Machine Learning Scientist   \n",
       "8                                      Data Scientist   \n",
       "9                               Data Insights Analyst   \n",
       "10                     Clinical Data Scientist (8570)   \n",
       "12           Scientist, Cancer Genomics – Informatics   \n",
       "14                                     Data Scientist   \n",
       "16                                     Data Scientist   \n",
       "17              Data Scientist - Waltham, MA location   \n",
       "19                                                NaN   \n",
       "20                          Biomedical Data Scientist   \n",
       "21                           Bioinformatics Scientist   \n",
       "22                              Senior Data Scientist   \n",
       "23                                     Data Scientist   \n",
       "24                                     Data Scientist   \n",
       "26                  Part Time Data Science Instructor   \n",
       "28  Bioinformatics Analyst I - Molecular Biology Core   \n",
       "29                                                NaN   \n",
       "30                                  Software Engineer   \n",
       "31                                                NaN   \n",
       "32                           Bioinformatics Scientist   \n",
       "33           PhD Research Scientist- Machine Learning   \n",
       "35                                                NaN   \n",
       "36                         Data Scientist, Algorithms   \n",
       "38      Scientist, Research and Modeling - Cyber Risk   \n",
       "39                                     Data Scientist   \n",
       "40    Innovation Fellow, Clinical Data Science Center   \n",
       "42    Senior Data Scientist – Computational Biologist   \n",
       "43                              Senior Data Scientist   \n",
       "44                               Staff Data Scientist   \n",
       "45                 Principal Data Scientist - 37854BR   \n",
       "46                             Applied Scientist II -   \n",
       "48                                                NaN   \n",
       "49                      Cognitive / AI Data Scientist   \n",
       "50                                     Data Scientist   \n",
       "51                                                NaN   \n",
       "52                                     Data Scientist   \n",
       "53                                                NaN   \n",
       "54                                                NaN   \n",
       "55                    Junior Front-End Data Scientist   \n",
       "56                                                NaN   \n",
       "57                                     Data Scientist   \n",
       "58                              Senior Data Scientist   \n",
       "59                            Data Operations Analyst   \n",
       "\n",
       "                                 company  scientist_title  analyst_title  \n",
       "0                   Fidelity Investments                0              0  \n",
       "1                                    NaN                0              0  \n",
       "2                                    NaN                0              0  \n",
       "3                           QuantumBlack                0              0  \n",
       "4                                    NaN                0              0  \n",
       "5                                    NaN                0              0  \n",
       "6                                Wayfair                1              0  \n",
       "7                   Amazon Corporate LLC                1              0  \n",
       "8                                    MIT                1              0  \n",
       "9                          Planet Pharma                0              1  \n",
       "10                              BioPoint                1              0  \n",
       "12             Foundation Medicine, Inc.                1              0  \n",
       "14                                Rapid7                1              0  \n",
       "16         Strategic Employment Partners                1              0  \n",
       "17                               Amadeus                1              0  \n",
       "19                                   NaN                0              0  \n",
       "20                   Booz Allen Hamilton                1              0  \n",
       "21                    Harvard University                1              0  \n",
       "22                               Verizon                1              0  \n",
       "23                               Wayfair                1              0  \n",
       "24                    Jobspring Partners                1              0  \n",
       "26                      General Assembly                0              0  \n",
       "28          Dana-Farber Cancer Institute                0              1  \n",
       "29                                   NaN                0              0  \n",
       "30                  Schireson Associates                0              0  \n",
       "31                                   NaN                0              0  \n",
       "32             Foundation Medicine, Inc.                1              0  \n",
       "33                         Rakuten, Inc.                1              0  \n",
       "35                                   NaN                0              0  \n",
       "36                               Wayfair                1              0  \n",
       "38                         AIR Worldwide                1              0  \n",
       "39                                Oracle                1              0  \n",
       "40              Partners HealthCare(PHS)                0              0  \n",
       "42                              Tessella                1              0  \n",
       "43                                Rapid7                1              0  \n",
       "44                  GE Global Operations                1              0  \n",
       "45                                 Aetna                1              0  \n",
       "46                  Amazon Corporate LLC                1              0  \n",
       "48                                   NaN                0              0  \n",
       "49                          QuintilesIMS                1              0  \n",
       "50                      Aspen Technology                1              0  \n",
       "51                                   NaN                0              0  \n",
       "52                                Akamai                1              0  \n",
       "53                                   NaN                0              0  \n",
       "54                                   NaN                0              0  \n",
       "55           Mathematica Policy Research                1              0  \n",
       "56                                   NaN                0              0  \n",
       "57              Partners HealthCare(PHS)                1              0  \n",
       "58  National Fire Protection Association                1              0  \n",
       "59                    McKinsey & Company                0              1  "
      ]
     },
     "execution_count": 212,
     "metadata": {},
     "output_type": "execute_result"
    }
   ],
   "source": [
    "jobs.head(50)"
   ]
  },
  {
   "cell_type": "code",
   "execution_count": 215,
   "metadata": {
    "collapsed": false
   },
   "outputs": [
    {
     "data": {
      "text/plain": [
       "1.0    305\n",
       "Name: Python, dtype: int64"
      ]
     },
     "execution_count": 215,
     "metadata": {},
     "output_type": "execute_result"
    }
   ],
   "source": [
    "jobs['Python'].value_counts()"
   ]
  },
  {
   "cell_type": "code",
   "execution_count": 216,
   "metadata": {
    "collapsed": true
   },
   "outputs": [],
   "source": [
    "jobs['Python'].fillna('0', inplace = True)"
   ]
  },
  {
   "cell_type": "code",
   "execution_count": 217,
   "metadata": {
    "collapsed": false
   },
   "outputs": [
    {
     "data": {
      "text/plain": [
       "0      1667\n",
       "1.0     305\n",
       "Name: Python, dtype: int64"
      ]
     },
     "execution_count": 217,
     "metadata": {},
     "output_type": "execute_result"
    }
   ],
   "source": [
    "jobs['Python'].value_counts()"
   ]
  },
  {
   "cell_type": "code",
   "execution_count": 225,
   "metadata": {
    "collapsed": false
   },
   "outputs": [],
   "source": [
    "jobs = jobs.dropna(subset = ['title'])"
   ]
  },
  {
   "cell_type": "code",
   "execution_count": 231,
   "metadata": {
    "collapsed": false
   },
   "outputs": [
    {
     "data": {
      "text/plain": [
       "(802, 10)"
      ]
     },
     "execution_count": 231,
     "metadata": {},
     "output_type": "execute_result"
    }
   ],
   "source": [
    "jobs.shape"
   ]
  },
  {
   "cell_type": "code",
   "execution_count": 230,
   "metadata": {
    "collapsed": false
   },
   "outputs": [],
   "source": [
    "jobs.to_csv('/Users/teresaborcuch/Desktop/jobs_df.csv', encoding = \"utf8\")"
   ]
  },
  {
   "cell_type": "code",
   "execution_count": null,
   "metadata": {
    "collapsed": true
   },
   "outputs": [],
   "source": []
  }
 ],
 "metadata": {
  "anaconda-cloud": {},
  "kernelspec": {
   "display_name": "Python [default]",
   "language": "python",
   "name": "python2"
  },
  "language_info": {
   "codemirror_mode": {
    "name": "ipython",
    "version": 2
   },
   "file_extension": ".py",
   "mimetype": "text/x-python",
   "name": "python",
   "nbconvert_exporter": "python",
   "pygments_lexer": "ipython2",
   "version": "2.7.12"
  }
 },
 "nbformat": 4,
 "nbformat_minor": 1
}
