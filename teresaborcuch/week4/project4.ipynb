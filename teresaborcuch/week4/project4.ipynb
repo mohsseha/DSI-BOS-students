{
 "cells": [
  {
   "cell_type": "code",
   "execution_count": 130,
   "metadata": {
    "collapsed": false
   },
   "outputs": [],
   "source": [
    "import pandas as pd\n",
    "import numpy as np\n",
    "import patsy\n",
    "import matplotlib.pyplot as plt\n",
    "from sklearn import linear_model\n",
    "from sklearn import cross_validation\n",
    "from sklearn import metrics\n",
    "from sklearn.grid_search import GridSearchCV"
   ]
  },
  {
   "cell_type": "code",
   "execution_count": 2,
   "metadata": {
    "collapsed": true
   },
   "outputs": [],
   "source": [
    "# import dataset\n",
    "jobs = pd.read_csv('/Users/teresaborcuch/jobs_df.csv')"
   ]
  },
  {
   "cell_type": "code",
   "execution_count": 3,
   "metadata": {
    "collapsed": false
   },
   "outputs": [],
   "source": [
    "del jobs['Unnamed: 0']"
   ]
  },
  {
   "cell_type": "code",
   "execution_count": 4,
   "metadata": {
    "collapsed": false
   },
   "outputs": [
    {
     "data": {
      "text/html": [
       "<div>\n",
       "<table border=\"1\" class=\"dataframe\">\n",
       "  <thead>\n",
       "    <tr style=\"text-align: right;\">\n",
       "      <th></th>\n",
       "      <th>id</th>\n",
       "      <th>Python</th>\n",
       "      <th>over_90k</th>\n",
       "      <th>has_phd</th>\n",
       "      <th>years</th>\n",
       "      <th>has_startup</th>\n",
       "      <th>title</th>\n",
       "      <th>company</th>\n",
       "      <th>scientist_title</th>\n",
       "      <th>analyst_title</th>\n",
       "    </tr>\n",
       "  </thead>\n",
       "  <tbody>\n",
       "    <tr>\n",
       "      <th>0</th>\n",
       "      <td>jl_f43cd8061406b3d7</td>\n",
       "      <td>1.0</td>\n",
       "      <td>1.0</td>\n",
       "      <td>0.0</td>\n",
       "      <td>NaN</td>\n",
       "      <td>0.0</td>\n",
       "      <td>Director of Data Science and Analysis</td>\n",
       "      <td>Fidelity Investments</td>\n",
       "      <td>0</td>\n",
       "      <td>0</td>\n",
       "    </tr>\n",
       "    <tr>\n",
       "      <th>1</th>\n",
       "      <td>jl_90603c7f1f0af480</td>\n",
       "      <td>1.0</td>\n",
       "      <td>1.0</td>\n",
       "      <td>0.0</td>\n",
       "      <td>0.0</td>\n",
       "      <td>0.0</td>\n",
       "      <td>Analytics Engineer (Boston)</td>\n",
       "      <td>QuantumBlack</td>\n",
       "      <td>0</td>\n",
       "      <td>0</td>\n",
       "    </tr>\n",
       "    <tr>\n",
       "      <th>2</th>\n",
       "      <td>jl_50022587c7a4a8d9</td>\n",
       "      <td>1.0</td>\n",
       "      <td>1.0</td>\n",
       "      <td>0.0</td>\n",
       "      <td>0.0</td>\n",
       "      <td>0.0</td>\n",
       "      <td>Data Scientist Intern: Pricing &amp; Profitability...</td>\n",
       "      <td>Wayfair</td>\n",
       "      <td>1</td>\n",
       "      <td>0</td>\n",
       "    </tr>\n",
       "    <tr>\n",
       "      <th>3</th>\n",
       "      <td>jl_44da2bd2b0b7e145</td>\n",
       "      <td>1.0</td>\n",
       "      <td>1.0</td>\n",
       "      <td>1.0</td>\n",
       "      <td>0.0</td>\n",
       "      <td>0.0</td>\n",
       "      <td>Machine Learning Scientist</td>\n",
       "      <td>Amazon Corporate LLC</td>\n",
       "      <td>1</td>\n",
       "      <td>0</td>\n",
       "    </tr>\n",
       "    <tr>\n",
       "      <th>4</th>\n",
       "      <td>jl_f5945f64ec7013e3</td>\n",
       "      <td>1.0</td>\n",
       "      <td>1.0</td>\n",
       "      <td>0.0</td>\n",
       "      <td>0.0</td>\n",
       "      <td>0.0</td>\n",
       "      <td>Data Scientist</td>\n",
       "      <td>MIT</td>\n",
       "      <td>1</td>\n",
       "      <td>0</td>\n",
       "    </tr>\n",
       "  </tbody>\n",
       "</table>\n",
       "</div>"
      ],
      "text/plain": [
       "                    id  Python  over_90k  has_phd  years  has_startup  \\\n",
       "0  jl_f43cd8061406b3d7     1.0       1.0      0.0    NaN          0.0   \n",
       "1  jl_90603c7f1f0af480     1.0       1.0      0.0    0.0          0.0   \n",
       "2  jl_50022587c7a4a8d9     1.0       1.0      0.0    0.0          0.0   \n",
       "3  jl_44da2bd2b0b7e145     1.0       1.0      1.0    0.0          0.0   \n",
       "4  jl_f5945f64ec7013e3     1.0       1.0      0.0    0.0          0.0   \n",
       "\n",
       "                                               title               company  \\\n",
       "0              Director of Data Science and Analysis  Fidelity Investments   \n",
       "1                        Analytics Engineer (Boston)          QuantumBlack   \n",
       "2  Data Scientist Intern: Pricing & Profitability...               Wayfair   \n",
       "3                         Machine Learning Scientist  Amazon Corporate LLC   \n",
       "4                                     Data Scientist                   MIT   \n",
       "\n",
       "   scientist_title  analyst_title  \n",
       "0                0              0  \n",
       "1                0              0  \n",
       "2                1              0  \n",
       "3                1              0  \n",
       "4                1              0  "
      ]
     },
     "execution_count": 4,
     "metadata": {},
     "output_type": "execute_result"
    }
   ],
   "source": [
    "jobs.head()"
   ]
  },
  {
   "cell_type": "code",
   "execution_count": 5,
   "metadata": {
    "collapsed": false
   },
   "outputs": [],
   "source": [
    "jobs.dropna(subset = ['over_90k'], inplace = True)\n",
    "jobs['years'].fillna(0, inplace = True)\n",
    "jobs['years'] = jobs['years'].astype('int')\n",
    "jobs['Python'] = jobs['Python'].astype('category')\n",
    "jobs['has_phd'] = jobs['has_phd'].astype('category')\n",
    "jobs['has_startup'] = jobs['has_startup'].astype('category')\n",
    "jobs['scientist_title'] = jobs['scientist_title'].astype('category')\n",
    "jobs['analyst_title'] = jobs['analyst_title'].astype('category')\n",
    "jobs['over_90k'] = jobs['over_90k'].astype('category')"
   ]
  },
  {
   "cell_type": "code",
   "execution_count": 6,
   "metadata": {
    "collapsed": false
   },
   "outputs": [
    {
     "data": {
      "text/plain": [
       "627"
      ]
     },
     "execution_count": 6,
     "metadata": {},
     "output_type": "execute_result"
    }
   ],
   "source": [
    "len(jobs['id'].unique())"
   ]
  },
  {
   "cell_type": "code",
   "execution_count": 7,
   "metadata": {
    "collapsed": false
   },
   "outputs": [
    {
     "data": {
      "text/plain": [
       "(627, 10)"
      ]
     },
     "execution_count": 7,
     "metadata": {},
     "output_type": "execute_result"
    }
   ],
   "source": [
    "# Now we have 627 jobs ready to go \n",
    "jobs.shape"
   ]
  },
  {
   "cell_type": "code",
   "execution_count": 8,
   "metadata": {
    "collapsed": false
   },
   "outputs": [
    {
     "data": {
      "text/plain": [
       "id                   object\n",
       "Python             category\n",
       "over_90k           category\n",
       "has_phd            category\n",
       "years                 int64\n",
       "has_startup        category\n",
       "title                object\n",
       "company              object\n",
       "scientist_title    category\n",
       "analyst_title      category\n",
       "dtype: object"
      ]
     },
     "execution_count": 8,
     "metadata": {},
     "output_type": "execute_result"
    }
   ],
   "source": [
    "jobs.dtypes"
   ]
  },
  {
   "cell_type": "code",
   "execution_count": 272,
   "metadata": {
    "collapsed": false
   },
   "outputs": [
    {
     "data": {
      "text/plain": [
       "<pandas.core.groupby.SeriesGroupBy object at 0x123314c90>"
      ]
     },
     "execution_count": 272,
     "metadata": {},
     "output_type": "execute_result"
    }
   ],
   "source": []
  },
  {
   "cell_type": "code",
   "execution_count": 237,
   "metadata": {
    "collapsed": false
   },
   "outputs": [
    {
     "data": {
      "image/png": "[encoded data removed]",
      "text/plain": [
       "<matplotlib.figure.Figure at 0x11c9eed90>"
      ]
     },
     "metadata": {},
     "output_type": "display_data"
    }
   ],
   "source": [
    "plt.bar([1,2],jobs['Python'].value_counts(), align = 'center')\n",
    "plt.xticks([1,2], ['no Python','Python'])\n",
    "plt.ylabel('Number of jobs')\n",
    "plt.show()"
   ]
  },
  {
   "cell_type": "code",
   "execution_count": 175,
   "metadata": {
    "collapsed": true
   },
   "outputs": [],
   "source": [
    "jobs.to_csv('/Users/teresaborcuch/Desktop/jobs.csv')"
   ]
  },
  {
   "cell_type": "markdown",
   "metadata": {},
   "source": [
    "I'll build a logistic regression model that considers particular terms in a job's title and description and uses these to predict whether the job pays over 90k or not. This analysis will identify which factors are the best predictors of high salary, construct and optimize a model using cross-validation, and evaluate its performance on a novel test subset of data."
   ]
  },
  {
   "cell_type": "code",
   "execution_count": 137,
   "metadata": {
    "collapsed": true
   },
   "outputs": [],
   "source": [
    "# Create matrices of predictors and targets\n",
    "X = jobs[['Python','has_phd','years','has_startup','scientist_title','analyst_title']]\n",
    "y = jobs.over_90k"
   ]
  },
  {
   "cell_type": "code",
   "execution_count": 138,
   "metadata": {
    "collapsed": false
   },
   "outputs": [],
   "source": [
    "# make dummies for year\n",
    "cat_X = patsy.dmatrix('~C(years) + C(Python) + C(has_phd) + C(has_startup) + C(scientist_title) + C(analyst_title)', jobs)"
   ]
  },
  {
   "cell_type": "code",
   "execution_count": 139,
   "metadata": {
    "collapsed": false
   },
   "outputs": [
    {
     "data": {
      "text/plain": [
       "(627, 6)"
      ]
     },
     "execution_count": 139,
     "metadata": {},
     "output_type": "execute_result"
    }
   ],
   "source": [
    "X.shape"
   ]
  },
  {
   "cell_type": "code",
   "execution_count": 140,
   "metadata": {
    "collapsed": false
   },
   "outputs": [
    {
     "name": "stdout",
     "output_type": "stream",
     "text": [
      "Fitting 5 folds for each of 24 candidates, totalling 120 fits\n"
     ]
    },
    {
     "name": "stderr",
     "output_type": "stream",
     "text": [
      "[Parallel(n_jobs=1)]: Done  49 tasks       | elapsed:    0.2s\n",
      "[Parallel(n_jobs=1)]: Done 120 out of 120 | elapsed:    0.5s finished\n"
     ]
    },
    {
     "data": {
      "text/plain": [
       "GridSearchCV(cv=5, error_score='raise',\n",
       "       estimator=LogisticRegression(C=1.0, class_weight=None, dual=False, fit_intercept=True,\n",
       "          intercept_scaling=1, max_iter=100, multi_class='ovr', n_jobs=1,\n",
       "          penalty='l2', random_state=None, solver='liblinear', tol=0.0001,\n",
       "          verbose=0, warm_start=False),\n",
       "       fit_params={}, iid=True, n_jobs=1,\n",
       "       param_grid={'penalty': ['l1', 'l2'], 'C': [0.0001, 0.001, 0.01, 0.1, 0.5, 0.75, 1.0, 2.5, 5.0, 10.0, 100.0, 1000.0]},\n",
       "       pre_dispatch='2*n_jobs', refit=True, scoring='f1_macro',\n",
       "       verbose=True)"
      ]
     },
     "execution_count": 140,
     "metadata": {},
     "output_type": "execute_result"
    }
   ],
   "source": [
    "# use gridsearch to find best value of C and regularization type to optimize model\n",
    "logreg = linear_model.LogisticRegression()\n",
    "C_vals = [0.0001, 0.001, 0.01, 0.1, 0.5, 0.75, 1.0, 2.5, 5.0, 10.0, 100.0, 1000.0]\n",
    "penalties = ['l1','l2']\n",
    "\n",
    "gs = GridSearchCV(logreg, {'penalty':penalties, 'C':C_vals}, verbose = True, cv = 5, scoring = 'f1_macro')\n",
    "gs.fit(cat_X, y)"
   ]
  },
  {
   "cell_type": "code",
   "execution_count": 141,
   "metadata": {
    "collapsed": false
   },
   "outputs": [
    {
     "data": {
      "text/plain": [
       "{'C': 2.5, 'penalty': 'l2'}"
      ]
     },
     "execution_count": 141,
     "metadata": {},
     "output_type": "execute_result"
    }
   ],
   "source": [
    "gs.best_params_"
   ]
  },
  {
   "cell_type": "markdown",
   "metadata": {},
   "source": [
    "The best model has C = 100.0 and uses L1 regularization penalty."
   ]
  },
  {
   "cell_type": "code",
   "execution_count": 144,
   "metadata": {
    "collapsed": false
   },
   "outputs": [
    {
     "data": {
      "text/plain": [
       "LogisticRegression(C=2.5, class_weight=None, dual=False, fit_intercept=True,\n",
       "          intercept_scaling=1, max_iter=100, multi_class='ovr', n_jobs=1,\n",
       "          penalty='l2', random_state=None, solver='liblinear', tol=0.0001,\n",
       "          verbose=0, warm_start=False)"
      ]
     },
     "execution_count": 144,
     "metadata": {},
     "output_type": "execute_result"
    }
   ],
   "source": [
    "# Fit a model with these hyperparameters\n",
    "gs_logreg = linear_model.LogisticRegression(C = 2.5, penalty = 'l2', solver = 'liblinear')\n",
    "gs_logreg.fit(cat_X,y)"
   ]
  },
  {
   "cell_type": "code",
   "execution_count": 145,
   "metadata": {
    "collapsed": false
   },
   "outputs": [],
   "source": [
    "predictions = gs_logreg.predict(cat_X)"
   ]
  },
  {
   "cell_type": "code",
   "execution_count": 146,
   "metadata": {
    "collapsed": false
   },
   "outputs": [
    {
     "name": "stdout",
     "output_type": "stream",
     "text": [
      "     0.0  1.0\n",
      "0.0  219   92\n",
      "1.0  106  210\n"
     ]
    }
   ],
   "source": [
    "# Make confusion matrix\n",
    "conmat= metrics.confusion_matrix(y, predictions, labels=gs_logreg.classes_)\n",
    "conmat= pd.DataFrame(conmat, columns=gs_logreg.classes_, index=gs_logreg.classes_)\n",
    "print conmat"
   ]
  },
  {
   "cell_type": "code",
   "execution_count": 147,
   "metadata": {
    "collapsed": false
   },
   "outputs": [
    {
     "name": "stdout",
     "output_type": "stream",
     "text": [
      "             precision    recall  f1-score   support\n",
      "\n",
      "        0.0       0.67      0.70      0.69       311\n",
      "        1.0       0.70      0.66      0.68       316\n",
      "\n",
      "avg / total       0.68      0.68      0.68       627\n",
      "\n"
     ]
    }
   ],
   "source": [
    "# Evaluate model\n",
    "print metrics.classification_report(y, predictions)"
   ]
  },
  {
   "cell_type": "code",
   "execution_count": 156,
   "metadata": {
    "collapsed": false
   },
   "outputs": [
    {
     "data": {
      "text/plain": [
       "array([-0.24498281, -0.71210111,  0.00377296,  0.46087413,  0.95138665,\n",
       "        1.32299233,  0.77710802,  1.37981723, -0.17454109, -0.79785135])"
      ]
     },
     "execution_count": 156,
     "metadata": {},
     "output_type": "execute_result"
    }
   ],
   "source": [
    "gs_logreg.coef_[0]"
   ]
  },
  {
   "cell_type": "code",
   "execution_count": 157,
   "metadata": {
    "collapsed": false
   },
   "outputs": [
    {
     "data": {
      "text/plain": [
       "DesignMatrix with shape (627, 10)\n",
       "  Columns:\n",
       "    ['Intercept',\n",
       "     'C(years)[T.1]',\n",
       "     'C(years)[T.2]',\n",
       "     'C(years)[T.3]',\n",
       "     'C(years)[T.4]',\n",
       "     'C(Python)[T.1.0]',\n",
       "     'C(has_phd)[T.1.0]',\n",
       "     'C(has_startup)[T.1.0]',\n",
       "     'C(scientist_title)[T.1]',\n",
       "     'C(analyst_title)[T.1]']\n",
       "  Terms:\n",
       "    'Intercept' (column 0)\n",
       "    'C(years)' (columns 1:5)\n",
       "    'C(Python)' (column 5)\n",
       "    'C(has_phd)' (column 6)\n",
       "    'C(has_startup)' (column 7)\n",
       "    'C(scientist_title)' (column 8)\n",
       "    'C(analyst_title)' (column 9)\n",
       "  (to view full data, use np.asarray(this_obj))"
      ]
     },
     "execution_count": 157,
     "metadata": {},
     "output_type": "execute_result"
    }
   ],
   "source": [
    "cat_X"
   ]
  },
  {
   "cell_type": "code",
   "execution_count": 159,
   "metadata": {
    "collapsed": false
   },
   "outputs": [
    {
     "data": {
      "text/html": [
       "<div>\n",
       "<table border=\"1\" class=\"dataframe\">\n",
       "  <thead>\n",
       "    <tr style=\"text-align: right;\">\n",
       "      <th></th>\n",
       "      <th>variable</th>\n",
       "      <th>coefficient</th>\n",
       "    </tr>\n",
       "  </thead>\n",
       "  <tbody>\n",
       "    <tr>\n",
       "      <th>7</th>\n",
       "      <td>C(has_startup)[T.1.0]</td>\n",
       "      <td>1.379817</td>\n",
       "    </tr>\n",
       "    <tr>\n",
       "      <th>5</th>\n",
       "      <td>C(Python)[T.1.0]</td>\n",
       "      <td>1.322992</td>\n",
       "    </tr>\n",
       "    <tr>\n",
       "      <th>4</th>\n",
       "      <td>C(years)[T.4]</td>\n",
       "      <td>0.951387</td>\n",
       "    </tr>\n",
       "    <tr>\n",
       "      <th>6</th>\n",
       "      <td>C(has_phd)[T.1.0]</td>\n",
       "      <td>0.777108</td>\n",
       "    </tr>\n",
       "    <tr>\n",
       "      <th>3</th>\n",
       "      <td>C(years)[T.3]</td>\n",
       "      <td>0.460874</td>\n",
       "    </tr>\n",
       "    <tr>\n",
       "      <th>2</th>\n",
       "      <td>C(years)[T.2]</td>\n",
       "      <td>0.003773</td>\n",
       "    </tr>\n",
       "    <tr>\n",
       "      <th>8</th>\n",
       "      <td>C(scientist_title)[T.1]</td>\n",
       "      <td>-0.174541</td>\n",
       "    </tr>\n",
       "    <tr>\n",
       "      <th>0</th>\n",
       "      <td>Intercept</td>\n",
       "      <td>-0.244983</td>\n",
       "    </tr>\n",
       "    <tr>\n",
       "      <th>1</th>\n",
       "      <td>C(years)[T.1]</td>\n",
       "      <td>-0.712101</td>\n",
       "    </tr>\n",
       "    <tr>\n",
       "      <th>9</th>\n",
       "      <td>C(analyst_title)[T.1]</td>\n",
       "      <td>-0.797851</td>\n",
       "    </tr>\n",
       "  </tbody>\n",
       "</table>\n",
       "</div>"
      ],
      "text/plain": [
       "                  variable  coefficient\n",
       "7    C(has_startup)[T.1.0]     1.379817\n",
       "5         C(Python)[T.1.0]     1.322992\n",
       "4            C(years)[T.4]     0.951387\n",
       "6        C(has_phd)[T.1.0]     0.777108\n",
       "3            C(years)[T.3]     0.460874\n",
       "2            C(years)[T.2]     0.003773\n",
       "8  C(scientist_title)[T.1]    -0.174541\n",
       "0                Intercept    -0.244983\n",
       "1            C(years)[T.1]    -0.712101\n",
       "9    C(analyst_title)[T.1]    -0.797851"
      ]
     },
     "execution_count": 159,
     "metadata": {},
     "output_type": "execute_result"
    }
   ],
   "source": [
    "# Get coefficients\n",
    "var = ['Intercept',\n",
    "     'C(years)[T.1]',\n",
    "     'C(years)[T.2]',\n",
    "     'C(years)[T.3]',\n",
    "     'C(years)[T.4]',\n",
    "     'C(Python)[T.1.0]',\n",
    "     'C(has_phd)[T.1.0]',\n",
    "     'C(has_startup)[T.1.0]',\n",
    "     'C(scientist_title)[T.1]',\n",
    "     'C(analyst_title)[T.1]']\n",
    "coef = gs_logreg.coef_[0]\n",
    "coefs = []\n",
    "for i in range(0,10):\n",
    "    coefs.append(coef[i])\n",
    "model_summary = pd.DataFrame(columns = ['variable','coefficient'])\n",
    "model_summary['variable'] = var\n",
    "model_summary['coefficient'] = coefs\n",
    "model_summary = model_summary.sort_values('coefficient', ascending = False)\n",
    "model_summary"
   ]
  },
  {
   "cell_type": "code",
   "execution_count": 81,
   "metadata": {
    "collapsed": true
   },
   "outputs": [],
   "source": [
    "# get the testjobs for testing data\n",
    "# these are all new jobs collected between 12/21 and 12/28 using same methodology\n",
    "testjobs = pd.read_csv('/Users/teresaborcuch/Desktop/testjobs.csv')"
   ]
  },
  {
   "cell_type": "code",
   "execution_count": 82,
   "metadata": {
    "collapsed": false
   },
   "outputs": [
    {
     "data": {
      "text/html": [
       "<div>\n",
       "<table border=\"1\" class=\"dataframe\">\n",
       "  <thead>\n",
       "    <tr style=\"text-align: right;\">\n",
       "      <th></th>\n",
       "      <th>Unnamed: 0</th>\n",
       "      <th>job_id</th>\n",
       "      <th>title</th>\n",
       "      <th>company</th>\n",
       "      <th>has_phd</th>\n",
       "      <th>has_python</th>\n",
       "      <th>over_90k</th>\n",
       "      <th>has_startup</th>\n",
       "      <th>years</th>\n",
       "      <th>scientist_title</th>\n",
       "      <th>analyst_title</th>\n",
       "    </tr>\n",
       "  </thead>\n",
       "  <tbody>\n",
       "    <tr>\n",
       "      <th>0</th>\n",
       "      <td>0</td>\n",
       "      <td>jl_ce0b88780585db5e</td>\n",
       "      <td>Quantitative Data Analyst Intern</td>\n",
       "      <td>NaN</td>\n",
       "      <td>0.0</td>\n",
       "      <td>1.0</td>\n",
       "      <td>0.0</td>\n",
       "      <td>1.0</td>\n",
       "      <td>0.0</td>\n",
       "      <td>0</td>\n",
       "      <td>1</td>\n",
       "    </tr>\n",
       "    <tr>\n",
       "      <th>1</th>\n",
       "      <td>1</td>\n",
       "      <td>jl_166b32fc833354f5</td>\n",
       "      <td>Research Coordinator - Friedman School of Nutr...</td>\n",
       "      <td>NaN</td>\n",
       "      <td>0.0</td>\n",
       "      <td>0.0</td>\n",
       "      <td>0.0</td>\n",
       "      <td>0.0</td>\n",
       "      <td>0.0</td>\n",
       "      <td>0</td>\n",
       "      <td>0</td>\n",
       "    </tr>\n",
       "    <tr>\n",
       "      <th>2</th>\n",
       "      <td>2</td>\n",
       "      <td>jl_df3319bfb55ad3cf</td>\n",
       "      <td>Principal Data Scientist (Boston)</td>\n",
       "      <td>NaN</td>\n",
       "      <td>1.0</td>\n",
       "      <td>1.0</td>\n",
       "      <td>1.0</td>\n",
       "      <td>0.0</td>\n",
       "      <td>0.0</td>\n",
       "      <td>1</td>\n",
       "      <td>0</td>\n",
       "    </tr>\n",
       "    <tr>\n",
       "      <th>3</th>\n",
       "      <td>3</td>\n",
       "      <td>jl_9a7d42c7e9942208</td>\n",
       "      <td>Data Scientist</td>\n",
       "      <td>NaN</td>\n",
       "      <td>0.0</td>\n",
       "      <td>1.0</td>\n",
       "      <td>1.0</td>\n",
       "      <td>1.0</td>\n",
       "      <td>0.0</td>\n",
       "      <td>1</td>\n",
       "      <td>0</td>\n",
       "    </tr>\n",
       "    <tr>\n",
       "      <th>4</th>\n",
       "      <td>4</td>\n",
       "      <td>jl_ee7e2f3d59a27997</td>\n",
       "      <td>Data Scientist II</td>\n",
       "      <td>NaN</td>\n",
       "      <td>0.0</td>\n",
       "      <td>0.0</td>\n",
       "      <td>0.0</td>\n",
       "      <td>0.0</td>\n",
       "      <td>0.0</td>\n",
       "      <td>1</td>\n",
       "      <td>0</td>\n",
       "    </tr>\n",
       "  </tbody>\n",
       "</table>\n",
       "</div>"
      ],
      "text/plain": [
       "   Unnamed: 0               job_id  \\\n",
       "0           0  jl_ce0b88780585db5e   \n",
       "1           1  jl_166b32fc833354f5   \n",
       "2           2  jl_df3319bfb55ad3cf   \n",
       "3           3  jl_9a7d42c7e9942208   \n",
       "4           4  jl_ee7e2f3d59a27997   \n",
       "\n",
       "                                               title  company  has_phd  \\\n",
       "0                   Quantitative Data Analyst Intern      NaN      0.0   \n",
       "1  Research Coordinator - Friedman School of Nutr...      NaN      0.0   \n",
       "2                  Principal Data Scientist (Boston)      NaN      1.0   \n",
       "3                                     Data Scientist      NaN      0.0   \n",
       "4                                  Data Scientist II      NaN      0.0   \n",
       "\n",
       "   has_python  over_90k  has_startup  years  scientist_title  analyst_title  \n",
       "0         1.0       0.0          1.0    0.0                0              1  \n",
       "1         0.0       0.0          0.0    0.0                0              0  \n",
       "2         1.0       1.0          0.0    0.0                1              0  \n",
       "3         1.0       1.0          1.0    0.0                1              0  \n",
       "4         0.0       0.0          0.0    0.0                1              0  "
      ]
     },
     "execution_count": 82,
     "metadata": {},
     "output_type": "execute_result"
    }
   ],
   "source": [
    "testjobs.head()"
   ]
  },
  {
   "cell_type": "code",
   "execution_count": 83,
   "metadata": {
    "collapsed": true
   },
   "outputs": [],
   "source": [
    "del testjobs['Unnamed: 0']"
   ]
  },
  {
   "cell_type": "code",
   "execution_count": 84,
   "metadata": {
    "collapsed": true
   },
   "outputs": [],
   "source": [
    "del testjobs['company']"
   ]
  },
  {
   "cell_type": "code",
   "execution_count": 85,
   "metadata": {
    "collapsed": false
   },
   "outputs": [
    {
     "data": {
      "text/plain": [
       "job_id              object\n",
       "title               object\n",
       "has_phd            float64\n",
       "has_python         float64\n",
       "over_90k           float64\n",
       "has_startup        float64\n",
       "years              float64\n",
       "scientist_title      int64\n",
       "analyst_title        int64\n",
       "dtype: object"
      ]
     },
     "execution_count": 85,
     "metadata": {},
     "output_type": "execute_result"
    }
   ],
   "source": [
    "testjobs.dtypes"
   ]
  },
  {
   "cell_type": "code",
   "execution_count": 86,
   "metadata": {
    "collapsed": true
   },
   "outputs": [],
   "source": [
    "testjobs.dropna(subset = ['over_90k'], inplace = True)\n",
    "testjobs['years'] = jobs['years'].astype('int')\n",
    "testjobs['Python'] = jobs['Python'].astype('category')\n",
    "testjobs['has_phd'] = jobs['has_phd'].astype('category')\n",
    "testjobs['has_startup'] = jobs['has_startup'].astype('category')\n",
    "testjobs['scientist_title'] = jobs['scientist_title'].astype('category')\n",
    "testjobs['analyst_title'] = jobs['analyst_title'].astype('category')\n",
    "testjobs['over_90k'] = jobs['over_90k'].astype('category')"
   ]
  },
  {
   "cell_type": "code",
   "execution_count": 87,
   "metadata": {
    "collapsed": false
   },
   "outputs": [],
   "source": [
    "testjobs = testjobs.drop_duplicates(subset = 'job_id')"
   ]
  },
  {
   "cell_type": "code",
   "execution_count": 88,
   "metadata": {
    "collapsed": false
   },
   "outputs": [],
   "source": [
    "testjobs = testjobs.dropna()"
   ]
  },
  {
   "cell_type": "code",
   "execution_count": 89,
   "metadata": {
    "collapsed": false
   },
   "outputs": [
    {
     "data": {
      "text/plain": [
       "(350, 10)"
      ]
     },
     "execution_count": 89,
     "metadata": {},
     "output_type": "execute_result"
    }
   ],
   "source": [
    "testjobs.shape"
   ]
  },
  {
   "cell_type": "code",
   "execution_count": 106,
   "metadata": {
    "collapsed": false
   },
   "outputs": [
    {
     "name": "stdout",
     "output_type": "stream",
     "text": [
      "job_id             jl_a3ee1268e985e69b\n",
      "title              Research Analyst II\n",
      "has_phd                              0\n",
      "has_python                           0\n",
      "over_90k                             1\n",
      "has_startup                          0\n",
      "years                                0\n",
      "scientist_title                      0\n",
      "analyst_title                        0\n",
      "Python                               1\n",
      "Name: 42, dtype: object\n",
      "42\n"
     ]
    }
   ],
   "source": [
    "# how many of these jobs are actually new?\n",
    "count = 0\n",
    "for i, row in testjobs.iterrows():\n",
    "    if row.iloc[0] in jobs['id'].values:\n",
    "        print row\n",
    "        print i"
   ]
  },
  {
   "cell_type": "code",
   "execution_count": 113,
   "metadata": {
    "collapsed": false
   },
   "outputs": [
    {
     "data": {
      "text/plain": [
       "job_id             jl_a3ee1268e985e69b\n",
       "title              Research Analyst II\n",
       "has_phd                              0\n",
       "has_python                           0\n",
       "over_90k                             1\n",
       "has_startup                          0\n",
       "years                                0\n",
       "scientist_title                      0\n",
       "analyst_title                        0\n",
       "Python                               1\n",
       "Name: 42, dtype: object"
      ]
     },
     "execution_count": 113,
     "metadata": {},
     "output_type": "execute_result"
    }
   ],
   "source": [
    "testjobs.loc[42]"
   ]
  },
  {
   "cell_type": "code",
   "execution_count": 114,
   "metadata": {
    "collapsed": false
   },
   "outputs": [
    {
     "data": {
      "text/html": [
       "<div>\n",
       "<table border=\"1\" class=\"dataframe\">\n",
       "  <thead>\n",
       "    <tr style=\"text-align: right;\">\n",
       "      <th></th>\n",
       "      <th>job_id</th>\n",
       "      <th>title</th>\n",
       "      <th>has_phd</th>\n",
       "      <th>has_python</th>\n",
       "      <th>over_90k</th>\n",
       "      <th>has_startup</th>\n",
       "      <th>years</th>\n",
       "      <th>scientist_title</th>\n",
       "      <th>analyst_title</th>\n",
       "      <th>Python</th>\n",
       "    </tr>\n",
       "  </thead>\n",
       "  <tbody>\n",
       "    <tr>\n",
       "      <th>0</th>\n",
       "      <td>jl_ce0b88780585db5e</td>\n",
       "      <td>Quantitative Data Analyst Intern</td>\n",
       "      <td>0.0</td>\n",
       "      <td>1.0</td>\n",
       "      <td>1.0</td>\n",
       "      <td>0.0</td>\n",
       "      <td>0.0</td>\n",
       "      <td>0</td>\n",
       "      <td>0</td>\n",
       "      <td>1.0</td>\n",
       "    </tr>\n",
       "    <tr>\n",
       "      <th>1</th>\n",
       "      <td>jl_166b32fc833354f5</td>\n",
       "      <td>Research Coordinator - Friedman School of Nutr...</td>\n",
       "      <td>0.0</td>\n",
       "      <td>0.0</td>\n",
       "      <td>1.0</td>\n",
       "      <td>0.0</td>\n",
       "      <td>0.0</td>\n",
       "      <td>0</td>\n",
       "      <td>0</td>\n",
       "      <td>1.0</td>\n",
       "    </tr>\n",
       "    <tr>\n",
       "      <th>2</th>\n",
       "      <td>jl_df3319bfb55ad3cf</td>\n",
       "      <td>Principal Data Scientist (Boston)</td>\n",
       "      <td>0.0</td>\n",
       "      <td>1.0</td>\n",
       "      <td>1.0</td>\n",
       "      <td>0.0</td>\n",
       "      <td>0.0</td>\n",
       "      <td>1</td>\n",
       "      <td>0</td>\n",
       "      <td>1.0</td>\n",
       "    </tr>\n",
       "    <tr>\n",
       "      <th>3</th>\n",
       "      <td>jl_9a7d42c7e9942208</td>\n",
       "      <td>Data Scientist</td>\n",
       "      <td>1.0</td>\n",
       "      <td>1.0</td>\n",
       "      <td>1.0</td>\n",
       "      <td>0.0</td>\n",
       "      <td>0.0</td>\n",
       "      <td>1</td>\n",
       "      <td>0</td>\n",
       "      <td>1.0</td>\n",
       "    </tr>\n",
       "    <tr>\n",
       "      <th>4</th>\n",
       "      <td>jl_ee7e2f3d59a27997</td>\n",
       "      <td>Data Scientist II</td>\n",
       "      <td>0.0</td>\n",
       "      <td>0.0</td>\n",
       "      <td>1.0</td>\n",
       "      <td>0.0</td>\n",
       "      <td>0.0</td>\n",
       "      <td>1</td>\n",
       "      <td>0</td>\n",
       "      <td>1.0</td>\n",
       "    </tr>\n",
       "    <tr>\n",
       "      <th>5</th>\n",
       "      <td>jl_1f1198f76898781f</td>\n",
       "      <td>Data Scientist</td>\n",
       "      <td>1.0</td>\n",
       "      <td>1.0</td>\n",
       "      <td>1.0</td>\n",
       "      <td>0.0</td>\n",
       "      <td>3.0</td>\n",
       "      <td>0</td>\n",
       "      <td>1</td>\n",
       "      <td>1.0</td>\n",
       "    </tr>\n",
       "    <tr>\n",
       "      <th>6</th>\n",
       "      <td>jl_04bc09cfa0aed47c</td>\n",
       "      <td>Quantitative Data Analyst</td>\n",
       "      <td>1.0</td>\n",
       "      <td>1.0</td>\n",
       "      <td>1.0</td>\n",
       "      <td>0.0</td>\n",
       "      <td>4.0</td>\n",
       "      <td>1</td>\n",
       "      <td>0</td>\n",
       "      <td>1.0</td>\n",
       "    </tr>\n",
       "    <tr>\n",
       "      <th>7</th>\n",
       "      <td>jl_91c7efe451686ad0</td>\n",
       "      <td>Research Data Assistant-institutional Effectiv...</td>\n",
       "      <td>0.0</td>\n",
       "      <td>0.0</td>\n",
       "      <td>0.0</td>\n",
       "      <td>0.0</td>\n",
       "      <td>0.0</td>\n",
       "      <td>1</td>\n",
       "      <td>0</td>\n",
       "      <td>1.0</td>\n",
       "    </tr>\n",
       "    <tr>\n",
       "      <th>8</th>\n",
       "      <td>jl_3692ec266c2e0789</td>\n",
       "      <td>Analytics &amp; Reporting Specialist</td>\n",
       "      <td>0.0</td>\n",
       "      <td>0.0</td>\n",
       "      <td>1.0</td>\n",
       "      <td>0.0</td>\n",
       "      <td>2.0</td>\n",
       "      <td>1</td>\n",
       "      <td>0</td>\n",
       "      <td>1.0</td>\n",
       "    </tr>\n",
       "    <tr>\n",
       "      <th>9</th>\n",
       "      <td>jl_dd84d4b5e0fc275c</td>\n",
       "      <td>Mid - Senior Data Engineer (Java)</td>\n",
       "      <td>0.0</td>\n",
       "      <td>0.0</td>\n",
       "      <td>1.0</td>\n",
       "      <td>0.0</td>\n",
       "      <td>3.0</td>\n",
       "      <td>1</td>\n",
       "      <td>0</td>\n",
       "      <td>1.0</td>\n",
       "    </tr>\n",
       "    <tr>\n",
       "      <th>10</th>\n",
       "      <td>jl_babd32218ae1f4da</td>\n",
       "      <td>Data Engineer (Boston)</td>\n",
       "      <td>0.0</td>\n",
       "      <td>1.0</td>\n",
       "      <td>0.0</td>\n",
       "      <td>0.0</td>\n",
       "      <td>1.0</td>\n",
       "      <td>1</td>\n",
       "      <td>0</td>\n",
       "      <td>1.0</td>\n",
       "    </tr>\n",
       "    <tr>\n",
       "      <th>11</th>\n",
       "      <td>jl_dbccaa10fa7e13f8</td>\n",
       "      <td>Electrophysiology Research Scientist (BS or MS)</td>\n",
       "      <td>0.0</td>\n",
       "      <td>0.0</td>\n",
       "      <td>1.0</td>\n",
       "      <td>0.0</td>\n",
       "      <td>2.0</td>\n",
       "      <td>1</td>\n",
       "      <td>0</td>\n",
       "      <td>1.0</td>\n",
       "    </tr>\n",
       "    <tr>\n",
       "      <th>12</th>\n",
       "      <td>jl_edb97d3e6e2abee8</td>\n",
       "      <td>Vice President Data Science</td>\n",
       "      <td>1.0</td>\n",
       "      <td>0.0</td>\n",
       "      <td>0.0</td>\n",
       "      <td>0.0</td>\n",
       "      <td>0.0</td>\n",
       "      <td>1</td>\n",
       "      <td>0</td>\n",
       "      <td>1.0</td>\n",
       "    </tr>\n",
       "    <tr>\n",
       "      <th>13</th>\n",
       "      <td>jl_1cc8ba4be9585c02</td>\n",
       "      <td>Watson Health - Research Analyst II - Truven</td>\n",
       "      <td>1.0</td>\n",
       "      <td>0.0</td>\n",
       "      <td>1.0</td>\n",
       "      <td>0.0</td>\n",
       "      <td>0.0</td>\n",
       "      <td>1</td>\n",
       "      <td>0</td>\n",
       "      <td>1.0</td>\n",
       "    </tr>\n",
       "    <tr>\n",
       "      <th>14</th>\n",
       "      <td>jl_8bb734a28e3c730f</td>\n",
       "      <td>Quantitative Data Analyst</td>\n",
       "      <td>1.0</td>\n",
       "      <td>1.0</td>\n",
       "      <td>1.0</td>\n",
       "      <td>0.0</td>\n",
       "      <td>2.0</td>\n",
       "      <td>1</td>\n",
       "      <td>0</td>\n",
       "      <td>1.0</td>\n",
       "    </tr>\n",
       "    <tr>\n",
       "      <th>15</th>\n",
       "      <td>jl_28073c31ba9820ad</td>\n",
       "      <td>Scientist, Research and Modeling (AIR)</td>\n",
       "      <td>0.0</td>\n",
       "      <td>1.0</td>\n",
       "      <td>1.0</td>\n",
       "      <td>0.0</td>\n",
       "      <td>0.0</td>\n",
       "      <td>1</td>\n",
       "      <td>0</td>\n",
       "      <td>1.0</td>\n",
       "    </tr>\n",
       "    <tr>\n",
       "      <th>16</th>\n",
       "      <td>jl_19723de11bdffbdc</td>\n",
       "      <td>2017 EFL Global Fellowship</td>\n",
       "      <td>0.0</td>\n",
       "      <td>0.0</td>\n",
       "      <td>0.0</td>\n",
       "      <td>1.0</td>\n",
       "      <td>2.0</td>\n",
       "      <td>0</td>\n",
       "      <td>0</td>\n",
       "      <td>1.0</td>\n",
       "    </tr>\n",
       "    <tr>\n",
       "      <th>17</th>\n",
       "      <td>jl_aea2292c8e84dd8a</td>\n",
       "      <td>Software Engineering Intern - Summer 2017</td>\n",
       "      <td>0.0</td>\n",
       "      <td>0.0</td>\n",
       "      <td>0.0</td>\n",
       "      <td>0.0</td>\n",
       "      <td>0.0</td>\n",
       "      <td>0</td>\n",
       "      <td>1</td>\n",
       "      <td>1.0</td>\n",
       "    </tr>\n",
       "    <tr>\n",
       "      <th>19</th>\n",
       "      <td>jl_4d70bb7cdd45a2e8</td>\n",
       "      <td>SAS Programmer</td>\n",
       "      <td>1.0</td>\n",
       "      <td>0.0</td>\n",
       "      <td>1.0</td>\n",
       "      <td>1.0</td>\n",
       "      <td>3.0</td>\n",
       "      <td>1</td>\n",
       "      <td>0</td>\n",
       "      <td>1.0</td>\n",
       "    </tr>\n",
       "    <tr>\n",
       "      <th>20</th>\n",
       "      <td>jl_d6cc03d085dbc65b</td>\n",
       "      <td>Business Intelligence Analyst</td>\n",
       "      <td>1.0</td>\n",
       "      <td>0.0</td>\n",
       "      <td>1.0</td>\n",
       "      <td>0.0</td>\n",
       "      <td>3.0</td>\n",
       "      <td>1</td>\n",
       "      <td>0</td>\n",
       "      <td>1.0</td>\n",
       "    </tr>\n",
       "    <tr>\n",
       "      <th>21</th>\n",
       "      <td>jl_0cfc14ae26947bc2</td>\n",
       "      <td>Scientist, Immuno-oncology Job</td>\n",
       "      <td>1.0</td>\n",
       "      <td>0.0</td>\n",
       "      <td>1.0</td>\n",
       "      <td>0.0</td>\n",
       "      <td>0.0</td>\n",
       "      <td>1</td>\n",
       "      <td>0</td>\n",
       "      <td>1.0</td>\n",
       "    </tr>\n",
       "    <tr>\n",
       "      <th>22</th>\n",
       "      <td>jl_8144ce4c3a352b1e</td>\n",
       "      <td>Software Engineering Intern</td>\n",
       "      <td>0.0</td>\n",
       "      <td>1.0</td>\n",
       "      <td>1.0</td>\n",
       "      <td>0.0</td>\n",
       "      <td>2.0</td>\n",
       "      <td>1</td>\n",
       "      <td>0</td>\n",
       "      <td>1.0</td>\n",
       "    </tr>\n",
       "    <tr>\n",
       "      <th>23</th>\n",
       "      <td>jl_66136e7e9ca1fe71</td>\n",
       "      <td>Data Scientist / Software Engineer</td>\n",
       "      <td>0.0</td>\n",
       "      <td>1.0</td>\n",
       "      <td>1.0</td>\n",
       "      <td>0.0</td>\n",
       "      <td>4.0</td>\n",
       "      <td>1</td>\n",
       "      <td>0</td>\n",
       "      <td>1.0</td>\n",
       "    </tr>\n",
       "    <tr>\n",
       "      <th>24</th>\n",
       "      <td>jl_476a4b339dd0072f</td>\n",
       "      <td>Research Data Manager I - Neurology</td>\n",
       "      <td>1.0</td>\n",
       "      <td>0.0</td>\n",
       "      <td>0.0</td>\n",
       "      <td>0.0</td>\n",
       "      <td>0.0</td>\n",
       "      <td>0</td>\n",
       "      <td>0</td>\n",
       "      <td>1.0</td>\n",
       "    </tr>\n",
       "    <tr>\n",
       "      <th>25</th>\n",
       "      <td>jl_f337ab0603142782</td>\n",
       "      <td>Senior Data Scientist</td>\n",
       "      <td>1.0</td>\n",
       "      <td>1.0</td>\n",
       "      <td>1.0</td>\n",
       "      <td>0.0</td>\n",
       "      <td>4.0</td>\n",
       "      <td>1</td>\n",
       "      <td>0</td>\n",
       "      <td>1.0</td>\n",
       "    </tr>\n",
       "    <tr>\n",
       "      <th>26</th>\n",
       "      <td>jl_5412ca93cf926717</td>\n",
       "      <td>Data Analyst</td>\n",
       "      <td>1.0</td>\n",
       "      <td>0.0</td>\n",
       "      <td>1.0</td>\n",
       "      <td>0.0</td>\n",
       "      <td>4.0</td>\n",
       "      <td>1</td>\n",
       "      <td>0</td>\n",
       "      <td>1.0</td>\n",
       "    </tr>\n",
       "    <tr>\n",
       "      <th>27</th>\n",
       "      <td>jl_bb7aa67e9c5a414a</td>\n",
       "      <td>Cyber Analytics Researcher</td>\n",
       "      <td>1.0</td>\n",
       "      <td>1.0</td>\n",
       "      <td>1.0</td>\n",
       "      <td>0.0</td>\n",
       "      <td>1.0</td>\n",
       "      <td>1</td>\n",
       "      <td>0</td>\n",
       "      <td>1.0</td>\n",
       "    </tr>\n",
       "    <tr>\n",
       "      <th>28</th>\n",
       "      <td>jl_ac5c9ceba825214d</td>\n",
       "      <td>Research Assistant - HIV Research</td>\n",
       "      <td>1.0</td>\n",
       "      <td>0.0</td>\n",
       "      <td>1.0</td>\n",
       "      <td>0.0</td>\n",
       "      <td>0.0</td>\n",
       "      <td>1</td>\n",
       "      <td>0</td>\n",
       "      <td>1.0</td>\n",
       "    </tr>\n",
       "    <tr>\n",
       "      <th>31</th>\n",
       "      <td>jl_e2eed522ed417976</td>\n",
       "      <td>Product Manager</td>\n",
       "      <td>0.0</td>\n",
       "      <td>1.0</td>\n",
       "      <td>1.0</td>\n",
       "      <td>0.0</td>\n",
       "      <td>2.0</td>\n",
       "      <td>1</td>\n",
       "      <td>0</td>\n",
       "      <td>1.0</td>\n",
       "    </tr>\n",
       "    <tr>\n",
       "      <th>32</th>\n",
       "      <td>jl_0bea72ee44de7b55</td>\n",
       "      <td>Revenue Analyst</td>\n",
       "      <td>1.0</td>\n",
       "      <td>0.0</td>\n",
       "      <td>1.0</td>\n",
       "      <td>0.0</td>\n",
       "      <td>1.0</td>\n",
       "      <td>1</td>\n",
       "      <td>0</td>\n",
       "      <td>1.0</td>\n",
       "    </tr>\n",
       "    <tr>\n",
       "      <th>...</th>\n",
       "      <td>...</td>\n",
       "      <td>...</td>\n",
       "      <td>...</td>\n",
       "      <td>...</td>\n",
       "      <td>...</td>\n",
       "      <td>...</td>\n",
       "      <td>...</td>\n",
       "      <td>...</td>\n",
       "      <td>...</td>\n",
       "      <td>...</td>\n",
       "    </tr>\n",
       "    <tr>\n",
       "      <th>352</th>\n",
       "      <td>jl_4f33d3438f032d5b</td>\n",
       "      <td>PACU RN</td>\n",
       "      <td>0.0</td>\n",
       "      <td>0.0</td>\n",
       "      <td>0.0</td>\n",
       "      <td>0.0</td>\n",
       "      <td>0.0</td>\n",
       "      <td>0</td>\n",
       "      <td>0</td>\n",
       "      <td>0.0</td>\n",
       "    </tr>\n",
       "    <tr>\n",
       "      <th>353</th>\n",
       "      <td>jl_741d77199ed602a1</td>\n",
       "      <td>Registered Nurse- , 5W ICU 24 HRS/N, Every Oth...</td>\n",
       "      <td>0.0</td>\n",
       "      <td>0.0</td>\n",
       "      <td>0.0</td>\n",
       "      <td>0.0</td>\n",
       "      <td>0.0</td>\n",
       "      <td>0</td>\n",
       "      <td>1</td>\n",
       "      <td>0.0</td>\n",
       "    </tr>\n",
       "    <tr>\n",
       "      <th>354</th>\n",
       "      <td>jl_e26b0bced3f9d403</td>\n",
       "      <td>Registered Nurse, 5W ICU, 24HRS/N, Every Other...</td>\n",
       "      <td>0.0</td>\n",
       "      <td>0.0</td>\n",
       "      <td>0.0</td>\n",
       "      <td>0.0</td>\n",
       "      <td>2.0</td>\n",
       "      <td>1</td>\n",
       "      <td>0</td>\n",
       "      <td>0.0</td>\n",
       "    </tr>\n",
       "    <tr>\n",
       "      <th>355</th>\n",
       "      <td>jl_4be259d528ae5fbc</td>\n",
       "      <td>Registered Nurse Float Pool 36 hours Night EOW...</td>\n",
       "      <td>1.0</td>\n",
       "      <td>0.0</td>\n",
       "      <td>0.0</td>\n",
       "      <td>0.0</td>\n",
       "      <td>2.0</td>\n",
       "      <td>1</td>\n",
       "      <td>0</td>\n",
       "      <td>0.0</td>\n",
       "    </tr>\n",
       "    <tr>\n",
       "      <th>356</th>\n",
       "      <td>jl_cd2ca132cfc73730</td>\n",
       "      <td>ICU RN</td>\n",
       "      <td>0.0</td>\n",
       "      <td>0.0</td>\n",
       "      <td>0.0</td>\n",
       "      <td>0.0</td>\n",
       "      <td>0.0</td>\n",
       "      <td>1</td>\n",
       "      <td>0</td>\n",
       "      <td>0.0</td>\n",
       "    </tr>\n",
       "    <tr>\n",
       "      <th>357</th>\n",
       "      <td>jl_4ffbd647d8a8ca39</td>\n",
       "      <td>Med/Surg RN (NOC Shift)</td>\n",
       "      <td>0.0</td>\n",
       "      <td>0.0</td>\n",
       "      <td>0.0</td>\n",
       "      <td>0.0</td>\n",
       "      <td>0.0</td>\n",
       "      <td>1</td>\n",
       "      <td>0</td>\n",
       "      <td>0.0</td>\n",
       "    </tr>\n",
       "    <tr>\n",
       "      <th>358</th>\n",
       "      <td>jl_513ff0ddd4bf97bb</td>\n",
       "      <td>Image Processing / Sensor Control - Software E...</td>\n",
       "      <td>0.0</td>\n",
       "      <td>0.0</td>\n",
       "      <td>0.0</td>\n",
       "      <td>0.0</td>\n",
       "      <td>2.0</td>\n",
       "      <td>1</td>\n",
       "      <td>0</td>\n",
       "      <td>0.0</td>\n",
       "    </tr>\n",
       "    <tr>\n",
       "      <th>359</th>\n",
       "      <td>jl_640a46a6683861f7</td>\n",
       "      <td>Sr Software Developer at Amazon (AWS) - Cloud ...</td>\n",
       "      <td>0.0</td>\n",
       "      <td>0.0</td>\n",
       "      <td>0.0</td>\n",
       "      <td>0.0</td>\n",
       "      <td>0.0</td>\n",
       "      <td>0</td>\n",
       "      <td>0</td>\n",
       "      <td>0.0</td>\n",
       "    </tr>\n",
       "    <tr>\n",
       "      <th>360</th>\n",
       "      <td>jl_49294c2a257b609f</td>\n",
       "      <td>Java Software Engineers, full-stack Consumer F...</td>\n",
       "      <td>0.0</td>\n",
       "      <td>0.0</td>\n",
       "      <td>0.0</td>\n",
       "      <td>0.0</td>\n",
       "      <td>0.0</td>\n",
       "      <td>1</td>\n",
       "      <td>0</td>\n",
       "      <td>0.0</td>\n",
       "    </tr>\n",
       "    <tr>\n",
       "      <th>361</th>\n",
       "      <td>jl_15b2a65194a10873</td>\n",
       "      <td>Senior Network Engineer - 16001699</td>\n",
       "      <td>0.0</td>\n",
       "      <td>0.0</td>\n",
       "      <td>0.0</td>\n",
       "      <td>0.0</td>\n",
       "      <td>0.0</td>\n",
       "      <td>0</td>\n",
       "      <td>1</td>\n",
       "      <td>0.0</td>\n",
       "    </tr>\n",
       "    <tr>\n",
       "      <th>362</th>\n",
       "      <td>jl_7768720712d7ebfa</td>\n",
       "      <td>Principal Software Engineer Master level exper...</td>\n",
       "      <td>0.0</td>\n",
       "      <td>0.0</td>\n",
       "      <td>0.0</td>\n",
       "      <td>0.0</td>\n",
       "      <td>0.0</td>\n",
       "      <td>0</td>\n",
       "      <td>0</td>\n",
       "      <td>0.0</td>\n",
       "    </tr>\n",
       "    <tr>\n",
       "      <th>363</th>\n",
       "      <td>jl_c352d8d371b42783</td>\n",
       "      <td>Lead Data Engineer</td>\n",
       "      <td>0.0</td>\n",
       "      <td>1.0</td>\n",
       "      <td>0.0</td>\n",
       "      <td>0.0</td>\n",
       "      <td>0.0</td>\n",
       "      <td>0</td>\n",
       "      <td>1</td>\n",
       "      <td>0.0</td>\n",
       "    </tr>\n",
       "    <tr>\n",
       "      <th>364</th>\n",
       "      <td>jl_eb3d8d55795f7d03</td>\n",
       "      <td>Junior Software/Automation Engineer</td>\n",
       "      <td>0.0</td>\n",
       "      <td>1.0</td>\n",
       "      <td>0.0</td>\n",
       "      <td>0.0</td>\n",
       "      <td>0.0</td>\n",
       "      <td>1</td>\n",
       "      <td>0</td>\n",
       "      <td>0.0</td>\n",
       "    </tr>\n",
       "    <tr>\n",
       "      <th>365</th>\n",
       "      <td>jl_6971bb6d1bd8aed7</td>\n",
       "      <td>Software Engineer III - SQL, Python,Python, R,...</td>\n",
       "      <td>1.0</td>\n",
       "      <td>1.0</td>\n",
       "      <td>0.0</td>\n",
       "      <td>0.0</td>\n",
       "      <td>0.0</td>\n",
       "      <td>1</td>\n",
       "      <td>0</td>\n",
       "      <td>0.0</td>\n",
       "    </tr>\n",
       "    <tr>\n",
       "      <th>366</th>\n",
       "      <td>jl_1c24d24268fdab8d</td>\n",
       "      <td>ASSOCIATE DIRECTOR, ADMINISTRATION, Hariri Ins...</td>\n",
       "      <td>0.0</td>\n",
       "      <td>0.0</td>\n",
       "      <td>0.0</td>\n",
       "      <td>0.0</td>\n",
       "      <td>4.0</td>\n",
       "      <td>1</td>\n",
       "      <td>0</td>\n",
       "      <td>0.0</td>\n",
       "    </tr>\n",
       "    <tr>\n",
       "      <th>367</th>\n",
       "      <td>jl_49d3ea4f62b732c8</td>\n",
       "      <td>Cutting-edge Cancer Research Firm looking for ...</td>\n",
       "      <td>0.0</td>\n",
       "      <td>0.0</td>\n",
       "      <td>0.0</td>\n",
       "      <td>0.0</td>\n",
       "      <td>0.0</td>\n",
       "      <td>0</td>\n",
       "      <td>0</td>\n",
       "      <td>0.0</td>\n",
       "    </tr>\n",
       "    <tr>\n",
       "      <th>368</th>\n",
       "      <td>jl_226185bd81890ad2</td>\n",
       "      <td>Machine Learning Data Scientist</td>\n",
       "      <td>0.0</td>\n",
       "      <td>1.0</td>\n",
       "      <td>0.0</td>\n",
       "      <td>0.0</td>\n",
       "      <td>3.0</td>\n",
       "      <td>0</td>\n",
       "      <td>0</td>\n",
       "      <td>0.0</td>\n",
       "    </tr>\n",
       "    <tr>\n",
       "      <th>369</th>\n",
       "      <td>jl_5caf33a49a5cc254</td>\n",
       "      <td>Data Scientist / Machine Learning Engineer</td>\n",
       "      <td>1.0</td>\n",
       "      <td>1.0</td>\n",
       "      <td>0.0</td>\n",
       "      <td>0.0</td>\n",
       "      <td>0.0</td>\n",
       "      <td>0</td>\n",
       "      <td>0</td>\n",
       "      <td>0.0</td>\n",
       "    </tr>\n",
       "    <tr>\n",
       "      <th>370</th>\n",
       "      <td>jl_16f04a395c3e1599</td>\n",
       "      <td>Medical Science Liaison</td>\n",
       "      <td>1.0</td>\n",
       "      <td>0.0</td>\n",
       "      <td>0.0</td>\n",
       "      <td>0.0</td>\n",
       "      <td>0.0</td>\n",
       "      <td>0</td>\n",
       "      <td>0</td>\n",
       "      <td>0.0</td>\n",
       "    </tr>\n",
       "    <tr>\n",
       "      <th>371</th>\n",
       "      <td>jl_8c192d237aa99a33</td>\n",
       "      <td>Senior Director/Vice President Translational R...</td>\n",
       "      <td>0.0</td>\n",
       "      <td>0.0</td>\n",
       "      <td>0.0</td>\n",
       "      <td>0.0</td>\n",
       "      <td>0.0</td>\n",
       "      <td>0</td>\n",
       "      <td>1</td>\n",
       "      <td>0.0</td>\n",
       "    </tr>\n",
       "    <tr>\n",
       "      <th>372</th>\n",
       "      <td>jl_bc3ba6386a172611</td>\n",
       "      <td>Backend Software Engineer</td>\n",
       "      <td>0.0</td>\n",
       "      <td>0.0</td>\n",
       "      <td>0.0</td>\n",
       "      <td>0.0</td>\n",
       "      <td>0.0</td>\n",
       "      <td>0</td>\n",
       "      <td>0</td>\n",
       "      <td>0.0</td>\n",
       "    </tr>\n",
       "    <tr>\n",
       "      <th>373</th>\n",
       "      <td>jl_4831f7193fb998d3</td>\n",
       "      <td>Technical Support Analyst</td>\n",
       "      <td>0.0</td>\n",
       "      <td>0.0</td>\n",
       "      <td>0.0</td>\n",
       "      <td>0.0</td>\n",
       "      <td>0.0</td>\n",
       "      <td>1</td>\n",
       "      <td>0</td>\n",
       "      <td>0.0</td>\n",
       "    </tr>\n",
       "    <tr>\n",
       "      <th>374</th>\n",
       "      <td>jl_f74427ae34504f0c</td>\n",
       "      <td>Software Engineer Intern</td>\n",
       "      <td>0.0</td>\n",
       "      <td>0.0</td>\n",
       "      <td>0.0</td>\n",
       "      <td>0.0</td>\n",
       "      <td>2.0</td>\n",
       "      <td>1</td>\n",
       "      <td>0</td>\n",
       "      <td>0.0</td>\n",
       "    </tr>\n",
       "    <tr>\n",
       "      <th>375</th>\n",
       "      <td>jl_c9eaa6a85165a689</td>\n",
       "      <td>Polymer Scientist/Materials Engineer</td>\n",
       "      <td>0.0</td>\n",
       "      <td>0.0</td>\n",
       "      <td>0.0</td>\n",
       "      <td>0.0</td>\n",
       "      <td>0.0</td>\n",
       "      <td>1</td>\n",
       "      <td>0</td>\n",
       "      <td>0.0</td>\n",
       "    </tr>\n",
       "    <tr>\n",
       "      <th>376</th>\n",
       "      <td>jl_0a800bbd2c931c9f</td>\n",
       "      <td>Software Engineer</td>\n",
       "      <td>0.0</td>\n",
       "      <td>0.0</td>\n",
       "      <td>0.0</td>\n",
       "      <td>0.0</td>\n",
       "      <td>3.0</td>\n",
       "      <td>0</td>\n",
       "      <td>0</td>\n",
       "      <td>0.0</td>\n",
       "    </tr>\n",
       "    <tr>\n",
       "      <th>377</th>\n",
       "      <td>jl_9a1b438323bea96f</td>\n",
       "      <td>Director, Product Manager - Payments</td>\n",
       "      <td>0.0</td>\n",
       "      <td>0.0</td>\n",
       "      <td>0.0</td>\n",
       "      <td>0.0</td>\n",
       "      <td>0.0</td>\n",
       "      <td>0</td>\n",
       "      <td>0</td>\n",
       "      <td>0.0</td>\n",
       "    </tr>\n",
       "    <tr>\n",
       "      <th>378</th>\n",
       "      <td>jl_68f1e173732fe01f</td>\n",
       "      <td>Image Processing Co-op</td>\n",
       "      <td>0.0</td>\n",
       "      <td>1.0</td>\n",
       "      <td>0.0</td>\n",
       "      <td>0.0</td>\n",
       "      <td>0.0</td>\n",
       "      <td>0</td>\n",
       "      <td>1</td>\n",
       "      <td>0.0</td>\n",
       "    </tr>\n",
       "    <tr>\n",
       "      <th>379</th>\n",
       "      <td>jl_f11af2bb38c1848e</td>\n",
       "      <td>Clinical Project Manager</td>\n",
       "      <td>0.0</td>\n",
       "      <td>0.0</td>\n",
       "      <td>0.0</td>\n",
       "      <td>0.0</td>\n",
       "      <td>0.0</td>\n",
       "      <td>0</td>\n",
       "      <td>0</td>\n",
       "      <td>0.0</td>\n",
       "    </tr>\n",
       "    <tr>\n",
       "      <th>380</th>\n",
       "      <td>jl_1bf897ef5da7c90a</td>\n",
       "      <td>Firmware Engineer</td>\n",
       "      <td>1.0</td>\n",
       "      <td>1.0</td>\n",
       "      <td>0.0</td>\n",
       "      <td>0.0</td>\n",
       "      <td>0.0</td>\n",
       "      <td>1</td>\n",
       "      <td>0</td>\n",
       "      <td>0.0</td>\n",
       "    </tr>\n",
       "    <tr>\n",
       "      <th>381</th>\n",
       "      <td>jl_db64963fe93c0bcc</td>\n",
       "      <td>Lead Medical Technologist</td>\n",
       "      <td>0.0</td>\n",
       "      <td>0.0</td>\n",
       "      <td>0.0</td>\n",
       "      <td>0.0</td>\n",
       "      <td>0.0</td>\n",
       "      <td>0</td>\n",
       "      <td>0</td>\n",
       "      <td>0.0</td>\n",
       "    </tr>\n",
       "  </tbody>\n",
       "</table>\n",
       "<p>349 rows × 10 columns</p>\n",
       "</div>"
      ],
      "text/plain": [
       "                  job_id                                              title  \\\n",
       "0    jl_ce0b88780585db5e                   Quantitative Data Analyst Intern   \n",
       "1    jl_166b32fc833354f5  Research Coordinator - Friedman School of Nutr...   \n",
       "2    jl_df3319bfb55ad3cf                  Principal Data Scientist (Boston)   \n",
       "3    jl_9a7d42c7e9942208                                     Data Scientist   \n",
       "4    jl_ee7e2f3d59a27997                                  Data Scientist II   \n",
       "5    jl_1f1198f76898781f                                     Data Scientist   \n",
       "6    jl_04bc09cfa0aed47c                          Quantitative Data Analyst   \n",
       "7    jl_91c7efe451686ad0  Research Data Assistant-institutional Effectiv...   \n",
       "8    jl_3692ec266c2e0789                   Analytics & Reporting Specialist   \n",
       "9    jl_dd84d4b5e0fc275c                  Mid - Senior Data Engineer (Java)   \n",
       "10   jl_babd32218ae1f4da                             Data Engineer (Boston)   \n",
       "11   jl_dbccaa10fa7e13f8    Electrophysiology Research Scientist (BS or MS)   \n",
       "12   jl_edb97d3e6e2abee8                        Vice President Data Science   \n",
       "13   jl_1cc8ba4be9585c02       Watson Health - Research Analyst II - Truven   \n",
       "14   jl_8bb734a28e3c730f                          Quantitative Data Analyst   \n",
       "15   jl_28073c31ba9820ad             Scientist, Research and Modeling (AIR)   \n",
       "16   jl_19723de11bdffbdc                         2017 EFL Global Fellowship   \n",
       "17   jl_aea2292c8e84dd8a          Software Engineering Intern - Summer 2017   \n",
       "19   jl_4d70bb7cdd45a2e8                                     SAS Programmer   \n",
       "20   jl_d6cc03d085dbc65b                      Business Intelligence Analyst   \n",
       "21   jl_0cfc14ae26947bc2                     Scientist, Immuno-oncology Job   \n",
       "22   jl_8144ce4c3a352b1e                        Software Engineering Intern   \n",
       "23   jl_66136e7e9ca1fe71                 Data Scientist / Software Engineer   \n",
       "24   jl_476a4b339dd0072f                Research Data Manager I - Neurology   \n",
       "25   jl_f337ab0603142782                              Senior Data Scientist   \n",
       "26   jl_5412ca93cf926717                                       Data Analyst   \n",
       "27   jl_bb7aa67e9c5a414a                         Cyber Analytics Researcher   \n",
       "28   jl_ac5c9ceba825214d                  Research Assistant - HIV Research   \n",
       "31   jl_e2eed522ed417976                                    Product Manager   \n",
       "32   jl_0bea72ee44de7b55                                    Revenue Analyst   \n",
       "..                   ...                                                ...   \n",
       "352  jl_4f33d3438f032d5b                                            PACU RN   \n",
       "353  jl_741d77199ed602a1  Registered Nurse- , 5W ICU 24 HRS/N, Every Oth...   \n",
       "354  jl_e26b0bced3f9d403  Registered Nurse, 5W ICU, 24HRS/N, Every Other...   \n",
       "355  jl_4be259d528ae5fbc  Registered Nurse Float Pool 36 hours Night EOW...   \n",
       "356  jl_cd2ca132cfc73730                                             ICU RN   \n",
       "357  jl_4ffbd647d8a8ca39                            Med/Surg RN (NOC Shift)   \n",
       "358  jl_513ff0ddd4bf97bb  Image Processing / Sensor Control - Software E...   \n",
       "359  jl_640a46a6683861f7  Sr Software Developer at Amazon (AWS) - Cloud ...   \n",
       "360  jl_49294c2a257b609f  Java Software Engineers, full-stack Consumer F...   \n",
       "361  jl_15b2a65194a10873                 Senior Network Engineer - 16001699   \n",
       "362  jl_7768720712d7ebfa  Principal Software Engineer Master level exper...   \n",
       "363  jl_c352d8d371b42783                                 Lead Data Engineer   \n",
       "364  jl_eb3d8d55795f7d03                Junior Software/Automation Engineer   \n",
       "365  jl_6971bb6d1bd8aed7  Software Engineer III - SQL, Python,Python, R,...   \n",
       "366  jl_1c24d24268fdab8d  ASSOCIATE DIRECTOR, ADMINISTRATION, Hariri Ins...   \n",
       "367  jl_49d3ea4f62b732c8  Cutting-edge Cancer Research Firm looking for ...   \n",
       "368  jl_226185bd81890ad2                    Machine Learning Data Scientist   \n",
       "369  jl_5caf33a49a5cc254         Data Scientist / Machine Learning Engineer   \n",
       "370  jl_16f04a395c3e1599                            Medical Science Liaison   \n",
       "371  jl_8c192d237aa99a33  Senior Director/Vice President Translational R...   \n",
       "372  jl_bc3ba6386a172611                          Backend Software Engineer   \n",
       "373  jl_4831f7193fb998d3                          Technical Support Analyst   \n",
       "374  jl_f74427ae34504f0c                           Software Engineer Intern   \n",
       "375  jl_c9eaa6a85165a689               Polymer Scientist/Materials Engineer   \n",
       "376  jl_0a800bbd2c931c9f                                  Software Engineer   \n",
       "377  jl_9a1b438323bea96f               Director, Product Manager - Payments   \n",
       "378  jl_68f1e173732fe01f                             Image Processing Co-op   \n",
       "379  jl_f11af2bb38c1848e                           Clinical Project Manager   \n",
       "380  jl_1bf897ef5da7c90a                                  Firmware Engineer   \n",
       "381  jl_db64963fe93c0bcc                          Lead Medical Technologist   \n",
       "\n",
       "    has_phd  has_python over_90k has_startup  years scientist_title  \\\n",
       "0       0.0         1.0      1.0         0.0    0.0               0   \n",
       "1       0.0         0.0      1.0         0.0    0.0               0   \n",
       "2       0.0         1.0      1.0         0.0    0.0               1   \n",
       "3       1.0         1.0      1.0         0.0    0.0               1   \n",
       "4       0.0         0.0      1.0         0.0    0.0               1   \n",
       "5       1.0         1.0      1.0         0.0    3.0               0   \n",
       "6       1.0         1.0      1.0         0.0    4.0               1   \n",
       "7       0.0         0.0      0.0         0.0    0.0               1   \n",
       "8       0.0         0.0      1.0         0.0    2.0               1   \n",
       "9       0.0         0.0      1.0         0.0    3.0               1   \n",
       "10      0.0         1.0      0.0         0.0    1.0               1   \n",
       "11      0.0         0.0      1.0         0.0    2.0               1   \n",
       "12      1.0         0.0      0.0         0.0    0.0               1   \n",
       "13      1.0         0.0      1.0         0.0    0.0               1   \n",
       "14      1.0         1.0      1.0         0.0    2.0               1   \n",
       "15      0.0         1.0      1.0         0.0    0.0               1   \n",
       "16      0.0         0.0      0.0         1.0    2.0               0   \n",
       "17      0.0         0.0      0.0         0.0    0.0               0   \n",
       "19      1.0         0.0      1.0         1.0    3.0               1   \n",
       "20      1.0         0.0      1.0         0.0    3.0               1   \n",
       "21      1.0         0.0      1.0         0.0    0.0               1   \n",
       "22      0.0         1.0      1.0         0.0    2.0               1   \n",
       "23      0.0         1.0      1.0         0.0    4.0               1   \n",
       "24      1.0         0.0      0.0         0.0    0.0               0   \n",
       "25      1.0         1.0      1.0         0.0    4.0               1   \n",
       "26      1.0         0.0      1.0         0.0    4.0               1   \n",
       "27      1.0         1.0      1.0         0.0    1.0               1   \n",
       "28      1.0         0.0      1.0         0.0    0.0               1   \n",
       "31      0.0         1.0      1.0         0.0    2.0               1   \n",
       "32      1.0         0.0      1.0         0.0    1.0               1   \n",
       "..      ...         ...      ...         ...    ...             ...   \n",
       "352     0.0         0.0      0.0         0.0    0.0               0   \n",
       "353     0.0         0.0      0.0         0.0    0.0               0   \n",
       "354     0.0         0.0      0.0         0.0    2.0               1   \n",
       "355     1.0         0.0      0.0         0.0    2.0               1   \n",
       "356     0.0         0.0      0.0         0.0    0.0               1   \n",
       "357     0.0         0.0      0.0         0.0    0.0               1   \n",
       "358     0.0         0.0      0.0         0.0    2.0               1   \n",
       "359     0.0         0.0      0.0         0.0    0.0               0   \n",
       "360     0.0         0.0      0.0         0.0    0.0               1   \n",
       "361     0.0         0.0      0.0         0.0    0.0               0   \n",
       "362     0.0         0.0      0.0         0.0    0.0               0   \n",
       "363     0.0         1.0      0.0         0.0    0.0               0   \n",
       "364     0.0         1.0      0.0         0.0    0.0               1   \n",
       "365     1.0         1.0      0.0         0.0    0.0               1   \n",
       "366     0.0         0.0      0.0         0.0    4.0               1   \n",
       "367     0.0         0.0      0.0         0.0    0.0               0   \n",
       "368     0.0         1.0      0.0         0.0    3.0               0   \n",
       "369     1.0         1.0      0.0         0.0    0.0               0   \n",
       "370     1.0         0.0      0.0         0.0    0.0               0   \n",
       "371     0.0         0.0      0.0         0.0    0.0               0   \n",
       "372     0.0         0.0      0.0         0.0    0.0               0   \n",
       "373     0.0         0.0      0.0         0.0    0.0               1   \n",
       "374     0.0         0.0      0.0         0.0    2.0               1   \n",
       "375     0.0         0.0      0.0         0.0    0.0               1   \n",
       "376     0.0         0.0      0.0         0.0    3.0               0   \n",
       "377     0.0         0.0      0.0         0.0    0.0               0   \n",
       "378     0.0         1.0      0.0         0.0    0.0               0   \n",
       "379     0.0         0.0      0.0         0.0    0.0               0   \n",
       "380     1.0         1.0      0.0         0.0    0.0               1   \n",
       "381     0.0         0.0      0.0         0.0    0.0               0   \n",
       "\n",
       "    analyst_title Python  \n",
       "0               0    1.0  \n",
       "1               0    1.0  \n",
       "2               0    1.0  \n",
       "3               0    1.0  \n",
       "4               0    1.0  \n",
       "5               1    1.0  \n",
       "6               0    1.0  \n",
       "7               0    1.0  \n",
       "8               0    1.0  \n",
       "9               0    1.0  \n",
       "10              0    1.0  \n",
       "11              0    1.0  \n",
       "12              0    1.0  \n",
       "13              0    1.0  \n",
       "14              0    1.0  \n",
       "15              0    1.0  \n",
       "16              0    1.0  \n",
       "17              1    1.0  \n",
       "19              0    1.0  \n",
       "20              0    1.0  \n",
       "21              0    1.0  \n",
       "22              0    1.0  \n",
       "23              0    1.0  \n",
       "24              0    1.0  \n",
       "25              0    1.0  \n",
       "26              0    1.0  \n",
       "27              0    1.0  \n",
       "28              0    1.0  \n",
       "31              0    1.0  \n",
       "32              0    1.0  \n",
       "..            ...    ...  \n",
       "352             0    0.0  \n",
       "353             1    0.0  \n",
       "354             0    0.0  \n",
       "355             0    0.0  \n",
       "356             0    0.0  \n",
       "357             0    0.0  \n",
       "358             0    0.0  \n",
       "359             0    0.0  \n",
       "360             0    0.0  \n",
       "361             1    0.0  \n",
       "362             0    0.0  \n",
       "363             1    0.0  \n",
       "364             0    0.0  \n",
       "365             0    0.0  \n",
       "366             0    0.0  \n",
       "367             0    0.0  \n",
       "368             0    0.0  \n",
       "369             0    0.0  \n",
       "370             0    0.0  \n",
       "371             1    0.0  \n",
       "372             0    0.0  \n",
       "373             0    0.0  \n",
       "374             0    0.0  \n",
       "375             0    0.0  \n",
       "376             0    0.0  \n",
       "377             0    0.0  \n",
       "378             1    0.0  \n",
       "379             0    0.0  \n",
       "380             0    0.0  \n",
       "381             0    0.0  \n",
       "\n",
       "[349 rows x 10 columns]"
      ]
     },
     "execution_count": 114,
     "metadata": {},
     "output_type": "execute_result"
    }
   ],
   "source": [
    "testjobs.drop(42, axis = 0)"
   ]
  },
  {
   "cell_type": "code",
   "execution_count": 176,
   "metadata": {
    "collapsed": true
   },
   "outputs": [],
   "source": [
    "testjobs.to_csv('/Users/teresaborcuch/Desktop/test_jobs_clean.csv')"
   ]
  },
  {
   "cell_type": "code",
   "execution_count": 168,
   "metadata": {
    "collapsed": true
   },
   "outputs": [],
   "source": [
    "# make test jobs matrix\n",
    "test_X = patsy.dmatrix('~C(years) + C(Python) + C(has_phd) + C(has_startup) + C(scientist_title) + C(analyst_title)', testjobs)"
   ]
  },
  {
   "cell_type": "code",
   "execution_count": 169,
   "metadata": {
    "collapsed": false
   },
   "outputs": [],
   "source": [
    "# test the model on the testjobs\n",
    "pred_testjobs = gs_logreg.predict(test_X)"
   ]
  },
  {
   "cell_type": "code",
   "execution_count": 170,
   "metadata": {
    "collapsed": false
   },
   "outputs": [
    {
     "data": {
      "text/plain": [
       "(350,)"
      ]
     },
     "execution_count": 170,
     "metadata": {},
     "output_type": "execute_result"
    }
   ],
   "source": [
    "pred_testjobs.shape"
   ]
  },
  {
   "cell_type": "code",
   "execution_count": 181,
   "metadata": {
    "collapsed": true
   },
   "outputs": [],
   "source": [
    "y_test = testjobs.over_90k"
   ]
  },
  {
   "cell_type": "code",
   "execution_count": 172,
   "metadata": {
    "collapsed": false
   },
   "outputs": [
    {
     "data": {
      "text/plain": [
       "(350,)"
      ]
     },
     "execution_count": 172,
     "metadata": {},
     "output_type": "execute_result"
    }
   ],
   "source": [
    "y.shape"
   ]
  },
  {
   "cell_type": "code",
   "execution_count": 173,
   "metadata": {
    "collapsed": false
   },
   "outputs": [
    {
     "name": "stdout",
     "output_type": "stream",
     "text": [
      "     0.0  1.0\n",
      "0.0  157   78\n",
      "1.0    2  113\n"
     ]
    }
   ],
   "source": [
    "# Make confusion matrix\n",
    "conmat1= metrics.confusion_matrix(y, pred_testjobs, labels=gs_logreg.classes_)\n",
    "conmat1= pd.DataFrame(conmat1, columns=gs_logreg.classes_, index=gs_logreg.classes_)\n",
    "print conmat1"
   ]
  },
  {
   "cell_type": "code",
   "execution_count": 174,
   "metadata": {
    "collapsed": false
   },
   "outputs": [
    {
     "name": "stdout",
     "output_type": "stream",
     "text": [
      "             precision    recall  f1-score   support\n",
      "\n",
      "        0.0       0.99      0.67      0.80       235\n",
      "        1.0       0.59      0.98      0.74       115\n",
      "\n",
      "avg / total       0.86      0.77      0.78       350\n",
      "\n"
     ]
    }
   ],
   "source": [
    "# evaluate performance on test set\n",
    "print metrics.classification_report(y, pred_testjobs)"
   ]
  },
  {
   "cell_type": "code",
   "execution_count": 195,
   "metadata": {
    "collapsed": false
   },
   "outputs": [
    {
     "data": {
      "image/png": "[encoded data removed]",
      "text/plain": [
       "<matplotlib.figure.Figure at 0x11c2b9b50>"
      ]
     },
     "metadata": {},
     "output_type": "display_data"
    },
    {
     "name": "stdout",
     "output_type": "stream",
     "text": [
      "Area under the curve:  0.733668443974\n"
     ]
    }
   ],
   "source": [
    "# Plot ROC curve for train data\n",
    "from sklearn.metrics import roc_curve, auc\n",
    "y_score = gs_logreg.decision_function(cat_X)\n",
    "y = jobs.over_90k\n",
    "\n",
    "FPR = dict()\n",
    "TPR = dict()\n",
    "ROC_AUC = dict()\n",
    "\n",
    "FPR[1], TPR[1], _ = roc_curve(y, y_score, pos_label = 1)\n",
    "\n",
    "ROC_AUC[1] = auc(FPR[1], TPR[1])\n",
    "\n",
    "plt.plot(FPR[1], TPR[1])\n",
    "plt.xlabel(\"False Positive Rate\")\n",
    "plt.ylabel(\"True Positive Rate\")\n",
    "plt.show()\n",
    "\n",
    "print \"Area under the curve: \", ROC_AUC[1]"
   ]
  },
  {
   "cell_type": "code",
   "execution_count": 190,
   "metadata": {
    "collapsed": false
   },
   "outputs": [
    {
     "data": {
      "text/plain": [
       "0.73366844397411368"
      ]
     },
     "execution_count": 190,
     "metadata": {},
     "output_type": "execute_result"
    }
   ],
   "source": [
    "from sklearn.metrics import roc_auc_score\n",
    "roc_auc_score(y, y_score)"
   ]
  },
  {
   "cell_type": "code",
   "execution_count": 182,
   "metadata": {
    "collapsed": false
   },
   "outputs": [
    {
     "data": {
      "image/png": "[encoded data removed]",
      "text/plain": [
       "<matplotlib.figure.Figure at 0x11bb85210>"
      ]
     },
     "metadata": {},
     "output_type": "display_data"
    }
   ],
   "source": [
    "# Plot ROC curve for test data\n",
    "from sklearn.metrics import roc_curve, auc\n",
    "y_score = gs_logreg.decision_function(test_X)\n",
    "\n",
    "FPR = dict()\n",
    "TPR = dict()\n",
    "ROC_AUC = dict()\n",
    "\n",
    "FPR[1], TPR[1], _ = roc_curve(y_test, y_score)\n",
    "\n",
    "ROC_AUC[1] = auc(FPR[1], TPR[1])\n",
    "\n",
    "plt.plot(FPR[1], TPR[1])\n",
    "plt.xlabel(\"False Positive Rate\")\n",
    "plt.ylabel(\"True Positive Rate\")\n",
    "plt.show()"
   ]
  },
  {
   "cell_type": "code",
   "execution_count": null,
   "metadata": {
    "collapsed": true
   },
   "outputs": [],
   "source": []
  }
 ],
 "metadata": {
  "anaconda-cloud": {},
  "kernelspec": {
   "display_name": "Python [default]",
   "language": "python",
   "name": "python2"
  },
  "language_info": {
   "codemirror_mode": {
    "name": "ipython",
    "version": 2
   },
   "file_extension": ".py",
   "mimetype": "text/x-python",
   "name": "python",
   "nbconvert_exporter": "python",
   "pygments_lexer": "ipython2",
   "version": "2.7.12"
  }
 },
 "nbformat": 4,
 "nbformat_minor": 1
}
