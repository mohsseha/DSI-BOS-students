{
 "cells": [
  {
   "cell_type": "code",
   "execution_count": 41,
   "metadata": {
    "collapsed": true
   },
   "outputs": [],
   "source": [
    "# get a dataset of new jobs to test model on\n",
    "import requests\n",
    "import bs4\n",
    "from urllib import urlopen\n",
    "from bs4 import BeautifulSoup\n",
    "import re\n",
    "import pandas as pd\n",
    "import numpy as np"
   ]
  },
  {
   "cell_type": "code",
   "execution_count": 42,
   "metadata": {
    "collapsed": true
   },
   "outputs": [],
   "source": [
    "job_ids = []\n",
    "titles = []\n",
    "companies = []"
   ]
  },
  {
   "cell_type": "code",
   "execution_count": 43,
   "metadata": {
    "collapsed": false
   },
   "outputs": [],
   "source": [
    "for i in np.arange(0,470,10):\n",
    "    URL = \"https://www.indeed.com/jobs?q=data+science+%2420%2C000%2B&l=Boston&fromage=7&radius=25&start={}\".format(str(i))\n",
    "    #URL = \"https://www.indeed.com/jobs?q=data+scientist+$20,000&l=Boston&start=10&pp\"\n",
    "    soup = BeautifulSoup(urlopen(URL).read(), 'html.parser')\n",
    "    results = soup.find_all('div', attrs={'data-tn-component': 'organicJob'})\n",
    "    for x in results:\n",
    "        # get job_id\n",
    "        job_id = x.find('h2', attrs={\"class\": \"jobtitle\"})['id']\n",
    "        job_ids.append(job_id)\n",
    "     \n",
    "        # get job title\n",
    "        job = x.find('a', attrs={'data-tn-element': \"jobTitle\"}).text.strip()\n",
    "        titles.append(job)\n",
    "        \n",
    "        # get company\n",
    "        company = x.find('span', attrs={\"itemprop\":\"name\"}).text.strip()\n",
    "        companies.append(company)"
   ]
  },
  {
   "cell_type": "code",
   "execution_count": 44,
   "metadata": {
    "collapsed": false
   },
   "outputs": [],
   "source": [
    "# Make a dataframe containing all job ID's, and titles for all new jobs posted 12/21/16-12/28/16\n",
    "job_df = pd.DataFrame(columns = ['job_id','title','company'])\n",
    "job_df['job_id'] = job_ids\n",
    "job_df['title'] = titles\n",
    "#job_df['company'] = companies"
   ]
  },
  {
   "cell_type": "code",
   "execution_count": 45,
   "metadata": {
    "collapsed": false
   },
   "outputs": [],
   "source": [
    "# figure out which ones call for a PhD\n",
    "phd_job_ids = []\n",
    "titles = []\n",
    "for i in np.arange(0,1000,10):\n",
    "    URL = \"https://www.indeed.com/jobs?q=data+science+%28PhD+or+PHD+or+Phd+or+Ph.d+or+Ph.D%29+%2420%2C000%2B&l=Boston&fromage=7&radius=25&start={}\".format(str(i))\n",
    "    soup = BeautifulSoup(urlopen(URL).read(), 'html.parser')\n",
    "    results = soup.find_all('div', attrs={'data-tn-component': 'organicJob'})\n",
    "    for x in results:\n",
    "        # get job_id\n",
    "        job_id = x.find('h2', attrs={\"class\": \"jobtitle\"})['id']\n",
    "        phd_job_ids.append(job_id)\n"
   ]
  },
  {
   "cell_type": "code",
   "execution_count": 46,
   "metadata": {
    "collapsed": false
   },
   "outputs": [],
   "source": [
    "phd_df = pd.DataFrame(columns = ['job_id','has_phd'])\n",
    "phd_df['job_id'] = phd_job_ids\n",
    "\n",
    "for i, row in phd_df.iterrows():\n",
    "    row.iloc[1] = 1"
   ]
  },
  {
   "cell_type": "code",
   "execution_count": 47,
   "metadata": {
    "collapsed": false
   },
   "outputs": [],
   "source": [
    "# merge phd_df and jobs"
   ]
  },
  {
   "cell_type": "code",
   "execution_count": 48,
   "metadata": {
    "collapsed": false
   },
   "outputs": [],
   "source": [
    "test_jobs = pd.merge(job_df,phd_df, how = 'outer', on = 'job_id')\n",
    "test_jobs['has_phd'].fillna('0', inplace = True)"
   ]
  },
  {
   "cell_type": "code",
   "execution_count": 49,
   "metadata": {
    "collapsed": false,
    "scrolled": true
   },
   "outputs": [
    {
     "data": {
      "text/html": [
       "<div>\n",
       "<table border=\"1\" class=\"dataframe\">\n",
       "  <thead>\n",
       "    <tr style=\"text-align: right;\">\n",
       "      <th></th>\n",
       "      <th>job_id</th>\n",
       "      <th>title</th>\n",
       "      <th>company</th>\n",
       "      <th>has_phd</th>\n",
       "    </tr>\n",
       "  </thead>\n",
       "  <tbody>\n",
       "    <tr>\n",
       "      <th>0</th>\n",
       "      <td>jl_ce0b88780585db5e</td>\n",
       "      <td>Quantitative Data Analyst Intern</td>\n",
       "      <td>NaN</td>\n",
       "      <td>0</td>\n",
       "    </tr>\n",
       "    <tr>\n",
       "      <th>1</th>\n",
       "      <td>jl_166b32fc833354f5</td>\n",
       "      <td>Research Coordinator - Friedman School of Nutr...</td>\n",
       "      <td>NaN</td>\n",
       "      <td>0</td>\n",
       "    </tr>\n",
       "    <tr>\n",
       "      <th>2</th>\n",
       "      <td>jl_df3319bfb55ad3cf</td>\n",
       "      <td>Principal Data Scientist (Boston)</td>\n",
       "      <td>NaN</td>\n",
       "      <td>1</td>\n",
       "    </tr>\n",
       "    <tr>\n",
       "      <th>3</th>\n",
       "      <td>jl_9a7d42c7e9942208</td>\n",
       "      <td>Data Scientist</td>\n",
       "      <td>NaN</td>\n",
       "      <td>0</td>\n",
       "    </tr>\n",
       "    <tr>\n",
       "      <th>4</th>\n",
       "      <td>jl_ee7e2f3d59a27997</td>\n",
       "      <td>Data Scientist II</td>\n",
       "      <td>NaN</td>\n",
       "      <td>0</td>\n",
       "    </tr>\n",
       "    <tr>\n",
       "      <th>5</th>\n",
       "      <td>jl_1f1198f76898781f</td>\n",
       "      <td>Data Scientist</td>\n",
       "      <td>NaN</td>\n",
       "      <td>1</td>\n",
       "    </tr>\n",
       "    <tr>\n",
       "      <th>6</th>\n",
       "      <td>jl_04bc09cfa0aed47c</td>\n",
       "      <td>Quantitative Data Analyst</td>\n",
       "      <td>NaN</td>\n",
       "      <td>0</td>\n",
       "    </tr>\n",
       "    <tr>\n",
       "      <th>7</th>\n",
       "      <td>jl_91c7efe451686ad0</td>\n",
       "      <td>Research Data Assistant-institutional Effectiv...</td>\n",
       "      <td>NaN</td>\n",
       "      <td>0</td>\n",
       "    </tr>\n",
       "    <tr>\n",
       "      <th>8</th>\n",
       "      <td>jl_3692ec266c2e0789</td>\n",
       "      <td>Analytics &amp; Reporting Specialist</td>\n",
       "      <td>NaN</td>\n",
       "      <td>0</td>\n",
       "    </tr>\n",
       "    <tr>\n",
       "      <th>9</th>\n",
       "      <td>jl_dd84d4b5e0fc275c</td>\n",
       "      <td>Mid - Senior Data Engineer (Java)</td>\n",
       "      <td>NaN</td>\n",
       "      <td>0</td>\n",
       "    </tr>\n",
       "    <tr>\n",
       "      <th>10</th>\n",
       "      <td>jl_babd32218ae1f4da</td>\n",
       "      <td>Data Engineer (Boston)</td>\n",
       "      <td>NaN</td>\n",
       "      <td>0</td>\n",
       "    </tr>\n",
       "    <tr>\n",
       "      <th>11</th>\n",
       "      <td>jl_dbccaa10fa7e13f8</td>\n",
       "      <td>Electrophysiology Research Scientist (BS or MS)</td>\n",
       "      <td>NaN</td>\n",
       "      <td>0</td>\n",
       "    </tr>\n",
       "    <tr>\n",
       "      <th>12</th>\n",
       "      <td>jl_edb97d3e6e2abee8</td>\n",
       "      <td>Vice President Data Science</td>\n",
       "      <td>NaN</td>\n",
       "      <td>0</td>\n",
       "    </tr>\n",
       "    <tr>\n",
       "      <th>13</th>\n",
       "      <td>jl_1cc8ba4be9585c02</td>\n",
       "      <td>Watson Health - Research Analyst II - Truven</td>\n",
       "      <td>NaN</td>\n",
       "      <td>0</td>\n",
       "    </tr>\n",
       "    <tr>\n",
       "      <th>14</th>\n",
       "      <td>jl_8bb734a28e3c730f</td>\n",
       "      <td>Quantitative Data Analyst</td>\n",
       "      <td>NaN</td>\n",
       "      <td>0</td>\n",
       "    </tr>\n",
       "    <tr>\n",
       "      <th>15</th>\n",
       "      <td>jl_28073c31ba9820ad</td>\n",
       "      <td>Scientist, Research and Modeling (AIR)</td>\n",
       "      <td>NaN</td>\n",
       "      <td>1</td>\n",
       "    </tr>\n",
       "    <tr>\n",
       "      <th>16</th>\n",
       "      <td>jl_19723de11bdffbdc</td>\n",
       "      <td>2017 EFL Global Fellowship</td>\n",
       "      <td>NaN</td>\n",
       "      <td>0</td>\n",
       "    </tr>\n",
       "    <tr>\n",
       "      <th>17</th>\n",
       "      <td>jl_aea2292c8e84dd8a</td>\n",
       "      <td>Software Engineering Intern - Summer 2017</td>\n",
       "      <td>NaN</td>\n",
       "      <td>0</td>\n",
       "    </tr>\n",
       "    <tr>\n",
       "      <th>18</th>\n",
       "      <td>jl_dd97a554e1ef41b8</td>\n",
       "      <td>Research Assistant II</td>\n",
       "      <td>NaN</td>\n",
       "      <td>0</td>\n",
       "    </tr>\n",
       "    <tr>\n",
       "      <th>19</th>\n",
       "      <td>jl_4d70bb7cdd45a2e8</td>\n",
       "      <td>SAS Programmer</td>\n",
       "      <td>NaN</td>\n",
       "      <td>0</td>\n",
       "    </tr>\n",
       "    <tr>\n",
       "      <th>20</th>\n",
       "      <td>jl_4d70bb7cdd45a2e8</td>\n",
       "      <td>SAS Programmer</td>\n",
       "      <td>NaN</td>\n",
       "      <td>0</td>\n",
       "    </tr>\n",
       "    <tr>\n",
       "      <th>21</th>\n",
       "      <td>jl_d6cc03d085dbc65b</td>\n",
       "      <td>Business Intelligence Analyst</td>\n",
       "      <td>NaN</td>\n",
       "      <td>0</td>\n",
       "    </tr>\n",
       "    <tr>\n",
       "      <th>22</th>\n",
       "      <td>jl_0cfc14ae26947bc2</td>\n",
       "      <td>Scientist, Immuno-oncology Job</td>\n",
       "      <td>NaN</td>\n",
       "      <td>0</td>\n",
       "    </tr>\n",
       "    <tr>\n",
       "      <th>23</th>\n",
       "      <td>jl_8144ce4c3a352b1e</td>\n",
       "      <td>Software Engineering Intern</td>\n",
       "      <td>NaN</td>\n",
       "      <td>0</td>\n",
       "    </tr>\n",
       "    <tr>\n",
       "      <th>24</th>\n",
       "      <td>jl_66136e7e9ca1fe71</td>\n",
       "      <td>Data Scientist / Software Engineer</td>\n",
       "      <td>NaN</td>\n",
       "      <td>1</td>\n",
       "    </tr>\n",
       "    <tr>\n",
       "      <th>25</th>\n",
       "      <td>jl_476a4b339dd0072f</td>\n",
       "      <td>Research Data Manager I - Neurology</td>\n",
       "      <td>NaN</td>\n",
       "      <td>0</td>\n",
       "    </tr>\n",
       "    <tr>\n",
       "      <th>26</th>\n",
       "      <td>jl_f337ab0603142782</td>\n",
       "      <td>Senior Data Scientist</td>\n",
       "      <td>NaN</td>\n",
       "      <td>1</td>\n",
       "    </tr>\n",
       "    <tr>\n",
       "      <th>27</th>\n",
       "      <td>jl_5412ca93cf926717</td>\n",
       "      <td>Data Analyst</td>\n",
       "      <td>NaN</td>\n",
       "      <td>0</td>\n",
       "    </tr>\n",
       "    <tr>\n",
       "      <th>28</th>\n",
       "      <td>jl_5412ca93cf926717</td>\n",
       "      <td>Data Analyst</td>\n",
       "      <td>NaN</td>\n",
       "      <td>0</td>\n",
       "    </tr>\n",
       "    <tr>\n",
       "      <th>29</th>\n",
       "      <td>jl_bb7aa67e9c5a414a</td>\n",
       "      <td>Cyber Analytics Researcher</td>\n",
       "      <td>NaN</td>\n",
       "      <td>1</td>\n",
       "    </tr>\n",
       "    <tr>\n",
       "      <th>30</th>\n",
       "      <td>jl_ac5c9ceba825214d</td>\n",
       "      <td>Research Assistant - HIV Research</td>\n",
       "      <td>NaN</td>\n",
       "      <td>0</td>\n",
       "    </tr>\n",
       "    <tr>\n",
       "      <th>31</th>\n",
       "      <td>jl_e2b99e9cd051cd41</td>\n",
       "      <td>Research Study Assistant II</td>\n",
       "      <td>NaN</td>\n",
       "      <td>0</td>\n",
       "    </tr>\n",
       "    <tr>\n",
       "      <th>32</th>\n",
       "      <td>jl_e6bc2b302d021ace</td>\n",
       "      <td>Research Analyst - Center for Study of Drug De...</td>\n",
       "      <td>NaN</td>\n",
       "      <td>0</td>\n",
       "    </tr>\n",
       "    <tr>\n",
       "      <th>33</th>\n",
       "      <td>jl_e2eed522ed417976</td>\n",
       "      <td>Product Manager</td>\n",
       "      <td>NaN</td>\n",
       "      <td>0</td>\n",
       "    </tr>\n",
       "    <tr>\n",
       "      <th>34</th>\n",
       "      <td>jl_0bea72ee44de7b55</td>\n",
       "      <td>Revenue Analyst</td>\n",
       "      <td>NaN</td>\n",
       "      <td>0</td>\n",
       "    </tr>\n",
       "    <tr>\n",
       "      <th>35</th>\n",
       "      <td>jl_6136f97f6ec70bfd</td>\n",
       "      <td>Junior Associate, Business Analyst</td>\n",
       "      <td>NaN</td>\n",
       "      <td>0</td>\n",
       "    </tr>\n",
       "    <tr>\n",
       "      <th>36</th>\n",
       "      <td>jl_0339efbfe74ada29</td>\n",
       "      <td>MicroStrategy Consultant</td>\n",
       "      <td>NaN</td>\n",
       "      <td>0</td>\n",
       "    </tr>\n",
       "    <tr>\n",
       "      <th>37</th>\n",
       "      <td>jl_30c5bf7fe7b49271</td>\n",
       "      <td>Analytical Scientist I</td>\n",
       "      <td>NaN</td>\n",
       "      <td>1</td>\n",
       "    </tr>\n",
       "    <tr>\n",
       "      <th>38</th>\n",
       "      <td>jl_0ec77644b574a0bd</td>\n",
       "      <td>Bursar</td>\n",
       "      <td>NaN</td>\n",
       "      <td>0</td>\n",
       "    </tr>\n",
       "    <tr>\n",
       "      <th>39</th>\n",
       "      <td>jl_7b62a40f3ea90c00</td>\n",
       "      <td>Research Data Scientist</td>\n",
       "      <td>NaN</td>\n",
       "      <td>1</td>\n",
       "    </tr>\n",
       "    <tr>\n",
       "      <th>40</th>\n",
       "      <td>jl_1aceecf6331cc3b0</td>\n",
       "      <td>Biostatistician - I</td>\n",
       "      <td>NaN</td>\n",
       "      <td>0</td>\n",
       "    </tr>\n",
       "    <tr>\n",
       "      <th>41</th>\n",
       "      <td>jl_f923521ba815038b</td>\n",
       "      <td>COOP / 37.5 HRS./ DAY / BWH - NEUROLOGY</td>\n",
       "      <td>NaN</td>\n",
       "      <td>0</td>\n",
       "    </tr>\n",
       "    <tr>\n",
       "      <th>42</th>\n",
       "      <td>jl_7fe200413513198a</td>\n",
       "      <td>Large Molecule Bioanalytical Scientist (AS II)...</td>\n",
       "      <td>NaN</td>\n",
       "      <td>1</td>\n",
       "    </tr>\n",
       "    <tr>\n",
       "      <th>43</th>\n",
       "      <td>jl_cbc4d8775b10a35d</td>\n",
       "      <td>Monitoring, Evaluation and Learning Officer</td>\n",
       "      <td>NaN</td>\n",
       "      <td>0</td>\n",
       "    </tr>\n",
       "    <tr>\n",
       "      <th>44</th>\n",
       "      <td>jl_a3ee1268e985e69b</td>\n",
       "      <td>Research Analyst II</td>\n",
       "      <td>NaN</td>\n",
       "      <td>0</td>\n",
       "    </tr>\n",
       "    <tr>\n",
       "      <th>45</th>\n",
       "      <td>jl_7496e23078087c82</td>\n",
       "      <td>Epic Interface Programmer</td>\n",
       "      <td>NaN</td>\n",
       "      <td>0</td>\n",
       "    </tr>\n",
       "    <tr>\n",
       "      <th>46</th>\n",
       "      <td>jl_42883e9c637f576e</td>\n",
       "      <td>2017 Summer Internship - Analyst - US Market A...</td>\n",
       "      <td>NaN</td>\n",
       "      <td>0</td>\n",
       "    </tr>\n",
       "    <tr>\n",
       "      <th>47</th>\n",
       "      <td>jl_c36903f741d4e9f7</td>\n",
       "      <td>Developer Internship</td>\n",
       "      <td>NaN</td>\n",
       "      <td>0</td>\n",
       "    </tr>\n",
       "    <tr>\n",
       "      <th>48</th>\n",
       "      <td>jl_bf3e63a3f018c0c2</td>\n",
       "      <td>Software Developer (Big Data Analytics)</td>\n",
       "      <td>NaN</td>\n",
       "      <td>0</td>\n",
       "    </tr>\n",
       "    <tr>\n",
       "      <th>49</th>\n",
       "      <td>jl_ba395fda7529fa58</td>\n",
       "      <td>Software Engineer</td>\n",
       "      <td>NaN</td>\n",
       "      <td>0</td>\n",
       "    </tr>\n",
       "  </tbody>\n",
       "</table>\n",
       "</div>"
      ],
      "text/plain": [
       "                 job_id                                              title  \\\n",
       "0   jl_ce0b88780585db5e                   Quantitative Data Analyst Intern   \n",
       "1   jl_166b32fc833354f5  Research Coordinator - Friedman School of Nutr...   \n",
       "2   jl_df3319bfb55ad3cf                  Principal Data Scientist (Boston)   \n",
       "3   jl_9a7d42c7e9942208                                     Data Scientist   \n",
       "4   jl_ee7e2f3d59a27997                                  Data Scientist II   \n",
       "5   jl_1f1198f76898781f                                     Data Scientist   \n",
       "6   jl_04bc09cfa0aed47c                          Quantitative Data Analyst   \n",
       "7   jl_91c7efe451686ad0  Research Data Assistant-institutional Effectiv...   \n",
       "8   jl_3692ec266c2e0789                   Analytics & Reporting Specialist   \n",
       "9   jl_dd84d4b5e0fc275c                  Mid - Senior Data Engineer (Java)   \n",
       "10  jl_babd32218ae1f4da                             Data Engineer (Boston)   \n",
       "11  jl_dbccaa10fa7e13f8    Electrophysiology Research Scientist (BS or MS)   \n",
       "12  jl_edb97d3e6e2abee8                        Vice President Data Science   \n",
       "13  jl_1cc8ba4be9585c02       Watson Health - Research Analyst II - Truven   \n",
       "14  jl_8bb734a28e3c730f                          Quantitative Data Analyst   \n",
       "15  jl_28073c31ba9820ad             Scientist, Research and Modeling (AIR)   \n",
       "16  jl_19723de11bdffbdc                         2017 EFL Global Fellowship   \n",
       "17  jl_aea2292c8e84dd8a          Software Engineering Intern - Summer 2017   \n",
       "18  jl_dd97a554e1ef41b8                              Research Assistant II   \n",
       "19  jl_4d70bb7cdd45a2e8                                     SAS Programmer   \n",
       "20  jl_4d70bb7cdd45a2e8                                     SAS Programmer   \n",
       "21  jl_d6cc03d085dbc65b                      Business Intelligence Analyst   \n",
       "22  jl_0cfc14ae26947bc2                     Scientist, Immuno-oncology Job   \n",
       "23  jl_8144ce4c3a352b1e                        Software Engineering Intern   \n",
       "24  jl_66136e7e9ca1fe71                 Data Scientist / Software Engineer   \n",
       "25  jl_476a4b339dd0072f                Research Data Manager I - Neurology   \n",
       "26  jl_f337ab0603142782                              Senior Data Scientist   \n",
       "27  jl_5412ca93cf926717                                       Data Analyst   \n",
       "28  jl_5412ca93cf926717                                       Data Analyst   \n",
       "29  jl_bb7aa67e9c5a414a                         Cyber Analytics Researcher   \n",
       "30  jl_ac5c9ceba825214d                  Research Assistant - HIV Research   \n",
       "31  jl_e2b99e9cd051cd41                        Research Study Assistant II   \n",
       "32  jl_e6bc2b302d021ace  Research Analyst - Center for Study of Drug De...   \n",
       "33  jl_e2eed522ed417976                                    Product Manager   \n",
       "34  jl_0bea72ee44de7b55                                    Revenue Analyst   \n",
       "35  jl_6136f97f6ec70bfd                 Junior Associate, Business Analyst   \n",
       "36  jl_0339efbfe74ada29                           MicroStrategy Consultant   \n",
       "37  jl_30c5bf7fe7b49271                             Analytical Scientist I   \n",
       "38  jl_0ec77644b574a0bd                                             Bursar   \n",
       "39  jl_7b62a40f3ea90c00                            Research Data Scientist   \n",
       "40  jl_1aceecf6331cc3b0                                Biostatistician - I   \n",
       "41  jl_f923521ba815038b            COOP / 37.5 HRS./ DAY / BWH - NEUROLOGY   \n",
       "42  jl_7fe200413513198a  Large Molecule Bioanalytical Scientist (AS II)...   \n",
       "43  jl_cbc4d8775b10a35d        Monitoring, Evaluation and Learning Officer   \n",
       "44  jl_a3ee1268e985e69b                                Research Analyst II   \n",
       "45  jl_7496e23078087c82                          Epic Interface Programmer   \n",
       "46  jl_42883e9c637f576e  2017 Summer Internship - Analyst - US Market A...   \n",
       "47  jl_c36903f741d4e9f7                               Developer Internship   \n",
       "48  jl_bf3e63a3f018c0c2            Software Developer (Big Data Analytics)   \n",
       "49  jl_ba395fda7529fa58                                  Software Engineer   \n",
       "\n",
       "   company has_phd  \n",
       "0      NaN       0  \n",
       "1      NaN       0  \n",
       "2      NaN       1  \n",
       "3      NaN       0  \n",
       "4      NaN       0  \n",
       "5      NaN       1  \n",
       "6      NaN       0  \n",
       "7      NaN       0  \n",
       "8      NaN       0  \n",
       "9      NaN       0  \n",
       "10     NaN       0  \n",
       "11     NaN       0  \n",
       "12     NaN       0  \n",
       "13     NaN       0  \n",
       "14     NaN       0  \n",
       "15     NaN       1  \n",
       "16     NaN       0  \n",
       "17     NaN       0  \n",
       "18     NaN       0  \n",
       "19     NaN       0  \n",
       "20     NaN       0  \n",
       "21     NaN       0  \n",
       "22     NaN       0  \n",
       "23     NaN       0  \n",
       "24     NaN       1  \n",
       "25     NaN       0  \n",
       "26     NaN       1  \n",
       "27     NaN       0  \n",
       "28     NaN       0  \n",
       "29     NaN       1  \n",
       "30     NaN       0  \n",
       "31     NaN       0  \n",
       "32     NaN       0  \n",
       "33     NaN       0  \n",
       "34     NaN       0  \n",
       "35     NaN       0  \n",
       "36     NaN       0  \n",
       "37     NaN       1  \n",
       "38     NaN       0  \n",
       "39     NaN       1  \n",
       "40     NaN       0  \n",
       "41     NaN       0  \n",
       "42     NaN       1  \n",
       "43     NaN       0  \n",
       "44     NaN       0  \n",
       "45     NaN       0  \n",
       "46     NaN       0  \n",
       "47     NaN       0  \n",
       "48     NaN       0  \n",
       "49     NaN       0  "
      ]
     },
     "execution_count": 49,
     "metadata": {},
     "output_type": "execute_result"
    }
   ],
   "source": [
    "test_jobs.head(50)"
   ]
  },
  {
   "cell_type": "code",
   "execution_count": 50,
   "metadata": {
    "collapsed": true
   },
   "outputs": [],
   "source": [
    "# get jobs that mention Python\n",
    "py_job_ids = []\n",
    "titles = []\n",
    "for i in np.arange(0,1000,10):\n",
    "    URL = \"https://www.indeed.com/jobs?q=data+science+%28Python+or+python%29+%2420%2C000%2B&l=Boston&fromage=7&radius=25&start={}\".format(str(i))\n",
    "    soup = BeautifulSoup(urlopen(URL).read(), 'html.parser')\n",
    "    results = soup.find_all('div', attrs={'data-tn-component': 'organicJob'})\n",
    "    for x in results:\n",
    "        # get job_id\n",
    "        job_id = x.find('h2', attrs={\"class\": \"jobtitle\"})['id']\n",
    "        py_job_ids.append(job_id)\n",
    "        "
   ]
  },
  {
   "cell_type": "code",
   "execution_count": 51,
   "metadata": {
    "collapsed": false
   },
   "outputs": [],
   "source": [
    "py_df = pd.DataFrame(columns = ['job_id', 'has_python'])\n",
    "py_df['job_id'] = py_job_ids\n",
    "\n",
    "for i, row in py_df.iterrows():\n",
    "    row.iloc[1] = 1"
   ]
  },
  {
   "cell_type": "code",
   "execution_count": 52,
   "metadata": {
    "collapsed": false
   },
   "outputs": [],
   "source": [
    "# merge python jobs with regular jobs\n",
    "test_jobs = pd.merge(test_jobs,py_df, how = 'outer', on = 'job_id')\n",
    "test_jobs['has_python'].fillna('0', inplace = True)"
   ]
  },
  {
   "cell_type": "code",
   "execution_count": 53,
   "metadata": {
    "collapsed": true
   },
   "outputs": [],
   "source": [
    "# get jobs over 90k\n",
    "high_pay_jobs = []\n",
    "for i in np.arange(0,1000,10):\n",
    "    URL = \"https://www.indeed.com/jobs?q=data+science+%28Python+or+python%29+%2490%2C000%2B&l=Boston&fromage=7&radius=25&start={}\".format(str(i))\n",
    "    #URL = \"https://www.indeed.com/jobs?q=data+scientist+$20,000&l=Boston&start=10&pp\"\n",
    "    soup = BeautifulSoup(urlopen(URL).read(), 'html.parser')\n",
    "    results = soup.find_all('div', attrs={'data-tn-component': 'organicJob'})\n",
    "    for x in results:\n",
    "        # get job_id\n",
    "        job_id = x.find('h2', attrs={\"class\": \"jobtitle\"})['id']\n",
    "        high_pay_jobs.append(job_id)\n",
    "     "
   ]
  },
  {
   "cell_type": "code",
   "execution_count": 54,
   "metadata": {
    "collapsed": false
   },
   "outputs": [],
   "source": [
    "pay_df = pd.DataFrame(columns = ['job_id','over_90k'])\n",
    "pay_df['job_id'] = high_pay_jobs\n",
    "\n",
    "for i, row in pay_df.iterrows():\n",
    "    row.iloc[1] = 1"
   ]
  },
  {
   "cell_type": "code",
   "execution_count": 55,
   "metadata": {
    "collapsed": false
   },
   "outputs": [
    {
     "data": {
      "text/html": [
       "<div>\n",
       "<table border=\"1\" class=\"dataframe\">\n",
       "  <thead>\n",
       "    <tr style=\"text-align: right;\">\n",
       "      <th></th>\n",
       "      <th>job_id</th>\n",
       "      <th>over_90k</th>\n",
       "    </tr>\n",
       "  </thead>\n",
       "  <tbody>\n",
       "    <tr>\n",
       "      <th>0</th>\n",
       "      <td>jl_9a7d42c7e9942208</td>\n",
       "      <td>1</td>\n",
       "    </tr>\n",
       "    <tr>\n",
       "      <th>1</th>\n",
       "      <td>jl_babd32218ae1f4da</td>\n",
       "      <td>1</td>\n",
       "    </tr>\n",
       "    <tr>\n",
       "      <th>2</th>\n",
       "      <td>jl_1f1198f76898781f</td>\n",
       "      <td>1</td>\n",
       "    </tr>\n",
       "    <tr>\n",
       "      <th>3</th>\n",
       "      <td>jl_df3319bfb55ad3cf</td>\n",
       "      <td>1</td>\n",
       "    </tr>\n",
       "    <tr>\n",
       "      <th>4</th>\n",
       "      <td>jl_1a6ce6a750359329</td>\n",
       "      <td>1</td>\n",
       "    </tr>\n",
       "  </tbody>\n",
       "</table>\n",
       "</div>"
      ],
      "text/plain": [
       "                job_id over_90k\n",
       "0  jl_9a7d42c7e9942208        1\n",
       "1  jl_babd32218ae1f4da        1\n",
       "2  jl_1f1198f76898781f        1\n",
       "3  jl_df3319bfb55ad3cf        1\n",
       "4  jl_1a6ce6a750359329        1"
      ]
     },
     "execution_count": 55,
     "metadata": {},
     "output_type": "execute_result"
    }
   ],
   "source": [
    "pay_df.head()"
   ]
  },
  {
   "cell_type": "code",
   "execution_count": 56,
   "metadata": {
    "collapsed": false
   },
   "outputs": [],
   "source": [
    "# merge \n",
    "test_jobs = pd.merge(test_jobs,pay_df, how = 'outer', on = 'job_id')\n"
   ]
  },
  {
   "cell_type": "code",
   "execution_count": 57,
   "metadata": {
    "collapsed": false
   },
   "outputs": [
    {
     "data": {
      "text/plain": [
       "1    387183\n",
       "0      9831\n",
       "Name: over_90k, dtype: int64"
      ]
     },
     "execution_count": 57,
     "metadata": {},
     "output_type": "execute_result"
    }
   ],
   "source": [
    "test_jobs['over_90k'].fillna('0', inplace = True)\n",
    "test_jobs['over_90k'].value_counts()"
   ]
  },
  {
   "cell_type": "code",
   "execution_count": 58,
   "metadata": {
    "collapsed": false
   },
   "outputs": [],
   "source": [
    "test_jobs = test_jobs.drop_duplicates(subset = 'job_id')"
   ]
  },
  {
   "cell_type": "code",
   "execution_count": 59,
   "metadata": {
    "collapsed": false
   },
   "outputs": [],
   "source": [
    "# get startup info\n",
    "startup_job_ids = []\n",
    "for i in np.arange(0,1000,10):\n",
    "    URL = \"https://www.indeed.com/jobs?q=data+science+%28start-up+or+startup%29+%2420%2C000%2B&l=Boston&fromage=7&radius=25&start={}\".format(str(i))\n",
    "    soup = BeautifulSoup(urlopen(URL).read(), 'html.parser')\n",
    "    results = soup.find_all('div', attrs={'data-tn-component': 'organicJob'})\n",
    "    for x in results:\n",
    "        # get job_id\n",
    "        job_id = x.find('h2', attrs={\"class\": \"jobtitle\"})['id']\n",
    "        startup_job_ids.append(job_id)\n"
   ]
  },
  {
   "cell_type": "code",
   "execution_count": 67,
   "metadata": {
    "collapsed": true
   },
   "outputs": [],
   "source": [
    "startup_df = pd.DataFrame(columns = ['job_id','has_startup'])\n",
    "startup_df['job_id'] = startup_job_ids\n",
    "for i, row in startup_df.iterrows():\n",
    "    row.iloc[1] = 1"
   ]
  },
  {
   "cell_type": "code",
   "execution_count": 69,
   "metadata": {
    "collapsed": true
   },
   "outputs": [],
   "source": [
    "#merge \n",
    "test_jobs = pd.merge(test_jobs,startup_df, how = 'outer', on = 'job_id')"
   ]
  },
  {
   "cell_type": "code",
   "execution_count": 71,
   "metadata": {
    "collapsed": false
   },
   "outputs": [
    {
     "data": {
      "text/html": [
       "<div>\n",
       "<table border=\"1\" class=\"dataframe\">\n",
       "  <thead>\n",
       "    <tr style=\"text-align: right;\">\n",
       "      <th></th>\n",
       "      <th>job_id</th>\n",
       "      <th>title</th>\n",
       "      <th>company</th>\n",
       "      <th>has_phd</th>\n",
       "      <th>has_python</th>\n",
       "      <th>over_90k</th>\n",
       "      <th>has_startup_x</th>\n",
       "      <th>has_startup_y</th>\n",
       "    </tr>\n",
       "  </thead>\n",
       "  <tbody>\n",
       "    <tr>\n",
       "      <th>0</th>\n",
       "      <td>jl_ce0b88780585db5e</td>\n",
       "      <td>Quantitative Data Analyst Intern</td>\n",
       "      <td>NaN</td>\n",
       "      <td>0</td>\n",
       "      <td>1</td>\n",
       "      <td>0</td>\n",
       "      <td>NaN</td>\n",
       "      <td>1</td>\n",
       "    </tr>\n",
       "    <tr>\n",
       "      <th>1</th>\n",
       "      <td>jl_166b32fc833354f5</td>\n",
       "      <td>Research Coordinator - Friedman School of Nutr...</td>\n",
       "      <td>NaN</td>\n",
       "      <td>0</td>\n",
       "      <td>0</td>\n",
       "      <td>0</td>\n",
       "      <td>NaN</td>\n",
       "      <td>NaN</td>\n",
       "    </tr>\n",
       "    <tr>\n",
       "      <th>2</th>\n",
       "      <td>jl_df3319bfb55ad3cf</td>\n",
       "      <td>Principal Data Scientist (Boston)</td>\n",
       "      <td>NaN</td>\n",
       "      <td>1</td>\n",
       "      <td>1</td>\n",
       "      <td>1</td>\n",
       "      <td>NaN</td>\n",
       "      <td>NaN</td>\n",
       "    </tr>\n",
       "    <tr>\n",
       "      <th>3</th>\n",
       "      <td>jl_9a7d42c7e9942208</td>\n",
       "      <td>Data Scientist</td>\n",
       "      <td>NaN</td>\n",
       "      <td>0</td>\n",
       "      <td>1</td>\n",
       "      <td>1</td>\n",
       "      <td>NaN</td>\n",
       "      <td>1</td>\n",
       "    </tr>\n",
       "    <tr>\n",
       "      <th>4</th>\n",
       "      <td>jl_ee7e2f3d59a27997</td>\n",
       "      <td>Data Scientist II</td>\n",
       "      <td>NaN</td>\n",
       "      <td>0</td>\n",
       "      <td>0</td>\n",
       "      <td>0</td>\n",
       "      <td>NaN</td>\n",
       "      <td>NaN</td>\n",
       "    </tr>\n",
       "  </tbody>\n",
       "</table>\n",
       "</div>"
      ],
      "text/plain": [
       "                job_id                                              title  \\\n",
       "0  jl_ce0b88780585db5e                   Quantitative Data Analyst Intern   \n",
       "1  jl_166b32fc833354f5  Research Coordinator - Friedman School of Nutr...   \n",
       "2  jl_df3319bfb55ad3cf                  Principal Data Scientist (Boston)   \n",
       "3  jl_9a7d42c7e9942208                                     Data Scientist   \n",
       "4  jl_ee7e2f3d59a27997                                  Data Scientist II   \n",
       "\n",
       "  company has_phd has_python over_90k has_startup_x has_startup_y  \n",
       "0     NaN       0          1        0           NaN             1  \n",
       "1     NaN       0          0        0           NaN           NaN  \n",
       "2     NaN       1          1        1           NaN           NaN  \n",
       "3     NaN       0          1        1           NaN             1  \n",
       "4     NaN       0          0        0           NaN           NaN  "
      ]
     },
     "execution_count": 71,
     "metadata": {},
     "output_type": "execute_result"
    }
   ],
   "source": [
    "test_jobs.head()"
   ]
  },
  {
   "cell_type": "code",
   "execution_count": 72,
   "metadata": {
    "collapsed": true
   },
   "outputs": [],
   "source": [
    "del test_jobs['has_startup_x']"
   ]
  },
  {
   "cell_type": "code",
   "execution_count": 73,
   "metadata": {
    "collapsed": true
   },
   "outputs": [],
   "source": [
    "test_jobs['has_startup_y'].fillna('0', inplace = True)"
   ]
  },
  {
   "cell_type": "code",
   "execution_count": 75,
   "metadata": {
    "collapsed": false
   },
   "outputs": [],
   "source": [
    "oneyear_ids = []\n",
    "# get jobs with 1 years\n",
    "for i in np.arange(0,470,10):\n",
    "    URL = \"https://www.indeed.com/jobs?q=data+science+%221+year%22+%2420%2C000%2B&l=Boston&fromage=7&radius=25&start={}&pp=\".format(str(i))\n",
    "    soup = BeautifulSoup(urlopen(URL).read(), 'html.parser')\n",
    "    results = soup.find_all('div', attrs={'data-tn-component': 'organicJob'})\n",
    "    for x in results:\n",
    "        # get job_id\n",
    "        job_id = x.find('h2', attrs={\"class\": \"jobtitle\"})['id']\n",
    "        oneyear_ids.append(job_id)"
   ]
  },
  {
   "cell_type": "code",
   "execution_count": 81,
   "metadata": {
    "collapsed": false
   },
   "outputs": [],
   "source": [
    "oneyearjobs = pd.DataFrame(columns = ['job_id','years'])\n",
    "oneyearjobs['job_id'] = oneyear_ids\n",
    "for i, row in oneyearjobs.iterrows():\n",
    "    row.iloc[1] = 1"
   ]
  },
  {
   "cell_type": "code",
   "execution_count": 86,
   "metadata": {
    "collapsed": false
   },
   "outputs": [],
   "source": [
    "twoyear_ids = []\n",
    "# get jobs with 2 years\n",
    "for i in np.arange(0,470,10):\n",
    "    URL = \"https://www.indeed.com/jobs?q=data+science+%222+years%22+%2420%2C000%2B&l=Boston&fromage=7&radius=25&start={}\".format(str(i))\n",
    "    soup = BeautifulSoup(urlopen(URL).read(), 'html.parser')\n",
    "    results = soup.find_all('div', attrs={'data-tn-component': 'organicJob'})\n",
    "    for x in results:\n",
    "        # get job_id\n",
    "        job_id = x.find('h2', attrs={\"class\": \"jobtitle\"})['id']\n",
    "        twoyear_ids.append(job_id)"
   ]
  },
  {
   "cell_type": "code",
   "execution_count": 87,
   "metadata": {
    "collapsed": true
   },
   "outputs": [],
   "source": [
    "twoyearjobs = pd.DataFrame(columns = ['job_id','years'])\n",
    "twoyearjobs['job_id'] = twoyear_ids\n",
    "for i, row in twoyearjobs.iterrows():\n",
    "    row.iloc[1] = 2"
   ]
  },
  {
   "cell_type": "code",
   "execution_count": 94,
   "metadata": {
    "collapsed": false
   },
   "outputs": [],
   "source": [
    "threeyear_ids = []\n",
    "# get jobs with 3 years\n",
    "for i in np.arange(0,470,10):\n",
    "    URL = \"https://www.indeed.com/jobs?q=data+science+%223+years%22+%2420%2C000%2B&l=Boston&fromage=7&radius=25&start={}&pp=\".format(str(i))\n",
    "    soup = BeautifulSoup(urlopen(URL).read(), 'html.parser')\n",
    "    results = soup.find_all('div', attrs={'data-tn-component': 'organicJob'})\n",
    "    for x in results:\n",
    "        # get job_id\n",
    "        job_id = x.find('h2', attrs={\"class\": \"jobtitle\"})['id']\n",
    "        threeyear_ids.append(job_id)"
   ]
  },
  {
   "cell_type": "code",
   "execution_count": 95,
   "metadata": {
    "collapsed": true
   },
   "outputs": [],
   "source": [
    "threeyearjobs = pd.DataFrame(columns = ['job_id','years'])\n",
    "threeyearjobs['job_id'] = threeyear_ids\n",
    "for i, row in threeyearjobs.iterrows():\n",
    "    row.iloc[1] = 3"
   ]
  },
  {
   "cell_type": "code",
   "execution_count": 96,
   "metadata": {
    "collapsed": false
   },
   "outputs": [
    {
     "data": {
      "text/html": [
       "<div>\n",
       "<table border=\"1\" class=\"dataframe\">\n",
       "  <thead>\n",
       "    <tr style=\"text-align: right;\">\n",
       "      <th></th>\n",
       "      <th>job_id</th>\n",
       "      <th>years</th>\n",
       "    </tr>\n",
       "  </thead>\n",
       "  <tbody>\n",
       "    <tr>\n",
       "      <th>0</th>\n",
       "      <td>jl_5412ca93cf926717</td>\n",
       "      <td>3</td>\n",
       "    </tr>\n",
       "    <tr>\n",
       "      <th>1</th>\n",
       "      <td>jl_e2eed522ed417976</td>\n",
       "      <td>3</td>\n",
       "    </tr>\n",
       "    <tr>\n",
       "      <th>2</th>\n",
       "      <td>jl_cd31130ced70a129</td>\n",
       "      <td>3</td>\n",
       "    </tr>\n",
       "    <tr>\n",
       "      <th>3</th>\n",
       "      <td>jl_47b66fea7717490a</td>\n",
       "      <td>3</td>\n",
       "    </tr>\n",
       "    <tr>\n",
       "      <th>4</th>\n",
       "      <td>jl_522e72ad083c0286</td>\n",
       "      <td>3</td>\n",
       "    </tr>\n",
       "  </tbody>\n",
       "</table>\n",
       "</div>"
      ],
      "text/plain": [
       "                job_id years\n",
       "0  jl_5412ca93cf926717     3\n",
       "1  jl_e2eed522ed417976     3\n",
       "2  jl_cd31130ced70a129     3\n",
       "3  jl_47b66fea7717490a     3\n",
       "4  jl_522e72ad083c0286     3"
      ]
     },
     "execution_count": 96,
     "metadata": {},
     "output_type": "execute_result"
    }
   ],
   "source": [
    "threeyearjobs.head()"
   ]
  },
  {
   "cell_type": "code",
   "execution_count": 97,
   "metadata": {
    "collapsed": true
   },
   "outputs": [],
   "source": [
    "# get jobs with 4 years\n",
    "fouryear_ids = []\n",
    "for i in np.arange(0,470,10):\n",
    "    URL = \"https://www.indeed.com/jobs?q=data+science+%224+years%22+%2420%2C000%2B&l=Boston&fromage=7&radius=25&start={}\".format(str(i))\n",
    "    soup = BeautifulSoup(urlopen(URL).read(), 'html.parser')\n",
    "    results = soup.find_all('div', attrs={'data-tn-component': 'organicJob'})\n",
    "    for x in results:\n",
    "        # get job_id\n",
    "        job_id = x.find('h2', attrs={\"class\": \"jobtitle\"})['id']\n",
    "        fouryear_ids.append(job_id)"
   ]
  },
  {
   "cell_type": "code",
   "execution_count": 99,
   "metadata": {
    "collapsed": false
   },
   "outputs": [],
   "source": [
    "fouryearjobs = pd.DataFrame(columns = ['job_id','years'])\n",
    "fouryearjobs['job_id'] = fouryear_ids\n",
    "for i, row in fouryearjobs.iterrows():\n",
    "    row.iloc[1] = 4"
   ]
  },
  {
   "cell_type": "code",
   "execution_count": 101,
   "metadata": {
    "collapsed": false
   },
   "outputs": [],
   "source": [
    "#merge test jobs and oneyearjobs\n",
    "test_jobs = pd.merge(test_jobs,oneyearjobs, how = 'outer', on = 'job_id')"
   ]
  },
  {
   "cell_type": "code",
   "execution_count": 103,
   "metadata": {
    "collapsed": false
   },
   "outputs": [],
   "source": [
    "#merge test jobs and twoyearjobs\n",
    "test_jobs = pd.merge(test_jobs,twoyearjobs, how = 'outer', on = 'job_id')"
   ]
  },
  {
   "cell_type": "code",
   "execution_count": 104,
   "metadata": {
    "collapsed": true
   },
   "outputs": [],
   "source": [
    "#merge test jobs and threeyearjobs\n",
    "test_jobs = pd.merge(test_jobs,threeyearjobs, how = 'outer', on = 'job_id')"
   ]
  },
  {
   "cell_type": "code",
   "execution_count": 107,
   "metadata": {
    "collapsed": false
   },
   "outputs": [],
   "source": [
    "#merge test jobs and fouryearjobs\n",
    "test_jobs = pd.merge(test_jobs,fouryearjobs, how = 'outer', on = 'job_id')"
   ]
  },
  {
   "cell_type": "code",
   "execution_count": 108,
   "metadata": {
    "collapsed": false
   },
   "outputs": [
    {
     "data": {
      "text/html": [
       "<div>\n",
       "<table border=\"1\" class=\"dataframe\">\n",
       "  <thead>\n",
       "    <tr style=\"text-align: right;\">\n",
       "      <th></th>\n",
       "      <th>job_id</th>\n",
       "      <th>title</th>\n",
       "      <th>company</th>\n",
       "      <th>has_phd</th>\n",
       "      <th>has_python</th>\n",
       "      <th>over_90k</th>\n",
       "      <th>has_startup_y</th>\n",
       "      <th>years_x</th>\n",
       "      <th>years_y</th>\n",
       "      <th>years_x</th>\n",
       "      <th>years_y</th>\n",
       "    </tr>\n",
       "  </thead>\n",
       "  <tbody>\n",
       "    <tr>\n",
       "      <th>0</th>\n",
       "      <td>jl_ce0b88780585db5e</td>\n",
       "      <td>Quantitative Data Analyst Intern</td>\n",
       "      <td>NaN</td>\n",
       "      <td>0</td>\n",
       "      <td>1</td>\n",
       "      <td>0</td>\n",
       "      <td>1</td>\n",
       "      <td>NaN</td>\n",
       "      <td>NaN</td>\n",
       "      <td>NaN</td>\n",
       "      <td>NaN</td>\n",
       "    </tr>\n",
       "    <tr>\n",
       "      <th>1</th>\n",
       "      <td>jl_166b32fc833354f5</td>\n",
       "      <td>Research Coordinator - Friedman School of Nutr...</td>\n",
       "      <td>NaN</td>\n",
       "      <td>0</td>\n",
       "      <td>0</td>\n",
       "      <td>0</td>\n",
       "      <td>0</td>\n",
       "      <td>NaN</td>\n",
       "      <td>NaN</td>\n",
       "      <td>NaN</td>\n",
       "      <td>NaN</td>\n",
       "    </tr>\n",
       "    <tr>\n",
       "      <th>2</th>\n",
       "      <td>jl_df3319bfb55ad3cf</td>\n",
       "      <td>Principal Data Scientist (Boston)</td>\n",
       "      <td>NaN</td>\n",
       "      <td>1</td>\n",
       "      <td>1</td>\n",
       "      <td>1</td>\n",
       "      <td>0</td>\n",
       "      <td>NaN</td>\n",
       "      <td>NaN</td>\n",
       "      <td>NaN</td>\n",
       "      <td>NaN</td>\n",
       "    </tr>\n",
       "    <tr>\n",
       "      <th>3</th>\n",
       "      <td>jl_9a7d42c7e9942208</td>\n",
       "      <td>Data Scientist</td>\n",
       "      <td>NaN</td>\n",
       "      <td>0</td>\n",
       "      <td>1</td>\n",
       "      <td>1</td>\n",
       "      <td>1</td>\n",
       "      <td>NaN</td>\n",
       "      <td>NaN</td>\n",
       "      <td>NaN</td>\n",
       "      <td>NaN</td>\n",
       "    </tr>\n",
       "    <tr>\n",
       "      <th>4</th>\n",
       "      <td>jl_ee7e2f3d59a27997</td>\n",
       "      <td>Data Scientist II</td>\n",
       "      <td>NaN</td>\n",
       "      <td>0</td>\n",
       "      <td>0</td>\n",
       "      <td>0</td>\n",
       "      <td>0</td>\n",
       "      <td>NaN</td>\n",
       "      <td>NaN</td>\n",
       "      <td>NaN</td>\n",
       "      <td>NaN</td>\n",
       "    </tr>\n",
       "  </tbody>\n",
       "</table>\n",
       "</div>"
      ],
      "text/plain": [
       "                job_id                                              title  \\\n",
       "0  jl_ce0b88780585db5e                   Quantitative Data Analyst Intern   \n",
       "1  jl_166b32fc833354f5  Research Coordinator - Friedman School of Nutr...   \n",
       "2  jl_df3319bfb55ad3cf                  Principal Data Scientist (Boston)   \n",
       "3  jl_9a7d42c7e9942208                                     Data Scientist   \n",
       "4  jl_ee7e2f3d59a27997                                  Data Scientist II   \n",
       "\n",
       "  company has_phd has_python over_90k has_startup_y years_x years_y years_x  \\\n",
       "0     NaN       0          1        0             1     NaN     NaN     NaN   \n",
       "1     NaN       0          0        0             0     NaN     NaN     NaN   \n",
       "2     NaN       1          1        1             0     NaN     NaN     NaN   \n",
       "3     NaN       0          1        1             1     NaN     NaN     NaN   \n",
       "4     NaN       0          0        0             0     NaN     NaN     NaN   \n",
       "\n",
       "  years_y  \n",
       "0     NaN  \n",
       "1     NaN  \n",
       "2     NaN  \n",
       "3     NaN  \n",
       "4     NaN  "
      ]
     },
     "execution_count": 108,
     "metadata": {},
     "output_type": "execute_result"
    }
   ],
   "source": [
    "test_jobs.head()"
   ]
  },
  {
   "cell_type": "code",
   "execution_count": 110,
   "metadata": {
    "collapsed": false
   },
   "outputs": [],
   "source": [
    "# figure out which titles have scientist in them\n",
    "scientists = []\n",
    "for i, row in test_jobs.iterrows():\n",
    "    title = unicode(row[1])\n",
    "    if \"Scientist\" in title:\n",
    "        scientists.append(1)\n",
    "    else:\n",
    "        scientists.append(0)\n",
    "        \n",
    "test_jobs['scientist_title'] = scientists"
   ]
  },
  {
   "cell_type": "code",
   "execution_count": 112,
   "metadata": {
    "collapsed": false
   },
   "outputs": [],
   "source": [
    "# figure out which titles have analyst in them\n",
    "analysts = []\n",
    "for i, row in test_jobs.iterrows():\n",
    "    title = unicode(row[1])\n",
    "    if \"Analyst\" in title:\n",
    "        analysts.append(1)\n",
    "    else:\n",
    "        analysts.append(0)\n",
    "        \n",
    "test_jobs['analyst_title'] = analysts"
   ]
  },
  {
   "cell_type": "code",
   "execution_count": 114,
   "metadata": {
    "collapsed": false
   },
   "outputs": [
    {
     "data": {
      "text/plain": [
       "(214587, 13)"
      ]
     },
     "execution_count": 114,
     "metadata": {},
     "output_type": "execute_result"
    }
   ],
   "source": [
    "test_jobs.shape"
   ]
  },
  {
   "cell_type": "code",
   "execution_count": 115,
   "metadata": {
    "collapsed": true
   },
   "outputs": [],
   "source": [
    "test_jobs = test_jobs.drop_duplicates(subset = 'job_id')"
   ]
  },
  {
   "cell_type": "code",
   "execution_count": 116,
   "metadata": {
    "collapsed": false
   },
   "outputs": [
    {
     "data": {
      "text/plain": [
       "(412, 13)"
      ]
     },
     "execution_count": 116,
     "metadata": {},
     "output_type": "execute_result"
    }
   ],
   "source": [
    "test_jobs.shape"
   ]
  },
  {
   "cell_type": "code",
   "execution_count": 118,
   "metadata": {
    "collapsed": false
   },
   "outputs": [
    {
     "data": {
      "text/html": [
       "<div>\n",
       "<table border=\"1\" class=\"dataframe\">\n",
       "  <thead>\n",
       "    <tr style=\"text-align: right;\">\n",
       "      <th></th>\n",
       "      <th>job_id</th>\n",
       "      <th>title</th>\n",
       "      <th>company</th>\n",
       "      <th>has_phd</th>\n",
       "      <th>has_python</th>\n",
       "      <th>over_90k</th>\n",
       "      <th>has_startup_y</th>\n",
       "      <th>years_x</th>\n",
       "      <th>years_y</th>\n",
       "      <th>years_x</th>\n",
       "      <th>years_y</th>\n",
       "      <th>scientist_title</th>\n",
       "      <th>analyst_title</th>\n",
       "    </tr>\n",
       "  </thead>\n",
       "  <tbody>\n",
       "    <tr>\n",
       "      <th>0</th>\n",
       "      <td>jl_ce0b88780585db5e</td>\n",
       "      <td>Quantitative Data Analyst Intern</td>\n",
       "      <td>NaN</td>\n",
       "      <td>0</td>\n",
       "      <td>1</td>\n",
       "      <td>0</td>\n",
       "      <td>1</td>\n",
       "      <td>NaN</td>\n",
       "      <td>NaN</td>\n",
       "      <td>NaN</td>\n",
       "      <td>NaN</td>\n",
       "      <td>0</td>\n",
       "      <td>1</td>\n",
       "    </tr>\n",
       "    <tr>\n",
       "      <th>1</th>\n",
       "      <td>jl_166b32fc833354f5</td>\n",
       "      <td>Research Coordinator - Friedman School of Nutr...</td>\n",
       "      <td>NaN</td>\n",
       "      <td>0</td>\n",
       "      <td>0</td>\n",
       "      <td>0</td>\n",
       "      <td>0</td>\n",
       "      <td>NaN</td>\n",
       "      <td>NaN</td>\n",
       "      <td>NaN</td>\n",
       "      <td>NaN</td>\n",
       "      <td>0</td>\n",
       "      <td>0</td>\n",
       "    </tr>\n",
       "    <tr>\n",
       "      <th>2</th>\n",
       "      <td>jl_df3319bfb55ad3cf</td>\n",
       "      <td>Principal Data Scientist (Boston)</td>\n",
       "      <td>NaN</td>\n",
       "      <td>1</td>\n",
       "      <td>1</td>\n",
       "      <td>1</td>\n",
       "      <td>0</td>\n",
       "      <td>NaN</td>\n",
       "      <td>NaN</td>\n",
       "      <td>NaN</td>\n",
       "      <td>NaN</td>\n",
       "      <td>1</td>\n",
       "      <td>0</td>\n",
       "    </tr>\n",
       "    <tr>\n",
       "      <th>3</th>\n",
       "      <td>jl_9a7d42c7e9942208</td>\n",
       "      <td>Data Scientist</td>\n",
       "      <td>NaN</td>\n",
       "      <td>0</td>\n",
       "      <td>1</td>\n",
       "      <td>1</td>\n",
       "      <td>1</td>\n",
       "      <td>NaN</td>\n",
       "      <td>NaN</td>\n",
       "      <td>NaN</td>\n",
       "      <td>NaN</td>\n",
       "      <td>1</td>\n",
       "      <td>0</td>\n",
       "    </tr>\n",
       "    <tr>\n",
       "      <th>4</th>\n",
       "      <td>jl_ee7e2f3d59a27997</td>\n",
       "      <td>Data Scientist II</td>\n",
       "      <td>NaN</td>\n",
       "      <td>0</td>\n",
       "      <td>0</td>\n",
       "      <td>0</td>\n",
       "      <td>0</td>\n",
       "      <td>NaN</td>\n",
       "      <td>NaN</td>\n",
       "      <td>NaN</td>\n",
       "      <td>NaN</td>\n",
       "      <td>1</td>\n",
       "      <td>0</td>\n",
       "    </tr>\n",
       "  </tbody>\n",
       "</table>\n",
       "</div>"
      ],
      "text/plain": [
       "                job_id                                              title  \\\n",
       "0  jl_ce0b88780585db5e                   Quantitative Data Analyst Intern   \n",
       "1  jl_166b32fc833354f5  Research Coordinator - Friedman School of Nutr...   \n",
       "2  jl_df3319bfb55ad3cf                  Principal Data Scientist (Boston)   \n",
       "3  jl_9a7d42c7e9942208                                     Data Scientist   \n",
       "4  jl_ee7e2f3d59a27997                                  Data Scientist II   \n",
       "\n",
       "  company has_phd has_python over_90k has_startup_y years_x years_y years_x  \\\n",
       "0     NaN       0          1        0             1     NaN     NaN     NaN   \n",
       "1     NaN       0          0        0             0     NaN     NaN     NaN   \n",
       "2     NaN       1          1        1             0     NaN     NaN     NaN   \n",
       "3     NaN       0          1        1             1     NaN     NaN     NaN   \n",
       "4     NaN       0          0        0             0     NaN     NaN     NaN   \n",
       "\n",
       "  years_y  scientist_title  analyst_title  \n",
       "0     NaN                0              1  \n",
       "1     NaN                0              0  \n",
       "2     NaN                1              0  \n",
       "3     NaN                1              0  \n",
       "4     NaN                1              0  "
      ]
     },
     "execution_count": 118,
     "metadata": {},
     "output_type": "execute_result"
    }
   ],
   "source": [
    "test_jobs.head()"
   ]
  },
  {
   "cell_type": "code",
   "execution_count": 117,
   "metadata": {
    "collapsed": true
   },
   "outputs": [],
   "source": [
    "#export to csv\n",
    "test_jobs.to_csv('/Users/teresaborcuch/Desktop/test_jobs.csv', encoding = 'utf8')"
   ]
  },
  {
   "cell_type": "code",
   "execution_count": 124,
   "metadata": {
    "collapsed": true
   },
   "outputs": [],
   "source": [
    "# reupload fixed csv\n",
    "testjobs = pd.read_csv('/Users/teresaborcuch/Desktop/test_jobs.csv')"
   ]
  },
  {
   "cell_type": "code",
   "execution_count": 123,
   "metadata": {
    "collapsed": false
   },
   "outputs": [
    {
     "data": {
      "text/plain": [
       "Index([u'job_id', u'title', u'company', u'has_phd', u'has_python', u'over_90k',\n",
       "       u'has_startup_y', u'years_x', u'years_y', u'years_x', u'years_y',\n",
       "       u'scientist_title', u'analyst_title'],\n",
       "      dtype='object')"
      ]
     },
     "execution_count": 123,
     "metadata": {},
     "output_type": "execute_result"
    }
   ],
   "source": [
    "# fix all the years\n",
    "test_jobs.columns"
   ]
  },
  {
   "cell_type": "code",
   "execution_count": 126,
   "metadata": {
    "collapsed": false
   },
   "outputs": [],
   "source": [
    "del testjobs['Unnamed: 0']"
   ]
  },
  {
   "cell_type": "code",
   "execution_count": 127,
   "metadata": {
    "collapsed": false
   },
   "outputs": [
    {
     "data": {
      "text/html": [
       "<div>\n",
       "<table border=\"1\" class=\"dataframe\">\n",
       "  <thead>\n",
       "    <tr style=\"text-align: right;\">\n",
       "      <th></th>\n",
       "      <th>job_id</th>\n",
       "      <th>title</th>\n",
       "      <th>company</th>\n",
       "      <th>has_phd</th>\n",
       "      <th>has_python</th>\n",
       "      <th>over_90k</th>\n",
       "      <th>has_startup</th>\n",
       "      <th>years</th>\n",
       "      <th>twoyears</th>\n",
       "      <th>threeyears</th>\n",
       "      <th>fouryears</th>\n",
       "      <th>scientist_title</th>\n",
       "      <th>analyst_title</th>\n",
       "    </tr>\n",
       "  </thead>\n",
       "  <tbody>\n",
       "    <tr>\n",
       "      <th>0</th>\n",
       "      <td>jl_ce0b88780585db5e</td>\n",
       "      <td>Quantitative Data Analyst Intern</td>\n",
       "      <td>NaN</td>\n",
       "      <td>0.0</td>\n",
       "      <td>1.0</td>\n",
       "      <td>0.0</td>\n",
       "      <td>1.0</td>\n",
       "      <td>NaN</td>\n",
       "      <td>NaN</td>\n",
       "      <td>NaN</td>\n",
       "      <td>NaN</td>\n",
       "      <td>0</td>\n",
       "      <td>1</td>\n",
       "    </tr>\n",
       "    <tr>\n",
       "      <th>1</th>\n",
       "      <td>jl_166b32fc833354f5</td>\n",
       "      <td>Research Coordinator - Friedman School of Nutr...</td>\n",
       "      <td>NaN</td>\n",
       "      <td>0.0</td>\n",
       "      <td>0.0</td>\n",
       "      <td>0.0</td>\n",
       "      <td>0.0</td>\n",
       "      <td>NaN</td>\n",
       "      <td>NaN</td>\n",
       "      <td>NaN</td>\n",
       "      <td>NaN</td>\n",
       "      <td>0</td>\n",
       "      <td>0</td>\n",
       "    </tr>\n",
       "    <tr>\n",
       "      <th>2</th>\n",
       "      <td>jl_df3319bfb55ad3cf</td>\n",
       "      <td>Principal Data Scientist (Boston)</td>\n",
       "      <td>NaN</td>\n",
       "      <td>1.0</td>\n",
       "      <td>1.0</td>\n",
       "      <td>1.0</td>\n",
       "      <td>0.0</td>\n",
       "      <td>NaN</td>\n",
       "      <td>NaN</td>\n",
       "      <td>NaN</td>\n",
       "      <td>NaN</td>\n",
       "      <td>1</td>\n",
       "      <td>0</td>\n",
       "    </tr>\n",
       "    <tr>\n",
       "      <th>3</th>\n",
       "      <td>jl_9a7d42c7e9942208</td>\n",
       "      <td>Data Scientist</td>\n",
       "      <td>NaN</td>\n",
       "      <td>0.0</td>\n",
       "      <td>1.0</td>\n",
       "      <td>1.0</td>\n",
       "      <td>1.0</td>\n",
       "      <td>NaN</td>\n",
       "      <td>NaN</td>\n",
       "      <td>NaN</td>\n",
       "      <td>NaN</td>\n",
       "      <td>1</td>\n",
       "      <td>0</td>\n",
       "    </tr>\n",
       "    <tr>\n",
       "      <th>4</th>\n",
       "      <td>jl_ee7e2f3d59a27997</td>\n",
       "      <td>Data Scientist II</td>\n",
       "      <td>NaN</td>\n",
       "      <td>0.0</td>\n",
       "      <td>0.0</td>\n",
       "      <td>0.0</td>\n",
       "      <td>0.0</td>\n",
       "      <td>NaN</td>\n",
       "      <td>NaN</td>\n",
       "      <td>NaN</td>\n",
       "      <td>NaN</td>\n",
       "      <td>1</td>\n",
       "      <td>0</td>\n",
       "    </tr>\n",
       "  </tbody>\n",
       "</table>\n",
       "</div>"
      ],
      "text/plain": [
       "                job_id                                              title  \\\n",
       "0  jl_ce0b88780585db5e                   Quantitative Data Analyst Intern   \n",
       "1  jl_166b32fc833354f5  Research Coordinator - Friedman School of Nutr...   \n",
       "2  jl_df3319bfb55ad3cf                  Principal Data Scientist (Boston)   \n",
       "3  jl_9a7d42c7e9942208                                     Data Scientist   \n",
       "4  jl_ee7e2f3d59a27997                                  Data Scientist II   \n",
       "\n",
       "   company  has_phd  has_python  over_90k  has_startup  years  twoyears  \\\n",
       "0      NaN      0.0         1.0       0.0          1.0    NaN       NaN   \n",
       "1      NaN      0.0         0.0       0.0          0.0    NaN       NaN   \n",
       "2      NaN      1.0         1.0       1.0          0.0    NaN       NaN   \n",
       "3      NaN      0.0         1.0       1.0          1.0    NaN       NaN   \n",
       "4      NaN      0.0         0.0       0.0          0.0    NaN       NaN   \n",
       "\n",
       "   threeyears  fouryears  scientist_title  analyst_title  \n",
       "0         NaN        NaN                0              1  \n",
       "1         NaN        NaN                0              0  \n",
       "2         NaN        NaN                1              0  \n",
       "3         NaN        NaN                1              0  \n",
       "4         NaN        NaN                1              0  "
      ]
     },
     "execution_count": 127,
     "metadata": {},
     "output_type": "execute_result"
    }
   ],
   "source": [
    "testjobs.head()"
   ]
  },
  {
   "cell_type": "code",
   "execution_count": 128,
   "metadata": {
    "collapsed": true
   },
   "outputs": [],
   "source": [
    "testjobs['years'].fillna(testjobs['twoyears'], inplace=True)"
   ]
  },
  {
   "cell_type": "code",
   "execution_count": 132,
   "metadata": {
    "collapsed": false
   },
   "outputs": [],
   "source": [
    "del testjobs['twoyears']"
   ]
  },
  {
   "cell_type": "code",
   "execution_count": 133,
   "metadata": {
    "collapsed": true
   },
   "outputs": [],
   "source": [
    "testjobs['years'].fillna(testjobs['threeyears'], inplace=True)"
   ]
  },
  {
   "cell_type": "code",
   "execution_count": 134,
   "metadata": {
    "collapsed": true
   },
   "outputs": [],
   "source": [
    "del testjobs['threeyears']"
   ]
  },
  {
   "cell_type": "code",
   "execution_count": 135,
   "metadata": {
    "collapsed": true
   },
   "outputs": [],
   "source": [
    "testjobs['years'].fillna(testjobs['fouryears'], inplace=True)"
   ]
  },
  {
   "cell_type": "code",
   "execution_count": 136,
   "metadata": {
    "collapsed": true
   },
   "outputs": [],
   "source": [
    "del testjobs['fouryears']"
   ]
  },
  {
   "cell_type": "code",
   "execution_count": 137,
   "metadata": {
    "collapsed": true
   },
   "outputs": [],
   "source": [
    "testjobs['years'].fillna('0', inplace=True)"
   ]
  },
  {
   "cell_type": "code",
   "execution_count": 140,
   "metadata": {
    "collapsed": false
   },
   "outputs": [],
   "source": [
    "#export to csv\n",
    "testjobs.to_csv('/Users/teresaborcuch/Desktop/testjobs.csv')"
   ]
  },
  {
   "cell_type": "code",
   "execution_count": null,
   "metadata": {
    "collapsed": true
   },
   "outputs": [],
   "source": []
  }
 ],
 "metadata": {
  "kernelspec": {
   "display_name": "Python [default]",
   "language": "python",
   "name": "python2"
  },
  "language_info": {
   "codemirror_mode": {
    "name": "ipython",
    "version": 2
   },
   "file_extension": ".py",
   "mimetype": "text/x-python",
   "name": "python",
   "nbconvert_exporter": "python",
   "pygments_lexer": "ipython2",
   "version": "2.7.12"
  }
 },
 "nbformat": 4,
 "nbformat_minor": 1
}
