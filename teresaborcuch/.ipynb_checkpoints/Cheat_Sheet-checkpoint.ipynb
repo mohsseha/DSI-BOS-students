{
 "cells": [
  {
   "cell_type": "code",
   "execution_count": 120,
   "metadata": {
    "collapsed": false
   },
   "outputs": [],
   "source": [
    "import pandas as pd\n",
    "pd.options.display.max_colwidth\n",
    "pd.set_option('display.max_colwidth', 200)"
   ]
  },
  {
   "cell_type": "code",
   "execution_count": 121,
   "metadata": {
    "collapsed": false
   },
   "outputs": [],
   "source": [
    "cheatsheet = pd.DataFrame(columns = ['function', 'description'])"
   ]
  },
  {
   "cell_type": "code",
   "execution_count": 122,
   "metadata": {
    "collapsed": false
   },
   "outputs": [],
   "source": [
    "functions = ['.read_csv()', '.drop()', '.describe()', '.split()','.unique()',\n",
    "             '.dropna()','.sort_values()','.iterrows()','.format()']\n",
    "descriptions = ['takes in a csv from file or url and turns it into a dataframe', \n",
    "                'removes row/col from df (axis = 0 or 1)',\n",
    "                'provides descriptive stats for df', \n",
    "                'splits the contents of a cell on the specified character into a list',\n",
    "                'displays all unique values in a col',\n",
    "                'drops all rows with NaN',\n",
    "               'sorts data frame on specified col\\'s either ascending or descending',\n",
    "               'loops over rows e.g. \\'for index, rows in df.iterrows():\\'',\n",
    "                '\\'my string { }\\'.format(thing i want in brackets)']\n",
    "functions.append(\".fillna('filler')\")\n",
    "descriptions.append('replaces NaNs with your specified filler')\n",
    "functions.append('sklearn.model_selection.cross_val_score')\n",
    "descriptions.append('evaluates a model for a df, use scoring = \"mean_squared_error\" (default returns r-sq)')\n",
    "functions.append('sklearn.preprocessing.StandardScaler')\n",
    "descriptions.append('creates a scaler object, then use my_scaler.fit_transform(my_df) to scale your df')\n",
    "functions.append('sklearn.preprocessing.cross_val_predict')\n",
    "descriptions.append('takes a model, X, y and uses cv to predict new y')\n",
    "functions.append('sklearn.neighbors.KNeighborsClassifier')\n",
    "descriptions.append('creates a classifier with specified # neighbors, then use .fit(X,y)')"
   ]
  },
  {
   "cell_type": "code",
   "execution_count": 123,
   "metadata": {
    "collapsed": false
   },
   "outputs": [],
   "source": [
    "functions.append('.value_counts')\n",
    "descriptions.append('returns the counts of each entry in a pandas series or df column')"
   ]
  },
  {
   "cell_type": "code",
   "execution_count": 124,
   "metadata": {
    "collapsed": false
   },
   "outputs": [],
   "source": [
    "functions.append('.rename')\n",
    "descriptions.append('my_df.rename takes a dictionary w/ old names as keys, new names as values')"
   ]
  },
  {
   "cell_type": "code",
   "execution_count": 125,
   "metadata": {
    "collapsed": true
   },
   "outputs": [],
   "source": [
    "functions.append('.groupby()')\n",
    "descriptions.append(\"ex: my_df.groupby(['col1'])['col2'].mean() - this gives you all the categories in col 1 and their means of the values of col2\")"
   ]
  },
  {
   "cell_type": "code",
   "execution_count": null,
   "metadata": {
    "collapsed": true
   },
   "outputs": [],
   "source": []
  },
  {
   "cell_type": "code",
   "execution_count": null,
   "metadata": {
    "collapsed": true
   },
   "outputs": [],
   "source": []
  },
  {
   "cell_type": "code",
   "execution_count": 126,
   "metadata": {
    "collapsed": false
   },
   "outputs": [],
   "source": [
    "cheatsheet['function'] = functions\n",
    "cheatsheet['description'] = descriptions"
   ]
  },
  {
   "cell_type": "code",
   "execution_count": 127,
   "metadata": {
    "collapsed": false
   },
   "outputs": [
    {
     "data": {
      "text/html": [
       "<div>\n",
       "<table border=\"1\" class=\"dataframe\">\n",
       "  <thead>\n",
       "    <tr style=\"text-align: right;\">\n",
       "      <th></th>\n",
       "      <th>function</th>\n",
       "      <th>description</th>\n",
       "    </tr>\n",
       "  </thead>\n",
       "  <tbody>\n",
       "    <tr>\n",
       "      <th>0</th>\n",
       "      <td>.read_csv()</td>\n",
       "      <td>takes in a csv from file or url and turns it into a dataframe</td>\n",
       "    </tr>\n",
       "    <tr>\n",
       "      <th>1</th>\n",
       "      <td>.drop()</td>\n",
       "      <td>removes row/col from df (axis = 0 or 1)</td>\n",
       "    </tr>\n",
       "    <tr>\n",
       "      <th>2</th>\n",
       "      <td>.describe()</td>\n",
       "      <td>provides descriptive stats for df</td>\n",
       "    </tr>\n",
       "    <tr>\n",
       "      <th>3</th>\n",
       "      <td>.split()</td>\n",
       "      <td>splits the contents of a cell on the specified character into a list</td>\n",
       "    </tr>\n",
       "    <tr>\n",
       "      <th>4</th>\n",
       "      <td>.unique()</td>\n",
       "      <td>displays all unique values in a col</td>\n",
       "    </tr>\n",
       "    <tr>\n",
       "      <th>5</th>\n",
       "      <td>.dropna()</td>\n",
       "      <td>drops all rows with NaN</td>\n",
       "    </tr>\n",
       "    <tr>\n",
       "      <th>6</th>\n",
       "      <td>.sort_values()</td>\n",
       "      <td>sorts data frame on specified col's either ascending or descending</td>\n",
       "    </tr>\n",
       "    <tr>\n",
       "      <th>7</th>\n",
       "      <td>.iterrows()</td>\n",
       "      <td>loops over rows e.g. 'for index, rows in df.iterrows():'</td>\n",
       "    </tr>\n",
       "    <tr>\n",
       "      <th>8</th>\n",
       "      <td>.format()</td>\n",
       "      <td>'my string { }'.format(thing i want in brackets)</td>\n",
       "    </tr>\n",
       "    <tr>\n",
       "      <th>9</th>\n",
       "      <td>.fillna('filler')</td>\n",
       "      <td>replaces NaNs with your specified filler</td>\n",
       "    </tr>\n",
       "    <tr>\n",
       "      <th>10</th>\n",
       "      <td>sklearn.model_selection.cross_val_score</td>\n",
       "      <td>evaluates a model for a df, use scoring = \"mean_squared_error\" (default returns r-sq)</td>\n",
       "    </tr>\n",
       "    <tr>\n",
       "      <th>11</th>\n",
       "      <td>sklearn.preprocessing.StandardScaler</td>\n",
       "      <td>creates a scaler object, then use my_scaler.fit_transform(my_df) to scale your df</td>\n",
       "    </tr>\n",
       "    <tr>\n",
       "      <th>12</th>\n",
       "      <td>sklearn.preprocessing.cross_val_predict</td>\n",
       "      <td>takes a model, X, y and uses cv to predict new y</td>\n",
       "    </tr>\n",
       "    <tr>\n",
       "      <th>13</th>\n",
       "      <td>sklearn.neighbors.KNeighborsClassifier</td>\n",
       "      <td>creates a classifier with specified # neighbors, then use .fit(X,y)</td>\n",
       "    </tr>\n",
       "    <tr>\n",
       "      <th>14</th>\n",
       "      <td>.value_counts</td>\n",
       "      <td>returns the counts of each entry in a pandas series or df column</td>\n",
       "    </tr>\n",
       "    <tr>\n",
       "      <th>15</th>\n",
       "      <td>.rename</td>\n",
       "      <td>my_df.rename takes a dictionary w/ old names as keys, new names as values</td>\n",
       "    </tr>\n",
       "    <tr>\n",
       "      <th>16</th>\n",
       "      <td>.groupby()</td>\n",
       "      <td>ex: my_df.groupby(['col1'])['col2'].mean() - this gives you all the categories in col 1 and their means of the values of col2</td>\n",
       "    </tr>\n",
       "  </tbody>\n",
       "</table>\n",
       "</div>"
      ],
      "text/plain": [
       "                                   function  \\\n",
       "0                               .read_csv()   \n",
       "1                                   .drop()   \n",
       "2                               .describe()   \n",
       "3                                  .split()   \n",
       "4                                 .unique()   \n",
       "5                                 .dropna()   \n",
       "6                            .sort_values()   \n",
       "7                               .iterrows()   \n",
       "8                                 .format()   \n",
       "9                         .fillna('filler')   \n",
       "10  sklearn.model_selection.cross_val_score   \n",
       "11     sklearn.preprocessing.StandardScaler   \n",
       "12  sklearn.preprocessing.cross_val_predict   \n",
       "13   sklearn.neighbors.KNeighborsClassifier   \n",
       "14                            .value_counts   \n",
       "15                                  .rename   \n",
       "16                               .groupby()   \n",
       "\n",
       "                                                                                                                      description  \n",
       "0                                                                   takes in a csv from file or url and turns it into a dataframe  \n",
       "1                                                                                         removes row/col from df (axis = 0 or 1)  \n",
       "2                                                                                               provides descriptive stats for df  \n",
       "3                                                            splits the contents of a cell on the specified character into a list  \n",
       "4                                                                                             displays all unique values in a col  \n",
       "5                                                                                                         drops all rows with NaN  \n",
       "6                                                              sorts data frame on specified col's either ascending or descending  \n",
       "7                                                                        loops over rows e.g. 'for index, rows in df.iterrows():'  \n",
       "8                                                                                'my string { }'.format(thing i want in brackets)  \n",
       "9                                                                                        replaces NaNs with your specified filler  \n",
       "10                                          evaluates a model for a df, use scoring = \"mean_squared_error\" (default returns r-sq)  \n",
       "11                                              creates a scaler object, then use my_scaler.fit_transform(my_df) to scale your df  \n",
       "12                                                                               takes a model, X, y and uses cv to predict new y  \n",
       "13                                                            creates a classifier with specified # neighbors, then use .fit(X,y)  \n",
       "14                                                               returns the counts of each entry in a pandas series or df column  \n",
       "15                                                      my_df.rename takes a dictionary w/ old names as keys, new names as values  \n",
       "16  ex: my_df.groupby(['col1'])['col2'].mean() - this gives you all the categories in col 1 and their means of the values of col2  "
      ]
     },
     "execution_count": 127,
     "metadata": {},
     "output_type": "execute_result"
    }
   ],
   "source": [
    "cheatsheet"
   ]
  },
  {
   "cell_type": "code",
   "execution_count": null,
   "metadata": {
    "collapsed": true
   },
   "outputs": [],
   "source": []
  }
 ],
 "metadata": {
  "anaconda-cloud": {},
  "kernelspec": {
   "display_name": "Python [default]",
   "language": "python",
   "name": "python2"
  },
  "language_info": {
   "codemirror_mode": {
    "name": "ipython",
    "version": 2
   },
   "file_extension": ".py",
   "mimetype": "text/x-python",
   "name": "python",
   "nbconvert_exporter": "python",
   "pygments_lexer": "ipython2",
   "version": "2.7.12"
  }
 },
 "nbformat": 4,
 "nbformat_minor": 1
}
