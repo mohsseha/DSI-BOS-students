{
 "cells": [
  {
   "cell_type": "markdown",
   "metadata": {},
   "source": [
    "Write 2 functions:\n",
    "\n",
    "- string to int for Roman numericals, takes in a rn (ex: \"III\") and returns 3\n",
    "- int to string, takes in 3 and returns \"III\"\n",
    "\n",
    "** integers are in the range 1 to 1000"
   ]
  },
  {
   "cell_type": "code",
   "execution_count": 55,
   "metadata": {
    "collapsed": false
   },
   "outputs": [],
   "source": [
    "# function that converts a roman numeral to integer\n",
    "def evaluate_rn(rn):\n",
    "    total = 0\n",
    "    count = 0\n",
    "    rn = rn + 'o'\n",
    "    char_values = {'I': 1, \"V\": 5, \"X\": 10, \"C\": 100, \"L\": 50, \"D\": 500, \"M\":1000, 'o': 0}\n",
    "    for n in rn:\n",
    "        if count == len(rn)-1:\n",
    "            break\n",
    "        if char_values[n] < char_values[rn[count + 1]]:\n",
    "            total = total - char_values[n]\n",
    "            count = count +1\n",
    "        else:\n",
    "            total = total + char_values[n]\n",
    "            count = count + 1\n",
    "    return total"
   ]
  },
  {
   "cell_type": "code",
   "execution_count": 2,
   "metadata": {
    "collapsed": false
   },
   "outputs": [
    {
     "data": {
      "text/plain": [
       "8"
      ]
     },
     "execution_count": 2,
     "metadata": {},
     "output_type": "execute_result"
    }
   ],
   "source": [
    "evaluate_rn(\"VIII\")"
   ]
  },
  {
   "cell_type": "code",
   "execution_count": 48,
   "metadata": {
    "collapsed": false
   },
   "outputs": [],
   "source": [
    "# make fn that converts integer to rn\n",
    "from collections import OrderedDict\n",
    "def make_rn(num):\n",
    "    # define all the numbers that aren't repetitions of a character (1, 4, 5, 9, 10 and their multiples)\n",
    "    roman_dict = OrderedDict([(1000, \"M\"), (900, \"CM\"), (500, \"D\"), (400, \"CD\"), (100, \"C\"), (90, \"XC\"), \n",
    "        (50, \"L\"), (40, \"XL\"), (10, \"X\"), (9, \"IX\"), (5, \"V\"), (4, \"IV\"), (1, \"I\")])\n",
    "    \n",
    "    # make list to hold translated numerals and track where you are in the dictionary\n",
    "    rn_list = []\n",
    "    keys = []\n",
    "    \n",
    "    for key in roman_dict.keys():\n",
    "        # go down the dictionary until your number is bigger than the key\n",
    "        if key > num: \n",
    "            continue\n",
    "        \n",
    "        # get the multiple for the largest place (100's, 10's, etc)\n",
    "        quotient = num/key\n",
    "        #print \"quotient: \", quotient\n",
    "        \n",
    "        # assign its numeral from the dictionary and add to list\n",
    "        numeral = quotient * roman_dict[key]\n",
    "        #print numeral\n",
    "        rn_list.append(numeral)\n",
    "        \n",
    "        # add the key times the multiple to its list for tracking\n",
    "        keys.append(key * quotient)\n",
    "        #print \"key: \", key\n",
    "        \n",
    "       \n",
    "        # make the remainder your new number and start again\n",
    "        #num = num -(key * quotient)\n",
    "        num = num%key\n",
    "        #print \"new num: \", num\n",
    "        rn = ''.join(rn_list)\n",
    "        \n",
    "         # if the tracked total = your number, end the loop\n",
    "        if sum(keys) == num:\n",
    "            break\n",
    "       \n",
    "        #print rn_list\n",
    "        #print keys, '\\n'\n",
    "        #print \"Next number\"    \n",
    "    return rn"
   ]
  },
  {
   "cell_type": "code",
   "execution_count": 51,
   "metadata": {
    "collapsed": false
   },
   "outputs": [],
   "source": [
    "# testing\n",
    "# turn all integers to roman numerals\n",
    "roman_nums = []\n",
    "for x in (range(1,1001)):\n",
    "    roman_nums.append(make_rn(x))\n",
    "    "
   ]
  },
  {
   "cell_type": "code",
   "execution_count": 56,
   "metadata": {
    "collapsed": false
   },
   "outputs": [],
   "source": [
    "# feed those roman numerals into evaluate_rn function and make them back to numbers\n",
    "numbers = []\n",
    "for x in roman_nums:\n",
    "    numbers.append(evaluate_rn(x))"
   ]
  },
  {
   "cell_type": "code",
   "execution_count": 57,
   "metadata": {
    "collapsed": false
   },
   "outputs": [
    {
     "data": {
      "text/plain": [
       "True"
      ]
     },
     "execution_count": 57,
     "metadata": {},
     "output_type": "execute_result"
    }
   ],
   "source": [
    "# do the numbers equal the range?\n",
    "# Yes!\n",
    "numbers == range(1,1001)"
   ]
  },
  {
   "cell_type": "code",
   "execution_count": 118,
   "metadata": {
    "collapsed": false
   },
   "outputs": [
    {
     "data": {
      "text/plain": [
       "1"
      ]
     },
     "execution_count": 118,
     "metadata": {},
     "output_type": "execute_result"
    }
   ],
   "source": [
    "\n",
    "# if len(num) - num.index(n) = 1, then it's the ones place\n",
    "# if len(num) - num.index(n) = 2, then it's the tens place\n",
    "# if len(num) - num.index(n) = 3, then it's the 100's place\n",
    "# if len(num) - num.index(n) = 4, it's the 1000's place\n",
    "\n",
    "#def get_multiplier(n, num):\n",
    "    #num = str(num)\n",
    "    #n = str(n)\n",
    "    #if len(num) - int(num.index(n)) == 1:\n",
    "        #multiplier = 1\n",
    "    #elif len(num) - int(num.index(n)) == 2:\n",
    "        #multiplier = 10\n",
    "    #elif len(num) - int(num.index(n)) == 3:\n",
    "        #multiplier = 100\n",
    "    #else:\n",
    "        #multiplier = 1000\n",
    "    #return multiplier\n",
    "\n",
    "#get_multiplier(1, 2501)"
   ]
  }
 ],
 "metadata": {
  "anaconda-cloud": {},
  "kernelspec": {
   "display_name": "Python [default]",
   "language": "python",
   "name": "python2"
  },
  "language_info": {
   "codemirror_mode": {
    "name": "ipython",
    "version": 2
   },
   "file_extension": ".py",
   "mimetype": "text/x-python",
   "name": "python",
   "nbconvert_exporter": "python",
   "pygments_lexer": "ipython2",
   "version": "2.7.12"
  }
 },
 "nbformat": 4,
 "nbformat_minor": 1
}
