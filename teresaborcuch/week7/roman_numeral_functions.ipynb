{
 "cells": [
  {
   "cell_type": "markdown",
   "metadata": {},
   "source": [
    "Write 2 functions:\n",
    "\n",
    "- string to int for Roman numericals, takes in a rn (ex: \"III\") and returns 3\n",
    "- int to string, takes in 3 and returns \"III\"\n",
    "\n",
    "** integers are in the range 1 to 1000"
   ]
  },
  {
   "cell_type": "code",
   "execution_count": 156,
   "metadata": {
    "collapsed": false
   },
   "outputs": [],
   "source": [
    "def evaluate_rn(rn):\n",
    "    values = []\n",
    "    rn = rn +'o'\n",
    "    char_values = {'I': 1, \"V\": 5, \"X\": 10, \"C\": 100, \"L\": 50, \"D\": 500, \"o\": 0}\n",
    "    for n in range(0, len(rn)-1):\n",
    "        if char_values[rn[n]] <= char_values[rn[n+1]]:\n",
    "            value = -1 * char_values[rn[n]]\n",
    "            values.append(value)\n",
    "        elif n == max(range(0, len(rn))):\n",
    "            value = char_values[rn[n]]\n",
    "            values.append(value)\n",
    "        else:\n",
    "            value = char_values[rn[n]]\n",
    "            values.append(value)\n",
    "    return values\n",
    "\n",
    "# make running sum, if running sum is less than the value of the next character, negate it"
   ]
  },
  {
   "cell_type": "code",
   "execution_count": null,
   "metadata": {
    "collapsed": true
   },
   "outputs": [],
   "source": [
    "def evaluate_rn(rn):\n",
    "    values = 0\n",
    "    rn = rn +'o'\n",
    "    char_values = {'I': 1, \"V\": 5, \"X\": 10, \"C\": 100, \"L\": 50, \"D\": 500, \"o\": 0}\n",
    "    for n in range(0, len(rn)-1):\n",
    "        running_sum = char_values[rn[n]]\n",
    "        \n",
    "        \n",
    "        \n",
    "        \n",
    "        if char_values[rn[n]] <= char_values[rn[n+1]]:\n",
    "            value = -1 * char_values[rn[n]]\n",
    "            values.append(value)\n",
    "        elif n == max(range(0, len(rn))):\n",
    "            value = char_values[rn[n]]\n",
    "            values.append(value)\n",
    "        else:\n",
    "            value = char_values[rn[n]]\n",
    "            values.append(value)\n",
    "    return values"
   ]
  },
  {
   "cell_type": "code",
   "execution_count": 157,
   "metadata": {
    "collapsed": false
   },
   "outputs": [
    {
     "data": {
      "text/plain": [
       "[-100, -100, 100]"
      ]
     },
     "execution_count": 157,
     "metadata": {},
     "output_type": "execute_result"
    }
   ],
   "source": [
    "evaluate_rn(\"CCC\")"
   ]
  },
  {
   "cell_type": "code",
   "execution_count": 7,
   "metadata": {
    "collapsed": true
   },
   "outputs": [],
   "source": [
    "def string_to_int(rn):\n",
    "    value = 0\n",
    "    \n",
    "    \n",
    "    i_count = rn.count(\"I\")\n",
    "    v_count = rn.count(\"V\")\n",
    "    c_count = rn.count(\"C\")\n",
    "    x_count = rn.count(\"X\")\n",
    "    l_count = rn.count(\"L\")\n",
    "    d_count = rn.count(\"D\")\n",
    "    if \n",
    "    \n",
    "    value = i_count + 5*v_count + 100*c_count + 10*x_count + 50*l_count + 500 * d_count\n",
    "    return value"
   ]
  },
  {
   "cell_type": "code",
   "execution_count": 8,
   "metadata": {
    "collapsed": false
   },
   "outputs": [
    {
     "data": {
      "text/plain": [
       "550"
      ]
     },
     "execution_count": 8,
     "metadata": {},
     "output_type": "execute_result"
    }
   ],
   "source": [
    "string_to_int(\"LD\")"
   ]
  },
  {
   "cell_type": "code",
   "execution_count": 97,
   "metadata": {
    "collapsed": false
   },
   "outputs": [],
   "source": [
    "rn = \"CIX\"\n",
    "values = []\n",
    "char_values = {'I': 1, \"V\": 5, \"X\": 10, \"C\": 100, \"L\": 50, \"D\": 500}\n",
    "for i in rn:\n",
    "    value = char_values[i]*rn.count(i)\n",
    "    values.append(value)\n",
    "\n",
    "for v in values:\n",
    "    if v < values(v+1)"
   ]
  },
  {
   "cell_type": "code",
   "execution_count": 122,
   "metadata": {
    "collapsed": false
   },
   "outputs": [
    {
     "data": {
      "text/plain": [
       "[-1, 10]"
      ]
     },
     "execution_count": 122,
     "metadata": {},
     "output_type": "execute_result"
    }
   ],
   "source": [
    "values"
   ]
  },
  {
   "cell_type": "code",
   "execution_count": 94,
   "metadata": {
    "collapsed": false
   },
   "outputs": [
    {
     "data": {
      "text/plain": [
       "2"
      ]
     },
     "execution_count": 94,
     "metadata": {},
     "output_type": "execute_result"
    }
   ],
   "source": [
    "max(range(0, len(rn_list)))"
   ]
  },
  {
   "cell_type": "code",
   "execution_count": 111,
   "metadata": {
    "collapsed": false
   },
   "outputs": [
    {
     "name": "stdout",
     "output_type": "stream",
     "text": [
      "[1, 10, 100]\n"
     ]
    }
   ],
   "source": [
    "values = [100,1,10]\n",
    "sorted_values = sorted(values)\n",
    "#[1,10,100]\n",
    "for v in range(0,len(values)):\n",
    "    if values[v] < sorted_values[v]:\n",
    "        values[v] = values[v] * -1"
   ]
  },
  {
   "cell_type": "code",
   "execution_count": 124,
   "metadata": {
    "collapsed": false
   },
   "outputs": [],
   "source": [
    "rn = \"CIX\" + 'o'"
   ]
  }
 ],
 "metadata": {
  "anaconda-cloud": {},
  "kernelspec": {
   "display_name": "Python [default]",
   "language": "python",
   "name": "python2"
  },
  "language_info": {
   "codemirror_mode": {
    "name": "ipython",
    "version": 2
   },
   "file_extension": ".py",
   "mimetype": "text/x-python",
   "name": "python",
   "nbconvert_exporter": "python",
   "pygments_lexer": "ipython2",
   "version": "2.7.12"
  }
 },
 "nbformat": 4,
 "nbformat_minor": 1
}
