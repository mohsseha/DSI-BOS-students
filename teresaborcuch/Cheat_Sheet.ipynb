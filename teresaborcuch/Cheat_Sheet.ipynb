{
 "cells": [
  {
   "cell_type": "code",
   "execution_count": 204,
   "metadata": {
    "collapsed": false
   },
   "outputs": [],
   "source": [
    "import pandas as pd\n",
    "pd.options.display.max_colwidth\n",
    "pd.set_option('display.max_colwidth', 200)"
   ]
  },
  {
   "cell_type": "code",
   "execution_count": 205,
   "metadata": {
    "collapsed": false
   },
   "outputs": [],
   "source": [
    "cheatsheet = pd.DataFrame(columns = ['function', 'description'])"
   ]
  },
  {
   "cell_type": "code",
   "execution_count": 206,
   "metadata": {
    "collapsed": false
   },
   "outputs": [],
   "source": [
    "functions = ['.read_csv()', '.drop()', '.describe()', '.split()','.unique()',\n",
    "             '.dropna()','.sort_values()','.iterrows()',,'.format()']\n",
    "descriptions = ['takes in a csv from file or url and turns it into a dataframe', \n",
    "                'removes row/col from df (axis = 0 or 1)',\n",
    "                'provides descriptive stats for df', \n",
    "                'splits the contents of a cell on the specified character into a list',\n",
    "                'displays all unique values in a col',\n",
    "                'drops all rows with NaN',\n",
    "               'sorts data frame on specified col\\'s either ascending or descending',\n",
    "               'loops over rows e.g. \\'for index, rows in df.iterrows():\\'',\n",
    "                '\\'my string { }\\'.format(thing i want in brackets)']"
   ]
  },
  {
   "cell_type": "code",
   "execution_count": 207,
   "metadata": {
    "collapsed": false
   },
   "outputs": [],
   "source": [
    "cheatsheet['function'] = functions\n",
    "cheatsheet['description'] = descriptions"
   ]
  },
  {
   "cell_type": "code",
   "execution_count": 208,
   "metadata": {
    "collapsed": false
   },
   "outputs": [
    {
     "data": {
      "text/html": [
       "<div>\n",
       "<table border=\"1\" class=\"dataframe\">\n",
       "  <thead>\n",
       "    <tr style=\"text-align: right;\">\n",
       "      <th></th>\n",
       "      <th>function</th>\n",
       "      <th>description</th>\n",
       "    </tr>\n",
       "  </thead>\n",
       "  <tbody>\n",
       "    <tr>\n",
       "      <th>11</th>\n",
       "      <td>.count()</td>\n",
       "      <td></td>\n",
       "    </tr>\n",
       "    <tr>\n",
       "      <th>2</th>\n",
       "      <td>.describe()</td>\n",
       "      <td>provides descriptive stats for df</td>\n",
       "    </tr>\n",
       "    <tr>\n",
       "      <th>1</th>\n",
       "      <td>.drop()</td>\n",
       "      <td>removes row/col from df (axis = 0 or 1)</td>\n",
       "    </tr>\n",
       "    <tr>\n",
       "      <th>5</th>\n",
       "      <td>.dropna()</td>\n",
       "      <td>drops all rows with NaN</td>\n",
       "    </tr>\n",
       "    <tr>\n",
       "      <th>9</th>\n",
       "      <td>.format()</td>\n",
       "      <td>'my string { }'.format(thing i want in brackets)</td>\n",
       "    </tr>\n",
       "    <tr>\n",
       "      <th>8</th>\n",
       "      <td>.has()</td>\n",
       "      <td></td>\n",
       "    </tr>\n",
       "    <tr>\n",
       "      <th>7</th>\n",
       "      <td>.iterrows()</td>\n",
       "      <td>loops over rows e.g. 'for index, rows in df.iterrows():'</td>\n",
       "    </tr>\n",
       "    <tr>\n",
       "      <th>10</th>\n",
       "      <td>.melt()</td>\n",
       "      <td></td>\n",
       "    </tr>\n",
       "    <tr>\n",
       "      <th>0</th>\n",
       "      <td>.read_csv()</td>\n",
       "      <td>takes in a csv from file or url and turns it into a dataframe</td>\n",
       "    </tr>\n",
       "    <tr>\n",
       "      <th>6</th>\n",
       "      <td>.sort_values()</td>\n",
       "      <td>sorts data frame on specified col's either ascending or descending</td>\n",
       "    </tr>\n",
       "    <tr>\n",
       "      <th>3</th>\n",
       "      <td>.split()</td>\n",
       "      <td>splits the contents of a cell on the specified character into a list</td>\n",
       "    </tr>\n",
       "    <tr>\n",
       "      <th>4</th>\n",
       "      <td>.unique()</td>\n",
       "      <td>displays all unique values in a col</td>\n",
       "    </tr>\n",
       "  </tbody>\n",
       "</table>\n",
       "</div>"
      ],
      "text/plain": [
       "          function  \\\n",
       "11        .count()   \n",
       "2      .describe()   \n",
       "1          .drop()   \n",
       "5        .dropna()   \n",
       "9        .format()   \n",
       "8           .has()   \n",
       "7      .iterrows()   \n",
       "10         .melt()   \n",
       "0      .read_csv()   \n",
       "6   .sort_values()   \n",
       "3         .split()   \n",
       "4        .unique()   \n",
       "\n",
       "                                                             description  \n",
       "11                                                                        \n",
       "2                                      provides descriptive stats for df  \n",
       "1                                removes row/col from df (axis = 0 or 1)  \n",
       "5                                                drops all rows with NaN  \n",
       "9                       'my string { }'.format(thing i want in brackets)  \n",
       "8                                                                         \n",
       "7               loops over rows e.g. 'for index, rows in df.iterrows():'  \n",
       "10                                                                        \n",
       "0          takes in a csv from file or url and turns it into a dataframe  \n",
       "6     sorts data frame on specified col's either ascending or descending  \n",
       "3   splits the contents of a cell on the specified character into a list  \n",
       "4                                    displays all unique values in a col  "
      ]
     },
     "execution_count": 208,
     "metadata": {},
     "output_type": "execute_result"
    }
   ],
   "source": [
    "cheatsheet.sort_values('function', ascending = True)"
   ]
  },
  {
   "cell_type": "code",
   "execution_count": null,
   "metadata": {
    "collapsed": true
   },
   "outputs": [],
   "source": []
  }
 ],
 "metadata": {
  "anaconda-cloud": {},
  "kernelspec": {
   "display_name": "Python [default]",
   "language": "python",
   "name": "python2"
  },
  "language_info": {
   "codemirror_mode": {
    "name": "ipython",
    "version": 2
   },
   "file_extension": ".py",
   "mimetype": "text/x-python",
   "name": "python",
   "nbconvert_exporter": "python",
   "pygments_lexer": "ipython2",
   "version": "2.7.12"
  }
 },
 "nbformat": 4,
 "nbformat_minor": 1
}
