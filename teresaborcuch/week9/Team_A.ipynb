{
 "cells": [
  {
   "cell_type": "code",
   "execution_count": 87,
   "metadata": {
    "collapsed": true
   },
   "outputs": [],
   "source": [
    "import pandas as pd\n",
    "import numpy as np\n",
    "from sklearn.linear_model import LinearRegression, LassoCV"
   ]
  },
  {
   "cell_type": "code",
   "execution_count": 126,
   "metadata": {
    "collapsed": false
   },
   "outputs": [],
   "source": [
    "class TeamA_Predictor():\n",
    "    # stocks is a list of stocks to look up\n",
    "    # investment is starting dollar amount\n",
    "    def __init__(self):\n",
    "        self.training_tickers = [\"TMO\",\"AMZN\",\"AAPL\",\"GM\",\"IBM\",\"TWTR\",\"CBS\",\"TM\",\"BIO\"]\n",
    "        self.train_data = pd.concat([self.get_data(stock) for stock in self.training_tickers])\n",
    "        self.X = self.train_data[['x_0','x_1','x_2']]\n",
    "        self.y = self.train_data['y']\n",
    "        self.model = LassoCV(alphas= [0.01, 0.1, 1, 10, 100]).fit(self.X, self.y)\n",
    "        \n",
    "    def get_data(self, stock):\n",
    "        url = (\n",
    "            'http://www.google.com/finance/historical?output=csv&startdate=2000-01-01&enddate=2017-01-01&q={}'.format(stock)\n",
    "        )\n",
    "        df = pd.read_csv(url, encoding = 'utf8')\n",
    "        df = df.drop(['Open', 'High', 'Low', 'Volume'], axis = 1)\n",
    "        df.set_index(u'﻿Date', inplace = True)\n",
    "        df.index = df.index.to_datetime()\n",
    "        \n",
    "        offset_1, offset_2, offset_3 = 252, (252*2), (252*3)\n",
    "        df_length = len(df) - offset_3\n",
    "        x_3 = df[:df_length] # target variable\n",
    "        x_2 = df[offset_1:df_length + offset_1] # one year offset\n",
    "        x_1 = df[offset_2:df_length + offset_2] # two year offset\n",
    "        x_0 = df[offset_3: df_length + offset_3]\n",
    "        \n",
    "        x_3 = x_3.reset_index().drop('index', axis=1)\n",
    "        x_2 = x_2.reset_index().drop('index', axis=1)\n",
    "        x_1 = x_1.reset_index().drop('index', axis=1)\n",
    "        x_0 = x_0.reset_index().drop('index', axis=1)\n",
    "        \n",
    "        frames = [x_0, x_1, x_2, x_3]\n",
    "        \n",
    "        final_df = pd.concat(frames, axis=1)\n",
    "        final_df.columns = ['x_0', 'x_1', 'x_2', 'y']\n",
    "        return final_df\n",
    "\n",
    "    \n",
    "    def make_predictions(self, stocks):\n",
    "        test_data = pd.concat([self.get_data(stock) for stock in stocks])\n",
    "        test_X = self.train_data[['x_0','x_1','x_2']]\n",
    "        test_y = self.train_data['y']\n",
    "        pred_y = self.model.predict(test_X)\n",
    "        return test_X, pred_y\n",
    "    \n",
    "    #def predict_2017_1_1_price(ticker):\n",
    "        #test_data = pd.concat([self.get_data(stock) for stock in stocks])\n",
    "        #test_X = df[['x_0', 'x_1', 'x_2', 'x_3']]\n",
    "        #test_y = df['y']\n",
    "      # lm_LassoCV = linear_model.LassoCV(alphas=[0.01,0.1, 1, 10,100])\n",
    "      # model_LassoCV = lm_LassoCV.fit(X, y)\n",
    "      # predictions_LassoCV = model_LassoCV.predict(X)\n",
    "      # #plt.scatter(y, predictions_LassoCV)\n",
    "    \n",
    "    def predict2014_to_2017(self, stocks, investment):\n",
    "        predicted_2017_return = 0\n",
    "        test_X, pred_y = self.make_predictions(stocks)\n",
    "        #for ticker in stocks:\n",
    "        for y in pred_y:\n",
    "            predicted_2017_return += (\n",
    "                y/len(stocks)*investment\n",
    "            )\n",
    "            #predicted_2017_return += (\n",
    "                #pred_y/ float(test_X['x_0'])/len(stocks)*investment\n",
    "            #)\n",
    "            \n",
    "        return predicted_2017_return\n",
    "            \n",
    "        \n",
    "   "
   ]
  },
  {
   "cell_type": "code",
   "execution_count": 127,
   "metadata": {
    "collapsed": false
   },
   "outputs": [],
   "source": [
    "pr = TeamA_Predictor()"
   ]
  },
  {
   "cell_type": "code",
   "execution_count": 128,
   "metadata": {
    "collapsed": false,
    "scrolled": false
   },
   "outputs": [],
   "source": [
    "predictions = pr.predict2014_to_2017([\"VIAB\",\"GOOG\",\"F\",\"MSFT\"], 10000)"
   ]
  },
  {
   "cell_type": "code",
   "execution_count": 130,
   "metadata": {
    "collapsed": false
   },
   "outputs": [
    {
     "data": {
      "text/plain": [
       "5592192499.9999638"
      ]
     },
     "execution_count": 130,
     "metadata": {},
     "output_type": "execute_result"
    }
   ],
   "source": [
    "predictions"
   ]
  }
 ],
 "metadata": {
  "anaconda-cloud": {},
  "kernelspec": {
   "display_name": "Python [default]",
   "language": "python",
   "name": "python2"
  },
  "language_info": {
   "codemirror_mode": {
    "name": "ipython",
    "version": 2
   },
   "file_extension": ".py",
   "mimetype": "text/x-python",
   "name": "python",
   "nbconvert_exporter": "python",
   "pygments_lexer": "ipython2",
   "version": "2.7.12"
  }
 },
 "nbformat": 4,
 "nbformat_minor": 1
}
