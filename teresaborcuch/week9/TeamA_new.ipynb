{
 "cells": [
  {
   "cell_type": "code",
   "execution_count": 1,
   "metadata": {
    "collapsed": true
   },
   "outputs": [],
   "source": [
    "import pandas as pd\n",
    "from sklearn import linear_model"
   ]
  },
  {
   "cell_type": "code",
   "execution_count": 5,
   "metadata": {
    "collapsed": true
   },
   "outputs": [],
   "source": [
    "class TeamA():\n",
    "    def __init__(self):\n",
    "        self.training_tickers = [\"TMO\",\"AMZN\",\"AAPL\",\"GM\",\"IBM\",\"TWTR\",\"CBS\",\"TM\",\"BIO\"]\n",
    "\n",
    "        \n",
    "    def get_data(self, ticker):\n",
    "        import requests\n",
    "        import pandas as pd\n",
    "        import io\n",
    "        import numpy as np\n",
    "\n",
    "        # parameters to modify in the query\n",
    "        payload = {\n",
    "        'output':'csv',\n",
    "       'startdate':'2000-01-01',\n",
    "       'enddate':'2017-01-01',   \n",
    "       'q':ticker\n",
    "       }\n",
    "\n",
    "        URL = 'http://www.google.com/finance/historical' # base URL\n",
    "\n",
    "        r = requests.get(URL, params=payload).content # create the requests object\n",
    "        df = pd.read_csv(io.StringIO(r.decode('utf-8')))\n",
    "        # dropping unnecessary columns and setting the index as datetime\n",
    "        df = df.drop(['Open', 'High', 'Low', 'Volume'], axis=1)\n",
    "        df.set_index(u'Date', inplace=True)\n",
    "        df.index = df.index.to_datetime()\n",
    "\n",
    "        # DataFrame manipulation\n",
    "        offset_1, offset_2, offset_3,offset_4  = int(252*3), int(252*3.25), int(252*3.5), int(252*3.75) # approximately one year, two years and three years\n",
    "        df_length = len(df) - offset_4 # determines the maximum length possible for our dataframe\n",
    "\n",
    "        x_4 = df[:df_length] # target variable\n",
    "        x_3 = df[offset_1:df_length + offset_1]  \n",
    "        x_2 = df[offset_2:df_length + offset_2] \n",
    "        x_1 = df[offset_3:df_length + offset_3] \n",
    "        x_0 = df[offset_4: df_length + offset_4] \n",
    "\n",
    "        # modify the indexes so we can concatenate the dataframes\n",
    "        x_4 = x_4.reset_index().drop('index', axis=1)\n",
    "        x_3 = x_3.reset_index().drop('index', axis=1)\n",
    "        x_2 = x_2.reset_index().drop('index', axis=1)\n",
    "        x_1 = x_1.reset_index().drop('index', axis=1)\n",
    "        x_0 = x_0.reset_index().drop('index', axis=1)\n",
    " \n",
    "        frames = [x_0, x_1, x_2, x_3, x_4] # list of dataframes to pass into pd.concat\n",
    "\n",
    "        # concat the dataframes and rename the columns\n",
    "        final_df = pd.concat(frames, axis=1)\n",
    "        final_df.columns = ['x_0', 'x_1', 'x_2', 'x_3','y']\n",
    "\n",
    "        return final_df\n",
    "    \n",
    "    def predict_2017_1_1_price(self, ticker):\n",
    "    \n",
    "        df=self.get_data(ticker)\n",
    "        X = df[['x_0', 'x_1', 'x_2', 'x_3']] \n",
    "        y = df['y'] \n",
    "        lm_LassoCV = linear_model.LassoCV(alphas=[0.01,0.1, 1, 10,100])\n",
    "        model_LassoCV = lm_LassoCV.fit(X, y)\n",
    "        predictions_LassoCV = model_LassoCV.predict(X)\n",
    "        #plt.scatter(y, predictions_LassoCV)\n",
    "    \n",
    "        return X['x_0'][0], predictions_LassoCV[0]    #returns 2014 price and 2017 predicted price\n",
    "    \n",
    "    def predict2014_to_2017(self, stocks,investment):\n",
    "        predicted_2017_investment = 0\n",
    "        for ticker in stocks:\n",
    "            x_0, y = self.predict_2017_1_1_price(ticker)\n",
    "            predicted_2017_investment +=(y/float(x_0)/len(stocks)*investment) \n",
    "\n",
    "        return predicted_2017_investment"
   ]
  },
  {
   "cell_type": "code",
   "execution_count": 6,
   "metadata": {
    "collapsed": false
   },
   "outputs": [],
   "source": [
    "pr = TeamA()"
   ]
  },
  {
   "cell_type": "code",
   "execution_count": 9,
   "metadata": {
    "collapsed": false
   },
   "outputs": [
    {
     "name": "stderr",
     "output_type": "stream",
     "text": [
      "/Users/gmaclenn/anaconda2/lib/python2.7/site-packages/ipykernel/__main__.py:27: FutureWarning: to_datetime is deprecated. Use pd.to_datetime(...)\n"
     ]
    },
    {
     "data": {
      "text/plain": [
       "13031.550506865446"
      ]
     },
     "execution_count": 9,
     "metadata": {},
     "output_type": "execute_result"
    }
   ],
   "source": [
    "pr.predict2014_to_2017([\"VIAB\",\"GOOG\",\"F\",\"MSFT\"], 10000)"
   ]
  },
  {
   "cell_type": "code",
   "execution_count": null,
   "metadata": {
    "collapsed": true
   },
   "outputs": [],
   "source": []
  }
 ],
 "metadata": {
  "anaconda-cloud": {},
  "kernelspec": {
   "display_name": "Python [default]",
   "language": "python",
   "name": "python2"
  },
  "language_info": {
   "codemirror_mode": {
    "name": "ipython",
    "version": 2
   },
   "file_extension": ".py",
   "mimetype": "text/x-python",
   "name": "python",
   "nbconvert_exporter": "python",
   "pygments_lexer": "ipython2",
   "version": "2.7.13"
  }
 },
 "nbformat": 4,
 "nbformat_minor": 1
}
