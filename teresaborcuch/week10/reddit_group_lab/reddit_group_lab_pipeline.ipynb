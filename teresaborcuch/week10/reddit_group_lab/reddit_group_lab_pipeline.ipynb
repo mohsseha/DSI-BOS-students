{
 "cells": [
  {
   "cell_type": "code",
   "execution_count": 1,
   "metadata": {
    "collapsed": false
   },
   "outputs": [
    {
     "data": {
      "text/plain": [
       "''"
      ]
     },
     "execution_count": 1,
     "metadata": {},
     "output_type": "execute_result"
    }
   ],
   "source": [
    "sc"
   ]
  },
  {
   "cell_type": "code",
   "execution_count": null,
   "metadata": {
    "collapsed": true
   },
   "outputs": [],
   "source": [
    "training = sqlContext.createDataFrame([\n",
    "        (0.0, \"French fries taste good to me.\"),\n",
    "        (1.0, \"We love the mall.\"),\n",
    "        (0.0, \"The dogs went outside.\")],\n",
    "        [\"label\",\"text\"]\n",
    "    )"
   ]
  },
  {
   "cell_type": "code",
   "execution_count": null,
   "metadata": {
    "collapsed": true
   },
   "outputs": [],
   "source": [
    "# create the stages of pipeline\n",
    "tokenizer = Tokenizer(inputCol = 'text', outputCol = 'words')\n",
    "remover = StopWordsRemover(inputCol = tokenizer.getOutputCol(), outputCol = 'filtered_words')\n",
    "hashingTF = HashingTF(inputCol = remover.getOutputCol(), outputCol = 'raw_features')\n",
    "idf = IDF(inputCol = hashingTF.getOutputCol(), outputCol = 'features')\n",
    "pipeline = Pipeline(stages = [tokenizer, remover, hashingTF, idf])\n",
    "fit_pipe = pipeline.fit(labeledDataForVectorizer)\n",
    "data = fit_pipe.transform(labeledDataForVectorizer)\n",
    "#mapped_data = data.map(lambda row : LabeledPoint(row.label,row.features))\n",
    "\n",
    "# model and cv\n",
    "lr = LogisticRegressionWithSGD.train(data) #, regType = 'l1'\n",
    "\n",
    "# define params\n",
    "#grid = [{lr.regParam: 1.0}, {lr.regParam: 2.0}]\n",
    "#grid = [{'regType': 'l1'}]#,{'regType': 'l2'}]\n",
    "#my_eval = MulticlassClassificationEvaluator(metricName = 'f1')\n",
    "\n",
    "# = CrossValidator(estimator = lr, estimatorParamMaps = grid, evaluator = my_eval, numFolds = 5)"
   ]
  },
  {
   "cell_type": "code",
   "execution_count": null,
   "metadata": {
    "collapsed": true
   },
   "outputs": [],
   "source": [
    "lr.predict(mapped_data).take(3)"
   ]
  }
 ],
 "metadata": {
  "anaconda-cloud": {},
  "kernelspec": {
   "display_name": "Python [default]",
   "language": "python",
   "name": "python2"
  },
  "language_info": {
   "codemirror_mode": {
    "name": "ipython",
    "version": 2
   },
   "file_extension": ".py",
   "mimetype": "text/x-python",
   "name": "python",
   "nbconvert_exporter": "python",
   "pygments_lexer": "ipython2",
   "version": "2.7.12"
  }
 },
 "nbformat": 4,
 "nbformat_minor": 1
}
