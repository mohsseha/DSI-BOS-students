{
 "cells": [
  {
   "cell_type": "code",
   "execution_count": 3,
   "metadata": {
    "collapsed": true
   },
   "outputs": [],
   "source": [
    "my_map = [\n",
    "    [False,True,False,False],\n",
    "    [False,False,False,True],\n",
    "    [False,False,False,False],\n",
    "    [False,True,False,False]\n",
    "]"
   ]
  },
  {
   "cell_type": "code",
   "execution_count": 4,
   "metadata": {
    "collapsed": false
   },
   "outputs": [
    {
     "data": {
      "text/plain": [
       "[0, 1, 2, 3]"
      ]
     },
     "execution_count": 4,
     "metadata": {},
     "output_type": "execute_result"
    }
   ],
   "source": [
    "range(0,4)"
   ]
  },
  {
   "cell_type": "code",
   "execution_count": 5,
   "metadata": {
    "collapsed": false
   },
   "outputs": [],
   "source": [
    "# best working version\n",
    "# problem is that it can't move up\n",
    "# add directionality by getting rid of abs function, but need lots of hard-coding instructions?\n",
    "\n",
    "def dist_from_arg_toXY_with_map(x, y, my_map):\n",
    "    step_count = 0 # how many steps you've gone\n",
    "    current_y = 0 # what row you're currently in\n",
    "    current_x = 0 # what col you're currently in\n",
    "  \n",
    "    while (current_x, current_y) != (x,y) and (current_y, current_x in range(0,4)):\n",
    "        if abs(x - current_x) >= abs(y - current_y) and (my_map[current_y][current_x + 1] == False):\n",
    "            current_x += 1 # increment x\n",
    "            step_count +=1\n",
    "            print current_x, current_y\n",
    "\n",
    "        if abs(x - current_x) >= abs(y - current_y) and (my_map[current_y][current_x + 1] == True):\n",
    "            # have to go down\n",
    "            current_y +=1 # increment y\n",
    "            step_count +=1\n",
    "            print current_x, current_y\n",
    "\n",
    "        if abs(x - current_x) < abs(y - current_y) and (my_map[current_y + 1][current_x] == False):\n",
    "            current_y +=1 # increment y\n",
    "            step_count +=1\n",
    "            print current_x, current_y\n",
    "\n",
    "        if abs(x - current_x) < abs(y - current_y) and (my_map[current_y + 1][current_x] == True):\n",
    "            current_x += 1\n",
    "            step_count +=1\n",
    "            print current_x, current_y\n",
    "\n",
    "    return step_count"
   ]
  },
  {
   "cell_type": "code",
   "execution_count": null,
   "metadata": {
    "collapsed": true
   },
   "outputs": [],
   "source": [
    "dist_from_arg_toXY_with_map(2, 1, my_map)"
   ]
  },
  {
   "cell_type": "markdown",
   "metadata": {
    "collapsed": true
   },
   "source": [
    "#loop problems\n",
    "def dist_from_arg_toXY_with_map(x, y, my_map):\n",
    "    step_count = 0 # how many steps you've gone\n",
    "    current_y = 0 # what row you're currently in\n",
    "    current_x = 0 # what col you're currently in\n",
    "    \n",
    "    def move_y(current_y, step_count):\n",
    "        if y - current_y >= 0:\n",
    "            current_y -=1\n",
    "            step_count +=1\n",
    "            \n",
    "        elif y - current_y < 0:\n",
    "            current_y +=1\n",
    "            step_count +=1\n",
    "            \n",
    "        return current_y, step_count\n",
    "        \n",
    "    \n",
    "\n",
    "    while (current_x, current_y) != (x,y) and (current_y, current_x in range(0,4)):\n",
    "        # set of instructions\n",
    "        if x - current_x >= 0:\n",
    "            if my_map[y][x+1] == False:\n",
    "                current_x += 1\n",
    "                step_count += 1\n",
    "            elif my_map[y][x+1] == True: \n",
    "                current_y, step_count = move_y(current_y, step_count)\n",
    "            print current_x, current_y\n",
    "\n",
    "        if x - current_x < 0:\n",
    "            if my_map[y][x-1] == False:\n",
    "                current_x -= 1\n",
    "                step_count += 1\n",
    "            elif my_map[y][x-1] == True:\n",
    "                current_y, step_count = move_y(current_y, step_count)\n",
    "            print current_x, current_y\n",
    "\n",
    "        if y - current_y > 0:\n",
    "            if my_map[y-1][x] == False:\n",
    "                current_y -= 1\n",
    "                step_count += 1\n",
    "            elif my_map[y-1][x] == True: \n",
    "                current_y +=0\n",
    "            print current_x, current_y\n",
    "\n",
    "        if y - current_y < 0:\n",
    "            if my_map[y+1][x] == False:\n",
    "                current_y += 1\n",
    "                step_count += 1\n",
    "            elif my_map[y+1][x] == True: \n",
    "                current_y +=0\n",
    "            print current_x, current_y\n",
    "    return step_count"
   ]
  },
  {
   "cell_type": "code",
   "execution_count": null,
   "metadata": {
    "collapsed": true
   },
   "outputs": [],
   "source": []
  },
  {
   "cell_type": "code",
   "execution_count": null,
   "metadata": {
    "collapsed": true
   },
   "outputs": [],
   "source": []
  }
 ],
 "metadata": {
  "anaconda-cloud": {},
  "kernelspec": {
   "display_name": "Python [default]",
   "language": "python",
   "name": "python2"
  },
  "language_info": {
   "codemirror_mode": {
    "name": "ipython",
    "version": 2
   },
   "file_extension": ".py",
   "mimetype": "text/x-python",
   "name": "python",
   "nbconvert_exporter": "python",
   "pygments_lexer": "ipython2",
   "version": "2.7.12"
  }
 },
 "nbformat": 4,
 "nbformat_minor": 1
}
