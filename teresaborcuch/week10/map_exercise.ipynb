{
 "cells": [
  {
   "cell_type": "code",
   "execution_count": 2,
   "metadata": {
    "collapsed": true
   },
   "outputs": [],
   "source": [
    "my_map = [\n",
    "    [False,True,False,False],\n",
    "    [False,False,False,True],\n",
    "    [False,False,False,False],\n",
    "    [False,True,False,False]\n",
    "]"
   ]
  },
  {
   "cell_type": "markdown",
   "metadata": {},
   "source": [
    "The map is a 4x4 grid where False means you can walk there and True means that you can't. Given a point (x,y) and the map, what is the shortest # of steps from (0,0) to (x,y)?\n",
    "\n",
    "Write function:\n",
    "dist_from_arg_toXY_with_map(x, y, map)\n",
    "\n",
    "- takes arguments of x,y (= your point) and a map\n",
    "- returns length of shortest path\n",
    "- maps don't have to be square\n",
    "- counting of steps starts at 0"
   ]
  },
  {
   "cell_type": "code",
   "execution_count": 2,
   "metadata": {
    "collapsed": true
   },
   "outputs": [],
   "source": [
    "# make a rule that says if current_cell == True, break\n",
    "\n",
    "# what about while (x != x) and (y != y)"
   ]
  },
  {
   "cell_type": "code",
   "execution_count": 50,
   "metadata": {
    "collapsed": false
   },
   "outputs": [],
   "source": [
    "def dist_from_arg_toXY_with_map(x, y, my_map):\n",
    "    step_count = 0 # how many steps you've gone\n",
    "    current_y = 0 # what row you're currently in\n",
    "    current_x = 0 # what col you're currently in\n",
    "    \n",
    "    while (current_x, current_y) != (x,y):\n",
    "        # set of instructions\n",
    "        if x - current_x >= 0:\n",
    "            if my_map[y][x+1] == False:\n",
    "                current_x += 1\n",
    "                step_count += 1\n",
    "            elif my_map[y][x+1] == True: \n",
    "                current_x +=0\n",
    "            print current_x, current_y\n",
    "\n",
    "        if x - current_x < 0:\n",
    "            if my_map[y][x-1] == False:\n",
    "                current_x -= 1\n",
    "                step_count += 1\n",
    "            elif my_map[y][x-1] == True:\n",
    "                current_x +=0\n",
    "            print current_x, current_y\n",
    "\n",
    "        if y - current_y > 0:\n",
    "            if my_map[y-1][x] == False:\n",
    "                current_y -= 1\n",
    "                step_count += 1\n",
    "            elif my_map[y-1][x] == True: \n",
    "                current_y +=0\n",
    "            print current_x, current_y\n",
    "\n",
    "        if y - current_y < 0:\n",
    "            if my_map[y+1][x] == False:\n",
    "                current_y += 1\n",
    "                step_count += 1\n",
    "            elif my_map[y+1][x] == True: \n",
    "                current_y +=0\n",
    "            print current_x, current_y\n",
    "    return step_count"
   ]
  },
  {
   "cell_type": "code",
   "execution_count": 51,
   "metadata": {
    "collapsed": false
   },
   "outputs": [
    {
     "name": "stdout",
     "output_type": "stream",
     "text": [
      "1 0\n",
      "2 0\n"
     ]
    },
    {
     "data": {
      "text/plain": [
       "2"
      ]
     },
     "execution_count": 51,
     "metadata": {},
     "output_type": "execute_result"
    }
   ],
   "source": [
    "dist_from_arg_toXY_with_map(2, 0, my_map)"
   ]
  },
  {
   "cell_type": "code",
   "execution_count": 34,
   "metadata": {
    "collapsed": true
   },
   "outputs": [],
   "source": [
    "def dist_from_arg_toXY_with_map(x, y, my_map):\n",
    "    step_count = 0 # how many steps you've gone\n",
    "    current_y = 0 # what row you're currently in\n",
    "    current_x = 0 # what col you're currently in\n",
    "    \n",
    "    while (current_x, current_y) != (x,y):\n",
    "        if abs(x - current_x) >= abs(y - current_y) and (my_map[current_y][current_x + 1] == False):\n",
    "            current_x += 1 # increment x\n",
    "            step_count +=1\n",
    "            print current_x, current_y\n",
    "                \n",
    "        if abs(x - current_x) >= abs(y - current_y) and (my_map[current_y][current_x + 1] == True):\n",
    "            # have to go down\n",
    "            current_y +=1 # increment y\n",
    "            step_count +=1\n",
    "            print current_x, current_y\n",
    "            \n",
    "                 \n",
    "        if abs(x - current_x) < abs(y - current_y) and (my_map[current_y + 1][current_x] == False):\n",
    "            current_y +=1 # increment y\n",
    "            step_count +=1\n",
    "            print current_x, current_y\n",
    "            \n",
    "        if abs(x - current_x) < abs(y - current_y) and (my_map[current_y + 1][current_x] == True):\n",
    "            current_x += 1\n",
    "            step_count +=1\n",
    "            print current_x, current_y\n",
    "    \n",
    "    return step_count\n",
    "                    "
   ]
  },
  {
   "cell_type": "code",
   "execution_count": 8,
   "metadata": {
    "collapsed": true
   },
   "outputs": [],
   "source": [
    "def dist_from_arg_toXY_with_map(x, y, my_map):\n",
    "    end_point = (x,y)\n",
    "    step_count = 0 # how many steps you've gone\n",
    "    current_y = 0 # what row you're currently in\n",
    "    current_x = 0 # what col you're currently in\n",
    "    \n",
    "    while (current_x, current_y) != (x,y):\n",
    "        # move around\n",
    "        #movement should always return new x and new y\n",
    "        while my_map[current_y][current_x + 1] == False:\n",
    "            # move down\n",
    "            try:\n",
    "                current_x +=1 # increment x\n",
    "                end_point = (current_x, current_y)\n",
    "                step_count +=1\n",
    "                print current_x, current_y\n",
    "            except IndexError:\n",
    "                continue\n",
    "        if my_map[current_y][current_x + 1] == True: # check down\n",
    "            # move right\n",
    "            current_y +=1 # increment y\n",
    "            end_point = (current_x, current_y)\n",
    "            step_count +=1\n",
    "            print current_x, current_y\n",
    "    return step_count"
   ]
  },
  {
   "cell_type": "code",
   "execution_count": null,
   "metadata": {
    "collapsed": true
   },
   "outputs": [],
   "source": []
  },
  {
   "cell_type": "code",
   "execution_count": null,
   "metadata": {
    "collapsed": true
   },
   "outputs": [],
   "source": [
    "def dist_from_arg_toXY_with_map(x, y, my_map):\n",
    "    end_point = (x,y)\n",
    "    step_count = 0 # how many steps you've gone\n",
    "    current_y = 0 # what row you're currently in\n",
    "    current_x = 0 # what col you're currently in\n",
    "    \n",
    "    def move(direction, current_x, current_y):\n",
    "        if direction == 'right':\n",
    "            current_y += 1\n",
    "            current_x = current_x\n",
    "        elif direction == 'down':\n",
    "            current_x +=1\n",
    "            current_y = current_y\n",
    "        return current_x, current_y\n",
    "    \n",
    "    try:\n",
    "        while (current_x, current_y) != end_point:\n",
    "            if my_map[current_y][current_x + 1] == False:\n",
    "                move('right', current_x, current_y)\n",
    "                step_count +=1\n",
    "                print current_x, current_y\n",
    "            elif my_map[current_y][current_x +1] == True:\n",
    "                move('down', current_x, current_y)\n",
    "                step_count +=1\n",
    "                print current_x, current_y\n",
    "    except KeyboardInterrupt:\n",
    "    pass\n",
    "\n",
    "            "
   ]
  },
  {
   "cell_type": "code",
   "execution_count": 32,
   "metadata": {
    "collapsed": false
   },
   "outputs": [],
   "source": [
    "def dist_from_arg_toXY_with_map(x, y, my_map):\n",
    "    step_count = 0 # how many steps you've gone\n",
    "    current_y = 0 # what row you're currently in\n",
    "    current_x = 0 # what col you're currently in\n",
    "    current_cell = my_map[current_y][current_x] # what cell you're currently in\n",
    "    \n",
    "    def move_down(current_x, current_y):\n",
    "        current_x = current_x+1\n",
    "        current_cell = my_map[current_y][current_x]\n",
    "        return current_x, current_y\n",
    "    def move_right():\n",
    "        current_y = current_y+1\n",
    "        current_cell = my_map[current_y][current_x]\n",
    "        return current_x, current_y\n",
    "        # define a move function that takes a direction\n",
    "    \n",
    "    while not((current_x != x) & (current_y != y)):\n",
    "        #move\n",
    "        # try going right\n",
    "        #check if you can move to next cell\n",
    "        if my_map[current_y][current_x +1] == False: #ok we can move there\n",
    "            print \"false\"\n",
    "            current_x +=1\n",
    "            step_count +=1\n",
    "            current_cell = my_map[current_y][current_x]\n",
    "            print current_x, current_y\n",
    "\n",
    "        elif my_map[current_y][current_x +1] == True: #oh no can't go right\n",
    "            print \"true\"\n",
    "            current_y +=1\n",
    "            step_count +=1\n",
    "            current_cell = current_cell = my_map[current_y][current_x]\n",
    "            print current_x, current_y\n",
    "\n",
    "\n",
    "\n",
    "    print step_count"
   ]
  },
  {
   "cell_type": "code",
   "execution_count": 35,
   "metadata": {
    "collapsed": false
   },
   "outputs": [
    {
     "data": {
      "text/plain": [
       "True"
      ]
     },
     "execution_count": 35,
     "metadata": {},
     "output_type": "execute_result"
    }
   ],
   "source": [
    "current_x = 0\n",
    "x = 2\n",
    "y = 0\n",
    "current_y = 0\n",
    "not((current_x == x) & (current_y == y))"
   ]
  },
  {
   "cell_type": "code",
   "execution_count": null,
   "metadata": {
    "collapsed": true
   },
   "outputs": [],
   "source": [
    "def dist_from_arg_toXY_with_map(x, y, map):\n",
    "    step_count = 0 # how many steps you've gone\n",
    "    current_y = 0 # what row you're currently in\n",
    "    current_x = 0 # what col you're currently in\n",
    "    current_cell = map[current_y][current_x] # what cell you're currently in\n",
    "\n",
    "    def move_right(current_x, current_y, current_cell):\n",
    "        while current_cell == False:\n",
    "            current_x +=1\n",
    "            step_count +=1\n",
    "            current_cell = map[current_y][current_x]\n",
    "            \n",
    "        while current_cell == True:\n",
    "            current_y +=1\n",
    "            step_count +=1\n",
    "            current_cell = map[current_y][current_x]\n",
    "        return current_x, step_count\n",
    "    \n",
    "    def move_down(current_x, current_y, current_cell):\n",
    "        while current_cell == False:\n",
    "            current_y +=1\n",
    "            step_count +=1\n",
    "            current_cell = map[current_y][current_x]\n",
    "        return current_x, step_count\n",
    "    \n",
    "    if y <= x:\n",
    "        current_x, step_count, current_cell = move_right(current_x, current_y, current_cell)\n",
    "        \n",
    "        \n",
    "  \n",
    "        \n",
    "        \n",
    "        \n",
    "        \n",
    "    elif x > y:\n",
    "        \n",
    "        "
   ]
  },
  {
   "cell_type": "code",
   "execution_count": null,
   "metadata": {
    "collapsed": true
   },
   "outputs": [],
   "source": []
  },
  {
   "cell_type": "code",
   "execution_count": 3,
   "metadata": {
    "collapsed": false
   },
   "outputs": [
    {
     "data": {
      "text/plain": [
       "False"
      ]
     },
     "execution_count": 3,
     "metadata": {},
     "output_type": "execute_result"
    }
   ],
   "source": [
    "my_map[0][0]"
   ]
  },
  {
   "cell_type": "code",
   "execution_count": 4,
   "metadata": {
    "collapsed": true
   },
   "outputs": [],
   "source": [
    "x = 2\n",
    "y = 0"
   ]
  },
  {
   "cell_type": "code",
   "execution_count": 29,
   "metadata": {
    "collapsed": true
   },
   "outputs": [],
   "source": [
    "def dist_from_arg_toXY_with_map(x, y, map):\n",
    "    destination = my_map[y][x] # where you want to get to\n",
    "    map_y_len = len(my_map) # y-dimension of the map\n",
    "    map_x_len = len(my_map[0]) #x-dimension of the map\n",
    "    step_count = 0 # how many steps you've gone\n",
    "    current_y = 0 # what row you're currently in\n",
    "    current_x = 0 # what col you're currently in\n",
    "    current_cell = map[current_y][current_x] # what cell you're currently in\n",
    "    \n",
    "        \n",
    "    if destination == True:\n",
    "        print \"Can't walk here.\"\n",
    "    else:\n",
    "        # if y < x, start moving across first because it's shorter\n",
    "        # check out all boxes in the x row until you hit a True\n",
    "        while current_x <= x and current_y <= y:\n",
    "            update_position(current_x, current_y)\n",
    "            #if current_cell == False:\n",
    "             #   current_y +=1\n",
    "              #  step_count +=1\n",
    "               # print current_cell\n",
    "           # if current_cell == True:\n",
    "            #    current_x +=1\n",
    "             #   step_count +=1\n",
    "              #  print current_cell\n",
    "    \n",
    "    return step_count\n",
    "    print step_count                  "
   ]
  },
  {
   "cell_type": "code",
   "execution_count": 28,
   "metadata": {
    "collapsed": true
   },
   "outputs": [],
   "source": [
    "def update_position(current_x, current_y):\n",
    "    current_y +=1\n",
    "    current_cell = map[current_y][current_x]\n",
    "    if current_cell == False:\n",
    "        update_position\n",
    "    return current_cell\n",
    "        \n",
    "        "
   ]
  },
  {
   "cell_type": "code",
   "execution_count": null,
   "metadata": {
    "collapsed": true
   },
   "outputs": [],
   "source": [
    "update_position"
   ]
  },
  {
   "cell_type": "code",
   "execution_count": 30,
   "metadata": {
    "collapsed": false
   },
   "outputs": [
    {
     "ename": "TypeError",
     "evalue": "'builtin_function_or_method' object has no attribute '__getitem__'",
     "output_type": "error",
     "traceback": [
      "\u001b[0;31m---------------------------------------------------------------------------\u001b[0m",
      "\u001b[0;31mTypeError\u001b[0m                                 Traceback (most recent call last)",
      "\u001b[0;32m<ipython-input-30-4b3982acbd79>\u001b[0m in \u001b[0;36m<module>\u001b[0;34m()\u001b[0m\n\u001b[0;32m----> 1\u001b[0;31m \u001b[0mdist_from_arg_toXY_with_map\u001b[0m\u001b[0;34m(\u001b[0m\u001b[0;36m2\u001b[0m\u001b[0;34m,\u001b[0m \u001b[0;36m0\u001b[0m\u001b[0;34m,\u001b[0m \u001b[0mmy_map\u001b[0m\u001b[0;34m)\u001b[0m\u001b[0;34m\u001b[0m\u001b[0m\n\u001b[0m",
      "\u001b[0;32m<ipython-input-29-8da1c87d4685>\u001b[0m in \u001b[0;36mdist_from_arg_toXY_with_map\u001b[0;34m(x, y, map)\u001b[0m\n\u001b[1;32m     15\u001b[0m         \u001b[0;31m# check out all boxes in the x row until you hit a True\u001b[0m\u001b[0;34m\u001b[0m\u001b[0;34m\u001b[0m\u001b[0m\n\u001b[1;32m     16\u001b[0m         \u001b[0;32mwhile\u001b[0m \u001b[0mcurrent_x\u001b[0m \u001b[0;34m<=\u001b[0m \u001b[0mx\u001b[0m \u001b[0;32mand\u001b[0m \u001b[0mcurrent_y\u001b[0m \u001b[0;34m<=\u001b[0m \u001b[0my\u001b[0m\u001b[0;34m:\u001b[0m\u001b[0;34m\u001b[0m\u001b[0m\n\u001b[0;32m---> 17\u001b[0;31m             \u001b[0mupdate_position\u001b[0m\u001b[0;34m(\u001b[0m\u001b[0mcurrent_x\u001b[0m\u001b[0;34m,\u001b[0m \u001b[0mcurrent_y\u001b[0m\u001b[0;34m)\u001b[0m\u001b[0;34m\u001b[0m\u001b[0m\n\u001b[0m\u001b[1;32m     18\u001b[0m             \u001b[0;31m#if current_cell == False:\u001b[0m\u001b[0;34m\u001b[0m\u001b[0;34m\u001b[0m\u001b[0m\n\u001b[1;32m     19\u001b[0m              \u001b[0;31m#   current_y +=1\u001b[0m\u001b[0;34m\u001b[0m\u001b[0;34m\u001b[0m\u001b[0m\n",
      "\u001b[0;32m<ipython-input-28-b7db2d553970>\u001b[0m in \u001b[0;36mupdate_position\u001b[0;34m(current_x, current_y)\u001b[0m\n\u001b[1;32m      1\u001b[0m \u001b[0;32mdef\u001b[0m \u001b[0mupdate_position\u001b[0m\u001b[0;34m(\u001b[0m\u001b[0mcurrent_x\u001b[0m\u001b[0;34m,\u001b[0m \u001b[0mcurrent_y\u001b[0m\u001b[0;34m)\u001b[0m\u001b[0;34m:\u001b[0m\u001b[0;34m\u001b[0m\u001b[0m\n\u001b[1;32m      2\u001b[0m     \u001b[0mcurrent_y\u001b[0m \u001b[0;34m+=\u001b[0m\u001b[0;36m1\u001b[0m\u001b[0;34m\u001b[0m\u001b[0m\n\u001b[0;32m----> 3\u001b[0;31m     \u001b[0mcurrent_cell\u001b[0m \u001b[0;34m=\u001b[0m \u001b[0mmap\u001b[0m\u001b[0;34m[\u001b[0m\u001b[0mcurrent_y\u001b[0m\u001b[0;34m]\u001b[0m\u001b[0;34m[\u001b[0m\u001b[0mcurrent_x\u001b[0m\u001b[0;34m]\u001b[0m\u001b[0;34m\u001b[0m\u001b[0m\n\u001b[0m\u001b[1;32m      4\u001b[0m     \u001b[0;32mif\u001b[0m \u001b[0mcurrent_cell\u001b[0m \u001b[0;34m==\u001b[0m \u001b[0mFalse\u001b[0m\u001b[0;34m:\u001b[0m\u001b[0;34m\u001b[0m\u001b[0m\n\u001b[1;32m      5\u001b[0m         \u001b[0mupdate_position\u001b[0m\u001b[0;34m\u001b[0m\u001b[0m\n",
      "\u001b[0;31mTypeError\u001b[0m: 'builtin_function_or_method' object has no attribute '__getitem__'"
     ]
    }
   ],
   "source": [
    "dist_from_arg_toXY_with_map(2, 0, my_map)"
   ]
  },
  {
   "cell_type": "code",
   "execution_count": 5,
   "metadata": {
    "collapsed": true
   },
   "outputs": [],
   "source": [
    "destination_row = my_map[y]"
   ]
  },
  {
   "cell_type": "code",
   "execution_count": 7,
   "metadata": {
    "collapsed": false
   },
   "outputs": [],
   "source": [
    "destination = my_map[y][x]"
   ]
  },
  {
   "cell_type": "code",
   "execution_count": 10,
   "metadata": {
    "collapsed": false
   },
   "outputs": [
    {
     "data": {
      "text/plain": [
       "4"
      ]
     },
     "execution_count": 10,
     "metadata": {},
     "output_type": "execute_result"
    }
   ],
   "source": [
    "len(my_map[0])"
   ]
  }
 ],
 "metadata": {
  "anaconda-cloud": {},
  "kernelspec": {
   "display_name": "Python [default]",
   "language": "python",
   "name": "python2"
  },
  "language_info": {
   "codemirror_mode": {
    "name": "ipython",
    "version": 2
   },
   "file_extension": ".py",
   "mimetype": "text/x-python",
   "name": "python",
   "nbconvert_exporter": "python",
   "pygments_lexer": "ipython2",
   "version": "2.7.12"
  }
 },
 "nbformat": 4,
 "nbformat_minor": 1
}
