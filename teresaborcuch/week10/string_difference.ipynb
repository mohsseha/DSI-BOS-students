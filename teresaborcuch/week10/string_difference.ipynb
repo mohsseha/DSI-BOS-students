{
 "cells": [
  {
   "cell_type": "markdown",
   "metadata": {},
   "source": [
    "- Make is_more_than_one_off() function that takes s1, s2 as arguments.\n",
    "- s1, s2 are strings\n",
    "- returns Boolean T/F"
   ]
  },
  {
   "cell_type": "code",
   "execution_count": 10,
   "metadata": {
    "collapsed": false
   },
   "outputs": [],
   "source": [
    "# working version\n",
    "def is_more_than_one_off(s1, s2):\n",
    "    count = 0\n",
    "\n",
    "    if abs(len(s1) - len(s2)) <=1:\n",
    "        # check which string is longer\n",
    "        if len(s1) >= len(s2): \n",
    "            # compare characters\n",
    "            for x in range(len(s2)):\n",
    "                \n",
    "                if s2[x] != s1[x]:\n",
    "                    #increment count for every off character\n",
    "                    count +=1\n",
    "                    \n",
    "            \n",
    "        elif len(s2) > len(s1):\n",
    "            for x in range(len(s1)):\n",
    "                if s1[x] != s2[x]:\n",
    "                    count +=1\n",
    "        # if the count is more than one, the answer is True\n",
    "        if count >1: \n",
    "            answer = True\n",
    "        \n",
    "        else:\n",
    "            answer = False\n",
    "        \n",
    "    else: # more than 1 difference is by default True\n",
    "        answer = True\n",
    "        \n",
    "    return answer"
   ]
  },
  {
   "cell_type": "code",
   "execution_count": 35,
   "metadata": {
    "collapsed": false
   },
   "outputs": [],
   "source": [
    "def is_more_than_one_off(s1, s2):\n",
    "    # get characters in s1\n",
    "    s1_len = len(s1)\n",
    "    s2_len = len(s2)\n",
    "    answer = True\n",
    "    \n",
    "    if abs(len(s1) - len(s2)) > 1:\n",
    "        answer = True\n",
    "        \n",
    "    elif len(s1) == len(s2):\n",
    "        for i in range(0, len(s2)):\n",
    "            if s1[i] != s2[i]:\n",
    "                answer = \n",
    "    \n",
    "    elif len(s1) > len(s2):\n",
    "    \n",
    "        for i in range(0, s1_len):\n",
    "            try:\n",
    "                if s1[i] != s2[i]:\n",
    "                    answer = True\n",
    "                else:\n",
    "                    answer = False\n",
    "            except IndexError:\n",
    "                answer = False\n",
    "                \n",
    "    elif len(s2) > len(s1):\n",
    "        for i in range(0, s2_len):\n",
    "            try:\n",
    "                if s1[i] != s2[i]:\n",
    "                    answer = True\n",
    "                else:\n",
    "                    answer = False\n",
    "            except IndexError:\n",
    "                answer = True\n",
    "    return answer"
   ]
  },
  {
   "cell_type": "markdown",
   "metadata": {
    "collapsed": true
   },
   "source": [
    "- if lengths differ by more than one, answer is True\n",
    "- if lengths are differ by <= one, need to check contents \n",
    "-- if the contents are only one character off, False\n",
    "-- if contents are >1 character off, True\n",
    "\n"
   ]
  },
  {
   "cell_type": "code",
   "execution_count": 15,
   "metadata": {
    "collapsed": false
   },
   "outputs": [
    {
     "data": {
      "text/plain": [
       "True"
      ]
     },
     "execution_count": 15,
     "metadata": {},
     "output_type": "execute_result"
    }
   ],
   "source": [
    "is_more_than_one_off('cats','acts')"
   ]
  },
  {
   "cell_type": "code",
   "execution_count": 2,
   "metadata": {
    "collapsed": false
   },
   "outputs": [
    {
     "data": {
      "text/plain": [
       "['l', 'a', 'd', 'y', 'b', 'u', 'g']"
      ]
     },
     "execution_count": 2,
     "metadata": {},
     "output_type": "execute_result"
    }
   ],
   "source": [
    "s1 = 'ladybug'\n",
    "chars = [x for x in s1]\n",
    "chars"
   ]
  }
 ],
 "metadata": {
  "anaconda-cloud": {},
  "kernelspec": {
   "display_name": "Python [default]",
   "language": "python",
   "name": "python2"
  },
  "language_info": {
   "codemirror_mode": {
    "name": "ipython",
    "version": 2
   },
   "file_extension": ".py",
   "mimetype": "text/x-python",
   "name": "python",
   "nbconvert_exporter": "python",
   "pygments_lexer": "ipython2",
   "version": "2.7.12"
  }
 },
 "nbformat": 4,
 "nbformat_minor": 1
}
