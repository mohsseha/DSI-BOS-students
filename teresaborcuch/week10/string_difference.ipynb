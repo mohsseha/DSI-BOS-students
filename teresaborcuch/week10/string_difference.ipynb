{
 "cells": [
  {
   "cell_type": "markdown",
   "metadata": {},
   "source": [
    "- Make is_more_than_one_off() function that takes s1, s2 as arguments.\n",
    "- s1, s2 are strings\n",
    "- returns Boolean T/F"
   ]
  },
  {
   "cell_type": "code",
   "execution_count": 57,
   "metadata": {
    "collapsed": false
   },
   "outputs": [],
   "source": [
    "# working version\n",
    "def is_more_than_one_off(s1, s2):\n",
    "    count = 0\n",
    "    \n",
    "    #if difference in length is 1 or less, start looking at characters\n",
    "    if abs(len(s1) - len(s2)) <=1: \n",
    "        \n",
    "        # check which string is longer\n",
    "        if len(s1) >= len(s2): \n",
    "            \n",
    "            #check to see if characters line up and they're not just shifted one\n",
    "            for x in range(len(s2)):\n",
    "            \n",
    "                if (s2[x] != s1[x]) and (s2[x] != s1[x+1]):\n",
    "                    \n",
    "                    #increment count for every off character\n",
    "                    count +=1\n",
    "            \n",
    "            \n",
    "        elif len(s2) > len(s1):\n",
    "            for x in range(len(s1)):\n",
    "                if (s1[x] != s2[x]) and (s1[x] != s2[x+1]):\n",
    "                    count +=1\n",
    "                    \n",
    "        # if the count is more than one, the answer is True\n",
    "        if count >1: \n",
    "            answer = True\n",
    "        else:\n",
    "            answer = False\n",
    "            \n",
    "    # more than 1 difference is by default True     \n",
    "    else: \n",
    "        answer = True\n",
    "        \n",
    "    return answer"
   ]
  },
  {
   "cell_type": "code",
   "execution_count": 58,
   "metadata": {
    "collapsed": false
   },
   "outputs": [
    {
     "data": {
      "text/plain": [
       "False"
      ]
     },
     "execution_count": 58,
     "metadata": {},
     "output_type": "execute_result"
    }
   ],
   "source": [
    "is_more_than_one_off('chat','hat')"
   ]
  },
  {
   "cell_type": "code",
   "execution_count": null,
   "metadata": {
    "collapsed": true
   },
   "outputs": [],
   "source": []
  },
  {
   "cell_type": "code",
   "execution_count": null,
   "metadata": {
    "collapsed": true
   },
   "outputs": [],
   "source": []
  },
  {
   "cell_type": "markdown",
   "metadata": {
    "collapsed": true
   },
   "source": [
    "- if lengths differ by more than one, answer is True\n",
    "- if lengths are differ by <= one, need to check contents \n",
    "-- if the contents are only one character off, False\n",
    "-- if contents are >1 character off, True\n",
    "\n"
   ]
  }
 ],
 "metadata": {
  "anaconda-cloud": {},
  "kernelspec": {
   "display_name": "Python [default]",
   "language": "python",
   "name": "python2"
  },
  "language_info": {
   "codemirror_mode": {
    "name": "ipython",
    "version": 2
   },
   "file_extension": ".py",
   "mimetype": "text/x-python",
   "name": "python",
   "nbconvert_exporter": "python",
   "pygments_lexer": "ipython2",
   "version": "2.7.12"
  }
 },
 "nbformat": 4,
 "nbformat_minor": 1
}
