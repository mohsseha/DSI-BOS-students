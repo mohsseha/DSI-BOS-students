{
 "cells": [
  {
   "cell_type": "code",
   "execution_count": 15,
   "metadata": {
    "collapsed": true
   },
   "outputs": [],
   "source": [
    "import requests\n",
    "import bs4\n",
    "from urllib import urlopen\n",
    "from bs4 import BeautifulSoup\n",
    "import re\n",
    "import pandas as pd\n",
    "import numpy as np"
   ]
  },
  {
   "cell_type": "code",
   "execution_count": 16,
   "metadata": {
    "collapsed": true
   },
   "outputs": [],
   "source": [
    "job_ids = []\n",
    "# search for all jobs that mention \"PhD\" in advanced search\n",
    "for i in np.arange(0,550,10):\n",
    "    URL = \"https://www.indeed.com/jobs?as_and=data+science&as_phr=&as_any=PhD+PHD+Phd+Ph.d+Ph.D&as_not=&as_ttl=&as_cmp=&jt=all&st=&salary=20000%2B&radius=25&l=Boston&fromage=any&limit=10&sort=&psf=advsrch\"\n",
    "    soup = BeautifulSoup(urlopen(URL).read(), 'html.parser')\n",
    "    results = soup.find_all('div', attrs={'data-tn-component': 'organicJob'})\n",
    "    for x in results:\n",
    "        # get job_id\n",
    "        job_id = x.find('h2', attrs={\"class\": \"jobtitle\"})['id']\n",
    "        job_ids.append(job_id)\n",
    " \n",
    "        # "
   ]
  },
  {
   "cell_type": "code",
   "execution_count": 17,
   "metadata": {
    "collapsed": true
   },
   "outputs": [],
   "source": [
    "phd_df = pd.DataFrame(columns = ['job_id', 'has_phd'])\n",
    "phd_df['job_id'] = job_ids\n"
   ]
  },
  {
   "cell_type": "code",
   "execution_count": 18,
   "metadata": {
    "collapsed": false
   },
   "outputs": [],
   "source": [
    "for i, row in phd_df.iterrows():\n",
    "    row.iloc[1] = 1"
   ]
  },
  {
   "cell_type": "code",
   "execution_count": 19,
   "metadata": {
    "collapsed": false
   },
   "outputs": [
    {
     "data": {
      "text/html": [
       "<div>\n",
       "<table border=\"1\" class=\"dataframe\">\n",
       "  <thead>\n",
       "    <tr style=\"text-align: right;\">\n",
       "      <th></th>\n",
       "      <th>job_id</th>\n",
       "      <th>has_phd</th>\n",
       "    </tr>\n",
       "  </thead>\n",
       "  <tbody>\n",
       "    <tr>\n",
       "      <th>0</th>\n",
       "      <td>jl_9587aad4baab10f1</td>\n",
       "      <td>1</td>\n",
       "    </tr>\n",
       "    <tr>\n",
       "      <th>1</th>\n",
       "      <td>jl_8cce239a68b06ecc</td>\n",
       "      <td>1</td>\n",
       "    </tr>\n",
       "    <tr>\n",
       "      <th>2</th>\n",
       "      <td>jl_d5e17d142783f070</td>\n",
       "      <td>1</td>\n",
       "    </tr>\n",
       "    <tr>\n",
       "      <th>3</th>\n",
       "      <td>jl_fa8592452682f9a1</td>\n",
       "      <td>1</td>\n",
       "    </tr>\n",
       "    <tr>\n",
       "      <th>4</th>\n",
       "      <td>jl_c110f141fea2888f</td>\n",
       "      <td>1</td>\n",
       "    </tr>\n",
       "  </tbody>\n",
       "</table>\n",
       "</div>"
      ],
      "text/plain": [
       "                job_id has_phd\n",
       "0  jl_9587aad4baab10f1       1\n",
       "1  jl_8cce239a68b06ecc       1\n",
       "2  jl_d5e17d142783f070       1\n",
       "3  jl_fa8592452682f9a1       1\n",
       "4  jl_c110f141fea2888f       1"
      ]
     },
     "execution_count": 19,
     "metadata": {},
     "output_type": "execute_result"
    }
   ],
   "source": [
    "phd_df.head()"
   ]
  },
  {
   "cell_type": "code",
   "execution_count": 20,
   "metadata": {
    "collapsed": false
   },
   "outputs": [
    {
     "data": {
      "text/plain": [
       "(550, 2)"
      ]
     },
     "execution_count": 20,
     "metadata": {},
     "output_type": "execute_result"
    }
   ],
   "source": [
    "phd_df.shape"
   ]
  }
 ],
 "metadata": {
  "kernelspec": {
   "display_name": "Python [default]",
   "language": "python",
   "name": "python2"
  },
  "language_info": {
   "codemirror_mode": {
    "name": "ipython",
    "version": 2
   },
   "file_extension": ".py",
   "mimetype": "text/x-python",
   "name": "python",
   "nbconvert_exporter": "python",
   "pygments_lexer": "ipython2",
   "version": "2.7.12"
  }
 },
 "nbformat": 4,
 "nbformat_minor": 1
}
