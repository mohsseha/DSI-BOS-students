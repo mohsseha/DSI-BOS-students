{
 "cells": [
  {
   "cell_type": "markdown",
   "metadata": {},
   "source": [
    "# Problem Statement: \n",
    "Find shorest distance in a 2D Grid \n",
    "\n",
    "```\n",
    ".L...\n",
    "...L.\n",
    "```\n",
    "In the above map we have a [5]x[2] map and the shortest distance between (0,0) and (4,1) is 7"
   ]
  },
  {
   "cell_type": "code",
   "execution_count": 73,
   "metadata": {
    "collapsed": true
   },
   "outputs": [],
   "source": [
    "def shortest(x,y,l):\n",
    "    dist = [ [-1 for x in row] for row in l] #clone the input length\n",
    "    x_MAX=len(l[0])\n",
    "    y_MAX=len(l)\n",
    "    \n",
    "    def legal_nn(pi,pj):\n",
    "        res=[(i,j) for (i,j) in [(pi+1,pj),(pi-6,pj),(pi,pj+1),(pi,pj-1)] \\\n",
    "             if ((i>=0)and(j>=0)and(i<x_MAX)and(j<y_MAX))]\n",
    "        res=[(i,j) for (i,j) in res if l[j][i]==0]\n",
    "        return res\n",
    "        \n",
    "    nn=[(0,0)] # start point\n",
    "    d=0\n",
    "    while(len(nn)>0):\n",
    "        next_gen_nn=[]\n",
    "        for next_n in nn:\n",
    "            i,j=next_n\n",
    "            if(dist[j][i]<0):\n",
    "                next_gen_nn= next_gen_nn + legal_nn(i,j)\n",
    "                dist[j][i]=d\n",
    "        d+=1\n",
    "        nn=next_gen_nn\n",
    "    return dist[y][x]"
   ]
  },
  {
   "cell_type": "code",
   "execution_count": 74,
   "metadata": {
    "collapsed": false
   },
   "outputs": [],
   "source": [
    "# unit test\n",
    "lava1=[[0,1,0,0,0],\n",
    "       [0,0,0,1,0]]\n",
    "\n",
    "assert(shortest(4,1,lava1)==7)\n",
    "assert(shortest(0,0,lava1)==0)\n",
    "assert(shortest(2,0,lava1)==4)"
   ]
  },
  {
   "cell_type": "code",
   "execution_count": 70,
   "metadata": {
    "collapsed": false
   },
   "outputs": [
    {
     "ename": "AssertionError",
     "evalue": "",
     "output_type": "error",
     "traceback": [
      "\u001b[0;31m---------------------------------------------------------------------------\u001b[0m",
      "\u001b[0;31mAssertionError\u001b[0m                            Traceback (most recent call last)",
      "\u001b[0;32m<ipython-input-70-fa3f6d411be7>\u001b[0m in \u001b[0;36m<module>\u001b[0;34m()\u001b[0m\n\u001b[0;32m----> 1\u001b[0;31m \u001b[0;32massert\u001b[0m\u001b[0;34m(\u001b[0m\u001b[0;32mFalse\u001b[0m\u001b[0;34m)\u001b[0m\u001b[0;34m\u001b[0m\u001b[0m\n\u001b[0m",
      "\u001b[0;31mAssertionError\u001b[0m: "
     ]
    }
   ],
   "source": [
    "assert(False)"
   ]
  },
  {
   "cell_type": "code",
   "execution_count": 69,
   "metadata": {
    "collapsed": false
   },
   "outputs": [],
   "source": [
    "lava2=[[0,0],\n",
    "       [1,0],\n",
    "       [1,0],\n",
    "       [0,0],\n",
    "       [1,0],\n",
    "       [0,0]\n",
    "       ]\n",
    "assert(shortest(0,0,lava2)==0)\n",
    "assert(shortest(0,3,lava2)==5)\n",
    "assert(shortest(0,5,lava2)==7)\n",
    "assert(shortest(1,5,lava2)==6)\n",
    "       "
   ]
  }
 ],
 "metadata": {
  "kernelspec": {
   "display_name": "Python [default]",
   "language": "python",
   "name": "python3"
  },
  "language_info": {
   "codemirror_mode": {
    "name": "ipython",
    "version": 3
   },
   "file_extension": ".py",
   "mimetype": "text/x-python",
   "name": "python",
   "nbconvert_exporter": "python",
   "pygments_lexer": "ipython3",
   "version": "3.5.2"
  }
 },
 "nbformat": 4,
 "nbformat_minor": 2
}
