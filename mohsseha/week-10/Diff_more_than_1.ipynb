{
 "cells": [
  {
   "cell_type": "code",
   "execution_count": 10,
   "metadata": {
    "collapsed": false
   },
   "outputs": [],
   "source": [
    "def diff_more_than_1(s1,s2):\n",
    "    len_s1=len(s1)\n",
    "    len_s2=len(s2)\n",
    "    if(len_s1<len_s2):\n",
    "        ss=s1\n",
    "        ls=s2\n",
    "    else:\n",
    "        ss=s2\n",
    "        ls=s1\n",
    "    len_diff=abs(len_s1-len_s2)\n",
    "    if(len_diff>1):\n",
    "        return True # more than 1 insert \n",
    "    i=j=0\n",
    "    while(i<len(ss) and j < len(ls)):\n",
    "        if(ss[i]!=ls[j]):\n",
    "            j+=1\n",
    "            if(j-i>1):\n",
    "                return True\n",
    "        i+=1\n",
    "        j+=1\n",
    "    return False"
   ]
  },
  {
   "cell_type": "code",
   "execution_count": 12,
   "metadata": {
    "collapsed": false
   },
   "outputs": [],
   "source": [
    "assert(diff_more_than_1(\"cat\",\"mat\") == True)\n",
    "assert(diff_more_than_1(\"cat\",\"zecat\") == True)\n",
    "assert(diff_more_than_1(\"cat\",\"cat\") == False)\n",
    "assert(diff_more_than_1(\"cat\",\"cats\") == False)\n",
    "assert(diff_more_than_1(\"cats\",\"cat\") == False)\n",
    "assert(diff_more_than_1(\"coat\",\"cats\") == False)\n",
    "assert(diff_more_than_1(\"cat\",\"raats\") == True)\n",
    "assert(diff_more_than_1(\"cats\",\"dog\") == True)\n",
    "assert(diff_more_than_1(\"at\",\"cat\") == False)"
   ]
  },
  {
   "cell_type": "code",
   "execution_count": 13,
   "metadata": {
    "collapsed": true
   },
   "outputs": [],
   "source": [
    "assert(diff_more_than_1(\"mat\",\"maths\") == True)\n",
    "assert(diff_more_than_1(\"maths\",\"mat\") == True)\n",
    "assert(diff_more_than_1(\"cat\",\"act\") == True)\n",
    "assert(diff_more_than_1(\"cat\",\"cat1\") == False)\n",
    "assert(diff_more_than_1(\"cat\",\"*cat\") == False)\n",
    "assert(diff_more_than_1(\"cat\",\"can\") == False)\n",
    "assert(diff_more_than_1(\"cat\",\"act\") == True)\n",
    "assert(diff_more_than_1(\"cat\",\"caaaaats\") == True)\n",
    "assert(diff_more_than_1(\"f;lsdkjaf;lf\",\";dsjfa;dlkfj\") == True)\n",
    "assert(diff_more_than_1(\"\",\";dsjfa;dlkfj\") == True)\n",
    "assert(diff_more_than_1(\"\",\";\") == False)\n",
    "assert(diff_more_than_1(\"XXX\",\"\") == True)\n",
    "assert(diff_more_than_1(\"X\",\"\") == False)"
   ]
  },
  {
   "cell_type": "code",
   "execution_count": null,
   "metadata": {
    "collapsed": true
   },
   "outputs": [],
   "source": []
  }
 ],
 "metadata": {
  "kernelspec": {
   "display_name": "Python [default]",
   "language": "python",
   "name": "python3"
  },
  "language_info": {
   "codemirror_mode": {
    "name": "ipython",
    "version": 3
   },
   "file_extension": ".py",
   "mimetype": "text/x-python",
   "name": "python",
   "nbconvert_exporter": "python",
   "pygments_lexer": "ipython3",
   "version": "3.5.2"
  }
 },
 "nbformat": 4,
 "nbformat_minor": 2
}
