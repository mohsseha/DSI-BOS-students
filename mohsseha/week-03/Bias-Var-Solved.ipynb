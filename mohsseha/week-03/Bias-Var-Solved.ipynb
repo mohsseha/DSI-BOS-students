{
 "cells": [
  {
   "cell_type": "markdown",
   "metadata": {},
   "source": [
    "# Bias Variance Tradeoff\n",
    "\n",
    "In this notebook we investigate the bias and variance of models. In the first section we'll investigate fitting functions of the form:\n",
    "\n",
    "$$f(x) = w_0 + w_1 * x^n$$\n",
    "\n",
    "to some cubic polynomial data with noise."
   ]
  },
  {
   "cell_type": "code",
   "execution_count": 1,
   "metadata": {
    "collapsed": false
   },
   "outputs": [],
   "source": [
    "% matplotlib inline\n",
    "import random\n",
    "\n",
    "from matplotlib import pyplot as plt\n",
    "import numpy as np\n",
    "import pandas as pd\n",
    "from scipy import stats\n",
    "from sklearn import datasets, linear_model, cross_validation"
   ]
  },
  {
   "cell_type": "markdown",
   "metadata": {},
   "source": [
    "## Some helper functions\n",
    "The following functions will generate data and polynomial values. Not all of them are used/useful.."
   ]
  },
  {
   "cell_type": "code",
   "execution_count": 2,
   "metadata": {
    "collapsed": true
   },
   "outputs": [],
   "source": [
    "def polynomials(X, degree=1):\n",
    "    array = [X]\n",
    "    y = X\n",
    "    for i in range(2, int(degree + 1)):\n",
    "        y = y * X\n",
    "        array.append(y)\n",
    "    return np.array(array).transpose()\n",
    "\n",
    "def monomials(X, degree=1):\n",
    "    return np.array([[1, x**degree] for x in X])\n",
    "\n",
    "def generate_data(func, a, b, n=100):\n",
    "    data = []\n",
    "    for _ in range(n):\n",
    "        x = random.random() * (b - a)\n",
    "        y = func(x)\n",
    "        data.append((x, y))\n",
    "    return list(sorted(data))\n",
    "\n",
    "#constants to be used later: \n",
    "mu, sigma = 0, 0.5 # mean and standard deviation of noise \n",
    "MAX_COMP=25\n"
   ]
  },
  {
   "cell_type": "markdown",
   "metadata": {},
   "source": [
    "test what the functions looks do: "
   ]
  },
  {
   "cell_type": "code",
   "execution_count": 3,
   "metadata": {
    "collapsed": false
   },
   "outputs": [
    {
     "name": "stdout",
     "output_type": "stream",
     "text": [
      "[[  0   0   0]\n",
      " [  1   1   1]\n",
      " [  2   4   8]\n",
      " [  3   9  27]\n",
      " [  4  16  64]\n",
      " [  5  25 125]\n",
      " [  6  36 216]\n",
      " [  7  49 343]\n",
      " [  8  64 512]\n",
      " [  9  81 729]]\n",
      "[[   1.            0.        ]\n",
      " [   1.            1.        ]\n",
      " [   1.            5.65685425]\n",
      " [   1.           15.58845727]\n",
      " [   1.           32.        ]\n",
      " [   1.           55.90169944]\n",
      " [   1.           88.18163074]\n",
      " [   1.          129.64181424]\n",
      " [   1.          181.01933598]\n",
      " [   1.          243.        ]]\n"
     ]
    },
    {
     "data": {
      "text/plain": [
       "[(0.2684814427301172, 0.0720822850904452),\n",
       " (0.595282601042324, 0.3543613751037147),\n",
       " (0.7200963479831624, 0.5185387503786877),\n",
       " (0.7544617127883428, 0.5692124760635199),\n",
       " (0.7898565959056136, 0.6238734420956038),\n",
       " (0.9190023600839428, 0.8445653378398568),\n",
       " (1.1062850402135302, 1.2238665902002521),\n",
       " (1.6348945333362748, 2.6728801351328357),\n",
       " (1.978856770840651, 3.915874119501889),\n",
       " (1.9982300456388051, 3.992923315293661)]"
      ]
     },
     "execution_count": 3,
     "metadata": {},
     "output_type": "execute_result"
    }
   ],
   "source": [
    "X = np.array(range(10))\n",
    "print(polynomials(X, 3)) # each row is x raised to different powers\n",
    "print(monomials(X, 5/2)) #  can you guess? \n",
    "generate_data(lambda x: x*x,0,2,10) # return x values and x^2 from 0->2 with 10 meshing"
   ]
  },
  {
   "cell_type": "markdown",
   "metadata": {},
   "source": [
    "## Fitting Polynomial Functions\n",
    "\n",
    "Here we fit try to fit our sample data with an increasing exponent:\n",
    "\n",
    "$$f(x) = 1 + b x^n$$\n",
    "\n",
    "None of these models are quite right because the data is generate from the function\n",
    "\n",
    "$$ \\hat{f}(x) = 4 + 5 x - 3 x^2 + 0.1 x^3$$\n",
    "\n",
    "So each model is not quite right because one or more terms is missing. This will allow us to take a closer look at the bias-variance tradeoff.\n",
    "\n",
    "Let's start with $n = 1, 2, 3, 4$."
   ]
  },
  {
   "cell_type": "markdown",
   "metadata": {},
   "source": [
    "### Let's generate the data that will be used in the fit  and plot it: "
   ]
  },
  {
   "cell_type": "code",
   "execution_count": 4,
   "metadata": {
    "collapsed": false
   },
   "outputs": [
    {
     "data": {
      "text/plain": [
       "[<matplotlib.lines.Line2D at 0x117807a58>]"
      ]
     },
     "execution_count": 4,
     "metadata": {},
     "output_type": "execute_result"
    },
    {
     "data": {
      "image/png": "[encoded data removed]",
      "text/plain": [
       "<matplotlib.figure.Figure at 0x1153cfb70>"
      ]
     },
     "metadata": {},
     "output_type": "display_data"
    }
   ],
   "source": [
    "# Generate some data for the formula below\n",
    "f = lambda x: 4 + 5 * x - 3 * x*x + 0.1 * x * x * x + np.random.normal(mu, sigma)\n",
    "data = generate_data(f, 0, 2, n=80)\n",
    "data_cv=generate_data(f, 0, 2, n=80)\n",
    "plt.plot(pd.DataFrame(data)[0],pd.DataFrame(data)[1],\"ro\") # can you think of a cleaner way of ploting this? :) "
   ]
  },
  {
   "cell_type": "code",
   "execution_count": 47,
   "metadata": {
    "collapsed": false
   },
   "outputs": [],
   "source": [
    "def rmse(yh,h):\n",
    "    l=yh.size \n",
    "    return np.sqrt(np.sum((yh-h)*(yh-h))/l)\n",
    "\n",
    "def score_rms(model,x,y):\n",
    "    h=model.predict(x)\n",
    "    return rmse(y,h)\n",
    "\n",
    "def estimate_error_using_cv_RAW(data,model_n):\n",
    "    domain = np.array([x[0] for x in data])\n",
    "    Y = np.array([x[1] for x in data])\n",
    "    X = monomials(domain, model_n) # since our model is w0+w1*x^n\n",
    "    #kfold =cross_validation.KFold(n=len(data),n_folds=8,shuffle=True) # 8 way cross-validation, Can you guess why we are using KFold? \n",
    "    cv_errors=cross_validation.cross_val_score(linear_model.LinearRegression(), X, Y, scoring=score_rms, cv=20)\n",
    "    return cv_errors\n",
    "def estimate_error_using_cv(data,model_n):\n",
    "    return np.mean(estimate_error_using_cv_RAW(data,model_n)) #because of the way mean_squared_error is defined in scikit-learn \n",
    "\n",
    "def max_error_using_cv(data,model_n):\n",
    "    return np.percentile(estimate_error_using_cv_RAW(data,model_n),65) #because of the way mean_squared_error is defined in scikit-learn \n",
    "def min_error_using_cv(data,model_n):\n",
    "    return np.percentile(estimate_error_using_cv_RAW(data,model_n),35) #because of the way mean_squared_error is defined in scikit-learn \n",
    "\n",
    "\n",
    "def plot_data_and_model(data,model_n):\n",
    "    #first fit the model: \n",
    "    domain = np.array([x[0] for x in data])\n",
    "    Y = np.array([x[1] for x in data])\n",
    "    X = monomials(domain, model_n) # since our model is w0+w1*x^n\n",
    "    fitted_model=linear_model.LinearRegression().fit(X,Y) #using all data \n",
    "#     print(\"for our model we have w=\",fitted_model.coef_)\n",
    "    plt.plot(pd.DataFrame(data)[0],fitted_model.predict(X),\"b\",pd.DataFrame(data)[0],pd.DataFrame(data)[1],\"ro\") # can you think of a cleaner way of ploting this? :) "
   ]
  },
  {
   "cell_type": "markdown",
   "metadata": {},
   "source": [
    "### Now let's experiment and make sure the #'s we are getting are ok: \n",
    "\n",
    "Things to medidate on:\n",
    "    1. How can you *eyeball* the results from `estimate_error_using_cv` ?\n",
    "    2. by walking thoughtthe models of different n's can you see which model is likely to be the best? "
   ]
  },
  {
   "cell_type": "code",
   "execution_count": 48,
   "metadata": {
    "collapsed": false
   },
   "outputs": [
    {
     "data": {
      "text/plain": [
       "0.98888645813693332"
      ]
     },
     "execution_count": 48,
     "metadata": {},
     "output_type": "execute_result"
    },
    {
     "data": {
      "image/png": "[encoded data removed]",
      "text/plain": [
       "<matplotlib.figure.Figure at 0x1186ba7b8>"
      ]
     },
     "metadata": {},
     "output_type": "display_data"
    }
   ],
   "source": [
    "plot_data_and_model(data,model_n=0)\n",
    "estimate_error_using_cv(data,model_n=0)"
   ]
  },
  {
   "cell_type": "code",
   "execution_count": 49,
   "metadata": {
    "collapsed": false,
    "scrolled": false
   },
   "outputs": [
    {
     "data": {
      "text/plain": [
       "[<matplotlib.lines.Line2D at 0x1192eb6d8>]"
      ]
     },
     "execution_count": 49,
     "metadata": {},
     "output_type": "execute_result"
    },
    {
     "data": {
      "image/png": "[encoded data removed]",
      "text/plain": [
       "<matplotlib.figure.Figure at 0x118a41080>"
      ]
     },
     "metadata": {},
     "output_type": "display_data"
    }
   ],
   "source": [
    "cv_res=pd.DataFrame([[deg, estimate_error_using_cv(data_cv,model_n=deg)] for deg in range(MAX_COMP) ])\n",
    "plt.plot(cv_res[0],cv_res[1],\"r\") # the CV curve: "
   ]
  },
  {
   "cell_type": "markdown",
   "metadata": {},
   "source": [
    "# Lets Now Generate The non-CV curve \n",
    "\n",
    "Let's figure out how we are going to generate the other (blue curve) and see how well it works:"
   ]
  },
  {
   "cell_type": "code",
   "execution_count": 50,
   "metadata": {
    "collapsed": false
   },
   "outputs": [
    {
     "data": {
      "text/plain": [
       "0.98091744968651506"
      ]
     },
     "execution_count": 50,
     "metadata": {},
     "output_type": "execute_result"
    }
   ],
   "source": [
    "def estimate_error_using_train(data,model_n):\n",
    "    domain = np.array([x[0] for x in data])\n",
    "    Y = np.array([x[1] for x in data])\n",
    "    X = monomials(domain, model_n) # since our model is w0+w1*x^n\n",
    "    fitted_model=linear_model.LinearRegression().fit(X,Y) \n",
    "    err=rmse(Y,fitted_model.predict(X))\n",
    "#     print(\"mse of error for this fit is: \",err)\n",
    "    return err\n",
    "\n",
    "estimate_error_using_train(data,model_n=1)"
   ]
  },
  {
   "cell_type": "code",
   "execution_count": 69,
   "metadata": {
    "collapsed": false
   },
   "outputs": [
    {
     "data": {
      "text/plain": [
       "[<matplotlib.lines.Line2D at 0x119b170f0>,\n",
       " <matplotlib.lines.Line2D at 0x119b173c8>,\n",
       " <matplotlib.lines.Line2D at 0x119b17cf8>,\n",
       " <matplotlib.lines.Line2D at 0x119b1b588>]"
      ]
     },
     "execution_count": 69,
     "metadata": {},
     "output_type": "execute_result"
    },
    {
     "data": {
      "image/png": "[encoded data removed]",
      "text/plain": [
       "<matplotlib.figure.Figure at 0x11953c400>"
      ]
     },
     "metadata": {},
     "output_type": "display_data"
    }
   ],
   "source": [
    "train_res=pd.DataFrame([[deg, estimate_error_using_train(data,model_n=deg)] for deg in range(MAX_COMP) ])\n",
    "cv_res=pd.DataFrame([[deg, estimate_error_using_cv(data,model_n=deg)] for deg in range(MAX_COMP) ])\n",
    "cv_max=pd.DataFrame([[deg, max_error_using_cv(data,model_n=deg)] for deg in range(MAX_COMP) ])\n",
    "cv_min=pd.DataFrame([[deg, min_error_using_cv(data,model_n=deg)] for deg in range(MAX_COMP) ])\n",
    "plt.plot(cv_res[0],cv_res[1],'r',train_res[0],train_res[1],'b',cv_min[0],cv_min[1],'r--',cv_max[0],cv_max[1],'r--') # the CV curve: "
   ]
  },
  {
   "cell_type": "markdown",
   "metadata": {},
   "source": [
    "# Notes About Results\n",
    "\n",
    "In the curve above the bias and variance section can be seen on the left and the right. The bias component explains why the RMS error decreases from around 0 to around 5 and the Variance component of the error can be seen from around 7 to 25. \n",
    "\n",
    "## Why is this curve not exactly like the common bias-variance tradeoff curves?\n",
    "The above curve does not look exactly like the common "
   ]
  },
  {
   "cell_type": "code",
   "execution_count": null,
   "metadata": {
    "collapsed": true
   },
   "outputs": [],
   "source": []
  }
 ],
 "metadata": {
  "anaconda-cloud": {},
  "kernelspec": {
   "display_name": "Python [conda root]",
   "language": "python",
   "name": "conda-root-py"
  },
  "language_info": {
   "codemirror_mode": {
    "name": "ipython",
    "version": 3
   },
   "file_extension": ".py",
   "mimetype": "text/x-python",
   "name": "python",
   "nbconvert_exporter": "python",
   "pygments_lexer": "ipython3",
   "version": "3.5.2"
  }
 },
 "nbformat": 4,
 "nbformat_minor": 0
}
