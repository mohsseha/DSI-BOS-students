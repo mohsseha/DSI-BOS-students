{
 "cells": [
  {
   "cell_type": "markdown",
   "metadata": {},
   "source": [
    "# Bias Variance Tradeoff\n",
    "\n",
    "In this notebook we investigate the bias and variance of models. In the first section we'll investigate fitting functions of the form:\n",
    "\n",
    "$$f(x) = w_0 + w_1 * x^n$$\n",
    "\n",
    "to some cubic polynomial data with noise."
   ]
  },
  {
   "cell_type": "code",
   "execution_count": 4,
   "metadata": {
    "collapsed": false
   },
   "outputs": [],
   "source": [
    "% matplotlib inline\n",
    "import random\n",
    "\n",
    "from matplotlib import pyplot as plt\n",
    "import numpy as np\n",
    "import pandas as pd\n",
    "from scipy import stats\n",
    "from sklearn import datasets, linear_model, cross_validation"
   ]
  },
  {
   "cell_type": "code",
   "execution_count": null,
   "metadata": {
    "collapsed": true
   },
   "outputs": [],
   "source": []
  },
  {
   "cell_type": "markdown",
   "metadata": {},
   "source": [
    "## Some helper functions\n",
    "The following functions will generate data and polynomial values. Not all of them are used/useful.."
   ]
  },
  {
   "cell_type": "code",
   "execution_count": 55,
   "metadata": {
    "collapsed": true
   },
   "outputs": [],
   "source": [
    "def polynomials(X, degree=1):\n",
    "    array = [X]\n",
    "    y = X\n",
    "    for i in range(2, int(degree + 1)):\n",
    "        y = y * X\n",
    "        array.append(y)\n",
    "    return np.array(array).transpose()\n",
    "\n",
    "def monomials(X, degree=1):\n",
<<<<<<< HEAD
    "    # can you guess what this does? \n",
    "    return polynomials(X, degree=1)\n",
=======
    "    array = [X]\n",
    "    y = X\n",
    "    for i in range(2, int(degree+1)):\n",
    "        y = y * X**(degree-0.5) \n",
    "        array.append(y)  \n",
    "    array = np.array(array).transpose()\n",
    "    array[:, 0] =  1\n",
    "    return array\n",
>>>>>>> b3b92c19648ba37853db77baec840f8c82f3a0ee
    "\n",
    "def generate_data(func, a, b, n=100):\n",
    "    data = []\n",
    "    for _ in range(n):\n",
    "        x = random.random() * (b - a)\n",
    "        y = func(x)\n",
    "        data.append((x, y))\n",
    "    return list(sorted(data))\n",
    "\n",
    "#constants to be used later: \n",
    "mu, sigma = 0, 0.1 # mean and standard deviation of noise \n",
    "\n"
   ]
  },
  {
   "cell_type": "code",
   "execution_count": 2,
   "metadata": {
    "collapsed": true
   },
   "outputs": [],
   "source": [
    "def polynomials(X, degree=1):\n",
    "    array = [X]\n",
    "    y = X\n",
    "    for i in range(2, int(degree + 1)):\n",
    "        y = y * X\n",
    "        array.append(y)\n",
    "    return np.array(array).transpose()"
   ]
  },
  {
   "cell_type": "code",
   "execution_count": 3,
   "metadata": {
    "collapsed": true
   },
   "outputs": [],
   "source": [
    "X = np.array(range(10))"
   ]
  },
  {
   "cell_type": "code",
   "execution_count": 6,
   "metadata": {
    "collapsed": false
   },
   "outputs": [
    {
     "data": {
      "text/plain": [
       "array([[  0,   0,   0],\n",
       "       [  1,   1,   1],\n",
       "       [  2,   4,   8],\n",
       "       [  3,   9,  27],\n",
       "       [  4,  16,  64],\n",
       "       [  5,  25, 125],\n",
       "       [  6,  36, 216],\n",
       "       [  7,  49, 343],\n",
       "       [  8,  64, 512],\n",
       "       [  9,  81, 729]])"
      ]
     },
     "execution_count": 6,
     "metadata": {},
     "output_type": "execute_result"
    }
   ],
   "source": [
    "polynomials(X, degree=3)"
   ]
  },
  {
   "cell_type": "code",
   "execution_count": 13,
   "metadata": {
    "collapsed": false
   },
   "outputs": [
    {
     "data": {
      "text/plain": [
       "5.656854249492381"
      ]
     },
     "execution_count": 13,
     "metadata": {},
     "output_type": "execute_result"
    }
   ],
   "source": [
    "2**2.5"
   ]
  },
  {
   "cell_type": "code",
   "execution_count": null,
   "metadata": {
    "collapsed": true
   },
   "outputs": [],
   "source": []
  },
  {
   "cell_type": "code",
   "execution_count": null,
   "metadata": {
    "collapsed": true
   },
   "outputs": [],
   "source": []
  },
  {
   "cell_type": "code",
   "execution_count": 10,
   "metadata": {
    "collapsed": false
   },
   "outputs": [
    {
     "data": {
      "text/plain": [
       "9"
      ]
     },
     "execution_count": 10,
     "metadata": {},
     "output_type": "execute_result"
    }
   ],
   "source": [
    "3**(5/2)"
   ]
  },
  {
   "cell_type": "code",
   "execution_count": null,
   "metadata": {
    "collapsed": true
   },
   "outputs": [],
   "source": []
  },
  {
   "cell_type": "code",
   "execution_count": null,
   "metadata": {
    "collapsed": true
   },
   "outputs": [],
   "source": []
  },
  {
   "cell_type": "code",
   "execution_count": null,
   "metadata": {
    "collapsed": true
   },
   "outputs": [],
   "source": []
  },
  {
   "cell_type": "markdown",
   "metadata": {},
   "source": [
    "test what the functions looks do: "
   ]
  },
  {
   "cell_type": "code",
   "execution_count": 56,
   "metadata": {
    "collapsed": false
   },
   "outputs": [
    {
     "name": "stdout",
     "output_type": "stream",
     "text": [
      "[[  0   0   0]\n",
      " [  1   1   1]\n",
      " [  2   4   8]\n",
      " [  3   9  27]\n",
      " [  4  16  64]\n",
      " [  5  25 125]\n",
      " [  6  36 216]\n",
      " [  7  49 343]\n",
      " [  8  64 512]\n",
      " [  9  81 729]]\n",
      "[[   1.            0.        ]\n",
      " [   1.            1.        ]\n",
      " [   1.            5.65685425]\n",
      " [   1.           15.58845727]\n",
      " [   1.           32.        ]\n",
      " [   1.           55.90169944]\n",
      " [   1.           88.18163074]\n",
      " [   1.          129.64181424]\n",
      " [   1.          181.01933598]\n",
      " [   1.          243.        ]]\n"
     ]
    },
    {
     "data": {
      "text/plain": [
       "[(0.2602061546840648, 0.06770724293546747),\n",
       " (0.5715517947064823, 0.32667145403220094),\n",
       " (1.2472426955940417, 1.5556143417126913),\n",
       " (1.3549743699478942, 1.8359555432156929),\n",
       " (1.4848741555341265, 2.204851257773185),\n",
       " (1.691499816623576, 2.861171629637591),\n",
       " (1.7079441584692654, 2.917073248449287),\n",
       " (1.7198102734051453, 2.9577473765098805),\n",
       " (1.8294104661121477, 3.3467426535206655),\n",
       " (1.843842291779631, 3.3997543969551622)]"
      ]
     },
     "execution_count": 56,
     "metadata": {},
     "output_type": "execute_result"
    }
   ],
   "source": [
    "X = np.array(range(10))\n",
    "print(polynomials(X, 3)) # each row is x raised to different powers\n",
    "print(monomials(X, 5/2)) #  can you guess? \n",
    "generate_data(lambda x: x*x,0,2,10) # return x values and x^2 from 0->2 with 10 meshing"
   ]
  },
  {
   "cell_type": "markdown",
   "metadata": {},
   "source": [
    "## Fitting Polynomial Functions\n",
    "\n",
    "Here we fit try to fit our sample data with an increasing exponent:\n",
    "\n",
    "$$f(x) = 1 + b x^n$$\n",
    "\n",
    "None of these models are quite right because the data is generate from the function\n",
    "\n",
    "$$ \\hat{f}(x) = 4 + 5 x - 3 x^2 + 0.1 x^3$$\n",
    "\n",
    "So each model is not quite right because one or more terms is missing. This will allow us to take a closer look at the bias-variance tradeoff.\n",
    "\n",
    "Let's start with $n = 1, 2, 3, 4$."
   ]
  },
  {
   "cell_type": "markdown",
   "metadata": {},
   "source": [
    "### Let's generate the data that will be used in the fit  and plot it: "
   ]
  },
  {
   "cell_type": "code",
   "execution_count": 58,
   "metadata": {
    "collapsed": false
   },
   "outputs": [
    {
     "data": {
      "text/plain": [
       "[<matplotlib.lines.Line2D at 0xc2de4a8>]"
      ]
     },
     "execution_count": 58,
     "metadata": {},
     "output_type": "execute_result"
    },
    {
     "data": {
      "image/png": "iVBORw0KGgoAAAANSUhEUgAAAgsAAAFkCAYAAACuFXjcAAAABHNCSVQICAgIfAhkiAAAAAlwSFlz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\n2hLI/N4XYwAAAABJRU5ErkJggg==\n",
      "text/plain": [
       "<matplotlib.figure.Figure at 0xbc41470>"
      ]
     },
     "metadata": {},
     "output_type": "display_data"
    }
   ],
   "source": [
    "# Generate some data for the formula below\n",
    "f = lambda x: 4 + 5 * x - 3 * x*x + 0.1 * x * x * x + np.random.normal(mu, sigma)\n",
    "data = generate_data(lambda x: x*x,0,2,10)\n",
    "plt.plot(pd.DataFrame(data)[0],pd.DataFrame(data)[1],\"ro\") # can you think of a cleaner way of ploting this? :) "
   ]
  },
  {
   "cell_type": "code",
   "execution_count": 52,
   "metadata": {
    "collapsed": false
   },
   "outputs": [],
   "source": [
    "def rmse(yh,h):\n",
    "    return ???\n",
    "\n",
    "def score_rms(model,x,y):\n",
    "    # how does this related to cross_val_score ? \n",
    "    h=model.predict(x)\n",
    "    return rmse(y,h)\n",
    "\n",
    "def estimate_error_using_cv(data,model_n):\n",
    "    domain = np.array([x[0] for x in data])\n",
    "    Y = np.array([x[1] for x in data])\n",
    "    X = monomials(domain, model_n) # since our model is w0+w1*x^n\n",
    "    kfold =????# 8 way cross-validation, Can you guess why we are using KFold? \n",
    "    cv_errors=cross_validation.cross_val_score(????, X, Y, scoring=score_rms, cv=kfold)\n",
    "    #print(cv_errors)\n",
    "    return np.mean(cv_errors) #because of the way mean_squared_error is defined in scikit-learn \n",
    "    \n",
    "def plot_data_and_model(data,model_n):\n",
    "    #first fit the model: \n",
    "    domain = np.array([x[0] for x in data])\n",
    "    Y = np.array([x[1] for x in data])\n",
    "    X = monomials(domain, model_n) # since our model is w0+w1*x^n\n",
    "    fitted_model=linear_model.LinearRegression().fit(X,Y) #using all data \n",
    "    print(\"for our model we have w=\",fitted_model.coef_)\n",
    "    plt.plot(pd.DataFrame(data)[0],fitted_model.predict(X),\"b\",pd.DataFrame(data)[0],pd.DataFrame(data)[1],\"ro\") # can you think of a cleaner way of ploting this? :) "
   ]
  },
  {
   "cell_type": "markdown",
   "metadata": {},
   "source": [
    "### Now let's experiment and make sure the #'s we are getting are ok: \n",
    "\n",
    "Things to medidate on:\n",
    "    1. How can you *eyeball* the results from `estimate_error_using_cv` ?\n",
    "    2. by walking thoughtthe models of different n's can you see which model is likely to be the best? "
   ]
  },
  {
   "cell_type": "code",
   "execution_count": 53,
   "metadata": {
    "collapsed": false
   },
   "outputs": [
    {
     "name": "stdout",
     "output_type": "stream",
     "text": [
      "for our model we have w= [ 0.         -0.53246138]\n"
     ]
    },
    {
     "data": {
      "text/plain": [
       "0.74006045465050807"
      ]
     },
     "execution_count": 53,
     "metadata": {},
     "output_type": "execute_result"
    },
    {
     "data": {
      "image/png": "iVBORw0KGgoAAAANSUhEUgAAAgsAAAFkCAYAAACuFXjcAAAABHNCSVQICAgIfAhkiAAAAAlwSFlz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\nERFJ6f8CwzCvJDgCgK0AAAAASUVORK5CYII=\n",
      "text/plain": [
       "<matplotlib.figure.Figure at 0x119694358>"
      ]
     },
     "metadata": {},
     "output_type": "display_data"
    }
   ],
   "source": [
    "plot_data_and_model(data,model_n=1)\n",
    "estimate_error_using_cv(data_cv,model_n=1)\n"
   ]
  },
  {
   "cell_type": "code",
   "execution_count": 54,
   "metadata": {
    "collapsed": false,
    "scrolled": false
   },
   "outputs": [
    {
     "data": {
      "text/plain": [
       "[<matplotlib.lines.Line2D at 0x119a21080>]"
      ]
     },
     "execution_count": 54,
     "metadata": {},
     "output_type": "execute_result"
    },
    {
     "data": {
      "image/png": "iVBORw0KGgoAAAANSUhEUgAAAhIAAAFkCAYAAAB1rtL+AAAABHNCSVQICAgIfAhkiAAAAAlwSFlz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\n9v8BMopbc3TUD7MAAAAASUVORK5CYII=\n",
      "text/plain": [
       "<matplotlib.figure.Figure at 0x1197cddd8>"
      ]
     },
     "metadata": {},
     "output_type": "display_data"
    }
   ],
   "source": [
    "cv_res=pd.DataFrame([[deg, estimate_error_using_cv(data_cv,model_n=deg)] for deg in range(15) ])\n",
    "plt.plot(cv_res[0],cv_res[1],'r') # the CV curve: \n"
   ]
  },
  {
   "cell_type": "markdown",
   "metadata": {},
   "source": [
    "# Lets Now Generate The non-CV curve  -- Potential HW (optional\n",
    "\n",
    "Can you generate the blue curve? "
   ]
  },
  {
   "cell_type": "code",
   "execution_count": null,
   "metadata": {
    "collapsed": true
   },
   "outputs": [],
   "source": []
  }
 ],
 "metadata": {
  "anaconda-cloud": {},
  "kernelspec": {
   "display_name": "Python [Root]",
   "language": "python",
   "name": "Python [Root]"
  },
  "language_info": {
   "codemirror_mode": {
    "name": "ipython",
    "version": 2
   },
   "file_extension": ".py",
   "mimetype": "text/x-python",
   "name": "python",
   "nbconvert_exporter": "python",
   "pygments_lexer": "ipython2",
   "version": "2.7.12"
  }
 },
 "nbformat": 4,
 "nbformat_minor": 0
}
