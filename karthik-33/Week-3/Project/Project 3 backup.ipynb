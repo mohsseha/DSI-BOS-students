{
 "cells": [
  {
   "cell_type": "markdown",
   "metadata": {},
   "source": [
    "# Data Workflow Lab 2\n",
    "\n",
    "Proceed with your analysis of the Project 3 data set. You may need to compute new columns as you proceed. Fit one or more linear models to the data, investigate model fits and outliers, use regularization when appropriate.\n",
    "\n",
    "### Learning objectives\n",
    "- Perform exploratory analysis\n",
    "- Generate correlation matrix of the features\n",
    "- Generate linear regression models\n",
    "- Evaluate model fit\n",
    "\n",
    "If appropriate for your models and featuers:\n",
    "- Use [feature selection](http://scikit-learn.org/stable/modules/feature_selection.html) to pick the best features\n",
    "- Try different regularization options"
   ]
  },
  {
   "cell_type": "code",
   "execution_count": 1,
   "metadata": {
    "collapsed": true
   },
   "outputs": [],
   "source": [
    "% matplotlib inline\n",
    "\n",
    "from collections import defaultdict\n",
    "import datetime\n",
    "\n",
    "from matplotlib import pyplot as plt\n",
    "\n",
    "plt.rcParams['figure.figsize'] = 5, 5\n",
    "import seaborn as sns\n",
    "\n",
    "import numpy as np\n",
    "import pandas as pd\n",
    "from sklearn import linear_model, preprocessing, metrics\n",
    "from sklearn.cross_validation import train_test_split, cross_val_score, cross_val_predict"
   ]
  },
  {
   "cell_type": "markdown",
   "metadata": {},
   "source": [
    "### Cleaning"
   ]
  },
  {
   "cell_type": "code",
   "execution_count": 161,
   "metadata": {
    "collapsed": false
   },
   "outputs": [
    {
     "data": {
      "text/html": [
       "<div>\n",
       "<table border=\"1\" class=\"dataframe\">\n",
       "  <thead>\n",
       "    <tr style=\"text-align: right;\">\n",
       "      <th></th>\n",
       "      <th>Unnamed: 0</th>\n",
       "      <th>Store Number</th>\n",
       "      <th>City</th>\n",
       "      <th>Margin mean</th>\n",
       "      <th>Zipcode</th>\n",
       "      <th>2015 Total sales ($)</th>\n",
       "      <th>2015 Mean sales ($)</th>\n",
       "      <th>Mean Price per L</th>\n",
       "      <th>2015 Total Volume Sold (Liters)</th>\n",
       "      <th>2015 Mean Volume Sold (Liters)</th>\n",
       "      <th>County number</th>\n",
       "      <th>2015 Sales Q1</th>\n",
       "      <th>2016 Sales Q1</th>\n",
       "      <th>First Date</th>\n",
       "      <th>Last Date</th>\n",
       "    </tr>\n",
       "  </thead>\n",
       "  <tbody>\n",
       "    <tr>\n",
       "      <th>0</th>\n",
       "      <td>0</td>\n",
       "      <td>2106</td>\n",
       "      <td>CEDAR FALLS</td>\n",
       "      <td>92.665779</td>\n",
       "      <td>50613</td>\n",
       "      <td>146038.70</td>\n",
       "      <td>277.640114</td>\n",
       "      <td>17.844997</td>\n",
       "      <td>9719.85</td>\n",
       "      <td>18.478802</td>\n",
       "      <td>7</td>\n",
       "      <td>39287.29</td>\n",
       "      <td>30478.75</td>\n",
       "      <td>2015-01-08</td>\n",
       "      <td>2016-03-31</td>\n",
       "    </tr>\n",
       "    <tr>\n",
       "      <th>1</th>\n",
       "      <td>1</td>\n",
       "      <td>2113</td>\n",
       "      <td>GOWRIE</td>\n",
       "      <td>21.149932</td>\n",
       "      <td>50543</td>\n",
       "      <td>9310.22</td>\n",
       "      <td>63.334830</td>\n",
       "      <td>18.507700</td>\n",
       "      <td>659.85</td>\n",
       "      <td>4.488776</td>\n",
       "      <td>94</td>\n",
       "      <td>2833.25</td>\n",
       "      <td>2065.90</td>\n",
       "      <td>2015-01-07</td>\n",
       "      <td>2016-03-23</td>\n",
       "    </tr>\n",
       "    <tr>\n",
       "      <th>2</th>\n",
       "      <td>2</td>\n",
       "      <td>2130</td>\n",
       "      <td>WATERLOO</td>\n",
       "      <td>95.215652</td>\n",
       "      <td>50703</td>\n",
       "      <td>111583.91</td>\n",
       "      <td>285.380844</td>\n",
       "      <td>16.817589</td>\n",
       "      <td>6879.37</td>\n",
       "      <td>17.594297</td>\n",
       "      <td>7</td>\n",
       "      <td>24272.57</td>\n",
       "      <td>27856.11</td>\n",
       "      <td>2015-01-08</td>\n",
       "      <td>2016-03-31</td>\n",
       "    </tr>\n",
       "    <tr>\n",
       "      <th>3</th>\n",
       "      <td>3</td>\n",
       "      <td>2152</td>\n",
       "      <td>ROCKWELL</td>\n",
       "      <td>18.351277</td>\n",
       "      <td>50469</td>\n",
       "      <td>7721.08</td>\n",
       "      <td>54.759433</td>\n",
       "      <td>13.020765</td>\n",
       "      <td>633.37</td>\n",
       "      <td>4.491986</td>\n",
       "      <td>17</td>\n",
       "      <td>2003.46</td>\n",
       "      <td>904.66</td>\n",
       "      <td>2015-01-08</td>\n",
       "      <td>2016-02-25</td>\n",
       "    </tr>\n",
       "    <tr>\n",
       "      <th>4</th>\n",
       "      <td>4</td>\n",
       "      <td>2178</td>\n",
       "      <td>WAUKON</td>\n",
       "      <td>34.454430</td>\n",
       "      <td>52172</td>\n",
       "      <td>24324.18</td>\n",
       "      <td>102.633671</td>\n",
       "      <td>16.053844</td>\n",
       "      <td>1917.12</td>\n",
       "      <td>8.089114</td>\n",
       "      <td>3</td>\n",
       "      <td>5856.41</td>\n",
       "      <td>5588.50</td>\n",
       "      <td>2015-01-07</td>\n",
       "      <td>2016-03-30</td>\n",
       "    </tr>\n",
       "  </tbody>\n",
       "</table>\n",
       "</div>"
      ],
      "text/plain": [
       "   Unnamed: 0  Store Number         City  Margin mean Zipcode  \\\n",
       "0           0          2106  CEDAR FALLS    92.665779   50613   \n",
       "1           1          2113       GOWRIE    21.149932   50543   \n",
       "2           2          2130     WATERLOO    95.215652   50703   \n",
       "3           3          2152     ROCKWELL    18.351277   50469   \n",
       "4           4          2178       WAUKON    34.454430   52172   \n",
       "\n",
       "   2015 Total sales ($)  2015 Mean sales ($)  Mean Price per L   \\\n",
       "0             146038.70           277.640114          17.844997   \n",
       "1               9310.22            63.334830          18.507700   \n",
       "2             111583.91           285.380844          16.817589   \n",
       "3               7721.08            54.759433          13.020765   \n",
       "4              24324.18           102.633671          16.053844   \n",
       "\n",
       "   2015 Total Volume Sold (Liters)  2015 Mean Volume Sold (Liters)  \\\n",
       "0                          9719.85                       18.478802   \n",
       "1                           659.85                        4.488776   \n",
       "2                          6879.37                       17.594297   \n",
       "3                           633.37                        4.491986   \n",
       "4                          1917.12                        8.089114   \n",
       "\n",
       "   County number  2015 Sales Q1  2016 Sales Q1 First Date  Last Date  \n",
       "0              7       39287.29       30478.75 2015-01-08 2016-03-31  \n",
       "1             94        2833.25        2065.90 2015-01-07 2016-03-23  \n",
       "2              7       24272.57       27856.11 2015-01-08 2016-03-31  \n",
       "3             17        2003.46         904.66 2015-01-08 2016-02-25  \n",
       "4              3        5856.41        5588.50 2015-01-07 2016-03-30  "
      ]
     },
     "execution_count": 161,
     "metadata": {},
     "output_type": "execute_result"
    }
   ],
   "source": [
    "# Load the data from the previous lab\n",
    "# If you changed the name you'll need to edit the next line\n",
    "sales = pd.read_csv(\"sales_cleaned.csv\")\n",
    "\n",
    "# Convert dates\n",
    "sales[\"First Date\"] = pd.to_datetime(sales[\"First Date\"], format = \"%Y-%m-%d\")\n",
    "sales[\"Last Date\"] = pd.to_datetime(sales[\"Last Date\"], format = \"%Y-%m-%d\")\n",
    "sales = sales.rename(columns = {\"Sale sum ($)\": \"2015 Total sales ($)\", \"Sale mean ($)\": \"2015 Mean sales ($)\", \"Mean Price per L\": \"2015 Mean price per liter ($)\"})\n",
    "\n",
    "sales.head()"
   ]
  },
  {
   "cell_type": "code",
   "execution_count": 157,
   "metadata": {
    "collapsed": false
   },
   "outputs": [
    {
     "data": {
      "text/plain": [
       "(99,)"
      ]
     },
     "execution_count": 157,
     "metadata": {},
     "output_type": "execute_result"
    }
   ],
   "source": [
    "## TEST ONLY\n",
    "sales[\"County number\"].unique().shape"
   ]
  },
  {
   "cell_type": "code",
   "execution_count": 35,
   "metadata": {
    "collapsed": false
   },
   "outputs": [
    {
     "data": {
      "text/plain": [
       "['2016 Sales Q1']"
      ]
     },
     "execution_count": 35,
     "metadata": {},
     "output_type": "execute_result"
    }
   ],
   "source": [
    "# Check which columns have NaN, and deal with them\n",
    "sales.columns[pd.isnull(sales).any()].tolist()"
   ]
  },
  {
   "cell_type": "code",
   "execution_count": 36,
   "metadata": {
    "collapsed": false
   },
   "outputs": [],
   "source": [
    "# Drop NaN\n",
    "sales_clean = sales.dropna()"
   ]
  },
  {
   "cell_type": "markdown",
   "metadata": {},
   "source": [
    "## Exploratory Analysis\n",
    "Make some plots, look at correlations, etc."
   ]
  },
  {
   "cell_type": "code",
   "execution_count": 37,
   "metadata": {
    "collapsed": false
   },
   "outputs": [
    {
     "data": {
      "text/html": [
       "<div>\n",
       "<table border=\"1\" class=\"dataframe\">\n",
       "  <thead>\n",
       "    <tr style=\"text-align: right;\">\n",
       "      <th></th>\n",
       "      <th>Unnamed: 0</th>\n",
       "      <th>Store Number</th>\n",
       "      <th>Margin mean</th>\n",
       "      <th>2015 Total sales ($)</th>\n",
       "      <th>2015 Mean sales ($)</th>\n",
       "      <th>Mean Price per L</th>\n",
       "      <th>2015 Total Volume Sold (Liters)</th>\n",
       "      <th>2015 Mean Volume Sold (Liters)</th>\n",
       "      <th>County number</th>\n",
       "      <th>2015 Sales Q1</th>\n",
       "      <th>2016 Sales Q1</th>\n",
       "    </tr>\n",
       "  </thead>\n",
       "  <tbody>\n",
       "    <tr>\n",
       "      <th>Unnamed: 0</th>\n",
       "      <td>1.000000</td>\n",
       "      <td>0.936957</td>\n",
       "      <td>-0.086396</td>\n",
       "      <td>-0.323195</td>\n",
       "      <td>-0.086127</td>\n",
       "      <td>0.058226</td>\n",
       "      <td>-0.359733</td>\n",
       "      <td>-0.111916</td>\n",
       "      <td>-0.008113</td>\n",
       "      <td>-0.311475</td>\n",
       "      <td>-0.298326</td>\n",
       "    </tr>\n",
       "    <tr>\n",
       "      <th>Store Number</th>\n",
       "      <td>0.936957</td>\n",
       "      <td>1.000000</td>\n",
       "      <td>-0.062352</td>\n",
       "      <td>-0.376246</td>\n",
       "      <td>-0.062249</td>\n",
       "      <td>0.004937</td>\n",
       "      <td>-0.412657</td>\n",
       "      <td>-0.074192</td>\n",
       "      <td>-0.008096</td>\n",
       "      <td>-0.360313</td>\n",
       "      <td>-0.354313</td>\n",
       "    </tr>\n",
       "    <tr>\n",
       "      <th>Margin mean</th>\n",
       "      <td>-0.086396</td>\n",
       "      <td>-0.062352</td>\n",
       "      <td>1.000000</td>\n",
       "      <td>0.446288</td>\n",
       "      <td>0.999975</td>\n",
       "      <td>0.120684</td>\n",
       "      <td>0.443491</td>\n",
       "      <td>0.936768</td>\n",
       "      <td>0.007377</td>\n",
       "      <td>0.419517</td>\n",
       "      <td>0.021345</td>\n",
       "    </tr>\n",
       "    <tr>\n",
       "      <th>2015 Total sales ($)</th>\n",
       "      <td>-0.323195</td>\n",
       "      <td>-0.376246</td>\n",
       "      <td>0.446288</td>\n",
       "      <td>1.000000</td>\n",
       "      <td>0.446959</td>\n",
       "      <td>0.170287</td>\n",
       "      <td>0.992454</td>\n",
       "      <td>0.416107</td>\n",
       "      <td>0.044827</td>\n",
       "      <td>0.983786</td>\n",
       "      <td>0.149051</td>\n",
       "    </tr>\n",
       "    <tr>\n",
       "      <th>2015 Mean sales ($)</th>\n",
       "      <td>-0.086127</td>\n",
       "      <td>-0.062249</td>\n",
       "      <td>0.999975</td>\n",
       "      <td>0.446959</td>\n",
       "      <td>1.000000</td>\n",
       "      <td>0.122172</td>\n",
       "      <td>0.443910</td>\n",
       "      <td>0.935613</td>\n",
       "      <td>0.007742</td>\n",
       "      <td>0.420029</td>\n",
       "      <td>0.021464</td>\n",
       "    </tr>\n",
       "    <tr>\n",
       "      <th>Mean Price per L</th>\n",
       "      <td>0.058226</td>\n",
       "      <td>0.004937</td>\n",
       "      <td>0.120684</td>\n",
       "      <td>0.170287</td>\n",
       "      <td>0.122172</td>\n",
       "      <td>1.000000</td>\n",
       "      <td>0.130079</td>\n",
       "      <td>-0.083952</td>\n",
       "      <td>0.100787</td>\n",
       "      <td>0.166982</td>\n",
       "      <td>-0.017654</td>\n",
       "    </tr>\n",
       "    <tr>\n",
       "      <th>2015 Total Volume Sold (Liters)</th>\n",
       "      <td>-0.359733</td>\n",
       "      <td>-0.412657</td>\n",
       "      <td>0.443491</td>\n",
       "      <td>0.992454</td>\n",
       "      <td>0.443910</td>\n",
       "      <td>0.130079</td>\n",
       "      <td>1.000000</td>\n",
       "      <td>0.439668</td>\n",
       "      <td>0.036811</td>\n",
       "      <td>0.975140</td>\n",
       "      <td>0.166283</td>\n",
       "    </tr>\n",
       "    <tr>\n",
       "      <th>2015 Mean Volume Sold (Liters)</th>\n",
       "      <td>-0.111916</td>\n",
       "      <td>-0.074192</td>\n",
       "      <td>0.936768</td>\n",
       "      <td>0.416107</td>\n",
       "      <td>0.935613</td>\n",
       "      <td>-0.083952</td>\n",
       "      <td>0.439668</td>\n",
       "      <td>1.000000</td>\n",
       "      <td>-0.014389</td>\n",
       "      <td>0.393769</td>\n",
       "      <td>0.026788</td>\n",
       "    </tr>\n",
       "    <tr>\n",
       "      <th>County number</th>\n",
       "      <td>-0.008113</td>\n",
       "      <td>-0.008096</td>\n",
       "      <td>0.007377</td>\n",
       "      <td>0.044827</td>\n",
       "      <td>0.007742</td>\n",
       "      <td>0.100787</td>\n",
       "      <td>0.036811</td>\n",
       "      <td>-0.014389</td>\n",
       "      <td>1.000000</td>\n",
       "      <td>0.048668</td>\n",
       "      <td>0.001704</td>\n",
       "    </tr>\n",
       "    <tr>\n",
       "      <th>2015 Sales Q1</th>\n",
       "      <td>-0.311475</td>\n",
       "      <td>-0.360313</td>\n",
       "      <td>0.419517</td>\n",
       "      <td>0.983786</td>\n",
       "      <td>0.420029</td>\n",
       "      <td>0.166982</td>\n",
       "      <td>0.975140</td>\n",
       "      <td>0.393769</td>\n",
       "      <td>0.048668</td>\n",
       "      <td>1.000000</td>\n",
       "      <td>0.152734</td>\n",
       "    </tr>\n",
       "    <tr>\n",
       "      <th>2016 Sales Q1</th>\n",
       "      <td>-0.298326</td>\n",
       "      <td>-0.354313</td>\n",
       "      <td>0.021345</td>\n",
       "      <td>0.149051</td>\n",
       "      <td>0.021464</td>\n",
       "      <td>-0.017654</td>\n",
       "      <td>0.166283</td>\n",
       "      <td>0.026788</td>\n",
       "      <td>0.001704</td>\n",
       "      <td>0.152734</td>\n",
       "      <td>1.000000</td>\n",
       "    </tr>\n",
       "  </tbody>\n",
       "</table>\n",
       "</div>"
      ],
      "text/plain": [
       "                                 Unnamed: 0  Store Number  Margin mean  \\\n",
       "Unnamed: 0                         1.000000      0.936957    -0.086396   \n",
       "Store Number                       0.936957      1.000000    -0.062352   \n",
       "Margin mean                       -0.086396     -0.062352     1.000000   \n",
       "2015 Total sales ($)              -0.323195     -0.376246     0.446288   \n",
       "2015 Mean sales ($)               -0.086127     -0.062249     0.999975   \n",
       "Mean Price per L                   0.058226      0.004937     0.120684   \n",
       "2015 Total Volume Sold (Liters)   -0.359733     -0.412657     0.443491   \n",
       "2015 Mean Volume Sold (Liters)    -0.111916     -0.074192     0.936768   \n",
       "County number                     -0.008113     -0.008096     0.007377   \n",
       "2015 Sales Q1                     -0.311475     -0.360313     0.419517   \n",
       "2016 Sales Q1                     -0.298326     -0.354313     0.021345   \n",
       "\n",
       "                                 2015 Total sales ($)  2015 Mean sales ($)  \\\n",
       "Unnamed: 0                                  -0.323195            -0.086127   \n",
       "Store Number                                -0.376246            -0.062249   \n",
       "Margin mean                                  0.446288             0.999975   \n",
       "2015 Total sales ($)                         1.000000             0.446959   \n",
       "2015 Mean sales ($)                          0.446959             1.000000   \n",
       "Mean Price per L                             0.170287             0.122172   \n",
       "2015 Total Volume Sold (Liters)              0.992454             0.443910   \n",
       "2015 Mean Volume Sold (Liters)               0.416107             0.935613   \n",
       "County number                                0.044827             0.007742   \n",
       "2015 Sales Q1                                0.983786             0.420029   \n",
       "2016 Sales Q1                                0.149051             0.021464   \n",
       "\n",
       "                                 Mean Price per L   \\\n",
       "Unnamed: 0                                0.058226   \n",
       "Store Number                              0.004937   \n",
       "Margin mean                               0.120684   \n",
       "2015 Total sales ($)                      0.170287   \n",
       "2015 Mean sales ($)                       0.122172   \n",
       "Mean Price per L                          1.000000   \n",
       "2015 Total Volume Sold (Liters)           0.130079   \n",
       "2015 Mean Volume Sold (Liters)           -0.083952   \n",
       "County number                             0.100787   \n",
       "2015 Sales Q1                             0.166982   \n",
       "2016 Sales Q1                            -0.017654   \n",
       "\n",
       "                                 2015 Total Volume Sold (Liters)  \\\n",
       "Unnamed: 0                                             -0.359733   \n",
       "Store Number                                           -0.412657   \n",
       "Margin mean                                             0.443491   \n",
       "2015 Total sales ($)                                    0.992454   \n",
       "2015 Mean sales ($)                                     0.443910   \n",
       "Mean Price per L                                        0.130079   \n",
       "2015 Total Volume Sold (Liters)                         1.000000   \n",
       "2015 Mean Volume Sold (Liters)                          0.439668   \n",
       "County number                                           0.036811   \n",
       "2015 Sales Q1                                           0.975140   \n",
       "2016 Sales Q1                                           0.166283   \n",
       "\n",
       "                                 2015 Mean Volume Sold (Liters)  \\\n",
       "Unnamed: 0                                            -0.111916   \n",
       "Store Number                                          -0.074192   \n",
       "Margin mean                                            0.936768   \n",
       "2015 Total sales ($)                                   0.416107   \n",
       "2015 Mean sales ($)                                    0.935613   \n",
       "Mean Price per L                                      -0.083952   \n",
       "2015 Total Volume Sold (Liters)                        0.439668   \n",
       "2015 Mean Volume Sold (Liters)                         1.000000   \n",
       "County number                                         -0.014389   \n",
       "2015 Sales Q1                                          0.393769   \n",
       "2016 Sales Q1                                          0.026788   \n",
       "\n",
       "                                 County number  2015 Sales Q1  2016 Sales Q1  \n",
       "Unnamed: 0                           -0.008113      -0.311475      -0.298326  \n",
       "Store Number                         -0.008096      -0.360313      -0.354313  \n",
       "Margin mean                           0.007377       0.419517       0.021345  \n",
       "2015 Total sales ($)                  0.044827       0.983786       0.149051  \n",
       "2015 Mean sales ($)                   0.007742       0.420029       0.021464  \n",
       "Mean Price per L                      0.100787       0.166982      -0.017654  \n",
       "2015 Total Volume Sold (Liters)       0.036811       0.975140       0.166283  \n",
       "2015 Mean Volume Sold (Liters)       -0.014389       0.393769       0.026788  \n",
       "County number                         1.000000       0.048668       0.001704  \n",
       "2015 Sales Q1                         0.048668       1.000000       0.152734  \n",
       "2016 Sales Q1                         0.001704       0.152734       1.000000  "
      ]
     },
     "execution_count": 37,
     "metadata": {},
     "output_type": "execute_result"
    }
   ],
   "source": [
    "# Compute correlations\n",
    "sales_clean.corr()"
   ]
  },
  {
   "cell_type": "code",
   "execution_count": null,
   "metadata": {
    "collapsed": false
   },
   "outputs": [],
   "source": [
    "# Perform some exploratory analysis, make a few plots"
   ]
  },
  {
   "cell_type": "markdown",
   "metadata": {},
   "source": [
    "#### Total 2015 sales vs Total 2015 Q1 sales (all in dollars)\n",
    "<img src=\"TotalsalesbyQ1.png\" width=500 height=300>\n",
    "\n",
    "#### Total 2015 sales (in dollars) vs Total 2015 volume sold (in liters)\n",
    "<img src=\"Totalsalesbyvol.png\" width=500 height=300>\n",
    "\n",
    "#### Total 2015 sales vs Average margin per transaction (all in dollars)\n",
    "<img src=\"Totalsalesbymargin.png\" width=500 height=300>"
   ]
  },
  {
   "cell_type": "markdown",
   "metadata": {},
   "source": [
    "### Model1: LR with CV, with only 2015 Q1 sales as predictor"
   ]
  },
  {
   "cell_type": "markdown",
   "metadata": {},
   "source": [
    "#### 1.1: Data preprocessing"
   ]
  },
  {
   "cell_type": "code",
   "execution_count": 38,
   "metadata": {
    "collapsed": false
   },
   "outputs": [],
   "source": [
    "# Split first\n",
    "X_train, X_test, y_train, y_test = train_test_split(sales_clean[\"2015 Sales Q1\"], \n",
    "                                                    sales_clean[\"2015 Total sales ($)\"],\n",
    "                                                    test_size = 0.4)"
   ]
  },
  {
   "cell_type": "code",
   "execution_count": 39,
   "metadata": {
    "collapsed": false
   },
   "outputs": [
    {
     "name": "stdout",
     "output_type": "stream",
     "text": [
      "(685, 1)\n"
     ]
    }
   ],
   "source": [
    "# Training set variables standardize\n",
    "Xs_train = preprocessing.scale(X_train)\n",
    "ys_train = y_train\n",
    "Xs_train = Xs_train.reshape(-1,1)\n",
    "print(Xs_train.shape)"
   ]
  },
  {
   "cell_type": "markdown",
   "metadata": {},
   "source": [
    "#### 1.2: Model building"
   ]
  },
  {
   "cell_type": "code",
   "execution_count": 159,
   "metadata": {
    "collapsed": false
   },
   "outputs": [],
   "source": [
    "lm1 = linear_model.LinearRegression()\n",
    "model = lm1.fit(Xs_train, ys_train)\n",
    "pred_model = lm1.predict(Xs_train)"
   ]
  },
  {
   "cell_type": "markdown",
   "metadata": {},
   "source": [
    "#### 1.3: Model metrics"
   ]
  },
  {
   "cell_type": "code",
   "execution_count": 160,
   "metadata": {
    "collapsed": false
   },
   "outputs": [
    {
     "name": "stdout",
     "output_type": "stream",
     "text": [
      "[ 0.96882846  0.65361966  0.9247482   0.91198914  0.91278626  0.95597145]\n",
      "R2_model_train: 0.9665944979152435, R2_cv: 0.8879905293852893\n",
      "rmse_model_train: 9374.473084259691, rmse_cv: 24567.509827238704\n"
     ]
    }
   ],
   "source": [
    "# Cross-validation\n",
    "scores = cross_val_score(lm1, Xs_train, ys_train, cv = 6)\n",
    "predcv = cross_val_predict(lm1, Xs_train, ys_train, cv = 6)\n",
    "print(scores)\n",
    "\n",
    "#plt.scatter(Xs_train, predcv)\n",
    "#plt.xlim(0,5)\n",
    "#plt.ylim(0,200000)\n",
    "#plt.show()\n",
    "\n",
    "R2_model = metrics.r2_score(ys_train, pred_model)\n",
    "R2_cv_scores = np.mean(scores)\n",
    "rmse_model = (metrics.mean_squared_error(ys_train, pred_model))**0.5\n",
    "rmse_cv = (metrics.mean_squared_error(ys_train, predcv))**0.5\n",
    "\n",
    "print(\"R2_model_train: {}, R2_cv: {}\".format(R2_model, R2_cv_scores))\n",
    "print(\"rmse_model_train: {}, rmse_cv: {}\".format(rmse_model, rmse_cv))"
   ]
  },
  {
   "cell_type": "code",
   "execution_count": 55,
   "metadata": {
    "collapsed": false
   },
   "outputs": [
    {
     "data": {
      "image/png": "[encoded data removed]",
      "text/plain": [
       "<matplotlib.figure.Figure at 0x17233577278>"
      ]
     },
     "metadata": {},
     "output_type": "display_data"
    },
    {
     "name": "stdout",
     "output_type": "stream",
     "text": [
      "R2_test: 0.9671450873176126, RMSE_test: 11258.659754058655\n"
     ]
    }
   ],
   "source": [
    "# Predictions and scores on test set\n",
    "Xs_test = (X_test - np.mean(X_train))/np.std(X_train)\n",
    "ys_test = y_test\n",
    "Xs_test = Xs_test.reshape(-1,1)\n",
    "\n",
    "pred1 = lm1.predict(Xs_test)\n",
    "pred1 = pred1.reshape(-1,1)\n",
    "\n",
    "plt.figure(figsize=(7,4))\n",
    "plt.xlabel(\"Standardized 2015 Q1 sales - Test data ONLY\")\n",
    "plt.ylabel(\"2015 Total sales\")\n",
    "plt.scatter(Xs_test, ys_test, label=\"Actual (test data ONLY)\")\n",
    "plt.plot(Xs_test, pred1, label=\"Predicted\")\n",
    "plt.show()\n",
    "\n",
    "R2_test = metrics.r2_score(ys_test, pred1)\n",
    "rmse_test = (metrics.mean_squared_error(ys_test, pred1))**0.5\n",
    "\n",
    "print(\"R2_test: {}, RMSE_test: {}\".format(R2_test, rmse_test))"
   ]
  },
  {
   "cell_type": "markdown",
   "metadata": {},
   "source": [
    "#### 1.4: Model coefficients and intercepts"
   ]
  },
  {
   "cell_type": "code",
   "execution_count": 48,
   "metadata": {
    "collapsed": false
   },
   "outputs": [
    {
     "name": "stdout",
     "output_type": "stream",
     "text": [
      "Intercept: 23187.35486131387, Coeff: [ 48231.05371408]\n"
     ]
    }
   ],
   "source": [
    "print(\"Intercept: {}, Coeff: {}\".format(lm1.intercept_, lm1.coef_))"
   ]
  },
  {
   "cell_type": "markdown",
   "metadata": {},
   "source": [
    "#### 1.5: Predicted 2016 sales"
   ]
  },
  {
   "cell_type": "code",
   "execution_count": 145,
   "metadata": {
    "collapsed": false
   },
   "outputs": [
    {
     "name": "stderr",
     "output_type": "stream",
     "text": [
      "C:\\Program Files\\Anaconda3\\lib\\site-packages\\ipykernel\\__main__.py:7: SettingWithCopyWarning: \n",
      "A value is trying to be set on a copy of a slice from a DataFrame.\n",
      "Try using .loc[row_indexer,col_indexer] = value instead\n",
      "\n",
      "See the caveats in the documentation: http://pandas.pydata.org/pandas-docs/stable/indexing.html#indexing-view-versus-copy\n"
     ]
    },
    {
     "data": {
      "text/html": [
       "<div>\n",
       "<table border=\"1\" class=\"dataframe\">\n",
       "  <thead>\n",
       "    <tr style=\"text-align: right;\">\n",
       "      <th></th>\n",
       "      <th>2015 Total sales ($)</th>\n",
       "      <th>Projected 2016 Total sales ($)</th>\n",
       "    </tr>\n",
       "    <tr>\n",
       "      <th>County number</th>\n",
       "      <th></th>\n",
       "      <th></th>\n",
       "    </tr>\n",
       "  </thead>\n",
       "  <tbody>\n",
       "    <tr>\n",
       "      <th>1</th>\n",
       "      <td>42353.24</td>\n",
       "      <td>69269.290296</td>\n",
       "    </tr>\n",
       "    <tr>\n",
       "      <th>2</th>\n",
       "      <td>10245.14</td>\n",
       "      <td>12911.220713</td>\n",
       "    </tr>\n",
       "    <tr>\n",
       "      <th>3</th>\n",
       "      <td>79918.47</td>\n",
       "      <td>75088.580063</td>\n",
       "    </tr>\n",
       "    <tr>\n",
       "      <th>4</th>\n",
       "      <td>77033.64</td>\n",
       "      <td>186395.614638</td>\n",
       "    </tr>\n",
       "    <tr>\n",
       "      <th>5</th>\n",
       "      <td>2869.68</td>\n",
       "      <td>6651.125204</td>\n",
       "    </tr>\n",
       "  </tbody>\n",
       "</table>\n",
       "</div>"
      ],
      "text/plain": [
       "               2015 Total sales ($)  Projected 2016 Total sales ($)\n",
       "County number                                                      \n",
       "1                          42353.24                    69269.290296\n",
       "2                          10245.14                    12911.220713\n",
       "3                          79918.47                    75088.580063\n",
       "4                          77033.64                   186395.614638\n",
       "5                           2869.68                     6651.125204"
      ]
     },
     "execution_count": 145,
     "metadata": {},
     "output_type": "execute_result"
    }
   ],
   "source": [
    "# Standardize \"2016 Q1 sales\" values\n",
    "Xs_2016 = preprocessing.scale(sales_clean[\"2016 Sales Q1\"])\n",
    "Xs_2016 = Xs_2016.reshape(-1,1)\n",
    "# Predict using lm1\n",
    "Y1_2016 = lm1.predict(Xs_2016)\n",
    "\n",
    "sales_clean[\"Projected 2016 Total sales ($)\"] = Y1_2016\n",
    "\n",
    "total_sales_by_county = pd.pivot_table(sales_clean, index=\"County number\", \n",
    "                                       values=[\"2015 Total sales ($)\", \"Projected 2016 Total sales ($)\"], \n",
    "                                      aggfunc=np.sum)\n",
    "total_sales_by_county.head()"
   ]
  },
  {
   "cell_type": "code",
   "execution_count": 148,
   "metadata": {
    "collapsed": false
   },
   "outputs": [
    {
     "name": "stdout",
     "output_type": "stream",
     "text": [
      "2015 Total across all stores: 27036627, 2016 Total across all stores: 26503146\n"
     ]
    }
   ],
   "source": [
    "# Total 2015 vs 2016 sales\n",
    "sum_2015 = np.sum(sales_clean[\"2015 Total sales ($)\"])\n",
    "sum_2016 = np.sum(sales_clean[\"Projected 2016 Total sales ($)\"])\n",
    "print(\"2015 Total across all stores: {}, 2016 Total across all stores: {}\".format(int(sum_2015), int(sum_2016)))"
   ]
  },
  {
   "cell_type": "code",
   "execution_count": 149,
   "metadata": {
    "collapsed": false
   },
   "outputs": [
    {
     "data": {
      "text/plain": [
       "(99, 2)"
      ]
     },
     "execution_count": 149,
     "metadata": {},
     "output_type": "execute_result"
    }
   ],
   "source": [
    "total_sales_by_county.shape"
   ]
  },
  {
   "cell_type": "code",
   "execution_count": 54,
   "metadata": {
    "collapsed": false
   },
   "outputs": [
    {
     "data": {
      "image/png": "[encoded data removed]",
      "text/plain": [
       "<matplotlib.figure.Figure at 0x17233dae978>"
      ]
     },
     "metadata": {},
     "output_type": "display_data"
    }
   ],
   "source": [
    "# Plot 2015vs 2016 sales for each store\n",
    "plt.figure(figsize=(7,4))\n",
    "plt.scatter(sales_clean[\"2015 Total sales ($)\"], Y1_2016)\n",
    "plt.xlabel(\"2015 Total sales ($)\")\n",
    "plt.ylabel(\"Projected 2016 Total sales ($)\")\n",
    "plt.show()"
   ]
  },
  {
   "cell_type": "markdown",
   "metadata": {
    "collapsed": false
   },
   "source": [
    "### Model 2: LR with CV, with various predictors"
   ]
  },
  {
   "cell_type": "code",
   "execution_count": 129,
   "metadata": {
    "collapsed": false
   },
   "outputs": [
    {
     "name": "stderr",
     "output_type": "stream",
     "text": [
      "C:\\Program Files\\Anaconda3\\lib\\site-packages\\ipykernel\\__main__.py:1: SettingWithCopyWarning: \n",
      "A value is trying to be set on a copy of a slice from a DataFrame.\n",
      "Try using .loc[row_indexer,col_indexer] = value instead\n",
      "\n",
      "See the caveats in the documentation: http://pandas.pydata.org/pandas-docs/stable/indexing.html#indexing-view-versus-copy\n",
      "  if __name__ == '__main__':\n",
      "C:\\Program Files\\Anaconda3\\lib\\site-packages\\ipykernel\\__main__.py:2: SettingWithCopyWarning: \n",
      "A value is trying to be set on a copy of a slice from a DataFrame.\n",
      "Try using .loc[row_indexer,col_indexer] = value instead\n",
      "\n",
      "See the caveats in the documentation: http://pandas.pydata.org/pandas-docs/stable/indexing.html#indexing-view-versus-copy\n",
      "  from ipykernel import kernelapp as app\n"
     ]
    },
    {
     "data": {
      "text/html": [
       "<div>\n",
       "<table border=\"1\" class=\"dataframe\">\n",
       "  <thead>\n",
       "    <tr style=\"text-align: right;\">\n",
       "      <th></th>\n",
       "      <th>2015 Sales Q1</th>\n",
       "      <th>2015 Sales Q1 ^ 2</th>\n",
       "      <th>2015 Sales Q1 ^ 3</th>\n",
       "    </tr>\n",
       "  </thead>\n",
       "  <tbody>\n",
       "    <tr>\n",
       "      <th>0</th>\n",
       "      <td>39287.29</td>\n",
       "      <td>1.543491e+09</td>\n",
       "      <td>6.063958e+13</td>\n",
       "    </tr>\n",
       "    <tr>\n",
       "      <th>1</th>\n",
       "      <td>2833.25</td>\n",
       "      <td>8.027306e+06</td>\n",
       "      <td>2.274336e+10</td>\n",
       "    </tr>\n",
       "    <tr>\n",
       "      <th>2</th>\n",
       "      <td>24272.57</td>\n",
       "      <td>5.891577e+08</td>\n",
       "      <td>1.430037e+13</td>\n",
       "    </tr>\n",
       "    <tr>\n",
       "      <th>3</th>\n",
       "      <td>2003.46</td>\n",
       "      <td>4.013852e+06</td>\n",
       "      <td>8.041592e+09</td>\n",
       "    </tr>\n",
       "    <tr>\n",
       "      <th>4</th>\n",
       "      <td>5856.41</td>\n",
       "      <td>3.429754e+07</td>\n",
       "      <td>2.008604e+11</td>\n",
       "    </tr>\n",
       "  </tbody>\n",
       "</table>\n",
       "</div>"
      ],
      "text/plain": [
       "   2015 Sales Q1  2015 Sales Q1 ^ 2  2015 Sales Q1 ^ 3\n",
       "0       39287.29       1.543491e+09       6.063958e+13\n",
       "1        2833.25       8.027306e+06       2.274336e+10\n",
       "2       24272.57       5.891577e+08       1.430037e+13\n",
       "3        2003.46       4.013852e+06       8.041592e+09\n",
       "4        5856.41       3.429754e+07       2.008604e+11"
      ]
     },
     "execution_count": 129,
     "metadata": {},
     "output_type": "execute_result"
    }
   ],
   "source": [
    "sales_clean[\"2015 Sales Q1 ^ 2\"] = sales_clean[\"2015 Sales Q1\"]**2\n",
    "sales_clean[\"2015 Sales Q1 ^ 3\"] = sales_clean[\"2015 Sales Q1\"]**3\n",
    "X = sales_clean[[\"2015 Sales Q1\", \"2015 Sales Q1 ^ 2\", \"2015 Sales Q1 ^ 3\"]]\n",
    "Y = sales_clean[[\"2015 Total sales ($)\"]]\n",
    "X.head()"
   ]
  },
  {
   "cell_type": "markdown",
   "metadata": {},
   "source": [
    "#### 2.1: Data preprocessing"
   ]
  },
  {
   "cell_type": "code",
   "execution_count": 134,
   "metadata": {
    "collapsed": false
   },
   "outputs": [
    {
     "name": "stderr",
     "output_type": "stream",
     "text": [
      "C:\\Program Files\\Anaconda3\\lib\\site-packages\\sklearn\\preprocessing\\data.py:167: UserWarning: Numerical issues were encountered when centering the data and might not be solved. Dataset may contain too large values. You may need to prescale your features.\n",
      "  warnings.warn(\"Numerical issues were encountered \"\n"
     ]
    },
    {
     "data": {
      "text/plain": [
       "array([[-0.17874672, -0.09357592, -0.05334412],\n",
       "       [ 0.37510891, -0.04330224, -0.05060962],\n",
       "       [ 0.0631181 , -0.07787813, -0.05276369],\n",
       "       ..., \n",
       "       [-0.21852296, -0.09522871, -0.05338212],\n",
       "       [-0.40475337, -0.09947739, -0.05344381],\n",
       "       [-0.40785236, -0.09949944, -0.0534439 ]])"
      ]
     },
     "execution_count": 134,
     "metadata": {},
     "output_type": "execute_result"
    }
   ],
   "source": [
    "# Split first\n",
    "X_train, X_test, y_train, y_test = train_test_split(X, Y, test_size = 0.4)\n",
    "\n",
    "# Training set variables standardize\n",
    "Xs_train = preprocessing.scale(X_train)\n",
    "ys_train = y_train\n",
    "Xs_train"
   ]
  },
  {
   "cell_type": "markdown",
   "metadata": {
    "collapsed": false
   },
   "source": [
    "#### 2.2: Model building"
   ]
  },
  {
   "cell_type": "code",
   "execution_count": 135,
   "metadata": {
    "collapsed": false
   },
   "outputs": [],
   "source": [
    "lm2 = linear_model.LinearRegression()\n",
    "model2 = lm2.fit(Xs_train, ys_train)\n",
    "pred_model2 = lm2.predict(Xs_train)"
   ]
  },
  {
   "cell_type": "markdown",
   "metadata": {
    "collapsed": true
   },
   "source": [
    "#### 2.3: Model metrics"
   ]
  },
  {
   "cell_type": "code",
   "execution_count": 136,
   "metadata": {
    "collapsed": false
   },
   "outputs": [
    {
     "name": "stdout",
     "output_type": "stream",
     "text": [
      "R2_model_train: 0.9665944979152435, R2_cv: 0.8879905293852893\n",
      "rmse_model_train: 9374.473084259691, rmse_cv: 24567.509827238704\n"
     ]
    }
   ],
   "source": [
    "# Cross-validation\n",
    "scores2 = cross_val_score(lm2, Xs_train, ys_train, cv = 6)\n",
    "predcv2 = cross_val_predict(lm2, Xs_train, ys_train, cv = 6)\n",
    "\n",
    "R2_model2 = metrics.r2_score(ys_train, pred_model2)\n",
    "R2_cv_scores2 = np.mean(scores2)\n",
    "rmse_model2 = (metrics.mean_squared_error(ys_train, pred_model2))**0.5\n",
    "rmse_cv2 = (metrics.mean_squared_error(ys_train, predcv2))**0.5\n",
    "\n",
    "print(\"R2_model_train: {}, R2_cv: {}\".format(R2_model2, R2_cv_scores2))\n",
    "print(\"rmse_model_train: {}, rmse_cv: {}\".format(rmse_model2, rmse_cv2))"
   ]
  },
  {
   "cell_type": "markdown",
   "metadata": {},
   "source": [
    "#### 2.4: Model coefficients"
   ]
  },
  {
   "cell_type": "code",
   "execution_count": 127,
   "metadata": {
    "collapsed": false
   },
   "outputs": [
    {
     "name": "stdout",
     "output_type": "stream",
     "text": [
      "Intercept: [ 24265.97424818], Coeff: [[ 59309.91402729 -29650.74279731  27163.30995546]]\n"
     ]
    }
   ],
   "source": [
    "print(\"Intercept: {}, Coeff: {}\".format(lm2.intercept_, lm2.coef_))"
   ]
  },
  {
   "cell_type": "markdown",
   "metadata": {},
   "source": [
    "#### 2.5: Predictions on test set"
   ]
  },
  {
   "cell_type": "code",
   "execution_count": 137,
   "metadata": {
    "collapsed": false
   },
   "outputs": [
    {
     "name": "stdout",
     "output_type": "stream",
     "text": [
      "R2_test: 0.9678902739267248, RMSE_test: 10643.792190983857\n"
     ]
    }
   ],
   "source": [
    "# Predictions and scores on test set\n",
    "Xs_test = (X_test - np.mean(X_train))/np.std(X_train)\n",
    "ys_test = y_test\n",
    "\n",
    "pred2 = lm2.predict(Xs_test)\n",
    "\n",
    "#plt.figure(figsize=(7,4))\n",
    "#plt.xlabel(\"Standardized 2015 Q1 sales - Test data ONLY\")\n",
    "#plt.ylabel(\"2015 Total sales\")\n",
    "#plt.scatter(Xs_test[:, 0], ys_test, label=\"Actual (test data ONLY)\")\n",
    "#plt.scatter(Xs_test[:, 0], pred2, label=\"Predicted\", color=\"r\")\n",
    "#plt.show()\n",
    "\n",
    "R2_test = metrics.r2_score(ys_test, pred2)\n",
    "rmse_test = (metrics.mean_squared_error(ys_test, pred2))**0.5\n",
    "\n",
    "print(\"R2_test: {}, RMSE_test: {}\".format(R2_test, rmse_test))"
   ]
  },
  {
   "cell_type": "code",
   "execution_count": null,
   "metadata": {
    "collapsed": false
   },
   "outputs": [],
   "source": []
  },
  {
   "cell_type": "code",
   "execution_count": null,
   "metadata": {
    "collapsed": true
   },
   "outputs": [],
   "source": []
  }
 ],
 "metadata": {
  "anaconda-cloud": {},
  "kernelspec": {
   "display_name": "Python [default]",
   "language": "python",
   "name": "python3"
  },
  "language_info": {
   "codemirror_mode": {
    "name": "ipython",
    "version": 3
   },
   "file_extension": ".py",
   "mimetype": "text/x-python",
   "name": "python",
   "nbconvert_exporter": "python",
   "pygments_lexer": "ipython3",
   "version": "3.5.2"
  }
 },
 "nbformat": 4,
 "nbformat_minor": 0
}
