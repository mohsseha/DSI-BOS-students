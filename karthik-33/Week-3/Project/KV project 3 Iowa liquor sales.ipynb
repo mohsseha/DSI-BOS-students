{
 "cells": [
  {
   "cell_type": "markdown",
   "metadata": {},
   "source": [
    "# KV Project 3: Iowa liquor sales 2015-2016"
   ]
  },
  {
   "cell_type": "markdown",
   "metadata": {},
   "source": [
    "#### Deliverable: Total liquor sales for 2015 and 2016 (projected) by county and for entire state (in dollars)\n",
    "\n",
    "#### Problem statement: Generate a model (and report model accuracy) to predict total liquor sales by county in 2016, based on data from 2015. The model must predict new data with >90% accuracy\n",
    "\n",
    "#### Primary Stakeholders: Iowa state legislature (+tax committee), Iowa state tax board\n",
    "\n",
    "#### Motivation: State legislature is considering changes in the liquor tax rates (to augment revenues, to motivate better health outcomes, or for other reasons)"
   ]
  },
  {
   "cell_type": "markdown",
   "metadata": {},
   "source": [
    "### Methodology\n",
    "1. Acquire the data\n",
    "2. Data exploration and cleaning\n",
    "3. Data mining (and additional cleaning as needed)\n",
    "4. Data visualization and correlations\n",
    "5. Build model\n",
    "6. Report on deliverables"
   ]
  },
  {
   "cell_type": "markdown",
   "metadata": {},
   "source": [
    "### (0) Import libraries"
   ]
  },
  {
   "cell_type": "code",
   "execution_count": 1,
   "metadata": {
    "collapsed": true
   },
   "outputs": [],
   "source": [
    "% matplotlib inline\n",
    "\n",
    "from collections import defaultdict\n",
    "import datetime\n",
    "from matplotlib import pyplot as plt\n",
    "plt.rcParams['figure.figsize'] = 5, 5\n",
    "import numpy as np\n",
    "import pandas as pd\n",
    "from sklearn import linear_model, preprocessing, metrics\n",
    "from sklearn.cross_validation import train_test_split, cross_val_score, cross_val_predict"
   ]
  },
  {
   "cell_type": "markdown",
   "metadata": {},
   "source": [
    "### (1, 2) Data acquisition, exploration and cleaning\n",
    "\n",
    "The dataset contains individual transactions from each store with a class E liquor license in the state of Iowa, for each category of liquor item sold. A reduced dataset was acquired from the Iowa government website (as a .csv file), and only contains 10% of the full data in order to minimize potential computation issues. This reduced dataset contains ~270K transactions from 1161 stores across al of Iowa's 99 counties, including date of transaction, item description, quantity sold (in volume and number), cost and price per bottle, and sale in dollars. \n",
    "\n",
    "Here are a couple of aspects of the dataset that needed cleaning:\n",
    "1. All monetary quantities were converted to float to enable calculations\n",
    "2. Dates were converted to datetime format\n",
    "3. NA values were removed"
   ]
  },
  {
   "cell_type": "markdown",
   "metadata": {},
   "source": [
    "### (3) Data mining\n",
    "1. The data was first filtered to remove stores that opened after Mar 1, 2015, and closed before Oct 1, 2015. The data from these stores may not be a good predictor of total 2015 sales compared to stores that were open for longer, and may skew the model (resulting in poor predictions) if included. \n",
    "2. Additional data, such as total 2015 sales, 2015 Q1 sales, 2016 Q1 sales and average margin per transaction FOR EACH STORE were created"
   ]
  },
  {
   "cell_type": "code",
   "execution_count": null,
   "metadata": {
    "collapsed": true
   },
   "outputs": [],
   "source": [
    "# Code snippet for filtering stores by first and last transaction dates in dataset\n",
    "\n",
    "# Determine which stores were open all of 2015\n",
    "# Find the first and last sales date.\n",
    "dates = df.groupby(by=[\"Store Number\"], as_index=False)\n",
    "dates = dates.agg({\"Date\": [np.min, np.max]})\n",
    "dates.columns = [' '.join(col).strip() for col in dates.columns.values]\n",
    "\n",
    "# Filter out stores that opened or closed throughout the year\n",
    "lower_cutoff = pd.Timestamp(\"20150301\")\n",
    "upper_cutoff = pd.Timestamp(\"20151001\")\n",
    "mask = (dates['Date amin'] < lower_cutoff) & (dates['Date amax'] > upper_cutoff)\n",
    "good_stores = dates[mask][\"Store Number\"]\n",
    "df = df[df[\"Store Number\"].isin(good_stores)]"
   ]
  },
  {
   "cell_type": "markdown",
   "metadata": {},
   "source": [
    "### (3) Additional cleaning\n",
    "After filtering the data and creating additional data columns, some additional cleaning was necessary to remove NaNs resulting from the additional columns, as well as introduce some additional data transformations. The final cleaned table had 1143 rows (1 for each unique store), located in the 99 counties of Iowa "
   ]
  },
  {
   "cell_type": "code",
   "execution_count": 3,
   "metadata": {
    "collapsed": false,
    "scrolled": true
   },
   "outputs": [
    {
     "data": {
      "text/html": [
       "<div>\n",
       "<table border=\"1\" class=\"dataframe\">\n",
       "  <thead>\n",
       "    <tr style=\"text-align: right;\">\n",
       "      <th></th>\n",
       "      <th>Unnamed: 0</th>\n",
       "      <th>store_number</th>\n",
       "      <th>zipcode</th>\n",
       "      <th>County</th>\n",
       "      <th>2015_margin_avg_$</th>\n",
       "      <th>2015_price_avg_$pL</th>\n",
       "      <th>2015_volume_total_L</th>\n",
       "      <th>2015_volume_avg_L</th>\n",
       "      <th>2015_sales_total_$</th>\n",
       "      <th>2015_sales_avg_$</th>\n",
       "      <th>city</th>\n",
       "      <th>County number</th>\n",
       "      <th>2015Q1_sales_total_$</th>\n",
       "      <th>2015Q1_volume_total_L</th>\n",
       "      <th>2016Q1_sales_total_$</th>\n",
       "      <th>2016Q1_volume_total_L</th>\n",
       "      <th>First Date</th>\n",
       "      <th>Last Date</th>\n",
       "    </tr>\n",
       "  </thead>\n",
       "  <tbody>\n",
       "    <tr>\n",
       "      <th>0</th>\n",
       "      <td>0</td>\n",
       "      <td>2106</td>\n",
       "      <td>50613</td>\n",
       "      <td>Black Hawk</td>\n",
       "      <td>92.665779</td>\n",
       "      <td>17.844997</td>\n",
       "      <td>9719.85</td>\n",
       "      <td>18.478802</td>\n",
       "      <td>146038.70</td>\n",
       "      <td>277.640114</td>\n",
       "      <td>CEDAR FALLS</td>\n",
       "      <td>7</td>\n",
       "      <td>39287.29</td>\n",
       "      <td>2526.10</td>\n",
       "      <td>30478.75</td>\n",
       "      <td>2116.25</td>\n",
       "      <td>2015-01-08</td>\n",
       "      <td>2016-03-31</td>\n",
       "    </tr>\n",
       "    <tr>\n",
       "      <th>1</th>\n",
       "      <td>1</td>\n",
       "      <td>2113</td>\n",
       "      <td>50543</td>\n",
       "      <td>Webster</td>\n",
       "      <td>21.149932</td>\n",
       "      <td>18.507700</td>\n",
       "      <td>659.85</td>\n",
       "      <td>4.488776</td>\n",
       "      <td>9310.22</td>\n",
       "      <td>63.334830</td>\n",
       "      <td>GOWRIE</td>\n",
       "      <td>94</td>\n",
       "      <td>2833.25</td>\n",
       "      <td>177.11</td>\n",
       "      <td>2065.90</td>\n",
       "      <td>177.00</td>\n",
       "      <td>2015-01-07</td>\n",
       "      <td>2016-03-23</td>\n",
       "    </tr>\n",
       "    <tr>\n",
       "      <th>2</th>\n",
       "      <td>2</td>\n",
       "      <td>2130</td>\n",
       "      <td>50703</td>\n",
       "      <td>Black Hawk</td>\n",
       "      <td>95.215652</td>\n",
       "      <td>16.817589</td>\n",
       "      <td>6879.37</td>\n",
       "      <td>17.594297</td>\n",
       "      <td>111583.91</td>\n",
       "      <td>285.380844</td>\n",
       "      <td>WATERLOO</td>\n",
       "      <td>7</td>\n",
       "      <td>24272.57</td>\n",
       "      <td>1447.25</td>\n",
       "      <td>27856.11</td>\n",
       "      <td>1556.90</td>\n",
       "      <td>2015-01-08</td>\n",
       "      <td>2016-03-31</td>\n",
       "    </tr>\n",
       "    <tr>\n",
       "      <th>3</th>\n",
       "      <td>3</td>\n",
       "      <td>2152</td>\n",
       "      <td>50469</td>\n",
       "      <td>Cerro Gordo</td>\n",
       "      <td>18.351277</td>\n",
       "      <td>13.020765</td>\n",
       "      <td>633.37</td>\n",
       "      <td>4.491986</td>\n",
       "      <td>7721.08</td>\n",
       "      <td>54.759433</td>\n",
       "      <td>ROCKWELL</td>\n",
       "      <td>17</td>\n",
       "      <td>2003.46</td>\n",
       "      <td>151.74</td>\n",
       "      <td>904.66</td>\n",
       "      <td>87.50</td>\n",
       "      <td>2015-01-08</td>\n",
       "      <td>2016-02-25</td>\n",
       "    </tr>\n",
       "    <tr>\n",
       "      <th>4</th>\n",
       "      <td>4</td>\n",
       "      <td>2178</td>\n",
       "      <td>52172</td>\n",
       "      <td>Allamakee</td>\n",
       "      <td>34.454430</td>\n",
       "      <td>16.053844</td>\n",
       "      <td>1917.12</td>\n",
       "      <td>8.089114</td>\n",
       "      <td>24324.18</td>\n",
       "      <td>102.633671</td>\n",
       "      <td>WAUKON</td>\n",
       "      <td>3</td>\n",
       "      <td>5856.41</td>\n",
       "      <td>409.81</td>\n",
       "      <td>5588.50</td>\n",
       "      <td>520.80</td>\n",
       "      <td>2015-01-07</td>\n",
       "      <td>2016-03-30</td>\n",
       "    </tr>\n",
       "  </tbody>\n",
       "</table>\n",
       "</div>"
      ],
      "text/plain": [
       "   Unnamed: 0  store_number zipcode       County  2015_margin_avg_$  \\\n",
       "0           0          2106   50613   Black Hawk          92.665779   \n",
       "1           1          2113   50543      Webster          21.149932   \n",
       "2           2          2130   50703   Black Hawk          95.215652   \n",
       "3           3          2152   50469  Cerro Gordo          18.351277   \n",
       "4           4          2178   52172    Allamakee          34.454430   \n",
       "\n",
       "   2015_price_avg_$pL  2015_volume_total_L  2015_volume_avg_L  \\\n",
       "0           17.844997              9719.85          18.478802   \n",
       "1           18.507700               659.85           4.488776   \n",
       "2           16.817589              6879.37          17.594297   \n",
       "3           13.020765               633.37           4.491986   \n",
       "4           16.053844              1917.12           8.089114   \n",
       "\n",
       "   2015_sales_total_$  2015_sales_avg_$         city  County number  \\\n",
       "0           146038.70        277.640114  CEDAR FALLS              7   \n",
       "1             9310.22         63.334830       GOWRIE             94   \n",
       "2           111583.91        285.380844     WATERLOO              7   \n",
       "3             7721.08         54.759433     ROCKWELL             17   \n",
       "4            24324.18        102.633671       WAUKON              3   \n",
       "\n",
       "   2015Q1_sales_total_$  2015Q1_volume_total_L  2016Q1_sales_total_$  \\\n",
       "0              39287.29                2526.10              30478.75   \n",
       "1               2833.25                 177.11               2065.90   \n",
       "2              24272.57                1447.25              27856.11   \n",
       "3               2003.46                 151.74                904.66   \n",
       "4               5856.41                 409.81               5588.50   \n",
       "\n",
       "   2016Q1_volume_total_L First Date  Last Date  \n",
       "0                2116.25 2015-01-08 2016-03-31  \n",
       "1                 177.00 2015-01-07 2016-03-23  \n",
       "2                1556.90 2015-01-08 2016-03-31  \n",
       "3                  87.50 2015-01-08 2016-02-25  \n",
       "4                 520.80 2015-01-07 2016-03-30  "
      ]
     },
     "execution_count": 3,
     "metadata": {},
     "output_type": "execute_result"
    }
   ],
   "source": [
    "sales = pd.read_csv(\"sales_cleaned2.csv\")\n",
    "\n",
    "# Convert dates\n",
    "sales[\"First Date\"] = pd.to_datetime(sales[\"First Date\"], format = \"%Y-%m-%d\")\n",
    "sales[\"Last Date\"] = pd.to_datetime(sales[\"Last Date\"], format = \"%Y-%m-%d\")\n",
    "\n",
    "# Check which columns have NaN, and deal with them\n",
    "sales.columns[pd.isnull(sales).any()].tolist()\n",
    "\n",
    "# Drop NaN\n",
    "sales_clean = sales.dropna()"
   ]
  },
  {
   "cell_type": "markdown",
   "metadata": {},
   "source": [
    "### (4) Data visualization and correlations"
   ]
  },
  {
   "cell_type": "code",
   "execution_count": 37,
   "metadata": {
    "collapsed": false,
    "scrolled": false
   },
   "outputs": [
    {
     "data": {
      "text/html": [
       "<div>\n",
       "<table border=\"1\" class=\"dataframe\">\n",
       "  <thead>\n",
       "    <tr style=\"text-align: right;\">\n",
       "      <th></th>\n",
       "      <th>Unnamed: 0</th>\n",
       "      <th>store_number</th>\n",
       "      <th>2015_margin_avg_$</th>\n",
       "      <th>2015_price_avg_$pL</th>\n",
       "      <th>2015_volume_total_L</th>\n",
       "      <th>2015_volume_avg_L</th>\n",
       "      <th>2015_sales_total_$</th>\n",
       "      <th>2015_sales_avg_$</th>\n",
       "      <th>County number</th>\n",
       "      <th>2015Q1_sales_total_$</th>\n",
       "      <th>2015Q1_volume_total_L</th>\n",
       "      <th>2016Q1_sales_total_$</th>\n",
       "      <th>2016Q1_volume_total_L</th>\n",
       "    </tr>\n",
       "  </thead>\n",
       "  <tbody>\n",
       "    <tr>\n",
       "      <th>Unnamed: 0</th>\n",
       "      <td>1.000000</td>\n",
       "      <td>0.936957</td>\n",
       "      <td>-0.086396</td>\n",
       "      <td>0.058226</td>\n",
       "      <td>-0.359733</td>\n",
       "      <td>-0.111916</td>\n",
       "      <td>-0.323195</td>\n",
       "      <td>-0.086127</td>\n",
       "      <td>-0.008113</td>\n",
       "      <td>-0.311475</td>\n",
       "      <td>-0.350045</td>\n",
       "      <td>-0.298326</td>\n",
       "      <td>-0.323211</td>\n",
       "    </tr>\n",
       "    <tr>\n",
       "      <th>store_number</th>\n",
       "      <td>0.936957</td>\n",
       "      <td>1.000000</td>\n",
       "      <td>-0.062352</td>\n",
       "      <td>0.004937</td>\n",
       "      <td>-0.412657</td>\n",
       "      <td>-0.074192</td>\n",
       "      <td>-0.376246</td>\n",
       "      <td>-0.062249</td>\n",
       "      <td>-0.008096</td>\n",
       "      <td>-0.360313</td>\n",
       "      <td>-0.397547</td>\n",
       "      <td>-0.354313</td>\n",
       "      <td>-0.379706</td>\n",
       "    </tr>\n",
       "    <tr>\n",
       "      <th>2015_margin_avg_$</th>\n",
       "      <td>-0.086396</td>\n",
       "      <td>-0.062352</td>\n",
       "      <td>1.000000</td>\n",
       "      <td>0.120684</td>\n",
       "      <td>0.443491</td>\n",
       "      <td>0.936768</td>\n",
       "      <td>0.446288</td>\n",
       "      <td>0.999975</td>\n",
       "      <td>0.007377</td>\n",
       "      <td>0.419517</td>\n",
       "      <td>0.410516</td>\n",
       "      <td>0.021345</td>\n",
       "      <td>0.017566</td>\n",
       "    </tr>\n",
       "    <tr>\n",
       "      <th>2015_price_avg_$pL</th>\n",
       "      <td>0.058226</td>\n",
       "      <td>0.004937</td>\n",
       "      <td>0.120684</td>\n",
       "      <td>1.000000</td>\n",
       "      <td>0.130079</td>\n",
       "      <td>-0.083952</td>\n",
       "      <td>0.170287</td>\n",
       "      <td>0.122172</td>\n",
       "      <td>0.100787</td>\n",
       "      <td>0.166982</td>\n",
       "      <td>0.122724</td>\n",
       "      <td>-0.017654</td>\n",
       "      <td>-0.023711</td>\n",
       "    </tr>\n",
       "    <tr>\n",
       "      <th>2015_volume_total_L</th>\n",
       "      <td>-0.359733</td>\n",
       "      <td>-0.412657</td>\n",
       "      <td>0.443491</td>\n",
       "      <td>0.130079</td>\n",
       "      <td>1.000000</td>\n",
       "      <td>0.439668</td>\n",
       "      <td>0.992454</td>\n",
       "      <td>0.443910</td>\n",
       "      <td>0.036811</td>\n",
       "      <td>0.975140</td>\n",
       "      <td>0.973996</td>\n",
       "      <td>0.166283</td>\n",
       "      <td>0.174481</td>\n",
       "    </tr>\n",
       "    <tr>\n",
       "      <th>2015_volume_avg_L</th>\n",
       "      <td>-0.111916</td>\n",
       "      <td>-0.074192</td>\n",
       "      <td>0.936768</td>\n",
       "      <td>-0.083952</td>\n",
       "      <td>0.439668</td>\n",
       "      <td>1.000000</td>\n",
       "      <td>0.416107</td>\n",
       "      <td>0.935613</td>\n",
       "      <td>-0.014389</td>\n",
       "      <td>0.393769</td>\n",
       "      <td>0.410962</td>\n",
       "      <td>0.026788</td>\n",
       "      <td>0.025583</td>\n",
       "    </tr>\n",
       "    <tr>\n",
       "      <th>2015_sales_total_$</th>\n",
       "      <td>-0.323195</td>\n",
       "      <td>-0.376246</td>\n",
       "      <td>0.446288</td>\n",
       "      <td>0.170287</td>\n",
       "      <td>0.992454</td>\n",
       "      <td>0.416107</td>\n",
       "      <td>1.000000</td>\n",
       "      <td>0.446959</td>\n",
       "      <td>0.044827</td>\n",
       "      <td>0.983786</td>\n",
       "      <td>0.968235</td>\n",
       "      <td>0.149051</td>\n",
       "      <td>0.154919</td>\n",
       "    </tr>\n",
       "    <tr>\n",
       "      <th>2015_sales_avg_$</th>\n",
       "      <td>-0.086127</td>\n",
       "      <td>-0.062249</td>\n",
       "      <td>0.999975</td>\n",
       "      <td>0.122172</td>\n",
       "      <td>0.443910</td>\n",
       "      <td>0.935613</td>\n",
       "      <td>0.446959</td>\n",
       "      <td>1.000000</td>\n",
       "      <td>0.007742</td>\n",
       "      <td>0.420029</td>\n",
       "      <td>0.410765</td>\n",
       "      <td>0.021464</td>\n",
       "      <td>0.017654</td>\n",
       "    </tr>\n",
       "    <tr>\n",
       "      <th>County number</th>\n",
       "      <td>-0.008113</td>\n",
       "      <td>-0.008096</td>\n",
       "      <td>0.007377</td>\n",
       "      <td>0.100787</td>\n",
       "      <td>0.036811</td>\n",
       "      <td>-0.014389</td>\n",
       "      <td>0.044827</td>\n",
       "      <td>0.007742</td>\n",
       "      <td>1.000000</td>\n",
       "      <td>0.048668</td>\n",
       "      <td>0.040181</td>\n",
       "      <td>0.001704</td>\n",
       "      <td>0.002605</td>\n",
       "    </tr>\n",
       "    <tr>\n",
       "      <th>2015Q1_sales_total_$</th>\n",
       "      <td>-0.311475</td>\n",
       "      <td>-0.360313</td>\n",
       "      <td>0.419517</td>\n",
       "      <td>0.166982</td>\n",
       "      <td>0.975140</td>\n",
       "      <td>0.393769</td>\n",
       "      <td>0.983786</td>\n",
       "      <td>0.420029</td>\n",
       "      <td>0.048668</td>\n",
       "      <td>1.000000</td>\n",
       "      <td>0.986746</td>\n",
       "      <td>0.152734</td>\n",
       "      <td>0.156752</td>\n",
       "    </tr>\n",
       "    <tr>\n",
       "      <th>2015Q1_volume_total_L</th>\n",
       "      <td>-0.350045</td>\n",
       "      <td>-0.397547</td>\n",
       "      <td>0.410516</td>\n",
       "      <td>0.122724</td>\n",
       "      <td>0.973996</td>\n",
       "      <td>0.410962</td>\n",
       "      <td>0.968235</td>\n",
       "      <td>0.410765</td>\n",
       "      <td>0.040181</td>\n",
       "      <td>0.986746</td>\n",
       "      <td>1.000000</td>\n",
       "      <td>0.173701</td>\n",
       "      <td>0.179666</td>\n",
       "    </tr>\n",
       "    <tr>\n",
       "      <th>2016Q1_sales_total_$</th>\n",
       "      <td>-0.298326</td>\n",
       "      <td>-0.354313</td>\n",
       "      <td>0.021345</td>\n",
       "      <td>-0.017654</td>\n",
       "      <td>0.166283</td>\n",
       "      <td>0.026788</td>\n",
       "      <td>0.149051</td>\n",
       "      <td>0.021464</td>\n",
       "      <td>0.001704</td>\n",
       "      <td>0.152734</td>\n",
       "      <td>0.173701</td>\n",
       "      <td>1.000000</td>\n",
       "      <td>0.990349</td>\n",
       "    </tr>\n",
       "    <tr>\n",
       "      <th>2016Q1_volume_total_L</th>\n",
       "      <td>-0.323211</td>\n",
       "      <td>-0.379706</td>\n",
       "      <td>0.017566</td>\n",
       "      <td>-0.023711</td>\n",
       "      <td>0.174481</td>\n",
       "      <td>0.025583</td>\n",
       "      <td>0.154919</td>\n",
       "      <td>0.017654</td>\n",
       "      <td>0.002605</td>\n",
       "      <td>0.156752</td>\n",
       "      <td>0.179666</td>\n",
       "      <td>0.990349</td>\n",
       "      <td>1.000000</td>\n",
       "    </tr>\n",
       "  </tbody>\n",
       "</table>\n",
       "</div>"
      ],
      "text/plain": [
       "                       Unnamed: 0  store_number  2015_margin_avg_$  \\\n",
       "Unnamed: 0               1.000000      0.936957          -0.086396   \n",
       "store_number             0.936957      1.000000          -0.062352   \n",
       "2015_margin_avg_$       -0.086396     -0.062352           1.000000   \n",
       "2015_price_avg_$pL       0.058226      0.004937           0.120684   \n",
       "2015_volume_total_L     -0.359733     -0.412657           0.443491   \n",
       "2015_volume_avg_L       -0.111916     -0.074192           0.936768   \n",
       "2015_sales_total_$      -0.323195     -0.376246           0.446288   \n",
       "2015_sales_avg_$        -0.086127     -0.062249           0.999975   \n",
       "County number           -0.008113     -0.008096           0.007377   \n",
       "2015Q1_sales_total_$    -0.311475     -0.360313           0.419517   \n",
       "2015Q1_volume_total_L   -0.350045     -0.397547           0.410516   \n",
       "2016Q1_sales_total_$    -0.298326     -0.354313           0.021345   \n",
       "2016Q1_volume_total_L   -0.323211     -0.379706           0.017566   \n",
       "\n",
       "                       2015_price_avg_$pL  2015_volume_total_L  \\\n",
       "Unnamed: 0                       0.058226            -0.359733   \n",
       "store_number                     0.004937            -0.412657   \n",
       "2015_margin_avg_$                0.120684             0.443491   \n",
       "2015_price_avg_$pL               1.000000             0.130079   \n",
       "2015_volume_total_L              0.130079             1.000000   \n",
       "2015_volume_avg_L               -0.083952             0.439668   \n",
       "2015_sales_total_$               0.170287             0.992454   \n",
       "2015_sales_avg_$                 0.122172             0.443910   \n",
       "County number                    0.100787             0.036811   \n",
       "2015Q1_sales_total_$             0.166982             0.975140   \n",
       "2015Q1_volume_total_L            0.122724             0.973996   \n",
       "2016Q1_sales_total_$            -0.017654             0.166283   \n",
       "2016Q1_volume_total_L           -0.023711             0.174481   \n",
       "\n",
       "                       2015_volume_avg_L  2015_sales_total_$  \\\n",
       "Unnamed: 0                     -0.111916           -0.323195   \n",
       "store_number                   -0.074192           -0.376246   \n",
       "2015_margin_avg_$               0.936768            0.446288   \n",
       "2015_price_avg_$pL             -0.083952            0.170287   \n",
       "2015_volume_total_L             0.439668            0.992454   \n",
       "2015_volume_avg_L               1.000000            0.416107   \n",
       "2015_sales_total_$              0.416107            1.000000   \n",
       "2015_sales_avg_$                0.935613            0.446959   \n",
       "County number                  -0.014389            0.044827   \n",
       "2015Q1_sales_total_$            0.393769            0.983786   \n",
       "2015Q1_volume_total_L           0.410962            0.968235   \n",
       "2016Q1_sales_total_$            0.026788            0.149051   \n",
       "2016Q1_volume_total_L           0.025583            0.154919   \n",
       "\n",
       "                       2015_sales_avg_$  County number  2015Q1_sales_total_$  \\\n",
       "Unnamed: 0                    -0.086127      -0.008113             -0.311475   \n",
       "store_number                  -0.062249      -0.008096             -0.360313   \n",
       "2015_margin_avg_$              0.999975       0.007377              0.419517   \n",
       "2015_price_avg_$pL             0.122172       0.100787              0.166982   \n",
       "2015_volume_total_L            0.443910       0.036811              0.975140   \n",
       "2015_volume_avg_L              0.935613      -0.014389              0.393769   \n",
       "2015_sales_total_$             0.446959       0.044827              0.983786   \n",
       "2015_sales_avg_$               1.000000       0.007742              0.420029   \n",
       "County number                  0.007742       1.000000              0.048668   \n",
       "2015Q1_sales_total_$           0.420029       0.048668              1.000000   \n",
       "2015Q1_volume_total_L          0.410765       0.040181              0.986746   \n",
       "2016Q1_sales_total_$           0.021464       0.001704              0.152734   \n",
       "2016Q1_volume_total_L          0.017654       0.002605              0.156752   \n",
       "\n",
       "                       2015Q1_volume_total_L  2016Q1_sales_total_$  \\\n",
       "Unnamed: 0                         -0.350045             -0.298326   \n",
       "store_number                       -0.397547             -0.354313   \n",
       "2015_margin_avg_$                   0.410516              0.021345   \n",
       "2015_price_avg_$pL                  0.122724             -0.017654   \n",
       "2015_volume_total_L                 0.973996              0.166283   \n",
       "2015_volume_avg_L                   0.410962              0.026788   \n",
       "2015_sales_total_$                  0.968235              0.149051   \n",
       "2015_sales_avg_$                    0.410765              0.021464   \n",
       "County number                       0.040181              0.001704   \n",
       "2015Q1_sales_total_$                0.986746              0.152734   \n",
       "2015Q1_volume_total_L               1.000000              0.173701   \n",
       "2016Q1_sales_total_$                0.173701              1.000000   \n",
       "2016Q1_volume_total_L               0.179666              0.990349   \n",
       "\n",
       "                       2016Q1_volume_total_L  \n",
       "Unnamed: 0                         -0.323211  \n",
       "store_number                       -0.379706  \n",
       "2015_margin_avg_$                   0.017566  \n",
       "2015_price_avg_$pL                 -0.023711  \n",
       "2015_volume_total_L                 0.174481  \n",
       "2015_volume_avg_L                   0.025583  \n",
       "2015_sales_total_$                  0.154919  \n",
       "2015_sales_avg_$                    0.017654  \n",
       "County number                       0.002605  \n",
       "2015Q1_sales_total_$                0.156752  \n",
       "2015Q1_volume_total_L               0.179666  \n",
       "2016Q1_sales_total_$                0.990349  \n",
       "2016Q1_volume_total_L               1.000000  "
      ]
     },
     "execution_count": 37,
     "metadata": {},
     "output_type": "execute_result"
    }
   ],
   "source": [
    "# Compute correlations\n",
    "sales_clean.corr()"
   ]
  },
  {
   "cell_type": "markdown",
   "metadata": {
    "collapsed": false
   },
   "source": [
    "#### Observations\n",
    "1. Avg sale or margin per transaction, avg price per L per transaction, avg volume per transaction all have low correlation with 2015 total sales\n",
    "2. 2015 Q1 sales and volume are highly correlated with 2015 total sales (r > 0.98)"
   ]
  },
  {
   "cell_type": "markdown",
   "metadata": {},
   "source": [
    "#### Histogram of Total 2015 sales - Some outliers, but we first want to check how model performs without removing outliers \n",
    "<img src=\"Totalsaleshist.png\" width=400 height=250>\n",
    "\n",
    "#### Total 2015 sales vs Total 2015 Q1 sales (all in dollars)\n",
    "<img src=\"TotalsalesbyQ1.png\" width=400 height=250>\n",
    "\n",
    "#### Total 2015 sales (in dollars) vs Total 2015 Q1 volume sold (in liters)\n",
    "<img src=\"TotalsalesbyQ1vol.png\" width=400 height=250>\n",
    "\n",
    "#### Total 2015 sales vs Average margin per transaction (all in dollars)\n",
    "<img src=\"Totalsalesbymargin.png\" width=400 height=250>"
   ]
  },
  {
   "cell_type": "markdown",
   "metadata": {},
   "source": [
    "### (5) Model building\n",
    "### Model1: Linear Regresison with cross validation, with only 2015 Q1 sales as predictor"
   ]
  },
  {
   "cell_type": "markdown",
   "metadata": {},
   "source": [
    "#### 1.1: Data preprocessing"
   ]
  },
  {
   "cell_type": "code",
   "execution_count": 38,
   "metadata": {
    "collapsed": false
   },
   "outputs": [],
   "source": [
    "# Split first\n",
    "X_train, X_test, y_train, y_test = train_test_split(sales_clean[\"2015Q1_sales_total_$\"], \n",
    "                                                    sales_clean[\"2015_sales_total_$\"],\n",
    "                                                    test_size = 0.3)"
   ]
  },
  {
   "cell_type": "code",
   "execution_count": 39,
   "metadata": {
    "collapsed": false
   },
   "outputs": [
    {
     "name": "stdout",
     "output_type": "stream",
     "text": [
      "(800, 1)\n"
     ]
    }
   ],
   "source": [
    "# Training set variables standardize\n",
    "Xs_train = preprocessing.scale(X_train)\n",
    "ys_train = y_train\n",
    "Xs_train = Xs_train.reshape(-1,1)\n",
    "print(Xs_train.shape)"
   ]
  },
  {
   "cell_type": "markdown",
   "metadata": {},
   "source": [
    "#### 1.2: Model building"
   ]
  },
  {
   "cell_type": "code",
   "execution_count": 40,
   "metadata": {
    "collapsed": false
   },
   "outputs": [],
   "source": [
    "lm1 = linear_model.LinearRegression()\n",
    "model = lm1.fit(Xs_train, ys_train)\n",
    "pred_model = lm1.predict(Xs_train)"
   ]
  },
  {
   "cell_type": "markdown",
   "metadata": {},
   "source": [
    "#### 1.3: Model metrics"
   ]
  },
  {
   "cell_type": "code",
   "execution_count": 41,
   "metadata": {
    "collapsed": false
   },
   "outputs": [
    {
     "name": "stdout",
     "output_type": "stream",
     "text": [
      "[ 0.92502374  0.9740132   0.85043665  0.96179457  0.92945303  0.97281101]\n",
      "R2_model_train: 0.9621057366839447, R2_cv: 0.9355886993666567\n",
      "rmse_model_train: 9429.301841235469, rmse_cv: 9635.37570585619\n"
     ]
    }
   ],
   "source": [
    "# Cross-validation\n",
    "scores = cross_val_score(lm1, Xs_train, ys_train, cv = 6)\n",
    "predcv = cross_val_predict(lm1, Xs_train, ys_train, cv = 6)\n",
    "print(scores)\n",
    "\n",
    "R2_model = metrics.r2_score(ys_train, pred_model)\n",
    "R2_cv_scores = np.mean(scores)\n",
    "rmse_model = (metrics.mean_squared_error(ys_train, pred_model))**0.5\n",
    "rmse_cv = (metrics.mean_squared_error(ys_train, predcv))**0.5\n",
    "\n",
    "print(\"R2_model_train: {}, R2_cv: {}\".format(R2_model, R2_cv_scores))\n",
    "print(\"rmse_model_train: {}, rmse_cv: {}\".format(rmse_model, rmse_cv))"
   ]
  },
  {
   "cell_type": "code",
   "execution_count": 42,
   "metadata": {
    "collapsed": false
   },
   "outputs": [
    {
     "data": {
      "image/png": "[encoded data removed]",
      "text/plain": [
       "<matplotlib.figure.Figure at 0x1a4a4efd3c8>"
      ]
     },
     "metadata": {},
     "output_type": "display_data"
    },
    {
     "name": "stdout",
     "output_type": "stream",
     "text": [
      "R2_test: 0.9735533830536662, RMSE_test: 10889.13208879274\n"
     ]
    }
   ],
   "source": [
    "# Predictions and scores on test set\n",
    "Xs_test = (X_test - np.mean(X_train))/np.std(X_train)\n",
    "ys_test = y_test\n",
    "Xs_test = Xs_test.reshape(-1,1)\n",
    "\n",
    "pred1 = lm1.predict(Xs_test)\n",
    "pred1 = pred1.reshape(-1,1)\n",
    "\n",
    "plt.figure(figsize=(7,4))\n",
    "plt.xlabel(\"Standardized 2015 Q1 sales - Test data ONLY\")\n",
    "plt.ylabel(\"2015 Total sales\")\n",
    "plt.scatter(Xs_test, ys_test, label=\"Actual (test data ONLY)\")\n",
    "plt.plot(Xs_test, pred1, label=\"Predicted\")\n",
    "plt.show()\n",
    "\n",
    "R2_test = metrics.r2_score(ys_test, pred1)\n",
    "rmse_test = (metrics.mean_squared_error(ys_test, pred1))**0.5\n",
    "\n",
    "print(\"R2_test: {}, RMSE_test: {}\".format(R2_test, rmse_test))"
   ]
  },
  {
   "cell_type": "markdown",
   "metadata": {},
   "source": [
    "##### Model of total yearly sales with Q1 sales as only predictor seems do well on new datasets (R2 > 90% goal), even with outliers"
   ]
  },
  {
   "cell_type": "markdown",
   "metadata": {},
   "source": [
    "#### 1.4: Model coefficients and intercepts"
   ]
  },
  {
   "cell_type": "code",
   "execution_count": 43,
   "metadata": {
    "collapsed": false
   },
   "outputs": [
    {
     "name": "stdout",
     "output_type": "stream",
     "text": [
      "Intercept: 22517.34522500001, Coeff: [ 47512.0977706]\n"
     ]
    }
   ],
   "source": [
    "print(\"Intercept: {}, Coeff: {}\".format(lm1.intercept_, lm1.coef_))"
   ]
  },
  {
   "cell_type": "markdown",
   "metadata": {},
   "source": [
    "### (6) Predictions and deliverables"
   ]
  },
  {
   "cell_type": "code",
   "execution_count": 44,
   "metadata": {
    "collapsed": false
   },
   "outputs": [
    {
     "name": "stderr",
     "output_type": "stream",
     "text": [
      "C:\\Program Files\\Anaconda3\\lib\\site-packages\\ipykernel\\__main__.py:7: SettingWithCopyWarning: \n",
      "A value is trying to be set on a copy of a slice from a DataFrame.\n",
      "Try using .loc[row_indexer,col_indexer] = value instead\n",
      "\n",
      "See the caveats in the documentation: http://pandas.pydata.org/pandas-docs/stable/indexing.html#indexing-view-versus-copy\n"
     ]
    },
    {
     "data": {
      "text/html": [
       "<div>\n",
       "<table border=\"1\" class=\"dataframe\">\n",
       "  <thead>\n",
       "    <tr style=\"text-align: right;\">\n",
       "      <th></th>\n",
       "      <th>2015_sales_total_$</th>\n",
       "      <th>2016_proj_sales_total_$</th>\n",
       "    </tr>\n",
       "    <tr>\n",
       "      <th>County</th>\n",
       "      <th></th>\n",
       "      <th></th>\n",
       "    </tr>\n",
       "  </thead>\n",
       "  <tbody>\n",
       "    <tr>\n",
       "      <th>Adair</th>\n",
       "      <td>42353.24</td>\n",
       "      <td>65966.155803</td>\n",
       "    </tr>\n",
       "    <tr>\n",
       "      <th>Adams</th>\n",
       "      <td>10245.14</td>\n",
       "      <td>12394.392216</td>\n",
       "    </tr>\n",
       "    <tr>\n",
       "      <th>Allamakee</th>\n",
       "      <td>79918.47</td>\n",
       "      <td>72023.067814</td>\n",
       "    </tr>\n",
       "    <tr>\n",
       "      <th>Appanoose</th>\n",
       "      <td>77033.64</td>\n",
       "      <td>181670.904676</td>\n",
       "    </tr>\n",
       "    <tr>\n",
       "      <th>Audubon</th>\n",
       "      <td>2869.68</td>\n",
       "      <td>6227.612786</td>\n",
       "    </tr>\n",
       "  </tbody>\n",
       "</table>\n",
       "</div>"
      ],
      "text/plain": [
       "           2015_sales_total_$  2016_proj_sales_total_$\n",
       "County                                                \n",
       "Adair                42353.24             65966.155803\n",
       "Adams                10245.14             12394.392216\n",
       "Allamakee            79918.47             72023.067814\n",
       "Appanoose            77033.64            181670.904676\n",
       "Audubon               2869.68              6227.612786"
      ]
     },
     "execution_count": 44,
     "metadata": {},
     "output_type": "execute_result"
    }
   ],
   "source": [
    "# Standardize \"2016 Q1 sales\" values\n",
    "Xs_2016 = preprocessing.scale(sales_clean[\"2016Q1_sales_total_$\"])\n",
    "Xs_2016 = Xs_2016.reshape(-1,1)\n",
    "# Predict using lm1\n",
    "Y1_2016 = lm1.predict(Xs_2016)\n",
    "\n",
    "sales_clean[\"2016_proj_sales_total_$\"] = Y1_2016\n",
    "total_sales_by_county = pd.pivot_table(sales_clean, index=\"County\", \n",
    "                                       values=[\"2015_sales_total_$\", \"2016_proj_sales_total_$\"], \n",
    "                                      aggfunc=np.sum)\n",
    "total_sales_by_county.head()"
   ]
  },
  {
   "cell_type": "code",
   "execution_count": 45,
   "metadata": {
    "collapsed": false
   },
   "outputs": [
    {
     "data": {
      "text/plain": [
       "2015_sales_total_$         2.703663e+07\n",
       "2016_proj_sales_total_$    2.573733e+07\n",
       "dtype: float64"
      ]
     },
     "execution_count": 45,
     "metadata": {},
     "output_type": "execute_result"
    }
   ],
   "source": [
    "# 2015 and 2016 (projected) sales\n",
    "total_sales_by_county.sum()"
   ]
  },
  {
   "cell_type": "code",
   "execution_count": 50,
   "metadata": {
    "collapsed": false
   },
   "outputs": [],
   "source": [
    "# Counties with biggest change\n",
    "total_sales_by_county[\"% change from 2015\"] = (((total_sales_by_county[\"2016_proj_sales_total_$\"] - total_sales_by_county[\"2015_sales_total_$\"])\n",
    "                                                *100/total_sales_by_county[\"2015_sales_total_$\"]))\n",
    "total_sales_by_county.sort_values(\"% change from 2015\", ascending=False, inplace=True)"
   ]
  },
  {
   "cell_type": "markdown",
   "metadata": {
    "collapsed": false
   },
   "source": [
    "### Conclusions\n",
    "##### 1. Overall sales are projected to go DOWN by 4.8%\n",
    "##### 2. Wayne county is projected to have the biggest increase (+558%)\n",
    "##### 3. Delaware county is projected to have the largest decrease (-64%)"
   ]
  },
  {
   "cell_type": "code",
   "execution_count": 55,
   "metadata": {
    "collapsed": false
   },
   "outputs": [
    {
     "data": {
      "image/png": "[encoded data removed]",
      "text/plain": [
       "<matplotlib.figure.Figure at 0x1a4a4f0aac8>"
      ]
     },
     "metadata": {},
     "output_type": "display_data"
    }
   ],
   "source": [
    "# Plot 2015vs 2016 sales for each store\n",
    "plt.figure(figsize=(7,4))\n",
    "plt.scatter(sales_clean[\"2015_sales_total_$\"], sales_clean[\"2016_proj_sales_total_$\"])\n",
    "plt.xlabel(\"2015 Total sales ($)\")\n",
    "plt.ylabel(\"Projected 2016 Total sales ($)\")\n",
    "plt.show()"
   ]
  },
  {
   "cell_type": "markdown",
   "metadata": {
    "collapsed": false
   },
   "source": [
    "### Appendix\n",
    "\n",
    "### Model 2: LR with CV, with 2015 Q1 sales and 2015 Q1 volume as predictors"
   ]
  },
  {
   "cell_type": "code",
   "execution_count": 57,
   "metadata": {
    "collapsed": false
   },
   "outputs": [
    {
     "data": {
      "text/html": [
       "<div>\n",
       "<table border=\"1\" class=\"dataframe\">\n",
       "  <thead>\n",
       "    <tr style=\"text-align: right;\">\n",
       "      <th></th>\n",
       "      <th>2015Q1_sales_total_$</th>\n",
       "      <th>2015Q1_volume_total_L</th>\n",
       "    </tr>\n",
       "  </thead>\n",
       "  <tbody>\n",
       "    <tr>\n",
       "      <th>0</th>\n",
       "      <td>39287.29</td>\n",
       "      <td>2526.10</td>\n",
       "    </tr>\n",
       "    <tr>\n",
       "      <th>1</th>\n",
       "      <td>2833.25</td>\n",
       "      <td>177.11</td>\n",
       "    </tr>\n",
       "    <tr>\n",
       "      <th>2</th>\n",
       "      <td>24272.57</td>\n",
       "      <td>1447.25</td>\n",
       "    </tr>\n",
       "    <tr>\n",
       "      <th>3</th>\n",
       "      <td>2003.46</td>\n",
       "      <td>151.74</td>\n",
       "    </tr>\n",
       "    <tr>\n",
       "      <th>4</th>\n",
       "      <td>5856.41</td>\n",
       "      <td>409.81</td>\n",
       "    </tr>\n",
       "  </tbody>\n",
       "</table>\n",
       "</div>"
      ],
      "text/plain": [
       "   2015Q1_sales_total_$  2015Q1_volume_total_L\n",
       "0              39287.29                2526.10\n",
       "1               2833.25                 177.11\n",
       "2              24272.57                1447.25\n",
       "3               2003.46                 151.74\n",
       "4               5856.41                 409.81"
      ]
     },
     "execution_count": 57,
     "metadata": {},
     "output_type": "execute_result"
    }
   ],
   "source": [
    "X = sales_clean[[\"2015Q1_sales_total_$\", \"2015Q1_volume_total_L\"]]\n",
    "Y = sales_clean[[\"2015_sales_total_$\"]]\n",
    "X.head()"
   ]
  },
  {
   "cell_type": "markdown",
   "metadata": {},
   "source": [
    "#### 2.1: Data preprocessing"
   ]
  },
  {
   "cell_type": "code",
   "execution_count": 58,
   "metadata": {
    "collapsed": false
   },
   "outputs": [],
   "source": [
    "# Split first\n",
    "X_train, X_test, y_train, y_test = train_test_split(X, Y, test_size = 0.3)\n",
    "\n",
    "# Training set variables standardize\n",
    "Xs_train = preprocessing.scale(X_train)\n",
    "ys_train = y_train"
   ]
  },
  {
   "cell_type": "markdown",
   "metadata": {
    "collapsed": false
   },
   "source": [
    "#### 2.2: Model building"
   ]
  },
  {
   "cell_type": "code",
   "execution_count": 59,
   "metadata": {
    "collapsed": false
   },
   "outputs": [],
   "source": [
    "lm2 = linear_model.LinearRegression()\n",
    "model2 = lm2.fit(Xs_train, ys_train)\n",
    "pred_model2 = lm2.predict(Xs_train)"
   ]
  },
  {
   "cell_type": "markdown",
   "metadata": {
    "collapsed": true
   },
   "source": [
    "#### 2.3: Model metrics"
   ]
  },
  {
   "cell_type": "code",
   "execution_count": 60,
   "metadata": {
    "collapsed": false
   },
   "outputs": [
    {
     "name": "stdout",
     "output_type": "stream",
     "text": [
      "R2_model_train: 0.958668215010634, R2_cv: 0.9278143718863938\n",
      "rmse_model_train: 9646.520077944488, rmse_cv: 10013.602512584557\n"
     ]
    }
   ],
   "source": [
    "# Cross-validation\n",
    "scores2 = cross_val_score(lm2, Xs_train, ys_train, cv = 6)\n",
    "predcv2 = cross_val_predict(lm2, Xs_train, ys_train, cv = 6)\n",
    "\n",
    "R2_model2 = metrics.r2_score(ys_train, pred_model2)\n",
    "R2_cv_scores2 = np.mean(scores2)\n",
    "rmse_model2 = (metrics.mean_squared_error(ys_train, pred_model2))**0.5\n",
    "rmse_cv2 = (metrics.mean_squared_error(ys_train, predcv2))**0.5\n",
    "\n",
    "print(\"R2_model_train: {}, R2_cv: {}\".format(R2_model2, R2_cv_scores2))\n",
    "print(\"rmse_model_train: {}, rmse_cv: {}\".format(rmse_model2, rmse_cv2))"
   ]
  },
  {
   "cell_type": "markdown",
   "metadata": {},
   "source": [
    "#### 2.4: Model coefficients"
   ]
  },
  {
   "cell_type": "code",
   "execution_count": 61,
   "metadata": {
    "collapsed": false
   },
   "outputs": [
    {
     "name": "stdout",
     "output_type": "stream",
     "text": [
      "Intercept: [ 22186.248875], Coeff: [[ 54373.31222683  -8097.57622882]]\n"
     ]
    }
   ],
   "source": [
    "print(\"Intercept: {}, Coeff: {}\".format(lm2.intercept_, lm2.coef_))"
   ]
  },
  {
   "cell_type": "markdown",
   "metadata": {},
   "source": [
    "#### 2.5: Predictions on test set"
   ]
  },
  {
   "cell_type": "code",
   "execution_count": 62,
   "metadata": {
    "collapsed": false
   },
   "outputs": [
    {
     "name": "stdout",
     "output_type": "stream",
     "text": [
      "R2_test: 0.9779404621806511, RMSE_test: 10180.27300284995\n"
     ]
    }
   ],
   "source": [
    "# Predictions and scores on test set\n",
    "Xs_test = (X_test - np.mean(X_train))/np.std(X_train)\n",
    "ys_test = y_test\n",
    "\n",
    "pred2 = lm2.predict(Xs_test)\n",
    "\n",
    "R2_test = metrics.r2_score(ys_test, pred2)\n",
    "rmse_test = (metrics.mean_squared_error(ys_test, pred2))**0.5\n",
    "\n",
    "print(\"R2_test: {}, RMSE_test: {}\".format(R2_test, rmse_test))"
   ]
  },
  {
   "cell_type": "code",
   "execution_count": null,
   "metadata": {
    "collapsed": false
   },
   "outputs": [],
   "source": []
  },
  {
   "cell_type": "code",
   "execution_count": null,
   "metadata": {
    "collapsed": true
   },
   "outputs": [],
   "source": []
  }
 ],
 "metadata": {
  "anaconda-cloud": {},
  "kernelspec": {
   "display_name": "Python [default]",
   "language": "python",
   "name": "python3"
  },
  "language_info": {
   "codemirror_mode": {
    "name": "ipython",
    "version": 3
   },
   "file_extension": ".py",
   "mimetype": "text/x-python",
   "name": "python",
   "nbconvert_exporter": "python",
   "pygments_lexer": "ipython3",
   "version": "3.5.2"
  }
 },
 "nbformat": 4,
 "nbformat_minor": 0
}
