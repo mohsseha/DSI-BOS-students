{
 "cells": [
  {
   "cell_type": "markdown",
   "metadata": {},
   "source": [
    "Import libraries"
   ]
  },
  {
   "cell_type": "code",
   "execution_count": 1,
   "metadata": {
    "collapsed": true
   },
   "outputs": [],
   "source": [
    "import csv\n",
    "import numpy as np\n",
    "import seaborn as sns\n",
    "import matplotlib.pyplot as plt"
   ]
  },
  {
   "cell_type": "markdown",
   "metadata": {},
   "source": [
    "Open CSV file and read it"
   ]
  },
  {
   "cell_type": "code",
   "execution_count": 2,
   "metadata": {
    "collapsed": false
   },
   "outputs": [
    {
     "name": "stderr",
     "output_type": "stream",
     "text": [
      "C:\\Program Files\\Anaconda3\\lib\\site-packages\\ipykernel\\__main__.py:1: DeprecationWarning: 'U' mode is deprecated\n",
      "  if __name__ == '__main__':\n"
     ]
    }
   ],
   "source": [
    "f = open(\"totalcoalconsumption19802009quadrillionbtu.csv\", 'rU')\n",
    "coal = csv.reader(f)"
   ]
  },
  {
   "cell_type": "markdown",
   "metadata": {},
   "source": [
    "Get each row into a list"
   ]
  },
  {
   "cell_type": "code",
   "execution_count": 3,
   "metadata": {
    "collapsed": false
   },
   "outputs": [
    {
     "name": "stdout",
     "output_type": "stream",
     "text": [
      "[['', '1980', '1981', '1982', '1983', '1984', '1985', '1986', '1987', '1988', '1989', '1990', '1991', '1992', '1993', '1994', '1995', '1996', '1997', '1998', '1999', '2000', '2001', '2002', '2003', '2004', '2005', '2006', '2007', '2008', '2009'], ['Bermuda', '0', '0', '0', '0', '0', '0', '0', '0', '0', '0', '0', '0', '0', '0', '0', '0', '0', '0', '0', '0', '0', '0', '0', '0', '0', '0', '0', '0', '0', '0'], ['Canada', '0.96156', '0.99047', '1.05584', '1.11653', '1.23682', '1.20679', '1.12583', '1.25072', '1.35809', '1.35196', '1.21338', '1.26457', '1.32379', '1.22875', '1.24492', '1.28479', '1.30032', '1.44933', '1.50985', '1.505', '1.61651', '1.35444', '1.36876', '1.38766', '1.43684', '1.44948', '1.42135', '1.38369', '1.37388', '1.14314'], ['Greenland', '0.00005', '0.00005', '0.00003', '0.00003', '0.00003', '0', '0', '0', '0', '0', '0', '0', '0', '0', '0', '0', '0', '0', '0', '0', '0', '0', '0', '0', '0', '0', '0', '0', '0', '0'], ['Mexico', '0.10239', '0.10562', '0.11967', '0.12869', '0.13071', '0.14646', '0.15609', '0.17001', '0.15967', '0.17359', '0.1694', '0.15916', '0.16584', '0.19118', '0.1836', '0.20768', '0.25067', '0.26373', '0.26753', '0.28947', '0.29444', '0.32908', '0.36525', '0.41878', '0.31944', '0.39739', '0.39244', '0.38911', '0.32008', '0.3365']]\n"
     ]
    }
   ],
   "source": [
    "new_coal=[]\n",
    "[new_coal.append(row) for row in coal]\n",
    "print(new_coal[:5])"
   ]
  },
  {
   "cell_type": "code",
   "execution_count": null,
   "metadata": {
    "collapsed": true
   },
   "outputs": [],
   "source": []
  },
  {
   "cell_type": "raw",
   "metadata": {},
   "source": []
  },
  {
   "cell_type": "markdown",
   "metadata": {},
   "source": [
    "Separate header from main list"
   ]
  },
  {
   "cell_type": "code",
   "execution_count": 4,
   "metadata": {
    "collapsed": false
   },
   "outputs": [
    {
     "name": "stdout",
     "output_type": "stream",
     "text": [
      "['', '1980', '1981', '1982', '1983', '1984', '1985', '1986', '1987', '1988', '1989', '1990', '1991', '1992', '1993', '1994', '1995', '1996', '1997', '1998', '1999', '2000', '2001', '2002', '2003', '2004', '2005', '2006', '2007', '2008', '2009']\n"
     ]
    }
   ],
   "source": [
    "header = new_coal[0]\n",
    "new_coal = new_coal[1:]\n",
    "print(header)"
   ]
  },
  {
   "cell_type": "markdown",
   "metadata": {},
   "source": [
    "Convert str data to float"
   ]
  },
  {
   "cell_type": "code",
   "execution_count": 5,
   "metadata": {
    "collapsed": false
   },
   "outputs": [
    {
     "name": "stdout",
     "output_type": "stream",
     "text": [
      "[[0.0, 0.0, 0.0, 0.0, 0.0, 0.0, 0.0, 0.0, 0.0, 0.0, 0.0, 0.0, 0.0, 0.0, 0.0, 0.0, 0.0, 0.0, 0.0, 0.0, 0.0, 0.0, 0.0, 0.0, 0.0, 0.0, 0.0, 0.0, 0.0, 0.0], [0.96156, 0.99047, 1.05584, 1.11653, 1.23682, 1.20679, 1.12583, 1.25072, 1.35809, 1.35196, 1.21338, 1.26457, 1.32379, 1.22875, 1.24492, 1.28479, 1.30032, 1.44933, 1.50985, 1.505, 1.61651, 1.35444, 1.36876, 1.38766, 1.43684, 1.44948, 1.42135, 1.38369, 1.37388, 1.14314], [5e-05, 5e-05, 3e-05, 3e-05, 3e-05, 0.0, 0.0, 0.0, 0.0, 0.0, 0.0, 0.0, 0.0, 0.0, 0.0, 0.0, 0.0, 0.0, 0.0, 0.0, 0.0, 0.0, 0.0, 0.0, 0.0, 0.0, 0.0, 0.0, 0.0, 0.0], [0.10239, 0.10562, 0.11967, 0.12869, 0.13071, 0.14646, 0.15609, 0.17001, 0.15967, 0.17359, 0.1694, 0.15916, 0.16584, 0.19118, 0.1836, 0.20768, 0.25067, 0.26373, 0.26753, 0.28947, 0.29444, 0.32908, 0.36525, 0.41878, 0.31944, 0.39739, 0.39244, 0.38911, 0.32008, 0.3365], [0.0, 0.0, 0.0, 0.0, 0.0, 0.0, 0.0, 0.0, 0.0, 0.0, 0.0, 0.0, 0.0, 0.0, 0.0, 0.0, 0.0, 0.0, 0.0, 0.0, 0.0, 0.0, 0.0, 0.0, 0.0, 0.0, 0.0, 0.0, 0.0, 0.0]]\n"
     ]
    }
   ],
   "source": [
    "float_coal = []\n",
    "for row in new_coal:\n",
    "    temp_list = []\n",
    "    temp_list = [float(i) for i in row[1:]]\n",
    "    float_coal.append(temp_list)\n",
    "print(float_coal[:5])"
   ]
  },
  {
   "cell_type": "code",
   "execution_count": null,
   "metadata": {
    "collapsed": true
   },
   "outputs": [],
   "source": []
  },
  {
   "cell_type": "code",
   "execution_count": null,
   "metadata": {
    "collapsed": true
   },
   "outputs": [],
   "source": []
  },
  {
   "cell_type": "markdown",
   "metadata": {},
   "source": [
    "Insert country names back into float list"
   ]
  },
  {
   "cell_type": "code",
   "execution_count": 6,
   "metadata": {
    "collapsed": false
   },
   "outputs": [],
   "source": [
    "for i in range(len(float_coal)):\n",
    "    float_coal[i].insert(0, new_coal[i][0])"
   ]
  },
  {
   "cell_type": "markdown",
   "metadata": {},
   "source": []
  },
  {
   "cell_type": "code",
   "execution_count": 14,
   "metadata": {
    "collapsed": true
   },
   "outputs": [],
   "source": [
    "USA=[]\n",
    "China=[]\n",
    "India=[]\n",
    "Japan=[]\n",
    "South_Africa = []\n",
    "for row in float_coal:\n",
    "    if row[0] == \"United States\": [USA.append(i) for i in row[1:]]\n",
    "    if row[0] == \"China\": [China.append(i) for i in row[1:]]\n",
    "    if row[0] == \"Japan\": [Japan.append(i) for i in row[1:]]"
   ]
  },
  {
   "cell_type": "code",
   "execution_count": 21,
   "metadata": {
    "collapsed": false
   },
   "outputs": [
    {
     "data": {
      "text/plain": [
       "<matplotlib.text.Text at 0x17cc0e94080>"
      ]
     },
     "execution_count": 21,
     "metadata": {},
     "output_type": "execute_result"
    }
   ],
   "source": [
    "plt.plot(header[1:], China, label = \"China\")\n",
    "plt.plot(header[1:], USA, label = \"USA\")\n",
    "plt.plot(header[1:], Japan, label = \"Japan\")\n",
    "plt.xlabel(\"Year\")\n",
    "plt.ylabel(\"Annual Consumption (Quadrillion BTU)\")\n",
    "plt.title(\"Annual coal consumption by country\")"
   ]
  },
  {
   "cell_type": "code",
   "execution_count": 22,
   "metadata": {
    "collapsed": false
   },
   "outputs": [
    {
     "data": {
      "image/png": "[encoded data removed]",
      "text/plain": [
       "<matplotlib.figure.Figure at 0x17cc15da358>"
      ]
     },
     "metadata": {},
     "output_type": "display_data"
    }
   ],
   "source": [
    "plt.show()"
   ]
  },
  {
   "cell_type": "code",
   "execution_count": null,
   "metadata": {
    "collapsed": true
   },
   "outputs": [],
   "source": []
  }
 ],
 "metadata": {
  "anaconda-cloud": {},
  "kernelspec": {
   "display_name": "Python [default]",
   "language": "python",
   "name": "python3"
  },
  "language_info": {
   "codemirror_mode": {
    "name": "ipython",
    "version": 3
   },
   "file_extension": ".py",
   "mimetype": "text/x-python",
   "name": "python",
   "nbconvert_exporter": "python",
   "pygments_lexer": "ipython3",
   "version": "3.5.2"
  }
 },
 "nbformat": 4,
 "nbformat_minor": 1
}
