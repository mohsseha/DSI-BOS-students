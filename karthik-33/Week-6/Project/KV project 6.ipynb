{
 "cells": [
  {
   "cell_type": "markdown",
   "metadata": {},
   "source": [
    "## 1. Problem statement\n",
    "1. Predict ratings of the Top 250 movies of all time on IMDB using tree-based ML models (decision trees and ensemble methods)\n",
    "2. Determine the top 2 features that predict ratings for the best tree-based model"
   ]
  },
  {
   "cell_type": "markdown",
   "metadata": {},
   "source": [
    "## 2. Data collection\n",
    "1. Get list of Top 250 movie names directly from IMDB\n",
    "2. Use these names in the OMDB API to get additional details on the movie, including plot synopsis"
   ]
  },
  {
   "cell_type": "markdown",
   "metadata": {},
   "source": [
    "#### 2.1 Get movie names"
   ]
  },
  {
   "cell_type": "code",
   "execution_count": 712,
   "metadata": {
    "collapsed": true
   },
   "outputs": [],
   "source": [
    "# Import libraries needed for this step\n",
    "from bs4 import BeautifulSoup\n",
    "import requests\n",
    "import pandas as pd"
   ]
  },
  {
   "cell_type": "code",
   "execution_count": 2,
   "metadata": {
    "collapsed": true
   },
   "outputs": [],
   "source": [
    "# Top 250 movies URL\n",
    "url = \"http://www.imdb.com/chart/top\""
   ]
  },
  {
   "cell_type": "code",
   "execution_count": 480,
   "metadata": {
    "collapsed": false
   },
   "outputs": [
    {
     "data": {
      "text/html": [
       "<div>\n",
       "<table border=\"1\" class=\"dataframe\">\n",
       "  <thead>\n",
       "    <tr style=\"text-align: right;\">\n",
       "      <th></th>\n",
       "      <th>Unnamed: 0</th>\n",
       "      <th>Rank &amp; Title</th>\n",
       "      <th>IMDb Rating</th>\n",
       "      <th>Your Rating</th>\n",
       "      <th>Unnamed: 4</th>\n",
       "    </tr>\n",
       "  </thead>\n",
       "  <tbody>\n",
       "    <tr>\n",
       "      <th>0</th>\n",
       "      <td>NaN</td>\n",
       "      <td>1.  The Shawshank Redemption  (1994)</td>\n",
       "      <td>9.2</td>\n",
       "      <td>12345678910 NOT YET RELEASED  Seen</td>\n",
       "      <td>NaN</td>\n",
       "    </tr>\n",
       "    <tr>\n",
       "      <th>1</th>\n",
       "      <td>NaN</td>\n",
       "      <td>2.  The Godfather  (1972)</td>\n",
       "      <td>9.2</td>\n",
       "      <td>12345678910 NOT YET RELEASED  Seen</td>\n",
       "      <td>NaN</td>\n",
       "    </tr>\n",
       "    <tr>\n",
       "      <th>2</th>\n",
       "      <td>NaN</td>\n",
       "      <td>3.  The Godfather: Part II  (1974)</td>\n",
       "      <td>9.0</td>\n",
       "      <td>12345678910 NOT YET RELEASED  Seen</td>\n",
       "      <td>NaN</td>\n",
       "    </tr>\n",
       "    <tr>\n",
       "      <th>3</th>\n",
       "      <td>NaN</td>\n",
       "      <td>4.  The Dark Knight  (2008)</td>\n",
       "      <td>8.9</td>\n",
       "      <td>12345678910 NOT YET RELEASED  Seen</td>\n",
       "      <td>NaN</td>\n",
       "    </tr>\n",
       "    <tr>\n",
       "      <th>4</th>\n",
       "      <td>NaN</td>\n",
       "      <td>5.  12 Angry Men  (1957)</td>\n",
       "      <td>8.9</td>\n",
       "      <td>12345678910 NOT YET RELEASED  Seen</td>\n",
       "      <td>NaN</td>\n",
       "    </tr>\n",
       "  </tbody>\n",
       "</table>\n",
       "</div>"
      ],
      "text/plain": [
       "   Unnamed: 0                          Rank & Title  IMDb Rating  \\\n",
       "0         NaN  1.  The Shawshank Redemption  (1994)          9.2   \n",
       "1         NaN             2.  The Godfather  (1972)          9.2   \n",
       "2         NaN    3.  The Godfather: Part II  (1974)          9.0   \n",
       "3         NaN           4.  The Dark Knight  (2008)          8.9   \n",
       "4         NaN              5.  12 Angry Men  (1957)          8.9   \n",
       "\n",
       "                          Your Rating  Unnamed: 4  \n",
       "0  12345678910 NOT YET RELEASED  Seen         NaN  \n",
       "1  12345678910 NOT YET RELEASED  Seen         NaN  \n",
       "2  12345678910 NOT YET RELEASED  Seen         NaN  \n",
       "3  12345678910 NOT YET RELEASED  Seen         NaN  \n",
       "4  12345678910 NOT YET RELEASED  Seen         NaN  "
      ]
     },
     "execution_count": 480,
     "metadata": {},
     "output_type": "execute_result"
    }
   ],
   "source": [
    "# Get Top 250 movie table\n",
    "df_aslist = (pd.read_html(url, attrs = {'class': 'chart full-width'}))\n",
    "df = df_aslist[0]\n",
    "df.head()"
   ]
  },
  {
   "cell_type": "code",
   "execution_count": 489,
   "metadata": {
    "collapsed": false
   },
   "outputs": [],
   "source": [
    "# Obtain title for API search\n",
    "import re\n",
    "name1 = [re.sub(r\"[0-9]+\\.\", \"\", s) for s in df[\"Rank & Title\"]]\n",
    "name2 = [re.sub(r\"\\([0-9]+\\)\", \"\", s) for s in name1]\n",
    "title = [s.strip() for s in name2]"
   ]
  },
  {
   "cell_type": "code",
   "execution_count": 482,
   "metadata": {
    "collapsed": false
   },
   "outputs": [],
   "source": [
    "# Obtain year for API search\n",
    "year1 = [re.findall(r\"\\([0-9]+\\)\", s) for s in name1]\n",
    "year2 = [s[0].strip(\"\\(\") for s in year1]\n",
    "year = [s.strip(\"\\)\") for s in year2]"
   ]
  },
  {
   "cell_type": "markdown",
   "metadata": {
    "collapsed": false
   },
   "source": [
    "#### 2.2 Get movie details"
   ]
  },
  {
   "cell_type": "code",
   "execution_count": 492,
   "metadata": {
    "collapsed": false
   },
   "outputs": [],
   "source": [
    "# Movie details from OMDB API\n",
    "response = []\n",
    "for i, t in enumerate(title):\n",
    "    response.append(requests.get(\"http://www.omdbapi.com/?t=\"+t+\"&type=movie&y=\"+year[i]).text)\n",
    "data = \"[\" + (\",\".join(response)) + \"]\""
   ]
  },
  {
   "cell_type": "code",
   "execution_count": 493,
   "metadata": {
    "collapsed": false
   },
   "outputs": [
    {
     "data": {
      "text/html": [
       "<div>\n",
       "<table border=\"1\" class=\"dataframe\">\n",
       "  <thead>\n",
       "    <tr style=\"text-align: right;\">\n",
       "      <th></th>\n",
       "      <th>Actors</th>\n",
       "      <th>Awards</th>\n",
       "      <th>Country</th>\n",
       "      <th>Director</th>\n",
       "      <th>Error</th>\n",
       "      <th>Genre</th>\n",
       "      <th>Language</th>\n",
       "      <th>Metascore</th>\n",
       "      <th>Plot</th>\n",
       "      <th>Poster</th>\n",
       "      <th>...</th>\n",
       "      <th>Released</th>\n",
       "      <th>Response</th>\n",
       "      <th>Runtime</th>\n",
       "      <th>Title</th>\n",
       "      <th>Type</th>\n",
       "      <th>Writer</th>\n",
       "      <th>Year</th>\n",
       "      <th>imdbID</th>\n",
       "      <th>imdbRating</th>\n",
       "      <th>imdbVotes</th>\n",
       "    </tr>\n",
       "  </thead>\n",
       "  <tbody>\n",
       "    <tr>\n",
       "      <th>0</th>\n",
       "      <td>Tim Robbins, Morgan Freeman, Bob Gunton, Willi...</td>\n",
       "      <td>Nominated for 7 Oscars. Another 19 wins &amp; 30 n...</td>\n",
       "      <td>USA</td>\n",
       "      <td>Frank Darabont</td>\n",
       "      <td>NaN</td>\n",
       "      <td>Crime, Drama</td>\n",
       "      <td>English</td>\n",
       "      <td>80</td>\n",
       "      <td>Two imprisoned men bond over a number of years...</td>\n",
       "      <td>https://images-na.ssl-images-amazon.com/images...</td>\n",
       "      <td>...</td>\n",
       "      <td>14 Oct 1994</td>\n",
       "      <td>True</td>\n",
       "      <td>142 min</td>\n",
       "      <td>The Shawshank Redemption</td>\n",
       "      <td>movie</td>\n",
       "      <td>Stephen King (short story \"Rita Hayworth and S...</td>\n",
       "      <td>1994.0</td>\n",
       "      <td>tt0111161</td>\n",
       "      <td>9.3</td>\n",
       "      <td>1,754,270</td>\n",
       "    </tr>\n",
       "    <tr>\n",
       "      <th>1</th>\n",
       "      <td>Marlon Brando, Al Pacino, James Caan, Richard ...</td>\n",
       "      <td>Won 3 Oscars. Another 23 wins &amp; 27 nominations.</td>\n",
       "      <td>USA</td>\n",
       "      <td>Francis Ford Coppola</td>\n",
       "      <td>NaN</td>\n",
       "      <td>Crime, Drama</td>\n",
       "      <td>English, Italian, Latin</td>\n",
       "      <td>100</td>\n",
       "      <td>The aging patriarch of an organized crime dyna...</td>\n",
       "      <td>https://images-na.ssl-images-amazon.com/images...</td>\n",
       "      <td>...</td>\n",
       "      <td>24 Mar 1972</td>\n",
       "      <td>True</td>\n",
       "      <td>175 min</td>\n",
       "      <td>The Godfather</td>\n",
       "      <td>movie</td>\n",
       "      <td>Mario Puzo (screenplay), Francis Ford Coppola ...</td>\n",
       "      <td>1972.0</td>\n",
       "      <td>tt0068646</td>\n",
       "      <td>9.2</td>\n",
       "      <td>1,196,702</td>\n",
       "    </tr>\n",
       "  </tbody>\n",
       "</table>\n",
       "<p>2 rows × 21 columns</p>\n",
       "</div>"
      ],
      "text/plain": [
       "                                              Actors  \\\n",
       "0  Tim Robbins, Morgan Freeman, Bob Gunton, Willi...   \n",
       "1  Marlon Brando, Al Pacino, James Caan, Richard ...   \n",
       "\n",
       "                                              Awards Country  \\\n",
       "0  Nominated for 7 Oscars. Another 19 wins & 30 n...     USA   \n",
       "1    Won 3 Oscars. Another 23 wins & 27 nominations.     USA   \n",
       "\n",
       "               Director Error         Genre                 Language  \\\n",
       "0        Frank Darabont   NaN  Crime, Drama                  English   \n",
       "1  Francis Ford Coppola   NaN  Crime, Drama  English, Italian, Latin   \n",
       "\n",
       "  Metascore                                               Plot  \\\n",
       "0        80  Two imprisoned men bond over a number of years...   \n",
       "1       100  The aging patriarch of an organized crime dyna...   \n",
       "\n",
       "                                              Poster    ...         Released  \\\n",
       "0  https://images-na.ssl-images-amazon.com/images...    ...      14 Oct 1994   \n",
       "1  https://images-na.ssl-images-amazon.com/images...    ...      24 Mar 1972   \n",
       "\n",
       "  Response  Runtime                     Title   Type  \\\n",
       "0     True  142 min  The Shawshank Redemption  movie   \n",
       "1     True  175 min             The Godfather  movie   \n",
       "\n",
       "                                              Writer    Year     imdbID  \\\n",
       "0  Stephen King (short story \"Rita Hayworth and S...  1994.0  tt0111161   \n",
       "1  Mario Puzo (screenplay), Francis Ford Coppola ...  1972.0  tt0068646   \n",
       "\n",
       "  imdbRating  imdbVotes  \n",
       "0        9.3  1,754,270  \n",
       "1        9.2  1,196,702  \n",
       "\n",
       "[2 rows x 21 columns]"
      ]
     },
     "execution_count": 493,
     "metadata": {},
     "output_type": "execute_result"
    }
   ],
   "source": [
    "# Convert to dataframe\n",
    "df2 = pd.read_json(data, orient = \"records\")\n",
    "df2.head(2)"
   ]
  },
  {
   "cell_type": "markdown",
   "metadata": {},
   "source": [
    "## 3. Data Wrangling"
   ]
  },
  {
   "cell_type": "code",
   "execution_count": 494,
   "metadata": {
    "collapsed": false
   },
   "outputs": [
    {
     "data": {
      "text/plain": [
       "Actors         object\n",
       "Awards         object\n",
       "Country        object\n",
       "Director       object\n",
       "Error          object\n",
       "Genre          object\n",
       "Language       object\n",
       "Metascore      object\n",
       "Plot           object\n",
       "Poster         object\n",
       "Rated          object\n",
       "Released       object\n",
       "Response       object\n",
       "Runtime        object\n",
       "Title          object\n",
       "Type           object\n",
       "Writer         object\n",
       "Year          float64\n",
       "imdbID         object\n",
       "imdbRating     object\n",
       "imdbVotes      object\n",
       "dtype: object"
      ]
     },
     "execution_count": 494,
     "metadata": {},
     "output_type": "execute_result"
    }
   ],
   "source": [
    "df2.dtypes"
   ]
  },
  {
   "cell_type": "code",
   "execution_count": 495,
   "metadata": {
    "collapsed": false
   },
   "outputs": [
    {
     "data": {
      "text/plain": [
       "(250, 21)"
      ]
     },
     "execution_count": 495,
     "metadata": {},
     "output_type": "execute_result"
    }
   ],
   "source": [
    "df2.shape"
   ]
  },
  {
   "cell_type": "code",
   "execution_count": 496,
   "metadata": {
    "collapsed": false
   },
   "outputs": [
    {
     "data": {
      "text/plain": [
       "(244, 20)"
      ]
     },
     "execution_count": 496,
     "metadata": {},
     "output_type": "execute_result"
    }
   ],
   "source": [
    "# Drop rows with any N/A\n",
    "del df2[\"Error\"]\n",
    "df2 = df2.dropna(how = \"any\")\n",
    "df2.shape"
   ]
  },
  {
   "cell_type": "code",
   "execution_count": 497,
   "metadata": {
    "collapsed": false
   },
   "outputs": [
    {
     "name": "stderr",
     "output_type": "stream",
     "text": [
      "C:\\Program Files\\Anaconda3\\lib\\site-packages\\pandas\\core\\indexing.py:132: SettingWithCopyWarning: \n",
      "A value is trying to be set on a copy of a slice from a DataFrame\n",
      "\n",
      "See the caveats in the documentation: http://pandas.pydata.org/pandas-docs/stable/indexing.html#indexing-view-versus-copy\n",
      "  self._setitem_with_indexer(indexer, value)\n"
     ]
    }
   ],
   "source": [
    "# Extract number of Oscars (Nominarted for *OR* Won)\n",
    "df2[\"oscar n/w\"] = 0\n",
    "for index, row in df2.iterrows():\n",
    "    award_s = str(row.ix[\"Awards\"]).split()\n",
    " \n",
    "    if (award_s[0] == \"Nominated\") and ((award_s[3] == \"Oscar.\") or (award_s[3] == \"Oscars.\")):\n",
    "        df2[\"oscar n/w\"].loc[index] = int(award_s[2])\n",
    "    elif award_s[0] == \"Won\" and ((award_s[2] == \"Oscar.\") or (award_s[2] == \"Oscars.\")):\n",
    "        df2[\"oscar n/w\"].loc[index] = int(award_s[1])\n",
    "    else:\n",
    "        df2[\"oscar n/w\"].loc[index] = 0"
   ]
  },
  {
   "cell_type": "code",
   "execution_count": 498,
   "metadata": {
    "collapsed": false
   },
   "outputs": [
    {
     "name": "stderr",
     "output_type": "stream",
     "text": [
      "C:\\Program Files\\Anaconda3\\lib\\site-packages\\pandas\\core\\indexing.py:132: SettingWithCopyWarning: \n",
      "A value is trying to be set on a copy of a slice from a DataFrame\n",
      "\n",
      "See the caveats in the documentation: http://pandas.pydata.org/pandas-docs/stable/indexing.html#indexing-view-versus-copy\n",
      "  self._setitem_with_indexer(indexer, value)\n"
     ]
    }
   ],
   "source": [
    "# Extract number of countries\n",
    "df2[\"# countries\"] = 0\n",
    "for index, row in df2.iterrows():\n",
    "    country_s = str(row.ix[\"Country\"]).split(\",\")\n",
    "    df2[\"# countries\"].loc[index] = len(country_s)"
   ]
  },
  {
   "cell_type": "code",
   "execution_count": 499,
   "metadata": {
    "collapsed": true
   },
   "outputs": [],
   "source": [
    "# Remove rows with N/A rating, convert to float\n",
    "df2 = df2[df2[\"imdbRating\"] != \"N/A\"]\n",
    "df2[\"rating\"] = df2[\"imdbRating\"].astype(\"float\")"
   ]
  },
  {
   "cell_type": "code",
   "execution_count": 500,
   "metadata": {
    "collapsed": false
   },
   "outputs": [],
   "source": [
    "# Some movie searches not correct via API\n",
    "df2 = df2[df2[\"rating\"] >= 8]"
   ]
  },
  {
   "cell_type": "code",
   "execution_count": 501,
   "metadata": {
    "collapsed": false
   },
   "outputs": [
    {
     "data": {
      "text/plain": [
       "(243, 23)"
      ]
     },
     "execution_count": 501,
     "metadata": {},
     "output_type": "execute_result"
    }
   ],
   "source": [
    "df2.shape"
   ]
  },
  {
   "cell_type": "code",
   "execution_count": 502,
   "metadata": {
    "collapsed": true
   },
   "outputs": [],
   "source": [
    "# Clean up Runtime column\n",
    "df2 = df2[df2[\"Runtime\"] != \"N/A\"]\n",
    "time = [(re.sub(\"min\", \"\", s)) for s in df2[\"Runtime\"]]\n",
    "time_c = [int(s.strip()) if (s != \"N/A\") else 0 for s in time]\n",
    "df2[\"time\"] = time_c"
   ]
  },
  {
   "cell_type": "code",
   "execution_count": 503,
   "metadata": {
    "collapsed": true
   },
   "outputs": [],
   "source": [
    "# Clean up imdbVotes column\n",
    "df2 = df2[df2[\"imdbVotes\"] != \"N/A\"]\n",
    "df2[\"votes\"] = [int(re.sub(\",\", \"\", s)) if (s != \"N/A\") else 0 for s in df2[\"imdbVotes\"]]"
   ]
  },
  {
   "cell_type": "code",
   "execution_count": 504,
   "metadata": {
    "collapsed": false
   },
   "outputs": [],
   "source": [
    "# Get genres using NLP\n",
    "from sklearn.feature_extraction.text import CountVectorizer\n",
    "import numpy as np\n",
    "\n",
    "cvec = CountVectorizer()\n",
    "\n",
    "df2_genre = pd.DataFrame(data = cvec.fit_transform(df2[\"Genre\"]).todense(), \n",
    "                        columns = cvec.get_feature_names())"
   ]
  },
  {
   "cell_type": "code",
   "execution_count": 519,
   "metadata": {
    "collapsed": true
   },
   "outputs": [],
   "source": [
    "# Check that genres were extracted OK\n",
    "for col in df2_genre.columns:\n",
    "    if df2_genre[col].isnull().any() == True: print(col)"
   ]
  },
  {
   "cell_type": "code",
   "execution_count": 505,
   "metadata": {
    "collapsed": false
   },
   "outputs": [
    {
     "data": {
      "text/html": [
       "<div>\n",
       "<table border=\"1\" class=\"dataframe\">\n",
       "  <thead>\n",
       "    <tr style=\"text-align: right;\">\n",
       "      <th></th>\n",
       "      <th>action</th>\n",
       "      <th>adventure</th>\n",
       "      <th>animation</th>\n",
       "      <th>biography</th>\n",
       "      <th>comedy</th>\n",
       "      <th>crime</th>\n",
       "      <th>drama</th>\n",
       "      <th>family</th>\n",
       "      <th>fantasy</th>\n",
       "      <th>fi</th>\n",
       "      <th>...</th>\n",
       "      <th>music</th>\n",
       "      <th>musical</th>\n",
       "      <th>mystery</th>\n",
       "      <th>noir</th>\n",
       "      <th>romance</th>\n",
       "      <th>sci</th>\n",
       "      <th>sport</th>\n",
       "      <th>thriller</th>\n",
       "      <th>war</th>\n",
       "      <th>western</th>\n",
       "    </tr>\n",
       "  </thead>\n",
       "  <tbody>\n",
       "    <tr>\n",
       "      <th>0</th>\n",
       "      <td>0</td>\n",
       "      <td>0</td>\n",
       "      <td>0</td>\n",
       "      <td>0</td>\n",
       "      <td>0</td>\n",
       "      <td>1</td>\n",
       "      <td>1</td>\n",
       "      <td>0</td>\n",
       "      <td>0</td>\n",
       "      <td>0</td>\n",
       "      <td>...</td>\n",
       "      <td>0</td>\n",
       "      <td>0</td>\n",
       "      <td>0</td>\n",
       "      <td>0</td>\n",
       "      <td>0</td>\n",
       "      <td>0</td>\n",
       "      <td>0</td>\n",
       "      <td>0</td>\n",
       "      <td>0</td>\n",
       "      <td>0</td>\n",
       "    </tr>\n",
       "    <tr>\n",
       "      <th>1</th>\n",
       "      <td>0</td>\n",
       "      <td>0</td>\n",
       "      <td>0</td>\n",
       "      <td>0</td>\n",
       "      <td>0</td>\n",
       "      <td>1</td>\n",
       "      <td>1</td>\n",
       "      <td>0</td>\n",
       "      <td>0</td>\n",
       "      <td>0</td>\n",
       "      <td>...</td>\n",
       "      <td>0</td>\n",
       "      <td>0</td>\n",
       "      <td>0</td>\n",
       "      <td>0</td>\n",
       "      <td>0</td>\n",
       "      <td>0</td>\n",
       "      <td>0</td>\n",
       "      <td>0</td>\n",
       "      <td>0</td>\n",
       "      <td>0</td>\n",
       "    </tr>\n",
       "    <tr>\n",
       "      <th>2</th>\n",
       "      <td>0</td>\n",
       "      <td>0</td>\n",
       "      <td>0</td>\n",
       "      <td>0</td>\n",
       "      <td>0</td>\n",
       "      <td>1</td>\n",
       "      <td>1</td>\n",
       "      <td>0</td>\n",
       "      <td>0</td>\n",
       "      <td>0</td>\n",
       "      <td>...</td>\n",
       "      <td>0</td>\n",
       "      <td>0</td>\n",
       "      <td>0</td>\n",
       "      <td>0</td>\n",
       "      <td>0</td>\n",
       "      <td>0</td>\n",
       "      <td>0</td>\n",
       "      <td>0</td>\n",
       "      <td>0</td>\n",
       "      <td>0</td>\n",
       "    </tr>\n",
       "    <tr>\n",
       "      <th>3</th>\n",
       "      <td>1</td>\n",
       "      <td>0</td>\n",
       "      <td>0</td>\n",
       "      <td>0</td>\n",
       "      <td>0</td>\n",
       "      <td>1</td>\n",
       "      <td>1</td>\n",
       "      <td>0</td>\n",
       "      <td>0</td>\n",
       "      <td>0</td>\n",
       "      <td>...</td>\n",
       "      <td>0</td>\n",
       "      <td>0</td>\n",
       "      <td>0</td>\n",
       "      <td>0</td>\n",
       "      <td>0</td>\n",
       "      <td>0</td>\n",
       "      <td>0</td>\n",
       "      <td>0</td>\n",
       "      <td>0</td>\n",
       "      <td>0</td>\n",
       "    </tr>\n",
       "    <tr>\n",
       "      <th>4</th>\n",
       "      <td>0</td>\n",
       "      <td>0</td>\n",
       "      <td>0</td>\n",
       "      <td>0</td>\n",
       "      <td>0</td>\n",
       "      <td>1</td>\n",
       "      <td>1</td>\n",
       "      <td>0</td>\n",
       "      <td>0</td>\n",
       "      <td>0</td>\n",
       "      <td>...</td>\n",
       "      <td>0</td>\n",
       "      <td>0</td>\n",
       "      <td>0</td>\n",
       "      <td>0</td>\n",
       "      <td>0</td>\n",
       "      <td>0</td>\n",
       "      <td>0</td>\n",
       "      <td>0</td>\n",
       "      <td>0</td>\n",
       "      <td>0</td>\n",
       "    </tr>\n",
       "  </tbody>\n",
       "</table>\n",
       "<p>5 rows × 23 columns</p>\n",
       "</div>"
      ],
      "text/plain": [
       "   action  adventure  animation  biography  comedy  crime  drama  family  \\\n",
       "0       0          0          0          0       0      1      1       0   \n",
       "1       0          0          0          0       0      1      1       0   \n",
       "2       0          0          0          0       0      1      1       0   \n",
       "3       1          0          0          0       0      1      1       0   \n",
       "4       0          0          0          0       0      1      1       0   \n",
       "\n",
       "   fantasy  fi   ...     music  musical  mystery  noir  romance  sci  sport  \\\n",
       "0        0   0   ...         0        0        0     0        0    0      0   \n",
       "1        0   0   ...         0        0        0     0        0    0      0   \n",
       "2        0   0   ...         0        0        0     0        0    0      0   \n",
       "3        0   0   ...         0        0        0     0        0    0      0   \n",
       "4        0   0   ...         0        0        0     0        0    0      0   \n",
       "\n",
       "   thriller  war  western  \n",
       "0         0    0        0  \n",
       "1         0    0        0  \n",
       "2         0    0        0  \n",
       "3         0    0        0  \n",
       "4         0    0        0  \n",
       "\n",
       "[5 rows x 23 columns]"
      ]
     },
     "execution_count": 505,
     "metadata": {},
     "output_type": "execute_result"
    }
   ],
   "source": [
    "df2_genre.head()"
   ]
  },
  {
   "cell_type": "code",
   "execution_count": 506,
   "metadata": {
    "collapsed": false
   },
   "outputs": [],
   "source": [
    "# Merge \"sci\" and \"fi\", \"Film\" and \"Noir\"\n",
    "df2_genre[\"sci-fi\"] = df2_genre[\"sci\"]\n",
    "del df2_genre[\"sci\"]\n",
    "del df2_genre[\"fi\"]\n",
    "df2_genre[\"film-noir\"] = df2_genre[\"noir\"]\n",
    "del df2_genre[\"film\"]\n",
    "del df2_genre[\"noir\"]"
   ]
  },
  {
   "cell_type": "code",
   "execution_count": 520,
   "metadata": {
    "collapsed": true
   },
   "outputs": [],
   "source": [
    "# Get languages using NLP\n",
    "\n",
    "cvec = CountVectorizer(stop_words = \"english\")\n",
    "\n",
    "df2_lang = pd.DataFrame(data = cvec.fit_transform(df2[\"Language\"]).todense(), \n",
    "                        columns = cvec.get_feature_names())"
   ]
  },
  {
   "cell_type": "code",
   "execution_count": 521,
   "metadata": {
    "collapsed": false
   },
   "outputs": [
    {
     "data": {
      "text/html": [
       "<div>\n",
       "<table border=\"1\" class=\"dataframe\">\n",
       "  <thead>\n",
       "    <tr style=\"text-align: right;\">\n",
       "      <th></th>\n",
       "      <th>american</th>\n",
       "      <th>arabic</th>\n",
       "      <th>belarusian</th>\n",
       "      <th>cantonese</th>\n",
       "      <th>czech</th>\n",
       "      <th>danish</th>\n",
       "      <th>english</th>\n",
       "      <th>esperanto</th>\n",
       "      <th>french</th>\n",
       "      <th>gaelic</th>\n",
       "      <th>...</th>\n",
       "      <th>spanish</th>\n",
       "      <th>swahili</th>\n",
       "      <th>swedish</th>\n",
       "      <th>thai</th>\n",
       "      <th>turkish</th>\n",
       "      <th>urdu</th>\n",
       "      <th>vietnamese</th>\n",
       "      <th>xhosa</th>\n",
       "      <th>yiddish</th>\n",
       "      <th>zulu</th>\n",
       "    </tr>\n",
       "  </thead>\n",
       "  <tbody>\n",
       "    <tr>\n",
       "      <th>0</th>\n",
       "      <td>0</td>\n",
       "      <td>0</td>\n",
       "      <td>0</td>\n",
       "      <td>0</td>\n",
       "      <td>0</td>\n",
       "      <td>0</td>\n",
       "      <td>1</td>\n",
       "      <td>0</td>\n",
       "      <td>0</td>\n",
       "      <td>0</td>\n",
       "      <td>...</td>\n",
       "      <td>0</td>\n",
       "      <td>0</td>\n",
       "      <td>0</td>\n",
       "      <td>0</td>\n",
       "      <td>0</td>\n",
       "      <td>0</td>\n",
       "      <td>0</td>\n",
       "      <td>0</td>\n",
       "      <td>0</td>\n",
       "      <td>0</td>\n",
       "    </tr>\n",
       "    <tr>\n",
       "      <th>1</th>\n",
       "      <td>0</td>\n",
       "      <td>0</td>\n",
       "      <td>0</td>\n",
       "      <td>0</td>\n",
       "      <td>0</td>\n",
       "      <td>0</td>\n",
       "      <td>1</td>\n",
       "      <td>0</td>\n",
       "      <td>0</td>\n",
       "      <td>0</td>\n",
       "      <td>...</td>\n",
       "      <td>0</td>\n",
       "      <td>0</td>\n",
       "      <td>0</td>\n",
       "      <td>0</td>\n",
       "      <td>0</td>\n",
       "      <td>0</td>\n",
       "      <td>0</td>\n",
       "      <td>0</td>\n",
       "      <td>0</td>\n",
       "      <td>0</td>\n",
       "    </tr>\n",
       "    <tr>\n",
       "      <th>2</th>\n",
       "      <td>0</td>\n",
       "      <td>0</td>\n",
       "      <td>0</td>\n",
       "      <td>0</td>\n",
       "      <td>0</td>\n",
       "      <td>0</td>\n",
       "      <td>1</td>\n",
       "      <td>0</td>\n",
       "      <td>0</td>\n",
       "      <td>0</td>\n",
       "      <td>...</td>\n",
       "      <td>1</td>\n",
       "      <td>0</td>\n",
       "      <td>0</td>\n",
       "      <td>0</td>\n",
       "      <td>0</td>\n",
       "      <td>0</td>\n",
       "      <td>0</td>\n",
       "      <td>0</td>\n",
       "      <td>0</td>\n",
       "      <td>0</td>\n",
       "    </tr>\n",
       "    <tr>\n",
       "      <th>3</th>\n",
       "      <td>0</td>\n",
       "      <td>0</td>\n",
       "      <td>0</td>\n",
       "      <td>0</td>\n",
       "      <td>0</td>\n",
       "      <td>0</td>\n",
       "      <td>1</td>\n",
       "      <td>0</td>\n",
       "      <td>0</td>\n",
       "      <td>0</td>\n",
       "      <td>...</td>\n",
       "      <td>0</td>\n",
       "      <td>0</td>\n",
       "      <td>0</td>\n",
       "      <td>0</td>\n",
       "      <td>0</td>\n",
       "      <td>0</td>\n",
       "      <td>0</td>\n",
       "      <td>0</td>\n",
       "      <td>0</td>\n",
       "      <td>0</td>\n",
       "    </tr>\n",
       "    <tr>\n",
       "      <th>4</th>\n",
       "      <td>0</td>\n",
       "      <td>0</td>\n",
       "      <td>0</td>\n",
       "      <td>0</td>\n",
       "      <td>0</td>\n",
       "      <td>0</td>\n",
       "      <td>1</td>\n",
       "      <td>0</td>\n",
       "      <td>0</td>\n",
       "      <td>0</td>\n",
       "      <td>...</td>\n",
       "      <td>0</td>\n",
       "      <td>0</td>\n",
       "      <td>0</td>\n",
       "      <td>0</td>\n",
       "      <td>0</td>\n",
       "      <td>0</td>\n",
       "      <td>0</td>\n",
       "      <td>0</td>\n",
       "      <td>0</td>\n",
       "      <td>0</td>\n",
       "    </tr>\n",
       "  </tbody>\n",
       "</table>\n",
       "<p>5 rows × 46 columns</p>\n",
       "</div>"
      ],
      "text/plain": [
       "   american  arabic  belarusian  cantonese  czech  danish  english  esperanto  \\\n",
       "0         0       0           0          0      0       0        1          0   \n",
       "1         0       0           0          0      0       0        1          0   \n",
       "2         0       0           0          0      0       0        1          0   \n",
       "3         0       0           0          0      0       0        1          0   \n",
       "4         0       0           0          0      0       0        1          0   \n",
       "\n",
       "   french  gaelic  ...   spanish  swahili  swedish  thai  turkish  urdu  \\\n",
       "0       0       0  ...         0        0        0     0        0     0   \n",
       "1       0       0  ...         0        0        0     0        0     0   \n",
       "2       0       0  ...         1        0        0     0        0     0   \n",
       "3       0       0  ...         0        0        0     0        0     0   \n",
       "4       0       0  ...         0        0        0     0        0     0   \n",
       "\n",
       "   vietnamese  xhosa  yiddish  zulu  \n",
       "0           0      0        0     0  \n",
       "1           0      0        0     0  \n",
       "2           0      0        0     0  \n",
       "3           0      0        0     0  \n",
       "4           0      0        0     0  \n",
       "\n",
       "[5 rows x 46 columns]"
      ]
     },
     "execution_count": 521,
     "metadata": {},
     "output_type": "execute_result"
    }
   ],
   "source": [
    "df2_lang.head()"
   ]
  },
  {
   "cell_type": "code",
   "execution_count": 522,
   "metadata": {
    "collapsed": true
   },
   "outputs": [],
   "source": [
    "# Clean up errors in pulling languages\n",
    "df2_lang[\"old-english\"] = df2_lang[\"old\"]\n",
    "eng_correct = [(j - 1) if (df2_lang[\"old\"].loc[i] == 1) else j for i, j in enumerate(df2_lang[\"english\"])]\n",
    "df2_lang[\"english\"] = eng_correct\n",
    "del df2_lang[\"old\"]\n",
    "df2_lang[\"asl\"] = df2_lang[\"sign\"]\n",
    "del df2_lang[\"american\"]\n",
    "del df2_lang[\"sign\"]\n",
    "del df2_lang[\"language\"]"
   ]
  },
  {
   "cell_type": "code",
   "execution_count": 523,
   "metadata": {
    "collapsed": false
   },
   "outputs": [],
   "source": [
    "# Check if all columns are OK\n",
    "for col in df2_lang.columns:\n",
    "    if df2_lang[col].isnull().any() == True: print(col)"
   ]
  },
  {
   "cell_type": "code",
   "execution_count": 510,
   "metadata": {
    "collapsed": true
   },
   "outputs": [],
   "source": [
    "# Convert Year to bins\n",
    "bins = [1900, 1910, 1920, 1930, 1940, 1950, 1960, 1970, 1980, 1990, 2000, 2010, 2020]\n",
    "group_names = [\"1900s\", \"1910s\", \"1920s\", \"1930s\", \"1940s\", \"1950s\", \"1960s\", \"1970s\", \"1980s\", \"1990s\", \"2000s\", \"2010s\"]\n",
    "df2['decade'] = pd.cut(df2['Year'], bins, labels = group_names)"
   ]
  },
  {
   "cell_type": "code",
   "execution_count": 524,
   "metadata": {
    "collapsed": false
   },
   "outputs": [],
   "source": [
    "# Build final dataframe\n",
    "df2_temp = df2[[\"Rated\", \"oscar n/w\", \"# countries\", \"time\", \"votes\", \"rating\", \"decade\", \"Title\"]]\n",
    "df2_temp = df2_temp.reset_index()\n",
    "df2_genre = df2_genre.reset_index()\n",
    "df2_lang = df2_lang.reset_index()\n",
    "df_final = pd.concat([df2_temp, df2_genre, df2_lang], axis = 1)"
   ]
  },
  {
   "cell_type": "code",
   "execution_count": 525,
   "metadata": {
    "collapsed": true
   },
   "outputs": [],
   "source": [
    "# Remove extra index columns from resetting index\n",
    "del df_final[\"index\"]"
   ]
  },
  {
   "cell_type": "code",
   "execution_count": 527,
   "metadata": {
    "collapsed": true
   },
   "outputs": [],
   "source": [
    "del df_final[\"level_0\"]"
   ]
  },
  {
   "cell_type": "code",
   "execution_count": 528,
   "metadata": {
    "collapsed": true
   },
   "outputs": [],
   "source": [
    "# Export to csv for Tableau visualization\n",
    "df_final.to_csv(\"P6-5.csv\")"
   ]
  },
  {
   "cell_type": "code",
   "execution_count": 530,
   "metadata": {
    "collapsed": false
   },
   "outputs": [
    {
     "data": {
      "text/plain": [
       "(243, 73)"
      ]
     },
     "execution_count": 530,
     "metadata": {},
     "output_type": "execute_result"
    }
   ],
   "source": [
    "df_final.shape"
   ]
  },
  {
   "cell_type": "markdown",
   "metadata": {},
   "source": [
    "## 4. Data exploration"
   ]
  },
  {
   "cell_type": "markdown",
   "metadata": {},
   "source": [
    "#### Distribution of ratings\n",
    "<img src = \"rating.png\" width = \"300\" height = \"500\">\n",
    "\n",
    "#### Ratings seem to be higher with more votes\n",
    "<img src = \"votes.png\" width = \"400\" height = \"100\">\n",
    "\n",
    "#### There seems to be an optimum runtime for movies with the highest ratings\n",
    "<img src = \"runtime.png\" width = \"400\" height = \"100\">\n",
    "\n",
    "#### There seems to be no correlation of ratings with number of Oscars (nominated or won)\n",
    "<img src = \"oscars.png\" width = \"400\" height = \"100\">\n",
    "\n",
    "#### There does not seem to be any clear correlation between ratings and the decade when the movie was released\n",
    "<img src = \"decade.png\" width = \"400\" height = \"100\">\n"
   ]
  },
  {
   "cell_type": "markdown",
   "metadata": {},
   "source": [
    "## 5. Model building"
   ]
  },
  {
   "cell_type": "code",
   "execution_count": 535,
   "metadata": {
    "collapsed": true
   },
   "outputs": [],
   "source": [
    "# Define X and y\n",
    "df_title = df_final[\"Title\"]\n",
    "y = df_final[\"rating\"]\n",
    "del df_final[\"Title\"]\n",
    "del df_final[\"rating\"]\n",
    "X = df_final"
   ]
  },
  {
   "cell_type": "code",
   "execution_count": 554,
   "metadata": {
    "collapsed": false
   },
   "outputs": [
    {
     "data": {
      "text/html": [
       "<div>\n",
       "<table border=\"1\" class=\"dataframe\">\n",
       "  <thead>\n",
       "    <tr style=\"text-align: right;\">\n",
       "      <th></th>\n",
       "      <th>1920s</th>\n",
       "      <th>1930s</th>\n",
       "      <th>1940s</th>\n",
       "      <th>1950s</th>\n",
       "      <th>1960s</th>\n",
       "      <th>1970s</th>\n",
       "      <th>1980s</th>\n",
       "      <th>1990s</th>\n",
       "      <th>2000s</th>\n",
       "      <th>2010s</th>\n",
       "    </tr>\n",
       "  </thead>\n",
       "  <tbody>\n",
       "    <tr>\n",
       "      <th>0</th>\n",
       "      <td>0</td>\n",
       "      <td>0</td>\n",
       "      <td>0</td>\n",
       "      <td>0</td>\n",
       "      <td>0</td>\n",
       "      <td>0</td>\n",
       "      <td>0</td>\n",
       "      <td>1</td>\n",
       "      <td>0</td>\n",
       "      <td>0</td>\n",
       "    </tr>\n",
       "    <tr>\n",
       "      <th>1</th>\n",
       "      <td>0</td>\n",
       "      <td>0</td>\n",
       "      <td>0</td>\n",
       "      <td>0</td>\n",
       "      <td>0</td>\n",
       "      <td>1</td>\n",
       "      <td>0</td>\n",
       "      <td>0</td>\n",
       "      <td>0</td>\n",
       "      <td>0</td>\n",
       "    </tr>\n",
       "  </tbody>\n",
       "</table>\n",
       "</div>"
      ],
      "text/plain": [
       "   1920s  1930s  1940s  1950s  1960s  1970s  1980s  1990s  2000s  2010s\n",
       "0      0      0      0      0      0      0      0      1      0      0\n",
       "1      0      0      0      0      0      1      0      0      0      0"
      ]
     },
     "execution_count": 554,
     "metadata": {},
     "output_type": "execute_result"
    }
   ],
   "source": [
    "# Change decade to numeric ... sklearn only accepts numeric inputs for decision trees\n",
    "cvec = CountVectorizer()\n",
    "\n",
    "X_decade = pd.DataFrame(data = cvec.fit_transform(X[\"decade\"]).todense(), \n",
    "                        columns = cvec.get_feature_names())\n",
    "X_decade.head(2)"
   ]
  },
  {
   "cell_type": "code",
   "execution_count": 555,
   "metadata": {
    "collapsed": true
   },
   "outputs": [],
   "source": [
    "# Check if feature extraction went OK\n",
    "for col in X_decade.columns:\n",
    "    if X_decade[col].isnull().any() == True: print(col)"
   ]
  },
  {
   "cell_type": "code",
   "execution_count": 556,
   "metadata": {
    "collapsed": true
   },
   "outputs": [],
   "source": [
    "# Remove \"Rated\" and \"decade\" from X, concat X_decade\n",
    "del X[\"Rated\"]\n",
    "del X[\"decade\"]\n",
    "X = X.reset_index()\n",
    "X_decade = X_decade.reset_index()\n",
    "X_final = pd.concat([X, X_decade], axis = 1)"
   ]
  },
  {
   "cell_type": "code",
   "execution_count": 559,
   "metadata": {
    "collapsed": false
   },
   "outputs": [],
   "source": [
    "# Remove extra index columns \n",
    "del X_final[\"index\"]"
   ]
  },
  {
   "cell_type": "code",
   "execution_count": 560,
   "metadata": {
    "collapsed": false
   },
   "outputs": [
    {
     "data": {
      "text/plain": [
       "(243, 79)"
      ]
     },
     "execution_count": 560,
     "metadata": {},
     "output_type": "execute_result"
    }
   ],
   "source": [
    "# Final check\n",
    "X_final.shape"
   ]
  },
  {
   "cell_type": "code",
   "execution_count": 561,
   "metadata": {
    "collapsed": false
   },
   "outputs": [
    {
     "data": {
      "text/plain": [
       "(243,)"
      ]
     },
     "execution_count": 561,
     "metadata": {},
     "output_type": "execute_result"
    }
   ],
   "source": [
    "# Final check\n",
    "y.shape"
   ]
  },
  {
   "cell_type": "code",
   "execution_count": 637,
   "metadata": {
    "collapsed": false
   },
   "outputs": [],
   "source": [
    "# Split into training and test sets\n",
    "from sklearn.cross_validation import train_test_split, cross_val_score\n",
    "from sklearn.metrics import mean_squared_error, r2_score\n",
    "X_train, X_test, y_train, y_test = train_test_split(X_final, y, test_size = 0.3, \n",
    "                                                    random_state = 42)"
   ]
  },
  {
   "cell_type": "markdown",
   "metadata": {},
   "source": [
    "#### 5.1 Decision Tree"
   ]
  },
  {
   "cell_type": "markdown",
   "metadata": {},
   "source": [
    "###### 5.1.1 Model build and performance check"
   ]
  },
  {
   "cell_type": "code",
   "execution_count": 638,
   "metadata": {
    "collapsed": true
   },
   "outputs": [],
   "source": [
    "# Build model\n",
    "from sklearn.tree import DecisionTreeRegressor\n",
    "dtr = DecisionTreeRegressor()"
   ]
  },
  {
   "cell_type": "code",
   "execution_count": 651,
   "metadata": {
    "collapsed": true
   },
   "outputs": [],
   "source": [
    "# Plot y_pred vs y_test\n",
    "import matplotlib.pyplot as plt\n",
    "%matplotlib inline\n",
    "def make_plot(y_true, y_pred, name):\n",
    "    plt.xlabel(\"Actual rating\")\n",
    "    plt.ylabel(\"Predicted rating\")\n",
    "    plt.title(name)\n",
    "    plt.scatter(y_true, y_pred)\n",
    "    plt.show()"
   ]
  },
  {
   "cell_type": "code",
   "execution_count": 690,
   "metadata": {
    "collapsed": true
   },
   "outputs": [],
   "source": [
    "# Function for all base models\n",
    "def base_model(model, name, X_train, X_test, y_train, y_test):\n",
    "    \"Base model characteristics\"\n",
    "# CV scores\n",
    "    scores = cross_val_score(model, X_train, y_train, cv = 5)\n",
    "    print(name, \"CV Score: \", scores.mean(), \"+/-\", scores.std())\n",
    "# Feature importances    \n",
    "    model.fit(X_train, y_train)\n",
    "    df = pd.DataFrame(model.feature_importances_, index = X_train.columns, columns=['importance']).\\\n",
    "                        sort_values('importance', ascending=False)\n",
    "    print(df[:5])\n",
    "# Predictions\n",
    "    y_pred = model.predict(X_test)\n",
    "    print(name, \"predicted MSE: \", mean_squared_error(y_test, y_pred))\n",
    "    print(name, \"predicted R2: \", r2_score(y_test, y_pred))\n",
    "# Plot\n",
    "    make_plot(y_test, y_pred, name)"
   ]
  },
  {
   "cell_type": "code",
   "execution_count": 691,
   "metadata": {
    "collapsed": false
   },
   "outputs": [
    {
     "name": "stdout",
     "output_type": "stream",
     "text": [
      "Decision tree CV Score:  -0.019391627437 +/- 0.159752606603\n",
      "          importance\n",
      "votes       0.581916\n",
      "time        0.059038\n",
      "sicilian    0.048566\n",
      "1950s       0.036345\n",
      "western     0.033608\n",
      "Decision tree predicted MSE:  0.0434246575342\n",
      "Decision tree predicted R2:  -0.0138000525716\n"
     ]
    },
    {
     "data": {
      "image/png": "[encoded data removed]",
      "text/plain": [
       "<matplotlib.figure.Figure at 0x2b2a65f3b70>"
      ]
     },
     "metadata": {},
     "output_type": "display_data"
    }
   ],
   "source": [
    "base_model(dtr, \"Decision tree\", X_train, X_test, y_train, y_test)"
   ]
  },
  {
   "cell_type": "markdown",
   "metadata": {},
   "source": [
    "###### 5.1.2 Optimize base decision tree"
   ]
  },
  {
   "cell_type": "code",
   "execution_count": 692,
   "metadata": {
    "collapsed": false
   },
   "outputs": [],
   "source": [
    "# Set up GridSearch parameters\n",
    "from sklearn.model_selection import GridSearchCV\n",
    "params = {\"splitter\": ['best', 'random'],\n",
    "          \"max_depth\": [3,5,10,20],\n",
    "          \"max_features\": [None, \"auto\"],\n",
    "          \"min_samples_leaf\": [1, 3, 5, 7, 10],\n",
    "          \"min_samples_split\": [2, 5, 7]\n",
    "         } \n",
    "\n",
    "gsdtr = GridSearchCV(DecisionTreeRegressor(), params, n_jobs=-1, cv=5)"
   ]
  },
  {
   "cell_type": "code",
   "execution_count": 693,
   "metadata": {
    "collapsed": true
   },
   "outputs": [],
   "source": [
    "# Function for all grid search models\n",
    "def gs_model(model, name, X_train, X_test, y_train, y_test):\n",
    "# Execute GridSearch\n",
    "    model.fit(X_train, y_train)\n",
    "    print(\"Best score: \", model.best_score_)\n",
    "    print(\"Best params: \", model.best_params_)\n",
    "# Predicted values\n",
    "    y_pred = model.predict(X_test)\n",
    "    print(name, \"Predicted MSE: \", mean_squared_error(y_test, y_pred))\n",
    "    print(name, \"Predicted R2: \", r2_score(y_test, y_pred))\n",
    "    make_plot(y_test, y_pred, name)"
   ]
  },
  {
   "cell_type": "code",
   "execution_count": 694,
   "metadata": {
    "collapsed": false,
    "scrolled": false
   },
   "outputs": [
    {
     "name": "stdout",
     "output_type": "stream",
     "text": [
      "Best score:  0.293876233052\n",
      "Best params:  {'min_samples_split': 5, 'max_features': None, 'min_samples_leaf': 10, 'splitter': 'best', 'max_depth': 3}\n",
      "GridSearch Decision Tree Predicted MSE:  0.0407580579288\n",
      "GridSearch Decision Tree Predicted R2:  0.0484548729396\n"
     ]
    },
    {
     "data": {
      "image/png": "[encoded data removed]",
      "text/plain": [
       "<matplotlib.figure.Figure at 0x2b2a7a780f0>"
      ]
     },
     "metadata": {},
     "output_type": "display_data"
    }
   ],
   "source": [
    "gs_model(gsdtr, \"GridSearch Decision Tree\", X_train, X_test, y_train, y_test)"
   ]
  },
  {
   "cell_type": "markdown",
   "metadata": {},
   "source": [
    "#### 5.2 Random Forest"
   ]
  },
  {
   "cell_type": "markdown",
   "metadata": {},
   "source": [
    "###### 5.2.1 Model build and performance check"
   ]
  },
  {
   "cell_type": "code",
   "execution_count": 695,
   "metadata": {
    "collapsed": true
   },
   "outputs": [],
   "source": [
    "# Build model\n",
    "from sklearn.ensemble import RandomForestRegressor\n",
    "rfr = RandomForestRegressor()"
   ]
  },
  {
   "cell_type": "code",
   "execution_count": 696,
   "metadata": {
    "collapsed": false
   },
   "outputs": [
    {
     "name": "stdout",
     "output_type": "stream",
     "text": [
      "Random Forest CV Score:  0.366545051299 +/- 0.0204028921169\n",
      "           importance\n",
      "votes        0.611595\n",
      "time         0.072505\n",
      "1950s        0.033383\n",
      "english      0.027293\n",
      "oscar n/w    0.026068\n",
      "Random Forest predicted MSE:  0.0307054794521\n",
      "Random Forest predicted R2:  0.283144221502\n"
     ]
    },
    {
     "data": {
      "image/png": "[encoded data removed]",
      "text/plain": [
       "<matplotlib.figure.Figure at 0x2b2a7d3fdd8>"
      ]
     },
     "metadata": {},
     "output_type": "display_data"
    }
   ],
   "source": [
    "base_model(rfr, \"Random Forest\", X_train, X_test, y_train, y_test)"
   ]
  },
  {
   "cell_type": "markdown",
   "metadata": {},
   "source": [
    "###### 5.2.2 Optimize base model"
   ]
  },
  {
   "cell_type": "code",
   "execution_count": 697,
   "metadata": {
    "collapsed": false
   },
   "outputs": [],
   "source": [
    "# Build model\n",
    "params = {\"min_samples_leaf\": [1, 3, 5, 10],\n",
    "          \"n_estimators\": [2, 5, 10, 20, 40],\n",
    "          'max_features': [\"auto\", \"sqrt\", \"log2\", None],\n",
    "          \"max_depth\": [3, 5, 10, 20, None],\n",
    "          'min_samples_split': [2, 4, 7, 10],\n",
    "          }\n",
    "    \n",
    "gsrfr = GridSearchCV(RandomForestRegressor(), params, n_jobs=-1, cv=5)"
   ]
  },
  {
   "cell_type": "code",
   "execution_count": 698,
   "metadata": {
    "collapsed": false
   },
   "outputs": [
    {
     "name": "stdout",
     "output_type": "stream",
     "text": [
      "Best score:  0.440376228081\n",
      "Best params:  {'max_depth': 10, 'min_samples_split': 2, 'n_estimators': 40, 'min_samples_leaf': 1, 'max_features': None}\n",
      "Grid Search Random Forest Predicted MSE:  0.0283962088255\n",
      "Grid Search Random Forest Predicted R2:  0.337056878862\n"
     ]
    },
    {
     "data": {
      "image/png": "[encoded data removed]",
      "text/plain": [
       "<matplotlib.figure.Figure at 0x2b2a7c010b8>"
      ]
     },
     "metadata": {},
     "output_type": "display_data"
    }
   ],
   "source": [
    "gs_model(gsrfr, \"Grid Search Random Forest\", X_train, X_test, y_train, y_test)"
   ]
  },
  {
   "cell_type": "markdown",
   "metadata": {},
   "source": [
    "#### 5.3 Gradient Boosting"
   ]
  },
  {
   "cell_type": "markdown",
   "metadata": {},
   "source": [
    "###### 5.3.1 Model build and performance check"
   ]
  },
  {
   "cell_type": "code",
   "execution_count": 699,
   "metadata": {
    "collapsed": true
   },
   "outputs": [],
   "source": [
    "# Build model\n",
    "from sklearn.ensemble import GradientBoostingRegressor\n",
    "gbr = GradientBoostingRegressor()"
   ]
  },
  {
   "cell_type": "code",
   "execution_count": 700,
   "metadata": {
    "collapsed": false
   },
   "outputs": [
    {
     "name": "stdout",
     "output_type": "stream",
     "text": [
      "Gradient Boosting CV Score:  0.402363559912 +/- 0.0744555299612\n",
      "           importance\n",
      "votes        0.310948\n",
      "time         0.126245\n",
      "oscar n/w    0.046860\n",
      "1950s        0.044201\n",
      "comedy       0.040105\n",
      "Gradient Boosting predicted MSE:  0.0290645660505\n",
      "Gradient Boosting predicted R2:  0.321453287992\n"
     ]
    },
    {
     "data": {
      "image/png": "[encoded data removed]",
      "text/plain": [
       "<matplotlib.figure.Figure at 0x2b2a80543c8>"
      ]
     },
     "metadata": {},
     "output_type": "display_data"
    }
   ],
   "source": [
    "base_model(gbr, \"Gradient Boosting\", X_train, X_test, y_train, y_test)"
   ]
  },
  {
   "cell_type": "markdown",
   "metadata": {},
   "source": [
    "###### 5.3.2 Optimize base model"
   ]
  },
  {
   "cell_type": "code",
   "execution_count": 710,
   "metadata": {
    "collapsed": true
   },
   "outputs": [],
   "source": [
    "# Build model\n",
    "params = {\"learning_rate\": [0.05, 0.1, 0.2],\n",
    "          \"n_estimators\": [10, 50, 100, 200, 300],\n",
    "          'max_features': [\"auto\", \"sqrt\", \"log2\", None],\n",
    "          \"max_depth\": [3, 5, 10, 20, None],\n",
    "          'min_samples_split': [2, 4, 7, 10],\n",
    "          }\n",
    "    \n",
    "gsgbr = GridSearchCV(GradientBoostingRegressor(), params, n_jobs=-1, cv=5)"
   ]
  },
  {
   "cell_type": "code",
   "execution_count": 711,
   "metadata": {
    "collapsed": false
   },
   "outputs": [
    {
     "name": "stdout",
     "output_type": "stream",
     "text": [
      "Best score:  0.472835976652\n",
      "Best params:  {'learning_rate': 0.2, 'min_samples_split': 10, 'max_features': 'auto', 'n_estimators': 50, 'max_depth': 3}\n",
      "Grid Search Gradient Boosting Predicted MSE:  0.0292058177822\n",
      "Grid Search Gradient Boosting Predicted R2:  0.318155599048\n"
     ]
    },
    {
     "data": {
      "image/png": "[encoded data removed]",
      "text/plain": [
       "<matplotlib.figure.Figure at 0x2b2a7c0dba8>"
      ]
     },
     "metadata": {},
     "output_type": "display_data"
    }
   ],
   "source": [
    "gs_model(gsgbr, \"Grid Search Gradient Boosting\", X_train, X_test, y_train, y_test)"
   ]
  },
  {
   "cell_type": "markdown",
   "metadata": {},
   "source": [
    "#### 5.4 ExtraTrees"
   ]
  },
  {
   "cell_type": "code",
   "execution_count": 708,
   "metadata": {
    "collapsed": true
   },
   "outputs": [],
   "source": [
    "# Build model\n",
    "from sklearn.ensemble import ExtraTreesRegressor\n",
    "etr = ExtraTreesRegressor()"
   ]
  },
  {
   "cell_type": "code",
   "execution_count": 709,
   "metadata": {
    "collapsed": false
   },
   "outputs": [
    {
     "name": "stdout",
     "output_type": "stream",
     "text": [
      "ExtraTrees CV Score:  0.26321010726 +/- 0.150787098149\n",
      "           importance\n",
      "votes        0.365593\n",
      "biography    0.058928\n",
      "time         0.039180\n",
      "hindi        0.037895\n",
      "2000s        0.035358\n",
      "ExtraTrees predicted MSE:  0.0308904109589\n",
      "ExtraTrees predicted R2:  0.278826776483\n"
     ]
    },
    {
     "data": {
      "image/png": "[encoded data removed]",
      "text/plain": [
       "<matplotlib.figure.Figure at 0x2b2a7eeaf60>"
      ]
     },
     "metadata": {},
     "output_type": "display_data"
    }
   ],
   "source": [
    "base_model(etr, \"ExtraTrees\", X_train, X_test, y_train, y_test)"
   ]
  },
  {
   "cell_type": "markdown",
   "metadata": {},
   "source": [
    "## 6. Summary"
   ]
  },
  {
   "cell_type": "markdown",
   "metadata": {},
   "source": [
    "|Method|MSE|R2|\n",
    "|:----|:----:|:----:|\n",
    "|Decision Tree|0.043|-0.013|\n",
    "|GS Decision Tree|0.041|0.048|\n",
    "|Random Forest|0.031|0.28|\n",
    "|**GS Random Forest**|**0.028**|**0.34**|\n",
    "|ExtraTrees|0.031|0.28|\n",
    "|Gradient Boosting|0.029|0.32|\n",
    "|GS Gradient Boosting|0.029|0.32|"
   ]
  },
  {
   "cell_type": "markdown",
   "metadata": {},
   "source": [
    "**Number of votes** and **runtime** are the 2 biggest predictors of ratings for the IMDB Top 250 movies"
   ]
  },
  {
   "cell_type": "markdown",
   "metadata": {
    "collapsed": true
   },
   "source": [
    "## 7. Appendix"
   ]
  },
  {
   "cell_type": "markdown",
   "metadata": {},
   "source": [
    "#### 7.1 Classification Tree"
   ]
  },
  {
   "cell_type": "code",
   "execution_count": 836,
   "metadata": {
    "collapsed": true
   },
   "outputs": [],
   "source": [
    "# Change y to categories\n",
    "bins = [7.9, 8.4, 9.3]\n",
    "group_names = [0, 1]\n",
    "yc = pd.cut(y, bins, labels = group_names)"
   ]
  },
  {
   "cell_type": "code",
   "execution_count": 837,
   "metadata": {
    "collapsed": false
   },
   "outputs": [],
   "source": [
    "# Train-test split\n",
    "X_train, X_test, y_train, y_test = train_test_split(X_final, yc, stratify = yc, test_size = 0.3, \n",
    "                                                    random_state = 42)"
   ]
  },
  {
   "cell_type": "code",
   "execution_count": 838,
   "metadata": {
    "collapsed": true
   },
   "outputs": [],
   "source": [
    "# Build Random Forest Classifier\n",
    "from sklearn.ensemble import RandomForestClassifier\n",
    "rfc = RandomForestClassifier()"
   ]
  },
  {
   "cell_type": "code",
   "execution_count": 839,
   "metadata": {
    "collapsed": true
   },
   "outputs": [],
   "source": [
    "# Fit and predict\n",
    "rfc.fit(X_train, y_train)\n",
    "y_pred = rfc.predict(X_test)"
   ]
  },
  {
   "cell_type": "code",
   "execution_count": 840,
   "metadata": {
    "collapsed": false
   },
   "outputs": [
    {
     "name": "stdout",
     "output_type": "stream",
     "text": [
      "[[51  3]\n",
      " [15  4]]\n",
      "Accuracy: 0.75 \n",
      "             precision    recall  f1-score   support\n",
      "\n",
      "          0       0.77      0.94      0.85        54\n",
      "          1       0.57      0.21      0.31        19\n",
      "\n",
      "avg / total       0.72      0.75      0.71        73\n",
      "\n"
     ]
    }
   ],
   "source": [
    "# Prediction metrics\n",
    "from sklearn.metrics import confusion_matrix, classification_report, accuracy_score\n",
    "print(confusion_matrix(y_test, y_pred))\n",
    "print(\"Accuracy: {0:.2f} \".format(accuracy_score(y_test, y_pred)))\n",
    "print(classification_report(y_test, y_pred))"
   ]
  },
  {
   "cell_type": "code",
   "execution_count": 841,
   "metadata": {
    "collapsed": false
   },
   "outputs": [
    {
     "name": "stdout",
     "output_type": "stream",
     "text": [
      "           importance\n",
      "votes        0.237853\n",
      "time         0.135250\n",
      "oscar n/w    0.070447\n",
      "1950s        0.029200\n",
      "action       0.025125\n"
     ]
    }
   ],
   "source": [
    "# Feature importances\n",
    "df = pd.DataFrame(rfc.feature_importances_, index = X_train.columns, columns=['importance']).\\\n",
    "                        sort_values('importance', ascending=False)\n",
    "print(df[:5])"
   ]
  },
  {
   "cell_type": "code",
   "execution_count": null,
   "metadata": {
    "collapsed": true
   },
   "outputs": [],
   "source": []
  }
 ],
 "metadata": {
  "anaconda-cloud": {},
  "kernelspec": {
   "display_name": "Python [default]",
   "language": "python",
   "name": "python3"
  },
  "language_info": {
   "codemirror_mode": {
    "name": "ipython",
    "version": 3
   },
   "file_extension": ".py",
   "mimetype": "text/x-python",
   "name": "python",
   "nbconvert_exporter": "python",
   "pygments_lexer": "ipython3",
   "version": "3.5.2"
  }
 },
 "nbformat": 4,
 "nbformat_minor": 1
}
