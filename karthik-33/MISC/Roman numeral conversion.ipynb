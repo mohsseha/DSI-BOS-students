{
 "cells": [
  {
   "cell_type": "code",
   "execution_count": 21,
   "metadata": {
    "collapsed": false
   },
   "outputs": [],
   "source": [
    "def int_to_str(i):\n",
    "\n",
    "    n_1000 = i//1000\n",
    "    n_100 = (i%1000)//100\n",
    "    n_10 = ((i%1000)%100)//10\n",
    "    n_1 = ((i%1000)%100)%10\n",
    "    \n",
    "    def n_str(n, n_char):\n",
    "        if n <= 3: return(n*n_char[0])\n",
    "        if n == 4: return(n_char[0] + n_char[1])\n",
    "        if n == 5: return(n_char[1])\n",
    "        if n >= 6 and n <= 8: return(n_char[1] + (n-5)*n_char[0])\n",
    "        if n == 9: return(n_char[0] + n_char[2])\n",
    "    \n",
    "    str1 = n_1000*\"M\"\n",
    "    str2 = n_str(n_100, [\"C\", \"D\", \"M\"])\n",
    "    str3 = n_str(n_10, [\"X\", \"L\", \"C\"])\n",
    "    str4 = n_str(n_1, [\"I\", \"V\", \"X\"])\n",
    "    \n",
    "    return(str1+str2+str3+str4)"
   ]
  },
  {
   "cell_type": "code",
   "execution_count": 85,
   "metadata": {
    "collapsed": false
   },
   "outputs": [],
   "source": [
    "def str_to_int(s, num = 0):\n",
    "    \n",
    "    rn = {}\n",
    "    rn[\"M\"] = 1000\n",
    "    rn[\"CM\"] = 900\n",
    "    rn[\"D\"] = 500\n",
    "    rn[\"CD\"] = 400\n",
    "    rn[\"C\"] = 100\n",
    "    rn[\"XC\"] = 90\n",
    "    rn[\"L\"] = 50\n",
    "    rn[\"XL\"] = 40\n",
    "    rn[\"X\"] = 10\n",
    "    rn[\"IX\"] = 9\n",
    "    rn[\"V\"] = 5\n",
    "    rn[\"IV\"] = 4\n",
    "    rn[\"I\"] = 1\n",
    "            \n",
    "    if len(s) >= 2:\n",
    "        if (s[0]+s[1]) in rn:\n",
    "            num += rn[s[0]+s[1]]\n",
    "            s = s[2:]\n",
    "            if len(s) > 0: \n",
    "                num = str_to_int(s, num)\n",
    "        else:\n",
    "            num += rn[s[0]]\n",
    "            s = s[1:]\n",
    "            if len(s) > 0: \n",
    "                num = str_to_int(s, num)\n",
    "    else:\n",
    "        num += rn[s[0]]\n",
    "        s = s[1:]\n",
    "        if len(s) > 0: \n",
    "            num = str_to_int(s, num)\n",
    "             \n",
    "    return(num)"
   ]
  },
  {
   "cell_type": "code",
   "execution_count": 103,
   "metadata": {
    "collapsed": false
   },
   "outputs": [
    {
     "name": "stdout",
     "output_type": "stream",
     "text": [
      "It works!\n"
     ]
    }
   ],
   "source": [
    "# Unit test\n",
    "a = \"It works!\"\n",
    "\n",
    "for i in range(1,1001):\n",
    "    if (i != str_to_int(int_to_str(i))): \n",
    "        a = \"Didn't work!\"\n",
    "        \n",
    "print(a)"
   ]
  },
  {
   "cell_type": "code",
   "execution_count": null,
   "metadata": {
    "collapsed": true
   },
   "outputs": [],
   "source": []
  }
 ],
 "metadata": {
  "anaconda-cloud": {},
  "kernelspec": {
   "display_name": "Python [default]",
   "language": "python",
   "name": "python3"
  },
  "language_info": {
   "codemirror_mode": {
    "name": "ipython",
    "version": 3
   },
   "file_extension": ".py",
   "mimetype": "text/x-python",
   "name": "python",
   "nbconvert_exporter": "python",
   "pygments_lexer": "ipython3",
   "version": "3.5.2"
  }
 },
 "nbformat": 4,
 "nbformat_minor": 1
}
