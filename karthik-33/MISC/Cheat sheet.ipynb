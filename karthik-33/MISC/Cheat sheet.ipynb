{
 "cells": [
  {
   "cell_type": "code",
   "execution_count": 1,
   "metadata": {
    "collapsed": true
   },
   "outputs": [],
   "source": [
    "import pandas as pd"
   ]
  },
  {
   "cell_type": "code",
   "execution_count": 69,
   "metadata": {
    "collapsed": true
   },
   "outputs": [],
   "source": [
    "function_list = [\"input\", \"map\", \"df.iloc\", \"filter\"]\n",
    "desc_list = [\"Waits to receive input from user\", \n",
    "             \"applies a function to each item of a sequence, and returns a list\",\n",
    "            \"access row of dataframe by positional index\",\n",
    "            \"filters elements of a list based on a defined filter/function, and returns a list\"]"
   ]
  },
  {
   "cell_type": "code",
   "execution_count": 70,
   "metadata": {
    "collapsed": false
   },
   "outputs": [],
   "source": [
    "data1 = {\"Function\": function_list, \"Description\": desc_list}"
   ]
  },
  {
   "cell_type": "code",
   "execution_count": 71,
   "metadata": {
    "collapsed": false
   },
   "outputs": [
    {
     "data": {
      "text/plain": [
       "{'Description': ['Waits to receive input from user',\n",
       "  'applies a function to each item of a sequence, and returns a list',\n",
       "  'access row of dataframe by positional index',\n",
       "  'filters elements of a list based on a defined filter/function, and returns a list'],\n",
       " 'Function': ['input', 'map', 'df.iloc', 'filter']}"
      ]
     },
     "execution_count": 71,
     "metadata": {},
     "output_type": "execute_result"
    }
   ],
   "source": [
    "data1"
   ]
  },
  {
   "cell_type": "code",
   "execution_count": 72,
   "metadata": {
    "collapsed": false
   },
   "outputs": [],
   "source": [
    "functions_df = pd.DataFrame.from_dict(data1)"
   ]
  },
  {
   "cell_type": "code",
   "execution_count": 74,
   "metadata": {
    "collapsed": false
   },
   "outputs": [],
   "source": [
    "functions_df = functions_df[[\"Function\", \"Description\"]]"
   ]
  }
 ],
 "metadata": {
  "anaconda-cloud": {},
  "kernelspec": {
   "display_name": "Python [default]",
   "language": "python",
   "name": "python3"
  },
  "language_info": {
   "codemirror_mode": {
    "name": "ipython",
    "version": 3
   },
   "file_extension": ".py",
   "mimetype": "text/x-python",
   "name": "python",
   "nbconvert_exporter": "python",
   "pygments_lexer": "ipython3",
   "version": "3.5.2"
  }
 },
 "nbformat": 4,
 "nbformat_minor": 1
}
