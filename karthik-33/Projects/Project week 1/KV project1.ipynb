{
 "cells": [
  {
   "cell_type": "markdown",
   "metadata": {},
   "source": [
    "# Karthik Venkataraman, Project 1\n",
    "\n",
    "## Step 1: Open the `sat_scores.csv` file. Investigate the data, and answer the questions below.\n"
   ]
  },
  {
   "cell_type": "markdown",
   "metadata": {},
   "source": [
    "##### 1. What does the data describe?"
   ]
  },
  {
   "cell_type": "markdown",
   "metadata": {},
   "source": [
    "Average SAT verbal and math scores for each state and DC, along with participation rate"
   ]
  },
  {
   "cell_type": "markdown",
   "metadata": {},
   "source": [
    "##### 2. Does the data look complete? Are there any obvious issues with the observations?"
   ]
  },
  {
   "cell_type": "markdown",
   "metadata": {},
   "source": [
    "The data looks complete. 2 issues:\n",
    "\n",
    "(1) Participation rate for some state is suspiciously low\n",
    "\n",
    "(2) Data includes an \"All\" state, which seems to be some sort of average of all states. This needs to be removed before any statistics are computed"
   ]
  },
  {
   "cell_type": "markdown",
   "metadata": {},
   "source": [
    "##### 3. Create a data dictionary for the dataset."
   ]
  },
  {
   "cell_type": "markdown",
   "metadata": {
    "collapsed": true
   },
   "source": [
    "Dictionaries created below in steps 10 and 11"
   ]
  },
  {
   "cell_type": "markdown",
   "metadata": {},
   "source": [
    "## Step 2: Load the data."
   ]
  },
  {
   "cell_type": "markdown",
   "metadata": {},
   "source": [
    "##### 4. Load the data into a list of lists"
   ]
  },
  {
   "cell_type": "code",
   "execution_count": 2,
   "metadata": {
    "collapsed": false
   },
   "outputs": [],
   "source": [
    "import csv\n",
    "import numpy as np\n",
    "import matplotlib.pyplot as plt\n",
    "import seaborn as sns\n",
    "%matplotlib inline"
   ]
  },
  {
   "cell_type": "code",
   "execution_count": 3,
   "metadata": {
    "collapsed": false
   },
   "outputs": [
    {
     "name": "stderr",
     "output_type": "stream",
     "text": [
      "C:\\Program Files\\Anaconda3\\lib\\site-packages\\ipykernel\\__main__.py:1: DeprecationWarning: 'U' mode is deprecated\n",
      "  if __name__ == '__main__':\n"
     ]
    }
   ],
   "source": [
    "f = open(\"../assets/sat_scores.csv\", 'rU')\n",
    "sat_scores = csv.reader(f)"
   ]
  },
  {
   "cell_type": "markdown",
   "metadata": {},
   "source": [
    "##### 5. Print the data"
   ]
  },
  {
   "cell_type": "code",
   "execution_count": 4,
   "metadata": {
    "collapsed": false
   },
   "outputs": [
    {
     "name": "stdout",
     "output_type": "stream",
     "text": [
      "[['State', 'Rate', 'Verbal', 'Math'], ['CT', '82', '509', '510'], ['NJ', '81', '499', '513'], ['MA', '79', '511', '515'], ['NY', '77', '495', '505'], ['NH', '72', '520', '516'], ['RI', '71', '501', '499'], ['PA', '71', '500', '499'], ['VT', '69', '511', '506'], ['ME', '69', '506', '500'], ['VA', '68', '510', '501'], ['DE', '67', '501', '499'], ['MD', '65', '508', '510'], ['NC', '65', '493', '499'], ['GA', '63', '491', '489'], ['IN', '60', '499', '501'], ['SC', '57', '486', '488'], ['DC', '56', '482', '474'], ['OR', '55', '526', '526'], ['FL', '54', '498', '499'], ['WA', '53', '527', '527'], ['TX', '53', '493', '499'], ['HI', '52', '485', '515'], ['AK', '51', '514', '510'], ['CA', '51', '498', '517'], ['AZ', '34', '523', '525'], ['NV', '33', '509', '515'], ['CO', '31', '539', '542'], ['OH', '26', '534', '439'], ['MT', '23', '539', '539'], ['WV', '18', '527', '512'], ['ID', '17', '543', '542'], ['TN', '13', '562', '553'], ['NM', '13', '551', '542'], ['IL', '12', '576', '589'], ['KY', '12', '550', '550'], ['WY', '11', '547', '545'], ['MI', '11', '561', '572'], ['MN', '9', '580', '589'], ['KS', '9', '577', '580'], ['AL', '9', '559', '554'], ['NE', '8', '562', '568'], ['OK', '8', '567', '561'], ['MO', '8', '577', '577'], ['LA', '7', '564', '562'], ['WI', '6', '584', '596'], ['AR', '6', '562', '550'], ['UT', '5', '575', '570'], ['IA', '5', '593', '603'], ['SD', '4', '577', '582'], ['ND', '4', '592', '599'], ['MS', '4', '566', '551'], ['All', '45', '506', '514']]\n"
     ]
    }
   ],
   "source": [
    "sat_scores = list(sat_scores)\n",
    "print(sat_scores)"
   ]
  },
  {
   "cell_type": "markdown",
   "metadata": {
    "collapsed": true
   },
   "source": [
    "##### 6. Extract a list of the labels from the data, and remove them from the data."
   ]
  },
  {
   "cell_type": "code",
   "execution_count": 5,
   "metadata": {
    "collapsed": false
   },
   "outputs": [
    {
     "data": {
      "text/plain": [
       "52"
      ]
     },
     "execution_count": 5,
     "metadata": {},
     "output_type": "execute_result"
    }
   ],
   "source": [
    "labels = sat_scores[0]\n",
    "sat_scores = sat_scores[1:]\n",
    "len(sat_scores)"
   ]
  },
  {
   "cell_type": "markdown",
   "metadata": {},
   "source": [
    "##### 7. Create a list of State names extracted from the data. (Hint: use the list of labels to index on the State column)"
   ]
  },
  {
   "cell_type": "code",
   "execution_count": 6,
   "metadata": {
    "collapsed": false
   },
   "outputs": [
    {
     "name": "stdout",
     "output_type": "stream",
     "text": [
      "['CT', 'NJ', 'MA', 'NY', 'NH', 'RI', 'PA', 'VT', 'ME', 'VA', 'DE', 'MD', 'NC', 'GA', 'IN', 'SC', 'DC', 'OR', 'FL', 'WA', 'TX', 'HI', 'AK', 'CA', 'AZ', 'NV', 'CO', 'OH', 'MT', 'WV', 'ID', 'TN', 'NM', 'IL', 'KY', 'WY', 'MI', 'MN', 'KS', 'AL', 'NE', 'OK', 'MO', 'LA', 'WI', 'AR', 'UT', 'IA', 'SD', 'ND', 'MS', 'All']\n"
     ]
    }
   ],
   "source": [
    "# Create new list of States, but still leave state names in header-less SAT scores list\n",
    "\n",
    "states = []\n",
    "[states.append(row[0]) for row in sat_scores]\n",
    "print(states)"
   ]
  },
  {
   "cell_type": "markdown",
   "metadata": {},
   "source": [
    "##### 8. Print the types of each column"
   ]
  },
  {
   "cell_type": "code",
   "execution_count": 7,
   "metadata": {
    "collapsed": false
   },
   "outputs": [
    {
     "name": "stdout",
     "output_type": "stream",
     "text": [
      "<class 'str'>\n",
      "<class 'str'>\n",
      "<class 'str'>\n",
      "<class 'str'>\n"
     ]
    }
   ],
   "source": [
    "# Assume that the data types of the elements in the first row apply to all other rows\n",
    "\n",
    "for i in range(len(sat_scores[0])):\n",
    "    print(type(sat_scores[0][i]))"
   ]
  },
  {
   "cell_type": "markdown",
   "metadata": {},
   "source": [
    "##### 9. Do any types need to be reassigned? If so, go ahead and do it."
   ]
  },
  {
   "cell_type": "code",
   "execution_count": 8,
   "metadata": {
    "collapsed": false
   },
   "outputs": [
    {
     "name": "stdout",
     "output_type": "stream",
     "text": [
      "[['CT', 82, 509, 510], ['NJ', 81, 499, 513], ['MA', 79, 511, 515], ['NY', 77, 495, 505], ['NH', 72, 520, 516], ['RI', 71, 501, 499], ['PA', 71, 500, 499], ['VT', 69, 511, 506], ['ME', 69, 506, 500], ['VA', 68, 510, 501], ['DE', 67, 501, 499], ['MD', 65, 508, 510], ['NC', 65, 493, 499], ['GA', 63, 491, 489], ['IN', 60, 499, 501], ['SC', 57, 486, 488], ['DC', 56, 482, 474], ['OR', 55, 526, 526], ['FL', 54, 498, 499], ['WA', 53, 527, 527], ['TX', 53, 493, 499], ['HI', 52, 485, 515], ['AK', 51, 514, 510], ['CA', 51, 498, 517], ['AZ', 34, 523, 525], ['NV', 33, 509, 515], ['CO', 31, 539, 542], ['OH', 26, 534, 439], ['MT', 23, 539, 539], ['WV', 18, 527, 512], ['ID', 17, 543, 542], ['TN', 13, 562, 553], ['NM', 13, 551, 542], ['IL', 12, 576, 589], ['KY', 12, 550, 550], ['WY', 11, 547, 545], ['MI', 11, 561, 572], ['MN', 9, 580, 589], ['KS', 9, 577, 580], ['AL', 9, 559, 554], ['NE', 8, 562, 568], ['OK', 8, 567, 561], ['MO', 8, 577, 577], ['LA', 7, 564, 562], ['WI', 6, 584, 596], ['AR', 6, 562, 550], ['UT', 5, 575, 570], ['IA', 5, 593, 603], ['SD', 4, 577, 582], ['ND', 4, 592, 599], ['MS', 4, 566, 551]] \n",
      "\n",
      "Quick check:  <class 'int'>\n"
     ]
    }
   ],
   "source": [
    "# Convert Rate, Verbal and Math to float\n",
    "\n",
    "for row in sat_scores:\n",
    "    for i in [1,2,3]:\n",
    "        row[i] = int(row[i])\n",
    "\n",
    "# Remove state \"All\" for future stats calcs\n",
    "\n",
    "sat_scores = sat_scores[:-1]\n",
    "print(sat_scores, \"\\n\")\n",
    "print(\"Quick check: \",type(sat_scores[5][2]))"
   ]
  },
  {
   "cell_type": "code",
   "execution_count": null,
   "metadata": {
    "collapsed": false
   },
   "outputs": [],
   "source": []
  },
  {
   "cell_type": "markdown",
   "metadata": {},
   "source": [
    "##### 10. Create a dictionary for each column mapping the State to its respective value for that column. "
   ]
  },
  {
   "cell_type": "code",
   "execution_count": 50,
   "metadata": {
    "collapsed": false
   },
   "outputs": [
    {
     "name": "stdout",
     "output_type": "stream",
     "text": [
      "Rate:  {'KS': 9, 'TN': 13, 'MA': 79, 'WI': 6, 'NJ': 81, 'WA': 53, 'MS': 4, 'TX': 53, 'DE': 67, 'CT': 82, 'AK': 51, 'IA': 5, 'UT': 5, 'AL': 9, 'SD': 4, 'ID': 17, 'HI': 52, 'OR': 55, 'MT': 23, 'IL': 12, 'WY': 11, 'OK': 8, 'VT': 69, 'AR': 6, 'CA': 51, 'CO': 31, 'FL': 54, 'MI': 11, 'NE': 8, 'WV': 18, 'MN': 9, 'NC': 65, 'NY': 77, 'PA': 71, 'ME': 69, 'MO': 8, 'NV': 33, 'VA': 68, 'LA': 7, 'NH': 72, 'GA': 63, 'MD': 65, 'IN': 60, 'SC': 57, 'DC': 56, 'AZ': 34, 'KY': 12, 'ND': 4, 'NM': 13, 'RI': 71, 'OH': 26} \n",
      "\n",
      "Verbal:  {'KS': 577, 'TN': 562, 'MA': 511, 'WI': 584, 'NJ': 499, 'WA': 527, 'MS': 566, 'TX': 493, 'DE': 501, 'CT': 509, 'AK': 514, 'IA': 593, 'UT': 575, 'AL': 559, 'SD': 577, 'ID': 543, 'HI': 485, 'OR': 526, 'MT': 539, 'IL': 576, 'WY': 547, 'OK': 567, 'VT': 511, 'AR': 562, 'CA': 498, 'CO': 539, 'FL': 498, 'MI': 561, 'NE': 562, 'WV': 527, 'MN': 580, 'NC': 493, 'NY': 495, 'PA': 500, 'ME': 506, 'MO': 577, 'NV': 509, 'VA': 510, 'LA': 564, 'NH': 520, 'GA': 491, 'MD': 508, 'IN': 499, 'SC': 486, 'DC': 482, 'AZ': 523, 'KY': 550, 'ND': 592, 'NM': 551, 'RI': 501, 'OH': 534} \n",
      "\n",
      "Math:  {'KS': 580, 'TN': 553, 'MA': 515, 'WI': 596, 'NJ': 513, 'WA': 527, 'MS': 551, 'TX': 499, 'DE': 499, 'CT': 510, 'AK': 510, 'IA': 603, 'UT': 570, 'AL': 554, 'SD': 582, 'ID': 542, 'HI': 515, 'OR': 526, 'MT': 539, 'IL': 589, 'WY': 545, 'OK': 561, 'VT': 506, 'AR': 550, 'CA': 517, 'CO': 542, 'FL': 499, 'MI': 572, 'NE': 568, 'WV': 512, 'MN': 589, 'NC': 499, 'NY': 505, 'PA': 499, 'ME': 500, 'MO': 577, 'NV': 515, 'VA': 501, 'LA': 562, 'NH': 516, 'GA': 489, 'MD': 510, 'IN': 501, 'SC': 488, 'DC': 474, 'AZ': 525, 'KY': 550, 'ND': 599, 'NM': 542, 'RI': 499, 'OH': 439}\n"
     ]
    }
   ],
   "source": [
    "rate_dict_bystate = {}\n",
    "verbal_dict_bystate = {}\n",
    "math_dict_bystate = {}\n",
    "\n",
    "for row in sat_scores:\n",
    "    rate_dict_bystate[row[0]] = row[1]\n",
    "    verbal_dict_bystate[row[0]] = row[2]\n",
    "    math_dict_bystate[row[0]] = row[3]\n",
    "\n",
    "print(\"Rate: \", rate_dict_bystate, \"\\n\")\n",
    "print(\"Verbal: \", verbal_dict_bystate, \"\\n\")\n",
    "print(\"Math: \", math_dict_bystate)"
   ]
  },
  {
   "cell_type": "markdown",
   "metadata": {},
   "source": [
    "##### 11. Create a dictionary with the values for each of the numeric columns"
   ]
  },
  {
   "cell_type": "code",
   "execution_count": 10,
   "metadata": {
    "collapsed": false
   },
   "outputs": [
    {
     "name": "stdout",
     "output_type": "stream",
     "text": [
      "{'Rate': [82, 81, 79, 77, 72, 71, 71, 69, 69, 68, 67, 65, 65, 63, 60, 57, 56, 55, 54, 53, 53, 52, 51, 51, 34, 33, 31, 26, 23, 18, 17, 13, 13, 12, 12, 11, 11, 9, 9, 9, 8, 8, 8, 7, 6, 6, 5, 5, 4, 4, 4], 'Verbal': [509, 499, 511, 495, 520, 501, 500, 511, 506, 510, 501, 508, 493, 491, 499, 486, 482, 526, 498, 527, 493, 485, 514, 498, 523, 509, 539, 534, 539, 527, 543, 562, 551, 576, 550, 547, 561, 580, 577, 559, 562, 567, 577, 564, 584, 562, 575, 593, 577, 592, 566], 'Math': [510, 513, 515, 505, 516, 499, 499, 506, 500, 501, 499, 510, 499, 489, 501, 488, 474, 526, 499, 527, 499, 515, 510, 517, 525, 515, 542, 439, 539, 512, 542, 553, 542, 589, 550, 545, 572, 589, 580, 554, 568, 561, 577, 562, 596, 550, 570, 603, 582, 599, 551]}\n"
     ]
    }
   ],
   "source": [
    "# Assuming that the dictionary will have rate, verbal and math as keys, and the values from each state \n",
    "# as a values list\n",
    "\n",
    "metrics_dict = {}\n",
    "rate_list=[]\n",
    "verbal_list=[]\n",
    "math_list=[]\n",
    "\n",
    "[rate_list.append(row[1]) for row in sat_scores]\n",
    "[verbal_list.append(row[2]) for row in sat_scores]\n",
    "[math_list.append(row[3]) for row in sat_scores]\n",
    "\n",
    "metrics_dict[\"Rate\"] = rate_list\n",
    "metrics_dict[\"Verbal\"] = verbal_list\n",
    "metrics_dict[\"Math\"] = math_list\n",
    "print(metrics_dict)"
   ]
  },
  {
   "cell_type": "markdown",
   "metadata": {},
   "source": [
    "## Step 3: Describe the data"
   ]
  },
  {
   "cell_type": "markdown",
   "metadata": {},
   "source": [
    "##### 12. Print the min and max of each column"
   ]
  },
  {
   "cell_type": "code",
   "execution_count": 11,
   "metadata": {
    "collapsed": false
   },
   "outputs": [
    {
     "name": "stdout",
     "output_type": "stream",
     "text": [
      "Rate... Min: 4 Max: 82\n",
      "Verbal... Min: 482 Max: 593\n",
      "Math... Min: 439 Max: 603\n"
     ]
    }
   ],
   "source": [
    "print(\"Rate... Min: {} Max: {}\".format(np.min(rate_list), np.max(rate_list)))\n",
    "print(\"Verbal... Min: {} Max: {}\".format(np.min(verbal_list), np.max(verbal_list)))\n",
    "print(\"Math... Min: {} Max: {}\".format(np.min(math_list), np.max(math_list)))"
   ]
  },
  {
   "cell_type": "markdown",
   "metadata": {},
   "source": [
    "##### 13. Write a function using only list comprehensions, no loops, to compute Standard Deviation. Print the Standard Deviation of each numeric column."
   ]
  },
  {
   "cell_type": "code",
   "execution_count": 52,
   "metadata": {
    "collapsed": false
   },
   "outputs": [
    {
     "name": "stdout",
     "output_type": "stream",
     "text": [
      "Rate stdev:  27.2792386761\n",
      "Verbal stdev:  33.0319826842\n",
      "Math stdev:  35.9298731731\n"
     ]
    }
   ],
   "source": [
    "def stdev(column):\n",
    "    values = metrics_dict[column]\n",
    "    diff = [(x - np.mean(values))**2 for x in values]\n",
    "    sd = (np.sum(diff)/len(values))**(0.5)\n",
    "    return sd\n",
    "\n",
    "print(\"Rate stdev: \", stdev(\"Rate\"))\n",
    "print(\"Verbal stdev: \", stdev(\"Verbal\"))\n",
    "print(\"Math stdev: \", stdev(\"Math\"))"
   ]
  },
  {
   "cell_type": "markdown",
   "metadata": {},
   "source": [
    "## Step 4: Visualize the data"
   ]
  },
  {
   "cell_type": "markdown",
   "metadata": {
    "collapsed": true
   },
   "source": [
    "##### 14. Using MatPlotLib and PyPlot, plot the distribution of the Rate using histograms."
   ]
  },
  {
   "cell_type": "code",
   "execution_count": 13,
   "metadata": {
    "collapsed": false
   },
   "outputs": [
    {
     "data": {
      "image/png": "[encoded data removed]",
      "text/plain": [
       "<matplotlib.figure.Figure at 0x1919f356438>"
      ]
     },
     "metadata": {},
     "output_type": "display_data"
    }
   ],
   "source": [
    "plt.title(\"Histogram of participation rate\")\n",
    "plt.hist(metrics_dict[\"Rate\"])\n",
    "plt.show()"
   ]
  },
  {
   "cell_type": "markdown",
   "metadata": {},
   "source": [
    "##### 15. Plot the Math distribution"
   ]
  },
  {
   "cell_type": "code",
   "execution_count": 15,
   "metadata": {
    "collapsed": false
   },
   "outputs": [
    {
     "data": {
      "image/png": "[encoded data removed]",
      "text/plain": [
       "<matplotlib.figure.Figure at 0x191a08c5fd0>"
      ]
     },
     "metadata": {},
     "output_type": "display_data"
    }
   ],
   "source": [
    "plt.title(\"Histogram of math scores\")\n",
    "plt.hist(metrics_dict[\"Math\"])\n",
    "plt.show()"
   ]
  },
  {
   "cell_type": "markdown",
   "metadata": {},
   "source": [
    "##### 16. Plot the Verbal distribution"
   ]
  },
  {
   "cell_type": "code",
   "execution_count": 16,
   "metadata": {
    "collapsed": false
   },
   "outputs": [
    {
     "data": {
      "image/png": "[encoded data removed]",
      "text/plain": [
       "<matplotlib.figure.Figure at 0x191a08ec978>"
      ]
     },
     "metadata": {},
     "output_type": "display_data"
    }
   ],
   "source": [
    "plt.title(\"Histogram of verbal scores\")\n",
    "plt.hist(metrics_dict[\"Verbal\"])\n",
    "plt.show()"
   ]
  },
  {
   "cell_type": "markdown",
   "metadata": {},
   "source": [
    "##### 17. What is the typical assumption for data distribution?"
   ]
  },
  {
   "cell_type": "markdown",
   "metadata": {
    "collapsed": false
   },
   "source": [
    "Normally distributed"
   ]
  },
  {
   "cell_type": "markdown",
   "metadata": {},
   "source": [
    "##### 18. Does that distribution hold true for our data?"
   ]
  },
  {
   "cell_type": "markdown",
   "metadata": {
    "collapsed": false
   },
   "source": [
    "No, none of the variables seem to be normally distributed"
   ]
  },
  {
   "cell_type": "markdown",
   "metadata": {},
   "source": [
    "##### 19. Plot some scatterplots. **BONUS**: Use a PyPlot `figure` to present multiple plots at once."
   ]
  },
  {
   "cell_type": "code",
   "execution_count": 29,
   "metadata": {
    "collapsed": false
   },
   "outputs": [
    {
     "data": {
      "image/png": "[encoded data removed]",
      "text/plain": [
       "<matplotlib.figure.Figure at 0x191a10726d8>"
      ]
     },
     "metadata": {},
     "output_type": "display_data"
    }
   ],
   "source": [
    "fig = plt.figure()\n",
    "fig.set_size_inches(8.5, 10.5)\n",
    "\n",
    "ax1 = fig.add_subplot(311)\n",
    "ax1.set_xlabel(\"Rate\")\n",
    "ax1.set_ylabel(\"Verbal score\")\n",
    "ax1.scatter(rate_list, verbal_list)\n",
    "\n",
    "ax2 = fig.add_subplot(312)\n",
    "ax2.set_xlabel(\"Verbal score\")\n",
    "ax2.set_ylabel(\"Math score\")\n",
    "ax2.scatter(verbal_list, math_list)\n",
    "\n",
    "ax3 = fig.add_subplot(313)\n",
    "ax3.set_xlabel(\"Rate\")\n",
    "ax3.set_ylabel(\"Math score\")\n",
    "ax3.scatter(rate_list, math_list)\n",
    "\n",
    "plt.show()"
   ]
  },
  {
   "cell_type": "markdown",
   "metadata": {},
   "source": [
    "##### 20. Are there any interesting relationships to note?"
   ]
  },
  {
   "cell_type": "markdown",
   "metadata": {
    "collapsed": false
   },
   "source": [
    "1) Math score and verbal score are positively correlated\n",
    "\n",
    "2) Both math score and verbal score go down with increasing participation rate, although the participation rate is suspiciously low for a number of states"
   ]
  },
  {
   "cell_type": "markdown",
   "metadata": {},
   "source": [
    "##### 21. Create box plots for each variable. "
   ]
  },
  {
   "cell_type": "code",
   "execution_count": 36,
   "metadata": {
    "collapsed": false
   },
   "outputs": [
    {
     "data": {
      "image/png": "[encoded data removed]",
      "text/plain": [
       "<matplotlib.figure.Figure at 0x191a09445c0>"
      ]
     },
     "metadata": {},
     "output_type": "display_data"
    },
    {
     "data": {
      "image/png": "[encoded data removed]",
      "text/plain": [
       "<matplotlib.figure.Figure at 0x191a0d946a0>"
      ]
     },
     "metadata": {},
     "output_type": "display_data"
    },
    {
     "data": {
      "image/png": "[encoded data removed]",
      "text/plain": [
       "<matplotlib.figure.Figure at 0x191a0d94ac8>"
      ]
     },
     "metadata": {},
     "output_type": "display_data"
    }
   ],
   "source": [
    "plt.boxplot(rate_list)\n",
    "plt.title(\"Rate\")\n",
    "plt.show()\n",
    "plt.boxplot(verbal_list)\n",
    "plt.title(\"Verbal\")\n",
    "plt.show()\n",
    "plt.boxplot(math_list)\n",
    "plt.title(\"Math\")\n",
    "plt.show()"
   ]
  },
  {
   "cell_type": "markdown",
   "metadata": {},
   "source": [
    "##### BONUS: Using Tableau, create a heat map for each variable using a map of the US. "
   ]
  },
  {
   "cell_type": "markdown",
   "metadata": {},
   "source": [
    "RATE HEATMAP"
   ]
  },
  {
   "cell_type": "markdown",
   "metadata": {
    "collapsed": true
   },
   "source": [
    "![title](Rate_heatmap.png)"
   ]
  },
  {
   "cell_type": "markdown",
   "metadata": {},
   "source": [
    "MATH HEATMAP"
   ]
  },
  {
   "cell_type": "markdown",
   "metadata": {},
   "source": [
    "![title](Math_heatmap.png)"
   ]
  },
  {
   "cell_type": "markdown",
   "metadata": {},
   "source": [
    "VERBAL HEATMAP"
   ]
  },
  {
   "cell_type": "markdown",
   "metadata": {},
   "source": [
    "![title](Verbal_heatmap.png)\n"
   ]
  },
  {
   "cell_type": "code",
   "execution_count": null,
   "metadata": {
    "collapsed": true
   },
   "outputs": [],
   "source": []
  }
 ],
 "metadata": {
  "anaconda-cloud": {},
  "kernelspec": {
   "display_name": "Python [default]",
   "language": "python",
   "name": "python3"
  },
  "language_info": {
   "codemirror_mode": {
    "name": "ipython",
    "version": 3
   },
   "file_extension": ".py",
   "mimetype": "text/x-python",
   "name": "python",
   "nbconvert_exporter": "python",
   "pygments_lexer": "ipython3",
   "version": "3.5.2"
  }
 },
 "nbformat": 4,
 "nbformat_minor": 0
}
