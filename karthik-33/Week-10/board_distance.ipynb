{
 "cells": [
  {
   "cell_type": "code",
   "execution_count": 1,
   "metadata": {
    "collapsed": true
   },
   "outputs": [],
   "source": [
    "import numpy as np"
   ]
  },
  {
   "cell_type": "code",
   "execution_count": 2,
   "metadata": {
    "collapsed": false
   },
   "outputs": [],
   "source": [
    "board_pos = np.array([[\"F\", \"T\", \"F\", \"F\"], [\"F\", \"T\", \"F\", \"F\"], \n",
    "            [\"F\", \"T\", \"F\", \"F\"], [\"F\", \"F\", \"F\", \"F\"]])"
   ]
  },
  {
   "cell_type": "code",
   "execution_count": 10,
   "metadata": {
    "collapsed": false
   },
   "outputs": [
    {
     "ename": "ZeroDivisionError",
     "evalue": "division by zero",
     "output_type": "error",
     "traceback": [
      "\u001b[0;31m-----------------------------------------------------------------\u001b[0m",
      "\u001b[0;31mZeroDivisionError\u001b[0m               Traceback (most recent call last)",
      "\u001b[0;32m<ipython-input-10-ab194ba0f297>\u001b[0m in \u001b[0;36m<module>\u001b[0;34m()\u001b[0m\n\u001b[0;32m----> 1\u001b[0;31m \u001b[0mcount_moves\u001b[0m\u001b[1;33m(\u001b[0m\u001b[0mboard_pos\u001b[0m\u001b[1;33m,\u001b[0m \u001b[1;36m0\u001b[0m\u001b[1;33m,\u001b[0m \u001b[1;36m2\u001b[0m\u001b[1;33m)\u001b[0m\u001b[1;33m\u001b[0m\u001b[0m\n\u001b[0m",
      "\u001b[0;32m<ipython-input-9-5d9768b02633>\u001b[0m in \u001b[0;36mcount_moves\u001b[0;34m(board_pos, x_target, y_target, x_pos, y_pos)\u001b[0m\n\u001b[1;32m     16\u001b[0m     \u001b[1;31m# Current position not on edges\u001b[0m\u001b[1;33m\u001b[0m\u001b[1;33m\u001b[0m\u001b[0m\n\u001b[1;32m     17\u001b[0m \u001b[1;33m\u001b[0m\u001b[0m\n\u001b[0;32m---> 18\u001b[0;31m     \u001b[0mpos_x_empty\u001b[0m \u001b[1;33m=\u001b[0m \u001b[1;33m(\u001b[0m\u001b[0mboard_pos\u001b[0m\u001b[1;33m[\u001b[0m\u001b[0mx_pos\u001b[0m \u001b[1;33m+\u001b[0m \u001b[0mx_diff\u001b[0m\u001b[1;33m/\u001b[0m\u001b[0mabs\u001b[0m\u001b[1;33m(\u001b[0m\u001b[0mx_diff\u001b[0m\u001b[1;33m)\u001b[0m\u001b[1;33m,\u001b[0m \u001b[0my_pos\u001b[0m\u001b[1;33m]\u001b[0m \u001b[1;33m==\u001b[0m \u001b[1;34m\"F\"\u001b[0m\u001b[1;33m)\u001b[0m\u001b[1;33m\u001b[0m\u001b[0m\n\u001b[0m\u001b[1;32m     19\u001b[0m     \u001b[0mpos_y_empty1\u001b[0m \u001b[1;33m=\u001b[0m \u001b[1;33m(\u001b[0m\u001b[0mboard_pos\u001b[0m\u001b[1;33m[\u001b[0m\u001b[0mx_pos\u001b[0m\u001b[1;33m,\u001b[0m \u001b[0my_pos\u001b[0m \u001b[1;33m+\u001b[0m \u001b[0my_diff\u001b[0m\u001b[1;33m/\u001b[0m\u001b[0mabs\u001b[0m\u001b[1;33m(\u001b[0m\u001b[0my_diff\u001b[0m\u001b[1;33m)\u001b[0m\u001b[1;33m]\u001b[0m \u001b[1;33m==\u001b[0m \u001b[1;34m\"F\"\u001b[0m\u001b[1;33m)\u001b[0m\u001b[1;33m\u001b[0m\u001b[0m\n\u001b[1;32m     20\u001b[0m     \u001b[0mpos_y_empty2\u001b[0m \u001b[1;33m=\u001b[0m \u001b[1;33m(\u001b[0m\u001b[0mboard_pos\u001b[0m\u001b[1;33m[\u001b[0m\u001b[0mx_pos\u001b[0m\u001b[1;33m,\u001b[0m \u001b[0my_pos\u001b[0m \u001b[1;33m-\u001b[0m \u001b[0my_diff\u001b[0m\u001b[1;33m/\u001b[0m\u001b[0mabs\u001b[0m\u001b[1;33m(\u001b[0m\u001b[0my_diff\u001b[0m\u001b[1;33m)\u001b[0m\u001b[1;33m]\u001b[0m \u001b[1;33m==\u001b[0m \u001b[1;34m\"F\"\u001b[0m\u001b[1;33m)\u001b[0m\u001b[1;33m\u001b[0m\u001b[0m\n",
      "\u001b[0;31mZeroDivisionError\u001b[0m: division by zero"
     ]
    }
   ],
   "source": [
    "count_moves(board_pos, 0, 2)"
   ]
  },
  {
   "cell_type": "code",
   "execution_count": null,
   "metadata": {
    "collapsed": true
   },
   "outputs": [],
   "source": [
    "def count_moves(board_pos, x_target, y_target, x_pos = 0, y_pos = 0):\n",
    "    \"\"\"Counts number of moves to target position\"\"\"\n",
    "    x_diff = x_target - x_pos\n",
    "    y_diff = y_target - y_pos\n",
    "    count = 0\n",
    "    \n",
    "    # if target has a \"T\", return error\n",
    "    if board_pos[x_target, y_target] == \"T\":\n",
    "        print(\"Target position not allowed!\")\n",
    "        return(count)\n",
    "        \n",
    "    # if target reached, exit\n",
    "    if x_diff == 0 and y_diff == 0:\n",
    "        return(count)\n",
    "    \n",
    "    if abs(x_diff) > abs (y_diff):\n",
    "        if board_pos[x_pos + x_diff/abs(x_diff), y_pos] == \"F\":\n",
    "            x_pos += x_diff/abs(x_diff)\n",
    "            count += 1\n",
    "            count += count_moves(board_pos, x_pos, y_pos)\n",
    "    if abs(y_diff) > abs (x_diff):\n",
    "        if board_pos[x_pos, y_pos  + y_diff/abs(y_diff)] == \"F\":\n",
    "            y_pos += y_diff/abs(y_diff)\n",
    "            count += 1\n",
    "            count += count_moves(board_pos, x_pos, y_pos)"
   ]
  },
  {
   "cell_type": "code",
   "execution_count": 9,
   "metadata": {
    "collapsed": true
   },
   "outputs": [],
   "source": [
    "def count_moves(board_pos, x_target, y_target, x_pos = 0, y_pos = 0):\n",
    "    \"\"\"Counts number of moves to target position\"\"\"\n",
    "    x_diff = x_target - x_pos\n",
    "    y_diff = y_target - y_pos\n",
    "    count = 0\n",
    "    \n",
    "    # if target has a \"T\", return error\n",
    "    if board_pos[x_target, y_target] == \"T\":\n",
    "        print(\"Target position not allowed!\")\n",
    "        return(count)\n",
    "        \n",
    "    # if target reached, exit\n",
    "    if x_diff == 0 and y_diff == 0:\n",
    "        return(count)\n",
    "    \n",
    "    # Current position not on edges\n",
    "    \n",
    "    if abs(x_diff) > 0:\n",
    "        pos_x_empty = (board_pos[x_pos + x_diff/abs(x_diff), y_pos] == \"F\")\n",
    "    else:\n",
    "        pos_x_empty = (board_pos[x_pos + 1, y_pos] == \"F\")\n",
    "    if abs(y_diff) > 0:\n",
    "        pos_y_empty1 = (board_pos[x_pos, y_pos + y_diff/abs(y_diff)] == \"F\")\n",
    "        pos_y_empty2 = (board_pos[x_pos, y_pos - y_diff/abs(y_diff)] == \"F\")\n",
    "    \n",
    "    \n",
    "    if pos_x_empty and abs(x_diff) >= abs(y_diff):\n",
    "        board_pos[x_pos, y_pos] = \"T\"\n",
    "        pos_x += x_diff/abs(x_diff)\n",
    "        count += 1\n",
    "        count += count_moves(board_pos, x_pos, y_pos)\n",
    "    elif pos_y_empty1:\n",
    "        board_pos[x_pos, y_pos] = \"T\"\n",
    "        pos_y += y_diff/abs(y_diff)\n",
    "        count += 1\n",
    "        count += count_moves(board_pos, x_pos, y_pos)\n",
    "    elif pos_y_empty2:\n",
    "        board_pos[x_pos, y_pos] = \"T\"\n",
    "        pos_y += -y_diff/abs(y_diff)\n",
    "        count += 1\n",
    "        count += count_moves(board_pos, x_pos, y_pos)\n",
    "    else:\n",
    "        print(\"Final position:\", x_pos, y_pos, \". Target not reached, no place to move!\")\n",
    "        return(count)\n",
    "        \n",
    "        \n",
    "    "
   ]
  },
  {
   "cell_type": "code",
   "execution_count": null,
   "metadata": {
    "collapsed": true
   },
   "outputs": [],
   "source": []
  }
 ],
 "metadata": {
  "anaconda-cloud": {},
  "kernelspec": {
   "display_name": "Python [default]",
   "language": "python",
   "name": "python3"
  },
  "language_info": {
   "codemirror_mode": {
    "name": "ipython",
    "version": 3
   },
   "file_extension": ".py",
   "mimetype": "text/x-python",
   "name": "python",
   "nbconvert_exporter": "python",
   "pygments_lexer": "ipython3",
   "version": "3.5.2"
  }
 },
 "nbformat": 4,
 "nbformat_minor": 1
}
