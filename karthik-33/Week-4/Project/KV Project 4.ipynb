{
 "cells": [
  {
   "cell_type": "markdown",
   "metadata": {},
   "source": [
    "# Problem statement\n",
    "### Build a logistic regression model to predict whether salaries are greater than 90K or not in Boston for Data Scientist positions, depending on years of experience (none, 1, 2, 3, 4+), and presence of keywords in the job description like PhD, Python and Startup"
   ]
  },
  {
   "cell_type": "markdown",
   "metadata": {},
   "source": [
    "# Data cleaning"
   ]
  },
  {
   "cell_type": "code",
   "execution_count": 1,
   "metadata": {
    "collapsed": false
   },
   "outputs": [],
   "source": [
    "# Import libraries\n",
    "import pandas as pd\n",
    "import numpy as np\n",
    "from sklearn.linear_model import LogisticRegression\n",
    "from sklearn.grid_search import GridSearchCV\n",
    "from sklearn import metrics\n",
    "from patsy import dmatrices\n",
    "from sklearn.cross_validation import train_test_split\n",
    "import seaborn as sns\n",
    "import matplotlib.pyplot as plt"
   ]
  },
  {
   "cell_type": "code",
   "execution_count": 16,
   "metadata": {
    "collapsed": false
   },
   "outputs": [],
   "source": [
    "# Make individual dataframes\n",
    "salary = pd.read_csv(\"id_salary.csv\")\n",
    "years = pd.read_csv(\"id_years.csv\")\n",
    "phd = pd.read_csv(\"phd_df.csv\", encoding = \"cp1252\")\n",
    "startup = pd.read_csv(\"startup_df.csv\")\n",
    "python = pd.read_csv(\"id_and_Python.csv\")"
   ]
  },
  {
   "cell_type": "code",
   "execution_count": 17,
   "metadata": {
    "collapsed": false
   },
   "outputs": [],
   "source": [
    "# Delete extra columns\n",
    "del salary[\"Unnamed: 0\"]\n",
    "del years[\"Unnamed: 0\"]\n",
    "del phd[\"Unnamed: 0\"]\n",
    "del phd[\"title\"]\n",
    "del startup[\"Unnamed: 0\"]\n",
    "del python[\"Unnamed: 0\"]"
   ]
  },
  {
   "cell_type": "code",
   "execution_count": 18,
   "metadata": {
    "collapsed": false
   },
   "outputs": [],
   "source": [
    "# ensure all dataframes have same index column names\n",
    "phd = phd.rename(columns = {\"job_id\": \"id\", \"has_phd\": \"phd\"})\n",
    "salary = salary.rename(columns = {\"id\": \"id\", \"over_90k\": \"salary\"})\n",
    "startup = startup.rename(columns = {\"id\": \"id\", \"has_startup\": \"startup\"})\n",
    "python = python.rename(columns = {\"id\": \"id\", \"Python\": \"python\"})"
   ]
  },
  {
   "cell_type": "code",
   "execution_count": 144,
   "metadata": {
    "collapsed": false
   },
   "outputs": [],
   "source": [
    "# Merge salary and years, drop NaN, convert years to type string\n",
    "df = salary.merge(years, on = \"id\", how = \"left\")\n",
    "df = df.dropna()\n",
    "df[\"years\"] = df[\"years\"].replace(0, \"0\")\n",
    "df[\"years\"] = df[\"years\"].replace(4, \"4+ yrs\")\n",
    "df[\"years\"] = df[\"years\"].replace(1, \"1 yr\")\n",
    "df[\"years\"] = df[\"years\"].replace(2, \"2 yrs\")\n",
    "df[\"years\"] = df[\"years\"].replace(3, \"3 yrs\")\n",
    "\n",
    "# Merge phd, fill NaNs with 0\n",
    "df = df.merge(phd, on = \"id\", how = \"left\")\n",
    "df[\"phd\"] = df[\"phd\"].fillna(0)\n",
    "\n",
    "# Merge startup, fill NaNs with 0\n",
    "df = df.merge(startup, on = \"id\", how = \"left\")\n",
    "df[\"startup\"] = df[\"startup\"].fillna(0)\n",
    "\n",
    "# Merge python, fill NaNs with 0\n",
    "df = df.merge(python, on = \"id\", how = \"left\")\n",
    "df[\"python\"] = df[\"python\"].fillna(0)"
   ]
  },
  {
   "cell_type": "code",
   "execution_count": 145,
   "metadata": {
    "collapsed": false
   },
   "outputs": [
    {
     "data": {
      "text/html": [
       "<div>\n",
       "<table border=\"1\" class=\"dataframe\">\n",
       "  <thead>\n",
       "    <tr style=\"text-align: right;\">\n",
       "      <th></th>\n",
       "      <th>id</th>\n",
       "      <th>salary</th>\n",
       "      <th>years</th>\n",
       "      <th>phd</th>\n",
       "      <th>startup</th>\n",
       "      <th>python</th>\n",
       "    </tr>\n",
       "  </thead>\n",
       "  <tbody>\n",
       "    <tr>\n",
       "      <th>0</th>\n",
       "      <td>jl_85c4e91c561780aa</td>\n",
       "      <td>0</td>\n",
       "      <td>1 yr</td>\n",
       "      <td>0.0</td>\n",
       "      <td>0.0</td>\n",
       "      <td>1.0</td>\n",
       "    </tr>\n",
       "    <tr>\n",
       "      <th>1</th>\n",
       "      <td>jl_85c4e91c561780aa</td>\n",
       "      <td>0</td>\n",
       "      <td>3 yrs</td>\n",
       "      <td>0.0</td>\n",
       "      <td>0.0</td>\n",
       "      <td>1.0</td>\n",
       "    </tr>\n",
       "    <tr>\n",
       "      <th>2</th>\n",
       "      <td>jl_e632343c455d80f9</td>\n",
       "      <td>0</td>\n",
       "      <td>0</td>\n",
       "      <td>0.0</td>\n",
       "      <td>0.0</td>\n",
       "      <td>1.0</td>\n",
       "    </tr>\n",
       "    <tr>\n",
       "      <th>3</th>\n",
       "      <td>jl_1b5a168dfc7b2712</td>\n",
       "      <td>0</td>\n",
       "      <td>3 yrs</td>\n",
       "      <td>0.0</td>\n",
       "      <td>0.0</td>\n",
       "      <td>0.0</td>\n",
       "    </tr>\n",
       "    <tr>\n",
       "      <th>4</th>\n",
       "      <td>jl_05654b2739edb3dc</td>\n",
       "      <td>0</td>\n",
       "      <td>0</td>\n",
       "      <td>0.0</td>\n",
       "      <td>1.0</td>\n",
       "      <td>0.0</td>\n",
       "    </tr>\n",
       "  </tbody>\n",
       "</table>\n",
       "</div>"
      ],
      "text/plain": [
       "                    id  salary  years  phd  startup  python\n",
       "0  jl_85c4e91c561780aa       0   1 yr  0.0      0.0     1.0\n",
       "1  jl_85c4e91c561780aa       0  3 yrs  0.0      0.0     1.0\n",
       "2  jl_e632343c455d80f9       0      0  0.0      0.0     1.0\n",
       "3  jl_1b5a168dfc7b2712       0  3 yrs  0.0      0.0     0.0\n",
       "4  jl_05654b2739edb3dc       0      0  0.0      1.0     0.0"
      ]
     },
     "execution_count": 145,
     "metadata": {},
     "output_type": "execute_result"
    }
   ],
   "source": [
    "# Remove duplicates\n",
    "df = df.drop_duplicates()\n",
    "df.head()"
   ]
  },
  {
   "cell_type": "code",
   "execution_count": 146,
   "metadata": {
    "collapsed": false
   },
   "outputs": [
    {
     "data": {
      "text/plain": [
       "array(['1 yr', '3 yrs', '0', '4+ yrs', '2 yrs'], dtype=object)"
      ]
     },
     "execution_count": 146,
     "metadata": {},
     "output_type": "execute_result"
    }
   ],
   "source": [
    "df[\"years\"].unique()"
   ]
  },
  {
   "cell_type": "markdown",
   "metadata": {},
   "source": [
    "# Exploratory data analysis"
   ]
  },
  {
   "cell_type": "code",
   "execution_count": 143,
   "metadata": {
    "collapsed": false
   },
   "outputs": [],
   "source": [
    "# Export to csv for Tableau plotting\n",
    "df.to_csv(\"salary3.csv\")"
   ]
  },
  {
   "cell_type": "markdown",
   "metadata": {
    "collapsed": false
   },
   "source": [
    "#### More openings with >90k salaries as years of experience increases\n",
    "<img src = \"SalaryYears.png\" width=\"500\" height=\"300\">\n",
    "#### More openings with >90k salaries with mention of \"Python\", \"PhD\" or \"Startup\" in job description\n",
    "<img src = \"SalaryPython.png\" width=\"300\" height=\"200\">\n",
    "<img src = \"SalaryPhD.png\" width=\"300\" height=\"200\">\n",
    "<img src = \"SalaryStartup.png\" width=\"300\" height=\"200\">"
   ]
  },
  {
   "cell_type": "markdown",
   "metadata": {},
   "source": [
    "# Data prep for logistic regression"
   ]
  },
  {
   "cell_type": "code",
   "execution_count": 147,
   "metadata": {
    "collapsed": false
   },
   "outputs": [
    {
     "data": {
      "text/html": [
       "<div>\n",
       "<table border=\"1\" class=\"dataframe\">\n",
       "  <thead>\n",
       "    <tr style=\"text-align: right;\">\n",
       "      <th></th>\n",
       "      <th>Intercept</th>\n",
       "      <th>C(phd)[T.1.0]</th>\n",
       "      <th>C(startup)[T.1.0]</th>\n",
       "      <th>C(python)[T.1.0]</th>\n",
       "      <th>C(years)[T.1 yr]</th>\n",
       "      <th>C(years)[T.2 yrs]</th>\n",
       "      <th>C(years)[T.3 yrs]</th>\n",
       "      <th>C(years)[T.4+ yrs]</th>\n",
       "    </tr>\n",
       "  </thead>\n",
       "  <tbody>\n",
       "    <tr>\n",
       "      <th>0</th>\n",
       "      <td>1.0</td>\n",
       "      <td>0.0</td>\n",
       "      <td>0.0</td>\n",
       "      <td>1.0</td>\n",
       "      <td>1.0</td>\n",
       "      <td>0.0</td>\n",
       "      <td>0.0</td>\n",
       "      <td>0.0</td>\n",
       "    </tr>\n",
       "    <tr>\n",
       "      <th>1</th>\n",
       "      <td>1.0</td>\n",
       "      <td>0.0</td>\n",
       "      <td>0.0</td>\n",
       "      <td>1.0</td>\n",
       "      <td>0.0</td>\n",
       "      <td>0.0</td>\n",
       "      <td>1.0</td>\n",
       "      <td>0.0</td>\n",
       "    </tr>\n",
       "    <tr>\n",
       "      <th>2</th>\n",
       "      <td>1.0</td>\n",
       "      <td>0.0</td>\n",
       "      <td>0.0</td>\n",
       "      <td>1.0</td>\n",
       "      <td>0.0</td>\n",
       "      <td>0.0</td>\n",
       "      <td>0.0</td>\n",
       "      <td>0.0</td>\n",
       "    </tr>\n",
       "    <tr>\n",
       "      <th>3</th>\n",
       "      <td>1.0</td>\n",
       "      <td>0.0</td>\n",
       "      <td>0.0</td>\n",
       "      <td>0.0</td>\n",
       "      <td>0.0</td>\n",
       "      <td>0.0</td>\n",
       "      <td>1.0</td>\n",
       "      <td>0.0</td>\n",
       "    </tr>\n",
       "    <tr>\n",
       "      <th>4</th>\n",
       "      <td>1.0</td>\n",
       "      <td>0.0</td>\n",
       "      <td>1.0</td>\n",
       "      <td>0.0</td>\n",
       "      <td>0.0</td>\n",
       "      <td>0.0</td>\n",
       "      <td>0.0</td>\n",
       "      <td>0.0</td>\n",
       "    </tr>\n",
       "  </tbody>\n",
       "</table>\n",
       "</div>"
      ],
      "text/plain": [
       "   Intercept  C(phd)[T.1.0]  C(startup)[T.1.0]  C(python)[T.1.0]  \\\n",
       "0        1.0            0.0                0.0               1.0   \n",
       "1        1.0            0.0                0.0               1.0   \n",
       "2        1.0            0.0                0.0               1.0   \n",
       "3        1.0            0.0                0.0               0.0   \n",
       "4        1.0            0.0                1.0               0.0   \n",
       "\n",
       "   C(years)[T.1 yr]  C(years)[T.2 yrs]  C(years)[T.3 yrs]  C(years)[T.4+ yrs]  \n",
       "0               1.0                0.0                0.0                 0.0  \n",
       "1               0.0                0.0                1.0                 0.0  \n",
       "2               0.0                0.0                0.0                 0.0  \n",
       "3               0.0                0.0                1.0                 0.0  \n",
       "4               0.0                0.0                0.0                 0.0  "
      ]
     },
     "execution_count": 147,
     "metadata": {},
     "output_type": "execute_result"
    }
   ],
   "source": [
    "# Categorize predictors\n",
    "y, X = dmatrices(\"salary ~ C(phd) + C(startup) + C(python) + C(years)\", df, return_type = \"dataframe\")\n",
    "X.head()"
   ]
  },
  {
   "cell_type": "code",
   "execution_count": 148,
   "metadata": {
    "collapsed": true
   },
   "outputs": [],
   "source": [
    "# Train test split\n",
    "X_train, X_test, y_train, y_test = train_test_split(X, y, test_size = 0.3, stratify = y)"
   ]
  },
  {
   "cell_type": "markdown",
   "metadata": {},
   "source": [
    "# Model 1: Logistic regression (C=1, L2 penalty)"
   ]
  },
  {
   "cell_type": "code",
   "execution_count": 149,
   "metadata": {
    "collapsed": false
   },
   "outputs": [
    {
     "name": "stderr",
     "output_type": "stream",
     "text": [
      "C:\\Program Files\\Anaconda3\\lib\\site-packages\\sklearn\\utils\\validation.py:515: DataConversionWarning: A column-vector y was passed when a 1d array was expected. Please change the shape of y to (n_samples, ), for example using ravel().\n",
      "  y = column_or_1d(y, warn=True)\n"
     ]
    }
   ],
   "source": [
    "# Build model\n",
    "logreg1 = LogisticRegression()\n",
    "model1 = logreg1.fit(X_train, y_train)"
   ]
  },
  {
   "cell_type": "code",
   "execution_count": 150,
   "metadata": {
    "collapsed": false
   },
   "outputs": [
    {
     "name": "stdout",
     "output_type": "stream",
     "text": [
      "Coef: Intercept, Value: -0.3914172002377899\n",
      "Coef: C(phd)[T.1.0], Value: 0.5329440380465147\n",
      "Coef: C(startup)[T.1.0], Value: 1.0311908340506193\n",
      "Coef: C(python)[T.1.0], Value: 1.3396566642148873\n",
      "Coef: C(years)[T.1 yr], Value: -0.39671733783310176\n",
      "Coef: C(years)[T.2 yrs], Value: 0.08804835354301482\n",
      "Coef: C(years)[T.3 yrs], Value: 0.5059452855313716\n",
      "Coef: C(years)[T.4+ yrs], Value: 1.2487307491972117\n"
     ]
    }
   ],
   "source": [
    "# Coefficients\n",
    "col = X_train.columns\n",
    "for i in range(len(col)):\n",
    "    print(\"Coef: {}, Value: {}\".format(col[i], logreg1.coef_[0][i]))"
   ]
  },
  {
   "cell_type": "code",
   "execution_count": 151,
   "metadata": {
    "collapsed": false
   },
   "outputs": [],
   "source": [
    "# Predict test set\n",
    "y_pred = logreg1.predict(X_test)"
   ]
  },
  {
   "cell_type": "code",
   "execution_count": 152,
   "metadata": {
    "collapsed": false
   },
   "outputs": [
    {
     "name": "stdout",
     "output_type": "stream",
     "text": [
      "             precision    recall  f1-score   support\n",
      "\n",
      "        0.0       0.68      0.63      0.66       100\n",
      "        1.0       0.69      0.74      0.71       111\n",
      "\n",
      "avg / total       0.69      0.69      0.69       211\n",
      "\n",
      "Accuracy:  0.687203791469\n"
     ]
    }
   ],
   "source": [
    "# Metrics\n",
    "print(metrics.classification_report(y_test, y_pred))\n",
    "print(\"Accuracy: \", metrics.accuracy_score(y_test, y_pred))"
   ]
  },
  {
   "cell_type": "markdown",
   "metadata": {
    "collapsed": false
   },
   "source": [
    "# Model2: Logistic Regression, with GridSearchCV to search for optimal regularization parameter and penalty"
   ]
  },
  {
   "cell_type": "code",
   "execution_count": 153,
   "metadata": {
    "collapsed": false
   },
   "outputs": [],
   "source": [
    "# Build model\n",
    "logreg2 = LogisticRegression()"
   ]
  },
  {
   "cell_type": "code",
   "execution_count": 154,
   "metadata": {
    "collapsed": false
   },
   "outputs": [
    {
     "data": {
      "text/plain": [
       "{'C': 0.1, 'penalty': 'l2'}"
      ]
     },
     "execution_count": 154,
     "metadata": {},
     "output_type": "execute_result"
    }
   ],
   "source": [
    "# GridsearchCV\n",
    "grid = {\"C\": [0.0001, 0.001, 0.01, 0.1, 1, 10, 100, 1000, 10000], \"penalty\": [\"l1\", \"l2\"]}\n",
    "grid_search = GridSearchCV(logreg2, grid, cv = 6, scoring = \"accuracy\")\n",
    "grid_search.fit(X_train, np.array(y_train[\"salary\"]))\n",
    "grid_search.best_params_"
   ]
  },
  {
   "cell_type": "code",
   "execution_count": 155,
   "metadata": {
    "collapsed": false
   },
   "outputs": [
    {
     "data": {
      "text/plain": [
       "0.69715447154471544"
      ]
     },
     "execution_count": 155,
     "metadata": {},
     "output_type": "execute_result"
    }
   ],
   "source": [
    "# Best accuracy\n",
    "grid_search.best_score_"
   ]
  },
  {
   "cell_type": "code",
   "execution_count": 156,
   "metadata": {
    "collapsed": false
   },
   "outputs": [
    {
     "name": "stdout",
     "output_type": "stream",
     "text": [
      "             precision    recall  f1-score   support\n",
      "\n",
      "        0.0       0.68      0.63      0.65       100\n",
      "        1.0       0.69      0.73      0.71       111\n",
      "\n",
      "avg / total       0.68      0.68      0.68       211\n",
      "\n",
      "Accuracy:  0.682464454976\n"
     ]
    }
   ],
   "source": [
    "# Predict test set\n",
    "y_pred2 = grid_search.predict(X_test)\n",
    "print(metrics.classification_report(y_test, y_pred2))\n",
    "print(\"Accuracy: \", metrics.accuracy_score(y_test, y_pred2))"
   ]
  },
  {
   "cell_type": "code",
   "execution_count": 157,
   "metadata": {
    "collapsed": false
   },
   "outputs": [
    {
     "name": "stdout",
     "output_type": "stream",
     "text": [
      "Coef: Intercept, Value: -0.20721043212068593\n",
      "Coef: C(phd)[T.1.0], Value: 0.41088236998652145\n",
      "Coef: C(startup)[T.1.0], Value: 0.3774939929410895\n",
      "Coef: C(python)[T.1.0], Value: 0.8662332979417542\n",
      "Coef: C(years)[T.1 yr], Value: -0.2533030336188707\n",
      "Coef: C(years)[T.2 yrs], Value: -0.08035938491224999\n",
      "Coef: C(years)[T.3 yrs], Value: 0.2010328501642917\n",
      "Coef: C(years)[T.4+ yrs], Value: 0.7740366695028221\n"
     ]
    }
   ],
   "source": [
    "# Coefficients\n",
    "col = X_train.columns\n",
    "for i in range(len(col)):\n",
    "    print(\"Coef: {}, Value: {}\".format(col[i], grid_search.best_estimator_.coef_[0][i]))"
   ]
  },
  {
   "cell_type": "markdown",
   "metadata": {},
   "source": [
    "# Conclusions\n",
    "#### The model predicts new data with ~68% accuracy. The following factors correlate with higher (>90k) salaries (in decreasing order of importance):\n",
    "1. Mention of Python in job description\n",
    "2. 4+ years of experience requirement\n",
    "3. Mention of PhD in job description\n",
    "4. Mention of startup in job description"
   ]
  },
  {
   "cell_type": "code",
   "execution_count": 177,
   "metadata": {
    "collapsed": false
   },
   "outputs": [
    {
     "data": {
      "image/png": "[encoded data removed]",
      "text/plain": [
       "<matplotlib.figure.Figure at 0x2b38a4d6e48>"
      ]
     },
     "metadata": {},
     "output_type": "display_data"
    }
   ],
   "source": [
    "# ROC curve\n",
    "test_score2 = grid_search.decision_function(X_test)\n",
    "fpr, tpr, thresholds = metrics.roc_curve(y_test, test_score2)\n",
    "area = metrics.roc_auc_score(y_test, test_score2)\n",
    "plt.figure(figsize = (5,4))\n",
    "plt.xlabel(\"False positive rate\")\n",
    "plt.ylabel(\"True Positive rate\")\n",
    "plt.xlim(0,1)\n",
    "plt.ylim(0,1)\n",
    "plt.legend(handles = [plot1], loc = \"best\")\n",
    "plot1, = plt.plot(fpr, tpr, label = \"AUC %0.2f\"%area)\n",
    "plt.show()"
   ]
  },
  {
   "cell_type": "code",
   "execution_count": null,
   "metadata": {
    "collapsed": true
   },
   "outputs": [],
   "source": []
  }
 ],
 "metadata": {
  "anaconda-cloud": {},
  "kernelspec": {
   "display_name": "Python [default]",
   "language": "python",
   "name": "python3"
  },
  "language_info": {
   "codemirror_mode": {
    "name": "ipython",
    "version": 3
   },
   "file_extension": ".py",
   "mimetype": "text/x-python",
   "name": "python",
   "nbconvert_exporter": "python",
   "pygments_lexer": "ipython3",
   "version": "3.5.2"
  }
 },
 "nbformat": 4,
 "nbformat_minor": 1
}
