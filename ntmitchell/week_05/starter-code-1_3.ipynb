{
 "cells": [
  {
   "cell_type": "markdown",
   "metadata": {},
   "source": [
    "# Multi-table Datasets - ENRON Archive"
   ]
  },
  {
   "cell_type": "markdown",
   "metadata": {},
   "source": [
    "## 1. Data import\n",
    "\n",
    "Connect to the file 'assets/datasets/enron.db' using one of these methods:\n",
    "\n",
    "- sqlite3 python package\n",
    "- pandas.read_sql\n",
    "- SQLite Manager Firefox extension\n",
    "\n",
    "Take a look at the database and query the master table. How many Tables are there in the db?\n",
    "\n",
    "> Answer:\n",
    "There are 3 tables:\n",
    "- MessageBase\n",
    "- RecipientBase\n",
    "- EmployeeBase"
   ]
  },
  {
   "cell_type": "code",
   "execution_count": 79,
   "metadata": {
    "collapsed": false
   },
   "outputs": [],
   "source": [
    "import sqlite3\n",
    "import pandas as pd"
   ]
  },
  {
   "cell_type": "code",
   "execution_count": 80,
   "metadata": {
    "collapsed": false
   },
   "outputs": [],
   "source": [
    "enron_db = '../../assets/datasets/enron.db'\n",
    "conn = sqlite3.connect(enron_db)"
   ]
  },
  {
   "cell_type": "code",
   "execution_count": 81,
   "metadata": {
    "collapsed": false
   },
   "outputs": [
    {
     "data": {
      "text/html": [
       "<div>\n",
       "<table border=\"1\" class=\"dataframe\">\n",
       "  <thead>\n",
       "    <tr style=\"text-align: right;\">\n",
       "      <th></th>\n",
       "      <th>name</th>\n",
       "    </tr>\n",
       "  </thead>\n",
       "  <tbody>\n",
       "    <tr>\n",
       "      <th>0</th>\n",
       "      <td>EmployeeBase</td>\n",
       "    </tr>\n",
       "    <tr>\n",
       "      <th>1</th>\n",
       "      <td>MessageBase</td>\n",
       "    </tr>\n",
       "    <tr>\n",
       "      <th>2</th>\n",
       "      <td>RecipientBase</td>\n",
       "    </tr>\n",
       "  </tbody>\n",
       "</table>\n",
       "</div>"
      ],
      "text/plain": [
       "            name\n",
       "0   EmployeeBase\n",
       "1    MessageBase\n",
       "2  RecipientBase"
      ]
     },
     "execution_count": 81,
     "metadata": {},
     "output_type": "execute_result"
    }
   ],
   "source": [
    "pd.read_sql(\"\"\"\n",
    "    SELECT name FROM sqlite_master\n",
    "    WHERE type='table'\n",
    "    ORDER BY name;\"\"\",\n",
    "    con = conn)"
   ]
  },
  {
   "cell_type": "code",
   "execution_count": 82,
   "metadata": {
    "collapsed": false
   },
   "outputs": [
    {
     "data": {
      "text/html": [
       "<div>\n",
       "<table border=\"1\" class=\"dataframe\">\n",
       "  <thead>\n",
       "    <tr style=\"text-align: right;\">\n",
       "      <th></th>\n",
       "      <th>eid</th>\n",
       "      <th>name</th>\n",
       "      <th>department</th>\n",
       "      <th>longdepartment</th>\n",
       "      <th>title</th>\n",
       "      <th>gender</th>\n",
       "      <th>seniority</th>\n",
       "    </tr>\n",
       "  </thead>\n",
       "  <tbody>\n",
       "    <tr>\n",
       "      <th>0</th>\n",
       "      <td>1</td>\n",
       "      <td>John Arnold</td>\n",
       "      <td>Forestry</td>\n",
       "      <td>ENA Gas Financial</td>\n",
       "      <td>VP Trading</td>\n",
       "      <td>Male</td>\n",
       "      <td>Senior</td>\n",
       "    </tr>\n",
       "    <tr>\n",
       "      <th>1</th>\n",
       "      <td>2</td>\n",
       "      <td>Harry Arora</td>\n",
       "      <td>Forestry</td>\n",
       "      <td>ENA East Power</td>\n",
       "      <td>VP Trading</td>\n",
       "      <td>Male</td>\n",
       "      <td>Senior</td>\n",
       "    </tr>\n",
       "    <tr>\n",
       "      <th>2</th>\n",
       "      <td>3</td>\n",
       "      <td>Robert Badeer</td>\n",
       "      <td>Forestry</td>\n",
       "      <td>ENA West Power</td>\n",
       "      <td>Mgr Trading</td>\n",
       "      <td>Male</td>\n",
       "      <td>Junior</td>\n",
       "    </tr>\n",
       "    <tr>\n",
       "      <th>3</th>\n",
       "      <td>4</td>\n",
       "      <td>Susan Bailey</td>\n",
       "      <td>Legal</td>\n",
       "      <td>ENA Legal</td>\n",
       "      <td>Specialist Legal</td>\n",
       "      <td>Female</td>\n",
       "      <td>Junior</td>\n",
       "    </tr>\n",
       "    <tr>\n",
       "      <th>4</th>\n",
       "      <td>5</td>\n",
       "      <td>Eric Bass</td>\n",
       "      <td>Forestry</td>\n",
       "      <td>ENA Gas Texas</td>\n",
       "      <td>Trader</td>\n",
       "      <td>Male</td>\n",
       "      <td>Junior</td>\n",
       "    </tr>\n",
       "    <tr>\n",
       "      <th>5</th>\n",
       "      <td>6</td>\n",
       "      <td>Don Baughman Jr.</td>\n",
       "      <td>Forestry</td>\n",
       "      <td>ENA East Power</td>\n",
       "      <td>Mgr Trading</td>\n",
       "      <td>Male</td>\n",
       "      <td>Junior</td>\n",
       "    </tr>\n",
       "    <tr>\n",
       "      <th>6</th>\n",
       "      <td>7</td>\n",
       "      <td>Sally Beck</td>\n",
       "      <td>Other</td>\n",
       "      <td>Energy Operations</td>\n",
       "      <td>VP</td>\n",
       "      <td>Female</td>\n",
       "      <td>Senior</td>\n",
       "    </tr>\n",
       "    <tr>\n",
       "      <th>7</th>\n",
       "      <td>8</td>\n",
       "      <td>Robert Benson</td>\n",
       "      <td>Forestry</td>\n",
       "      <td>ENA East Power</td>\n",
       "      <td>Dir Trading</td>\n",
       "      <td>Male</td>\n",
       "      <td>Senior</td>\n",
       "    </tr>\n",
       "    <tr>\n",
       "      <th>8</th>\n",
       "      <td>9</td>\n",
       "      <td>Lynn Blair</td>\n",
       "      <td>Other</td>\n",
       "      <td>ETS</td>\n",
       "      <td>Director</td>\n",
       "      <td>Female</td>\n",
       "      <td>Senior</td>\n",
       "    </tr>\n",
       "    <tr>\n",
       "      <th>9</th>\n",
       "      <td>10</td>\n",
       "      <td>Sandra F. Brawner</td>\n",
       "      <td>Forestry</td>\n",
       "      <td>ENA Gas East</td>\n",
       "      <td>Dir Trading</td>\n",
       "      <td>Female</td>\n",
       "      <td>Senior</td>\n",
       "    </tr>\n",
       "  </tbody>\n",
       "</table>\n",
       "</div>"
      ],
      "text/plain": [
       "   eid               name department     longdepartment             title  \\\n",
       "0    1        John Arnold   Forestry  ENA Gas Financial        VP Trading   \n",
       "1    2        Harry Arora   Forestry     ENA East Power        VP Trading   \n",
       "2    3      Robert Badeer   Forestry     ENA West Power       Mgr Trading   \n",
       "3    4       Susan Bailey      Legal          ENA Legal  Specialist Legal   \n",
       "4    5          Eric Bass   Forestry      ENA Gas Texas            Trader   \n",
       "5    6   Don Baughman Jr.   Forestry     ENA East Power       Mgr Trading   \n",
       "6    7         Sally Beck      Other  Energy Operations                VP   \n",
       "7    8      Robert Benson   Forestry     ENA East Power       Dir Trading   \n",
       "8    9         Lynn Blair      Other                ETS          Director   \n",
       "9   10  Sandra F. Brawner   Forestry       ENA Gas East       Dir Trading   \n",
       "\n",
       "   gender seniority  \n",
       "0    Male    Senior  \n",
       "1    Male    Senior  \n",
       "2    Male    Junior  \n",
       "3  Female    Junior  \n",
       "4    Male    Junior  \n",
       "5    Male    Junior  \n",
       "6  Female    Senior  \n",
       "7    Male    Senior  \n",
       "8  Female    Senior  \n",
       "9  Female    Senior  "
      ]
     },
     "execution_count": 82,
     "metadata": {},
     "output_type": "execute_result"
    }
   ],
   "source": [
    "pd.read_sql(\"SELECT * FROM EmployeeBase LIMIT 10\", con = conn)"
   ]
  },
  {
   "cell_type": "markdown",
   "metadata": {},
   "source": [
    "Query the `sqlite_master` table to retrieve the schema of the `EmployeeBase` table.\n",
    "\n",
    "1. What fields are there?\n",
    "1. What's the type of each of them?"
   ]
  },
  {
   "cell_type": "code",
   "execution_count": 225,
   "metadata": {
    "collapsed": false
   },
   "outputs": [
    {
     "name": "stdout",
     "output_type": "stream",
     "text": [
      "CREATE TABLE EmployeeBase (\n",
      "                  [eid] INTEGER,\n",
      "  [name] TEXT,\n",
      "  [department] TEXT,\n",
      "  [longdepartment] TEXT,\n",
      "  [title] TEXT,\n",
      "  [gender] TEXT,\n",
      "  [seniority] TEXT\n",
      "                  \n",
      "                  )\n",
      "CREATE TABLE MessageBase (\n",
      "    mid INTEGER,\n",
      "    filename TEXT,\n",
      "    unix_time INTEGER,\n",
      "    subject TEXT,\n",
      "    from_eid INTEGER,\n",
      "    \n",
      "    PRIMARY KEY(mid ASC),\n",
      "    FOREIGN KEY(from_eid) REFERENCES Employee(eid)\n",
      ")\n",
      "CREATE TABLE RecipientBase (\n",
      "    mid INTEGER,\n",
      "    rno INTEGER,\n",
      "    to_eid INTEGER,\n",
      "    \n",
      "    PRIMARY KEY(mid ASC, rno ASC)\n",
      "    FOREIGN KEY(mid) REFERENCES Message(mid)\n",
      "    FOREIGN KEY(to_eid) REFERENCES Employee(eid)\n",
      ")\n"
     ]
    }
   ],
   "source": [
    "sql_lite_master_dataframe = pd.read_sql(\"\"\"\n",
    "    SELECT * FROM sqlite_master\n",
    "    WHERE type = 'table'\n",
    "    ORDER BY name;\"\"\",\n",
    "    con = conn)\n",
    "\n",
    "for schema in sql_lite_master_dataframe['sql']:#[sql_lite_master_dataframe['name'] == 'EmployeeBase']['sql']:\n",
    "    print(schema)"
   ]
  },
  {
   "cell_type": "markdown",
   "metadata": {},
   "source": [
    "1. Print the first 5 rows of EmployeeBase table\n",
    "1. Print the first 5 rows of MessageBase table\n",
    "1. Print the first 5 rows of RecipientBase table\n",
    "\n",
    "**Hint**  use `SELECT` and `LIMIT`."
   ]
  },
  {
   "cell_type": "code",
   "execution_count": 102,
   "metadata": {
    "collapsed": false
   },
   "outputs": [
    {
     "data": {
      "text/html": [
       "<div>\n",
       "<table border=\"1\" class=\"dataframe\">\n",
       "  <thead>\n",
       "    <tr style=\"text-align: right;\">\n",
       "      <th></th>\n",
       "      <th>eid</th>\n",
       "      <th>name</th>\n",
       "      <th>department</th>\n",
       "      <th>longdepartment</th>\n",
       "      <th>title</th>\n",
       "      <th>gender</th>\n",
       "      <th>seniority</th>\n",
       "    </tr>\n",
       "  </thead>\n",
       "  <tbody>\n",
       "    <tr>\n",
       "      <th>0</th>\n",
       "      <td>1</td>\n",
       "      <td>John Arnold</td>\n",
       "      <td>Forestry</td>\n",
       "      <td>ENA Gas Financial</td>\n",
       "      <td>VP Trading</td>\n",
       "      <td>Male</td>\n",
       "      <td>Senior</td>\n",
       "    </tr>\n",
       "    <tr>\n",
       "      <th>1</th>\n",
       "      <td>2</td>\n",
       "      <td>Harry Arora</td>\n",
       "      <td>Forestry</td>\n",
       "      <td>ENA East Power</td>\n",
       "      <td>VP Trading</td>\n",
       "      <td>Male</td>\n",
       "      <td>Senior</td>\n",
       "    </tr>\n",
       "    <tr>\n",
       "      <th>2</th>\n",
       "      <td>3</td>\n",
       "      <td>Robert Badeer</td>\n",
       "      <td>Forestry</td>\n",
       "      <td>ENA West Power</td>\n",
       "      <td>Mgr Trading</td>\n",
       "      <td>Male</td>\n",
       "      <td>Junior</td>\n",
       "    </tr>\n",
       "    <tr>\n",
       "      <th>3</th>\n",
       "      <td>4</td>\n",
       "      <td>Susan Bailey</td>\n",
       "      <td>Legal</td>\n",
       "      <td>ENA Legal</td>\n",
       "      <td>Specialist Legal</td>\n",
       "      <td>Female</td>\n",
       "      <td>Junior</td>\n",
       "    </tr>\n",
       "    <tr>\n",
       "      <th>4</th>\n",
       "      <td>5</td>\n",
       "      <td>Eric Bass</td>\n",
       "      <td>Forestry</td>\n",
       "      <td>ENA Gas Texas</td>\n",
       "      <td>Trader</td>\n",
       "      <td>Male</td>\n",
       "      <td>Junior</td>\n",
       "    </tr>\n",
       "  </tbody>\n",
       "</table>\n",
       "</div>"
      ],
      "text/plain": [
       "   eid           name department     longdepartment             title  gender  \\\n",
       "0    1    John Arnold   Forestry  ENA Gas Financial        VP Trading    Male   \n",
       "1    2    Harry Arora   Forestry     ENA East Power        VP Trading    Male   \n",
       "2    3  Robert Badeer   Forestry     ENA West Power       Mgr Trading    Male   \n",
       "3    4   Susan Bailey      Legal          ENA Legal  Specialist Legal  Female   \n",
       "4    5      Eric Bass   Forestry      ENA Gas Texas            Trader    Male   \n",
       "\n",
       "  seniority  \n",
       "0    Senior  \n",
       "1    Senior  \n",
       "2    Junior  \n",
       "3    Junior  \n",
       "4    Junior  "
      ]
     },
     "execution_count": 102,
     "metadata": {},
     "output_type": "execute_result"
    }
   ],
   "source": [
    "pd.read_sql(\"\"\"\n",
    "    SELECT *\n",
    "    FROM EmployeeBase\n",
    "    LIMIT 5\n",
    "    \"\"\", con = conn)"
   ]
  },
  {
   "cell_type": "markdown",
   "metadata": {},
   "source": [
    "Import each of the 3 tables to a Pandas Dataframes"
   ]
  },
  {
   "cell_type": "code",
   "execution_count": 103,
   "metadata": {
    "collapsed": true
   },
   "outputs": [],
   "source": [
    "EmployeeBase_dataframe = pd.read_sql(\"SELECT * FROM EmployeeBase\", con = conn)\n",
    "MessageBase_dataframe = pd.read_sql(\"SELECT * FROM MessageBase\", con = conn)\n",
    "RecipientBase_dataframe = pd.read_sql(\"SELECT * FROM RecipientBase\", con = conn)"
   ]
  },
  {
   "cell_type": "markdown",
   "metadata": {},
   "source": [
    "## 2. Data Exploration\n",
    "\n",
    "Use the 3 dataframes to answer the following questions:\n",
    "\n",
    "1. How many employees are there in the company?\n",
    "- How many messages are there in the database?\n",
    "- Convert the timestamp column in the messages. When was the oldest message sent? And the newest?\n",
    "- Some messages are sent to more than one recipient. Group the messages by message_id and count the number of recepients. Then look at the distribution of recepient numbers.\n",
    "    - How many messages have only one recepient?\n",
    "    - How many messages have >= 5 recepients?\n",
    "    - What's the highest number of recepients?\n",
    "    - Who sent the message with the highest number of recepients?\n",
    "- Plot the distribution of recepient numbers using Bokeh."
   ]
  },
  {
   "cell_type": "code",
   "execution_count": 112,
   "metadata": {
    "collapsed": false
   },
   "outputs": [
    {
     "name": "stdout",
     "output_type": "stream",
     "text": [
      "156 employees\n",
      "21635 messages\n"
     ]
    }
   ],
   "source": [
    "print(\"{} employees\".format(EmployeeBase_dataframe.drop_duplicates(subset = 'eid').shape[0]))\n",
    "print(\"{} messages\".format(MessageBase_dataframe.drop_duplicates(subset = 'mid').shape[0]))"
   ]
  },
  {
   "cell_type": "code",
   "execution_count": 221,
   "metadata": {
    "collapsed": false,
    "scrolled": true
   },
   "outputs": [
    {
     "name": "stdout",
     "output_type": "stream",
     "text": [
      "The oldest message was sent 1998-11-13 04:07:00. \n",
      "The newest message was sent 2002-06-21 13:37:34.\n"
     ]
    }
   ],
   "source": [
    "MessageBase_dataframe['converted_unix_time'] = pd.to_datetime(MessageBase_dataframe.loc[:, 'unix_time'], unit = 's')\n",
    "print(\"The oldest message was sent {}. \\nThe newest message was sent {}.\".format(min(MessageBase_dataframe['converted_unix_time']), max(MessageBase_dataframe['converted_unix_time'])))"
   ]
  },
  {
   "cell_type": "code",
   "execution_count": 239,
   "metadata": {
    "collapsed": false
   },
   "outputs": [
    {
     "name": "stdout",
     "output_type": "stream",
     "text": [
      "21635 messages were sent to only one person.\n",
      "4162 messages were sent to at least five people.\n",
      "John J. Lavorato send the most messages.\n"
     ]
    }
   ],
   "source": [
    "single_recipient_messages = pd.read_sql(\"SELECT COUNT(mid) FROM RecipientBase WHERE rno = 1\", con = conn)\n",
    "at_least_5_recipients = pd.read_sql(\"SELECT COUNT(mid) FROM RecipientBase WHERE rno >= 5\", con = conn)\n",
    "max_recipients_sent_by = pd.read_sql(\"\"\"\n",
    "    SELECT EmployeeBase.name \n",
    "    FROM EmployeeBase\n",
    "    JOIN MessageBase ON EmployeeBase.eid = MessageBase.from_eid\n",
    "    JOIN RecipientBase ON MessageBase.mid = RecipientBase.mid\n",
    "    WHERE rno = (SELECT MAX(rno) from RecipientBase);\"\"\"\n",
    "    , con = conn).iloc[0][0]\n",
    "\n",
    "print(\"{} messages were sent to only one person.\".format(single_recipient_messages.values[0][0]))\n",
    "print(\"{} messages were sent to at least five people.\".format(at_least_5_recipients.values[0][0]))\n",
    "print(\"{} send the most messages.\".format(max_recipients_sent_by))"
   ]
  },
  {
   "cell_type": "markdown",
   "metadata": {},
   "source": [
    "Rescale to investigate the tail of the curve"
   ]
  },
  {
   "cell_type": "code",
   "execution_count": 247,
   "metadata": {
    "collapsed": false
   },
   "outputs": [],
   "source": [
    "pd.read_sql(\"SELECT rno FROM RecipientBase\", con = conn)\n",
    "\n",
    "from bokeh.charts import Histogram\n",
    "from bokeh.sampledata.autompg import autompg as df\n",
    "from bokeh.charts import defaults, vplot, hplot, show, output_file\n",
    "\n",
    "%matplotlib inline\n",
    "\n",
    "defaults.width = 450\n",
    "defaults.height = 350\n",
    "\n",
    "# input options\n",
    "hist = Histogram(pd.read_sql(\"SELECT rno FROM RecipientBase\", con = conn), title=\"number of recipients\")\n",
    "#output_file(\"histograms.html\")"
   ]
  },
  {
   "cell_type": "code",
   "execution_count": 248,
   "metadata": {
    "collapsed": false
   },
   "outputs": [
    {
     "name": "stderr",
     "output_type": "stream",
     "text": [
      "//anaconda/lib/python3.5/site-packages/ipykernel/__main__.py:3: BokehDeprecationWarning: bokeh.io.hplot was deprecated in Bokeh 0.12.0; please use bokeh.models.layouts.Row instead\n",
      "  app.launch_new_instance()\n",
      "//anaconda/lib/python3.5/site-packages/ipykernel/__main__.py:3: BokehDeprecationWarning: bokeh.io.vplot was deprecated in Bokeh 0.12.0; please use bokeh.models.layouts.Column instead\n",
      "  app.launch_new_instance()\n"
     ]
    }
   ],
   "source": [
    "show(\n",
    "    vplot(\n",
    "        hplot(hist)\n",
    "    )\n",
    ")"
   ]
  },
  {
   "cell_type": "markdown",
   "metadata": {},
   "source": [
    "## 3. Data Merging\n",
    "\n",
    "Use the pandas merge function to combine the information in the 3 dataframes to answer the following questions:\n",
    "\n",
    "1. Are there more Men or Women employees?\n",
    "- How is gender distributed across departments?\n",
    "- Who is sending more emails? Men or Women?\n",
    "- What's the average number of emails sent by each gender?\n",
    "- Are there more Juniors or Seniors?\n",
    "- Who is sending more emails? Juniors or Seniors?\n",
    "- Which department is sending more emails? How does that relate with the number of employees in the department?\n",
    "- Who are the top 3 senders of emails? (people who sent out the most emails)"
   ]
  },
  {
   "cell_type": "code",
   "execution_count": 356,
   "metadata": {
    "collapsed": false
   },
   "outputs": [
    {
     "name": "stdout",
     "output_type": "stream",
     "text": [
      "department\n",
      "Forestry    60\n",
      "Legal       25\n",
      "Other       71\n",
      "Name: eid, dtype: int64\n",
      "   gender  COUNT(gender)\n",
      "0  Female             43\n",
      "1    Male            113 \n",
      "\n"
     ]
    }
   ],
   "source": [
    "#Are there more Men or Women employees?\n",
    "print(EmployeeBase_dataframe[['eid', 'department', 'gender']].groupby(by = 'department')['eid'].count())\n",
    "#print(EmployeeBase_dataframe['gender'].value_counts(), '\\n')\n",
    "print(pd.read_sql(\"SELECT gender, COUNT(gender) FROM EmployeeBase GROUP BY gender\", con = conn), '\\n')"
   ]
  },
  {
   "cell_type": "code",
   "execution_count": 341,
   "metadata": {
    "collapsed": false
   },
   "outputs": [
    {
     "name": "stdout",
     "output_type": "stream",
     "text": [
      "Number of male and female employees by department\n",
      "\n",
      "  department  gender  COUNT(gender)\n",
      "0   Forestry  Female             10\n",
      "1   Forestry    Male             50\n",
      "2      Legal  Female             13\n",
      "3      Legal    Male             12\n",
      "4      Other  Female             20\n",
      "5      Other    Male             51 \n",
      "\n"
     ]
    }
   ],
   "source": [
    "#How is gender distributed across departments?\n",
    "\n",
    "#print(EmployeeBase_dataframe.groupby(by = 'department')['gender'].value_counts(), '\\n')\n",
    "print(pd.read_sql(\"SELECT department, gender, COUNT(gender) FROM EmployeeBase GROUP BY department, gender\", con = conn), '\\n')"
   ]
  },
  {
   "cell_type": "code",
   "execution_count": 342,
   "metadata": {
    "collapsed": false
   },
   "outputs": [
    {
     "name": "stdout",
     "output_type": "stream",
     "text": [
      "Number of emails sent by gender\n",
      "\n",
      "   gender  COUNT(DISTINCT MessageBase.mid)\n",
      "0  Female                             8794\n",
      "1    Male                            12841 \n",
      "\n"
     ]
    }
   ],
   "source": [
    "#Who is sending more emails? Men or Women?\n",
    "\n",
    "print(pd.read_sql(\"\"\"\n",
    "    SELECT gender, COUNT(DISTINCT MessageBase.mid)\n",
    "    FROM EmployeeBase\n",
    "    JOIN MessageBase ON EmployeeBase.eid = MessageBase.from_eid\n",
    "    GROUP BY EmployeeBase.gender\n",
    "    ;\"\"\", con = conn), '\\n')"
   ]
  },
  {
   "cell_type": "code",
   "execution_count": 343,
   "metadata": {
    "collapsed": false
   },
   "outputs": [
    {
     "name": "stdout",
     "output_type": "stream",
     "text": [
      "Average emails written by gender\n",
      "\n",
      "   gender  emails sent\n",
      "0  Female          204\n",
      "1    Male          298\n"
     ]
    }
   ],
   "source": [
    "#What's the average number of emails sent by each gender?\n",
    "\n",
    "average_emails_by_gender = pd.read_sql(\"\"\"\n",
    "    SELECT gender, COUNT(DISTINCT MessageBase.mid) / (SELECT COUNT(gender) FROM EmployeeBase GROUP BY gender)\n",
    "    FROM EmployeeBase\n",
    "    JOIN MessageBase ON EmployeeBase.eid = MessageBase.from_eid\n",
    "    GROUP BY EmployeeBase.gender\n",
    "    ;\"\"\", con = conn)\n",
    "average_emails_by_gender.columns = ['gender', 'emails sent']\n",
    "print(average_emails_by_gender)"
   ]
  },
  {
   "cell_type": "code",
   "execution_count": 344,
   "metadata": {
    "collapsed": false
   },
   "outputs": [
    {
     "name": "stdout",
     "output_type": "stream",
     "text": [
      "Number of junior and senior employees\n",
      "\n",
      "  seniority  COUNT(seniority)\n",
      "0    Junior                82\n",
      "1    Senior                74\n"
     ]
    }
   ],
   "source": [
    "#Are there more Juniors or Seniors?\n",
    "\n",
    "print(pd.read_sql(\"\"\"\n",
    "    SELECT seniority, COUNT(seniority) \n",
    "    FROM EmployeeBase \n",
    "    GROUP BY seniority;\"\"\"\n",
    "    , con = conn))"
   ]
  },
  {
   "cell_type": "code",
   "execution_count": 376,
   "metadata": {
    "collapsed": false
   },
   "outputs": [
    {
     "data": {
      "text/html": [
       "<div>\n",
       "<table border=\"1\" class=\"dataframe\">\n",
       "  <thead>\n",
       "    <tr style=\"text-align: right;\">\n",
       "      <th></th>\n",
       "      <th>seniority</th>\n",
       "      <th>emails_sent</th>\n",
       "    </tr>\n",
       "  </thead>\n",
       "  <tbody>\n",
       "    <tr>\n",
       "      <th>0</th>\n",
       "      <td>Junior</td>\n",
       "      <td>112</td>\n",
       "    </tr>\n",
       "    <tr>\n",
       "      <th>1</th>\n",
       "      <td>Senior</td>\n",
       "      <td>151</td>\n",
       "    </tr>\n",
       "  </tbody>\n",
       "</table>\n",
       "</div>"
      ],
      "text/plain": [
       "  seniority  emails_sent\n",
       "0    Junior          112\n",
       "1    Senior          151"
      ]
     },
     "execution_count": 376,
     "metadata": {},
     "output_type": "execute_result"
    }
   ],
   "source": [
    "#Who is sending more emails? Juniors or Seniors?\n",
    "\n",
    "pd.read_sql(\"\"\"\n",
    "    SELECT seniority, COUNT(DISTINCT MessageBase.mid) / (SELECT COUNT(seniority) FROM EmployeeBase GROUP BY seniority) AS emails_sent\n",
    "    FROM EmployeeBase\n",
    "    JOIN MessageBase ON EmployeeBase.eid = MessageBase.from_eid\n",
    "    GROUP BY EmployeeBase.seniority\n",
    "    ;\"\"\", con = conn)\n",
    "# average_emails_by_seniority.columns = ['seniority', 'emails sent']\n",
    "# print(average_emails_by_seniority)"
   ]
  },
  {
   "cell_type": "code",
   "execution_count": 377,
   "metadata": {
    "collapsed": false
   },
   "outputs": [
    {
     "name": "stdout",
     "output_type": "stream",
     "text": [
      "  department  COUNT(DISTINCT MessageBase.mid) / COUNT(eid)\n",
      "0   Forestry                                             1\n",
      "1      Legal                                             1\n",
      "2      Other                                             1\n"
     ]
    }
   ],
   "source": [
    "#Which department is sending more emails? How does that relate with the number of employees in the department?\n",
    "\n",
    "print(pd.read_sql(\"\"\"\n",
    "    SELECT EmployeeBase.department, COUNT(DISTINCT MessageBase.mid) / COUNT(eid)\n",
    "    FROM EmployeeBase\n",
    "    JOIN MessageBase ON EmployeeBase.eid = MessageBase.from_eid\n",
    "    GROUP BY EmployeeBase.department\n",
    "    ;\"\"\", con = conn))"
   ]
  },
  {
   "cell_type": "markdown",
   "metadata": {},
   "source": [
    "Answer the following questions regarding received messages:\n",
    "\n",
    "- Who is receiving more emails? Men or Women?\n",
    "- Who is receiving more emails? Juniors or Seniors?\n",
    "- Which department is receiving more emails? How does that relate with the number of employees in the department?\n",
    "- Who are the top 5 receivers of emails? (people who received the most emails)"
   ]
  },
  {
   "cell_type": "code",
   "execution_count": null,
   "metadata": {
    "collapsed": true
   },
   "outputs": [],
   "source": []
  },
  {
   "cell_type": "markdown",
   "metadata": {},
   "source": [
    "Which employees sent the most 'mass' emails?"
   ]
  },
  {
   "cell_type": "code",
   "execution_count": null,
   "metadata": {
    "collapsed": false
   },
   "outputs": [],
   "source": []
  },
  {
   "cell_type": "markdown",
   "metadata": {},
   "source": [
    "Keep exploring the dataset, which other questions would you ask?\n",
    "\n",
    "Work in pairs. Give each other a challenge and try to solve it."
   ]
  }
 ],
 "metadata": {
  "kernelspec": {
   "display_name": "Python [Root]",
   "language": "python",
   "name": "Python [Root]"
  },
  "language_info": {
   "codemirror_mode": {
    "name": "ipython",
    "version": 3
   },
   "file_extension": ".py",
   "mimetype": "text/x-python",
   "name": "python",
   "nbconvert_exporter": "python",
   "pygments_lexer": "ipython3",
   "version": "3.5.2"
  }
 },
 "nbformat": 4,
 "nbformat_minor": 0
}
