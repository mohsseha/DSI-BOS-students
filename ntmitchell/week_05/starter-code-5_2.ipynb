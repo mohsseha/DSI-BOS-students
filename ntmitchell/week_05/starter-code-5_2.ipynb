{
 "cells": [
  {
   "cell_type": "markdown",
   "metadata": {},
   "source": [
    "# Support Vector Machines Lab"
   ]
  },
  {
   "cell_type": "markdown",
   "metadata": {},
   "source": [
    "In this lab we will explore several datasets with SVMs. The assets folder contains several datasets (in order of complexity):\n",
    "\n",
    "1. Breast cancer\n",
    "- Spambase\n",
    "- Car evaluation\n",
    "- Mushroom\n",
    "\n",
    "For each of these a `.names` file is provided with details on the origin of data."
   ]
  },
  {
   "cell_type": "code",
   "execution_count": 236,
   "metadata": {
    "collapsed": false
   },
   "outputs": [],
   "source": [
    "import pandas as pd\n",
    "import numpy as np\n",
    "from sklearn import preprocessing, svm, cross_validation, metrics, feature_selection, learning_curve\n",
    "\n",
    "import matplotlib.pyplot as plt\n",
    "%matplotlib inline"
   ]
  },
  {
   "cell_type": "markdown",
   "metadata": {},
   "source": [
    "# Exercise 1: Breast Cancer\n",
    "\n",
    "\n",
    "\n",
    "## 1.a: Load the Data\n",
    "Use `pandas.read_csv` to load the data and assess the following:\n",
    "- Are there any missing values? (how are they encoded? do we impute them?)\n",
    "- Are the features categorical or numerical?\n",
    "- Are the values normalized?\n",
    "- How many classes are there in the target?\n",
    "\n",
    "Perform what's necessary to get to a point where you have a feature matrix `X` and a target vector `y`, both with only numerical entries."
   ]
  },
  {
   "cell_type": "code",
   "execution_count": 57,
   "metadata": {
    "collapsed": false
   },
   "outputs": [],
   "source": [
    "assets_filepath = \"../../assets/datasets/\"\n",
    "breast_cancer_data = pd.read_csv(\"{}breast_cancer.csv\".format(assets_filepath))\n",
    "# spambase_data = pd.read_csv(\"{}spambase.csv\".format(assets_filepath))\n",
    "# car_data = pd.read_csv(\"{}car.csv\".format(assets_filepath))"
   ]
  },
  {
   "cell_type": "code",
   "execution_count": 58,
   "metadata": {
    "collapsed": false
   },
   "outputs": [
    {
     "name": "stdout",
     "output_type": "stream",
     "text": [
      "Null values in breast_cancer_data? No.\n",
      "<class 'pandas.core.frame.DataFrame'>\n",
      "RangeIndex: 699 entries, 0 to 698\n",
      "Data columns (total 11 columns):\n",
      "Sample_code_number             699 non-null int64\n",
      "Clump_Thickness                699 non-null int64\n",
      "Uniformity_of_Cell_Size        699 non-null int64\n",
      "Uniformity_of_Cell_Shape       699 non-null int64\n",
      "Marginal_Adhesion              699 non-null int64\n",
      "Single_Epithelial_Cell_Size    699 non-null int64\n",
      "Bare_Nuclei                    699 non-null object\n",
      "Bland_Chromatin                699 non-null int64\n",
      "Normal_Nucleoli                699 non-null int64\n",
      "Mitoses                        699 non-null int64\n",
      "Class                          699 non-null int64\n",
      "dtypes: int64(10), object(1)\n",
      "memory usage: 60.1+ KB\n",
      "None\n",
      "There are 16 ?s in Bare_Nuclei out of 699 observations.\n"
     ]
    }
   ],
   "source": [
    "# Check if there are any null values\n",
    "print(\"Null values in breast_cancer_data?\", (\"No.\", \"Yes.\") [breast_cancer_data.isnull().values.any()])\n",
    "\n",
    "# Checking in all features are numerical\n",
    "print(breast_cancer_data.info())\n",
    "\n",
    "# Bare_Nuclei is not numeric. Why?\n",
    "breast_cancer_data['Bare_Nuclei'].sort_values().unique()\n",
    "print(\"There are {} ?s in Bare_Nuclei out of {} observations.\".format((breast_cancer_data['Bare_Nuclei'] == '?').sum(), breast_cancer_data.shape[0]))"
   ]
  },
  {
   "cell_type": "code",
   "execution_count": 112,
   "metadata": {
    "collapsed": false
   },
   "outputs": [],
   "source": [
    "# Drop these values df = df.drop(df[<some boolean condition>].index)\n",
    "cleaned_breast_cancer_data = breast_cancer_data.drop(breast_cancer_data[breast_cancer_data['Bare_Nuclei'] == '?'].index)"
   ]
  },
  {
   "cell_type": "code",
   "execution_count": 120,
   "metadata": {
    "collapsed": false
   },
   "outputs": [],
   "source": [
    "cleaned_breast_cancer_data = cleaned_breast_cancer_data.astype(float)#apply(pd.to_numeric, errors = 'coerce')"
   ]
  },
  {
   "cell_type": "code",
   "execution_count": 121,
   "metadata": {
    "collapsed": false
   },
   "outputs": [],
   "source": [
    "# Class:(2 for benign, 4 for malignant)\n",
    "# INSTEAD y = cleaned_breast_cancer_data['Class'] == 4\n",
    "cleaned_breast_cancer_data['Class'] = cleaned_breast_cancer_data['Class'].apply(lambda x: (-1,1)[x == 4 or x == 1])"
   ]
  },
  {
   "cell_type": "markdown",
   "metadata": {},
   "source": [
    "## 1.b: Model Building\n",
    "\n",
    "- What's the baseline for the accuracy?\n",
    "- Initialize and train a linear svm. What's the average accuracy score with a 3-fold cross validation?\n",
    "- Repeat using an rbf classifier. Compare the scores. Which one is better?\n",
    "- Are your features normalized? if not, try normalizing and repeat the test. Does the score improve?\n",
    "- What's the best model?\n",
    "- Print a confusion matrix and classification report for your best model using:\n",
    "        train_test_split(X, y, stratify=y, test_size=0.33, random_state=42)\n",
    "\n",
    "**Check** to decide which model is best, look at the average cross validation score. Are the scores significantly different from one another?"
   ]
  },
  {
   "cell_type": "code",
   "execution_count": 122,
   "metadata": {
    "collapsed": false
   },
   "outputs": [
    {
     "name": "stdout",
     "output_type": "stream",
     "text": [
      "Baseline model accuracy: guessing 'benign' is accurate 35.0% of the time\n"
     ]
    }
   ],
   "source": [
    "# Class:(-1 for benign, 1 for malignant)\n",
    "print(\"Baseline model accuracy: guessing 'benign' is accurate {}% of the time\".format(\n",
    "        100* round(((cleaned_breast_cancer_data['Class'] + 1) / 2).mean(), 3))\n",
    "     )"
   ]
  },
  {
   "cell_type": "code",
   "execution_count": 126,
   "metadata": {
    "collapsed": false
   },
   "outputs": [],
   "source": [
    "X = cleaned_breast_cancer_data.drop(labels = ['Class'], axis = 1).apply(preprocessing.scale)\n",
    "y = cleaned_breast_cancer_data['Class']"
   ]
  },
  {
   "cell_type": "code",
   "execution_count": 214,
   "metadata": {
    "collapsed": false
   },
   "outputs": [
    {
     "name": "stdout",
     "output_type": "stream",
     "text": [
      "Linear kernel accuracy: 0.96 (+/- 0.06)\n"
     ]
    },
    {
     "data": {
      "text/plain": [
       "array([[433,  11],\n",
       "       [  8, 231]])"
      ]
     },
     "execution_count": 214,
     "metadata": {},
     "output_type": "execute_result"
    }
   ],
   "source": [
    "linear_svm_model = svm.SVC(kernel = 'linear')\n",
    "linear_svm_model_scores = cross_validation.cross_val_score(linear_svm_model, X, y = y, cv = 3)\n",
    "\n",
    "linear_svm_model_con_matrix = metrics.confusion_matrix(y, linear_svm_model.fit(X, y).predict(X))\n",
    "\n",
    "print(accuracy)\n",
    "linear_svm_model_con_matrix"
   ]
  },
  {
   "cell_type": "code",
   "execution_count": 157,
   "metadata": {
    "collapsed": false
   },
   "outputs": [
    {
     "name": "stdout",
     "output_type": "stream",
     "text": [
      "Linear kernel accuracy: 0.96 (+/- 0.06)\n"
     ]
    },
    {
     "data": {
      "text/plain": [
       "array([[433,  11],\n",
       "       [  6, 233]])"
      ]
     },
     "execution_count": 157,
     "metadata": {},
     "output_type": "execute_result"
    }
   ],
   "source": [
    "rbf_svm_model = svm.SVC(kernel = 'rbf')\n",
    "rbf_svm_model_scores = cross_validation.cross_val_score(rbf_svm_model, X, y = y, cv = 3)\n",
    "\n",
    "rbf_svm_model_accuracy = \"Linear kernel accuracy: %0.2f (+/- %0.2f)\" % (rbf_svm_model_scores.mean(), rbf_svm_model_scores.std() * 2)\n",
    "rbf_svm_model_con_matrix = metrics.confusion_matrix(y, rbf_svm_model.fit(X, y).predict(X))\n",
    "\n",
    "print(accuracy)\n",
    "rbf_svm_model_con_matrix"
   ]
  },
  {
   "cell_type": "code",
   "execution_count": 175,
   "metadata": {
    "collapsed": false
   },
   "outputs": [
    {
     "name": "stdout",
     "output_type": "stream",
     "text": [
      "[[141   6]\n",
      " [  3  76]]\n",
      "             precision    recall  f1-score   support\n",
      "\n",
      "     benign       0.98      0.96      0.97       147\n",
      "  malignant       0.93      0.96      0.94        79\n",
      "\n",
      "avg / total       0.96      0.96      0.96       226\n",
      "\n"
     ]
    }
   ],
   "source": [
    "X_train, X_test, y_train, y_test = cross_validation.train_test_split(X, y, stratify=y, test_size=0.33, random_state=40)\n",
    "split_svm_model = svm.SVC(kernel = 'rbf')\n",
    "split_svm_model.fit(X_train, y_train)\n",
    "split_svm_model_predictions = split_svm_model.predict(X_test)\n",
    "\n",
    "split_svm_model_con_matrix = metrics.confusion_matrix(y_test, split_svm_model_predictions)\n",
    "\n",
    "print(split_svm_model_con_matrix)\n",
    "print(metrics.classification_report(y_test, split_svm_model_predictions, target_names = ['benign', 'malignant']))"
   ]
  },
  {
   "cell_type": "markdown",
   "metadata": {},
   "source": [
    "**Check:** Are there more false positives or false negatives? Is this good or bad?"
   ]
  },
  {
   "cell_type": "markdown",
   "metadata": {},
   "source": [
    "## 1.c: Feature Selection\n",
    "\n",
    "Use any of the strategies offered by `sklearn` to select the most important features.\n",
    "\n",
    "Repeat the cross validation with only those 5 features. Does the score change?"
   ]
  },
  {
   "cell_type": "code",
   "execution_count": 199,
   "metadata": {
    "collapsed": false
   },
   "outputs": [
    {
     "name": "stdout",
     "output_type": "stream",
     "text": [
      "Index(['Clump_Thickness', 'Uniformity_of_Cell_Shape', 'Marginal_Adhesion',\n",
      "       'Bare_Nuclei', 'Bland_Chromatin'],\n",
      "      dtype='object')\n"
     ]
    }
   ],
   "source": [
    "feature_selector = feature_selection.RFE(estimator = linear_svm_model)\n",
    "feature_selector.fit_transform(X, y)\n",
    "\n",
    "best_columns = feature_selector.get_support()\n",
    "best_columns_names = X.columns[best_columns]\n",
    "print(best_columns_names)"
   ]
  },
  {
   "cell_type": "code",
   "execution_count": 218,
   "metadata": {
    "collapsed": false
   },
   "outputs": [
    {
     "name": "stdout",
     "output_type": "stream",
     "text": [
      "[[140   7]\n",
      " [  3  76]]\n",
      "             precision    recall  f1-score   support\n",
      "\n",
      "     benign       0.98      0.95      0.97       147\n",
      "  malignant       0.92      0.96      0.94        79\n",
      "\n",
      "avg / total       0.96      0.96      0.96       226\n",
      "\n"
     ]
    }
   ],
   "source": [
    "selected_linear_svm_model = SVC(kernel = 'linear')\n",
    "\n",
    "selected_linear_svm_model.fit(X_train[best_columns_names], y_train)\n",
    "selected_linear_svm_model_predictions = selected_linear_svm_model.predict(X_test[best_columns_names])\n",
    "\n",
    "selected_linear_svm_model_con_matrix = metrics.confusion_matrix(y_test, linear_svm_model_predictions)\n",
    "\n",
    "print(selected_linear_svm_model_con_matrix)\n",
    "print(metrics.classification_report(y_test, selected_linear_svm_model_predictions, target_names = ['benign', 'malignant']))"
   ]
  },
  {
   "cell_type": "markdown",
   "metadata": {},
   "source": [
    "## 1.d: Learning Curves\n",
    "\n",
    "Learning curves are useful to study the behavior of training and test errors as a function of the number of datapoints available.\n",
    "\n",
    "- Plot learning curves for train sizes between 10% and 100% (use StratifiedKFold with 5 folds as cross validation)\n",
    "- What can you say about the dataset? do you need more data or do you need a better model?"
   ]
  },
  {
   "cell_type": "code",
   "execution_count": 243,
   "metadata": {
    "collapsed": false
   },
   "outputs": [
    {
     "data": {
      "image/png": "[encoded data removed]",
      "text/plain": [
       "<matplotlib.figure.Figure at 0x11b7fbdd8>"
      ]
     },
     "metadata": {},
     "output_type": "display_data"
    }
   ],
   "source": [
    "train_sizes_abs, train_scores, test_scores = learning_curve.learning_curve(linear_svm_model, X, y, cv = 5)\n",
    "\n",
    "plt.figure(figsize = (8,6))\n",
    "plt.title(\"Learning Curves (SVM, linear kernel)\")\n",
    "\n",
    "plt.xlabel(\"Training examples\")\n",
    "plt.ylabel(\"Score\")\n",
    "\n",
    "train_scores_mean = np.mean(train_scores, axis=1)\n",
    "train_scores_std = np.std(train_scores, axis=1)\n",
    "test_scores_mean = np.mean(test_scores, axis=1)\n",
    "test_scores_std = np.std(test_scores, axis=1)\n",
    "plt.grid()\n",
    "\n",
    "plt.fill_between(train_sizes_abs, train_scores_mean - train_scores_std,\n",
    "                 train_scores_mean + train_scores_std, alpha=0.1,\n",
    "                 color=\"r\")\n",
    "plt.fill_between(train_sizes_abs, test_scores_mean - test_scores_std,\n",
    "                 test_scores_mean + test_scores_std, alpha=0.1, color=\"g\")\n",
    "plt.plot(train_sizes_abs, train_scores_mean, 'o-', color=\"r\",\n",
    "         label=\"Training score\")\n",
    "plt.plot(train_sizes_abs, test_scores_mean, 'o-', color=\"g\",\n",
    "         label=\"Cross-validation score\")\n",
    "\n",
    "plt.legend(loc=\"best\")\n",
    "plt.show()"
   ]
  },
  {
   "cell_type": "markdown",
   "metadata": {},
   "source": [
    "##  1.e: Grid Ssearch\n",
    "\n",
    "Use the grid_search function to explore different kernels and values for the C parameter.\n",
    "\n",
    "- Can you improve on your best previous score?\n",
    "- Print the best parameters and the best score"
   ]
  },
  {
   "cell_type": "code",
   "execution_count": 245,
   "metadata": {
    "collapsed": false
   },
   "outputs": [],
   "source": [
    "from sklearn import grid_search"
   ]
  },
  {
   "cell_type": "code",
   "execution_count": null,
   "metadata": {
    "collapsed": true
   },
   "outputs": [],
   "source": [
    "gs = grid_search.GridSearchCV(estimator = linear_svm_model, param_grid = {\n",
    "        c_vals = \n",
    "    })"
   ]
  },
  {
   "cell_type": "markdown",
   "metadata": {},
   "source": [
    "# Exercise 2\n",
    "Now that you've completed steps 1.a through 1.e it's time to tackle some harder datasets. But before we do that, let's encapsulate a few things into functions so that it's easier to repeat the analysis.\n",
    "\n",
    "## 2.a: Cross Validation\n",
    "Implement a function `do_cv(model, X, y, cv)` that does the following:\n",
    "- Calculates the cross validation scores\n",
    "- Prints the model\n",
    "- Prints and returns the mean and the standard deviation of the cross validation scores\n",
    "\n",
    "> Answer: see above\n",
    "\n",
    "## 2.b: Confusion Matrix and Classification report\n",
    "Implement a function `do_cm_cr(model, X, y, names)` that automates the following:\n",
    "- Split the data using `train_test_split(X, y, stratify=y, test_size=0.33, random_state=42)`\n",
    "- Fit the model\n",
    "- Prints confusion matrix and classification report in a nice format\n",
    "\n",
    "**Hint:** names is the list of target classes\n",
    "\n",
    "> Answer: see above\n",
    "\n",
    "## 2.c: Learning Curves\n",
    "Implement a function `do_learning_curve(model, X, y, sizes)` that automates drawing the learning curves:\n",
    "- Allow for sizes input\n",
    "- Use 5-fold StratifiedKFold cross validation\n",
    "\n",
    "> Answer: see above\n",
    "\n",
    "## 2.d: Grid Search\n",
    "Implement a function `do_grid_search(model, parameters)` that automates the grid search by doing:\n",
    "- Calculate grid search\n",
    "- Print best parameters\n",
    "- Print best score\n",
    "- Return best estimator\n",
    "\n",
    "\n",
    "> Answer: see above"
   ]
  },
  {
   "cell_type": "markdown",
   "metadata": {},
   "source": [
    "# Exercise 3\n",
    "Using the functions above, analyze the Spambase dataset.\n",
    "\n",
    "Notice that now you have many more features. Focus your attention on step C => feature selection\n",
    "\n",
    "- Load the data and get to X, y\n",
    "- Select the 15 best features\n",
    "- Perform grid search to determine best model\n",
    "- Display learning curves"
   ]
  },
  {
   "cell_type": "code",
   "execution_count": null,
   "metadata": {
    "collapsed": false
   },
   "outputs": [],
   "source": []
  },
  {
   "cell_type": "markdown",
   "metadata": {},
   "source": [
    "# Exercise 4\n",
    "Repeat steps 1.a - 1.e for the car dataset. Notice that now features are categorical, not numerical.\n",
    "- Find a suitable way to encode them\n",
    "- How does this change our modeling strategy?\n",
    "\n",
    "Also notice that the target variable `acceptability` has 4 classes. How do we encode them?\n"
   ]
  },
  {
   "cell_type": "code",
   "execution_count": null,
   "metadata": {
    "collapsed": false
   },
   "outputs": [],
   "source": []
  },
  {
   "cell_type": "markdown",
   "metadata": {},
   "source": [
    "# Bonus\n",
    "Repeat steps 1.a - 1.e for the mushroom dataset. Notice that now features are categorical, not numerical. This dataset is quite large.\n",
    "- How does this change our modeling strategy?\n",
    "- Can we use feature selection to improve this?\n"
   ]
  },
  {
   "cell_type": "code",
   "execution_count": null,
   "metadata": {
    "collapsed": true
   },
   "outputs": [],
   "source": []
  }
 ],
 "metadata": {
  "anaconda-cloud": {},
  "kernelspec": {
   "display_name": "Python [Root]",
   "language": "python",
   "name": "Python [Root]"
  },
  "language_info": {
   "codemirror_mode": {
    "name": "ipython",
    "version": 3
   },
   "file_extension": ".py",
   "mimetype": "text/x-python",
   "name": "python",
   "nbconvert_exporter": "python",
   "pygments_lexer": "ipython3",
   "version": "3.5.2"
  }
 },
 "nbformat": 4,
 "nbformat_minor": 0
}
