{
 "cells": [
  {
   "cell_type": "markdown",
   "metadata": {},
   "source": [
    "# Bias Variance Tradeoff\n",
    "\n",
    "In this notebook we investigate the bias and variance of models. In the first section we'll investigate fitting functions of the form:\n",
    "\n",
    "$$f(x) = w_0 + w_1 * x^n$$\n",
    "\n",
    "to some cubic polynomial data with noise."
   ]
  },
  {
   "cell_type": "code",
   "execution_count": 1,
   "metadata": {
    "collapsed": false
   },
   "outputs": [],
   "source": [
    "% matplotlib inline\n",
    "import random\n",
    "\n",
    "from matplotlib import pyplot as plt\n",
    "import numpy as np\n",
    "import pandas as pd\n",
    "from scipy import stats\n",
    "from sklearn import datasets, linear_model, cross_validation"
   ]
  },
  {
   "cell_type": "markdown",
   "metadata": {},
   "source": [
    "## Some helper functions\n",
    "The following functions will generate data and polynomial values. Not all of them are used/useful.."
   ]
  },
  {
   "cell_type": "code",
   "execution_count": 2,
   "metadata": {
    "collapsed": true
   },
   "outputs": [],
   "source": [
    "def polynomials(X, degree=1):\n",
    "    array = [X]\n",
    "    y = X\n",
    "    for i in range(2, int(degree + 1)):\n",
    "        y = y * X\n",
    "        array.append(y)\n",
    "    return np.array(array).transpose()\n",
    "\n",
    "def monomials(X, degree=1):\n",
    "    # can you guess what this does? \n",
    "    return ?????\n",
    "\n",
    "def generate_data(func, a, b, n=100):\n",
    "    data = []\n",
    "    for _ in range(n):\n",
    "        x = random.random() * (b - a)\n",
    "        y = func(x)\n",
    "        data.append((x, y))\n",
    "    return list(sorted(data))\n",
    "\n",
    "#constants to be used later: \n",
    "mu, sigma = 0, 0.1 # mean and standard deviation of noise \n",
    "\n"
   ]
  },
  {
   "cell_type": "markdown",
   "metadata": {},
   "source": [
    "test what the functions looks do: "
   ]
  },
  {
   "cell_type": "code",
   "execution_count": 5,
   "metadata": {
    "collapsed": false
   },
   "outputs": [
    {
     "name": "stdout",
     "output_type": "stream",
     "text": [
      "[[  0   0   0]\n",
      " [  1   1   1]\n",
      " [  2   4   8]\n",
      " [  3   9  27]\n",
      " [  4  16  64]\n",
      " [  5  25 125]\n",
      " [  6  36 216]\n",
      " [  7  49 343]\n",
      " [  8  64 512]\n",
      " [  9  81 729]]\n",
      "[[   1.            0.        ]\n",
      " [   1.            1.        ]\n",
      " [   1.            5.65685425]\n",
      " [   1.           15.58845727]\n",
      " [   1.           32.        ]\n",
      " [   1.           55.90169944]\n",
      " [   1.           88.18163074]\n",
      " [   1.          129.64181424]\n",
      " [   1.          181.01933598]\n",
      " [   1.          243.        ]]\n"
     ]
    },
    {
     "data": {
      "text/plain": [
       "[(0.06991242784628282, 0.0048877475673617015),\n",
       " (0.4186690273715523, 0.1752837544802416),\n",
       " (0.4805119813160783, 0.23089176418830318),\n",
       " (0.4935626995053435, 0.24360413834300199),\n",
       " (0.49384355516366596, 0.24388145697668878),\n",
       " (0.8095948981220351, 0.6554438990652284),\n",
       " (0.8300967483641015, 0.6890606116446545),\n",
       " (1.1083004821103952, 1.2283299586461345),\n",
       " (1.677719916897133, 2.814744119553323),\n",
       " (1.8166203491663069, 3.300109493005115)]"
      ]
     },
     "execution_count": 5,
     "metadata": {},
     "output_type": "execute_result"
    }
   ],
   "source": [
    "X = np.array(range(10))\n",
    "print(polynomials(X, 3)) # each row is x raised to different powers\n",
    "print(monomials(X, 5/2)) #  can you guess? \n",
    "generate_data(lambda x: x*x,0,2,10) # return x values and x^2 from 0->2 with 10 meshing"
   ]
  },
  {
   "cell_type": "markdown",
   "metadata": {},
   "source": [
    "## Fitting Polynomial Functions\n",
    "\n",
    "Here we fit try to fit our sample data with an increasing exponent:\n",
    "\n",
    "$$f(x) = 1 + b x^n$$\n",
    "\n",
    "None of these models are quite right because the data is generate from the function\n",
    "\n",
    "$$ \\hat{f}(x) = 4 + 5 x - 3 x^2 + 0.1 x^3$$\n",
    "\n",
    "So each model is not quite right because one or more terms is missing. This will allow us to take a closer look at the bias-variance tradeoff.\n",
    "\n",
    "Let's start with $n = 1, 2, 3, 4$."
   ]
  },
  {
   "cell_type": "markdown",
   "metadata": {},
   "source": [
    "### Let's generate the data that will be used in the fit  and plot it: "
   ]
  },
  {
   "cell_type": "code",
   "execution_count": 51,
   "metadata": {
    "collapsed": false
   },
   "outputs": [
    {
     "data": {
      "text/plain": [
       "[<matplotlib.lines.Line2D at 0x118b79668>]"
      ]
     },
     "execution_count": 51,
     "metadata": {},
     "output_type": "execute_result"
    },
    {
     "data": {
      "image/png": "[encoded data removed]",
      "text/plain": [
       "<matplotlib.figure.Figure at 0x1197b39b0>"
      ]
     },
     "metadata": {},
     "output_type": "display_data"
    }
   ],
   "source": [
    "# Generate some data for the formula below\n",
    "f = lambda x: 4 + 5 * x - 3 * x*x + 0.1 * x * x * x + np.random.normal(mu, sigma)\n",
    "data = generate_data(????)\n",
    "plt.plot(pd.DataFrame(data)[0],pd.DataFrame(data)[1],\"ro\") # can you think of a cleaner way of ploting this? :) "
   ]
  },
  {
   "cell_type": "code",
   "execution_count": 52,
   "metadata": {
    "collapsed": false
   },
   "outputs": [],
   "source": [
    "def rmse(yh,h):\n",
    "    return ???\n",
    "\n",
    "def score_rms(model,x,y):\n",
    "    # how does this related to cross_val_score ? \n",
    "    h=model.predict(x)\n",
    "    return rmse(y,h)\n",
    "\n",
    "def estimate_error_using_cv(data,model_n):\n",
    "    domain = np.array([x[0] for x in data])\n",
    "    Y = np.array([x[1] for x in data])\n",
    "    X = monomials(domain, model_n) # since our model is w0+w1*x^n\n",
    "    kfold =????# 8 way cross-validation, Can you guess why we are using KFold? \n",
    "    cv_errors=cross_validation.cross_val_score(????, X, Y, scoring=score_rms, cv=kfold)\n",
    "    #print(cv_errors)\n",
    "    return np.mean(cv_errors) #because of the way mean_squared_error is defined in scikit-learn \n",
    "    \n",
    "def plot_data_and_model(data,model_n):\n",
    "    #first fit the model: \n",
    "    domain = np.array([x[0] for x in data])\n",
    "    Y = np.array([x[1] for x in data])\n",
    "    X = monomials(domain, model_n) # since our model is w0+w1*x^n\n",
    "    fitted_model=linear_model.LinearRegression().fit(X,Y) #using all data \n",
    "    print(\"for our model we have w=\",fitted_model.coef_)\n",
    "    plt.plot(pd.DataFrame(data)[0],fitted_model.predict(X),\"b\",pd.DataFrame(data)[0],pd.DataFrame(data)[1],\"ro\") # can you think of a cleaner way of ploting this? :) "
   ]
  },
  {
   "cell_type": "markdown",
   "metadata": {},
   "source": [
    "### Now let's experiment and make sure the #'s we are getting are ok: \n",
    "\n",
    "Things to medidate on:\n",
    "    1. How can you *eyeball* the results from `estimate_error_using_cv` ?\n",
    "    2. by walking thoughtthe models of different n's can you see which model is likely to be the best? "
   ]
  },
  {
   "cell_type": "code",
   "execution_count": 53,
   "metadata": {
    "collapsed": false
   },
   "outputs": [
    {
     "name": "stdout",
     "output_type": "stream",
     "text": [
      "for our model we have w= [ 0.         -0.53246138]\n"
     ]
    },
    {
     "data": {
      "text/plain": [
       "0.74006045465050807"
      ]
     },
     "execution_count": 53,
     "metadata": {},
     "output_type": "execute_result"
    },
    {
     "data": {
      "image/png": "[encoded data removed]",
      "text/plain": [
       "<matplotlib.figure.Figure at 0x119694358>"
      ]
     },
     "metadata": {},
     "output_type": "display_data"
    }
   ],
   "source": [
    "plot_data_and_model(data,model_n=1)\n",
    "estimate_error_using_cv(data_cv,model_n=1)\n"
   ]
  },
  {
   "cell_type": "code",
   "execution_count": 54,
   "metadata": {
    "collapsed": false,
    "scrolled": false
   },
   "outputs": [
    {
     "data": {
      "text/plain": [
       "[<matplotlib.lines.Line2D at 0x119a21080>]"
      ]
     },
     "execution_count": 54,
     "metadata": {},
     "output_type": "execute_result"
    },
    {
     "data": {
      "image/png": "[encoded data removed]",
      "text/plain": [
       "<matplotlib.figure.Figure at 0x1197cddd8>"
      ]
     },
     "metadata": {},
     "output_type": "display_data"
    }
   ],
   "source": [
    "cv_res=pd.DataFrame([[deg, estimate_error_using_cv(data_cv,model_n=deg)] for deg in range(15) ])\n",
    "plt.plot(cv_res[0],cv_res[1],'r') # the CV curve: \n"
   ]
  },
  {
   "cell_type": "markdown",
   "metadata": {},
   "source": [
    "# Lets Now Generate The non-CV curve  -- Potential HW (optional\n",
    "\n",
    "Can you generate the blue curve? "
   ]
  },
  {
   "cell_type": "code",
   "execution_count": null,
   "metadata": {
    "collapsed": true
   },
   "outputs": [],
   "source": []
  }
 ],
 "metadata": {
  "anaconda-cloud": {},
  "kernelspec": {
   "display_name": "Python [Root]",
   "language": "python",
   "name": "Python [Root]"
  },
  "language_info": {
   "codemirror_mode": {
    "name": "ipython",
    "version": 3
   },
   "file_extension": ".py",
   "mimetype": "text/x-python",
   "name": "python",
   "nbconvert_exporter": "python",
   "pygments_lexer": "ipython3",
   "version": "3.5.2"
  }
 },
 "nbformat": 4,
 "nbformat_minor": 0
}
