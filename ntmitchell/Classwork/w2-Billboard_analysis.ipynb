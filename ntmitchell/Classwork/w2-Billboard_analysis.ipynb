{
 "cells": [
  {
   "cell_type": "code",
   "execution_count": 225,
   "metadata": {
    "collapsed": false
   },
   "outputs": [],
   "source": [
    "import pandas as pd\n",
    "import numpy as np\n",
    "import scipy.stats\n",
    "\n",
    "billboard_filepath = \"/Users/Nathan/DSI-course-materials/curriculum/03-projects/01-projects-weekly/project-02/assets/billboard.csv\"\n",
    "#rock_filepath = \"/Users/Nathan/DSI-course-materials/curriculum/04-lessons/week-02/instructor-contributions/SF/2.4-lab/assets/datasets/rock.csv\""
   ]
  },
  {
   "cell_type": "code",
   "execution_count": 226,
   "metadata": {
    "collapsed": false
   },
   "outputs": [],
   "source": [
    "billboard_data = pd.read_csv(billboard_filepath, encoding ='latin1')"
   ]
  },
  {
   "cell_type": "code",
   "execution_count": 227,
   "metadata": {
    "collapsed": false
   },
   "outputs": [
    {
     "name": "stdout",
     "output_type": "stream",
     "text": [
      "     year   artist.inverted             track  time genre date.entered  \\\n",
      "312  2000  Ghostface Killah  Cherchez LaGhost  3:04   R&B   2000-08-05   \n",
      "313  2000       Smith, Will       Freakin' It  3:58   Rap   2000-02-12   \n",
      "314  2000     Zombie Nation     Kernkraft 400  3:30  Rock   2000-09-02   \n",
      "315  2000    Eastsidaz, The          Got Beef  3:58   Rap   2000-07-01   \n",
      "316  2000            Fragma    Toca's Miracle  3:22   R&B   2000-10-28   \n",
      "\n",
      "    date.peaked  x1st.week  x2nd.week  x3rd.week     ...      x67th.week  \\\n",
      "312  2000-08-05         98        NaN        NaN     ...             NaN   \n",
      "313  2000-02-12         99       99.0       99.0     ...             NaN   \n",
      "314  2000-09-02         99       99.0        NaN     ...             NaN   \n",
      "315  2000-07-01         99       99.0        NaN     ...             NaN   \n",
      "316  2000-10-28         99        NaN        NaN     ...             NaN   \n",
      "\n",
      "     x68th.week  x69th.week  x70th.week  x71st.week  x72nd.week  x73rd.week  \\\n",
      "312         NaN         NaN         NaN         NaN         NaN         NaN   \n",
      "313         NaN         NaN         NaN         NaN         NaN         NaN   \n",
      "314         NaN         NaN         NaN         NaN         NaN         NaN   \n",
      "315         NaN         NaN         NaN         NaN         NaN         NaN   \n",
      "316         NaN         NaN         NaN         NaN         NaN         NaN   \n",
      "\n",
      "     x74th.week  x75th.week  x76th.week  \n",
      "312         NaN         NaN         NaN  \n",
      "313         NaN         NaN         NaN  \n",
      "314         NaN         NaN         NaN  \n",
      "315         NaN         NaN         NaN  \n",
      "316         NaN         NaN         NaN  \n",
      "\n",
      "[5 rows x 83 columns]\n"
     ]
    }
   ],
   "source": [
    "print(billboard_data.tail(5))"
   ]
  },
  {
   "cell_type": "code",
   "execution_count": 228,
   "metadata": {
    "collapsed": false
   },
   "outputs": [
    {
     "name": "stdout",
     "output_type": "stream",
     "text": [
      "count    317.000000\n",
      "mean      16.741325\n",
      "std        9.083785\n",
      "min        1.000000\n",
      "25%       10.000000\n",
      "50%       18.000000\n",
      "75%       20.000000\n",
      "max       57.000000\n",
      "Name: Weeks in Top 100, dtype: float64\n"
     ]
    }
   ],
   "source": [
    "# Which songs spend the most time in Top 100?\n",
    "weeks_in_top = billboard_data.ix[:,7:]\n",
    "weeks_in_top_series = weeks_in_top.count(axis = 1)\n",
    "billboard_data[\"Weeks in Top 100\"] = weeks_in_top_series\n",
    "billboard_data.sort_values(by = \"Weeks in Top 100\", ascending = False)[[\"track\", \"Weeks in Top 100\"]][:10]\n",
    "print(billboard_data[\"Weeks in Top 100\"].describe())"
   ]
  },
  {
   "cell_type": "code",
   "execution_count": 229,
   "metadata": {
    "collapsed": false
   },
   "outputs": [
    {
     "name": "stdout",
     "output_type": "stream",
     "text": [
      "       artist.inverted\n",
      "count       228.000000\n",
      "mean          1.390351\n",
      "std           0.709466\n",
      "min           1.000000\n",
      "25%           1.000000\n",
      "50%           1.000000\n",
      "75%           2.000000\n",
      "max           5.000000\n",
      "                   artist.inverted\n",
      "Jay-Z                            5\n",
      "Houston, Whitney                 4\n",
      "Dixie Chicks, The                4\n",
      "Spears, Britney                  3\n",
      "Martin, Ricky                    3\n"
     ]
    }
   ],
   "source": [
    "artist_counts = billboard_data[\"artist.inverted\"].value_counts().to_frame()\n",
    "print(artist_counts.describe())\n",
    "print(artist_counts.iloc[0:5])"
   ]
  },
  {
   "cell_type": "code",
   "execution_count": 233,
   "metadata": {
    "collapsed": false
   },
   "outputs": [
    {
     "name": "stdout",
     "output_type": "stream",
     "text": [
      "artist.inverted    5.087836\n",
      "dtype: float64\n",
      "1.81085761048e-07\n"
     ]
    }
   ],
   "source": [
    "jay_z_z_score = (artist_counts.ix[\"Jay-Z\"] - artist_counts.mean()) / artist_counts.std()\n",
    "print(jay_z_z_score)\n",
    "jay_z_p_value = scipy.stats.norm.sf(jay_z_z_score)[0]\n",
    "print(jay_z_p_value)"
   ]
  },
  {
   "cell_type": "code",
   "execution_count": 231,
   "metadata": {
    "collapsed": false
   },
   "outputs": [
    {
     "name": "stdout",
     "output_type": "stream",
     "text": [
      "     year artist.inverted                               track  time genre  \\\n",
      "57   2000           Jay-Z  I Just Wanna Love U (Give It 2 Me)  3:50   Rap   \n",
      "71   2000           Jay-Z                         Big Pimpin'  3:55   Rap   \n",
      "192  2000           Jay-Z                            Anything  3:41   Rap   \n",
      "226  2000           Jay-Z       Do It Again (Put Ya Hands Up)  3:47   Rap   \n",
      "264  2000           Jay-Z                            Hey Papi  3:40   Rap   \n",
      "\n",
      "    date.entered date.peaked  x1st.week  x2nd.week  x3rd.week  \\\n",
      "57    2000-10-28  2000-12-30         58       45.0       35.0   \n",
      "71    2000-04-22  2000-07-08         69       52.0       39.0   \n",
      "192   2000-02-26  2000-03-11         72       58.0       55.0   \n",
      "226   2000-01-15  2000-01-29         95       68.0       65.0   \n",
      "264   2000-08-12  2000-10-07         98      100.0       98.0   \n",
      "\n",
      "           ...         x68th.week  x69th.week  x70th.week  x71st.week  \\\n",
      "57         ...                NaN         NaN         NaN         NaN   \n",
      "71         ...                NaN         NaN         NaN         NaN   \n",
      "192        ...                NaN         NaN         NaN         NaN   \n",
      "226        ...                NaN         NaN         NaN         NaN   \n",
      "264        ...                NaN         NaN         NaN         NaN   \n",
      "\n",
      "     x72nd.week  x73rd.week  x74th.week  x75th.week  x76th.week  \\\n",
      "57          NaN         NaN         NaN         NaN         NaN   \n",
      "71          NaN         NaN         NaN         NaN         NaN   \n",
      "192         NaN         NaN         NaN         NaN         NaN   \n",
      "226         NaN         NaN         NaN         NaN         NaN   \n",
      "264         NaN         NaN         NaN         NaN         NaN   \n",
      "\n",
      "     Weeks in Top 100  \n",
      "57                 21  \n",
      "71                 20  \n",
      "192                 8  \n",
      "226                 9  \n",
      "264                15  \n",
      "\n",
      "[5 rows x 84 columns]\n"
     ]
    }
   ],
   "source": [
    "print(billboard_data[billboard_data['artist.inverted'] == \"Jay-Z\"])"
   ]
  },
  {
   "cell_type": "code",
   "execution_count": 232,
   "metadata": {
    "collapsed": false
   },
   "outputs": [
    {
     "name": "stdout",
     "output_type": "stream",
     "text": [
      "count                        317\n",
      "mean     52 days 05:54:19.305993\n",
      "std      40 days 20:49:20.696756\n",
      "min              0 days 00:00:00\n",
      "25%             21 days 00:00:00\n",
      "50%             49 days 00:00:00\n",
      "75%             70 days 00:00:00\n",
      "max            315 days 00:00:00\n",
      "Name: Time to peak, dtype: object\n"
     ]
    }
   ],
   "source": [
    "# Calculate differences between date.entered, date.peak. Mean, std_dev\n",
    "billboard_data[\"date.peaked\"] = pd.to_datetime(billboard_data[\"date.peaked\"])\n",
    "billboard_data[\"date.entered\"] = pd.to_datetime(billboard_data[\"date.entered\"])\n",
    "\n",
    "billboard_data[\"Time to peak\"] = billboard_data[\"date.peaked\"] - billboard_data[\"date.entered\"]\n",
    "print(billboard_data[\"Time to peak\"].describe())\n",
    "#Average track time\n",
    "#Who has the most songs in top 100?"
   ]
  },
  {
   "cell_type": "code",
   "execution_count": null,
   "metadata": {
    "collapsed": true
   },
   "outputs": [],
   "source": []
  },
  {
   "cell_type": "code",
   "execution_count": null,
   "metadata": {
    "collapsed": true
   },
   "outputs": [],
   "source": []
  }
 ],
 "metadata": {
  "kernelspec": {
   "display_name": "Python [Root]",
   "language": "python",
   "name": "Python [Root]"
  },
  "language_info": {
   "codemirror_mode": {
    "name": "ipython",
    "version": 3
   },
   "file_extension": ".py",
   "mimetype": "text/x-python",
   "name": "python",
   "nbconvert_exporter": "python",
   "pygments_lexer": "ipython3",
   "version": "3.5.2"
  }
 },
 "nbformat": 4,
 "nbformat_minor": 0
}
