{
 "cells": [
  {
   "cell_type": "markdown",
   "metadata": {},
   "source": [
    "### Review problem 9 (expert)\n",
    "\n",
    "For this problem you write a function that takes a multi-tiered dictionary of arbitrary depth. Your function will need to iterate through the dictionary, printing out the contents.\n",
    "\n",
    "Your function should:\n",
    "\n",
    "- Accept the predefined dictionary as an argument.\n",
    "- For each key:value pair, print out the key and the value:\n",
    "    - If the value is also a dictionary, do the same, printing out the key:value pair but with tabs equivalent to the current \"depth\" indicating what level we are on.\n",
    "    - Note: tab in strings is written as ```\\t```\n",
    "    \n",
    "Example:\n",
    "```python\n",
    "'key1' : 'value1'\n",
    "'key2' :\n",
    "    'key3' : 'value3'\n",
    "    'key4' : 'value4'\n",
    "    'key5' :\n",
    "        'key6': 'value6'\n",
    "'key7' : 'value7'\n",
    "```\n"
   ]
  },
  {
   "cell_type": "code",
   "execution_count": 3,
   "metadata": {
    "collapsed": true
   },
   "outputs": [],
   "source": [
    "tiered_dict = {'T1.1':'V1.1', \n",
    "               'T1.2':'V1.2',\n",
    "               'T1.3':{'T2.1':'V2.1',\n",
    "                       'T2.2':['V2.2.1','V2.2.2'],\n",
    "                       'T2.3':{'T3.1':['V3.1.1','V3.1.2'],\n",
    "                               'T3.2':'V3.2',\n",
    "                               'T3.3':'V3.3'}},\n",
    "               'T1.4':{'T2.4':{'T3.4':{'T4.1':'V4.1',\n",
    "                                       'T4.2':'V4.2'},\n",
    "                               'T3.5':{'T4.3':'V4.3'}},\n",
    "                       'T2.5':['V2.3.1','V2.3.2']},\n",
    "               }"
   ]
  },
  {
   "cell_type": "code",
   "execution_count": 30,
   "metadata": {
    "collapsed": false
   },
   "outputs": [
    {
     "name": "stdout",
     "output_type": "stream",
     "text": [
      " T1.1 : V1.1\n",
      " T1.3 :\n",
      "\t T2.1 : V2.1\n",
      "\t T2.3 :\n",
      "\t\t T3.3 : V3.3\n",
      "\t\t T3.2 : V3.2\n",
      "\t\t T3.1 : ['V3.1.1', 'V3.1.2']\n",
      "\t T2.2 : ['V2.2.1', 'V2.2.2']\n",
      " T1.2 : V1.2\n",
      " T1.4 :\n",
      "\t T2.5 : ['V2.3.1', 'V2.3.2']\n",
      "\t T2.4 :\n",
      "\t\t T3.4 :\n",
      "\t\t\t T4.1 : V4.1\n",
      "\t\t\t T4.2 : V4.2\n",
      "\t\t T3.5 :\n",
      "\t\t\t T4.3 : V4.3\n"
     ]
    }
   ],
   "source": [
    "# Write your function here:\n",
    "def print_tabbed_dictionary(dictionary, tab_counter = 0):\n",
    "    \n",
    "    for key_name in dictionary:\n",
    "        \n",
    "        if type(dictionary.get(key_name)) == type(dict()):\n",
    "            \n",
    "            print('\\t' * tab_counter, key_name, ':')\n",
    "            \n",
    "            # Re-run the function with a new indentation level\n",
    "            print_tabbed_dictionary(dictionary[key_name], tab_counter + 1)\n",
    "        \n",
    "        else:\n",
    "            print('\\t' * tab_counter, key_name, ':', dictionary.get(key_name))\n",
    "\n",
    "print_tabbed_dictionary(tiered_dict)"
   ]
  },
  {
   "cell_type": "code",
   "execution_count": null,
   "metadata": {
    "collapsed": true
   },
   "outputs": [],
   "source": []
  }
 ],
 "metadata": {
  "anaconda-cloud": {},
  "kernelspec": {
   "display_name": "Python [Root]",
   "language": "python",
   "name": "Python [Root]"
  },
  "language_info": {
   "codemirror_mode": {
    "name": "ipython",
    "version": 3
   },
   "file_extension": ".py",
   "mimetype": "text/x-python",
   "name": "python",
   "nbconvert_exporter": "python",
   "pygments_lexer": "ipython3",
   "version": "3.5.2"
  }
 },
 "nbformat": 4,
 "nbformat_minor": 0
}
