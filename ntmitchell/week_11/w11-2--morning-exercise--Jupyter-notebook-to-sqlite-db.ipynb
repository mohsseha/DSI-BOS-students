{
 "cells": [
  {
   "cell_type": "code",
   "execution_count": 28,
   "metadata": {
    "collapsed": false
   },
   "outputs": [],
   "source": [
    "import pandas as pd\n",
    "import json\n",
    "import requests"
   ]
  },
  {
   "cell_type": "code",
   "execution_count": 38,
   "metadata": {
    "collapsed": false
   },
   "outputs": [],
   "source": [
    "# %%bash\n",
    "# cp ../week_09/w9-4--building-trees-with-classes.ipynb /Users/Nathan/Desktop/w9-4--building-trees-with-classes.json\n"
   ]
  },
  {
   "cell_type": "code",
   "execution_count": 88,
   "metadata": {
    "collapsed": false
   },
   "outputs": [],
   "source": [
    "# with open(\"/Users/Nathan/Desktop/w9-4--building-trees-with-classes.json\", \"r\") as f:\n",
    "#     json_data = f.read()\n",
    "# read_json_data = json_data.replace(\"\\n\", \"\")\n",
    "# imported_json = json.loads(read_json_data)\n",
    "# json_keys = imported_json.keys()"
   ]
  },
  {
   "cell_type": "code",
   "execution_count": 92,
   "metadata": {
    "collapsed": false
   },
   "outputs": [],
   "source": [
    "import nbformat as nbf\n",
    "\n",
    "imported_notebook_as_dict = nbf.read(open('../week_07/w7_morning_exercise--data_dictionary_to_database.ipynb', 'r'), 4).dict()\n"
   ]
  },
  {
   "cell_type": "code",
   "execution_count": 124,
   "metadata": {
    "collapsed": false
   },
   "outputs": [],
   "source": [
    "keys = set()\n",
    "for cell in imported_notebook_as_dict['cells']:\n",
    "    keys.update(cell.keys())"
   ]
  },
  {
   "cell_type": "code",
   "execution_count": 126,
   "metadata": {
    "collapsed": false
   },
   "outputs": [],
   "source": [
    "dataframe = pd.DataFrame(columns = keys)"
   ]
  },
  {
   "cell_type": "code",
   "execution_count": 132,
   "metadata": {
    "collapsed": false
   },
   "outputs": [
    {
     "name": "stdout",
     "output_type": "stream",
     "text": [
      "['A dictionary of column names & data types, and number or rows\\nFunction produces a \"nice database\"', 'markdown', {}]\n",
      "['Example:\\n    Input:\\n        {\"first_name\": char(18), age: int}, number of rows = 3\\n    \\n    Output:\\n        ____|_first_name_|_age_|\\n        | 1 |            |     | \\n    ', 'markdown', {}]\n",
      "['import pandas as pd\\n\\nimport sqlite3', 'code', {'collapsed': True}, 90, []]\n",
      "['def dictionary_to_database(data_dictionary = {}, number_of_rows = 3):\\n    dummy_data_dictionary = {\"char(18)\": \"blank string\", \"int\": 0}\\n    \\n    keys = data_dictionary.keys()\\n    values = data_dictionary.values()\\n    \\n    dataframe = pd.DataFrame()\\n    for key in keys:\\n        dataframe[key] = [dummy_data_dictionary[data_dictionary[key]] for _ in range(number_of_rows)]\\n    \\n#     sqlite_db = \"test_database.sqlite\"\\n#     conn = sqlite3.connect(sqlite_db)\\n#     dataframe.to_sql(name = \"SQL_database\", con = conn, dtype = data_dictionary)\\n\\n    return dataframe\\n\\n\\ntest_dictionary = {\"first_name\": \"char(18)\", \"age\": \"int\"} \\ndictionary_to_database(test_dictionary, 8)', 'code', {'collapsed': False}, 94, [{'output_type': 'execute_result', 'data': {'text/plain': '     first_name  age\\n0  blank string    0\\n1  blank string    0\\n2  blank string    0\\n3  blank string    0\\n4  blank string    0\\n5  blank string    0\\n6  blank string    0\\n7  blank string    0', 'text/html': '<div>\\n<table border=\"1\" class=\"dataframe\">\\n  <thead>\\n    <tr style=\"text-align: right;\">\\n      <th></th>\\n      <th>first_name</th>\\n      <th>age</th>\\n    </tr>\\n  </thead>\\n  <tbody>\\n    <tr>\\n      <th>0</th>\\n      <td>blank string</td>\\n      <td>0</td>\\n    </tr>\\n    <tr>\\n      <th>1</th>\\n      <td>blank string</td>\\n      <td>0</td>\\n    </tr>\\n    <tr>\\n      <th>2</th>\\n      <td>blank string</td>\\n      <td>0</td>\\n    </tr>\\n    <tr>\\n      <th>3</th>\\n      <td>blank string</td>\\n      <td>0</td>\\n    </tr>\\n    <tr>\\n      <th>4</th>\\n      <td>blank string</td>\\n      <td>0</td>\\n    </tr>\\n    <tr>\\n      <th>5</th>\\n      <td>blank string</td>\\n      <td>0</td>\\n    </tr>\\n    <tr>\\n      <th>6</th>\\n      <td>blank string</td>\\n      <td>0</td>\\n    </tr>\\n    <tr>\\n      <th>7</th>\\n      <td>blank string</td>\\n      <td>0</td>\\n    </tr>\\n  </tbody>\\n</table>\\n</div>'}, 'metadata': {}, 'execution_count': 94}]]\n",
      "[\"# For creating random names\\nimport string\\nimport random\\n\\n''.join(random.choice(string.ascii_lowercase) for _ in range(18)).title()\", 'code', {'collapsed': False}, 79, [{'output_type': 'execute_result', 'data': {'text/plain': \"'Lvtdawtjfeugdhbgsj'\"}, 'metadata': {}, 'execution_count': 79}]]\n",
      "['', 'code', {'collapsed': True}, None, []]\n"
     ]
    }
   ],
   "source": [
    "for cell in imported_notebook_as_dict['cells']:\n",
    "    print([cell.get(key) for key in cell.keys()])"
   ]
  },
  {
   "cell_type": "code",
   "execution_count": 129,
   "metadata": {
    "collapsed": false
   },
   "outputs": [
    {
     "data": {
      "text/html": [
       "<div>\n",
       "<table border=\"1\" class=\"dataframe\">\n",
       "  <thead>\n",
       "    <tr style=\"text-align: right;\">\n",
       "      <th></th>\n",
       "      <th>source</th>\n",
       "      <th>cell_type</th>\n",
       "      <th>metadata</th>\n",
       "      <th>execution_count</th>\n",
       "      <th>outputs</th>\n",
       "    </tr>\n",
       "  </thead>\n",
       "  <tbody>\n",
       "  </tbody>\n",
       "</table>\n",
       "</div>"
      ],
      "text/plain": [
       "Empty DataFrame\n",
       "Columns: [source, cell_type, metadata, execution_count, outputs]\n",
       "Index: []"
      ]
     },
     "execution_count": 129,
     "metadata": {},
     "output_type": "execute_result"
    }
   ],
   "source": [
    "dataframe"
   ]
  },
  {
   "cell_type": "code",
   "execution_count": null,
   "metadata": {
    "collapsed": true
   },
   "outputs": [],
   "source": []
  }
 ],
 "metadata": {
  "anaconda-cloud": {},
  "kernelspec": {
   "display_name": "Python [default]",
   "language": "python",
   "name": "python3"
  },
  "language_info": {
   "codemirror_mode": {
    "name": "ipython",
    "version": 3
   },
   "file_extension": ".py",
   "mimetype": "text/x-python",
   "name": "python",
   "nbconvert_exporter": "python",
   "pygments_lexer": "ipython3",
   "version": "3.5.2"
  }
 },
 "nbformat": 4,
 "nbformat_minor": 2
}
