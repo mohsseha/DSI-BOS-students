{
 "cells": [
  {
   "cell_type": "code",
   "execution_count": 96,
   "metadata": {
    "collapsed": false
   },
   "outputs": [],
   "source": [
    "import pandas as pd\n",
    "\n",
    "# REWRITE FOR OBJECTS\n",
    "cheat_sheet = pd.DataFrame(columns = ['function_name', 'function', 'description', 'coding_example'])\n",
    "vocab = {}"
   ]
  },
  {
   "cell_type": "code",
   "execution_count": 97,
   "metadata": {
    "collapsed": false
   },
   "outputs": [],
   "source": [
    "def add_function(function):\n",
    "    function_df = pd.DataFrame([[function[0], function[1], function[2], function[3]]], columns = ['function_name', 'function', 'description', 'coding_example'])\n",
    "    return(cheat_sheet.merge(function_df, how = 'outer'))\n",
    "\n",
    "def add_vocab(description):\n",
    "    string_list = description.split(sep = ':')\n",
    "    vocab[string_list[0]] = string_list[1]"
   ]
  },
  {
   "cell_type": "code",
   "execution_count": 98,
   "metadata": {
    "collapsed": false
   },
   "outputs": [],
   "source": [
    "cheat_sheet = add_function([\"fromkeys\", \n",
    "                            'dict.fromkeys(keys, default_values(optional))', \n",
    "                            \"Creates a dictionary from a list of keys, with optional default values\", \"dict.fromkeys(state_names_list, set())\"\n",
    "                           ])"
   ]
  },
  {
   "cell_type": "code",
   "execution_count": 99,
   "metadata": {
    "collapsed": false
   },
   "outputs": [],
   "source": [
    "cheat_sheet = add_function([\"ix\", \n",
    "                            \"pandas.DataFrame.ix[]\", \n",
    "                            \".ix is the most general indexer and will support any of the inputs in .loc and .iloc. .ix also supports floating point label schemes. .ix is exceptionally useful when dealing with mixed positional and label based hierachical indexes.\", \n",
    "                            \"\"\n",
    "                           ])"
   ]
  },
  {
   "cell_type": "code",
   "execution_count": 100,
   "metadata": {
    "collapsed": true
   },
   "outputs": [],
   "source": [
    "cheat_sheet = add_function([\"pivot_table\", \n",
    "                            \"pd.pivot_table(data, values=None, index=None, columns=None, aggfunc='mean', fill_value=None, margins=False, dropna=True, margins_name='All')\", \n",
    "                            \"Create a spreadsheet-style pivot table as a DataFrame. The levels in the pivot table will be stored in MultiIndex objects (hierarchical indexes) on the index and columns of the result DataFrame\", \n",
    "                            \"\"\n",
    "                           ])"
   ]
  },
  {
   "cell_type": "code",
   "execution_count": 101,
   "metadata": {
    "collapsed": false
   },
   "outputs": [],
   "source": [
    "cheat_sheet = add_function([\"describe\", \n",
    "                            \"Series.describe()\", \n",
    "                            \"Generate various summary statistics, excluding NaN values.\", \n",
    "                            \"data_dataframe['series_name'].describe()\"\n",
    "                           ])"
   ]
  },
  {
   "cell_type": "code",
   "execution_count": 102,
   "metadata": {
    "collapsed": true
   },
   "outputs": [],
   "source": [
    "cheat_sheet = add_function([\"rename\", \n",
    "                            \"pandas.DataFrame.rename(index=None, columns=None, **kwargs)\", \n",
    "                            \"Alter axes input function or functions. Function / dict values must be unique (1-to-1). Labels not contained in a dict / Series will be left as-is. Extra labels listed don’t throw an error. Alternatively, change Series.name with a scalar value (Series only).\", \n",
    "                            \"week_numbers = held_top_spot.columns[7:].str.extract('(\\d\\d?)', expand = True)\"\n",
    "                           ])"
   ]
  },
  {
   "cell_type": "code",
   "execution_count": 103,
   "metadata": {
    "collapsed": true
   },
   "outputs": [],
   "source": [
    "cheat_sheet = add_function([\"value_counts\", \n",
    "                            \"pandas.DataFrame.value_counts()\", \n",
    "                            \"Returns object containing counts of unique values.\", \n",
    "                            \"held_top_spot['genre'].value_counts()\"\n",
    "                           ])"
   ]
  },
  {
   "cell_type": "code",
   "execution_count": 104,
   "metadata": {
    "collapsed": false
   },
   "outputs": [],
   "source": [
    "cheat_sheet = add_function([\"extract\", \n",
    "                            \"pandas.DataFrame.str.extract(pat, flags=0, expand=None)\", \n",
    "                            \"For each subject string in the Series, extract groups from the first match of regular expression pat. Returns a DataFrame with one row for each subject string and one column for each group, or a series if 'expand = True'\", \n",
    "                            \"weeks_timeseries = held_top_spot.columns[7:].str.extract('(\\d\\d?)', expand = True)\"\n",
    "                           ])"
   ]
  },
  {
   "cell_type": "code",
   "execution_count": 105,
   "metadata": {
    "collapsed": true
   },
   "outputs": [],
   "source": [
    "cheat_sheet = add_function([\"corr\", \n",
    "                            \"DataFrame.corr(method='pearson', min_periods=1)\", \n",
    "                            \"Compute pairwise correlation of columns, excluding NA/null values. Returns a dataframe\", \n",
    "                            \"print(sales.corr())\"\n",
    "                           ])"
   ]
  },
  {
   "cell_type": "code",
   "execution_count": 106,
   "metadata": {
    "collapsed": false
   },
   "outputs": [],
   "source": [
    "cheat_sheet = add_function([\"get_dummies\", \n",
    "                            \"pd.get_dummies(data, prefix=None, prefix_sep='_', dummy_na=False, columns=None, sparse=False, drop_first=False)\", \n",
    "                            \"Convert categorical variable into dummy/indicator variables. Returns a dataframe of dummy variabls.\", \n",
    "                            \"dummies = pd.get_dummies(dataframe[feature_name], prefix=category)\"\n",
    "                           ])"
   ]
  },
  {
   "cell_type": "code",
   "execution_count": 107,
   "metadata": {
    "collapsed": true
   },
   "outputs": [],
   "source": [
    "cheat_sheet = add_function([\"sample\", \n",
    "                            \"DataFrame.sample(n=None, frac=None, replace=False, weights=None, random_state=None, axis=None)\", \n",
    "                            \"Returns a random sample of items from an axis of object.\", \n",
    "                            \"sampled_store_numbers = list(data[['Store Number']].sample(frac = 0.1).index)\"\n",
    "                           ])"
   ]
  },
  {
   "cell_type": "code",
   "execution_count": 109,
   "metadata": {
    "collapsed": false
   },
   "outputs": [],
   "source": [
    "add_vocab(\"Linear regression:\")\n",
    "add_vocab(\"Logistic regression:\")\n",
    "add_vocab(\"Dummy variables:\")"
   ]
  },
  {
   "cell_type": "code",
   "execution_count": 112,
   "metadata": {
    "collapsed": false
   },
   "outputs": [],
   "source": [
    "add_vocab('Regularization: The way to prevent overfitting your model to the data.')"
   ]
  },
  {
   "cell_type": "code",
   "execution_count": null,
   "metadata": {
    "collapsed": false
   },
   "outputs": [],
   "source": [
    "add_vocab('Cross validation: A way to test how well your selection of features models the data. The data is divided into sections, ')"
   ]
  },
  {
   "cell_type": "code",
   "execution_count": null,
   "metadata": {
    "collapsed": true
   },
   "outputs": [],
   "source": []
  }
 ],
 "metadata": {
  "anaconda-cloud": {},
  "kernelspec": {
   "display_name": "Python [Root]",
   "language": "python",
   "name": "Python [Root]"
  },
  "language_info": {
   "codemirror_mode": {
    "name": "ipython",
    "version": 3
   },
   "file_extension": ".py",
   "mimetype": "text/x-python",
   "name": "python",
   "nbconvert_exporter": "python",
   "pygments_lexer": "ipython3",
   "version": "3.5.2"
  }
 },
 "nbformat": 4,
 "nbformat_minor": 0
}
