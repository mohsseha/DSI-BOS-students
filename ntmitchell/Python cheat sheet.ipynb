{
 "cells": [
  {
   "cell_type": "code",
   "execution_count": 2,
   "metadata": {
    "collapsed": false
   },
   "outputs": [],
   "source": [
    "import pandas as pd\n",
    "\n",
    "cheat_sheet = pd.DataFrame(columns = ['function_name', 'function', 'description', 'coding_example'])\n",
    "\n",
    "def add_function(function):\n",
    "    function_df = pd.DataFrame([[function[0], function[1], function[2], function[3]]], columns = ['function_name', 'function', 'description', 'coding_example'])\n",
    "    return(cheat_sheet.merge(function_df, how = 'outer'))"
   ]
  },
  {
   "cell_type": "code",
   "execution_count": 3,
   "metadata": {
    "collapsed": false
   },
   "outputs": [],
   "source": [
    "cheat_sheet = add_function([\"fromkeys\", \n",
    "                            'dict.fromkeys(keys, default_values(optional))', \n",
    "                            \"Creates a dictionary from a list of keys, with optional default values\", \"dict.fromkeys(state_names_list, set())\"\n",
    "                           ])"
   ]
  },
  {
   "cell_type": "code",
   "execution_count": 4,
   "metadata": {
    "collapsed": false
   },
   "outputs": [],
   "source": [
    "cheat_sheet = add_function([\"ix\", \n",
    "                            \"pandas.DataFrame.ix[]\", \n",
    "                            \".ix is the most general indexer and will support any of the inputs in .loc and .iloc. .ix also supports floating point label schemes. .ix is exceptionally useful when dealing with mixed positional and label based hierachical indexes.\", \n",
    "                            \"\"\n",
    "                           ])"
   ]
  },
  {
   "cell_type": "code",
   "execution_count": 5,
   "metadata": {
    "collapsed": true
   },
   "outputs": [],
   "source": [
    "cheat_sheet = add_function([\"pivot_table\", \n",
    "                            \"pd.pivot_table(data, values=None, index=None, columns=None, aggfunc='mean', fill_value=None, margins=False, dropna=True, margins_name='All')\", \n",
    "                            \"Create a spreadsheet-style pivot table as a DataFrame. The levels in the pivot table will be stored in MultiIndex objects (hierarchical indexes) on the index and columns of the result DataFrame\", \n",
    "                            \"\"\n",
    "                           ])"
   ]
  },
  {
   "cell_type": "code",
   "execution_count": 6,
   "metadata": {
    "collapsed": false
   },
   "outputs": [],
   "source": [
    "cheat_sheet = add_function([\"describe\", \n",
    "                            \"Series.describe()\", \n",
    "                            \"Generate various summary statistics, excluding NaN values.\", \n",
    "                            \"data_dataframe['series_name'].describe()\"\n",
    "                           ])"
   ]
  },
  {
   "cell_type": "code",
   "execution_count": 7,
   "metadata": {
    "collapsed": true
   },
   "outputs": [],
   "source": [
    "cheat_sheet = add_function([\"rename\", \n",
    "                            \"pandas.DataFrame.rename(index=None, columns=None, **kwargs)\", \n",
    "                            \"Alter axes input function or functions. Function / dict values must be unique (1-to-1). Labels not contained in a dict / Series will be left as-is. Extra labels listed don’t throw an error. Alternatively, change Series.name with a scalar value (Series only).\", \n",
    "                            \"week_numbers = held_top_spot.columns[7:].str.extract('(\\d\\d?)', expand = True)\"\n",
    "                           ])"
   ]
  },
  {
   "cell_type": "code",
   "execution_count": 8,
   "metadata": {
    "collapsed": true
   },
   "outputs": [],
   "source": [
    "cheat_sheet = add_function([\"value_counts\", \n",
    "                            \"pandas.DataFrame.value_counts()\", \n",
    "                            \"Returns object containing counts of unique values.\", \n",
    "                            \"held_top_spot['genre'].value_counts()\"\n",
    "                           ])"
   ]
  },
  {
   "cell_type": "code",
   "execution_count": 9,
   "metadata": {
    "collapsed": false
   },
   "outputs": [],
   "source": [
    "cheat_sheet = add_function([\"extract\", \n",
    "                            \"pandas.DataFrame.str.extract(pat, flags=0, expand=None)\", \n",
    "                            \"For each subject string in the Series, extract groups from the first match of regular expression pat. Returns a DataFrame with one row for each subject string and one column for each group, or a series if 'expand = True'\", \n",
    "                            \"weeks_timeseries = held_top_spot.columns[7:].str.extract('(\\d\\d?)', expand = True)\"\n",
    "                           ])"
   ]
  },
  {
   "cell_type": "code",
   "execution_count": 10,
   "metadata": {
    "collapsed": true
   },
   "outputs": [],
   "source": [
    "cheat_sheet = add_function([\"corr\", \n",
    "                            \"DataFrame.corr(method='pearson', min_periods=1)\", \n",
    "                            \"Compute pairwise correlation of columns, excluding NA/null values. Returns a dataframe\", \n",
    "                            \"print(sales.corr())\"\n",
    "                           ])"
   ]
  },
  {
   "cell_type": "code",
   "execution_count": 11,
   "metadata": {
    "collapsed": false
   },
   "outputs": [],
   "source": [
    "cheat_sheet = add_function([\"get_dummies\", \n",
    "                            \"pd.get_dummies(data, prefix=None, prefix_sep='_', dummy_na=False, columns=None, sparse=False, drop_first=False)\", \n",
    "                            \"Convert categorical variable into dummy/indicator variables. Returns a dataframe of dummy variabls.\", \n",
    "                            \"dummies = pd.get_dummies(dataframe[feature_name], prefix=category)\"\n",
    "                           ])"
   ]
  },
  {
   "cell_type": "code",
   "execution_count": 12,
   "metadata": {
    "collapsed": true
   },
   "outputs": [],
   "source": [
    "cheat_sheet = add_function([\"sample\", \n",
    "                            \"DataFrame.sample(n=None, frac=None, replace=False, weights=None, random_state=None, axis=None)\", \n",
    "                            \"Returns a random sample of items from an axis of object.\", \n",
    "                            \"sampled_store_numbers = list(data[['Store Number']].sample(frac = 0.1).index)\"\n",
    "                           ])"
   ]
  },
  {
   "cell_type": "code",
   "execution_count": 13,
   "metadata": {
    "collapsed": false
   },
   "outputs": [
    {
     "data": {
      "text/html": [
       "<div>\n",
       "<table border=\"1\" class=\"dataframe\">\n",
       "  <thead>\n",
       "    <tr style=\"text-align: right;\">\n",
       "      <th></th>\n",
       "      <th>function_name</th>\n",
       "      <th>function</th>\n",
       "      <th>description</th>\n",
       "      <th>coding_example</th>\n",
       "    </tr>\n",
       "  </thead>\n",
       "  <tbody>\n",
       "    <tr>\n",
       "      <th>0</th>\n",
       "      <td>fromkeys</td>\n",
       "      <td>dict.fromkeys(keys, default_values(optional))</td>\n",
       "      <td>Creates a dictionary from a list of keys, with...</td>\n",
       "      <td>dict.fromkeys(state_names_list, set())</td>\n",
       "    </tr>\n",
       "    <tr>\n",
       "      <th>1</th>\n",
       "      <td>ix</td>\n",
       "      <td>pandas.DataFrame.ix[]</td>\n",
       "      <td>.ix is the most general indexer and will suppo...</td>\n",
       "      <td></td>\n",
       "    </tr>\n",
       "    <tr>\n",
       "      <th>2</th>\n",
       "      <td>pivot_table</td>\n",
       "      <td>pd.pivot_table(data, values=None, index=None, ...</td>\n",
       "      <td>Create a spreadsheet-style pivot table as a Da...</td>\n",
       "      <td></td>\n",
       "    </tr>\n",
       "    <tr>\n",
       "      <th>3</th>\n",
       "      <td>describe</td>\n",
       "      <td>Series.describe()</td>\n",
       "      <td>Generate various summary statistics, excluding...</td>\n",
       "      <td>data_dataframe['series_name'].describe()</td>\n",
       "    </tr>\n",
       "    <tr>\n",
       "      <th>4</th>\n",
       "      <td>rename</td>\n",
       "      <td>pandas.DataFrame.rename(index=None, columns=No...</td>\n",
       "      <td>Alter axes input function or functions. Functi...</td>\n",
       "      <td>week_numbers = held_top_spot.columns[7:].str.e...</td>\n",
       "    </tr>\n",
       "    <tr>\n",
       "      <th>5</th>\n",
       "      <td>value_counts</td>\n",
       "      <td>pandas.DataFrame.value_counts()</td>\n",
       "      <td>Returns object containing counts of unique val...</td>\n",
       "      <td>held_top_spot['genre'].value_counts()</td>\n",
       "    </tr>\n",
       "    <tr>\n",
       "      <th>6</th>\n",
       "      <td>extract</td>\n",
       "      <td>pandas.DataFrame.str.extract(pat, flags=0, exp...</td>\n",
       "      <td>For each subject string in the Series, extract...</td>\n",
       "      <td>weeks_timeseries = held_top_spot.columns[7:].s...</td>\n",
       "    </tr>\n",
       "    <tr>\n",
       "      <th>7</th>\n",
       "      <td>corr</td>\n",
       "      <td>DataFrame.corr(method='pearson', min_periods=1)</td>\n",
       "      <td>Compute pairwise correlation of columns, exclu...</td>\n",
       "      <td>print(sales.corr())</td>\n",
       "    </tr>\n",
       "    <tr>\n",
       "      <th>8</th>\n",
       "      <td>get_dummies</td>\n",
       "      <td>pd.get_dummies(data, prefix=None, prefix_sep='...</td>\n",
       "      <td>Convert categorical variable into dummy/indica...</td>\n",
       "      <td>dummies = pd.get_dummies(dataframe[feature_nam...</td>\n",
       "    </tr>\n",
       "    <tr>\n",
       "      <th>9</th>\n",
       "      <td>sample</td>\n",
       "      <td>DataFrame.sample(n=None, frac=None, replace=Fa...</td>\n",
       "      <td>Returns a random sample of items from an axis ...</td>\n",
       "      <td>sampled_store_numbers = list(data[['Store Numb...</td>\n",
       "    </tr>\n",
       "  </tbody>\n",
       "</table>\n",
       "</div>"
      ],
      "text/plain": [
       "  function_name                                           function  \\\n",
       "0      fromkeys      dict.fromkeys(keys, default_values(optional))   \n",
       "1            ix                              pandas.DataFrame.ix[]   \n",
       "2   pivot_table  pd.pivot_table(data, values=None, index=None, ...   \n",
       "3      describe                                  Series.describe()   \n",
       "4        rename  pandas.DataFrame.rename(index=None, columns=No...   \n",
       "5  value_counts                    pandas.DataFrame.value_counts()   \n",
       "6       extract  pandas.DataFrame.str.extract(pat, flags=0, exp...   \n",
       "7          corr    DataFrame.corr(method='pearson', min_periods=1)   \n",
       "8   get_dummies  pd.get_dummies(data, prefix=None, prefix_sep='...   \n",
       "9        sample  DataFrame.sample(n=None, frac=None, replace=Fa...   \n",
       "\n",
       "                                         description  \\\n",
       "0  Creates a dictionary from a list of keys, with...   \n",
       "1  .ix is the most general indexer and will suppo...   \n",
       "2  Create a spreadsheet-style pivot table as a Da...   \n",
       "3  Generate various summary statistics, excluding...   \n",
       "4  Alter axes input function or functions. Functi...   \n",
       "5  Returns object containing counts of unique val...   \n",
       "6  For each subject string in the Series, extract...   \n",
       "7  Compute pairwise correlation of columns, exclu...   \n",
       "8  Convert categorical variable into dummy/indica...   \n",
       "9  Returns a random sample of items from an axis ...   \n",
       "\n",
       "                                      coding_example  \n",
       "0             dict.fromkeys(state_names_list, set())  \n",
       "1                                                     \n",
       "2                                                     \n",
       "3           data_dataframe['series_name'].describe()  \n",
       "4  week_numbers = held_top_spot.columns[7:].str.e...  \n",
       "5              held_top_spot['genre'].value_counts()  \n",
       "6  weeks_timeseries = held_top_spot.columns[7:].s...  \n",
       "7                                print(sales.corr())  \n",
       "8  dummies = pd.get_dummies(dataframe[feature_nam...  \n",
       "9  sampled_store_numbers = list(data[['Store Numb...  "
      ]
     },
     "execution_count": 13,
     "metadata": {},
     "output_type": "execute_result"
    }
   ],
   "source": [
    "cheat_sheet"
   ]
  },
  {
   "cell_type": "code",
   "execution_count": null,
   "metadata": {
    "collapsed": true
   },
   "outputs": [],
   "source": []
  },
  {
   "cell_type": "code",
   "execution_count": null,
   "metadata": {
    "collapsed": true
   },
   "outputs": [],
   "source": []
  }
 ],
 "metadata": {
  "anaconda-cloud": {},
  "kernelspec": {
   "display_name": "Python [Root]",
   "language": "python",
   "name": "Python [Root]"
  },
  "language_info": {
   "codemirror_mode": {
    "name": "ipython",
    "version": 3
   },
   "file_extension": ".py",
   "mimetype": "text/x-python",
   "name": "python",
   "nbconvert_exporter": "python",
   "pygments_lexer": "ipython3",
   "version": "3.5.2"
  }
 },
 "nbformat": 4,
 "nbformat_minor": 0
}
