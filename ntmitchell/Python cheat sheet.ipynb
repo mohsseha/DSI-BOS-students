{
 "cells": [
  {
   "cell_type": "code",
   "execution_count": 168,
   "metadata": {
    "collapsed": false
   },
   "outputs": [],
   "source": [
    "import pandas as pd\n",
    "\n",
    "cheat_sheet = pd.DataFrame(columns = ['function_name', 'function', 'description', 'coding_example'])\n",
    "\n",
    "def add_function(function):\n",
    "    function_df = pd.DataFrame([[function[0], function[1], function[2], function[3]]], columns = ['function_name', 'function', 'description', 'coding_example'])\n",
    "    return(cheat_sheet.merge(function_df, how = 'outer'))"
   ]
  },
  {
   "cell_type": "code",
   "execution_count": 169,
   "metadata": {
    "collapsed": false
   },
   "outputs": [],
   "source": [
    "cheat_sheet = add_function([\"fromkeys\", \n",
    "                            'dict.fromkeys(keys, default_values(optional))', \n",
    "                            \"Creates a dictionary from a list of keys, with optional default values\", \"dict.fromkeys(state_names_list, set())\"\n",
    "                           ])"
   ]
  },
  {
   "cell_type": "code",
   "execution_count": 170,
   "metadata": {
    "collapsed": false
   },
   "outputs": [],
   "source": [
    "cheat_sheet = add_function([\"value_counts\", \n",
    "                            \"Series.value_counts(normalize=False, sort=True, ascending=False, bins=None, dropna=True)\", \n",
    "                            \"Returns object containing counts of unique values.\", \n",
    "                            \"\"\n",
    "                           ]) "
   ]
  },
  {
   "cell_type": "code",
   "execution_count": 171,
   "metadata": {
    "collapsed": false
   },
   "outputs": [],
   "source": [
    "cheat_sheet = add_function([\"ix\", \n",
    "                            \"pandas.DataFrame.ix[]\", \n",
    "                            \".ix is the most general indexer and will support any of the inputs in .loc and .iloc. .ix also supports floating point label schemes. .ix is exceptionally useful when dealing with mixed positional and label based hierachical indexes.\", \n",
    "                            \"\"\n",
    "                           ])"
   ]
  },
  {
   "cell_type": "code",
   "execution_count": 172,
   "metadata": {
    "collapsed": true
   },
   "outputs": [],
   "source": [
    "cheat_sheet = add_function([\"pivot_table\", \n",
    "                            \"pd.pivot_table(data, values=None, index=None, columns=None, aggfunc='mean', fill_value=None, margins=False, dropna=True, margins_name='All')\", \n",
    "                            \"Create a spreadsheet-style pivot table as a DataFrame. The levels in the pivot table will be stored in MultiIndex objects (hierarchical indexes) on the index and columns of the result DataFrame\", \n",
    "                            \"\"\n",
    "                           ])"
   ]
  },
  {
   "cell_type": "code",
   "execution_count": 173,
   "metadata": {
    "collapsed": true
   },
   "outputs": [],
   "source": [
    "cheat_sheet = add_function([\"describe\", \n",
    "                            \"Series.describe()\", \n",
    "                            \"Generate various summary statistics, excluding NaN values.\", \n",
    "                            \"data_dataframe['series_name'].describe()\"\n",
    "                           ])"
   ]
  },
  {
   "cell_type": "code",
   "execution_count": 174,
   "metadata": {
    "collapsed": false
   },
   "outputs": [
    {
     "data": {
      "text/html": [
       "<div>\n",
       "<table border=\"1\" class=\"dataframe\">\n",
       "  <thead>\n",
       "    <tr style=\"text-align: right;\">\n",
       "      <th></th>\n",
       "      <th>function_name</th>\n",
       "      <th>function</th>\n",
       "      <th>description</th>\n",
       "      <th>coding_example</th>\n",
       "    </tr>\n",
       "  </thead>\n",
       "  <tbody>\n",
       "    <tr>\n",
       "      <th>0</th>\n",
       "      <td>fromkeys</td>\n",
       "      <td>dict.fromkeys(keys, default_values(optional))</td>\n",
       "      <td>Creates a dictionary from a list of keys, with...</td>\n",
       "      <td>dict.fromkeys(state_names_list, set())</td>\n",
       "    </tr>\n",
       "    <tr>\n",
       "      <th>1</th>\n",
       "      <td>value_counts</td>\n",
       "      <td>Series.value_counts(normalize=False, sort=True...</td>\n",
       "      <td>Returns object containing counts of unique val...</td>\n",
       "      <td></td>\n",
       "    </tr>\n",
       "    <tr>\n",
       "      <th>2</th>\n",
       "      <td>ix</td>\n",
       "      <td>pandas.DataFrame.ix[]</td>\n",
       "      <td>.ix is the most general indexer and will suppo...</td>\n",
       "      <td></td>\n",
       "    </tr>\n",
       "    <tr>\n",
       "      <th>3</th>\n",
       "      <td>pivot_table</td>\n",
       "      <td>pd.pivot_table(data, values=None, index=None, ...</td>\n",
       "      <td>Create a spreadsheet-style pivot table as a Da...</td>\n",
       "      <td></td>\n",
       "    </tr>\n",
       "    <tr>\n",
       "      <th>4</th>\n",
       "      <td>describe</td>\n",
       "      <td>Series.describe()</td>\n",
       "      <td>Generate various summary statistics, excluding...</td>\n",
       "      <td>data_dataframe['series_name'].describe()</td>\n",
       "    </tr>\n",
       "  </tbody>\n",
       "</table>\n",
       "</div>"
      ],
      "text/plain": [
       "  function_name                                           function  \\\n",
       "0      fromkeys      dict.fromkeys(keys, default_values(optional))   \n",
       "1  value_counts  Series.value_counts(normalize=False, sort=True...   \n",
       "2            ix                              pandas.DataFrame.ix[]   \n",
       "3   pivot_table  pd.pivot_table(data, values=None, index=None, ...   \n",
       "4      describe                                  Series.describe()   \n",
       "\n",
       "                                         description  \\\n",
       "0  Creates a dictionary from a list of keys, with...   \n",
       "1  Returns object containing counts of unique val...   \n",
       "2  .ix is the most general indexer and will suppo...   \n",
       "3  Create a spreadsheet-style pivot table as a Da...   \n",
       "4  Generate various summary statistics, excluding...   \n",
       "\n",
       "                             coding_example  \n",
       "0    dict.fromkeys(state_names_list, set())  \n",
       "1                                            \n",
       "2                                            \n",
       "3                                            \n",
       "4  data_dataframe['series_name'].describe()  "
      ]
     },
     "execution_count": 174,
     "metadata": {},
     "output_type": "execute_result"
    }
   ],
   "source": [
    "cheat_sheet"
   ]
  },
  {
   "cell_type": "code",
   "execution_count": null,
   "metadata": {
    "collapsed": true
   },
   "outputs": [],
   "source": []
  }
 ],
 "metadata": {
  "anaconda-cloud": {},
  "kernelspec": {
   "display_name": "Python [Root]",
   "language": "python",
   "name": "Python [Root]"
  },
  "language_info": {
   "codemirror_mode": {
    "name": "ipython",
    "version": 3
   },
   "file_extension": ".py",
   "mimetype": "text/x-python",
   "name": "python",
   "nbconvert_exporter": "python",
   "pygments_lexer": "ipython3",
   "version": "3.5.2"
  }
 },
 "nbformat": 4,
 "nbformat_minor": 0
}
