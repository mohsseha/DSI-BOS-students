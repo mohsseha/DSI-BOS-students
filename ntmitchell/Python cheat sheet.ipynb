{
 "cells": [
  {
   "cell_type": "code",
   "execution_count": 33,
   "metadata": {
    "collapsed": false
   },
   "outputs": [],
   "source": [
    "import pandas as pd\n",
    "\n",
    "cheat_sheet = pd.DataFrame(columns = ['function_name', 'function', 'description', 'coding_example'])\n",
    "\n",
    "def add_function(function):\n",
    "    function_df = pd.DataFrame([[function[0], function[1], function[2], function[3]]], columns = ['function_name', 'function', 'description', 'coding_example'])\n",
    "    return(cheat_sheet.merge(function_df, how = 'outer'))"
   ]
  },
  {
   "cell_type": "code",
   "execution_count": 34,
   "metadata": {
    "collapsed": false
   },
   "outputs": [],
   "source": [
    "cheat_sheet = add_function([\"fromkeys\", \n",
    "                            'dict.fromkeys(keys, default_values(optional))', \n",
    "                            \"Creates a dictionary from a list of keys, with optional default values\", \"dict.fromkeys(state_names_list, set())\"\n",
    "                           ])"
   ]
  },
  {
   "cell_type": "code",
   "execution_count": 36,
   "metadata": {
    "collapsed": false
   },
   "outputs": [],
   "source": [
    "cheat_sheet = add_function([\"ix\", \n",
    "                            \"pandas.DataFrame.ix[]\", \n",
    "                            \".ix is the most general indexer and will support any of the inputs in .loc and .iloc. .ix also supports floating point label schemes. .ix is exceptionally useful when dealing with mixed positional and label based hierachical indexes.\", \n",
    "                            \"\"\n",
    "                           ])"
   ]
  },
  {
   "cell_type": "code",
   "execution_count": 37,
   "metadata": {
    "collapsed": true
   },
   "outputs": [],
   "source": [
    "cheat_sheet = add_function([\"pivot_table\", \n",
    "                            \"pd.pivot_table(data, values=None, index=None, columns=None, aggfunc='mean', fill_value=None, margins=False, dropna=True, margins_name='All')\", \n",
    "                            \"Create a spreadsheet-style pivot table as a DataFrame. The levels in the pivot table will be stored in MultiIndex objects (hierarchical indexes) on the index and columns of the result DataFrame\", \n",
    "                            \"\"\n",
    "                           ])"
   ]
  },
  {
   "cell_type": "code",
   "execution_count": 38,
   "metadata": {
    "collapsed": false
   },
   "outputs": [],
   "source": [
    "cheat_sheet = add_function([\"describe\", \n",
    "                            \"Series.describe()\", \n",
    "                            \"Generate various summary statistics, excluding NaN values.\", \n",
    "                            \"data_dataframe['series_name'].describe()\"\n",
    "                           ])"
   ]
  },
  {
   "cell_type": "code",
   "execution_count": 39,
   "metadata": {
    "collapsed": true
   },
   "outputs": [],
   "source": [
    "cheat_sheet = add_function([\"extract\", \n",
    "                            \"pandas.Series.str.extract(pat, flags=0, expand=None)\", \n",
    "                            \"For each subject string in the Series, extract groups from the first match of regular expression pattern.\", \n",
    "                            \"data_dataframe['series_name'].describe()\"\n",
    "                           ])"
   ]
  },
  {
   "cell_type": "code",
   "execution_count": 40,
   "metadata": {
    "collapsed": true
   },
   "outputs": [],
   "source": [
    "cheat_sheet = add_function([\"rename\", \n",
    "                            \"pandas.DataFrame.rename(index=None, columns=None, **kwargs)\", \n",
    "                            \"Alter axes input function or functions. Function / dict values must be unique (1-to-1). Labels not contained in a dict / Series will be left as-is. Extra labels listed don’t throw an error. Alternatively, change Series.name with a scalar value (Series only).\", \n",
    "                            \"week_numbers = held_top_spot.columns[7:].str.extract('(\\d\\d?)', expand = True)\"\n",
    "                           ])"
   ]
  },
  {
   "cell_type": "code",
   "execution_count": 43,
   "metadata": {
    "collapsed": true
   },
   "outputs": [],
   "source": [
    "cheat_sheet = add_function([\"value_counts\", \n",
    "                            \"pandas.DataFrame.value_counts()\", \n",
    "                            \"Returns object containing counts of unique values.\", \n",
    "                            \"held_top_spot['genre'].value_counts()\"\n",
    "                           ])"
   ]
  },
  {
   "cell_type": "code",
   "execution_count": 44,
   "metadata": {
    "collapsed": true
   },
   "outputs": [],
   "source": [
    "cheat_sheet = add_function([\"extract\", \n",
    "                            \"pandas.DataFrame.str.extract(pat, flags=0, expand=None)\", \n",
    "                            \"For each subject string in the Series, extract groups from the first match of regular expression pat. Returns a DataFrame with one row for each subject string and one column for each group, or a series if 'expand = True'\", \n",
    "                            \"weeks_timeseries = held_top_spot.columns[7:].str.extract('(\\d\\d?)', expand = True)\"\n",
    "                           ])"
   ]
  },
  {
   "cell_type": "code",
   "execution_count": 45,
   "metadata": {
    "collapsed": false
   },
   "outputs": [
    {
     "data": {
      "text/html": [
       "<div>\n",
       "<table border=\"1\" class=\"dataframe\">\n",
       "  <thead>\n",
       "    <tr style=\"text-align: right;\">\n",
       "      <th></th>\n",
       "      <th>function_name</th>\n",
       "      <th>function</th>\n",
       "      <th>description</th>\n",
       "      <th>coding_example</th>\n",
       "    </tr>\n",
       "  </thead>\n",
       "  <tbody>\n",
       "    <tr>\n",
       "      <th>0</th>\n",
       "      <td>fromkeys</td>\n",
       "      <td>dict.fromkeys(keys, default_values(optional))</td>\n",
       "      <td>Creates a dictionary from a list of keys, with...</td>\n",
       "      <td>dict.fromkeys(state_names_list, set())</td>\n",
       "    </tr>\n",
       "    <tr>\n",
       "      <th>1</th>\n",
       "      <td>value_counts</td>\n",
       "      <td>Series.value_counts(normalize=False, sort=True...</td>\n",
       "      <td>Returns object containing counts of unique val...</td>\n",
       "      <td></td>\n",
       "    </tr>\n",
       "    <tr>\n",
       "      <th>2</th>\n",
       "      <td>ix</td>\n",
       "      <td>pandas.DataFrame.ix[]</td>\n",
       "      <td>.ix is the most general indexer and will suppo...</td>\n",
       "      <td></td>\n",
       "    </tr>\n",
       "    <tr>\n",
       "      <th>3</th>\n",
       "      <td>pivot_table</td>\n",
       "      <td>pd.pivot_table(data, values=None, index=None, ...</td>\n",
       "      <td>Create a spreadsheet-style pivot table as a Da...</td>\n",
       "      <td></td>\n",
       "    </tr>\n",
       "    <tr>\n",
       "      <th>4</th>\n",
       "      <td>describe</td>\n",
       "      <td>Series.describe()</td>\n",
       "      <td>Generate various summary statistics, excluding...</td>\n",
       "      <td>data_dataframe['series_name'].describe()</td>\n",
       "    </tr>\n",
       "    <tr>\n",
       "      <th>5</th>\n",
       "      <td>extract</td>\n",
       "      <td>pandas.Series.str.extract(pat, flags=0, expand...</td>\n",
       "      <td>For each subject string in the Series, extract...</td>\n",
       "      <td>data_dataframe['series_name'].describe()</td>\n",
       "    </tr>\n",
       "    <tr>\n",
       "      <th>6</th>\n",
       "      <td>rename</td>\n",
       "      <td>pandas.DataFrame.rename(index=None, columns=No...</td>\n",
       "      <td>Alter axes input function or functions. Functi...</td>\n",
       "      <td>week_numbers = held_top_spot.columns[7:].str.e...</td>\n",
       "    </tr>\n",
       "    <tr>\n",
       "      <th>7</th>\n",
       "      <td>value_counts</td>\n",
       "      <td>pandas.DataFrame.value_counts()</td>\n",
       "      <td>Returns object containing counts of unique val...</td>\n",
       "      <td>week_numbers = held_top_spot.columns[7:].str.e...</td>\n",
       "    </tr>\n",
       "    <tr>\n",
       "      <th>8</th>\n",
       "      <td>value_counts</td>\n",
       "      <td>pandas.DataFrame.value_counts()</td>\n",
       "      <td>Returns object containing counts of unique val...</td>\n",
       "      <td>held_top_spot['genre'].value_counts()</td>\n",
       "    </tr>\n",
       "    <tr>\n",
       "      <th>9</th>\n",
       "      <td>extract</td>\n",
       "      <td>pandas.DataFrame.str.extract(pat, flags=0, exp...</td>\n",
       "      <td>For each subject string in the Series, extract...</td>\n",
       "      <td>weeks_timeseries = held_top_spot.columns[7:].s...</td>\n",
       "    </tr>\n",
       "  </tbody>\n",
       "</table>\n",
       "</div>"
      ],
      "text/plain": [
       "  function_name                                           function  \\\n",
       "0      fromkeys      dict.fromkeys(keys, default_values(optional))   \n",
       "1  value_counts  Series.value_counts(normalize=False, sort=True...   \n",
       "2            ix                              pandas.DataFrame.ix[]   \n",
       "3   pivot_table  pd.pivot_table(data, values=None, index=None, ...   \n",
       "4      describe                                  Series.describe()   \n",
       "5       extract  pandas.Series.str.extract(pat, flags=0, expand...   \n",
       "6        rename  pandas.DataFrame.rename(index=None, columns=No...   \n",
       "7  value_counts                    pandas.DataFrame.value_counts()   \n",
       "8  value_counts                    pandas.DataFrame.value_counts()   \n",
       "9       extract  pandas.DataFrame.str.extract(pat, flags=0, exp...   \n",
       "\n",
       "                                         description  \\\n",
       "0  Creates a dictionary from a list of keys, with...   \n",
       "1  Returns object containing counts of unique val...   \n",
       "2  .ix is the most general indexer and will suppo...   \n",
       "3  Create a spreadsheet-style pivot table as a Da...   \n",
       "4  Generate various summary statistics, excluding...   \n",
       "5  For each subject string in the Series, extract...   \n",
       "6  Alter axes input function or functions. Functi...   \n",
       "7  Returns object containing counts of unique val...   \n",
       "8  Returns object containing counts of unique val...   \n",
       "9  For each subject string in the Series, extract...   \n",
       "\n",
       "                                      coding_example  \n",
       "0             dict.fromkeys(state_names_list, set())  \n",
       "1                                                     \n",
       "2                                                     \n",
       "3                                                     \n",
       "4           data_dataframe['series_name'].describe()  \n",
       "5           data_dataframe['series_name'].describe()  \n",
       "6  week_numbers = held_top_spot.columns[7:].str.e...  \n",
       "7  week_numbers = held_top_spot.columns[7:].str.e...  \n",
       "8              held_top_spot['genre'].value_counts()  \n",
       "9  weeks_timeseries = held_top_spot.columns[7:].s...  "
      ]
     },
     "execution_count": 45,
     "metadata": {},
     "output_type": "execute_result"
    }
   ],
   "source": [
    "cheat_sheet.duplicates()"
   ]
  },
  {
   "cell_type": "code",
   "execution_count": null,
   "metadata": {
    "collapsed": true
   },
   "outputs": [],
   "source": []
  },
  {
   "cell_type": "code",
   "execution_count": null,
   "metadata": {
    "collapsed": true
   },
   "outputs": [],
   "source": []
  }
 ],
 "metadata": {
  "anaconda-cloud": {},
  "kernelspec": {
   "display_name": "Python [Root]",
   "language": "python",
   "name": "Python [Root]"
  },
  "language_info": {
   "codemirror_mode": {
    "name": "ipython",
    "version": 3
   },
   "file_extension": ".py",
   "mimetype": "text/x-python",
   "name": "python",
   "nbconvert_exporter": "python",
   "pygments_lexer": "ipython3",
   "version": "3.5.2"
  }
 },
 "nbformat": 4,
 "nbformat_minor": 0
}
