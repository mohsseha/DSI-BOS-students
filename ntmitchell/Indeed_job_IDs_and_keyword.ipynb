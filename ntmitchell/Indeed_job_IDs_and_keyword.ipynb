{
 "cells": [
  {
   "cell_type": "markdown",
   "metadata": {
    "focus": false,
    "id": "69b9a648-bcc7-490d-9f9b-ea244d156bd6"
   },
   "source": [
    "# Web Scraping Indeed.com for job IDs and keyword"
   ]
  },
  {
   "cell_type": "code",
   "execution_count": 1,
   "metadata": {
    "collapsed": true
   },
   "outputs": [],
   "source": [
    "from urllib.request import urlopen\n",
    "from bs4 import BeautifulSoup\n",
    "import pandas as pd"
   ]
  },
  {
   "cell_type": "code",
   "execution_count": 2,
   "metadata": {
    "collapsed": false
   },
   "outputs": [],
   "source": [
    "# String format: \"keyword keyword\"\n",
    "def count_results(query_string = None):\n",
    "    if query_string == None:\n",
    "        return(print(\"No keyword entered.\"))\n",
    "    \n",
    "    job_ids = pd.DataFrame()\n",
    "    \n",
    "    result_list = []\n",
    "        \n",
    "    # Find the number of results\n",
    "    URL_for_count = \"http://www.indeed.com/jobs?q=data+scientist+%28{}%29&l=Boston\".format(query_string)\n",
    "    soup_for_count = BeautifulSoup(urlopen(URL_for_count).read(), 'html.parser')\n",
    "\n",
    "    results_number = soup_for_count.find(\"div\", attrs = {\"id\": \"searchCount\"}).text\n",
    "    number_of_results = int(results_number.split(sep = ' ')[-1].replace(',', ''))\n",
    "\n",
    "    # Now loop through the pages. Viewing 100 results at a time means fewer page refreshes.\n",
    "    i = int(number_of_results/100)\n",
    "    for page_number in range(i + 1):\n",
    "        URL_for_results = \"http://www.indeed.com/jobs?q=data+scientist+%28{}%29&l=Boston&limit=100&start={}\".format(query_string, str(100 * page_number))\n",
    "        soup_for_results = BeautifulSoup(urlopen(URL_for_results).read(), 'html.parser')\n",
    "        results = soup_for_results.find_all('div', attrs={'data-tn-component': 'organicJob'})\n",
    "            \n",
    "        # Extract the ID for each job listing, and include the 'salary_over_X' level\n",
    "        for x in results:\n",
    "            result_list.append([x.find('h2', attrs={\"class\": \"jobtitle\"})['id'], 1])\n",
    "        \n",
    "        # Add the job ID numbers\n",
    "        job_ids = job_ids.append(result_list)\n",
    "    \n",
    "    # Rename job_ids's columns\n",
    "    job_ids.columns = ['id', \"{}\".format(query_string)]\n",
    "    \n",
    "    # Remove re-posted jobs\n",
    "    job_ids.drop_duplicates(inplace = True)\n",
    "    \n",
    "    job_ids.to_csv(path_or_buf=\"id_and_{}.csv\".format(query_string))"
   ]
  },
  {
   "cell_type": "code",
   "execution_count": 3,
   "metadata": {
    "collapsed": false
   },
   "outputs": [
    {
     "name": "stdout",
     "output_type": "stream",
     "text": [
      "No keyword entered.\n"
     ]
    }
   ],
   "source": [
    "count_results()"
   ]
  },
  {
   "cell_type": "code",
   "execution_count": null,
   "metadata": {
    "collapsed": true
   },
   "outputs": [],
   "source": []
  }
 ],
 "metadata": {
  "anaconda-cloud": {},
  "kernelspec": {
   "display_name": "Python [Root]",
   "language": "python",
   "name": "Python [Root]"
  },
  "language_info": {
   "codemirror_mode": {
    "name": "ipython",
    "version": 3
   },
   "file_extension": ".py",
   "mimetype": "text/x-python",
   "name": "python",
   "nbconvert_exporter": "python",
   "pygments_lexer": "ipython3",
   "version": "3.5.2"
  }
 },
 "nbformat": 4,
 "nbformat_minor": 0
}
