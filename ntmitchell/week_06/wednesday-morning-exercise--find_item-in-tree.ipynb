{
 "cells": [
  {
   "cell_type": "code",
   "execution_count": 21,
   "metadata": {
    "collapsed": true
   },
   "outputs": [],
   "source": [
    "tree = {\"node\": 4, \"left\": {\"node\": 1}, \"right\": {\"node\": 7, \"left\": {\"node\": 5},}}"
   ]
  },
  {
   "cell_type": "code",
   "execution_count": 129,
   "metadata": {
    "collapsed": false
   },
   "outputs": [],
   "source": [
    "def find_item(tree, number = None, found = False):\n",
    "        \n",
    "    if \"left\" in tree.keys():\n",
    "        found = find_item(tree['left'], number, found)\n",
    "        \n",
    "    if \"right\" in tree.keys():\n",
    "        found = find_item(tree['right'], number, found)\n",
    "    \n",
    "    if \"node\" in tree.keys() and tree['node'] == number:\n",
    "        found = True\n",
    "    \n",
    "    return found"
   ]
  },
  {
   "cell_type": "code",
   "execution_count": 131,
   "metadata": {
    "collapsed": false
   },
   "outputs": [],
   "source": [
    "def print_results(tree, number):\n",
    "    print(\"{} was {}found.\".format(number, (\"not \", \"\") [find_item(tree, number)])))"
   ]
  },
  {
   "cell_type": "code",
   "execution_count": 142,
   "metadata": {
    "collapsed": false
   },
   "outputs": [
    {
     "name": "stdout",
     "output_type": "stream",
     "text": [
      "True\n",
      "4 was found.\n",
      "False\n",
      "2 was not found.\n"
     ]
    }
   ],
   "source": [
    "print(find_item(tree, 4))\n",
    "print_results(tree, 4)\n",
    "\n",
    "print(find_item(tree, 2))\n",
    "print_results(tree, 2)"
   ]
  },
  {
   "cell_type": "code",
   "execution_count": null,
   "metadata": {
    "collapsed": true
   },
   "outputs": [],
   "source": []
  }
 ],
 "metadata": {
  "anaconda-cloud": {},
  "kernelspec": {
   "display_name": "Python [Root]",
   "language": "python",
   "name": "Python [Root]"
  },
  "language_info": {
   "codemirror_mode": {
    "name": "ipython",
    "version": 3
   },
   "file_extension": ".py",
   "mimetype": "text/x-python",
   "name": "python",
   "nbconvert_exporter": "python",
   "pygments_lexer": "ipython3",
   "version": "3.5.2"
  }
 },
 "nbformat": 4,
 "nbformat_minor": 0
}
