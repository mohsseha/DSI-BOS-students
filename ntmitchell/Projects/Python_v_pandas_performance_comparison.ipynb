{
 "cells": [
  {
   "cell_type": "code",
   "execution_count": 1,
   "metadata": {
    "collapsed": false
   },
   "outputs": [],
   "source": [
    "import matplotlib.pyplot as plt\n",
    "import numpy as np\n",
    "import pandas as pd\n",
    "import random\n",
    "import time\n",
    "\n",
    "%matplotlib inline"
   ]
  },
  {
   "cell_type": "code",
   "execution_count": 2,
   "metadata": {
    "collapsed": false
   },
   "outputs": [],
   "source": [
    "# Used for recording calculation time\n",
    "def test_performance_time(function, number_of_trials):\n",
    "    # Feature for recording calculation time\n",
    "    mean_runtime = []\n",
    "\n",
    "    for _ in range(number_of_trials):\n",
    "        initial_time = time.time()\n",
    "        function\n",
    "        final_time = time.time()\n",
    "        \n",
    "        mean_runtime.append(final_time - initial_time)\n",
    "        \n",
    "    return(np.mean(mean_runtime))"
   ]
  },
  {
   "cell_type": "code",
   "execution_count": 15,
   "metadata": {
    "collapsed": false,
    "scrolled": true
   },
   "outputs": [],
   "source": [
    "def python_mean(numbers):\n",
    "    return (sum(numbers) / len(numbers))\n",
    "\n",
    "def numpy_mean(numbers):\n",
    "    array = np.array(numbers)\n",
    "    return np.mean(array)\n",
    "\n",
    "def pandas_mean(numbers):\n",
    "    dataframe = pd.DataFrame(numbers)\n",
    "\n",
    "    return dataframe.mean()"
   ]
  },
  {
   "cell_type": "code",
   "execution_count": 17,
   "metadata": {
    "collapsed": false
   },
   "outputs": [
    {
     "name": "stdout",
     "output_type": "stream",
     "text": [
      "List size\tPython-based\t\tNumpy-based\t\tPandas-based\n",
      "100: \t2.269744873046875e-07\t1.8405914306640625e-07\t2.422332763671875e-07\n",
      "1000: \t2.6559829711914065e-07\t1.6307830810546876e-07\t2.3531913757324218e-07\n",
      "10000: \t1.857280731201172e-07\t1.6331672668457033e-07\t1.8596649169921876e-07\n"
     ]
    }
   ],
   "source": [
    "number_of_trials = 1000\n",
    "list_size = 100\n",
    "\n",
    "print(\"List size\\tPython-based\\t\\tNumpy-based\\t\\tPandas-based\")\n",
    "\n",
    "for n in range(3):    \n",
    "    random.seed(1)\n",
    "    numbers_list = [random.randrange(1,101,1) for _ in range (list_size * 10 ** n)]\n",
    "\n",
    "    test_list_size = (list_size * 10 ** n)\n",
    "    python_results = test_performance_time(python_mean(numbers_list), number_of_trials)\n",
    "    numpy_results = test_performance_time(numpy_mean(numbers_list), number_of_trials)\n",
    "    pandas_results = test_performance_time(pandas_mean(numbers_list), number_of_trials)\n",
    "    \n",
    "    print(\"{}: \\t{}\\t{}\\t{}\".format(test_list_size, python_results, numpy_results, pandas_results))"
   ]
  },
  {
   "cell_type": "code",
   "execution_count": null,
   "metadata": {
    "collapsed": true
   },
   "outputs": [],
   "source": []
  },
  {
   "cell_type": "code",
   "execution_count": null,
   "metadata": {
    "collapsed": true
   },
   "outputs": [],
   "source": []
  }
 ],
 "metadata": {
  "anaconda-cloud": {},
  "kernelspec": {
   "display_name": "Python [Root]",
   "language": "python",
   "name": "Python [Root]"
  },
  "language_info": {
   "codemirror_mode": {
    "name": "ipython",
    "version": 3
   },
   "file_extension": ".py",
   "mimetype": "text/x-python",
   "name": "python",
   "nbconvert_exporter": "python",
   "pygments_lexer": "ipython3",
   "version": "3.5.2"
  }
 },
 "nbformat": 4,
 "nbformat_minor": 0
}
