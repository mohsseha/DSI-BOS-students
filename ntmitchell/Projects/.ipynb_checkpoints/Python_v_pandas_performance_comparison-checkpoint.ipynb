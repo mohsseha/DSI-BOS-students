{
 "cells": [
  {
   "cell_type": "code",
   "execution_count": 12,
   "metadata": {
    "collapsed": false
   },
   "outputs": [],
   "source": [
    "import matplotlib.pyplot as plt\n",
    "import numpy as np\n",
    "import pandas as pd\n",
    "import random\n",
    "import time\n",
    "\n",
    "%matplotlib inline"
   ]
  },
  {
   "cell_type": "code",
   "execution_count": 13,
   "metadata": {
    "collapsed": false
   },
   "outputs": [],
   "source": [
    "# Function for recording calculation time\n",
    "def test_performance_time(function, number_of_trials):\n",
    "    # Feature for recording calculation time\n",
    "    mean_runtime = []\n",
    "\n",
    "    for _ in range(number_of_trials):\n",
    "        initial_time = time.time()\n",
    "        function\n",
    "        final_time = time.time()\n",
    "        \n",
    "        mean_runtime.append(final_time - initial_time)\n",
    "        \n",
    "    return((np.sum(mean_runtime) / number_of_trials, np.sum(mean_runtime)))"
   ]
  },
  {
   "cell_type": "code",
   "execution_count": 14,
   "metadata": {
    "collapsed": false,
    "scrolled": true
   },
   "outputs": [],
   "source": [
    "def python_mean(numbers):\n",
    "    return (sum(numbers) / len(numbers))\n",
    "\n",
    "def numpy_mean(numbers):\n",
    "    return np.mean(numbers)\n",
    "\n",
    "def pandas_mean(numbers):\n",
    "    dataframe = pd.DataFrame(numbers)\n",
    "    return dataframe.mean()"
   ]
  },
  {
   "cell_type": "code",
   "execution_count": 17,
   "metadata": {
    "collapsed": false
   },
   "outputs": [
    {
     "name": "stdout",
     "output_type": "stream",
     "text": [
      "List size\tPython-based (s)\tNumpy-based (s)\t\tPandas-based (s)\n",
      "100000\t1.7714500427246094e-07\t2.5415420532226564e-07\t1.728534698486328e-07\n",
      "1000000\t1.7333030700683593e-07\t1.7833709716796875e-07\t1.7547607421875e-07\n",
      "10000000\t1.6856193542480468e-07\t1.659393310546875e-07\t1.635551452636719e-07\n",
      "Total computation time: 0.0016293525695800781\n"
     ]
    }
   ],
   "source": [
    "number_of_trials = 1000\n",
    "list_size = 100000\n",
    "total_time = 0\n",
    "\n",
    "print(\"List size\\tPython-based (s)\\tNumpy-based (s)\\t\\tPandas-based (s)\")\n",
    "\n",
    "for n in range(3):    \n",
    "    random.seed(1)\n",
    "    numbers_list = [random.randrange(1,101,1) for _ in range (list_size * 10 ** n)]\n",
    "\n",
    "    test_list_size = (list_size * 10 ** n)\n",
    "    python_results = test_performance_time(python_mean(numbers_list), number_of_trials)\n",
    "    numpy_results = test_performance_time(numpy_mean(np.array(numbers_list)), number_of_trials)\n",
    "    pandas_results = test_performance_time(pandas_mean(pd.DataFrame(numbers_list)), number_of_trials)\n",
    "    total_time += python_results[1] + numpy_results[1] + pandas_results[1]\n",
    "    \n",
    "    print(\"{}\\t{}\\t{}\\t{}\".format(test_list_size, python_results[0], numpy_results[0], pandas_results[0]))\n",
    "\n",
    "print(\"Total computation time: {}\".format(total_time))"
   ]
  },
  {
   "cell_type": "code",
   "execution_count": null,
   "metadata": {
    "collapsed": true
   },
   "outputs": [],
   "source": []
  }
 ],
 "metadata": {
  "anaconda-cloud": {},
  "kernelspec": {
   "display_name": "Python [Root]",
   "language": "python",
   "name": "Python [Root]"
  },
  "language_info": {
   "codemirror_mode": {
    "name": "ipython",
    "version": 3
   },
   "file_extension": ".py",
   "mimetype": "text/x-python",
   "name": "python",
   "nbconvert_exporter": "python",
   "pygments_lexer": "ipython3",
   "version": "3.5.2"
  }
 },
 "nbformat": 4,
 "nbformat_minor": 0
}
