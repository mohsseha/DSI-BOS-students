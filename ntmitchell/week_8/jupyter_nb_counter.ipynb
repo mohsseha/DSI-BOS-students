{
 "cells": [
  {
   "cell_type": "code",
   "execution_count": 2,
   "metadata": {
    "collapsed": false
   },
   "outputs": [
    {
     "name": "stdout",
     "output_type": "stream",
     "text": [
      "\t1\n"
     ]
    }
   ],
   "source": [
    "from sys import stdin\n",
    "\n",
    "def word_counter ():\n",
    "    text_string = \"\"\n",
    "    for line in stdin.readlines():\n",
    "        text_string += line\n",
    "\n",
    "    punctuation = [\",\", \".\", \"!\", \"?\", # pauses and stops\n",
    "                   \" '\", \"' \", u\"\\u201D\", u\"\\u201C\", # quotations\n",
    "                   \"(\", \")\", \"[\", \"]\", \"{\", \"}\", # parenthases, brackets and braces\n",
    "                   \";\", \":\", # colons\n",
    "                   \"\\n\", \"\\t\", # white spaces\n",
    "                   \"*\", \"/\", \" -\", \"#\" # miscellaneous\n",
    "                  ]\n",
    "\n",
    "    string_list = text_string\n",
    "    count_dictionary = {}\n",
    "\n",
    "    # Split the text string according to punctuation, and remove any double spaces\n",
    "    for splitter in punctuation:\n",
    "        string_list = string_list.replace(splitter, \" \").replace(\"  \", \" \")\n",
    "\n",
    "    # Split the string by spaces\n",
    "    split_string_list = string_list.split(\" \")\n",
    "    # Count word frequency\n",
    "    for word in split_string_list:\n",
    "        if word.title() in count_dictionary.keys():\n",
    "            count_dictionary[word.title()] += 1\n",
    "        else:\n",
    "            count_dictionary[word.title()] = 1\n",
    "    if \"\" in count_dictionary.values():\n",
    "        del count_dictionary[\"\"] # Remove blank entries from the count dictionary\n",
    "    if '\"' in count_dictionary.values():\n",
    "        del count_dictionary['\"'] # Remove blank entries from the count dictionary\n",
    "\n",
    "    # Print the dictionary\n",
    "    for word in sorted(count_dictionary.keys()):\n",
    "        print(\"{}\\t{}\".format(word, count_dictionary[word]))\n",
    "\n",
    "if __name__ == '__main__':\n",
    "\n",
    "    word_counter()"
   ]
  },
  {
   "cell_type": "code",
   "execution_count": 4,
   "metadata": {
    "collapsed": false,
    "scrolled": false
   },
   "outputs": [],
   "source": [
    "# UNIT TESTING\n",
    "\n",
    "# word_counter()"
   ]
  },
  {
   "cell_type": "code",
   "execution_count": null,
   "metadata": {
    "collapsed": true
   },
   "outputs": [],
   "source": []
  }
 ],
 "metadata": {
  "anaconda-cloud": {},
  "kernelspec": {
   "display_name": "Python [default]",
   "language": "python",
   "name": "python3"
  },
  "language_info": {
   "codemirror_mode": {
    "name": "ipython",
    "version": 3
   },
   "file_extension": ".py",
   "mimetype": "text/x-python",
   "name": "python",
   "nbconvert_exporter": "python",
   "pygments_lexer": "ipython3",
   "version": "3.5.2"
  }
 },
 "nbformat": 4,
 "nbformat_minor": 2
}
