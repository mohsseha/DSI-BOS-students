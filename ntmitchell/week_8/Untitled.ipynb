{
 "cells": [
  {
   "cell_type": "code",
   "execution_count": 1,
   "metadata": {
    "collapsed": true
   },
   "outputs": [],
   "source": [
    "import foursquare\n",
    "import pandas as pd\n",
    "\n",
    "CLIENT_ID = '1EA0SNPBQPRFRO2DGTSDQ0ZCAGOPTJJ3T1USVOITL43DKGZ0'   # Input your client id/ client secret here\n",
    "CLIENT_SECRET = 'WTLO4D3RR4PNB5ALZN3XSEMWMHLZGLZWEQWKKPSO5LA14SP1'\n",
    "client = foursquare.Foursquare(client_id=CLIENT_ID, client_secret=CLIENT_SECRET)"
   ]
  },
  {
   "cell_type": "code",
   "execution_count": 4,
   "metadata": {
    "collapsed": false
   },
   "outputs": [
    {
     "data": {
      "text/html": [
       "<div>\n",
       "<table border=\"1\" class=\"dataframe\">\n",
       "  <thead>\n",
       "    <tr style=\"text-align: right;\">\n",
       "      <th></th>\n",
       "      <th>id</th>\n",
       "      <th>name</th>\n",
       "      <th>type</th>\n",
       "      <th>address</th>\n",
       "      <th>pricing</th>\n",
       "      <th>rating</th>\n",
       "    </tr>\n",
       "  </thead>\n",
       "  <tbody>\n",
       "    <tr>\n",
       "      <th>0</th>\n",
       "      <td>44cf0ff8f964a5201c361fe3</td>\n",
       "      <td>Boston Public Garden</td>\n",
       "      <td>Garden</td>\n",
       "      <td>9 Arlington St (btwn Beacon &amp; Boylston St), Bo...</td>\n",
       "      <td></td>\n",
       "      <td>9.6</td>\n",
       "    </tr>\n",
       "    <tr>\n",
       "      <th>0</th>\n",
       "      <td>4a7daee1f964a5202aef1fe3</td>\n",
       "      <td>Samuel Adams Brewery</td>\n",
       "      <td>Brewery</td>\n",
       "      <td>30 Germania St (btwn Brookside Ave &amp; Bismark S...</td>\n",
       "      <td>Cheap</td>\n",
       "      <td>9.6</td>\n",
       "    </tr>\n",
       "    <tr>\n",
       "      <th>0</th>\n",
       "      <td>4696393cf964a520e2481fe3</td>\n",
       "      <td>The Esplanade</td>\n",
       "      <td>Park</td>\n",
       "      <td>The Esplanade, Boston, MA 02114, United States</td>\n",
       "      <td></td>\n",
       "      <td>9.6</td>\n",
       "    </tr>\n",
       "    <tr>\n",
       "      <th>0</th>\n",
       "      <td>4283ee00f964a520dd221fe3</td>\n",
       "      <td>Boston Common</td>\n",
       "      <td>Park</td>\n",
       "      <td>Tremont St (btwn Beacon &amp; Charles St), Boston,...</td>\n",
       "      <td></td>\n",
       "      <td>9.6</td>\n",
       "    </tr>\n",
       "    <tr>\n",
       "      <th>0</th>\n",
       "      <td>4a8e279ff964a5201f1220e3</td>\n",
       "      <td>The Rose Kennedy Greenway</td>\n",
       "      <td>Park</td>\n",
       "      <td>Atlantic Ave. (btwn Causeway &amp; Kneeland), Bost...</td>\n",
       "      <td></td>\n",
       "      <td>9.6</td>\n",
       "    </tr>\n",
       "  </tbody>\n",
       "</table>\n",
       "</div>"
      ],
      "text/plain": [
       "                         id                       name     type  \\\n",
       "0  44cf0ff8f964a5201c361fe3       Boston Public Garden   Garden   \n",
       "0  4a7daee1f964a5202aef1fe3       Samuel Adams Brewery  Brewery   \n",
       "0  4696393cf964a520e2481fe3              The Esplanade     Park   \n",
       "0  4283ee00f964a520dd221fe3              Boston Common     Park   \n",
       "0  4a8e279ff964a5201f1220e3  The Rose Kennedy Greenway     Park   \n",
       "\n",
       "                                             address pricing  rating  \n",
       "0  9 Arlington St (btwn Beacon & Boylston St), Bo...             9.6  \n",
       "0  30 Germania St (btwn Brookside Ave & Bismark S...   Cheap     9.6  \n",
       "0     The Esplanade, Boston, MA 02114, United States             9.6  \n",
       "0  Tremont St (btwn Beacon & Charles St), Boston,...             9.6  \n",
       "0  Atlantic Ave. (btwn Causeway & Kneeland), Bost...             9.6  "
      ]
     },
     "execution_count": 4,
     "metadata": {},
     "output_type": "execute_result"
    }
   ],
   "source": [
    "results = client.venues.explore(params = {\"near\": \"Boston, MA\"})[\"groups\"][0][\"items\"]\n",
    "\n",
    "dataframe = pd.DataFrame()\n",
    "for result in results:\n",
    "    place_id = result[\"venue\"][\"id\"]\n",
    "    place_name = result[\"venue\"][\"name\"]\n",
    "    place_type = result[\"venue\"][\"categories\"][0][\"name\"]\n",
    "    address = \", \".join(result[\"venue\"][\"location\"][\"formattedAddress\"])\n",
    "    pricing = result[\"venue\"].get(\"price\", {\"message\": \"\"}).get(\"message\")\n",
    "    rating = result[\"venue\"].get(\"rating\")\n",
    "    \n",
    "    dataframe = dataframe.append([[place_id, \n",
    "                                   place_name, \n",
    "                                   place_type, \n",
    "                                   address,\n",
    "                                   pricing,\n",
    "                                   rating\n",
    "                                  ]])\n",
    "dataframe.columns = [\"id\", \"name\", \"type\", \"address\", \"pricing\", \"rating\"]\n",
    "dataframe.head()"
   ]
  },
  {
   "cell_type": "code",
   "execution_count": 6,
   "metadata": {
    "collapsed": false
   },
   "outputs": [
    {
     "data": {
      "text/plain": [
       "{'reasons': {'count': 0,\n",
       "  'items': [{'reasonName': 'globalInteractionReason',\n",
       "    'summary': 'This spot is popular',\n",
       "    'type': 'general'}]},\n",
       " 'referralId': 'e-0-44cf0ff8f964a5201c361fe3-0',\n",
       " 'tips': [{'agreeCount': 119,\n",
       "   'canonicalUrl': 'https://foursquare.com/item/526828b5498eaa9871375bd2',\n",
       "   'createdAt': 1382557877,\n",
       "   'disagreeCount': 0,\n",
       "   'id': '526828b5498eaa9871375bd2',\n",
       "   'likes': {'count': 119, 'groups': [], 'summary': '119 likes'},\n",
       "   'logView': True,\n",
       "   'photo': {'createdAt': 1382557877,\n",
       "    'height': 1024,\n",
       "    'id': '526828b5498eb9d32c215e71',\n",
       "    'prefix': 'https://irs0.4sqi.net/img/general/',\n",
       "    'source': {'name': 'Foursquare Web', 'url': 'https://foursquare.com'},\n",
       "    'suffix': '/12695702_qb9fb4aNkCrp51DlIbDFUHnaFcToJX05HuGE7UBr0mI.jpg',\n",
       "    'visibility': 'public',\n",
       "    'width': 1024},\n",
       "   'photourl': 'https://irs0.4sqi.net/img/general/original/12695702_qb9fb4aNkCrp51DlIbDFUHnaFcToJX05HuGE7UBr0mI.jpg',\n",
       "   'text': 'When the Red Sox are playing in the World Series, the \"Make Way for Ducklings\" statues are as excited as anyone in Beantown.',\n",
       "   'todo': {'count': 10},\n",
       "   'type': 'user',\n",
       "   'user': {'firstName': 'ESPN',\n",
       "    'gender': 'none',\n",
       "    'id': '12695702',\n",
       "    'photo': {'prefix': 'https://irs0.4sqi.net/img/user/',\n",
       "     'suffix': '/FVNHDLMOZK3SJBUY.jpg'},\n",
       "    'type': 'page'}}],\n",
       " 'venue': {'beenHere': {'count': 0,\n",
       "   'lastCheckinExpiredAt': 0,\n",
       "   'marked': False},\n",
       "  'categories': [{'icon': {'prefix': 'https://ss3.4sqi.net/img/categories_v2/parks_outdoors/garden_',\n",
       "     'suffix': '.png'},\n",
       "    'id': '4bf58dd8d48988d15a941735',\n",
       "    'name': 'Garden',\n",
       "    'pluralName': 'Gardens',\n",
       "    'primary': True,\n",
       "    'shortName': 'Garden'}],\n",
       "  'contact': {'formattedPhone': '(617) 635-4505',\n",
       "   'phone': '6176354505',\n",
       "   'twitter': 'BostonParksDept'},\n",
       "  'hereNow': {'count': 0, 'groups': [], 'summary': 'Nobody here'},\n",
       "  'hours': {'isLocalHoliday': False, 'isOpen': True, 'status': 'Likely open'},\n",
       "  'id': '44cf0ff8f964a5201c361fe3',\n",
       "  'location': {'address': '9 Arlington St',\n",
       "   'cc': 'US',\n",
       "   'city': 'Boston',\n",
       "   'country': 'United States',\n",
       "   'crossStreet': 'btwn Beacon & Boylston St',\n",
       "   'formattedAddress': ['9 Arlington St (btwn Beacon & Boylston St)',\n",
       "    'Boston, MA 02116',\n",
       "    'United States'],\n",
       "   'lat': 42.354012155541135,\n",
       "   'lng': -71.06999306870846,\n",
       "   'postalCode': '02116',\n",
       "   'state': 'MA'},\n",
       "  'name': 'Boston Public Garden',\n",
       "  'photos': {'count': 0, 'groups': []},\n",
       "  'rating': 9.6,\n",
       "  'ratingColor': '00B551',\n",
       "  'ratingSignals': 1289,\n",
       "  'stats': {'checkinsCount': 45595, 'tipCount': 176, 'usersCount': 25084},\n",
       "  'url': 'http://www.cityofboston.gov/parks',\n",
       "  'verified': False}}"
      ]
     },
     "execution_count": 6,
     "metadata": {},
     "output_type": "execute_result"
    }
   ],
   "source": [
    "results[0]"
   ]
  },
  {
   "cell_type": "code",
   "execution_count": null,
   "metadata": {
    "collapsed": true
   },
   "outputs": [],
   "source": []
  }
 ],
 "metadata": {
  "anaconda-cloud": {},
  "kernelspec": {
   "display_name": "Python [default]",
   "language": "python",
   "name": "python3"
  },
  "language_info": {
   "codemirror_mode": {
    "name": "ipython",
    "version": 3
   },
   "file_extension": ".py",
   "mimetype": "text/x-python",
   "name": "python",
   "nbconvert_exporter": "python",
   "pygments_lexer": "ipython3",
   "version": "3.5.2"
  }
 },
 "nbformat": 4,
 "nbformat_minor": 2
}
