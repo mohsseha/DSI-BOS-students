{
 "cells": [
  {
   "cell_type": "markdown",
   "metadata": {},
   "source": [
    "Since production data is annual, **start out** by making annual predictions\n",
    "\n",
    "Also, see what happens when including pre-quota data (with ending stocks)"
   ]
  },
  {
   "cell_type": "code",
   "execution_count": 9,
   "metadata": {
    "collapsed": false
   },
   "outputs": [],
   "source": [
    "from capstone_modules import Production_Data, Temperature_Data, ICO_Composite_Indicator\n",
    "\n",
    "import pandas as pd\n",
    "import numpy as np\n",
    "\n",
    "# from sklearn.ensemble import RandomForestRegressor\n",
    "# from sklearn.linear_model import LinearRegression\n",
    "# from sklearn.metrics import confusion_matrix\n",
    "# from sklearn.model_selection import train_test_split, cross_val_score\n",
    "# from statsmodels.tsa.seasonal import seasonal_decompose  \n",
    "\n",
    "import matplotlib.pyplot as plt\n",
    "import seaborn as sns\n",
    "\n",
    "%matplotlib inline"
   ]
  },
  {
   "cell_type": "code",
   "execution_count": 10,
   "metadata": {
    "collapsed": false
   },
   "outputs": [
    {
     "name": "stdout",
     "output_type": "stream",
     "text": [
      "odict_keys(['lat', 'lon', 'time', 'precip'])\n"
     ]
    }
   ],
   "source": [
    "from netCDF4 import Dataset\n",
    "nc = Dataset(\"../datasets/capstone/downloaded data/precip.mon.total.1x1.v7.nc\", mode='r')\n",
    "print(nc.variables.keys())"
   ]
  },
  {
   "cell_type": "code",
   "execution_count": 18,
   "metadata": {
    "collapsed": false
   },
   "outputs": [
    {
     "name": "stdout",
     "output_type": "stream",
     "text": [
      "[ 28.65999985  23.82999992  20.54999924 ...,  83.01000214  63.74000168\n",
      "  86.69999695]\n"
     ]
    }
   ],
   "source": [
    "raw_data = np.array(nc.variables['precip'])\n",
    "print(raw_data[:, 26, 36])\n",
    "\n",
    "# fh.variables[\"precip\"][:].data\n",
    "# pd.read_hdf(\"../datasets/capstone/downloaded data/precip.mon.total.1x1.v7.nc\", key=\"variables\")"
   ]
  },
  {
   "cell_type": "code",
   "execution_count": null,
   "metadata": {
    "collapsed": true
   },
   "outputs": [],
   "source": []
  },
  {
   "cell_type": "code",
   "execution_count": null,
   "metadata": {
    "collapsed": true
   },
   "outputs": [],
   "source": []
  }
 ],
 "metadata": {
  "anaconda-cloud": {},
  "kernelspec": {
   "display_name": "Python [conda root]",
   "language": "python",
   "name": "conda-root-py"
  },
  "language_info": {
   "codemirror_mode": {
    "name": "ipython",
    "version": 3
   },
   "file_extension": ".py",
   "mimetype": "text/x-python",
   "name": "python",
   "nbconvert_exporter": "python",
   "pygments_lexer": "ipython3",
   "version": "3.5.2"
  }
 },
 "nbformat": 4,
 "nbformat_minor": 0
}
