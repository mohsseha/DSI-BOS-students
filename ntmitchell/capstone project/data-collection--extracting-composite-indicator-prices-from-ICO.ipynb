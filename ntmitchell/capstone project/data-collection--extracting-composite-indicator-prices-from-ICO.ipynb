{
 "cells": [
  {
   "cell_type": "code",
   "execution_count": 1,
   "metadata": {
    "collapsed": true
   },
   "outputs": [],
   "source": [
    "import pandas as pd\n",
    "import numpy as np\n",
    "import matplotlib.pyplot as plt\n",
    "\n",
    "%matplotlib inline"
   ]
  },
  {
   "cell_type": "code",
   "execution_count": 2,
   "metadata": {
    "collapsed": false
   },
   "outputs": [],
   "source": [
    "raw_data = pd.read_excel(\"../datasets/capstone/downloaded data/ICO-composite-indicator-prices-1990-2016--3c - Indicator prices.xlsx\", skiprows = 3)\n"
   ]
  },
  {
   "cell_type": "code",
   "execution_count": 3,
   "metadata": {
    "collapsed": false
   },
   "outputs": [],
   "source": [
    "# Remove unnecessary top and bottom rows\n",
    "data = raw_data[1:-1].reset_index(drop = True).copy()\n",
    "\n",
    "# Create a temporary year column\n",
    "data[\"Year\"] = data[\"Unnamed: 0\"].apply(pd.to_numeric, errors = 'coerce')\n",
    "\n",
    "# Pad missing year values\n",
    "non_year_rows = (data[\"Year\"] % 1) != 0\n",
    "for row in data.index:\n",
    "    if non_year_rows[row]:\n",
    "        data.ix[row, \"Year\"] = data.ix[row - 1, \"Year\"]\n",
    "        \n",
    "# Rewrite the first column into a datetime-like format\n",
    "data[\"Unnamed: 0\"] = data[\"Year\"].astype(int).astype(str) + \"-\" + data[\"Unnamed: 0\"] + \"-01\"\n",
    "\n",
    "# Convert the first column into datetime data\n",
    "data[\"Unnamed: 0\"] = pd.to_datetime(data[\"Unnamed: 0\"], errors = 'coerce')\n",
    "\n",
    "# Clean up: change date values, remove null values, unnecessary columns, and the time index name\n",
    "data = data.dropna()\n",
    "data = data.drop(\"Year\", axis = 1)\n",
    "data = data.set_index(\"Unnamed: 0\")\n",
    "del data.index.name\n",
    "data = data.resample(\"M\").bfill()\n",
    "data = data.shift()\n",
    "\n",
    "data.columns = ['ICO Composite Indicator', 'Colombian Milds', 'Other Milds', 'Brazilian Naturals', 'Robustas']\n",
    "# data.columns = [column_name.replace(\"\\n\",\"\") for column_name in data.columns]"
   ]
  },
  {
   "cell_type": "code",
   "execution_count": 4,
   "metadata": {
    "collapsed": false
   },
   "outputs": [],
   "source": [
    "data.to_csv(\"../datasets/capstone/ICO composite indicator prices 1990-2016.csv\")"
   ]
  },
  {
   "cell_type": "code",
   "execution_count": null,
   "metadata": {
    "collapsed": false
   },
   "outputs": [],
   "source": []
  }
 ],
 "metadata": {
  "anaconda-cloud": {},
  "kernelspec": {
   "display_name": "Python [default]",
   "language": "python",
   "name": "python3"
  },
  "language_info": {
   "codemirror_mode": {
    "name": "ipython",
    "version": 3
   },
   "file_extension": ".py",
   "mimetype": "text/x-python",
   "name": "python",
   "nbconvert_exporter": "python",
   "pygments_lexer": "ipython3",
   "version": "3.5.2"
  }
 },
 "nbformat": 4,
 "nbformat_minor": 2
}
