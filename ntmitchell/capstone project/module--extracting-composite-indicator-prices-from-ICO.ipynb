{
 "cells": [
  {
   "cell_type": "code",
   "execution_count": 1,
   "metadata": {
    "collapsed": true
   },
   "outputs": [],
   "source": [
    "import pandas as pd\n",
    "import numpy as np\n",
    "import matplotlib.pyplot as plt\n",
    "\n",
    "%matplotlib inline"
   ]
  },
  {
   "cell_type": "code",
   "execution_count": 2,
   "metadata": {
    "collapsed": false
   },
   "outputs": [],
   "source": [
    "raw_data = pd.read_excel(\"../datasets/capstone/downloaded data/ICO-composite-indicator-prices-1990-2016--3c - Indicator prices.xlsx\", skiprows = 3)\n"
   ]
  },
  {
   "cell_type": "code",
   "execution_count": 3,
   "metadata": {
    "collapsed": false
   },
   "outputs": [],
   "source": [
    "data = raw_data[1:-1].reset_index(drop = True).copy()\n",
    "data[\"Time\"] = data[\"Unnamed: 0\"].apply(pd.to_numeric, errors = 'coerce')\n",
    "non_year_rows = (data[\"Time\"] % 1) != 0\n",
    "for row in data.index:\n",
    "    if non_year_rows[row]:\n",
    "        data.ix[row, \"Time\"] = data.ix[row - 1, \"Time\"]\n",
    "data.drop(~ non_year_rows, inplace = True)\n",
    "data = data.dropna()\n"
   ]
  },
  {
   "cell_type": "code",
   "execution_count": 4,
   "metadata": {
    "collapsed": false
   },
   "outputs": [],
   "source": [
    "# pd.to_datetime(data[\"Time\"].astype(int).astype(str) + \", \" + data[\"Unnamed: 0\"] + \", 1\")"
   ]
  },
  {
   "cell_type": "code",
   "execution_count": null,
   "metadata": {
    "collapsed": true
   },
   "outputs": [],
   "source": []
  }
 ],
 "metadata": {
  "kernelspec": {
   "display_name": "Python [default]",
   "language": "python",
   "name": "python3"
  },
  "language_info": {
   "codemirror_mode": {
    "name": "ipython",
    "version": 3
   },
   "file_extension": ".py",
   "mimetype": "text/x-python",
   "name": "python",
   "nbconvert_exporter": "python",
   "pygments_lexer": "ipython3",
   "version": "3.5.2"
  }
 },
 "nbformat": 4,
 "nbformat_minor": 2
}
