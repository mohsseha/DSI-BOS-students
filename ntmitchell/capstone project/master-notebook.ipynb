{
 "cells": [
  {
   "cell_type": "markdown",
   "metadata": {},
   "source": [
    "## Notes\n",
    "\n",
    "* Try making a target column based on daily changes of the ICO composite index. Use a threshold (e.g., changes greater than ±10%); base this threshold on volatility or standard deviation.\n",
    "* For all factors, provide a country weight based on previous production output.\n",
    "* __In effect I am trying to predict production numbers__, since the ICO composite indicator index is a weighted sum of individual country data"
   ]
  },
  {
   "cell_type": "code",
   "execution_count": 1,
   "metadata": {
    "collapsed": false
   },
   "outputs": [],
   "source": [
    "import pandas as pd\n",
    "import datetime\n",
    "\n",
    "from capstone_modules import Production_Data\n",
    "\n",
    "from statsmodels.tsa.seasonal import seasonal_decompose\n",
    "\n",
    "import matplotlib.pyplot as plt\n",
    "import seaborn as sns\n",
    "\n",
    "%matplotlib inline"
   ]
  },
  {
   "cell_type": "markdown",
   "metadata": {},
   "source": [
    "### Coffee production data"
   ]
  },
  {
   "cell_type": "code",
   "execution_count": 3,
   "metadata": {
    "collapsed": false
   },
   "outputs": [
    {
     "data": {
      "text/plain": [
       "['Robustas']"
      ]
     },
     "execution_count": 3,
     "metadata": {},
     "output_type": "execute_result"
    }
   ],
   "source": [
    "data = Production_Data()\n",
    "brazil_data = data.get_production_data(\"Brazilian Naturals\")\n",
    "brazil_data[brazil_data[\"Country\"] == \"Brazil\"].head()\n",
    "data.find_ICO_category_of_country(\"Sri Lanka\")"
   ]
  },
  {
   "cell_type": "code",
   "execution_count": null,
   "metadata": {
    "collapsed": false
   },
   "outputs": [],
   "source": [
    "# Import data from CSV created in module\n",
    "ICO_country_classifications = pd.read_csv(\"../datasets/capstone/ICO composite indicator index country classification.csv\")\n",
    "ICO_country_classifications.columns = [\"Country\", \"Brazilian Naturals\",\"Colombian Milds\",\"Other Milds\", \"Robustas\"]\n",
    "\n",
    "# Split into dataframes of country names\n",
    "brazlian_naturals_countries = ICO_country_classifications[ICO_country_classifications[\"Brazilian Naturals\"]][[\"Country\"]]\n",
    "colombian_milds_countries = ICO_country_classifications[ICO_country_classifications[\"Colombian Milds\"]][[\"Country\"]]\n",
    "other_milds_countries = ICO_country_classifications[ICO_country_classifications[\"Other Milds\"]][[\"Country\"]]\n",
    "robustas_countries = ICO_country_classifications[ICO_country_classifications[\"Robustas\"]][[\"Country\"]]"
   ]
  },
  {
   "cell_type": "markdown",
   "metadata": {
    "collapsed": true
   },
   "source": [
    "### Import temperature data"
   ]
  },
  {
   "cell_type": "code",
   "execution_count": null,
   "metadata": {
    "collapsed": false
   },
   "outputs": [],
   "source": [
    "temperature_data = pd.read_csv(\"../datasets/capstone/temperature-in-coffee-growing-regions--from-berkeley-earth.csv\")\n",
    "temperature_data[\"Unnamed: 0\"] = pd.to_datetime(temperature_data[\"Unnamed: 0\"].values)\n",
    "temperature_data.index = temperature_data[\"Unnamed: 0\"].values"
   ]
  },
  {
   "cell_type": "code",
   "execution_count": null,
   "metadata": {
    "collapsed": true
   },
   "outputs": [],
   "source": []
  },
  {
   "cell_type": "code",
   "execution_count": null,
   "metadata": {
    "collapsed": false
   },
   "outputs": [],
   "source": [
    "minimum_temperatures_by_country = temperature_data.pivot_table(values = \"Temperature (C)\", index = temperature_data.index, columns = \"Country\", aggfunc='min')\n"
   ]
  },
  {
   "cell_type": "code",
   "execution_count": null,
   "metadata": {
    "collapsed": false
   },
   "outputs": [],
   "source": [
    "minimum_temperatures_by_country[minimum_temperatures_by_country.index.year > 1989][\"Brazil\"].plot()\n",
    "plt.title(\"Temperatures in Brazil\")\n",
    "plt.show()"
   ]
  },
  {
   "cell_type": "code",
   "execution_count": null,
   "metadata": {
    "collapsed": false
   },
   "outputs": [],
   "source": [
    "brazil_temperature_seasonal_decomp = seasonal_decompose(minimum_temperatures_by_country[\"Brazil\"], freq = 12)\n",
    "\n",
    "brazil_temperature_seasonal_decomp.plot()\n",
    "plt.title(\"Seasonal decomposition for temperatures in Brazil\")\n",
    "plt.show()"
   ]
  },
  {
   "cell_type": "code",
   "execution_count": null,
   "metadata": {
    "collapsed": false,
    "scrolled": false
   },
   "outputs": [],
   "source": [
    "seasonal_decompose(brazil_temperature_seasonal_decomp.resid.fillna(0), freq = 12).plot()\n",
    "plt.title(\"Seasonal decomposition of residual on Brazil temperatures\")\n",
    "plt.show()"
   ]
  },
  {
   "cell_type": "markdown",
   "metadata": {},
   "source": [
    "### Importing ICO composite index prices"
   ]
  },
  {
   "cell_type": "code",
   "execution_count": null,
   "metadata": {
    "collapsed": false
   },
   "outputs": [],
   "source": [
    "raw_ICO_index_data = pd.read_csv(\"../datasets/capstone/us_monthlycommoditypriceaverages_03927558512071.csv\", encoding = \"ISO-8859-1\", header = 1)"
   ]
  },
  {
   "cell_type": "code",
   "execution_count": null,
   "metadata": {
    "collapsed": false,
    "scrolled": false
   },
   "outputs": [],
   "source": [
    "ICO_index_data = raw_ICO_index_data.copy()\n",
    "ICO_index_data = ICO_index_data.drop(labels = 0).T\n",
    "ICO_index_data.rename(columns = ICO_index_data.loc[\"PERIOD\", :], inplace = True)\n",
    "ICO_index_data = ICO_index_data.drop(labels = [\"PERIOD\"])\n",
    "ICO_index_data = ICO_index_data.apply(pd.to_numeric, errors = 'coerce')\n",
    "ICO_index_data[\"time\"] = pd.to_datetime(ICO_index_data.index.values, format = \"%b%Y\")"
   ]
  },
  {
   "cell_type": "code",
   "execution_count": null,
   "metadata": {
    "collapsed": false
   },
   "outputs": [],
   "source": [
    "ICO_index_data.plot(figsize=(16,8))\n",
    "sns.plt.show()"
   ]
  },
  {
   "cell_type": "code",
   "execution_count": null,
   "metadata": {
    "collapsed": false,
    "scrolled": false
   },
   "outputs": [],
   "source": [
    "ICO_index_since_1989_data = ICO_index_data[ICO_index_data[\"time\"] > datetime.date(1988,12,31)]\n",
    "ICO_index_since_1989_data.index = ICO_index_since_1989_data[\"time\"].values\n",
    "ICO_index_since_1989_data = ICO_index_since_1989_data.drop(\"time\", axis = 1)"
   ]
  },
  {
   "cell_type": "code",
   "execution_count": null,
   "metadata": {
    "collapsed": true
   },
   "outputs": [],
   "source": []
  }
 ],
 "metadata": {
  "anaconda-cloud": {},
  "kernelspec": {
   "display_name": "Python [conda root]",
   "language": "python",
   "name": "conda-root-py"
  },
  "language_info": {
   "codemirror_mode": {
    "name": "ipython",
    "version": 3
   },
   "file_extension": ".py",
   "mimetype": "text/x-python",
   "name": "python",
   "nbconvert_exporter": "python",
   "pygments_lexer": "ipython3",
   "version": "3.5.2"
  }
 },
 "nbformat": 4,
 "nbformat_minor": 0
}
