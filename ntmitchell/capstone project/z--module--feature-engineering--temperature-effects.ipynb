{
 "cells": [
  {
   "cell_type": "code",
   "execution_count": 2,
   "metadata": {
    "collapsed": true
   },
   "outputs": [],
   "source": [
    "import pandas as pd\n",
    "import numpy as np\n",
    "import matplotlib.pyplot as plt\n",
    "import seaborn as sns\n",
    "\n",
    "%matplotlib inline"
   ]
  },
  {
   "cell_type": "markdown",
   "metadata": {},
   "source": [
    "### Finding the coffee production schedule"
   ]
  },
  {
   "cell_type": "code",
   "execution_count": 3,
   "metadata": {
    "collapsed": false,
    "scrolled": false
   },
   "outputs": [
    {
     "data": {
      "text/html": [
       "<div>\n",
       "<table border=\"1\" class=\"dataframe\">\n",
       "  <thead>\n",
       "    <tr style=\"text-align: right;\">\n",
       "      <th></th>\n",
       "      <th>Producing Country</th>\n",
       "      <th>Coffee Type</th>\n",
       "      <th>Harvest Begins</th>\n",
       "      <th>Harvest Ends</th>\n",
       "      <th>Year-round Harvest</th>\n",
       "    </tr>\n",
       "  </thead>\n",
       "  <tbody>\n",
       "    <tr>\n",
       "      <th>0</th>\n",
       "      <td>Angola</td>\n",
       "      <td>Arabica</td>\n",
       "      <td>April</td>\n",
       "      <td>June</td>\n",
       "      <td>False</td>\n",
       "    </tr>\n",
       "    <tr>\n",
       "      <th>1</th>\n",
       "      <td>Angola</td>\n",
       "      <td>Robusta</td>\n",
       "      <td>May</td>\n",
       "      <td>September</td>\n",
       "      <td>False</td>\n",
       "    </tr>\n",
       "    <tr>\n",
       "      <th>2</th>\n",
       "      <td>Benin</td>\n",
       "      <td>Robusta</td>\n",
       "      <td>November</td>\n",
       "      <td>February</td>\n",
       "      <td>False</td>\n",
       "    </tr>\n",
       "    <tr>\n",
       "      <th>3</th>\n",
       "      <td>Bolivia</td>\n",
       "      <td>Arabica</td>\n",
       "      <td>April</td>\n",
       "      <td>August</td>\n",
       "      <td>False</td>\n",
       "    </tr>\n",
       "    <tr>\n",
       "      <th>4</th>\n",
       "      <td>Borneo</td>\n",
       "      <td>Arabica</td>\n",
       "      <td>June</td>\n",
       "      <td>December</td>\n",
       "      <td>False</td>\n",
       "    </tr>\n",
       "    <tr>\n",
       "      <th>5</th>\n",
       "      <td>Borneo</td>\n",
       "      <td>Robusta</td>\n",
       "      <td>May</td>\n",
       "      <td>December</td>\n",
       "      <td>False</td>\n",
       "    </tr>\n",
       "    <tr>\n",
       "      <th>6</th>\n",
       "      <td>Brazil</td>\n",
       "      <td>Arabica</td>\n",
       "      <td>April</td>\n",
       "      <td>September</td>\n",
       "      <td>False</td>\n",
       "    </tr>\n",
       "    <tr>\n",
       "      <th>7</th>\n",
       "      <td>Brazil</td>\n",
       "      <td>Robusta</td>\n",
       "      <td>April</td>\n",
       "      <td>September</td>\n",
       "      <td>False</td>\n",
       "    </tr>\n",
       "  </tbody>\n",
       "</table>\n",
       "</div>"
      ],
      "text/plain": [
       "  Producing Country Coffee Type Harvest Begins Harvest Ends Year-round Harvest\n",
       "0            Angola     Arabica         April          June              False\n",
       "1            Angola     Robusta            May    September              False\n",
       "2             Benin     Robusta      November      February              False\n",
       "3           Bolivia     Arabica         April        August              False\n",
       "4            Borneo     Arabica          June      December              False\n",
       "5            Borneo     Robusta           May      December              False\n",
       "6            Brazil     Arabica         April     September              False\n",
       "7            Brazil     Robusta         April     September              False"
      ]
     },
     "execution_count": 3,
     "metadata": {},
     "output_type": "execute_result"
    }
   ],
   "source": [
    "# unformatted_coffee_production_seasons = pd.read_csv(\"../datasets/capstone/Coffee Producing Countries and Their Harvest Seasons.csv\")\n",
    "\n",
    "# coffee_production_seasons = pd.DataFrame()\n",
    "\n",
    "# for i, row in enumerate(unformatted_coffee_production_seasons.index):\n",
    "#     if unformatted_coffee_production_seasons[\"Producing Country\"].isnull().loc[row]:\n",
    "#         unformatted_coffee_production_seasons.loc[row, \"Producing Country\"] = unformatted_coffee_production_seasons.ix[i - 1, \"Producing Country\"]\n",
    "\n",
    "# coffee_production_seasons = pd.concat(objs = [unformatted_coffee_production_seasons, \n",
    "#                   unformatted_coffee_production_seasons[\"Harvest Season\"].str.split(\"-\", expand = True)\n",
    "#                  ], axis = 1)\n",
    "\n",
    "# coffee_production_seasons.columns = [\"Producing Country\", \n",
    "#                                      \"Coffee Type\", \n",
    "#                                      \"Harvest Season\", \n",
    "#                                      \"Harvest Begins\", \n",
    "#                                      \"Harvest Ends\", \n",
    "#                                      \"Year-round Harvest\"]\n",
    "\n",
    "# for row in coffee_production_seasons[~ coffee_production_seasons[\"Year-round Harvest\"].isnull()].index:\n",
    "#     coffee_production_seasons.iloc[row, 3] = coffee_production_seasons.iloc[row, 4].replace(\"Peak \", \"\")\n",
    "#     coffee_production_seasons.iloc[row, 4] = coffee_production_seasons.iloc[row, 5]\n",
    "#     coffee_production_seasons.iloc[row, 5] = True\n",
    "    \n",
    "# coffee_production_seasons.loc[:, \"Year-round Harvest\"] = coffee_production_seasons[\"Year-round Harvest\"].map({None: False, True: True})\n",
    "\n",
    "# coffee_production_seasons.drop(\"Harvest Season\", axis = 1, inplace = True)\n",
    "\n",
    "# coffee_production_seasons.to_csv(\"../datasets/capstone/coffee harvest schedule.csv\")\n",
    "\n",
    "coffee_harvest_schedule = pd.read_csv(\"../datasets/capstone/coffee harvest schedule.csv\", index_col = 0)\n",
    "coffee_harvest_schedule.head(8)"
   ]
  },
  {
   "cell_type": "markdown",
   "metadata": {},
   "source": [
    "### Defining functions"
   ]
  },
  {
   "cell_type": "code",
   "execution_count": 4,
   "metadata": {
    "collapsed": false
   },
   "outputs": [],
   "source": [
    "# Determining seasons by month\n",
    "def get_season (month, hemisphere = None):\n",
    "    northern_hemisphere_seasons = {1: 'Winter', 2: 'Winter', 3: 'Winter', 4: 'Spring', 5: 'Spring', 6: 'Spring', 7: 'Summer', 8: 'Summer', 9: 'Summer', 10: 'Fall', 11: 'Fall', 12: 'Fall'}\n",
    "    southern_hemisphere_seasons = {7: 'Winter', 8: 'Winter', 9: 'Winter', 10: 'Spring', 11: 'Spring', 12: 'Spring', 1: 'Summer', 2: 'Summer', 3: 'Summer', 4: 'Fall', 5: 'Fall', 6: 'Fall'}\n",
    "\n",
    "    if hemisphere.lower() == \"northern\":\n",
    "        season = northern_hemisphere_seasons[month]\n",
    "    elif hemisphere.lower() == \"southern\":\n",
    "        season = southern_hemisphere_seasons[month]\n",
    "    \n",
    "    return season"
   ]
  },
  {
   "cell_type": "code",
   "execution_count": 5,
   "metadata": {
    "collapsed": true
   },
   "outputs": [],
   "source": [
    "# Converting date fraction to datetime\n",
    "def convert_date_fraction_series_to_datetime(series = None):\n",
    "    \n",
    "    # Separate month decimal and year\n",
    "    month_decimal = np.mod(series, 1)\n",
    "    year = (series - month_decimal).astype(int)\n",
    "    \n",
    "    # Convert month decimal to month integer (1 = January, 2 = February, etc.)\n",
    "    month = np.round(12 * month_decimal + 0.5).astype(int)\n",
    "    \n",
    "    # Concatenate the values together into a string\n",
    "    date = year.astype(str) + \"-\" + month.astype(str) + \"-01\"\n",
    "    \n",
    "    # Convert the date strings into datetime values\n",
    "    series = pd.to_datetime(date, yearfirst = True)\n",
    "    \n",
    "    return series"
   ]
  },
  {
   "cell_type": "markdown",
   "metadata": {},
   "source": [
    "### Selecting weather stations by growing conditions"
   ]
  },
  {
   "cell_type": "code",
   "execution_count": 6,
   "metadata": {
    "collapsed": false,
    "scrolled": true
   },
   "outputs": [],
   "source": [
    "raw_station_data = pd.read_csv(\"../datasets/capstone/berkeley_earth_stations--site_detail.txt\", \n",
    "                               delimiter = \"\\t\", \n",
    "                               skiprows =148, \n",
    "                               names = [\"Station ID\", \n",
    "                                        \"Station Name\", \n",
    "                                        \"Latitude\", \n",
    "                                        \"Longitude\", \n",
    "                                        \"Elevation (m)\", \n",
    "                                        \"Lat. Uncertainty\", \n",
    "                                        \"Long. Uncertainty\", \n",
    "                                        \"Elev. Uncertainty (m)\", \n",
    "                                        \"Country\", \n",
    "                                        \"State / Province Code\", \n",
    "                                        \"County\", \n",
    "                                        \"Time Zone\", \n",
    "                                        \"WMO ID\", \n",
    "                                        \"Coop ID\", \n",
    "                                        \"WBAN ID\", \n",
    "                                        \"ICAO ID\", \n",
    "                                        \"# of Relocations\", \n",
    "                                        \"# Suggested Relocations\", \n",
    "                                        \"# of Sources\", \n",
    "                                        \"Hash\"])"
   ]
  },
  {
   "cell_type": "markdown",
   "metadata": {},
   "source": [
    "### Cleaning station data"
   ]
  },
  {
   "cell_type": "code",
   "execution_count": 7,
   "metadata": {
    "collapsed": false,
    "scrolled": false
   },
   "outputs": [],
   "source": [
    "station_data = raw_station_data.copy()\n",
    "\n",
    "# Select only relevant columns\n",
    "station_data = station_data[[\"Station ID\", \"Station Name\", \"Latitude\", \"Longitude\", \"Elevation (m)\", \"Lat. Uncertainty\", \"Long. Uncertainty\", \"Elev. Uncertainty (m)\", \"Country\"]]\n",
    "\n",
    "# Convert values in numerical columns\n",
    "numeric_columns_in_stations_data = [\"Latitude\", \"Longitude\", \"Elevation (m)\", \"Lat. Uncertainty\", \"Long. Uncertainty\", \"Elev. Uncertainty (m)\"]\n",
    "station_data.loc[:, numeric_columns_in_stations_data] = station_data[numeric_columns_in_stations_data].apply(pd.to_numeric, errors = 'coerce')\n",
    "\n",
    "# Remove whitespace from non-numerical columns\n",
    "station_data.loc[:, \"Station Name\"] = station_data[\"Station Name\"].str.strip()\n",
    "station_data.loc[:, \"Country\"] = station_data[\"Country\"].str.strip()\n",
    "\n",
    "stations_in_coffee_producing_countries = station_data[station_data[\"Country\"].isin(coffee_harvest_schedule[\"Producing Country\"])]\n",
    "\n",
    "hemisphere_dictionary = (station_data.groupby(by = \"Country\")[\"Latitude\"].mean() > 0).map({True: \"Northern\", False: \"Southern\"}).to_dict()\n"
   ]
  },
  {
   "cell_type": "code",
   "execution_count": null,
   "metadata": {
    "collapsed": false
   },
   "outputs": [],
   "source": [
    "# Arabica grows best in elevations 548 m – 1100 m for latitudes between 16° and 24°, or 1097 m – 1920 m for latitudes less that ±10°\n",
    "arabica_growing_conditions_criteria = (stations_in_coffee_producing_countries[\"Elevation (m)\"] >= 548) & (stations_in_coffee_producing_countries[\"Elevation (m)\"] <= 1100) & (stations_in_coffee_producing_countries[\"Latitude\"].abs() > 16) & (stations_in_coffee_producing_countries[\"Latitude\"].abs() <= 24)\n",
    "arabica_growing_conditions_criteria = arabica_growing_conditions_criteria | ((stations_in_coffee_producing_countries[\"Elevation (m)\"] >= 1097) & (stations_in_coffee_producing_countries[\"Elevation (m)\"] <= 1920) & (stations_in_coffee_producing_countries[\"Latitude\"].abs() <= 10))\n",
    "\n",
    "# Robusta grows best in elevations 0 m – 914 m in latitudes between ±10°\n",
    "robusta_growing_conditions_criteria = (stations_in_coffee_producing_countries[\"Elevation (m)\"] <= 914) & (stations_in_coffee_producing_countries[\"Latitude\"].abs() <= 10)\n",
    "\n",
    "# Select the stations in the ideal coffee growing regions\n",
    "stations_in_arabica_conditions = stations_in_coffee_producing_countries[arabica_growing_conditions_criteria][\"Station ID\"]\n",
    "stations_in_robusta_conditions = stations_in_coffee_producing_countries[robusta_growing_conditions_criteria][\"Station ID\"]\n",
    "\n",
    "stations_in_arabica_conditions_dictionary = dict.fromkeys(stations_in_arabica_conditions.values, True)\n",
    "stations_in_robusta_conditions_dictionary = dict.fromkeys(stations_in_robusta_conditions.values, True)\n"
   ]
  },
  {
   "cell_type": "markdown",
   "metadata": {},
   "source": [
    "### Importing weather data"
   ]
  },
  {
   "cell_type": "code",
   "execution_count": null,
   "metadata": {
    "collapsed": false
   },
   "outputs": [],
   "source": [
    "# Import raw temperature data from Berkeley Earth\n",
    "raw_temperature_data = pd.read_csv(\"../datasets/capstone/berkeley_earth -- data.txt\", \n",
    "            delimiter = \"\\t\",  \n",
    "            skiprows = 111, \n",
    "            names = [\"Station ID\", \n",
    "                     \"Series Number\", \n",
    "                     \"Date\", \n",
    "                     \"Temperature (C)\", \n",
    "                     \"Uncertainty (C)\", \n",
    "                     \"Observations\", \n",
    "                     \"Time of Observation\"])"
   ]
  },
  {
   "cell_type": "markdown",
   "metadata": {},
   "source": [
    "### Cleaning weather data"
   ]
  },
  {
   "cell_type": "code",
   "execution_count": null,
   "metadata": {
    "collapsed": false,
    "scrolled": false
   },
   "outputs": [],
   "source": [
    "temperatures_for_all_stations = raw_temperature_data.copy()\n",
    "\n",
    "# Remove unnecessary labels\n",
    "temperatures_for_all_stations.drop(labels = [\"Series Number\", \"Uncertainty (C)\", \"Observations\", \"Time of Observation\"], axis = 1, inplace = True)\n",
    "\n",
    "# Select the temperature data for stations in coffee growing regions, and add country names\n",
    "temperatures_for_coffee_producing_countries = temperatures_for_all_stations[temperatures_for_all_stations[\"Station ID\"].isin(stations_in_coffee_producing_countries[\"Station ID\"])]\n",
    "temperatures_for_coffee_producing_countries = stations_in_coffee_producing_countries[[\"Station ID\", \"Country\"]].merge(temperatures_for_coffee_producing_countries, on = \"Station ID\")\n",
    "\n",
    "# Add columns indicating each station's hemisphere (for seasonality calculations later)\n",
    "temperatures_for_coffee_producing_countries[\"Hemisphere\"] = temperatures_for_coffee_producing_countries[\"Country\"].map(hemisphere_dictionary)\n",
    "\n",
    "# Designate stations in areas that grow arabica and robusta coffee\n",
    "temperatures_for_coffee_producing_countries[\"Arabica Production\"] = temperatures_for_coffee_producing_countries[\"Station ID\"].map(stations_in_arabica_conditions_dictionary)\n",
    "temperatures_for_coffee_producing_countries[\"Robusta Production\"] = temperatures_for_coffee_producing_countries[\"Station ID\"].map(stations_in_robusta_conditions_dictionary)\n",
    "temperatures_for_coffee_producing_countries = temperatures_for_coffee_producing_countries.fillna(False)\n",
    "\n",
    "# Keep the stations in areas that grow arabica or robusta coffee\n",
    "temperature_data = temperatures_for_coffee_producing_countries[\n",
    "    temperatures_for_coffee_producing_countries[\"Arabica Production\"]\n",
    "    | temperatures_for_coffee_producing_countries[\"Robusta Production\"]]\n",
    "\n",
    "# Drop the Station ID column since it's no longer needed\n",
    "temperature_data.drop(\"Station ID\", axis = 1, inplace = True)\n",
    "\n",
    "# Convert dates to datetime values\n",
    "temperature_data.loc[:, \"Date\"] = convert_date_fraction_series_to_datetime(temperature_data[\"Date\"])\n",
    "\n",
    "# Index by date\n",
    "temperature_data.index = temperature_data[\"Date\"].values\n",
    "temperature_data = temperature_data.sort_index()\n",
    "temperature_data = temperature_data.drop(\"Date\", axis = 1)\n",
    "\n",
    "# Add seasons columns\n",
    "temperature_data[\"Season\"] = temperature_data.index.month\n",
    "temperature_data.loc[temperature_data[\"Hemisphere\"] == \"Northern\", \"Season\"] = temperature_data[temperature_data[\"Hemisphere\"] == \"Northern\"][\"Season\"].apply(lambda x: get_season(x, hemisphere = \"Northern\"))\n",
    "temperature_data.loc[temperature_data[\"Hemisphere\"] == \"Southern\", \"Season\"] = temperature_data[temperature_data[\"Hemisphere\"] == \"Southern\"][\"Season\"].apply(lambda x: get_season(x, hemisphere = \"Southern\"))\n"
   ]
  },
  {
   "cell_type": "markdown",
   "metadata": {},
   "source": [
    "### Exporting final temperatures dataframe"
   ]
  },
  {
   "cell_type": "code",
   "execution_count": null,
   "metadata": {
    "collapsed": false
   },
   "outputs": [],
   "source": [
    "temperature_data_since_1990 = temperature_data[temperature_data.index.year > 1989]\n",
    "\n",
    "# temperature_data_since_1990.to_csv(\"../datasets/capstone/temperature-in-coffee-growing-regions-since-1990--from-berkeley-earth.csv\")"
   ]
  },
  {
   "cell_type": "code",
   "execution_count": null,
   "metadata": {
    "collapsed": false
   },
   "outputs": [],
   "source": [
    "temperature_data_since_1990[\"Temperature (C)\"].hist()\n",
    "plt.show()"
   ]
  },
  {
   "cell_type": "code",
   "execution_count": null,
   "metadata": {
    "collapsed": false
   },
   "outputs": [],
   "source": [
    "temperature_data_since_1990[temperature_data_since_1990[\"Season\"] == \"Winter\"][\"Temperature (C)\"].hist()"
   ]
  },
  {
   "cell_type": "code",
   "execution_count": null,
   "metadata": {
    "collapsed": false
   },
   "outputs": [],
   "source": [
    "temperature_data_since_1990[temperature_data_since_1990[\"Season\"] != \"Winter\"].sort_values(by = \"Temperature (C)\")\n",
    "(1 / temperature_data_since_1990[temperature_data_since_1990[\"Season\"] != \"Winter\"][\"Temperature (C)\"] ** 2).plot()\n",
    "plt.show()"
   ]
  },
  {
   "cell_type": "markdown",
   "metadata": {},
   "source": [
    "Set the frost predictor cutoff to 0.02 (7 °C, or 45°F)"
   ]
  },
  {
   "cell_type": "code",
   "execution_count": null,
   "metadata": {
    "collapsed": false,
    "scrolled": false
   },
   "outputs": [],
   "source": [
    "temperature_data[(temperature_data.index.year == 1994) & (temperature_data.index.month == 7)].sort_values(by = \"Temperature (C)\")"
   ]
  },
  {
   "cell_type": "code",
   "execution_count": null,
   "metadata": {
    "collapsed": false
   },
   "outputs": [],
   "source": [
    "(1 / temperature_data_since_1990[temperature_data_since_1990[\"Season\"] != \"Winter\"][\"Temperature (C)\"] ** 2)"
   ]
  },
  {
   "cell_type": "code",
   "execution_count": null,
   "metadata": {
    "collapsed": true
   },
   "outputs": [],
   "source": []
  }
 ],
 "metadata": {
  "anaconda-cloud": {},
  "kernelspec": {
   "display_name": "Python [conda root]",
   "language": "python",
   "name": "conda-root-py"
  },
  "language_info": {
   "codemirror_mode": {
    "name": "ipython",
    "version": 3
   },
   "file_extension": ".py",
   "mimetype": "text/x-python",
   "name": "python",
   "nbconvert_exporter": "python",
   "pygments_lexer": "ipython3",
   "version": "3.5.2"
  }
 },
 "nbformat": 4,
 "nbformat_minor": 0
}
