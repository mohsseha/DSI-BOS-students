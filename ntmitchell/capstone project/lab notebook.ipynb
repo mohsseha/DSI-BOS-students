{
 "cells": [
  {
   "cell_type": "markdown",
   "metadata": {},
   "source": [
    "What are my targets, exactly?\n",
    "* KC price or actual import price?\n",
    "\n",
    "What are my features?\n",
    "* Weather (up to harvest season)\n",
    "* Grower economic forecast\n",
    "* Grower political forecast (risk analysis)\n"
   ]
  },
  {
   "cell_type": "markdown",
   "metadata": {
    "collapsed": true
   },
   "source": [
    "Would it be better to track coffee ETFs based on physical commodities, or would futures be OK?\n",
    "\n",
    "If tracking futures, don't those funds have access to the same information I do? Essentially, wouldn't I be reverse-engineering those funds? (If bad weather is in the news, the futures price goes up and my model tracks up too.) JO:US"
   ]
  },
  {
   "cell_type": "code",
   "execution_count": 2,
   "metadata": {
    "collapsed": true
   },
   "outputs": [],
   "source": [
    "from urllib.request import urlopen\n",
    "from bs4 import BeautifulSoup\n",
    "import pandas as pd"
   ]
  },
  {
   "cell_type": "code",
   "execution_count": 3,
   "metadata": {
    "collapsed": false
   },
   "outputs": [
    {
     "data": {
      "text/plain": [
       "['dataset', 'datasetName', 'stub', 'filter', 'keys', 'data', 'header']"
      ]
     },
     "execution_count": 3,
     "metadata": {},
     "output_type": "execute_result"
    }
   ],
   "source": [
    "# pd.read_html(io = \"https://en.wikipedia.org/wiki/List_of_countries_by_coffee_production\", header = 0)[0]\n",
    "import json\n",
    "import requests\n",
    "\n",
    "data_json = json.loads(requests.get(\"https://knoema.com/api/1.0/data/UNCTADFMCPI2015Aug?time=1979M10-2016M11&commodity=1000260,1000250,1000240,1000230,1000220,1000210,1000200,1000190&frequencies=M\").text)\n",
    "list(data_json.keys())"
   ]
  },
  {
   "cell_type": "code",
   "execution_count": 15,
   "metadata": {
    "collapsed": false
   },
   "outputs": [],
   "source": [
    "# pd.DataFrame(data_json[\"data\"], columns=[x[\"label\"] for x in data_json[\"fields\"]])\n",
    "values_from_data = [data_json[\"data\"][i][\"Value\"] for i in range(len(data_json[\"data\"]))]\n",
    "times_from_data = [data_json[\"data\"][i][\"Time\"] for i in range(len(data_json[\"data\"]))]\n",
    "data_indexes = data_json[\"header\"][0][\"members\"]"
   ]
  },
  {
   "cell_type": "code",
   "execution_count": 18,
   "metadata": {
    "collapsed": false
   },
   "outputs": [
    {
     "ename": "TypeError",
     "evalue": "'zip' object is not subscriptable",
     "output_type": "error",
     "traceback": [
      "\u001b[0;31m---------------------------------------------------------------------------\u001b[0m",
      "\u001b[0;31mTypeError\u001b[0m                                 Traceback (most recent call last)",
      "\u001b[0;32m<ipython-input-18-b7a02f01817d>\u001b[0m in \u001b[0;36m<module>\u001b[0;34m()\u001b[0m\n\u001b[0;32m----> 1\u001b[0;31m \u001b[0mzip\u001b[0m\u001b[0;34m(\u001b[0m\u001b[0mdata_indexes\u001b[0m\u001b[0;34m,\u001b[0m \u001b[0mvalues_from_data\u001b[0m\u001b[0;34m)\u001b[0m\u001b[0;34m[\u001b[0m\u001b[0;36m0\u001b[0m\u001b[0;34m]\u001b[0m\u001b[0;34m\u001b[0m\u001b[0m\n\u001b[0m",
      "\u001b[0;31mTypeError\u001b[0m: 'zip' object is not subscriptable"
     ]
    }
   ],
   "source": []
  },
  {
   "cell_type": "code",
   "execution_count": null,
   "metadata": {
    "collapsed": false
   },
   "outputs": [],
   "source": []
  },
  {
   "cell_type": "code",
   "execution_count": 20,
   "metadata": {
    "collapsed": false
   },
   "outputs": [],
   "source": [
    "# %%html\n",
    "# <iframe src=\"https://knoema.com/resource/embed/UNCTADFMCPI2015Aug\" allowtransparency=\"true\" scrolling=\"no\" frameborder=\"0\" style=\"height:900px;width:940px;min-width:560px;\"></iframe>"
   ]
  },
  {
   "cell_type": "code",
   "execution_count": null,
   "metadata": {
    "collapsed": true
   },
   "outputs": [],
   "source": []
  }
 ],
 "metadata": {
  "anaconda-cloud": {},
  "kernelspec": {
   "display_name": "Python [Root]",
   "language": "python",
   "name": "Python [Root]"
  },
  "language_info": {
   "codemirror_mode": {
    "name": "ipython",
    "version": 3
   },
   "file_extension": ".py",
   "mimetype": "text/x-python",
   "name": "python",
   "nbconvert_exporter": "python",
   "pygments_lexer": "ipython3",
   "version": "3.5.2"
  }
 },
 "nbformat": 4,
 "nbformat_minor": 0
}
