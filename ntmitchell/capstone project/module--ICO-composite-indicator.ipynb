{
 "cells": [
  {
   "cell_type": "code",
   "execution_count": 8,
   "metadata": {
    "collapsed": true
   },
   "outputs": [],
   "source": [
    "import pandas\n"
   ]
  },
  {
   "cell_type": "code",
   "execution_count": 9,
   "metadata": {
    "collapsed": false
   },
   "outputs": [],
   "source": [
    "class ICO_Composite_Indicator(object):\n",
    "    ICO_indicator_data = pandas.DataFrame()\n",
    "    ICO_categories = [\"Brazilian Naturals\", \"Colombian Milds\", \"Other Milds\", \"Robustas\"]\n",
    "    countries_in_ICO_category = dict.fromkeys(ICO_categories, None)\n",
    "    \n",
    "    def __init__(self):\n",
    "        # Import ICO classifications\n",
    "        ICO_country_classifications = pandas.read_csv(\"../datasets/capstone/ICO composite indicator index country classification.csv\")\n",
    "        ICO_country_classifications.columns = [\"Country\", \"Brazilian Naturals\",\"Colombian Milds\",\"Other Milds\", \"Robustas\"]\n",
    "\n",
    "        for category in self.ICO_categories:\n",
    "            temp_dataframe = ICO_country_classifications[ICO_country_classifications[category]][[\"Country\"]]\n",
    "            self.countries_in_ICO_category[category] = temp_dataframe[\"Country\"].unique().tolist()\n",
    "        \n",
    "        # Import temperature data\n",
    "        self.ICO_indicator_data = pandas.read_csv(\"../datasets/capstone/ICO composite indicator prices 1990-2016.csv\")\n",
    "\n",
    "        # Format temperature data\n",
    "        self.ICO_indicator_data[\"Unnamed: 0\"] = pandas.to_datetime(self.ICO_indicator_data[\"Unnamed: 0\"])\n",
    "        self.ICO_indicator_data.set_index(\"Unnamed: 0\", inplace = True)\n",
    "        del self.ICO_indicator_data.index.name\n",
    "\n",
    "        \n",
    "    def find_ICO_category_of_country(self, country_name = None):\n",
    "        categories = list()\n",
    "        for ICO_category in self.countries_in_ICO_category.keys():\n",
    "            if country_name in self.countries_in_ICO_category[ICO_category]:\n",
    "                categories.append(ICO_category)\n",
    "        return categories    \n",
    "        \n",
    "    def get_countries_in_ICO_category(self, ICO_category = \"Brazilian Naturals\"):\n",
    "        return self.countries_in_ICO_category[ICO_category]\n",
    "    \n",
    "    def ICO_indicator_data_by_ICO_category(self, ICO_category = \"Brazilian Naturals\"):\n",
    "        return self.ICO_indicator_data[ICO_category]\n",
    "    \n",
    "    def ICO_composite_indicator_data(self, ICO_category = \"Brazilian Naturals\"):\n",
    "        return self.ICO_indicator_data[ICO_category]\n",
    "    "
   ]
  },
  {
   "cell_type": "code",
   "execution_count": 13,
   "metadata": {
    "collapsed": false
   },
   "outputs": [
    {
     "data": {
      "text/plain": [
       "<bound method ICO_Composite_Indicator.ICO_composite_indicator_data of <__main__.ICO_Composite_Indicator object at 0x10bb02be0>>"
      ]
     },
     "execution_count": 13,
     "metadata": {},
     "output_type": "execute_result"
    }
   ],
   "source": [
    "data = ICO_Composite_Indicator()\n",
    "data.ICO_composite_indicator_data"
   ]
  },
  {
   "cell_type": "code",
   "execution_count": null,
   "metadata": {
    "collapsed": true
   },
   "outputs": [],
   "source": []
  }
 ],
 "metadata": {
  "anaconda-cloud": {},
  "kernelspec": {
   "display_name": "Python [default]",
   "language": "python",
   "name": "python3"
  },
  "language_info": {
   "codemirror_mode": {
    "name": "ipython",
    "version": 3
   },
   "file_extension": ".py",
   "mimetype": "text/x-python",
   "name": "python",
   "nbconvert_exporter": "python",
   "pygments_lexer": "ipython3",
   "version": "3.5.2"
  }
 },
 "nbformat": 4,
 "nbformat_minor": 2
}
