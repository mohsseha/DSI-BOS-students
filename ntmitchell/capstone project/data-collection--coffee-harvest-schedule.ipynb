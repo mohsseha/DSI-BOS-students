{
 "cells": [
  {
   "cell_type": "code",
   "execution_count": 1,
   "metadata": {
    "collapsed": true
   },
   "outputs": [],
   "source": [
    "import pandas as pd"
   ]
  },
  {
   "cell_type": "markdown",
   "metadata": {},
   "source": [
    "### Finding the coffee production schedule"
   ]
  },
  {
   "cell_type": "code",
   "execution_count": 2,
   "metadata": {
    "collapsed": false,
    "scrolled": false
   },
   "outputs": [],
   "source": [
    "unformatted_coffee_production_seasons = pd.read_csv(\"../datasets/capstone/downloaded data/Coffee Producing Countries and Their Harvest Seasons.csv\")\n",
    "\n",
    "coffee_production_seasons = pd.DataFrame()\n",
    "\n",
    "for i, row in enumerate(unformatted_coffee_production_seasons.index):\n",
    "    if unformatted_coffee_production_seasons[\"Producing Country\"].isnull().loc[row]:\n",
    "        unformatted_coffee_production_seasons.loc[row, \"Producing Country\"] = unformatted_coffee_production_seasons.ix[i - 1, \"Producing Country\"]\n",
    "\n",
    "coffee_production_seasons = pd.concat(objs = [unformatted_coffee_production_seasons, \n",
    "                  unformatted_coffee_production_seasons[\"Harvest Season\"].str.split(\"-\", expand = True)\n",
    "                 ], axis = 1)\n",
    "\n",
    "coffee_production_seasons.columns = [\"Producing Country\", \n",
    "                                     \"Coffee Type\", \n",
    "                                     \"Harvest Season\", \n",
    "                                     \"Harvest Begins\", \n",
    "                                     \"Harvest Ends\", \n",
    "                                     \"Year-round Harvest\"]\n",
    "\n",
    "# Correct the misspelling of Colombia\n",
    "coffee_production_seasons.ix[14, \"Producing Country\"] = \"Colombia\"\n",
    "\n",
    "for row in coffee_production_seasons[~ coffee_production_seasons[\"Year-round Harvest\"].isnull()].index:\n",
    "    coffee_production_seasons.iloc[row, 3] = coffee_production_seasons.iloc[row, 4].replace(\"Peak \", \"\")\n",
    "    coffee_production_seasons.iloc[row, 4] = coffee_production_seasons.iloc[row, 5]\n",
    "    coffee_production_seasons.iloc[row, 5] = True\n",
    "    \n",
    "coffee_production_seasons.loc[:, \"Year-round Harvest\"] = coffee_production_seasons[\"Year-round Harvest\"].map({None: False, True: True})\n",
    "\n",
    "coffee_production_seasons.drop(\"Harvest Season\", axis = 1, inplace = True)\n",
    "\n",
    "coffee_production_seasons[\"Harvest Begins\"] = coffee_production_seasons[\"Harvest Begins\"].str.strip()\n",
    "coffee_production_seasons[\"Harvest Ends\"] = coffee_production_seasons[\"Harvest Ends\"].str.strip()\n",
    "\n",
    "# Impute ending months for Sri Lanka harvest based on harvest duration of similar countries (Ethiopia and Vietnam)\n",
    "coffee_production_seasons.ix[54:55, \"Harvest Ends\"] = \"October\"\n",
    "\n",
    "# Robusta harvest months for Panama, Papua New Guinea, Kenya, Colombia, Peru, Costa Rica, and Burundi, \n",
    "# but robusta production in these countries is negligible\n",
    "\n",
    "import calendar\n",
    "month_to_integer_dictionary = {name: num for num, name in enumerate(calendar.month_name) if num}\n",
    "coffee_production_seasons[\"Harvest Begins\"] = coffee_production_seasons[\"Harvest Begins\"].map(month_to_integer_dictionary)\n",
    "coffee_production_seasons[\"Harvest Ends\"] = coffee_production_seasons[\"Harvest Ends\"].map(month_to_integer_dictionary)\n",
    "\n",
    "coffee_production_seasons = pd.concat([coffee_production_seasons, pd.get_dummies(coffee_production_seasons[\"Coffee Type\"])], axis = 1)\n",
    "coffee_production_seasons[\"Arabica\"] = coffee_production_seasons[\"Arabica\"].map({1: True, 0: False})\n",
    "coffee_production_seasons[\"Robusta\"] = coffee_production_seasons[\"Robusta\"].map({1: True, 0: False})\n",
    "coffee_production_seasons.drop(\"Coffee Type\", axis = 1, inplace = True)\n"
   ]
  },
  {
   "cell_type": "code",
   "execution_count": 3,
   "metadata": {
    "collapsed": false
   },
   "outputs": [],
   "source": [
    "coffee_production_seasons.to_csv(\"../datasets/capstone/coffee harvest schedule.csv\")"
   ]
  },
  {
   "cell_type": "code",
   "execution_count": null,
   "metadata": {
    "collapsed": true
   },
   "outputs": [],
   "source": []
  }
 ],
 "metadata": {
  "anaconda-cloud": {},
  "kernelspec": {
   "display_name": "Python [conda root]",
   "language": "python",
   "name": "conda-root-py"
  },
  "language_info": {
   "codemirror_mode": {
    "name": "ipython",
    "version": 3
   },
   "file_extension": ".py",
   "mimetype": "text/x-python",
   "name": "python",
   "nbconvert_exporter": "python",
   "pygments_lexer": "ipython3",
   "version": "3.5.2"
  }
 },
 "nbformat": 4,
 "nbformat_minor": 0
}
