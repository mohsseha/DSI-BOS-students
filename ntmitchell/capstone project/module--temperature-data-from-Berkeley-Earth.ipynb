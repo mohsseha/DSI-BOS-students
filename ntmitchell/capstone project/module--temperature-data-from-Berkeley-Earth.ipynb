{
 "cells": [
  {
   "cell_type": "code",
   "execution_count": 1,
   "metadata": {
    "collapsed": true
   },
   "outputs": [],
   "source": [
    "import pandas\n"
   ]
  },
  {
   "cell_type": "code",
   "execution_count": 2,
   "metadata": {
    "collapsed": false
   },
   "outputs": [],
   "source": [
    "class Temperature_Data(object):\n",
    "    temperature_data = pandas.DataFrame()\n",
    "    ICO_categories = [\"Brazilian Naturals\", \"Colombian Milds\", \"Other Milds\", \"Robustas\"]\n",
    "    countries_in_ICO_category = dict.fromkeys(ICO_categories, None)\n",
    "    \n",
    "    def __init__(self):\n",
    "        # Import ICO classifications\n",
    "        ICO_country_classifications = pandas.read_csv(\"../datasets/capstone/ICO composite indicator index country classification.csv\")\n",
    "        ICO_country_classifications.columns = [\"Country\", \"Brazilian Naturals\",\"Colombian Milds\",\"Other Milds\", \"Robustas\"]\n",
    "\n",
    "        for category in self.ICO_categories:\n",
    "            temp_dataframe = ICO_country_classifications[ICO_country_classifications[category]][[\"Country\"]]\n",
    "            self.countries_in_ICO_category[category] = temp_dataframe[\"Country\"].unique().tolist()\n",
    "        \n",
    "        # Import temperature data\n",
    "        self.temperature_data = pandas.read_csv(\"../datasets/capstone/temperature-in-coffee-growing-regions--from-berkeley-earth.csv\")\n",
    "\n",
    "        # Format temperature data\n",
    "        self.temperature_data.sort_values(by = \"Date\")\n",
    "        self.temperature_data[\"Date\"] = pandas.to_datetime(self.temperature_data[\"Date\"])\n",
    "        self.temperature_data.set_index(\"Date\", inplace = True)\n",
    "        del self.temperature_data.index.name\n",
    "\n",
    "        \n",
    "    def find_ICO_category_of_country(self, country_name = None):\n",
    "        categories = list()\n",
    "        for ICO_category in self.countries_in_ICO_category.keys():\n",
    "            if country_name in self.countries_in_ICO_category[ICO_category]:\n",
    "                categories.append(ICO_category)\n",
    "        return categories    \n",
    "        \n",
    "    def list_countries_in_ICO_category(self, ICO_category = \"Brazilian Naturals\"):\n",
    "        return self.countries_in_ICO_category[ICO_category]\n",
    "    \n",
    "    def get_temperature_data_by_ICO_category(self, ICO_category = \"Brazilian Naturals\"):\n",
    "        results_dataframe = self.temperature_data[self.temperature_data[\"Country\"].isin(self.countries_in_ICO_category[ICO_category])]\n",
    "        if ICO_category != \"Robustas\":\n",
    "            return results_dataframe[results_dataframe[\"Arabica Production\"] == True]\n",
    "        else:\n",
    "            return results_dataframe[results_dataframe[\"Robusta Production\"] == True]\n",
    "    def get_temperature_data_by_country(self, country = \"Brazil\"):\n",
    "        results_dataframe = self.temperature_data[self.temperature_data[\"Country\"] == country]\n",
    "        return results_dataframe"
   ]
  },
  {
   "cell_type": "code",
   "execution_count": 3,
   "metadata": {
    "collapsed": false
   },
   "outputs": [],
   "source": [
    "data = Temperature_Data()"
   ]
  },
  {
   "cell_type": "code",
   "execution_count": 5,
   "metadata": {
    "collapsed": false,
    "scrolled": false
   },
   "outputs": [
    {
     "data": {
      "text/html": [
       "<div>\n",
       "<table border=\"1\" class=\"dataframe\">\n",
       "  <thead>\n",
       "    <tr style=\"text-align: right;\">\n",
       "      <th></th>\n",
       "      <th>Country</th>\n",
       "      <th>Temperature (C)</th>\n",
       "      <th>Hemisphere</th>\n",
       "      <th>Arabica Production</th>\n",
       "      <th>Robusta Production</th>\n",
       "      <th>Season</th>\n",
       "      <th>Frost likelihood</th>\n",
       "    </tr>\n",
       "  </thead>\n",
       "  <tbody>\n",
       "    <tr>\n",
       "      <th>2000-04-01</th>\n",
       "      <td>Brazil</td>\n",
       "      <td>20.0</td>\n",
       "      <td>Southern</td>\n",
       "      <td>False</td>\n",
       "      <td>True</td>\n",
       "      <td>Fall</td>\n",
       "      <td>0.002500</td>\n",
       "    </tr>\n",
       "    <tr>\n",
       "      <th>2000-05-01</th>\n",
       "      <td>Brazil</td>\n",
       "      <td>20.2</td>\n",
       "      <td>Southern</td>\n",
       "      <td>False</td>\n",
       "      <td>True</td>\n",
       "      <td>Fall</td>\n",
       "      <td>0.002451</td>\n",
       "    </tr>\n",
       "    <tr>\n",
       "      <th>2002-05-01</th>\n",
       "      <td>Brazil</td>\n",
       "      <td>21.7</td>\n",
       "      <td>Southern</td>\n",
       "      <td>False</td>\n",
       "      <td>True</td>\n",
       "      <td>Fall</td>\n",
       "      <td>0.002124</td>\n",
       "    </tr>\n",
       "    <tr>\n",
       "      <th>2002-06-01</th>\n",
       "      <td>Brazil</td>\n",
       "      <td>21.6</td>\n",
       "      <td>Southern</td>\n",
       "      <td>False</td>\n",
       "      <td>True</td>\n",
       "      <td>Fall</td>\n",
       "      <td>0.002143</td>\n",
       "    </tr>\n",
       "    <tr>\n",
       "      <th>2002-07-01</th>\n",
       "      <td>Brazil</td>\n",
       "      <td>20.8</td>\n",
       "      <td>Southern</td>\n",
       "      <td>False</td>\n",
       "      <td>True</td>\n",
       "      <td>Winter</td>\n",
       "      <td>0.002311</td>\n",
       "    </tr>\n",
       "  </tbody>\n",
       "</table>\n",
       "</div>"
      ],
      "text/plain": [
       "           Country  Temperature (C) Hemisphere Arabica Production  \\\n",
       "2000-04-01  Brazil             20.0   Southern              False   \n",
       "2000-05-01  Brazil             20.2   Southern              False   \n",
       "2002-05-01  Brazil             21.7   Southern              False   \n",
       "2002-06-01  Brazil             21.6   Southern              False   \n",
       "2002-07-01  Brazil             20.8   Southern              False   \n",
       "\n",
       "           Robusta Production  Season  Frost likelihood  \n",
       "2000-04-01               True    Fall          0.002500  \n",
       "2000-05-01               True    Fall          0.002451  \n",
       "2002-05-01               True    Fall          0.002124  \n",
       "2002-06-01               True    Fall          0.002143  \n",
       "2002-07-01               True  Winter          0.002311  "
      ]
     },
     "execution_count": 5,
     "metadata": {},
     "output_type": "execute_result"
    }
   ],
   "source": [
    "# data.temperature_data\n",
    "robustas = data.temperature_data_by_ICO_category(\"Robustas\")\n",
    "robustas[robustas[\"Country\"] == \"Brazil\"].head()"
   ]
  },
  {
   "cell_type": "code",
   "execution_count": null,
   "metadata": {
    "collapsed": true
   },
   "outputs": [],
   "source": []
  }
 ],
 "metadata": {
  "anaconda-cloud": {},
  "kernelspec": {
   "display_name": "Python [default]",
   "language": "python",
   "name": "python3"
  },
  "language_info": {
   "codemirror_mode": {
    "name": "ipython",
    "version": 3
   },
   "file_extension": ".py",
   "mimetype": "text/x-python",
   "name": "python",
   "nbconvert_exporter": "python",
   "pygments_lexer": "ipython3",
   "version": "3.5.2"
  }
 },
 "nbformat": 4,
 "nbformat_minor": 2
}
