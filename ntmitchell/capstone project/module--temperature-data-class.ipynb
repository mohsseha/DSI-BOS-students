{
 "cells": [
  {
   "cell_type": "code",
   "execution_count": 3,
   "metadata": {
    "collapsed": true
   },
   "outputs": [],
   "source": [
    "import pandas\n",
    "import numpy"
   ]
  },
  {
   "cell_type": "code",
   "execution_count": 15,
   "metadata": {
    "collapsed": false
   },
   "outputs": [],
   "source": [
    "class Temperature_Data(object):\n",
    "    temperature_data = pandas.DataFrame()\n",
    "    ICO_categories = [\"Brazilian Naturals\", \"Colombian Milds\", \"Other Milds\", \"Robustas\"]\n",
    "    countries_in_ICO_category = dict.fromkeys(ICO_categories, None)\n",
    "    \n",
    "    def __init__(self):\n",
    "        # Import ICO classifications\n",
    "        ICO_country_classifications = pandas.read_csv(\"../datasets/capstone/ICO composite indicator index country classification.csv\")\n",
    "        ICO_country_classifications.columns = [\"Country\", \"Brazilian Naturals\",\"Colombian Milds\",\"Other Milds\", \"Robustas\"]\n",
    "\n",
    "        for category in self.ICO_categories:\n",
    "            temp_dataframe = ICO_country_classifications[ICO_country_classifications[category]][[\"Country\"]]\n",
    "            self.countries_in_ICO_category[category] = temp_dataframe[\"Country\"].unique().tolist()\n",
    "        \n",
    "        # Import temperature data\n",
    "        print(\"Importing temperature data ... \")\n",
    "        self.temperature_data = pandas.read_csv(\"../datasets/capstone/temperature-in-coffee-growing-regions--from-berkeley-earth.csv\")\n",
    "\n",
    "        print(\"Formatting temperature data ...\")\n",
    "        self.temperature_data.sort_values(by = \"Date\")\n",
    "        self.temperature_data[\"Date\"] = self.temperature_data[\"Date\"].apply(pandas.to_datetime)\n",
    "        self.temperature_data[\"Harvest Season\"] = self.temperature_data[\"Harvest Season\"].map({True: True, False: False, numpy.NaN: False})\n",
    "        self.temperature_data.set_index(\"Date\", inplace = True)\n",
    "        \n",
    "        print(\"Ready.\")\n",
    "    \n",
    "    def temperature_data_by_ICO_category(self, ICO_category = \"Brazilian Naturals\"):\n",
    "        pass\n",
    "    "
   ]
  },
  {
   "cell_type": "code",
   "execution_count": 14,
   "metadata": {
    "collapsed": false
   },
   "outputs": [
    {
     "name": "stderr",
     "output_type": "stream",
     "text": [
      "//anaconda/lib/python3.5/site-packages/IPython/core/interactiveshell.py:2825: DtypeWarning: Columns (6) have mixed types. Specify dtype option on import or set low_memory=False.\n",
      "  if self.run_code(code, result):\n"
     ]
    }
   ],
   "source": [
    "data = Temperature_Data()"
   ]
  },
  {
   "cell_type": "code",
   "execution_count": null,
   "metadata": {
    "collapsed": false
   },
   "outputs": [],
   "source": []
  },
  {
   "cell_type": "code",
   "execution_count": null,
   "metadata": {
    "collapsed": true
   },
   "outputs": [],
   "source": []
  }
 ],
 "metadata": {
  "anaconda-cloud": {},
  "kernelspec": {
   "display_name": "Python [default]",
   "language": "python",
   "name": "python3"
  },
  "language_info": {
   "codemirror_mode": {
    "name": "ipython",
    "version": 3
   },
   "file_extension": ".py",
   "mimetype": "text/x-python",
   "name": "python",
   "nbconvert_exporter": "python",
   "pygments_lexer": "ipython3",
   "version": "3.5.2"
  }
 },
 "nbformat": 4,
 "nbformat_minor": 2
}
