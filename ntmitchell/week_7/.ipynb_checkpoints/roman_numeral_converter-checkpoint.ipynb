{
 "cells": [
  {
   "cell_type": "markdown",
   "metadata": {},
   "source": [
    "Take in string, convert to integer.\n",
    "Take in integer, convert to roman numerals.\n",
    "Integers between [1,1000]\n",
    "\n",
    "Verify with a sample of \"solved\" numbers, feed functions into each other. "
   ]
  },
  {
   "cell_type": "code",
   "execution_count": 57,
   "metadata": {
    "collapsed": false
   },
   "outputs": [],
   "source": [
    "def str_to_int(numeral_string):\n",
    "    roman_numerals_dict = {'I': 1, 'V': 5, 'X': 10, 'L': 50, 'C': 100, 'D':500, 'M':1000}\n",
    "    \n",
    "    numbers = []\n",
    "    for numeral in numeral_string:\n",
    "        numbers.append(roman_numerals_dict[numeral])\n",
    "    \n",
    "    for index in range(len(numbers) - 1):\n",
    "        if numbers[index] < numbers[index + 1]:\n",
    "            numbers[index] = -1 * numbers[index] \n",
    "    return(sum(numbers))"
   ]
  },
  {
   "cell_type": "code",
   "execution_count": 58,
   "metadata": {
    "collapsed": false
   },
   "outputs": [],
   "source": [
    "def int_to_string(integer_number, index = 0):\n",
    "    number_to_roman_nums_dict = {1: 'I', 5: 'V', 10: 'X', 50: 'L', 100:'C', 500: 'D', 1000: 'M'}\n",
    "    \n",
    "    resulting_string = str()\n",
    "    \n",
    "    integer_number_as_string = str(integer_number)\n",
    "    number_of_digits = len(integer_number_as_string)\n",
    "    \n",
    "    ending_number = int(integer_number_as_string[-1])\n",
    "    \n",
    "    if ending_number < 4:\n",
    "        resulting_string = ending_number * number_to_roman_nums_dict[1 * (10 ** index)]\n",
    "    if ending_number == 4:\n",
    "        resulting_string = number_to_roman_nums_dict[1 * (10 ** index)] + number_to_roman_nums_dict[5 * (10 ** index)]\n",
    "    if ending_number > 4 and ending_number < 9:\n",
    "        resulting_string = number_to_roman_nums_dict[5 * (10 ** index)] + (ending_number % 5) * number_to_roman_nums_dict[1 * (10 ** index)]\n",
    "    if ending_number == 9:\n",
    "        resulting_string = number_to_roman_nums_dict[1 * (10 ** index)] + number_to_roman_nums_dict[10 * (10 ** index)]\n",
    "        \n",
    "    if number_of_digits > 1:\n",
    "        index += 1\n",
    "        resulting_string = int_to_string(int(integer_number_as_string[0:-1]), index) + resulting_string\n",
    "    \n",
    "    return(resulting_string)"
   ]
  },
  {
   "cell_type": "code",
   "execution_count": 66,
   "metadata": {
    "collapsed": false
   },
   "outputs": [],
   "source": [
    "for number in range(1,1001):\n",
    "    if str_to_int(int_to_string(number)) != number:\n",
    "        print(\"Failed on {}.\".format(number))"
   ]
  },
  {
   "cell_type": "code",
   "execution_count": null,
   "metadata": {
    "collapsed": true
   },
   "outputs": [],
   "source": []
  }
 ],
 "metadata": {
  "kernelspec": {
   "display_name": "Python [Root]",
   "language": "python",
   "name": "Python [Root]"
  },
  "language_info": {
   "codemirror_mode": {
    "name": "ipython",
    "version": 3
   },
   "file_extension": ".py",
   "mimetype": "text/x-python",
   "name": "python",
   "nbconvert_exporter": "python",
   "pygments_lexer": "ipython3",
   "version": "3.5.2"
  }
 },
 "nbformat": 4,
 "nbformat_minor": 0
}
