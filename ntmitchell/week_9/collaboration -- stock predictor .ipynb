{
 "cells": [
  {
   "cell_type": "markdown",
   "metadata": {},
   "source": [
    "Given list of stock tickers and investment amount, return the predicted value in 2017. "
   ]
  },
  {
   "cell_type": "raw",
   "metadata": {},
   "source": [
    "class TeamBPredictor:\n",
    "    # class variables\n",
    "    \n",
    "    def __init__(self):\n",
    "        # Download data\n",
    "        # Make model\n",
    "        # Fit model\n",
    "        # Prepare for analysis\n",
    "    def predict(list_of_stocks, value):\n",
    "        # method"
   ]
  },
  {
   "cell_type": "code",
   "execution_count": 1,
   "metadata": {
    "collapsed": true
   },
   "outputs": [],
   "source": [
    "import pandas as pd\n",
    "import numpy as np\n",
    "import matplotlib.pyplot as plt\n",
    "import datetime\n",
    "\n",
    "%matplotlib inline"
   ]
  },
  {
   "cell_type": "code",
   "execution_count": 40,
   "metadata": {
    "collapsed": false
   },
   "outputs": [],
   "source": [
    "ticker_list = [\"TMO\", \"FOX\", \"AMZN\",\"AAPL\",\"GM\",\"IBM\",\"TWTR\",\"CBS\",\"TM\",\"BIO\"]\n",
    "dataframe_dictionary = {}\n",
    "for ticker in ticker_list:\n",
    "    dataframe_dictionary[ticker] = pd.read_csv(\"http://www.google.com/finance/historical?output=csv&q={}&startdate=2000-01-01&enddate=2017-01-01\".format(ticker), encoding = \"utf-8\")"
   ]
  },
  {
   "cell_type": "code",
   "execution_count": 41,
   "metadata": {
    "collapsed": false
   },
   "outputs": [],
   "source": [
    "AMZN_df = pd.DataFrame(dataframe_dictionary[\"AMZN\"])\n",
    "AMZN_df.columns = ['Date', 'Open', 'High', 'Low', 'Close', 'Volume']\n",
    "AMZN_df[\"Average Price\"] = AMZN_df.drop(\"Volume\", axis = 1).mean(axis = 1)\n",
    "AMZN_df.index = AMZN_df[\"Date\"].apply(pd.to_datetime).values\n",
    "AMZN_df.drop(labels =[\"Open\", \"High\", \"Low\", \"Close\", \"Date\"], axis = 1, inplace = True)\n",
    "AMZN_df.sort_index(inplace = True)"
   ]
  },
  {
   "cell_type": "code",
   "execution_count": 47,
   "metadata": {
    "collapsed": true
   },
   "outputs": [],
   "source": [
    "AAPL_df = pd.DataFrame(dataframe_dictionary[\"BIO\"])\n",
    "AAPL_df.columns = ['Date', 'Open', 'High', 'Low', 'Close', 'Volume']\n",
    "AAPL_df[\"Average Price\"] = AAPL_df.drop(\"Volume\", axis = 1).mean(axis = 1)\n",
    "AAPL_df.index = AAPL_df[\"Date\"].apply(pd.to_datetime).values\n",
    "AAPL_df.drop(labels =[\"Open\", \"High\", \"Low\", \"Close\", \"Date\"], axis = 1, inplace = True)\n",
    "AAPL_df.sort_index(inplace = True)"
   ]
  },
  {
   "cell_type": "code",
   "execution_count": 48,
   "metadata": {
    "collapsed": false
   },
   "outputs": [
    {
     "data": {
      "text/html": [
       "<div>\n",
       "<table border=\"1\" class=\"dataframe\">\n",
       "  <thead>\n",
       "    <tr style=\"text-align: right;\">\n",
       "      <th></th>\n",
       "      <th>Volume</th>\n",
       "      <th>Average Price</th>\n",
       "    </tr>\n",
       "  </thead>\n",
       "  <tbody>\n",
       "    <tr>\n",
       "      <th>2001-02-06</th>\n",
       "      <td>NaN</td>\n",
       "      <td>NaN</td>\n",
       "    </tr>\n",
       "    <tr>\n",
       "      <th>2001-02-07</th>\n",
       "      <td>7523500.0</td>\n",
       "      <td>34.0025</td>\n",
       "    </tr>\n",
       "    <tr>\n",
       "      <th>2001-02-08</th>\n",
       "      <td>5231700.0</td>\n",
       "      <td>34.0100</td>\n",
       "    </tr>\n",
       "    <tr>\n",
       "      <th>2001-02-09</th>\n",
       "      <td>7389300.0</td>\n",
       "      <td>33.2400</td>\n",
       "    </tr>\n",
       "    <tr>\n",
       "      <th>2001-02-12</th>\n",
       "      <td>5272500.0</td>\n",
       "      <td>33.2500</td>\n",
       "    </tr>\n",
       "    <tr>\n",
       "      <th>2001-02-13</th>\n",
       "      <td>4549900.0</td>\n",
       "      <td>33.5175</td>\n",
       "    </tr>\n",
       "    <tr>\n",
       "      <th>2001-02-14</th>\n",
       "      <td>7956500.0</td>\n",
       "      <td>34.2450</td>\n",
       "    </tr>\n",
       "    <tr>\n",
       "      <th>2001-02-15</th>\n",
       "      <td>16261400.0</td>\n",
       "      <td>34.0575</td>\n",
       "    </tr>\n",
       "    <tr>\n",
       "      <th>2001-02-16</th>\n",
       "      <td>6314300.0</td>\n",
       "      <td>33.4400</td>\n",
       "    </tr>\n",
       "    <tr>\n",
       "      <th>2001-02-20</th>\n",
       "      <td>6150800.0</td>\n",
       "      <td>32.1175</td>\n",
       "    </tr>\n",
       "    <tr>\n",
       "      <th>2001-02-21</th>\n",
       "      <td>7216300.0</td>\n",
       "      <td>30.4350</td>\n",
       "    </tr>\n",
       "    <tr>\n",
       "      <th>2001-02-22</th>\n",
       "      <td>8210200.0</td>\n",
       "      <td>29.8650</td>\n",
       "    </tr>\n",
       "    <tr>\n",
       "      <th>2001-02-23</th>\n",
       "      <td>5129900.0</td>\n",
       "      <td>29.4950</td>\n",
       "    </tr>\n",
       "    <tr>\n",
       "      <th>2001-02-26</th>\n",
       "      <td>5699100.0</td>\n",
       "      <td>29.6575</td>\n",
       "    </tr>\n",
       "    <tr>\n",
       "      <th>2001-02-27</th>\n",
       "      <td>7176300.0</td>\n",
       "      <td>29.3700</td>\n",
       "    </tr>\n",
       "    <tr>\n",
       "      <th>2001-02-28</th>\n",
       "      <td>14463300.0</td>\n",
       "      <td>28.3175</td>\n",
       "    </tr>\n",
       "    <tr>\n",
       "      <th>2001-03-01</th>\n",
       "      <td>10738100.0</td>\n",
       "      <td>28.0750</td>\n",
       "    </tr>\n",
       "    <tr>\n",
       "      <th>2001-03-02</th>\n",
       "      <td>7565200.0</td>\n",
       "      <td>29.4475</td>\n",
       "    </tr>\n",
       "    <tr>\n",
       "      <th>2001-03-05</th>\n",
       "      <td>23324300.0</td>\n",
       "      <td>32.2925</td>\n",
       "    </tr>\n",
       "    <tr>\n",
       "      <th>2001-03-06</th>\n",
       "      <td>21286400.0</td>\n",
       "      <td>31.8350</td>\n",
       "    </tr>\n",
       "    <tr>\n",
       "      <th>2001-03-07</th>\n",
       "      <td>10296300.0</td>\n",
       "      <td>31.0900</td>\n",
       "    </tr>\n",
       "    <tr>\n",
       "      <th>2001-03-08</th>\n",
       "      <td>4881400.0</td>\n",
       "      <td>30.9000</td>\n",
       "    </tr>\n",
       "    <tr>\n",
       "      <th>2001-03-09</th>\n",
       "      <td>8789700.0</td>\n",
       "      <td>30.9125</td>\n",
       "    </tr>\n",
       "    <tr>\n",
       "      <th>2001-03-12</th>\n",
       "      <td>5663000.0</td>\n",
       "      <td>29.9475</td>\n",
       "    </tr>\n",
       "    <tr>\n",
       "      <th>2001-03-13</th>\n",
       "      <td>3312100.0</td>\n",
       "      <td>29.4200</td>\n",
       "    </tr>\n",
       "    <tr>\n",
       "      <th>2001-03-14</th>\n",
       "      <td>3096300.0</td>\n",
       "      <td>29.0625</td>\n",
       "    </tr>\n",
       "    <tr>\n",
       "      <th>2001-03-15</th>\n",
       "      <td>5708600.0</td>\n",
       "      <td>29.9200</td>\n",
       "    </tr>\n",
       "    <tr>\n",
       "      <th>2001-03-16</th>\n",
       "      <td>6838800.0</td>\n",
       "      <td>28.9775</td>\n",
       "    </tr>\n",
       "    <tr>\n",
       "      <th>2001-03-19</th>\n",
       "      <td>6519400.0</td>\n",
       "      <td>28.5900</td>\n",
       "    </tr>\n",
       "    <tr>\n",
       "      <th>2001-03-20</th>\n",
       "      <td>6144500.0</td>\n",
       "      <td>28.6075</td>\n",
       "    </tr>\n",
       "    <tr>\n",
       "      <th>...</th>\n",
       "      <td>...</td>\n",
       "      <td>...</td>\n",
       "    </tr>\n",
       "    <tr>\n",
       "      <th>2016-11-17</th>\n",
       "      <td>3814330.0</td>\n",
       "      <td>925.4500</td>\n",
       "    </tr>\n",
       "    <tr>\n",
       "      <th>2016-11-18</th>\n",
       "      <td>4530502.0</td>\n",
       "      <td>933.4200</td>\n",
       "    </tr>\n",
       "    <tr>\n",
       "      <th>2016-11-21</th>\n",
       "      <td>4740430.0</td>\n",
       "      <td>944.4525</td>\n",
       "    </tr>\n",
       "    <tr>\n",
       "      <th>2016-11-22</th>\n",
       "      <td>5449968.0</td>\n",
       "      <td>959.1350</td>\n",
       "    </tr>\n",
       "    <tr>\n",
       "      <th>2016-11-23</th>\n",
       "      <td>3656099.0</td>\n",
       "      <td>950.1775</td>\n",
       "    </tr>\n",
       "    <tr>\n",
       "      <th>2016-11-25</th>\n",
       "      <td>1882331.0</td>\n",
       "      <td>955.5850</td>\n",
       "    </tr>\n",
       "    <tr>\n",
       "      <th>2016-11-28</th>\n",
       "      <td>4563307.0</td>\n",
       "      <td>943.2950</td>\n",
       "    </tr>\n",
       "    <tr>\n",
       "      <th>2016-11-29</th>\n",
       "      <td>3455312.0</td>\n",
       "      <td>938.7675</td>\n",
       "    </tr>\n",
       "    <tr>\n",
       "      <th>2016-11-30</th>\n",
       "      <td>4873814.0</td>\n",
       "      <td>931.4525</td>\n",
       "    </tr>\n",
       "    <tr>\n",
       "      <th>2016-12-01</th>\n",
       "      <td>4998519.0</td>\n",
       "      <td>920.7675</td>\n",
       "    </tr>\n",
       "    <tr>\n",
       "      <th>2016-12-02</th>\n",
       "      <td>3830147.0</td>\n",
       "      <td>918.1425</td>\n",
       "    </tr>\n",
       "    <tr>\n",
       "      <th>2016-12-05</th>\n",
       "      <td>4577503.0</td>\n",
       "      <td>929.8400</td>\n",
       "    </tr>\n",
       "    <tr>\n",
       "      <th>2016-12-06</th>\n",
       "      <td>3981070.0</td>\n",
       "      <td>941.7550</td>\n",
       "    </tr>\n",
       "    <tr>\n",
       "      <th>2016-12-07</th>\n",
       "      <td>3892871.0</td>\n",
       "      <td>942.6375</td>\n",
       "    </tr>\n",
       "    <tr>\n",
       "      <th>2016-12-08</th>\n",
       "      <td>3351659.0</td>\n",
       "      <td>947.1650</td>\n",
       "    </tr>\n",
       "    <tr>\n",
       "      <th>2016-12-09</th>\n",
       "      <td>2627872.0</td>\n",
       "      <td>947.7650</td>\n",
       "    </tr>\n",
       "    <tr>\n",
       "      <th>2016-12-12</th>\n",
       "      <td>3156804.0</td>\n",
       "      <td>941.9600</td>\n",
       "    </tr>\n",
       "    <tr>\n",
       "      <th>2016-12-13</th>\n",
       "      <td>5411131.0</td>\n",
       "      <td>951.7600</td>\n",
       "    </tr>\n",
       "    <tr>\n",
       "      <th>2016-12-14</th>\n",
       "      <td>5671439.0</td>\n",
       "      <td>952.6700</td>\n",
       "    </tr>\n",
       "    <tr>\n",
       "      <th>2016-12-15</th>\n",
       "      <td>4011717.0</td>\n",
       "      <td>944.5050</td>\n",
       "    </tr>\n",
       "    <tr>\n",
       "      <th>2016-12-16</th>\n",
       "      <td>5219044.0</td>\n",
       "      <td>942.4200</td>\n",
       "    </tr>\n",
       "    <tr>\n",
       "      <th>2016-12-19</th>\n",
       "      <td>3276842.0</td>\n",
       "      <td>942.8450</td>\n",
       "    </tr>\n",
       "    <tr>\n",
       "      <th>2016-12-20</th>\n",
       "      <td>2900643.0</td>\n",
       "      <td>950.6675</td>\n",
       "    </tr>\n",
       "    <tr>\n",
       "      <th>2016-12-21</th>\n",
       "      <td>2193473.0</td>\n",
       "      <td>950.7225</td>\n",
       "    </tr>\n",
       "    <tr>\n",
       "      <th>2016-12-22</th>\n",
       "      <td>2692385.0</td>\n",
       "      <td>949.0525</td>\n",
       "    </tr>\n",
       "    <tr>\n",
       "      <th>2016-12-23</th>\n",
       "      <td>2057961.0</td>\n",
       "      <td>945.4425</td>\n",
       "    </tr>\n",
       "    <tr>\n",
       "      <th>2016-12-27</th>\n",
       "      <td>2712563.0</td>\n",
       "      <td>951.2125</td>\n",
       "    </tr>\n",
       "    <tr>\n",
       "      <th>2016-12-28</th>\n",
       "      <td>3389663.0</td>\n",
       "      <td>958.3300</td>\n",
       "    </tr>\n",
       "    <tr>\n",
       "      <th>2016-12-29</th>\n",
       "      <td>3228047.0</td>\n",
       "      <td>951.3100</td>\n",
       "    </tr>\n",
       "    <tr>\n",
       "      <th>2016-12-30</th>\n",
       "      <td>4232169.0</td>\n",
       "      <td>940.7625</td>\n",
       "    </tr>\n",
       "  </tbody>\n",
       "</table>\n",
       "<p>4001 rows × 2 columns</p>\n",
       "</div>"
      ],
      "text/plain": [
       "                Volume  Average Price\n",
       "2001-02-06         NaN            NaN\n",
       "2001-02-07   7523500.0        34.0025\n",
       "2001-02-08   5231700.0        34.0100\n",
       "2001-02-09   7389300.0        33.2400\n",
       "2001-02-12   5272500.0        33.2500\n",
       "2001-02-13   4549900.0        33.5175\n",
       "2001-02-14   7956500.0        34.2450\n",
       "2001-02-15  16261400.0        34.0575\n",
       "2001-02-16   6314300.0        33.4400\n",
       "2001-02-20   6150800.0        32.1175\n",
       "2001-02-21   7216300.0        30.4350\n",
       "2001-02-22   8210200.0        29.8650\n",
       "2001-02-23   5129900.0        29.4950\n",
       "2001-02-26   5699100.0        29.6575\n",
       "2001-02-27   7176300.0        29.3700\n",
       "2001-02-28  14463300.0        28.3175\n",
       "2001-03-01  10738100.0        28.0750\n",
       "2001-03-02   7565200.0        29.4475\n",
       "2001-03-05  23324300.0        32.2925\n",
       "2001-03-06  21286400.0        31.8350\n",
       "2001-03-07  10296300.0        31.0900\n",
       "2001-03-08   4881400.0        30.9000\n",
       "2001-03-09   8789700.0        30.9125\n",
       "2001-03-12   5663000.0        29.9475\n",
       "2001-03-13   3312100.0        29.4200\n",
       "2001-03-14   3096300.0        29.0625\n",
       "2001-03-15   5708600.0        29.9200\n",
       "2001-03-16   6838800.0        28.9775\n",
       "2001-03-19   6519400.0        28.5900\n",
       "2001-03-20   6144500.0        28.6075\n",
       "...                ...            ...\n",
       "2016-11-17   3814330.0       925.4500\n",
       "2016-11-18   4530502.0       933.4200\n",
       "2016-11-21   4740430.0       944.4525\n",
       "2016-11-22   5449968.0       959.1350\n",
       "2016-11-23   3656099.0       950.1775\n",
       "2016-11-25   1882331.0       955.5850\n",
       "2016-11-28   4563307.0       943.2950\n",
       "2016-11-29   3455312.0       938.7675\n",
       "2016-11-30   4873814.0       931.4525\n",
       "2016-12-01   4998519.0       920.7675\n",
       "2016-12-02   3830147.0       918.1425\n",
       "2016-12-05   4577503.0       929.8400\n",
       "2016-12-06   3981070.0       941.7550\n",
       "2016-12-07   3892871.0       942.6375\n",
       "2016-12-08   3351659.0       947.1650\n",
       "2016-12-09   2627872.0       947.7650\n",
       "2016-12-12   3156804.0       941.9600\n",
       "2016-12-13   5411131.0       951.7600\n",
       "2016-12-14   5671439.0       952.6700\n",
       "2016-12-15   4011717.0       944.5050\n",
       "2016-12-16   5219044.0       942.4200\n",
       "2016-12-19   3276842.0       942.8450\n",
       "2016-12-20   2900643.0       950.6675\n",
       "2016-12-21   2193473.0       950.7225\n",
       "2016-12-22   2692385.0       949.0525\n",
       "2016-12-23   2057961.0       945.4425\n",
       "2016-12-27   2712563.0       951.2125\n",
       "2016-12-28   3389663.0       958.3300\n",
       "2016-12-29   3228047.0       951.3100\n",
       "2016-12-30   4232169.0       940.7625\n",
       "\n",
       "[4001 rows x 2 columns]"
      ]
     },
     "execution_count": 48,
     "metadata": {},
     "output_type": "execute_result"
    }
   ],
   "source": [
    "AMZN_df + AAPL_df"
   ]
  },
  {
   "cell_type": "code",
   "execution_count": 38,
   "metadata": {
    "collapsed": false
   },
   "outputs": [
    {
     "data": {
      "text/plain": [
       "<matplotlib.text.Text at 0x113ba1438>"
      ]
     },
     "execution_count": 38,
     "metadata": {},
     "output_type": "execute_result"
    },
    {
     "data": {
      "image/png": "[encoded data removed]",
      "text/plain": [
       "<matplotlib.figure.Figure at 0x113823f98>"
      ]
     },
     "metadata": {},
     "output_type": "display_data"
    }
   ],
   "source": [
    "df[[\"Average Price\"]].pct_change().hist(bins = 20)\n",
    "plt.title(\"Percent change in AMZN\")"
   ]
  },
  {
   "cell_type": "code",
   "execution_count": 11,
   "metadata": {
    "collapsed": false
   },
   "outputs": [],
   "source": [
    "AAPL_data = pd.DataFrame(dataframe_dictionary[\"AAPL\"])\n",
    "\n",
    "# Set date column as the index\n",
    "AAPL_data.index = pd.to_datetime(AAPL_data.iloc[:, 0].values)\n",
    "\n",
    "# Convert all columns to numeric values\n",
    "AAPL_data = AAPL_data.apply(pd.to_numeric, errors = \"coerce\")\n",
    "\n",
    "# Drop the Time column\n",
    "AAPL_data.dropna(axis = 1, inplace = True)\n",
    "\n",
    "# Sort the values\n",
    "AAPL_data.sort_index(inplace = True)\n",
    "\n",
    "# Finding the average prices\n",
    "AAPL_data[\"Daily Average\"] = AAPL_data.drop(\"Volume\", axis = 1).apply(np.mean, axis = 1).values"
   ]
  },
  {
   "cell_type": "code",
   "execution_count": 12,
   "metadata": {
    "collapsed": false
   },
   "outputs": [
    {
     "data": {
      "image/png": "[encoded data removed]",
      "text/plain": [
       "<matplotlib.figure.Figure at 0x10d396eb8>"
      ]
     },
     "metadata": {},
     "output_type": "display_data"
    }
   ],
   "source": [
    "AAPL_data[\"Daily Average\"].plot()\n",
    "plt.title(\"Apple Stock Prices from 2001 to 2016\")\n",
    "plt.show()"
   ]
  },
  {
   "cell_type": "code",
   "execution_count": 13,
   "metadata": {
    "collapsed": false
   },
   "outputs": [
    {
     "ename": "KeyError",
     "evalue": "'GOOG'",
     "output_type": "error",
     "traceback": [
      "\u001b[0;31m---------------------------------------------------------------------------\u001b[0m",
      "\u001b[0;31mKeyError\u001b[0m                                  Traceback (most recent call last)",
      "\u001b[0;32m<ipython-input-13-cd97b63ef071>\u001b[0m in \u001b[0;36m<module>\u001b[0;34m()\u001b[0m\n\u001b[0;32m----> 1\u001b[0;31m \u001b[0mGOOG_data\u001b[0m \u001b[0;34m=\u001b[0m \u001b[0mdataframe_dictionary\u001b[0m\u001b[0;34m[\u001b[0m\u001b[0;34m\"GOOG\"\u001b[0m\u001b[0;34m]\u001b[0m\u001b[0;34m\u001b[0m\u001b[0m\n\u001b[0m\u001b[1;32m      2\u001b[0m \u001b[0;31m# Set date column as the index\u001b[0m\u001b[0;34m\u001b[0m\u001b[0;34m\u001b[0m\u001b[0m\n\u001b[1;32m      3\u001b[0m \u001b[0mGOOG_data\u001b[0m\u001b[0;34m.\u001b[0m\u001b[0mindex\u001b[0m \u001b[0;34m=\u001b[0m \u001b[0mpd\u001b[0m\u001b[0;34m.\u001b[0m\u001b[0mto_datetime\u001b[0m\u001b[0;34m(\u001b[0m\u001b[0mGOOG_data\u001b[0m\u001b[0;34m.\u001b[0m\u001b[0miloc\u001b[0m\u001b[0;34m[\u001b[0m\u001b[0;34m:\u001b[0m\u001b[0;34m,\u001b[0m \u001b[0;36m0\u001b[0m\u001b[0;34m]\u001b[0m\u001b[0;34m.\u001b[0m\u001b[0mvalues\u001b[0m\u001b[0;34m)\u001b[0m\u001b[0;34m\u001b[0m\u001b[0m\n\u001b[1;32m      4\u001b[0m \u001b[0mGOOG_data\u001b[0m \u001b[0;34m=\u001b[0m \u001b[0mGOOG_data\u001b[0m\u001b[0;34m.\u001b[0m\u001b[0mapply\u001b[0m\u001b[0;34m(\u001b[0m\u001b[0mpd\u001b[0m\u001b[0;34m.\u001b[0m\u001b[0mto_numeric\u001b[0m\u001b[0;34m,\u001b[0m \u001b[0merrors\u001b[0m \u001b[0;34m=\u001b[0m \u001b[0;34m\"coerce\"\u001b[0m\u001b[0;34m)\u001b[0m\u001b[0;34m\u001b[0m\u001b[0m\n\u001b[1;32m      5\u001b[0m \u001b[0mGOOG_data\u001b[0m\u001b[0;34m.\u001b[0m\u001b[0mdropna\u001b[0m\u001b[0;34m(\u001b[0m\u001b[0maxis\u001b[0m \u001b[0;34m=\u001b[0m \u001b[0;36m1\u001b[0m\u001b[0;34m,\u001b[0m \u001b[0minplace\u001b[0m \u001b[0;34m=\u001b[0m \u001b[0;32mTrue\u001b[0m\u001b[0;34m)\u001b[0m\u001b[0;34m\u001b[0m\u001b[0m\n",
      "\u001b[0;31mKeyError\u001b[0m: 'GOOG'"
     ]
    }
   ],
   "source": [
    "GOOG_data = dataframe_dictionary[\"GOOG\"]\n",
    "# Set date column as the index\n",
    "GOOG_data.index = pd.to_datetime(GOOG_data.iloc[:, 0].values)\n",
    "GOOG_data = GOOG_data.apply(pd.to_numeric, errors = \"coerce\")\n",
    "GOOG_data.dropna(axis = 1, inplace = True)\n",
    "GOOG_data.sort_index(inplace = True)\n",
    "GOOG_data[\"Daily Average\"] = GOOG_data.apply(np.mean, axis = 1).values"
   ]
  },
  {
   "cell_type": "code",
   "execution_count": null,
   "metadata": {
    "collapsed": false
   },
   "outputs": [],
   "source": [
    "GOOG_data[\"Daily Average\"].plot()\n",
    "plt.title(\"Daily Google Prices from 2001 to 2016\")\n",
    "plt.show()"
   ]
  },
  {
   "cell_type": "code",
   "execution_count": null,
   "metadata": {
    "collapsed": false
   },
   "outputs": [],
   "source": [
    "pd.tools.plotting.autocorrelation_plot(AAPL_data.Close)\n",
    "plt.show()\n",
    "pd.tools.plotting.autocorrelation_plot(GOOG_data.Close)\n",
    "plt.show()"
   ]
  },
  {
   "cell_type": "code",
   "execution_count": null,
   "metadata": {
    "collapsed": false
   },
   "outputs": [],
   "source": [
    "earliest_date = np.min([AAPL_data.index.min(), GOOG_data.index.min()])\n",
    "GOOG_fill_data = pd.date_range(start = earliest_date, end = GOOG_data.index.min(), freq =\"B\")\n",
    "GOOG_data = pd.concat(objs=[pd.DataFrame(index = GOOG_fill_data), GOOG_data]).fillna(0)"
   ]
  },
  {
   "cell_type": "code",
   "execution_count": null,
   "metadata": {
    "collapsed": false
   },
   "outputs": [],
   "source": [
    "stock_index = (GOOG_data[\"Daily Average\"] + AAPL_data[\"Daily Average\"])\n",
    "stock"
   ]
  },
  {
   "cell_type": "code",
   "execution_count": null,
   "metadata": {
    "collapsed": false
   },
   "outputs": [],
   "source": []
  },
  {
   "cell_type": "code",
   "execution_count": null,
   "metadata": {
    "collapsed": true
   },
   "outputs": [],
   "source": []
  }
 ],
 "metadata": {
  "anaconda-cloud": {},
  "kernelspec": {
   "display_name": "Python [default]",
   "language": "python",
   "name": "python3"
  },
  "language_info": {
   "codemirror_mode": {
    "name": "ipython",
    "version": 3
   },
   "file_extension": ".py",
   "mimetype": "text/x-python",
   "name": "python",
   "nbconvert_exporter": "python",
   "pygments_lexer": "ipython3",
   "version": "3.5.2"
  }
 },
 "nbformat": 4,
 "nbformat_minor": 2
}
