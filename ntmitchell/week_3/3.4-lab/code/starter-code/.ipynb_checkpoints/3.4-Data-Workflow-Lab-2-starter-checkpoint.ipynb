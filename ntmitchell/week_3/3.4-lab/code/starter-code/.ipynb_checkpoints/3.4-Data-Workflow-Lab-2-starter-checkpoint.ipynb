{
 "cells": [
  {
   "cell_type": "markdown",
   "metadata": {},
   "source": [
    "# Data Workflow Lab 2\n",
    "\n",
    "Proceed with your analysis of the Project 3 data set. You may need to compute new columns as you proceed. Fit one or more linear models to the data, investigate model fits and outliers, use regularization when appropriate.\n",
    "\n",
    "### Learning objectives\n",
    "- Perform exploratory analysis\n",
    "- Generate correlation matrix of the features\n",
    "- Generate linear regression models\n",
    "- Evaluate model fit\n",
    "\n",
    "If appropriate for your models and featuers:\n",
    "- Use [feature selection](http://scikit-learn.org/stable/modules/feature_selection.html) to pick the best features\n",
    "- Try different regularization options"
   ]
  },
  {
   "cell_type": "code",
   "execution_count": 15,
   "metadata": {
    "collapsed": true
   },
   "outputs": [],
   "source": [
    "% matplotlib inline\n",
    "\n",
    "from collections import defaultdict\n",
    "import datetime\n",
    "\n",
    "from matplotlib import pyplot as plt\n",
    "# Make the plots bigger\n",
    "plt.rcParams['figure.figsize'] = 10, 10\n",
    "import seaborn as sns\n",
    "\n",
    "import numpy as np\n",
    "import pandas as pd\n",
    "from sklearn import linear_model, preprocessing"
   ]
  },
  {
   "cell_type": "code",
   "execution_count": 16,
   "metadata": {
    "collapsed": false
   },
   "outputs": [],
   "source": [
    "# Load the data from the previous lab\n",
    "# If you changed the name you'll need to edit the next line\n",
    "sales = pd.read_csv(\"../../assets/datasets/sales.csv\")"
   ]
  },
  {
   "cell_type": "code",
   "execution_count": 17,
   "metadata": {
    "collapsed": false
   },
   "outputs": [
    {
     "name": "stdout",
     "output_type": "stream",
     "text": [
      "<class 'pandas.core.frame.DataFrame'>\n",
      "RangeIndex: 1193 entries, 0 to 1192\n",
      "Data columns (total 15 columns):\n",
      "Unnamed: 0                        1193 non-null int64\n",
      "Store Number                      1193 non-null int64\n",
      "City                              1193 non-null object\n",
      "2015 Sales                        1193 non-null float64\n",
      "2015 Sales mean                   1193 non-null float64\n",
      "County Number                     1193 non-null int64\n",
      "Price per Liter mean              1193 non-null float64\n",
      "Zip Code                          1193 non-null object\n",
      "2015 Volume Sold (Liters)         1193 non-null float64\n",
      "2015 Volume Sold (Liters) mean    1193 non-null float64\n",
      "2015 Margin mean                  1193 non-null float64\n",
      "2015 Sales Q1                     1193 non-null float64\n",
      "2016 Sales Q1                     1178 non-null float64\n",
      "First Date                        1193 non-null object\n",
      "Last Date                         1193 non-null object\n",
      "dtypes: float64(8), int64(3), object(4)\n",
      "memory usage: 139.9+ KB\n",
      "None\n",
      "   Unnamed: 0  Store Number         City  2015 Sales  2015 Sales mean  \\\n",
      "0           0          2106  CEDAR FALLS  1434021.94       281.070549   \n",
      "1           1          2113       GOWRIE    85763.42        63.015004   \n",
      "2           2          2130     WATERLOO  1108184.99       280.624206   \n",
      "3           3          2152     ROCKWELL    72080.36        50.230216   \n",
      "4           4          2178       WAUKON   277987.96       104.389020   \n",
      "\n",
      "   County Number  Price per Liter mean Zip Code  2015 Volume Sold (Liters)  \\\n",
      "0              7             18.846731    50613                   93982.72   \n",
      "1             94             17.625704    50543                    6500.83   \n",
      "2              7             17.506599    50703                   65562.88   \n",
      "3             17             13.043590    50469                    6164.92   \n",
      "4              3             16.594438    52172                   21719.49   \n",
      "\n",
      "   2015 Volume Sold (Liters) mean  2015 Margin mean  2015 Sales Q1  \\\n",
      "0                       18.420760         93.802281      337166.53   \n",
      "1                        4.776510         21.082425       22351.86   \n",
      "2                       16.602401         93.612494      277764.46   \n",
      "3                        4.296111         16.824704       16805.11   \n",
      "4                        8.156023         35.011457       54411.42   \n",
      "\n",
      "   2016 Sales Q1  First Date   Last Date  \n",
      "0      337804.05  2015-01-08  2016-03-31  \n",
      "1       21736.63  2015-01-07  2016-03-30  \n",
      "2      306942.27  2015-01-08  2016-03-31  \n",
      "3        9307.75  2015-01-08  2016-02-25  \n",
      "4       58939.90  2015-01-07  2016-03-30  \n"
     ]
    }
   ],
   "source": [
    "print(sales.info())\n",
    "print(sales.head())"
   ]
  },
  {
   "cell_type": "code",
   "execution_count": 18,
   "metadata": {
    "collapsed": false
   },
   "outputs": [],
   "source": [
    "# drop 'Unnamed: 0'\n",
    "sales.drop('Unnamed: 0', axis = 1, inplace = True)\n",
    "\n",
    "# convert dates\n",
    "sales[['First Date', 'Last Date']] = sales[['First Date', 'Last Date']].apply(pd.to_datetime,yearfirst = True)\n",
    "\n",
    "# convert 'Store Number' and 'County Number' to categorical data\n",
    "sales['Store Number'] = sales['Store Number'].astype('category')\n",
    "sales['County Number'] = sales['County Number'].astype('category')"
   ]
  },
  {
   "cell_type": "markdown",
   "metadata": {},
   "source": [
    "## Exploratory Analysis\n",
    "Make some plots, look at correlations, etc."
   ]
  },
  {
   "cell_type": "code",
   "execution_count": 19,
   "metadata": {
    "collapsed": false
   },
   "outputs": [
    {
     "name": "stdout",
     "output_type": "stream",
     "text": [
      "15838.260167644568\n"
     ]
    }
   ],
   "source": [
    "sns.pairplot(sales, vars = [2015 Sales, 2015 Sales mean                   \n",
    "County Number, Price per Liter mean,Zip Code                          1193 non-null object\n",
    "2015 Volume Sold (Liters)         1193 non-null float64\n",
    "2015 Volume Sold (Liters) mean    1193 non-null float64\n",
    "2015 Margin mean                  1193 non-null float64\n",
    "2015 Sales Q1])"
   ]
  },
  {
   "cell_type": "markdown",
   "metadata": {
    "collapsed": false
   },
   "source": [
    "# Compute correlations"
   ]
  },
  {
   "cell_type": "code",
   "execution_count": 20,
   "metadata": {
    "collapsed": false
   },
   "outputs": [
    {
     "data": {
      "text/html": [
       "<div>\n",
       "<table border=\"1\" class=\"dataframe\">\n",
       "  <thead>\n",
       "    <tr style=\"text-align: right;\">\n",
       "      <th></th>\n",
       "      <th>2015 Sales</th>\n",
       "      <th>2015 Sales mean</th>\n",
       "      <th>Price per Liter mean</th>\n",
       "      <th>2015 Volume Sold (Liters)</th>\n",
       "      <th>2015 Volume Sold (Liters) mean</th>\n",
       "      <th>2015 Margin mean</th>\n",
       "      <th>2015 Sales Q1</th>\n",
       "      <th>2016 Sales Q1</th>\n",
       "    </tr>\n",
       "  </thead>\n",
       "  <tbody>\n",
       "    <tr>\n",
       "      <th>2015 Sales</th>\n",
       "      <td>1.000000</td>\n",
       "      <td>0.298137</td>\n",
       "      <td>0.176184</td>\n",
       "      <td>0.993312</td>\n",
       "      <td>0.350103</td>\n",
       "      <td>0.298186</td>\n",
       "      <td>0.991969</td>\n",
       "      <td>0.145856</td>\n",
       "    </tr>\n",
       "    <tr>\n",
       "      <th>2015 Sales mean</th>\n",
       "      <td>0.298137</td>\n",
       "      <td>1.000000</td>\n",
       "      <td>0.179908</td>\n",
       "      <td>0.287567</td>\n",
       "      <td>0.943148</td>\n",
       "      <td>0.999997</td>\n",
       "      <td>0.276028</td>\n",
       "      <td>0.030926</td>\n",
       "    </tr>\n",
       "    <tr>\n",
       "      <th>Price per Liter mean</th>\n",
       "      <td>0.176184</td>\n",
       "      <td>0.179908</td>\n",
       "      <td>1.000000</td>\n",
       "      <td>0.137556</td>\n",
       "      <td>0.004410</td>\n",
       "      <td>0.179066</td>\n",
       "      <td>0.162222</td>\n",
       "      <td>-0.008411</td>\n",
       "    </tr>\n",
       "    <tr>\n",
       "      <th>2015 Volume Sold (Liters)</th>\n",
       "      <td>0.993312</td>\n",
       "      <td>0.287567</td>\n",
       "      <td>0.137556</td>\n",
       "      <td>1.000000</td>\n",
       "      <td>0.355870</td>\n",
       "      <td>0.287700</td>\n",
       "      <td>0.987192</td>\n",
       "      <td>0.163130</td>\n",
       "    </tr>\n",
       "    <tr>\n",
       "      <th>2015 Volume Sold (Liters) mean</th>\n",
       "      <td>0.350103</td>\n",
       "      <td>0.943148</td>\n",
       "      <td>0.004410</td>\n",
       "      <td>0.355870</td>\n",
       "      <td>1.000000</td>\n",
       "      <td>0.943726</td>\n",
       "      <td>0.332944</td>\n",
       "      <td>0.034340</td>\n",
       "    </tr>\n",
       "    <tr>\n",
       "      <th>2015 Margin mean</th>\n",
       "      <td>0.298186</td>\n",
       "      <td>0.999997</td>\n",
       "      <td>0.179066</td>\n",
       "      <td>0.287700</td>\n",
       "      <td>0.943726</td>\n",
       "      <td>1.000000</td>\n",
       "      <td>0.276047</td>\n",
       "      <td>0.030846</td>\n",
       "    </tr>\n",
       "    <tr>\n",
       "      <th>2015 Sales Q1</th>\n",
       "      <td>0.991969</td>\n",
       "      <td>0.276028</td>\n",
       "      <td>0.162222</td>\n",
       "      <td>0.987192</td>\n",
       "      <td>0.332944</td>\n",
       "      <td>0.276047</td>\n",
       "      <td>1.000000</td>\n",
       "      <td>0.137549</td>\n",
       "    </tr>\n",
       "    <tr>\n",
       "      <th>2016 Sales Q1</th>\n",
       "      <td>0.145856</td>\n",
       "      <td>0.030926</td>\n",
       "      <td>-0.008411</td>\n",
       "      <td>0.163130</td>\n",
       "      <td>0.034340</td>\n",
       "      <td>0.030846</td>\n",
       "      <td>0.137549</td>\n",
       "      <td>1.000000</td>\n",
       "    </tr>\n",
       "  </tbody>\n",
       "</table>\n",
       "</div>"
      ],
      "text/plain": [
       "                                2015 Sales  2015 Sales mean  \\\n",
       "2015 Sales                        1.000000         0.298137   \n",
       "2015 Sales mean                   0.298137         1.000000   \n",
       "Price per Liter mean              0.176184         0.179908   \n",
       "2015 Volume Sold (Liters)         0.993312         0.287567   \n",
       "2015 Volume Sold (Liters) mean    0.350103         0.943148   \n",
       "2015 Margin mean                  0.298186         0.999997   \n",
       "2015 Sales Q1                     0.991969         0.276028   \n",
       "2016 Sales Q1                     0.145856         0.030926   \n",
       "\n",
       "                                Price per Liter mean  \\\n",
       "2015 Sales                                  0.176184   \n",
       "2015 Sales mean                             0.179908   \n",
       "Price per Liter mean                        1.000000   \n",
       "2015 Volume Sold (Liters)                   0.137556   \n",
       "2015 Volume Sold (Liters) mean              0.004410   \n",
       "2015 Margin mean                            0.179066   \n",
       "2015 Sales Q1                               0.162222   \n",
       "2016 Sales Q1                              -0.008411   \n",
       "\n",
       "                                2015 Volume Sold (Liters)  \\\n",
       "2015 Sales                                       0.993312   \n",
       "2015 Sales mean                                  0.287567   \n",
       "Price per Liter mean                             0.137556   \n",
       "2015 Volume Sold (Liters)                        1.000000   \n",
       "2015 Volume Sold (Liters) mean                   0.355870   \n",
       "2015 Margin mean                                 0.287700   \n",
       "2015 Sales Q1                                    0.987192   \n",
       "2016 Sales Q1                                    0.163130   \n",
       "\n",
       "                                2015 Volume Sold (Liters) mean  \\\n",
       "2015 Sales                                            0.350103   \n",
       "2015 Sales mean                                       0.943148   \n",
       "Price per Liter mean                                  0.004410   \n",
       "2015 Volume Sold (Liters)                             0.355870   \n",
       "2015 Volume Sold (Liters) mean                        1.000000   \n",
       "2015 Margin mean                                      0.943726   \n",
       "2015 Sales Q1                                         0.332944   \n",
       "2016 Sales Q1                                         0.034340   \n",
       "\n",
       "                                2015 Margin mean  2015 Sales Q1  2016 Sales Q1  \n",
       "2015 Sales                              0.298186       0.991969       0.145856  \n",
       "2015 Sales mean                         0.999997       0.276028       0.030926  \n",
       "Price per Liter mean                    0.179066       0.162222      -0.008411  \n",
       "2015 Volume Sold (Liters)               0.287700       0.987192       0.163130  \n",
       "2015 Volume Sold (Liters) mean          0.943726       0.332944       0.034340  \n",
       "2015 Margin mean                        1.000000       0.276047       0.030846  \n",
       "2015 Sales Q1                           0.276047       1.000000       0.137549  \n",
       "2016 Sales Q1                           0.030846       0.137549       1.000000  "
      ]
     },
     "execution_count": 20,
     "metadata": {},
     "output_type": "execute_result"
    }
   ],
   "source": [
    "sales.corr()"
   ]
  },
  {
   "cell_type": "code",
   "execution_count": 21,
   "metadata": {
    "collapsed": false
   },
   "outputs": [
    {
     "data": {
      "text/plain": [
       "<seaborn.axisgrid.PairGrid at 0x118268eb8>"
      ]
     },
     "execution_count": 21,
     "metadata": {},
     "output_type": "execute_result"
    },
    {
     "data": {
      "image/png": "[encoded data removed]",
      "text/plain": [
       "<matplotlib.figure.Figure at 0x118268da0>"
      ]
     },
     "metadata": {},
     "output_type": "display_data"
    }
   ],
   "source": [
    "# Perform some exploratory analysis, make a few plots\n",
    "sns.pairplot(data = sales[['County Number', '2015 Volume Sold (Liters)']])"
   ]
  },
  {
   "cell_type": "code",
   "execution_count": 22,
   "metadata": {
    "collapsed": false
   },
   "outputs": [],
   "source": [
    "# Fit a linear model\n",
    "\n",
    "# Plot the data and the best fit line\n",
    "\n",
    "# Compute the model fit\n"
   ]
  },
  {
   "cell_type": "code",
   "execution_count": 23,
   "metadata": {
    "collapsed": false
   },
   "outputs": [],
   "source": [
    "# Predict Total 2016 sales, compare to 2015\n"
   ]
  },
  {
   "cell_type": "code",
   "execution_count": 24,
   "metadata": {
    "collapsed": false
   },
   "outputs": [],
   "source": [
    "# Try per zip code or city to get better resolution\n",
    "\n"
   ]
  },
  {
   "cell_type": "code",
   "execution_count": 25,
   "metadata": {
    "collapsed": false
   },
   "outputs": [],
   "source": [
    "# Filter out stores that opened or closed throughout the year\n",
    "# If this wasn't done already\n"
   ]
  },
  {
   "cell_type": "code",
   "execution_count": 26,
   "metadata": {
    "collapsed": false
   },
   "outputs": [],
   "source": [
    "# Fit another model\n",
    "\n",
    "# Compute the model fit\n"
   ]
  },
  {
   "cell_type": "code",
   "execution_count": 27,
   "metadata": {
    "collapsed": false
   },
   "outputs": [],
   "source": [
    "# Predict Total 2016 sales, compare to 2015\n"
   ]
  }
 ],
 "metadata": {
  "anaconda-cloud": {},
  "kernelspec": {
   "display_name": "Python [Root]",
   "language": "python",
   "name": "Python [Root]"
  },
  "language_info": {
   "codemirror_mode": {
    "name": "ipython",
    "version": 3
   },
   "file_extension": ".py",
   "mimetype": "text/x-python",
   "name": "python",
   "nbconvert_exporter": "python",
   "pygments_lexer": "ipython3",
   "version": "3.5.2"
  }
 },
 "nbformat": 4,
 "nbformat_minor": 0
}
