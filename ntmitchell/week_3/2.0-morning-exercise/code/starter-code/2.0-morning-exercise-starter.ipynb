{
 "cells": [
  {
   "cell_type": "code",
   "execution_count": 274,
   "metadata": {
    "collapsed": true
   },
   "outputs": [],
   "source": [
    "import pandas as pd\n",
    "import numpy as np"
   ]
  },
  {
   "cell_type": "code",
   "execution_count": 275,
   "metadata": {
    "collapsed": true
   },
   "outputs": [],
   "source": [
    "def read_csv(path): return pd.read_csv( path, sep = ',' )    "
   ]
  },
  {
   "cell_type": "code",
   "execution_count": 276,
   "metadata": {
    "collapsed": false
   },
   "outputs": [],
   "source": [
    "# This dataset is a list of student attributes in a school, Hair, Eye, Sex\n",
    "# and the Freq, or the total number of students with those attributes\n",
    "\n",
    "path = \"../../assets/HairEyeColor.csv\" # relative path\n",
    "df = read_csv(path) # calls read_csv function given path"
   ]
  },
  {
   "cell_type": "code",
   "execution_count": 277,
   "metadata": {
    "collapsed": false
   },
   "outputs": [
    {
     "name": "stdout",
     "output_type": "stream",
     "text": [
      "Unnamed: 0     int64\n",
      "Hair          object\n",
      "Eye           object\n",
      "Sex           object\n",
      "Freq           int64\n",
      "dtype: object\n"
     ]
    }
   ],
   "source": [
    "# What are the datatypes for the df?\n",
    "print(df.dtypes)"
   ]
  },
  {
   "cell_type": "code",
   "execution_count": 278,
   "metadata": {
    "collapsed": false
   },
   "outputs": [
    {
     "name": "stdout",
     "output_type": "stream",
     "text": [
      "Index(['Unnamed: 0', 'Hair', 'Eye', 'Sex', 'Freq'], dtype='object')\n"
     ]
    }
   ],
   "source": [
    "# create a variable called columns that will have a list of all dataframe column names\n",
    "columns = df.columns\n",
    "print(columns)"
   ]
  },
  {
   "cell_type": "code",
   "execution_count": 279,
   "metadata": {
    "collapsed": false
   },
   "outputs": [],
   "source": [
    "# Drop the Column Named 'Unnamed: 0' from df\n",
    "# Hint: If your column variable is a list, you can slice by index to access elements\n",
    "df = df[columns[1:]]"
   ]
  },
  {
   "cell_type": "code",
   "execution_count": 280,
   "metadata": {
    "collapsed": false
   },
   "outputs": [
    {
     "name": "stdout",
     "output_type": "stream",
     "text": [
      "Index(['Hair', 'Eye', 'Sex', 'Freq'], dtype='object')\n"
     ]
    }
   ],
   "source": [
    "# Show that the Column 'Unnamed: 0' has actually been removed\n",
    "print(df.columns)"
   ]
  },
  {
   "cell_type": "code",
   "execution_count": 293,
   "metadata": {
    "collapsed": false
   },
   "outputs": [
    {
     "data": {
      "text/plain": [
       "False"
      ]
     },
     "execution_count": 293,
     "metadata": {},
     "output_type": "execute_result"
    }
   ],
   "source": [
    "# Are there any null or empty values in df? \n",
    "df[df.isnull()].count(axis = 0)\n",
    "\n",
    "# Or: df.isnull().values.any()"
   ]
  },
  {
   "cell_type": "code",
   "execution_count": 282,
   "metadata": {
    "collapsed": false
   },
   "outputs": [
    {
     "name": "stdout",
     "output_type": "stream",
     "text": [
      "32\n"
     ]
    }
   ],
   "source": [
    "# How many rows are in df? \n",
    "print(df.shape[0])"
   ]
  },
  {
   "cell_type": "code",
   "execution_count": 283,
   "metadata": {
    "collapsed": false
   },
   "outputs": [
    {
     "name": "stdout",
     "output_type": "stream",
     "text": [
      "     Hair    Eye   Sex  Freq\n",
      "0   Black  Brown  Male    32\n",
      "1   Brown  Brown  Male    53\n",
      "2     Red  Brown  Male    10\n",
      "3   Blond  Brown  Male     3\n",
      "4   Black   Blue  Male    11\n",
      "5   Brown   Blue  Male    50\n",
      "6     Red   Blue  Male    10\n",
      "7   Blond   Blue  Male    30\n",
      "8   Black  Hazel  Male    10\n",
      "9   Brown  Hazel  Male    25\n",
      "10    Red  Hazel  Male     7\n",
      "11  Blond  Hazel  Male     5\n",
      "12  Black  Green  Male     3\n",
      "13  Brown  Green  Male    15\n",
      "14    Red  Green  Male     7\n"
     ]
    }
   ],
   "source": [
    "# print the first 15 rows in df\n",
    "print(df[0:15])"
   ]
  },
  {
   "cell_type": "code",
   "execution_count": 284,
   "metadata": {
    "collapsed": false
   },
   "outputs": [
    {
     "name": "stdout",
     "output_type": "stream",
     "text": [
      "     Hair    Eye     Sex  Freq\n",
      "0   Black  Brown    Male    32\n",
      "4   Black   Blue    Male    11\n",
      "8   Black  Hazel    Male    10\n",
      "12  Black  Green    Male     3\n",
      "16  Black  Brown  Female    36\n",
      "20  Black   Blue  Female     9\n",
      "24  Black  Hazel  Female     5\n",
      "28  Black  Green  Female     2\n"
     ]
    }
   ],
   "source": [
    "# create a another dataframe called df1 that has the records of students with only black hair\n",
    "df1 = df[df['Hair'] == 'Black']\n",
    "# call this dataframe df1\n",
    "print(df1)"
   ]
  },
  {
   "cell_type": "code",
   "execution_count": 285,
   "metadata": {
    "collapsed": false
   },
   "outputs": [
    {
     "name": "stdout",
     "output_type": "stream",
     "text": [
      "68 students have black eyes and brown hair.\n"
     ]
    }
   ],
   "source": [
    "# create a another dataframe called df2\n",
    "# df2 should have have records of students with black hair and brown eyes\n",
    "# HINT:, retransform df1!\n",
    "\n",
    "df2 = df1[df1['Eye'] == 'Brown']\n",
    "\n",
    "# How many students have black eyes and brown hair? \n",
    "print(\"{} students have black eyes and brown hair.\".format(df2['Freq'].sum()))\n",
    "\n",
    "# HINT: Once you have df2, you can do a sum operation on any column of df2, including Freq"
   ]
  },
  {
   "cell_type": "code",
   "execution_count": 286,
   "metadata": {
    "collapsed": false
   },
   "outputs": [
    {
     "name": "stdout",
     "output_type": "stream",
     "text": [
      "No students have black eyes. 32 male students have black hair and brown eyes.\n"
     ]
    }
   ],
   "source": [
    "# create a another dataframe called df3\n",
    "# df3 should have have records of male students with black hair and brown eyes\n",
    "# HINT:, retransform df2!\n",
    "\n",
    "df3 = df2[df2['Sex'] == 'Male']\n",
    "\n",
    "# How many blackeyed, brown hair, male students are in the class? \n",
    "print(\"No students have black eyes. {} male students have black hair and brown eyes.\".format(df3['Freq'].sum()))"
   ]
  },
  {
   "cell_type": "code",
   "execution_count": 287,
   "metadata": {
    "collapsed": false
   },
   "outputs": [
    {
     "name": "stdout",
     "output_type": "stream",
     "text": [
      "32 male students have black eyes and brown hair.\n"
     ]
    }
   ],
   "source": [
    "# create a another dataFrame called df4, that only filters df (NOT df1,df2,df3)\n",
    "# to get the total number of male students with black hair, brown eyes.\n",
    "# HINT: df4 = df[ (df.column1 == someVal1) & ..... & (df.columnN == someValN) ]\n",
    "# You can put multiple conditions in a dataframe by enclosing each condition in parenthesis,\n",
    "# and separating each consecutive condition with a '&' symbol.\n",
    "\n",
    "df4 = df[(df['Sex'] == 'Male') & (df['Hair'] == 'Black') & (df['Eye'] == 'Brown')]\n",
    "\n",
    "# One you have d4, print the total number of male students with black hair, brown eyes\n",
    "print(\"{} male students have black eyes and brown hair.\".format(df4['Freq'].sum()))"
   ]
  },
  {
   "cell_type": "code",
   "execution_count": 288,
   "metadata": {
    "collapsed": false
   },
   "outputs": [
    {
     "data": {
      "text/plain": [
       "32"
      ]
     },
     "execution_count": 288,
     "metadata": {},
     "output_type": "execute_result"
    }
   ],
   "source": [
    "# Answer the above question with a groupby and and a apply afterwards (using df)\n",
    "# HINT: df.groupby( listOfColumnssToGroupBy ).apply(someFunctionThatWillSumFreq)\n",
    "df.groupby(by = ['Sex', 'Hair', 'Eye'])['Freq'].sum().loc['Male']['Black']['Brown']"
   ]
  },
  {
   "cell_type": "code",
   "execution_count": 294,
   "metadata": {
    "collapsed": false
   },
   "outputs": [],
   "source": [
    "# using df (NOT df1,df2,df3,df4), replace all males with integer value of 1, \n",
    "# and all females to integer value of 0,\n",
    "# replace the Sex Column with new Column, keep the same name 'Sex'\n",
    "# hint. df['newCol'] = df.someColumn.apply(someFunction)\n",
    "# print the first 20 rows of the new Column\n",
    "\n",
    "def sex_binary(sex):\n",
    "    if sex == 'Male':\n",
    "        return 1\n",
    "    else:\n",
    "        return 0\n",
    "\n",
    "df['Sex'] = df['Sex'].apply(sex_binary)"
   ]
  },
  {
   "cell_type": "code",
   "execution_count": 290,
   "metadata": {
    "collapsed": false
   },
   "outputs": [
    {
     "name": "stdout",
     "output_type": "stream",
     "text": [
      "0     0.054054\n",
      "1     0.089527\n",
      "2     0.016892\n",
      "3     0.005068\n",
      "4     0.018581\n",
      "5     0.084459\n",
      "6     0.016892\n",
      "7     0.050676\n",
      "8     0.016892\n",
      "9     0.042230\n",
      "10    0.011824\n",
      "11    0.008446\n",
      "12    0.005068\n",
      "13    0.025338\n",
      "14    0.011824\n",
      "15    0.013514\n",
      "16    0.060811\n",
      "17    0.111486\n",
      "18    0.027027\n",
      "19    0.006757\n",
      "Name: FreqPercent, dtype: float64\n"
     ]
    }
   ],
   "source": [
    "# using df (NOT df1,df2,df3,df4) create a new column called FreqPercent \n",
    "# FreqPercent will be the corresponding percentage of students \n",
    "# with those students attributes for that record\n",
    "# HINT: someColumn = df.someColumn\n",
    "# sumOfColumn = sum( someColumn )\n",
    "# df['FreqPercent'] = someColumn.apply(someFunctionToGetFreqPercent)\n",
    "# print the first 20 rows of this new column\n",
    "\n",
    "df['FreqPercent'] = df['Freq'] / df['Freq'].sum()\n",
    "print(df['FreqPercent'][0:20])"
   ]
  },
  {
   "cell_type": "code",
   "execution_count": 291,
   "metadata": {
    "collapsed": false
   },
   "outputs": [
    {
     "name": "stdout",
     "output_type": "stream",
     "text": [
      "1.0000000000000002\n"
     ]
    }
   ],
   "source": [
    "# Ensure that the sum of all FreqPercent (our new column in df) is 100%\n",
    "print(df['FreqPercent'].sum())"
   ]
  },
  {
   "cell_type": "code",
   "execution_count": null,
   "metadata": {
    "collapsed": true
   },
   "outputs": [],
   "source": []
  }
 ],
 "metadata": {
  "anaconda-cloud": {},
  "kernelspec": {
   "display_name": "Python [Root]",
   "language": "python",
   "name": "Python [Root]"
  },
  "language_info": {
   "codemirror_mode": {
    "name": "ipython",
    "version": 3
   },
   "file_extension": ".py",
   "mimetype": "text/x-python",
   "name": "python",
   "nbconvert_exporter": "python",
   "pygments_lexer": "ipython3",
   "version": "3.5.2"
  }
 },
 "nbformat": 4,
 "nbformat_minor": 0
}
