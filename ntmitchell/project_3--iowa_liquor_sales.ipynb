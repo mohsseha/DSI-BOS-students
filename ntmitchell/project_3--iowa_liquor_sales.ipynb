{
 "cells": [
  {
   "cell_type": "markdown",
   "metadata": {},
   "source": [
    "# Getting started\n",
    "\n",
    "Once you've chosen your scenario, download the data from [the Iowa website](https://data.iowa.gov/Economy/Iowa-Liquor-Sales/m3tr-qhgy) in csv format. Start by loading the data with pandas. You may need to parse the date columns appropriately."
   ]
  },
  {
   "cell_type": "markdown",
   "metadata": {},
   "source": [
    ">This dataset contains the spirits purchase information of Iowa Class “E” liquor licensees by product and date of purchase from January 1, 2012 to current. The dataset can be used to analyze total spirits sales in Iowa of individual products at the store level.\n",
    ">\n",
    ">Class E liquor license, for grocery stores, liquor stores, convenience stores, etc., allows commercial establishments to sell liquor for off-premises consumption in original unopened containers."
   ]
  },
  {
   "cell_type": "code",
   "execution_count": 88,
   "metadata": {
    "collapsed": true
   },
   "outputs": [],
   "source": [
    "import pandas as pd\n",
    "import numpy as np\n",
    "\n",
    "%matplotlib inline"
   ]
  },
  {
   "cell_type": "code",
   "execution_count": 89,
   "metadata": {
    "collapsed": false
   },
   "outputs": [],
   "source": [
    "## Load the data into a DataFrame\n",
    "filepath = \"/Users/Nathan/Desktop/Iowa_Liquor_Sales_reduced.csv\"\n",
    "raw_data = pd.read_csv(filepath, low_memory = False)"
   ]
  },
  {
   "cell_type": "code",
   "execution_count": 90,
   "metadata": {
    "collapsed": false
   },
   "outputs": [],
   "source": [
    "# Copy the data to maintain an original version\n",
    "data = raw_data"
   ]
  },
  {
   "cell_type": "code",
   "execution_count": 92,
   "metadata": {
    "collapsed": false
   },
   "outputs": [
    {
     "name": "stdout",
     "output_type": "stream",
     "text": [
      "<class 'pandas.core.frame.DataFrame'>\n",
      "RangeIndex: 2709552 entries, 0 to 2709551\n",
      "Data columns (total 18 columns):\n",
      "Date                     object\n",
      "Store Number             int64\n",
      "City                     object\n",
      "Zip Code                 object\n",
      "County Number            float64\n",
      "County                   object\n",
      "Category                 float64\n",
      "Category Name            object\n",
      "Vendor Number            int64\n",
      "Item Number              int64\n",
      "Item Description         object\n",
      "Bottle Volume (ml)       int64\n",
      "State Bottle Cost        object\n",
      "State Bottle Retail      object\n",
      "Bottles Sold             int64\n",
      "Sale (Dollars)           object\n",
      "Volume Sold (Liters)     float64\n",
      "Volume Sold (Gallons)    float64\n",
      "dtypes: float64(4), int64(5), object(9)\n",
      "memory usage: 372.1+ MB\n"
     ]
    }
   ],
   "source": [
    "data.info()"
   ]
  },
  {
   "cell_type": "markdown",
   "metadata": {},
   "source": [
    "# Cleaning and Converting"
   ]
  },
  {
   "cell_type": "code",
   "execution_count": 93,
   "metadata": {
    "collapsed": false
   },
   "outputs": [],
   "source": [
    "# Remove redundant columns\n",
    "del data[\"Category Name\"]\n",
    "del data[\"Item Description\"]\n",
    "del data[\"County\"]\n",
    "\n",
    "# Drop bad values\n",
    "data = data.dropna()"
   ]
  },
  {
   "cell_type": "code",
   "execution_count": 98,
   "metadata": {
    "collapsed": false
   },
   "outputs": [
    {
     "name": "stderr",
     "output_type": "stream",
     "text": [
      "//anaconda/lib/python3.5/site-packages/pandas/core/indexing.py:465: SettingWithCopyWarning: \n",
      "A value is trying to be set on a copy of a slice from a DataFrame.\n",
      "Try using .loc[row_indexer,col_indexer] = value instead\n",
      "\n",
      "See the caveats in the documentation: http://pandas.pydata.org/pandas-docs/stable/indexing.html#indexing-view-versus-copy\n",
      "  self.obj[item] = s\n"
     ]
    }
   ],
   "source": [
    "## Transform the dates if needed\n",
    "data.loc[:,\"Date\"] = pd.to_datetime(data[\"Date\"], format = \"%m/%d/%Y\")\n",
    "\n",
    "# Remove $ from certain columns\n",
    "cols = [\"State Bottle Cost\", \"State Bottle Retail\", \"Sale (Dollars)\"]\n",
    "for col in cols:\n",
    "    data.loc[:,col] = data[col].apply(lambda x: float(x[1:]))\n",
    "    \n",
    "# Convert integers\n",
    "data.loc[:,\"County Number\"] = data[\"County Number\"].astype(int)\n",
    "data.loc[:,\"Category\"] = data[\"Category\"].astype(int)"
   ]
  },
  {
   "cell_type": "code",
   "execution_count": 99,
   "metadata": {
    "collapsed": false
   },
   "outputs": [],
   "source": [
    "# Determine which stores were open all of 2015\n",
    "# Find the first and last sales date.\n",
    "dates = data.groupby(by=[\"Store Number\"], as_index=False)\n",
    "dates = dates.agg({\"Date\": [np.min, np.max]})\n",
    "dates.columns = [' '.join(col).strip() for col in dates.columns.values]\n",
    "dates.head()\n",
    "\n",
    "# Filter out stores that opened or closed throughout the year\n",
    "# You may want to save this step until you start modelling\n",
    "lower_cutoff = pd.Timestamp(\"20150301\")\n",
    "upper_cutoff = pd.Timestamp(\"20151001\")\n",
    "mask = (dates['Date amin'] < lower_cutoff) & (dates['Date amax'] > upper_cutoff)\n",
    "good_stores = dates[mask][\"Store Number\"]\n",
    "#data = data[data[\"Store Number\"].isin(good_stores)]"
   ]
  },
  {
   "cell_type": "code",
   "execution_count": 208,
   "metadata": {
    "collapsed": false
   },
   "outputs": [
    {
     "name": "stdout",
     "output_type": "stream",
     "text": [
      "              Date  Store Number         City Zip Code  County Number  \\\n",
      "1995578 2015-05-07          2106  CEDAR FALLS    50613              7   \n",
      "45835   2016-03-24          2106  CEDAR FALLS    50613              7   \n",
      "205945  2016-02-25          2106  CEDAR FALLS    50613              7   \n",
      "1269603 2015-09-03          2106  CEDAR FALLS    50613              7   \n",
      "2352855 2015-03-05          2106  CEDAR FALLS    50613              7   \n",
      "1145318 2015-09-24          2106  CEDAR FALLS    50613              7   \n",
      "856551  2015-11-12          2106  CEDAR FALLS    50613              7   \n",
      "979736  2015-10-22          2106  CEDAR FALLS    50613              7   \n",
      "2236305 2015-03-26          2106  CEDAR FALLS    50613              7   \n",
      "1737715 2015-06-18          2106  CEDAR FALLS    50613              7   \n",
      "\n",
      "         Category  State Bottle Cost  State Bottle Retail  Bottles Sold  \\\n",
      "1995578   1081355               4.75                 7.13            12   \n",
      "45835     1031080               4.42                 6.63            12   \n",
      "205945    1081390              13.00                19.50            24   \n",
      "1269603   1011100               4.46                 6.69             4   \n",
      "2352855   1012200               5.13                 7.70            12   \n",
      "1145318   1031080               7.20                10.80            12   \n",
      "856551    1082900              15.54                23.31            72   \n",
      "979736    1011100               4.40                 6.60            96   \n",
      "2236305   1022100               6.63                 9.95           168   \n",
      "1737715   1081200              16.34                24.51            12   \n",
      "\n",
      "         Sale (Dollars)  Volume Sold (Liters)  Volume Sold (Gallons)  \n",
      "1995578           85.56                   9.0                   2.38  \n",
      "45835             79.56                  12.0                   3.17  \n",
      "205945           468.00                  18.0                   4.76  \n",
      "1269603           26.76                   4.0                   1.06  \n",
      "2352855           92.40                   9.0                   2.38  \n",
      "1145318          129.60                  21.0                   5.55  \n",
      "856551          1678.32                  72.0                  19.02  \n",
      "979736           633.60                  96.0                  25.36  \n",
      "2236305         1671.60                 168.0                  44.38  \n",
      "1737715          294.12                  12.0                   3.17  \n"
     ]
    }
   ],
   "source": [
    "# Make a reduced version of the cleaned data, for faster analysis\n",
    "sampled_store_numbers = list(data[['Store Number']].sample(frac = 0.1).index)\n",
    "sampled_data = data.ix[sampled_store_numbers]\n",
    "\n",
    "del sampled_data['Vendor Number']\n",
    "del sampled_data['Item Number']\n",
    "del sampled_data['Bottle Volume (ml)']\n",
    "\n",
    "print(sampled_data.sort_values(by = 'Store Number')[0:10])"
   ]
  },
  {
   "cell_type": "code",
   "execution_count": 202,
   "metadata": {
    "collapsed": false
   },
   "outputs": [
    {
     "data": {
      "text/plain": [
       "Index(['County Number', 'Category', 'State Bottle Cost', 'State Bottle Retail',\n",
       "       'Bottles Sold', 'Sale (Dollars)', 'Volume Sold (Liters)',\n",
       "       'Volume Sold (Gallons)'],\n",
       "      dtype='object')"
      ]
     },
     "execution_count": 202,
     "metadata": {},
     "output_type": "execute_result"
    }
   ],
   "source": [
    "# Group data by store number\n",
    "data_grouped_by_store = sampled_data.groupby(by = 'Store Number').sum()\n",
    "data_grouped_by_store.columns"
   ]
  },
  {
   "cell_type": "markdown",
   "metadata": {},
   "source": [
    "# Explore the data\n",
    "\n",
    "Perform some exploratory statistical analysis and make some plots, such as histograms of transaction totals, bottles sold, etc."
   ]
  },
  {
   "cell_type": "code",
   "execution_count": 174,
   "metadata": {
    "collapsed": true
   },
   "outputs": [],
   "source": [
    "import seaborn as sns\n",
    "import matplotlib.pyplot as plt"
   ]
  },
  {
   "cell_type": "code",
   "execution_count": 203,
   "metadata": {
    "collapsed": false
   },
   "outputs": [
    {
     "data": {
      "image/png": "[encoded data removed]",
      "text/plain": [
       "<matplotlib.figure.Figure at 0x1146eaac8>"
      ]
     },
     "metadata": {},
     "output_type": "display_data"
    },
    {
     "data": {
      "image/png": "[encoded data removed]",
      "text/plain": [
       "<matplotlib.figure.Figure at 0x118a091d0>"
      ]
     },
     "metadata": {},
     "output_type": "display_data"
    }
   ],
   "source": [
    "sns.plt.scatter(data = sampled_data, x = 'Volume Sold (Liters)', y = 'Sale (Dollars)')\n",
    "sns.plt.show()\n",
    "sns.plt.scatter(data = data_grouped_by_store, x = 'Volume Sold (Liters)', y = 'Sale (Dollars)')\n",
    "sns.plt.show()"
   ]
  },
  {
   "cell_type": "code",
   "execution_count": 206,
   "metadata": {
    "collapsed": false
   },
   "outputs": [
    {
     "name": "stderr",
     "output_type": "stream",
     "text": [
      "//anaconda/lib/python3.5/site-packages/statsmodels/nonparametric/kdetools.py:20: VisibleDeprecationWarning: using a non-integer number instead of an integer will result in an error in the future\n",
      "  y = X[:m/2+1] + np.r_[0,X[m/2+1:],0]*1j\n"
     ]
    },
    {
     "data": {
      "image/png": "[encoded data removed]",
      "text/plain": [
       "<matplotlib.figure.Figure at 0x119f66cc0>"
      ]
     },
     "metadata": {},
     "output_type": "display_data"
    },
    {
     "data": {
      "image/png": "[encoded data removed]",
      "text/plain": [
       "<matplotlib.figure.Figure at 0x11a65beb8>"
      ]
     },
     "metadata": {},
     "output_type": "display_data"
    }
   ],
   "source": [
    "sns.distplot(a = data_grouped_by_store['Bottles Sold'])\n",
    "#sns.distplot(a = sampled_data['Bottles Sold'])\n",
    "sns.plt.show()\n",
    "\n",
    "sns.distplot(a = data_grouped_by_store['State Bottle Retail'])\n",
    "sns.plt.show()"
   ]
  },
  {
   "cell_type": "code",
   "execution_count": null,
   "metadata": {
    "collapsed": true
   },
   "outputs": [],
   "source": [
    "# loop through, box & whisker"
   ]
  },
  {
   "cell_type": "markdown",
   "metadata": {},
   "source": [
    "## Record your findings\n",
    "\n",
    "Be sure to write out anything observations from your exploratory analysis."
   ]
  },
  {
   "cell_type": "markdown",
   "metadata": {},
   "source": [
    "# Mine the data\n",
    "Now you are ready to compute the variables you will use for your regression from the data. For example, you may want to\n",
    "compute total sales per store from Jan to March of 2015, mean price per bottle, etc. Refer to the readme for more ideas appropriate to your scenario.\n",
    "\n",
    "Pandas is your friend for this task. Take a look at the operations [here](http://pandas.pydata.org/pandas-docs/stable/groupby.html) for ideas on how to make the best use of pandas and feel free to search for blog and Stack Overflow posts to help you group data by certain variables and compute sums, means, etc. You may find it useful to create a new data frame to house this summary data."
   ]
  },
  {
   "cell_type": "markdown",
   "metadata": {},
   "source": [
    "# Refine the data\n",
    "Look for any statistical relationships, correlations, or other relevant properties of the dataset."
   ]
  },
  {
   "cell_type": "code",
   "execution_count": null,
   "metadata": {
    "collapsed": true
   },
   "outputs": [],
   "source": []
  },
  {
   "cell_type": "markdown",
   "metadata": {},
   "source": [
    "# Build your models\n",
    "\n",
    "Using scikit-learn or statsmodels, build the necessary models for your scenario. Evaluate model fit."
   ]
  },
  {
   "cell_type": "code",
   "execution_count": null,
   "metadata": {
    "collapsed": true
   },
   "outputs": [],
   "source": [
    "from sklearn import linear_model\n"
   ]
  },
  {
   "cell_type": "markdown",
   "metadata": {},
   "source": [
    "## Plot your results\n",
    "\n",
    "Again make sure that you record any valuable information. For example, in the tax scenario, did you find the sales from the first three months of the year to be a good predictor of the total sales for the year? Plot the predictions versus the true values and discuss the successes and limitations of your models"
   ]
  },
  {
   "cell_type": "code",
   "execution_count": null,
   "metadata": {
    "collapsed": true
   },
   "outputs": [],
   "source": []
  },
  {
   "cell_type": "markdown",
   "metadata": {},
   "source": [
    "# Present the Results\n",
    "\n",
    "Present your conclusions and results. If you have more than one interesting model feel free to include more than one along with a discussion. Use your work in this notebook to prepare your write-up."
   ]
  },
  {
   "cell_type": "code",
   "execution_count": null,
   "metadata": {
    "collapsed": true
   },
   "outputs": [],
   "source": []
  }
 ],
 "metadata": {
  "anaconda-cloud": {},
  "kernelspec": {
   "display_name": "Python [Root]",
   "language": "python",
   "name": "Python [Root]"
  },
  "language_info": {
   "codemirror_mode": {
    "name": "ipython",
    "version": 3
   },
   "file_extension": ".py",
   "mimetype": "text/x-python",
   "name": "python",
   "nbconvert_exporter": "python",
   "pygments_lexer": "ipython3",
   "version": "3.5.2"
  }
 },
 "nbformat": 4,
 "nbformat_minor": 0
}
