{
 "cells": [
  {
   "cell_type": "markdown",
   "metadata": {},
   "source": [
    "# Getting started\n",
    "\n",
    "Once you've chosen your scenario, download the data from [the Iowa website](https://data.iowa.gov/Economy/Iowa-Liquor-Sales/m3tr-qhgy) in csv format. Start by loading the data with pandas. You may need to parse the date columns appropriately."
   ]
  },
  {
   "cell_type": "markdown",
   "metadata": {},
   "source": [
    ">This dataset contains the spirits purchase information of Iowa Class “E” liquor licensees by product and date of purchase from January 1, 2012 to current. The dataset can be used to analyze total spirits sales in Iowa of individual products at the store level.\n",
    ">\n",
    ">Class E liquor license, for grocery stores, liquor stores, convenience stores, etc., allows commercial establishments to sell liquor for off-premises consumption in original unopened containers.\n",
    "\n",
    "> ## Scenario 2: Market research for new store locations\n",
    "\n",
    ">A liquor store owner in Iowa is looking to expand to new locations and has hired you to investigate the market data for potential new locations. The business owner is interested in the details of the best model you can fit to the data so that his team can evaluate potential locations for a new storefront.\n",
    "\n",
    ">Goal for Scenario #2: Your task is to:\n",
    ">\n",
    ">* Build models of total sales based on location, price per bottle, total bottles sold. You may find it useful to build models for each county, zip code, or city.\n",
    ">* Provide a table of the best performing stores by location type of your choice (city, county, or zip code) and the predictions of your model(s).\n",
    ">* Based on your models and the table of data, recommend some general locations to the business owner, taking into account model performance. Validate your model's performance and ability to predict future sales using cross-validation.\n",
    ">* Bonus: Recommend targets for volume sold and price per bottle!"
   ]
  },
  {
   "cell_type": "code",
   "execution_count": 1,
   "metadata": {
    "collapsed": true
   },
   "outputs": [],
   "source": [
    "import pandas as pd\n",
    "import numpy as np\n",
    "from sklearn import linear_model, preprocessing, metrics\n",
    "import seaborn as sns\n",
    "import matplotlib.pyplot as plt\n",
    "\n",
    "%matplotlib inline"
   ]
  },
  {
   "cell_type": "code",
   "execution_count": 2,
   "metadata": {
    "collapsed": false
   },
   "outputs": [],
   "source": [
    "## Load the data into a DataFrame\n",
    "filepath = \"/Users/Nathan/Desktop/Iowa_Liquor_Sales_reduced.csv\"\n",
    "raw_data = pd.read_csv(filepath, low_memory = False)"
   ]
  },
  {
   "cell_type": "code",
   "execution_count": 3,
   "metadata": {
    "collapsed": false
   },
   "outputs": [],
   "source": [
    "# Copy the data to maintain an original version\n",
    "data = raw_data"
   ]
  },
  {
   "cell_type": "code",
   "execution_count": 4,
   "metadata": {
    "collapsed": false
   },
   "outputs": [
    {
     "name": "stdout",
     "output_type": "stream",
     "text": [
      "<class 'pandas.core.frame.DataFrame'>\n",
      "RangeIndex: 2709552 entries, 0 to 2709551\n",
      "Data columns (total 18 columns):\n",
      "Date                     object\n",
      "Store Number             int64\n",
      "City                     object\n",
      "Zip Code                 object\n",
      "County Number            float64\n",
      "County                   object\n",
      "Category                 float64\n",
      "Category Name            object\n",
      "Vendor Number            int64\n",
      "Item Number              int64\n",
      "Item Description         object\n",
      "Bottle Volume (ml)       int64\n",
      "State Bottle Cost        object\n",
      "State Bottle Retail      object\n",
      "Bottles Sold             int64\n",
      "Sale (Dollars)           object\n",
      "Volume Sold (Liters)     float64\n",
      "Volume Sold (Gallons)    float64\n",
      "dtypes: float64(4), int64(5), object(9)\n",
      "memory usage: 372.1+ MB\n"
     ]
    }
   ],
   "source": [
    "data.info()"
   ]
  },
  {
   "cell_type": "code",
   "execution_count": 5,
   "metadata": {
    "collapsed": false
   },
   "outputs": [],
   "source": [
    "# Make a reduced version of the cleaned data, for faster analysis\n",
    "data = data.ix[list(data[['Store Number']].sample(frac = 0.1).index)]"
   ]
  },
  {
   "cell_type": "markdown",
   "metadata": {},
   "source": [
    "# Cleaning and Converting"
   ]
  },
  {
   "cell_type": "markdown",
   "metadata": {},
   "source": [
    "### Dropping Data"
   ]
  },
  {
   "cell_type": "code",
   "execution_count": 6,
   "metadata": {
    "collapsed": false
   },
   "outputs": [],
   "source": [
    "# Remove redundant columns\n",
    "del data[\"Category Name\"]\n",
    "del data[\"Item Description\"]\n",
    "del data[\"County\"]\n",
    "del data[\"Volume Sold (Gallons)\"]\n",
    "\n",
    "# Drop bad values\n",
    "data = data.dropna()"
   ]
  },
  {
   "cell_type": "markdown",
   "metadata": {},
   "source": [
    "### Making a reduced dataset"
   ]
  },
  {
   "cell_type": "markdown",
   "metadata": {},
   "source": [
    "### Converting Data"
   ]
  },
  {
   "cell_type": "code",
   "execution_count": 7,
   "metadata": {
    "collapsed": false
   },
   "outputs": [],
   "source": [
    "## Transform the dates if needed\n",
    "data.loc[:,\"Date\"] = pd.to_datetime(data[\"Date\"], format = \"%m/%d/%Y\")\n",
    "\n",
    "# Remove $ from certain columns\n",
    "cols = [\"State Bottle Cost\", \"State Bottle Retail\", \"Sale (Dollars)\"]\n",
    "for col in cols:\n",
    "    data.loc[:,col] = data[col].apply(lambda x: float(x[1:]))"
   ]
  },
  {
   "cell_type": "code",
   "execution_count": 8,
   "metadata": {
    "collapsed": false
   },
   "outputs": [],
   "source": [
    "# Converting categorical data\n",
    "data.loc[:,'City'] = data['City'].astype('category')\n",
    "data.loc[:,\"County Number\"] = data[\"County Number\"].astype(int)\n",
    "data.loc[:,\"Category\"] = data[\"Category\"].astype(int)"
   ]
  },
  {
   "cell_type": "code",
   "execution_count": 9,
   "metadata": {
    "collapsed": false
   },
   "outputs": [],
   "source": [
    "# Determine which stores were open all of 2015\n",
    "# Find the first and last sales date.\n",
    "dates = data.groupby(by=[\"Store Number\"], as_index=False)\n",
    "dates = dates.agg({\"Date\": [np.min, np.max]})\n",
    "dates.columns = [' '.join(col).strip() for col in dates.columns.values]\n",
    "\n",
    "# Filter out stores that opened or closed throughout the year\n",
    "# You may want to save this step until you start modelling\n",
    "lower_cutoff = pd.Timestamp(\"20150301\")\n",
    "upper_cutoff = pd.Timestamp(\"20151001\")\n",
    "mask = (dates['Date amin'] < lower_cutoff) & (dates['Date amax'] > upper_cutoff)\n",
    "good_stores = dates[mask][\"Store Number\"]\n",
    "data_for_open_stores = data[data[\"Store Number\"].isin(good_stores)]"
   ]
  },
  {
   "cell_type": "markdown",
   "metadata": {},
   "source": [
    "### Grouping by store number and deleting unnecessary rows"
   ]
  },
  {
   "cell_type": "code",
   "execution_count": 10,
   "metadata": {
    "collapsed": false
   },
   "outputs": [],
   "source": [
    "# Group data by store number\n",
    "data_grouped_by_store = data.groupby(by = 'Store Number').sum()\n",
    "\n",
    "del data['Vendor Number']\n",
    "del data['Item Number']\n",
    "del data['Bottle Volume (ml)']"
   ]
  },
  {
   "cell_type": "markdown",
   "metadata": {},
   "source": [
    "### Calculating Q1 Sales data for 2015 and 2016"
   ]
  },
  {
   "cell_type": "code",
   "execution_count": 11,
   "metadata": {
    "collapsed": true
   },
   "outputs": [],
   "source": [
    "data[\"Sales Q1 2015\"] = data[(data['Date'].dt.year == 2015) & (data['Date'].dt.month < 4)]['Sale (Dollars)']\n",
    "data[\"Sales Q1 2016\"] = data[(data['Date'].dt.year == 2016) & (data['Date'].dt.month < 4)]['Sale (Dollars)']"
   ]
  },
  {
   "cell_type": "markdown",
   "metadata": {},
   "source": [
    "# Explore the data\n",
    "\n",
    "Perform some exploratory statistical analysis and make some plots, such as histograms of transaction totals, bottles sold, etc."
   ]
  },
  {
   "cell_type": "code",
   "execution_count": 12,
   "metadata": {
    "collapsed": false,
    "scrolled": true
   },
   "outputs": [
    {
     "name": "stderr",
     "output_type": "stream",
     "text": [
      "//anaconda/lib/python3.5/site-packages/statsmodels/nonparametric/kdetools.py:20: VisibleDeprecationWarning: using a non-integer number instead of an integer will result in an error in the future\n",
      "  y = X[:m/2+1] + np.r_[0,X[m/2+1:],0]*1j\n"
     ]
    },
    {
     "data": {
      "image/png": "[encoded data removed]",
      "text/plain": [
       "<matplotlib.figure.Figure at 0x117b4b278>"
      ]
     },
     "metadata": {},
     "output_type": "display_data"
    },
    {
     "data": {
      "image/png": "[encoded data removed]",
      "text/plain": [
       "<matplotlib.figure.Figure at 0x114ba6160>"
      ]
     },
     "metadata": {},
     "output_type": "display_data"
    }
   ],
   "source": [
    "sns.distplot(a = data_grouped_by_store['Sale (Dollars)'])\n",
    "plt.xlim(xmin = 0)\n",
    "plt.show()\n",
    "\n",
    "sns.distplot(a = data_for_open_stores.groupby(by = 'Store Number').sum()['Sale (Dollars)'])\n",
    "plt.xlim(xmin = 0)\n",
    "plt.show()"
   ]
  },
  {
   "cell_type": "markdown",
   "metadata": {},
   "source": [
    "#### Why do so many stores have small sale numbers? Do they sell other items too, and therefore do not specialize in liquor?"
   ]
  },
  {
   "cell_type": "code",
   "execution_count": 13,
   "metadata": {
    "collapsed": false,
    "scrolled": true
   },
   "outputs": [
    {
     "data": {
      "text/html": [
       "<div>\n",
       "<table border=\"1\" class=\"dataframe\">\n",
       "  <thead>\n",
       "    <tr style=\"text-align: right;\">\n",
       "      <th></th>\n",
       "      <th>County Number</th>\n",
       "      <th>Category</th>\n",
       "      <th>Vendor Number</th>\n",
       "      <th>Item Number</th>\n",
       "      <th>Bottle Volume (ml)</th>\n",
       "      <th>State Bottle Cost</th>\n",
       "      <th>State Bottle Retail</th>\n",
       "      <th>Bottles Sold</th>\n",
       "      <th>Sale (Dollars)</th>\n",
       "      <th>Volume Sold (Liters)</th>\n",
       "    </tr>\n",
       "    <tr>\n",
       "      <th>Store Number</th>\n",
       "      <th></th>\n",
       "      <th></th>\n",
       "      <th></th>\n",
       "      <th></th>\n",
       "      <th></th>\n",
       "      <th></th>\n",
       "      <th></th>\n",
       "      <th></th>\n",
       "      <th></th>\n",
       "      <th></th>\n",
       "    </tr>\n",
       "  </thead>\n",
       "  <tbody>\n",
       "    <tr>\n",
       "      <th>2633</th>\n",
       "      <td>182644</td>\n",
       "      <td>2479606942</td>\n",
       "      <td>610623</td>\n",
       "      <td>142624319</td>\n",
       "      <td>2163850</td>\n",
       "      <td>27992.58</td>\n",
       "      <td>42020.57</td>\n",
       "      <td>72814</td>\n",
       "      <td>1181384.48</td>\n",
       "      <td>70973.50</td>\n",
       "    </tr>\n",
       "    <tr>\n",
       "      <th>4829</th>\n",
       "      <td>174328</td>\n",
       "      <td>2363460979</td>\n",
       "      <td>584110</td>\n",
       "      <td>114977157</td>\n",
       "      <td>2047350</td>\n",
       "      <td>28020.89</td>\n",
       "      <td>42051.12</td>\n",
       "      <td>64817</td>\n",
       "      <td>1088962.64</td>\n",
       "      <td>62310.69</td>\n",
       "    </tr>\n",
       "    <tr>\n",
       "      <th>2512</th>\n",
       "      <td>94276</td>\n",
       "      <td>1891044292</td>\n",
       "      <td>459389</td>\n",
       "      <td>100298212</td>\n",
       "      <td>1684925</td>\n",
       "      <td>19547.21</td>\n",
       "      <td>29343.00</td>\n",
       "      <td>32794</td>\n",
       "      <td>501457.98</td>\n",
       "      <td>30795.22</td>\n",
       "    </tr>\n",
       "    <tr>\n",
       "      <th>3385</th>\n",
       "      <td>35112</td>\n",
       "      <td>644376485</td>\n",
       "      <td>155484</td>\n",
       "      <td>28991793</td>\n",
       "      <td>651000</td>\n",
       "      <td>7418.03</td>\n",
       "      <td>11135.22</td>\n",
       "      <td>26584</td>\n",
       "      <td>441654.57</td>\n",
       "      <td>29221.50</td>\n",
       "    </tr>\n",
       "    <tr>\n",
       "      <th>3952</th>\n",
       "      <td>93234</td>\n",
       "      <td>1186357063</td>\n",
       "      <td>286350</td>\n",
       "      <td>58709610</td>\n",
       "      <td>1036375</td>\n",
       "      <td>15774.26</td>\n",
       "      <td>23672.37</td>\n",
       "      <td>23024</td>\n",
       "      <td>397583.01</td>\n",
       "      <td>21903.35</td>\n",
       "    </tr>\n",
       "  </tbody>\n",
       "</table>\n",
       "</div>"
      ],
      "text/plain": [
       "              County Number    Category  Vendor Number  Item Number  \\\n",
       "Store Number                                                          \n",
       "2633                 182644  2479606942         610623    142624319   \n",
       "4829                 174328  2363460979         584110    114977157   \n",
       "2512                  94276  1891044292         459389    100298212   \n",
       "3385                  35112   644376485         155484     28991793   \n",
       "3952                  93234  1186357063         286350     58709610   \n",
       "\n",
       "              Bottle Volume (ml)  State Bottle Cost  State Bottle Retail  \\\n",
       "Store Number                                                               \n",
       "2633                     2163850           27992.58             42020.57   \n",
       "4829                     2047350           28020.89             42051.12   \n",
       "2512                     1684925           19547.21             29343.00   \n",
       "3385                      651000            7418.03             11135.22   \n",
       "3952                     1036375           15774.26             23672.37   \n",
       "\n",
       "              Bottles Sold  Sale (Dollars)  Volume Sold (Liters)  \n",
       "Store Number                                                      \n",
       "2633                 72814      1181384.48              70973.50  \n",
       "4829                 64817      1088962.64              62310.69  \n",
       "2512                 32794       501457.98              30795.22  \n",
       "3385                 26584       441654.57              29221.50  \n",
       "3952                 23024       397583.01              21903.35  "
      ]
     },
     "execution_count": 13,
     "metadata": {},
     "output_type": "execute_result"
    }
   ],
   "source": [
    "# Top purchasers\n",
    "data_grouped_by_store.sort_values(by = \"Sale (Dollars)\", ascending=False)[:5]"
   ]
  },
  {
   "cell_type": "code",
   "execution_count": 14,
   "metadata": {
    "collapsed": false
   },
   "outputs": [
    {
     "data": {
      "text/html": [
       "<div>\n",
       "<table border=\"1\" class=\"dataframe\">\n",
       "  <thead>\n",
       "    <tr style=\"text-align: right;\">\n",
       "      <th></th>\n",
       "      <th>County Number</th>\n",
       "      <th>Category</th>\n",
       "      <th>Vendor Number</th>\n",
       "      <th>Item Number</th>\n",
       "      <th>Bottle Volume (ml)</th>\n",
       "      <th>State Bottle Cost</th>\n",
       "      <th>State Bottle Retail</th>\n",
       "      <th>Bottles Sold</th>\n",
       "      <th>Sale (Dollars)</th>\n",
       "      <th>Volume Sold (Liters)</th>\n",
       "    </tr>\n",
       "    <tr>\n",
       "      <th>Store Number</th>\n",
       "      <th></th>\n",
       "      <th></th>\n",
       "      <th></th>\n",
       "      <th></th>\n",
       "      <th></th>\n",
       "      <th></th>\n",
       "      <th></th>\n",
       "      <th></th>\n",
       "      <th></th>\n",
       "      <th></th>\n",
       "    </tr>\n",
       "  </thead>\n",
       "  <tbody>\n",
       "    <tr>\n",
       "      <th>4059</th>\n",
       "      <td>6</td>\n",
       "      <td>1012100</td>\n",
       "      <td>115</td>\n",
       "      <td>11786</td>\n",
       "      <td>750</td>\n",
       "      <td>5.23</td>\n",
       "      <td>7.85</td>\n",
       "      <td>4</td>\n",
       "      <td>31.40</td>\n",
       "      <td>3.00</td>\n",
       "    </tr>\n",
       "    <tr>\n",
       "      <th>4567</th>\n",
       "      <td>154</td>\n",
       "      <td>2043180</td>\n",
       "      <td>375</td>\n",
       "      <td>48549</td>\n",
       "      <td>750</td>\n",
       "      <td>7.82</td>\n",
       "      <td>11.74</td>\n",
       "      <td>9</td>\n",
       "      <td>56.61</td>\n",
       "      <td>3.37</td>\n",
       "    </tr>\n",
       "    <tr>\n",
       "      <th>4939</th>\n",
       "      <td>308</td>\n",
       "      <td>4065680</td>\n",
       "      <td>645</td>\n",
       "      <td>95012</td>\n",
       "      <td>3500</td>\n",
       "      <td>35.65</td>\n",
       "      <td>53.49</td>\n",
       "      <td>7</td>\n",
       "      <td>76.32</td>\n",
       "      <td>6.50</td>\n",
       "    </tr>\n",
       "    <tr>\n",
       "      <th>5056</th>\n",
       "      <td>390</td>\n",
       "      <td>5098780</td>\n",
       "      <td>875</td>\n",
       "      <td>129913</td>\n",
       "      <td>1175</td>\n",
       "      <td>17.59</td>\n",
       "      <td>26.39</td>\n",
       "      <td>15</td>\n",
       "      <td>79.17</td>\n",
       "      <td>3.52</td>\n",
       "    </tr>\n",
       "    <tr>\n",
       "      <th>4486</th>\n",
       "      <td>60</td>\n",
       "      <td>2095000</td>\n",
       "      <td>307</td>\n",
       "      <td>75806</td>\n",
       "      <td>1500</td>\n",
       "      <td>18.80</td>\n",
       "      <td>28.21</td>\n",
       "      <td>9</td>\n",
       "      <td>115.02</td>\n",
       "      <td>6.75</td>\n",
       "    </tr>\n",
       "  </tbody>\n",
       "</table>\n",
       "</div>"
      ],
      "text/plain": [
       "              County Number  Category  Vendor Number  Item Number  \\\n",
       "Store Number                                                        \n",
       "4059                      6   1012100            115        11786   \n",
       "4567                    154   2043180            375        48549   \n",
       "4939                    308   4065680            645        95012   \n",
       "5056                    390   5098780            875       129913   \n",
       "4486                     60   2095000            307        75806   \n",
       "\n",
       "              Bottle Volume (ml)  State Bottle Cost  State Bottle Retail  \\\n",
       "Store Number                                                               \n",
       "4059                         750               5.23                 7.85   \n",
       "4567                         750               7.82                11.74   \n",
       "4939                        3500              35.65                53.49   \n",
       "5056                        1175              17.59                26.39   \n",
       "4486                        1500              18.80                28.21   \n",
       "\n",
       "              Bottles Sold  Sale (Dollars)  Volume Sold (Liters)  \n",
       "Store Number                                                      \n",
       "4059                     4           31.40                  3.00  \n",
       "4567                     9           56.61                  3.37  \n",
       "4939                     7           76.32                  6.50  \n",
       "5056                    15           79.17                  3.52  \n",
       "4486                     9          115.02                  6.75  "
      ]
     },
     "execution_count": 14,
     "metadata": {},
     "output_type": "execute_result"
    }
   ],
   "source": [
    "# Lowest purchasers\n",
    "data_grouped_by_store.sort_values(by = \"Sale (Dollars)\")[:5]"
   ]
  },
  {
   "cell_type": "markdown",
   "metadata": {},
   "source": [
    "Of the top-selling stores (from the unsampled list): \n",
    "* Store 2633 is Hyvee #3, a supermarket chain location. \n",
    "* Store 4829 is Central City 2, the second location for a chain of large liquor stores.\n",
    "\n",
    "From the bottom-selling stores (from the unsampled list):\n",
    "* Store 4486 is Kum & Go #608, a gas and convenience store.\n",
    "* Store 5152 is Texas Street Market, a convenience store.\n",
    "* Store 5056 is the Council Bluffs location of Sinclair, a gas station."
   ]
  },
  {
   "cell_type": "markdown",
   "metadata": {},
   "source": [
    "It seems I can sift out convenience stores by selecting stores that sell Scotch whisky, since they are less likely to sell and therefore more likely to be associated with dedicated liquor stores."
   ]
  },
  {
   "cell_type": "code",
   "execution_count": 59,
   "metadata": {
    "collapsed": false
   },
   "outputs": [],
   "source": [
    "# Dropping Store 2633\n",
    "data.drop(labels = data[data['Store Number'] == 2633].index, inplace = True)\n",
    "\n",
    "# Adding the Scotch Filter\n",
    "#mask = (data['Category'] == 1012200)\n",
    "scotch_sellers = (data[data['Category'] == 1012200]['Store Number'])\n",
    "filtered_data = data[data['Store Number'].isin(scotch_sellers)]"
   ]
  },
  {
   "cell_type": "code",
   "execution_count": 65,
   "metadata": {
    "collapsed": false
   },
   "outputs": [
    {
     "data": {
      "image/png": "[encoded data removed]",
      "text/plain": [
       "<matplotlib.figure.Figure at 0x11d2b8208>"
      ]
     },
     "metadata": {},
     "output_type": "display_data"
    },
    {
     "data": {
      "image/png": "[encoded data removed]",
      "text/plain": [
       "<matplotlib.figure.Figure at 0x125436d30>"
      ]
     },
     "metadata": {},
     "output_type": "display_data"
    }
   ],
   "source": [
    "sns.plt.scatter(data = filtered_data, x = 'Volume Sold (Liters)', y = 'Sale (Dollars)')\n",
    "plt.xlabel('Volume Sold (Liters)')\n",
    "plt.ylabel('Sale (Dollars)')\n",
    "sns.plt.show()\n",
    "sns.plt.scatter(data = filtered_data.groupby(by = 'Store Number').sum(), x = 'Volume Sold (Liters)', y = 'Sale (Dollars)')\n",
    "plt.xlabel('Volume Sold (Liters)')\n",
    "plt.xlabel('Sale (Dollars)')\n",
    "sns.plt.show()"
   ]
  },
  {
   "cell_type": "code",
   "execution_count": 61,
   "metadata": {
    "collapsed": false,
    "scrolled": true
   },
   "outputs": [
    {
     "name": "stderr",
     "output_type": "stream",
     "text": [
      "//anaconda/lib/python3.5/site-packages/statsmodels/nonparametric/kdetools.py:20: VisibleDeprecationWarning: using a non-integer number instead of an integer will result in an error in the future\n",
      "  y = X[:m/2+1] + np.r_[0,X[m/2+1:],0]*1j\n"
     ]
    },
    {
     "data": {
      "image/png": "[encoded data removed]",
      "text/plain": [
       "<matplotlib.figure.Figure at 0x118e155f8>"
      ]
     },
     "metadata": {},
     "output_type": "display_data"
    }
   ],
   "source": [
    "sns.distplot(a = data_grouped_by_store['Sale (Dollars)'] / data_grouped_by_store['Volume Sold (Liters)'])\n",
    "plt.xlabel(\"Dollar per liter\")\n",
    "sns.plt.show()"
   ]
  },
  {
   "cell_type": "markdown",
   "metadata": {},
   "source": [
    "## Record your findings\n",
    "\n",
    "Be sure to write out anything observations from your exploratory analysis."
   ]
  },
  {
   "cell_type": "markdown",
   "metadata": {},
   "source": [
    "None of the data appears to be normally distributed, except for the sales data grouped by store."
   ]
  },
  {
   "cell_type": "markdown",
   "metadata": {},
   "source": [
    "# Mine the data\n",
    "Now you are ready to compute the variables you will use for your regression from the data. For example, you may want to\n",
    "compute total sales per store from Jan to March of 2015, mean price per bottle, etc. Refer to the readme for more ideas appropriate to your scenario.\n",
    "\n",
    "Pandas is your friend for this task. Take a look at the operations [here](http://pandas.pydata.org/pandas-docs/stable/groupby.html) for ideas on how to make the best use of pandas and feel free to search for blog and Stack Overflow posts to help you group data by certain variables and compute sums, means, etc. You may find it useful to create a new data frame to house this summary data."
   ]
  },
  {
   "cell_type": "markdown",
   "metadata": {},
   "source": [
    "# Refine the data\n",
    "Look for any statistical relationships, correlations, or other relevant properties of the dataset."
   ]
  },
  {
   "cell_type": "markdown",
   "metadata": {},
   "source": [
    "# Build your models\n",
    "\n",
    "Using scikit-learn or statsmodels, build the necessary models for your scenario. Evaluate model fit."
   ]
  },
  {
   "cell_type": "code",
   "execution_count": 112,
   "metadata": {
    "collapsed": false
   },
   "outputs": [
    {
     "name": "stdout",
     "output_type": "stream",
     "text": [
      "Index(['Sales Q1 2015', 'State Bottle Retail', 'Bottles Sold'], dtype='object')\n"
     ]
    }
   ],
   "source": [
    "model_data = filtered_data[['City', 'Sales Q1 2015', 'State Bottle Retail', 'Bottles Sold', 'Sales Q1 2016']].groupby(by = 'City').sum()\n",
    "model_data['City'] = model_data.index\n",
    "model_data.dropna(inplace = True)\n",
    "\n",
    "X = model_data.loc[:, \"Sales Q1 2015\": \"Bottles Sold\"]\n",
    "y = model_data['Sales Q1 2016']\n",
    "\n",
    "print(X.columns)\n",
    "lm = linear_model.RidgeCV(normalize=True)\n",
    "model = lm.fit(X, y)\n",
    "predictions = model.predict(X)"
   ]
  },
  {
   "cell_type": "code",
   "execution_count": 88,
   "metadata": {
    "collapsed": false
   },
   "outputs": [
    {
     "data": {
      "image/png": "[encoded data removed]",
      "text/plain": [
       "<matplotlib.figure.Figure at 0x118c14240>"
      ]
     },
     "metadata": {},
     "output_type": "display_data"
    },
    {
     "name": "stdout",
     "output_type": "stream",
     "text": [
      "55348880.6959\n"
     ]
    }
   ],
   "source": [
    "sns.plt.scatter(x = y, y= predictions)\n",
    "sns.plt.show()\n",
    "print(metrics.mean_squared_error(y, predictions))"
   ]
  },
  {
   "cell_type": "code",
   "execution_count": 104,
   "metadata": {
    "collapsed": false
   },
   "outputs": [
    {
     "data": {
      "text/html": [
       "<div>\n",
       "<table border=\"1\" class=\"dataframe\">\n",
       "  <thead>\n",
       "    <tr style=\"text-align: right;\">\n",
       "      <th></th>\n",
       "      <th>Sale (Dollars)</th>\n",
       "    </tr>\n",
       "    <tr>\n",
       "      <th>City</th>\n",
       "      <th></th>\n",
       "    </tr>\n",
       "  </thead>\n",
       "  <tbody>\n",
       "    <tr>\n",
       "      <th>MOUNT VERNON</th>\n",
       "      <td>242.247430</td>\n",
       "    </tr>\n",
       "    <tr>\n",
       "      <th>WINDSOR HEIGHTS</th>\n",
       "      <td>228.818382</td>\n",
       "    </tr>\n",
       "    <tr>\n",
       "      <th>VINTON</th>\n",
       "      <td>221.273400</td>\n",
       "    </tr>\n",
       "    <tr>\n",
       "      <th>ADEL</th>\n",
       "      <td>206.221132</td>\n",
       "    </tr>\n",
       "    <tr>\n",
       "      <th>URBANDALE</th>\n",
       "      <td>198.277357</td>\n",
       "    </tr>\n",
       "  </tbody>\n",
       "</table>\n",
       "</div>"
      ],
      "text/plain": [
       "                 Sale (Dollars)\n",
       "City                           \n",
       "MOUNT VERNON         242.247430\n",
       "WINDSOR HEIGHTS      228.818382\n",
       "VINTON               221.273400\n",
       "ADEL                 206.221132\n",
       "URBANDALE            198.277357"
      ]
     },
     "execution_count": 104,
     "metadata": {},
     "output_type": "execute_result"
    }
   ],
   "source": [
    "filtered_data[[\"City\", \"Sale (Dollars)\"]].groupby(by = \"City\").mean().sort_values(by = \"Sale (Dollars)\", ascending = False)[0:5]"
   ]
  },
  {
   "cell_type": "markdown",
   "metadata": {},
   "source": [
    "## Plot your results\n",
    "\n",
    "Again make sure that you record any valuable information. For example, in the tax scenario, did you find the sales from the first three months of the year to be a good predictor of the total sales for the year? Plot the predictions versus the true values and discuss the successes and limitations of your models"
   ]
  },
  {
   "cell_type": "code",
   "execution_count": null,
   "metadata": {
    "collapsed": true
   },
   "outputs": [],
   "source": []
  },
  {
   "cell_type": "markdown",
   "metadata": {},
   "source": [
    "# Present the Results\n",
    "\n",
    "Present your conclusions and results. If you have more than one interesting model feel free to include more than one along with a discussion. Use your work in this notebook to prepare your write-up."
   ]
  },
  {
   "cell_type": "code",
   "execution_count": null,
   "metadata": {
    "collapsed": true
   },
   "outputs": [],
   "source": []
  }
 ],
 "metadata": {
  "anaconda-cloud": {},
  "kernelspec": {
   "display_name": "Python [Root]",
   "language": "python",
   "name": "Python [Root]"
  },
  "language_info": {
   "codemirror_mode": {
    "name": "ipython",
    "version": 3
   },
   "file_extension": ".py",
   "mimetype": "text/x-python",
   "name": "python",
   "nbconvert_exporter": "python",
   "pygments_lexer": "ipython3",
   "version": "3.5.2"
  }
 },
 "nbformat": 4,
 "nbformat_minor": 0
}
