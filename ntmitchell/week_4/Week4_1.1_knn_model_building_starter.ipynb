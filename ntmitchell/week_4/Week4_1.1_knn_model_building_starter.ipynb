{
 "cells": [
  {
   "cell_type": "code",
   "execution_count": 171,
   "metadata": {
    "collapsed": true
   },
   "outputs": [],
   "source": [
    "import numpy as np\n",
    "import pandas as pd\n",
    "import seaborn as sns\n",
    "from scipy.stats import mode\n",
    "%matplotlib inline"
   ]
  },
  {
   "cell_type": "code",
   "execution_count": 172,
   "metadata": {
    "collapsed": true
   },
   "outputs": [],
   "source": [
    "def calculate_distance(p, q):\n",
    "    \"\"\" Calculate Euclidean distance between two points.\"\"\"\n",
    "#    print((p[0] - q[0])\n",
    "    sum_squares = (p[0] - q[0])**2 + (p[1] - q[1])**2\n",
    "    distance = np.sqrt(sum_squares)\n",
    "    return distance"
   ]
  },
  {
   "cell_type": "code",
   "execution_count": 173,
   "metadata": {
    "collapsed": true
   },
   "outputs": [],
   "source": [
    "def neighbor_vote(labels):\n",
    "    \"\"\" Get the majority label from k neighbors.\"\"\"\n",
    "    # Is it possible to have a tie? How would you handle that?\n",
    "    vote = mode(labels)[0][0]\n",
    "    return vote"
   ]
  },
  {
   "cell_type": "code",
   "execution_count": 174,
   "metadata": {
    "collapsed": false
   },
   "outputs": [],
   "source": [
    "def knn_classifier(labeled_points, new_point, k):\n",
    "    \"\"\" Given classified points and one new point, return a prediction based on the votes of k neighbors.\"\"\"\n",
    "    # Calculate distances\n",
    "    distances = [calculate_distance(labeled_points.iloc[row,:][1:].values, new_point.values) for row in range(len(labeled_points))]\n",
    "    \n",
    "    # Convert to a dataframe for easier manipulation\n",
    "    distances_dataframe = pd.DataFrame({'distance': distances})\n",
    "    distances_dataframe['value'] = labeled_points.iloc[:,0].values\n",
    "\n",
    "    # Find the k nearest neighbor values\n",
    "    nearest_neighbor_values = distances_dataframe.sort_values(by = 'distance')[0:k]['value'].values\n",
    "    \n",
    "    # Find the predictions\n",
    "    prediction = neighbor_vote(nearest_neighbor_values)\n",
    "    \n",
    "    return prediction"
   ]
  },
  {
   "cell_type": "code",
   "execution_count": 175,
   "metadata": {
    "collapsed": true
   },
   "outputs": [],
   "source": [
    "from sklearn import datasets\n",
    "import pandas as pd\n",
    "import numpy as np\n",
    "from sklearn.cross_validation import train_test_split\n",
    "\n",
    "# import data\n",
    "iris = datasets.load_iris()\n",
    "X = iris.data[:100, :2]  # use the first two features and just the first two classes.\n",
    "y = iris.target[:100]\n",
    "X_train, X_test, y_train, y_test = train_test_split(X, y, test_size=0.30, random_state=42)\n",
    "\n",
    "# Split 70/30 into initial data and new points to classify\n",
    "training_df = pd.DataFrame({'feature1':X_train[:,0],'feature2':X_train[:,1],'class':y_train})\n",
    "test_df = pd.DataFrame({'feature1':X_test[:,0],'feature2':X_test[:,1],'class':y_test})"
   ]
  },
  {
   "cell_type": "code",
   "execution_count": 191,
   "metadata": {
    "collapsed": false
   },
   "outputs": [
    {
     "name": "stdout",
     "output_type": "stream",
     "text": [
      "0\n",
      "0\n",
      "0\n",
      "0\n",
      "0\n",
      "0\n",
      "0\n",
      "0\n",
      "0\n",
      "0\n",
      "0\n",
      "0\n",
      "0\n",
      "0\n",
      "0\n",
      "0\n",
      "0\n",
      "0\n",
      "0\n",
      "0\n",
      "0\n",
      "0\n",
      "0\n",
      "0\n",
      "0\n",
      "0\n",
      "0\n",
      "0\n",
      "0\n",
      "0\n"
     ]
    }
   ],
   "source": [
    "\"\"\" Iteratively classify new points in test_df, based on the labeled points in training_df, and track your accuracy.\"\"\"\n",
    "for test_row in range(len(test_df)):\n",
    "    prediction = knn_classifier(training_df, test_df.iloc[test_row,1:],3)\n",
    "    print(test_df.ix[test_row,'class'] - prediction)"
   ]
  },
  {
   "cell_type": "code",
   "execution_count": 8,
   "metadata": {
    "collapsed": false
   },
   "outputs": [
    {
     "data": {
      "text/plain": [
       "' BONUS: plot the labeled points and an example of a new point being classified.'"
      ]
     },
     "execution_count": 8,
     "metadata": {},
     "output_type": "execute_result"
    }
   ],
   "source": [
    "\"\"\" BONUS: plot the labeled points and an example of a new point being classified.\"\"\""
   ]
  },
  {
   "cell_type": "code",
   "execution_count": null,
   "metadata": {
    "collapsed": true
   },
   "outputs": [],
   "source": []
  }
 ],
 "metadata": {
  "anaconda-cloud": {},
  "kernelspec": {
   "display_name": "Python [Root]",
   "language": "python",
   "name": "Python [Root]"
  },
  "language_info": {
   "codemirror_mode": {
    "name": "ipython",
    "version": 3
   },
   "file_extension": ".py",
   "mimetype": "text/x-python",
   "name": "python",
   "nbconvert_exporter": "python",
   "pygments_lexer": "ipython3",
   "version": "3.5.2"
  }
 },
 "nbformat": 4,
 "nbformat_minor": 0
}
