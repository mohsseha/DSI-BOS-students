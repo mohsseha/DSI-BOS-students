{
 "cells": [
  {
   "cell_type": "markdown",
   "metadata": {},
   "source": [
    "A dictionary of column names & data types, and number or rows\n",
    "Function produces a \"nice database\""
   ]
  },
  {
   "cell_type": "markdown",
   "metadata": {},
   "source": [
    "Example:\n",
    "    Input:\n",
    "        {\"first_name\": char(18), age: int}, number of rows = 3\n",
    "    \n",
    "    Output:\n",
    "        ____|_first_name_|_age_|\n",
    "        | 1 |            |     | \n",
    "    "
   ]
  },
  {
   "cell_type": "code",
   "execution_count": 90,
   "metadata": {
    "collapsed": true
   },
   "outputs": [],
   "source": [
    "import pandas as pd\n",
    "\n",
    "import sqlite3"
   ]
  },
  {
   "cell_type": "code",
   "execution_count": 94,
   "metadata": {
    "collapsed": false
   },
   "outputs": [
    {
     "data": {
      "text/html": [
       "<div>\n",
       "<table border=\"1\" class=\"dataframe\">\n",
       "  <thead>\n",
       "    <tr style=\"text-align: right;\">\n",
       "      <th></th>\n",
       "      <th>first_name</th>\n",
       "      <th>age</th>\n",
       "    </tr>\n",
       "  </thead>\n",
       "  <tbody>\n",
       "    <tr>\n",
       "      <th>0</th>\n",
       "      <td>blank string</td>\n",
       "      <td>0</td>\n",
       "    </tr>\n",
       "    <tr>\n",
       "      <th>1</th>\n",
       "      <td>blank string</td>\n",
       "      <td>0</td>\n",
       "    </tr>\n",
       "    <tr>\n",
       "      <th>2</th>\n",
       "      <td>blank string</td>\n",
       "      <td>0</td>\n",
       "    </tr>\n",
       "    <tr>\n",
       "      <th>3</th>\n",
       "      <td>blank string</td>\n",
       "      <td>0</td>\n",
       "    </tr>\n",
       "    <tr>\n",
       "      <th>4</th>\n",
       "      <td>blank string</td>\n",
       "      <td>0</td>\n",
       "    </tr>\n",
       "    <tr>\n",
       "      <th>5</th>\n",
       "      <td>blank string</td>\n",
       "      <td>0</td>\n",
       "    </tr>\n",
       "    <tr>\n",
       "      <th>6</th>\n",
       "      <td>blank string</td>\n",
       "      <td>0</td>\n",
       "    </tr>\n",
       "    <tr>\n",
       "      <th>7</th>\n",
       "      <td>blank string</td>\n",
       "      <td>0</td>\n",
       "    </tr>\n",
       "  </tbody>\n",
       "</table>\n",
       "</div>"
      ],
      "text/plain": [
       "     first_name  age\n",
       "0  blank string    0\n",
       "1  blank string    0\n",
       "2  blank string    0\n",
       "3  blank string    0\n",
       "4  blank string    0\n",
       "5  blank string    0\n",
       "6  blank string    0\n",
       "7  blank string    0"
      ]
     },
     "execution_count": 94,
     "metadata": {},
     "output_type": "execute_result"
    }
   ],
   "source": [
    "def dictionary_to_database(data_dictionary = {}, number_of_rows = 3):\n",
    "    dummy_data_dictionary = {\"char(18)\": \"blank string\", \"int\": 0}\n",
    "    \n",
    "    keys = data_dictionary.keys()\n",
    "    values = data_dictionary.values()\n",
    "    \n",
    "    dataframe = pd.DataFrame()\n",
    "    for key in keys:\n",
    "        dataframe[key] = [dummy_data_dictionary[data_dictionary[key]] for _ in range(number_of_rows)]\n",
    "    \n",
    "#     sqlite_db = \"test_database.sqlite\"\n",
    "#     conn = sqlite3.connect(sqlite_db)\n",
    "#     dataframe.to_sql(name = \"SQL_database\", con = conn, dtype = data_dictionary)\n",
    "\n",
    "    return dataframe\n",
    "\n",
    "\n",
    "test_dictionary = {\"first_name\": \"char(18)\", \"age\": \"int\"} \n",
    "dictionary_to_database(test_dictionary, 8)"
   ]
  },
  {
   "cell_type": "code",
   "execution_count": 79,
   "metadata": {
    "collapsed": false
   },
   "outputs": [
    {
     "data": {
      "text/plain": [
       "'Lvtdawtjfeugdhbgsj'"
      ]
     },
     "execution_count": 79,
     "metadata": {},
     "output_type": "execute_result"
    }
   ],
   "source": [
    "# For creating random names\n",
    "import string\n",
    "import random\n",
    "\n",
    "''.join(random.choice(string.ascii_lowercase) for _ in range(18)).title()"
   ]
  },
  {
   "cell_type": "code",
   "execution_count": null,
   "metadata": {
    "collapsed": true
   },
   "outputs": [],
   "source": []
  }
 ],
 "metadata": {
  "kernelspec": {
   "display_name": "Python [default]",
   "language": "python",
   "name": "python3"
  },
  "language_info": {
   "codemirror_mode": {
    "name": "ipython",
    "version": 3
   },
   "file_extension": ".py",
   "mimetype": "text/x-python",
   "name": "python",
   "nbconvert_exporter": "python",
   "pygments_lexer": "ipython3",
   "version": "3.5.2"
  }
 },
 "nbformat": 4,
 "nbformat_minor": 2
}
