{
 "cells": [
  {
   "cell_type": "markdown",
   "metadata": {},
   "source": [
    "# Problem"
   ]
  },
  {
   "cell_type": "raw",
   "metadata": {},
   "source": [
    "is_more_than_1_off(s1, s2)\n",
    "    calculates number of operations required to transform 1 string into the other\n",
    "    returns boolean: True if distance between strings > 1\n",
    "                    False if distance between strings <= 1\n",
    "                    \n",
    "Assume capitalization matters. Numbers can be included in strings.\n",
    "                    \n",
    "S1     S2     Return\n",
    "Cat    Cat    False\n",
    "cat    CAT    True\n",
    "Cat    Cats   False\n",
    "Caat   Cat    False\n",
    "cat    act    True\n",
    "mat    maths  True\n",
    "cat    dog    True\n",
    "cat    rat    True\n",
    "cat    can    True\n",
    "cat    cat1   False\n",
    "cat    *cat   False"
   ]
  },
  {
   "cell_type": "markdown",
   "metadata": {},
   "source": [
    "# Solution"
   ]
  },
  {
   "cell_type": "code",
   "execution_count": 188,
   "metadata": {
    "collapsed": false
   },
   "outputs": [],
   "source": [
    "import difflib\n",
    "\n",
    "def is_more_than_1_off(s1, s2):\n",
    "    \"\"\" Insertions or deletions are the only operations we can perform in one step,\n",
    "        so the length of the strings are what matter most.\n",
    "    \"\"\"\n",
    "    # How much would a single deletion matter?\n",
    "    single_difference_ratio = (len(s1 + s2) - 1) / len(s1 + s2)\n",
    "    \n",
    "    # Black magic! Not really: SequenceMatcher finds the longest run of matching characters in each string\n",
    "    score = difflib.SequenceMatcher(a = s1, b = s2).ratio()\n",
    "    \n",
    "    if score >= single_difference_ratio:\n",
    "        return(False)\n",
    "    else:\n",
    "        return(True)"
   ]
  },
  {
   "cell_type": "markdown",
   "metadata": {},
   "source": [
    "# Unit Testing"
   ]
  },
  {
   "cell_type": "code",
   "execution_count": 194,
   "metadata": {
    "collapsed": false
   },
   "outputs": [
    {
     "data": {
      "text/plain": [
       "[['Cat', 'Cat', 'False'],\n",
       " ['cat', 'CAT', 'True'],\n",
       " ['Cat', 'Cats', 'False'],\n",
       " ['Caat', 'Cat', 'False'],\n",
       " ['cat', 'act', 'True'],\n",
       " ['mat', 'maths', 'True'],\n",
       " ['cat', 'dog', 'True'],\n",
       " ['cat', 'rat', 'True'],\n",
       " ['cat', 'can', 'True'],\n",
       " ['cat', 'cat1', 'False'],\n",
       " ['cat', '*cat', 'False']]"
      ]
     },
     "execution_count": 194,
     "metadata": {},
     "output_type": "execute_result"
    }
   ],
   "source": [
    "sample_list = \"\"\"Cat    Cat    False\n",
    "cat    CAT    True\n",
    "Cat    Cats   False\n",
    "Caat   Cat    False\n",
    "cat    act    True\n",
    "mat    maths  True\n",
    "cat    dog    True\n",
    "cat    rat    True\n",
    "cat    can    True\n",
    "cat    cat1   False\n",
    "cat    *cat   False\"\"\".split(\"\\n\")\n",
    "\n",
    "for i, row in enumerate(sample_list):\n",
    "    sample_list[i] = row.split(\"  \")\n",
    "    sample_list[i].remove(\"\")\n",
    "    try:\n",
    "        sample_list[i].remove(\"\")\n",
    "    except:\n",
    "        pass\n",
    "    for j, item in enumerate(sample_list[i]):\n",
    "        sample_list[i][j] = item.strip()\n",
    "    \n",
    "sample_list"
   ]
  },
  {
   "cell_type": "code",
   "execution_count": 187,
   "metadata": {
    "collapsed": false
   },
   "outputs": [
    {
     "name": "stdout",
     "output_type": "stream",
     "text": [
      "S1\tS2\tPredicted\tActual\n",
      "Cat\tCat\tFalse\t\tFalse\n",
      "cat\tCAT\tTrue\t\tTrue\n",
      "Cat\tCats\tFalse\t\tFalse\n",
      "Caat\tCat\tFalse\t\tFalse\n",
      "cat\tact\tTrue\t\tTrue\n",
      "mat\tmaths\tTrue\t\tTrue\n",
      "cat\tdog\tTrue\t\tTrue\n",
      "cat\trat\tTrue\t\tTrue\n",
      "cat\tcan\tTrue\t\tTrue\n",
      "cat\tcat1\tFalse\t\tFalse\n",
      "cat\t*cat\tFalse\t\tFalse\n"
     ]
    }
   ],
   "source": [
    "results = map(lambda x: \"{}\\t{}\\t{}\\t\\t{}\".format(x[0], x[1], is_more_than_1_off(x[0], x[1]), x[2]), \n",
    "              sample_list)\n",
    "\n",
    "print(\"S1\\tS2\\tPredicted\\tActual\")\n",
    "for item in results:\n",
    "    print(item)"
   ]
  },
  {
   "cell_type": "code",
   "execution_count": 205,
   "metadata": {
    "collapsed": false
   },
   "outputs": [
    {
     "data": {
      "text/plain": [
       "False"
      ]
     },
     "execution_count": 205,
     "metadata": {},
     "output_type": "execute_result"
    }
   ],
   "source": [
    "is_more_than_1_off(\"vaboiae89179boe*##*&!B\", \"vaboiae89179boe_*##*&!B\")"
   ]
  },
  {
   "cell_type": "code",
   "execution_count": 209,
   "metadata": {
    "collapsed": false
   },
   "outputs": [
    {
     "data": {
      "text/plain": [
       "True"
      ]
     },
     "execution_count": 209,
     "metadata": {},
     "output_type": "execute_result"
    }
   ],
   "source": [
    "is_more_than_1_off(\"x\", \"X\")"
   ]
  },
  {
   "cell_type": "code",
   "execution_count": null,
   "metadata": {
    "collapsed": true
   },
   "outputs": [],
   "source": []
  }
 ],
 "metadata": {
  "anaconda-cloud": {},
  "kernelspec": {
   "display_name": "Python [default]",
   "language": "python",
   "name": "python3"
  },
  "language_info": {
   "codemirror_mode": {
    "name": "ipython",
    "version": 3
   },
   "file_extension": ".py",
   "mimetype": "text/x-python",
   "name": "python",
   "nbconvert_exporter": "python",
   "pygments_lexer": "ipython3",
   "version": "3.5.2"
  }
 },
 "nbformat": 4,
 "nbformat_minor": 2
}
