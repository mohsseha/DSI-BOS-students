{
 "cells": [
  {
   "cell_type": "raw",
   "metadata": {},
   "source": [
    "example_map = [[False, True, False, False], \n",
    "       [False, False, False, True], \n",
    "       [False, False, False, False], \n",
    "       [False, True, False, False]]\n",
    "\n",
    "If given point (x, y) = (row, column), what is the shortest number of steps from (0,0) to (x, y)? (0,0) is upper-left corner.\n",
    "\n",
    "dist_from_org_to_XY_with_map(x, y, map)\n",
    "\n",
    "Hint: one solution will be simple but exponentially expensive; another solution is more complex but not exponentially expensive."
   ]
  },
  {
   "cell_type": "raw",
   "metadata": {},
   "source": [
    "is x_goal > x_point?\n",
    "    is map(x_point + 1) == False?\n",
    "        set x_point += 1\n",
    "    else y_point + 1\n",
    "    re-analyze at point\n",
    "    "
   ]
  },
  {
   "cell_type": "code",
   "execution_count": 78,
   "metadata": {
    "collapsed": false
   },
   "outputs": [],
   "source": [
    "# class Point(object):\n",
    "#     left = None\n",
    "#     right = None\n",
    "#     up = None\n",
    "#     down = None\n",
    "#     row = 0\n",
    "#     column = 0\n",
    "#     moves_map = None\n",
    "    \n",
    "#     def __init__(self, valid_moves_map):\n",
    "#         self.moves_map = valid_moves_map\n",
    "    \n",
    "#     def dist_from_org_to_XY_with_map(self):#, x, y):\n",
    "#         find_valid_moves(self)#, row = x, column = y)\n",
    "    \n",
    "#     def find_valid_moves(self):\n",
    "#         if (self.column - 1 >= 0) & (self.moves_map[self.row][self.column - 1] == False):\n",
    "#             self.left = Point(row, column - 1, moves_map)\n",
    "#         if (self.column + 1 <= len(self.moves_map[0]) & (self.moves_map[self.row][self.column + 1] == False)): \n",
    "#             self.right = False #Point(row, column + 1, moves_map)\n",
    "            \n",
    "#         if (self.row - 1 >= 0) & (self.moves_map[self.row - 1][self.column] == False):\n",
    "#             self.up = False #Point(row - 1, column, moves_map)\n",
    "#         if (self.row + 1 <= len(self.moves_map)) & (self.moves_map[self.row + 1][self.column] == False):\n",
    "#             self.down = Point(self.row + 1, self.column, self.moves_map)\n",
    "        \n",
    "# example_map = [[False, True, False, False], \n",
    "#        [False, False, False, True], \n",
    "#        [False, False, False, False], \n",
    "#        [False, True, False, False]]\n",
    "\n",
    "# point = Point(example_map)\n",
    "# point.find_valid_moves()\n",
    "# print(\"\\t{}\\n{}\\t({},{})\\t{}\\n\\t{}\".format(point.up, point.left, 0, 0, point.right, point.down))"
   ]
  },
  {
   "cell_type": "code",
   "execution_count": 4,
   "metadata": {
    "collapsed": false
   },
   "outputs": [
    {
     "data": {
      "text/plain": [
       "[1, 0, 0, 1]"
      ]
     },
     "execution_count": 4,
     "metadata": {},
     "output_type": "execute_result"
    }
   ],
   "source": [
    "example_map = [[False, True, False, False], \n",
    "       [False, False, False, True], \n",
    "       [False, False, False, False], \n",
    "       [False, True, False, False]]\n",
    "\n",
    "[1,0] + [0,1]"
   ]
  },
  {
   "cell_type": "code",
   "execution_count": null,
   "metadata": {
    "collapsed": true
   },
   "outputs": [],
   "source": []
  }
 ],
 "metadata": {
  "anaconda-cloud": {},
  "kernelspec": {
   "display_name": "Python [default]",
   "language": "python",
   "name": "python3"
  },
  "language_info": {
   "codemirror_mode": {
    "name": "ipython",
    "version": 3
   },
   "file_extension": ".py",
   "mimetype": "text/x-python",
   "name": "python",
   "nbconvert_exporter": "python",
   "pygments_lexer": "ipython3",
   "version": "3.5.2"
  }
 },
 "nbformat": 4,
 "nbformat_minor": 2
}
