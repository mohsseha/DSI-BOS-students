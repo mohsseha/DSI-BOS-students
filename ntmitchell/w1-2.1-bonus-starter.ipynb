{
 "cells": [
  {
   "cell_type": "markdown",
   "metadata": {
    "focus": true,
    "id": "501db766-46cd-4c2b-b94f-cfb682eab872"
   },
   "source": [
    "# Bonus Code Challenges #3\n",
    "\n",
    "To supplement what is going on in class related to control structures and functions, we've come up with this fun challenge to explore futher practice.  Although we're not specifically covering recursive functions, they can be useful to avoid application complexity when implenting repeating processes that test repeating conditions.  You don't have to use tehm in this exercize, but we strongly suggest you try solve the challenges using recursive methods.  \n",
    "\n",
    "[Recurve Function Review](http://www.python-course.eu/recursive_functions.php)\n",
    "\n",
    "Requirements For these challenges, you will need to have a basic working knowledge of Python and be comfortable with fundamental usage. To get the most out of these exercises you should avoid using libraries (but feel free to use buil-in types ie: zip()) as much as possible and try to construct solutions by hand as much as possible. Also, if solutions are available, try not to peek to get the most out of this. Feel free to search and use resources on the web but try to figure as much of these out with careful thought."
   ]
  },
  {
   "cell_type": "markdown",
   "metadata": {
    "focus": false,
    "id": "f1fd0d67-6d40-484e-8f8b-b8fe8657c7fa"
   },
   "source": [
    "## Challenge 1 - Guess The Number\n",
    "\n",
    "In this challenge we will be creating one of the oldest, yet arguably exciting, games in the universe: \"Guess The Number\".  In order to provide the game mechanic, we will need to use control structures to facilitate the course of the game which is:\n",
    "\n",
    " 1. Generate random number\n",
    " 2. Ask for user input\n",
    " 3. Compare user input with generated number\n",
    " 4. Check winning conditions\n",
    " 5. Output response \"too high\", \"too low\", or \"You're the winner\"\n",
    " 6. Repeat until user wins\n",
    " \n",
    " \n",
    "**Input**\n",
    "\n",
    "     User prompt for numeric input.\n",
    "     \n",
    "**Output**\n",
    "\n",
    "     \"too high\" if user_input > random_number\n",
    "     \"too low\" if user_input < random_number\n",
    "     \"You're the winner\" if user_input == random_number\n",
    "\n",
    "*** The kernel may hang during testing of this type of app so use \"Kerenel -> Inturrupt\" as needed\n"
   ]
  },
  {
   "cell_type": "code",
   "execution_count": 1,
   "metadata": {
    "collapsed": false,
    "focus": false,
    "id": "8bc09cba-37bc-41f6-9d59-ee0cea9e5ac5"
   },

   "outputs": [
    {
     "name": "stdout",
     "output_type": "stream",
     "text": [
      "Are you excited?  It's time to play guess that number!\n",
      "Pick a number between 1-10:  9\n",
      "You entered:   9\n"
     ]
    }
   ],

   "source": [
    "# You may enjoy writing your own random number function, but for the sake of time, let's use Python's built-in random module.\n",
    "from random import randint\n",
    "\n",
    "# Here is your random number\n",
    "random_number = randint(1, 10)\n",
    "\n",
    "# Tell the user what they are about to experience\n",
    "print(\"Are you excited?  It's time to play guess that number!\")\n",

    "\n",
    "# In a notebook, this will prompt the user to enter a number, and pause execution of the app.\n",
    "# We use int() because anything that comes into\n",
    "def play_guess_that_number(random_number):\n",
    "    \n",

    "    user_number = int(input(\"Pick a number between 1-10:  \"))\n",
    "    print(\"You entered:  \", user_number)\n",

    "    ## Your code here!\n",
    "\n",
    "# We pass \"random_number\" so it can be referenced throughout\n",
    "play_guess_that_number(random_number)"
   ]
  },
  {
   "cell_type": "markdown",
   "metadata": {
    "focus": false,
    "id": "ea42436c-eed5-4656-9410-18994247b60a"
   },
   "source": [
    "## Challenge 2 - Guess The Number  _(Enhanced Edition)_\n",
    "\n",
    "Guessing a number is good fun, but why don't we indroduce an element of danger shall we?  Let's give the user only 5 chances to guess!  Also, print the number of chances the user has used after each guess.  Take the previous function you created and modify it for these new features!\n",
    "\n",
    "**Input**\n",
    "\n",
    "     User prompt for numeric input.\n",
    "     \n",
    "**Output**\n",
    "\n",
    "     \"too high\" if user_input > random_number\n",
    "     \"too low\" if user_input < random_number\n",
    "     \"You're the winner\" if user_input == random_number\n",
    "     \"Game Over: Too many guesses!\"\n",
    "\n"
   ]
  },
  {
   "cell_type": "code",

   "execution_count": 61,

   "metadata": {
    "collapsed": false,
    "focus": false,
    "id": "52174e35-24b5-400a-b9a4-61ba4a13fecc"
   },

   "outputs": [
    {
     "name": "stdout",
     "output_type": "stream",
     "text": [
      "Are you excited?  It's time to play guess that number *ENHANCED EDITION*!\n",
      "\n",
      "Enter your guess: 3\n",
      "Too high. You have  4  guesses remaining.\n",
      "Enter your guess: 5\n",
      "Too high. You have  3  guesses remaining.\n",
      "Enter your guess: 7\n",
      "Too high. You have  2  guesses remaining.\n",
      "Enter your guess: 4\n",
      "Too high. You have  1  guesses remaining.\n",
      "Would you like a hint? (Y/N) y\n",
      "You've already tried  [3, 5, 7, 4]\n",
      "Enter your guess: 2\n",
      "Too high. You have  0  guesses remaining.\n",
      "You lost. The number was  1 .\n"
     ]
    }
   ],
   "source": [
    "\n",
    "# Here is your random number\n",
    "random_number = randint(1, 10)\n",
    "\n",
    "# Setting the number of guesses allowed\n",
    "guesses_remaining = 5\n",
    "\n",
    "# Making a list for storing previous guesses\n",
    "previous_guesses = []\n",
    "\n",
    "# Tell the user what they are about to experience\n",
    "print(\"Are you excited?  It's time to play guess that number *ENHANCED EDITION*!\\n\")\n",
    "\n",
    "def play_guess_that_number(random_number, guesses_remaining):\n",
    "    if guesses_remaining > 0:\n",
    "        # Accepts user input\n",
    "        guess = int(input(\"Enter your guess: \"))\n",
    "\n",
    "        # Adds the guess to the list of previous guesses\n",
    "        previous_guesses.append(guess)\n",
    "        \n",
    "        # Increment guess attempt each time\n",
    "        guesses_remaining += -1\n",
    "        \n",
    "        # Compares the guess to the random number\n",
    "        if guess > random_number:\n",
    "            print(\"Too high. You have \", guesses_remaining, \" guesses remaining.\")\n",
    "        elif guess < random_number:\n",
    "            print(\"Too low. You have \", guesses_remaining, \" guesses remaining.\")\n",
    "        elif guess == random_number:\n",
    "            print(\"You win!\")\n",
    "            guesses_remaining = 0\n",
    "            \n",
    "        # Offers to show previous guesses for the last turn\n",
    "        if guesses_remaining == 1:\n",
    "            hint_choice = str(input(\"Would you like a hint? (Y/N) \"))\n",
    "            provide_hint(hint_choice.upper(), previous_guesses)\n",
    "        \n",
    "        # Recursion\n",
    "        play_guess_that_number(random_number, guesses_remaining)\n",
    "\n",
    "        # Final message if player lost\n",
    "        if guesses_remaining == 0 and guess != random_number:\n",
    "            print(\"You lost. The number was \", random_number, \".\")\n",
    "        \n",
    "def provide_hint(choice = 'N', previous_attempts = []):\n",
    "    if choice == 'Y':\n",
    "        print(\"You've already tried \", previous_attempts)\n",
    "        \n",
    "# We pass \"random_number\" so it can be referenced throughout\n",
    "play_guess_that_number(random_number, guesses_remaining)"

   ]
  }
 ],
 "metadata": {
  "anaconda-cloud": {},
  "kernelspec": {

   "display_name": "Python [Root]",
   "language": "python",
   "name": "Python [Root]"

  },
  "language_info": {
   "codemirror_mode": {
    "name": "ipython",
    "version": 3
   },
   "file_extension": ".py",
   "mimetype": "text/x-python",
   "name": "python",
   "nbconvert_exporter": "python",
   "pygments_lexer": "ipython3",
   "version": "3.5.2"
  }
 },
 "nbformat": 4,
 "nbformat_minor": 0
}
