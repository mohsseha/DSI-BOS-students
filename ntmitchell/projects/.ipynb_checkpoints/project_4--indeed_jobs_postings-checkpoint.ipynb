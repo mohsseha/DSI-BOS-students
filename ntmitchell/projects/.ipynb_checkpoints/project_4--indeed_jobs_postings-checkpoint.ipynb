{
 "cells": [
  {
   "cell_type": "markdown",
   "metadata": {
    "focus": false,
    "id": "69b9a648-bcc7-490d-9f9b-ea244d156bd6"
   },
   "source": [
    "# Web Scraping for Indeed.com & Predicting Salaries"
   ]
  },
  {
   "cell_type": "markdown",
   "metadata": {},
   "source": [
    "For this project, we used a set of characteristics to predict the salaries for data science jobs in the Boston area. We scraped Indeed.com, an online jobsboard, picked out key phrases, and determined if each job's salary is above a threshold value. We then used logistic regression to model this system. **WE FOUND ... ** We expanded our analysis to other cities and compared the models, **AND FOUND ... **\n",
    "\n",
    "The write-up follows the code."
   ]
  },
  {
   "cell_type": "markdown",
   "metadata": {},
   "source": [
    "## Part I: Code"
   ]
  },
  {
   "cell_type": "markdown",
   "metadata": {},
   "source": [
    "#### Import libraries"
   ]
  },
  {
   "cell_type": "code",
   "execution_count": 51,
   "metadata": {
    "collapsed": true
   },
   "outputs": [],
   "source": [
    "# Webscraping\n",
    "from urllib.request import urlopen\n",
    "from bs4 import BeautifulSoup\n",
    "\n",
    "#Data and analysis\n",
    "import numpy as np\n",
    "import pandas as pd\n",
    "import statsmodels.formula.api as sm\n",
    "from sklearn import preprocessing, linear_model, metrics\n",
    "\n",
    "# Plotting\n",
    "import matplotlib.pyplot as plt\n",
    "import seaborn as sns\n",
    "\n",
    "%matplotlib inline"
   ]
  },
  {
   "cell_type": "markdown",
   "metadata": {},
   "source": [
    "#### Define webscraping functions"
   ]
  },
  {
   "cell_type": "code",
   "execution_count": 2,
   "metadata": {
    "collapsed": false
   },
   "outputs": [],
   "source": [
    "def count_results(query = None, location = \"Boston\", binary_level = 1):\n",
    "    job_ids = pd.DataFrame()\n",
    "    \n",
    "    result_list = []\n",
    "        \n",
    "    # Find the number of results\n",
    "    URL_for_count = \"http://www.indeed.com/jobs?q=data+scientist+{}&jt=fulltime&l={}\".format(query, location)\n",
    "    soup_for_count = BeautifulSoup(urlopen(URL_for_count).read(), 'html.parser')\n",
    "\n",
    "    results_number = soup_for_count.find(\"div\", attrs = {\"id\": \"searchCount\"}).text\n",
    "    number_of_results = int(results_number.split(sep = ' ')[-1].replace(',', ''))\n",
    "\n",
    "    # Now loop through the pages. Viewing 100 results at a time means fewer page refreshes, which are a bottleneck.\n",
    "    i = int(number_of_results/100)\n",
    "    for page_number in range(i + 1):\n",
    "        URL_for_results = \"http://www.indeed.com/jobs?q=data+scientist+{}&jt=fulltime&l={}&limit=100&start={}\".format(query, location, str(100 * page_number))\n",
    "        soup_for_results = BeautifulSoup(urlopen(URL_for_results).read(), 'html.parser')\n",
    "        results = soup_for_results.find_all('div', attrs={'data-tn-component': 'organicJob'})\n",
    "            \n",
    "        # Extract the ID for each job listing\n",
    "        for x in results:\n",
    "            job_id = x.find('h2', attrs={\"class\": \"jobtitle\"})['id']\n",
    "            job_title = x.find('a', attrs={'data-tn-element': \"jobTitle\"}).text.strip().capitalize()\n",
    "            job_link = \"https://www.indeed.com\" + x.find('h2', attrs={\"class\": \"jobtitle\"}).find('a')['href']\n",
    "            result_list.append([job_id, job_title, job_link, binary_level])\n",
    "        \n",
    "        # Add the job ID numbers\n",
    "        job_ids = job_ids.append(result_list)\n",
    "    \n",
    "    # Remove re-posted jobs\n",
    "    job_ids.drop_duplicates(inplace = True)\n",
    "    return job_ids"
   ]
  },
  {
   "cell_type": "code",
   "execution_count": 3,
   "metadata": {
    "collapsed": false
   },
   "outputs": [],
   "source": [
    "# raw_results = count_results(\"\")"
   ]
  },
  {
   "cell_type": "code",
   "execution_count": 4,
   "metadata": {
    "collapsed": false
   },
   "outputs": [],
   "source": [
    "# data_scientists = raw_results.iloc[:,1].str.contains('[Dd]ata [Ss]cien')\n",
    "# software_engineers = raw_results.iloc[:,1].str.contains('[Ss]oftware [Ee]ngineer')\n",
    "# _ologists = raw_results.iloc[:,1].str.contains('olog[yist]')\n",
    "# print(\"Data scientists: {} \\nSoftware_engineers: {} \\n*ologists: {}\"\\\n",
    "#       .format(raw_results[data_scientists].shape[0], raw_results[software_engineers].shape[0], raw_results[_ologists].shape[0]))\n",
    "# #raw_results.loc[(~software_engineers) & (~data_scientists) & (~_ologists)]\n",
    "# raw_results[_ologists]"
   ]
  },
  {
   "cell_type": "code",
   "execution_count": 5,
   "metadata": {
    "collapsed": false
   },
   "outputs": [],
   "source": [
    "# String format: \"keyword, keyword combination, keyword, ...\"\n",
    "def count_results_by_keywords(query_string = None):\n",
    "    \n",
    "    # Ends the function if given invalid inputs\n",
    "    if query_string == None:\n",
    "        return(print(\"No keyword entered.\"))\n",
    "    \n",
    "    # Format the keyword string in to URL query\n",
    "    query = \"%20OR%20\".join(query_string.split(\", \"))\n",
    "    query = query.replace(' ', '+')\n",
    "\n",
    "    # Perform the search\n",
    "    job_ids = count_results(\"%28{}%29\".format(query))\n",
    "    \n",
    "    # Rename job_ids's columns\n",
    "    job_ids.columns = ['id', 'job title', 'job link', '{}'.format(\" OR \".join(query_string.split(\", \")))]\n",
    "    \n",
    "    return (job_ids)\n",
    "    \n",
    "    \n",
    "def count_results_by_salary(salary_range_divider = None, salary_floor = 20000):\n",
    "    \n",
    "    if salary_range_divider <= salary_floor:\n",
    "        return(print(\"Enter a number larger than ${}.\".format(salary_floor)))\n",
    "        \n",
    "    job_ids = pd.DataFrame()\n",
    "    # Set dividing salaries\n",
    "    divider_strings = [\"+${}-{}\".format(salary_floor, salary_range_divider), \"+${}\".format(salary_range_divider)]\n",
    "    \n",
    "    # Perform two searches, starting with the low-salary jobs\n",
    "    for level, salary_criterion in enumerate(divider_strings):\n",
    "        job_ids = job_ids.append(count_results(salary_criterion, binary_level=level))\n",
    "    \n",
    "    # Rename job_ids's columns\n",
    "    job_ids.columns = ['id', 'job title', 'job link', 'salary over {}'.format(salary_range_divider)]\n",
    "    \n",
    "    return(job_ids)\n",
    "\n",
    "\n",
    "def count_results_by_years_experience(years_experience = None):\n",
    "    \n",
    "    # Ends the function if given invalid inputs\n",
    "    if years_experience == None or type(years_experience) != int:\n",
    "        return(print(\"Enter an integer value.\"))\n",
    "    \n",
    "    # Format the keyword string in to URL query\n",
    "    query = \"{}+years+or+{}%2B+years\".format(str(years_experience), str(years_experience))\n",
    "\n",
    "    # Perform the search\n",
    "    job_ids = count_results(\"%28{}%29\".format(query), binary_level = years_experience)\n",
    "    \n",
    "    # Rename job_ids's columns\n",
    "    job_ids.columns = ['id', 'job title', 'job link', 'years experience']\n",
    "    \n",
    "    return (job_ids)"
   ]
  },
  {
   "cell_type": "markdown",
   "metadata": {},
   "source": [
    "#### Collect data"
   ]
  },
  {
   "cell_type": "markdown",
   "metadata": {},
   "source": [
    "Each dataframe is produced in a separate cell so that keywords can be adjusted or new searches added more quickly."
   ]
  },
  {
   "cell_type": "code",
   "execution_count": 6,
   "metadata": {
    "collapsed": false
   },
   "outputs": [],
   "source": [
    "phd_dataframe = count_results_by_keywords(\"PhD, ph.d\")"
   ]
  },
  {
   "cell_type": "code",
   "execution_count": 7,
   "metadata": {
    "collapsed": false
   },
   "outputs": [],
   "source": [
    "bachelors_dataframe = count_results_by_keywords(\"Bachelors, BS, BA\") # Indeed.com's search includes \"Bachelor's\", \"B.S.\", etc."
   ]
  },
  {
   "cell_type": "code",
   "execution_count": 8,
   "metadata": {
    "collapsed": false
   },
   "outputs": [],
   "source": [
    "python_dataframe = count_results_by_keywords(\"Python\")"
   ]
  },
  {
   "cell_type": "code",
   "execution_count": 9,
   "metadata": {
    "collapsed": false
   },
   "outputs": [],
   "source": [
    "# Use %22 ... %22 to ensure at least one of these keywords are present\n",
    "management_dataframe = count_results_by_keywords(\"%22Manager%22, %22director%22\")\n",
    "\n",
    "# Rename the column to a readable format\n",
    "management_dataframe.columns = ['id', 'job title', 'job link', 'Manager OR director']"
   ]
  },
  {
   "cell_type": "code",
   "execution_count": 10,
   "metadata": {
    "collapsed": false
   },
   "outputs": [],
   "source": [
    "startup_dataframe = count_results_by_keywords(\"Startup, start-up\")"
   ]
  },
  {
   "cell_type": "code",
   "execution_count": 11,
   "metadata": {
    "collapsed": false
   },
   "outputs": [],
   "source": [
    "scientist_dataframe = count_results_by_keywords(\"Scientist\")"
   ]
  },
  {
   "cell_type": "code",
   "execution_count": 12,
   "metadata": {
    "collapsed": false
   },
   "outputs": [],
   "source": [
    "machine_learning_dataframe = count_results_by_keywords(\"Machine learning\")"
   ]
  },
  {
   "cell_type": "code",
   "execution_count": 13,
   "metadata": {
    "collapsed": false
   },
   "outputs": [],
   "source": [
    "lab_dataframe = count_results_by_keywords(\"Lab, laboratory\")"
   ]
  },
  {
   "cell_type": "code",
   "execution_count": 14,
   "metadata": {
    "collapsed": false
   },
   "outputs": [],
   "source": [
    "# Use %22 ... %22 to search for the exact phrase \"Software engineer\"\n",
    "software_engineer_dataframe = count_results_by_keywords(\"%22Software engineer%22\")\n",
    "\n",
    "# Rename the column to a readable format\n",
    "software_engineer_dataframe.columns = ['id', 'job title', 'job link', 'Software engineer']"
   ]
  },
  {
   "cell_type": "code",
   "execution_count": 15,
   "metadata": {
    "collapsed": false
   },
   "outputs": [],
   "source": [
    "experience_results_dataframe = pd.DataFrame()\n",
    "\n",
    "# Scan search results from a range of year requirements\n",
    "for years in range(1+7):\n",
    "    experience_results_dataframe = experience_results_dataframe.append(count_results_by_years_experience(years))\n",
    "    \n",
    "# Some jobs asked for a range of experience; keep the maximum values\n",
    "average_years_experience_dataframe = experience_results_dataframe.groupby(by = 'id', as_index = False).max()\n",
    "experience_dataframe = experience_results_dataframe.drop(labels = 'years experience', axis = 1).merge(average_years_experience_dataframe, on = ['id', 'job title', 'job link']).drop_duplicates(subset = 'id')"
   ]
  },
  {
   "cell_type": "code",
   "execution_count": 16,
   "metadata": {
    "collapsed": false
   },
   "outputs": [],
   "source": [
    "salary_dataframe = count_results_by_salary(90000)"
   ]
  },
  {
   "cell_type": "markdown",
   "metadata": {},
   "source": [
    "#### Combine data"
   ]
  },
  {
   "cell_type": "code",
   "execution_count": 17,
   "metadata": {
    "collapsed": false
   },
   "outputs": [],
   "source": [
    "common_columns = ['id', 'job title', 'job link']\n",
    "master_dataframe = phd_dataframe.merge(bachelors_dataframe, on = common_columns, how = 'outer')\\\n",
    "    .merge(python_dataframe, on = common_columns, how = 'outer')\\\n",
    "    .merge(startup_dataframe, on = common_columns, how = 'outer')\\\n",
    "    .merge(scientist_dataframe, on = common_columns, how = 'outer')\\\n",
    "    .merge(machine_learning_dataframe, on = common_columns, how = 'outer')\\\n",
    "    .merge(lab_dataframe, on = common_columns, how = 'outer')\\\n",
    "    .merge(software_engineer_dataframe, on = common_columns, how = 'outer')\\\n",
    "    .merge(management_dataframe, on = common_columns, how = 'outer')\\\n",
    "    .merge(experience_dataframe, on = common_columns, how = 'outer')\\\n",
    "    .merge(salary_dataframe, on = common_columns, how = 'outer')\n",
    "\n",
    "# Convert non-id columns to integers and fill NaN values\n",
    "data_conversion_mask = (master_dataframe.columns != 'id') & (master_dataframe.columns != 'job title') & (master_dataframe.columns != 'job link')\n",
    "master_dataframe.ix[:, data_conversion_mask] = master_dataframe.ix[:, data_conversion_mask].fillna(value = 0).astype(int)\n"
   ]
  },
  {
   "cell_type": "code",
   "execution_count": 18,
   "metadata": {
    "collapsed": false,
    "scrolled": true
   },
   "outputs": [
    {
     "data": {
      "text/html": [
       "<div>\n",
       "<table border=\"1\" class=\"dataframe\">\n",
       "  <thead>\n",
       "    <tr style=\"text-align: right;\">\n",
       "      <th></th>\n",
       "      <th>id</th>\n",
       "      <th>job title</th>\n",
       "      <th>job link</th>\n",
       "      <th>PhD OR ph.d</th>\n",
       "      <th>Bachelors OR BS OR BA</th>\n",
       "      <th>Python</th>\n",
       "      <th>Startup OR start-up</th>\n",
       "      <th>Scientist</th>\n",
       "      <th>Machine learning</th>\n",
       "      <th>Lab OR laboratory</th>\n",
       "      <th>Software engineer</th>\n",
       "      <th>Manager OR director</th>\n",
       "      <th>years experience</th>\n",
       "      <th>salary over 90000</th>\n",
       "    </tr>\n",
       "  </thead>\n",
       "  <tbody>\n",
       "    <tr>\n",
       "      <th>0</th>\n",
       "      <td>jl_df3319bfb55ad3cf</td>\n",
       "      <td>Principal data scientist (boston)</td>\n",
       "      <td>https://www.indeed.com/rc/clk?jk=df3319bfb55ad...</td>\n",
       "      <td>1</td>\n",
       "      <td>0</td>\n",
       "      <td>1</td>\n",
       "      <td>0</td>\n",
       "      <td>1</td>\n",
       "      <td>1</td>\n",
       "      <td>0</td>\n",
       "      <td>0</td>\n",
       "      <td>0</td>\n",
       "      <td>0</td>\n",
       "      <td>1</td>\n",
       "    </tr>\n",
       "    <tr>\n",
       "      <th>1</th>\n",
       "      <td>jl_a116f7a8d8db626e</td>\n",
       "      <td>Research scientist, muscle</td>\n",
       "      <td>https://www.indeed.com/rc/clk?jk=a116f7a8d8db6...</td>\n",
       "      <td>1</td>\n",
       "      <td>0</td>\n",
       "      <td>0</td>\n",
       "      <td>0</td>\n",
       "      <td>1</td>\n",
       "      <td>0</td>\n",
       "      <td>0</td>\n",
       "      <td>0</td>\n",
       "      <td>0</td>\n",
       "      <td>3</td>\n",
       "      <td>0</td>\n",
       "    </tr>\n",
       "    <tr>\n",
       "      <th>2</th>\n",
       "      <td>jl_28073c31ba9820ad</td>\n",
       "      <td>Scientist, research and modeling (air)</td>\n",
       "      <td>https://www.indeed.com/rc/clk?jk=28073c31ba982...</td>\n",
       "      <td>1</td>\n",
       "      <td>0</td>\n",
       "      <td>1</td>\n",
       "      <td>0</td>\n",
       "      <td>1</td>\n",
       "      <td>0</td>\n",
       "      <td>0</td>\n",
       "      <td>0</td>\n",
       "      <td>0</td>\n",
       "      <td>2</td>\n",
       "      <td>1</td>\n",
       "    </tr>\n",
       "  </tbody>\n",
       "</table>\n",
       "</div>"
      ],
      "text/plain": [
       "                    id                               job title  \\\n",
       "0  jl_df3319bfb55ad3cf       Principal data scientist (boston)   \n",
       "1  jl_a116f7a8d8db626e              Research scientist, muscle   \n",
       "2  jl_28073c31ba9820ad  Scientist, research and modeling (air)   \n",
       "\n",
       "                                            job link  PhD OR ph.d  \\\n",
       "0  https://www.indeed.com/rc/clk?jk=df3319bfb55ad...            1   \n",
       "1  https://www.indeed.com/rc/clk?jk=a116f7a8d8db6...            1   \n",
       "2  https://www.indeed.com/rc/clk?jk=28073c31ba982...            1   \n",
       "\n",
       "   Bachelors OR BS OR BA  Python  Startup OR start-up  Scientist  \\\n",
       "0                      0       1                    0          1   \n",
       "1                      0       0                    0          1   \n",
       "2                      0       1                    0          1   \n",
       "\n",
       "   Machine learning  Lab OR laboratory  Software engineer  \\\n",
       "0                 1                  0                  0   \n",
       "1                 0                  0                  0   \n",
       "2                 0                  0                  0   \n",
       "\n",
       "   Manager OR director  years experience  salary over 90000  \n",
       "0                    0                 0                  1  \n",
       "1                    0                 3                  0  \n",
       "2                    0                 2                  1  "
      ]
     },
     "execution_count": 18,
     "metadata": {},
     "output_type": "execute_result"
    }
   ],
   "source": [
    "master_dataframe.head(3)"
   ]
  },
  {
   "cell_type": "code",
   "execution_count": 19,
   "metadata": {
    "collapsed": false,
    "scrolled": false
   },
   "outputs": [],
   "source": [
    "# Create a dataframe that keeps only the data features for analysis\n",
    "data_dataframe_mask = (master_dataframe['Lab OR laboratory'] == 0) | (master_dataframe['Software engineer'] == 1)\n",
    "data_dataframe = master_dataframe[data_dataframe_mask].drop(labels = common_columns, axis = 1).drop(labels = ['Lab OR laboratory', 'Software engineer'], axis = 1)\n",
    "#data_dataframe.loc[:, 'years experience'] = sklearn.preprocessing.minmax_scale(data_dataframe['years experience'].astype(float), copy = False)"
   ]
  },
  {
   "cell_type": "markdown",
   "metadata": {},
   "source": [
    "#### Model with statsmodel logistic regression"
   ]
  },
  {
   "cell_type": "code",
   "execution_count": 20,
   "metadata": {
    "collapsed": false
   },
   "outputs": [
    {
     "data": {
      "text/plain": [
       "Index(['PhD_OR_ph_d', 'Bachelors_OR_BS_OR_BA', 'Python', 'Startup_OR_start_up',\n",
       "       'Scientist', 'Machine_learning', 'Manager_OR_director',\n",
       "       'years_experience', 'salary_over_90000'],\n",
       "      dtype='object')"
      ]
     },
     "execution_count": 20,
     "metadata": {},
     "output_type": "execute_result"
    }
   ],
   "source": [
    "sm_model_dataframe = data_dataframe.copy()\n",
    "sm_model_dataframe.columns = sm_model_dataframe.columns.str.replace(' ', '_').str.replace('.', '_').str.replace('-', '_')\n",
    "sm_model_dataframe.columns"
   ]
  },
  {
   "cell_type": "code",
   "execution_count": 53,
   "metadata": {
    "collapsed": false,
    "scrolled": false
   },
   "outputs": [
    {
     "name": "stdout",
     "output_type": "stream",
     "text": [
      "Optimization terminated successfully.\n",
      "         Current function value: 0.614575\n",
      "         Iterations 5\n"
     ]
    },
    {
     "data": {
      "text/html": [
       "<table class=\"simpletable\">\n",
       "<caption>Logit Regression Results</caption>\n",
       "<tr>\n",
       "  <th>Dep. Variable:</th> <td>salary_over_90000</td> <th>  No. Observations:  </th>  <td>   881</td>  \n",
       "</tr>\n",
       "<tr>\n",
       "  <th>Model:</th>               <td>Logit</td>       <th>  Df Residuals:      </th>  <td>   872</td>  \n",
       "</tr>\n",
       "<tr>\n",
       "  <th>Method:</th>               <td>MLE</td>        <th>  Df Model:          </th>  <td>     8</td>  \n",
       "</tr>\n",
       "<tr>\n",
       "  <th>Date:</th>          <td>Mon, 02 Jan 2017</td>  <th>  Pseudo R-squ.:     </th>  <td>0.1034</td>  \n",
       "</tr>\n",
       "<tr>\n",
       "  <th>Time:</th>              <td>21:41:51</td>      <th>  Log-Likelihood:    </th> <td> -541.44</td> \n",
       "</tr>\n",
       "<tr>\n",
       "  <th>converged:</th>           <td>True</td>        <th>  LL-Null:           </th> <td> -603.90</td> \n",
       "</tr>\n",
       "<tr>\n",
       "  <th> </th>                      <td> </td>         <th>  LLR p-value:       </th> <td>3.182e-23</td>\n",
       "</tr>\n",
       "</table>\n",
       "<table class=\"simpletable\">\n",
       "<tr>\n",
       "            <td></td>               <th>coef</th>     <th>std err</th>      <th>z</th>      <th>P>|z|</th> <th>[95.0% Conf. Int.]</th> \n",
       "</tr>\n",
       "<tr>\n",
       "  <th>Intercept</th>             <td>   -0.6935</td> <td>    0.141</td> <td>   -4.935</td> <td> 0.000</td> <td>   -0.969    -0.418</td>\n",
       "</tr>\n",
       "<tr>\n",
       "  <th>PhD_OR_ph_d</th>           <td>   -0.0546</td> <td>    0.172</td> <td>   -0.318</td> <td> 0.751</td> <td>   -0.391     0.282</td>\n",
       "</tr>\n",
       "<tr>\n",
       "  <th>Bachelors_OR_BS_OR_BA</th> <td>   -0.1418</td> <td>    0.183</td> <td>   -0.773</td> <td> 0.439</td> <td>   -0.501     0.218</td>\n",
       "</tr>\n",
       "<tr>\n",
       "  <th>Python</th>                <td>    0.8465</td> <td>    0.206</td> <td>    4.109</td> <td> 0.000</td> <td>    0.443     1.250</td>\n",
       "</tr>\n",
       "<tr>\n",
       "  <th>Startup_OR_start_up</th>   <td>    0.5436</td> <td>    0.250</td> <td>    2.173</td> <td> 0.030</td> <td>    0.053     1.034</td>\n",
       "</tr>\n",
       "<tr>\n",
       "  <th>Scientist</th>             <td>    0.3928</td> <td>    0.191</td> <td>    2.062</td> <td> 0.039</td> <td>    0.019     0.766</td>\n",
       "</tr>\n",
       "<tr>\n",
       "  <th>Machine_learning</th>      <td>    0.8327</td> <td>    0.233</td> <td>    3.571</td> <td> 0.000</td> <td>    0.376     1.290</td>\n",
       "</tr>\n",
       "<tr>\n",
       "  <th>Manager_OR_director</th>   <td>    0.4472</td> <td>    0.194</td> <td>    2.301</td> <td> 0.021</td> <td>    0.066     0.828</td>\n",
       "</tr>\n",
       "<tr>\n",
       "  <th>years_experience</th>      <td>    0.1034</td> <td>    0.034</td> <td>    3.081</td> <td> 0.002</td> <td>    0.038     0.169</td>\n",
       "</tr>\n",
       "</table>"
      ],
      "text/plain": [
       "<class 'statsmodels.iolib.summary.Summary'>\n",
       "\"\"\"\n",
       "                           Logit Regression Results                           \n",
       "==============================================================================\n",
       "Dep. Variable:      salary_over_90000   No. Observations:                  881\n",
       "Model:                          Logit   Df Residuals:                      872\n",
       "Method:                           MLE   Df Model:                            8\n",
       "Date:                Mon, 02 Jan 2017   Pseudo R-squ.:                  0.1034\n",
       "Time:                        21:41:51   Log-Likelihood:                -541.44\n",
       "converged:                       True   LL-Null:                       -603.90\n",
       "                                        LLR p-value:                 3.182e-23\n",
       "=========================================================================================\n",
       "                            coef    std err          z      P>|z|      [95.0% Conf. Int.]\n",
       "-----------------------------------------------------------------------------------------\n",
       "Intercept                -0.6935      0.141     -4.935      0.000        -0.969    -0.418\n",
       "PhD_OR_ph_d              -0.0546      0.172     -0.318      0.751        -0.391     0.282\n",
       "Bachelors_OR_BS_OR_BA    -0.1418      0.183     -0.773      0.439        -0.501     0.218\n",
       "Python                    0.8465      0.206      4.109      0.000         0.443     1.250\n",
       "Startup_OR_start_up       0.5436      0.250      2.173      0.030         0.053     1.034\n",
       "Scientist                 0.3928      0.191      2.062      0.039         0.019     0.766\n",
       "Machine_learning          0.8327      0.233      3.571      0.000         0.376     1.290\n",
       "Manager_OR_director       0.4472      0.194      2.301      0.021         0.066     0.828\n",
       "years_experience          0.1034      0.034      3.081      0.002         0.038     0.169\n",
       "=========================================================================================\n",
       "\"\"\""
      ]
     },
     "execution_count": 53,
     "metadata": {},
     "output_type": "execute_result"
    }
   ],
   "source": [
    "sm_model = sm.logit(\"salary_over_90000 ~ PhD_OR_ph_d + Bachelors_OR_BS_OR_BA + Python + Startup_OR_start_up + Scientist + Machine_learning + Manager_OR_director + years_experience\", data=sm_model_dataframe).fit()\n",
    "sm_model.summary()"
   ]
  },
  {
   "cell_type": "markdown",
   "metadata": {},
   "source": [
    "#### Model with sklearn's logistic regression"
   ]
  },
  {
   "cell_type": "code",
   "execution_count": 67,
   "metadata": {
    "collapsed": false
   },
   "outputs": [],
   "source": [
    "import sklearn\n",
    "X = data_dataframe.drop('salary over 90000', axis = 1)\n",
    "y = data_dataframe['salary over 90000']\n",
    "logreg = sklearn.linear_model.LogisticRegressionCV(cv = 6)\n",
    "model = logreg.fit(X, y)\n",
    "predictions = model.predict(X)\n",
    "\n",
    "model_confusion_matrix = sklearn.metrics.confusion_matrix(y, predictions)"
   ]
  },
  {
   "cell_type": "code",
   "execution_count": 68,
   "metadata": {
    "collapsed": false
   },
   "outputs": [
    {
     "name": "stdout",
     "output_type": "stream",
     "text": [
      "Average cross validation scores: 0.651269538896719\n",
      "Confusion matrix:\n",
      " [[160 226]\n",
      " [ 88 407]]\n",
      "Model performance: \n",
      "              precision    recall  f1-score   support\n",
      "\n",
      "          0       0.65      0.41      0.50       386\n",
      "          1       0.64      0.82      0.72       495\n",
      "\n",
      "avg / total       0.64      0.64      0.63       881\n",
      "\n",
      "Area under ROC curve for model: 0.6183649971214739\n"
     ]
    }
   ],
   "source": [
    "print(\"Average cross validation scores: {}\".format(sklearn.cross_validation.cross_val_score(logreg, X, y, scoring='roc_auc').mean()))\n",
    "print(\"Confusion matrix:\\n\", model_confusion_matrix)\n",
    "print(\"Model performance: \\n\", sklearn.metrics.classification_report(y, predictions))\n",
    "print(\"Area under ROC curve for model: {}\".format(sklearn.metrics.roc_auc_score(y, predictions)))"
   ]
  },
  {
   "cell_type": "code",
   "execution_count": 62,
   "metadata": {
    "collapsed": false,
    "scrolled": true
   },
   "outputs": [
    {
     "data": {
      "text/html": [
       "<div>\n",
       "<table border=\"1\" class=\"dataframe\">\n",
       "  <thead>\n",
       "    <tr style=\"text-align: right;\">\n",
       "      <th></th>\n",
       "      <th>Probability over threshold</th>\n",
       "      <th>Probability under threshold</th>\n",
       "      <th>salary over 90000</th>\n",
       "    </tr>\n",
       "  </thead>\n",
       "  <tbody>\n",
       "    <tr>\n",
       "      <th>0</th>\n",
       "      <td>0.391112</td>\n",
       "      <td>0.608888</td>\n",
       "      <td>1</td>\n",
       "    </tr>\n",
       "    <tr>\n",
       "      <th>1</th>\n",
       "      <td>0.416641</td>\n",
       "      <td>0.583359</td>\n",
       "      <td>0</td>\n",
       "    </tr>\n",
       "    <tr>\n",
       "      <th>2</th>\n",
       "      <td>0.388341</td>\n",
       "      <td>0.611659</td>\n",
       "      <td>1</td>\n",
       "    </tr>\n",
       "    <tr>\n",
       "      <th>3</th>\n",
       "      <td>0.370904</td>\n",
       "      <td>0.629096</td>\n",
       "      <td>1</td>\n",
       "    </tr>\n",
       "    <tr>\n",
       "      <th>4</th>\n",
       "      <td>0.493793</td>\n",
       "      <td>0.506207</td>\n",
       "      <td>0</td>\n",
       "    </tr>\n",
       "  </tbody>\n",
       "</table>\n",
       "</div>"
      ],
      "text/plain": [
       "   Probability over threshold  Probability under threshold  salary over 90000\n",
       "0                    0.391112                     0.608888                  1\n",
       "1                    0.416641                     0.583359                  0\n",
       "2                    0.388341                     0.611659                  1\n",
       "3                    0.370904                     0.629096                  1\n",
       "4                    0.493793                     0.506207                  0"
      ]
     },
     "execution_count": 62,
     "metadata": {},
     "output_type": "execute_result"
    }
   ],
   "source": [
    "logreg_probabilites_dataframe = pd.DataFrame(logreg.predict_proba(X), columns = [\"Probability over threshold\", \"Probability under threshold\"])\n",
    "model_vs_data_dataframe = pd.concat(objs = [logreg_probabilites_dataframe, master_dataframe[['salary over 90000']]],axis=1)\n",
    "model_vs_data_dataframe.head()"
   ]
  },
  {
   "cell_type": "code",
   "execution_count": 63,
   "metadata": {
    "collapsed": false
   },
   "outputs": [],
   "source": [
    "logreg_model_coefficients = pd.DataFrame(data = model.coef_, index = ['coefficient'], columns = data_dataframe.drop(labels = 'salary over 90000', axis = 1).columns).T"
   ]
  },
  {
   "cell_type": "markdown",
   "metadata": {},
   "source": [
    "<br></br>\n",
    "<br></br>\n",
    "# Part II: Report"
   ]
  },
  {
   "cell_type": "markdown",
   "metadata": {},
   "source": [
    "Since each company has different data science needs, we expected each job posting's requirements to vary by a large range. We therefore decided to focus our analysis on a few key pieces of information in each job posting, specifically:\n",
    "\n",
    "* If the job required a PhD or a bachelor's degree\n",
    "* If the job asked for experience with Python\n",
    "* If the company was likely to be a start-up\n",
    "* If the job specifically used \"scientist\", as a proxy for expectations of technical knowledge\n",
    "* If the job description mentioned machine learning\n",
    "* If the job function includes managing or directing responsibilites\n",
    "* The mean number of years of experience required\n",
    "\n",
    "Our goal is to predict which jobs will have a salary exceeding $90,000 based on these features. While we'd prefer to predict the salary more exactly, job salaries typically vary according to a number of factors (location, responsibilites, company policies, etc.) which means computing a salary range may be more useful."
   ]
  },
  {
   "cell_type": "markdown",
   "metadata": {},
   "source": [
    "### Scraping job listings from Indeed.com"
   ]
  },
  {
   "cell_type": "markdown",
   "metadata": {},
   "source": [
    "By a rough estimation, only a fraction of jobs posts explicitly included more that one of these features. Rather than follow the hyperlink for each post and scanning each page, which would likely have formatting particular to each company, we reasoned that we could leverage Indeed.com's search to obtain information we could not readily access. \n",
    "\n",
    "> Only about 20% of the jobs in our search results contain salary information. When a job posting doesn't include a salary, we estimate it by looking at similar jobs. When salaries are available, they are shown in our search results.\n",
    "\n",
    "> Salary information comes from 187 data points collected directly from employees, users, and past and present job advertisements on Indeed in the past 12 months.\n",
    "\n",
    "> The figures you see from our Salary search are in fact averages. The Indeed Salary Search is based on an index of salary information extracted from over 50 million job postings from thousands of unique sources over the last 12 months. Many job descriptions don't contain salary information, but there are enough that do to produce statistically significant median salaries for millions of keyword, job title and location combinations.\n",
    "\n",
    "Each job post on Indeed.com has a unique ID. (When capturing the data, we noticed approximately 20% had duplicated IDs. We determined by inspection that these were reposted jobs, and therefore reasonably removed these data points.) Therefore could we employ a strategy where we changed the search query and kept track of which jobs were among the results, perform multiple keyword searches, and merge the resulting data on the for each ID. For example, the following are the first few jobs that required a PhD and mentioned 3 years of experience:"
   ]
  },
  {
   "cell_type": "code",
   "execution_count": 31,
   "metadata": {
    "collapsed": false
   },
   "outputs": [
    {
     "data": {
      "text/html": [
       "<div>\n",
       "<table border=\"1\" class=\"dataframe\">\n",
       "  <thead>\n",
       "    <tr style=\"text-align: right;\">\n",
       "      <th></th>\n",
       "      <th>job title</th>\n",
       "      <th>PhD OR ph.d</th>\n",
       "      <th>years experience</th>\n",
       "    </tr>\n",
       "  </thead>\n",
       "  <tbody>\n",
       "    <tr>\n",
       "      <th>1</th>\n",
       "      <td>Research scientist, muscle</td>\n",
       "      <td>1</td>\n",
       "      <td>3</td>\n",
       "    </tr>\n",
       "    <tr>\n",
       "      <th>6</th>\n",
       "      <td>Post-doctoral research fellow metabolism</td>\n",
       "      <td>1</td>\n",
       "      <td>3</td>\n",
       "    </tr>\n",
       "    <tr>\n",
       "      <th>7</th>\n",
       "      <td>Phd research scientist- machine learning</td>\n",
       "      <td>1</td>\n",
       "      <td>3</td>\n",
       "    </tr>\n",
       "    <tr>\n",
       "      <th>26</th>\n",
       "      <td>Data scientist – scientific data analysis</td>\n",
       "      <td>1</td>\n",
       "      <td>3</td>\n",
       "    </tr>\n",
       "    <tr>\n",
       "      <th>32</th>\n",
       "      <td>Senior analyst / water resources</td>\n",
       "      <td>1</td>\n",
       "      <td>3</td>\n",
       "    </tr>\n",
       "  </tbody>\n",
       "</table>\n",
       "</div>"
      ],
      "text/plain": [
       "                                    job title  PhD OR ph.d  years experience\n",
       "1                  Research scientist, muscle            1                 3\n",
       "6    Post-doctoral research fellow metabolism            1                 3\n",
       "7    Phd research scientist- machine learning            1                 3\n",
       "26  Data scientist – scientific data analysis            1                 3\n",
       "32           Senior analyst / water resources            1                 3"
      ]
     },
     "execution_count": 31,
     "metadata": {},
     "output_type": "execute_result"
    }
   ],
   "source": [
    "master_dataframe[(master_dataframe['PhD OR ph.d'] == 1) & (master_dataframe['years experience'] == 3)][['job title', 'PhD OR ph.d', 'years experience']].head()"
   ]
  },
  {
   "cell_type": "markdown",
   "metadata": {},
   "source": [
    "This method of analysis is much simpler than the most obvious alternative strategy, which would include following each job posting on Indeed.com to its description on an external website and performing a keyword search. However because the method we chose relied on Indeed.com's search algorithm, the webscraping provided a significant number of results that contained keywords like \"data\" and \"science\" but may be unrelated to data science. For example:"
   ]
  },
  {
   "cell_type": "code",
   "execution_count": 46,
   "metadata": {
    "collapsed": false
   },
   "outputs": [
    {
     "name": "stdout",
     "output_type": "stream",
     "text": [
      "5            Sr research associate / scientist\n",
      "6     Post-doctoral research fellow metabolism\n",
      "8                      Research data scientist\n",
      "12                  Product research scientist\n",
      "13                   Biomedical data scientist\n",
      "Name: job title, dtype: object\n"
     ]
    }
   ],
   "source": [
    "print(master_dataframe[(master_dataframe['Lab OR laboratory'] == 1) | (master_dataframe['Software engineer'] == 1)]['job title'].head())"
   ]
  },
  {
   "cell_type": "markdown",
   "metadata": {},
   "source": [
    "An inspection of a sampling of these points suggested that job postings that refered to a laboratory were more likely to focus on biology or related sciences. Similarly, job postings with titles that included \"software engineer\" were less likely to relate to data science. These keywords were used to filter the data."
   ]
  },
  {
   "cell_type": "markdown",
   "metadata": {},
   "source": [
    "### Results and Analysis"
   ]
  },
  {
   "cell_type": "markdown",
   "metadata": {},
   "source": [
    "<u>The results may not be current since they are drawn from live webpages.</u>\n",
    "\n",
    "We analyzed postings for 1361 jobs. We removed 392 observations from the data, a 40.5% reduction, leaving 969 observations. \"Scientist\" was by far the most common keyword, occuring in 75% of observations, followed by PhD, \"laboratory\", and bachelor's degree (36%, 29% and 28%, respectively)."
   ]
  },
  {
   "cell_type": "code",
   "execution_count": 41,
   "metadata": {
    "collapsed": false
   },
   "outputs": [
    {
     "name": "stdout",
     "output_type": "stream",
     "text": [
      "Jobs analyzed: 1258\n",
      "Job postings removed: 377 (-42.8% change)\n",
      "Remaining postings: 881\n",
      "\n",
      "Keywords\t\tFrequency\n",
      "years experience         1.984897\n",
      "Scientist                0.781399\n",
      "PhD OR ph.d              0.372814\n",
      "Lab OR laboratory        0.305246\n",
      "Bachelors OR BS OR BA    0.269475\n",
      "Python                   0.240859\n",
      "Manager OR director      0.183625\n",
      "Machine learning         0.178855\n",
      "Startup OR start-up      0.101749\n",
      "Software engineer        0.054849\n",
      "Name: mean, dtype: float64\n"
     ]
    }
   ],
   "source": [
    "print(\"Jobs analyzed: {}\\nJob postings removed: {} ({}% change)\\nRemaining postings: {}\".format(master_dataframe.shape[0], master_dataframe.shape[0] - data_dataframe.shape[0], round(100 * (1 - master_dataframe.shape[0] / data_dataframe.shape[0]),1), data_dataframe.shape[0]))\n",
    "print(\"\\nKeywords\\t\\tFrequency\\n{}\".format(master_dataframe.drop('salary over 90000', axis = 1).describe().loc['mean'].sort_values(ascending = False)))"
   ]
  },
  {
   "cell_type": "code",
   "execution_count": 66,
   "metadata": {
    "collapsed": false
   },
   "outputs": [
    {
     "data": {
      "text/html": [
       "<div>\n",
       "<table border=\"1\" class=\"dataframe\">\n",
       "  <thead>\n",
       "    <tr style=\"text-align: right;\">\n",
       "      <th></th>\n",
       "      <th>coefficient</th>\n",
       "    </tr>\n",
       "  </thead>\n",
       "  <tbody>\n",
       "    <tr>\n",
       "      <th>PhD OR ph.d</th>\n",
       "      <td>0.053921</td>\n",
       "    </tr>\n",
       "    <tr>\n",
       "      <th>Bachelors OR BS OR BA</th>\n",
       "      <td>-0.016247</td>\n",
       "    </tr>\n",
       "    <tr>\n",
       "      <th>Python</th>\n",
       "      <td>0.221629</td>\n",
       "    </tr>\n",
       "    <tr>\n",
       "      <th>Startup OR start-up</th>\n",
       "      <td>0.085701</td>\n",
       "    </tr>\n",
       "    <tr>\n",
       "      <th>Scientist</th>\n",
       "      <td>0.151342</td>\n",
       "    </tr>\n",
       "    <tr>\n",
       "      <th>Machine learning</th>\n",
       "      <td>0.196183</td>\n",
       "    </tr>\n",
       "    <tr>\n",
       "      <th>Manager OR director</th>\n",
       "      <td>0.047683</td>\n",
       "    </tr>\n",
       "    <tr>\n",
       "      <th>years experience</th>\n",
       "      <td>0.103917</td>\n",
       "    </tr>\n",
       "  </tbody>\n",
       "</table>\n",
       "</div>"
      ],
      "text/plain": [
       "                       coefficient\n",
       "PhD OR ph.d               0.053921\n",
       "Bachelors OR BS OR BA    -0.016247\n",
       "Python                    0.221629\n",
       "Startup OR start-up       0.085701\n",
       "Scientist                 0.151342\n",
       "Machine learning          0.196183\n",
       "Manager OR director       0.047683\n",
       "years experience          0.103917"
      ]
     },
     "execution_count": 66,
     "metadata": {},
     "output_type": "execute_result"
    }
   ],
   "source": [
    "logreg_model_coefficients"
   ]
  },
  {
   "cell_type": "code",
   "execution_count": 80,
   "metadata": {
    "collapsed": false
   },
   "outputs": [
    {
     "data": {
      "image/png": "[encoded data removed]",
      "text/plain": [
       "<matplotlib.figure.Figure at 0x118ddff60>"
      ]
     },
     "metadata": {},
     "output_type": "display_data"
    }
   ],
   "source": [
    "plt.figure(figsize=(10,6))\n",
    "sns.barplot(data = logreg_model_coefficients.sort_values(by = 'coefficient', ascending = False).T, orient='h')\n",
    "sns.plt.show()"
   ]
  },
  {
   "cell_type": "code",
   "execution_count": null,
   "metadata": {
    "collapsed": true
   },
   "outputs": [],
   "source": []
  }
 ],
 "metadata": {
  "anaconda-cloud": {},
  "kernelspec": {
   "display_name": "Python [Root]",
   "language": "python",
   "name": "Python [Root]"
  },
  "language_info": {
   "codemirror_mode": {
    "name": "ipython",
    "version": 3
   },
   "file_extension": ".py",
   "mimetype": "text/x-python",
   "name": "python",
   "nbconvert_exporter": "python",
   "pygments_lexer": "ipython3",
   "version": "3.5.2"
  }
 },
 "nbformat": 4,
 "nbformat_minor": 0
}
