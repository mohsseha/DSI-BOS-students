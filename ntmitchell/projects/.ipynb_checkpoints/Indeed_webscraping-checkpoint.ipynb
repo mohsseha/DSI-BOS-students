{
 "cells": [
  {
   "cell_type": "markdown",
   "metadata": {
    "focus": false,
    "id": "69b9a648-bcc7-490d-9f9b-ea244d156bd6"
   },
   "source": [
    "# Web Scraping for Indeed.com & Predicting Salaries"
   ]
  },
  {
   "cell_type": "markdown",
   "metadata": {},
   "source": [
    "For this project, we used a set of characteristics to predict the salaries for data science jobs in the Boston area. We scraped Indeed.com, an online jobsboard, picked out key phrases, and determined if each job's salary is above a threshold value. We then used logistic regression to model this system. **WE FOUND ... ** We expanded our analysis to other cities and compared the models, **AND FOUND ... **"
   ]
  },
  {
   "cell_type": "markdown",
   "metadata": {},
   "source": [
    "## Code"
   ]
  },
  {
   "cell_type": "markdown",
   "metadata": {},
   "source": [
    "### Import libraries"
   ]
  },
  {
   "cell_type": "code",
   "execution_count": 1,
   "metadata": {
    "collapsed": true
   },
   "outputs": [],
   "source": [
    "# Webscraping\n",
    "from urllib.request import urlopen\n",
    "from bs4 import BeautifulSoup\n",
    "\n",
    "#Data and analysis\n",
    "import pandas as pd\n",
    "import statsmodels.formula.api as sm\n",
    "import sklearn\n",
    "\n",
    "# Plotting\n",
    "import matplotlib.pyplot as plt\n",
    "import seaborn as sns\n",
    "\n",
    "%matplotlib inline"
   ]
  },
  {
   "cell_type": "markdown",
   "metadata": {},
   "source": [
    "### Define webscraping functions"
   ]
  },
  {
   "cell_type": "code",
   "execution_count": 2,
   "metadata": {
    "collapsed": false
   },
   "outputs": [],
   "source": [
    "def count_results(query = None, location = \"Boston\", binary_level = 1):\n",
    "    job_ids = pd.DataFrame()\n",
    "    \n",
    "    result_list = []\n",
    "        \n",
    "    # Find the number of results\n",
    "    URL_for_count = \"http://www.indeed.com/jobs?q=data+scientist+{}&l={}\".format(query, location)\n",
    "    soup_for_count = BeautifulSoup(urlopen(URL_for_count).read(), 'html.parser')\n",
    "\n",
    "    results_number = soup_for_count.find(\"div\", attrs = {\"id\": \"searchCount\"}).text\n",
    "    number_of_results = int(results_number.split(sep = ' ')[-1].replace(',', ''))\n",
    "\n",
    "    # Now loop through the pages. Viewing 100 results at a time means fewer page refreshes.\n",
    "    i = int(number_of_results/100)\n",
    "    for page_number in range(i + 1):\n",
    "        URL_for_results = \"http://www.indeed.com/jobs?q=data+scientist+{}&l={}&limit=100&start={}\".format(query, location, str(100 * page_number))\n",
    "        soup_for_results = BeautifulSoup(urlopen(URL_for_results).read(), 'html.parser')\n",
    "        results = soup_for_results.find_all('div', attrs={'data-tn-component': 'organicJob'})\n",
    "            \n",
    "        # Extract the ID for each job listing\n",
    "        for x in results:\n",
    "            job_id = x.find('h2', attrs={\"class\": \"jobtitle\"})['id']\n",
    "            job_title = x.find('a', attrs={'data-tn-element': \"jobTitle\"}).text.strip().capitalize()\n",
    "            result_list.append([job_id, job_title, binary_level])\n",
    "        \n",
    "        # Add the job ID numbers\n",
    "        job_ids = job_ids.append(result_list)\n",
    "    \n",
    "    # Remove re-posted jobs\n",
    "    job_ids.drop_duplicates(inplace = True)\n",
    "    return job_ids"
   ]
  },
  {
   "cell_type": "code",
   "execution_count": 3,
   "metadata": {
    "collapsed": false
   },
   "outputs": [],
   "source": [
    "# String format: \"keyword keyword\"\n",
    "def count_results_by_keywords(query_string = None):\n",
    "    \n",
    "    # Ends the function if given invalid inputs\n",
    "    if query_string == None:\n",
    "        return(print(\"No keyword entered.\"))\n",
    "    \n",
    "    # Format the keyword string in to URL query\n",
    "    query = \"%20OR%20\".join(query_string.split(\" \"))\n",
    "\n",
    "    # Perform the search\n",
    "    job_ids = count_results(\"%28{}%29\".format(query))\n",
    "    \n",
    "    # Rename job_ids's columns\n",
    "    job_ids.columns = ['id', 'job title', '{}'.format(\" OR \".join(query_string.split(\" \")))]\n",
    "    \n",
    "    return (job_ids)\n",
    "    \n",
    "    \n",
    "def count_results_by_salary(salary_range_divider = 90000):\n",
    "    \n",
    "    # OPTIONAL: removes low values\n",
    "    if salary_range_divider <= 20000:\n",
    "        return(print(\"Enter a number larger than $20,000.\"))\n",
    "        \n",
    "    job_ids = pd.DataFrame()\n",
    "    # Set dividing salaries\n",
    "    divider_strings = [\"+$20000-{}\".format(salary_range_divider), \"+${}\".format(salary_range_divider)]\n",
    "    \n",
    "    # Perform two searches, starting with the low-salary jobs\n",
    "    for level, salary_criterion in enumerate(divider_strings):\n",
    "        job_ids = job_ids.append(count_results(salary_criterion, binary_level=level))\n",
    "    \n",
    "    # Rename job_ids's columns\n",
    "    job_ids.columns = ['id', 'job title', \"salary over {}\".format(salary_range_divider)]\n",
    "    \n",
    "    return(job_ids)\n",
    "\n",
    "\n",
    "def count_results_by_years_experience(years_experience = None):\n",
    "    \n",
    "    # Ends the function if given invalid inputs\n",
    "    if years_experience == None or type(years_experience) != int:\n",
    "        return(print(\"Enter an integer value.\"))\n",
    "    \n",
    "    # Format the keyword string in to URL query\n",
    "    query = \"{}+years+or+{}%2B+years\".format(str(years_experience), str(years_experience))\n",
    "\n",
    "    # Perform the search\n",
    "    job_ids = count_results(\"%28{}%29\".format(query), binary_level = years_experience)\n",
    "    \n",
    "    # Rename job_ids's columns\n",
    "    job_ids.columns = ['id', 'job title', \"years experience\"]\n",
    "    \n",
    "    return (job_ids)"
   ]
  },
  {
   "cell_type": "markdown",
   "metadata": {},
   "source": [
    "### Collecting and assembling data"
   ]
  },
  {
   "cell_type": "code",
   "execution_count": 4,
   "metadata": {
    "collapsed": false
   },
   "outputs": [],
   "source": [
    "phd_dataframe = count_results_by_keywords(\"PhD ph.d\")\n",
    "\n",
    "bachelors_dataframe = count_results_by_keywords(\"Bachelors BS BA\") # Indeed.com's search includes \"Bachelor's\", \"B.S.\", etc.\n",
    "\n",
    "python_dataframe = count_results_by_keywords(\"Python\")\n",
    "\n",
    "startup_dataframe = count_results_by_keywords(\"Startup start-up\")\n",
    "\n",
    "scientist_dataframe = count_results_by_keywords(\"Scientist\")\n",
    "\n",
    "experience_dataframe = pd.DataFrame()\n",
    "for years in range(1+7):\n",
    "    experience_dataframe = experience_dataframe.append(count_results_by_years_experience(years))\n",
    "\n",
    "salary_dataframe = count_results_by_salary(90000)"
   ]
  },
  {
   "cell_type": "code",
   "execution_count": 5,
   "metadata": {
    "collapsed": false
   },
   "outputs": [],
   "source": [
    "# Merge dataframes\n",
    "master_dataframe = phd_dataframe.merge(bachelors_dataframe, on = ['id', 'job title'], how = 'outer').merge(python_dataframe, on = ['id', 'job title'], how = 'outer').merge(startup_dataframe, on = ['id', 'job title'], how = 'outer').merge(scientist_dataframe, on = ['id', 'job title'], how = 'outer').merge(experience_dataframe, on = ['id', 'job title'], how = 'outer').merge(salary_dataframe, on = ['id', 'job title'], how = 'outer')\n",
    "\n",
    "# Convert non-id columns to integers\n",
    "data_conversion_mask = (master_dataframe.columns != 'id') & (master_dataframe.columns != 'job title')\n",
    "master_dataframe.ix[:, data_conversion_mask] = master_dataframe.ix[:, data_conversion_mask].fillna(value = 0).astype(int)"
   ]
  },
  {
   "cell_type": "code",
   "execution_count": 6,
   "metadata": {
    "collapsed": false,
    "scrolled": true
   },
   "outputs": [
    {
     "data": {
      "text/html": [
       "<div>\n",
       "<table border=\"1\" class=\"dataframe\">\n",
       "  <thead>\n",
       "    <tr style=\"text-align: right;\">\n",
       "      <th></th>\n",
       "      <th>id</th>\n",
       "      <th>job title</th>\n",
       "      <th>PhD OR ph.d</th>\n",
       "      <th>Bachelors OR BS OR BA</th>\n",
       "      <th>Python</th>\n",
       "      <th>Startup OR start-up</th>\n",
       "      <th>Scientist</th>\n",
       "      <th>years experience</th>\n",
       "      <th>salary over 90000</th>\n",
       "    </tr>\n",
       "  </thead>\n",
       "  <tbody>\n",
       "    <tr>\n",
       "      <th>0</th>\n",
       "      <td>jl_115b40def725eb2c</td>\n",
       "      <td>Biomedical data scientist</td>\n",
       "      <td>1</td>\n",
       "      <td>0</td>\n",
       "      <td>1</td>\n",
       "      <td>0</td>\n",
       "      <td>1</td>\n",
       "      <td>2</td>\n",
       "      <td>1</td>\n",
       "    </tr>\n",
       "    <tr>\n",
       "      <th>1</th>\n",
       "      <td>jl_2370348e80d8c420</td>\n",
       "      <td>Data scientist</td>\n",
       "      <td>1</td>\n",
       "      <td>0</td>\n",
       "      <td>1</td>\n",
       "      <td>0</td>\n",
       "      <td>1</td>\n",
       "      <td>3</td>\n",
       "      <td>1</td>\n",
       "    </tr>\n",
       "    <tr>\n",
       "      <th>2</th>\n",
       "      <td>jl_1f1198f76898781f</td>\n",
       "      <td>Data scientist</td>\n",
       "      <td>1</td>\n",
       "      <td>0</td>\n",
       "      <td>1</td>\n",
       "      <td>0</td>\n",
       "      <td>1</td>\n",
       "      <td>0</td>\n",
       "      <td>1</td>\n",
       "    </tr>\n",
       "    <tr>\n",
       "      <th>3</th>\n",
       "      <td>jl_04a882314da504d4</td>\n",
       "      <td>Mass spectrometry data analyst, usa-boston</td>\n",
       "      <td>1</td>\n",
       "      <td>0</td>\n",
       "      <td>0</td>\n",
       "      <td>0</td>\n",
       "      <td>1</td>\n",
       "      <td>3</td>\n",
       "      <td>1</td>\n",
       "    </tr>\n",
       "    <tr>\n",
       "      <th>4</th>\n",
       "      <td>jl_65d62034685dd0ed</td>\n",
       "      <td>Data scientist</td>\n",
       "      <td>1</td>\n",
       "      <td>0</td>\n",
       "      <td>0</td>\n",
       "      <td>0</td>\n",
       "      <td>0</td>\n",
       "      <td>0</td>\n",
       "      <td>0</td>\n",
       "    </tr>\n",
       "  </tbody>\n",
       "</table>\n",
       "</div>"
      ],
      "text/plain": [
       "                    id                                   job title  \\\n",
       "0  jl_115b40def725eb2c                   Biomedical data scientist   \n",
       "1  jl_2370348e80d8c420                              Data scientist   \n",
       "2  jl_1f1198f76898781f                              Data scientist   \n",
       "3  jl_04a882314da504d4  Mass spectrometry data analyst, usa-boston   \n",
       "4  jl_65d62034685dd0ed                              Data scientist   \n",
       "\n",
       "   PhD OR ph.d  Bachelors OR BS OR BA  Python  Startup OR start-up  Scientist  \\\n",
       "0            1                      0       1                    0          1   \n",
       "1            1                      0       1                    0          1   \n",
       "2            1                      0       1                    0          1   \n",
       "3            1                      0       0                    0          1   \n",
       "4            1                      0       0                    0          0   \n",
       "\n",
       "   years experience  salary over 90000  \n",
       "0                 2                  1  \n",
       "1                 3                  1  \n",
       "2                 0                  1  \n",
       "3                 3                  1  \n",
       "4                 0                  0  "
      ]
     },
     "execution_count": 6,
     "metadata": {},
     "output_type": "execute_result"
    }
   ],
   "source": [
    "master_dataframe.head()"
   ]
  },
  {
   "cell_type": "markdown",
   "metadata": {},
   "source": [
    "### Modeling with statsmodel logistic regression"
   ]
  },
  {
   "cell_type": "code",
   "execution_count": 7,
   "metadata": {
    "collapsed": false
   },
   "outputs": [
    {
     "data": {
      "text/plain": [
       "Index(['PhD_OR_ph_d', 'Bachelors_OR_BS_OR_BA', 'Python', 'Startup_OR_start_up',\n",
       "       'Scientist', 'years_experience', 'salary_over_90000'],\n",
       "      dtype='object')"
      ]
     },
     "execution_count": 7,
     "metadata": {},
     "output_type": "execute_result"
    }
   ],
   "source": [
    "model_dataframe = master_dataframe.drop(labels = ['id', 'job title'], axis = 1)\n",
    "model_dataframe.columns = model_dataframe.columns.str.replace(' ', '_').str.replace('.', '_').str.replace('-', '_')\n",
    "model_dataframe.columns"
   ]
  },
  {
   "cell_type": "code",
   "execution_count": 8,
   "metadata": {
    "collapsed": false,
    "scrolled": true
   },
   "outputs": [
    {
     "name": "stdout",
     "output_type": "stream",
     "text": [
      "Optimization terminated successfully.\n",
      "         Current function value: 0.639109\n",
      "         Iterations 5\n"
     ]
    },
    {
     "data": {
      "text/html": [
       "<table class=\"simpletable\">\n",
       "<caption>Logit Regression Results</caption>\n",
       "<tr>\n",
       "  <th>Dep. Variable:</th> <td>salary_over_90000</td> <th>  No. Observations:  </th>  <td>  1907</td>  \n",
       "</tr>\n",
       "<tr>\n",
       "  <th>Model:</th>               <td>Logit</td>       <th>  Df Residuals:      </th>  <td>  1900</td>  \n",
       "</tr>\n",
       "<tr>\n",
       "  <th>Method:</th>               <td>MLE</td>        <th>  Df Model:          </th>  <td>     6</td>  \n",
       "</tr>\n",
       "<tr>\n",
       "  <th>Date:</th>          <td>Fri, 30 Dec 2016</td>  <th>  Pseudo R-squ.:     </th>  <td>0.07723</td> \n",
       "</tr>\n",
       "<tr>\n",
       "  <th>Time:</th>              <td>23:47:34</td>      <th>  Log-Likelihood:    </th> <td> -1218.8</td> \n",
       "</tr>\n",
       "<tr>\n",
       "  <th>converged:</th>           <td>True</td>        <th>  LL-Null:           </th> <td> -1320.8</td> \n",
       "</tr>\n",
       "<tr>\n",
       "  <th> </th>                      <td> </td>         <th>  LLR p-value:       </th> <td>2.646e-41</td>\n",
       "</tr>\n",
       "</table>\n",
       "<table class=\"simpletable\">\n",
       "<tr>\n",
       "            <td></td>               <th>coef</th>     <th>std err</th>      <th>z</th>      <th>P>|z|</th> <th>[95.0% Conf. Int.]</th> \n",
       "</tr>\n",
       "<tr>\n",
       "  <th>Intercept</th>             <td>   -0.6797</td> <td>    0.116</td> <td>   -5.868</td> <td> 0.000</td> <td>   -0.907    -0.453</td>\n",
       "</tr>\n",
       "<tr>\n",
       "  <th>PhD_OR_ph_d</th>           <td>    0.2936</td> <td>    0.107</td> <td>    2.746</td> <td> 0.006</td> <td>    0.084     0.503</td>\n",
       "</tr>\n",
       "<tr>\n",
       "  <th>Bachelors_OR_BS_OR_BA</th> <td>   -0.5913</td> <td>    0.111</td> <td>   -5.317</td> <td> 0.000</td> <td>   -0.809    -0.373</td>\n",
       "</tr>\n",
       "<tr>\n",
       "  <th>Python</th>                <td>    1.2878</td> <td>    0.132</td> <td>    9.731</td> <td> 0.000</td> <td>    1.028     1.547</td>\n",
       "</tr>\n",
       "<tr>\n",
       "  <th>Startup_OR_start_up</th>   <td>    0.3981</td> <td>    0.177</td> <td>    2.244</td> <td> 0.025</td> <td>    0.050     0.746</td>\n",
       "</tr>\n",
       "<tr>\n",
       "  <th>Scientist</th>             <td>    0.3324</td> <td>    0.134</td> <td>    2.484</td> <td> 0.013</td> <td>    0.070     0.595</td>\n",
       "</tr>\n",
       "<tr>\n",
       "  <th>years_experience</th>      <td>    0.0670</td> <td>    0.023</td> <td>    2.939</td> <td> 0.003</td> <td>    0.022     0.112</td>\n",
       "</tr>\n",
       "</table>"
      ],
      "text/plain": [
       "<class 'statsmodels.iolib.summary.Summary'>\n",
       "\"\"\"\n",
       "                           Logit Regression Results                           \n",
       "==============================================================================\n",
       "Dep. Variable:      salary_over_90000   No. Observations:                 1907\n",
       "Model:                          Logit   Df Residuals:                     1900\n",
       "Method:                           MLE   Df Model:                            6\n",
       "Date:                Fri, 30 Dec 2016   Pseudo R-squ.:                 0.07723\n",
       "Time:                        23:47:34   Log-Likelihood:                -1218.8\n",
       "converged:                       True   LL-Null:                       -1320.8\n",
       "                                        LLR p-value:                 2.646e-41\n",
       "=========================================================================================\n",
       "                            coef    std err          z      P>|z|      [95.0% Conf. Int.]\n",
       "-----------------------------------------------------------------------------------------\n",
       "Intercept                -0.6797      0.116     -5.868      0.000        -0.907    -0.453\n",
       "PhD_OR_ph_d               0.2936      0.107      2.746      0.006         0.084     0.503\n",
       "Bachelors_OR_BS_OR_BA    -0.5913      0.111     -5.317      0.000        -0.809    -0.373\n",
       "Python                    1.2878      0.132      9.731      0.000         1.028     1.547\n",
       "Startup_OR_start_up       0.3981      0.177      2.244      0.025         0.050     0.746\n",
       "Scientist                 0.3324      0.134      2.484      0.013         0.070     0.595\n",
       "years_experience          0.0670      0.023      2.939      0.003         0.022     0.112\n",
       "=========================================================================================\n",
       "\"\"\""
      ]
     },
     "execution_count": 8,
     "metadata": {},
     "output_type": "execute_result"
    }
   ],
   "source": [
    "model = sm.logit(\"{} ~ PhD_OR_ph_d + Bachelors_OR_BS_OR_BA + Python + Startup_OR_start_up + Scientist + years_experience\".format(model_dataframe.columns[-1]), data=model_dataframe).fit()\n",
    "model.summary()"
   ]
  },
  {
   "cell_type": "markdown",
   "metadata": {},
   "source": [
    "### Modeling with sklearn's logistic regression"
   ]
  },
  {
   "cell_type": "code",
   "execution_count": 9,
   "metadata": {
    "collapsed": false
   },
   "outputs": [
    {
     "ename": "AttributeError",
     "evalue": "module 'sklearn' has no attribute 'preprocessing'",
     "output_type": "error",
     "traceback": [
      "\u001b[0;31m---------------------------------------------------------------------------\u001b[0m",
      "\u001b[0;31mAttributeError\u001b[0m                            Traceback (most recent call last)",
      "\u001b[0;32m<ipython-input-9-2f512dc5cae0>\u001b[0m in \u001b[0;36m<module>\u001b[0;34m()\u001b[0m\n\u001b[1;32m      1\u001b[0m \u001b[0mmodeling_mask\u001b[0m \u001b[0;34m=\u001b[0m \u001b[0;34m(\u001b[0m\u001b[0mmaster_dataframe\u001b[0m\u001b[0;34m.\u001b[0m\u001b[0mcolumns\u001b[0m \u001b[0;34m!=\u001b[0m \u001b[0;34m'id'\u001b[0m\u001b[0;34m)\u001b[0m \u001b[0;34m&\u001b[0m \u001b[0;34m(\u001b[0m\u001b[0mmaster_dataframe\u001b[0m\u001b[0;34m.\u001b[0m\u001b[0mcolumns\u001b[0m \u001b[0;34m!=\u001b[0m \u001b[0;34m'job title'\u001b[0m\u001b[0;34m)\u001b[0m \u001b[0;34m&\u001b[0m \u001b[0;34m(\u001b[0m\u001b[0mmaster_dataframe\u001b[0m\u001b[0;34m.\u001b[0m\u001b[0mcolumns\u001b[0m \u001b[0;34m!=\u001b[0m \u001b[0;34m'salary over 90000'\u001b[0m\u001b[0;34m)\u001b[0m\u001b[0;34m\u001b[0m\u001b[0m\n\u001b[0;32m----> 2\u001b[0;31m \u001b[0mX\u001b[0m \u001b[0;34m=\u001b[0m \u001b[0msklearn\u001b[0m\u001b[0;34m.\u001b[0m\u001b[0mpreprocessing\u001b[0m\u001b[0;34m.\u001b[0m\u001b[0mminmax_scale\u001b[0m\u001b[0;34m(\u001b[0m\u001b[0mX\u001b[0m \u001b[0;34m=\u001b[0m \u001b[0mmaster_dataframe\u001b[0m\u001b[0;34m.\u001b[0m\u001b[0mix\u001b[0m\u001b[0;34m[\u001b[0m\u001b[0;34m:\u001b[0m\u001b[0;34m,\u001b[0m\u001b[0mmodeling_mask\u001b[0m\u001b[0;34m]\u001b[0m\u001b[0;34m,\u001b[0m \u001b[0mcopy\u001b[0m \u001b[0;34m=\u001b[0m \u001b[0;32mTrue\u001b[0m\u001b[0;34m)\u001b[0m\u001b[0;34m\u001b[0m\u001b[0m\n\u001b[0m\u001b[1;32m      3\u001b[0m \u001b[0my\u001b[0m \u001b[0;34m=\u001b[0m \u001b[0mmaster_dataframe\u001b[0m\u001b[0;34m[\u001b[0m\u001b[0;34m'salary over 90000'\u001b[0m\u001b[0;34m]\u001b[0m\u001b[0;34m\u001b[0m\u001b[0m\n\u001b[1;32m      4\u001b[0m \u001b[0mlogreg\u001b[0m \u001b[0;34m=\u001b[0m \u001b[0msklearn\u001b[0m\u001b[0;34m.\u001b[0m\u001b[0mlinear_model\u001b[0m\u001b[0;34m.\u001b[0m\u001b[0mLogisticRegressionCV\u001b[0m\u001b[0;34m(\u001b[0m\u001b[0mcv\u001b[0m \u001b[0;34m=\u001b[0m \u001b[0;36m6\u001b[0m\u001b[0;34m)\u001b[0m\u001b[0;34m\u001b[0m\u001b[0m\n\u001b[1;32m      5\u001b[0m \u001b[0mmodel\u001b[0m \u001b[0;34m=\u001b[0m \u001b[0mlogreg\u001b[0m\u001b[0;34m.\u001b[0m\u001b[0mfit\u001b[0m\u001b[0;34m(\u001b[0m\u001b[0mX\u001b[0m\u001b[0;34m,\u001b[0m \u001b[0my\u001b[0m\u001b[0;34m)\u001b[0m\u001b[0;34m\u001b[0m\u001b[0m\n",
      "\u001b[0;31mAttributeError\u001b[0m: module 'sklearn' has no attribute 'preprocessing'"
     ]
    }
   ],
   "source": [
    "modeling_mask = (master_dataframe.columns != 'id') & (master_dataframe.columns != 'job title') & (master_dataframe.columns != 'salary over 90000')\n",
    "X = sklearn.preprocessing.minmax_scale(X = master_dataframe.ix[:,modeling_mask], copy = True)\n",
    "y = master_dataframe['salary over 90000']\n",
    "logreg = sklearn.linear_model.LogisticRegressionCV(cv = 6)\n",
    "model = logreg.fit(X, y)\n",
    "predictions = model.predict(X)"
   ]
  },
  {
   "cell_type": "code",
   "execution_count": null,
   "metadata": {
    "collapsed": false
   },
   "outputs": [],
   "source": [
    "print(\"Average cross validation scores: {}\".format(sklearn.cross_validation.cross_val_score(logreg, X, y, scoring='roc_auc').mean()))\n",
    "print(\"Confusion matrix:\\n\", sklearn.metrics.confusion_matrix(y, predictions))\n",
    "print(\"Model accuracy (TP / TP + FP): {}\".format(sklearn.metrics.accuracy_score(y, predictions)))"
   ]
  },
  {
   "cell_type": "code",
   "execution_count": null,
   "metadata": {
    "collapsed": false
   },
   "outputs": [],
   "source": [
    "logreg_probabilites_dataframe = pd.DataFrame(logreg.predict_proba(X), columns = [\"Over threshold\", \"Under threshold\"])\n",
    "model_vs_data_dataframe = pd.concat(objs = [logreg_probabilites_dataframe, master_dataframe[['salary over 90000']]],axis=1)\n",
    "print(model_vs_data_dataframe.iloc[-10:])\n",
    "print(master_dataframe[-10:])"
   ]
  },
  {
   "cell_type": "markdown",
   "metadata": {},
   "source": [
    "It looks like the last 10 rows are not connected to the test features and might be throwing off the data. Let's see which data do not have any of our test features."
   ]
  },
  {
   "cell_type": "code",
   "execution_count": null,
   "metadata": {
    "collapsed": false
   },
   "outputs": [],
   "source": [
    "master_dataframe[master_dataframe.ix[:, 2:-2].sum(axis = 1) == 0]"
   ]
  },
  {
   "cell_type": "markdown",
   "metadata": {},
   "source": [
    "# Assignment\n",
    ">In this project, we will practice two major skills: collecting data by scraping a website and then building a binary predictor with Logistic Regression.\n",
    ">\n",
    "We are going to collect salary information on data science jobs in a variety of markets. Then using the location, title and summary of the job we will attempt to predict the salary of the job. For job posting sites, this would be extraordinarily useful. While most listings DO NOT come with salary information (as you will see in this exercise), being to able extrapolate or predict the expected salaries from other listings can help guide negotiations.\n",
    ">\n",
    "Normally, we could use regression for this task; however, we will convert this problem into classification and use Logistic Regression.\n",
    ">\n",
    "- Question: Why would we want this to be a classification problem?\n",
    "- Answer: While more precision may be better, there is a fair amount of natural variance in job salaries - predicting a range be may be useful.\n",
    ">\n",
    "Therefore, the first part of the assignment will be focused on scraping Indeed.com. In the second, we'll focus on using listings with salary information to build a model and predict additional salaries."
   ]
  },
  {
   "cell_type": "markdown",
   "metadata": {},
   "source": [
    "## Scraping job listings from Indeed.com"
   ]
  },
  {
   "cell_type": "markdown",
   "metadata": {},
   "source": [
    "Since each company has different data science needs, we expected each job posting's requirements to vary by a large range. We therefore decided to focus our analysis on a few key pieces of information in each job posting, specifically:\n",
    "\n",
    "* If the job required a PhD or a bachelor's degree\n",
    "* If the job asked for experience with Python\n",
    "* If the company was likely to be a start-up\n",
    "* If the job specifically used \"scientist\", as a proxy for expectations of technical knowledge\n",
    "\n",
    "We also wanted to categorize each job according to whether its salary exceeded $90,000. This value represented the mean salary for the total search results.\n",
    "\n",
    "By a rough estimation, only a fraction of jobs posts explicitly included more that one of these features. Rather than follow the hyperlink for each post and scanning each page, which would likely have formatting particular to each company, we reasoned that we could leverage Indeed.com's search to obtain information we could not readily access.\n",
    "\n",
    "Each job post on Indeed.com has a unique ID. Therefore could we employ a strategy where we changed the search query and kept track of which jobs were among the results. For example, the following are the first few jobs that required a PhD and mentioned 3 years of experience:"
   ]
  },
  {
   "cell_type": "code",
   "execution_count": null,
   "metadata": {
    "collapsed": false
   },
   "outputs": [],
   "source": [
    "master_dataframe[(master_dataframe['PhD OR ph.d'] == 1) & (master_dataframe['years experience'] == 3)][['job title', 'PhD OR ph.d', 'years experience']].head()"
   ]
  },
  {
   "cell_type": "markdown",
   "metadata": {},
   "source": [
    "When capturing the data, we noticed approximately 20% had duplicated IDs. We determined these were reposted jobs, and therefore reasonably removed these data points."
   ]
  },
  {
   "cell_type": "markdown",
   "metadata": {},
   "source": [
    "Initial modeling had poor accuracy (approximately 61 %). This led to the suspicion that the analysis was missing significant features. However after inspecting the data, we found Indeed.com's search provided a significant number of results that contained keywords like \"data\" and \"science\" that were not related to data science (see the sample below). These data points were removed to avoid potentially skewing the results."
   ]
  },
  {
   "cell_type": "code",
   "execution_count": null,
   "metadata": {
    "collapsed": true
   },
   "outputs": [],
   "source": [
    "# SHOW EXAMPLES OF NON-DATA SCIENCE JOBS"
   ]
  },
  {
   "cell_type": "markdown",
   "metadata": {},
   "source": [
    "# Results and Analysis"
   ]
  },
  {
   "cell_type": "markdown",
   "metadata": {},
   "source": [
    "Since we examined live webpages, our results may not be current. Our analysis found data for 1891 jobs. From the data, we can see that "
   ]
  },
  {
   "cell_type": "code",
   "execution_count": null,
   "metadata": {
    "collapsed": false
   },
   "outputs": [],
   "source": [
    "print(\"{} jobs analyzed.\\n\".format(master_dataframe.shape[0]))\n",
    "print(\"Keywords\\tFrequency\\n\", master_dataframe.describe().loc['mean'])"
   ]
  }
 ],
 "metadata": {
  "anaconda-cloud": {},
  "kernelspec": {
   "display_name": "Python [Root]",
   "language": "python",
   "name": "Python [Root]"
  },
  "language_info": {
   "codemirror_mode": {
    "name": "ipython",
    "version": 3
   },
   "file_extension": ".py",
   "mimetype": "text/x-python",
   "name": "python",
   "nbconvert_exporter": "python",
   "pygments_lexer": "ipython3",
   "version": "3.5.2"
  }
 },
 "nbformat": 4,
 "nbformat_minor": 0
}
