{
 "cells": [
  {
   "cell_type": "markdown",
   "metadata": {},
   "source": [
    "# Getting started\n",
    "\n",
    "Once you've chosen your scenario, download the data from [the Iowa website](https://data.iowa.gov/Economy/Iowa-Liquor-Sales/m3tr-qhgy) in csv format. Start by loading the data with pandas. You may need to parse the date columns appropriately."
   ]
  },
  {
   "cell_type": "markdown",
   "metadata": {},
   "source": [
    ">This dataset contains the spirits purchase information of Iowa Class “E” liquor licensees by product and date of purchase from January 1, 2012 to current. The dataset can be used to analyze total spirits sales in Iowa of individual products at the store level.\n",
    ">\n",
    ">Class E liquor license, for grocery stores, liquor stores, convenience stores, etc., allows commercial establishments to sell liquor for off-premises consumption in original unopened containers.\n",
    "\n",
    "> ## Scenario 2: Market research for new store locations\n",
    "\n",
    ">A liquor store owner in Iowa is looking to expand to new locations and has hired you to investigate the market data for potential new locations. The business owner is interested in the details of the best model you can fit to the data so that his team can evaluate potential locations for a new storefront.\n",
    "\n",
    ">Goal for Scenario #2: Your task is to:\n",
    ">\n",
    ">* Build models of total sales based on location, price per bottle, total bottles sold. You may find it useful to build models for each county, zip code, or city.\n",
    ">* Provide a table of the best performing stores by location type of your choice (city, county, or zip code) and the predictions of your model(s).\n",
    ">* Based on your models and the table of data, recommend some general locations to the business owner, taking into account model performance. Validate your model's performance and ability to predict future sales using cross-validation.\n",
    ">* Bonus: Recommend targets for volume sold and price per bottle!"
   ]
  },
  {
   "cell_type": "code",
   "execution_count": 1,
   "metadata": {
    "collapsed": true
   },
   "outputs": [],
   "source": [
    "import pandas as pd\n",
    "import numpy as np\n",
    "from sklearn import linear_model, preprocessing, metrics\n",
    "import seaborn as sns\n",
    "import matplotlib.pyplot as plt\n",
    "\n",
    "%matplotlib inline"
   ]
  },
  {
   "cell_type": "code",
   "execution_count": 2,
   "metadata": {
    "collapsed": false
   },
   "outputs": [],
   "source": [
    "## Load the data into a DataFrame\n",
    "filepath = \"/Users/Nathan/Desktop/Iowa_Liquor_Sales_reduced.csv\"\n",
    "raw_data = pd.read_csv(filepath, low_memory = False)"
   ]
  },
  {
   "cell_type": "code",
   "execution_count": 3,
   "metadata": {
    "collapsed": false
   },
   "outputs": [],
   "source": [
    "# Copy the data to maintain an original version\n",
    "data = raw_data"
   ]
  },
  {
   "cell_type": "code",
   "execution_count": 4,
   "metadata": {
    "collapsed": false
   },
   "outputs": [
    {
     "name": "stdout",
     "output_type": "stream",
     "text": [
      "<class 'pandas.core.frame.DataFrame'>\n",
      "RangeIndex: 2709552 entries, 0 to 2709551\n",
      "Data columns (total 18 columns):\n",
      "Date                     object\n",
      "Store Number             int64\n",
      "City                     object\n",
      "Zip Code                 object\n",
      "County Number            float64\n",
      "County                   object\n",
      "Category                 float64\n",
      "Category Name            object\n",
      "Vendor Number            int64\n",
      "Item Number              int64\n",
      "Item Description         object\n",
      "Bottle Volume (ml)       int64\n",
      "State Bottle Cost        object\n",
      "State Bottle Retail      object\n",
      "Bottles Sold             int64\n",
      "Sale (Dollars)           object\n",
      "Volume Sold (Liters)     float64\n",
      "Volume Sold (Gallons)    float64\n",
      "dtypes: float64(4), int64(5), object(9)\n",
      "memory usage: 372.1+ MB\n"
     ]
    }
   ],
   "source": [
    "data.info()"
   ]
  },
  {
   "cell_type": "code",
   "execution_count": 5,
   "metadata": {
    "collapsed": false
   },
   "outputs": [],
   "source": [
    "# Make a reduced version of the cleaned data, for faster analysis\n",
    "#data = data.ix[list(data[['Store Number']].sample(frac = 0.1).index)]"
   ]
  },
  {
   "cell_type": "markdown",
   "metadata": {},
   "source": [
    "# Cleaning and Converting"
   ]
  },
  {
   "cell_type": "markdown",
   "metadata": {},
   "source": [
    "### Dropping Data"
   ]
  },
  {
   "cell_type": "code",
   "execution_count": 6,
   "metadata": {
    "collapsed": false
   },
   "outputs": [],
   "source": [
    "# Remove redundant columns\n",
    "del data[\"Category Name\"]\n",
    "del data[\"Item Description\"]\n",
    "del data[\"County\"]\n",
    "del data[\"Volume Sold (Gallons)\"]\n",
    "\n",
    "# Drop bad values\n",
    "data = data.dropna()"
   ]
  },
  {
   "cell_type": "markdown",
   "metadata": {},
   "source": [
    "### Making a reduced dataset"
   ]
  },
  {
   "cell_type": "markdown",
   "metadata": {},
   "source": [
    "### Converting Data"
   ]
  },
  {
   "cell_type": "code",
   "execution_count": 7,
   "metadata": {
    "collapsed": false
   },
   "outputs": [
    {
     "name": "stderr",
     "output_type": "stream",
     "text": [
      "//anaconda/lib/python3.5/site-packages/pandas/core/indexing.py:465: SettingWithCopyWarning: \n",
      "A value is trying to be set on a copy of a slice from a DataFrame.\n",
      "Try using .loc[row_indexer,col_indexer] = value instead\n",
      "\n",
      "See the caveats in the documentation: http://pandas.pydata.org/pandas-docs/stable/indexing.html#indexing-view-versus-copy\n",
      "  self.obj[item] = s\n"
     ]
    }
   ],
   "source": [
    "## Transform the dates if needed\n",
    "data.loc[:,\"Date\"] = pd.to_datetime(data[\"Date\"], format = \"%m/%d/%Y\")\n",
    "\n",
    "# Remove $ from certain columns\n",
    "cols = [\"State Bottle Cost\", \"State Bottle Retail\", \"Sale (Dollars)\"]\n",
    "for col in cols:\n",
    "    data.loc[:,col] = data[col].apply(lambda x: float(x[1:]))"
   ]
  },
  {
   "cell_type": "code",
   "execution_count": 8,
   "metadata": {
    "collapsed": false
   },
   "outputs": [
    {
     "name": "stderr",
     "output_type": "stream",
     "text": [
      "//anaconda/lib/python3.5/site-packages/pandas/core/indexing.py:465: SettingWithCopyWarning: \n",
      "A value is trying to be set on a copy of a slice from a DataFrame.\n",
      "Try using .loc[row_indexer,col_indexer] = value instead\n",
      "\n",
      "See the caveats in the documentation: http://pandas.pydata.org/pandas-docs/stable/indexing.html#indexing-view-versus-copy\n",
      "  self.obj[item] = s\n"
     ]
    }
   ],
   "source": [
    "# Converting categorical data\n",
    "data.loc[:,'City'] = data['City'].astype('category')\n",
    "data.loc[:,\"County Number\"] = data[\"County Number\"].astype(int)\n",
    "data.loc[:,\"Category\"] = data[\"Category\"].astype(int)"
   ]
  },
  {
   "cell_type": "code",
   "execution_count": 9,
   "metadata": {
    "collapsed": false
   },
   "outputs": [],
   "source": [
    "# Determine which stores were open all of 2015\n",
    "# Find the first and last sales date.\n",
    "dates = data.groupby(by=[\"Store Number\"], as_index=False)\n",
    "dates = dates.agg({\"Date\": [np.min, np.max]})\n",
    "dates.columns = [' '.join(col).strip() for col in dates.columns.values]\n",
    "\n",
    "# Filter out stores that opened or closed throughout the year\n",
    "# You may want to save this step until you start modelling\n",
    "lower_cutoff = pd.Timestamp(\"20150301\")\n",
    "upper_cutoff = pd.Timestamp(\"20151001\")\n",
    "mask = (dates['Date amin'] < lower_cutoff) & (dates['Date amax'] > upper_cutoff)\n",
    "good_stores = dates[mask][\"Store Number\"]\n",
    "data_for_open_stores = data[data[\"Store Number\"].isin(good_stores)]"
   ]
  },
  {
   "cell_type": "markdown",
   "metadata": {},
   "source": [
    "### Grouping by store number and deleting unnecessary rows"
   ]
  },
  {
   "cell_type": "code",
   "execution_count": 10,
   "metadata": {
    "collapsed": false
   },
   "outputs": [],
   "source": [
    "# Group data by store number\n",
    "data_grouped_by_store = data.groupby(by = 'Store Number').sum()\n",
    "\n",
    "del data['Vendor Number']\n",
    "del data['Item Number']\n",
    "del data['Bottle Volume (ml)']"
   ]
  },
  {
   "cell_type": "markdown",
   "metadata": {},
   "source": [
    "### Calculating Q1 Sales data for 2015 and 2016"
   ]
  },
  {
   "cell_type": "code",
   "execution_count": 49,
   "metadata": {
    "collapsed": false
   },
   "outputs": [
    {
     "name": "stderr",
     "output_type": "stream",
     "text": [
      "//anaconda/lib/python3.5/site-packages/ipykernel/__main__.py:1: SettingWithCopyWarning: \n",
      "A value is trying to be set on a copy of a slice from a DataFrame.\n",
      "Try using .loc[row_indexer,col_indexer] = value instead\n",
      "\n",
      "See the caveats in the documentation: http://pandas.pydata.org/pandas-docs/stable/indexing.html#indexing-view-versus-copy\n",
      "  if __name__ == '__main__':\n",
      "//anaconda/lib/python3.5/site-packages/ipykernel/__main__.py:2: SettingWithCopyWarning: \n",
      "A value is trying to be set on a copy of a slice from a DataFrame.\n",
      "Try using .loc[row_indexer,col_indexer] = value instead\n",
      "\n",
      "See the caveats in the documentation: http://pandas.pydata.org/pandas-docs/stable/indexing.html#indexing-view-versus-copy\n",
      "  from ipykernel import kernelapp as app\n"
     ]
    }
   ],
   "source": [
    "data[\"Sales Q1 2015\"] = data[(data['Date'].dt.year == 2015) & (data['Date'].dt.month < 4)]['Sale (Dollars)']\n",
    "data[\"Sales Q1 2016\"] = data[(data['Date'].dt.year == 2016) & (data['Date'].dt.month < 4)]['Sale (Dollars)']"
   ]
  },
  {
   "cell_type": "markdown",
   "metadata": {},
   "source": [
    "# Explore the data\n",
    "\n",
    "Perform some exploratory statistical analysis and make some plots, such as histograms of transaction totals, bottles sold, etc."
   ]
  },
  {
   "cell_type": "code",
   "execution_count": 12,
   "metadata": {
    "collapsed": false,
    "scrolled": true
   },
   "outputs": [
    {
     "name": "stderr",
     "output_type": "stream",
     "text": [
      "//anaconda/lib/python3.5/site-packages/statsmodels/nonparametric/kdetools.py:20: VisibleDeprecationWarning: using a non-integer number instead of an integer will result in an error in the future\n",
      "  y = X[:m/2+1] + np.r_[0,X[m/2+1:],0]*1j\n"
     ]
    },
    {
     "data": {
      "image/png": "[encoded data removed]",
      "text/plain": [
       "<matplotlib.figure.Figure at 0x117c71588>"
      ]
     },
     "metadata": {},
     "output_type": "display_data"
    },
    {
     "data": {
      "image/png": "[encoded data removed]",
      "text/plain": [
       "<matplotlib.figure.Figure at 0x117c8f198>"
      ]
     },
     "metadata": {},
     "output_type": "display_data"
    }
   ],
   "source": [
    "sns.distplot(a = data_grouped_by_store['Sale (Dollars)'])\n",
    "plt.xlim(xmin = 0)\n",
    "plt.show()\n",
    "\n",
    "sns.distplot(a = data_for_open_stores.groupby(by = 'Store Number').sum()['Sale (Dollars)'])\n",
    "plt.xlim(xmin = 0)\n",
    "plt.show()"
   ]
  },
  {
   "cell_type": "markdown",
   "metadata": {},
   "source": [
    "Why do so many stores have small sale numbers? Do they sell other items too, and therefore do not specialize in liquor?"
   ]
  },
  {
   "cell_type": "code",
   "execution_count": 13,
   "metadata": {
    "collapsed": false,
    "scrolled": true
   },
   "outputs": [
    {
     "data": {
      "text/html": [
       "<div>\n",
       "<table border=\"1\" class=\"dataframe\">\n",
       "  <thead>\n",
       "    <tr style=\"text-align: right;\">\n",
       "      <th></th>\n",
       "      <th>County Number</th>\n",
       "      <th>Category</th>\n",
       "      <th>Vendor Number</th>\n",
       "      <th>Item Number</th>\n",
       "      <th>Bottle Volume (ml)</th>\n",
       "      <th>State Bottle Cost</th>\n",
       "      <th>State Bottle Retail</th>\n",
       "      <th>Bottles Sold</th>\n",
       "      <th>Sale (Dollars)</th>\n",
       "      <th>Volume Sold (Liters)</th>\n",
       "    </tr>\n",
       "    <tr>\n",
       "      <th>Store Number</th>\n",
       "      <th></th>\n",
       "      <th></th>\n",
       "      <th></th>\n",
       "      <th></th>\n",
       "      <th></th>\n",
       "      <th></th>\n",
       "      <th></th>\n",
       "      <th></th>\n",
       "      <th></th>\n",
       "      <th></th>\n",
       "    </tr>\n",
       "  </thead>\n",
       "  <tbody>\n",
       "    <tr>\n",
       "      <th>2633</th>\n",
       "      <td>1873872</td>\n",
       "      <td>25437462418</td>\n",
       "      <td>6271363</td>\n",
       "      <td>1492149440</td>\n",
       "      <td>22321350</td>\n",
       "      <td>297552.90</td>\n",
       "      <td>446632.44</td>\n",
       "      <td>744424</td>\n",
       "      <td>1.228265e+07</td>\n",
       "      <td>728464.86</td>\n",
       "    </tr>\n",
       "    <tr>\n",
       "      <th>4829</th>\n",
       "      <td>1759527</td>\n",
       "      <td>23867073523</td>\n",
       "      <td>5903128</td>\n",
       "      <td>1219043766</td>\n",
       "      <td>20830750</td>\n",
       "      <td>287765.54</td>\n",
       "      <td>431859.12</td>\n",
       "      <td>657032</td>\n",
       "      <td>1.108553e+07</td>\n",
       "      <td>634310.65</td>\n",
       "    </tr>\n",
       "    <tr>\n",
       "      <th>2512</th>\n",
       "      <td>933868</td>\n",
       "      <td>18741897194</td>\n",
       "      <td>4585412</td>\n",
       "      <td>988557914</td>\n",
       "      <td>16651900</td>\n",
       "      <td>201240.24</td>\n",
       "      <td>302111.72</td>\n",
       "      <td>356870</td>\n",
       "      <td>5.206166e+06</td>\n",
       "      <td>337589.99</td>\n",
       "    </tr>\n",
       "    <tr>\n",
       "      <th>3385</th>\n",
       "      <td>349695</td>\n",
       "      <td>6412183241</td>\n",
       "      <td>1573520</td>\n",
       "      <td>297869541</td>\n",
       "      <td>6521300</td>\n",
       "      <td>73548.16</td>\n",
       "      <td>110409.35</td>\n",
       "      <td>296426</td>\n",
       "      <td>4.759188e+06</td>\n",
       "      <td>330490.20</td>\n",
       "    </tr>\n",
       "    <tr>\n",
       "      <th>3420</th>\n",
       "      <td>297836</td>\n",
       "      <td>4036274646</td>\n",
       "      <td>1007084</td>\n",
       "      <td>173317729</td>\n",
       "      <td>4268800</td>\n",
       "      <td>48950.96</td>\n",
       "      <td>73476.88</td>\n",
       "      <td>226532</td>\n",
       "      <td>4.018415e+06</td>\n",
       "      <td>279281.50</td>\n",
       "    </tr>\n",
       "  </tbody>\n",
       "</table>\n",
       "</div>"
      ],
      "text/plain": [
       "              County Number     Category  Vendor Number  Item Number  \\\n",
       "Store Number                                                           \n",
       "2633                1873872  25437462418        6271363   1492149440   \n",
       "4829                1759527  23867073523        5903128   1219043766   \n",
       "2512                 933868  18741897194        4585412    988557914   \n",
       "3385                 349695   6412183241        1573520    297869541   \n",
       "3420                 297836   4036274646        1007084    173317729   \n",
       "\n",
       "              Bottle Volume (ml)  State Bottle Cost  State Bottle Retail  \\\n",
       "Store Number                                                               \n",
       "2633                    22321350          297552.90            446632.44   \n",
       "4829                    20830750          287765.54            431859.12   \n",
       "2512                    16651900          201240.24            302111.72   \n",
       "3385                     6521300           73548.16            110409.35   \n",
       "3420                     4268800           48950.96             73476.88   \n",
       "\n",
       "              Bottles Sold  Sale (Dollars)  Volume Sold (Liters)  \n",
       "Store Number                                                      \n",
       "2633                744424    1.228265e+07             728464.86  \n",
       "4829                657032    1.108553e+07             634310.65  \n",
       "2512                356870    5.206166e+06             337589.99  \n",
       "3385                296426    4.759188e+06             330490.20  \n",
       "3420                226532    4.018415e+06             279281.50  "
      ]
     },
     "execution_count": 13,
     "metadata": {},
     "output_type": "execute_result"
    }
   ],
   "source": [
    "# Top purchasers\n",
    "data_grouped_by_store.sort_values(by = \"Sale (Dollars)\", ascending=False)[:5]"
   ]
  },
  {
   "cell_type": "code",
   "execution_count": 14,
   "metadata": {
    "collapsed": false
   },
   "outputs": [
    {
     "data": {
      "text/html": [
       "<div>\n",
       "<table border=\"1\" class=\"dataframe\">\n",
       "  <thead>\n",
       "    <tr style=\"text-align: right;\">\n",
       "      <th></th>\n",
       "      <th>County Number</th>\n",
       "      <th>Category</th>\n",
       "      <th>Vendor Number</th>\n",
       "      <th>Item Number</th>\n",
       "      <th>Bottle Volume (ml)</th>\n",
       "      <th>State Bottle Cost</th>\n",
       "      <th>State Bottle Retail</th>\n",
       "      <th>Bottles Sold</th>\n",
       "      <th>Sale (Dollars)</th>\n",
       "      <th>Volume Sold (Liters)</th>\n",
       "    </tr>\n",
       "    <tr>\n",
       "      <th>Store Number</th>\n",
       "      <th></th>\n",
       "      <th></th>\n",
       "      <th></th>\n",
       "      <th></th>\n",
       "      <th></th>\n",
       "      <th></th>\n",
       "      <th></th>\n",
       "      <th></th>\n",
       "      <th></th>\n",
       "      <th></th>\n",
       "    </tr>\n",
       "  </thead>\n",
       "  <tbody>\n",
       "    <tr>\n",
       "      <th>4567</th>\n",
       "      <td>1386</td>\n",
       "      <td>18640240</td>\n",
       "      <td>4498</td>\n",
       "      <td>616820</td>\n",
       "      <td>14175</td>\n",
       "      <td>139.82</td>\n",
       "      <td>210.29</td>\n",
       "      <td>118</td>\n",
       "      <td>827.13</td>\n",
       "      <td>75.24</td>\n",
       "    </tr>\n",
       "    <tr>\n",
       "      <th>5056</th>\n",
       "      <td>4680</td>\n",
       "      <td>62362640</td>\n",
       "      <td>13470</td>\n",
       "      <td>2622398</td>\n",
       "      <td>21250</td>\n",
       "      <td>307.93</td>\n",
       "      <td>462.04</td>\n",
       "      <td>158</td>\n",
       "      <td>973.58</td>\n",
       "      <td>48.83</td>\n",
       "    </tr>\n",
       "    <tr>\n",
       "      <th>4939</th>\n",
       "      <td>3311</td>\n",
       "      <td>44686480</td>\n",
       "      <td>10977</td>\n",
       "      <td>1661255</td>\n",
       "      <td>32150</td>\n",
       "      <td>398.89</td>\n",
       "      <td>598.43</td>\n",
       "      <td>110</td>\n",
       "      <td>1120.70</td>\n",
       "      <td>70.80</td>\n",
       "    </tr>\n",
       "    <tr>\n",
       "      <th>4486</th>\n",
       "      <td>450</td>\n",
       "      <td>15667480</td>\n",
       "      <td>3738</td>\n",
       "      <td>662875</td>\n",
       "      <td>10625</td>\n",
       "      <td>121.77</td>\n",
       "      <td>182.70</td>\n",
       "      <td>103</td>\n",
       "      <td>1232.38</td>\n",
       "      <td>98.23</td>\n",
       "    </tr>\n",
       "    <tr>\n",
       "      <th>4059</th>\n",
       "      <td>360</td>\n",
       "      <td>62338110</td>\n",
       "      <td>16611</td>\n",
       "      <td>2516767</td>\n",
       "      <td>58875</td>\n",
       "      <td>438.14</td>\n",
       "      <td>657.79</td>\n",
       "      <td>164</td>\n",
       "      <td>1813.33</td>\n",
       "      <td>177.11</td>\n",
       "    </tr>\n",
       "  </tbody>\n",
       "</table>\n",
       "</div>"
      ],
      "text/plain": [
       "              County Number  Category  Vendor Number  Item Number  \\\n",
       "Store Number                                                        \n",
       "4567                   1386  18640240           4498       616820   \n",
       "5056                   4680  62362640          13470      2622398   \n",
       "4939                   3311  44686480          10977      1661255   \n",
       "4486                    450  15667480           3738       662875   \n",
       "4059                    360  62338110          16611      2516767   \n",
       "\n",
       "              Bottle Volume (ml)  State Bottle Cost  State Bottle Retail  \\\n",
       "Store Number                                                               \n",
       "4567                       14175             139.82               210.29   \n",
       "5056                       21250             307.93               462.04   \n",
       "4939                       32150             398.89               598.43   \n",
       "4486                       10625             121.77               182.70   \n",
       "4059                       58875             438.14               657.79   \n",
       "\n",
       "              Bottles Sold  Sale (Dollars)  Volume Sold (Liters)  \n",
       "Store Number                                                      \n",
       "4567                   118          827.13                 75.24  \n",
       "5056                   158          973.58                 48.83  \n",
       "4939                   110         1120.70                 70.80  \n",
       "4486                   103         1232.38                 98.23  \n",
       "4059                   164         1813.33                177.11  "
      ]
     },
     "execution_count": 14,
     "metadata": {},
     "output_type": "execute_result"
    }
   ],
   "source": [
    "# Lowest purchasers\n",
    "data_grouped_by_store.sort_values(by = \"Sale (Dollars)\")[:5]"
   ]
  },
  {
   "cell_type": "markdown",
   "metadata": {},
   "source": [
    "Of the top-selling stores (from the unsampled list): \n",
    "* Store 2633 is Hyvee #3, a supermarket chain location. \n",
    "* Store 4829 is Central City 2, the second location for a chain of large liquor stores.\n",
    "\n",
    "From the bottom-selling stores (from the unsampled list):\n",
    "* Store 4486 is Kum & Go #608, a gas and convenience store.\n",
    "* Store 5152 is Texas Street Market, a convenience store.\n",
    "* Store 5056 is the Council Bluffs location of Sinclair, a gas station."
   ]
  },
  {
   "cell_type": "markdown",
   "metadata": {},
   "source": [
    "It seems I can sift out convenience stores by selecting stores that sell Scotch whisky, since they are less likely to sell and therefore more likely to be associated with dedicated liquor stores."
   ]
  },
  {
   "cell_type": "code",
   "execution_count": 51,
   "metadata": {
    "collapsed": false
   },
   "outputs": [
    {
     "name": "stderr",
     "output_type": "stream",
     "text": [
      "//anaconda/lib/python3.5/site-packages/ipykernel/__main__.py:2: SettingWithCopyWarning: \n",
      "A value is trying to be set on a copy of a slice from a DataFrame\n",
      "\n",
      "See the caveats in the documentation: http://pandas.pydata.org/pandas-docs/stable/indexing.html#indexing-view-versus-copy\n",
      "  from ipykernel import kernelapp as app\n"
     ]
    }
   ],
   "source": [
    "# Dropping Store 2633\n",
    "data.drop(labels = data[data['Store Number'] == 2633].index, inplace = True)\n",
    "\n",
    "# Adding the Scotch Filter\n",
    "#mask = (data['Category'] == 1012200)\n",
    "scotch_sellers = (data[data['Category'] == 1012200]['Store Number'])\n",
    "filtered_data = data[data['Store Number'].isin(scotch_sellers)]"
   ]
  },
  {
   "cell_type": "code",
   "execution_count": 59,
   "metadata": {
    "collapsed": false
   },
   "outputs": [
    {
     "name": "stdout",
     "output_type": "stream",
     "text": [
      "1379\n",
      "-0.33108108108108114\n"
     ]
    }
   ],
   "source": [
    "print(len(data['Store Number'].unique()))\n",
    "print(1 - len(data['Store Number'].unique()) / len(filtered_data['Store Number'].unique()))"
   ]
  },
  {
   "cell_type": "code",
   "execution_count": 16,
   "metadata": {
    "collapsed": false
   },
   "outputs": [
    {
     "data": {
      "image/png": "[encoded data removed]",
      "text/plain": [
       "<matplotlib.figure.Figure at 0x11b0301d0>"
      ]
     },
     "metadata": {},
     "output_type": "display_data"
    },
    {
     "data": {
      "image/png": "[encoded data removed]",
      "text/plain": [
       "<matplotlib.figure.Figure at 0x118033ef0>"
      ]
     },
     "metadata": {},
     "output_type": "display_data"
    }
   ],
   "source": [
    "sns.plt.scatter(data = filtered_data, x = 'Volume Sold (Liters)', y = 'Sale (Dollars)')\n",
    "plt.xlabel('Volume Sold (Liters)')\n",
    "plt.ylabel('Sale (Dollars)')\n",
    "sns.plt.show()\n",
    "sns.plt.scatter(data = filtered_data.groupby(by = 'Store Number').sum(), x = 'Volume Sold (Liters)', y = 'Sale (Dollars)')\n",
    "plt.xlabel('Volume Sold (Liters)')\n",
    "plt.xlabel('Sale (Dollars)')\n",
    "sns.plt.show()"
   ]
  },
  {
   "cell_type": "code",
   "execution_count": 17,
   "metadata": {
    "collapsed": false,
    "scrolled": true
   },
   "outputs": [
    {
     "name": "stderr",
     "output_type": "stream",
     "text": [
      "//anaconda/lib/python3.5/site-packages/statsmodels/nonparametric/kdetools.py:20: VisibleDeprecationWarning: using a non-integer number instead of an integer will result in an error in the future\n",
      "  y = X[:m/2+1] + np.r_[0,X[m/2+1:],0]*1j\n"
     ]
    },
    {
     "data": {
      "image/png": "[encoded data removed]",
      "text/plain": [
       "<matplotlib.figure.Figure at 0x11b03eef0>"
      ]
     },
     "metadata": {},
     "output_type": "display_data"
    }
   ],
   "source": [
    "sns.distplot(a = data_grouped_by_store['Sale (Dollars)'] / data_grouped_by_store['Volume Sold (Liters)'])\n",
    "plt.xlabel(\"Dollar per liter\")\n",
    "sns.plt.show()"
   ]
  },
  {
   "cell_type": "markdown",
   "metadata": {},
   "source": [
    "## Record your findings\n",
    "\n",
    "Be sure to write out anything observations from your exploratory analysis."
   ]
  },
  {
   "cell_type": "markdown",
   "metadata": {},
   "source": [
    "None of the data appears to be normally distributed, except for the sales data grouped by store."
   ]
  },
  {
   "cell_type": "markdown",
   "metadata": {},
   "source": [
    "# Mine the data\n",
    "Now you are ready to compute the variables you will use for your regression from the data. For example, you may want to\n",
    "compute total sales per store from Jan to March of 2015, mean price per bottle, etc. Refer to the readme for more ideas appropriate to your scenario.\n",
    "\n",
    "Pandas is your friend for this task. Take a look at the operations [here](http://pandas.pydata.org/pandas-docs/stable/groupby.html) for ideas on how to make the best use of pandas and feel free to search for blog and Stack Overflow posts to help you group data by certain variables and compute sums, means, etc. You may find it useful to create a new data frame to house this summary data."
   ]
  },
  {
   "cell_type": "markdown",
   "metadata": {},
   "source": [
    "# Refine the data\n",
    "Look for any statistical relationships, correlations, or other relevant properties of the dataset."
   ]
  },
  {
   "cell_type": "markdown",
   "metadata": {},
   "source": [
    "# Build your models\n",
    "\n",
    "Using scikit-learn or statsmodels, build the necessary models for your scenario. Evaluate model fit."
   ]
  },
  {
   "cell_type": "code",
   "execution_count": 30,
   "metadata": {
    "collapsed": false
   },
   "outputs": [],
   "source": [
    "model_data = filtered_data[['City', 'Zip Code', 'Sales Q1 2015', 'State Bottle Retail', 'Bottles Sold', 'Sales Q1 2016']].groupby(by = 'City').sum()\n",
    "model_data.dropna(inplace = True)\n",
    "\n",
    "X = model_data.ix[:, model_data.columns != 'Sales Q1 2016']\n",
    "y = model_data['Sales Q1 2016']\n",
    "\n",
    "lm = linear_model.RidgeCV(normalize=True)\n",
    "model = lm.fit(X, y)\n",
    "predictions = model.predict(X)"
   ]
  },
  {
   "cell_type": "code",
   "execution_count": 44,
   "metadata": {
    "collapsed": false,
    "scrolled": true
   },
   "outputs": [
    {
     "data": {
      "image/png": "[encoded data removed]",
      "text/plain": [
       "<matplotlib.figure.Figure at 0x11b05e908>"
      ]
     },
     "metadata": {},
     "output_type": "display_data"
    },
    {
     "name": "stdout",
     "output_type": "stream",
     "text": [
      "R2: 0.9948061065481725\n",
      "MSE: 1737183221.4188766\n"
     ]
    }
   ],
   "source": [
    "sns.plt.scatter(x = y, y= predictions)\n",
    "sns.plt.show()\n",
    "print(\"R2: {}\\nMSE: {}\".format(metrics.r2_score(y, predictions), metrics.mean_squared_error(y, predictions)))"
   ]
  },
  {
   "cell_type": "code",
   "execution_count": 29,
   "metadata": {
    "collapsed": false
   },
   "outputs": [
    {
     "data": {
      "text/html": [
       "<div>\n",
       "<table border=\"1\" class=\"dataframe\">\n",
       "  <thead>\n",
       "    <tr style=\"text-align: right;\">\n",
       "      <th></th>\n",
       "      <th>Sale (Dollars)</th>\n",
       "    </tr>\n",
       "    <tr>\n",
       "      <th>City</th>\n",
       "      <th></th>\n",
       "    </tr>\n",
       "  </thead>\n",
       "  <tbody>\n",
       "    <tr>\n",
       "      <th>MOUNT VERNON</th>\n",
       "      <td>239.246261</td>\n",
       "    </tr>\n",
       "    <tr>\n",
       "      <th>WINDSOR HEIGHTS</th>\n",
       "      <td>228.065102</td>\n",
       "    </tr>\n",
       "    <tr>\n",
       "      <th>ORANGE CITY</th>\n",
       "      <td>212.730349</td>\n",
       "    </tr>\n",
       "    <tr>\n",
       "      <th>LAWLER</th>\n",
       "      <td>211.296421</td>\n",
       "    </tr>\n",
       "    <tr>\n",
       "      <th>MT VERNON</th>\n",
       "      <td>205.783873</td>\n",
       "    </tr>\n",
       "  </tbody>\n",
       "</table>\n",
       "</div>"
      ],
      "text/plain": [
       "                 Sale (Dollars)\n",
       "City                           \n",
       "MOUNT VERNON         239.246261\n",
       "WINDSOR HEIGHTS      228.065102\n",
       "ORANGE CITY          212.730349\n",
       "LAWLER               211.296421\n",
       "MT VERNON            205.783873"
      ]
     },
     "execution_count": 29,
     "metadata": {},
     "output_type": "execute_result"
    }
   ],
   "source": [
    "filtered_data[[\"City\", \"Sale (Dollars)\"]].groupby(by = \"City\").mean().sort_values(by = \"Sale (Dollars)\", ascending = False)[0:5]"
   ]
  },
  {
   "cell_type": "markdown",
   "metadata": {},
   "source": [
    "## Plot your results\n",
    "\n",
    "Again make sure that you record any valuable information. For example, in the tax scenario, did you find the sales from the first three months of the year to be a good predictor of the total sales for the year? Plot the predictions versus the true values and discuss the successes and limitations of your models"
   ]
  },
  {
   "cell_type": "code",
   "execution_count": 46,
   "metadata": {
    "collapsed": false
   },
   "outputs": [
    {
     "data": {
      "image/png": "[encoded data removed]",
      "text/plain": [
       "<matplotlib.figure.Figure at 0x1249731d0>"
      ]
     },
     "metadata": {},
     "output_type": "display_data"
    }
   ],
   "source": [
    "sns.plt.scatter(x = data[\"Sales Q1 2015\"].dropna(), y = data['Sales Q1 2016'].dropna(inplac))\n",
    "sns.plt.show()"
   ]
  },
  {
   "cell_type": "markdown",
   "metadata": {},
   "source": [
    "# Present the Results\n",
    "\n",
    "Present your conclusions and results. If you have more than one interesting model feel free to include more than one along with a discussion. Use your work in this notebook to prepare your write-up."
   ]
  },
  {
   "cell_type": "code",
   "execution_count": null,
   "metadata": {
    "collapsed": true
   },
   "outputs": [],
   "source": []
  }
 ],
 "metadata": {
  "anaconda-cloud": {},
  "kernelspec": {
   "display_name": "Python [Root]",
   "language": "python",
   "name": "Python [Root]"
  },
  "language_info": {
   "codemirror_mode": {
    "name": "ipython",
    "version": 3
   },
   "file_extension": ".py",
   "mimetype": "text/x-python",
   "name": "python",
   "nbconvert_exporter": "python",
   "pygments_lexer": "ipython3",
   "version": "3.5.2"
  }
 },
 "nbformat": 4,
 "nbformat_minor": 0
}
