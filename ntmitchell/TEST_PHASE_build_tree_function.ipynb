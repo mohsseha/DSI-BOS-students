{
 "cells": [
  {
   "cell_type": "code",
   "execution_count": 1,
   "metadata": {
    "collapsed": false
   },
   "outputs": [],
   "source": [
    "def build_tree(number_list):\n",
    "    \n",
    "    tree = {}\n",
    "    \n",
    "    sorted_list = sorted(number_list)\n",
    "    list_size = len(sorted_list)\n",
    "    \n",
    "#     Find the index of the median. For example, \n",
    "#     for [1,2,3], median = 2 and median_index = 1\n",
    "#     for [1,2,3,4], median = 2 and median_index = 1\n",
    "    if list_size % 2 == 1:\n",
    "        median_index = int(list_size / 2)\n",
    "    else:\n",
    "        median_index = int(list_size / 2) - 1\n",
    "    \n",
    "    median = sorted_list[median_index]\n",
    "    tree = {'node': median}\n",
    "    \n",
    "    # Build branches with recursion\n",
    "    if list_size > 2:\n",
    "        # Once there are 2 values remaining, \n",
    "        # make a right branch only since the left value becomes the median (the node), because of median_index\n",
    "        tree['left'] = build_tree(sorted_list[:median_index])\n",
    "    if list_size > 1:\n",
    "        # If there is more than 1 number in the list, make right branches\n",
    "        tree['right'] = build_tree(sorted_list[median_index + 1:])\n",
    "        \n",
    "    return tree\n"
   ]
  },
  {
   "cell_type": "markdown",
   "metadata": {},
   "source": [
    "# Testing "
   ]
  },
  {
   "cell_type": "code",
   "execution_count": 2,
   "metadata": {
    "collapsed": false
   },
   "outputs": [],
   "source": [
    "# Perform depth first search\n",
    "def find_item(tree, number = None, found = False):\n",
    "        \n",
    "    if \"left\" in tree.keys():\n",
    "        found = find_item(tree['left'], number, found)\n",
    "        \n",
    "    if \"right\" in tree.keys():\n",
    "        found = find_item(tree['right'], number, found)\n",
    "    \n",
    "    if \"node\" in tree.keys() and tree['node'] == number:\n",
    "        found = True\n",
    "    \n",
    "    return found\n",
    "\n",
    "def print_results(tree, number):\n",
    "    print(\"{} was {}found.\".format(number, (\"not \", \"\") [find_item(tree, number)]))"
   ]
  },
  {
   "cell_type": "code",
   "execution_count": 3,
   "metadata": {
    "collapsed": false
   },
   "outputs": [],
   "source": [
    "import random\n",
    "\n",
    "# Make a test list\n",
    "test_list = [random.randint(-1000, 1000) for _ in range(1000000)]"
   ]
  },
  {
   "cell_type": "code",
   "execution_count": 4,
   "metadata": {
    "collapsed": false
   },
   "outputs": [
    {
     "name": "stdout",
     "output_type": "stream",
     "text": [
      "101 should be in test_list.\n",
      "101 was found.\n"
     ]
    }
   ],
   "source": [
    "test_number = 101\n",
    "\n",
    "# Check to see if the number is in the list\n",
    "print(\"{} should {}be in test_list.\".format(test_number, ('not ','')[test_number in test_list]))\n",
    "\n",
    "# Testing using depth first search\n",
    "print_results(build_tree(test_list), test_number)"
   ]
  },
  {
   "cell_type": "code",
   "execution_count": null,
   "metadata": {
    "collapsed": true
   },
   "outputs": [],
   "source": []
  }
 ],
 "metadata": {
  "anaconda-cloud": {},
  "kernelspec": {
   "display_name": "Python [Root]",
   "language": "python",
   "name": "Python [Root]"
  },
  "language_info": {
   "codemirror_mode": {
    "name": "ipython",
    "version": 3
   },
   "file_extension": ".py",
   "mimetype": "text/x-python",
   "name": "python",
   "nbconvert_exporter": "python",
   "pygments_lexer": "ipython3",
   "version": "3.5.2"
  }
 },
 "nbformat": 4,
 "nbformat_minor": 0
}
