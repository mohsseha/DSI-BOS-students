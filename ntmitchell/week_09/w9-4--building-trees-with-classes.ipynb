{
 "cells": [
  {
   "cell_type": "code",
   "execution_count": 164,
   "metadata": {
    "collapsed": false
   },
   "outputs": [],
   "source": [
    "class Node:\n",
    "\n",
    "    # Fields\n",
    "    val = None\n",
    "    left = None\n",
    "    right = None\n",
    "    \n",
    "    def __init__(self, node_value = None):\n",
    "        self.val = node_value\n",
    "    \n",
    "    # Methods\n",
    "    def add(self, value):\n",
    "        if type(value) == int:\n",
    "            self.add_value(value)\n",
    "        \n",
    "        if type(value) == list:\n",
    "            for item in value:\n",
    "                self.add_value(item)\n",
    "        \n",
    "    def add_value(self, value):\n",
    "        \n",
    "        if value > self.val:\n",
    "            if self.right is None:\n",
    "                self.right = Node(value)\n",
    "            if self.right is not None:\n",
    "                self.right.add(value)\n",
    "                \n",
    "        if value < self.val:\n",
    "            if self.left is None:\n",
    "                self.left = Node(value)\n",
    "            if self.left is not None:\n",
    "                self.left.add(value)\n",
    "        "
   ]
  },
  {
   "cell_type": "code",
   "execution_count": 165,
   "metadata": {
    "collapsed": false
   },
   "outputs": [],
   "source": [
    "v = Node(4)\n",
    "v.left = Node(3)\n",
    "v.right = Node(5)\n",
    "\n",
    "v.add(6)\n",
    "\n",
    "v.add([1,2,7,3,3]) # if type is list, "
   ]
  },
  {
   "cell_type": "code",
   "execution_count": 186,
   "metadata": {
    "collapsed": false
   },
   "outputs": [
    {
     "name": "stdout",
     "output_type": "stream",
     "text": [
      "4 5 6 7\n"
     ]
    }
   ],
   "source": [
    "print(v.val, v.right.val, v.right.right.val, v.right.right.right.val)"
   ]
  },
  {
   "cell_type": "code",
   "execution_count": null,
   "metadata": {
    "collapsed": true
   },
   "outputs": [],
   "source": []
  },
  {
   "cell_type": "code",
   "execution_count": null,
   "metadata": {
    "collapsed": true
   },
   "outputs": [],
   "source": []
  }
 ],
 "metadata": {
  "anaconda-cloud": {},
  "kernelspec": {
   "display_name": "Python [default]",
   "language": "python",
   "name": "python3"
  },
  "language_info": {
   "codemirror_mode": {
    "name": "ipython",
    "version": 3
   },
   "file_extension": ".py",
   "mimetype": "text/x-python",
   "name": "python",
   "nbconvert_exporter": "python",
   "pygments_lexer": "ipython3",
   "version": "3.5.2"
  }
 },
 "nbformat": 4,
 "nbformat_minor": 2
}
