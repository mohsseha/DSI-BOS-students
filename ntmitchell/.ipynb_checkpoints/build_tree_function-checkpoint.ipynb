{
 "cells": [
  {
   "cell_type": "code",
   "execution_count": 18,
   "metadata": {
    "collapsed": true
   },
   "outputs": [],
   "source": [
    "import random\n",
    "import numpy as np"
   ]
  },
  {
   "cell_type": "code",
   "execution_count": 141,
   "metadata": {
    "collapsed": false
   },
   "outputs": [],
   "source": [
    "test_list = [-1,-2,-3,4, 10]"
   ]
  },
  {
   "cell_type": "code",
   "execution_count": 142,
   "metadata": {
    "collapsed": false
   },
   "outputs": [
    {
     "data": {
      "text/plain": [
       "[-1, -2, -3, 4, 10]"
      ]
     },
     "execution_count": 142,
     "metadata": {},
     "output_type": "execute_result"
    }
   ],
   "source": [
    "test_list"
   ]
  },
  {
   "cell_type": "code",
   "execution_count": 148,
   "metadata": {
    "collapsed": false
   },
   "outputs": [
    {
     "data": {
      "text/plain": [
       "{'left': {'left': {'node': -3}, 'node': -2},\n",
       " 'node': -1,\n",
       " 'right': {'node': 4, 'right': {'node': 10}}}"
      ]
     },
     "execution_count": 148,
     "metadata": {},
     "output_type": "execute_result"
    }
   ],
   "source": [
    "def build_tree(number_list):\n",
    "    sorted_list = np.sort(number_list)\n",
    "    \n",
    "    median_value_index = int(len(sorted_list) / 2)\n",
    "    median = sorted_list[median_value_index]\n",
    "    \n",
    "    dictionary = {}\n",
    "    \n",
    "    left_dictionary = {'node': sorted_list[0]}\n",
    "    for index in range(1, median_value_index + 1):\n",
    "        if index < median_value_index:\n",
    "            left_dictionary = {'node': sorted_list[index], 'left': left_dictionary}\n",
    "    \n",
    "    right_dictionary = {'node': sorted_list[len(sorted_list) - 1]}\n",
    "    for index in reversed(range(median_value_index + 1, len(sorted_list - 1))):\n",
    "        if index > median_value_index:\n",
    "            right_dictionary = {'node': sorted_list[index - 1], 'right': right_dictionary}\n",
    "    \n",
    "    dictionary = {'left': left_dictionary, 'node': right_dictionary['node'], 'right': right_dictionary['right']}\n",
    "    \n",
    "    return dictionary\n",
    "\n",
    "build_tree(test_list)"
   ]
  },
  {
   "cell_type": "code",
   "execution_count": null,
   "metadata": {
    "collapsed": true
   },
   "outputs": [],
   "source": []
  }
 ],
 "metadata": {
  "kernelspec": {
   "display_name": "Python [Root]",
   "language": "python",
   "name": "Python [Root]"
  },
  "language_info": {
   "codemirror_mode": {
    "name": "ipython",
    "version": 3
   },
   "file_extension": ".py",
   "mimetype": "text/x-python",
   "name": "python",
   "nbconvert_exporter": "python",
   "pygments_lexer": "ipython3",
   "version": "3.5.2"
  }
 },
 "nbformat": 4,
 "nbformat_minor": 0
}
