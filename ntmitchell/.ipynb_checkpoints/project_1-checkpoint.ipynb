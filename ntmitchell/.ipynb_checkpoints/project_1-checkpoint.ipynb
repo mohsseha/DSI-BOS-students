{
 "cells": [
  {
   "cell_type": "markdown",
   "metadata": {},
   "source": [
    "# Project 1\n",
    "\n",
    "## Step 1: Open the `sat_scores.csv` file. Investigate the data, and answer the questions below.\n"
   ]
  },
  {
   "cell_type": "code",
   "execution_count": 485,
   "metadata": {
    "collapsed": false
   },
   "outputs": [],
   "source": [
    "import csv\n",
    "import numpy as np\n",
    "import seaborn as sns\n",
    "import matplotlib.pyplot as plt\n",
    "plt.style.use('fivethirtyeight')\n",
    "\n",
    "%matplotlib inline"
   ]
  },
  {
   "cell_type": "markdown",
   "metadata": {},
   "source": [
    "##### 1. What does the data describe?"
   ]
  },
  {
   "cell_type": "markdown",
   "metadata": {},
   "source": [
    "The data shows each state's verbal and math SAT scores, as well as the participation rate."
   ]
  },
  {
   "cell_type": "markdown",
   "metadata": {},
   "source": [
    "##### 2. Does the data look complete? Are there any obvious issues with the observations?"
   ]
  },
  {
   "cell_type": "markdown",
   "metadata": {},
   "source": [
    "There do not appear to be any issues, although there is a row that shows the average participation rates and scores across all states. Each data contains the expected number of data points, and each numerical column can be successfully converted."
   ]
  },
  {
   "cell_type": "markdown",
   "metadata": {},
   "source": [
    "##### 3. Create a data dictionary for the dataset."
   ]
  },
  {
   "cell_type": "code",
   "execution_count": 486,
   "metadata": {
    "collapsed": false
   },
   "outputs": [
    {
     "name": "stdout",
     "output_type": "stream",
     "text": [
      "Rate ['82', '81', '79', '77', '72', '71', '71', '69', '69', '68', '67', '65', '65', '63', '60', '57', '56', '55', '54', '53', '53', '52', '51', '51', '34', '33', '31', '26', '23', '18', '17', '13', '13', '12', '12', '11', '11', '9', '9', '9', '8', '8', '8', '7', '6', '6', '5', '5', '4', '4', '4', '45'] \n",
      "\n",
      "Verbal ['509', '499', '511', '495', '520', '501', '500', '511', '506', '510', '501', '508', '493', '491', '499', '486', '482', '526', '498', '527', '493', '485', '514', '498', '523', '509', '539', '534', '539', '527', '543', '562', '551', '576', '550', '547', '561', '580', '577', '559', '562', '567', '577', '564', '584', '562', '575', '593', '577', '592', '566', '506'] \n",
      "\n",
      "Math ['510', '513', '515', '505', '516', '499', '499', '506', '500', '501', '499', '510', '499', '489', '501', '488', '474', '526', '499', '527', '499', '515', '510', '517', '525', '515', '542', '439', '539', '512', '542', '553', '542', '589', '550', '545', '572', '589', '580', '554', '568', '561', '577', '562', '596', '550', '570', '603', '582', '599', '551', '514'] \n",
      "\n",
      "State ['CT', 'NJ', 'MA', 'NY', 'NH', 'RI', 'PA', 'VT', 'ME', 'VA', 'DE', 'MD', 'NC', 'GA', 'IN', 'SC', 'DC', 'OR', 'FL', 'WA', 'TX', 'HI', 'AK', 'CA', 'AZ', 'NV', 'CO', 'OH', 'MT', 'WV', 'ID', 'TN', 'NM', 'IL', 'KY', 'WY', 'MI', 'MN', 'KS', 'AL', 'NE', 'OK', 'MO', 'LA', 'WI', 'AR', 'UT', 'IA', 'SD', 'ND', 'MS', 'All'] \n",
      "\n"
     ]
    }
   ],
   "source": [
    "# Import data from csv file as a list object\n",
    "data_from_csv = []\n",
    "file_path = \"/Users/Nathan/DSI-course-materials/curriculum/03-projects/01-projects-weekly/project-01/assets/sat_scores.csv\"\n",
    "with open(file_path, 'r') as f:\n",
    "    read_file = csv.reader(f)\n",
    "    for row in read_file:\n",
    "        data_from_csv.append(row)\n",
    "\n",
    "# Convert data to an array and transpose it, yielding rows with the form ['Data header', Data ...]\n",
    "data_from_csv_as_array = np.array(data_from_csv)\n",
    "data_from_csv_as_array = data_from_csv_as_array.T\n",
    "data_from_csv_as_rows = data_from_csv_as_array.tolist()\n",
    "\n",
    "# Create the data dictionary\n",
    "dictionary_of_data = {}\n",
    "for row in data_from_csv_as_rows:\n",
    "    dictionary_of_data[row[0]] = row[1:]\n",
    "\n",
    "# Print the dictionary\n",
    "for key in dictionary_of_data:\n",
    "    print(key, dictionary_of_data[key], '\\n')"
   ]
  },
  {
   "cell_type": "markdown",
   "metadata": {},
   "source": [
    "## Step 2: Load the data."
   ]
  },
  {
   "cell_type": "markdown",
   "metadata": {},
   "source": [
    "##### 4. Load the data into a list of lists"
   ]
  },
  {
   "cell_type": "code",
   "execution_count": 487,
   "metadata": {
    "collapsed": false
   },
   "outputs": [],
   "source": [
    "# Import data from csv file as a list object\n",
    "data_from_csv = []\n",
    "file_path = \"/Users/Nathan/DSI-course-materials/curriculum/03-projects/01-projects-weekly/project-01/assets/sat_scores.csv\"\n",
    "with open(file_path, 'r') as f:\n",
    "    read_file = csv.reader(f)\n",
    "    for row in read_file:\n",
    "        data_from_csv.append(row)"
   ]
  },
  {
   "cell_type": "markdown",
   "metadata": {},
   "source": [
    "##### 5. Print the data"
   ]
  },
  {
   "cell_type": "code",
   "execution_count": 488,
   "metadata": {
    "collapsed": false
   },
   "outputs": [
    {
     "name": "stdout",
     "output_type": "stream",
     "text": [
      "[['State', 'Rate', 'Verbal', 'Math'], ['CT', '82', '509', '510'], ['NJ', '81', '499', '513'], ['MA', '79', '511', '515'], ['NY', '77', '495', '505'], ['NH', '72', '520', '516'], ['RI', '71', '501', '499'], ['PA', '71', '500', '499'], ['VT', '69', '511', '506'], ['ME', '69', '506', '500'], ['VA', '68', '510', '501'], ['DE', '67', '501', '499'], ['MD', '65', '508', '510'], ['NC', '65', '493', '499'], ['GA', '63', '491', '489'], ['IN', '60', '499', '501'], ['SC', '57', '486', '488'], ['DC', '56', '482', '474'], ['OR', '55', '526', '526'], ['FL', '54', '498', '499'], ['WA', '53', '527', '527'], ['TX', '53', '493', '499'], ['HI', '52', '485', '515'], ['AK', '51', '514', '510'], ['CA', '51', '498', '517'], ['AZ', '34', '523', '525'], ['NV', '33', '509', '515'], ['CO', '31', '539', '542'], ['OH', '26', '534', '439'], ['MT', '23', '539', '539'], ['WV', '18', '527', '512'], ['ID', '17', '543', '542'], ['TN', '13', '562', '553'], ['NM', '13', '551', '542'], ['IL', '12', '576', '589'], ['KY', '12', '550', '550'], ['WY', '11', '547', '545'], ['MI', '11', '561', '572'], ['MN', '9', '580', '589'], ['KS', '9', '577', '580'], ['AL', '9', '559', '554'], ['NE', '8', '562', '568'], ['OK', '8', '567', '561'], ['MO', '8', '577', '577'], ['LA', '7', '564', '562'], ['WI', '6', '584', '596'], ['AR', '6', '562', '550'], ['UT', '5', '575', '570'], ['IA', '5', '593', '603'], ['SD', '4', '577', '582'], ['ND', '4', '592', '599'], ['MS', '4', '566', '551'], ['All', '45', '506', '514']]\n"
     ]
    }
   ],
   "source": [
    "print(data_from_csv)"
   ]
  },
  {
   "cell_type": "markdown",
   "metadata": {
    "collapsed": true
   },
   "source": [
    "##### 6. Extract a list of the labels from the data, and remove them from the data."
   ]
  },
  {
   "cell_type": "code",
   "execution_count": 489,
   "metadata": {
    "collapsed": false
   },
   "outputs": [],
   "source": [
    "headers = data_from_csv[0]\n",
    "data = data_from_csv[1:-1]"
   ]
  },
  {
   "cell_type": "markdown",
   "metadata": {},
   "source": [
    "##### 7. Create a list of State names extracted from the data. (Hint: use the list of labels to index on the State column)"
   ]
  },
  {
   "cell_type": "code",
   "execution_count": 490,
   "metadata": {
    "collapsed": false
   },
   "outputs": [
    {
     "name": "stdout",
     "output_type": "stream",
     "text": [
      "['CT', 'NJ', 'MA', 'NY', 'NH', 'RI', 'PA', 'VT', 'ME', 'VA', 'DE', 'MD', 'NC', 'GA', 'IN', 'SC', 'DC', 'OR', 'FL', 'WA', 'TX', 'HI', 'AK', 'CA', 'AZ', 'NV', 'CO', 'OH', 'MT', 'WV', 'ID', 'TN', 'NM', 'IL', 'KY', 'WY', 'MI', 'MN', 'KS', 'AL', 'NE', 'OK', 'MO', 'LA', 'WI', 'AR', 'UT', 'IA', 'SD', 'ND', 'MS']\n"
     ]
    }
   ],
   "source": [
    "state_names = [row[0] for row in data]\n",
    "print(state_names)"
   ]
  },
  {
   "cell_type": "markdown",
   "metadata": {},
   "source": [
    "##### 8. Print the types of each column"
   ]
  },
  {
   "cell_type": "code",
   "execution_count": 491,
   "metadata": {
    "collapsed": false
   },
   "outputs": [
    {
     "name": "stdout",
     "output_type": "stream",
     "text": [
      "Rate : {<class 'str'>}\n",
      "Verbal : {<class 'str'>}\n",
      "Math : {<class 'str'>}\n",
      "State : {<class 'str'>}\n"
     ]
    }
   ],
   "source": [
    "def print_data_types(data_set):\n",
    "    # Create a dictionary to store a set of data types for each column\n",
    "    data_types_dictionary = dict().fromkeys(headers, set())\n",
    "\n",
    "    # For each column, examine the corresponding row element\n",
    "    for i, key in enumerate(data_types_dictionary):\n",
    " \n",
    "        for row in data_set:\n",
    "    \n",
    "            # Add each element's data type to the set, which keeps only unique values\n",
    "            data_types_dictionary[key].add(type(row[i]))\n",
    "\n",
    "        # Print the set of data types for each column\n",
    "        print(key, ':', data_types_dictionary[key])\n",
    "        \n",
    "print_data_types(data)"
   ]
  },
  {
   "cell_type": "markdown",
   "metadata": {},
   "source": [
    "This means that each column contains only strings."
   ]
  },
  {
   "cell_type": "markdown",
   "metadata": {},
   "source": [
    "##### 9. Do any types need to be reassigned? If so, go ahead and do it."
   ]
  },
  {
   "cell_type": "code",
   "execution_count": 492,
   "metadata": {
    "collapsed": false
   },
   "outputs": [
    {
     "name": "stdout",
     "output_type": "stream",
     "text": [
      "Rate : {<class 'str'>}\n",
      "Verbal : {<class 'str'>, <class 'int'>}\n",
      "Math : {<class 'str'>, <class 'int'>}\n",
      "State : {<class 'str'>, <class 'int'>}\n"
     ]
    }
   ],
   "source": [
    "# The Rate, Verbal and Math columns need to be reassigned\n",
    "\n",
    "for column_index, header in enumerate(headers):\n",
    "    if header != 'State':\n",
    "        for row in data:\n",
    "            row[column_index] = int(row[column_index])\n",
    "            \n",
    "# Verify the values converted correctly\n",
    "print_data_types(data)"
   ]
  },
  {
   "cell_type": "markdown",
   "metadata": {},
   "source": [
    "##### 10. Create a dictionary for each column mapping the State to its respective value for that column. "
   ]
  },
  {
   "cell_type": "code",
   "execution_count": 493,
   "metadata": {
    "collapsed": false
   },
   "outputs": [],
   "source": [
    "# For easy iteration, convert the data to a dictionary with the format:\n",
    "#   {'Rate': {State_name: Rate_for_state, ...}, ...}\n",
    "data_by_state_dictionary = dict()\n",
    "\n",
    "# Iterate over each header name in headers. Limit to specific categories\n",
    "for column_index, header_name in enumerate(headers):\n",
    "    if header_name != 'State':\n",
    "        data_by_state_dictionary[header_name] = dict()\n",
    "\n",
    "        # Look at each row in the data\n",
    "        for row in data:\n",
    "        \n",
    "            # Set the data value for each state key in the data_dictionary\n",
    "            # Ex. Rate: {State_name: row[Header_column_index]}\n",
    "            data_by_state_dictionary[header_name][row[0]] = row[column_index]"
   ]
  },
  {
   "cell_type": "markdown",
   "metadata": {},
   "source": [
    "##### 11. Create a dictionary with the values for each of the numeric columns"
   ]
  },
  {
   "cell_type": "code",
   "execution_count": 494,
   "metadata": {
    "collapsed": false
   },
   "outputs": [],
   "source": [
    "dictionary_of_columns = dict()\n",
    "for column_index, header in enumerate(headers):\n",
    "    if header != 'State':\n",
    "        dictionary_of_columns[header] = []\n",
    "        for row in data:\n",
    "            dictionary_of_columns[header].append(row[column_index])"
   ]
  },
  {
   "cell_type": "markdown",
   "metadata": {},
   "source": [
    "## Step 3: Describe the data"
   ]
  },
  {
   "cell_type": "markdown",
   "metadata": {},
   "source": [
    "##### 12. Print the min and max of each column"
   ]
  },
  {
   "cell_type": "code",
   "execution_count": 495,
   "metadata": {
    "collapsed": false
   },
   "outputs": [
    {
     "name": "stdout",
     "output_type": "stream",
     "text": [
      "Rate \n",
      "  Min: 4, Max: 82\n",
      "Verbal \n",
      "  Min: 482, Max: 593\n",
      "Math \n",
      "  Min: 439, Max: 603\n"
     ]
    }
   ],
   "source": [
    "for column in dictionary_of_columns:\n",
    "    print(\"{} \\n  Min: {}, Max: {}\".format(column, min(dictionary_of_columns[column]), max(dictionary_of_columns[column])))"
   ]
  },
  {
   "cell_type": "markdown",
   "metadata": {},
   "source": [
    "##### 13. Write a function using only list comprehensions, no loops, to compute Standard Deviation. Print the Standard Deviation of each numeric column."
   ]
  },
  {
   "cell_type": "code",
   "execution_count": 496,
   "metadata": {
    "collapsed": false
   },
   "outputs": [
    {
     "name": "stdout",
     "output_type": "stream",
     "text": [
      "Using find_std_dev():\n",
      "  Rate: 27.27923867605359\n",
      "  Verbal: 33.03198268415228\n",
      "  Math: 35.92987317311408\n",
      "\n",
      "Using numpy.std():\n",
      "  Rate: 27.27923867605359\n",
      "  Verbal: 33.03198268415228\n",
      "  Math: 35.92987317311408\n"
     ]
    }
   ],
   "source": [
    "def find_std_dev(data_list):\n",
    "    mean = np.mean(data_list)\n",
    "    sum_squares = sum((data_list - mean) ** 2)\n",
    "    variance = sum_squares / len(data_list)\n",
    "    \n",
    "    return(np.sqrt(variance))\n",
    "\n",
    "print(\"Using find_std_dev():\")\n",
    "for column in dictionary_of_columns:\n",
    "    print(\"  {}: {}\" .format(column, find_std_dev(dictionary_of_columns[column])))\n",
    "    \n",
    "print(\"\\nUsing numpy.std():\")\n",
    "for column in dictionary_of_columns:\n",
    "    print(\"  {}: {}\" .format(column, np.std(dictionary_of_columns[column])))"
   ]
  },
  {
   "cell_type": "markdown",
   "metadata": {},
   "source": [
    "## Step 4: Visualize the data"
   ]
  },
  {
   "cell_type": "markdown",
   "metadata": {
    "collapsed": true
   },
   "source": [
    "##### 14. Using MatPlotLib and PyPlot, plot the distribution of the Rate using histograms."
   ]
  },
  {
   "cell_type": "code",
   "execution_count": 497,
   "metadata": {
    "collapsed": false
   },
   "outputs": [
    {
     "data": {
      "image/png": "[encoded data removed]",
      "text/plain": [
       "<matplotlib.figure.Figure at 0x11c7effd0>"
      ]
     },
     "metadata": {},
     "output_type": "display_data"
    }
   ],
   "source": [
    "fig = plt.figure(figsize = (8,6))\n",
    "ax_rate = fig.add_subplot(1,1,1)\n",
    "\n",
    "ax_rate.set_title(\"Distribution of SAT Participation Rate\")\n",
    "ax_rate.hist(x = dictionary_of_columns['Rate'], bins = 20)\n",
    "ax_rate.set_xlabel(\"SAT participation rate (%)\")\n",
    "\n",
    "\n",
    "plt.show()"
   ]
  },
  {
   "cell_type": "markdown",
   "metadata": {},
   "source": [
    "##### 15. Plot the Math distribution"
   ]
  },
  {
   "cell_type": "code",
   "execution_count": 498,
   "metadata": {
    "collapsed": false
   },
   "outputs": [
    {
     "data": {
      "image/png": "[encoded data removed]",
      "text/plain": [
       "<matplotlib.figure.Figure at 0x11d39a048>"
      ]
     },
     "metadata": {},
     "output_type": "display_data"
    }
   ],
   "source": [
    "fig = plt.figure(figsize = (8,6))\n",
    "ax_math = fig.add_subplot(1,1,1)\n",
    "\n",
    "ax_math.set_title(\"Distribution of SAT Math Scores\")\n",
    "ax_math.hist(x = dictionary_of_columns['Math'], bins = 20)\n",
    "ax_math.set_xlabel(\"SAT math scores\")\n",
    "\n",
    "plt.show()"
   ]
  },
  {
   "cell_type": "markdown",
   "metadata": {},
   "source": [
    "##### 16. Plot the Verbal distribution"
   ]
  },
  {
   "cell_type": "code",
   "execution_count": 499,
   "metadata": {
    "collapsed": false
   },
   "outputs": [
    {
     "data": {
      "image/png": "[encoded data removed]",
      "text/plain": [
       "<matplotlib.figure.Figure at 0x11cb772b0>"
      ]
     },
     "metadata": {},
     "output_type": "display_data"
    }
   ],
   "source": [
    "fig = plt.figure(figsize = (8,6))\n",
    "ax_verbal = fig.add_subplot(1,1,1)\n",
    "\n",
    "ax_verbal.set_title(\"Distribution of SAT Verbal Scores\")\n",
    "ax_verbal.hist(x = dictionary_of_columns['Verbal'], bins = 20)\n",
    "ax_verbal.set_xlabel(\"SAT verbal scores\")\n",
    "\n",
    "plt.show()"
   ]
  },
  {
   "cell_type": "markdown",
   "metadata": {},
   "source": [
    "##### 17. What is the typical assumption for data distribution?"
   ]
  },
  {
   "cell_type": "markdown",
   "metadata": {
    "collapsed": false
   },
   "source": [
    "Data is typically assumed to follow a normal distribution, which has only one local maxima."
   ]
  },
  {
   "cell_type": "markdown",
   "metadata": {},
   "source": [
    "##### 18. Does that distribution hold true for our data?"
   ]
  },
  {
   "cell_type": "markdown",
   "metadata": {
    "collapsed": false
   },
   "source": [
    "Our data appears to be bimodal."
   ]
  },
  {
   "cell_type": "markdown",
   "metadata": {},
   "source": [
    "##### 19. Plot some scatterplots. **BONUS**: Use a PyPlot `figure` to present multiple plots at once."
   ]
  },
  {
   "cell_type": "code",
   "execution_count": 500,
   "metadata": {
    "collapsed": false
   },
   "outputs": [
    {
     "data": {
      "image/png": "[encoded data removed]",
      "text/plain": [
       "<matplotlib.figure.Figure at 0x11c830c88>"
      ]
     },
     "metadata": {},
     "output_type": "display_data"
    }
   ],
   "source": [
    "fig = plt.figure(figsize = (10,6))\n",
    "ax_rate = fig.add_subplot(1,2,1)\n",
    "ax_scores = fig.add_subplot(1,2,2)\n",
    "\n",
    "ax_rate.hist(x = dictionary_of_columns['Rate'], bins = 20)\n",
    "ax_scores.hist(x = [dictionary_of_columns['Math'], dictionary_of_columns['Verbal']], bins = 20)\n",
    "\n",
    "ax_rate.set_title(\"SAT participation rate (%)\")\n",
    "ax_scores.set_title(\"SAT math and verbal scores\")\n",
    "\n",
    "ax_rate.set_xlabel(\"Participation rate (%)\")\n",
    "ax_scores.set_xlabel(\"Test scores (200-800 point scale)\")\n",
    "ax_scores.legend(labels = [\"Math\", \"Verbal\"])\n",
    "\n",
    "plt.show()"
   ]
  },
  {
   "cell_type": "markdown",
   "metadata": {},
   "source": [
    "##### 20. Are there any interesting relationships to note?"
   ]
  },
  {
   "cell_type": "markdown",
   "metadata": {
    "collapsed": false
   },
   "source": [
    "The SAT participation rate distribution shows that high schools may be divided into high– and low-participation rate groups. More research is needed to determine the cause; for instance, some state education boards may emphasize standardize testing to its students; alternatively, some states may have lower matriculation rates, which would correlate with low participation in the SAT exams.\n",
    "\n",
    "\n",
    "Individually, the SAT math and verbal score distributions seemed to show bimodal distributions; i.e., that most students achieved either average or above average scores, but few between those levels. (For the SAT exams, 500 points was considered average.) However combining the math and verbal scores appeared to create a positively skewed distribution. More data is needed to determine if this is the case."
   ]
  },
  {
   "cell_type": "markdown",
   "metadata": {},
   "source": [
    "##### 21. Create box plots for each variable. "
   ]
  },
  {
   "cell_type": "code",
   "execution_count": 501,
   "metadata": {
    "collapsed": false,
    "scrolled": true
   },
   "outputs": [
    {
     "data": {
      "image/png": "[encoded data removed]",
      "text/plain": [
       "<matplotlib.figure.Figure at 0x11c7e41d0>"
      ]
     },
     "metadata": {},
     "output_type": "display_data"
    }
   ],
   "source": [
    "fig = plt.figure(figsize = (12,4))\n",
    "ax_rate = fig.add_subplot(1,3,1)\n",
    "ax_math = fig.add_subplot(1,3,2)\n",
    "ax_verbal = fig.add_subplot(1,3,3)\n",
    "\n",
    "ax_rate.set_title(\"Distribution of SAT Participation Rate\")\n",
    "ax_rate.boxplot(dictionary_of_columns['Rate'])\n",
    "ax_rate.set_ylabel(\"SAT participation rate (%)\")\n",
    "\n",
    "ax_math.set_title(\"Distribution of SAT Math Scores\")\n",
    "ax_math.boxplot(dictionary_of_columns['Math'])\n",
    "ax_math.set_ylabel(\"SAT math scores\")\n",
    "\n",
    "ax_verbal.set_title(\"Distribution of SAT Verbal Scores\")\n",
    "ax_verbal.boxplot(dictionary_of_columns['Verbal'])\n",
    "ax_verbal.set_ylabel(\"SAT verbal scores\")\n",
    "\n",
    "plt.show()"
   ]
  },
  {
   "cell_type": "markdown",
   "metadata": {},
   "source": [
    "##### BONUS: Using Tableau, create a heat map for each variable using a map of the US. "
   ]
  },
  {
   "cell_type": "code",
   "execution_count": null,
   "metadata": {
    "collapsed": true
   },
   "outputs": [],
   "source": []
  }
 ],
 "metadata": {
  "anaconda-cloud": {},
  "kernelspec": {
   "display_name": "Python [Root]",
   "language": "python",
   "name": "Python [Root]"
  },
  "language_info": {
   "codemirror_mode": {
    "name": "ipython",
    "version": 3
   },
   "file_extension": ".py",
   "mimetype": "text/x-python",
   "name": "python",
   "nbconvert_exporter": "python",
   "pygments_lexer": "ipython3",
   "version": "3.5.2"
  }
 },
 "nbformat": 4,
 "nbformat_minor": 0
}
