{
 "cells": [
  {
   "cell_type": "markdown",
   "metadata": {},
   "source": [
    "### Review problem 6 (hard)\n",
    "\n",
    "For this problem you will be defining a function that calculates the **spearman correlation coefficient** between two lists. The spearman correlation is a measure of how related two sets of numbers are.\n",
    "\n",
    "Your function should:\n",
    "\n",
    "- Accept two provided lists of numbers, ```X``` and ```Y```\n",
    "- Print the length of ```X``` and ```Y``` using the ```len()``` function, like so:\n",
    "    ```python\n",
    "    Length of X: 40\n",
    "    Length of Y: 40\n",
    "    ```\n",
    "- Calculate the **rank** of the numbers in the ```X``` and ```Y``` lists. The **rank** is a number that defines what index position each number would be if the list were in order.\n",
    "    - For example: say ```list1 = [5,2,0,9,-5]```, then ```list1_rank = [3,2,1,4,0]```\n",
    "    - Calculating the rank is not trivial. You can use the ```rankdata()``` function from ```scipy.stats``` on a list to get the ranks of the numbers.\n",
    "    - Assign the rank of list ```X``` to ```X_rank``` and list ```Y``` to ```Y_rank```\n",
    "- Calculate the **covariance between ```X_rank``` and ```Y_rank```** as ```XY_rank_cov```:\n",
    "    - The **covariance** is a measure of the \"relatedness\" between two lists of variables.\n",
    "    - To calculate the covariance between these two lists:\n",
    "        1. Calculate ```X_mean```: the mean of ```X_rank``` using ```np.mean()```\n",
    "        2. Calculate ```Y_mean```: the mean of ```Y_rank``` using ```np.mean()```\n",
    "        3. Calculate ```X_deviation```: subtract ```X_mean``` from each element of ```X_rank```\n",
    "        4. Calculate ```Y_deviation```: subtract ```Y_mean``` from each element of ```Y_rank```\n",
    "        5. Calculate ```XY_d```: multiply ```X_deviation``` with ```Y_deviation```, **element by element**. You can use pythons ```zip()``` function to iterate across lists at the same time:\n",
    "            ```python\n",
    "            for xd, yd in zip(X_deviation, Y_deviation):\n",
    "            ```\n",
    "        6. Calculate ```sum_XY_d```: the sum of the elements in ```XY_d``` with ```np.sum()```\n",
    "        7. Calculate ```XY_rank_cov```: divide ```sum_XY_d``` by ```len(XY_d)```\n",
    "- Calculate the standard deviations ```X_rank_std``` and ```Y_rank_std``` of the ```X_rank``` and ```Y_rank``` lists using ```np.std()```\n",
    "- Calculate the **spearman rank correlation coefficient** as ```XY_spearman```: divide ```XY_rank_cov``` by ```(X_rank_std * Y_rank_std)```\n",
    "- Print ```XY_spearman```\n",
    "- Compare your value to the scipy function for spearman: print out ```spearmanr(X, Y)```"
   ]
  },
  {
   "cell_type": "code",
   "execution_count": 1,
   "metadata": {
    "collapsed": true
   },
   "outputs": [],
   "source": [
    "import numpy as np\n",
    "from  scipy.stats import rankdata\n",
    "from scipy.stats import spearmanr\n",
    "from scipy.stats import pearsonr\n",
    "\n",
    "X = [14.2,5.8,4.8,12.7,5.6,-1.2,5.3,11.9,4.8,8.1,1.5,8.5,14.9,6.1,\n",
    "     6.8,12.6,15.5,24.3,15.6,16.8,22.3,22.6,26.2,19.0,24.3,26.3,\n",
    "     25.3,31.6,27.3,33.0,32.6,30.7,29.6,34.7,32.7,43.1,40.1,35.4,49.6,38.6]\n",
    "\n",
    "Y = [-15.5,-8.5,0.8,-3.9,4.9,12.7,10.0,16.5,5.7,13.1,10.3,12.4,-1.5,\n",
    "     1.7,26.0,14.3,30.3,21.7,27.5,38.2,18.9,21.2,18.2,26.1,14.7,16.4,\n",
    "     22.8,34.3,37.1,38.9,39.1,33.8,52.2,36.5,20.7,21.6,14.5,33.6,44.5,44.2]"
   ]
  },
  {
   "cell_type": "code",
   "execution_count": 2,
   "metadata": {
    "collapsed": false
   },
   "outputs": [
    {
     "name": "stdout",
     "output_type": "stream",
     "text": [
      "Length of X:  40 \n",
      "Length of Y: 40\n"
     ]
    }
   ],
   "source": [
    "# Create your function for spearman here:\n",
    "def list_len(list1, list2):\n",
    "    print \"Length of X: \",len(list1), \"\\nLength of Y:\" ,len(list2)\n",
    "    \n",
    "list_len(X,Y)"
   ]
  },
  {
   "cell_type": "code",
   "execution_count": 3,
   "metadata": {
    "collapsed": false
   },
   "outputs": [],
   "source": [
    "X_rank = rankdata(X)\n",
    "Y_rank = rankdata(Y)"
   ]
  },
  {
   "cell_type": "code",
   "execution_count": 4,
   "metadata": {
    "collapsed": true
   },
   "outputs": [],
   "source": [
    "X_mean = sum(X_rank)/len(X)\n",
    "Y_mean = sum(Y_rank)/len(Y)"
   ]
  },
  {
   "cell_type": "code",
   "execution_count": 5,
   "metadata": {
    "collapsed": false
   },
   "outputs": [],
   "source": [
    "def deviation_list(my_list, mean):\n",
    "    dev_list = []\n",
    "    for i in my_list:\n",
    "        dev_list.append(i-mean)\n",
    "    return(dev_list)"
   ]
  },
  {
   "cell_type": "code",
   "execution_count": 6,
   "metadata": {
    "collapsed": false
   },
   "outputs": [],
   "source": [
    "X_deviation = deviation_list(X_rank,X_mean)\n",
    "Y_deviation = deviation_list(Y_rank,Y_mean)"
   ]
  },
  {
   "cell_type": "code",
   "execution_count": 7,
   "metadata": {
    "collapsed": true
   },
   "outputs": [],
   "source": [
    "XY_d = [xd*yd for xd, yd in zip(X_deviation, Y_deviation)]"
   ]
  },
  {
   "cell_type": "code",
   "execution_count": 8,
   "metadata": {
    "collapsed": false
   },
   "outputs": [],
   "source": [
    "Sum_XY_d = sum(XY_d)"
   ]
  },
  {
   "cell_type": "code",
   "execution_count": 9,
   "metadata": {
    "collapsed": true
   },
   "outputs": [],
   "source": [
    "XY_rank_cov = Sum_XY_d/len(XY_d)"
   ]
  },
  {
   "cell_type": "code",
   "execution_count": 10,
   "metadata": {
    "collapsed": false
   },
   "outputs": [],
   "source": [
    "x_rank_std = np.std(X_rank)\n",
    "y_rank_std = Y_rank.std()"
   ]
  },
  {
   "cell_type": "code",
   "execution_count": 11,
   "metadata": {
    "collapsed": false
   },
   "outputs": [
    {
     "name": "stdout",
     "output_type": "stream",
     "text": [
      "0.721925136867\n"
     ]
    }
   ],
   "source": [
    "XY_spearman = XY_rank_cov/(x_rank_std * y_rank_std)\n",
    "print(XY_spearman)"
   ]
  },
  {
   "cell_type": "code",
   "execution_count": 12,
   "metadata": {
    "collapsed": false
   },
   "outputs": [],
   "source": [
    "spearman = spearmanr(X,Y)"
   ]
  },
  {
   "cell_type": "code",
   "execution_count": 13,
   "metadata": {
    "collapsed": false
   },
   "outputs": [
    {
     "name": "stdout",
     "output_type": "stream",
     "text": [
      "Spearman Func result:  0.721925136867 \n",
      "Our calculated result:  0.721925136867\n"
     ]
    }
   ],
   "source": [
    "print \"Spearman Func result: \", spearman[0], \"\\nOur calculated result: \", XY_spearman"
   ]
  },
  {
   "cell_type": "code",
   "execution_count": 14,
   "metadata": {
    "collapsed": false
   },
   "outputs": [
    {
     "name": "stdout",
     "output_type": "stream",
     "text": [
      "(0.6599905230062455, 3.6046733129457002e-06)\n"
     ]
    }
   ],
   "source": [
    "perason = pearsonr(X,Y)\n",
    "print(perason)"
   ]
  },
  {
   "cell_type": "code",
   "execution_count": null,
   "metadata": {
    "collapsed": true
   },
   "outputs": [],
   "source": []
  }
 ],
 "metadata": {
  "anaconda-cloud": {},
  "kernelspec": {
   "display_name": "Python [default]",
   "language": "python",
   "name": "python2"
  },
  "language_info": {
   "codemirror_mode": {
    "name": "ipython",
    "version": 2
   },
   "file_extension": ".py",
   "mimetype": "text/x-python",
   "name": "python",
   "nbconvert_exporter": "python",
   "pygments_lexer": "ipython2",
   "version": "2.7.12"
  }
 },
 "nbformat": 4,
 "nbformat_minor": 0
}
