{
 "cells": [
  {
   "cell_type": "code",
   "execution_count": 32,
   "metadata": {
    "collapsed": false
   },
   "outputs": [],
   "source": [
    "def add_step_in_opp_direc(curr_row,curr_col,map,step_map):\n",
    "    #print(curr_row,curr_col)\n",
    "    if map[curr_row-1][curr_col]==False:\n",
    "        map[curr_row][curr_col] = True\n",
    "        step_map[curr_row-1][curr_col] = step_map[curr_row][curr_col]+1                                                             \n",
    "        add_one_step_from_curr_loc(curr_row-1,curr_col,map,step_map)\n",
    "        return(step_map)\n",
    "    \n",
    "    elif map[curr_row][curr_col-1] == False:\n",
    "        map[curr_row][curr_col] = True\n",
    "        step_map[curr_row][curr_col-1] = step_map[curr_row][curr_col]+1\n",
    "        add_one_step_from_curr_loc(curr_row,curr_col-1,map,step_map)\n",
    "        return(step_map)\n",
    "    \n",
    "    else:\n",
    "        #for i in step_map:\n",
    "        #   print(i)\n",
    "        #for i in map:\n",
    "        #    print(i)\n",
    "        map[curr_row][curr_col]=True\n",
    "        return(step_map)"
   ]
  },
  {
   "cell_type": "code",
   "execution_count": 37,
   "metadata": {
    "collapsed": false
   },
   "outputs": [],
   "source": [
    "def add_one_step_from_curr_loc(curr_row,curr_col,map,step_map):\n",
    "    #print(curr_row,curr_col)\n",
    "    #if map[curr_row+1][curr_col] == True and map[curr_row][curr_col+1] == True:\n",
    "        #print(\"You Shall Not Pass\")\n",
    "        #return(step_map)\n",
    "    if map[curr_row][curr_col+1] == False:\n",
    "        map[curr_row][curr_col] = True\n",
    "        step_map[curr_row][curr_col+1] = step_map[curr_row][curr_col]+1\n",
    "        map[curr_row][curr_col+1] = True\n",
    "        if map[curr_row+1][curr_col] == False:\n",
    "            step_map[curr_row+1][curr_col] = step_map[curr_row][curr_col]+1\n",
    "            map[curr_row+1][curr_col] = True\n",
    "            #return(step_map)\n",
    "        add_step_in_opp_direc(curr_row,curr_col,map,step_map)\n",
    "        add_one_step_from_curr_loc(curr_row,curr_col+1,map,step_map)\n",
    "        \n",
    "        return(step_map)\n",
    "\n",
    "    elif map[curr_row+1][curr_col] == False:\n",
    "        map[curr_row][curr_col] = True\n",
    "        step_map[curr_row+1][curr_col] = step_map[curr_row][curr_col]+1\n",
    "        map[curr_row+1][curr_col] = True\n",
    "        add_step_in_opp_direc(curr_row,curr_col,map,step_map)\n",
    "        add_one_step_from_curr_loc(curr_row+1,curr_col,map,step_map)\n",
    "        return(step_map)\n",
    "    \n",
    "    else:\n",
    "        add_step_in_opp_direc(curr_row,curr_col,map,step_map)\n",
    "        return(step_map)"
   ]
  },
  {
   "cell_type": "code",
   "execution_count": 38,
   "metadata": {
    "collapsed": false
   },
   "outputs": [],
   "source": [
    "def append_edge_to_map(map):\n",
    "    bottom_edge = []\n",
    "    for i in map:\n",
    "        i.append(True)\n",
    "    for i in range(len(map[0])):\n",
    "        bottom_edge.append(True)\n",
    "    map.append(bottom_edge)\n",
    "    return(map)\n",
    "\n",
    "map = [[False,True,False,False],\n",
    "      [False,False,False,False],\n",
    "      [False,False,False,False],\n",
    "      [False,True,False,False]]"
   ]
  },
  {
   "cell_type": "code",
   "execution_count": 39,
   "metadata": {
    "collapsed": false
   },
   "outputs": [],
   "source": [
    "def define_step_map(map):\n",
    "    num_columns = len(map[0])\n",
    "    num_rows = len(map)\n",
    "    step_map = []\n",
    "    for j in range(num_rows):\n",
    "        row = []\n",
    "        for i in range(num_columns):\n",
    "            row.append(0)\n",
    "        step_map.append(row)\n",
    "    return(step_map)"
   ]
  },
  {
   "cell_type": "code",
   "execution_count": 49,
   "metadata": {
    "collapsed": false
   },
   "outputs": [
    {
     "name": "stdout",
     "output_type": "stream",
     "text": [
      "You've stepped on Lava\n",
      "[0, 1, 2, 0, 0]\n",
      "[0, 0, 3, 4, 0]\n",
      "[0, 0, 0, 5, 0]\n",
      "[9, 8, 7, 6, 0]\n",
      "[0, 0, 0, 0, 0]\n"
     ]
    },
    {
     "data": {
      "text/plain": [
       "0"
      ]
     },
     "execution_count": 49,
     "metadata": {},
     "output_type": "execute_result"
    }
   ],
   "source": [
    "map = [[False,False,False,True],\n",
    "      [True,True,False,False],\n",
    "      [True,True,True,False],\n",
    "      [False,False,False,False]]\n",
    "\n",
    "\n",
    "x = 2\n",
    "y = 0\n",
    "def shortest_route(x,y,map):\n",
    "    if map[x][y] == True:\n",
    "        print(\"You've stepped on Lava\")\n",
    "        pass\n",
    "    new_map = append_edge_to_map(map)\n",
    "    step_map = define_step_map(new_map)\n",
    "    for i in range(len(new_map)-1):\n",
    "        for j in range(len(new_map[0])-1):\n",
    "            step_map = add_one_step_from_curr_loc(i,j,map,step_map)\n",
    "    for i in step_map:\n",
    "        print(i)\n",
    "    \n",
    "    return(step_map[x][y])\n",
    "\n",
    "shortest_route(x,y,map)"
   ]
  },
  {
   "cell_type": "code",
   "execution_count": null,
   "metadata": {
    "collapsed": true
   },
   "outputs": [],
   "source": []
  },
  {
   "cell_type": "code",
   "execution_count": null,
   "metadata": {
    "collapsed": true
   },
   "outputs": [],
   "source": []
  },
  {
   "cell_type": "code",
   "execution_count": null,
   "metadata": {
    "collapsed": true
   },
   "outputs": [],
   "source": []
  },
  {
   "cell_type": "code",
   "execution_count": null,
   "metadata": {
    "collapsed": true
   },
   "outputs": [],
   "source": []
  }
 ],
 "metadata": {
  "anaconda-cloud": {},
  "kernelspec": {
   "display_name": "Python [default]",
   "language": "python",
   "name": "python3"
  },
  "language_info": {
   "codemirror_mode": {
    "name": "ipython",
    "version": 3
   },
   "file_extension": ".py",
   "mimetype": "text/x-python",
   "name": "python",
   "nbconvert_exporter": "python",
   "pygments_lexer": "ipython3",
   "version": "3.5.2"
  }
 },
 "nbformat": 4,
 "nbformat_minor": 1
}
