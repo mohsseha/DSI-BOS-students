{
 "cells": [
  {
   "cell_type": "code",
   "execution_count": 771,
   "metadata": {
    "collapsed": false
   },
   "outputs": [],
   "source": [
    "map = [[False,True,False,False,True],\n",
    "      [False,False,False,False,True],\n",
    "      [False,False,False,False,True],\n",
    "      [False,True,False,False,True]]\n",
    "\n",
    "num_columns = len(map[0])\n",
    "num_rows = len(map)\n",
    "\n",
    "\n",
    "step_map = []\n",
    "for j in range(num_rows):\n",
    "    row = []\n",
    "    for i in range(num_columns):\n",
    "        row.append(0)\n",
    "    step_map.append(row)"
   ]
  },
  {
   "cell_type": "code",
   "execution_count": 772,
   "metadata": {
    "collapsed": false
   },
   "outputs": [
    {
     "data": {
      "text/plain": [
       "[[0, 0, 0, 0, 0], [0, 0, 0, 0, 0], [0, 0, 0, 0, 0], [0, 0, 0, 0, 0]]"
      ]
     },
     "execution_count": 772,
     "metadata": {},
     "output_type": "execute_result"
    }
   ],
   "source": [
    "step_map"
   ]
  },
  {
   "cell_type": "code",
   "execution_count": 773,
   "metadata": {
    "collapsed": false
   },
   "outputs": [],
   "source": [
    "def add_step_in_opp_direc(curr_row,curr_col,map,step_map):\n",
    "    print(curr_row,curr_col)\n",
    "    if map[curr_row-1][curr_col]==False:\n",
    "        map[curr_row][curr_col] = True\n",
    "        step_map[curr_row-1][curr_col] = step_map[curr_row][curr_col]+1                                                             \n",
    "        add_one_step_from_curr_loc(curr_row-1,curr_col,map,step_map)\n",
    "        return(step_map)\n",
    "    \n",
    "    elif map[curr_row][curr_col-1] == False:\n",
    "        map[curr_row][curr_col] = True\n",
    "        step_map[curr_row][curr_col-1] = step_map[curr_row][curr_col]+1\n",
    "        add_one_step_from_curr_loc(curr_row,curr_col-1,map,step_map)\n",
    "        return(step_map)\n",
    "    \n",
    "    else:\n",
    "        for i in step_map:\n",
    "            print(i)\n",
    "        for i in map:\n",
    "            print(i)\n",
    "        map[curr_row][curr_col]=True\n",
    "        return(step_map)"
   ]
  },
  {
   "cell_type": "code",
   "execution_count": 774,
   "metadata": {
    "collapsed": false
   },
   "outputs": [],
   "source": [
    "def add_one_step_from_curr_loc(curr_row,curr_col,map,step_map):\n",
    "    #print(curr_row,curr_col)\n",
    "    if map[curr_row][curr_col+1] == False:\n",
    "        map[curr_row][curr_col] = True\n",
    "        step_map[curr_row][curr_col+1] = step_map[curr_row][curr_col]+1\n",
    "        if map[curr_row+1][curr_col] == False:\n",
    "            step_map[curr_row+1][curr_col] = step_map[curr_row][curr_col]+1\n",
    "            #return(step_map)\n",
    "        add_step_in_opp_direc(curr_row,curr_col,map,step_map)\n",
    "        add_one_step_from_curr_loc(curr_row,curr_col+1,map,step_map)\n",
    "        \n",
    "        return(step_map)\n",
    "\n",
    "    elif map[curr_row+1][curr_col] == False:\n",
    "        map[curr_row][curr_col] = True\n",
    "        step_map[curr_row+1][curr_col] = step_map[curr_row][curr_col]+1\n",
    "        add_step_in_opp_direc(curr_row,curr_col,map,step_map)\n",
    "        add_one_step_from_curr_loc(curr_row+1,curr_col,map,step_map)\n",
    "        return(step_map)\n",
    "    \n",
    "    else:        \n",
    "        return(step_map)"
   ]
  },
  {
   "cell_type": "code",
   "execution_count": 775,
   "metadata": {
    "collapsed": false
   },
   "outputs": [
    {
     "name": "stdout",
     "output_type": "stream",
     "text": [
      "0 0\n",
      "1 0\n",
      "[0, 0, 0, 0, 0]\n",
      "[1, 2, 0, 0, 0]\n",
      "[2, 0, 0, 0, 0]\n",
      "[1, 0, 0, 0, 0]\n",
      "[True, True, False, False, True]\n",
      "[True, False, False, False, True]\n",
      "[False, False, False, False, True]\n",
      "[False, True, False, False, True]\n",
      "1 1\n",
      "[0, 0, 0, 0, 0]\n",
      "[1, 2, 3, 0, 0]\n",
      "[2, 3, 0, 0, 0]\n",
      "[1, 0, 0, 0, 0]\n",
      "[True, True, False, False, True]\n",
      "[True, True, False, False, True]\n",
      "[False, False, False, False, True]\n",
      "[False, True, False, False, True]\n",
      "1 2\n",
      "0 2\n",
      "-1 2\n",
      "-2 2\n",
      "-2 3\n",
      "-1 3\n",
      "[0, 0, 4, 9, 0]\n",
      "[1, 2, 3, 8, 0]\n",
      "[2, 7, 6, 7, 0]\n",
      "[1, 0, 5, 8, 0]\n",
      "[True, True, True, False, True]\n",
      "[True, True, True, False, True]\n",
      "[False, False, True, True, True]\n",
      "[False, True, True, True, True]\n",
      "0 3\n",
      "[0, 0, 4, 9, 0]\n",
      "[1, 2, 3, 10, 0]\n",
      "[2, 7, 6, 7, 0]\n",
      "[1, 0, 5, 8, 0]\n",
      "[True, True, True, True, True]\n",
      "[True, True, True, False, True]\n",
      "[False, False, True, True, True]\n",
      "[False, True, True, True, True]\n",
      "0 3\n",
      "[0, 0, 4, 9, 0]\n",
      "[1, 2, 3, 10, 0]\n",
      "[2, 7, 6, 7, 0]\n",
      "[1, 0, 5, 8, 0]\n",
      "[True, True, True, True, True]\n",
      "[True, True, True, False, True]\n",
      "[False, False, True, True, True]\n",
      "[False, True, True, True, True]\n",
      "0 3\n",
      "[0, 0, 4, 9, 0]\n",
      "[1, 2, 3, 10, 0]\n",
      "[2, 7, 6, 7, 0]\n",
      "[1, 0, 5, 8, 0]\n",
      "[True, True, True, True, True]\n",
      "[True, True, True, False, True]\n",
      "[False, False, True, True, True]\n",
      "[False, True, True, True, True]\n",
      "1 0\n",
      "[0, 0, 4, 9, 0]\n",
      "[1, 2, 3, 10, 0]\n",
      "[2, 7, 6, 7, 0]\n",
      "[1, 0, 5, 8, 0]\n",
      "[True, True, True, True, True]\n",
      "[True, True, True, False, True]\n",
      "[False, False, True, True, True]\n",
      "[False, True, True, True, True]\n",
      "2 0\n",
      "[0, 0, 4, 9, 0]\n",
      "[1, 2, 3, 10, 0]\n",
      "[2, 3, 6, 7, 0]\n",
      "[3, 0, 5, 8, 0]\n",
      "[True, True, True, True, True]\n",
      "[True, True, True, False, True]\n",
      "[True, False, True, True, True]\n",
      "[False, True, True, True, True]\n",
      "1 1\n",
      "[0, 0, 4, 9, 0]\n",
      "[1, 2, 3, 10, 0]\n",
      "[2, 3, 6, 7, 0]\n",
      "[3, 0, 5, 8, 0]\n",
      "[True, True, True, True, True]\n",
      "[True, True, True, False, True]\n",
      "[True, False, True, True, True]\n",
      "[False, True, True, True, True]\n",
      "1 2\n",
      "[0, 0, 4, 9, 0]\n",
      "[1, 2, 3, 4, 0]\n",
      "[2, 3, 6, 7, 0]\n",
      "[3, 0, 5, 8, 0]\n",
      "[True, True, True, True, True]\n",
      "[True, True, True, False, True]\n",
      "[True, False, True, True, True]\n",
      "[False, True, True, True, True]\n",
      "2 0\n",
      "[0, 0, 4, 9, 0]\n",
      "[1, 2, 3, 4, 0]\n",
      "[2, 3, 6, 7, 0]\n",
      "[3, 0, 5, 8, 0]\n",
      "[True, True, True, True, True]\n",
      "[True, True, True, False, True]\n",
      "[True, False, True, True, True]\n",
      "[False, True, True, True, True]\n"
     ]
    }
   ],
   "source": [
    "for i in range(len(map)-1):\n",
    "    for j in range(len(map[0])-1):\n",
    "        step_map = add_one_step_from_curr_loc(i,j,map,step_map)\n"
   ]
  },
  {
   "cell_type": "code",
   "execution_count": 776,
   "metadata": {
    "collapsed": false
   },
   "outputs": [
    {
     "name": "stdout",
     "output_type": "stream",
     "text": [
      "[0, 0, 4, 9, 0]\n",
      "[1, 2, 3, 4, 0]\n",
      "[2, 3, 6, 7, 0]\n",
      "[3, 0, 5, 8, 0]\n"
     ]
    }
   ],
   "source": [
    "for i in step_map:\n",
    "    print(i)"
   ]
  },
  {
   "cell_type": "code",
   "execution_count": null,
   "metadata": {
    "collapsed": true
   },
   "outputs": [],
   "source": []
  },
  {
   "cell_type": "code",
   "execution_count": null,
   "metadata": {
    "collapsed": true
   },
   "outputs": [],
   "source": []
  },
  {
   "cell_type": "code",
   "execution_count": null,
   "metadata": {
    "collapsed": true
   },
   "outputs": [],
   "source": []
  },
  {
   "cell_type": "code",
   "execution_count": null,
   "metadata": {
    "collapsed": true
   },
   "outputs": [],
   "source": []
  }
 ],
 "metadata": {
  "anaconda-cloud": {},
  "kernelspec": {
   "display_name": "Python [default]",
   "language": "python",
   "name": "python3"
  },
  "language_info": {
   "codemirror_mode": {
    "name": "ipython",
    "version": 3
   },
   "file_extension": ".py",
   "mimetype": "text/x-python",
   "name": "python",
   "nbconvert_exporter": "python",
   "pygments_lexer": "ipython3",
   "version": "3.5.2"
  }
 },
 "nbformat": 4,
 "nbformat_minor": 1
}
