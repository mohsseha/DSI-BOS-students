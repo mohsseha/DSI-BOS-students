{
 "cells": [
  {
   "cell_type": "markdown",
   "metadata": {},
   "source": [
    "# Make a function that sums all nodes of a decision tree"
   ]
  },
  {
   "cell_type": "code",
   "execution_count": 60,
   "metadata": {
    "collapsed": true
   },
   "outputs": [],
   "source": [
    "#example tree:\n",
    "#tree = {\"node\": 4, \"left\": {\"node\": 4}, \"right\": {\"node\": 3, \"left\": {\"node\":5}, }}\n",
    "\n",
    "tree = {\"left\": {\"node\": 3}, \"right\": {\"node\": 1}}"
   ]
  },
  {
   "cell_type": "code",
   "execution_count": 63,
   "metadata": {
    "collapsed": false
   },
   "outputs": [
    {
     "name": "stdout",
     "output_type": "stream",
     "text": [
      "right\n",
      "{'node': 1}\n",
      "node\n",
      "1\n",
      "0\n",
      "left\n",
      "{'node': 3}\n",
      "node\n",
      "3\n",
      "0\n",
      "0\n"
     ]
    }
   ],
   "source": [
    "final_sum = 0\n",
    "def sum_nodes(tree,node_sum):\n",
    "    for i in tree:\n",
    "        print i\n",
    "        print tree[i]\n",
    "        if i == \"node\":\n",
    "            node_sum += tree[i]\n",
    "        else:\n",
    "            sum_nodes(tree[i],node_sum)\n",
    "            print(node_sum)\n",
    "    return node_sum\n",
    "\n",
    "final_sum = sum_nodes(tree,final_sum)\n",
    "print(final_sum)"
   ]
  },
  {
   "cell_type": "code",
   "execution_count": null,
   "metadata": {
    "collapsed": true
   },
   "outputs": [],
   "source": []
  }
 ],
 "metadata": {
  "anaconda-cloud": {},
  "kernelspec": {
   "display_name": "Python [default]",
   "language": "python",
   "name": "python2"
  },
  "language_info": {
   "codemirror_mode": {
    "name": "ipython",
    "version": 2
   },
   "file_extension": ".py",
   "mimetype": "text/x-python",
   "name": "python",
   "nbconvert_exporter": "python",
   "pygments_lexer": "ipython2",
   "version": "2.7.12"
  }
 },
 "nbformat": 4,
 "nbformat_minor": 1
}
