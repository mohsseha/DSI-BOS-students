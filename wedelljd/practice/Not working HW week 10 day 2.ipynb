{
 "cells": [
  {
   "cell_type": "code",
   "execution_count": null,
   "metadata": {
    "collapsed": true
   },
   "outputs": [],
   "source": [
    "import string"
   ]
  },
  {
   "cell_type": "code",
   "execution_count": null,
   "metadata": {
    "collapsed": false
   },
   "outputs": [],
   "source": [
    "my_list=[1,2,3,4]\n",
    "my_other_list = [1,2,3]\n",
    "\n",
    "if len(my_other_list) < len(my_list):\n",
    "    for index, i in enumerate(my_list):\n",
    "        print(index)"
   ]
  },
  {
   "cell_type": "code",
   "execution_count": null,
   "metadata": {
    "collapsed": true
   },
   "outputs": [],
   "source": []
  },
  {
   "cell_type": "code",
   "execution_count": null,
   "metadata": {
    "collapsed": true
   },
   "outputs": [],
   "source": [
    "def is_more_than_one_off(s1,s2):\n",
    "    ##if list length difference is more than 1 character return TRUE\n",
    "    if abs(len(s1)-len(s2)) > 1:\n",
    "         return(True)\n",
    "\n",
    "    s1_list = []\n",
    "    s2_list = []\n",
    "    \n",
    "    for x in s1:\n",
    "        s1_list.append(x)\n",
    "    for y in s2:\n",
    "        s2_list.append(y)\n",
    "    print(s1_list, s2_list)\n",
    "    \n",
    "    #check if replacing a character turns string 1 into string 2, if so return False\n",
    "    if len(s1_list) == len(s2_list):\n",
    "        if s1_list != s2_list:\n",
    "            for index, i in enumerate(s1_list):\n",
    "                if s1_list[index] != s2_list[index]:\n",
    "                    for j in string.printable:\n",
    "                        #print(j)\\n\",\n",
    "                        check_list = s1_list\n",
    "                        #print(check_list, s2_list)\n",
    "                        check_list[index] = j\n",
    "                        print(check_list, s2_list)\n",
    "                        if check_list == s2_list:\n",
    "                            return(False)\n",
    "        #else:\n",
    "        #    return(False)\n",
    "\n",
    "        #check if adding a character turns string 1 into string two, if so return False\\n\",\n",
    "    \n",
    "    if len(s1_list) < len(s2_list):\n",
    "    #    print(s1_list, s2_list)\n",
    "        for index, i in enumerate(s1_list)\n",
    "            check_list = s1_list\n",
    "            for j in string.printable:\n",
    "                if check_list.insert(index,j) == s2_list:\n",
    "                    return(False)\n",
    "            \n",
    "            #for j in string.printable:\\n\",\n",
    "            #    check_list = s1_list\\n\",\n",
    "            #    check_list = check_list.insert(index,j)\\n\",\n",
    "            #    if check_list == s2_list:\\n\",\n",
    "            #        return(False)\\n\",\n",
    "\n",
    "    #if len(s2) < len(s1):\n",
    "    #    #print(s1_list, s2_list)\\n\",\n",
    "    #    for i in enumerate(s2_list):\n",
    "    #        print(index)\n",
    "    #        check_list = s2_list\n",
    "    #        for j in string.printable:\n",
    "    #            print(check_list.insert(index,j))\n",
    "    #            if check_list.insert(index,j) == s1_list:\n",
    "    #                return(False)"
   ]
  },
  {
   "cell_type": "code",
   "execution_count": null,
   "metadata": {
    "collapsed": false
   },
   "outputs": [],
   "source": [
    "is_more_than_one_off('mat','maaa')"
   ]
  },
  {
   "cell_type": "code",
   "execution_count": 18,
   "metadata": {
    "collapsed": false
   },
   "outputs": [
    {
     "name": "stdout",
     "output_type": "stream",
     "text": [
      "0\n",
      "[1, 2, 3]\n",
      "None\n",
      "1\n",
      "0\n"
     ]
    },
    {
     "ename": "AttributeError",
     "evalue": "'str' object has no attribute 'append'",
     "output_type": "error",
     "traceback": [
      "\u001b[0;31m---------------------------------------------------------------------------\u001b[0m",
      "\u001b[0;31mAttributeError\u001b[0m                            Traceback (most recent call last)",
      "\u001b[0;32m<ipython-input-18-9c16d00082ba>\u001b[0m in \u001b[0;36m<module>\u001b[0;34m()\u001b[0m\n\u001b[1;32m      6\u001b[0m     \u001b[0mprint\u001b[0m\u001b[1;33m(\u001b[0m\u001b[0mx\u001b[0m\u001b[1;33m)\u001b[0m\u001b[1;33m\u001b[0m\u001b[0m\n\u001b[1;32m      7\u001b[0m     \u001b[0mprint\u001b[0m\u001b[1;33m(\u001b[0m\u001b[0mmy_list\u001b[0m\u001b[1;33m)\u001b[0m\u001b[1;33m\u001b[0m\u001b[0m\n\u001b[0;32m----> 8\u001b[0;31m     \u001b[0mprint\u001b[0m\u001b[1;33m(\u001b[0m\u001b[0mmy_list\u001b[0m\u001b[1;33m.\u001b[0m\u001b[0mappend\u001b[0m\u001b[1;33m(\u001b[0m\u001b[0mx\u001b[0m\u001b[1;33m)\u001b[0m\u001b[1;33m)\u001b[0m\u001b[1;33m\u001b[0m\u001b[0m\n\u001b[0m\u001b[1;32m      9\u001b[0m     \u001b[1;32mif\u001b[0m \u001b[0mmy_list\u001b[0m\u001b[1;33m.\u001b[0m\u001b[0mappend\u001b[0m\u001b[1;33m(\u001b[0m\u001b[0mx\u001b[0m\u001b[1;33m)\u001b[0m \u001b[1;33m==\u001b[0m \u001b[0mmy_other_list\u001b[0m\u001b[1;33m:\u001b[0m\u001b[1;33m\u001b[0m\u001b[0m\n\u001b[1;32m     10\u001b[0m         \u001b[0mprint\u001b[0m\u001b[1;33m(\u001b[0m\u001b[1;34m\"TRUE\"\u001b[0m\u001b[1;33m)\u001b[0m\u001b[1;33m\u001b[0m\u001b[0m\n",
      "\u001b[0;31mAttributeError\u001b[0m: 'str' object has no attribute 'append'"
     ]
    }
   ],
   "source": [
    "import string\n",
    "my_list = [1,2,3]\n",
    "my_other_list = [1,2,3,4]\n",
    "\n",
    "for x in string.printable:\n",
    "    print(x)\n",
    "    print(my_list)\n",
    "    print(my_list.append(x))\n",
    "    if my_list.append(x) == my_other_list:\n",
    "        print(\"TRUE\")\n",
    "    else:\n",
    "        my_list = my_list.pop()"
   ]
  },
  {
   "cell_type": "code",
   "execution_count": null,
   "metadata": {
    "collapsed": false
   },
   "outputs": [],
   "source": [
    "for j in range(len(my_list)-1):\n",
    "    new_list = my_list\n",
    "    print(my_list,new_list)\n",
    "    print(j)\n",
    "    \n",
    "    new_list.insert(j,'I')\n",
    "    print(new_list)\n",
    "print(new_list)"
   ]
  },
  {
   "cell_type": "code",
   "execution_count": null,
   "metadata": {
    "collapsed": false
   },
   "outputs": [],
   "source": [
    "for i in enumerate(my_list):\n",
    "    print(i)"
   ]
  },
  {
   "cell_type": "code",
   "execution_count": null,
   "metadata": {
    "collapsed": true
   },
   "outputs": [],
   "source": []
  }
 ],
 "metadata": {
  "anaconda-cloud": {},
  "kernelspec": {
   "display_name": "Python [default]",
   "language": "python",
   "name": "python3"
  },
  "language_info": {
   "codemirror_mode": {
    "name": "ipython",
    "version": 3
   },
   "file_extension": ".py",
   "mimetype": "text/x-python",
   "name": "python",
   "nbconvert_exporter": "python",
   "pygments_lexer": "ipython3",
   "version": "3.5.2"
  }
 },
 "nbformat": 4,
 "nbformat_minor": 1
}
