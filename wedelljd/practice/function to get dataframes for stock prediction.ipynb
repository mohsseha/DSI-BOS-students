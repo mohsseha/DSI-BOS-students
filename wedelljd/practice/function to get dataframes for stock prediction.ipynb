{
 "cells": [
  {
   "cell_type": "code",
   "execution_count": 131,
   "metadata": {
    "collapsed": false
   },
   "outputs": [],
   "source": [
    "class TeamBPredictor():      \n",
    "    training_tkr_list = [\"TMO\",\"AMZN\",\"APPL\",\"GM\",\"IBM\",\"TWTR\",\"CBS\",\"TM\",\"BIO\"]\n",
    "    import pandas as pd\n",
    "    def __init__(self):\n",
    "        #import pandas as pd\n",
    "        from sklearn.linear_model import LinearRegression\n",
    "        training_tkr_list = self.training_tkr_list\n",
    "        df_train_list = []\n",
    "        df_test_list = []\n",
    "        model = LinearRegression()\n",
    "        \n",
    "        def tkr_download(tkr):\n",
    "            df = self.pd.read_csv('https://www.google.com/finance/historical?output=csv&q='+tkr+'&startdate=2000-01-01&enddate=2014-01-01')\n",
    "            df['ticker'] = tkr\n",
    "            #df = pd.groupby(df,by=['ticker'])\n",
    "            return(df)\n",
    "            \n",
    "        def fit_model(model,train_df):\n",
    "            X = train_df['Close']\n",
    "            y = train_df['Close']\n",
    "            X = X.reshape(-1,1)\n",
    "            model = model.fit(X,y)\n",
    "            return(model)\n",
    "\n",
    "        def predict2014_to_2017(tkr_list,initial_investment):\n",
    "            initial_investment*model.slope()       \n",
    "\n",
    "        def merge_df(tkr_list):\n",
    "            whole_df = self.pd.DataFrame()\n",
    "            for tkr in tkr_list:\n",
    "                whole_df = whole_df.append(tkr_download(tkr))\n",
    "            return(whole_df)\n",
    "        self.train_df = merge_df(training_tkr_list)\n",
    "        self.model = LinearRegression()\n",
    "        self.fitted_model = fit_model(model,self.train_df)\n",
    "        #self.test_df = merge_df(list)\n",
    "\n",
    "    def tkr_download(self,tkr):\n",
    "            import pandas as pd\n",
    "            df = self.pd.read_csv('https://www.google.com/finance/historical?output=csv&q='+tkr+'&startdate=2000-01-01&enddate=2014-01-01')\n",
    "            df['ticker'] = tkr\n",
    "            #df = pd.groupby(df,by=['ticker'])\n",
    "            return(df)\n",
    "\n",
    "\n",
    "        "
   ]
  },
  {
   "cell_type": "code",
   "execution_count": null,
   "metadata": {
    "collapsed": true
   },
   "outputs": [],
   "source": []
  },
  {
   "cell_type": "code",
   "execution_count": 132,
   "metadata": {
    "collapsed": false
   },
   "outputs": [],
   "source": [
    "x=TeamBPredictor()\n"
   ]
  },
  {
   "cell_type": "code",
   "execution_count": 124,
   "metadata": {
    "collapsed": false
   },
   "outputs": [],
   "source": [
    "class TeamBPredictor():      \n",
    "    training_tkr_list = [\"TMO\",\"AMZN\",\"APPL\",\"GM\",\"IBM\",\"TWTR\",\"CBS\",\"TM\",\"BIO\"]\n",
    "    def __init__(self):\n",
    "        import pandas as pd\n",
    "        from sklearn.linear_model import LinearRegression\n",
    "        training_tkr_list = self.training_tkr_list\n",
    "        df_train_list = []\n",
    "        df_test_list = []\n",
    "        model = LinearRegression()\n",
    "            \n",
    "        def fit_model(model,train_df):\n",
    "            X = train_df['Close']\n",
    "            y = train_df['Close'].shift()\n",
    "            X = X.reshape(-1,1)\n",
    "            model = model.fit(X,y)\n",
    "            return(model)\n",
    "\n",
    "        def predict2014_to_2017(tkr_list,initial_investment):\n",
    "            initial_investment*model.slope()       \n",
    "\n",
    "        def merge_df(tkr_list):\n",
    "            whole_df = pd.DataFrame()\n",
    "            for tkr in tkr_list:\n",
    "                whole_df = whole_df.append(tkr_download(tkr))\n",
    "            return(whole_df)\n",
    "        self.train_df = merge_df(training_tkr_list)\n",
    "        self.model = LinearRegression()\n",
    "        self.fitted_model = fit_model(model,self.train_df)\n",
    "        #self.test_df = merge_df(list)\n",
    "\n",
    "    def tkr_download(self,tkr):\n",
    "            import pandas as pd\n",
    "            df = pd.read_csv('https://www.google.com/finance/historical?output=csv&q='+tkr+'&startdate=2000-01-01&enddate=2014-01-01')\n",
    "            df['ticker'] = tkr\n",
    "            #df = pd.groupby(df,by=['ticker'])\n",
    "            return(df)\n",
    "\n",
    "\n",
    "        "
   ]
  },
  {
   "cell_type": "code",
   "execution_count": 126,
   "metadata": {
    "collapsed": false
   },
   "outputs": [
    {
     "data": {
      "text/plain": [
       "7.1054273576010019e-14"
      ]
     },
     "execution_count": 126,
     "metadata": {},
     "output_type": "execute_result"
    }
   ],
   "source": [
    "x.fitted_model.intercept_"
   ]
  },
  {
   "cell_type": "code",
   "execution_count": 123,
   "metadata": {
    "collapsed": false
   },
   "outputs": [
    {
     "data": {
      "text/plain": [
       "Index(['﻿Date', 'Open', 'High', 'Low', 'Close', 'Volume', 'ticker'], dtype='object')"
      ]
     },
     "execution_count": 123,
     "metadata": {},
     "output_type": "execute_result"
    }
   ],
   "source": []
  }
 ],
 "metadata": {
  "anaconda-cloud": {},
  "kernelspec": {
   "display_name": "Python [default]",
   "language": "python",
   "name": "python3"
  },
  "language_info": {
   "codemirror_mode": {
    "name": "ipython",
    "version": 3
   },
   "file_extension": ".py",
   "mimetype": "text/x-python",
   "name": "python",
   "nbconvert_exporter": "python",
   "pygments_lexer": "ipython3",
   "version": "3.5.2"
  }
 },
 "nbformat": 4,
 "nbformat_minor": 1
}
