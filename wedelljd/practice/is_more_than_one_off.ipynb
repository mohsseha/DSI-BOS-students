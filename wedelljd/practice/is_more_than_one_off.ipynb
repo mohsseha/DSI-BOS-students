{
 "cells": [
  {
   "cell_type": "code",
   "execution_count": 59,
   "metadata": {
    "collapsed": true
   },
   "outputs": [],
   "source": [
    "import string"
   ]
  },
  {
   "cell_type": "code",
   "execution_count": 60,
   "metadata": {
    "collapsed": false
   },
   "outputs": [
    {
     "name": "stdout",
     "output_type": "stream",
     "text": [
      "['j', 1, 2, 3, 4]\n",
      "[1, 'j', 2, 3, 4]\n",
      "[1, 2, 'j', 3, 4]\n",
      "[1, 2, 3, 'j', 4]\n"
     ]
    }
   ],
   "source": [
    "my_list=[1,2,3,4]\n",
    "my_other_list = [1,2,3]\n",
    "\n",
    "if len(my_other_list) < len(my_list):\n",
    "    for index, i in enumerate(my_list):\n",
    "        new_list = list(my_list)\n",
    "        new_list.insert(index,'j')\n",
    "        print(new_list)"
   ]
  },
  {
   "cell_type": "code",
   "execution_count": 61,
   "metadata": {
    "collapsed": false
   },
   "outputs": [
    {
     "data": {
      "text/plain": [
       "[1, 2, 3, 4]"
      ]
     },
     "execution_count": 61,
     "metadata": {},
     "output_type": "execute_result"
    }
   ],
   "source": [
    "a = [1,2,3,4]\n",
    "b = list(a)\n",
    "b"
   ]
  },
  {
   "cell_type": "code",
   "execution_count": 66,
   "metadata": {
    "collapsed": true
   },
   "outputs": [],
   "source": [
    "def is_more_than_one_off(s1,s2):\n",
    "    import string\n",
    "    #if string length difference is more than 1, there must be\n",
    "    #more than one difference between strings, return True\n",
    "    if abs(len(s1)-len(s2)) > 1:\n",
    "         return(True)\n",
    "    \n",
    "    #create lists out of each string\n",
    "    s1_list = []\n",
    "    s2_list = []\n",
    "    for x in s1:\n",
    "        s1_list.append(x)\n",
    "    for y in s2:\n",
    "        s2_list.append(y)\n",
    "    print(s1_list, s2_list)\n",
    "    \n",
    "    #check if replacing a single character turns string 1 into string 2\n",
    "    #--if so return False #since only one change has been made--\n",
    "    if len(s1_list) == len(s2_list):\n",
    "        if s1_list != s2_list:\n",
    "            for index, i in enumerate(s1_list):\n",
    "                if s1_list[index] != s2_list[index]:  #if character at specific index in each string is different will start loop changing that character in the list, then compare lists and return 'False' if they equate\n",
    "                    for j in string.printable:\n",
    "                        #print(j)\\n\",\n",
    "                        check_list = list(s1_list)\n",
    "                        check_list[index] = j\n",
    "                        if check_list == s2_list:\n",
    "                            return(False)\n",
    "                        \n",
    "    #check which list is shorter to decide which string to add to\n",
    "    if len(s1_list) < len(s2_list):\n",
    "        short_list = s1_list\n",
    "        long_list = s2_list\n",
    "    else:\n",
    "        short_list = s2_list\n",
    "        long_list = s1_list\n",
    "        #print(s1_list, s2_list)\n",
    "    \n",
    "    #adds a single character to the shorter string at each index and compares to longer string, if they match\n",
    "    #there is only one change between strings, meaning we return 'False'\n",
    "    \n",
    "    for index, i in enumerate(short_list):\n",
    "        #print(index)\n",
    "        for j in string.printable:\n",
    "            append_check = list(short_list)\n",
    "            append_check.append(j)\n",
    "            insert_check = list(short_list)\n",
    "            insert_check.insert(index,j)\n",
    "            if append_check == long_list or insert_check == long_list:\n",
    "                return(False)\n",
    "    else:  #after exhausting all possible single changes, if strings never match there is more than one change, return True\n",
    "        return(True)"
   ]
  },
  {
   "cell_type": "code",
   "execution_count": 65,
   "metadata": {
    "collapsed": false
   },
   "outputs": [
    {
     "name": "stdout",
     "output_type": "stream",
     "text": [
      "['c', 'a', '3', 't'] ['c', 'a', 't']\n"
     ]
    },
    {
     "data": {
      "text/plain": [
       "False"
      ]
     },
     "execution_count": 65,
     "metadata": {},
     "output_type": "execute_result"
    }
   ],
   "source": [
    "is_more_than_one_off('ca3t','cat')"
   ]
  },
  {
   "cell_type": "code",
   "execution_count": null,
   "metadata": {
    "collapsed": true
   },
   "outputs": [],
   "source": []
  }
 ],
 "metadata": {
  "anaconda-cloud": {},
  "kernelspec": {
   "display_name": "Python [default]",
   "language": "python",
   "name": "python3"
  },
  "language_info": {
   "codemirror_mode": {
    "name": "ipython",
    "version": 3
   },
   "file_extension": ".py",
   "mimetype": "text/x-python",
   "name": "python",
   "nbconvert_exporter": "python",
   "pygments_lexer": "ipython3",
   "version": "3.5.2"
  }
 },
 "nbformat": 4,
 "nbformat_minor": 1
}
