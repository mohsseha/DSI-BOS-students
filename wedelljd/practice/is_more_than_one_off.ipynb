{
 "cells": [
  {
   "cell_type": "code",
   "execution_count": 109,
   "metadata": {
    "collapsed": false
   },
   "outputs": [
    {
     "name": "stdout",
     "output_type": "stream",
     "text": [
      "ca3t\n",
      "a3t\n",
      "ca3t\n",
      "c3t\n",
      "ca3t\n",
      "cat\n"
     ]
    },
    {
     "data": {
      "text/plain": [
       "False"
      ]
     },
     "execution_count": 109,
     "metadata": {},
     "output_type": "execute_result"
    }
   ],
   "source": [
    "is_more_than_one_off('ca3t','cat')"
   ]
  },
  {
   "cell_type": "code",
   "execution_count": 108,
   "metadata": {
    "collapsed": false
   },
   "outputs": [],
   "source": [
    "def is_more_than_one_off(s1,s2):\n",
    "    import string\n",
    "    #if string length difference is more than 1, there must be\n",
    "    #more than one difference between strings, return True\n",
    "    if abs(len(s1)-len(s2)) > 1:\n",
    "         return(True)\n",
    "        \n",
    "    if len(s1) == len(s2):\n",
    "        counter = 0\n",
    "        for index, i in enumerate(s1):\n",
    "            if s1[index] != s2[index]:\n",
    "                counter +=1\n",
    "        if counter < 2:\n",
    "            return(False)\n",
    "    \n",
    "    if len(s1) > len(s2):\n",
    "        long_string = s1\n",
    "        short_string = s2\n",
    "    else:\n",
    "        long_string = s2\n",
    "        short_string = s1\n",
    "    \n",
    "    for index, i in enumerate(long_string):\n",
    "        check_string = long_string\n",
    "        print(check_string)\n",
    "        check_string = check_string[:index]+check_string[index+1:]\n",
    "        print(check_string)\n",
    "        if check_string == short_string:\n",
    "            return(False) \n",
    "    else:\n",
    "        return(True)"
   ]
  },
  {
   "cell_type": "code",
   "execution_count": 66,
   "metadata": {
    "collapsed": true
   },
   "outputs": [],
   "source": [
    "def is_more_than_one_off(s1,s2):\n",
    "    import string\n",
    "    #if string length difference is more than 1, there must be\n",
    "    #more than one difference between strings, return True\n",
    "    if abs(len(s1)-len(s2)) > 1:\n",
    "         return(True)\n",
    "    \n",
    "    #create lists out of each string\n",
    "    s1_list = []\n",
    "    s2_list = []\n",
    "    for x in s1:\n",
    "        s1_list.append(x)\n",
    "    for y in s2:\n",
    "        s2_list.append(y)\n",
    "    print(s1_list, s2_list)\n",
    "    \n",
    "    #check if replacing a single character turns string 1 into string 2\n",
    "    #--if so return False #since only one change has been made--\n",
    "    if len(s1_list) == len(s2_list):\n",
    "        if s1_list != s2_list:\n",
    "            for index, i in enumerate(s1_list):\n",
    "                if s1_list[index] != s2_list[index]:  #if character at specific index in each string is different will start loop changing that character in the list, then compare lists and return 'False' if they equate\n",
    "                    for j in string.printable:\n",
    "                        #print(j)\\n\",\n",
    "                        check_list = list(s1_list)\n",
    "                        check_list[index] = j\n",
    "                        if check_list == s2_list:\n",
    "                            return(False)\n",
    "                        \n",
    "    #check which list is shorter to decide which string to add to\n",
    "    if len(s1_list) < len(s2_list):\n",
    "        short_list = s1_list\n",
    "        long_list = s2_list\n",
    "    else:\n",
    "        short_list = s2_list\n",
    "        long_list = s1_list\n",
    "        #print(s1_list, s2_list)\n",
    "    \n",
    "    #adds a single character to the shorter string at each index and compares to longer string, if they match\n",
    "    #there is only one change between strings, meaning we return 'False'\n",
    "    \n",
    "    for index, i in enumerate(short_list):\n",
    "        #print(index)\n",
    "        for j in string.printable:\n",
    "            append_check = list(short_list)\n",
    "            append_check.append(j)\n",
    "            insert_check = list(short_list)\n",
    "            insert_check.insert(index,j)\n",
    "            if append_check == long_list or insert_check == long_list:\n",
    "                return(False)\n",
    "    else:  #after exhausting all possible single changes, if strings never match there is more than one change, return True\n",
    "        return(True)"
   ]
  },
  {
   "cell_type": "code",
   "execution_count": 106,
   "metadata": {
    "collapsed": false
   },
   "outputs": [
    {
     "name": "stdout",
     "output_type": "stream",
     "text": [
      "caa1\n",
      "aa1\n",
      "caa1\n",
      "ca1\n",
      "caa1\n",
      "ca1\n",
      "caa1\n",
      "caa\n"
     ]
    },
    {
     "data": {
      "text/plain": [
       "True"
      ]
     },
     "execution_count": 106,
     "metadata": {},
     "output_type": "execute_result"
    }
   ],
   "source": [
    "is_more_than_one_off('cat','caa1')"
   ]
  },
  {
   "cell_type": "code",
   "execution_count": null,
   "metadata": {
    "collapsed": true
   },
   "outputs": [],
   "source": [
    "def is_more_than_one_off(s1,s2):\n",
    "    import string\n",
    "    #if string length difference is more than 1, there must be\n",
    "    #more than one difference between strings, return True\n",
    "    if abs(len(s1)-len(s2)) > 1:\n",
    "         return(True)\n",
    "    \n",
    "    \n",
    "    \n",
    "    if len(s1) > len(s2):\n",
    "        long_string = s1\n",
    "        short_string = s2\n",
    "    else:\n",
    "        long_string = s2\n",
    "        short_string = s1\n",
    "    \n",
    "    for index, i in enumerate(long_string):\n",
    "        check_string = str(long_string)\n",
    "        check_string.pop(index)\n",
    "        if check_string = short_string:\n",
    "            return(False)\n",
    "    else:\n",
    "        return(True)\n",
    "    \n",
    "    \n",
    " "
   ]
  },
  {
   "cell_type": "code",
   "execution_count": null,
   "metadata": {
    "collapsed": true
   },
   "outputs": [],
   "source": []
  }
 ],
 "metadata": {
  "anaconda-cloud": {},
  "kernelspec": {
   "display_name": "Python [default]",
   "language": "python",
   "name": "python3"
  },
  "language_info": {
   "codemirror_mode": {
    "name": "ipython",
    "version": 3
   },
   "file_extension": ".py",
   "mimetype": "text/x-python",
   "name": "python",
   "nbconvert_exporter": "python",
   "pygments_lexer": "ipython3",
   "version": "3.5.2"
  }
 },
 "nbformat": 4,
 "nbformat_minor": 1
}
