{
 "cells": [
  {
   "cell_type": "code",
   "execution_count": 11,
   "metadata": {
    "collapsed": false
   },
   "outputs": [],
   "source": [
    "import pandas as pd\n",
    "import numpy as np\n",
    "crunch = pd.read_csv(\"https://raw.githubusercontent.com/suneel0101/lesson-plan/master/crunchbase_monthly_export.csv\")\n",
    "my_categories = crunch[\" market \"].unique()\n",
    "#print(my_categories)"
   ]
  },
  {
   "cell_type": "code",
   "execution_count": 12,
   "metadata": {
    "collapsed": false
   },
   "outputs": [
    {
     "name": "stderr",
     "output_type": "stream",
     "text": [
      "C:\\Users\\USER\\Anaconda2\\lib\\site-packages\\ipykernel\\__main__.py:1: FutureWarning: \n",
      "Setting NaNs in `categories` is deprecated and will be removed in a future version of pandas.\n",
      "  if __name__ == '__main__':\n"
     ]
    }
   ],
   "source": [
    "crunch[\"mkt_dummy\"] = pd.Categorical(crunch[\" market \"], my_categories)\n",
    "#print(crunch[\"mkt_dummy\"])"
   ]
  },
  {
   "cell_type": "code",
   "execution_count": 37,
   "metadata": {
    "collapsed": false
   },
   "outputs": [],
   "source": [
    "crunch[\"striped funding total\"] = crunch[\" funding_total_usd \"].str.strip()\n",
    "\n",
    "#print(crunch[\"striped funding total\"])"
   ]
  },
  {
   "cell_type": "code",
   "execution_count": 47,
   "metadata": {
    "collapsed": false
   },
   "outputs": [
    {
     "name": "stdout",
     "output_type": "stream",
     "text": [
      "0             750,000 \n",
      "1           1,750,000 \n",
      "2           4,000,000 \n",
      "3              40,000 \n",
      "4           1,500,000 \n",
      "5             600,000 \n",
      "6           7,000,000 \n",
      "7           4,912,393 \n",
      "8           2,000,000 \n",
      "9                 -   \n",
      "10          1,700,000 \n",
      "11             40,000 \n",
      "12                -   \n",
      "13                -   \n",
      "14          1,750,000 \n",
      "15                -   \n",
      "16          2,050,000 \n",
      "17             40,000 \n",
      "18            500,000 \n",
      "19                -   \n",
      "20          2,535,000 \n",
      "21          4,462,651 \n",
      "22          1,869,079 \n",
      "23         10,000,000 \n",
      "24          3,000,000 \n",
      "25          3,000,000 \n",
      "26          1,250,000 \n",
      "27         35,000,000 \n",
      "28             50,000 \n",
      "29          1,600,000 \n",
      "             ...      \n",
      "44920         651,000 \n",
      "44921       3,500,000 \n",
      "44922         190,000 \n",
      "44923         100,000 \n",
      "44924         870,000 \n",
      "44925       3,845,100 \n",
      "44926      45,750,000 \n",
      "44927             -   \n",
      "44928       9,000,000 \n",
      "44929       3,384,225 \n",
      "44930         800,000 \n",
      "44931          75,000 \n",
      "44932      12,039,999 \n",
      "44933       2,257,464 \n",
      "44934      38,900,000 \n",
      "44935             -   \n",
      "44936             -   \n",
      "44937       3,805,520 \n",
      "44938     866,550,786 \n",
      "44939      25,000,000 \n",
      "44940      14,750,000 \n",
      "44941      34,275,015 \n",
      "44942      15,398,910 \n",
      "44943       1,510,500 \n",
      "44944       2,686,600 \n",
      "44945         120,000 \n",
      "44946       1,587,301 \n",
      "44947          71,525 \n",
      "44948       9,300,000 \n",
      "44949      45,000,000 \n",
      "Name: no_commas, dtype: object\n"
     ]
    }
   ],
   "source": [
    "crunch[\"no_commas\"] = crunch[\" funding_total_usd \"].replace(\",\",\"\")\n",
    "print(crunch[\"no_commas\"])"
   ]
  },
  {
   "cell_type": "code",
   "execution_count": 5,
   "metadata": {
    "collapsed": false
   },
   "outputs": [],
   "source": [
    "cleaned_funding_total = []\n",
    "for i in crunch[\" funding_total_usd \"]:\n",
    "    i = i.strip().replace(',','').replace('-','0')\n",
    "    i = int(i)\n",
    "    cleaned_funding_total.append(i)\n",
    "crunch[\"clean_funding_total_usd\"]=cleaned_funding_total\n"
   ]
  },
  {
   "cell_type": "code",
   "execution_count": 6,
   "metadata": {
    "collapsed": false
   },
   "outputs": [
    {
     "name": "stdout",
     "output_type": "stream",
     "text": [
      "1108519.0\n"
     ]
    }
   ],
   "source": [
    "type(crunch[\"clean_funding_total_usd\"][0])\n",
    "my_median = crunch[\"clean_funding_total_usd\"].median()\n",
    "print(my_median)\n"
   ]
  },
  {
   "cell_type": "code",
   "execution_count": 7,
   "metadata": {
    "collapsed": false
   },
   "outputs": [
    {
     "name": "stdout",
     "output_type": "stream",
     "text": [
      "2000000.0\n",
      "35\n",
      "78795064652\n"
     ]
    }
   ],
   "source": [
    "new_list = []\n",
    "for i in crunch[\"clean_funding_total_usd\"]:\n",
    "    if i > 0:\n",
    "        new_list.append(i)\n",
    "my_median = np.median(new_list)\n",
    "print(my_median)\n",
    "print(min(new_list))\n",
    "print(max(new_list))"
   ]
  },
  {
   "cell_type": "code",
   "execution_count": 9,
   "metadata": {
    "collapsed": false
   },
   "outputs": [
    {
     "name": "stderr",
     "output_type": "stream",
     "text": [
      "C:\\Users\\USER\\Anaconda2\\lib\\site-packages\\numpy\\lib\\function_base.py:3834: RuntimeWarning: Invalid value encountered in percentile\n",
      "  RuntimeWarning)\n"
     ]
    },
    {
     "data": {
      "text/html": [
       "<div>\n",
       "<table border=\"1\" class=\"dataframe\">\n",
       "  <thead>\n",
       "    <tr style=\"text-align: right;\">\n",
       "      <th></th>\n",
       "      <th>funding_rounds</th>\n",
       "      <th>founded_year</th>\n",
       "      <th>Unnamed: 18</th>\n",
       "      <th>clean_funding_total_usd</th>\n",
       "    </tr>\n",
       "  </thead>\n",
       "  <tbody>\n",
       "    <tr>\n",
       "      <th>count</th>\n",
       "      <td>44950.000000</td>\n",
       "      <td>35226.000000</td>\n",
       "      <td>0.0</td>\n",
       "      <td>4.495000e+04</td>\n",
       "    </tr>\n",
       "    <tr>\n",
       "      <th>mean</th>\n",
       "      <td>1.681135</td>\n",
       "      <td>2007.083461</td>\n",
       "      <td>NaN</td>\n",
       "      <td>1.503854e+07</td>\n",
       "    </tr>\n",
       "    <tr>\n",
       "      <th>std</th>\n",
       "      <td>1.269198</td>\n",
       "      <td>7.522161</td>\n",
       "      <td>NaN</td>\n",
       "      <td>4.037381e+08</td>\n",
       "    </tr>\n",
       "    <tr>\n",
       "      <th>min</th>\n",
       "      <td>1.000000</td>\n",
       "      <td>1900.000000</td>\n",
       "      <td>NaN</td>\n",
       "      <td>0.000000e+00</td>\n",
       "    </tr>\n",
       "    <tr>\n",
       "      <th>25%</th>\n",
       "      <td>1.000000</td>\n",
       "      <td>NaN</td>\n",
       "      <td>NaN</td>\n",
       "      <td>6.798300e+04</td>\n",
       "    </tr>\n",
       "    <tr>\n",
       "      <th>50%</th>\n",
       "      <td>1.000000</td>\n",
       "      <td>NaN</td>\n",
       "      <td>NaN</td>\n",
       "      <td>1.108519e+06</td>\n",
       "    </tr>\n",
       "    <tr>\n",
       "      <th>75%</th>\n",
       "      <td>2.000000</td>\n",
       "      <td>NaN</td>\n",
       "      <td>NaN</td>\n",
       "      <td>7.112273e+06</td>\n",
       "    </tr>\n",
       "    <tr>\n",
       "      <th>max</th>\n",
       "      <td>16.000000</td>\n",
       "      <td>2014.000000</td>\n",
       "      <td>NaN</td>\n",
       "      <td>7.879506e+10</td>\n",
       "    </tr>\n",
       "  </tbody>\n",
       "</table>\n",
       "</div>"
      ],
      "text/plain": [
       "       funding_rounds  founded_year  Unnamed: 18  clean_funding_total_usd\n",
       "count    44950.000000  35226.000000          0.0             4.495000e+04\n",
       "mean         1.681135   2007.083461          NaN             1.503854e+07\n",
       "std          1.269198      7.522161          NaN             4.037381e+08\n",
       "min          1.000000   1900.000000          NaN             0.000000e+00\n",
       "25%          1.000000           NaN          NaN             6.798300e+04\n",
       "50%          1.000000           NaN          NaN             1.108519e+06\n",
       "75%          2.000000           NaN          NaN             7.112273e+06\n",
       "max         16.000000   2014.000000          NaN             7.879506e+10"
      ]
     },
     "execution_count": 9,
     "metadata": {},
     "output_type": "execute_result"
    }
   ],
   "source": [
    "crunch.describe()"
   ]
  },
  {
   "cell_type": "code",
   "execution_count": null,
   "metadata": {
    "collapsed": true
   },
   "outputs": [],
   "source": []
  }
 ],
 "metadata": {
  "anaconda-cloud": {},
  "kernelspec": {
   "display_name": "Python [default]",
   "language": "python",
   "name": "python2"
  },
  "language_info": {
   "codemirror_mode": {
    "name": "ipython",
    "version": 2
   },
   "file_extension": ".py",
   "mimetype": "text/x-python",
   "name": "python",
   "nbconvert_exporter": "python",
   "pygments_lexer": "ipython2",
   "version": "2.7.12"
  }
 },
 "nbformat": 4,
 "nbformat_minor": 1
}
