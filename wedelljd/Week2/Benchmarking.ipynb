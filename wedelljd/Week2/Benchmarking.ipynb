{
 "cells": [
  {
   "cell_type": "code",
   "execution_count": 22,
   "metadata": {
    "collapsed": true
   },
   "outputs": [],
   "source": [
    "import numpy\n",
    "import pandas\n",
    "import datetime"
   ]
  },
  {
   "cell_type": "code",
   "execution_count": 30,
   "metadata": {
    "collapsed": false
   },
   "outputs": [
    {
     "name": "stdout",
     "output_type": "stream",
     "text": [
      "(datetime.datetime(2016, 12, 8, 14, 20, 11, 864000), datetime.datetime(2016, 12, 8, 14, 20, 11, 867000))\n",
      "0:00:00.003000\n",
      "(datetime.datetime(2016, 12, 8, 14, 20, 11, 869000), datetime.datetime(2016, 12, 8, 14, 20, 14, 359000))\n",
      "0:00:02.490000\n"
     ]
    }
   ],
   "source": [
    "x = pandas.Series(range(1000))\n",
    "\n",
    "start_time = datetime.datetime.now()\n",
    "for i in range(10000):\n",
    "    x.std\n",
    "    x.std\n",
    "    x.std\n",
    "end_time = datetime.datetime.now()\n",
    "\n",
    "print(start_time, end_time)\n",
    "print(end_time-start_time)\n",
    "x = range(1000)\n",
    "start_time = datetime.datetime.now()\n",
    "for i in range(10000):\n",
    "    numpy.std(x)\n",
    "    numpy.std(x)\n",
    "    numpy.std(x)\n",
    "\n",
    "end_time = datetime.datetime.now()\n",
    "\n",
    "print(start_time, end_time)\n",
    "print(end_time-start_time)"
   ]
  },
  {
   "cell_type": "code",
   "execution_count": null,
   "metadata": {
    "collapsed": true
   },
   "outputs": [],
   "source": []
  }
 ],
 "metadata": {
  "anaconda-cloud": {},
  "kernelspec": {
   "display_name": "Python [default]",
   "language": "python",
   "name": "python2"
  },
  "language_info": {
   "codemirror_mode": {
    "name": "ipython",
    "version": 2
   },
   "file_extension": ".py",
   "mimetype": "text/x-python",
   "name": "python",
   "nbconvert_exporter": "python",
   "pygments_lexer": "ipython2",
   "version": "2.7.12"
  }
 },
 "nbformat": 4,
 "nbformat_minor": 1
}
