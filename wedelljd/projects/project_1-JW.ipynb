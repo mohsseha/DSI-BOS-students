{
 "cells": [
  {
   "cell_type": "markdown",
   "metadata": {},
   "source": [
    "# Project 1\n",
    "\n",
    "## Step 1: Open the `sat_scores.csv` file. Investigate the data, and answer the questions below.\n"
   ]
  },
  {
   "cell_type": "code",
   "execution_count": 1,
   "metadata": {
    "collapsed": false
   },
   "outputs": [],
   "source": [
    "###import needed packages:\n",
    "import numpy as np\n",
    "import matplotlib.pyplot as plt\n",
    "import csv\n",
    "#import pyplot.pyplot as py\n",
    "import seaborn as sns\n",
    "import numpy as n"
   ]
  },
  {
   "cell_type": "markdown",
   "metadata": {},
   "source": [
    "##### 1. What does the data describe?\n",
    "\n",
    "The data shows Math and Verbal scores as well as participation rates for the SAT by state"
   ]
  },
  {
   "cell_type": "markdown",
   "metadata": {},
   "source": [
    "##### 2. Does the data look complete? Are there any obvious issues with the observations?\n",
    "\n",
    "The data looks complete, no missing datapoints. There is an \"All\" row at the end."
   ]
  },
  {
   "cell_type": "markdown",
   "metadata": {},
   "source": [
    "##### 3. Create a data dictionary for the dataset."
   ]
  },
  {
   "cell_type": "code",
   "execution_count": 2,
   "metadata": {
    "collapsed": false
   },
   "outputs": [],
   "source": [
    "data_dictionary = {}"
   ]
  },
  {
   "cell_type": "markdown",
   "metadata": {},
   "source": [
    "## Step 2: Load the data."
   ]
  },
  {
   "cell_type": "markdown",
   "metadata": {},
   "source": [
    "##### 4. Load the data into a list of lists"
   ]
  },
  {
   "cell_type": "code",
   "execution_count": 3,
   "metadata": {
    "collapsed": false,
    "scrolled": true
   },
   "outputs": [],
   "source": [
    "df = []\n",
    "with open(\"C:/Users/USER/DSI-course-materials/curriculum/03-projects/01-projects-weekly/project-01/assets/sat_scores.csv\") as f:\n",
    "    reader = csv.reader(f)\n",
    "    for i in reader:\n",
    "        df.append(i)\n"
   ]
  },
  {
   "cell_type": "markdown",
   "metadata": {},
   "source": [
    "##### 5. Print the data "
   ]
  },
  {
   "cell_type": "code",
   "execution_count": 4,
   "metadata": {
    "collapsed": false
   },
   "outputs": [
    {
     "name": "stdout",
     "output_type": "stream",
     "text": [
      "[['State', 'Rate', 'Verbal', 'Math'], ['CT', '82', '509', '510'], ['NJ', '81', '499', '513'], ['MA', '79', '511', '515'], ['NY', '77', '495', '505'], ['NH', '72', '520', '516'], ['RI', '71', '501', '499'], ['PA', '71', '500', '499'], ['VT', '69', '511', '506'], ['ME', '69', '506', '500'], ['VA', '68', '510', '501'], ['DE', '67', '501', '499'], ['MD', '65', '508', '510'], ['NC', '65', '493', '499'], ['GA', '63', '491', '489'], ['IN', '60', '499', '501'], ['SC', '57', '486', '488'], ['DC', '56', '482', '474'], ['OR', '55', '526', '526'], ['FL', '54', '498', '499'], ['WA', '53', '527', '527'], ['TX', '53', '493', '499'], ['HI', '52', '485', '515'], ['AK', '51', '514', '510'], ['CA', '51', '498', '517'], ['AZ', '34', '523', '525'], ['NV', '33', '509', '515'], ['CO', '31', '539', '542'], ['OH', '26', '534', '439'], ['MT', '23', '539', '539'], ['WV', '18', '527', '512'], ['ID', '17', '543', '542'], ['TN', '13', '562', '553'], ['NM', '13', '551', '542'], ['IL', '12', '576', '589'], ['KY', '12', '550', '550'], ['WY', '11', '547', '545'], ['MI', '11', '561', '572'], ['MN', '9', '580', '589'], ['KS', '9', '577', '580'], ['AL', '9', '559', '554'], ['NE', '8', '562', '568'], ['OK', '8', '567', '561'], ['MO', '8', '577', '577'], ['LA', '7', '564', '562'], ['WI', '6', '584', '596'], ['AR', '6', '562', '550'], ['UT', '5', '575', '570'], ['IA', '5', '593', '603'], ['SD', '4', '577', '582'], ['ND', '4', '592', '599'], ['MS', '4', '566', '551'], ['All', '45', '506', '514']]\n"
     ]
    }
   ],
   "source": [
    "print(df)"
   ]
  },
  {
   "cell_type": "markdown",
   "metadata": {},
   "source": [
    "##### 6. Extract a list of the labels from the data, and remove them from the data."
   ]
  },
  {
   "cell_type": "code",
   "execution_count": 5,
   "metadata": {
    "collapsed": false
   },
   "outputs": [],
   "source": [
    "headers = df[0] #creates a list of column headers\n",
    "data = df[1:len(df)-1] #removed header row and total row from the dataset"
   ]
  },
  {
   "cell_type": "markdown",
   "metadata": {},
   "source": [
    "##### 7. Create a list of State names extracted from the data. (Hint: use the list of labels to index on the State column)"
   ]
  },
  {
   "cell_type": "code",
   "execution_count": 6,
   "metadata": {
    "collapsed": false
   },
   "outputs": [
    {
     "name": "stdout",
     "output_type": "stream",
     "text": [
      "['CT', 'NJ', 'MA', 'NY', 'NH', 'RI', 'PA', 'VT', 'ME', 'VA', 'DE', 'MD', 'NC', 'GA', 'IN', 'SC', 'DC', 'OR', 'FL', 'WA', 'TX', 'HI', 'AK', 'CA', 'AZ', 'NV', 'CO', 'OH', 'MT', 'WV', 'ID', 'TN', 'NM', 'IL', 'KY', 'WY', 'MI', 'MN', 'KS', 'AL', 'NE', 'OK', 'MO', 'LA', 'WI', 'AR', 'UT', 'IA', 'SD', 'ND', 'MS']\n"
     ]
    }
   ],
   "source": [
    "state_names = []\n",
    "for i in data:\n",
    "    state_names.append(i[headers.index(\"State\")])\n",
    "print(state_names)"
   ]
  },
  {
   "cell_type": "markdown",
   "metadata": {},
   "source": [
    "##### 8. Print the types of each column"
   ]
  },
  {
   "cell_type": "code",
   "execution_count": 7,
   "metadata": {
    "collapsed": false
   },
   "outputs": [
    {
     "name": "stdout",
     "output_type": "stream",
     "text": [
      "<type 'str'>\n",
      "<type 'str'>\n",
      "<type 'str'>\n",
      "<type 'str'>\n"
     ]
    }
   ],
   "source": [
    "for i in data[0]:\n",
    "    print(type(i))"
   ]
  },
  {
   "cell_type": "markdown",
   "metadata": {},
   "source": [
    "##### 9. Do any types need to be reassigned? If so, go ahead and do it."
   ]
  },
  {
   "cell_type": "code",
   "execution_count": 8,
   "metadata": {
    "collapsed": false
   },
   "outputs": [
    {
     "name": "stdout",
     "output_type": "stream",
     "text": [
      "<type 'str'>\n",
      "<type 'int'>\n",
      "<type 'int'>\n",
      "<type 'int'>\n"
     ]
    }
   ],
   "source": [
    "for i in data:\n",
    "    i[1] = int(i[1])\n",
    "    i[2] = int(i[2])\n",
    "    i[3] = int(i[3])\n",
    "    \n",
    "for i in data[0]:\n",
    "    print(type(i))"
   ]
  },
  {
   "cell_type": "markdown",
   "metadata": {},
   "source": [
    "##### 10. Create a dictionary for each column mapping the State to its respective value for that column. "
   ]
  },
  {
   "cell_type": "code",
   "execution_count": 9,
   "metadata": {
    "collapsed": false
   },
   "outputs": [
    {
     "name": "stdout",
     "output_type": "stream",
     "text": [
      "{'WA': 53, 'DE': 67, 'DC': 56, 'WI': 6, 'WV': 18, 'HI': 52, 'FL': 54, 'WY': 11, 'NH': 72, 'NJ': 81, 'NM': 13, 'TX': 53, 'LA': 7, 'NC': 65, 'ND': 4, 'NE': 8, 'TN': 13, 'NY': 77, 'PA': 71, 'RI': 71, 'NV': 33, 'VA': 68, 'CO': 31, 'AK': 51, 'AL': 9, 'AR': 6, 'VT': 69, 'IL': 12, 'GA': 63, 'IN': 60, 'IA': 5, 'OK': 8, 'AZ': 34, 'CA': 51, 'ID': 17, 'CT': 82, 'ME': 69, 'MD': 65, 'MA': 79, 'OH': 26, 'UT': 5, 'MO': 8, 'MN': 9, 'MI': 11, 'KS': 9, 'MT': 23, 'MS': 4, 'SC': 57, 'KY': 12, 'OR': 55, 'SD': 4}\n",
      "{'WA': 527, 'DE': 501, 'DC': 482, 'WI': 584, 'WV': 527, 'HI': 485, 'FL': 498, 'WY': 547, 'NH': 520, 'NJ': 499, 'NM': 551, 'TX': 493, 'LA': 564, 'NC': 493, 'ND': 592, 'NE': 562, 'TN': 562, 'NY': 495, 'PA': 500, 'RI': 501, 'NV': 509, 'VA': 510, 'CO': 539, 'AK': 514, 'AL': 559, 'AR': 562, 'VT': 511, 'IL': 576, 'GA': 491, 'IN': 499, 'IA': 593, 'OK': 567, 'AZ': 523, 'CA': 498, 'ID': 543, 'CT': 509, 'ME': 506, 'MD': 508, 'MA': 511, 'OH': 534, 'UT': 575, 'MO': 577, 'MN': 580, 'MI': 561, 'KS': 577, 'MT': 539, 'MS': 566, 'SC': 486, 'KY': 550, 'OR': 526, 'SD': 577}\n",
      "{'WA': 527, 'DE': 499, 'DC': 474, 'WI': 596, 'WV': 512, 'HI': 515, 'FL': 499, 'WY': 545, 'NH': 516, 'NJ': 513, 'NM': 542, 'TX': 499, 'LA': 562, 'NC': 499, 'ND': 599, 'NE': 568, 'TN': 553, 'NY': 505, 'PA': 499, 'RI': 499, 'NV': 515, 'VA': 501, 'CO': 542, 'AK': 510, 'AL': 554, 'AR': 550, 'VT': 506, 'IL': 589, 'GA': 489, 'IN': 501, 'IA': 603, 'OK': 561, 'AZ': 525, 'CA': 517, 'ID': 542, 'CT': 510, 'ME': 500, 'MD': 510, 'MA': 515, 'OH': 439, 'UT': 570, 'MO': 577, 'MN': 589, 'MI': 572, 'KS': 580, 'MT': 539, 'MS': 551, 'SC': 488, 'KY': 550, 'OR': 526, 'SD': 582}\n"
     ]
    }
   ],
   "source": [
    "state_rate = {}\n",
    "state_verbal = {}\n",
    "state_math = {}\n",
    "\n",
    "#for each row in the data, populate dictionaries with state's key:value pair\n",
    "for i in data:\n",
    "    state_rate[i[0]] = i[headers.index(\"Rate\")]\n",
    "    state_verbal[i[0]] = i[headers.index(\"Verbal\")]\n",
    "    state_math[i[0]] = i[headers.index(\"Math\")]\n",
    "\n",
    "print(state_rate)\n",
    "print(state_verbal)\n",
    "print(state_math)"
   ]
  },
  {
   "cell_type": "markdown",
   "metadata": {},
   "source": [
    "##### 11. Create a dictionary with the values for each of the numeric columns"
   ]
  },
  {
   "cell_type": "code",
   "execution_count": 10,
   "metadata": {
    "collapsed": false
   },
   "outputs": [],
   "source": [
    "#Convert data into array so it can be transposed\n",
    "data = np.array(data)\n",
    "\n",
    "#transpose data so each item is the full set of data for a given data column\n",
    "transposed_data = np.transpose(data)\n",
    "\n",
    "#populates dictionary by header\n",
    "for i in headers:\n",
    "    data_dictionary[i] = transposed_data[headers.index(i)][1:] #populates dictionary with keys and values\n"
   ]
  },
  {
   "cell_type": "code",
   "execution_count": 11,
   "metadata": {
    "collapsed": false,
    "scrolled": true
   },
   "outputs": [
    {
     "name": "stdout",
     "output_type": "stream",
     "text": [
      "{'Math': array(['513', '515', '505', '516', '499', '499', '506', '500', '501',\n",
      "       '499', '510', '499', '489', '501', '488', '474', '526', '499',\n",
      "       '527', '499', '515', '510', '517', '525', '515', '542', '439',\n",
      "       '539', '512', '542', '553', '542', '589', '550', '545', '572',\n",
      "       '589', '580', '554', '568', '561', '577', '562', '596', '550',\n",
      "       '570', '603', '582', '599', '551'], \n",
      "      dtype='|S3'), 'State': array(['NJ', 'MA', 'NY', 'NH', 'RI', 'PA', 'VT', 'ME', 'VA', 'DE', 'MD',\n",
      "       'NC', 'GA', 'IN', 'SC', 'DC', 'OR', 'FL', 'WA', 'TX', 'HI', 'AK',\n",
      "       'CA', 'AZ', 'NV', 'CO', 'OH', 'MT', 'WV', 'ID', 'TN', 'NM', 'IL',\n",
      "       'KY', 'WY', 'MI', 'MN', 'KS', 'AL', 'NE', 'OK', 'MO', 'LA', 'WI',\n",
      "       'AR', 'UT', 'IA', 'SD', 'ND', 'MS'], \n",
      "      dtype='|S3'), 'Rate': array(['81', '79', '77', '72', '71', '71', '69', '69', '68', '67', '65',\n",
      "       '65', '63', '60', '57', '56', '55', '54', '53', '53', '52', '51',\n",
      "       '51', '34', '33', '31', '26', '23', '18', '17', '13', '13', '12',\n",
      "       '12', '11', '11', '9', '9', '9', '8', '8', '8', '7', '6', '6', '5',\n",
      "       '5', '4', '4', '4'], \n",
      "      dtype='|S3'), 'Verbal': array(['499', '511', '495', '520', '501', '500', '511', '506', '510',\n",
      "       '501', '508', '493', '491', '499', '486', '482', '526', '498',\n",
      "       '527', '493', '485', '514', '498', '523', '509', '539', '534',\n",
      "       '539', '527', '543', '562', '551', '576', '550', '547', '561',\n",
      "       '580', '577', '559', '562', '567', '577', '564', '584', '562',\n",
      "       '575', '593', '577', '592', '566'], \n",
      "      dtype='|S3')}\n"
     ]
    }
   ],
   "source": [
    "print(data_dictionary)"
   ]
  },
  {
   "cell_type": "code",
   "execution_count": 12,
   "metadata": {
    "collapsed": false
   },
   "outputs": [],
   "source": [
    "#The values for Math, Rate and Verbal are strings, they need to be converted\n",
    "\n",
    "#create list of keys for columns I want to convert \n",
    "convert_keys = [\"Math\", \"Rate\",\"Verbal\"]\n",
    "\n",
    "#loops through columns and converts each value to int\n",
    "for j in convert_keys:\n",
    "    data_dictionary[j] = [int(i) for i in  data_dictionary[j]]"
   ]
  },
  {
   "cell_type": "code",
   "execution_count": 13,
   "metadata": {
    "collapsed": false
   },
   "outputs": [
    {
     "name": "stdout",
     "output_type": "stream",
     "text": [
      "{'Rate': [81, 79, 77, 72, 71, 71, 69, 69, 68, 67, 65, 65, 63, 60, 57, 56, 55, 54, 53, 53, 52, 51, 51, 34, 33, 31, 26, 23, 18, 17, 13, 13, 12, 12, 11, 11, 9, 9, 9, 8, 8, 8, 7, 6, 6, 5, 5, 4, 4, 4], 'Verbal': [499, 511, 495, 520, 501, 500, 511, 506, 510, 501, 508, 493, 491, 499, 486, 482, 526, 498, 527, 493, 485, 514, 498, 523, 509, 539, 534, 539, 527, 543, 562, 551, 576, 550, 547, 561, 580, 577, 559, 562, 567, 577, 564, 584, 562, 575, 593, 577, 592, 566], 'Math': [513, 515, 505, 516, 499, 499, 506, 500, 501, 499, 510, 499, 489, 501, 488, 474, 526, 499, 527, 499, 515, 510, 517, 525, 515, 542, 439, 539, 512, 542, 553, 542, 589, 550, 545, 572, 589, 580, 554, 568, 561, 577, 562, 596, 550, 570, 603, 582, 599, 551]}\n"
     ]
    }
   ],
   "source": [
    "\n",
    "numeric_keys= [\"Rate\",\"Math\",\"Verbal\"]\n",
    "numeric_dict = {}\n",
    "for i in numeric_keys:\n",
    "    numeric_dict[i] = data_dictionary[i]\n",
    "print(numeric_dict)"
   ]
  },
  {
   "cell_type": "markdown",
   "metadata": {},
   "source": [
    "## Step 3: Describe the data"
   ]
  },
  {
   "cell_type": "markdown",
   "metadata": {},
   "source": [
    "##### 12. Print the min and max of each column"
   ]
  },
  {
   "cell_type": "code",
   "execution_count": 14,
   "metadata": {
    "collapsed": false
   },
   "outputs": [
    {
     "name": "stdout",
     "output_type": "stream",
     "text": [
      "('Rate', 4, 81)\n",
      "('Math', 439, 603)\n",
      "('Verbal', 482, 593)\n"
     ]
    }
   ],
   "source": [
    "for i in numeric_keys:\n",
    "    print(i, min(numeric_dict[i]), max(numeric_dict[i]))"
   ]
  },
  {
   "cell_type": "markdown",
   "metadata": {},
   "source": [
    "##### 13. Write a function using only list comprehensions, no loops, to compute Standard Deviation. Print the Standard Deviation of each numeric column."
   ]
  },
  {
   "cell_type": "code",
   "execution_count": 15,
   "metadata": {
    "collapsed": false
   },
   "outputs": [
    {
     "name": "stdout",
     "output_type": "stream",
     "text": [
      "36.1530303018\n",
      "36.1530303018\n"
     ]
    }
   ],
   "source": [
    "def list_comp_std(my_list):\n",
    "    my_mean = np.mean(my_list)    #find the mean\n",
    "    mean_diff_list = my_list - my_mean    #make new list of difference between mean and each element\n",
    "    diff_squared_list = mean_diff_list**2 #square the difference list\n",
    "    avg_diff_sq_list = np.mean(diff_squared_list)   #take the average of the squares\n",
    "    std = avg_diff_sq_list**0.5    #take sq root of the average to get STD\n",
    "    return(std)\n",
    "\n",
    "print(list_comp_std(numeric_dict[\"Math\"]))\n",
    "\n",
    "#compare answer vs. numpy std function\n",
    "print(np.std(numeric_dict[\"Math\"]))"
   ]
  },
  {
   "cell_type": "markdown",
   "metadata": {},
   "source": [
    "## Step 4: Visualize the data"
   ]
  },
  {
   "cell_type": "markdown",
   "metadata": {
    "collapsed": true
   },
   "source": [
    "##### 14. Using MatPlotLib and PyPlot, plot the distribution of the Rate using histograms."
   ]
  },
  {
   "cell_type": "code",
   "execution_count": 16,
   "metadata": {
    "collapsed": false
   },
   "outputs": [
    {
     "data": {
      "image/png": "[encoded data removed]",
      "text/plain": [
       "<matplotlib.figure.Figure at 0xa856240>"
      ]
     },
     "metadata": {},
     "output_type": "display_data"
    }
   ],
   "source": [
    "plt.hist(numeric_dict[\"Rate\"])\n",
    "plt.show()"
   ]
  },
  {
   "cell_type": "markdown",
   "metadata": {},
   "source": [
    "##### 15. Plot the Math distribution"
   ]
  },
  {
   "cell_type": "code",
   "execution_count": 17,
   "metadata": {
    "collapsed": false
   },
   "outputs": [
    {
     "data": {
      "image/png": "[encoded data removed]",
      "text/plain": [
       "<matplotlib.figure.Figure at 0xbbef128>"
      ]
     },
     "metadata": {},
     "output_type": "display_data"
    }
   ],
   "source": [
    "plt.hist(numeric_dict[\"Math\"])\n",
    "plt.show()"
   ]
  },
  {
   "cell_type": "markdown",
   "metadata": {},
   "source": [
    "##### 16. Plot the Verbal distribution"
   ]
  },
  {
   "cell_type": "code",
   "execution_count": 18,
   "metadata": {
    "collapsed": false
   },
   "outputs": [
    {
     "data": {
      "image/png": "[encoded data removed]",
      "text/plain": [
       "<matplotlib.figure.Figure at 0xbc3f588>"
      ]
     },
     "metadata": {},
     "output_type": "display_data"
    }
   ],
   "source": [
    "plt.hist(numeric_dict[\"Verbal\"])\n",
    "plt.show()"
   ]
  },
  {
   "cell_type": "markdown",
   "metadata": {},
   "source": [
    "##### 17. What is the typical assumption for data distribution?"
   ]
  },
  {
   "cell_type": "code",
   "execution_count": 19,
   "metadata": {
    "collapsed": false
   },
   "outputs": [],
   "source": [
    "#That it is a normal distribution"
   ]
  },
  {
   "cell_type": "markdown",
   "metadata": {},
   "source": [
    "##### 18. Does that distribution hold true for our data?"
   ]
  },
  {
   "cell_type": "code",
   "execution_count": 20,
   "metadata": {
    "collapsed": false
   },
   "outputs": [],
   "source": [
    "#No it does not"
   ]
  },
  {
   "cell_type": "markdown",
   "metadata": {},
   "source": [
    "##### 19. Plot some scatterplots. **BONUS**: Use a PyPlot `figure` to present multiple plots at once."
   ]
  },
  {
   "cell_type": "code",
   "execution_count": 21,
   "metadata": {
    "collapsed": false
   },
   "outputs": [
    {
     "data": {
      "image/png": "[encoded data removed]",
      "text/plain": [
       "<matplotlib.figure.Figure at 0xc01d780>"
      ]
     },
     "metadata": {},
     "output_type": "display_data"
    }
   ],
   "source": [
    "fig = plt.figure()#figsize=(24,24))\n",
    "#add subplots to 2x2 grid:\n",
    "ax1 = fig.add_subplot(221)\n",
    "ax2 = fig.add_subplot(222)\n",
    "ax3 = fig.add_subplot(223)\n",
    "ax4 = fig.add_subplot(224)\n",
    "\n",
    "#plot scatters for each axis:\n",
    "ax1.scatter(numeric_dict[\"Math\"], numeric_dict[\"Verbal\"])\n",
    "ax1.set_xlabel(\"Math Score\")\n",
    "ax1.set_ylabel(\"Verbal Score\")\n",
    "ax1.set_xlim([0,800])\n",
    "ax1.set_ylim([0,800])\n",
    "ax1.set_title(np.corrcoef(numeric_dict[\"Math\"], numeric_dict[\"Verbal\"]))\n",
    "\n",
    "ax2.scatter(numeric_dict[\"Verbal\"], numeric_dict[\"Math\"])\n",
    "ax2.set_xlabel(\"Verbal Score\")\n",
    "ax2.set_ylabel(\"Math Score\")\n",
    "ax2.set_xlim([0,800])\n",
    "ax2.set_ylim([0,800])\n",
    "ax2.set_title(np.corrcoef(numeric_dict[\"Verbal\"], numeric_dict[\"Math\"]))\n",
    "\n",
    "ax3.scatter(numeric_dict[\"Math\"], numeric_dict[\"Rate\"])\n",
    "ax3.set_xlabel(\"Math Score\")\n",
    "ax3.set_ylabel(\"Participation Rate\")\n",
    "ax4.scatter(numeric_dict[\"Verbal\"], numeric_dict[\"Rate\"])\n",
    "ax4.set_xlabel(\"Verbal Score\")\n",
    "ax4.set_ylabel(\"Participation Rate\")\n",
    "fig.tight_layout()\n",
    "plt.show()"
   ]
  },
  {
   "cell_type": "markdown",
   "metadata": {},
   "source": [
    "##### 20. Are there any interesting relationships to note?\n",
    "\n",
    "It seems the schools with low participation rates had better scores.  This suggests the students taking it are taking it for a reason, perhaps they know they will do well.\n",
    "\n",
    "Interesting that as math scores increase, verbal scores increase significantly while as verbal scores increase math does not increase nearly as much"
   ]
  },
  {
   "cell_type": "markdown",
   "metadata": {},
   "source": [
    "##### 21. Create box plots for each variable. "
   ]
  },
  {
   "cell_type": "code",
   "execution_count": 22,
   "metadata": {
    "collapsed": false
   },
   "outputs": [
    {
     "data": {
      "image/png": "[encoded data removed]",
      "text/plain": [
       "<matplotlib.figure.Figure at 0xbf2c048>"
      ]
     },
     "metadata": {},
     "output_type": "display_data"
    }
   ],
   "source": [
    "fig = plt.figure(figsize=(15,5))\n",
    "#fig.tight_layout()\n",
    "#add subplots to 3x1 grid:\n",
    "ax1 = fig.add_subplot(131)\n",
    "ax2 = fig.add_subplot(132)\n",
    "ax3 = fig.add_subplot(133)\n",
    "\n",
    "ax1.boxplot(numeric_dict[\"Rate\"])\n",
    "\n",
    "ax2.boxplot(numeric_dict[\"Math\"])\n",
    "ax2.set_ylim([400,620])\n",
    "ax3.boxplot(numeric_dict[\"Verbal\"])\n",
    "ax3.set_ylim([400,620])\n",
    "\n",
    "#plt.subplots_adjust(left = 0.000001)\n",
    "plt.show()"
   ]
  },
  {
   "cell_type": "markdown",
   "metadata": {},
   "source": [
    "##### BONUS: Using Tableau, create a heat map for each variable using a map of the US. "
   ]
  },
  {
   "cell_type": "code",
   "execution_count": 23,
   "metadata": {
    "collapsed": false
   },
   "outputs": [],
   "source": [
    "#See Tableau!"
   ]
  },
  {
   "cell_type": "code",
   "execution_count": 25,
   "metadata": {
    "collapsed": false
   },
   "outputs": [
    {
     "name": "stdout",
     "output_type": "stream",
     "text": [
      "2016-12-06 10:31:06.011000\n",
      "2016-12-06 10:31:06.114000\n",
      "0:00:00.103000\n",
      "2016-12-06 10:31:06.114000\n",
      "2016-12-06 10:31:07.121000\n",
      "0:00:01.007000\n"
     ]
    }
   ],
   "source": [
    "## this cell just used to speed test this!\n",
    "import pandas\n",
    "import datetime\n",
    "pdf = pandas.read_csv(\"C:/Users/USER/DSI-course-materials/curriculum/03-projects/01-projects-weekly/project-01/assets/sat_scores.csv\")\n",
    "\n",
    "\n",
    "start_time = datetime.datetime.now()\n",
    "for i in range(10000):\n",
    "    pdf[\"Rate\"].std\n",
    "    pdf[\"Rate\"].std\n",
    "    pdf[\"Rate\"].std\n",
    "end_time = datetime.datetime.now()\n",
    "\n",
    "print(start_time)\n",
    "print(end_time)\n",
    "print(end_time - start_time)\n",
    "\n",
    "\n",
    "start_time = datetime.datetime.now()\n",
    "for i in range(10000):\n",
    "    np.std(numeric_dict[\"Rate\"])\n",
    "    np.std(numeric_dict[\"Rate\"])\n",
    "    np.std(numeric_dict[\"Rate\"])\n",
    "end_time = datetime.datetime.now()\n",
    "\n",
    "print(start_time)\n",
    "print(end_time)\n",
    "print(end_time - start_time)\n"
   ]
  },
  {
   "cell_type": "code",
   "execution_count": null,
   "metadata": {
    "collapsed": true
   },
   "outputs": [],
   "source": []
  },
  {
   "cell_type": "code",
   "execution_count": null,
   "metadata": {
    "collapsed": true
   },
   "outputs": [],
   "source": []
  },
  {
   "cell_type": "code",
   "execution_count": null,
   "metadata": {
    "collapsed": true
   },
   "outputs": [],
   "source": []
  }
 ],
 "metadata": {
  "anaconda-cloud": {},
  "kernelspec": {
   "display_name": "Python [default]",
   "language": "python",
   "name": "python2"
  },
  "language_info": {
   "codemirror_mode": {
    "name": "ipython",
    "version": 2
   },
   "file_extension": ".py",
   "mimetype": "text/x-python",
   "name": "python",
   "nbconvert_exporter": "python",
   "pygments_lexer": "ipython2",
   "version": "2.7.12"
  }
 },
 "nbformat": 4,
 "nbformat_minor": 0
}
