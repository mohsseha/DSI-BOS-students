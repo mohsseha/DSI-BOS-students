{
 "cells": [
  {
   "cell_type": "markdown",
   "metadata": {},
   "source": [
    "Discussing P-Values:\n",
    "\n",
    "Assumptions:\n",
    "\n",
    "    Mean price of coffee: $2.00\n",
    "    \n",
    "    Std of coffee price variation: $0.15\n",
    "    \n",
    "    You want to be 90% confident you did NOT overpay\n",
    "    \n",
    "    We paid $2.20 for our cup of coffee"
   ]
  },
  {
   "cell_type": "markdown",
   "metadata": {},
   "source": [
    "We use a Z-table to look up the number of deviations that gives us 90% confidence\n",
    "\n",
    "The Z-value is 1.285 standard deviations\n",
    "\n",
    "If our observed price of $2.20 is GREATER than the mean price plus 1.285 std, then we can REJECT the null hypothesis, and that we overpaid for the coffee.\n",
    "\n",
    "The mean plus 1.285std is our 'critical value', or alpha.\n",
    "\n",
    "Let's do the math!"
   ]
  },
  {
   "cell_type": "code",
   "execution_count": 10,
   "metadata": {
    "collapsed": false
   },
   "outputs": [
    {
     "name": "stdout",
     "output_type": "stream",
     "text": [
      "(2.2, 2.1922327348316899)\n",
      "We are 90% sure that we over-paid\n"
     ]
    }
   ],
   "source": [
    "import scipy.stats as st\n",
    "\n",
    "confidence_interval = 0.90\n",
    "observed_price = 2.20\n",
    "our_mean = 2.00\n",
    "our_std = 0.15\n",
    "alpha = our_mean + (st.norm.ppf(confidence_interval)*our_std)\n",
    "\n",
    "print(observed_price, alpha)\n",
    "\n",
    "if observed_price > alpha:\n",
    "    print(\"We are \" + str(int(confidence_interval*100)) + \"% sure that we over-paid\")\n",
    "else:\n",
    "    print(\"We cannot confidently say that we over-paid, we cannot confidently reject the NULL hypothesis\")"
   ]
  },
  {
   "cell_type": "code",
   "execution_count": null,
   "metadata": {
    "collapsed": true
   },
   "outputs": [],
   "source": []
  }
 ],
 "metadata": {
  "anaconda-cloud": {},
  "kernelspec": {
   "display_name": "Python [default]",
   "language": "python",
   "name": "python2"
  },
  "language_info": {
   "codemirror_mode": {
    "name": "ipython",
    "version": 2
   },
   "file_extension": ".py",
   "mimetype": "text/x-python",
   "name": "python",
   "nbconvert_exporter": "python",
   "pygments_lexer": "ipython2",
   "version": "2.7.12"
  }
 },
 "nbformat": 4,
 "nbformat_minor": 1
}
