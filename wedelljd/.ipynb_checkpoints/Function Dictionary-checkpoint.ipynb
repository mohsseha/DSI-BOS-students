{
 "cells": [
  {
   "cell_type": "code",
   "execution_count": 1,
   "metadata": {
    "collapsed": true
   },
   "outputs": [],
   "source": [
    "import pandas as pd"
   ]
  },
  {
   "cell_type": "code",
   "execution_count": 26,
   "metadata": {
    "collapsed": false
   },
   "outputs": [
    {
     "name": "stdout",
     "output_type": "stream",
     "text": [
      "{'pearsonr (from scipy.stats)': 'Finds Pearson R-value', 'np.std() (from numpy)': 'Used to find standard deviation of a list or group of values', '.value_counts()': 'shows counts of each unique value within a column', '.unique()': 'gives all unique values for a column', 'np.mean()': 'Used to find average of a list or group of values', 'fillna (from pandas)': 'This is used to fill null values in a column \\n\\t DF.fillna(<fill value>)', 'isnull() (from pandas)': 'Can be used to check if values are NULL, returns True/False', 'fig = plt.figure(figsize[])': 'Adds figure to plot for plotting multiple graphs at once', 'fig.add_subplot(###)': 'Adds plotting areas, numbers in parenthesis describes positioning of sub-plot', 'spearmanr (from scipy.stats)': 'Finds Spearman R-Value'}\n",
      "                                                                              0\n",
      "pearsonr (from scipy.stats)                               Finds Pearson R-value\n",
      "np.std() (from numpy)         Used to find standard deviation of a list or g...\n",
      ".value_counts()               shows counts of each unique value within a column\n",
      ".unique()                                  gives all unique values for a column\n",
      "np.mean()                     Used to find average of a list or group of values\n",
      "fillna (from pandas)          This is used to fill null values in a column \\...\n",
      "isnull() (from pandas)        Can be used to check if values are NULL, retur...\n",
      "fig = plt.figure(figsize[])   Adds figure to plot for plotting multiple grap...\n",
      "fig.add_subplot(###)          Adds plotting areas, numbers in parenthesis de...\n",
      "spearmanr (from scipy.stats)                             Finds Spearman R-Value\n"
     ]
    }
   ],
   "source": [
    "my_function_dictionary = {}\n",
    "\n",
    "my_function_dictionary[\"fillna (from pandas)\"] = \"This is used to fill null values in a column \\n\\t DF.fillna(<fill value>)\"\n",
    "my_function_dictionary[\"isnull() (from pandas)\"] = \"Can be used to check if values are NULL, returns True/False\"\n",
    "my_function_dictionary[\"np.std() (from numpy)\"] = \"Used to find standard deviation of a list or group of values\"\n",
    "my_function_dictionary[\"np.mean()\"] = \"Used to find average of a list or group of values\"\n",
    "my_function_dictionary[\"pearsonr (from scipy.stats)\"] = \"Finds Pearson R-value\"\n",
    "my_function_dictionary[\"spearmanr (from scipy.stats)\"] = \"Finds Spearman R-Value\"\n",
    "my_function_dictionary[\"fig = plt.figure(figsize[])\"] = \"Adds figure to plot for plotting multiple graphs at once\"\n",
    "my_function_dictionary[\"fig.add_subplot(###)\"] = \"Adds plotting areas, numbers in parenthesis describes positioning of sub-plot\"\n",
    "my_function_dictionary[\".unique()\"] = \"gives all unique values for a column\"\n",
    "my_function_dictionary[\".value_counts()\"] = \"shows counts of each unique value within a column\"\n",
    "my_function_dictionary[\"using dir(<object name>)\"] = \"shows user what methods are available for an object or function\"\n",
    "my_function_dictionary[\".unstack()\"] = \"method for pandas pivot table, moves groups to column??\"\n",
    "my_function_dictionary[\".ix\"] = \"method call on a pandas DataFrame that lets you slice it!\"\n",
    "my_function_dictionary[\"pd.concat\"] = \"combines pandas data frames, axix=1 appends on the sides, axis=0 does a union\"\n",
    "\n",
    "#my_function_dictionary[\"\"]\n",
    "my_index = my_function_dictionary.keys()\n",
    "my_columns = my_function_dictionary.values()\n",
    "cheat_sheet = pd.DataFrame.from_dict(my_function_dictionary,orient=\"index\")\n",
    "print(my_function_dictionary)\n",
    "print(cheat_sheet)"
   ]
  },
  {
   "cell_type": "markdown",
   "metadata": {
    "collapsed": false
   },
   "source": [
    "What I Did:\n",
    "12/9 - did work on project two, mostly found better ways to do what I did last night\n",
    "     - followed along coding a game with Tim and class to run a game in command line"
   ]
  },
  {
   "cell_type": "markdown",
   "metadata": {},
   "source": [
    "What I Learned:\n",
    "12/9 - learned how to quickly graph reach row of a pandas dataframe in a line plot (weekly billboard plot)\n",
    "     - learned how to slice a dataframe by columns -- syntax:  df.ix[:,<column indexes>]\n",
    "     - learned a little about Object Oriented programming"
   ]
  }
 ],
 "metadata": {
  "anaconda-cloud": {},
  "kernelspec": {
   "display_name": "Python [default]",
   "language": "python",
   "name": "python2"
  },
  "language_info": {
   "codemirror_mode": {
    "name": "ipython",
    "version": 2
   },
   "file_extension": ".py",
   "mimetype": "text/x-python",
   "name": "python",
   "nbconvert_exporter": "python",
   "pygments_lexer": "ipython2",
   "version": "2.7.12"
  }
 },
 "nbformat": 4,
 "nbformat_minor": 1
}
