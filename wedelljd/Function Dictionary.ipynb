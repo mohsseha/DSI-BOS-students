{
 "cells": [
  {
   "cell_type": "code",
   "execution_count": 3,
   "metadata": {
    "collapsed": true
   },
   "outputs": [],
   "source": [
    "import pandas as pd"
   ]
  },
  {
   "cell_type": "code",
   "execution_count": 4,
   "metadata": {
    "collapsed": false
   },
   "outputs": [
    {
     "ename": "SyntaxError",
     "evalue": "invalid syntax (<ipython-input-4-a461d2f0b61f>, line 26)",
     "output_type": "error",
     "traceback": [
      "\u001b[0;36m  File \u001b[0;32m\"<ipython-input-4-a461d2f0b61f>\"\u001b[0;36m, line \u001b[0;32m26\u001b[0m\n\u001b[0;31m    my_function_dictionary[]\u001b[0m\n\u001b[0m                           ^\u001b[0m\n\u001b[0;31mSyntaxError\u001b[0m\u001b[0;31m:\u001b[0m invalid syntax\n"
     ]
    }
   ],
   "source": [
    "my_function_dictionary = {}\n",
    "\n",
    "my_function_dictionary[\"fillna (from pandas)\"] = \"This is used to fill null values in a column \\n\\t DF.fillna(<fill value>)\"\n",
    "my_function_dictionary[\"isnull() (from pandas)\"] = \"Can be used to check if values are NULL, returns True/False\"\n",
    "my_function_dictionary[\"np.std() (from numpy)\"] = \"Used to find standard deviation of a list or group of values\"\n",
    "my_function_dictionary[\"np.mean()\"] = \"Used to find average of a list or group of values\"\n",
    "my_function_dictionary[\"pearsonr (from scipy.stats)\"] = \"Finds Pearson R-value\"\n",
    "my_function_dictionary[\"spearmanr (from scipy.stats)\"] = \"Finds Spearman R-Value\"\n",
    "my_function_dictionary[\"fig = plt.figure(figsize[])\"] = \"Adds figure to plot for plotting multiple graphs at once\"\n",
    "my_function_dictionary[\"fig.add_subplot(###)\"] = \"Adds plotting areas, numbers in parenthesis describes positioning of sub-plot\"\n",
    "my_function_dictionary[\".unique()\"] = \"gives all unique values for a column\"\n",
    "my_function_dictionary[\".value_counts()\"] = \"shows counts of each unique value within a column\"\n",
    "my_function_dictionary[\"using dir(<object name>)\"] = \"shows user what methods are available for an object or function\"\n",
    "my_function_dictionary[\".unstack()\"] = \"method for pandas pivot table, moves groups to column??\"\n",
    "my_function_dictionary[\".ix\"] = \"method call on a pandas DataFrame that lets you slice it!\"\n",
    "my_function_dictionary[\"pd.concat\"] = \"pd.concat([dataframe1,dataframe2]) combines pandas data frames, axix=1 appends on the sides, axis=0 does a union\"\n",
    "my_function_dictionary[\"sm.OLS (from statsmodels.api as sm)\"] = \"\"\"lets you do linear regression on datasets\" X = df[<list of predictor columns>]\n",
    "y = targets[<column you want to predict>]\n",
    "\n",
    "model = sm.OLS(y, X).fit()\n",
    "predictions = model.predict(X)\n",
    "\n",
    "# Print out the statistics\n",
    "model.summary()\"\"\"\n",
    "\n",
    "\n",
    "\n",
    "my_function_dictionary[\"cross_val_score\"] = \"\"\"from sklearn.cross_validation import cross_val_score:\n",
    "\n",
    "cross_val_score takes in a model, predictor data and target data (X,Y) and provides scores for how accurate the model is,\n",
    "\n",
    "cross_val_predict takes the same and gives predictions for new predictor data\"\"\"\n",
    "\n",
    "my_function_dictionary[\".corr\"] = \"\"\".corr method gives a matrix of correlations between all columns in a dataset\"\"\"\n",
    "\n",
    "my_function_dictionary[\"logit - logistic regression\"] = \"\"\"\n",
    "using import statsmodels.formula.api as sm\n",
    "\n",
    "model = sm.logit(\n",
    "    \"label ~ is_news\",\n",
    "    data = data\n",
    ").fit()\n",
    "\n",
    "fits data to a logistic regression, target comes before the tilde, predictor variables go after, can use '*' and ':' \n",
    "with predictors to combine predictors and make new predictor variables\"\"\"\n",
    "\n",
    "\n",
    "my_function_dictionary[\"train_test_split\"] = \"\"\"\n",
    "Using: from sklearn.cross_validation import train_test_split\n",
    "\n",
    "you can easily partition a dataset into trainig and test sets used to fit a model and then to validate it\n",
    "\n",
    "x_train,x_test,y_train,y_test = train_test_split(data[predictor_vars],data[target_var],train_size=.33)\n",
    "\n",
    "\"\"\"\n",
    "\n",
    "my_function_dictionary[\"pd.get_dummies()\"] = \"\"\"\n",
    "takes categorical data from a column and creates new columns for each category filled with '1' or '0'.  New columns can then be used for classifier models'\n",
    "\n",
    "example creates a new dataframe that has binary values for male and female, then adds those columns to the existing dataframe:\n",
    "\n",
    "df_sex = pd.get_dummies(data['sex'])\n",
    "# Join the dummy variables to the main dataframe\n",
    "data_new = pd.concat([data, df_sex], axis=1)\n",
    "\"\"\"\n",
    "\n",
    "my_function_dictionary[\"np.corrceof\"] = \"\"\"used to return a matrix of correlation coefficients between variables\"\"\"\n",
    "\n",
    "\n",
    "my_index = my_function_dictionary.keys()\n",
    "my_columns = my_function_dictionary.values()\n",
    "cheat_sheet = pd.DataFrame.from_dict(my_function_dictionary,orient=\"index\")\n",
    "print(my_function_dictionary[\"sm.OLS (from statsmodels.api as sm)\"])\n",
    "#print(cheat_sheet)"
   ]
  },
  {
   "cell_type": "markdown",
   "metadata": {
    "collapsed": false
   },
   "source": [
    "What I Did:\n",
    "12/9 - did work on project two, mostly found better ways to do what I did last night\n",
    "     - followed along coding a game with Tim and class to run a game in command line"
   ]
  },
  {
   "cell_type": "markdown",
   "metadata": {},
   "source": [
    "What I Learned:\n",
    "12/9 - learned how to quickly graph reach row of a pandas dataframe in a line plot (weekly billboard plot)\n",
    "     - learned how to slice a dataframe by columns -- syntax:  df.ix[:,<column indexes>]\n",
    "     - learned a little about Object Oriented programming"
   ]
  },
  {
   "cell_type": "markdown",
   "metadata": {},
   "source": [
    "What I Want 12/12:\n",
    "-Give some context when starting a topic - a goal/objective statement?"
   ]
  }
 ],
 "metadata": {
  "anaconda-cloud": {},
  "kernelspec": {
   "display_name": "Python [default]",
   "language": "python",
   "name": "python2"
  },
  "language_info": {
   "codemirror_mode": {
    "name": "ipython",
    "version": 2
   },
   "file_extension": ".py",
   "mimetype": "text/x-python",
   "name": "python",
   "nbconvert_exporter": "python",
   "pygments_lexer": "ipython2",
   "version": "2.7.12"
  }
 },
 "nbformat": 4,
 "nbformat_minor": 1
}
