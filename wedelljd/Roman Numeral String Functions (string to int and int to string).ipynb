{
 "cells": [
  {
   "cell_type": "code",
   "execution_count": 188,
   "metadata": {
    "collapsed": false
   },
   "outputs": [
    {
     "data": {
      "text/plain": [
       "4993"
      ]
     },
     "execution_count": 188,
     "metadata": {},
     "output_type": "execute_result"
    }
   ],
   "source": [
    "def str_to_int(string):\n",
    "    roman_numeral_dict = {'I':1,'V':5,'X':10,'L':50,'C':100,'D':500,'M':1000}\n",
    "    total = 0\n",
    "    for index,i in enumerate(string):\n",
    "        try:\n",
    "            if roman_numeral_dict[i] < roman_numeral_dict[string[index+1]]:\n",
    "                total -= roman_numeral_dict[string[index]]\n",
    "            else:\n",
    "                total += roman_numeral_dict[string[index]]\n",
    "        except:\n",
    "            total += roman_numeral_dict[string[index]]\n",
    "    return total\n",
    "\n",
    "str_to_int('MMMMCMXCIII')"
   ]
  },
  {
   "cell_type": "code",
   "execution_count": 189,
   "metadata": {
    "collapsed": false
   },
   "outputs": [
    {
     "data": {
      "text/plain": [
       "'MMMLIX'"
      ]
     },
     "execution_count": 189,
     "metadata": {},
     "output_type": "execute_result"
    }
   ],
   "source": [
    "def int_to_string(number):\n",
    "    roman_numeral_dict = {1000:'M',\n",
    "                          900:'CM',\n",
    "                          500:'L',\n",
    "                          400:'CL',\n",
    "                          100:'C',\n",
    "                          90:'XC',\n",
    "                          50:'L',\n",
    "                          40:'XL',\n",
    "                          10:'X',\n",
    "                          9:'IX',\n",
    "                          5:'V',\n",
    "                          4:'IV',\n",
    "                          1:'I'}\n",
    "    roman_numeral_string = str()\n",
    "    roman_numeral_keys_list = sorted(roman_numeral_dict.keys(),reverse=True)\n",
    "    for i in roman_numeral_keys_list:\n",
    "        #print(number)\n",
    "        while number >= 0:\n",
    "            if number < i:\n",
    "                break\n",
    "            roman_numeral_string += roman_numeral_dict[i]*((number/i))\n",
    "            number -= i*((number/i))\n",
    "            if number == 0:\n",
    "                break\n",
    "        #    print(number)\n",
    "        #print(roman_numeral_string)\n",
    "        \n",
    "    return(roman_numeral_string)\n",
    "    \n",
    "    \n",
    "int_to_string(3059)"
   ]
  },
  {
   "cell_type": "code",
   "execution_count": 186,
   "metadata": {
    "collapsed": false
   },
   "outputs": [
    {
     "data": {
      "text/plain": [
       "'MXV'"
      ]
     },
     "execution_count": 186,
     "metadata": {},
     "output_type": "execute_result"
    }
   ],
   "source": [
    "int_to_string(str_to_int('MXV'))"
   ]
  },
  {
   "cell_type": "code",
   "execution_count": 187,
   "metadata": {
    "collapsed": false
   },
   "outputs": [
    {
     "data": {
      "text/plain": [
       "5234"
      ]
     },
     "execution_count": 187,
     "metadata": {},
     "output_type": "execute_result"
    }
   ],
   "source": [
    "str_to_int(int_to_string(5234))"
   ]
  },
  {
   "cell_type": "code",
   "execution_count": null,
   "metadata": {
    "collapsed": true
   },
   "outputs": [],
   "source": []
  }
 ],
 "metadata": {
  "kernelspec": {
   "display_name": "Python [default]",
   "language": "python",
   "name": "python2"
  },
  "language_info": {
   "codemirror_mode": {
    "name": "ipython",
    "version": 2
   },
   "file_extension": ".py",
   "mimetype": "text/x-python",
   "name": "python",
   "nbconvert_exporter": "python",
   "pygments_lexer": "ipython2",
   "version": "2.7.12"
  }
 },
 "nbformat": 4,
 "nbformat_minor": 1
}
