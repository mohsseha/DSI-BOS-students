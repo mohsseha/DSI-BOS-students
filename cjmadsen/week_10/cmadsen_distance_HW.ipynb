{
 "cells": [
  {
   "cell_type": "code",
   "execution_count": 3,
   "metadata": {
    "collapsed": false
   },
   "outputs": [],
   "source": [
    "game_map= [[False,True,False,False],\n",
    "          [False,False,False,True],\n",
    "          [False,False,False,False],\n",
    "          [False,True, False,False]]"
   ]
  },
  {
   "cell_type": "code",
   "execution_count": 4,
   "metadata": {
    "collapsed": true
   },
   "outputs": [],
   "source": [
    "import pandas as pd"
   ]
  },
  {
   "cell_type": "markdown",
   "metadata": {},
   "source": [
    "2 ways of doing this problem:\n",
    "    One will work but take exponential resources. Start with that one\n",
    "    Other one does not take exponential resources. Figure that out later"
   ]
  },
  {
   "cell_type": "code",
   "execution_count": 3,
   "metadata": {
    "collapsed": true
   },
   "outputs": [],
   "source": [
    "board = pd.DataFrame(game_map)"
   ]
  },
  {
   "cell_type": "code",
   "execution_count": 4,
   "metadata": {
    "collapsed": false
   },
   "outputs": [
    {
     "data": {
      "text/html": [
       "<div>\n",
       "<table border=\"1\" class=\"dataframe\">\n",
       "  <thead>\n",
       "    <tr style=\"text-align: right;\">\n",
       "      <th></th>\n",
       "      <th>0</th>\n",
       "      <th>1</th>\n",
       "      <th>2</th>\n",
       "      <th>3</th>\n",
       "    </tr>\n",
       "  </thead>\n",
       "  <tbody>\n",
       "    <tr>\n",
       "      <th>0</th>\n",
       "      <td>False</td>\n",
       "      <td>True</td>\n",
       "      <td>False</td>\n",
       "      <td>False</td>\n",
       "    </tr>\n",
       "    <tr>\n",
       "      <th>1</th>\n",
       "      <td>False</td>\n",
       "      <td>False</td>\n",
       "      <td>False</td>\n",
       "      <td>True</td>\n",
       "    </tr>\n",
       "    <tr>\n",
       "      <th>2</th>\n",
       "      <td>False</td>\n",
       "      <td>False</td>\n",
       "      <td>False</td>\n",
       "      <td>False</td>\n",
       "    </tr>\n",
       "    <tr>\n",
       "      <th>3</th>\n",
       "      <td>False</td>\n",
       "      <td>True</td>\n",
       "      <td>False</td>\n",
       "      <td>False</td>\n",
       "    </tr>\n",
       "  </tbody>\n",
       "</table>\n",
       "</div>"
      ],
      "text/plain": [
       "       0      1      2      3\n",
       "0  False   True  False  False\n",
       "1  False  False  False   True\n",
       "2  False  False  False  False\n",
       "3  False   True  False  False"
      ]
     },
     "execution_count": 4,
     "metadata": {},
     "output_type": "execute_result"
    }
   ],
   "source": [
    "board.head(5)"
   ]
  },
  {
   "cell_type": "code",
   "execution_count": 67,
   "metadata": {
    "collapsed": false
   },
   "outputs": [],
   "source": [
    "def dist_from_org_toxy_with_map(x,y,Map):\n",
    "    board = pd.DataFrame(Map)\n",
    "    if board[y][x] == True:\n",
    "        return \"You can't get there from here\"\n",
    "    lon = 0\n",
    "    lat = 0\n",
    "    current = [lon,lat]\n",
    "    moves = 0\n",
    "    print current, moves\n",
    "    while lon!=x and lat!=y:\n",
    "        if (x-lon) > (y-lat):\n",
    "            if board[lon+1][lat] == False:\n",
    "                lon+=1\n",
    "                current = [lon,lat]\n",
    "                moves +=1\n",
    "                print current, moves, \"operation:1\"\n",
    "            elif board[lon][lat+1] == False:\n",
    "                lat+=1\n",
    "                current = [lon,lat]\n",
    "                moves +=1\n",
    "                print current, moves, \"operation:2\"\n",
    "        if (x-lon) < (y-lat):\n",
    "            if board[lon][lat+1] == False:\n",
    "                lat+=1\n",
    "                current = [lon,lat]\n",
    "                moves +=1\n",
    "                print current, moves, \"operation:3\"\n",
    "            elif board[lon+1][lat] == False:\n",
    "                lon+=1\n",
    "                current = [lon,lat]\n",
    "                moves +=1\n",
    "                print current, moves, \"operation:4\"\n",
    "        if (x-lon) == (y-lat):\n",
    "            if board[lon+1][lat] == False:\n",
    "                lon+=1\n",
    "                current = [lon,lat]\n",
    "                moves +=1\n",
    "                print current, moves, \"operation:5\"\n",
    "            elif board[lon][lat+1] == False:\n",
    "                lat+=1\n",
    "                current = [lon,lat]\n",
    "                moves +=1\n",
    "                print current, moves, \"operation:6\"\n",
    "        if (x-lon) < 0:\n",
    "            if board[lon-1][lat] == False:\n",
    "                lon-=1\n",
    "                current = [lon,lat]\n",
    "                moves +=1\n",
    "                print current, moves, \"operation:7\"\n",
    "            elif board[lon][lat+1] == False:\n",
    "                lat+=1\n",
    "                current = [lon,lat]\n",
    "                moves +=1\n",
    "                print current, moves, \"operation:8\"\n",
    "        if (y-lat) < 0:\n",
    "            if board[lon][lat-1] == False:\n",
    "                lat-=1\n",
    "                current = [lon,lat]\n",
    "                moves +=1\n",
    "                print current, moves, \"operation:9\"\n",
    "            elif board[lon+1][lat] == False:\n",
    "                lon+=1\n",
    "                current = [lon,lat]\n",
    "                moves +=1\n",
    "                print current, moves, \"operation:10\"\n",
    "    print [x,y], moves+1"
   ]
  },
  {
   "cell_type": "code",
   "execution_count": 16,
   "metadata": {
    "collapsed": false
   },
   "outputs": [],
   "source": [
    "def dist_from_org_toxy_with_map(x,y,Map):\n",
    "    board = pd.DataFrame(Map)\n",
    "    if board[y][x] == True:\n",
    "        return \"You can't get there from here\"\n",
    "    lon = 0\n",
    "    lat = 0\n",
    "    current = [lon,lat]\n",
    "    moves = 0\n",
    "    print current, moves\n",
    "    while lon!=x and lat!=y:\n",
    "        if (x-lon) > (y-lat):\n",
    "            if board[lat][lon+1] == False:\n",
    "                lon+=1\n",
    "                current = [lon,lat]\n",
    "                moves +=1\n",
    "                print current, moves, \"operation:1\"\n",
    "            elif board[lat+1][lon] == False:\n",
    "                lat+=1\n",
    "                current = [lon,lat]\n",
    "                moves +=1\n",
    "                print current, moves, \"operation:2\"\n",
    "        if (x-lon) < (y-lat):\n",
    "            if board[lat+1][lon] == False:\n",
    "                lat+=1\n",
    "                current = [lon,lat]\n",
    "                moves +=1\n",
    "                print current, moves, \"operation:3\"\n",
    "            elif board[lat][lon+1] == False:\n",
    "                lon+=1\n",
    "                current = [lon,lat]\n",
    "                moves +=1\n",
    "                print current, moves, \"operation:4\"\n",
    "        if (x-lon) == (y-lat):\n",
    "            if x >= y:\n",
    "                if board[lat][lon+1] == False:\n",
    "                    lon+=1\n",
    "                    current = [lon,lat]\n",
    "                    moves +=1\n",
    "                    print current, moves, \"operation:5\"\n",
    "            else:\n",
    "                if board[lat+1][lon] == False:\n",
    "                    lat+=1\n",
    "                    current = [lon,lat]\n",
    "                    moves +=1\n",
    "                    print current, moves, \"operation:6\"\n",
    "        if (x-lon) < 0:\n",
    "            if board[lat][lon-1] == False:\n",
    "                lon-=1\n",
    "                current = [lon,lat]\n",
    "                moves +=1\n",
    "                print current, moves, \"operation:7\"\n",
    "        if (y-lat) < 0:\n",
    "            if board[lat-1][lon] == False:\n",
    "                lat-=1\n",
    "                current = [lon,lat]\n",
    "                moves +=1\n",
    "                print current, moves, \"operation:8\"\n",
    "    print [x,y], moves+1"
   ]
  },
  {
   "cell_type": "code",
   "execution_count": 19,
   "metadata": {
    "collapsed": true
   },
   "outputs": [],
   "source": [
    "test_map = game_map= [[False,True],\n",
    "          [False,False],\n",
    "          [False,False],\n",
    "          [False,True]]"
   ]
  },
  {
   "cell_type": "code",
   "execution_count": 25,
   "metadata": {
    "collapsed": true
   },
   "outputs": [],
   "source": [
    "def dist_from_org_toxy_with_map(x,y,Map):\n",
    "    board = pd.DataFrame(Map)\n",
    "    if board[y][x] == True:\n",
    "        return \"You can't get there from here\"\n",
    "    lon = 0\n",
    "    lat = 0\n",
    "    current = [lon,lat]\n",
    "    moves = 0\n",
    "    print current, moves\n",
    "    while lon!=x and lat!=y:\n",
    "        if (x-lon) > (y-lat):\n",
    "            move_down(lon,lat,board,moves)\n",
    "            current = [lon,lat]\n",
    "            print current, moves\n",
    "        if (x-lon) < (y-lat):\n",
    "            move_right(lon,lat,board,moves)\n",
    "            current = [lon,lat]\n",
    "            print current, moves\n",
    "        if (x-lon) == (y-lat):\n",
    "            move_down(lon,lat,board,moves)\n",
    "            current = [lon,lat]\n",
    "            print current, moves\n",
    "    print [x,y], moves+1"
   ]
  },
  {
   "cell_type": "code",
   "execution_count": 27,
   "metadata": {
    "collapsed": false
   },
   "outputs": [
    {
     "name": "stdout",
     "output_type": "stream",
     "text": [
      "\n"
     ]
    }
   ],
   "source": [
    "def move_down(lon,lat,board,moves):\n",
    "    if board[lat][lon+1] == False:\n",
    "                lon+=1\n",
    "                moves +=1\n",
    "                return lon,moves\n",
    "def move_right(lon,lat,board,moves):\n",
    "    if board[lat+1][lon] == False:\n",
    "                lat+=1\n",
    "                moves +=1\n",
    "                return lat,moves\n",
    "def move_up(lon,lat,board,moves):\n",
    "    if board[lat][lon-1] == False:\n",
    "                lon-=1\n",
    "                moves +=1\n",
    "                return lon,moves\n",
    "def move_left(lon,lat,board,moves):\n",
    "    if board[lat-1][lon] == False:\n",
    "                lat-=1\n",
    "                moves +=1\n",
    "                return lat,moves"
   ]
  },
  {
   "cell_type": "code",
   "execution_count": 30,
   "metadata": {
    "collapsed": true
   },
   "outputs": [],
   "source": [
    "def dist_from_org_toxy_with_map(x,y,chart,lon=0,lat=0,moves=0): #initialize starting location and moves\n",
    "    if chart[x][y] == True: # if the input is invalid\n",
    "        return \"You can't get there from here\" #tell the user\n",
    "    current = [lon,lat] #define current position\n",
    "    while lon!=x and lat!=y: #while not at the end point\n",
    "        if (x-lon) > (y-lat): # if further from the endpoint in the x direction\n",
    "            if chart[lon+1][lat] == False: #if the next point in the positive x direction is valid\n",
    "                lon+=1 #move one in the positive x direction\n",
    "                current = [lon,lat] #redefine current position\n",
    "                moves +=1 #add one to the counter\n",
    "                print current, moves, \"operation:1\" #just used for debugging\n",
    "            elif chart[lon][lat+1] == False: #if the next point in the positive y direction is valid\n",
    "                lat+=1 #move one in the positive y direction\n",
    "                current = [lon,lat] #redefine current position\n",
    "                moves +=1 #add one to the counter\n",
    "                print current, moves, \"operation:2\" #just used for debugging\n",
    "        if (x-lon) < (y-lat): # if further from the endpoint in the y direction\n",
    "            if chart[lon][lat+1] == False: #if the next point in the positive y direction is valid\n",
    "                lat+=1 #move one in the positive y direction\n",
    "                current = [lon,lat] #redefine current position\n",
    "                moves +=1 #add one to the counter\n",
    "                print current, moves, \"operation:3\" #just used for debugging\n",
    "            elif chart[lon+1][lat] == False: #if the next point in the positive x direction is valid\n",
    "                lon+=1 #move one in the positive x direction\n",
    "                current = [lon,lat] #redefine current position\n",
    "                moves +=1 #add one to the counter\n",
    "                print current, moves, \"operation:4\" #just used for debugging\n",
    "        if (x-lon) == (y-lat): # if equally far from the endpoint in both directions\n",
    "            if chart[lon+1][lat] == False: #if the next point in the positive x direction is valid\n",
    "                lon+=1 #move one in the positive x direction\n",
    "                current = [lon,lat] #redefine current position\n",
    "                moves +=1 #add one to the counter\n",
    "                print current, moves, \"operation:5\" #just used for debugging\n",
    "            elif chart[lon][lat+1] == False: #if the next point in the positive y direction is valid\n",
    "                lat+=1 #move one in the positive y direction\n",
    "                current = [lon,lat] #redefine current position\n",
    "                moves +=1 #add one to the counter\n",
    "                print current, moves, \"operation:6\" #just used for debugging\n",
    "        if (x-lon) < 0: # if the current x-value is less than the final\n",
    "            if chart[lon-1][lat] == False: #if the next point in the negative x direction is valid\n",
    "                lon-=1 #move one in the negative x direction\n",
    "                current = [lon,lat] #redefine current position\n",
    "                moves +=1 #add one to the counter\n",
    "                print current, moves, \"operation:7\" #just used for debugging\n",
    "            elif chart[lon][lat+1] == False: #if the next point in the positive y direction is valid\n",
    "                lat+=1 #move one in the positive y direction\n",
    "                current = [lon,lat] #redefine current position\n",
    "                moves +=1 #add one to the counter\n",
    "                print current, moves, \"operation:8\" #just used for debugging\n",
    "        if (y-lat) < 0: # if the current y value is less than the final\n",
    "            if chart[lon][lat-1] == False: #if the next point in the negative y direction is valid\n",
    "                lat-=1 #move one in the negative y direction\n",
    "                current = [lon,lat] #redefine current position\n",
    "                moves +=1 #add one to the counter\n",
    "                print current, moves, \"operation:9\" #just used for debugging\n",
    "            elif chart[lon+1][lat] == False: #if the next point in the positive x direction is valid\n",
    "                lon+=1 #move one in the positive x direction\n",
    "                current = [lon,lat] #redefine current position\n",
    "                moves +=1 #add one to the counter\n",
    "                print current, moves, \"operation:10\" #just used for debugging\n",
    "    print [x,y], moves+1 #just used for debugging\n",
    "    return moves+1 #return the number of moves needed to move from the origin to the endpoint"
   ]
  },
  {
   "cell_type": "code",
   "execution_count": 35,
   "metadata": {
    "collapsed": false
   },
   "outputs": [
    {
     "name": "stdout",
     "output_type": "stream",
     "text": [
      "[1, 0] 1\n"
     ]
    },
    {
     "data": {
      "text/plain": [
       "1"
      ]
     },
     "execution_count": 35,
     "metadata": {},
     "output_type": "execute_result"
    }
   ],
   "source": [
    "dist_from_org_toxy_with_map(1,0,game_map)"
   ]
  },
  {
   "cell_type": "markdown",
   "metadata": {},
   "source": [
    "Analysis:\n",
    "\n",
    "-Can get to points in the square (1,1) - (3,3) (potentially all the way to (n,n))\n",
    "\n",
    "-Can't get to points with only a y or x component ((x,0),(0,y))\n",
    "\n",
    "-Can't reliably go left or up (the negative direction for x and y)"
   ]
  },
  {
   "cell_type": "code",
   "execution_count": null,
   "metadata": {
    "collapsed": true
   },
   "outputs": [],
   "source": []
  }
 ],
 "metadata": {
  "kernelspec": {
   "display_name": "Python [conda root]",
   "language": "python",
   "name": "conda-root-py"
  },
  "language_info": {
   "codemirror_mode": {
    "name": "ipython",
    "version": 2
   },
   "file_extension": ".py",
   "mimetype": "text/x-python",
   "name": "python",
   "nbconvert_exporter": "python",
   "pygments_lexer": "ipython2",
   "version": "2.7.13"
  }
 },
 "nbformat": 4,
 "nbformat_minor": 2
}
