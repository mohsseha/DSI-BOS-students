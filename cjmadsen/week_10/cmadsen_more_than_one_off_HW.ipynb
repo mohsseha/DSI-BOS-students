{
 "cells": [
  {
   "cell_type": "code",
   "execution_count": 21,
   "metadata": {
    "collapsed": false
   },
   "outputs": [],
   "source": [
    "def is_more_than_one_off(s1,s2):\n",
    "    truth=False\n",
    "    if len(s2)-len(s1)>1 or len(s2)-len(s1)<-1: #if either of the strings is longer by more than one character\n",
    "        truth=True\n",
    "        return truth\n",
    "    if len(s2) - len(s1) == 1: #if the second string is longer by one character, we know it must be an insertion\n",
    "        diff = 0 #start counting number of differences\n",
    "        for char in s1: # for each character in the shorter string\n",
    "            if char not in s2: #all characters in the shorter string must be in the longer one or there is more than one difference\n",
    "                diff+=1 #add to the number of differences\n",
    "        if diff >= 1: # if there are one or more differences\n",
    "                truth = True\n",
    "                return truth\n",
    "    if len(s2) - len(s1) == -1: #if the second string is short by one character, it must be a \"deletion\"(yuck)\n",
    "        diff = 0 #start counting number of differences\n",
    "        for char in s2: # for each character in the shorter string\n",
    "            if char not in s1: #all characters in the shorter string must be in the longer one or there is more than one difference\n",
    "                diff+=1 #add to the number of differences\n",
    "        if diff >= 1: # if there are one or more differences\n",
    "                truth = True\n",
    "                return truth    \n",
    "    if len(s2)-len(s1)==0: #if the two strings are the same length\n",
    "        diff = 0 # number of differences between strings\n",
    "        for num in range(len(s2)):\n",
    "            if s2[num] != s1[num]: #if the character at a given position is not the same in both strings\n",
    "                diff+=1 #add to the number of differences\n",
    "        if diff > 1: # if there are more than one differences \n",
    "            truth = True\n",
    "            return truth\n",
    "    return truth\n",
    "            "
   ]
  },
  {
   "cell_type": "code",
   "execution_count": null,
   "metadata": {
    "collapsed": true
   },
   "outputs": [],
   "source": [
    "-insert\n",
    "-delete\n",
    "-replace"
   ]
  },
  {
   "cell_type": "code",
   "execution_count": 38,
   "metadata": {
    "collapsed": false
   },
   "outputs": [
    {
     "data": {
      "text/plain": [
       "False"
      ]
     },
     "execution_count": 38,
     "metadata": {},
     "output_type": "execute_result"
    }
   ],
   "source": [
    "is_more_than_one_off(\"c5at\",\"cat\")"
   ]
  }
 ],
 "metadata": {
  "kernelspec": {
   "display_name": "Python [conda root]",
   "language": "python",
   "name": "conda-root-py"
  },
  "language_info": {
   "codemirror_mode": {
    "name": "ipython",
    "version": 2
   },
   "file_extension": ".py",
   "mimetype": "text/x-python",
   "name": "python",
   "nbconvert_exporter": "python",
   "pygments_lexer": "ipython2",
   "version": "2.7.13"
  }
 },
 "nbformat": 4,
 "nbformat_minor": 2
}
