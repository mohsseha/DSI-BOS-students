{
 "cells": [
  {
   "cell_type": "code",
   "execution_count": 22,
   "metadata": {
    "collapsed": false
   },
   "outputs": [],
   "source": [
    "def is_more_than_one_off(s1,s2):\n",
    "    truth=False\n",
    "    if len(s2)-len(s1)>1 or len(s2)-len(s1)<-1: #if either of the strings is longer by more than one character\n",
    "        truth=True\n",
    "        return truth\n",
    "    if len(s2) - len(s1) == 1: #if the second string is longer by one character, we know it must be an insertion\n",
    "        diff = 0 #start counting number of differences\n",
    "        for char in s1: # for each character in the shorter string\n",
    "            if char not in s2: #all characters in the shorter string must be in the longer one or there is more than one difference\n",
    "                diff+=1 #add to the number of differences\n",
    "        if diff >= 1: # if there are one or more differences\n",
    "                truth = True\n",
    "                return truth\n",
    "        elif diff == 0: #if all the characters in the shorter string are present in the longer string\n",
    "            for char in s1: # for each character\n",
    "                if s1.index(char)!= s2.index(char) and s1.index(char)!= (s2.index(char)+1) and s1.index(char)!=(s2.index(char)-1):  #if it isn't in +/-1 of the same position\n",
    "                    diff +=1 #add to the number of differences\n",
    "            if diff >= 1: # if there are one or more differences\n",
    "                truth = True\n",
    "                return truth\n",
    "    if len(s2) - len(s1) == -1: #if the second string is short by one character, it must be a \"deletion\"(yuck)\n",
    "        diff = 0 #start counting number of differences\n",
    "        for char in s2: # for each character in the shorter string\n",
    "            if char not in s1: #all characters in the shorter string must be in the longer one or there is more than one difference\n",
    "                diff+=1 #add to the number of differences\n",
    "        if diff >= 1: # if there are one or more differences\n",
    "                truth = True\n",
    "                return truth\n",
    "        elif diff == 0: #if all the characters in the shorter string are present in the longer string\n",
    "            for char in s2: # for each character\n",
    "                if s2.index(char)!= s1.index(char) and s2.index(char)!= (s1.index(char)+1) and s2.index(char)!=(s1.index(char)-1): #if it isn't in +/-1 of the same position\n",
    "                    diff +=1 #add to the number of differences\n",
    "            if diff >= 1: # if there are one or more differences\n",
    "                truth = True\n",
    "                return truth\n",
    "    if len(s2)-len(s1)==0: #if the two strings are the same length\n",
    "        diff = 0 # number of differences between strings\n",
    "        for char in s1: # for each character\n",
    "                if s1.index(char)!= s2.index(char) and s1.index(char)!= (s2.index(char)+1) and s1.index(char)!=(s2.index(char)-1):  #if it isn't in +/-1 of the same position\n",
    "                    diff +=1 #add to the number of differences\n",
    "        if diff >= 1: # if there are more than one differences \n",
    "            truth = True\n",
    "            return truth\n",
    "    return truth\n",
    "            "
   ]
  },
  {
   "cell_type": "code",
   "execution_count": 6,
   "metadata": {
    "collapsed": false
   },
   "outputs": [
    {
     "ename": "NameError",
     "evalue": "name 'insert' is not defined",
     "output_type": "error",
     "traceback": [
      "\u001b[0;31m---------------------------------------------------------------------------\u001b[0m",
      "\u001b[0;31mNameError\u001b[0m                                 Traceback (most recent call last)",
      "\u001b[0;32m<ipython-input-6-203827382994>\u001b[0m in \u001b[0;36m<module>\u001b[0;34m()\u001b[0m\n\u001b[0;32m----> 1\u001b[0;31m \u001b[0;34m-\u001b[0m\u001b[0minsert\u001b[0m\u001b[0;34m\u001b[0m\u001b[0m\n\u001b[0m\u001b[1;32m      2\u001b[0m \u001b[0;34m-\u001b[0m\u001b[0mdelete\u001b[0m\u001b[0;34m\u001b[0m\u001b[0m\n\u001b[1;32m      3\u001b[0m \u001b[0;34m-\u001b[0m\u001b[0mreplace\u001b[0m\u001b[0;34m\u001b[0m\u001b[0m\n",
      "\u001b[0;31mNameError\u001b[0m: name 'insert' is not defined"
     ]
    }
   ],
   "source": [
    "-insert\n",
    "-delete\n",
    "-replace"
   ]
  },
  {
   "cell_type": "code",
   "execution_count": 23,
   "metadata": {
    "collapsed": false
   },
   "outputs": [
    {
     "data": {
      "text/plain": [
       "True"
      ]
     },
     "execution_count": 23,
     "metadata": {},
     "output_type": "execute_result"
    }
   ],
   "source": [
    "is_more_than_one_off(\"acmeasdf\",\"acmeadfs\")"
   ]
  }
 ],
 "metadata": {
  "kernelspec": {
   "display_name": "Python [conda root]",
   "language": "python",
   "name": "conda-root-py"
  },
  "language_info": {
   "codemirror_mode": {
    "name": "ipython",
    "version": 2
   },
   "file_extension": ".py",
   "mimetype": "text/x-python",
   "name": "python",
   "nbconvert_exporter": "python",
   "pygments_lexer": "ipython2",
   "version": "2.7.13"
  }
 },
 "nbformat": 4,
 "nbformat_minor": 2
}
