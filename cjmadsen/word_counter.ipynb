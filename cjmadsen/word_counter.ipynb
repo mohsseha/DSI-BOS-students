{
 "cells": [
  {
   "cell_type": "code",
   "execution_count": 47,
   "metadata": {
    "collapsed": false
   },
   "outputs": [],
   "source": [
    "import sys\n",
    "text = \"\" #initialize text string\n",
    "word_dict = {} #initialize word dictionary\n",
    "symbols = ['`', '\"', \"'\", ';', ':', '?', \"!\", '.', ',','-',\"_\",'/', \"(\", \")\", \"[\", \"]\", \"{\", '}', ] #list of symbols to be removed\n",
    "for line in sys.stdin:\n",
    "    text+=line #make the text file one big string\n",
    "for item in symbols:\n",
    "    text = text.replace(item, '') #remove above symbols from text\n",
    "text = text.replace(\"\\n\",' ') #replace new line with space   \n",
    "text = text.lower() #convert the string to lowercase\n",
    "text = text.split(' ') #split the string into a list on spaces\n",
    "for word in text:\n",
    "    if word not in word_dict.keys():\n",
    "        word_dict[word] = 1 #if a word isn't in the dictionary, add it\n",
    "    else:\n",
    "        word_dict[word] +=1 #otherwise add one to the count\n",
    "word_dict.pop('',None) #remove extra spaces\n",
    "for key in word_dict.keys():\n",
    "    print key,    word_dict[key] #print word and count pairs"
   ]
  }
 ],
 "metadata": {
  "kernelspec": {
   "display_name": "Python [default]",
   "language": "python",
   "name": "python2"
  },
  "language_info": {
   "codemirror_mode": {
    "name": "ipython",
    "version": 2
   },
   "file_extension": ".py",
   "mimetype": "text/x-python",
   "name": "python",
   "nbconvert_exporter": "python",
   "pygments_lexer": "ipython2",
   "version": "2.7.13"
  }
 },
 "nbformat": 4,
 "nbformat_minor": 2
}
