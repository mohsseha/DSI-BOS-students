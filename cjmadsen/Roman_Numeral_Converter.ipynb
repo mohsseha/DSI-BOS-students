{
 "cells": [
  {
   "cell_type": "code",
   "execution_count": 57,
   "metadata": {
    "collapsed": true
   },
   "outputs": [],
   "source": [
    "def str_to_int(string):\n",
    "    numbers=[]\n",
    "    numeral = {\"M\":1000, \"D\":500, \"C\":100, \"L\":50, \"X\":10, \"V\":5, \"I\":1}\n",
    "    for char in string:\n",
    "        numbers.append(numeral[char])\n",
    "    for i in range(len(numbers)):\n",
    "        if i == max(range(len(numbers))):\n",
    "            return sum(numbers)\n",
    "        elif numbers[i] < numbers[i+1]:\n",
    "            numbers[i] = numbers.pop(i+1) - numbers[i]"
   ]
  },
  {
   "cell_type": "code",
   "execution_count": 34,
   "metadata": {
    "collapsed": true
   },
   "outputs": [],
   "source": [
    "def int_to_str(number):\n",
    "    string = \"\"\n",
    "    if number == 1000:\n",
    "        return \"M\"\n",
    "    elif number >= 900:\n",
    "        string += \"CM\"\n",
    "        number -= 900\n",
    "        return string+int_to_str(number)\n",
    "    elif number >= 500:\n",
    "        string += \"D\"\n",
    "        number -= 500\n",
    "        return string+int_to_str(number)\n",
    "    elif number >= 400:\n",
    "        string += \"CD\"\n",
    "        number -= 400\n",
    "        return string+int_to_str(number)\n",
    "    elif number >= 100:\n",
    "        string += \"C\"\n",
    "        number -= 100\n",
    "        return string+int_to_str(number)\n",
    "    elif number >= 90:\n",
    "        string += \"XC\"\n",
    "        number -= 90\n",
    "        return string+int_to_str(number)\n",
    "    elif number >= 50:\n",
    "        string += \"L\"\n",
    "        number -= 50\n",
    "        return string+int_to_str(number)\n",
    "    elif number >= 40:\n",
    "        string += \"XL\"\n",
    "        number -= 40\n",
    "        return string+int_to_str(number)\n",
    "    elif number >= 10:\n",
    "        string += \"X\"\n",
    "        number -= 10\n",
    "        return string+int_to_str(number)\n",
    "    elif number == 9:\n",
    "        string += \"IX\"\n",
    "        number -= 9\n",
    "        return string+int_to_str(number)\n",
    "    elif number >= 5:\n",
    "        string += \"V\"\n",
    "        number -= 5\n",
    "        return string+int_to_str(number)\n",
    "    elif number == 4:\n",
    "        string += \"IV\"\n",
    "        number -= 4\n",
    "        return string+int_to_str(number)\n",
    "    elif number >= 1:\n",
    "        string += \"I\"\n",
    "        number -= 1\n",
    "        return string+int_to_str(number)\n",
    "    elif number == 0:\n",
    "        return string"
   ]
  },
  {
   "cell_type": "code",
   "execution_count": 60,
   "metadata": {
    "collapsed": false
   },
   "outputs": [
    {
     "data": {
      "text/plain": [
       "516"
      ]
     },
     "execution_count": 60,
     "metadata": {},
     "output_type": "execute_result"
    }
   ],
   "source": [
    "str_to_int(\"DXVI\")"
   ]
  },
  {
   "cell_type": "code",
   "execution_count": 68,
   "metadata": {
    "collapsed": false
   },
   "outputs": [
    {
     "data": {
      "text/plain": [
       "'CCCXLII'"
      ]
     },
     "execution_count": 68,
     "metadata": {},
     "output_type": "execute_result"
    }
   ],
   "source": [
    "int_to_str(342)"
   ]
  },
  {
   "cell_type": "code",
   "execution_count": 79,
   "metadata": {
    "collapsed": false
   },
   "outputs": [],
   "source": [
    "test_group = [123,456,678,987,566,342,231,708,895]"
   ]
  },
  {
   "cell_type": "code",
   "execution_count": 84,
   "metadata": {
    "collapsed": false
   },
   "outputs": [
    {
     "data": {
      "text/plain": [
       "708"
      ]
     },
     "execution_count": 84,
     "metadata": {},
     "output_type": "execute_result"
    }
   ],
   "source": [
    "str_to_int(int_to_str(708))"
   ]
  },
  {
   "cell_type": "code",
   "execution_count": null,
   "metadata": {
    "collapsed": true
   },
   "outputs": [],
   "source": []
  }
 ],
 "metadata": {
  "kernelspec": {
   "display_name": "Python [default]",
   "language": "python",
   "name": "python2"
  },
  "language_info": {
   "codemirror_mode": {
    "name": "ipython",
    "version": 2
   },
   "file_extension": ".py",
   "mimetype": "text/x-python",
   "name": "python",
   "nbconvert_exporter": "python",
   "pygments_lexer": "ipython2",
   "version": "2.7.12"
  }
 },
 "nbformat": 4,
 "nbformat_minor": 1
}
