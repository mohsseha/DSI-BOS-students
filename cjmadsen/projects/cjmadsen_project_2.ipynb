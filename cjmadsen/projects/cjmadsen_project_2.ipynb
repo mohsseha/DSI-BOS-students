{
 "cells": [
  {
   "cell_type": "markdown",
   "metadata": {
    "focus": true,
    "id": "263eb813-da45-48cf-9a8f-9da76c18e470"
   },
   "source": [
    "# Project 2\n",
    "## Step 1: Exploring your data.\n",
    "\n",
    "##### Load your data in using Pandas and start to explore. Save all of your early exploration code here and include in your final submission."
   ]
  },
  {
   "cell_type": "code",
   "execution_count": 66,
   "metadata": {
    "collapsed": true,
    "focus": false,
    "id": "b733d2fe-6d33-41dd-a3fc-5dfe9d71d91f"
   },
   "outputs": [],
   "source": [
    "import pandas as pd\n",
    "import numpy as np\n",
    "import datetime as dt\n",
    "import matplotlib.pyplot as plt"
   ]
  },
  {
   "cell_type": "code",
   "execution_count": 67,
   "metadata": {
    "collapsed": false
   },
   "outputs": [],
   "source": [
    "billboard_data = pd.read_csv('/Users/cjmdsn/DSI-course-materials/curriculum/03-projects/01-projects-weekly/project-02/assets/billboard.csv')"
   ]
  },
  {
   "cell_type": "code",
   "execution_count": 68,
   "metadata": {
    "collapsed": false
   },
   "outputs": [],
   "source": [
    "billboard_data=billboard_data.rename(columns= {'artist.inverted': \"artist\"}) #renaming columns\n",
    "billboard_data=billboard_data.rename(columns= {'date.entered': \"start_date\"})\n",
    "billboard_data=billboard_data.rename(columns= {'date.peaked': \"peak_date\"})\n",
    "peak_value=[] #creating a variable for the highest value a song reached on the charts\n",
    "for i in range(billboard_data.shape[0]):\n",
    "    peak = billboard_data.iloc[i].min()\n",
    "    peak_value.append(int(peak))\n",
    "billboard_data[\"start_date\"]=pd.to_datetime(billboard_data[\"start_date\"])\n",
    "billboard_data[\"peak_date\"]=pd.to_datetime(billboard_data[\"peak_date\"])\n",
    "start_month=[]\n",
    "start_season=[] #creating a variable for the season the song started on the charts\n",
    "for i in range(billboard_data.shape[0]):\n",
    "    month = billboard_data[\"start_date\"][i].month\n",
    "    start_month.append(month)\n",
    "for value in start_month:\n",
    "    if value <3 or value == 12:\n",
    "        start_season.append(\"Winter\")\n",
    "    elif value >2 and value <6:\n",
    "        start_season.append(\"Spring\")\n",
    "    elif value >5 and value <9:\n",
    "        start_season.append(\"Summer\")\n",
    "    else:\n",
    "        start_season.append(\"Fall\")\n",
    "billboard_data[\"season\"] = start_season\n",
    "billboard_data[\"weeks_on\"]= billboard_data.notnull().sum(axis=1) #created a variable for how long a song was on the charts\n",
    "billboard_data['peak_value'] = peak_value\n",
    "columns_list=billboard_data.columns.values.tolist()\n",
    "columns_list.insert(7, columns_list.pop(-3)) #rearranged columns\n",
    "columns_list.insert(8, columns_list.pop(-2))\n",
    "columns_list.insert(9, columns_list.pop(-1))\n",
    "billboard_data=billboard_data[columns_list]\n",
    "weekly_position = columns_list[10:] #renamed the weekly position ranks\n",
    "for i in range(76):\n",
    "    if i<10:\n",
    "        billboard_data=billboard_data.rename(columns= {weekly_position[i]: weekly_position[i][1:4]})\n",
    "    else:\n",
    "        billboard_data=billboard_data.rename(columns= {weekly_position[i]: weekly_position[i][1:5]})\n",
    "billboard_data=billboard_data.drop(\"year\",1)#dropped each column with no relevant data\n",
    "billboard_data=billboard_data.drop(\"66th\",1)\n",
    "billboard_data=billboard_data.drop(\"67th\",1)\n",
    "billboard_data=billboard_data.drop(\"68th\",1)\n",
    "billboard_data=billboard_data.drop(\"69th\",1)\n",
    "billboard_data=billboard_data.drop(\"70th\",1)\n",
    "billboard_data=billboard_data.drop(\"71st\",1)\n",
    "billboard_data=billboard_data.drop(\"72nd\",1)\n",
    "billboard_data=billboard_data.drop(\"73rd\",1)\n",
    "billboard_data=billboard_data.drop(\"74th\",1)\n",
    "billboard_data=billboard_data.drop(\"75th\",1)\n",
    "billboard_data=billboard_data.drop(\"76th\",1)\n"
   ]
  },
  {
   "cell_type": "code",
   "execution_count": 69,
   "metadata": {
    "collapsed": false
   },
   "outputs": [],
   "source": [
    "#create different slices of the dataset, based on a certain segment of interest\n",
    "misc_data = billboard_data.loc[(billboard_data['genre'] ==\"Gospel\") | (billboard_data['genre'] ==\"Jazz\") | (billboard_data['genre'] ==\"Reggae\")]\n",
    "electronica_data = billboard_data.loc[billboard_data['genre'] ==\"Electronica\"]\n",
    "country_data = billboard_data.loc[billboard_data['genre'] ==\"Country\"]\n",
    "pop_data = billboard_data.loc[billboard_data['genre'] ==\"Pop\"]\n",
    "rb_data = billboard_data.loc[billboard_data['genre'] ==\"R&B\"]\n",
    "rap_data = billboard_data.loc[billboard_data['genre'] ==\"Rap\"]\n",
    "rock_data = billboard_data.loc[billboard_data['genre'] ==\"Rock\"]\n",
    "chart_toppers_data = billboard_data.loc[billboard_data['peak_value'] == 1]\n",
    "top_5_data = billboard_data.loc[(billboard_data['peak_value'] >1) & (billboard_data['peak_value'] <6)]\n",
    "top_10_data = billboard_data.loc[(billboard_data['peak_value'] >5) & (billboard_data['peak_value'] <11)]\n",
    "top_15_data = billboard_data.loc[(billboard_data['peak_value'] >10) & (billboard_data['peak_value'] <16)]\n",
    "top_20_data = billboard_data.loc[(billboard_data['peak_value'] >15) & (billboard_data['peak_value'] <21)]\n",
    "top_25_data = billboard_data.loc[(billboard_data['peak_value'] >20) & (billboard_data['peak_value'] <26)]\n",
    "bottom_75_data = billboard_data.loc[billboard_data['peak_value'] >25]\n",
    "spring_data = billboard_data.loc[billboard_data[\"season\"] == \"Spring\"]\n",
    "summer_data = billboard_data.loc[billboard_data[\"season\"] == \"Summer\"]\n",
    "fall_data = billboard_data.loc[billboard_data[\"season\"] == \"Fall\"]\n",
    "winter_data = billboard_data.loc[billboard_data[\"season\"] == \"Winter\"]\n"
   ]
  },
  {
   "cell_type": "code",
   "execution_count": 64,
   "metadata": {
    "collapsed": false
   },
   "outputs": [
    {
     "name": "stdout",
     "output_type": "stream",
     "text": [
      "(137, 0.43217665615141954)\n",
      "(74, 0.2334384858044164)\n",
      "(58, 0.1829652996845426)\n",
      "(23, 0.07255520504731862)\n"
     ]
    }
   ],
   "source": [
    "# rough proxy for probability of making the top 100, by genre\n",
    "print(len(rock_data['peak_value']), float(137)/317)\n",
    "print(len(country_data['peak_value']), float(74)/317)\n",
    "print(len(rap_data['peak_value']), float(58)/317)\n",
    "print(len(rb_data['peak_value']), float(23)/317)"
   ]
  },
  {
   "cell_type": "code",
   "execution_count": 70,
   "metadata": {
    "collapsed": false
   },
   "outputs": [
    {
     "name": "stdout",
     "output_type": "stream",
     "text": [
      "count    137.000000\n",
      "mean      36.072993\n",
      "std       30.703907\n",
      "min        1.000000\n",
      "25%        6.000000\n",
      "50%       28.000000\n",
      "75%       64.000000\n",
      "max       99.000000\n",
      "Name: peak_value, dtype: float64\n",
      "count    74.000000\n",
      "mean     49.554054\n",
      "std      20.904310\n",
      "min       1.000000\n",
      "25%      34.250000\n",
      "50%      44.500000\n",
      "75%      68.000000\n",
      "max      92.000000\n",
      "Name: peak_value, dtype: float64\n",
      "count    23.000000\n",
      "mean     59.304348\n",
      "std      25.848219\n",
      "min      14.000000\n",
      "25%      38.000000\n",
      "50%      59.000000\n",
      "75%      81.500000\n",
      "max      99.000000\n",
      "Name: peak_value, dtype: float64\n",
      "count    58.000000\n",
      "mean     52.362069\n",
      "std      30.469253\n",
      "min       2.000000\n",
      "25%      23.500000\n",
      "50%      55.500000\n",
      "75%      75.000000\n",
      "max      99.000000\n",
      "Name: peak_value, dtype: float64\n"
     ]
    },
    {
     "data": {
      "image/png": "[encoded data removed]",
      "text/plain": [
       "<matplotlib.figure.Figure at 0x1111a2710>"
      ]
     },
     "metadata": {},
     "output_type": "display_data"
    }
   ],
   "source": [
    "#looking at the distribution of peaks values based on genre\n",
    "print(rock_data['peak_value'].describe())\n",
    "print(country_data['peak_value'].describe())\n",
    "print(rb_data['peak_value'].describe())\n",
    "print(rap_data['peak_value'].describe())\n",
    "fig = plt.figure()\n",
    "ax1 = fig.add_subplot(2,2,1)\n",
    "ax2 = fig.add_subplot(2,2,2)\n",
    "ax3 = fig.add_subplot(2,2,3)\n",
    "ax4 = fig.add_subplot(2,2,4)\n",
    "ax1.hist(rock_data['peak_value'], bins=20)\n",
    "ax2.hist(country_data['peak_value'], bins=20)\n",
    "ax3.hist(rb_data['peak_value'], bins=20)\n",
    "ax4.hist(rap_data['peak_value'], bins=20)\n",
    "plt.show()"
   ]
  },
  {
   "cell_type": "code",
   "execution_count": 71,
   "metadata": {
    "collapsed": false
   },
   "outputs": [
    {
     "name": "stdout",
     "output_type": "stream",
     "text": [
      "(36.07299270072993, 30.703907357326674)\n",
      "(49.554054054054056, 20.9043102928309)\n",
      "(52.36206896551724, 30.469252995444826)\n",
      "(59.30434782608695, 25.848219180102305)\n"
     ]
    }
   ],
   "source": [
    "#looking at the shape of the peak value distribution, by genre\n",
    "print (rock_data['peak_value'].mean(),rock_data['peak_value'].std())\n",
    "print (country_data['peak_value'].mean(),country_data['peak_value'].std())\n",
    "print (rap_data['peak_value'].mean(),rap_data['peak_value'].std())\n",
    "print (rb_data['peak_value'].mean(),rb_data['peak_value'].std())"
   ]
  },
  {
   "cell_type": "code",
   "execution_count": 72,
   "metadata": {
    "collapsed": false
   },
   "outputs": [
    {
     "name": "stdout",
     "output_type": "stream",
     "text": [
      "Rock       15\n",
      "Country     1\n",
      "Latin       1\n",
      "Name: genre, dtype: int64\n",
      "Rock     16\n",
      "Rap       4\n",
      "Latin     1\n",
      "Pop       1\n",
      "Name: genre, dtype: int64\n",
      "Rock           11\n",
      "Rap             1\n",
      "Jazz            1\n",
      "Electronica     1\n",
      "Name: genre, dtype: int64\n",
      "Rock       10\n",
      "Rap         3\n",
      "Latin       1\n",
      "Country     1\n",
      "R&B         1\n",
      "Name: genre, dtype: int64\n",
      "Rock       6\n",
      "Rap        3\n",
      "Country    2\n",
      "R&B        1\n",
      "Name: genre, dtype: int64\n",
      "Rock       8\n",
      "Rap        5\n",
      "Pop        3\n",
      "Country    3\n",
      "R&B        1\n",
      "Latin      1\n",
      "Name: genre, dtype: int64\n",
      "Rock           71\n",
      "Country        67\n",
      "Rap            42\n",
      "R&B            20\n",
      "Pop             5\n",
      "Latin           5\n",
      "Electronica     3\n",
      "Gospel          1\n",
      "Reggae          1\n",
      "Name: genre, dtype: int64\n"
     ]
    }
   ],
   "source": [
    "#looking at the distribution of genres by peak value\n",
    "print(chart_toppers_data['genre'].value_counts())\n",
    "print(top_5_data['genre'].value_counts())\n",
    "print(top_10_data['genre'].value_counts())\n",
    "print(top_15_data['genre'].value_counts())\n",
    "print(top_20_data['genre'].value_counts())\n",
    "print(top_25_data['genre'].value_counts())\n",
    "print(bottom_75_data['genre'].value_counts())"
   ]
  },
  {
   "cell_type": "code",
   "execution_count": 73,
   "metadata": {
    "collapsed": false
   },
   "outputs": [
    {
     "name": "stdout",
     "output_type": "stream",
     "text": [
      "Rock           37\n",
      "Country        21\n",
      "Rap            10\n",
      "R&B             7\n",
      "Latin           3\n",
      "Pop             2\n",
      "Electronica     1\n",
      "Name: genre, dtype: int64\n",
      "Rock           32\n",
      "Country        15\n",
      "Rap            14\n",
      "R&B             7\n",
      "Pop             4\n",
      "Gospel          1\n",
      "Electronica     1\n",
      "Name: genre, dtype: int64\n",
      "Rock           33\n",
      "Country        21\n",
      "Rap            17\n",
      "Latin           3\n",
      "R&B             3\n",
      "Pop             2\n",
      "Reggae          1\n",
      "Electronica     1\n",
      "Name: genre, dtype: int64\n",
      "Rock           35\n",
      "Country        17\n",
      "Rap            17\n",
      "R&B             6\n",
      "Latin           3\n",
      "Pop             1\n",
      "Jazz            1\n",
      "Electronica     1\n",
      "Name: genre, dtype: int64\n"
     ]
    }
   ],
   "source": [
    "#looking at the distribution of genres by season\n",
    "print(spring_data['genre'].value_counts()) \n",
    "print(summer_data['genre'].value_counts())\n",
    "print(fall_data['genre'].value_counts())\n",
    "print(winter_data['genre'].value_counts())"
   ]
  },
  {
   "cell_type": "code",
   "execution_count": 65,
   "metadata": {
    "collapsed": false
   },
   "outputs": [
    {
     "name": "stdout",
     "output_type": "stream",
     "text": [
      "        weeks_on  peak_value        1st        2nd        3rd         4th  \\\n",
      "count  37.000000   37.000000  37.000000  37.000000  37.000000   36.000000   \n",
      "mean   28.216216   33.405405  76.540541  67.000000  60.594595   54.694444   \n",
      "std    12.076458   30.381335  16.664324  18.675593  20.960889   22.586746   \n",
      "min    11.000000    1.000000  25.000000  15.000000  12.000000   11.000000   \n",
      "25%    17.000000    7.000000  63.000000  58.000000  48.000000         NaN   \n",
      "50%    28.000000   24.000000  81.000000  70.000000  62.000000         NaN   \n",
      "75%    34.000000   61.000000  86.000000  82.000000  72.000000         NaN   \n",
      "max    61.000000   91.000000  99.000000  98.000000  98.000000  100.000000   \n",
      "\n",
      "             5th        6th        7th        8th  ...   56th  57th  58th  \\\n",
      "count  34.000000  33.000000  30.000000  30.000000  ...    0.0   0.0   0.0   \n",
      "mean   48.911765  45.848485  39.600000  38.433333  ...    NaN   NaN   NaN   \n",
      "std    23.350255  25.087498  24.802113  26.440151  ...    NaN   NaN   NaN   \n",
      "min    11.000000   7.000000   3.000000   2.000000  ...    NaN   NaN   NaN   \n",
      "25%          NaN        NaN        NaN        NaN  ...    NaN   NaN   NaN   \n",
      "50%          NaN        NaN        NaN        NaN  ...    NaN   NaN   NaN   \n",
      "75%          NaN        NaN        NaN        NaN  ...    NaN   NaN   NaN   \n",
      "max    93.000000  93.000000  91.000000  91.000000  ...    NaN   NaN   NaN   \n",
      "\n",
      "       59th  60th  61st  62nd  63rd  64th  65th  \n",
      "count   0.0   0.0   0.0   0.0   0.0   0.0   0.0  \n",
      "mean    NaN   NaN   NaN   NaN   NaN   NaN   NaN  \n",
      "std     NaN   NaN   NaN   NaN   NaN   NaN   NaN  \n",
      "min     NaN   NaN   NaN   NaN   NaN   NaN   NaN  \n",
      "25%     NaN   NaN   NaN   NaN   NaN   NaN   NaN  \n",
      "50%     NaN   NaN   NaN   NaN   NaN   NaN   NaN  \n",
      "75%     NaN   NaN   NaN   NaN   NaN   NaN   NaN  \n",
      "max     NaN   NaN   NaN   NaN   NaN   NaN   NaN  \n",
      "\n",
      "[8 rows x 67 columns]\n",
      "        weeks_on  peak_value        1st        2nd        3rd         4th  \\\n",
      "count  32.000000   32.000000  32.000000  31.000000  31.000000   31.000000   \n",
      "mean   25.781250   37.750000  72.093750  63.838710  58.838710   55.709677   \n",
      "std     7.782256   30.205746  15.781491  18.428414  20.696371   23.584166   \n",
      "min     9.000000    1.000000  28.000000  23.000000  18.000000   14.000000   \n",
      "25%    20.500000    5.750000  64.000000        NaN        NaN         NaN   \n",
      "50%    28.000000   32.500000  75.000000        NaN        NaN         NaN   \n",
      "75%    32.000000   63.250000  79.000000        NaN        NaN         NaN   \n",
      "max    38.000000   92.000000  99.000000  99.000000  97.000000  100.000000   \n",
      "\n",
      "              5th        6th        7th        8th  ...   56th  57th  58th  \\\n",
      "count   29.000000  29.000000  29.000000  27.000000  ...    0.0   0.0   0.0   \n",
      "mean    50.965517  49.206897  45.724138  41.037037  ...    NaN   NaN   NaN   \n",
      "std     23.953053  26.049924  30.945686  31.577111  ...    NaN   NaN   NaN   \n",
      "min      2.000000   1.000000   1.000000   1.000000  ...    NaN   NaN   NaN   \n",
      "25%           NaN        NaN        NaN        NaN  ...    NaN   NaN   NaN   \n",
      "50%           NaN        NaN        NaN        NaN  ...    NaN   NaN   NaN   \n",
      "75%           NaN        NaN        NaN        NaN  ...    NaN   NaN   NaN   \n",
      "max    100.000000  93.000000  99.000000  96.000000  ...    NaN   NaN   NaN   \n",
      "\n",
      "       59th  60th  61st  62nd  63rd  64th  65th  \n",
      "count   0.0   0.0   0.0   0.0   0.0   0.0   0.0  \n",
      "mean    NaN   NaN   NaN   NaN   NaN   NaN   NaN  \n",
      "std     NaN   NaN   NaN   NaN   NaN   NaN   NaN  \n",
      "min     NaN   NaN   NaN   NaN   NaN   NaN   NaN  \n",
      "25%     NaN   NaN   NaN   NaN   NaN   NaN   NaN  \n",
      "50%     NaN   NaN   NaN   NaN   NaN   NaN   NaN  \n",
      "75%     NaN   NaN   NaN   NaN   NaN   NaN   NaN  \n",
      "max     NaN   NaN   NaN   NaN   NaN   NaN   NaN  \n",
      "\n",
      "[8 rows x 67 columns]\n",
      "        weeks_on  peak_value        1st        2nd       3rd        4th  \\\n",
      "count  33.000000   33.000000  33.000000  33.000000  32.00000  32.000000   \n",
      "mean   27.757576   37.575758  79.787879  70.484848  64.18750  56.156250   \n",
      "std    10.234837   31.180954  11.229864  15.839273  17.91456  21.097484   \n",
      "min    10.000000    1.000000  39.000000  25.000000  19.00000  15.000000   \n",
      "25%    20.000000    7.000000  74.000000  64.000000       NaN        NaN   \n",
      "50%    28.000000   28.000000  80.000000  72.000000       NaN        NaN   \n",
      "75%    34.000000   64.000000  85.000000  77.000000       NaN        NaN   \n",
      "max    65.000000   99.000000  99.000000  99.000000  97.00000  90.000000   \n",
      "\n",
      "             5th        6th        7th        8th  ...   56th  57th  58th  \\\n",
      "count  32.000000  31.000000  30.000000  29.000000  ...    1.0   1.0   1.0   \n",
      "mean   52.312500  48.032258  44.233333  41.482759  ...   26.0  29.0  32.0   \n",
      "std    24.521797  25.991645  27.196201  28.699951  ...    NaN   NaN   NaN   \n",
      "min    11.000000   6.000000   7.000000   1.000000  ...   26.0  29.0  32.0   \n",
      "25%          NaN        NaN        NaN        NaN  ...    NaN   NaN   NaN   \n",
      "50%          NaN        NaN        NaN        NaN  ...    NaN   NaN   NaN   \n",
      "75%          NaN        NaN        NaN        NaN  ...    NaN   NaN   NaN   \n",
      "max    97.000000  96.000000  93.000000  97.000000  ...   26.0  29.0  32.0   \n",
      "\n",
      "       59th  60th  61st  62nd  63rd  64th  65th  \n",
      "count   1.0   1.0   1.0   1.0   1.0   1.0   1.0  \n",
      "mean   39.0  39.0  43.0  47.0  50.0  50.0  49.0  \n",
      "std     NaN   NaN   NaN   NaN   NaN   NaN   NaN  \n",
      "min    39.0  39.0  43.0  47.0  50.0  50.0  49.0  \n",
      "25%     NaN   NaN   NaN   NaN   NaN   NaN   NaN  \n",
      "50%     NaN   NaN   NaN   NaN   NaN   NaN   NaN  \n",
      "75%     NaN   NaN   NaN   NaN   NaN   NaN   NaN  \n",
      "max    39.0  39.0  43.0  47.0  50.0  50.0  49.0  \n",
      "\n",
      "[8 rows x 67 columns]\n",
      "        weeks_on  peak_value        1st        2nd        3rd        4th  \\\n",
      "count  35.000000   35.000000  35.000000  35.000000  34.000000  32.000000   \n",
      "mean   25.657143   35.942857  75.885714  65.942857  57.647059  49.468750   \n",
      "std    10.108071   32.156733  17.875010  22.245876  23.414425  24.154054   \n",
      "min    10.000000    1.000000  15.000000   8.000000   6.000000   5.000000   \n",
      "25%    17.500000    6.000000  68.000000  53.500000        NaN        NaN   \n",
      "50%    28.000000   27.000000  79.000000  68.000000        NaN        NaN   \n",
      "75%    31.000000   69.500000  87.500000  83.000000        NaN        NaN   \n",
      "max    52.000000   98.000000  98.000000  98.000000  98.000000  95.000000   \n",
      "\n",
      "             5th        6th         7th        8th  ...   56th  57th  58th  \\\n",
      "count   32.00000  30.000000   30.000000  29.000000  ...    0.0   0.0   0.0   \n",
      "mean    45.31250  40.533333   41.300000  40.103448  ...    NaN   NaN   NaN   \n",
      "std     26.89818  26.629946   29.473717  29.938443  ...    NaN   NaN   NaN   \n",
      "min      2.00000   3.000000    2.000000   2.000000  ...    NaN   NaN   NaN   \n",
      "25%          NaN        NaN         NaN        NaN  ...    NaN   NaN   NaN   \n",
      "50%          NaN        NaN         NaN        NaN  ...    NaN   NaN   NaN   \n",
      "75%          NaN        NaN         NaN        NaN  ...    NaN   NaN   NaN   \n",
      "max    100.00000  99.000000  100.000000  96.000000  ...    NaN   NaN   NaN   \n",
      "\n",
      "       59th  60th  61st  62nd  63rd  64th  65th  \n",
      "count   0.0   0.0   0.0   0.0   0.0   0.0   0.0  \n",
      "mean    NaN   NaN   NaN   NaN   NaN   NaN   NaN  \n",
      "std     NaN   NaN   NaN   NaN   NaN   NaN   NaN  \n",
      "min     NaN   NaN   NaN   NaN   NaN   NaN   NaN  \n",
      "25%     NaN   NaN   NaN   NaN   NaN   NaN   NaN  \n",
      "50%     NaN   NaN   NaN   NaN   NaN   NaN   NaN  \n",
      "75%     NaN   NaN   NaN   NaN   NaN   NaN   NaN  \n",
      "max     NaN   NaN   NaN   NaN   NaN   NaN   NaN  \n",
      "\n",
      "[8 rows x 67 columns]\n"
     ]
    }
   ],
   "source": [
    "#breaking down the rock data by season (rock is the obvious genre choice, as it has the best probability of being on the topp 100, best probability of being on the top, and is heavily positively skewed)\n",
    "spring_rock_data = spring_data.loc[spring_data['genre'] ==\"Rock\"]\n",
    "summer_rock_data = summer_data.loc[summer_data['genre'] ==\"Rock\"]\n",
    "fall_rock_data = fall_data.loc[fall_data['genre'] ==\"Rock\"]\n",
    "winter_rock_data = winter_data.loc[winter_data['genre'] ==\"Rock\"]\n",
    "print(spring_rock_data.describe())\n",
    "print(summer_rock_data.describe())\n",
    "print(fall_rock_data.describe())\n",
    "print(winter_rock_data.describe())\n",
    "#something isn't right here, as the number of entries in each slices doesn't equal the value count above."
   ]
  },
  {
   "cell_type": "markdown",
   "metadata": {
    "focus": false,
    "id": "94514384-cf79-4e7a-a09b-02cddc91e77c"
   },
   "source": [
    "##### Write a brief description of your data, and any interesting observations you've made thus far. "
   ]
  },
  {
   "cell_type": "code",
   "execution_count": null,
   "metadata": {
    "collapsed": true,
    "focus": false,
    "id": "33a9e3f0-a29d-4b02-90bd-528bdb44fb78"
   },
   "outputs": [],
   "source": [
    "#Genre distribution stays the same over the different seasons\n",
    "#If you want to make it to the top, you better be in rock or rap (country and r&b don't make it)\n",
    "#Genre labels are misleading, as boy bands (N*SYNC, BackStreet Boys) are considered rock\n",
    "#Rock has a huge amount of market share (43% of the chart)\n",
    "#Rock has the vast majority of songs at the top of the chart"
   ]
  },
  {
   "cell_type": "markdown",
   "metadata": {
    "focus": false,
    "id": "888b6223-3bb4-4d91-b753-4867a3a1b281"
   },
   "source": [
    "## Step 2: Clean your data."
   ]
  },
  {
   "cell_type": "markdown",
   "metadata": {
    "focus": false,
    "id": "8a273328-6d9f-4dfc-88f8-a0c18e4d7f90"
   },
   "source": [
    "##### Do some rudimentary cleaning. Rename any columns that are poorly named, shorten any strings that may be too long, check for missing values (and replace them if it makes sense to do so). Explain your rationale for the way you choose to \"impute\" the missing data."
   ]
  },
  {
   "cell_type": "code",
   "execution_count": null,
   "metadata": {
    "collapsed": true,
    "focus": false,
    "id": "00022458-8edc-4f84-8492-0be04397fa64"
   },
   "outputs": [],
   "source": []
  },
  {
   "cell_type": "markdown",
   "metadata": {
    "focus": false,
    "id": "604ee5d7-10ed-4d14-9f86-16a6b240c00d"
   },
   "source": [
    "##### Using Pandas' built in `melt` function, pivot the weekly ranking data to be long rather than wide. As a result, you will have removed the 72 'week' columns and replace it with two: Week and Ranking. There will now be multiple entries for each song, one for each week on the Billboard rankings."
   ]
  },
  {
   "cell_type": "code",
   "execution_count": 83,
   "metadata": {
    "collapsed": false,
    "focus": false,
    "id": "bf0161ca-0fcb-4883-a216-93fd7ffa6456"
   },
   "outputs": [
    {
     "name": "stdout",
     "output_type": "stream",
     "text": [
      "                    artist variable  value\n",
      "0          Destiny's Child      1st   78.0\n",
      "1                  Santana      1st   15.0\n",
      "2            Savage Garden      1st   71.0\n",
      "3                  Madonna      1st   41.0\n",
      "4      Aguilera, Christina      1st   57.0\n",
      "5                    Janet      1st   59.0\n",
      "6          Destiny's Child      1st   83.0\n",
      "7        Iglesias, Enrique      1st   63.0\n",
      "8                    Sisqo      1st   77.0\n",
      "9                 Lonestar      1st   81.0\n",
      "10                  N'Sync      1st   82.0\n",
      "11     Aguilera, Christina      1st   71.0\n",
      "12        Vertical Horizon      1st   70.0\n",
      "13                   Creed      1st   84.0\n",
      "14                 Aaliyah      1st   59.0\n",
      "15         matchbox twenty      1st   60.0\n",
      "16           Carey, Mariah      1st   82.0\n",
      "17             Hill, Faith      1st   81.0\n",
      "18                     Mya      1st   72.0\n",
      "19                   Dream      1st   99.0\n",
      "20           Braxton, Toni      1st   63.0\n",
      "21           Anthony, Marc      1st   77.0\n",
      "22                     98�      1st   51.0\n",
      "23         Destiny's Child      1st   74.0\n",
      "24            3 Doors Down      1st   81.0\n",
      "25                   Sisqo      1st   74.0\n",
      "26     Aguilera, Christina      1st   50.0\n",
      "27        Houston, Whitney      1st   81.0\n",
      "28                     Joe      1st   94.0\n",
      "29         Jordan, Montell      1st   92.0\n",
      "...                    ...      ...    ...\n",
      "20575              2Ge+her     65th    NaN\n",
      "20576       Madison Avenue     65th    NaN\n",
      "20577                  Eve     65th    NaN\n",
      "20578          Limp Bizkit     65th    NaN\n",
      "20579      Spencer, Tracie     65th    NaN\n",
      "20580            Nu Flavor     65th    NaN\n",
      "20581                Tamar     65th    NaN\n",
      "20582       Levert, Gerald     65th    NaN\n",
      "20583           Hart, Beth     65th    NaN\n",
      "20584          Diffie, Joe     65th    NaN\n",
      "20585      Funkmaster Flex     65th    NaN\n",
      "20586         Price, Kelly     65th    NaN\n",
      "20587             En Vogue     65th    NaN\n",
      "20588          Herndon, Ty     65th    NaN\n",
      "20589            Anastacia     65th    NaN\n",
      "20590                Trina     65th    NaN\n",
      "20591              Lil' Mo     65th    NaN\n",
      "20592              A*Teens     65th    NaN\n",
      "20593        Sheist, Shade     65th    NaN\n",
      "20594           De La Soul     65th    NaN\n",
      "20595       Larrieux, Amel     65th    NaN\n",
      "20596        Braxton, Toni     65th    NaN\n",
      "20597              Tuesday     65th    NaN\n",
      "20598            LL Cool J     65th    NaN\n",
      "20599             Master P     65th    NaN\n",
      "20600     Ghostface Killah     65th    NaN\n",
      "20601          Smith, Will     65th    NaN\n",
      "20602        Zombie Nation     65th    NaN\n",
      "20603       Eastsidaz, The     65th    NaN\n",
      "20604               Fragma     65th    NaN\n",
      "\n",
      "[20605 rows x 3 columns]\n"
     ]
    }
   ],
   "source": [
    "columns_list=billboard_data.columns.values.tolist()\n",
    "weekly_position = columns_list[10:]\n",
    "massaged_data=pd.melt(billboard_data,id_vars='artist', value_vars=weekly_position)\n",
    "print(massaged_data)"
   ]
  },
  {
   "cell_type": "markdown",
   "metadata": {
    "focus": false,
    "id": "2023c5a8-1f4e-4d83-9a52-c41a5090af74"
   },
   "source": [
    "## Step 3: Visualize your data."
   ]
  },
  {
   "cell_type": "markdown",
   "metadata": {
    "focus": false,
    "id": "dfaca026-8eca-4119-b4c1-e43433790c8e"
   },
   "source": [
    "##### Using a plotting utility of your choice (Tableau or python modules or both), create visualizations that will provide context to your data. There is no minimum or maximum number of graphs you should generate, but there should be a clear and consistent story being told. Give insights to the distribution, statistics, and relationships of the data. "
   ]
  },
  {
   "cell_type": "code",
   "execution_count": null,
   "metadata": {
    "collapsed": true,
    "focus": false,
    "id": "aa0c535c-497c-4f10-b695-540612ca534e"
   },
   "outputs": [],
   "source": []
  },
  {
   "cell_type": "markdown",
   "metadata": {
    "focus": false,
    "id": "8401c631-245b-4560-8971-25cb2406c2ab"
   },
   "source": [
    "## Step 4: Create a Problem Statement.\n",
    "\n",
    "##### Having explored the data, come up with a problem statement for this data set. You can feel free to introduce data from any other source to support your problem statement, just be sure to provide a link to the origin of the data. Once again- be creative!"
   ]
  },
  {
   "cell_type": "code",
   "execution_count": null,
   "metadata": {
    "collapsed": true,
    "focus": false,
    "id": "e1b81214-9b26-4735-8c1b-4482e948b355"
   },
   "outputs": [],
   "source": [
    "#Say you're a smart, risk taking, opportunistic music artist. What should you do to make the most money? (Position on the Billboard 100 is based on CD sales, although it also includes airplay)\n"
   ]
  },
  {
   "cell_type": "markdown",
   "metadata": {
    "collapsed": false,
    "focus": false,
    "id": "a0ff30a0-48be-4851-9ec3-4ce8ece08a67"
   },
   "source": [
    "## Step 5: Brainstorm your Approach.\n",
    "##### In bullet-list form, provide a proposed approach for evaluating your problem statement. This can be somewhat high-level, but start to think about ways you can massage the data for maximum efficacy. "
   ]
  },
  {
   "cell_type": "code",
   "execution_count": null,
   "metadata": {
    "collapsed": true,
    "focus": false,
    "id": "9d772c7b-61e0-4bc4-bb1a-f3d43ba54862"
   },
   "outputs": [],
   "source": [
    "#-What does the music landscape look like at this point in time? Who are you competing with? (Look at the distribution of genres across the board, see what songs are at the top of the charts)\n",
    "#-What genre of music should you make? (Which genres populate the top of the chart?) (Probability of making the chart based on genre distribution, peak expectation of each genre)\n",
    "#-When should you release your song/album?\n",
    "#-Rough profit maximizing equation = P(making the top 100(by genre)) * E(position on top 100 (by genre)) * E(position (by season))\n",
    "#-For a complete maximizing equation we would need to take into account the payoff at each position on the board on a weekly basis, and factor in how long a song might stay on the charts"
   ]
  },
  {
   "cell_type": "markdown",
   "metadata": {
    "collapsed": true,
    "focus": false,
    "id": "a3c74c5b-3d90-4442-97d9-ae320fe238d1"
   },
   "source": [
    "## Step 6: Create a blog post with your code snippets and visualizations.\n",
    "##### Data Science is a growing field, and the Tech industry thrives off of collaboration and sharing of knowledge. Blogging is a powerful means for pushing the needle forward in our field. Using your blogging platform of choice, create a post describing each of the 5 steps above. Rather than writing a procedural text, imagine you're describing the data, visualizations, and conclusions you've arrived at to your peers. Aim for a minimum of 500 words. "
   ]
  },
  {
   "cell_type": "code",
   "execution_count": null,
   "metadata": {
    "collapsed": true,
    "focus": false,
    "id": "9b0185e4-7023-4086-b8b7-e15bcacc9984"
   },
   "outputs": [],
   "source": []
  },
  {
   "cell_type": "markdown",
   "metadata": {
    "focus": false,
    "id": "aee61cbf-dfe9-40d3-bfef-772a60bed757"
   },
   "source": [
    "## BONUS: The Content Managers working for the Podcast Publishing Company have recognized you as a thought leader in your field. They've asked you to pen a white paper (minimum 500 words) on the subject of 'What It Means To Have Clean Data'. This will be an opinion piece read by a wide audience, so be sure to back up your statements with real world examples or scenarios.\n",
    "\n",
    "##### Hint: To get started, look around on the internet for articles, blog posts, papers, youtube videos, podcasts, reddit discussions, anything that will help you understand the challenges and implications of dealing with big data. This should be a personal reflection on everything you've learned this week, and the learning goals that have been set out for you going forward. "
   ]
  },
  {
   "cell_type": "code",
   "execution_count": null,
   "metadata": {
    "collapsed": true
   },
   "outputs": [],
   "source": []
  }
 ],
 "metadata": {
  "anaconda-cloud": {},
  "kernelspec": {
   "display_name": "Python [default]",
   "language": "python",
   "name": "python2"
  },
  "language_info": {
   "codemirror_mode": {
    "name": "ipython",
    "version": 2
   },
   "file_extension": ".py",
   "mimetype": "text/x-python",
   "name": "python",
   "nbconvert_exporter": "python",
   "pygments_lexer": "ipython2",
   "version": "2.7.12"
  }
 },
 "nbformat": 4,
 "nbformat_minor": 0
}
