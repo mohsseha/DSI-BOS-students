{
 "cells": [
  {
   "cell_type": "code",
   "execution_count": 5,
   "metadata": {
    "collapsed": false
   },
   "outputs": [
    {
     "ename": "SyntaxError",
     "evalue": "Missing parentheses in call to 'print' (<ipython-input-5-0ce1701e1cf5>, line 12)",
     "output_type": "error",
     "traceback": [
      "\u001b[0;36m  File \u001b[0;32m\"<ipython-input-5-0ce1701e1cf5>\"\u001b[0;36m, line \u001b[0;32m12\u001b[0m\n\u001b[0;31m    print node_sum\u001b[0m\n\u001b[0m                 ^\u001b[0m\n\u001b[0;31mSyntaxError\u001b[0m\u001b[0;31m:\u001b[0m Missing parentheses in call to 'print'\n"
     ]
    }
   ],
   "source": [
    "tree = {\"node\": 4, \"left\": {\"node\": 4}, \"right\": {\"node\": 3, \"left\": {\"node\": 5},}}\n",
    "total = 0\n",
    "\n",
    "def node_sum(tree,total):\n",
    "    if \"counted\" not in tree.keys():\n",
    "        total += tree[\"node\"]\n",
    "        tree[\"counted\"] = \"yes\"\n",
    "    if \"left\" in tree.keys() and \"counted\" not in left.keys():\n",
    "        node_sum(left)\n",
    "    if \"right\" in tree.keys() and \"counted\" not in right.keys():\n",
    "        node_sum(right)\n",
    "    print node_sum\n",
    "\n",
    "node_sum(tree,total)"
   ]
  },
  {
   "cell_type": "code",
   "execution_count": 11,
   "metadata": {
    "collapsed": false
   },
   "outputs": [],
   "source": [
    "tree = {\"node\": 4, \"left\": {\"node\": 4}, \"right\": {\"node\": 3, \"left\": {\"node\": 5},}}\n",
    "\n",
    "def hsum(tree):\n",
    "    tot=0\n",
    "    if \"left\" in tree.keys():\n",
    "        tot=tot+hsum(tree[\"left\"])\n",
    "    if \"right\" in tree.keys():\n",
    "        tot=tot+hsum(tree[\"right\"])\n",
    "    return tot+tree[\"node\"]\n",
    "        \n",
    "    "
   ]
  },
  {
   "cell_type": "code",
   "execution_count": 12,
   "metadata": {
    "collapsed": false
   },
   "outputs": [
    {
     "data": {
      "text/plain": [
       "16"
      ]
     },
     "execution_count": 12,
     "metadata": {},
     "output_type": "execute_result"
    }
   ],
   "source": [
    "hsum(tree)"
   ]
  },
  {
   "cell_type": "code",
   "execution_count": null,
   "metadata": {
    "collapsed": true
   },
   "outputs": [],
   "source": []
  }
 ],
 "metadata": {
  "kernelspec": {
   "display_name": "Python [conda root]",
   "language": "python",
   "name": "conda-root-py"
  },
  "language_info": {
   "codemirror_mode": {
    "name": "ipython",
    "version": 3
   },
   "file_extension": ".py",
   "mimetype": "text/x-python",
   "name": "python",
   "nbconvert_exporter": "python",
   "pygments_lexer": "ipython3",
   "version": "3.5.2"
  }
 },
 "nbformat": 4,
 "nbformat_minor": 1
}
