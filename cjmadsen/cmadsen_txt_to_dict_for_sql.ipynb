{
 "cells": [
  {
   "cell_type": "code",
   "execution_count": 1,
   "metadata": {
    "collapsed": true
   },
   "outputs": [],
   "source": [
    "import numpy as np\n",
    "import pandas as pd"
   ]
  },
  {
   "cell_type": "code",
   "execution_count": 13,
   "metadata": {
    "collapsed": false
   },
   "outputs": [
    {
     "name": "stdout",
     "output_type": "stream",
     "text": [
      "['{\\n', ' \"cells\": [\\n', '  {\\n', '   \"cell_type\": \"code\",\\n', '   \"execution_count\": 1,\\n', '   \"metadata\": {\\n', '    \"collapsed\": true\\n', '   },\\n', '   \"outputs\": [],\\n', '   \"source\": [\\n', '    \"import numpy as np\"\\n', '   ]\\n', '  },\\n', '  {\\n', '   \"cell_type\": \"code\",\\n', '   \"execution_count\": null,\\n', '   \"metadata\": {\\n', '    \"collapsed\": true\\n', '   },\\n', '   \"outputs\": [],\\n', '   \"source\": [\\n', '    \"players = [\\'Tom\\', \\'Chris\\', \\'Michael\\', \\'David\\', \\'Colin\\', \\'Jamie\\', \\'Spencer\\']\\\\n\",\\n', '    \"packs = [\\'Kaladesh\\', \\\\\"Eldritch Moon\\\\\", \\\\\"Shadows over Innistrad\\\\\", \\\\\"Oath of the Gatewatch\\\\\", \\\\\"Battle for Zendikar\\\\\",\\\\\"Dragon\\'s of Tarkir\\\\\", \\\\\"Fate Reforged\\\\\", \\\\\"Khans of Tarkir\\\\\", \\\\\"Dragon\\'s Maze\\\\\", \\\\\"Gatecrash\\\\\", \\\\\"Return to Ravnica\\\\\", \\\\\"Journey into Nyx\\\\\", \\\\\"Born of the Gods\\\\\", \\\\\"Theros\\\\\", \\\\\"Magic Origins\\\\\", \\\\\"Magic 2015\\\\\", \\\\\"Magic 2014\\\\\", \\\\\"Conspiracy\\\\\",\\\\\"Conspiracy Take the Throne\\\\\" ]\"\\n', '   ]\\n', '  }\\n', ' ],\\n', ' \"metadata\": {\\n', '  \"anaconda-cloud\": {},\\n', '  \"kernelspec\": {\\n', '   \"display_name\": \"Python [conda root]\",\\n', '   \"language\": \"python\",\\n', '   \"name\": \"conda-root-py\"\\n', '  },\\n', '  \"language_info\": {\\n', '   \"codemirror_mode\": {\\n', '    \"name\": \"ipython\",\\n', '    \"version\": 2\\n', '   },\\n', '   \"file_extension\": \".py\",\\n', '   \"mimetype\": \"text/x-python\",\\n', '   \"name\": \"python\",\\n', '   \"nbconvert_exporter\": \"python\",\\n', '   \"pygments_lexer\": \"ipython2\",\\n', '   \"version\": \"2.7.12\"\\n', '  }\\n', ' },\\n', ' \"nbformat\": 4,\\n', ' \"nbformat_minor\": 1\\n', '}\\n']\n"
     ]
    }
   ],
   "source": [
    "text_list=open(\"/Users/cjmdsn/Untitled1.txt\",\"r\").readlines()\n",
    "print text_list"
   ]
  },
  {
   "cell_type": "code",
   "execution_count": 17,
   "metadata": {
    "collapsed": false
   },
   "outputs": [
    {
     "name": "stdout",
     "output_type": "stream",
     "text": [
      "['{', ' \"cells\": [', '  {', '   \"cell_type\": \"code\",', '   \"execution_count\": 1,', '   \"metadata\": {', '    \"collapsed\": true', '   },', '   \"outputs\": [],', '   \"source\": [', '    \"import numpy as np\"', '   ]', '  },', '  {', '   \"cell_type\": \"code\",', '   \"execution_count\": null,', '   \"metadata\": {', '    \"collapsed\": true', '   },', '   \"outputs\": [],', '   \"source\": [', '    \"players = [\\'Tom\\', \\'Chris\\', \\'Michael\\', \\'David\\', \\'Colin\\', \\'Jamie\\', \\'Spencer\\']\\\\n\",', '    \"packs = [\\'Kaladesh\\', \\\\\"Eldritch Moon\\\\\", \\\\\"Shadows over Innistrad\\\\\", \\\\\"Oath of the Gatewatch\\\\\", \\\\\"Battle for Zendikar\\\\\",\\\\\"Dragon\\'s of Tarkir\\\\\", \\\\\"Fate Reforged\\\\\", \\\\\"Khans of Tarkir\\\\\", \\\\\"Dragon\\'s Maze\\\\\", \\\\\"Gatecrash\\\\\", \\\\\"Return to Ravnica\\\\\", \\\\\"Journey into Nyx\\\\\", \\\\\"Born of the Gods\\\\\", \\\\\"Theros\\\\\", \\\\\"Magic Origins\\\\\", \\\\\"Magic 2015\\\\\", \\\\\"Magic 2014\\\\\", \\\\\"Conspiracy\\\\\",\\\\\"Conspiracy Take the Throne\\\\\" ]\"', '   ]', '  }', ' ],', ' \"metadata\": {', '  \"anaconda-cloud\": {},', '  \"kernelspec\": {', '   \"display_name\": \"Python [conda root]\",', '   \"language\": \"python\",', '   \"name\": \"conda-root-py\"', '  },', '  \"language_info\": {', '   \"codemirror_mode\": {', '    \"name\": \"ipython\",', '    \"version\": 2', '   },', '   \"file_extension\": \".py\",', '   \"mimetype\": \"text/x-python\",', '   \"name\": \"python\",', '   \"nbconvert_exporter\": \"python\",', '   \"pygments_lexer\": \"ipython2\",', '   \"version\": \"2.7.12\"', '  }', ' },', ' \"nbformat\": 4,', ' \"nbformat_minor\": 1', '}']\n"
     ]
    }
   ],
   "source": [
    "for line in text_list:\n",
    "    new=line.rstrip()\n",
    "    text_list[text_list.index(line)] = new\n",
    "print text_list"
   ]
  },
  {
   "cell_type": "code",
   "execution_count": 18,
   "metadata": {
    "collapsed": false
   },
   "outputs": [
    {
     "name": "stdout",
     "output_type": "stream",
     "text": [
      "{ \"cells\": [  {   \"cell_type\": \"code\",   \"execution_count\": 1,   \"metadata\": {    \"collapsed\": true   },   \"outputs\": [],   \"source\": [    \"import numpy as np\"   ]  },  {   \"cell_type\": \"code\",   \"execution_count\": null,   \"metadata\": {    \"collapsed\": true   },   \"outputs\": [],   \"source\": [    \"players = ['Tom', 'Chris', 'Michael', 'David', 'Colin', 'Jamie', 'Spencer']\\n\",    \"packs = ['Kaladesh', \\\"Eldritch Moon\\\", \\\"Shadows over Innistrad\\\", \\\"Oath of the Gatewatch\\\", \\\"Battle for Zendikar\\\",\\\"Dragon's of Tarkir\\\", \\\"Fate Reforged\\\", \\\"Khans of Tarkir\\\", \\\"Dragon's Maze\\\", \\\"Gatecrash\\\", \\\"Return to Ravnica\\\", \\\"Journey into Nyx\\\", \\\"Born of the Gods\\\", \\\"Theros\\\", \\\"Magic Origins\\\", \\\"Magic 2015\\\", \\\"Magic 2014\\\", \\\"Conspiracy\\\",\\\"Conspiracy Take the Throne\\\" ]\"   ]  } ], \"metadata\": {  \"anaconda-cloud\": {},  \"kernelspec\": {   \"display_name\": \"Python [conda root]\",   \"language\": \"python\",   \"name\": \"conda-root-py\"  },  \"language_info\": {   \"codemirror_mode\": {    \"name\": \"ipython\",    \"version\": 2   },   \"file_extension\": \".py\",   \"mimetype\": \"text/x-python\",   \"name\": \"python\",   \"nbconvert_exporter\": \"python\",   \"pygments_lexer\": \"ipython2\",   \"version\": \"2.7.12\"  } }, \"nbformat\": 4, \"nbformat_minor\": 1}\n"
     ]
    }
   ],
   "source": [
    "super_string = \"\"\n",
    "for line in text_list:\n",
    "    super_string += line\n",
    "print super_string"
   ]
  },
  {
   "cell_type": "code",
   "execution_count": 19,
   "metadata": {
    "collapsed": false
   },
   "outputs": [
    {
     "ename": "ValueError",
     "evalue": "dictionary update sequence element #0 has length 1; 2 is required",
     "output_type": "error",
     "traceback": [
      "\u001b[0;31m---------------------------------------------------------------------------\u001b[0m",
      "\u001b[0;31mValueError\u001b[0m                                Traceback (most recent call last)",
      "\u001b[0;32m<ipython-input-19-61bfbb21e446>\u001b[0m in \u001b[0;36m<module>\u001b[0;34m()\u001b[0m\n\u001b[0;32m----> 1\u001b[0;31m \u001b[0mcode_dictionary\u001b[0m \u001b[0;34m=\u001b[0m \u001b[0mdict\u001b[0m\u001b[0;34m(\u001b[0m\u001b[0msuper_string\u001b[0m\u001b[0;34m)\u001b[0m\u001b[0;34m\u001b[0m\u001b[0m\n\u001b[0m",
      "\u001b[0;31mValueError\u001b[0m: dictionary update sequence element #0 has length 1; 2 is required"
     ]
    }
   ],
   "source": [
    "code_dictionary = dict(super_string)"
   ]
  },
  {
   "cell_type": "code",
   "execution_count": 21,
   "metadata": {
    "collapsed": false
   },
   "outputs": [
    {
     "ename": "NameError",
     "evalue": "name 'null' is not defined",
     "output_type": "error",
     "traceback": [
      "\u001b[0;31m---------------------------------------------------------------------------\u001b[0m",
      "\u001b[0;31mNameError\u001b[0m                                 Traceback (most recent call last)",
      "\u001b[0;32m<ipython-input-21-c3851c305ef9>\u001b[0m in \u001b[0;36m<module>\u001b[0;34m()\u001b[0m\n\u001b[0;32m----> 1\u001b[0;31m \u001b[0mcode_dictionary\u001b[0m \u001b[0;34m=\u001b[0m \u001b[0;34m{\u001b[0m \u001b[0;34m\"cells\"\u001b[0m\u001b[0;34m:\u001b[0m \u001b[0;34m[\u001b[0m  \u001b[0;34m{\u001b[0m   \u001b[0;34m\"cell_type\"\u001b[0m\u001b[0;34m:\u001b[0m \u001b[0;34m\"code\"\u001b[0m\u001b[0;34m,\u001b[0m   \u001b[0;34m\"execution_count\"\u001b[0m\u001b[0;34m:\u001b[0m \u001b[0;36m1\u001b[0m\u001b[0;34m,\u001b[0m   \u001b[0;34m\"metadata\"\u001b[0m\u001b[0;34m:\u001b[0m \u001b[0;34m{\u001b[0m    \u001b[0;34m\"collapsed\"\u001b[0m\u001b[0;34m:\u001b[0m \u001b[0mTrue\u001b[0m   \u001b[0;34m}\u001b[0m\u001b[0;34m,\u001b[0m   \u001b[0;34m\"outputs\"\u001b[0m\u001b[0;34m:\u001b[0m \u001b[0;34m[\u001b[0m\u001b[0;34m]\u001b[0m\u001b[0;34m,\u001b[0m   \u001b[0;34m\"source\"\u001b[0m\u001b[0;34m:\u001b[0m \u001b[0;34m[\u001b[0m    \u001b[0;34m\"import numpy as np\"\u001b[0m   \u001b[0;34m]\u001b[0m  \u001b[0;34m}\u001b[0m\u001b[0;34m,\u001b[0m  \u001b[0;34m{\u001b[0m   \u001b[0;34m\"cell_type\"\u001b[0m\u001b[0;34m:\u001b[0m \u001b[0;34m\"code\"\u001b[0m\u001b[0;34m,\u001b[0m   \u001b[0;34m\"execution_count\"\u001b[0m\u001b[0;34m:\u001b[0m \u001b[0mnull\u001b[0m\u001b[0;34m,\u001b[0m   \u001b[0;34m\"metadata\"\u001b[0m\u001b[0;34m:\u001b[0m \u001b[0;34m{\u001b[0m    \u001b[0;34m\"collapsed\"\u001b[0m\u001b[0;34m:\u001b[0m \u001b[0mTrue\u001b[0m   \u001b[0;34m}\u001b[0m\u001b[0;34m,\u001b[0m   \u001b[0;34m\"outputs\"\u001b[0m\u001b[0;34m:\u001b[0m \u001b[0;34m[\u001b[0m\u001b[0;34m]\u001b[0m\u001b[0;34m,\u001b[0m   \u001b[0;34m\"source\"\u001b[0m\u001b[0;34m:\u001b[0m \u001b[0;34m[\u001b[0m    \u001b[0;34m\"players = ['Tom', 'Chris', 'Michael', 'David', 'Colin', 'Jamie', 'Spencer']\\n\"\u001b[0m\u001b[0;34m,\u001b[0m    \u001b[0;34m\"packs = ['Kaladesh', \\\"Eldritch Moon\\\", \\\"Shadows over Innistrad\\\", \\\"Oath of the Gatewatch\\\", \\\"Battle for Zendikar\\\",\\\"Dragon's of Tarkir\\\", \\\"Fate Reforged\\\", \\\"Khans of Tarkir\\\", \\\"Dragon's Maze\\\", \\\"Gatecrash\\\", \\\"Return to Ravnica\\\", \\\"Journey into Nyx\\\", \\\"Born of the Gods\\\", \\\"Theros\\\", \\\"Magic Origins\\\", \\\"Magic 2015\\\", \\\"Magic 2014\\\", \\\"Conspiracy\\\",\\\"Conspiracy Take the Throne\\\" ]\"\u001b[0m   \u001b[0;34m]\u001b[0m  \u001b[0;34m}\u001b[0m \u001b[0;34m]\u001b[0m\u001b[0;34m,\u001b[0m \u001b[0;34m\"metadata\"\u001b[0m\u001b[0;34m:\u001b[0m \u001b[0;34m{\u001b[0m  \u001b[0;34m\"anaconda-cloud\"\u001b[0m\u001b[0;34m:\u001b[0m \u001b[0;34m{\u001b[0m\u001b[0;34m}\u001b[0m\u001b[0;34m,\u001b[0m  \u001b[0;34m\"kernelspec\"\u001b[0m\u001b[0;34m:\u001b[0m \u001b[0;34m{\u001b[0m   \u001b[0;34m\"display_name\"\u001b[0m\u001b[0;34m:\u001b[0m \u001b[0;34m\"Python [conda root]\"\u001b[0m\u001b[0;34m,\u001b[0m   \u001b[0;34m\"language\"\u001b[0m\u001b[0;34m:\u001b[0m \u001b[0;34m\"python\"\u001b[0m\u001b[0;34m,\u001b[0m   \u001b[0;34m\"name\"\u001b[0m\u001b[0;34m:\u001b[0m \u001b[0;34m\"conda-root-py\"\u001b[0m  \u001b[0;34m}\u001b[0m\u001b[0;34m,\u001b[0m  \u001b[0;34m\"language_info\"\u001b[0m\u001b[0;34m:\u001b[0m \u001b[0;34m{\u001b[0m   \u001b[0;34m\"codemirror_mode\"\u001b[0m\u001b[0;34m:\u001b[0m \u001b[0;34m{\u001b[0m    \u001b[0;34m\"name\"\u001b[0m\u001b[0;34m:\u001b[0m \u001b[0;34m\"ipython\"\u001b[0m\u001b[0;34m,\u001b[0m    \u001b[0;34m\"version\"\u001b[0m\u001b[0;34m:\u001b[0m \u001b[0;36m2\u001b[0m   \u001b[0;34m}\u001b[0m\u001b[0;34m,\u001b[0m   \u001b[0;34m\"file_extension\"\u001b[0m\u001b[0;34m:\u001b[0m \u001b[0;34m\".py\"\u001b[0m\u001b[0;34m,\u001b[0m   \u001b[0;34m\"mimetype\"\u001b[0m\u001b[0;34m:\u001b[0m \u001b[0;34m\"text/x-python\"\u001b[0m\u001b[0;34m,\u001b[0m   \u001b[0;34m\"name\"\u001b[0m\u001b[0;34m:\u001b[0m \u001b[0;34m\"python\"\u001b[0m\u001b[0;34m,\u001b[0m   \u001b[0;34m\"nbconvert_exporter\"\u001b[0m\u001b[0;34m:\u001b[0m \u001b[0;34m\"python\"\u001b[0m\u001b[0;34m,\u001b[0m   \u001b[0;34m\"pygments_lexer\"\u001b[0m\u001b[0;34m:\u001b[0m \u001b[0;34m\"ipython2\"\u001b[0m\u001b[0;34m,\u001b[0m   \u001b[0;34m\"version\"\u001b[0m\u001b[0;34m:\u001b[0m \u001b[0;34m\"2.7.12\"\u001b[0m  \u001b[0;34m}\u001b[0m \u001b[0;34m}\u001b[0m\u001b[0;34m,\u001b[0m \u001b[0;34m\"nbformat\"\u001b[0m\u001b[0;34m:\u001b[0m \u001b[0;36m4\u001b[0m\u001b[0;34m,\u001b[0m \u001b[0;34m\"nbformat_minor\"\u001b[0m\u001b[0;34m:\u001b[0m \u001b[0;36m1\u001b[0m\u001b[0;34m}\u001b[0m\u001b[0;34m\u001b[0m\u001b[0m\n\u001b[0m",
      "\u001b[0;31mNameError\u001b[0m: name 'null' is not defined"
     ]
    }
   ],
   "source": [
    "code_dictionary = { \"cells\": [  {   \"cell_type\": \"code\",   \"execution_count\": 1,   \"metadata\": {    \"collapsed\": True   },   \"outputs\": [],   \"source\": [    \"import numpy as np\"   ]  },  {   \"cell_type\": \"code\",   \"execution_count\": null,   \"metadata\": {    \"collapsed\": True   },   \"outputs\": [],   \"source\": [    \"players = ['Tom', 'Chris', 'Michael', 'David', 'Colin', 'Jamie', 'Spencer']\\n\",    \"packs = ['Kaladesh', \\\"Eldritch Moon\\\", \\\"Shadows over Innistrad\\\", \\\"Oath of the Gatewatch\\\", \\\"Battle for Zendikar\\\",\\\"Dragon's of Tarkir\\\", \\\"Fate Reforged\\\", \\\"Khans of Tarkir\\\", \\\"Dragon's Maze\\\", \\\"Gatecrash\\\", \\\"Return to Ravnica\\\", \\\"Journey into Nyx\\\", \\\"Born of the Gods\\\", \\\"Theros\\\", \\\"Magic Origins\\\", \\\"Magic 2015\\\", \\\"Magic 2014\\\", \\\"Conspiracy\\\",\\\"Conspiracy Take the Throne\\\" ]\"   ]  } ], \"metadata\": {  \"anaconda-cloud\": {},  \"kernelspec\": {   \"display_name\": \"Python [conda root]\",   \"language\": \"python\",   \"name\": \"conda-root-py\"  },  \"language_info\": {   \"codemirror_mode\": {    \"name\": \"ipython\",    \"version\": 2   },   \"file_extension\": \".py\",   \"mimetype\": \"text/x-python\",   \"name\": \"python\",   \"nbconvert_exporter\": \"python\",   \"pygments_lexer\": \"ipython2\",   \"version\": \"2.7.12\"  } }, \"nbformat\": 4, \"nbformat_minor\": 1}"
   ]
  },
  {
   "cell_type": "code",
   "execution_count": 22,
   "metadata": {
    "collapsed": false
   },
   "outputs": [
    {
     "ename": "ValueError",
     "evalue": "Mixing dicts with non-Series may lead to ambiguous ordering.",
     "output_type": "error",
     "traceback": [
      "\u001b[0;31m---------------------------------------------------------------------------\u001b[0m",
      "\u001b[0;31mValueError\u001b[0m                                Traceback (most recent call last)",
      "\u001b[0;32m<ipython-input-22-9b5500b9bd5d>\u001b[0m in \u001b[0;36m<module>\u001b[0;34m()\u001b[0m\n\u001b[0;32m----> 1\u001b[0;31m \u001b[0mcode_df\u001b[0m \u001b[0;34m=\u001b[0m \u001b[0mpd\u001b[0m\u001b[0;34m.\u001b[0m\u001b[0mread_json\u001b[0m\u001b[0;34m(\u001b[0m\u001b[0;34m\"/Users/cjmdsn/Untitled1.txt\"\u001b[0m\u001b[0;34m)\u001b[0m\u001b[0;34m\u001b[0m\u001b[0m\n\u001b[0m",
      "\u001b[0;32m/Users/cjmdsn/anaconda/lib/python2.7/site-packages/pandas/io/json.pyc\u001b[0m in \u001b[0;36mread_json\u001b[0;34m(path_or_buf, orient, typ, dtype, convert_axes, convert_dates, keep_default_dates, numpy, precise_float, date_unit, encoding, lines)\u001b[0m\n\u001b[1;32m    279\u001b[0m         obj = FrameParser(json, orient, dtype, convert_axes, convert_dates,\n\u001b[1;32m    280\u001b[0m                           \u001b[0mkeep_default_dates\u001b[0m\u001b[0;34m,\u001b[0m \u001b[0mnumpy\u001b[0m\u001b[0;34m,\u001b[0m \u001b[0mprecise_float\u001b[0m\u001b[0;34m,\u001b[0m\u001b[0;34m\u001b[0m\u001b[0m\n\u001b[0;32m--> 281\u001b[0;31m                           date_unit).parse()\n\u001b[0m\u001b[1;32m    282\u001b[0m \u001b[0;34m\u001b[0m\u001b[0m\n\u001b[1;32m    283\u001b[0m     \u001b[0;32mif\u001b[0m \u001b[0mtyp\u001b[0m \u001b[0;34m==\u001b[0m \u001b[0;34m'series'\u001b[0m \u001b[0;32mor\u001b[0m \u001b[0mobj\u001b[0m \u001b[0;32mis\u001b[0m \u001b[0mNone\u001b[0m\u001b[0;34m:\u001b[0m\u001b[0;34m\u001b[0m\u001b[0m\n",
      "\u001b[0;32m/Users/cjmdsn/anaconda/lib/python2.7/site-packages/pandas/io/json.pyc\u001b[0m in \u001b[0;36mparse\u001b[0;34m(self)\u001b[0m\n\u001b[1;32m    347\u001b[0m \u001b[0;34m\u001b[0m\u001b[0m\n\u001b[1;32m    348\u001b[0m         \u001b[0;32melse\u001b[0m\u001b[0;34m:\u001b[0m\u001b[0;34m\u001b[0m\u001b[0m\n\u001b[0;32m--> 349\u001b[0;31m             \u001b[0mself\u001b[0m\u001b[0;34m.\u001b[0m\u001b[0m_parse_no_numpy\u001b[0m\u001b[0;34m(\u001b[0m\u001b[0;34m)\u001b[0m\u001b[0;34m\u001b[0m\u001b[0m\n\u001b[0m\u001b[1;32m    350\u001b[0m \u001b[0;34m\u001b[0m\u001b[0m\n\u001b[1;32m    351\u001b[0m         \u001b[0;32mif\u001b[0m \u001b[0mself\u001b[0m\u001b[0;34m.\u001b[0m\u001b[0mobj\u001b[0m \u001b[0;32mis\u001b[0m \u001b[0mNone\u001b[0m\u001b[0;34m:\u001b[0m\u001b[0;34m\u001b[0m\u001b[0m\n",
      "\u001b[0;32m/Users/cjmdsn/anaconda/lib/python2.7/site-packages/pandas/io/json.pyc\u001b[0m in \u001b[0;36m_parse_no_numpy\u001b[0;34m(self)\u001b[0m\n\u001b[1;32m    564\u001b[0m         \u001b[0;32mif\u001b[0m \u001b[0morient\u001b[0m \u001b[0;34m==\u001b[0m \u001b[0;34m\"columns\"\u001b[0m\u001b[0;34m:\u001b[0m\u001b[0;34m\u001b[0m\u001b[0m\n\u001b[1;32m    565\u001b[0m             self.obj = DataFrame(\n\u001b[0;32m--> 566\u001b[0;31m                 loads(json, precise_float=self.precise_float), dtype=None)\n\u001b[0m\u001b[1;32m    567\u001b[0m         \u001b[0;32melif\u001b[0m \u001b[0morient\u001b[0m \u001b[0;34m==\u001b[0m \u001b[0;34m\"split\"\u001b[0m\u001b[0;34m:\u001b[0m\u001b[0;34m\u001b[0m\u001b[0m\n\u001b[1;32m    568\u001b[0m             decoded = dict((str(k), v)\n",
      "\u001b[0;32m/Users/cjmdsn/anaconda/lib/python2.7/site-packages/pandas/core/frame.pyc\u001b[0m in \u001b[0;36m__init__\u001b[0;34m(self, data, index, columns, dtype, copy)\u001b[0m\n\u001b[1;32m    264\u001b[0m                                  dtype=dtype, copy=copy)\n\u001b[1;32m    265\u001b[0m         \u001b[0;32melif\u001b[0m \u001b[0misinstance\u001b[0m\u001b[0;34m(\u001b[0m\u001b[0mdata\u001b[0m\u001b[0;34m,\u001b[0m \u001b[0mdict\u001b[0m\u001b[0;34m)\u001b[0m\u001b[0;34m:\u001b[0m\u001b[0;34m\u001b[0m\u001b[0m\n\u001b[0;32m--> 266\u001b[0;31m             \u001b[0mmgr\u001b[0m \u001b[0;34m=\u001b[0m \u001b[0mself\u001b[0m\u001b[0;34m.\u001b[0m\u001b[0m_init_dict\u001b[0m\u001b[0;34m(\u001b[0m\u001b[0mdata\u001b[0m\u001b[0;34m,\u001b[0m \u001b[0mindex\u001b[0m\u001b[0;34m,\u001b[0m \u001b[0mcolumns\u001b[0m\u001b[0;34m,\u001b[0m \u001b[0mdtype\u001b[0m\u001b[0;34m=\u001b[0m\u001b[0mdtype\u001b[0m\u001b[0;34m)\u001b[0m\u001b[0;34m\u001b[0m\u001b[0m\n\u001b[0m\u001b[1;32m    267\u001b[0m         \u001b[0;32melif\u001b[0m \u001b[0misinstance\u001b[0m\u001b[0;34m(\u001b[0m\u001b[0mdata\u001b[0m\u001b[0;34m,\u001b[0m \u001b[0mma\u001b[0m\u001b[0;34m.\u001b[0m\u001b[0mMaskedArray\u001b[0m\u001b[0;34m)\u001b[0m\u001b[0;34m:\u001b[0m\u001b[0;34m\u001b[0m\u001b[0m\n\u001b[1;32m    268\u001b[0m             \u001b[0;32mimport\u001b[0m \u001b[0mnumpy\u001b[0m\u001b[0;34m.\u001b[0m\u001b[0mma\u001b[0m\u001b[0;34m.\u001b[0m\u001b[0mmrecords\u001b[0m \u001b[0;32mas\u001b[0m \u001b[0mmrecords\u001b[0m\u001b[0;34m\u001b[0m\u001b[0m\n",
      "\u001b[0;32m/Users/cjmdsn/anaconda/lib/python2.7/site-packages/pandas/core/frame.pyc\u001b[0m in \u001b[0;36m_init_dict\u001b[0;34m(self, data, index, columns, dtype)\u001b[0m\n\u001b[1;32m    400\u001b[0m             \u001b[0marrays\u001b[0m \u001b[0;34m=\u001b[0m \u001b[0;34m[\u001b[0m\u001b[0mdata\u001b[0m\u001b[0;34m[\u001b[0m\u001b[0mk\u001b[0m\u001b[0;34m]\u001b[0m \u001b[0;32mfor\u001b[0m \u001b[0mk\u001b[0m \u001b[0;32min\u001b[0m \u001b[0mkeys\u001b[0m\u001b[0;34m]\u001b[0m\u001b[0;34m\u001b[0m\u001b[0m\n\u001b[1;32m    401\u001b[0m \u001b[0;34m\u001b[0m\u001b[0m\n\u001b[0;32m--> 402\u001b[0;31m         \u001b[0;32mreturn\u001b[0m \u001b[0m_arrays_to_mgr\u001b[0m\u001b[0;34m(\u001b[0m\u001b[0marrays\u001b[0m\u001b[0;34m,\u001b[0m \u001b[0mdata_names\u001b[0m\u001b[0;34m,\u001b[0m \u001b[0mindex\u001b[0m\u001b[0;34m,\u001b[0m \u001b[0mcolumns\u001b[0m\u001b[0;34m,\u001b[0m \u001b[0mdtype\u001b[0m\u001b[0;34m=\u001b[0m\u001b[0mdtype\u001b[0m\u001b[0;34m)\u001b[0m\u001b[0;34m\u001b[0m\u001b[0m\n\u001b[0m\u001b[1;32m    403\u001b[0m \u001b[0;34m\u001b[0m\u001b[0m\n\u001b[1;32m    404\u001b[0m     \u001b[0;32mdef\u001b[0m \u001b[0m_init_ndarray\u001b[0m\u001b[0;34m(\u001b[0m\u001b[0mself\u001b[0m\u001b[0;34m,\u001b[0m \u001b[0mvalues\u001b[0m\u001b[0;34m,\u001b[0m \u001b[0mindex\u001b[0m\u001b[0;34m,\u001b[0m \u001b[0mcolumns\u001b[0m\u001b[0;34m,\u001b[0m \u001b[0mdtype\u001b[0m\u001b[0;34m=\u001b[0m\u001b[0mNone\u001b[0m\u001b[0;34m,\u001b[0m \u001b[0mcopy\u001b[0m\u001b[0;34m=\u001b[0m\u001b[0mFalse\u001b[0m\u001b[0;34m)\u001b[0m\u001b[0;34m:\u001b[0m\u001b[0;34m\u001b[0m\u001b[0m\n",
      "\u001b[0;32m/Users/cjmdsn/anaconda/lib/python2.7/site-packages/pandas/core/frame.pyc\u001b[0m in \u001b[0;36m_arrays_to_mgr\u001b[0;34m(arrays, arr_names, index, columns, dtype)\u001b[0m\n\u001b[1;32m   5396\u001b[0m     \u001b[0;31m# figure out the index, if necessary\u001b[0m\u001b[0;34m\u001b[0m\u001b[0;34m\u001b[0m\u001b[0m\n\u001b[1;32m   5397\u001b[0m     \u001b[0;32mif\u001b[0m \u001b[0mindex\u001b[0m \u001b[0;32mis\u001b[0m \u001b[0mNone\u001b[0m\u001b[0;34m:\u001b[0m\u001b[0;34m\u001b[0m\u001b[0m\n\u001b[0;32m-> 5398\u001b[0;31m         \u001b[0mindex\u001b[0m \u001b[0;34m=\u001b[0m \u001b[0mextract_index\u001b[0m\u001b[0;34m(\u001b[0m\u001b[0marrays\u001b[0m\u001b[0;34m)\u001b[0m\u001b[0;34m\u001b[0m\u001b[0m\n\u001b[0m\u001b[1;32m   5399\u001b[0m     \u001b[0;32melse\u001b[0m\u001b[0;34m:\u001b[0m\u001b[0;34m\u001b[0m\u001b[0m\n\u001b[1;32m   5400\u001b[0m         \u001b[0mindex\u001b[0m \u001b[0;34m=\u001b[0m \u001b[0m_ensure_index\u001b[0m\u001b[0;34m(\u001b[0m\u001b[0mindex\u001b[0m\u001b[0;34m)\u001b[0m\u001b[0;34m\u001b[0m\u001b[0m\n",
      "\u001b[0;32m/Users/cjmdsn/anaconda/lib/python2.7/site-packages/pandas/core/frame.pyc\u001b[0m in \u001b[0;36mextract_index\u001b[0;34m(data)\u001b[0m\n\u001b[1;32m   5447\u001b[0m \u001b[0;34m\u001b[0m\u001b[0m\n\u001b[1;32m   5448\u001b[0m             \u001b[0;32mif\u001b[0m \u001b[0mhave_dicts\u001b[0m\u001b[0;34m:\u001b[0m\u001b[0;34m\u001b[0m\u001b[0m\n\u001b[0;32m-> 5449\u001b[0;31m                 raise ValueError('Mixing dicts with non-Series may lead to '\n\u001b[0m\u001b[1;32m   5450\u001b[0m                                  'ambiguous ordering.')\n\u001b[1;32m   5451\u001b[0m \u001b[0;34m\u001b[0m\u001b[0m\n",
      "\u001b[0;31mValueError\u001b[0m: Mixing dicts with non-Series may lead to ambiguous ordering."
     ]
    }
   ],
   "source": [
    "code_df = pd.read_json(\"/Users/cjmdsn/Untitled1.txt\")"
   ]
  },
  {
   "cell_type": "code",
   "execution_count": null,
   "metadata": {
    "collapsed": true
   },
   "outputs": [],
   "source": []
  }
 ],
 "metadata": {
  "kernelspec": {
   "display_name": "Python [conda root]",
   "language": "python",
   "name": "conda-root-py"
  },
  "language_info": {
   "codemirror_mode": {
    "name": "ipython",
    "version": 2
   },
   "file_extension": ".py",
   "mimetype": "text/x-python",
   "name": "python",
   "nbconvert_exporter": "python",
   "pygments_lexer": "ipython2",
   "version": "2.7.13"
  }
 },
 "nbformat": 4,
 "nbformat_minor": 2
}
