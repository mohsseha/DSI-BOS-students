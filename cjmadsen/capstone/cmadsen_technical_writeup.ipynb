{
 "cells": [
  {
   "cell_type": "markdown",
   "metadata": {},
   "source": [
    "## Problem:##\n",
    "Udacity has a lot of data about its users habits on the platform, but doesn’t know how it can improve their business"
   ]
  },
  {
   "cell_type": "markdown",
   "metadata": {},
   "source": [
    "## Solution: ## \n",
    "Hire Chris as a consultant to tell them how ;)"
   ]
  },
  {
   "cell_type": "markdown",
   "metadata": {},
   "source": [
    "## Stakeholder Analysis: ##\n",
    "Udacity makes money by people paying to use their educational tools (and partnerships with Tech companies, probably)\n",
    "\n",
    "From user engagement data, we can look at user retention (which, again, is how they make $$$)\n",
    "\n",
    "Any actions we can suggest to increase user retention impacts the company's bottomline"
   ]
  },
  {
   "cell_type": "markdown",
   "metadata": {},
   "source": [
    "## Data at a Glance: ##\n",
    "3 CSV files taken from the Udacity Intro to Data Analysis Course (also available on their GitHub page)\n",
    "\n",
    "Enrollment Data, Daily User Engagement Data, Project Data"
   ]
  },
  {
   "cell_type": "markdown",
   "metadata": {},
   "source": [
    "## Enrollment Data: ##\n",
    "\n",
    "account key, cancel date, days to cancel, is canceled, is udactiy, join date, status\n",
    "\n",
    "#### account key: ###\n",
    "The unique identifier for each person\n",
    "\n",
    "#### cancel date: ###\n",
    "The date a user canceled their subscription, blank if the user is current\n",
    "\n",
    "#### days to cancel: ###\n",
    "The duration of a user's subscription, blank if the user is current\n",
    "\n",
    "#### is canceled: ###\n",
    "True/False if the user has canceled\n",
    "\n",
    "#### is udacity: ###\n",
    "True/False if the account is a Udacity test account\n",
    "\n",
    "#### join date: ###\n",
    "The date a user began their subscription\n",
    "\n",
    "#### status: ###\n",
    "Current/Canceled, redunadant with is canceled"
   ]
  },
  {
   "cell_type": "markdown",
   "metadata": {},
   "source": [
    "for example...<img src = \"Desktop/enrollment.png\" width=\"500\" height=\"400\">"
   ]
  },
  {
   "cell_type": "markdown",
   "metadata": {},
   "source": [
    "## Daily User Engagement Data: ##\n",
    "account key, lessons completed, number of courses visited, projects completed, total minutes visited, utc_date\n",
    "\n",
    "#### account key: ####\n",
    "The unique identifier for each person\n",
    "#### lessons completed: ###\n",
    "Number of lessons completed by the user on this day\n",
    "#### number of courses visited: ###\n",
    "Number of courses visited by the user on this day\n",
    "#### projects completed: ###\n",
    "Number of projects completed by the user\n",
    "#### total minutes visited: ###\n",
    "Minutes spent by the user on this day\n",
    "#### utc_date: ###\n",
    "The date of the observation"
   ]
  },
  {
   "cell_type": "markdown",
   "metadata": {},
   "source": [
    "<img src = \"Desktop/daily2.png\" width=\"500\" height=\"500\">"
   ]
  },
  {
   "cell_type": "markdown",
   "metadata": {},
   "source": [
    "## Project Data: ##\n",
    "account key, rating, creation date, completion date, lesson, processing state\n",
    "\n",
    "#### account key: ###\n",
    "The unique identifier for each person\n",
    "\n",
    "#### rating: ###\n",
    "UNGRADED/INCOMPLETE/PASSED/DISTINCTION, self-explanatory\n",
    "\n",
    "#### creation date: ###\n",
    "Date the user began working on the project\n",
    "\n",
    "#### comletion date: ###\n",
    "Date the user finished working on the project\n",
    "\n",
    "#### lesson: ###\n",
    "Identifier for which lesson the project was for\n",
    "\n",
    "#### processing state: ###\n",
    "Evaluted/Created, Udacity's grading state"
   ]
  },
  {
   "cell_type": "markdown",
   "metadata": {},
   "source": [
    "<img src = \"Desktop/projects.png\" width=\"500\" height=\"500\">"
   ]
  },
  {
   "cell_type": "markdown",
   "metadata": {},
   "source": [
    "## Analysis of Data Quality:\n",
    "\n",
    "As the pictures suggest, this data was very raw; some was useless, some needed cleaning and none of it was model ready.\n",
    "\n",
    "I spent a lot of time doing exploratory data analysis, looking at different slices of the data, the histogram of each variable, and the scatter plots of some choice combinations. This helped me get a sense of which features needed to be created. (see below)"
   ]
  },
  {
   "cell_type": "markdown",
   "metadata": {},
   "source": [
    "<img src = \"Desktop/days_to_cancel.png\" width=\"500\" height=\"500\">"
   ]
  },
  {
   "cell_type": "markdown",
   "metadata": {},
   "source": [
    "<img src = \"Desktop/visits_to_completion.png\" width=\"500\" height=\"500\">"
   ]
  },
  {
   "cell_type": "markdown",
   "metadata": {},
   "source": [
    "<img src = \"Desktop/minutes_to_completion.png\" width=\"500\" height=\"500\">"
   ]
  },
  {
   "cell_type": "markdown",
   "metadata": {},
   "source": [
    "<img src = \"Desktop/days_to_completion.png\" width=\"500\" height=\"500\">"
   ]
  },
  {
   "cell_type": "markdown",
   "metadata": {},
   "source": [
    "<img src = \"Desktop/obs_per_day.png\" width=\"500\" height=\"500\">"
   ]
  },
  {
   "cell_type": "markdown",
   "metadata": {},
   "source": [
    "Using the daily and project data, I looked at the total data for each account. I created features for the number of visits, total/average/max days between visits, total/average minutes spent, average courses visited, how many days the account had been active, the number of projects they completed and if they completed one or more projects."
   ]
  },
  {
   "cell_type": "markdown",
   "metadata": {},
   "source": [
    "<img src = \"Desktop/avg_minutes_spent.png\" width=\"500\" height=\"500\">"
   ]
  },
  {
   "cell_type": "markdown",
   "metadata": {},
   "source": [
    "<img src = \"Desktop/completed_projects.png\" width=\"500\" height=\"500\">"
   ]
  },
  {
   "cell_type": "markdown",
   "metadata": {},
   "source": [
    "## Domain Knowledge:\n",
    "#### 1) Projects are the \"capstone\" of each of the courses\n",
    "So project data will act as a reasonable proxy for course completion\n",
    "\n",
    "#### 2) Udacity was offering a one week free trial during the time this data was taken\n",
    "So the data for users that signed up and canceled within the first week is not being used"
   ]
  },
  {
   "cell_type": "markdown",
   "metadata": {},
   "source": [
    "## Thought Process: \n",
    "I wanted to see how well I could predict if a student will pass at least one project, so I figured I’d start by getting a benchmark by making a prediction using the total data for each user. \n",
    "\n",
    "Obviously I couldn’t include the number of completed projects in the model because the dependent variable is a derivative of it, but I included all the others knowing that regularization would knock out the unimportant/duplicative features."
   ]
  },
  {
   "cell_type": "markdown",
   "metadata": {},
   "source": [
    "<img src = \"Desktop/heat_map.png\" width=\"500\" height=\"500\">"
   ]
  },
  {
   "cell_type": "markdown",
   "metadata": {},
   "source": [
    "## Benchmark Model:\n",
    "I threw together a grid-searched, cross-validated logistic regression, which correctly classified each account ~90% of the time, with 80% specificity."
   ]
  },
  {
   "cell_type": "markdown",
   "metadata": {},
   "source": [
    "<img src = \"Desktop/classification.png\" width=\"500\" height=\"500\">"
   ]
  },
  {
   "cell_type": "markdown",
   "metadata": {},
   "source": [
    "## What's specificity, and why do I care?\n",
    "\n",
    "Specificity is the name of the game here. In simple terms, specificity is the percent of people that we correctly predicted wouldn’t pass the course out of all those that don't pass. I’m trying to identify which users aren’t likely to pass the project (my proxy for retention), so Udacity knows who to target with their user retention efforts.\n",
    "\n",
    "https://en.wikipedia.org/wiki/Sensitivity_and_specificity"
   ]
  },
  {
   "cell_type": "markdown",
   "metadata": {},
   "source": [
    "## Thought Process (again): \n",
    "\n",
    "Having the Benchmark as something to use to get a feel for the data and compare against is nice, but it's practical use is low. Predicting if someone will or will not pass after 9 months isn't very useful because they've almost invariably already either passed the course and are onto the next one, or failed and canceled their subscription.\n",
    "\n",
    "From Udacity's point of view, it'd be best to know as soon as possible which users are at risk not to complete the course (and therefore stop paying them $, and probably not pay them again in the future). So I built a model based on the cumulative user data as of day 8 (the first day after the week-long free trial), but admittedly I was worried that might not be very predictive, and I was interested in figuring out the earliest time it might be predictive. So I built more models, one for each day I had data for (roughly ~270)."
   ]
  },
  {
   "cell_type": "markdown",
   "metadata": {},
   "source": [
    "## Daily Models:\n",
    "\n",
    "## A MODEL PER DAY?! THAT'S A LOT OF MODELS!!!\n",
    "\n",
    "Confession: I didn't build one model for each day; I built **4** (with a 5th in production!), with some clever (well, maybe not) for loops to run each for each day, and capture their output."
   ]
  },
  {
   "cell_type": "markdown",
   "metadata": {},
   "source": [
    "## List of Models:\n",
    "\n",
    "- Logisitc Regression\n",
    "\n",
    "- Gradient Boosting Classifier\n",
    "\n",
    "- AdaBoosted Decision Tree Classifier\n",
    "\n",
    "- Random Forest Classifier\n",
    "\n",
    "- Support Vector Classifier (In production! But keep this between us. You could say its \"Classified\")"
   ]
  },
  {
   "cell_type": "markdown",
   "metadata": {},
   "source": [
    "## Discussion of Model Choices:\n",
    "\n",
    "1) Having options is good. The code for the different models in scikit learn is only nonimnally different, so time cost is low and it's a good way to practice my machine learning techniques\n",
    "\n",
    "2) Natural Experiment: I can compare and contrast the model performances\n",
    "\n",
    "3) Diversity: Check/Confirm model selection\n",
    "\n",
    "- Logistic Regression:\n",
    "Nothing fancy, baseline classification technique\n",
    "- Gradient Boosting Classifier:\n",
    "Boosting is useful when there is a disparity between the number of each class. Plus its hot on Kaggle right now.\n",
    "- AdaBoosted Decision Tree Classifier:\n",
    "Again boosting, also\n",
    "- Random Forest Classifier:\n",
    "Uses Bagging, which is a good comparison to the boosting models. Also creates many small trees with different subsets of features, which tend to be a stronger learner than trees by themselves"
   ]
  },
  {
   "cell_type": "markdown",
   "metadata": {},
   "source": [
    "## Visual Representation of the difference between models (and which to prefer):\n",
    "\n",
    "Yeah, being honest, I haven't actually gotten this far yet. This is where you would see a stacked specificity over days graph, with a line for each model. The analysis in my presentation hinges on this, so look forward to seeing it tomorrow!"
   ]
  },
  {
   "cell_type": "markdown",
   "metadata": {},
   "source": [
    "## Current Stakeholder Value:\n",
    "\n",
    "- Can accurately predict ~70% of at-risk users as of day 8\n",
    "- Model accuracy increases as days increase\n",
    "- \"Actionable\" information"
   ]
  },
  {
   "cell_type": "markdown",
   "metadata": {},
   "source": [
    "## Looking to the Future:\n",
    "\n",
    "- Use AWS EC2 to optimize different models\n",
    "- Build a Bayesian updating model to predict probability of passing the course on each day\n",
    "- Build a Bayesian model to predict how many courses a user will pass/how long they will be on the site, and estimate $ value of each student\n",
    "- Automate data pipelines"
   ]
  },
  {
   "cell_type": "code",
   "execution_count": null,
   "metadata": {
    "collapsed": true
   },
   "outputs": [],
   "source": []
  }
 ],
 "metadata": {
  "kernelspec": {
   "display_name": "Python [default]",
   "language": "python",
   "name": "python2"
  },
  "language_info": {
   "codemirror_mode": {
    "name": "ipython",
    "version": 2
   },
   "file_extension": ".py",
   "mimetype": "text/x-python",
   "name": "python",
   "nbconvert_exporter": "python",
   "pygments_lexer": "ipython2",
   "version": "2.7.13"
  }
 },
 "nbformat": 4,
 "nbformat_minor": 2
}
