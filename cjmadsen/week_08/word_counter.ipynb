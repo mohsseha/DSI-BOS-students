{
 "cells": [
  {
   "cell_type": "code",
   "execution_count": 47,
   "metadata": {
    "collapsed": false
   },
   "outputs": [],
   "source": [
    "def word_counter():\n",
    "    import sys\n",
    "    word_dict = {} #initialize word dictionary\n",
    "    symbols = ['`', '\"', \"'\", ';', ':', '?', \"!\", '.', ',','-',\"_\",'/', \"(\", \")\", \"[\", \"]\", \"{\", '}',\"\\n\" ] #list of symbols to be removed\n",
    "    for line in sys.stdin:\n",
    "        for item in symbols:\n",
    "            line = line.replace(item, '') #remove above symbols from text \n",
    "        line = line.lower() #convert the string to lowercase\n",
    "        line = line.split(' ') #split the string into a list on spaces\n",
    "        for word in line:\n",
    "            if word not in word_dict.keys():\n",
    "                word_dict[word] = 1 #if a word isn't in the dictionary, add it\n",
    "            else:\n",
    "                word_dict[word] +=1 #otherwise add one to the count\n",
    "    word_dict.pop('',None) #remove extra spaces\n",
    "    for key in word_dict.keys():\n",
    "        print key,    word_dict[key] #print word and count pairs"
   ]
  }
 ],
 "metadata": {
  "kernelspec": {
   "display_name": "Python [default]",
   "language": "python",
   "name": "python2"
  },
  "language_info": {
   "codemirror_mode": {
    "name": "ipython",
    "version": 2
   },
   "file_extension": ".py",
   "mimetype": "text/x-python",
   "name": "python",
   "nbconvert_exporter": "python",
   "pygments_lexer": "ipython2",
   "version": "2.7.13"
  }
 },
 "nbformat": 4,
 "nbformat_minor": 2
}
