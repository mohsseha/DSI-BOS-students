{
 "cells": [
  {
   "cell_type": "markdown",
   "metadata": {
    "focus": true,
    "id": "263eb813-da45-48cf-9a8f-9da76c18e470"
   },
   "source": [
    "# Project 2\n",
    "## Step 1: Exploring your data.\n",
    "\n",
    "##### Load your data in using Pandas and start to explore. Save all of your early exploration code here and include in your final submission."
   ]
  },
  {
   "cell_type": "code",
   "execution_count": 1,
   "metadata": {
    "collapsed": true
   },
   "outputs": [],
   "source": [
    "# Numeric and statistics packages:\n",
    "import numpy as np\n",
    "import scipy.stats as stats\n",
    "\n",
    "# Pandas handles dataset loading and manipulation:\n",
    "import pandas as pd\n",
    "\n",
    "# import the plotting functions:\n",
    "import matplotlib as mpl\n",
    "import matplotlib.pyplot as plt\n",
    "import seaborn as sns\n",
    "import plotly\n",
    "import plotly.plotly as py\n",
    "import plotly.graph_objs as go\n",
    "\n",
    "# Setup matplotlib to display in notebook:\n",
    "%matplotlib inline"
   ]
  },
  {
   "cell_type": "code",
   "execution_count": 2,
   "metadata": {
    "collapsed": false
   },
   "outputs": [
    {
     "data": {
      "text/html": [
       "<div>\n",
       "<table border=\"1\" class=\"dataframe\">\n",
       "  <thead>\n",
       "    <tr style=\"text-align: right;\">\n",
       "      <th></th>\n",
       "      <th>year</th>\n",
       "      <th>artist.inverted</th>\n",
       "      <th>track</th>\n",
       "      <th>time</th>\n",
       "      <th>genre</th>\n",
       "      <th>date.entered</th>\n",
       "      <th>date.peaked</th>\n",
       "      <th>x1st.week</th>\n",
       "      <th>x2nd.week</th>\n",
       "      <th>x3rd.week</th>\n",
       "      <th>...</th>\n",
       "      <th>x67th.week</th>\n",
       "      <th>x68th.week</th>\n",
       "      <th>x69th.week</th>\n",
       "      <th>x70th.week</th>\n",
       "      <th>x71st.week</th>\n",
       "      <th>x72nd.week</th>\n",
       "      <th>x73rd.week</th>\n",
       "      <th>x74th.week</th>\n",
       "      <th>x75th.week</th>\n",
       "      <th>x76th.week</th>\n",
       "    </tr>\n",
       "  </thead>\n",
       "  <tbody>\n",
       "    <tr>\n",
       "      <th>0</th>\n",
       "      <td>2000</td>\n",
       "      <td>Destiny's Child</td>\n",
       "      <td>Independent Women Part I</td>\n",
       "      <td>3:38</td>\n",
       "      <td>Rock</td>\n",
       "      <td>2000-09-23</td>\n",
       "      <td>2000-11-18</td>\n",
       "      <td>78</td>\n",
       "      <td>63.0</td>\n",
       "      <td>49.0</td>\n",
       "      <td>...</td>\n",
       "      <td>NaN</td>\n",
       "      <td>NaN</td>\n",
       "      <td>NaN</td>\n",
       "      <td>NaN</td>\n",
       "      <td>NaN</td>\n",
       "      <td>NaN</td>\n",
       "      <td>NaN</td>\n",
       "      <td>NaN</td>\n",
       "      <td>NaN</td>\n",
       "      <td>NaN</td>\n",
       "    </tr>\n",
       "    <tr>\n",
       "      <th>1</th>\n",
       "      <td>2000</td>\n",
       "      <td>Santana</td>\n",
       "      <td>Maria, Maria</td>\n",
       "      <td>4:18</td>\n",
       "      <td>Rock</td>\n",
       "      <td>2000-02-12</td>\n",
       "      <td>2000-04-08</td>\n",
       "      <td>15</td>\n",
       "      <td>8.0</td>\n",
       "      <td>6.0</td>\n",
       "      <td>...</td>\n",
       "      <td>NaN</td>\n",
       "      <td>NaN</td>\n",
       "      <td>NaN</td>\n",
       "      <td>NaN</td>\n",
       "      <td>NaN</td>\n",
       "      <td>NaN</td>\n",
       "      <td>NaN</td>\n",
       "      <td>NaN</td>\n",
       "      <td>NaN</td>\n",
       "      <td>NaN</td>\n",
       "    </tr>\n",
       "    <tr>\n",
       "      <th>2</th>\n",
       "      <td>2000</td>\n",
       "      <td>Savage Garden</td>\n",
       "      <td>I Knew I Loved You</td>\n",
       "      <td>4:07</td>\n",
       "      <td>Rock</td>\n",
       "      <td>1999-10-23</td>\n",
       "      <td>2000-01-29</td>\n",
       "      <td>71</td>\n",
       "      <td>48.0</td>\n",
       "      <td>43.0</td>\n",
       "      <td>...</td>\n",
       "      <td>NaN</td>\n",
       "      <td>NaN</td>\n",
       "      <td>NaN</td>\n",
       "      <td>NaN</td>\n",
       "      <td>NaN</td>\n",
       "      <td>NaN</td>\n",
       "      <td>NaN</td>\n",
       "      <td>NaN</td>\n",
       "      <td>NaN</td>\n",
       "      <td>NaN</td>\n",
       "    </tr>\n",
       "    <tr>\n",
       "      <th>3</th>\n",
       "      <td>2000</td>\n",
       "      <td>Madonna</td>\n",
       "      <td>Music</td>\n",
       "      <td>3:45</td>\n",
       "      <td>Rock</td>\n",
       "      <td>2000-08-12</td>\n",
       "      <td>2000-09-16</td>\n",
       "      <td>41</td>\n",
       "      <td>23.0</td>\n",
       "      <td>18.0</td>\n",
       "      <td>...</td>\n",
       "      <td>NaN</td>\n",
       "      <td>NaN</td>\n",
       "      <td>NaN</td>\n",
       "      <td>NaN</td>\n",
       "      <td>NaN</td>\n",
       "      <td>NaN</td>\n",
       "      <td>NaN</td>\n",
       "      <td>NaN</td>\n",
       "      <td>NaN</td>\n",
       "      <td>NaN</td>\n",
       "    </tr>\n",
       "    <tr>\n",
       "      <th>4</th>\n",
       "      <td>2000</td>\n",
       "      <td>Aguilera, Christina</td>\n",
       "      <td>Come On Over Baby (All I Want Is You)</td>\n",
       "      <td>3:38</td>\n",
       "      <td>Rock</td>\n",
       "      <td>2000-08-05</td>\n",
       "      <td>2000-10-14</td>\n",
       "      <td>57</td>\n",
       "      <td>47.0</td>\n",
       "      <td>45.0</td>\n",
       "      <td>...</td>\n",
       "      <td>NaN</td>\n",
       "      <td>NaN</td>\n",
       "      <td>NaN</td>\n",
       "      <td>NaN</td>\n",
       "      <td>NaN</td>\n",
       "      <td>NaN</td>\n",
       "      <td>NaN</td>\n",
       "      <td>NaN</td>\n",
       "      <td>NaN</td>\n",
       "      <td>NaN</td>\n",
       "    </tr>\n",
       "  </tbody>\n",
       "</table>\n",
       "<p>5 rows × 83 columns</p>\n",
       "</div>"
      ],
      "text/plain": [
       "   year      artist.inverted                                  track  time  \\\n",
       "0  2000      Destiny's Child               Independent Women Part I  3:38   \n",
       "1  2000              Santana                           Maria, Maria  4:18   \n",
       "2  2000        Savage Garden                     I Knew I Loved You  4:07   \n",
       "3  2000              Madonna                                  Music  3:45   \n",
       "4  2000  Aguilera, Christina  Come On Over Baby (All I Want Is You)  3:38   \n",
       "\n",
       "  genre date.entered date.peaked  x1st.week  x2nd.week  x3rd.week     ...      \\\n",
       "0  Rock   2000-09-23  2000-11-18         78       63.0       49.0     ...       \n",
       "1  Rock   2000-02-12  2000-04-08         15        8.0        6.0     ...       \n",
       "2  Rock   1999-10-23  2000-01-29         71       48.0       43.0     ...       \n",
       "3  Rock   2000-08-12  2000-09-16         41       23.0       18.0     ...       \n",
       "4  Rock   2000-08-05  2000-10-14         57       47.0       45.0     ...       \n",
       "\n",
       "   x67th.week  x68th.week  x69th.week  x70th.week  x71st.week  x72nd.week  \\\n",
       "0         NaN         NaN         NaN         NaN         NaN         NaN   \n",
       "1         NaN         NaN         NaN         NaN         NaN         NaN   \n",
       "2         NaN         NaN         NaN         NaN         NaN         NaN   \n",
       "3         NaN         NaN         NaN         NaN         NaN         NaN   \n",
       "4         NaN         NaN         NaN         NaN         NaN         NaN   \n",
       "\n",
       "   x73rd.week  x74th.week  x75th.week  x76th.week  \n",
       "0         NaN         NaN         NaN         NaN  \n",
       "1         NaN         NaN         NaN         NaN  \n",
       "2         NaN         NaN         NaN         NaN  \n",
       "3         NaN         NaN         NaN         NaN  \n",
       "4         NaN         NaN         NaN         NaN  \n",
       "\n",
       "[5 rows x 83 columns]"
      ]
     },
     "execution_count": 2,
     "metadata": {},
     "output_type": "execute_result"
    }
   ],
   "source": [
    "billboard = pd.read_csv('../assets/billboard.csv')\n",
    "\n",
    "billboard.head()"
   ]
  },
  {
   "cell_type": "code",
   "execution_count": 3,
   "metadata": {
    "collapsed": false
   },
   "outputs": [
    {
     "data": {
      "text/plain": [
       "(317, 83)"
      ]
     },
     "execution_count": 3,
     "metadata": {},
     "output_type": "execute_result"
    }
   ],
   "source": [
    "billboard.shape"
   ]
  },
  {
   "cell_type": "code",
   "execution_count": 4,
   "metadata": {
    "collapsed": false
   },
   "outputs": [
    {
     "data": {
      "text/plain": [
       "year                 int64\n",
       "artist.inverted     object\n",
       "track               object\n",
       "time                object\n",
       "genre               object\n",
       "date.entered        object\n",
       "date.peaked         object\n",
       "x1st.week            int64\n",
       "x2nd.week          float64\n",
       "x3rd.week          float64\n",
       "dtype: object"
      ]
     },
     "execution_count": 4,
     "metadata": {},
     "output_type": "execute_result"
    }
   ],
   "source": [
    "billboard.dtypes.head(10)"
   ]
  },
  {
   "cell_type": "code",
   "execution_count": 5,
   "metadata": {
    "collapsed": false
   },
   "outputs": [
    {
     "data": {
      "text/plain": [
       "Index([u'year', u'artist.inverted', u'track', u'time', u'genre',\n",
       "       u'date.entered', u'date.peaked', u'x1st.week', u'x2nd.week',\n",
       "       u'x3rd.week', u'x4th.week', u'x5th.week', u'x6th.week', u'x7th.week',\n",
       "       u'x8th.week', u'x9th.week', u'x10th.week', u'x11th.week', u'x12th.week',\n",
       "       u'x13th.week', u'x14th.week', u'x15th.week', u'x16th.week',\n",
       "       u'x17th.week', u'x18th.week', u'x19th.week', u'x20th.week',\n",
       "       u'x21st.week', u'x22nd.week', u'x23rd.week', u'x24th.week',\n",
       "       u'x25th.week', u'x26th.week', u'x27th.week', u'x28th.week',\n",
       "       u'x29th.week', u'x30th.week', u'x31st.week', u'x32nd.week',\n",
       "       u'x33rd.week', u'x34th.week', u'x35th.week', u'x36th.week',\n",
       "       u'x37th.week', u'x38th.week', u'x39th.week', u'x40th.week',\n",
       "       u'x41st.week', u'x42nd.week', u'x43rd.week', u'x44th.week',\n",
       "       u'x45th.week', u'x46th.week', u'x47th.week', u'x48th.week',\n",
       "       u'x49th.week', u'x50th.week', u'x51st.week', u'x52nd.week',\n",
       "       u'x53rd.week', u'x54th.week', u'x55th.week', u'x56th.week',\n",
       "       u'x57th.week', u'x58th.week', u'x59th.week', u'x60th.week',\n",
       "       u'x61st.week', u'x62nd.week', u'x63rd.week', u'x64th.week',\n",
       "       u'x65th.week', u'x66th.week', u'x67th.week', u'x68th.week',\n",
       "       u'x69th.week', u'x70th.week', u'x71st.week', u'x72nd.week',\n",
       "       u'x73rd.week', u'x74th.week', u'x75th.week', u'x76th.week'],\n",
       "      dtype='object')"
      ]
     },
     "execution_count": 5,
     "metadata": {},
     "output_type": "execute_result"
    }
   ],
   "source": [
    "billboard.columns"
   ]
  },
  {
   "cell_type": "code",
   "execution_count": 6,
   "metadata": {
    "collapsed": false
   },
   "outputs": [
    {
     "data": {
      "text/plain": [
       "2000    317\n",
       "Name: year, dtype: int64"
      ]
     },
     "execution_count": 6,
     "metadata": {},
     "output_type": "execute_result"
    }
   ],
   "source": [
    "billboard.year.value_counts()"
   ]
  },
  {
   "cell_type": "code",
   "execution_count": 7,
   "metadata": {
    "collapsed": false
   },
   "outputs": [
    {
     "data": {
      "text/html": [
       "<div>\n",
       "<table border=\"1\" class=\"dataframe\">\n",
       "  <thead>\n",
       "    <tr style=\"text-align: right;\">\n",
       "      <th></th>\n",
       "      <th>artist.inverted</th>\n",
       "      <th>track</th>\n",
       "      <th>time</th>\n",
       "      <th>genre</th>\n",
       "      <th>date.entered</th>\n",
       "      <th>date.peaked</th>\n",
       "    </tr>\n",
       "  </thead>\n",
       "  <tbody>\n",
       "    <tr>\n",
       "      <th>count</th>\n",
       "      <td>317</td>\n",
       "      <td>317</td>\n",
       "      <td>317</td>\n",
       "      <td>317</td>\n",
       "      <td>317</td>\n",
       "      <td>317</td>\n",
       "    </tr>\n",
       "    <tr>\n",
       "      <th>unique</th>\n",
       "      <td>228</td>\n",
       "      <td>316</td>\n",
       "      <td>126</td>\n",
       "      <td>10</td>\n",
       "      <td>68</td>\n",
       "      <td>53</td>\n",
       "    </tr>\n",
       "    <tr>\n",
       "      <th>top</th>\n",
       "      <td>Jay-Z</td>\n",
       "      <td>Where I Wanna Be</td>\n",
       "      <td>3:50</td>\n",
       "      <td>Rock</td>\n",
       "      <td>2000-01-29</td>\n",
       "      <td>2000-12-02</td>\n",
       "    </tr>\n",
       "    <tr>\n",
       "      <th>freq</th>\n",
       "      <td>5</td>\n",
       "      <td>2</td>\n",
       "      <td>9</td>\n",
       "      <td>137</td>\n",
       "      <td>11</td>\n",
       "      <td>17</td>\n",
       "    </tr>\n",
       "  </tbody>\n",
       "</table>\n",
       "</div>"
      ],
      "text/plain": [
       "       artist.inverted             track  time genre date.entered date.peaked\n",
       "count              317               317   317   317          317         317\n",
       "unique             228               316   126    10           68          53\n",
       "top              Jay-Z  Where I Wanna Be  3:50  Rock   2000-01-29  2000-12-02\n",
       "freq                 5                 2     9   137           11          17"
      ]
     },
     "execution_count": 7,
     "metadata": {},
     "output_type": "execute_result"
    }
   ],
   "source": [
    "billboard.iloc[:,1:7].describe()"
   ]
  },
  {
   "cell_type": "code",
   "execution_count": 8,
   "metadata": {
    "collapsed": false
   },
   "outputs": [
    {
     "data": {
      "text/plain": [
       "0    48\n",
       "1    50\n",
       "2    43\n",
       "3    52\n",
       "4    55\n",
       "dtype: int64"
      ]
     },
     "execution_count": 8,
     "metadata": {},
     "output_type": "execute_result"
    }
   ],
   "source": [
    "#count number of null data points per row\n",
    "billboard.iloc[:,7:].isnull().sum(axis=1).head()\n"
   ]
  },
  {
   "cell_type": "code",
   "execution_count": 9,
   "metadata": {
    "collapsed": false
   },
   "outputs": [
    {
     "data": {
      "text/plain": [
       "100"
      ]
     },
     "execution_count": 9,
     "metadata": {},
     "output_type": "execute_result"
    }
   ],
   "source": [
    "# there are 53 weeks of data to make sure that the 52 weeks of 2000 are covered\n",
    "billboard.iloc[:,7:].notnull().sum(axis=1).sum()/53"
   ]
  },
  {
   "cell_type": "code",
   "execution_count": 10,
   "metadata": {
    "collapsed": false
   },
   "outputs": [
    {
     "data": {
      "text/plain": [
       "Rock           137\n",
       "Country         74\n",
       "Rap             58\n",
       "R&B             23\n",
       "Pop              9\n",
       "Latin            9\n",
       "Electronica      4\n",
       "Gospel           1\n",
       "Jazz             1\n",
       "Reggae           1\n",
       "Name: genre, dtype: int64"
      ]
     },
     "execution_count": 10,
     "metadata": {},
     "output_type": "execute_result"
    }
   ],
   "source": [
    "billboard.genre.value_counts()"
   ]
  },
  {
   "cell_type": "code",
   "execution_count": 11,
   "metadata": {
    "collapsed": false
   },
   "outputs": [
    {
     "data": {
      "text/plain": [
       "'1999-06-05'"
      ]
     },
     "execution_count": 11,
     "metadata": {},
     "output_type": "execute_result"
    }
   ],
   "source": [
    "billboard['date.entered'].min()"
   ]
  },
  {
   "cell_type": "code",
   "execution_count": 12,
   "metadata": {
    "collapsed": false
   },
   "outputs": [
    {
     "data": {
      "text/plain": [
       "'2000-12-30'"
      ]
     },
     "execution_count": 12,
     "metadata": {},
     "output_type": "execute_result"
    }
   ],
   "source": [
    "billboard['date.entered'].max()"
   ]
  },
  {
   "cell_type": "markdown",
   "metadata": {
    "focus": false,
    "id": "94514384-cf79-4e7a-a09b-02cddc91e77c"
   },
   "source": [
    "##### Write a brief description of your data, and any interesting observations you've made thus far. "
   ]
  },
  {
   "cell_type": "markdown",
   "metadata": {
    "collapsed": true,
    "focus": false,
    "id": "33a9e3f0-a29d-4b02-90bd-528bdb44fb78"
   },
   "source": [
    "The dataset contains 317 tracks that on the billboard top 100 for the year 2000, along with the artist name, track length, genre, date entered and date peaked on the billboard. The billboard top 100 provides weekly rankings of singles based mostly on the amount of radio play. \n",
    "The dataset includes the weekly ranking for each track for each week it was on the top 100 list.\n",
    "There are a few immediate observations:\n",
    "\n",
    "* Rock tracks consist of 137 out of 317 tracks on the top 100.\n",
    "* The date entered is as early june 5, 1999.   The list includes those tracks that have been on the top 100 sometimes during year 2000.\n",
    "* There are 53 weeks of data to cover the 52 weeks of year 2000.\n",
    "\n"
   ]
  },
  {
   "cell_type": "markdown",
   "metadata": {
    "focus": false,
    "id": "888b6223-3bb4-4d91-b753-4867a3a1b281"
   },
   "source": [
    "## Step 2: Clean your data."
   ]
  },
  {
   "cell_type": "markdown",
   "metadata": {
    "focus": false,
    "id": "8a273328-6d9f-4dfc-88f8-a0c18e4d7f90"
   },
   "source": [
    "##### Do some rudimentary cleaning. Rename any columns that are poorly named, shorten any strings that may be too long, check for missing values (and replace them if it makes sense to do so). Explain your rationale for the way you choose to \"impute\" the missing data."
   ]
  },
  {
   "cell_type": "code",
   "execution_count": 13,
   "metadata": {
    "collapsed": true,
    "focus": false,
    "id": "00022458-8edc-4f84-8492-0be04397fa64"
   },
   "outputs": [],
   "source": [
    "# Rename artist.inverted to artist\n",
    "billboard.rename(columns={'artist.inverted': 'artist'}, inplace=True)"
   ]
  },
  {
   "cell_type": "code",
   "execution_count": 14,
   "metadata": {
    "collapsed": false
   },
   "outputs": [],
   "source": [
    "#columns should not have a period in them\n",
    "col_names = []\n",
    "for col in billboard.columns[0:7]:\n",
    "    col_2 = col.replace('.','_')\n",
    "    col_names.append(col_2)   \n",
    "col_names\n",
    "\n",
    "        \n",
    "# Rename week columns\n",
    "week_names = ['week' + str(i+1) for i in range(76)]\n",
    "col_names = col_names + week_names\n",
    "\n",
    "billboard.columns = col_names\n",
    "\n"
   ]
  },
  {
   "cell_type": "code",
   "execution_count": 15,
   "metadata": {
    "collapsed": false
   },
   "outputs": [],
   "source": [
    "# change the data type of dates \n",
    "billboard.date_entered = pd.to_datetime(billboard.date_entered)\n",
    "billboard.date_peaked = pd.to_datetime(billboard.date_peaked)\n",
    "\n",
    "# add a wks_to_peak column to billboard\n",
    "enter_to_peak = billboard.date_peaked -billboard.date_entered \n",
    "enter_to_peak = enter_to_peak.astype(int)   # in ns\n",
    "w=60*60*24*7*10**9  # w is the number of ns in a week\n",
    "enter_to_peak=enter_to_peak/w   # in weeks\n",
    "billboard['wks_to_peak']= enter_to_peak  # add wks_to_peak column to billboard"
   ]
  },
  {
   "cell_type": "code",
   "execution_count": 17,
   "metadata": {
    "collapsed": false
   },
   "outputs": [],
   "source": [
    "# convert'time' into seconds\n",
    "billboard.shape[0]\n",
    "time_list = []\n",
    "for row in range(billboard.shape[0]):\n",
    "    secs =int(billboard.time.str.split(':')[row][0])*60+int(billboard.time.str.split(':')[row][1])\n",
    "    time_list.append(secs)\n",
    "billboard['time'] = time_list\n"
   ]
  },
  {
   "cell_type": "code",
   "execution_count": 18,
   "metadata": {
    "collapsed": false
   },
   "outputs": [
    {
     "data": {
      "text/plain": [
       "Index([u'year', u'artist', u'track', u'time', u'genre', u'date_entered',\n",
       "       u'date_peaked', u'week1', u'week2', u'week3', u'week4', u'week5',\n",
       "       u'week6', u'week7', u'week8', u'week9', u'week10', u'week11', u'week12',\n",
       "       u'week13', u'week14', u'week15', u'week16', u'week17', u'week18',\n",
       "       u'week19', u'week20', u'week21', u'week22', u'week23', u'week24',\n",
       "       u'week25', u'week26', u'week27', u'week28', u'week29', u'week30',\n",
       "       u'week31', u'week32', u'week33', u'week34', u'week35', u'week36',\n",
       "       u'week37', u'week38', u'week39', u'week40', u'week41', u'week42',\n",
       "       u'week43', u'week44', u'week45', u'week46', u'week47', u'week48',\n",
       "       u'week49', u'week50', u'week51', u'week52', u'week53', u'week54',\n",
       "       u'week55', u'week56', u'week57', u'week58', u'week59', u'week60',\n",
       "       u'week61', u'week62', u'week63', u'week64', u'week65', u'week66',\n",
       "       u'week67', u'week68', u'week69', u'week70', u'week71', u'week72',\n",
       "       u'week73', u'week74', u'week75', u'week76', u'wks_to_peak'],\n",
       "      dtype='object')"
      ]
     },
     "execution_count": 18,
     "metadata": {},
     "output_type": "execute_result"
    }
   ],
   "source": [
    "billboard.columns"
   ]
  },
  {
   "cell_type": "markdown",
   "metadata": {
    "focus": false,
    "id": "604ee5d7-10ed-4d14-9f86-16a6b240c00d"
   },
   "source": [
    "##### Using Pandas' built in `melt` function, pivot the weekly ranking data to be long rather than wide. As a result, you will have removed the 72 'week' columns and replace it with two: Week and Ranking. There will now be multiple entries for each song, one for each week on the Billboard rankings."
   ]
  },
  {
   "cell_type": "code",
   "execution_count": 24,
   "metadata": {
    "collapsed": false,
    "focus": false,
    "id": "bf0161ca-0fcb-4883-a216-93fd7ffa6456"
   },
   "outputs": [
    {
     "data": {
      "text/html": [
       "<div>\n",
       "<table border=\"1\" class=\"dataframe\">\n",
       "  <thead>\n",
       "    <tr style=\"text-align: right;\">\n",
       "      <th></th>\n",
       "      <th>year</th>\n",
       "      <th>artist</th>\n",
       "      <th>track</th>\n",
       "      <th>time</th>\n",
       "      <th>genre</th>\n",
       "      <th>date_entered</th>\n",
       "      <th>date_peaked</th>\n",
       "      <th>wks_to_peak</th>\n",
       "      <th>week</th>\n",
       "      <th>rank</th>\n",
       "    </tr>\n",
       "  </thead>\n",
       "  <tbody>\n",
       "    <tr>\n",
       "      <th>246</th>\n",
       "      <td>2000</td>\n",
       "      <td>2 Pac</td>\n",
       "      <td>Baby Don't Cry (Keep Ya Head Up II)</td>\n",
       "      <td>262</td>\n",
       "      <td>Rap</td>\n",
       "      <td>2000-02-26</td>\n",
       "      <td>2000-03-11</td>\n",
       "      <td>2.0</td>\n",
       "      <td>week1</td>\n",
       "      <td>87.0</td>\n",
       "    </tr>\n",
       "    <tr>\n",
       "      <th>563</th>\n",
       "      <td>2000</td>\n",
       "      <td>2 Pac</td>\n",
       "      <td>Baby Don't Cry (Keep Ya Head Up II)</td>\n",
       "      <td>262</td>\n",
       "      <td>Rap</td>\n",
       "      <td>2000-02-26</td>\n",
       "      <td>2000-03-11</td>\n",
       "      <td>2.0</td>\n",
       "      <td>week2</td>\n",
       "      <td>82.0</td>\n",
       "    </tr>\n",
       "    <tr>\n",
       "      <th>880</th>\n",
       "      <td>2000</td>\n",
       "      <td>2 Pac</td>\n",
       "      <td>Baby Don't Cry (Keep Ya Head Up II)</td>\n",
       "      <td>262</td>\n",
       "      <td>Rap</td>\n",
       "      <td>2000-02-26</td>\n",
       "      <td>2000-03-11</td>\n",
       "      <td>2.0</td>\n",
       "      <td>week3</td>\n",
       "      <td>72.0</td>\n",
       "    </tr>\n",
       "    <tr>\n",
       "      <th>1197</th>\n",
       "      <td>2000</td>\n",
       "      <td>2 Pac</td>\n",
       "      <td>Baby Don't Cry (Keep Ya Head Up II)</td>\n",
       "      <td>262</td>\n",
       "      <td>Rap</td>\n",
       "      <td>2000-02-26</td>\n",
       "      <td>2000-03-11</td>\n",
       "      <td>2.0</td>\n",
       "      <td>week4</td>\n",
       "      <td>77.0</td>\n",
       "    </tr>\n",
       "    <tr>\n",
       "      <th>1514</th>\n",
       "      <td>2000</td>\n",
       "      <td>2 Pac</td>\n",
       "      <td>Baby Don't Cry (Keep Ya Head Up II)</td>\n",
       "      <td>262</td>\n",
       "      <td>Rap</td>\n",
       "      <td>2000-02-26</td>\n",
       "      <td>2000-03-11</td>\n",
       "      <td>2.0</td>\n",
       "      <td>week5</td>\n",
       "      <td>87.0</td>\n",
       "    </tr>\n",
       "    <tr>\n",
       "      <th>1831</th>\n",
       "      <td>2000</td>\n",
       "      <td>2 Pac</td>\n",
       "      <td>Baby Don't Cry (Keep Ya Head Up II)</td>\n",
       "      <td>262</td>\n",
       "      <td>Rap</td>\n",
       "      <td>2000-02-26</td>\n",
       "      <td>2000-03-11</td>\n",
       "      <td>2.0</td>\n",
       "      <td>week6</td>\n",
       "      <td>94.0</td>\n",
       "    </tr>\n",
       "    <tr>\n",
       "      <th>2148</th>\n",
       "      <td>2000</td>\n",
       "      <td>2 Pac</td>\n",
       "      <td>Baby Don't Cry (Keep Ya Head Up II)</td>\n",
       "      <td>262</td>\n",
       "      <td>Rap</td>\n",
       "      <td>2000-02-26</td>\n",
       "      <td>2000-03-11</td>\n",
       "      <td>2.0</td>\n",
       "      <td>week7</td>\n",
       "      <td>99.0</td>\n",
       "    </tr>\n",
       "    <tr>\n",
       "      <th>287</th>\n",
       "      <td>2000</td>\n",
       "      <td>2Ge+her</td>\n",
       "      <td>The Hardest Part Of Breaking Up (Is Getting Ba...</td>\n",
       "      <td>195</td>\n",
       "      <td>R&amp;B</td>\n",
       "      <td>2000-09-02</td>\n",
       "      <td>2000-09-09</td>\n",
       "      <td>1.0</td>\n",
       "      <td>week1</td>\n",
       "      <td>91.0</td>\n",
       "    </tr>\n",
       "    <tr>\n",
       "      <th>604</th>\n",
       "      <td>2000</td>\n",
       "      <td>2Ge+her</td>\n",
       "      <td>The Hardest Part Of Breaking Up (Is Getting Ba...</td>\n",
       "      <td>195</td>\n",
       "      <td>R&amp;B</td>\n",
       "      <td>2000-09-02</td>\n",
       "      <td>2000-09-09</td>\n",
       "      <td>1.0</td>\n",
       "      <td>week2</td>\n",
       "      <td>87.0</td>\n",
       "    </tr>\n",
       "    <tr>\n",
       "      <th>921</th>\n",
       "      <td>2000</td>\n",
       "      <td>2Ge+her</td>\n",
       "      <td>The Hardest Part Of Breaking Up (Is Getting Ba...</td>\n",
       "      <td>195</td>\n",
       "      <td>R&amp;B</td>\n",
       "      <td>2000-09-02</td>\n",
       "      <td>2000-09-09</td>\n",
       "      <td>1.0</td>\n",
       "      <td>week3</td>\n",
       "      <td>92.0</td>\n",
       "    </tr>\n",
       "    <tr>\n",
       "      <th>24</th>\n",
       "      <td>2000</td>\n",
       "      <td>3 Doors Down</td>\n",
       "      <td>Kryptonite</td>\n",
       "      <td>233</td>\n",
       "      <td>Rock</td>\n",
       "      <td>2000-04-08</td>\n",
       "      <td>2000-11-11</td>\n",
       "      <td>31.0</td>\n",
       "      <td>week1</td>\n",
       "      <td>81.0</td>\n",
       "    </tr>\n",
       "    <tr>\n",
       "      <th>341</th>\n",
       "      <td>2000</td>\n",
       "      <td>3 Doors Down</td>\n",
       "      <td>Kryptonite</td>\n",
       "      <td>233</td>\n",
       "      <td>Rock</td>\n",
       "      <td>2000-04-08</td>\n",
       "      <td>2000-11-11</td>\n",
       "      <td>31.0</td>\n",
       "      <td>week2</td>\n",
       "      <td>70.0</td>\n",
       "    </tr>\n",
       "    <tr>\n",
       "      <th>658</th>\n",
       "      <td>2000</td>\n",
       "      <td>3 Doors Down</td>\n",
       "      <td>Kryptonite</td>\n",
       "      <td>233</td>\n",
       "      <td>Rock</td>\n",
       "      <td>2000-04-08</td>\n",
       "      <td>2000-11-11</td>\n",
       "      <td>31.0</td>\n",
       "      <td>week3</td>\n",
       "      <td>68.0</td>\n",
       "    </tr>\n",
       "    <tr>\n",
       "      <th>975</th>\n",
       "      <td>2000</td>\n",
       "      <td>3 Doors Down</td>\n",
       "      <td>Kryptonite</td>\n",
       "      <td>233</td>\n",
       "      <td>Rock</td>\n",
       "      <td>2000-04-08</td>\n",
       "      <td>2000-11-11</td>\n",
       "      <td>31.0</td>\n",
       "      <td>week4</td>\n",
       "      <td>67.0</td>\n",
       "    </tr>\n",
       "    <tr>\n",
       "      <th>1292</th>\n",
       "      <td>2000</td>\n",
       "      <td>3 Doors Down</td>\n",
       "      <td>Kryptonite</td>\n",
       "      <td>233</td>\n",
       "      <td>Rock</td>\n",
       "      <td>2000-04-08</td>\n",
       "      <td>2000-11-11</td>\n",
       "      <td>31.0</td>\n",
       "      <td>week5</td>\n",
       "      <td>66.0</td>\n",
       "    </tr>\n",
       "    <tr>\n",
       "      <th>1609</th>\n",
       "      <td>2000</td>\n",
       "      <td>3 Doors Down</td>\n",
       "      <td>Kryptonite</td>\n",
       "      <td>233</td>\n",
       "      <td>Rock</td>\n",
       "      <td>2000-04-08</td>\n",
       "      <td>2000-11-11</td>\n",
       "      <td>31.0</td>\n",
       "      <td>week6</td>\n",
       "      <td>57.0</td>\n",
       "    </tr>\n",
       "    <tr>\n",
       "      <th>1926</th>\n",
       "      <td>2000</td>\n",
       "      <td>3 Doors Down</td>\n",
       "      <td>Kryptonite</td>\n",
       "      <td>233</td>\n",
       "      <td>Rock</td>\n",
       "      <td>2000-04-08</td>\n",
       "      <td>2000-11-11</td>\n",
       "      <td>31.0</td>\n",
       "      <td>week7</td>\n",
       "      <td>54.0</td>\n",
       "    </tr>\n",
       "    <tr>\n",
       "      <th>2243</th>\n",
       "      <td>2000</td>\n",
       "      <td>3 Doors Down</td>\n",
       "      <td>Kryptonite</td>\n",
       "      <td>233</td>\n",
       "      <td>Rock</td>\n",
       "      <td>2000-04-08</td>\n",
       "      <td>2000-11-11</td>\n",
       "      <td>31.0</td>\n",
       "      <td>week8</td>\n",
       "      <td>53.0</td>\n",
       "    </tr>\n",
       "    <tr>\n",
       "      <th>2560</th>\n",
       "      <td>2000</td>\n",
       "      <td>3 Doors Down</td>\n",
       "      <td>Kryptonite</td>\n",
       "      <td>233</td>\n",
       "      <td>Rock</td>\n",
       "      <td>2000-04-08</td>\n",
       "      <td>2000-11-11</td>\n",
       "      <td>31.0</td>\n",
       "      <td>week9</td>\n",
       "      <td>51.0</td>\n",
       "    </tr>\n",
       "    <tr>\n",
       "      <th>2877</th>\n",
       "      <td>2000</td>\n",
       "      <td>3 Doors Down</td>\n",
       "      <td>Kryptonite</td>\n",
       "      <td>233</td>\n",
       "      <td>Rock</td>\n",
       "      <td>2000-04-08</td>\n",
       "      <td>2000-11-11</td>\n",
       "      <td>31.0</td>\n",
       "      <td>week10</td>\n",
       "      <td>51.0</td>\n",
       "    </tr>\n",
       "    <tr>\n",
       "      <th>3194</th>\n",
       "      <td>2000</td>\n",
       "      <td>3 Doors Down</td>\n",
       "      <td>Kryptonite</td>\n",
       "      <td>233</td>\n",
       "      <td>Rock</td>\n",
       "      <td>2000-04-08</td>\n",
       "      <td>2000-11-11</td>\n",
       "      <td>31.0</td>\n",
       "      <td>week11</td>\n",
       "      <td>51.0</td>\n",
       "    </tr>\n",
       "    <tr>\n",
       "      <th>3511</th>\n",
       "      <td>2000</td>\n",
       "      <td>3 Doors Down</td>\n",
       "      <td>Kryptonite</td>\n",
       "      <td>233</td>\n",
       "      <td>Rock</td>\n",
       "      <td>2000-04-08</td>\n",
       "      <td>2000-11-11</td>\n",
       "      <td>31.0</td>\n",
       "      <td>week12</td>\n",
       "      <td>51.0</td>\n",
       "    </tr>\n",
       "    <tr>\n",
       "      <th>3828</th>\n",
       "      <td>2000</td>\n",
       "      <td>3 Doors Down</td>\n",
       "      <td>Kryptonite</td>\n",
       "      <td>233</td>\n",
       "      <td>Rock</td>\n",
       "      <td>2000-04-08</td>\n",
       "      <td>2000-11-11</td>\n",
       "      <td>31.0</td>\n",
       "      <td>week13</td>\n",
       "      <td>47.0</td>\n",
       "    </tr>\n",
       "    <tr>\n",
       "      <th>4145</th>\n",
       "      <td>2000</td>\n",
       "      <td>3 Doors Down</td>\n",
       "      <td>Kryptonite</td>\n",
       "      <td>233</td>\n",
       "      <td>Rock</td>\n",
       "      <td>2000-04-08</td>\n",
       "      <td>2000-11-11</td>\n",
       "      <td>31.0</td>\n",
       "      <td>week14</td>\n",
       "      <td>44.0</td>\n",
       "    </tr>\n",
       "    <tr>\n",
       "      <th>4462</th>\n",
       "      <td>2000</td>\n",
       "      <td>3 Doors Down</td>\n",
       "      <td>Kryptonite</td>\n",
       "      <td>233</td>\n",
       "      <td>Rock</td>\n",
       "      <td>2000-04-08</td>\n",
       "      <td>2000-11-11</td>\n",
       "      <td>31.0</td>\n",
       "      <td>week15</td>\n",
       "      <td>38.0</td>\n",
       "    </tr>\n",
       "    <tr>\n",
       "      <th>4779</th>\n",
       "      <td>2000</td>\n",
       "      <td>3 Doors Down</td>\n",
       "      <td>Kryptonite</td>\n",
       "      <td>233</td>\n",
       "      <td>Rock</td>\n",
       "      <td>2000-04-08</td>\n",
       "      <td>2000-11-11</td>\n",
       "      <td>31.0</td>\n",
       "      <td>week16</td>\n",
       "      <td>28.0</td>\n",
       "    </tr>\n",
       "    <tr>\n",
       "      <th>5096</th>\n",
       "      <td>2000</td>\n",
       "      <td>3 Doors Down</td>\n",
       "      <td>Kryptonite</td>\n",
       "      <td>233</td>\n",
       "      <td>Rock</td>\n",
       "      <td>2000-04-08</td>\n",
       "      <td>2000-11-11</td>\n",
       "      <td>31.0</td>\n",
       "      <td>week17</td>\n",
       "      <td>22.0</td>\n",
       "    </tr>\n",
       "    <tr>\n",
       "      <th>5413</th>\n",
       "      <td>2000</td>\n",
       "      <td>3 Doors Down</td>\n",
       "      <td>Kryptonite</td>\n",
       "      <td>233</td>\n",
       "      <td>Rock</td>\n",
       "      <td>2000-04-08</td>\n",
       "      <td>2000-11-11</td>\n",
       "      <td>31.0</td>\n",
       "      <td>week18</td>\n",
       "      <td>18.0</td>\n",
       "    </tr>\n",
       "    <tr>\n",
       "      <th>5730</th>\n",
       "      <td>2000</td>\n",
       "      <td>3 Doors Down</td>\n",
       "      <td>Kryptonite</td>\n",
       "      <td>233</td>\n",
       "      <td>Rock</td>\n",
       "      <td>2000-04-08</td>\n",
       "      <td>2000-11-11</td>\n",
       "      <td>31.0</td>\n",
       "      <td>week19</td>\n",
       "      <td>18.0</td>\n",
       "    </tr>\n",
       "    <tr>\n",
       "      <th>6047</th>\n",
       "      <td>2000</td>\n",
       "      <td>3 Doors Down</td>\n",
       "      <td>Kryptonite</td>\n",
       "      <td>233</td>\n",
       "      <td>Rock</td>\n",
       "      <td>2000-04-08</td>\n",
       "      <td>2000-11-11</td>\n",
       "      <td>31.0</td>\n",
       "      <td>week20</td>\n",
       "      <td>14.0</td>\n",
       "    </tr>\n",
       "    <tr>\n",
       "      <th>...</th>\n",
       "      <td>...</td>\n",
       "      <td>...</td>\n",
       "      <td>...</td>\n",
       "      <td>...</td>\n",
       "      <td>...</td>\n",
       "      <td>...</td>\n",
       "      <td>...</td>\n",
       "      <td>...</td>\n",
       "      <td>...</td>\n",
       "      <td>...</td>\n",
       "    </tr>\n",
       "    <tr>\n",
       "      <th>2868</th>\n",
       "      <td>2000</td>\n",
       "      <td>matchbox twenty</td>\n",
       "      <td>Bent</td>\n",
       "      <td>252</td>\n",
       "      <td>Rock</td>\n",
       "      <td>2000-04-29</td>\n",
       "      <td>2000-07-22</td>\n",
       "      <td>12.0</td>\n",
       "      <td>week10</td>\n",
       "      <td>12.0</td>\n",
       "    </tr>\n",
       "    <tr>\n",
       "      <th>3185</th>\n",
       "      <td>2000</td>\n",
       "      <td>matchbox twenty</td>\n",
       "      <td>Bent</td>\n",
       "      <td>252</td>\n",
       "      <td>Rock</td>\n",
       "      <td>2000-04-29</td>\n",
       "      <td>2000-07-22</td>\n",
       "      <td>12.0</td>\n",
       "      <td>week11</td>\n",
       "      <td>8.0</td>\n",
       "    </tr>\n",
       "    <tr>\n",
       "      <th>3502</th>\n",
       "      <td>2000</td>\n",
       "      <td>matchbox twenty</td>\n",
       "      <td>Bent</td>\n",
       "      <td>252</td>\n",
       "      <td>Rock</td>\n",
       "      <td>2000-04-29</td>\n",
       "      <td>2000-07-22</td>\n",
       "      <td>12.0</td>\n",
       "      <td>week12</td>\n",
       "      <td>6.0</td>\n",
       "    </tr>\n",
       "    <tr>\n",
       "      <th>3819</th>\n",
       "      <td>2000</td>\n",
       "      <td>matchbox twenty</td>\n",
       "      <td>Bent</td>\n",
       "      <td>252</td>\n",
       "      <td>Rock</td>\n",
       "      <td>2000-04-29</td>\n",
       "      <td>2000-07-22</td>\n",
       "      <td>12.0</td>\n",
       "      <td>week13</td>\n",
       "      <td>1.0</td>\n",
       "    </tr>\n",
       "    <tr>\n",
       "      <th>4136</th>\n",
       "      <td>2000</td>\n",
       "      <td>matchbox twenty</td>\n",
       "      <td>Bent</td>\n",
       "      <td>252</td>\n",
       "      <td>Rock</td>\n",
       "      <td>2000-04-29</td>\n",
       "      <td>2000-07-22</td>\n",
       "      <td>12.0</td>\n",
       "      <td>week14</td>\n",
       "      <td>2.0</td>\n",
       "    </tr>\n",
       "    <tr>\n",
       "      <th>4453</th>\n",
       "      <td>2000</td>\n",
       "      <td>matchbox twenty</td>\n",
       "      <td>Bent</td>\n",
       "      <td>252</td>\n",
       "      <td>Rock</td>\n",
       "      <td>2000-04-29</td>\n",
       "      <td>2000-07-22</td>\n",
       "      <td>12.0</td>\n",
       "      <td>week15</td>\n",
       "      <td>3.0</td>\n",
       "    </tr>\n",
       "    <tr>\n",
       "      <th>4770</th>\n",
       "      <td>2000</td>\n",
       "      <td>matchbox twenty</td>\n",
       "      <td>Bent</td>\n",
       "      <td>252</td>\n",
       "      <td>Rock</td>\n",
       "      <td>2000-04-29</td>\n",
       "      <td>2000-07-22</td>\n",
       "      <td>12.0</td>\n",
       "      <td>week16</td>\n",
       "      <td>2.0</td>\n",
       "    </tr>\n",
       "    <tr>\n",
       "      <th>5087</th>\n",
       "      <td>2000</td>\n",
       "      <td>matchbox twenty</td>\n",
       "      <td>Bent</td>\n",
       "      <td>252</td>\n",
       "      <td>Rock</td>\n",
       "      <td>2000-04-29</td>\n",
       "      <td>2000-07-22</td>\n",
       "      <td>12.0</td>\n",
       "      <td>week17</td>\n",
       "      <td>2.0</td>\n",
       "    </tr>\n",
       "    <tr>\n",
       "      <th>5404</th>\n",
       "      <td>2000</td>\n",
       "      <td>matchbox twenty</td>\n",
       "      <td>Bent</td>\n",
       "      <td>252</td>\n",
       "      <td>Rock</td>\n",
       "      <td>2000-04-29</td>\n",
       "      <td>2000-07-22</td>\n",
       "      <td>12.0</td>\n",
       "      <td>week18</td>\n",
       "      <td>3.0</td>\n",
       "    </tr>\n",
       "    <tr>\n",
       "      <th>5721</th>\n",
       "      <td>2000</td>\n",
       "      <td>matchbox twenty</td>\n",
       "      <td>Bent</td>\n",
       "      <td>252</td>\n",
       "      <td>Rock</td>\n",
       "      <td>2000-04-29</td>\n",
       "      <td>2000-07-22</td>\n",
       "      <td>12.0</td>\n",
       "      <td>week19</td>\n",
       "      <td>4.0</td>\n",
       "    </tr>\n",
       "    <tr>\n",
       "      <th>6038</th>\n",
       "      <td>2000</td>\n",
       "      <td>matchbox twenty</td>\n",
       "      <td>Bent</td>\n",
       "      <td>252</td>\n",
       "      <td>Rock</td>\n",
       "      <td>2000-04-29</td>\n",
       "      <td>2000-07-22</td>\n",
       "      <td>12.0</td>\n",
       "      <td>week20</td>\n",
       "      <td>5.0</td>\n",
       "    </tr>\n",
       "    <tr>\n",
       "      <th>6355</th>\n",
       "      <td>2000</td>\n",
       "      <td>matchbox twenty</td>\n",
       "      <td>Bent</td>\n",
       "      <td>252</td>\n",
       "      <td>Rock</td>\n",
       "      <td>2000-04-29</td>\n",
       "      <td>2000-07-22</td>\n",
       "      <td>12.0</td>\n",
       "      <td>week21</td>\n",
       "      <td>4.0</td>\n",
       "    </tr>\n",
       "    <tr>\n",
       "      <th>6672</th>\n",
       "      <td>2000</td>\n",
       "      <td>matchbox twenty</td>\n",
       "      <td>Bent</td>\n",
       "      <td>252</td>\n",
       "      <td>Rock</td>\n",
       "      <td>2000-04-29</td>\n",
       "      <td>2000-07-22</td>\n",
       "      <td>12.0</td>\n",
       "      <td>week22</td>\n",
       "      <td>4.0</td>\n",
       "    </tr>\n",
       "    <tr>\n",
       "      <th>6989</th>\n",
       "      <td>2000</td>\n",
       "      <td>matchbox twenty</td>\n",
       "      <td>Bent</td>\n",
       "      <td>252</td>\n",
       "      <td>Rock</td>\n",
       "      <td>2000-04-29</td>\n",
       "      <td>2000-07-22</td>\n",
       "      <td>12.0</td>\n",
       "      <td>week23</td>\n",
       "      <td>6.0</td>\n",
       "    </tr>\n",
       "    <tr>\n",
       "      <th>7306</th>\n",
       "      <td>2000</td>\n",
       "      <td>matchbox twenty</td>\n",
       "      <td>Bent</td>\n",
       "      <td>252</td>\n",
       "      <td>Rock</td>\n",
       "      <td>2000-04-29</td>\n",
       "      <td>2000-07-22</td>\n",
       "      <td>12.0</td>\n",
       "      <td>week24</td>\n",
       "      <td>9.0</td>\n",
       "    </tr>\n",
       "    <tr>\n",
       "      <th>7623</th>\n",
       "      <td>2000</td>\n",
       "      <td>matchbox twenty</td>\n",
       "      <td>Bent</td>\n",
       "      <td>252</td>\n",
       "      <td>Rock</td>\n",
       "      <td>2000-04-29</td>\n",
       "      <td>2000-07-22</td>\n",
       "      <td>12.0</td>\n",
       "      <td>week25</td>\n",
       "      <td>12.0</td>\n",
       "    </tr>\n",
       "    <tr>\n",
       "      <th>7940</th>\n",
       "      <td>2000</td>\n",
       "      <td>matchbox twenty</td>\n",
       "      <td>Bent</td>\n",
       "      <td>252</td>\n",
       "      <td>Rock</td>\n",
       "      <td>2000-04-29</td>\n",
       "      <td>2000-07-22</td>\n",
       "      <td>12.0</td>\n",
       "      <td>week26</td>\n",
       "      <td>13.0</td>\n",
       "    </tr>\n",
       "    <tr>\n",
       "      <th>8257</th>\n",
       "      <td>2000</td>\n",
       "      <td>matchbox twenty</td>\n",
       "      <td>Bent</td>\n",
       "      <td>252</td>\n",
       "      <td>Rock</td>\n",
       "      <td>2000-04-29</td>\n",
       "      <td>2000-07-22</td>\n",
       "      <td>12.0</td>\n",
       "      <td>week27</td>\n",
       "      <td>19.0</td>\n",
       "    </tr>\n",
       "    <tr>\n",
       "      <th>8574</th>\n",
       "      <td>2000</td>\n",
       "      <td>matchbox twenty</td>\n",
       "      <td>Bent</td>\n",
       "      <td>252</td>\n",
       "      <td>Rock</td>\n",
       "      <td>2000-04-29</td>\n",
       "      <td>2000-07-22</td>\n",
       "      <td>12.0</td>\n",
       "      <td>week28</td>\n",
       "      <td>20.0</td>\n",
       "    </tr>\n",
       "    <tr>\n",
       "      <th>8891</th>\n",
       "      <td>2000</td>\n",
       "      <td>matchbox twenty</td>\n",
       "      <td>Bent</td>\n",
       "      <td>252</td>\n",
       "      <td>Rock</td>\n",
       "      <td>2000-04-29</td>\n",
       "      <td>2000-07-22</td>\n",
       "      <td>12.0</td>\n",
       "      <td>week29</td>\n",
       "      <td>20.0</td>\n",
       "    </tr>\n",
       "    <tr>\n",
       "      <th>9208</th>\n",
       "      <td>2000</td>\n",
       "      <td>matchbox twenty</td>\n",
       "      <td>Bent</td>\n",
       "      <td>252</td>\n",
       "      <td>Rock</td>\n",
       "      <td>2000-04-29</td>\n",
       "      <td>2000-07-22</td>\n",
       "      <td>12.0</td>\n",
       "      <td>week30</td>\n",
       "      <td>24.0</td>\n",
       "    </tr>\n",
       "    <tr>\n",
       "      <th>9525</th>\n",
       "      <td>2000</td>\n",
       "      <td>matchbox twenty</td>\n",
       "      <td>Bent</td>\n",
       "      <td>252</td>\n",
       "      <td>Rock</td>\n",
       "      <td>2000-04-29</td>\n",
       "      <td>2000-07-22</td>\n",
       "      <td>12.0</td>\n",
       "      <td>week31</td>\n",
       "      <td>29.0</td>\n",
       "    </tr>\n",
       "    <tr>\n",
       "      <th>9842</th>\n",
       "      <td>2000</td>\n",
       "      <td>matchbox twenty</td>\n",
       "      <td>Bent</td>\n",
       "      <td>252</td>\n",
       "      <td>Rock</td>\n",
       "      <td>2000-04-29</td>\n",
       "      <td>2000-07-22</td>\n",
       "      <td>12.0</td>\n",
       "      <td>week32</td>\n",
       "      <td>28.0</td>\n",
       "    </tr>\n",
       "    <tr>\n",
       "      <th>10159</th>\n",
       "      <td>2000</td>\n",
       "      <td>matchbox twenty</td>\n",
       "      <td>Bent</td>\n",
       "      <td>252</td>\n",
       "      <td>Rock</td>\n",
       "      <td>2000-04-29</td>\n",
       "      <td>2000-07-22</td>\n",
       "      <td>12.0</td>\n",
       "      <td>week33</td>\n",
       "      <td>27.0</td>\n",
       "    </tr>\n",
       "    <tr>\n",
       "      <th>10476</th>\n",
       "      <td>2000</td>\n",
       "      <td>matchbox twenty</td>\n",
       "      <td>Bent</td>\n",
       "      <td>252</td>\n",
       "      <td>Rock</td>\n",
       "      <td>2000-04-29</td>\n",
       "      <td>2000-07-22</td>\n",
       "      <td>12.0</td>\n",
       "      <td>week34</td>\n",
       "      <td>30.0</td>\n",
       "    </tr>\n",
       "    <tr>\n",
       "      <th>10793</th>\n",
       "      <td>2000</td>\n",
       "      <td>matchbox twenty</td>\n",
       "      <td>Bent</td>\n",
       "      <td>252</td>\n",
       "      <td>Rock</td>\n",
       "      <td>2000-04-29</td>\n",
       "      <td>2000-07-22</td>\n",
       "      <td>12.0</td>\n",
       "      <td>week35</td>\n",
       "      <td>33.0</td>\n",
       "    </tr>\n",
       "    <tr>\n",
       "      <th>11110</th>\n",
       "      <td>2000</td>\n",
       "      <td>matchbox twenty</td>\n",
       "      <td>Bent</td>\n",
       "      <td>252</td>\n",
       "      <td>Rock</td>\n",
       "      <td>2000-04-29</td>\n",
       "      <td>2000-07-22</td>\n",
       "      <td>12.0</td>\n",
       "      <td>week36</td>\n",
       "      <td>37.0</td>\n",
       "    </tr>\n",
       "    <tr>\n",
       "      <th>11427</th>\n",
       "      <td>2000</td>\n",
       "      <td>matchbox twenty</td>\n",
       "      <td>Bent</td>\n",
       "      <td>252</td>\n",
       "      <td>Rock</td>\n",
       "      <td>2000-04-29</td>\n",
       "      <td>2000-07-22</td>\n",
       "      <td>12.0</td>\n",
       "      <td>week37</td>\n",
       "      <td>38.0</td>\n",
       "    </tr>\n",
       "    <tr>\n",
       "      <th>11744</th>\n",
       "      <td>2000</td>\n",
       "      <td>matchbox twenty</td>\n",
       "      <td>Bent</td>\n",
       "      <td>252</td>\n",
       "      <td>Rock</td>\n",
       "      <td>2000-04-29</td>\n",
       "      <td>2000-07-22</td>\n",
       "      <td>12.0</td>\n",
       "      <td>week38</td>\n",
       "      <td>38.0</td>\n",
       "    </tr>\n",
       "    <tr>\n",
       "      <th>12061</th>\n",
       "      <td>2000</td>\n",
       "      <td>matchbox twenty</td>\n",
       "      <td>Bent</td>\n",
       "      <td>252</td>\n",
       "      <td>Rock</td>\n",
       "      <td>2000-04-29</td>\n",
       "      <td>2000-07-22</td>\n",
       "      <td>12.0</td>\n",
       "      <td>week39</td>\n",
       "      <td>48.0</td>\n",
       "    </tr>\n",
       "  </tbody>\n",
       "</table>\n",
       "<p>5307 rows × 10 columns</p>\n",
       "</div>"
      ],
      "text/plain": [
       "       year           artist  \\\n",
       "246    2000            2 Pac   \n",
       "563    2000            2 Pac   \n",
       "880    2000            2 Pac   \n",
       "1197   2000            2 Pac   \n",
       "1514   2000            2 Pac   \n",
       "1831   2000            2 Pac   \n",
       "2148   2000            2 Pac   \n",
       "287    2000          2Ge+her   \n",
       "604    2000          2Ge+her   \n",
       "921    2000          2Ge+her   \n",
       "24     2000     3 Doors Down   \n",
       "341    2000     3 Doors Down   \n",
       "658    2000     3 Doors Down   \n",
       "975    2000     3 Doors Down   \n",
       "1292   2000     3 Doors Down   \n",
       "1609   2000     3 Doors Down   \n",
       "1926   2000     3 Doors Down   \n",
       "2243   2000     3 Doors Down   \n",
       "2560   2000     3 Doors Down   \n",
       "2877   2000     3 Doors Down   \n",
       "3194   2000     3 Doors Down   \n",
       "3511   2000     3 Doors Down   \n",
       "3828   2000     3 Doors Down   \n",
       "4145   2000     3 Doors Down   \n",
       "4462   2000     3 Doors Down   \n",
       "4779   2000     3 Doors Down   \n",
       "5096   2000     3 Doors Down   \n",
       "5413   2000     3 Doors Down   \n",
       "5730   2000     3 Doors Down   \n",
       "6047   2000     3 Doors Down   \n",
       "...     ...              ...   \n",
       "2868   2000  matchbox twenty   \n",
       "3185   2000  matchbox twenty   \n",
       "3502   2000  matchbox twenty   \n",
       "3819   2000  matchbox twenty   \n",
       "4136   2000  matchbox twenty   \n",
       "4453   2000  matchbox twenty   \n",
       "4770   2000  matchbox twenty   \n",
       "5087   2000  matchbox twenty   \n",
       "5404   2000  matchbox twenty   \n",
       "5721   2000  matchbox twenty   \n",
       "6038   2000  matchbox twenty   \n",
       "6355   2000  matchbox twenty   \n",
       "6672   2000  matchbox twenty   \n",
       "6989   2000  matchbox twenty   \n",
       "7306   2000  matchbox twenty   \n",
       "7623   2000  matchbox twenty   \n",
       "7940   2000  matchbox twenty   \n",
       "8257   2000  matchbox twenty   \n",
       "8574   2000  matchbox twenty   \n",
       "8891   2000  matchbox twenty   \n",
       "9208   2000  matchbox twenty   \n",
       "9525   2000  matchbox twenty   \n",
       "9842   2000  matchbox twenty   \n",
       "10159  2000  matchbox twenty   \n",
       "10476  2000  matchbox twenty   \n",
       "10793  2000  matchbox twenty   \n",
       "11110  2000  matchbox twenty   \n",
       "11427  2000  matchbox twenty   \n",
       "11744  2000  matchbox twenty   \n",
       "12061  2000  matchbox twenty   \n",
       "\n",
       "                                                   track  time genre  \\\n",
       "246                  Baby Don't Cry (Keep Ya Head Up II)   262   Rap   \n",
       "563                  Baby Don't Cry (Keep Ya Head Up II)   262   Rap   \n",
       "880                  Baby Don't Cry (Keep Ya Head Up II)   262   Rap   \n",
       "1197                 Baby Don't Cry (Keep Ya Head Up II)   262   Rap   \n",
       "1514                 Baby Don't Cry (Keep Ya Head Up II)   262   Rap   \n",
       "1831                 Baby Don't Cry (Keep Ya Head Up II)   262   Rap   \n",
       "2148                 Baby Don't Cry (Keep Ya Head Up II)   262   Rap   \n",
       "287    The Hardest Part Of Breaking Up (Is Getting Ba...   195   R&B   \n",
       "604    The Hardest Part Of Breaking Up (Is Getting Ba...   195   R&B   \n",
       "921    The Hardest Part Of Breaking Up (Is Getting Ba...   195   R&B   \n",
       "24                                            Kryptonite   233  Rock   \n",
       "341                                           Kryptonite   233  Rock   \n",
       "658                                           Kryptonite   233  Rock   \n",
       "975                                           Kryptonite   233  Rock   \n",
       "1292                                          Kryptonite   233  Rock   \n",
       "1609                                          Kryptonite   233  Rock   \n",
       "1926                                          Kryptonite   233  Rock   \n",
       "2243                                          Kryptonite   233  Rock   \n",
       "2560                                          Kryptonite   233  Rock   \n",
       "2877                                          Kryptonite   233  Rock   \n",
       "3194                                          Kryptonite   233  Rock   \n",
       "3511                                          Kryptonite   233  Rock   \n",
       "3828                                          Kryptonite   233  Rock   \n",
       "4145                                          Kryptonite   233  Rock   \n",
       "4462                                          Kryptonite   233  Rock   \n",
       "4779                                          Kryptonite   233  Rock   \n",
       "5096                                          Kryptonite   233  Rock   \n",
       "5413                                          Kryptonite   233  Rock   \n",
       "5730                                          Kryptonite   233  Rock   \n",
       "6047                                          Kryptonite   233  Rock   \n",
       "...                                                  ...   ...   ...   \n",
       "2868                                                Bent   252  Rock   \n",
       "3185                                                Bent   252  Rock   \n",
       "3502                                                Bent   252  Rock   \n",
       "3819                                                Bent   252  Rock   \n",
       "4136                                                Bent   252  Rock   \n",
       "4453                                                Bent   252  Rock   \n",
       "4770                                                Bent   252  Rock   \n",
       "5087                                                Bent   252  Rock   \n",
       "5404                                                Bent   252  Rock   \n",
       "5721                                                Bent   252  Rock   \n",
       "6038                                                Bent   252  Rock   \n",
       "6355                                                Bent   252  Rock   \n",
       "6672                                                Bent   252  Rock   \n",
       "6989                                                Bent   252  Rock   \n",
       "7306                                                Bent   252  Rock   \n",
       "7623                                                Bent   252  Rock   \n",
       "7940                                                Bent   252  Rock   \n",
       "8257                                                Bent   252  Rock   \n",
       "8574                                                Bent   252  Rock   \n",
       "8891                                                Bent   252  Rock   \n",
       "9208                                                Bent   252  Rock   \n",
       "9525                                                Bent   252  Rock   \n",
       "9842                                                Bent   252  Rock   \n",
       "10159                                               Bent   252  Rock   \n",
       "10476                                               Bent   252  Rock   \n",
       "10793                                               Bent   252  Rock   \n",
       "11110                                               Bent   252  Rock   \n",
       "11427                                               Bent   252  Rock   \n",
       "11744                                               Bent   252  Rock   \n",
       "12061                                               Bent   252  Rock   \n",
       "\n",
       "      date_entered date_peaked  wks_to_peak    week  rank  \n",
       "246     2000-02-26  2000-03-11          2.0   week1  87.0  \n",
       "563     2000-02-26  2000-03-11          2.0   week2  82.0  \n",
       "880     2000-02-26  2000-03-11          2.0   week3  72.0  \n",
       "1197    2000-02-26  2000-03-11          2.0   week4  77.0  \n",
       "1514    2000-02-26  2000-03-11          2.0   week5  87.0  \n",
       "1831    2000-02-26  2000-03-11          2.0   week6  94.0  \n",
       "2148    2000-02-26  2000-03-11          2.0   week7  99.0  \n",
       "287     2000-09-02  2000-09-09          1.0   week1  91.0  \n",
       "604     2000-09-02  2000-09-09          1.0   week2  87.0  \n",
       "921     2000-09-02  2000-09-09          1.0   week3  92.0  \n",
       "24      2000-04-08  2000-11-11         31.0   week1  81.0  \n",
       "341     2000-04-08  2000-11-11         31.0   week2  70.0  \n",
       "658     2000-04-08  2000-11-11         31.0   week3  68.0  \n",
       "975     2000-04-08  2000-11-11         31.0   week4  67.0  \n",
       "1292    2000-04-08  2000-11-11         31.0   week5  66.0  \n",
       "1609    2000-04-08  2000-11-11         31.0   week6  57.0  \n",
       "1926    2000-04-08  2000-11-11         31.0   week7  54.0  \n",
       "2243    2000-04-08  2000-11-11         31.0   week8  53.0  \n",
       "2560    2000-04-08  2000-11-11         31.0   week9  51.0  \n",
       "2877    2000-04-08  2000-11-11         31.0  week10  51.0  \n",
       "3194    2000-04-08  2000-11-11         31.0  week11  51.0  \n",
       "3511    2000-04-08  2000-11-11         31.0  week12  51.0  \n",
       "3828    2000-04-08  2000-11-11         31.0  week13  47.0  \n",
       "4145    2000-04-08  2000-11-11         31.0  week14  44.0  \n",
       "4462    2000-04-08  2000-11-11         31.0  week15  38.0  \n",
       "4779    2000-04-08  2000-11-11         31.0  week16  28.0  \n",
       "5096    2000-04-08  2000-11-11         31.0  week17  22.0  \n",
       "5413    2000-04-08  2000-11-11         31.0  week18  18.0  \n",
       "5730    2000-04-08  2000-11-11         31.0  week19  18.0  \n",
       "6047    2000-04-08  2000-11-11         31.0  week20  14.0  \n",
       "...            ...         ...          ...     ...   ...  \n",
       "2868    2000-04-29  2000-07-22         12.0  week10  12.0  \n",
       "3185    2000-04-29  2000-07-22         12.0  week11   8.0  \n",
       "3502    2000-04-29  2000-07-22         12.0  week12   6.0  \n",
       "3819    2000-04-29  2000-07-22         12.0  week13   1.0  \n",
       "4136    2000-04-29  2000-07-22         12.0  week14   2.0  \n",
       "4453    2000-04-29  2000-07-22         12.0  week15   3.0  \n",
       "4770    2000-04-29  2000-07-22         12.0  week16   2.0  \n",
       "5087    2000-04-29  2000-07-22         12.0  week17   2.0  \n",
       "5404    2000-04-29  2000-07-22         12.0  week18   3.0  \n",
       "5721    2000-04-29  2000-07-22         12.0  week19   4.0  \n",
       "6038    2000-04-29  2000-07-22         12.0  week20   5.0  \n",
       "6355    2000-04-29  2000-07-22         12.0  week21   4.0  \n",
       "6672    2000-04-29  2000-07-22         12.0  week22   4.0  \n",
       "6989    2000-04-29  2000-07-22         12.0  week23   6.0  \n",
       "7306    2000-04-29  2000-07-22         12.0  week24   9.0  \n",
       "7623    2000-04-29  2000-07-22         12.0  week25  12.0  \n",
       "7940    2000-04-29  2000-07-22         12.0  week26  13.0  \n",
       "8257    2000-04-29  2000-07-22         12.0  week27  19.0  \n",
       "8574    2000-04-29  2000-07-22         12.0  week28  20.0  \n",
       "8891    2000-04-29  2000-07-22         12.0  week29  20.0  \n",
       "9208    2000-04-29  2000-07-22         12.0  week30  24.0  \n",
       "9525    2000-04-29  2000-07-22         12.0  week31  29.0  \n",
       "9842    2000-04-29  2000-07-22         12.0  week32  28.0  \n",
       "10159   2000-04-29  2000-07-22         12.0  week33  27.0  \n",
       "10476   2000-04-29  2000-07-22         12.0  week34  30.0  \n",
       "10793   2000-04-29  2000-07-22         12.0  week35  33.0  \n",
       "11110   2000-04-29  2000-07-22         12.0  week36  37.0  \n",
       "11427   2000-04-29  2000-07-22         12.0  week37  38.0  \n",
       "11744   2000-04-29  2000-07-22         12.0  week38  38.0  \n",
       "12061   2000-04-29  2000-07-22         12.0  week39  48.0  \n",
       "\n",
       "[5307 rows x 10 columns]"
      ]
     },
     "execution_count": 24,
     "metadata": {},
     "output_type": "execute_result"
    }
   ],
   "source": [
    "columns = list(billboard.columns[:7]) + ['wks_to_peak']\n",
    "#columns = ['year', 'artist','track','time','genre','date_entered','date_peaked','wks_to_peak']\n",
    "billboard_long = pd.melt(billboard, id_vars=columns, var_name='week', \\\n",
    "                     value_name='rank').dropna(subset=['rank'])\n",
    "billboard_long.sort_values(by=['year','artist','track'])"
   ]
  },
  {
   "cell_type": "code",
   "execution_count": 26,
   "metadata": {
    "collapsed": false
   },
   "outputs": [
    {
     "data": {
      "text/plain": [
       "(5307, 10)"
      ]
     },
     "execution_count": 26,
     "metadata": {},
     "output_type": "execute_result"
    }
   ],
   "source": [
    "billboard_long.shape"
   ]
  },
  {
   "cell_type": "markdown",
   "metadata": {
    "focus": false,
    "id": "2023c5a8-1f4e-4d83-9a52-c41a5090af74"
   },
   "source": [
    "## Step 3: Visualize your data."
   ]
  },
  {
   "cell_type": "markdown",
   "metadata": {
    "focus": false,
    "id": "dfaca026-8eca-4119-b4c1-e43433790c8e"
   },
   "source": [
    "##### Using a plotting utility of your choice (Tableau or python modules or both), create visualizations that will provide context to your data. There is no minimum or maximum number of graphs you should generate, but there should be a clear and consistent story being told. Give insights to the distribution, statistics, and relationships of the data. "
   ]
  },
  {
   "cell_type": "code",
   "execution_count": 84,
   "metadata": {
    "collapsed": false,
    "focus": false,
    "id": "aa0c535c-497c-4f10-b695-540612ca534e"
   },
   "outputs": [
    {
     "data": {
      "text/html": [
       "<div>\n",
       "<table border=\"1\" class=\"dataframe\">\n",
       "  <thead>\n",
       "    <tr style=\"text-align: right;\">\n",
       "      <th></th>\n",
       "      <th>rank</th>\n",
       "    </tr>\n",
       "    <tr>\n",
       "      <th>genre</th>\n",
       "      <th></th>\n",
       "    </tr>\n",
       "  </thead>\n",
       "  <tbody>\n",
       "    <tr>\n",
       "      <th>Rock</th>\n",
       "      <td>2587</td>\n",
       "    </tr>\n",
       "    <tr>\n",
       "      <th>Country</th>\n",
       "      <td>1200</td>\n",
       "    </tr>\n",
       "    <tr>\n",
       "      <th>Rap</th>\n",
       "      <td>837</td>\n",
       "    </tr>\n",
       "    <tr>\n",
       "      <th>R&amp;B</th>\n",
       "      <td>261</td>\n",
       "    </tr>\n",
       "    <tr>\n",
       "      <th>Latin</th>\n",
       "      <td>173</td>\n",
       "    </tr>\n",
       "    <tr>\n",
       "      <th>Pop</th>\n",
       "      <td>137</td>\n",
       "    </tr>\n",
       "    <tr>\n",
       "      <th>Electronica</th>\n",
       "      <td>72</td>\n",
       "    </tr>\n",
       "    <tr>\n",
       "      <th>Gospel</th>\n",
       "      <td>20</td>\n",
       "    </tr>\n",
       "    <tr>\n",
       "      <th>Reggae</th>\n",
       "      <td>15</td>\n",
       "    </tr>\n",
       "    <tr>\n",
       "      <th>Jazz</th>\n",
       "      <td>5</td>\n",
       "    </tr>\n",
       "  </tbody>\n",
       "</table>\n",
       "</div>"
      ],
      "text/plain": [
       "             rank\n",
       "genre            \n",
       "Rock         2587\n",
       "Country      1200\n",
       "Rap           837\n",
       "R&B           261\n",
       "Latin         173\n",
       "Pop           137\n",
       "Electronica    72\n",
       "Gospel         20\n",
       "Reggae         15\n",
       "Jazz            5"
      ]
     },
     "execution_count": 84,
     "metadata": {},
     "output_type": "execute_result"
    }
   ],
   "source": [
    "rank_by_genre = pd.pivot_table(billboard_long, index=['genre'],values=['rank'],aggfunc='count')\n",
    "rank_by_genre.sort_values('rank',inplace=True,ascending=False)\n",
    "rank_by_genre"
   ]
  },
  {
   "cell_type": "code",
   "execution_count": 164,
   "metadata": {
    "collapsed": false
   },
   "outputs": [
    {
     "data": {
      "image/png": "[encoded data removed]",
      "text/plain": [
       "<matplotlib.figure.Figure at 0x11c535c10>"
      ]
     },
     "metadata": {},
     "output_type": "display_data"
    }
   ],
   "source": [
    "rank_by_genre.plot(kind='bar',fontsize=25,title='Total Count by Genre',figsize=(12,5))\n",
    "plt.show()"
   ]
  },
  {
   "cell_type": "code",
   "execution_count": null,
   "metadata": {
    "collapsed": true
   },
   "outputs": [],
   "source": []
  },
  {
   "cell_type": "markdown",
   "metadata": {},
   "source": [
    "## Rock, Country and Rap are the most popular. "
   ]
  },
  {
   "cell_type": "code",
   "execution_count": 94,
   "metadata": {
    "collapsed": false
   },
   "outputs": [
    {
     "data": {
      "text/html": [
       "<div>\n",
       "<table border=\"1\" class=\"dataframe\">\n",
       "  <thead>\n",
       "    <tr style=\"text-align: right;\">\n",
       "      <th></th>\n",
       "      <th>rank</th>\n",
       "    </tr>\n",
       "    <tr>\n",
       "      <th>genre</th>\n",
       "      <th></th>\n",
       "    </tr>\n",
       "  </thead>\n",
       "  <tbody>\n",
       "    <tr>\n",
       "      <th>Rock</th>\n",
       "      <td>42.206803</td>\n",
       "    </tr>\n",
       "    <tr>\n",
       "      <th>Latin</th>\n",
       "      <td>47.653179</td>\n",
       "    </tr>\n",
       "    <tr>\n",
       "      <th>Jazz</th>\n",
       "      <td>51.800000</td>\n",
       "    </tr>\n",
       "    <tr>\n",
       "      <th>Pop</th>\n",
       "      <td>54.963504</td>\n",
       "    </tr>\n",
       "    <tr>\n",
       "      <th>Rap</th>\n",
       "      <td>56.236559</td>\n",
       "    </tr>\n",
       "    <tr>\n",
       "      <th>Country</th>\n",
       "      <td>61.687500</td>\n",
       "    </tr>\n",
       "    <tr>\n",
       "      <th>Electronica</th>\n",
       "      <td>62.847222</td>\n",
       "    </tr>\n",
       "    <tr>\n",
       "      <th>R&amp;B</th>\n",
       "      <td>67.632184</td>\n",
       "    </tr>\n",
       "    <tr>\n",
       "      <th>Gospel</th>\n",
       "      <td>67.750000</td>\n",
       "    </tr>\n",
       "    <tr>\n",
       "      <th>Reggae</th>\n",
       "      <td>72.400000</td>\n",
       "    </tr>\n",
       "  </tbody>\n",
       "</table>\n",
       "</div>"
      ],
      "text/plain": [
       "                  rank\n",
       "genre                 \n",
       "Rock         42.206803\n",
       "Latin        47.653179\n",
       "Jazz         51.800000\n",
       "Pop          54.963504\n",
       "Rap          56.236559\n",
       "Country      61.687500\n",
       "Electronica  62.847222\n",
       "R&B          67.632184\n",
       "Gospel       67.750000\n",
       "Reggae       72.400000"
      ]
     },
     "execution_count": 94,
     "metadata": {},
     "output_type": "execute_result"
    }
   ],
   "source": [
    "ave_rank_by_genre = pd.pivot_table(billboard_long, index=['genre'],values=['rank'],aggfunc=np.mean)\n",
    "ave_rank_by_genre.sort_values('rank',inplace=True,ascending=True)\n",
    "ave_rank_by_genre"
   ]
  },
  {
   "cell_type": "code",
   "execution_count": 95,
   "metadata": {
    "collapsed": false
   },
   "outputs": [
    {
     "data": {
      "image/png": "[encoded data removed]",
      "text/plain": [
       "<matplotlib.figure.Figure at 0x11c4d3510>"
      ]
     },
     "metadata": {},
     "output_type": "display_data"
    }
   ],
   "source": [
    "ave_rank_by_genre.plot(kind='bar',fontsize=25,title='Average Ranking in Top 100 by Genre',figsize=(12,5))\n",
    "plt.show()"
   ]
  },
  {
   "cell_type": "markdown",
   "metadata": {},
   "source": [
    "## Rock has the lowest average ranking of top 100 songs."
   ]
  },
  {
   "cell_type": "code",
   "execution_count": 123,
   "metadata": {
    "collapsed": false
   },
   "outputs": [
    {
     "data": {
      "text/html": [
       "<div>\n",
       "<table border=\"1\" class=\"dataframe\">\n",
       "  <thead>\n",
       "    <tr style=\"text-align: right;\">\n",
       "      <th></th>\n",
       "      <th>time</th>\n",
       "    </tr>\n",
       "    <tr>\n",
       "      <th>genre</th>\n",
       "      <th></th>\n",
       "    </tr>\n",
       "  </thead>\n",
       "  <tbody>\n",
       "    <tr>\n",
       "      <th>Pop</th>\n",
       "      <td>224.729927</td>\n",
       "    </tr>\n",
       "    <tr>\n",
       "      <th>Country</th>\n",
       "      <td>228.703333</td>\n",
       "    </tr>\n",
       "    <tr>\n",
       "      <th>Rap</th>\n",
       "      <td>242.556750</td>\n",
       "    </tr>\n",
       "    <tr>\n",
       "      <th>Rock</th>\n",
       "      <td>245.234635</td>\n",
       "    </tr>\n",
       "    <tr>\n",
       "      <th>Latin</th>\n",
       "      <td>249.485549</td>\n",
       "    </tr>\n",
       "    <tr>\n",
       "      <th>R&amp;B</th>\n",
       "      <td>249.900383</td>\n",
       "    </tr>\n",
       "    <tr>\n",
       "      <th>Reggae</th>\n",
       "      <td>257.000000</td>\n",
       "    </tr>\n",
       "    <tr>\n",
       "      <th>Electronica</th>\n",
       "      <td>274.166667</td>\n",
       "    </tr>\n",
       "    <tr>\n",
       "      <th>Gospel</th>\n",
       "      <td>330.000000</td>\n",
       "    </tr>\n",
       "    <tr>\n",
       "      <th>Jazz</th>\n",
       "      <td>470.000000</td>\n",
       "    </tr>\n",
       "  </tbody>\n",
       "</table>\n",
       "</div>"
      ],
      "text/plain": [
       "                   time\n",
       "genre                  \n",
       "Pop          224.729927\n",
       "Country      228.703333\n",
       "Rap          242.556750\n",
       "Rock         245.234635\n",
       "Latin        249.485549\n",
       "R&B          249.900383\n",
       "Reggae       257.000000\n",
       "Electronica  274.166667\n",
       "Gospel       330.000000\n",
       "Jazz         470.000000"
      ]
     },
     "execution_count": 123,
     "metadata": {},
     "output_type": "execute_result"
    }
   ],
   "source": [
    "time_by_genre = pd.pivot_table(billboard_long, index=['genre'],values=['time'],aggfunc=np.mean)\n",
    "time_by_genre.sort_values('time',inplace=True,ascending=True)\n",
    "time_by_genre"
   ]
  },
  {
   "cell_type": "code",
   "execution_count": 125,
   "metadata": {
    "collapsed": false
   },
   "outputs": [
    {
     "data": {
      "image/png": "[encoded data removed]",
      "text/plain": [
       "<matplotlib.figure.Figure at 0x11829e390>"
      ]
     },
     "metadata": {},
     "output_type": "display_data"
    }
   ],
   "source": [
    "time_by_genre.plot(kind='bar',fontsize=25,title='Average Lengh of Track in Top 100 by Genre',figsize=(12,5))\n",
    "plt.show()"
   ]
  },
  {
   "cell_type": "markdown",
   "metadata": {},
   "source": [
    "## The 3 most popular genres (Rock, Country, Rap) have about the same average length of track.   There is not enough data to determine if Jazz and Gospel tracks are actually longer than the rest of the genres."
   ]
  },
  {
   "cell_type": "code",
   "execution_count": 118,
   "metadata": {
    "collapsed": false
   },
   "outputs": [
    {
     "data": {
      "text/html": [
       "<div>\n",
       "<table border=\"1\" class=\"dataframe\">\n",
       "  <thead>\n",
       "    <tr style=\"text-align: right;\">\n",
       "      <th></th>\n",
       "      <th>rank</th>\n",
       "      <th>time</th>\n",
       "    </tr>\n",
       "    <tr>\n",
       "      <th>track</th>\n",
       "      <th></th>\n",
       "      <th></th>\n",
       "    </tr>\n",
       "  </thead>\n",
       "  <tbody>\n",
       "    <tr>\n",
       "      <th>Maria, Maria</th>\n",
       "      <td>10.500000</td>\n",
       "      <td>258.0</td>\n",
       "    </tr>\n",
       "    <tr>\n",
       "      <th>Music</th>\n",
       "      <td>13.458333</td>\n",
       "      <td>225.0</td>\n",
       "    </tr>\n",
       "    <tr>\n",
       "      <th>Bye Bye Bye</th>\n",
       "      <td>14.260870</td>\n",
       "      <td>195.0</td>\n",
       "    </tr>\n",
       "    <tr>\n",
       "      <th>Hot Boyz</th>\n",
       "      <td>14.333333</td>\n",
       "      <td>231.0</td>\n",
       "    </tr>\n",
       "    <tr>\n",
       "      <th>Independent Women Part I</th>\n",
       "      <td>14.821429</td>\n",
       "      <td>218.0</td>\n",
       "    </tr>\n",
       "  </tbody>\n",
       "</table>\n",
       "</div>"
      ],
      "text/plain": [
       "                               rank   time\n",
       "track                                     \n",
       "Maria, Maria              10.500000  258.0\n",
       "Music                     13.458333  225.0\n",
       "Bye Bye Bye               14.260870  195.0\n",
       "Hot Boyz                  14.333333  231.0\n",
       "Independent Women Part I  14.821429  218.0"
      ]
     },
     "execution_count": 118,
     "metadata": {},
     "output_type": "execute_result"
    }
   ],
   "source": [
    "time_vs_rank = pd.pivot_table(billboard_long, index=['track'],values=['time','rank'],aggfunc=np.mean)\n",
    "time_vs_rank.sort_values('rank',inplace=True,ascending=True)\n",
    "time_vs_rank.head()"
   ]
  },
  {
   "cell_type": "code",
   "execution_count": 121,
   "metadata": {
    "collapsed": false
   },
   "outputs": [
    {
     "data": {
      "image/png": "[encoded data removed]",
      "text/plain": [
       "<matplotlib.figure.Figure at 0x11c40c810>"
      ]
     },
     "metadata": {},
     "output_type": "display_data"
    }
   ],
   "source": [
    "time_vs_rank.plot(kind='scatter',x='rank',y='time',fontsize=25,title='Average Ranking of Track vs Length of Track',figsize=(12,5))\n",
    "plt.show()"
   ]
  },
  {
   "cell_type": "markdown",
   "metadata": {},
   "source": [
    "## There does not seem to be any relationship between the length of track and the average ranking of the track."
   ]
  },
  {
   "cell_type": "code",
   "execution_count": 140,
   "metadata": {
    "collapsed": false
   },
   "outputs": [
    {
     "data": {
      "text/html": [
       "<div>\n",
       "<table border=\"1\" class=\"dataframe\">\n",
       "  <thead>\n",
       "    <tr style=\"text-align: right;\">\n",
       "      <th></th>\n",
       "      <th></th>\n",
       "      <th>rank</th>\n",
       "      <th>wks_to_peak</th>\n",
       "    </tr>\n",
       "    <tr>\n",
       "      <th>track</th>\n",
       "      <th>genre</th>\n",
       "      <th></th>\n",
       "      <th></th>\n",
       "    </tr>\n",
       "  </thead>\n",
       "  <tbody>\n",
       "    <tr>\n",
       "      <th>Maria, Maria</th>\n",
       "      <th>Rock</th>\n",
       "      <td>10.500000</td>\n",
       "      <td>8.0</td>\n",
       "    </tr>\n",
       "    <tr>\n",
       "      <th>Music</th>\n",
       "      <th>Rock</th>\n",
       "      <td>13.458333</td>\n",
       "      <td>5.0</td>\n",
       "    </tr>\n",
       "    <tr>\n",
       "      <th>Bye Bye Bye</th>\n",
       "      <th>Rock</th>\n",
       "      <td>14.260870</td>\n",
       "      <td>11.0</td>\n",
       "    </tr>\n",
       "    <tr>\n",
       "      <th>Hot Boyz</th>\n",
       "      <th>Rap</th>\n",
       "      <td>14.333333</td>\n",
       "      <td>6.0</td>\n",
       "    </tr>\n",
       "    <tr>\n",
       "      <th>Independent Women Part I</th>\n",
       "      <th>Rock</th>\n",
       "      <td>14.821429</td>\n",
       "      <td>8.0</td>\n",
       "    </tr>\n",
       "  </tbody>\n",
       "</table>\n",
       "</div>"
      ],
      "text/plain": [
       "                                     rank  wks_to_peak\n",
       "track                    genre                        \n",
       "Maria, Maria             Rock   10.500000          8.0\n",
       "Music                    Rock   13.458333          5.0\n",
       "Bye Bye Bye              Rock   14.260870         11.0\n",
       "Hot Boyz                 Rap    14.333333          6.0\n",
       "Independent Women Part I Rock   14.821429          8.0"
      ]
     },
     "execution_count": 140,
     "metadata": {},
     "output_type": "execute_result"
    }
   ],
   "source": [
    "wks_to_peak__vs__rank = pd.pivot_table(billboard_long, index=['track','genre'],values=['wks_to_peak','rank'],aggfunc=np.mean)\n",
    "wks_to_peak__vs__rank.sort_values('rank',inplace=True,ascending=True)\n",
    "wks_to_peak__vs__rank.head()"
   ]
  },
  {
   "cell_type": "code",
   "execution_count": 146,
   "metadata": {
    "collapsed": false
   },
   "outputs": [
    {
     "data": {
      "image/png": "[encoded data removed]",
      "text/plain": [
       "<matplotlib.figure.Figure at 0x11bdaf210>"
      ]
     },
     "metadata": {},
     "output_type": "display_data"
    }
   ],
   "source": [
    "wks_to_peak__vs__rank.plot(kind='scatter',x='rank',y='wks_to_peak',fontsize=25,title='Average Ranking of Track vs Number of Weeks to Peak',figsize=(12,5))\n",
    "plt.show()"
   ]
  },
  {
   "cell_type": "markdown",
   "metadata": {},
   "source": [
    "## There seems to be a linear relationship with negative slope between the average ranking of track and the number of weeks it takes to reach the peak."
   ]
  },
  {
   "cell_type": "code",
   "execution_count": null,
   "metadata": {
    "collapsed": true
   },
   "outputs": [],
   "source": []
  },
  {
   "cell_type": "code",
   "execution_count": 150,
   "metadata": {
    "collapsed": false
   },
   "outputs": [
    {
     "data": {
      "text/html": [
       "<div>\n",
       "<table border=\"1\" class=\"dataframe\">\n",
       "  <thead>\n",
       "    <tr style=\"text-align: right;\">\n",
       "      <th></th>\n",
       "      <th></th>\n",
       "      <th>rank</th>\n",
       "      <th>wks_to_peak</th>\n",
       "    </tr>\n",
       "    <tr>\n",
       "      <th>track</th>\n",
       "      <th>genre</th>\n",
       "      <th></th>\n",
       "      <th></th>\n",
       "    </tr>\n",
       "  </thead>\n",
       "  <tbody>\n",
       "    <tr>\n",
       "      <th>Maria, Maria</th>\n",
       "      <th>Rock</th>\n",
       "      <td>10.500000</td>\n",
       "      <td>8.0</td>\n",
       "    </tr>\n",
       "    <tr>\n",
       "      <th>Music</th>\n",
       "      <th>Rock</th>\n",
       "      <td>13.458333</td>\n",
       "      <td>5.0</td>\n",
       "    </tr>\n",
       "    <tr>\n",
       "      <th>Bye Bye Bye</th>\n",
       "      <th>Rock</th>\n",
       "      <td>14.260870</td>\n",
       "      <td>11.0</td>\n",
       "    </tr>\n",
       "    <tr>\n",
       "      <th>Independent Women Part I</th>\n",
       "      <th>Rock</th>\n",
       "      <td>14.821429</td>\n",
       "      <td>8.0</td>\n",
       "    </tr>\n",
       "    <tr>\n",
       "      <th>Try Again</th>\n",
       "      <th>Rock</th>\n",
       "      <td>16.656250</td>\n",
       "      <td>13.0</td>\n",
       "    </tr>\n",
       "  </tbody>\n",
       "</table>\n",
       "</div>"
      ],
      "text/plain": [
       "                                     rank  wks_to_peak\n",
       "track                    genre                        \n",
       "Maria, Maria             Rock   10.500000          8.0\n",
       "Music                    Rock   13.458333          5.0\n",
       "Bye Bye Bye              Rock   14.260870         11.0\n",
       "Independent Women Part I Rock   14.821429          8.0\n",
       "Try Again                Rock   16.656250         13.0"
      ]
     },
     "execution_count": 150,
     "metadata": {},
     "output_type": "execute_result"
    }
   ],
   "source": [
    "billboard_long_rock =billboard_long[billboard_long.genre == \"Rock\"]\n",
    "wks_to_peak__vs__rank__ROCK = pd.pivot_table(billboard_long_rock, index=['track','genre'],values=['wks_to_peak','rank'],aggfunc=np.mean)\n",
    "wks_to_peak__vs__rank__ROCK.sort_values('rank',inplace=True,ascending=True)\n",
    "wks_to_peak__vs__rank__ROCK.head()"
   ]
  },
  {
   "cell_type": "code",
   "execution_count": 152,
   "metadata": {
    "collapsed": false
   },
   "outputs": [
    {
     "data": {
      "image/png": "[encoded data removed]",
      "text/plain": [
       "<matplotlib.figure.Figure at 0x11c50c890>"
      ]
     },
     "metadata": {},
     "output_type": "display_data"
    }
   ],
   "source": [
    "wks_to_peak__vs__rank__ROCK.plot(kind='scatter',x='rank',y='wks_to_peak',fontsize=25,title='Average Ranking of Track vs Number of Weeks to Peak for Rock only',figsize=(12,5))\n",
    "plt.show()"
   ]
  },
  {
   "cell_type": "markdown",
   "metadata": {},
   "source": [
    "## A similar linear relationship exist for the Rock genre, as expected."
   ]
  },
  {
   "cell_type": "code",
   "execution_count": 157,
   "metadata": {
    "collapsed": false
   },
   "outputs": [
    {
     "data": {
      "text/html": [
       "<div>\n",
       "<table border=\"1\" class=\"dataframe\">\n",
       "  <thead>\n",
       "    <tr style=\"text-align: right;\">\n",
       "      <th></th>\n",
       "      <th></th>\n",
       "      <th>rank</th>\n",
       "      <th>wks_to_peak</th>\n",
       "    </tr>\n",
       "    <tr>\n",
       "      <th>track</th>\n",
       "      <th>genre</th>\n",
       "      <th></th>\n",
       "      <th></th>\n",
       "    </tr>\n",
       "  </thead>\n",
       "  <tbody>\n",
       "    <tr>\n",
       "      <th>Hot Boyz</th>\n",
       "      <th>Rap</th>\n",
       "      <td>14.333333</td>\n",
       "      <td>6.0</td>\n",
       "    </tr>\n",
       "    <tr>\n",
       "      <th>Be With You</th>\n",
       "      <th>Latin</th>\n",
       "      <td>15.850000</td>\n",
       "      <td>12.0</td>\n",
       "    </tr>\n",
       "    <tr>\n",
       "      <th>Bring It All To Me</th>\n",
       "      <th>Pop</th>\n",
       "      <td>21.586207</td>\n",
       "      <td>13.0</td>\n",
       "    </tr>\n",
       "    <tr>\n",
       "      <th>Breathe</th>\n",
       "      <th>Rap</th>\n",
       "      <td>23.018868</td>\n",
       "      <td>24.0</td>\n",
       "    </tr>\n",
       "    <tr>\n",
       "      <th>You Sang To Me</th>\n",
       "      <th>Latin</th>\n",
       "      <td>23.468750</td>\n",
       "      <td>14.0</td>\n",
       "    </tr>\n",
       "  </tbody>\n",
       "</table>\n",
       "</div>"
      ],
      "text/plain": [
       "                               rank  wks_to_peak\n",
       "track              genre                        \n",
       "Hot Boyz           Rap    14.333333          6.0\n",
       "Be With You        Latin  15.850000         12.0\n",
       "Bring It All To Me Pop    21.586207         13.0\n",
       "Breathe            Rap    23.018868         24.0\n",
       "You Sang To Me     Latin  23.468750         14.0"
      ]
     },
     "execution_count": 157,
     "metadata": {},
     "output_type": "execute_result"
    }
   ],
   "source": [
    "billboard_long_ =billboard_long[billboard_long.genre !='Rock']\n",
    "wks_to_peak__vs__rank__ = pd.pivot_table(billboard_long_, index=['track','genre'],values=['wks_to_peak','rank'],aggfunc=np.mean)\n",
    "wks_to_peak__vs__rank__.sort_values('rank',inplace=True,ascending=True)\n",
    "wks_to_peak__vs__rank__.head()"
   ]
  },
  {
   "cell_type": "code",
   "execution_count": 159,
   "metadata": {
    "collapsed": false
   },
   "outputs": [
    {
     "data": {
      "image/png": "[encoded data removed]",
      "text/plain": [
       "<matplotlib.figure.Figure at 0x11bf4d210>"
      ]
     },
     "metadata": {},
     "output_type": "display_data"
    }
   ],
   "source": [
    "wks_to_peak__vs__rank__.plot(kind='scatter',x='rank',y='wks_to_peak',fontsize=25,title='Average Ranking of Track vs Number of Weeks to Peak for Non-Rock Genres',figsize=(12,5))\n",
    "plt.show()"
   ]
  },
  {
   "cell_type": "markdown",
   "metadata": {},
   "source": [
    "## For non-rock genres taken together the relationship is not as strong as for rock."
   ]
  },
  {
   "cell_type": "code",
   "execution_count": 101,
   "metadata": {
    "collapsed": false
   },
   "outputs": [
    {
     "data": {
      "image/png": "[encoded data removed]",
      "text/plain": [
       "<matplotlib.figure.Figure at 0x11bed64d0>"
      ]
     },
     "metadata": {},
     "output_type": "display_data"
    }
   ],
   "source": [
    "billboard.plot(kind='scatter',x='wks_to_peak',y='time',fontsize=25,title='Length of Track vs Number of Weeks to Peak',figsize=(12,5))\n",
    "plt.show()"
   ]
  },
  {
   "cell_type": "markdown",
   "metadata": {},
   "source": [
    "## There does not seem to be a relationship between the length of track and the number of weeks from entry to peak."
   ]
  },
  {
   "cell_type": "code",
   "execution_count": 163,
   "metadata": {
    "collapsed": false
   },
   "outputs": [
    {
     "data": {
      "image/png": "[encoded data removed]",
      "text/plain": [
       "<matplotlib.figure.Figure at 0x11bc98f50>"
      ]
     },
     "metadata": {},
     "output_type": "display_data"
    }
   ],
   "source": [
    "billboard_long['rank'].plot(kind='hist',fontsize=25,title='Histogram of Ranks',figsize=(12,5))\n",
    "plt.show()"
   ]
  },
  {
   "cell_type": "code",
   "execution_count": null,
   "metadata": {
    "collapsed": true
   },
   "outputs": [],
   "source": []
  },
  {
   "cell_type": "code",
   "execution_count": null,
   "metadata": {
    "collapsed": true
   },
   "outputs": [],
   "source": []
  },
  {
   "cell_type": "markdown",
   "metadata": {},
   "source": [
    "## As expected the histogram of the total rankings is nearly flat. "
   ]
  },
  {
   "cell_type": "code",
   "execution_count": 162,
   "metadata": {
    "collapsed": false
   },
   "outputs": [
    {
     "data": {
      "image/png": "[encoded data removed]",
      "text/plain": [
       "<matplotlib.figure.Figure at 0x11bdbe550>"
      ]
     },
     "metadata": {},
     "output_type": "display_data"
    }
   ],
   "source": [
    "billboard_long[billboard_long.genre == \"Rock\"]['rank'].plot(kind='hist',fontsize=25,title='Histogram of Ranks for Rock Genre',figsize=(12,5))\n",
    "plt.show()"
   ]
  },
  {
   "cell_type": "markdown",
   "metadata": {},
   "source": [
    "## Most of the low ranks are from Rock."
   ]
  },
  {
   "cell_type": "markdown",
   "metadata": {
    "focus": false,
    "id": "8401c631-245b-4560-8971-25cb2406c2ab"
   },
   "source": [
    "## Step 4: Create a Problem Statement.\n",
    "\n",
    "##### Having explored the data, come up with a problem statement for this data set. You can feel free to introduce data from any other source to support your problem statement, just be sure to provide a link to the origin of the data. Once again- be creative!"
   ]
  },
  {
   "cell_type": "code",
   "execution_count": null,
   "metadata": {
    "collapsed": true,
    "focus": false,
    "id": "e1b81214-9b26-4735-8c1b-4482e948b355"
   },
   "outputs": [],
   "source": []
  },
  {
   "cell_type": "markdown",
   "metadata": {
    "collapsed": false,
    "focus": false,
    "id": "a0ff30a0-48be-4851-9ec3-4ce8ece08a67"
   },
   "source": [
    "## Step 5: Brainstorm your Approach.\n",
    "##### In bullet-list form, provide a proposed approach for evaluating your problem statement. This can be somewhat high-level, but start to think about ways you can massage the data for maximum efficacy. "
   ]
  },
  {
   "cell_type": "code",
   "execution_count": null,
   "metadata": {
    "collapsed": true,
    "focus": false,
    "id": "9d772c7b-61e0-4bc4-bb1a-f3d43ba54862"
   },
   "outputs": [],
   "source": []
  },
  {
   "cell_type": "markdown",
   "metadata": {
    "collapsed": true,
    "focus": false,
    "id": "a3c74c5b-3d90-4442-97d9-ae320fe238d1"
   },
   "source": [
    "## Step 6: Create a blog post with your code snippets and visualizations.\n",
    "##### Data Science is a growing field, and the Tech industry thrives off of collaboration and sharing of knowledge. Blogging is a powerful means for pushing the needle forward in our field. Using your blogging platform of choice, create a post describing each of the 5 steps above. Rather than writing a procedural text, imagine you're describing the data, visualizations, and conclusions you've arrived at to your peers. Aim for a minimum of 500 words. "
   ]
  },
  {
   "cell_type": "code",
   "execution_count": null,
   "metadata": {
    "collapsed": true,
    "focus": false,
    "id": "9b0185e4-7023-4086-b8b7-e15bcacc9984"
   },
   "outputs": [],
   "source": []
  },
  {
   "cell_type": "markdown",
   "metadata": {
    "focus": false,
    "id": "aee61cbf-dfe9-40d3-bfef-772a60bed757"
   },
   "source": [
    "## BONUS: The Content Managers working for the Podcast Publishing Company have recognized you as a thought leader in your field. They've asked you to pen a white paper (minimum 500 words) on the subject of 'What It Means To Have Clean Data'. This will be an opinion piece read by a wide audience, so be sure to back up your statements with real world examples or scenarios.\n",
    "\n",
    "##### Hint: To get started, look around on the internet for articles, blog posts, papers, youtube videos, podcasts, reddit discussions, anything that will help you understand the challenges and implications of dealing with big data. This should be a personal reflection on everything you've learned this week, and the learning goals that have been set out for you going forward. "
   ]
  },
  {
   "cell_type": "code",
   "execution_count": null,
   "metadata": {
    "collapsed": true,
    "focus": false,
    "id": "28deb393-c994-47bc-87d2-035741ce527c"
   },
   "outputs": [],
   "source": []
  },
  {
   "cell_type": "code",
   "execution_count": null,
   "metadata": {
    "collapsed": false
   },
   "outputs": [],
   "source": []
  },
  {
   "cell_type": "code",
   "execution_count": null,
   "metadata": {
    "collapsed": false
   },
   "outputs": [],
   "source": [
    "plt.style.use('fivethirtyeight')\n",
    "\n",
    "fig = plt.figure(figsize=(12,8))\n",
    "\n",
    "axes = fig.gca()\n",
    "\n",
    "axes.hist(rank_list, 100, facecolor='darkred', normed=1)"
   ]
  },
  {
   "cell_type": "code",
   "execution_count": null,
   "metadata": {
    "collapsed": true
   },
   "outputs": [],
   "source": []
  }
 ],
 "metadata": {
  "anaconda-cloud": {},
  "kernelspec": {
   "display_name": "Python [Root]",
   "language": "python",
   "name": "Python [Root]"
  },
  "language_info": {
   "codemirror_mode": {
    "name": "ipython",
    "version": 2
   },
   "file_extension": ".py",
   "mimetype": "text/x-python",
   "name": "python",
   "nbconvert_exporter": "python",
   "pygments_lexer": "ipython2",
   "version": "2.7.12"
  }
 },
 "nbformat": 4,
 "nbformat_minor": 0
}
