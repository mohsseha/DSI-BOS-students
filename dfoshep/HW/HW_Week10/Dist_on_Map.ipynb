{
 "cells": [
  {
   "cell_type": "code",
   "execution_count": 2,
   "metadata": {
    "collapsed": false
   },
   "outputs": [],
   "source": [
    "def dist(x1,y1,map, x0=0,y0=0):\n",
    "    dist_table = map\n",
    "    max_x = len(map)\n",
    "    max_y= len(map[0])\n",
    "    def neighbors(x,y):                        # coordinates of neighbors of (x,y)\n",
    "        neigh=[]\n",
    "        for pair in [[1,0],[-1,0],[0,1],[0,-1]]:\n",
    "            if (0<= x+pair[0] < max_x) and (0<= y+pair[1] < max_y):\n",
    "                neigh.append((x+pair[0],y+pair[1]))\n",
    "        return neigh\n",
    "\n",
    "    coord_list = [(x0,y0)]    \n",
    "    dist_table[x0][y0] = 0                      # initial cell gets distance value of 0\n",
    "    while coord_list:                           # expand boundary starting at initial cell\n",
    "        x, y = coord_list.pop(0)                 # pop out a coordinate pair    \n",
    "        value = dist_table[x][y]        \n",
    "        for xn,yn in neighbors(x,y):            # update values of neighbors of pop cell \n",
    "            if dist_table[xn][yn] == 'F':         # by 1 more than value of pop cell \n",
    "                dist_table[xn][yn] = value+1      # if neighbor has not been visited before\n",
    "                coord_list.append((xn,yn))          \n",
    "    print dist_table     \n",
    "    return dist_table[x1][y1] "
   ]
  },
  {
   "cell_type": "code",
   "execution_count": null,
   "metadata": {
    "collapsed": true
   },
   "outputs": [],
   "source": []
  },
  {
   "cell_type": "code",
   "execution_count": 2,
   "metadata": {
    "collapsed": false
   },
   "outputs": [
    {
     "name": "stdout",
     "output_type": "stream",
     "text": [
      "[[0, 'T', 4, 5], [1, 2, 3, 'T'], [2, 3, 4, 5], [3, 'T', 5, 6]]\n"
     ]
    },
    {
     "data": {
      "text/plain": [
       "4"
      ]
     },
     "execution_count": 2,
     "metadata": {},
     "output_type": "execute_result"
    }
   ],
   "source": [
    "map_table=[[\"F\",\"T\",\"F\",\"F\"],[\"F\",\"F\",\"F\",\"T\"],[\"F\",\"F\",\"F\",\"F\"],[\"F\",\"T\",\"F\",\"F\"]]\n",
    "dist(0,2,map_table)"
   ]
  },
  {
   "cell_type": "code",
   "execution_count": 7,
   "metadata": {
    "collapsed": false
   },
   "outputs": [
    {
     "name": "stdout",
     "output_type": "stream",
     "text": [
      "[[0, 'T', 10, 9], [1, 'T', 9, 8], [2, 3, 'T', 7], [3, 4, 5, 6]]\n"
     ]
    },
    {
     "data": {
      "text/plain": [
       "10"
      ]
     },
     "execution_count": 7,
     "metadata": {},
     "output_type": "execute_result"
    }
   ],
   "source": [
    "map_table=[[\"F\",\"T\",\"F\",\"F\"],\n",
    "           [\"F\",\"T\",\"F\",\"F\"],\n",
    "           [\"F\",\"F\",\"T\",\"F\"],\n",
    "           [\"F\",\"F\",\"F\",\"F\"]]\n",
    "dist(0,2,map_table)"
   ]
  },
  {
   "cell_type": "code",
   "execution_count": 3,
   "metadata": {
    "collapsed": false
   },
   "outputs": [
    {
     "name": "stdout",
     "output_type": "stream",
     "text": [
      "[[0, 1, 2, 3], [1, 'T', 'T', 4], [2, 'T', 6, 5], [3, 'T', 7, 'T'], [4, 'T', 8, 9], [5, 'T', 'T', 10], [6, 7, 8, 9]]\n"
     ]
    },
    {
     "data": {
      "text/plain": [
       "9"
      ]
     },
     "execution_count": 3,
     "metadata": {},
     "output_type": "execute_result"
    }
   ],
   "source": [
    "map_table=[[\"F\",\"F\",\"F\",\"F\"],\n",
    "           [\"F\",\"T\",\"T\",\"F\"],\n",
    "           [\"F\",\"T\",\"F\",\"F\"],\n",
    "           [\"F\",\"T\",\"F\",\"T\"],\n",
    "           [\"F\",\"T\",\"F\",\"F\"],\n",
    "           [\"F\",\"T\",\"T\",\"F\"],\n",
    "           [\"F\",\"F\",\"F\",\"F\"]]\n",
    "dist(6,3,map_table)\n"
   ]
  }
 ],
 "metadata": {
  "anaconda-cloud": {},
  "kernelspec": {
   "display_name": "Python [default]",
   "language": "python",
   "name": "python2"
  },
  "language_info": {
   "codemirror_mode": {
    "name": "ipython",
    "version": 2
   },
   "file_extension": ".py",
   "mimetype": "text/x-python",
   "name": "python",
   "nbconvert_exporter": "python",
   "pygments_lexer": "ipython2",
   "version": "2.7.13"
  }
 },
 "nbformat": 4,
 "nbformat_minor": 2
}
