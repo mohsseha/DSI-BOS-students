{
 "cells": [
  {
   "cell_type": "code",
   "execution_count": null,
   "metadata": {
    "collapsed": true
   },
   "outputs": [],
   "source": [
    "python get_total.py < sat_scores.csv > sat_scores2.csv"
   ]
  },
  {
   "cell_type": "code",
   "execution_count": 4,
   "metadata": {
    "collapsed": false
   },
   "outputs": [
    {
     "name": "stdout",
     "output_type": "stream",
     "text": [
      "0 0\n"
     ]
    }
   ],
   "source": [
    "import sys\n",
    "import string\n",
    "from collections import defaultdict\n",
    "\n",
    "states = ['IA', 'KS', 'UT', 'VA', 'NC', 'NE', 'SD', 'AL', 'ID', 'FM', 'DE', 'AK', 'CT', 'PR', 'NM', 'MS', 'PW', 'CO', 'NJ', 'FL', 'MN', 'VI', 'NV', 'AZ', 'WI', 'ND', 'PA', 'OK', 'KY', 'RI', 'NH', 'MO', 'ME', 'VT', 'GA', 'GU', 'AS', 'NY', 'CA', 'HI', 'IL', 'TN', 'MA', 'OH', 'MD', 'MI', 'WY', 'WA', 'OR', 'MH', 'SC', 'IN', 'LA', 'MP', 'DC', 'MT', 'AR', 'WV', 'TX']\n",
    "verbal = 0\n",
    "math = 0\n",
    "for line in sys.stdin:\n",
    "\n",
    "    row = line.split(',')\n",
    "    if row[0] in states:\n",
    "        verbal += row[2]\n",
    "        math += row[2]\n",
    "\n",
    "print verbal, math\n",
    "#    print '%s\\t%s' %(w,n)\n"
   ]
  },
  {
   "cell_type": "code",
   "execution_count": null,
   "metadata": {
    "collapsed": true
   },
   "outputs": [],
   "source": []
  },
  {
   "cell_type": "code",
   "execution_count": 24,
   "metadata": {
    "collapsed": false
   },
   "outputs": [
    {
     "name": "stdout",
     "output_type": "stream",
     "text": [
      "27103 27070\n"
     ]
    }
   ],
   "source": [
    "import sys\n",
    "import string\n",
    "from collections import defaultdict\n",
    "\n",
    "states = ['IA', 'KS', 'UT', 'VA', 'NC', 'NE', 'SD', 'AL', 'ID', 'FM', 'DE', 'AK', 'CT', 'PR', 'NM', 'MS', 'PW', 'CO', 'NJ', 'FL', 'MN', 'VI', 'NV', 'AZ', 'WI', 'ND', 'PA', 'OK', 'KY', 'RI', 'NH', 'MO', 'ME', 'VT', 'GA', 'GU', 'AS', 'NY', 'CA', 'HI', 'IL', 'TN', 'MA', 'OH', 'MD', 'MI', 'WY', 'WA', 'OR', 'MH', 'SC', 'IN', 'LA', 'MP', 'DC', 'MT', 'AR', 'WV', 'TX',\"All\"]\n",
    "verbal = 0\n",
    "math = 0\n",
    "file_object = open('sat_scores.csv')\n",
    "for line in file_object:\n",
    "\n",
    "    row = line.split(',')\n",
    "    if row[0] in states:\n",
    "        verbal += int(row[2])\n",
    "        math += int(row[3])\n",
    "\n",
    "print verbal, math"
   ]
  },
  {
   "cell_type": "code",
   "execution_count": null,
   "metadata": {
    "collapsed": true
   },
   "outputs": [],
   "source": []
  },
  {
   "cell_type": "code",
   "execution_count": null,
   "metadata": {
    "collapsed": true
   },
   "outputs": [],
   "source": []
  },
  {
   "cell_type": "code",
   "execution_count": 39,
   "metadata": {
    "collapsed": false
   },
   "outputs": [
    {
     "name": "stdout",
     "output_type": "stream",
     "text": [
      "Total Verbal/Math SAT Scores for US are:  0 / 0\n"
     ]
    }
   ],
   "source": [
    "import sys\n",
    "import string\n",
    "from collections import defaultdict\n",
    "\n",
    "\n",
    "verbal = 0\n",
    "math = 0\n",
    "count=0\n",
    "for line in sys.stdin:\n",
    "    row = line.split(',')\n",
    "    if count in range(1,52):\n",
    "        verbal += int(row[2])\n",
    "        math += int(row[3])\n",
    "    count+=1\n",
    "print \"Total Verbal/Math SAT Scores for US are:  {} / {}\".format(verbal,math)\n",
    "\n"
   ]
  },
  {
   "cell_type": "code",
   "execution_count": 40,
   "metadata": {
    "collapsed": false
   },
   "outputs": [
    {
     "data": {
      "text/plain": [
       "27159"
      ]
     },
     "execution_count": 40,
     "metadata": {},
     "output_type": "execute_result"
    }
   ],
   "source": [
    "import pandas as pd\n",
    "df=pd.read_csv('sat_scores.csv')\n",
    "\n",
    "df.Verbal.sum()-df.Verbal.iloc[-1]"
   ]
  },
  {
   "cell_type": "code",
   "execution_count": null,
   "metadata": {
    "collapsed": true
   },
   "outputs": [],
   "source": []
  },
  {
   "cell_type": "code",
   "execution_count": 41,
   "metadata": {
    "collapsed": false
   },
   "outputs": [
    {
     "data": {
      "text/plain": [
       "27124"
      ]
     },
     "execution_count": 41,
     "metadata": {},
     "output_type": "execute_result"
    }
   ],
   "source": [
    "df.Math.sum()-df.Math.iloc[-1]"
   ]
  },
  {
   "cell_type": "code",
   "execution_count": null,
   "metadata": {
    "collapsed": true
   },
   "outputs": [],
   "source": [
    "27159 / 27124"
   ]
  },
  {
   "cell_type": "code",
   "execution_count": 30,
   "metadata": {
    "collapsed": false
   },
   "outputs": [
    {
     "data": {
      "text/plain": [
       "0     509\n",
       "1     499\n",
       "2     511\n",
       "3     495\n",
       "4     520\n",
       "5     501\n",
       "6     500\n",
       "7     511\n",
       "8     506\n",
       "9     510\n",
       "10    501\n",
       "11    508\n",
       "12    493\n",
       "13    491\n",
       "14    499\n",
       "15    486\n",
       "16    482\n",
       "17    526\n",
       "18    498\n",
       "19    527\n",
       "20    493\n",
       "21    485\n",
       "22    514\n",
       "23    498\n",
       "24    523\n",
       "25    509\n",
       "26    539\n",
       "27    534\n",
       "28    539\n",
       "29    527\n",
       "30    543\n",
       "31    562\n",
       "32    551\n",
       "33    576\n",
       "34    550\n",
       "35    547\n",
       "36    561\n",
       "37    580\n",
       "38    577\n",
       "39    559\n",
       "40    562\n",
       "41    567\n",
       "42    577\n",
       "43    564\n",
       "44    584\n",
       "45    562\n",
       "46    575\n",
       "47    593\n",
       "48    577\n",
       "49    592\n",
       "50    566\n",
       "51    506\n",
       "Name: Verbal, dtype: int64"
      ]
     },
     "execution_count": 30,
     "metadata": {},
     "output_type": "execute_result"
    }
   ],
   "source": [
    "df.Verbal"
   ]
  }
 ],
 "metadata": {
  "kernelspec": {
   "display_name": "Python [default]",
   "language": "python",
   "name": "python2"
  },
  "language_info": {
   "codemirror_mode": {
    "name": "ipython",
    "version": 2
   },
   "file_extension": ".py",
   "mimetype": "text/x-python",
   "name": "python",
   "nbconvert_exporter": "python",
   "pygments_lexer": "ipython2",
   "version": "2.7.13"
  }
 },
 "nbformat": 4,
 "nbformat_minor": 2
}
