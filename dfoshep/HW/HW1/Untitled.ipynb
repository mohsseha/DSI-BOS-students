{
 "cells": [
  {
   "cell_type": "code",
   "execution_count": null,
   "metadata": {
    "collapsed": true
   },
   "outputs": [],
   "source": [
    "python counter.py < input.txt > output.txt"
   ]
  },
  {
   "cell_type": "code",
   "execution_count": 26,
   "metadata": {
    "collapsed": false
   },
   "outputs": [
    {
     "name": "stdout",
     "output_type": "stream",
     "text": [
      "all\t2\n",
      "and\t13\n",
      "arms\t1\n",
      "as\t2\n",
      "awhile\t1\n",
      "back\t1\n",
      "bandersnatch”\t1\n",
      "beamish\t1\n",
      "beware\t1\n",
      "bird\t1\n",
      "bite\t1\n",
      "blade\t1\n",
      "borogoves\t2\n",
      "boy\t1\n",
      "brillig\t2\n",
      "burbled\t1\n",
      "by\t1\n",
      "callay”\t1\n",
      "callooh\t1\n",
      "came\t2\n",
      "catch\t1\n",
      "chortled\t1\n",
      "claws\t1\n",
      "come\t1\n",
      "day\t1\n",
      "dead\t1\n",
      "did\t2\n",
      "eyes\t1\n",
      "flame\t1\n",
      "foe\t1\n",
      "frabjous\t1\n",
      "frumious\t1\n",
      "galumphing\t1\n",
      "gimble\t2\n",
      "gyre\t2\n",
      "hand\t1\n",
      "hast\t1\n",
      "he\t7\n",
      "head\t1\n",
      "his\t2\n",
      "in\t6\n",
      "it\t2\n",
      "its\t1\n",
      "jabberwock\t3\n",
      "jaws\t1\n",
      "joy\t1\n",
      "jubjub\t1\n",
      "left\t1\n",
      "long\t1\n",
      "manxome\t1\n",
      "mimsy\t2\n",
      "mome\t2\n",
      "my\t3\n",
      "o\t1\n",
      "of\t1\n",
      "one\t2\n",
      "outgrabe\t2\n",
      "raths\t2\n",
      "rested\t1\n",
      "shun\t1\n",
      "slain\t1\n",
      "slithy\t2\n",
      "snickersnack\t1\n",
      "so\t1\n",
      "son\t1\n",
      "sought—\t1\n",
      "stood\t2\n",
      "sword\t1\n",
      "that\t2\n",
      "the\t19\n",
      "thou\t1\n",
      "thought\t2\n",
      "through\t3\n",
      "time\t1\n",
      "to\t1\n",
      "took\t1\n",
      "toves\t2\n",
      "tree\t1\n",
      "tulgey\t1\n",
      "tumtum\t1\n",
      "two\t2\n",
      "uffish\t1\n",
      "vorpal\t2\n",
      "wabe\t2\n",
      "went\t2\n",
      "were\t2\n",
      "whiffling\t1\n",
      "with\t2\n",
      "wood\t1\n",
      "‘twas\t2\n",
      "“and\t1\n",
      "“beware\t1\n"
     ]
    }
   ],
   "source": [
    "import sys\n",
    "import string\n",
    "from collections import defaultdict\n",
    "\n",
    "file_object = open('input.txt')\n",
    "wordcounts = defaultdict(int)\n",
    "\n",
    "#for line in sys.stdin:\n",
    "for line in file_object:\n",
    "    #line = line.encode('ascii')\n",
    "    \n",
    "    line = line.translate(None, string.punctuation)\n",
    "    line = line.strip()\n",
    "    words = [word.lower() for word in line.split()]\n",
    "\n",
    "    for word in words:\n",
    "        wordcounts[word] += 1\n",
    "\n",
    "\n",
    "for w, n in sorted(wordcounts.items()):\n",
    "    print '%s\\t%s' %(w,n)\n"
   ]
  },
  {
   "cell_type": "code",
   "execution_count": null,
   "metadata": {
    "collapsed": true
   },
   "outputs": [],
   "source": []
  },
  {
   "cell_type": "code",
   "execution_count": null,
   "metadata": {
    "collapsed": true
   },
   "outputs": [],
   "source": []
  },
  {
   "cell_type": "code",
   "execution_count": null,
   "metadata": {
    "collapsed": true
   },
   "outputs": [],
   "source": []
  },
  {
   "cell_type": "code",
   "execution_count": null,
   "metadata": {
    "collapsed": true
   },
   "outputs": [],
   "source": []
  },
  {
   "cell_type": "code",
   "execution_count": 22,
   "metadata": {
    "collapsed": false
   },
   "outputs": [
    {
     "data": {
      "text/plain": [
       "'sdjsdsdsklslsk'"
      ]
     },
     "execution_count": 22,
     "metadata": {},
     "output_type": "execute_result"
    }
   ],
   "source": [
    "s=\"sdjsd,.sdsk.,??:'''lslsk'''\"\n",
    "s.translate(None, string.punctuation)"
   ]
  },
  {
   "cell_type": "code",
   "execution_count": null,
   "metadata": {
    "collapsed": true
   },
   "outputs": [],
   "source": []
  },
  {
   "cell_type": "code",
   "execution_count": null,
   "metadata": {
    "collapsed": true
   },
   "outputs": [],
   "source": []
  },
  {
   "cell_type": "code",
   "execution_count": null,
   "metadata": {
    "collapsed": true
   },
   "outputs": [],
   "source": []
  },
  {
   "cell_type": "code",
   "execution_count": 11,
   "metadata": {
    "collapsed": false
   },
   "outputs": [
    {
     "name": "stdout",
     "output_type": "stream",
     "text": [
      "all\t2\n",
      "and\t13\n",
      "arms\t1\n",
      "as\t2\n",
      "awhile\t1\n",
      "back\t1\n",
      "bandersnatch”\t1\n",
      "beamish\t1\n",
      "beware\t1\n",
      "bird\t1\n",
      "bite\t1\n",
      "blade\t1\n",
      "borogoves\t2\n",
      "boy\t1\n",
      "brillig\t2\n",
      "burbled\t1\n",
      "by\t1\n",
      "callay”\t1\n",
      "callooh\t1\n",
      "came\t2\n",
      "catch\t1\n",
      "chortled\t1\n",
      "claws\t1\n",
      "come\t1\n",
      "day\t1\n",
      "dead\t1\n",
      "did\t2\n",
      "eyes\t1\n",
      "flame\t1\n",
      "foe\t1\n",
      "frabjous\t1\n",
      "frumious\t1\n",
      "galumphing\t1\n",
      "gimble\t2\n",
      "gyre\t2\n",
      "hand\t1\n",
      "hast\t1\n",
      "he\t7\n",
      "head\t1\n",
      "his\t2\n",
      "in\t6\n",
      "it\t2\n",
      "its\t1\n",
      "jabberwock\t3\n",
      "jaws\t1\n",
      "joy\t1\n",
      "jubjub\t1\n",
      "left\t1\n",
      "long\t1\n",
      "manxome\t1\n",
      "mimsy\t2\n",
      "mome\t2\n",
      "my\t3\n",
      "o\t1\n",
      "of\t1\n",
      "one\t2\n",
      "outgrabe\t2\n",
      "raths\t2\n",
      "rested\t1\n",
      "shun\t1\n",
      "slain\t1\n",
      "slithy\t2\n",
      "snickersnack\t1\n",
      "so\t1\n",
      "son\t1\n",
      "sought—\t1\n",
      "stood\t2\n",
      "sword\t1\n",
      "that\t2\n",
      "the\t19\n",
      "thou\t1\n",
      "thought\t2\n",
      "through\t3\n",
      "time\t1\n",
      "to\t1\n",
      "took\t1\n",
      "toves\t2\n",
      "tree\t1\n",
      "tulgey\t1\n",
      "tumtum\t1\n",
      "two\t2\n",
      "uffish\t1\n",
      "vorpal\t2\n",
      "wabe\t2\n",
      "went\t2\n",
      "were\t2\n",
      "whiffling\t1\n",
      "with\t2\n",
      "wood\t1\n",
      "‘twas\t2\n",
      "“and\t1\n",
      "“beware\t1\n"
     ]
    }
   ],
   "source": [
    "list_=[]\n",
    "for line in file_object:\n",
    "    # line = line.encode('ascii')\n",
    "#    line = line.strip()\n",
    "#    line = line.translate(None, string.punctuation)\n",
    "    words = [word.lower() for word in line.split()]\n",
    "\n",
    "    for word in words:\n",
    "        wordcounts[word] += 1\n",
    "\n",
    "\n",
    "for w, n in sorted(wordcounts.items()):\n",
    "    print '%s\\t%s' %(w,n)\n"
   ]
  },
  {
   "cell_type": "code",
   "execution_count": 17,
   "metadata": {
    "collapsed": true
   },
   "outputs": [],
   "source": [
    "wordcounts2 ={}\n",
    "for line in file_object:\n",
    "    words2 = [word.lower() for word in line.split()]\n",
    "    for word in words2:\n",
    "        wordcounts2[word] += 1"
   ]
  },
  {
   "cell_type": "code",
   "execution_count": 18,
   "metadata": {
    "collapsed": false
   },
   "outputs": [
    {
     "data": {
      "text/plain": [
       "{}"
      ]
     },
     "execution_count": 18,
     "metadata": {},
     "output_type": "execute_result"
    }
   ],
   "source": [
    "wordcounts2"
   ]
  },
  {
   "cell_type": "code",
   "execution_count": 19,
   "metadata": {
    "collapsed": true
   },
   "outputs": [],
   "source": [
    "for line in file_object:\n",
    "    # line = line.encode('ascii')\n",
    "#    line = line.strip()\n",
    "#    line = line.translate(None, string.punctuation)\n",
    "    words = [word.lower() for word in line.split()]\n",
    "\n",
    "    for word in words:\n",
    "        wordcounts[word] += 1\n"
   ]
  },
  {
   "cell_type": "code",
   "execution_count": 20,
   "metadata": {
    "collapsed": false
   },
   "outputs": [
    {
     "data": {
      "text/plain": [
       "defaultdict(int,\n",
       "            {'all': 2,\n",
       "             'and': 13,\n",
       "             'arms': 1,\n",
       "             'as': 2,\n",
       "             'awhile': 1,\n",
       "             'back': 1,\n",
       "             'bandersnatch\\xe2\\x80\\x9d': 1,\n",
       "             'beamish': 1,\n",
       "             'beware': 1,\n",
       "             'bird': 1,\n",
       "             'bite': 1,\n",
       "             'blade': 1,\n",
       "             'borogoves': 2,\n",
       "             'boy': 1,\n",
       "             'brillig': 2,\n",
       "             'burbled': 1,\n",
       "             'by': 1,\n",
       "             'callay\\xe2\\x80\\x9d': 1,\n",
       "             'callooh': 1,\n",
       "             'came': 2,\n",
       "             'catch': 1,\n",
       "             'chortled': 1,\n",
       "             'claws': 1,\n",
       "             'come': 1,\n",
       "             'day': 1,\n",
       "             'dead': 1,\n",
       "             'did': 2,\n",
       "             'eyes': 1,\n",
       "             'flame': 1,\n",
       "             'foe': 1,\n",
       "             'frabjous': 1,\n",
       "             'frumious': 1,\n",
       "             'galumphing': 1,\n",
       "             'gimble': 2,\n",
       "             'gyre': 2,\n",
       "             'hand': 1,\n",
       "             'hast': 1,\n",
       "             'he': 7,\n",
       "             'head': 1,\n",
       "             'his': 2,\n",
       "             'in': 6,\n",
       "             'it': 2,\n",
       "             'its': 1,\n",
       "             'jabberwock': 3,\n",
       "             'jaws': 1,\n",
       "             'joy': 1,\n",
       "             'jubjub': 1,\n",
       "             'left': 1,\n",
       "             'long': 1,\n",
       "             'manxome': 1,\n",
       "             'mimsy': 2,\n",
       "             'mome': 2,\n",
       "             'my': 3,\n",
       "             'o': 1,\n",
       "             'of': 1,\n",
       "             'one': 2,\n",
       "             'outgrabe': 2,\n",
       "             'raths': 2,\n",
       "             'rested': 1,\n",
       "             'shun': 1,\n",
       "             'slain': 1,\n",
       "             'slithy': 2,\n",
       "             'snickersnack': 1,\n",
       "             'so': 1,\n",
       "             'son': 1,\n",
       "             'sought\\xe2\\x80\\x94': 1,\n",
       "             'stood': 2,\n",
       "             'sword': 1,\n",
       "             'that': 2,\n",
       "             'the': 19,\n",
       "             'thou': 1,\n",
       "             'thought': 2,\n",
       "             'through': 3,\n",
       "             'time': 1,\n",
       "             'to': 1,\n",
       "             'took': 1,\n",
       "             'toves': 2,\n",
       "             'tree': 1,\n",
       "             'tulgey': 1,\n",
       "             'tumtum': 1,\n",
       "             'two': 2,\n",
       "             'uffish': 1,\n",
       "             'vorpal': 2,\n",
       "             'wabe': 2,\n",
       "             'went': 2,\n",
       "             'were': 2,\n",
       "             'whiffling': 1,\n",
       "             'with': 2,\n",
       "             'wood': 1,\n",
       "             '\\xe2\\x80\\x98twas': 2,\n",
       "             '\\xe2\\x80\\x9cand': 1,\n",
       "             '\\xe2\\x80\\x9cbeware': 1})"
      ]
     },
     "execution_count": 20,
     "metadata": {},
     "output_type": "execute_result"
    }
   ],
   "source": [
    "wordcounts"
   ]
  },
  {
   "cell_type": "code",
   "execution_count": null,
   "metadata": {
    "collapsed": true
   },
   "outputs": [],
   "source": []
  },
  {
   "cell_type": "code",
   "execution_count": null,
   "metadata": {
    "collapsed": true
   },
   "outputs": [],
   "source": []
  },
  {
   "cell_type": "code",
   "execution_count": null,
   "metadata": {
    "collapsed": true
   },
   "outputs": [],
   "source": []
  },
  {
   "cell_type": "code",
   "execution_count": null,
   "metadata": {
    "collapsed": true
   },
   "outputs": [],
   "source": []
  },
  {
   "cell_type": "code",
   "execution_count": null,
   "metadata": {
    "collapsed": true
   },
   "outputs": [],
   "source": []
  },
  {
   "cell_type": "code",
   "execution_count": null,
   "metadata": {
    "collapsed": true
   },
   "outputs": [],
   "source": []
  },
  {
   "cell_type": "code",
   "execution_count": null,
   "metadata": {
    "collapsed": true
   },
   "outputs": [],
   "source": []
  },
  {
   "cell_type": "code",
   "execution_count": null,
   "metadata": {
    "collapsed": true
   },
   "outputs": [],
   "source": []
  },
  {
   "cell_type": "code",
   "execution_count": null,
   "metadata": {
    "collapsed": true
   },
   "outputs": [],
   "source": []
  },
  {
   "cell_type": "code",
   "execution_count": null,
   "metadata": {
    "collapsed": true
   },
   "outputs": [],
   "source": []
  },
  {
   "cell_type": "code",
   "execution_count": null,
   "metadata": {
    "collapsed": true
   },
   "outputs": [],
   "source": []
  },
  {
   "cell_type": "code",
   "execution_count": null,
   "metadata": {
    "collapsed": true
   },
   "outputs": [],
   "source": []
  },
  {
   "cell_type": "code",
   "execution_count": null,
   "metadata": {
    "collapsed": true
   },
   "outputs": [],
   "source": []
  },
  {
   "cell_type": "code",
   "execution_count": null,
   "metadata": {
    "collapsed": true
   },
   "outputs": [],
   "source": []
  }
 ],
 "metadata": {
  "anaconda-cloud": {},
  "kernelspec": {
   "display_name": "Python [default]",
   "language": "python",
   "name": "python2"
  },
  "language_info": {
   "codemirror_mode": {
    "name": "ipython",
    "version": 2
   },
   "file_extension": ".py",
   "mimetype": "text/x-python",
   "name": "python",
   "nbconvert_exporter": "python",
   "pygments_lexer": "ipython2",
   "version": "2.7.13"
  }
 },
 "nbformat": 4,
 "nbformat_minor": 2
}
