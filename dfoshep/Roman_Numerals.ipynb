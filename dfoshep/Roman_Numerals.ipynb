{
 "cells": [
  {
   "cell_type": "code",
   "execution_count": 216,
   "metadata": {
    "collapsed": true
   },
   "outputs": [],
   "source": [
    "import math"
   ]
  },
  {
   "cell_type": "code",
   "execution_count": 290,
   "metadata": {
    "collapsed": false
   },
   "outputs": [],
   "source": [
    "def num_list(num):                  # numbers are not limited \n",
    "    \n",
    "    def sub_num_str(num=num,roman_list=roman_list):   #subfunction\n",
    "        base=int(math.log(num+0.5,10))  # base=0 for num 1-9, base=1 for 10-99, base=2 for 100-999\n",
    "        b=10**base                  # b=1 for num 1-9, base=10 for 10-99, base=100 for 100-999\n",
    "        k=int(num/b)                # k is the first digit\n",
    "        m=k%5                       \n",
    "        if m==4:                    # case k = 4 or 9\n",
    "            roman_list.append(b)    \n",
    "        if k>3:                     # case k = 4 to 9\n",
    "            roman_list.append(b*5*(1+(k==9)))\n",
    "        if m<4 and m>0:             # case k = 1,2,3,6,7,8\n",
    "            for i in range(m):\n",
    "                roman_list.append(b)\n",
    "        if num<10 or num==b:                 \n",
    "            return roman_list\n",
    "        else:\n",
    "            return sub_num_str(num=num-k*b,roman_list=roman_list)  # remove first digit of num\n",
    "    return sub_num_str(num=num,roman_list=[])\n",
    "        "
   ]
  },
  {
   "cell_type": "code",
   "execution_count": 293,
   "metadata": {
    "collapsed": false
   },
   "outputs": [
    {
     "data": {
      "text/plain": [
       "[1000000, 1000, 1000, 1000, 10, 50, 1, 10]"
      ]
     },
     "execution_count": 293,
     "metadata": {},
     "output_type": "execute_result"
    }
   ],
   "source": [
    "num_list(1003049)"
   ]
  },
  {
   "cell_type": "code",
   "execution_count": 294,
   "metadata": {
    "collapsed": true
   },
   "outputs": [],
   "source": [
    "def num_str(num):\n",
    "    #numbers less than equal to 3999\n",
    "    roman_dict = {1:'I',5:'V',10:'X',50:'L',100:'C',500:'D',1000:'M'}\n",
    "    roman_list=num_list(num)\n",
    "    roman_str=''\n",
    "    for i in roman_list:\n",
    "        roman_str+=roman_dict[i]\n",
    "    return roman_str\n",
    "    "
   ]
  },
  {
   "cell_type": "code",
   "execution_count": 295,
   "metadata": {
    "collapsed": false
   },
   "outputs": [
    {
     "data": {
      "text/plain": [
       "'MMMXLIX'"
      ]
     },
     "execution_count": 295,
     "metadata": {},
     "output_type": "execute_result"
    }
   ],
   "source": [
    "num_str(3049)"
   ]
  },
  {
   "cell_type": "code",
   "execution_count": 296,
   "metadata": {
    "collapsed": false
   },
   "outputs": [
    {
     "data": {
      "text/plain": [
       "'MMMXLIX'"
      ]
     },
     "execution_count": 296,
     "metadata": {},
     "output_type": "execute_result"
    }
   ],
   "source": [
    "num_str(3049)"
   ]
  },
  {
   "cell_type": "code",
   "execution_count": null,
   "metadata": {
    "collapsed": true
   },
   "outputs": [],
   "source": [
    "878: DCCCLXXVIII"
   ]
  },
  {
   "cell_type": "code",
   "execution_count": 297,
   "metadata": {
    "collapsed": false
   },
   "outputs": [
    {
     "data": {
      "text/plain": [
       "'DCCCLXXVIII'"
      ]
     },
     "execution_count": 297,
     "metadata": {},
     "output_type": "execute_result"
    }
   ],
   "source": [
    "num_str(878)"
   ]
  },
  {
   "cell_type": "code",
   "execution_count": 298,
   "metadata": {
    "collapsed": true
   },
   "outputs": [],
   "source": [
    "def list_num(roman_list):   # numbers are not limited \n",
    "    sum=0\n",
    "    for index, item in enumerate(roman_list):\n",
    "        if index+1<len(roman_list):\n",
    "            if roman_list[index+1]>item:\n",
    "                sum-=item\n",
    "            else:\n",
    "                sum+=item\n",
    "        else:\n",
    "            sum+=item\n",
    "    return sum\n",
    "            "
   ]
  },
  {
   "cell_type": "code",
   "execution_count": 299,
   "metadata": {
    "collapsed": false
   },
   "outputs": [
    {
     "data": {
      "text/plain": [
       "1003049"
      ]
     },
     "execution_count": 299,
     "metadata": {},
     "output_type": "execute_result"
    }
   ],
   "source": [
    "list_num([1000000, 1000, 1000, 1000, 10, 50, 1, 10])"
   ]
  },
  {
   "cell_type": "code",
   "execution_count": 300,
   "metadata": {
    "collapsed": true
   },
   "outputs": [],
   "source": [
    "def str_num(roman_str):  #roman strings corresponding to numbers less than equal to 3999\n",
    "    roman_dict = {'I':1,'V':5,'X':10,'L':50,'C':100,'D':500,'M':1000}\n",
    "    roman_list=[]\n",
    "    for i in roman_str:\n",
    "        roman_list.append(roman_dict[i])\n",
    "    num = list_num(roman_list)\n",
    "    return num\n",
    "    "
   ]
  },
  {
   "cell_type": "code",
   "execution_count": 301,
   "metadata": {
    "collapsed": false
   },
   "outputs": [
    {
     "data": {
      "text/plain": [
       "878"
      ]
     },
     "execution_count": 301,
     "metadata": {},
     "output_type": "execute_result"
    }
   ],
   "source": [
    "str_num('DCCCLXXVIII')"
   ]
  },
  {
   "cell_type": "code",
   "execution_count": 302,
   "metadata": {
    "collapsed": false
   },
   "outputs": [
    {
     "data": {
      "text/plain": [
       "'DCCCLXXVIII'"
      ]
     },
     "execution_count": 302,
     "metadata": {},
     "output_type": "execute_result"
    }
   ],
   "source": [
    "num_str(str_num('DCCCLXXVIII'))"
   ]
  },
  {
   "cell_type": "code",
   "execution_count": 315,
   "metadata": {
    "collapsed": false
   },
   "outputs": [
    {
     "data": {
      "text/plain": [
       "3999"
      ]
     },
     "execution_count": 315,
     "metadata": {},
     "output_type": "execute_result"
    }
   ],
   "source": [
    "sum=0\n",
    "for num in range(1,4000):\n",
    "    \n",
    "    if str_num(num_str(num))==num:\n",
    "        sum+=1\n",
    "sum"
   ]
  }
 ],
 "metadata": {
  "anaconda-cloud": {},
  "kernelspec": {
   "display_name": "Python [Root]",
   "language": "python",
   "name": "Python [Root]"
  },
  "language_info": {
   "codemirror_mode": {
    "name": "ipython",
    "version": 2
   },
   "file_extension": ".py",
   "mimetype": "text/x-python",
   "name": "python",
   "nbconvert_exporter": "python",
   "pygments_lexer": "ipython2",
   "version": "2.7.12"
  }
 },
 "nbformat": 4,
 "nbformat_minor": 0
}
