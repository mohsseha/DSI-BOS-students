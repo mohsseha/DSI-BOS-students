{
 "cells": [
  {
   "cell_type": "markdown",
   "metadata": {},
   "source": [
    "# Cheat Sheet\n",
    "## Dataframe containing useful information regarding coding tricks that I find useful\n",
    "### structure = description of what it does : function name"
   ]
  },
  {
   "cell_type": "code",
   "execution_count": 1,
   "metadata": {
    "collapsed": true
   },
   "outputs": [],
   "source": [
    "import pandas as pd"
   ]
  },
  {
   "cell_type": "code",
   "execution_count": 2,
   "metadata": {
    "collapsed": false
   },
   "outputs": [],
   "source": [
    "cheat_sheet = pd.read_csv(\"cheat_sheet.csv\")"
   ]
  },
  {
   "cell_type": "markdown",
   "metadata": {},
   "source": [
    "#### here i how to add a new row to the dataframe\n",
    "\n",
    "cheat_sheet = cheat_sheet.append({\"Language/Package\":\"Name of the language or package\",\n",
    "    \"Functionality\":\"some text\",\n",
    "    \"Function\":\"function name\",\n",
    "    \"Example\":\"optional example of the functionality\"},\n",
    "    ignore_index=True)"
   ]
  },
  {
   "cell_type": "code",
   "execution_count": 3,
   "metadata": {
    "collapsed": false
   },
   "outputs": [],
   "source": [
    "#cheat_sheet.append({\"Language/Package\":\"Pandas\",\"Functionality\":\"add a new row to a dataframe\", \"Function\":\"df.append()\", \"Example\":\"cheat_sheet.append({'Language/Package':'Name of the language or package','Functionality':'some text', 'Function':'function name', 'Example':'optional example of the functionality'}, ignore_index=True)\"}, ignore_index=True)"
   ]
  },
  {
   "cell_type": "markdown",
   "metadata": {
    "collapsed": false
   },
   "source": [
    "cheat_sheet = cheat_sheet.append({\"Language/Package\":\"Pandas\",\n",
    "    \"Functionality\":\"reading in a csv file with wrong encoding for Win 10\",\n",
    "    \"Function\":\"encoding parameter for pd.read_CSV\",\n",
    "    \"Example\":\"encoding = 'iso-8859-1' or encoding = 'cp1252' or encoding = 'latin1'\"},\n",
    "    ignore_index=True)"
   ]
  },
  {
   "cell_type": "markdown",
   "metadata": {},
   "source": [
    "### I am going to create a function to ask for data from the user and create a new row in my cheat sheet"
   ]
  },
  {
   "cell_type": "code",
   "execution_count": null,
   "metadata": {
    "collapsed": false
   },
   "outputs": [
    {
     "name": "stdout",
     "output_type": "stream",
     "text": [
      "Enter your new insight below...\n",
      "\tWhat language or package is this input related to?: python/pandas\n",
      "\tWhat functionality does this insight provide: allows you to iterate over rows in a dataframe with index and row returned\n"
     ]
    }
   ],
   "source": [
    "def add_new_insight(my_sheet):\n",
    "    print(\"Enter your new insight below...\")\n",
    "    language = input(\"\\tWhat language or package is this input related to?: \")\n",
    "    functionality = input(\"\\tWhat functionality does this insight provide: \")\n",
    "    function = input(\"\\tWhat function is this insight related to?: \")\n",
    "    example = input(\"\\tGive an example of this insight. \")\n",
    "    print(\"Here is what I got from you...\")\n",
    "    print(\"\\tLanguage/Package = {}\\n\\tFunctionality = {}\\n\\tThe Function is = {}\\n\\tYour Example is{}\".format(language, functionality, function, example ))\n",
    "    commit = input(\"Would you like me to commit this to your Cheat Sheet? (y/n)\")\n",
    "    if (commit == 'y') or (commit == 'Y'):\n",
    "        my_sheet = my_sheet.append({\"Language/Package\":language,\n",
    "        \"Functionality\":functionality,\n",
    "        \"Function\":function,\n",
    "        \"Example\":example},\n",
    "        ignore_index = True) \n",
    "        return my_sheet\n",
    "    else: return my_sheet\n",
    "    \n",
    "cheat_sheet = add_new_insight(cheat_sheet)\n",
    "cheat_sheet\n",
    "#cheat_sheet = cheat_sheet.append({\"Language/Package\":\"Pandas\",\n",
    "#    \"Functionality\":\"reading in a csv file with wrong encoding for Win 10\",\n",
    "#    \"Function\":\"encoding parameter for pd.read_CSV\",\n",
    "#    \"Example\":\"encoding = 'iso-8859-1' or encoding = 'cp1252' or encoding = 'latin1'\"},\n",
    "#    ignore_index=True)"
   ]
  },
  {
   "cell_type": "code",
   "execution_count": 21,
   "metadata": {
    "collapsed": false
   },
   "outputs": [],
   "source": [
    "cheat_sheet.to_csv('cheat_sheet.csv', index=False)"
   ]
  },
  {
   "cell_type": "code",
   "execution_count": null,
   "metadata": {
    "collapsed": true
   },
   "outputs": [],
   "source": []
  }
 ],
 "metadata": {
  "anaconda-cloud": {},
  "kernelspec": {
   "display_name": "Python [conda root]",
   "language": "python",
   "name": "conda-root-py"
  },
  "language_info": {
   "codemirror_mode": {
    "name": "ipython",
    "version": 3
   },
   "file_extension": ".py",
   "mimetype": "text/x-python",
   "name": "python",
   "nbconvert_exporter": "python",
   "pygments_lexer": "ipython3",
   "version": "3.5.2"
  }
 },
 "nbformat": 4,
 "nbformat_minor": 1
}
