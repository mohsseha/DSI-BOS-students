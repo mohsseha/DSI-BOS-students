{
 "cells": [
  {
   "cell_type": "markdown",
   "metadata": {},
   "source": [
    "# Evaluating Model Fit\n",
    "\n",
    "So far we've used the sum of the squared errors as a measure of model fit, looking for models with smaller errors. In this lab we'll investigate a new mesure of model fit, the [coefficient of determination](https://en.wikipedia.org/wiki/Coefficient_of_determination) $r^2$, and see how it's influenced by outliers.\n",
    "\n",
    "R-squared is defined in terms of a ratio of the variance of the data, $SS_{tot}$ and the sum of squared error of the residuals of the model fit $SS_{res}$. Let's assume that our model has the form\n",
    "\n",
    "$$y_i = f(x_i) + e_i$$\n",
    "\n",
    "For some model function $f$. The mean of the data targets is $\\bar{y}$. We can write $r^2$ as:\n",
    "\n",
    "$$ r^2  = 1 - \\frac{SS_{res}}{SS_{tot}} = 1 - \\frac{\\sum_{i}{\\left(y_i - \\bar{y} \\right)^2}}{\\sum_{i}{\\left(y_i - f_i \\right)^2}}$$"
   ]
  },
  {
   "cell_type": "markdown",
   "metadata": {},
   "source": [
    "## Understanding $r^2$\n",
    "To help understand this measure, let's consider a few special cases.\n",
    "* If our model is a perfect fit then the predictions of the model always match the true values, i.e. $y_i = f(x_i) = f_i$. This means that the squared error of the residuals is 0, so r^2 is:\n",
    "\n",
    "$$ r^2  = 1 - \\frac{SS_{res}}{SS_{tot}} =  1 - \\frac{0}{SS_{tot}} = 1$$\n",
    "\n",
    "* If our model always predicted the mean value, $y_i = \\bar{y}$ for all data points, then the two sum of squares terms are equal:\n",
    "\n",
    "$$ r^2  = 1 - \\frac{SS_{res}}{SS_{tot}} =  1 - 1 = 0$$\n",
    "\n",
    "This is not a very good model -- it's simply a constant prediction, and does not vary over the data points.\n",
    "\n",
    "* Typically the better the model the larger the value of $r^2$, with $r^2=1$ being an exact fit.\n",
    "\n",
    "**Check**: It is possible for $r^2$ to be negative, despite the name. How could that happen?\n",
    "> Answer: We just need the numerator to be larger than the denominator. This could happen with a wildly bad predictor such as the line $y=10$ for the sine function.\n",
    "\n",
    "## Let's look at some data\n",
    "\n",
    "Scikit-learn can compute $r^2$ for us, so let's explore some actual data.\n"
   ]
  },
  {
   "cell_type": "code",
   "execution_count": 4,
   "metadata": {
    "collapsed": false
   },
   "outputs": [
    {
     "data": {
      "text/html": [
       "<div>\n",
       "<table border=\"1\" class=\"dataframe\">\n",
       "  <thead>\n",
       "    <tr style=\"text-align: right;\">\n",
       "      <th></th>\n",
       "      <th>CRIM</th>\n",
       "      <th>ZN</th>\n",
       "      <th>INDUS</th>\n",
       "      <th>CHAS</th>\n",
       "      <th>NOX</th>\n",
       "      <th>RM</th>\n",
       "      <th>AGE</th>\n",
       "      <th>DIS</th>\n",
       "      <th>RAD</th>\n",
       "      <th>TAX</th>\n",
       "      <th>PTRATIO</th>\n",
       "      <th>B</th>\n",
       "      <th>LSTAT</th>\n",
       "    </tr>\n",
       "  </thead>\n",
       "  <tbody>\n",
       "    <tr>\n",
       "      <th>0</th>\n",
       "      <td>0.00632</td>\n",
       "      <td>18.0</td>\n",
       "      <td>2.31</td>\n",
       "      <td>0.0</td>\n",
       "      <td>0.538</td>\n",
       "      <td>6.575</td>\n",
       "      <td>65.2</td>\n",
       "      <td>4.0900</td>\n",
       "      <td>1.0</td>\n",
       "      <td>296.0</td>\n",
       "      <td>15.3</td>\n",
       "      <td>396.90</td>\n",
       "      <td>4.98</td>\n",
       "    </tr>\n",
       "    <tr>\n",
       "      <th>1</th>\n",
       "      <td>0.02731</td>\n",
       "      <td>0.0</td>\n",
       "      <td>7.07</td>\n",
       "      <td>0.0</td>\n",
       "      <td>0.469</td>\n",
       "      <td>6.421</td>\n",
       "      <td>78.9</td>\n",
       "      <td>4.9671</td>\n",
       "      <td>2.0</td>\n",
       "      <td>242.0</td>\n",
       "      <td>17.8</td>\n",
       "      <td>396.90</td>\n",
       "      <td>9.14</td>\n",
       "    </tr>\n",
       "    <tr>\n",
       "      <th>2</th>\n",
       "      <td>0.02729</td>\n",
       "      <td>0.0</td>\n",
       "      <td>7.07</td>\n",
       "      <td>0.0</td>\n",
       "      <td>0.469</td>\n",
       "      <td>7.185</td>\n",
       "      <td>61.1</td>\n",
       "      <td>4.9671</td>\n",
       "      <td>2.0</td>\n",
       "      <td>242.0</td>\n",
       "      <td>17.8</td>\n",
       "      <td>392.83</td>\n",
       "      <td>4.03</td>\n",
       "    </tr>\n",
       "    <tr>\n",
       "      <th>3</th>\n",
       "      <td>0.03237</td>\n",
       "      <td>0.0</td>\n",
       "      <td>2.18</td>\n",
       "      <td>0.0</td>\n",
       "      <td>0.458</td>\n",
       "      <td>6.998</td>\n",
       "      <td>45.8</td>\n",
       "      <td>6.0622</td>\n",
       "      <td>3.0</td>\n",
       "      <td>222.0</td>\n",
       "      <td>18.7</td>\n",
       "      <td>394.63</td>\n",
       "      <td>2.94</td>\n",
       "    </tr>\n",
       "    <tr>\n",
       "      <th>4</th>\n",
       "      <td>0.06905</td>\n",
       "      <td>0.0</td>\n",
       "      <td>2.18</td>\n",
       "      <td>0.0</td>\n",
       "      <td>0.458</td>\n",
       "      <td>7.147</td>\n",
       "      <td>54.2</td>\n",
       "      <td>6.0622</td>\n",
       "      <td>3.0</td>\n",
       "      <td>222.0</td>\n",
       "      <td>18.7</td>\n",
       "      <td>396.90</td>\n",
       "      <td>5.33</td>\n",
       "    </tr>\n",
       "  </tbody>\n",
       "</table>\n",
       "</div>"
      ],
      "text/plain": [
       "      CRIM    ZN  INDUS  CHAS    NOX     RM   AGE     DIS  RAD    TAX  \\\n",
       "0  0.00632  18.0   2.31   0.0  0.538  6.575  65.2  4.0900  1.0  296.0   \n",
       "1  0.02731   0.0   7.07   0.0  0.469  6.421  78.9  4.9671  2.0  242.0   \n",
       "2  0.02729   0.0   7.07   0.0  0.469  7.185  61.1  4.9671  2.0  242.0   \n",
       "3  0.03237   0.0   2.18   0.0  0.458  6.998  45.8  6.0622  3.0  222.0   \n",
       "4  0.06905   0.0   2.18   0.0  0.458  7.147  54.2  6.0622  3.0  222.0   \n",
       "\n",
       "   PTRATIO       B  LSTAT  \n",
       "0     15.3  396.90   4.98  \n",
       "1     17.8  396.90   9.14  \n",
       "2     17.8  392.83   4.03  \n",
       "3     18.7  394.63   2.94  \n",
       "4     18.7  396.90   5.33  "
      ]
     },
     "execution_count": 4,
     "metadata": {},
     "output_type": "execute_result"
    }
   ],
   "source": [
    "# Let's load in some packages\n",
    "\n",
    "% matplotlib inline\n",
    "\n",
    "from matplotlib import pyplot as plt\n",
    "# Make the plots bigger\n",
    "plt.rcParams['figure.figsize'] = 10, 10\n",
    "\n",
    "import numpy as np\n",
    "import pandas as pd\n",
    "from scipy import stats\n",
    "from sklearn import datasets\n",
    "import statsmodels.api as sm\n",
    "\n",
    "# Load the Boston Housing dataset\n",
    "boston = datasets.load_boston()\n",
    "df = pd.DataFrame(boston.data, columns=boston.feature_names)\n",
    "\n",
    "# Take a look at the data again\n",
    "df.head()"
   ]
  },
  {
   "cell_type": "code",
   "execution_count": 5,
   "metadata": {
    "collapsed": false
   },
   "outputs": [
    {
     "ename": "SyntaxError",
     "evalue": "Missing parentheses in call to 'print' (<ipython-input-5-5b9dbabef368>, line 1)",
     "output_type": "error",
     "traceback": [
      "\u001b[0;36m  File \u001b[0;32m\"<ipython-input-5-5b9dbabef368>\"\u001b[0;36m, line \u001b[0;32m1\u001b[0m\n\u001b[0;31m    print boston.DESCR\u001b[0m\n\u001b[0m               ^\u001b[0m\n\u001b[0;31mSyntaxError\u001b[0m\u001b[0;31m:\u001b[0m Missing parentheses in call to 'print'\n"
     ]
    }
   ],
   "source": [
    "print boston.DESCR"
   ]
  },
  {
   "cell_type": "markdown",
   "metadata": {},
   "source": [
    "## First example\n",
    "\n",
    "Let's pick two variables and plot them against each other with a best fit line. For example, let's see if the Pupil-Teacher ratio by town and the age of a property are related."
   ]
  },
  {
   "cell_type": "code",
   "execution_count": null,
   "metadata": {
    "collapsed": false
   },
   "outputs": [],
   "source": [
    "# Fit a line\n",
    "\n",
    "X = df[[\"PTRATIO\"]]\n",
    "y = df[\"AGE\"]\n",
    "\n",
    "model = sm.OLS(y, X).fit()\n",
    "predictions = model.predict(X)\n",
    "\n",
    "# Plot the data and the best fit line\n",
    "## The data\n",
    "plt.scatter(X, y)\n",
    "## The line / model\n",
    "plt.plot(X, predictions)\n",
    "plt.ylabel(\"AGE\")\n",
    "plt.xlabel(\"PTRATIO\")"
   ]
  },
  {
   "cell_type": "markdown",
   "metadata": {},
   "source": [
    "The data doesn't appear to be all that linear so we should find that the model fit is poor. Let's calculate the $r^2$ value."
   ]
  },
  {
   "cell_type": "code",
   "execution_count": null,
   "metadata": {
    "collapsed": false
   },
   "outputs": [],
   "source": [
    "# Statsmodels makes it easy to get the score\n",
    "print \"r^2:\", model.rsquared"
   ]
  },
  {
   "cell_type": "markdown",
   "metadata": {},
   "source": [
    "In this case the $r^2$ value is close to zero, as expected.\n",
    "\n",
    "### Exercise 1\n",
    "Repeat this for each pair of variables in the housing data set:\n",
    "* Fit a linear model\n",
    "* Compute the $r^2$ score\n",
    "\n",
    "Hint: use a pair of loops to cut down on the boilerplate code.\n",
    "\n",
    "For which two variables is the $r^2$ value the highest? The lowest? Plot the highest and lowest scores -- does the data seem to fit the $r^2$ score?\n",
    "\n",
    "> Answers:\n",
    "> Highest: TAX RAD 0.8285153552\n",
    "> Lowest:  RAD CHAS 5.42909737553e-05\n",
    "\n",
    "### Exercise 2\n",
    "\n",
    "Use seaborn's [linear plotting functions](https://stanford.edu/~mwaskom/software/seaborn/tutorial/regression.html) to take a closer look at your highest and lowest $r^2$ pairs.\n",
    "\n",
    "## Exercise 3\n",
    "\n",
    "Recall from our earlier exploration the best model you found that utilizes as many variables from the housing data as you'd like. What is the $r^2$ value for that model?"
   ]
  },
  {
   "cell_type": "code",
   "execution_count": 6,
   "metadata": {
    "collapsed": false
   },
   "outputs": [
    {
     "name": "stdout",
     "output_type": "stream",
     "text": [
      "ZN CRIM 1.47312931812e-05\n",
      "INDUS CRIM 0.274897661366\n",
      "INDUS ZN 0.0148511557616\n",
      "CHAS CRIM 0.00273625994934\n",
      "CHAS ZN 0.00612552794867\n",
      "CHAS INDUS 0.0654393482285\n",
      "NOX CRIM 0.208448096727\n",
      "NOX ZN 0.111729404188\n",
      "NOX INDUS 0.838061029971\n",
      "NOX CHAS 0.0758623986496\n",
      "RM CRIM 0.130400394665\n",
      "RM ZN 0.217884212526\n",
      "RM INDUS 0.678323674868\n",
      "RM CHAS 0.0735216695405\n",
      "RM NOX 0.933170773345\n",
      "AGE CRIM 0.230332007451\n",
      "AGE ZN 0.0446746741167\n",
      "AGE INDUS 0.839401144987\n",
      "AGE CHAS 0.0756287392256\n",
      "AGE NOX 0.926235337134\n",
      "AGE RM 0.826991432273\n",
      "DIS CRIM 0.0284280276577\n",
      "DIS ZN 0.452814233279\n",
      "DIS INDUS 0.319188676077\n",
      "DIS CHAS 0.033722848121\n",
      "DIS NOX 0.608377017063\n",
      "DIS RM 0.774857369915\n",
      "DIS AGE 0.451117963565\n",
      "RAD CRIM 0.451293020521\n",
      "RAD ZN 0.0182953483355\n",
      "RAD INDUS 0.705004171258\n",
      "RAD CHAS 0.0359641968833\n",
      "RAD NOX 0.652536114266\n",
      "RAD RM 0.51698482775\n",
      "RAD AGE 0.640811356507\n",
      "RAD DIS 0.235331256048\n",
      "TAX CRIM 0.31438942058\n",
      "TAX ZN 0.0884774766361\n",
      "TAX INDUS 0.86741074013\n",
      "TAX CHAS 0.0529202833311\n",
      "TAX NOX 0.915844107578\n",
      "TAX RM 0.821539098047\n",
      "TAX AGE 0.862299066459\n",
      "TAX DIS 0.503763309226\n",
      "TAX RAD 0.841132347751\n",
      "PTRATIO CRIM 0.171679657896\n",
      "PTRATIO ZN 0.155558526185\n",
      "PTRATIO INDUS 0.755583653556\n",
      "PTRATIO CHAS 0.0612902049163\n",
      "PTRATIO NOX 0.954037426824\n",
      "PTRATIO RM 0.965252884162\n",
      "PTRATIO AGE 0.865805992741\n",
      "PTRATIO DIS 0.731977553663\n",
      "PTRATIO RAD 0.593935711793\n",
      "PTRATIO TAX 0.881024202189\n",
      "B CRIM 0.0827952120041\n",
      "B ZN 0.215092889829\n",
      "B INDUS 0.606457865419\n",
      "B CHAS 0.071003356563\n",
      "B NOX 0.863336464213\n",
      "B RM 0.933855726653\n",
      "B AGE 0.758073056109\n",
      "B DIS 0.77857218198\n",
      "B RAD 0.412272451669\n",
      "B TAX 0.729163352139\n",
      "B PTRATIO 0.91609287522\n",
      "LSTAT CRIM 0.292830573578\n",
      "LSTAT ZN 0.0398180838715\n",
      "LSTAT INDUS 0.805117427554\n",
      "LSTAT CHAS 0.0414297708989\n",
      "LSTAT NOX 0.831743648952\n",
      "LSTAT RM 0.692624574038\n",
      "LSTAT AGE 0.843077787398\n",
      "LSTAT DIS 0.414131657948\n",
      "LSTAT RAD 0.648973011373\n",
      "LSTAT TAX 0.82292258935\n",
      "LSTAT PTRATIO 0.785965012027\n",
      "LSTAT B 0.639022157793\n"
     ]
    }
   ],
   "source": [
    "# Exercise 1 Code here\n",
    "for i, label1 in enumerate(df.columns):\n",
    "    for j, label2 in enumerate(df.columns):\n",
    "        # No need for repeats\n",
    "        if j >= i:\n",
    "            continue\n",
    "        X = df[[label1]]\n",
    "        y = df[label2]\n",
    "\n",
    "        model = sm.OLS(y, X).fit()\n",
    "        predictions = model.predict(X)\n",
    "\n",
    "        print (label1, label2, model.rsquared)"
   ]
  },
  {
   "cell_type": "code",
   "execution_count": 2,
   "metadata": {
    "collapsed": false
   },
   "outputs": [],
   "source": [
    "# Exercise 2\n",
    "import seaborn as sns\n"
   ]
  },
  {
   "cell_type": "code",
   "execution_count": 3,
   "metadata": {
    "collapsed": true
   },
   "outputs": [],
   "source": [
    "# Exercise 3 (answers will vary)"
   ]
  },
  {
   "cell_type": "markdown",
   "metadata": {},
   "source": [
    "# Interpreting $r^2$\n",
    "\n",
    "While it's typically the case that higher $r^2$ values are better models, this is not always the case. We can have high $r^2$ for biased models and low $r^2$ for noisy data. Let's explore both cases. We've been making polynomial fits with scikit-learn so let's change it up and use numpy. We'll use numpy's [polyfit](http://docs.scipy.org/doc/numpy-1.10.0/reference/generated/numpy.polyfit.html) and [polyval](http://docs.scipy.org/doc/numpy-1.10.1/reference/generated/numpy.polyval.html) functions. I'll show you the quadratic fit first and you'll follow with the linear fit.\n",
    "\n",
    "## Exercise:\n",
    "Fit the same data with a linear fit using numpy."
   ]
  },
  {
   "cell_type": "code",
   "execution_count": 8,
   "metadata": {
    "collapsed": false
   },
   "outputs": [],
   "source": [
    "# Here's some quadratic data with a bit of noise\n",
    "import scipy\n",
    "\n",
    "noise = scipy.stats.norm(0, 4)\n",
    "data = [(x, 3*x*x - 5*x + 3 + noise.rvs()) for x in np.arange(-6, 2, 0.5)]\n",
    "\n",
    "xs = [x for (x, y) in data]\n",
    "ys = [y for (x, y) in data]"
   ]
  },
  {
   "cell_type": "code",
   "execution_count": 9,
   "metadata": {
    "collapsed": false
   },
   "outputs": [
    {
     "data": {
      "text/plain": [
       "0.99200004658011787"
      ]
     },
     "execution_count": 9,
     "metadata": {},
     "output_type": "execute_result"
    },
    {
     "data": {
      "image/png": "[encoded data removed]",
      "text/plain": [
       "<matplotlib.figure.Figure at 0x7f0629f60690>"
      ]
     },
     "metadata": {},
     "output_type": "display_data"
    }
   ],
   "source": [
    "# Now let's fit a quadratic model with numpy\n",
    "# polyfit gives us the coefficients of the best fit polynomial\n",
    "coef = np.polyfit(xs, ys, deg=2)\n",
    "# polyvals gives us the polynomial function for these coefficients\n",
    "predictions = np.polyval(coef, xs)\n",
    "\n",
    "# Let's plot the model\n",
    "plt.scatter(xs, ys)\n",
    "plt.plot(xs, predictions)\n",
    "\n",
    "# Here's another way to get r^2 from scipy\n",
    "from sklearn import metrics\n",
    "metrics.r2_score(ys, predictions)"
   ]
  },
  {
   "cell_type": "code",
   "execution_count": 82,
   "metadata": {
    "collapsed": false
   },
   "outputs": [],
   "source": [
    "# Exercise Code here\n"
   ]
  },
  {
   "cell_type": "markdown",
   "metadata": {},
   "source": [
    "You should have seen that the $r^2$ was quite good in both cases, however the quadratic model is much better. So don't get complacement when you get a pretty good $r^2$ score -- you could still have a biased model!\n",
    "\n",
    "# Exercise\n",
    "\n",
    "Now let's look at the effect of outliers. Just one outlier can really skew your models. Let's add outlier to our data and redo both the quadratic and the linear fits. Which model type drops the most in $r^2$?"
   ]
  },
  {
   "cell_type": "code",
   "execution_count": 53,
   "metadata": {
    "collapsed": true
   },
   "outputs": [],
   "source": [
    "xs.append(2)\n",
    "ys.append(120)"
   ]
  },
  {
   "cell_type": "code",
   "execution_count": 84,
   "metadata": {
    "collapsed": false
   },
   "outputs": [],
   "source": [
    "# Repeat the Quadratic fit"
   ]
  },
  {
   "cell_type": "code",
   "execution_count": 83,
   "metadata": {
    "collapsed": false
   },
   "outputs": [],
   "source": [
    "# And the linear fit\n"
   ]
  },
  {
   "cell_type": "markdown",
   "metadata": {},
   "source": [
    "You should have seen that the $r^2$ for both models decreased dramatically! Just as in the case of higher $r^2$ values, you should be suspicious of smaller values as well. There could be outliers in the dataset from exceptional cases, bad data points, or poor measuring instruments that are obscuring the relationships in your data.\n",
    "\n",
    "**Check**: How closely did you look at the housing data? Are there any cases in which outliers are obviously a problem?\n",
    "> Answer: The plot for \"TAX\" and \"RAD\" has a pretty obvious outlier.\n",
    "\n",
    "You might be thinking: how can we detect and exclude outliers? It turns out that this is a [hard question to answer](https://en.wikipedia.org/wiki/Outlier#Identifying_outliers) and is often subjective. There are some methods, such as [Dixon's Q test](https://en.wikipedia.org/wiki/Dixon's_Q_test) and many others. Always make visualizations of your data when possible and remove outliers as appropriate, making sure that you can justify your selections!"
   ]
  },
  {
   "cell_type": "markdown",
   "metadata": {},
   "source": [
    "## Confounding Variables\n",
    "\n",
    "Another important topic when it comes to goodness of fit is [confounding variables](https://en.wikipedia.org/wiki/Confounding). It's tempting to think of models as causal but as you have likely heard before, [correlation is not causation](https://en.wikipedia.org/wiki/Correlation_does_not_imply_causation). Similarly, a high $r^2$ doesn't necessarily mean that two quantities are related in a predictive or causal manner. There are a number of examples [here](http://blog.searchmetrics.com/us/2015/09/11/ranking-factors-infographic-correlation-vs-causality/), including a nice plot of a seemingly strong relationship between per capita cheese consumption and the number of people who died by becoming tangled in their bedsheets! There is a very nice [case study](http://ocw.jhsph.edu/courses/fundepiii/pdfs/lecture18.pdf) of bias and confounding in disease studies. It's worth your time to read through the slides. \n",
    "\n",
    "The takeaway message is that you always need to check that your conclusions make sense rather than blindly interpretting statistical values. As a data scientist you will often present analyses to stakeholders and they will ask questions about the causes of the relationships you find and the logical basis of the models you fit."
   ]
  },
  {
   "cell_type": "markdown",
   "metadata": {},
   "source": [
    "# Exercises\n",
    "\n",
    "If you've gotten this far then you're doing great! Let's look at a case where a series of models have increasing better $r^2$ values as the models become more complex. Consider the function $y = sin(x)$ on the interval $[0, 6\\pi]$ (data below). If you fit polynomials of higher and higher degree to this function, you should find that the $r^2$ value increases as the degreee increases. Your task is to make a plot of $r^2$ versus polynomial degree as follows:\n",
    "* Write a loop to fit polynomials of degrees from 0 to 10 to the sine function\n",
    "* Plot the fits together on the same graph with the data\n",
    "* Compute the $r^2$ values for each model\n",
    "* Make a plot of degree versus $r^2$.\n",
    "\n",
    "Compare and contrast with earlier lessons. In some cases increasing the degree of a polynomial model can alter the tradeoff between bias and variance. Try to explain your results in that context."
   ]
  },
  {
   "cell_type": "code",
   "execution_count": 77,
   "metadata": {
    "collapsed": false
   },
   "outputs": [],
   "source": [
    "import math\n",
    "noise = scipy.stats.norm(0, 0.1)\n",
    "data = [(x, math.sin(x) + noise.rvs() ) for x in np.arange(0, 6 * 3.14, 0.1)]\n",
    "xs = [x for (x, y) in data]\n",
    "ys = [y for (x, y) in data]"
   ]
  },
  {
   "cell_type": "code",
   "execution_count": null,
   "metadata": {
    "collapsed": false
   },
   "outputs": [],
   "source": [
    "from sklearn import metrics\n",
    "rs = []\n",
    "\n",
    "# Let's plot the model\n",
    "plt.scatter(xs, ys)\n",
    "\n",
    "for degree in range(1, 11):\n",
    "    # Fill in the modeling steps here\n",
    "    pass\n",
    "\n",
    "# Make the plots\n"
   ]
  },
  {
   "cell_type": "code",
   "execution_count": null,
   "metadata": {
    "collapsed": true
   },
   "outputs": [],
   "source": []
  }
 ],
 "metadata": {
  "anaconda-cloud": {},
  "kernelspec": {
   "display_name": "Python [conda root]",
   "language": "python",
   "name": "conda-root-py"
  },
  "language_info": {
   "codemirror_mode": {
    "name": "ipython",
    "version": 3
   },
   "file_extension": ".py",
   "mimetype": "text/x-python",
   "name": "python",
   "nbconvert_exporter": "python",
   "pygments_lexer": "ipython3",
   "version": "3.5.2"
  }
 },
 "nbformat": 4,
 "nbformat_minor": 0
}
