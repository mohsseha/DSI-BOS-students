{
 "cells": [
  {
   "cell_type": "markdown",
   "metadata": {},
   "source": [
    "# Data Workflow Lab 2\n",
    "\n",
    "Proceed with your analysis of the Project 3 data set. You may need to compute new columns as you proceed. Fit one or more linear models to the data, investigate model fits and outliers, use regularization when appropriate.\n",
    "\n",
    "### Learning objectives\n",
    "- Perform exploratory analysis\n",
    "- Generate correlation matrix of the features\n",
    "- Generate linear regression models\n",
    "- Evaluate model fit\n",
    "\n",
    "If appropriate for your models and featuers:\n",
    "- Use [feature selection](http://scikit-learn.org/stable/modules/feature_selection.html) to pick the best features\n",
    "- Try different regularization options"
   ]
  },
  {
   "cell_type": "code",
   "execution_count": 32,
   "metadata": {
    "collapsed": true
   },
   "outputs": [],
   "source": [
    "% matplotlib inline\n",
    "\n",
    "from collections import defaultdict\n",
    "import datetime\n",
    "import time\n",
    "\n",
    "from matplotlib import pyplot as plt\n",
    "# Make the plots bigger\n",
    "plt.rcParams['figure.figsize'] = 10, 10\n",
    "import seaborn as sns\n",
    "\n",
    "import numpy as np\n",
    "import pandas as pd\n",
    "from sklearn import linear_model"
   ]
  },
  {
   "cell_type": "code",
   "execution_count": 33,
   "metadata": {
    "collapsed": false
   },
   "outputs": [],
   "source": [
    "# Load the data from the previous lab\n",
    "# If you changed the name you'll need to edit the next line\n",
    "sales = pd.read_csv(\"sales.csv\")\n",
    "\n",
    "# Convert dates\n",
    "sales[\"First Date\"] = pd.to_datetime(sales[\"First Date\"], format=\"%Y-%m-%d\")\n",
    "sales[\"Last Date\"] = pd.to_datetime(sales[\"Last Date\"], format=\"%Y-%m-%d\")"
   ]
  },
  {
   "cell_type": "markdown",
   "metadata": {},
   "source": [
    "## Exploratory Analysis\n",
    "Make some plots, look at correlations, etc."
   ]
  },
  {
   "cell_type": "code",
   "execution_count": 34,
   "metadata": {
    "collapsed": false
   },
   "outputs": [
    {
     "data": {
      "text/html": [
       "<div>\n",
       "<table border=\"1\" class=\"dataframe\">\n",
       "  <thead>\n",
       "    <tr style=\"text-align: right;\">\n",
       "      <th></th>\n",
       "      <th>Unnamed: 0</th>\n",
       "      <th>Store Number</th>\n",
       "      <th>2015 Sales</th>\n",
       "      <th>2015 Sales mean</th>\n",
       "      <th>County Number</th>\n",
       "      <th>Price per Liter mean</th>\n",
       "      <th>2015 Volume Sold (Liters)</th>\n",
       "      <th>2015 Volume Sold (Liters) mean</th>\n",
       "      <th>2015 Margin mean</th>\n",
       "      <th>2015 Sales Q1</th>\n",
       "      <th>2016 Sales Q1</th>\n",
       "    </tr>\n",
       "  </thead>\n",
       "  <tbody>\n",
       "    <tr>\n",
       "      <th>Unnamed: 0</th>\n",
       "      <td>1.000000</td>\n",
       "      <td>0.896835</td>\n",
       "      <td>-0.319075</td>\n",
       "      <td>0.003563</td>\n",
       "      <td>-0.001721</td>\n",
       "      <td>0.076025</td>\n",
       "      <td>-0.358034</td>\n",
       "      <td>-0.049623</td>\n",
       "      <td>0.003183</td>\n",
       "      <td>-0.302007</td>\n",
       "      <td>-0.287657</td>\n",
       "    </tr>\n",
       "    <tr>\n",
       "      <th>Store Number</th>\n",
       "      <td>0.896835</td>\n",
       "      <td>1.000000</td>\n",
       "      <td>-0.352410</td>\n",
       "      <td>0.163619</td>\n",
       "      <td>0.006484</td>\n",
       "      <td>0.088580</td>\n",
       "      <td>-0.392077</td>\n",
       "      <td>0.085634</td>\n",
       "      <td>0.163207</td>\n",
       "      <td>-0.331971</td>\n",
       "      <td>-0.347909</td>\n",
       "    </tr>\n",
       "    <tr>\n",
       "      <th>2015 Sales</th>\n",
       "      <td>-0.319075</td>\n",
       "      <td>-0.352410</td>\n",
       "      <td>1.000000</td>\n",
       "      <td>0.298137</td>\n",
       "      <td>0.042454</td>\n",
       "      <td>0.176184</td>\n",
       "      <td>0.993312</td>\n",
       "      <td>0.350103</td>\n",
       "      <td>0.298186</td>\n",
       "      <td>0.991969</td>\n",
       "      <td>0.145856</td>\n",
       "    </tr>\n",
       "    <tr>\n",
       "      <th>2015 Sales mean</th>\n",
       "      <td>0.003563</td>\n",
       "      <td>0.163619</td>\n",
       "      <td>0.298137</td>\n",
       "      <td>1.000000</td>\n",
       "      <td>0.016070</td>\n",
       "      <td>0.179908</td>\n",
       "      <td>0.287567</td>\n",
       "      <td>0.943148</td>\n",
       "      <td>0.999997</td>\n",
       "      <td>0.276028</td>\n",
       "      <td>0.030926</td>\n",
       "    </tr>\n",
       "    <tr>\n",
       "      <th>County Number</th>\n",
       "      <td>-0.001721</td>\n",
       "      <td>0.006484</td>\n",
       "      <td>0.042454</td>\n",
       "      <td>0.016070</td>\n",
       "      <td>1.000000</td>\n",
       "      <td>0.103807</td>\n",
       "      <td>0.034234</td>\n",
       "      <td>-0.004948</td>\n",
       "      <td>0.015759</td>\n",
       "      <td>0.047025</td>\n",
       "      <td>0.007568</td>\n",
       "    </tr>\n",
       "    <tr>\n",
       "      <th>Price per Liter mean</th>\n",
       "      <td>0.076025</td>\n",
       "      <td>0.088580</td>\n",
       "      <td>0.176184</td>\n",
       "      <td>0.179908</td>\n",
       "      <td>0.103807</td>\n",
       "      <td>1.000000</td>\n",
       "      <td>0.137556</td>\n",
       "      <td>0.004410</td>\n",
       "      <td>0.179066</td>\n",
       "      <td>0.162222</td>\n",
       "      <td>-0.008411</td>\n",
       "    </tr>\n",
       "    <tr>\n",
       "      <th>2015 Volume Sold (Liters)</th>\n",
       "      <td>-0.358034</td>\n",
       "      <td>-0.392077</td>\n",
       "      <td>0.993312</td>\n",
       "      <td>0.287567</td>\n",
       "      <td>0.034234</td>\n",
       "      <td>0.137556</td>\n",
       "      <td>1.000000</td>\n",
       "      <td>0.355870</td>\n",
       "      <td>0.287700</td>\n",
       "      <td>0.987192</td>\n",
       "      <td>0.163130</td>\n",
       "    </tr>\n",
       "    <tr>\n",
       "      <th>2015 Volume Sold (Liters) mean</th>\n",
       "      <td>-0.049623</td>\n",
       "      <td>0.085634</td>\n",
       "      <td>0.350103</td>\n",
       "      <td>0.943148</td>\n",
       "      <td>-0.004948</td>\n",
       "      <td>0.004410</td>\n",
       "      <td>0.355870</td>\n",
       "      <td>1.000000</td>\n",
       "      <td>0.943726</td>\n",
       "      <td>0.332944</td>\n",
       "      <td>0.034340</td>\n",
       "    </tr>\n",
       "    <tr>\n",
       "      <th>2015 Margin mean</th>\n",
       "      <td>0.003183</td>\n",
       "      <td>0.163207</td>\n",
       "      <td>0.298186</td>\n",
       "      <td>0.999997</td>\n",
       "      <td>0.015759</td>\n",
       "      <td>0.179066</td>\n",
       "      <td>0.287700</td>\n",
       "      <td>0.943726</td>\n",
       "      <td>1.000000</td>\n",
       "      <td>0.276047</td>\n",
       "      <td>0.030846</td>\n",
       "    </tr>\n",
       "    <tr>\n",
       "      <th>2015 Sales Q1</th>\n",
       "      <td>-0.302007</td>\n",
       "      <td>-0.331971</td>\n",
       "      <td>0.991969</td>\n",
       "      <td>0.276028</td>\n",
       "      <td>0.047025</td>\n",
       "      <td>0.162222</td>\n",
       "      <td>0.987192</td>\n",
       "      <td>0.332944</td>\n",
       "      <td>0.276047</td>\n",
       "      <td>1.000000</td>\n",
       "      <td>0.137549</td>\n",
       "    </tr>\n",
       "    <tr>\n",
       "      <th>2016 Sales Q1</th>\n",
       "      <td>-0.287657</td>\n",
       "      <td>-0.347909</td>\n",
       "      <td>0.145856</td>\n",
       "      <td>0.030926</td>\n",
       "      <td>0.007568</td>\n",
       "      <td>-0.008411</td>\n",
       "      <td>0.163130</td>\n",
       "      <td>0.034340</td>\n",
       "      <td>0.030846</td>\n",
       "      <td>0.137549</td>\n",
       "      <td>1.000000</td>\n",
       "    </tr>\n",
       "  </tbody>\n",
       "</table>\n",
       "</div>"
      ],
      "text/plain": [
       "                                Unnamed: 0  Store Number  2015 Sales  \\\n",
       "Unnamed: 0                        1.000000      0.896835   -0.319075   \n",
       "Store Number                      0.896835      1.000000   -0.352410   \n",
       "2015 Sales                       -0.319075     -0.352410    1.000000   \n",
       "2015 Sales mean                   0.003563      0.163619    0.298137   \n",
       "County Number                    -0.001721      0.006484    0.042454   \n",
       "Price per Liter mean              0.076025      0.088580    0.176184   \n",
       "2015 Volume Sold (Liters)        -0.358034     -0.392077    0.993312   \n",
       "2015 Volume Sold (Liters) mean   -0.049623      0.085634    0.350103   \n",
       "2015 Margin mean                  0.003183      0.163207    0.298186   \n",
       "2015 Sales Q1                    -0.302007     -0.331971    0.991969   \n",
       "2016 Sales Q1                    -0.287657     -0.347909    0.145856   \n",
       "\n",
       "                                2015 Sales mean  County Number  \\\n",
       "Unnamed: 0                             0.003563      -0.001721   \n",
       "Store Number                           0.163619       0.006484   \n",
       "2015 Sales                             0.298137       0.042454   \n",
       "2015 Sales mean                        1.000000       0.016070   \n",
       "County Number                          0.016070       1.000000   \n",
       "Price per Liter mean                   0.179908       0.103807   \n",
       "2015 Volume Sold (Liters)              0.287567       0.034234   \n",
       "2015 Volume Sold (Liters) mean         0.943148      -0.004948   \n",
       "2015 Margin mean                       0.999997       0.015759   \n",
       "2015 Sales Q1                          0.276028       0.047025   \n",
       "2016 Sales Q1                          0.030926       0.007568   \n",
       "\n",
       "                                Price per Liter mean  \\\n",
       "Unnamed: 0                                  0.076025   \n",
       "Store Number                                0.088580   \n",
       "2015 Sales                                  0.176184   \n",
       "2015 Sales mean                             0.179908   \n",
       "County Number                               0.103807   \n",
       "Price per Liter mean                        1.000000   \n",
       "2015 Volume Sold (Liters)                   0.137556   \n",
       "2015 Volume Sold (Liters) mean              0.004410   \n",
       "2015 Margin mean                            0.179066   \n",
       "2015 Sales Q1                               0.162222   \n",
       "2016 Sales Q1                              -0.008411   \n",
       "\n",
       "                                2015 Volume Sold (Liters)  \\\n",
       "Unnamed: 0                                      -0.358034   \n",
       "Store Number                                    -0.392077   \n",
       "2015 Sales                                       0.993312   \n",
       "2015 Sales mean                                  0.287567   \n",
       "County Number                                    0.034234   \n",
       "Price per Liter mean                             0.137556   \n",
       "2015 Volume Sold (Liters)                        1.000000   \n",
       "2015 Volume Sold (Liters) mean                   0.355870   \n",
       "2015 Margin mean                                 0.287700   \n",
       "2015 Sales Q1                                    0.987192   \n",
       "2016 Sales Q1                                    0.163130   \n",
       "\n",
       "                                2015 Volume Sold (Liters) mean  \\\n",
       "Unnamed: 0                                           -0.049623   \n",
       "Store Number                                          0.085634   \n",
       "2015 Sales                                            0.350103   \n",
       "2015 Sales mean                                       0.943148   \n",
       "County Number                                        -0.004948   \n",
       "Price per Liter mean                                  0.004410   \n",
       "2015 Volume Sold (Liters)                             0.355870   \n",
       "2015 Volume Sold (Liters) mean                        1.000000   \n",
       "2015 Margin mean                                      0.943726   \n",
       "2015 Sales Q1                                         0.332944   \n",
       "2016 Sales Q1                                         0.034340   \n",
       "\n",
       "                                2015 Margin mean  2015 Sales Q1  2016 Sales Q1  \n",
       "Unnamed: 0                              0.003183      -0.302007      -0.287657  \n",
       "Store Number                            0.163207      -0.331971      -0.347909  \n",
       "2015 Sales                              0.298186       0.991969       0.145856  \n",
       "2015 Sales mean                         0.999997       0.276028       0.030926  \n",
       "County Number                           0.015759       0.047025       0.007568  \n",
       "Price per Liter mean                    0.179066       0.162222      -0.008411  \n",
       "2015 Volume Sold (Liters)               0.287700       0.987192       0.163130  \n",
       "2015 Volume Sold (Liters) mean          0.943726       0.332944       0.034340  \n",
       "2015 Margin mean                        1.000000       0.276047       0.030846  \n",
       "2015 Sales Q1                           0.276047       1.000000       0.137549  \n",
       "2016 Sales Q1                           0.030846       0.137549       1.000000  "
      ]
     },
     "execution_count": 34,
     "metadata": {},
     "output_type": "execute_result"
    }
   ],
   "source": [
    "# Compute correlations\n",
    "sales.corr()"
   ]
  },
  {
   "cell_type": "code",
   "execution_count": 38,
   "metadata": {
    "collapsed": false
   },
   "outputs": [
    {
     "data": {
      "text/plain": [
       "<matplotlib.axes._subplots.AxesSubplot at 0x173115d19e8>"
      ]
     },
     "execution_count": 38,
     "metadata": {},
     "output_type": "execute_result"
    },
    {
     "data": {
      "image/png": "[encoded data removed]",
      "text/plain": [
       "<matplotlib.figure.Figure at 0x173115db128>"
      ]
     },
     "metadata": {},
     "output_type": "display_data"
    }
   ],
   "source": [
    "# Perform some exploratory analysis, make a few plots\n",
    "sales.plot.scatter(x=\"2015 Volume Sold (Liters)\", y=\"2015 Margin mean\")"
   ]
  },
  {
   "cell_type": "code",
   "execution_count": 46,
   "metadata": {
    "collapsed": false
   },
   "outputs": [
    {
     "name": "stdout",
     "output_type": "stream",
     "text": [
      "1193\n",
      "1193\n",
      "r^2: 0.0827713012191\n"
     ]
    },
    {
     "data": {
      "image/png": "[encoded data removed]",
      "text/plain": [
       "<matplotlib.figure.Figure at 0x17311fe7668>"
      ]
     },
     "metadata": {},
     "output_type": "display_data"
    }
   ],
   "source": [
    "lm = linear_model.LinearRegression()\n",
    "\n",
    "X = sales[[\"2015 Volume Sold (Liters)\"]]\n",
    "y = sales[[\"2015 Margin mean\"]]\n",
    "print(len(X))\n",
    "print(len(y))\n",
    "model = lm.fit(X, y)\n",
    "predictions = lm.predict(X)\n",
    "print (\"r^2:\", model.score(X, y))\n",
    "# Plot the data and the best fit line\n",
    "plt.scatter(X, y)\n",
    "plt.title(\"Randomly Generated Data\")\n",
    "plt.plot(X, predictions)\n",
    "plt.show()\n",
    "\n",
    "# Compute the model fit\n",
    "\n"
   ]
  },
  {
   "cell_type": "code",
   "execution_count": null,
   "metadata": {
    "collapsed": false
   },
   "outputs": [],
   "source": [
    "# Predict Total 2016 sales, compare to 2015\n"
   ]
  },
  {
   "cell_type": "code",
   "execution_count": null,
   "metadata": {
    "collapsed": false
   },
   "outputs": [],
   "source": [
    "# Try per zip code or city to get better resolution\n",
    "\n"
   ]
  },
  {
   "cell_type": "code",
   "execution_count": null,
   "metadata": {
    "collapsed": false
   },
   "outputs": [],
   "source": [
    "# Filter out stores that opened or closed throughout the year\n",
    "# If this wasn't done already\n"
   ]
  },
  {
   "cell_type": "code",
   "execution_count": null,
   "metadata": {
    "collapsed": false
   },
   "outputs": [],
   "source": [
    "# Fit another model\n",
    "\n",
    "# Compute the model fit\n"
   ]
  },
  {
   "cell_type": "code",
   "execution_count": null,
   "metadata": {
    "collapsed": false
   },
   "outputs": [],
   "source": [
    "# Predict Total 2016 sales, compare to 2015\n"
   ]
  }
 ],
 "metadata": {
  "anaconda-cloud": {},
  "kernelspec": {
   "display_name": "Python [conda root]",
   "language": "python",
   "name": "conda-root-py"
  },
  "language_info": {
   "codemirror_mode": {
    "name": "ipython",
    "version": 3
   },
   "file_extension": ".py",
   "mimetype": "text/x-python",
   "name": "python",
   "nbconvert_exporter": "python",
   "pygments_lexer": "ipython3",
   "version": "3.5.2"
  }
 },
 "nbformat": 4,
 "nbformat_minor": 0
}
