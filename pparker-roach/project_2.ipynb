{
 "cells": [
  {
   "cell_type": "markdown",
   "metadata": {
    "focus": true,
    "id": "263eb813-da45-48cf-9a8f-9da76c18e470"
   },
   "source": [
    "# Project 2\n",
    "## Step 1: Exploring your data.\n",
    "\n",
    "##### Load your data in using Pandas "
   ]
  },
  {
   "cell_type": "code",
   "execution_count": 128,
   "metadata": {
    "collapsed": false,
    "focus": false,
    "id": "b733d2fe-6d33-41dd-a3fc-5dfe9d71d91f"
   },
   "outputs": [],
   "source": [
    "import numpy  as np\n",
    "import pandas as pd\n",
    "import matplotlib as mpl\n",
    "import matplotlib.pyplot as plt\n",
    "%matplotlib inline  \n",
    "\n",
    "billboard = pd.read_csv('~/Documents/DSI-BOS-students/pparker-roach/Week 2/project-02/assets/billboard.csv', encoding='iso-8859-1')\n",
    "\n",
    "pd.set_option('display.max_rows', 500)"
   ]
  },
  {
   "cell_type": "markdown",
   "metadata": {},
   "source": [
    "#### Start to explore. Save all of your early exploration code here and include in your final submission.\n",
    "#### I will include my insights from each piece of exploration code above each code line/output\n",
    "\n",
    "I first just want to explore the column heads to get a sense of what is presented and what questions it might raise to explore\n",
    "Here's some things/quetions that come to mind...\n",
    "  * how long does a track spend on the list? - mean?\n",
    "  * how long does a track take to peak once on the list? - mean?\n",
    "  * is there a characteristic shape to the weeks on list/placement on list?\n",
    "  * how does all of the above relate to genre?\n",
    "  * how does all of the above relate to season of the year?"
   ]
  },
  {
   "cell_type": "code",
   "execution_count": 129,
   "metadata": {
    "collapsed": false
   },
   "outputs": [
    {
     "name": "stdout",
     "output_type": "stream",
     "text": [
      "   year      artist.inverted                                  track  time  \\\n",
      "0  2000      Destiny's Child               Independent Women Part I  3:38   \n",
      "1  2000              Santana                           Maria, Maria  4:18   \n",
      "2  2000        Savage Garden                     I Knew I Loved You  4:07   \n",
      "3  2000              Madonna                                  Music  3:45   \n",
      "4  2000  Aguilera, Christina  Come On Over Baby (All I Want Is You)  3:38   \n",
      "\n",
      "  genre date.entered date.peaked  x1st.week  x2nd.week  x3rd.week     ...      \\\n",
      "0  Rock    9/23/2000  11/18/2000         78       63.0       49.0     ...       \n",
      "1  Rock    2/12/2000    4/8/2000         15        8.0        6.0     ...       \n",
      "2  Rock   10/23/1999   1/29/2000         71       48.0       43.0     ...       \n",
      "3  Rock    8/12/2000   9/16/2000         41       23.0       18.0     ...       \n",
      "4  Rock     8/5/2000  10/14/2000         57       47.0       45.0     ...       \n",
      "\n",
      "   x67th.week  x68th.week  x69th.week  x70th.week  x71st.week  x72nd.week  \\\n",
      "0         NaN         NaN         NaN         NaN         NaN         NaN   \n",
      "1         NaN         NaN         NaN         NaN         NaN         NaN   \n",
      "2         NaN         NaN         NaN         NaN         NaN         NaN   \n",
      "3         NaN         NaN         NaN         NaN         NaN         NaN   \n",
      "4         NaN         NaN         NaN         NaN         NaN         NaN   \n",
      "\n",
      "   x73rd.week  x74th.week  x75th.week  x76th.week  \n",
      "0         NaN         NaN         NaN         NaN  \n",
      "1         NaN         NaN         NaN         NaN  \n",
      "2         NaN         NaN         NaN         NaN  \n",
      "3         NaN         NaN         NaN         NaN  \n",
      "4         NaN         NaN         NaN         NaN  \n",
      "\n",
      "[5 rows x 83 columns]\n"
     ]
    }
   ],
   "source": [
    "print(billboard.head())"
   ]
  },
  {
   "cell_type": "markdown",
   "metadata": {},
   "source": [
    "#### Is there sufficient data to support computing mean track time on list?\n",
    "  * I already have calculated the mean time on list in a previous exercise, so I will include that code here. Some data cleaning has aleady been done for this\n",
    "  * the list of weeks on the list may be useful in in plotting placement on list/ seasonal placement / ????\n",
    "  \n",
    "  df1.loc[:,'f'] = p.Series(np.random.randn(sLength), index=df1.index)"
   ]
  },
  {
   "cell_type": "code",
   "execution_count": 174,
   "metadata": {
    "collapsed": false
   },
   "outputs": [
    {
     "name": "stdout",
     "output_type": "stream",
     "text": [
      "The average number of weeks a track spent on the Billboard list is  16.741324921135647\n",
      "The median number of weeks is  18.0\n",
      "The mode is  0    20\n",
      "dtype: int64\n",
      "The standard deviation is  9.083785220668274\n",
      "The range is the high -57- minus the low -1 = 62.0\n",
      "\n",
      "The average high point a track achieved on the Billboard list is  89.72239747634069\n",
      "The median high point is  94.0\n",
      "The mode is  0    100.0\n",
      "dtype: float64\n",
      "The standard deviation is  11.927466835837086\n",
      "The range is the high -100.0- minus the low -38.0 = 56\n"
     ]
    },
    {
     "data": {
      "image/png": "[encoded data removed]",
      "text/plain": [
       "<matplotlib.figure.Figure at 0x1a43178cef0>"
      ]
     },
     "metadata": {},
     "output_type": "display_data"
    }
   ],
   "source": [
    "# for each row (artist/track combo) count the number of weeks it was on the chart,\n",
    "# place it in a list and then find the mean of that list\n",
    "\n",
    "billboard_index = billboard.index.values.tolist()\n",
    "billboard_columns = billboard.columns\n",
    "\n",
    "#the number of weeks a track stayed on the list\n",
    "weeks_on_list = []\n",
    "#a list of the week on the list containing thier rating for each week\n",
    "weeks_list = []\n",
    "#the highest point on the list that a title reached during its tenure on the list\n",
    "high_point_list = []\n",
    "\n",
    "#the following adds a new column onto billboard called \"Weeks List\" that contains all of the weeks on billboard\n",
    "#preserving the ranking, but replacing nan's with 0's\n",
    "for index, row in billboard.iterrows():\n",
    "    count = 0\n",
    "    weeks_on_list.append(row['x1st.week':'x76th.week'].notnull().sum()) \n",
    "    notnull = row['x1st.week':'x76th.week'].notnull()\n",
    "    weeks_list.append(row['x1st.week':'x76th.week'].fillna(0))\n",
    "    high_point_list.append(row['x1st.week':'x76th.week'].max())\n",
    "    \n",
    "    \n",
    "billboard[\"Weeks List\"] = weeks_list\n",
    "billboard['Total Weeks'] = weeks_on_list\n",
    "billboard['High Point'] = high_point_list\n",
    "\n",
    "weeks_on_list = pd.Series(weeks_on_list)\n",
    "high_point_list = pd.Series(high_point_list)\n",
    "\n",
    "weeks_on_list_mean = weeks_on_list.mean()\n",
    "weeks_on_list_median = weeks_on_list.median()\n",
    "weeks_on_list_mode = weeks_on_list.mode()\n",
    "weeks_on_list_std = weeks_on_list.std()\n",
    "weeks_on_list_min = weeks_on_list.min()\n",
    "weeks_on_list_max = weeks_on_list.max()\n",
    "\n",
    "high_point_list_mean = high_point_list.mean()\n",
    "high_point_list_median = high_point_list.median()\n",
    "high_point_list_mode = high_point_list.mode()\n",
    "high_point_list_std = high_point_list.std()\n",
    "high_point_list_min = high_point_list.min()\n",
    "high_point_list_max = high_point_list.max()\n",
    "\n",
    "print(\"The average number of weeks a track spent on the Billboard list is \", weeks_on_list_mean)\n",
    "print(\"The median number of weeks is \", weeks_on_list_median)\n",
    "print(\"The mode is \", weeks_on_list_mode )\n",
    "print(\"The standard deviation is \", weeks_on_list_std)\n",
    "print(\"The range is the high -{}- minus the low -{} = {}\".format(weeks_on_list_max, weeks_on_list_min, high_point_list_max - high_point_list_min))\n",
    "print()\n",
    "print(\"The average high point a track achieved on the Billboard list is \", high_point_list_mean)\n",
    "print(\"The median high point is \", high_point_list_median)\n",
    "print(\"The mode is \", high_point_list_mode )\n",
    "print(\"The standard deviation is \", high_point_list_std)\n",
    "print(\"The range is the high -{}- minus the low -{} = {}\".format(high_point_list_max,high_point_list_min, weeks_on_list_max - weeks_on_list_min))\n",
    "\n",
    "\n",
    "fig = plt.figure()\n",
    "for i in range(8):\n",
    "    i = i+1\n",
    "    ax1 = fig.add_subplot(1,8,i)\n",
    "    ax1 = billboard.ix[i][\"Weeks List\"].plot.hist()\n",
    "    ax2 = fig.add_subplot(1,8,i)\n",
    "    ax2 = billboard.ix[i][\"Weeks List\"].plot.hist()\n",
    "    ax3 = fig.add_subplot(1,8,i)\n",
    "    ax3 = billboard.ix[i][\"Weeks List\"].plot.hist()\n",
    "    ax4 = fig.add_subplot(1,8,i)\n",
    "    ax4 = billboard.ix[i][\"Weeks List\"].plot.hist()\n",
    "    ax5 = fig.add_subplot(1,8,i)\n",
    "    ax5 = billboard.ix[i][\"Weeks List\"].plot.hist()\n",
    "    ax6 = fig.add_subplot(1,8,i)\n",
    "    ax6 = billboard.ix[i][\"Weeks List\"].plot.hist()\n",
    "    ax7 = fig.add_subplot(1,8,i)\n",
    "    ax7 = billboard.ix[i][\"Weeks List\"].plot.hist()\n",
    "    ax8 = fig.add_subplot(1,8,i)\n",
    "    ax8 = billboard.ix[i][\"Weeks List\"].plot.hist()\n",
    "    \n"
   ]
  },
  {
   "cell_type": "code",
   "execution_count": null,
   "metadata": {
    "collapsed": true
   },
   "outputs": [],
   "source": []
  },
  {
   "cell_type": "code",
   "execution_count": null,
   "metadata": {
    "collapsed": true
   },
   "outputs": [],
   "source": []
  },
  {
   "cell_type": "code",
   "execution_count": null,
   "metadata": {
    "collapsed": true
   },
   "outputs": [],
   "source": []
  },
  {
   "cell_type": "code",
   "execution_count": null,
   "metadata": {
    "collapsed": true
   },
   "outputs": [],
   "source": []
  },
  {
   "cell_type": "markdown",
   "metadata": {
    "focus": false,
    "id": "94514384-cf79-4e7a-a09b-02cddc91e77c"
   },
   "source": [
    "##### Write a brief description of your data, and any interesting observations you've made thus far. "
   ]
  },
  {
   "cell_type": "code",
   "execution_count": null,
   "metadata": {
    "collapsed": true
   },
   "outputs": [],
   "source": []
  },
  {
   "cell_type": "code",
   "execution_count": null,
   "metadata": {
    "collapsed": true,
    "focus": false,
    "id": "33a9e3f0-a29d-4b02-90bd-528bdb44fb78"
   },
   "outputs": [],
   "source": []
  },
  {
   "cell_type": "markdown",
   "metadata": {
    "focus": false,
    "id": "888b6223-3bb4-4d91-b753-4867a3a1b281"
   },
   "source": [
    "## Step 2: Clean your data."
   ]
  },
  {
   "cell_type": "markdown",
   "metadata": {
    "focus": false,
    "id": "8a273328-6d9f-4dfc-88f8-a0c18e4d7f90"
   },
   "source": [
    "##### Do some rudimentary cleaning. Rename any columns that are poorly named, shorten any strings that may be too long, check for missing values (and replace them if it makes sense to do so). Explain your rationale for the way you choose to \"impute\" the missing data."
   ]
  },
  {
   "cell_type": "code",
   "execution_count": null,
   "metadata": {
    "collapsed": true,
    "focus": false,
    "id": "00022458-8edc-4f84-8492-0be04397fa64"
   },
   "outputs": [],
   "source": []
  },
  {
   "cell_type": "markdown",
   "metadata": {
    "focus": false,
    "id": "604ee5d7-10ed-4d14-9f86-16a6b240c00d"
   },
   "source": [
    "##### Using Pandas' built in `melt` function, pivot the weekly ranking data to be long rather than wide. As a result, you will have removed the 72 'week' columns and replace it with two: Week and Ranking. There will now be multiple entries for each song, one for each week on the Billboard rankings."
   ]
  },
  {
   "cell_type": "code",
   "execution_count": null,
   "metadata": {
    "collapsed": true,
    "focus": false,
    "id": "bf0161ca-0fcb-4883-a216-93fd7ffa6456"
   },
   "outputs": [],
   "source": []
  },
  {
   "cell_type": "markdown",
   "metadata": {
    "focus": false,
    "id": "2023c5a8-1f4e-4d83-9a52-c41a5090af74"
   },
   "source": [
    "## Step 3: Visualize your data."
   ]
  },
  {
   "cell_type": "markdown",
   "metadata": {
    "focus": false,
    "id": "dfaca026-8eca-4119-b4c1-e43433790c8e"
   },
   "source": [
    "##### Using a plotting utility of your choice (Tableau or python modules or both), create visualizations that will provide context to your data. There is no minimum or maximum number of graphs you should generate, but there should be a clear and consistent story being told. Give insights to the distribution, statistics, and relationships of the data. "
   ]
  },
  {
   "cell_type": "code",
   "execution_count": null,
   "metadata": {
    "collapsed": true,
    "focus": false,
    "id": "aa0c535c-497c-4f10-b695-540612ca534e"
   },
   "outputs": [],
   "source": []
  },
  {
   "cell_type": "markdown",
   "metadata": {
    "focus": false,
    "id": "8401c631-245b-4560-8971-25cb2406c2ab"
   },
   "source": [
    "## Step 4: Create a Problem Statement.\n",
    "\n",
    "##### Having explored the data, come up with a problem statement for this data set. You can feel free to introduce data from any other source to support your problem statement, just be sure to provide a link to the origin of the data. Once again- be creative!"
   ]
  },
  {
   "cell_type": "code",
   "execution_count": null,
   "metadata": {
    "collapsed": true,
    "focus": false,
    "id": "e1b81214-9b26-4735-8c1b-4482e948b355"
   },
   "outputs": [],
   "source": []
  },
  {
   "cell_type": "markdown",
   "metadata": {
    "collapsed": false,
    "focus": false,
    "id": "a0ff30a0-48be-4851-9ec3-4ce8ece08a67"
   },
   "source": [
    "## Step 5: Brainstorm your Approach.\n",
    "##### In bullet-list form, provide a proposed approach for evaluating your problem statement. This can be somewhat high-level, but start to think about ways you can massage the data for maximum efficacy. "
   ]
  },
  {
   "cell_type": "code",
   "execution_count": null,
   "metadata": {
    "collapsed": true,
    "focus": false,
    "id": "9d772c7b-61e0-4bc4-bb1a-f3d43ba54862"
   },
   "outputs": [],
   "source": []
  },
  {
   "cell_type": "markdown",
   "metadata": {
    "collapsed": true,
    "focus": false,
    "id": "a3c74c5b-3d90-4442-97d9-ae320fe238d1"
   },
   "source": [
    "## Step 6: Create a blog post with your code snippets and visualizations.\n",
    "##### Data Science is a growing field, and the Tech industry thrives off of collaboration and sharing of knowledge. Blogging is a powerful means for pushing the needle forward in our field. Using your blogging platform of choice, create a post describing each of the 5 steps above. Rather than writing a procedural text, imagine you're describing the data, visualizations, and conclusions you've arrived at to your peers. Aim for a minimum of 500 words. "
   ]
  },
  {
   "cell_type": "code",
   "execution_count": null,
   "metadata": {
    "collapsed": true,
    "focus": false,
    "id": "9b0185e4-7023-4086-b8b7-e15bcacc9984"
   },
   "outputs": [],
   "source": []
  },
  {
   "cell_type": "markdown",
   "metadata": {
    "focus": false,
    "id": "aee61cbf-dfe9-40d3-bfef-772a60bed757"
   },
   "source": [
    "## BONUS: The Content Managers working for the Podcast Publishing Company have recognized you as a thought leader in your field. They've asked you to pen a white paper (minimum 500 words) on the subject of 'What It Means To Have Clean Data'. This will be an opinion piece read by a wide audience, so be sure to back up your statements with real world examples or scenarios.\n",
    "\n",
    "##### Hint: To get started, look around on the internet for articles, blog posts, papers, youtube videos, podcasts, reddit discussions, anything that will help you understand the challenges and implications of dealing with big data. This should be a personal reflection on everything you've learned this week, and the learning goals that have been set out for you going forward. "
   ]
  },
  {
   "cell_type": "code",
   "execution_count": null,
   "metadata": {
    "collapsed": true,
    "focus": false,
    "id": "28deb393-c994-47bc-87d2-035741ce527c"
   },
   "outputs": [],
   "source": []
  }
 ],
 "metadata": {
  "anaconda-cloud": {},
  "kernelspec": {
   "display_name": "Python [conda root]",
   "language": "python",
   "name": "conda-root-py"
  },
  "language_info": {
   "codemirror_mode": {
    "name": "ipython",
    "version": 3
   },
   "file_extension": ".py",
   "mimetype": "text/x-python",
   "name": "python",
   "nbconvert_exporter": "python",
   "pygments_lexer": "ipython3",
   "version": "3.5.2"
  }
 },
 "nbformat": 4,
 "nbformat_minor": 0
}
