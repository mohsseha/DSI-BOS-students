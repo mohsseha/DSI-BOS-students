{
 "cells": [
  {
   "cell_type": "markdown",
   "metadata": {},
   "source": [
    "Write two functions to convert a Roman Numeral string to an integer and conversly, a Roman Numeral Integer to a string\n",
    "\n",
    "<img src=\"roman.png\" width=\"500\">\n",
    "\n",
    "When one or more numeral is used to form a number, the value of each symbol is (generally) added together from left to right.\n",
    "\n",
    "II = 2\n",
    "* XXX (10+10+10) = 30\n",
    "* LII (50+1+1) = 52\n",
    "* MMLVII (1,000+1,000+50+5+1+1) = 2,057\n",
    "\n",
    "In some instances, a lower numeral placed in front of a larger numeral indicates that the lower numeral should be subtracted from the larger.\n",
    "\n",
    "* 29 = XXIX (10+10+(10-1))\n",
    "* 399 = CCCXCIX (100+100+100+(100-10)+(10-1))\n",
    "* 444 = CDXLIV ((500-100)+(50-10)+(5-1))"
   ]
  },
  {
   "cell_type": "code",
   "execution_count": 110,
   "metadata": {
    "collapsed": false
   },
   "outputs": [],
   "source": [
    "\n",
    "def str_to_int(rn):\n",
    "    # adding Roman Numeral symbols and thier values to this dictionary will expand the range of input acceptable by\n",
    "    # this routine\n",
    "    romNums = { 'M':  1000,\n",
    "                'CM': 900,\n",
    "                'D':  500,\n",
    "                'CD': 400,\n",
    "                'C':  100,\n",
    "                'XC': 90,\n",
    "                'L':  50,\n",
    "                'XL': 40,\n",
    "                'X':  10,\n",
    "                'IX': 9,\n",
    "                'V':  5,\n",
    "                'IV': 4,\n",
    "                'I':  1}\n",
    "\n",
    "    num = 0\n",
    "    rn = rn.upper()\n",
    "    if len(rn) >= 2:\n",
    "            if rn[0:2] in romNums.keys():\n",
    "                num = num + int(romNums[rn[0:2]])\n",
    "                return num + str_to_int(rn[2:])\n",
    "            elif rn[0] in romNums.keys():\n",
    "                num = num + int(romNums[rn[0]])\n",
    "                return num + str_to_int(rn[1:])\n",
    "    elif len(rn) == 1:\n",
    "        num = num + int(romNums[rn[0]])\n",
    "        return num\n",
    "    else:\n",
    "        return num\n",
    "    return num\n"
   ]
  },
  {
   "cell_type": "code",
   "execution_count": 108,
   "metadata": {
    "collapsed": false
   },
   "outputs": [],
   "source": [
    "def int_to_str(num):\n",
    "    rn = \"\"\n",
    "    if (num > 1000):\n",
    "        return \"Your number must be less than 1000\"\n",
    "    if num >= 1000:\n",
    "        rn = rn + \"M\"\n",
    "        return rn + str(int_to_str(num - 1000))\n",
    "    elif 1000 > num >= 900:\n",
    "        rn = rn + \"CM\"\n",
    "        return rn + str(int_to_str(num - 900))\n",
    "    elif 900 > num >= 500:\n",
    "        rn = rn + \"D\"\n",
    "        return rn + str(int_to_str(num - 500))\n",
    "    elif 500 > num >= 400:\n",
    "        rn = rn + \"CD\"\n",
    "        return rn + str(int_to_str(num - 400))        \n",
    "    elif 400 > num >= 100:\n",
    "        rn = rn + \"C\"\n",
    "        return rn + str(int_to_str(num - 100))\n",
    "    elif 100 > num >= 90:\n",
    "        rn = rn + \"XC\"\n",
    "        return rn + str(int_to_str(num - 90))        \n",
    "    elif 90 > num >= 50:\n",
    "        rn = rn + \"L\"\n",
    "        return rn + str(int_to_str(num - 50))\n",
    "    elif 50 > num >= 40:\n",
    "        rn = rn + \"XL\"\n",
    "        return rn + str(int_to_str(num - 40))        \n",
    "    elif 40 > num >= 10:\n",
    "        rn = rn + \"X\"\n",
    "        return rn + str(int_to_str(num - 10))\n",
    "    elif 10 > num >= 9:\n",
    "        rn = rn + \"IX\"\n",
    "        return rn + str(int_to_str(num - 9))        \n",
    "    elif 9 > num >= 5:\n",
    "        rn = rn + \"V\"\n",
    "        return rn + str(int_to_str(num - 5))\n",
    "    elif 5 > num >= 4:\n",
    "        rn = rn + \"IV\"\n",
    "        return rn + str(int_to_str(num - 4))        \n",
    "    elif 4 > num >= 1:\n",
    "        rn = rn + \"I\"\n",
    "        return rn + str(int_to_str(num - 1))        \n",
    "\n",
    "    return rn\n"
   ]
  },
  {
   "cell_type": "code",
   "execution_count": 109,
   "metadata": {
    "collapsed": false
   },
   "outputs": [],
   "source": [
    "for i in range(1, 1000):\n",
    "    roman_numeral = int_to_str(i)\n",
    "    numeral = str_to_int(roman_numeral)\n",
    "    if numeral != i:\n",
    "        print(\"broken at \", i)"
   ]
  },
  {
   "cell_type": "code",
   "execution_count": null,
   "metadata": {
    "collapsed": true
   },
   "outputs": [],
   "source": []
  },
  {
   "cell_type": "code",
   "execution_count": null,
   "metadata": {
    "collapsed": true
   },
   "outputs": [],
   "source": []
  }
 ],
 "metadata": {
  "anaconda-cloud": {},
  "kernelspec": {
   "display_name": "Python [default]",
   "language": "python",
   "name": "python3"
  },
  "language_info": {
   "codemirror_mode": {
    "name": "ipython",
    "version": 3
   },
   "file_extension": ".py",
   "mimetype": "text/x-python",
   "name": "python",
   "nbconvert_exporter": "python",
   "pygments_lexer": "ipython3",
   "version": "3.5.2"
  }
 },
 "nbformat": 4,
 "nbformat_minor": 1
}
