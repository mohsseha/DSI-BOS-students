{
 "cells": [
  {
   "cell_type": "markdown",
   "metadata": {},
   "source": [
    "# NNs using Keras vs. Logistic Regression: \n",
    "\n",
    "This tutorial is basically a copy of [this](https://github.com/fastforwardlabs/keras-hello-world/blob/master/kerashelloworld.ipynb) tutorial. Please refer to it to understand What is happing here. \n",
    "\n",
    "## Installing Keras: "
   ]
  },
  {
   "cell_type": "markdown",
   "metadata": {},
   "source": [
    "Follow the instructions [here](https://github.com/tensorflow/tensorflow/blob/master/tensorflow/g3doc/get_started/os_setup.md#pip-installation) to install TensorFlow. **NB** There are special instructions for Windows :( "
   ]
  },
  {
   "cell_type": "markdown",
   "metadata": {
    "collapsed": false
   },
   "source": [
    "%%bash\n",
    "\n",
    "conda  update conda\n",
    "\n",
    "conda update --all\n",
    "\n",
    "pip install tensorflow\n",
    "\n",
    "pip install pydot\n",
    "\n",
    "pip install graphviz\n",
    "\n",
    "pip install keras"
   ]
  },
  {
   "cell_type": "code",
   "execution_count": null,
   "metadata": {
    "collapsed": false
   },
   "outputs": [],
   "source": [
    "from keras.models import Sequential\n",
    "from keras.layers.core import Dense, Activation\n",
    "from keras.utils import np_utils"
   ]
  },
  {
   "cell_type": "code",
   "execution_count": null,
   "metadata": {
    "collapsed": false
   },
   "outputs": [],
   "source": [
    "# Doing the scikit-learn analysis: \n",
    "%matplotlib inline\n",
    "import matplotlib.pyplot as plt\n",
    "import seaborn as sns\n",
    "import numpy as np\n",
    "import pandas as pd\n",
    "\n",
    "from sklearn.cross_validation import train_test_split\n",
    "from sklearn.linear_model import LogisticRegressionCV\n",
    "from sklearn.ensemble import RandomForestClassifier\n",
    "\n",
    "iris = sns.load_dataset(\"iris\")\n",
    "iris.head()\n",
    "\n",
    "sns.pairplot(iris, hue='species');\n",
    "X = iris.values[:, :4]\n",
    "y = iris.values[:, 4]\n",
    "train_X, test_X, train_y, test_y = train_test_split(X, y, train_size=0.5, random_state=0)\n",
    "\n",
    "lr = LogisticRegressionCV()\n",
    "lr.fit(train_X, train_y)\n",
    "\n",
    "print(\"LogisticRegressionCV Accuracy = {:.2f}%\".format(100*lr.score(test_X, test_y)))\n",
    "\n",
    "rfc = RandomForestClassifier()\n",
    "rfc.fit(train_X, train_y)\n",
    "print(\"RandomForestClassifier Accuracy = {:.2f}%\".format(100*rfc.score(test_X, test_y)))\n"
   ]
  },
  {
   "cell_type": "markdown",
   "metadata": {},
   "source": [
    "# Now for the Keras Stuff:\n",
    "\n",
    "Again, this is all from [this source](https://github.com/fastforwardlabs/keras-hello-world/blob/master/kerashelloworld.ipynb)"
   ]
  },
  {
   "cell_type": "code",
   "execution_count": null,
   "metadata": {
    "collapsed": false
   },
   "outputs": [],
   "source": [
    "def one_hot_encode_object_array(arr):\n",
    "    '''One hot encode a numpy array of objects (e.g. strings)'''\n",
    "    uniques, ids = np.unique(arr, return_inverse=True)\n",
    "    return np_utils.to_categorical(ids, len(uniques))\n",
    "#print(train_y)\n",
    "train_y_ohe = one_hot_encode_object_array(train_y)\n",
    "#print(train_y_ohe)\n",
    "test_y_ohe = one_hot_encode_object_array(test_y)\n",
    "#ANN Model: \n",
    "\n",
    "model = Sequential()\n",
    "# we can now Define the details of the model\n",
    "model.add(Dense(16, input_shape=(4,)))\n",
    "model.add(Activation('sigmoid'))\n",
    "model.add(Dense(3))\n",
    "model.add(Activation('softmax'))\n",
    "model.compile(optimizer='adam', loss='categorical_crossentropy', metrics=[\"accuracy\"])\n",
    "\n",
    "# The slow part of the calculation: \n",
    "%time model.fit(train_X, train_y_ohe, nb_epoch=100, batch_size=1, verbose=0);\n",
    "### \n",
    "\n",
    "loss, accuracy = model.evaluate(test_X, test_y_ohe, verbose=0)\n",
    "print(\"Accuracy = {:.2f}%\".format(100*accuracy))"
   ]
  },
  {
   "cell_type": "code",
   "execution_count": null,
   "metadata": {
    "collapsed": false
   },
   "outputs": [],
   "source": [
    "from keras.wrappers.scikit_learn import KerasClassifier\n",
    "from sklearn.model_selection import StratifiedKFold\n",
    "from sklearn.model_selection import cross_val_score\n",
    "\n",
    "\n",
    "nn_com_err = []\n",
    "\n",
    "# fix random seed for reproducibility\n",
    "seed = 7\n",
    "np.random.seed(seed)\n",
    "\n",
    "for i in range(1,17):\n",
    "    model = Sequential()\n",
    "    # we can now Define the details of the model\n",
    "    model.add(Dense(i, input_shape=(4,)))\n",
    "    model.add(Activation('sigmoid'))\n",
    "    model.add(Dense(3))\n",
    "    model.add(Activation('softmax'))\n",
    "    model.compile(optimizer='adam', loss='categorical_crossentropy', metrics=[\"accuracy\"])\n",
    "\n",
    "    # The slow part of the calculation: \n",
    "    model.fit(train_X, train_y_ohe, nb_epoch=100, batch_size=1, verbose=0);\n",
    "    ### \n",
    "\n",
    "    \n",
    "    loss, accuracy = model.evaluate(test_X, test_y_ohe, verbose=0)\n",
    "    nn_com_err.append([i,loss])\n",
    "\n"
   ]
  },
  {
   "cell_type": "code",
   "execution_count": null,
   "metadata": {
    "collapsed": false
   },
   "outputs": [],
   "source": []
  },
  {
   "cell_type": "markdown",
   "metadata": {},
   "source": [
    "# What's Next? \n",
    "\n",
    "Use Cross Validaiton to Measure the accuracy of the NN model, Can you either try to do it manually or with the help of the scikit-learn libraries. "
   ]
  },
  {
   "cell_type": "code",
   "execution_count": 12,
   "metadata": {
    "collapsed": false
   },
   "outputs": [],
   "source": [
    "# Train model and make predictions\n",
    "import numpy\n",
    "import pandas\n",
    "from keras.models import Sequential, model_from_json\n",
    "from keras.layers import Dense\n",
    "from keras.utils import np_utils\n",
    "from sklearn import datasets\n",
    "from sklearn import preprocessing\n",
    "from sklearn.model_selection import train_test_split\n",
    "from sklearn.preprocessing import LabelEncoder\n",
    "\n",
    "# fix random seed for reproducibility\n",
    "seed = 7\n",
    "numpy.random.seed(seed)\n",
    "\n",
    "cv_com_err = []\n",
    "\n",
    "# load dataset\n",
    "iris = datasets.load_iris()\n",
    "X, Y, labels = iris.data, iris.target, iris.target_names\n",
    "X = preprocessing.scale(X)\n",
    "\n",
    "# encode class values as integers\n",
    "encoder = LabelEncoder()\n",
    "encoder.fit(Y)\n",
    "encoded_Y = encoder.transform(Y)\n",
    "\n",
    "# convert integers to dummy variables (i.e. one hot encoded)\n",
    "y = np_utils.to_categorical(encoded_Y)\n",
    "\n",
    "for i in range(1,17):\n",
    "    def build_model():\n",
    "        # create model        \n",
    "        model = Sequential()\n",
    "        model.add(Dense(i, input_dim=4, init='normal', activation='relu'))\n",
    "        model.add(Dense(3, init='normal', activation='sigmoid'))\n",
    "        model.add(Activation('softmax'))\n",
    "        model.compile(loss='categorical_crossentropy', optimizer='adam', metrics=['accuracy'])\n",
    "        return model\n",
    "\n",
    "    X_train, X_test, Y_train, Y_test = train_test_split(X, y, test_size=0.3, random_state=seed)\n",
    "\n",
    "    # build\n",
    "    model = build_model()\n",
    "    model.fit(X_train, Y_train, nb_epoch=200, batch_size=5, verbose=0)\n",
    "\n",
    "    loss, accuracy = model.evaluate(X_test, Y_test, verbose=0)\n",
    "    cv_com_err.append([i,loss])\n"
   ]
  },
  {
   "cell_type": "code",
   "execution_count": 14,
   "metadata": {
    "collapsed": false
   },
   "outputs": [
    {
     "data": {
      "image/png": "[encoded data removed]",
      "text/plain": [
       "<matplotlib.figure.Figure at 0x25ece870390>"
      ]
     },
     "metadata": {},
     "output_type": "display_data"
    }
   ],
   "source": [
    "plt.plot(*zip(*nn_com_err))\n",
    "plt.plot(*zip(*cv_com_err))\n",
    "plt.xlabel('Complexity')\n",
    "plt.ylabel('Error')\n",
    "plt.show()"
   ]
  },
  {
   "cell_type": "code",
   "execution_count": null,
   "metadata": {
    "collapsed": true
   },
   "outputs": [],
   "source": []
  }
 ],
 "metadata": {
  "anaconda-cloud": {},
  "kernelspec": {
   "display_name": "Python [conda root]",
   "language": "python",
   "name": "conda-root-py"
  },
  "language_info": {
   "codemirror_mode": {
    "name": "ipython",
    "version": 3
   },
   "file_extension": ".py",
   "mimetype": "text/x-python",
   "name": "python",
   "nbconvert_exporter": "python",
   "pygments_lexer": "ipython3",
   "version": "3.5.2"
  }
 },
 "nbformat": 4,
 "nbformat_minor": 1
}
