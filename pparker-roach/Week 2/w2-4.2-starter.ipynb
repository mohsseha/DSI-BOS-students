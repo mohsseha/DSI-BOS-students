{
 "cells": [
  {
   "cell_type": "markdown",
   "metadata": {},
   "source": [
    "# w2-4.2 lab requirements\n",
    "\n",
    "Create a reproducible data set of random numbers\n",
    "Find the number of elements, min, max, variance, skew, and kurtosis\n",
    "Explain what the skew and kurtosis mean. Is it skewed left? right? Does the kurtosis mean the distribution is flatter? more peaked?\n",
    "Reproducibility: have a partner generate the same set of random numbers you did. Do they get the same results?\n",
    "Bonus:\n",
    "\n",
    "Do your random numbers follow a normal distribution? If not, how would you create simulated normal distribution?"
   ]
  },
  {
   "cell_type": "code",
   "execution_count": 2,
   "metadata": {
    "collapsed": false
   },
   "outputs": [],
   "source": [
    "import scipy as sp\n",
    "import numpy as np\n",
    "import matplotlib as mpl\n",
    "import matplotlib.pyplot as plt\n",
    "from scipy import stats\n",
    "from scipy.stats import norm"
   ]
  },
  {
   "cell_type": "code",
   "execution_count": 26,
   "metadata": {
    "collapsed": false
   },
   "outputs": [
    {
     "name": "stdout",
     "output_type": "stream",
     "text": [
      "[  4.71435164e-01  -1.19097569e+00   1.43270697e+00  -3.12651896e-01\n",
      "  -7.20588733e-01   8.87162940e-01   8.59588414e-01  -6.36523504e-01\n",
      "   1.56963721e-02  -2.24268495e+00   1.15003572e+00   9.91946022e-01\n",
      "   9.53324128e-01  -2.02125482e+00  -3.34077366e-01   2.11836468e-03\n",
      "   4.05453412e-01   2.89091941e-01   1.32115819e+00  -1.54690555e+00\n",
      "  -2.02646325e-01  -6.55969344e-01   1.93421376e-01   5.53438911e-01\n",
      "   1.31815155e+00  -4.69305285e-01   6.75554085e-01  -1.81702723e+00\n",
      "  -1.83108540e-01   1.05896919e+00]\n",
      "[  4.71435164e-01  -1.19097569e+00   1.43270697e+00  -3.12651896e-01\n",
      "  -7.20588733e-01   8.87162940e-01   8.59588414e-01  -6.36523504e-01\n",
      "   1.56963721e-02  -2.24268495e+00   1.15003572e+00   9.91946022e-01\n",
      "   9.53324128e-01  -2.02125482e+00  -3.34077366e-01   2.11836468e-03\n",
      "   4.05453412e-01   2.89091941e-01   1.32115819e+00  -1.54690555e+00\n",
      "  -2.02646325e-01  -6.55969344e-01   1.93421376e-01   5.53438911e-01\n",
      "   1.31815155e+00  -4.69305285e-01   6.75554085e-01  -1.81702723e+00\n",
      "  -1.83108540e-01   1.05896919e+00]\n",
      "True\n"
     ]
    }
   ],
   "source": [
    "# Generate a sequence of random variates, use the \n",
    "# random_state parameter which accepts an instance of \n",
    "# numpy.random.RandomState class, or an integer which is then used \n",
    "# to seed an internal RandomState object\n",
    "# example: random = norm.rvs(size=5, random_state=1234)\n",
    "\n",
    "a = norm.rvs(size=30, random_state=1234)\n",
    "print(a)\n",
    "b = norm.rvs(size=30, random_state=1234)\n",
    "print(b)\n",
    "if np.all(a) == np.all(b) : \n",
    "    print('True')\n",
    "else: print('False')"
   ]
  },
  {
   "cell_type": "code",
   "execution_count": 17,
   "metadata": {
    "collapsed": false
   },
   "outputs": [
    {
     "data": {
      "text/plain": [
       "DescribeResult(nobs=30, minmax=(-2.2426849541854055, 1.4327069684260973), mean=0.00818445049651686, variance=1.0604773786464681, skewness=-0.599930798560822, kurtosis=-0.5084408105308618)"
      ]
     },
     "execution_count": 17,
     "metadata": {},
     "output_type": "execute_result"
    }
   ],
   "source": [
    "# Use scipy.stats 'describe' to find: number of elements, min, max, \n",
    "# variance, skew, and kurtosis. Let's take a look.\n",
    "stats.describe(a)"
   ]
  },
  {
   "cell_type": "code",
   "execution_count": 18,
   "metadata": {
    "collapsed": false
   },
   "outputs": [
    {
     "name": "stdout",
     "output_type": "stream",
     "text": [
      "Number of elements: 30\n",
      "Minimum: -2.242685 Maximum: 1.432707\n",
      "Mean: 0.008184\n",
      "Variance: 1.060477\n",
      "Skew : -0.599931\n",
      "Kurtosis: -0.508441\n"
     ]
    }
   ],
   "source": [
    "n, min_max, mean, var, skew, kurt = stats.describe(a)\n",
    "print(\"Number of elements: {0:d}\".format(n))\n",
    "print(\"Minimum: {0:8.6f} Maximum: {1:8.6f}\".format(min_max[0], min_max[1]))\n",
    "print(\"Mean: {0:8.6f}\".format(mean))\n",
    "print(\"Variance: {0:8.6f}\".format(var))\n",
    "print(\"Skew : {0:8.6f}\".format(skew))\n",
    "print(\"Kurtosis: {0:8.6f}\".format(kurt))"
   ]
  },
  {
   "cell_type": "markdown",
   "metadata": {},
   "source": [
    "The random number generator did not produce a normal distribution as indicated by the negative value of Skew and by the plot below."
   ]
  },
  {
   "cell_type": "code",
   "execution_count": 20,
   "metadata": {
    "collapsed": false
   },
   "outputs": [
    {
     "data": {
      "image/png": "[encoded data removed]",
      "text/plain": [
       "<matplotlib.figure.Figure at 0x1790702aac8>"
      ]
     },
     "metadata": {},
     "output_type": "display_data"
    }
   ],
   "source": [
    "plt.hist(a)\n",
    "plt.show()"
   ]
  },
  {
   "cell_type": "code",
   "execution_count": null,
   "metadata": {
    "collapsed": true
   },
   "outputs": [],
   "source": []
  }
 ],
 "metadata": {
  "anaconda-cloud": {},
  "kernelspec": {
   "display_name": "Python [conda root]",
   "language": "python",
   "name": "conda-root-py"
  },
  "language_info": {
   "codemirror_mode": {
    "name": "ipython",
    "version": 3
   },
   "file_extension": ".py",
   "mimetype": "text/x-python",
   "name": "python",
   "nbconvert_exporter": "python",
   "pygments_lexer": "ipython3",
   "version": "3.5.2"
  }
 },
 "nbformat": 4,
 "nbformat_minor": 0
}
