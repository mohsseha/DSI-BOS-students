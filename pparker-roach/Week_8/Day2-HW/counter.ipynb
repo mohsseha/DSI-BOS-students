{
 "cells": [
  {
   "cell_type": "code",
   "execution_count": 27,
   "metadata": {
    "collapsed": false
   },
   "outputs": [],
   "source": [
    "import sys\n",
    "import string\n",
    "import my_cleaner\n",
    "import matplotlib.pyplot as plt\n",
    "import pandas as pd\n",
    "from collections import OrderedDict"
   ]
  },
  {
   "cell_type": "code",
   "execution_count": 52,
   "metadata": {
    "collapsed": false
   },
   "outputs": [
    {
     "data": {
      "image/png": "[encoded data removed]",
      "text/plain": [
       "<matplotlib.figure.Figure at 0x1dd6ad8b438>"
      ]
     },
     "metadata": {},
     "output_type": "display_data"
    },
    {
     "name": "stdout",
     "output_type": "stream",
     "text": [
      "[]"
     ]
    }
   ],
   "source": [
    "if __name__ == \"__main__\":\n",
    "    word_count_dictionary = {}                         # create a dictionary to hold word counts\n",
    "    \n",
    "    for line in sys.stdin:                             # get a line of input from input stream\n",
    "        line = my_cleaner.clean_text(line)\n",
    "        split_line = line.split(\" \")                   # break the line of input into segments at spaces\n",
    "        for word in split_line:                        # for each word\n",
    "            #update dictionary with stripped_word\n",
    "            if word in word_count_dictionary.keys():\n",
    "                word_count_dictionary[word] += 1\n",
    "            else:\n",
    "                word_count_dictionary[word] = 1\n",
    "\n",
    "    for key, item in word_count_dictionary.items():\n",
    "        word_count = key + ' = ' + str(item) + '\\n'\n",
    "        sys.stdout.write(word_count)\n",
    "    #sorted_dic = OrderedDict(sorted(word_count_dictionary.items(), key=lambda x:x[1], reverse=True))\n",
    "    LABELS = list(word_count_dictionary)\n",
    "    VALUES = list(word_count_dictionary.values())\n",
    "    plt.hist(VALUES, bins = 20)\n",
    "    plt.show()\n",
    "    "
   ]
  },
  {
   "cell_type": "code",
   "execution_count": null,
   "metadata": {
    "collapsed": false
   },
   "outputs": [],
   "source": []
  },
  {
   "cell_type": "code",
   "execution_count": null,
   "metadata": {
    "collapsed": true
   },
   "outputs": [],
   "source": []
  }
 ],
 "metadata": {
  "kernelspec": {
   "display_name": "Python [default]",
   "language": "python",
   "name": "python3"
  },
  "language_info": {
   "codemirror_mode": {
    "name": "ipython",
    "version": 3
   },
   "file_extension": ".py",
   "mimetype": "text/x-python",
   "name": "python",
   "nbconvert_exporter": "python",
   "pygments_lexer": "ipython3",
   "version": "3.5.2"
  }
 },
 "nbformat": 4,
 "nbformat_minor": 2
}
