{
 "cells": [
  {
   "cell_type": "code",
   "execution_count": null,
   "metadata": {
    "collapsed": false
   },
   "outputs": [],
   "source": [
    "import sys\n",
    "import string\n"
   ]
  },
  {
   "cell_type": "code",
   "execution_count": null,
   "metadata": {
    "collapsed": false
   },
   "outputs": [],
   "source": [
    "if __name__ == \"__main__\":\n",
    "    word_count_dictionary = {}                         # create a dictionary to hold word counts\n",
    "    punctuation = string.punctuation\n",
    "    \n",
    "    for line in sys.stdin:                             # get a line of input from input strea,\n",
    "        split_line = line.split(\" \")                   # break the line of input into segments at spaces\n",
    "        for word in split_line:                        # for each word\n",
    "            #strip punctuation\n",
    "            translator = str.maketrans('', '', string.punctuation)\n",
    "            stripped_word = (word.translate(translator))\n",
    "            #update dictionary with stripped_word\n",
    "            if stripped_word in word_count_dictionary.keys():\n",
    "                word_count_dictionary[stripped_word] += 1\n",
    "            else:\n",
    "                word_count_dictionary[stripped_word] = 1\n",
    "\n",
    "for key, item in word_count_dictionary.items():\n",
    "    word_count = key + ' = ' + str(item) + '\\n'\n",
    "    sys.stdout.write(word_count)\n"
   ]
  },
  {
   "cell_type": "code",
   "execution_count": null,
   "metadata": {
    "collapsed": false
   },
   "outputs": [],
   "source": []
  }
 ],
 "metadata": {
  "kernelspec": {
   "display_name": "Python [default]",
   "language": "python",
   "name": "python3"
  },
  "language_info": {
   "codemirror_mode": {
    "name": "ipython",
    "version": 3
   },
   "file_extension": ".py",
   "mimetype": "text/x-python",
   "name": "python",
   "nbconvert_exporter": "python",
   "pygments_lexer": "ipython3",
   "version": "3.5.2"
  }
 },
 "nbformat": 4,
 "nbformat_minor": 2
}
