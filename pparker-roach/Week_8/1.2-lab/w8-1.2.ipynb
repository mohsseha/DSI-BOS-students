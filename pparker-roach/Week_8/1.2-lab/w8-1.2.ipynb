{
 "cells": [
  {
   "cell_type": "markdown",
   "metadata": {},
   "source": [
    "# Get ready to be \"tooled\"!"
   ]
  },
  {
   "cell_type": "markdown",
   "metadata": {},
   "source": [
    "Welcome to your first lab in Bayesian Analysis. I hope you enjoyed this week’s lesson worksheet. You're probably thinking that you've fallen down in a really deep rabbit hole. Fear not, this week’s lab is all about equipping you with the tools you need to get a good grasp of the issues surrounding Bayes, and will position you well to understand deeper computing with Bayes for the rest of the week. So let's begin!"
   ]
  },
  {
   "cell_type": "markdown",
   "metadata": {},
   "source": [
    "# A Review of distributions "
   ]
  },
  {
   "cell_type": "markdown",
   "metadata": {},
   "source": [
    "As we saw in the lesson, building Bayesian models will require us to utilize common probability models for the likelihood function. These will include the usual suspects of binomial, Bernoulli, Cauchy, chi-squared, poison etc. Since we've spent the past few weeks doing mostly machine learning, your statistics may have become rusty. We'll go ahead and do some refreshers with Python now. \n",
    "\n",
    "\n",
    "|     Distribution  | Probability Mass Function (The Formula)  | Written Description \n",
    "|:-:|---|---|\n",
    "| Uniform  | $\\frac{1}{n}$ |  Basically, a uniform distribution is utilized when you're selecting any one member of a set is just as likely as any other  |\n",
    "| Bernoulli   | $\\binom{n}{k}\\cdot p^{k}(1-p)^{1-k} $  | Like a coin flip, p represents the probability that event X occurs, and 1-p is the probability that event Y occurs  |\n",
    "| Poisson | $\\frac{e^{-n}n^{x}}{x!}$ | The probability of observing x events in a certain time interval. e is the Euler number and n is a tuning parameter |\n",
    "| Binomial  | $\\binom{n}{k}\\cdot p^kq^{n-k} $| Gives you the probability of getting k \"success\" in n iterations/trials\n",
    "\n",
    "\n",
    "Lastly, we will introduce the Beta function, which will be a critical tool to our future\n"
   ]
  },
  {
   "cell_type": "markdown",
   "metadata": {},
   "source": [
    "# A small excursion into counting "
   ]
  },
  {
   "cell_type": "markdown",
   "metadata": {},
   "source": [
    "$$ Binom(n,k) = \\binom{n}{k} \\cdot p^kq^{n-k} $$\n",
    "Where the binomial coefficient is read \"n choose k\". You should be familiar with this concept through your previous exposure to basic probability. However, in case you need to jog your memory, I'm going to go through some important properties of counting that are important to giving you a better intuitive grasp at the mechanics of Bernoulli, and hopefully, by extension Bayesian analysis"
   ]
  },
  {
   "cell_type": "markdown",
   "metadata": {},
   "source": [
    "# Introduction to Factorials and Variations"
   ]
  },
  {
   "cell_type": "markdown",
   "metadata": {},
   "source": [
    "A factorial is defined as n! = $n*(n-1)*...*1 = \\prod_{i=1}^{n} i$\n",
    "This often use to enumerate all the different possibly of a number of objects as you remove one after you've selected it. \n",
    " \n",
    "It uses something called the multiplication rule, which can be demonstrated common sensibly by thinking of ordering a Pizza. \n",
    "If you order a pizza, and there are 5 types of meats, 3 types of cheese, and 10 types of vegetables, then there are 5* 3 * 10. \n",
    "\n",
    "A variation is slightly more complicated (but useful) concept. A variation\n",
    " $V = \\frac{n!}{(n-k)!} $, and can be thought of as number of all k-element variations \"chosen\" from a set of n elements."
   ]
  },
  {
   "cell_type": "markdown",
   "metadata": {},
   "source": [
    "#### Finger Exercise 1"
   ]
  },
  {
   "cell_type": "markdown",
   "metadata": {},
   "source": [
    "Q: How many 3 digit numbers can be constructed from the numeral 0,1,2,3,4,5,6,7,8,9?"
   ]
  },
  {
   "cell_type": "markdown",
   "metadata": {},
   "source": [
    "#### Finger Exercise Solution "
   ]
  },
  {
   "cell_type": "markdown",
   "metadata": {
    "collapsed": true
   },
   "source": [
    "**Answer:** "
   ]
  },
  {
   "cell_type": "markdown",
   "metadata": {},
   "source": [
    "# Introduction to Combinations "
   ]
  },
  {
   "cell_type": "markdown",
   "metadata": {},
   "source": [
    "We're going a little fast, but we've reached the cul-de-grace for this small aside: The combination formula. A combination $ C =  \\frac{n!}{(n-k)! (k!)} $ often denoted symbolically as $\\binom{n}{k}$. "
   ]
  },
  {
   "cell_type": "markdown",
   "metadata": {},
   "source": [
    "#### Finger Exercise 2 "
   ]
  },
  {
   "cell_type": "markdown",
   "metadata": {},
   "source": [
    "Suppose we had 30 white non-distinct balls distributed to 10 people, with each person receiving one and only one ball. How many ways can this be accomplished such that each individual receives **AT LEAST** one ball?"
   ]
  },
  {
   "cell_type": "markdown",
   "metadata": {},
   "source": [
    "#### Finger Exercise Solution"
   ]
  },
  {
   "cell_type": "markdown",
   "metadata": {},
   "source": [
    "**Answer:** "
   ]
  },
  {
   "cell_type": "markdown",
   "metadata": {},
   "source": [
    "As we will see, the phenomena of coin tossing will be directly connected with understanding the number of configurations you have with a small number of non-distinct classes of objects (in this case heads or tails). We will now simulate a simple coin toss with the Bernoulli scheme. "
   ]
  },
  {
   "cell_type": "markdown",
   "metadata": {},
   "source": [
    "# Simulating a Simple Fair Coin Toss with Python"
   ]
  },
  {
   "cell_type": "markdown",
   "metadata": {},
   "source": [
    "We're going to call some methods from scipy stats library. Let me emphasize, what the next following exercises (including those for the rest of this week -or course for that matter), can be accomplished in multiple ways. What we're trying to do is get you familiar with the methods available to you, so that you'll be ready to chain them up together to build your own (more complicated) methods as you mature in data science and start to do custom development for your work/startup/hobby whatever. \n",
    "\n",
    "If you need a review for what a random variable is, please refer to the following: https://www.khanacademy.org/math/probability/random-variables-topic/random-variables-prob-dist/v/discrete-and-continuous-random-variables, being that we are operating on computers, we will be utilizing discrete random variables. \n",
    "\n",
    "To start off, we should become familiar with the docs for scipy.stats. Please take some time and browse/read through the following site: http://docs.scipy.org/doc/scipy-0.17.0/reference/stats.html\n",
    "\n",
    "Scroll down and look through the **discrete distributions.** Read carefully what's there, play close attention to the standard methods attached to each distribution object. \n",
    "\n",
    "If you need a quick review of probability distributions go through this quick video here: https://www.youtube.com/watch?v=mrCxwEZ_22o\n",
    "\n",
    "When you're comfortable with what they do, and how to call them, try the exercises below. Good luck!"
   ]
  },
  {
   "cell_type": "markdown",
   "metadata": {},
   "source": [
    "#### Exercise 1"
   ]
  },
  {
   "cell_type": "markdown",
   "metadata": {},
   "source": [
    "Using scipy.stats create a simple vector of 100 coin flips for a fair coin and print the results"
   ]
  },
  {
   "cell_type": "code",
   "execution_count": 1,
   "metadata": {
    "collapsed": false
   },
   "outputs": [
    {
     "name": "stdout",
     "output_type": "stream",
     "text": [
      "[1 1 0 0 1 1 0 0 1 1 0 1 0 1 0 1 1 0 1 0 0 1 1 1 1 0 0 0 1 1 1 0 0 1 1 1 0\n",
      " 1 0 0 0 0 1 0 1 0 1 0 1 0 1 1 1 1 0 1 0 1 1 0 0 1 0 0 1 0 0 0 1 0 1 0 1 1\n",
      " 0 1 0 0 1 0 1 1 1 0 0 1 1 0 1 1 0 0 1 0 1 1 0 1 0 1]\n"
     ]
    }
   ],
   "source": [
    "# Using Bernoulli to simulate a coin toss\n",
    "import matplotlib.gridspec as gridspec\n",
    "\n",
    "from scipy.stats import bernoulli \n",
    "import numpy as np\n",
    "\n",
    "prob = .5 \n",
    "bernol = bernoulli(prob)\n",
    "\n",
    "def bernol_scheme(n):\n",
    "    return bernol.rvs(n)# flip it n times\n",
    "\n",
    "print(bernol_scheme(100))"
   ]
  },
  {
   "cell_type": "markdown",
   "metadata": {},
   "source": [
    "# Building on Bernoulli to construct the Binomial distribution"
   ]
  },
  {
   "cell_type": "markdown",
   "metadata": {},
   "source": [
    "We're going to force you to explore (and use) some base libraries, like math. Why? Well, with libraries like scipy-stats, there are major benefits, namely they make calculating complicated objects (distributions, rvs, etc.) very easy. Yet, there is a cost, they may limit your freedom (you can only calculate a distribution a certain way possibly), and they bring in dependancies. In your early carrier, you will probably not stumble onto issues of library compatbilities, or \"collisions\", but dependancies will become important, especailly as you move into the frontier of the data science world. \n",
    "\n",
    "Therefore, every data scientist needs to be familiar with the base-libraries, and be prepared to utilize them directly to a problem if need be. \n",
    "\n",
    "Please read the following link, like above, read/browse the various methods, and when you're ready. Go ahead and try the following exericse.\n",
    "https://docs.python.org/2/library/math.html"
   ]
  },
  {
   "cell_type": "markdown",
   "metadata": {
    "collapsed": true
   },
   "source": [
    "#### Exercise 2"
   ]
  },
  {
   "cell_type": "markdown",
   "metadata": {},
   "source": [
    "Write a simple combination function, using only your wits (and maybe the math library in Python - but nothing more)"
   ]
  },
  {
   "cell_type": "code",
   "execution_count": 2,
   "metadata": {
    "collapsed": true
   },
   "outputs": [],
   "source": [
    "# Before we proceed with the rest of the lab, we should disect the formula for Bernoulli, the distribution we will be playing \n",
    "# with the most. \n",
    "\n",
    "#Write the combination formula into Python from scratch. Do not call any combination method from any library!\n",
    "\n",
    "import math\n",
    "\n",
    "def Choose_Comb(n,r):\n",
    "    return math.factorial(n)/math.factorial(r)/math.factorial(n-r)\n"
   ]
  },
  {
   "cell_type": "markdown",
   "metadata": {},
   "source": [
    "#### Exercise 3"
   ]
  },
  {
   "cell_type": "markdown",
   "metadata": {},
   "source": [
    "Using what you know about Bernoulli, Combinations, and Variations, build the Binomial distribution, plotting, \n",
    "(mostly) from scratch, the probability of you making k-heads (or tails) in n trials on a fair coin.\n"
   ]
  },
  {
   "cell_type": "code",
   "execution_count": 3,
   "metadata": {
    "collapsed": false
   },
   "outputs": [
    {
     "data": {
      "image/png": "[encoded data removed]",
      "text/plain": [
       "<matplotlib.figure.Figure at 0x1b835e4fd30>"
      ]
     },
     "metadata": {},
     "output_type": "display_data"
    }
   ],
   "source": [
    "# Hint, try a barplot or histogram with the x-axis accounting for the number of k-heads you want to model for n-trials. \n",
    "\n",
    "import math\n",
    "import pylab\n",
    "import numpy\n",
    "import matplotlib.pyplot as plt\n",
    "\n",
    "n = 10\n",
    "heads = 0.5; tails = 1 - heads;\n",
    "Comb_series = [1]\n",
    "\n",
    "def Choose_Comb(n,r):\n",
    "    return math.factorial(n)/math.factorial(r)/math.factorial(n-r)\n",
    "\n",
    "def x_axis_hash(n):\n",
    "    return [str(x) for x in range(n+1)]\n",
    "\n",
    "for x in range(1,n+1):\n",
    "    Comb_series = Comb_series + [Choose_Comb(n,x)]\n",
    "    \n",
    "prob = []\n",
    "\n",
    "for x in range(n+1):\n",
    "    prob = prob + [(Comb_series[x]*((heads**x)*(tails**(n-x))))*100]\n",
    "    \n",
    "x = numpy.arange(n+1)\n",
    "plt.bar(x, prob, color=\"blue\")\n",
    "plt.xticks(x+0.5, x_axis_hash(n))\n",
    "plt.show()   # Shows the graph of the number of heads for a fair coin after x trials\n"
   ]
  },
  {
   "cell_type": "markdown",
   "metadata": {},
   "source": [
    "#### Exercise 4 "
   ]
  },
  {
   "cell_type": "markdown",
   "metadata": {
    "collapsed": true
   },
   "source": [
    "Beside Bernoulli/Binomial distributions, we'll be using other distributions and family of distributions while constructing probability or simulation models. Poisson comes up often in Bayesian analysis as well. Use stats model to plot the Poisson distribution in a simple histogram."
   ]
  },
  {
   "cell_type": "code",
   "execution_count": 4,
   "metadata": {
    "collapsed": false
   },
   "outputs": [
    {
     "data": {
      "image/png": "[encoded data removed]",
      "text/plain": [
       "<matplotlib.figure.Figure at 0x1b834f43da0>"
      ]
     },
     "metadata": {},
     "output_type": "display_data"
    }
   ],
   "source": [
    "\n",
    "# Use the scipy library to model and plot a Poisson scheme with a trial size of 100, \n",
    "\n",
    "\n",
    "from scipy import stats\n",
    "#from scipy.stats import poisson\n",
    "\n",
    "\n",
    "import pylab\n",
    "import numpy\n",
    "import matplotlib.pyplot as plt\n",
    "\n",
    "# We will load up Poisson distribution so you can \n",
    "\n",
    "poisson_trial = stats.poisson.rvs(mu = 2, loc = 0, size = 100)\n",
    "plt.figure()\n",
    "plt.hist(poisson_trial, bins = 5, normed = True)\n",
    "plt.show()"
   ]
  },
  {
   "cell_type": "markdown",
   "metadata": {},
   "source": [
    "# Preview of next week's deeper dive into Bayes - Introducing the Beta Function "
   ]
  },
  {
   "cell_type": "markdown",
   "metadata": {},
   "source": [
    "In the first lesson, we discussed the importance of the prior in Bayesian analysis. In common speak, it's basically a person's \"beliefs\". We saw in the example of Marty and rain, computing the prior from a discrete probability perspective. We can also model priors in the continuous domain (real numbers say from 0 to 1). \n",
    "\n",
    "To do this, we can take advantage of the Beta Function and assign it as our prior. For now, we will just start to play with the distribution, but it will be an integral part of the machinery of Bayesian inference going forward. For this simple exercise below, please implement the beta distribution and select an alpha and beta hyper parameter that outputs a graph. \n",
    "\n",
    "Play with these parameters, notice anything as you change them?\n"
   ]
  },
  {
   "cell_type": "code",
   "execution_count": 11,
   "metadata": {
    "collapsed": false
   },
   "outputs": [
    {
     "data": {
      "image/png": "[encoded data removed]",
      "text/plain": [
       "<matplotlib.figure.Figure at 0x1b834f4a908>"
      ]
     },
     "metadata": {},
     "output_type": "display_data"
    }
   ],
   "source": [
    "#Hyper what? Introducing Betas and 'Hyperparameters'\n",
    "\n",
    "from scipy.stats import beta\n",
    "import matplotlib.pyplot as plt\n",
    "\n",
    "a = 55\n",
    "b = 32\n",
    "x = np.arange (-100, 200, 0.1)\n",
    "y = beta.pdf(x,a,b, scale=100, loc=-100)\n",
    "plt.plot(x,y)\n",
    "plt.show()"
   ]
  },
  {
   "cell_type": "code",
   "execution_count": null,
   "metadata": {
    "collapsed": false
   },
   "outputs": [],
   "source": []
  },
  {
   "cell_type": "code",
   "execution_count": null,
   "metadata": {
    "collapsed": true
   },
   "outputs": [],
   "source": []
  }
 ],
 "metadata": {
  "kernelspec": {
   "display_name": "Python [conda root]",
   "language": "python",
   "name": "conda-root-py"
  },
  "language_info": {
   "codemirror_mode": {
    "name": "ipython",
    "version": 3
   },
   "file_extension": ".py",
   "mimetype": "text/x-python",
   "name": "python",
   "nbconvert_exporter": "python",
   "pygments_lexer": "ipython3",
   "version": "3.5.2"
  }
 },
 "nbformat": 4,
 "nbformat_minor": 0
}
