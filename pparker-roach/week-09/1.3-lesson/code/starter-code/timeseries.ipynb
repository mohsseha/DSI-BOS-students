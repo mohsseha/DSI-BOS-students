{
 "cells": [
  {
   "cell_type": "code",
   "execution_count": 39,
   "metadata": {
    "collapsed": false
   },
   "outputs": [
    {
     "name": "stdout",
     "output_type": "stream",
     "text": [
      "Populating the interactive namespace from numpy and matplotlib\n"
     ]
    }
   ],
   "source": [
    "import pandas as pd\n",
    "from datetime import timedelta\n",
    "\n",
    "%pylab inline\n",
    "\n",
    "df_goog = pd.read_csv('../../assets/datasets/goog.csv')"
   ]
  },
  {
   "cell_type": "markdown",
   "metadata": {},
   "source": [
    "Take a high-level look at the data. Describe it. What are we looking at? Hint: We can use our `plot` function to provide a good visual."
   ]
  },
  {
   "cell_type": "code",
   "execution_count": 40,
   "metadata": {
    "collapsed": false
   },
   "outputs": [
    {
     "name": "stdout",
     "output_type": "stream",
     "text": [
      "             Open        High         Low       Close        Volume  \\\n",
      "count   22.000000   22.000000   22.000000   22.000000  2.200000e+01   \n",
      "mean   575.890686  609.268155  552.366753  584.801935  2.019245e+06   \n",
      "std     56.597440   71.429837   64.162213   69.206444  6.682940e+05   \n",
      "min    524.729980  541.412415  487.562195  520.510010  2.530000e+04   \n",
      "25%    538.548111  565.495086  516.023072  538.463135  1.685675e+06   \n",
      "50%    560.617554  581.727631  534.417419  559.487549  1.856900e+06   \n",
      "75%    577.745132  639.383209  565.040634  600.655640  2.387900e+06   \n",
      "max    747.109985  775.955017  745.630005  762.369995  3.290800e+06   \n",
      "\n",
      "        Adj Close  \n",
      "count   22.000000  \n",
      "mean   584.801935  \n",
      "std     69.206444  \n",
      "min    520.510010  \n",
      "25%    538.463135  \n",
      "50%    559.487549  \n",
      "75%    600.655640  \n",
      "max    762.369995  \n",
      "         Date        Open        High         Low       Close   Volume  \\\n",
      "0  2015-12-01  747.109985  775.955017  745.630005  762.369995  2519600   \n",
      "1  2015-11-02  711.059998  762.708008  705.849976  742.599976  1795300   \n",
      "2  2015-10-01  608.369995  730.000000  599.849976  710.809998  2337100   \n",
      "3  2015-09-01  602.359985  650.900024  589.380005  608.419983  2398400   \n",
      "4  2015-08-03  625.340027  674.900024  565.049988  618.250000  2661600   \n",
      "\n",
      "    Adj Close  \n",
      "0  762.369995  \n",
      "1  742.599976  \n",
      "2  710.809998  \n",
      "3  608.419983  \n",
      "4  618.250000  \n",
      "(22, 7)\n"
     ]
    }
   ],
   "source": [
    "print(df_goog.describe())\n",
    "print(df_goog.head())\n",
    "print(df_goog.shape)"
   ]
  },
  {
   "cell_type": "markdown",
   "metadata": {},
   "source": [
    "Looking a little deeper, let's gauge the integrity of our data. Is there any cleaning we can do? "
   ]
  },
  {
   "cell_type": "code",
   "execution_count": 41,
   "metadata": {
    "collapsed": false,
    "scrolled": false
   },
   "outputs": [
    {
     "name": "stdout",
     "output_type": "stream",
     "text": [
      "22\n",
      "Date is of type datetime64[ns]\n",
      "Open is of type float64\n",
      "High is of type float64\n",
      "Low is of type float64\n",
      "Close is of type float64\n",
      "Volume is of type int64\n",
      "Adj Close is of type float64\n"
     ]
    }
   ],
   "source": [
    "print(len(df_goog.isnull()))\n",
    "#looks like all the data is there\n",
    "df_goog['Date'] = pd.to_datetime(df_goog['Date'])\n",
    "#let's look at its datatype\n",
    "for col in list(df_goog):\n",
    "    print(\"{} is of type {}\".format(col, df_goog[col].dtype))\n"
   ]
  },
  {
   "cell_type": "markdown",
   "metadata": {},
   "source": [
    "Let's examine the Date column. We should probably make it the index for our DataFrame, as we need to order the data by time. Doing this will result in 6 Series objects indexed by DateTime- literal Time Series!"
   ]
  },
  {
   "cell_type": "code",
   "execution_count": null,
   "metadata": {
    "collapsed": false
   },
   "outputs": [],
   "source": [
    "df_goog.set_index('Date', inplace=True)\n"
   ]
  },
  {
   "cell_type": "markdown",
   "metadata": {},
   "source": [
    "We need to convert the string to a DateTime object. Pandas has a built in function for this! Easy peasy. We should also ensure that the dates are sorted."
   ]
  },
  {
   "cell_type": "code",
   "execution_count": 47,
   "metadata": {
    "collapsed": false
   },
   "outputs": [
    {
     "data": {
      "text/html": [
       "<div>\n",
       "<table border=\"1\" class=\"dataframe\">\n",
       "  <thead>\n",
       "    <tr style=\"text-align: right;\">\n",
       "      <th></th>\n",
       "      <th>Open</th>\n",
       "      <th>High</th>\n",
       "      <th>Low</th>\n",
       "      <th>Close</th>\n",
       "      <th>Volume</th>\n",
       "      <th>Adj Close</th>\n",
       "    </tr>\n",
       "    <tr>\n",
       "      <th>Date</th>\n",
       "      <th></th>\n",
       "      <th></th>\n",
       "      <th></th>\n",
       "      <th></th>\n",
       "      <th></th>\n",
       "      <th></th>\n",
       "    </tr>\n",
       "  </thead>\n",
       "  <tbody>\n",
       "    <tr>\n",
       "      <th>2015-12-01</th>\n",
       "      <td>747.109985</td>\n",
       "      <td>775.955017</td>\n",
       "      <td>745.630005</td>\n",
       "      <td>762.369995</td>\n",
       "      <td>2519600</td>\n",
       "      <td>762.369995</td>\n",
       "    </tr>\n",
       "    <tr>\n",
       "      <th>2015-11-02</th>\n",
       "      <td>711.059998</td>\n",
       "      <td>762.708008</td>\n",
       "      <td>705.849976</td>\n",
       "      <td>742.599976</td>\n",
       "      <td>1795300</td>\n",
       "      <td>742.599976</td>\n",
       "    </tr>\n",
       "    <tr>\n",
       "      <th>2015-10-01</th>\n",
       "      <td>608.369995</td>\n",
       "      <td>730.000000</td>\n",
       "      <td>599.849976</td>\n",
       "      <td>710.809998</td>\n",
       "      <td>2337100</td>\n",
       "      <td>710.809998</td>\n",
       "    </tr>\n",
       "    <tr>\n",
       "      <th>2015-09-01</th>\n",
       "      <td>602.359985</td>\n",
       "      <td>650.900024</td>\n",
       "      <td>589.380005</td>\n",
       "      <td>608.419983</td>\n",
       "      <td>2398400</td>\n",
       "      <td>608.419983</td>\n",
       "    </tr>\n",
       "    <tr>\n",
       "      <th>2015-08-03</th>\n",
       "      <td>625.340027</td>\n",
       "      <td>674.900024</td>\n",
       "      <td>565.049988</td>\n",
       "      <td>618.250000</td>\n",
       "      <td>2661600</td>\n",
       "      <td>618.250000</td>\n",
       "    </tr>\n",
       "  </tbody>\n",
       "</table>\n",
       "</div>"
      ],
      "text/plain": [
       "                  Open        High         Low       Close   Volume  \\\n",
       "Date                                                                  \n",
       "2015-12-01  747.109985  775.955017  745.630005  762.369995  2519600   \n",
       "2015-11-02  711.059998  762.708008  705.849976  742.599976  1795300   \n",
       "2015-10-01  608.369995  730.000000  599.849976  710.809998  2337100   \n",
       "2015-09-01  602.359985  650.900024  589.380005  608.419983  2398400   \n",
       "2015-08-03  625.340027  674.900024  565.049988  618.250000  2661600   \n",
       "\n",
       "             Adj Close  \n",
       "Date                    \n",
       "2015-12-01  762.369995  \n",
       "2015-11-02  742.599976  \n",
       "2015-10-01  710.809998  \n",
       "2015-09-01  608.419983  \n",
       "2015-08-03  618.250000  "
      ]
     },
     "execution_count": 47,
     "metadata": {},
     "output_type": "execute_result"
    }
   ],
   "source": [
    "df_goog.head()"
   ]
  },
  {
   "cell_type": "markdown",
   "metadata": {},
   "source": [
    "Let's add some more columns with useful data extracted from the DateTime index."
   ]
  },
  {
   "cell_type": "code",
   "execution_count": 59,
   "metadata": {
    "collapsed": false
   },
   "outputs": [
    {
     "data": {
      "text/html": [
       "<div>\n",
       "<table border=\"1\" class=\"dataframe\">\n",
       "  <thead>\n",
       "    <tr style=\"text-align: right;\">\n",
       "      <th></th>\n",
       "      <th>Open</th>\n",
       "      <th>High</th>\n",
       "      <th>Low</th>\n",
       "      <th>Close</th>\n",
       "      <th>Volume</th>\n",
       "      <th>Adj Close</th>\n",
       "      <th>Year</th>\n",
       "      <th>Closed_Up</th>\n",
       "      <th>Month</th>\n",
       "      <th>Day</th>\n",
       "    </tr>\n",
       "    <tr>\n",
       "      <th>Date</th>\n",
       "      <th></th>\n",
       "      <th></th>\n",
       "      <th></th>\n",
       "      <th></th>\n",
       "      <th></th>\n",
       "      <th></th>\n",
       "      <th></th>\n",
       "      <th></th>\n",
       "      <th></th>\n",
       "      <th></th>\n",
       "    </tr>\n",
       "  </thead>\n",
       "  <tbody>\n",
       "    <tr>\n",
       "      <th>2014-03-27</th>\n",
       "      <td>568.002563</td>\n",
       "      <td>568.002563</td>\n",
       "      <td>552.922546</td>\n",
       "      <td>556.972473</td>\n",
       "      <td>25300</td>\n",
       "      <td>556.972473</td>\n",
       "      <td>2014</td>\n",
       "      <td>False</td>\n",
       "      <td>3</td>\n",
       "      <td>27</td>\n",
       "    </tr>\n",
       "    <tr>\n",
       "      <th>2014-04-01</th>\n",
       "      <td>558.712585</td>\n",
       "      <td>604.832764</td>\n",
       "      <td>502.802277</td>\n",
       "      <td>526.662415</td>\n",
       "      <td>3290800</td>\n",
       "      <td>526.662415</td>\n",
       "      <td>2014</td>\n",
       "      <td>False</td>\n",
       "      <td>4</td>\n",
       "      <td>1</td>\n",
       "    </tr>\n",
       "    <tr>\n",
       "      <th>2014-05-01</th>\n",
       "      <td>527.112366</td>\n",
       "      <td>567.842590</td>\n",
       "      <td>503.302277</td>\n",
       "      <td>559.892578</td>\n",
       "      <td>1828500</td>\n",
       "      <td>559.892578</td>\n",
       "      <td>2014</td>\n",
       "      <td>True</td>\n",
       "      <td>5</td>\n",
       "      <td>1</td>\n",
       "    </tr>\n",
       "    <tr>\n",
       "      <th>2014-06-02</th>\n",
       "      <td>560.702576</td>\n",
       "      <td>582.452637</td>\n",
       "      <td>538.752441</td>\n",
       "      <td>575.282593</td>\n",
       "      <td>1872200</td>\n",
       "      <td>575.282593</td>\n",
       "      <td>2014</td>\n",
       "      <td>True</td>\n",
       "      <td>6</td>\n",
       "      <td>2</td>\n",
       "    </tr>\n",
       "    <tr>\n",
       "      <th>2014-07-01</th>\n",
       "      <td>578.322632</td>\n",
       "      <td>599.652710</td>\n",
       "      <td>565.012573</td>\n",
       "      <td>571.602539</td>\n",
       "      <td>1668800</td>\n",
       "      <td>571.602539</td>\n",
       "      <td>2014</td>\n",
       "      <td>False</td>\n",
       "      <td>7</td>\n",
       "      <td>1</td>\n",
       "    </tr>\n",
       "    <tr>\n",
       "      <th>2014-08-01</th>\n",
       "      <td>570.402588</td>\n",
       "      <td>587.342651</td>\n",
       "      <td>560.002563</td>\n",
       "      <td>571.602539</td>\n",
       "      <td>1368800</td>\n",
       "      <td>571.602539</td>\n",
       "      <td>2014</td>\n",
       "      <td>True</td>\n",
       "      <td>8</td>\n",
       "      <td>1</td>\n",
       "    </tr>\n",
       "    <tr>\n",
       "      <th>2014-09-02</th>\n",
       "      <td>571.852539</td>\n",
       "      <td>596.482666</td>\n",
       "      <td>568.212646</td>\n",
       "      <td>577.362610</td>\n",
       "      <td>1673200</td>\n",
       "      <td>577.362610</td>\n",
       "      <td>2014</td>\n",
       "      <td>True</td>\n",
       "      <td>9</td>\n",
       "      <td>2</td>\n",
       "    </tr>\n",
       "    <tr>\n",
       "      <th>2014-10-01</th>\n",
       "      <td>576.012634</td>\n",
       "      <td>581.002625</td>\n",
       "      <td>508.102295</td>\n",
       "      <td>559.082520</td>\n",
       "      <td>2356400</td>\n",
       "      <td>559.082520</td>\n",
       "      <td>2014</td>\n",
       "      <td>False</td>\n",
       "      <td>10</td>\n",
       "      <td>1</td>\n",
       "    </tr>\n",
       "    <tr>\n",
       "      <th>2014-11-03</th>\n",
       "      <td>555.502502</td>\n",
       "      <td>557.902527</td>\n",
       "      <td>530.082397</td>\n",
       "      <td>541.832458</td>\n",
       "      <td>1561200</td>\n",
       "      <td>541.832458</td>\n",
       "      <td>2014</td>\n",
       "      <td>False</td>\n",
       "      <td>11</td>\n",
       "      <td>3</td>\n",
       "    </tr>\n",
       "    <tr>\n",
       "      <th>2014-12-01</th>\n",
       "      <td>538.902466</td>\n",
       "      <td>541.412415</td>\n",
       "      <td>489.002228</td>\n",
       "      <td>526.402405</td>\n",
       "      <td>2146700</td>\n",
       "      <td>526.402405</td>\n",
       "      <td>2014</td>\n",
       "      <td>False</td>\n",
       "      <td>12</td>\n",
       "      <td>1</td>\n",
       "    </tr>\n",
       "    <tr>\n",
       "      <th>2015-01-02</th>\n",
       "      <td>529.012390</td>\n",
       "      <td>542.172424</td>\n",
       "      <td>487.562195</td>\n",
       "      <td>534.522461</td>\n",
       "      <td>2791200</td>\n",
       "      <td>534.522461</td>\n",
       "      <td>2015</td>\n",
       "      <td>True</td>\n",
       "      <td>1</td>\n",
       "      <td>2</td>\n",
       "    </tr>\n",
       "    <tr>\n",
       "      <th>2015-02-02</th>\n",
       "      <td>531.732361</td>\n",
       "      <td>564.712585</td>\n",
       "      <td>518.552307</td>\n",
       "      <td>558.402588</td>\n",
       "      <td>1841600</td>\n",
       "      <td>558.402588</td>\n",
       "      <td>2015</td>\n",
       "      <td>True</td>\n",
       "      <td>2</td>\n",
       "      <td>2</td>\n",
       "    </tr>\n",
       "    <tr>\n",
       "      <th>2015-03-02</th>\n",
       "      <td>560.532532</td>\n",
       "      <td>577.912598</td>\n",
       "      <td>544.222473</td>\n",
       "      <td>548.002441</td>\n",
       "      <td>1828900</td>\n",
       "      <td>548.002441</td>\n",
       "      <td>2015</td>\n",
       "      <td>False</td>\n",
       "      <td>3</td>\n",
       "      <td>2</td>\n",
       "    </tr>\n",
       "    <tr>\n",
       "      <th>2015-04-01</th>\n",
       "      <td>548.602417</td>\n",
       "      <td>571.142578</td>\n",
       "      <td>521.012390</td>\n",
       "      <td>537.340027</td>\n",
       "      <td>2116700</td>\n",
       "      <td>537.340027</td>\n",
       "      <td>2015</td>\n",
       "      <td>False</td>\n",
       "      <td>4</td>\n",
       "      <td>1</td>\n",
       "    </tr>\n",
       "    <tr>\n",
       "      <th>2015-05-01</th>\n",
       "      <td>538.429993</td>\n",
       "      <td>544.190002</td>\n",
       "      <td>521.085022</td>\n",
       "      <td>532.109985</td>\n",
       "      <td>1723100</td>\n",
       "      <td>532.109985</td>\n",
       "      <td>2015</td>\n",
       "      <td>False</td>\n",
       "      <td>5</td>\n",
       "      <td>1</td>\n",
       "    </tr>\n",
       "    <tr>\n",
       "      <th>2015-06-01</th>\n",
       "      <td>536.789978</td>\n",
       "      <td>543.739990</td>\n",
       "      <td>520.500000</td>\n",
       "      <td>520.510010</td>\n",
       "      <td>1662400</td>\n",
       "      <td>520.510010</td>\n",
       "      <td>2015</td>\n",
       "      <td>False</td>\n",
       "      <td>6</td>\n",
       "      <td>1</td>\n",
       "    </tr>\n",
       "    <tr>\n",
       "      <th>2015-07-01</th>\n",
       "      <td>524.729980</td>\n",
       "      <td>678.640015</td>\n",
       "      <td>515.179993</td>\n",
       "      <td>625.609985</td>\n",
       "      <td>2955600</td>\n",
       "      <td>625.609985</td>\n",
       "      <td>2015</td>\n",
       "      <td>True</td>\n",
       "      <td>7</td>\n",
       "      <td>1</td>\n",
       "    </tr>\n",
       "    <tr>\n",
       "      <th>2015-08-03</th>\n",
       "      <td>625.340027</td>\n",
       "      <td>674.900024</td>\n",
       "      <td>565.049988</td>\n",
       "      <td>618.250000</td>\n",
       "      <td>2661600</td>\n",
       "      <td>618.250000</td>\n",
       "      <td>2015</td>\n",
       "      <td>False</td>\n",
       "      <td>8</td>\n",
       "      <td>3</td>\n",
       "    </tr>\n",
       "    <tr>\n",
       "      <th>2015-09-01</th>\n",
       "      <td>602.359985</td>\n",
       "      <td>650.900024</td>\n",
       "      <td>589.380005</td>\n",
       "      <td>608.419983</td>\n",
       "      <td>2398400</td>\n",
       "      <td>608.419983</td>\n",
       "      <td>2015</td>\n",
       "      <td>True</td>\n",
       "      <td>9</td>\n",
       "      <td>1</td>\n",
       "    </tr>\n",
       "    <tr>\n",
       "      <th>2015-10-01</th>\n",
       "      <td>608.369995</td>\n",
       "      <td>730.000000</td>\n",
       "      <td>599.849976</td>\n",
       "      <td>710.809998</td>\n",
       "      <td>2337100</td>\n",
       "      <td>710.809998</td>\n",
       "      <td>2015</td>\n",
       "      <td>True</td>\n",
       "      <td>10</td>\n",
       "      <td>1</td>\n",
       "    </tr>\n",
       "    <tr>\n",
       "      <th>2015-11-02</th>\n",
       "      <td>711.059998</td>\n",
       "      <td>762.708008</td>\n",
       "      <td>705.849976</td>\n",
       "      <td>742.599976</td>\n",
       "      <td>1795300</td>\n",
       "      <td>742.599976</td>\n",
       "      <td>2015</td>\n",
       "      <td>True</td>\n",
       "      <td>11</td>\n",
       "      <td>2</td>\n",
       "    </tr>\n",
       "    <tr>\n",
       "      <th>2015-12-01</th>\n",
       "      <td>747.109985</td>\n",
       "      <td>775.955017</td>\n",
       "      <td>745.630005</td>\n",
       "      <td>762.369995</td>\n",
       "      <td>2519600</td>\n",
       "      <td>762.369995</td>\n",
       "      <td>2015</td>\n",
       "      <td>True</td>\n",
       "      <td>12</td>\n",
       "      <td>1</td>\n",
       "    </tr>\n",
       "  </tbody>\n",
       "</table>\n",
       "</div>"
      ],
      "text/plain": [
       "                  Open        High         Low       Close   Volume  \\\n",
       "Date                                                                  \n",
       "2014-03-27  568.002563  568.002563  552.922546  556.972473    25300   \n",
       "2014-04-01  558.712585  604.832764  502.802277  526.662415  3290800   \n",
       "2014-05-01  527.112366  567.842590  503.302277  559.892578  1828500   \n",
       "2014-06-02  560.702576  582.452637  538.752441  575.282593  1872200   \n",
       "2014-07-01  578.322632  599.652710  565.012573  571.602539  1668800   \n",
       "2014-08-01  570.402588  587.342651  560.002563  571.602539  1368800   \n",
       "2014-09-02  571.852539  596.482666  568.212646  577.362610  1673200   \n",
       "2014-10-01  576.012634  581.002625  508.102295  559.082520  2356400   \n",
       "2014-11-03  555.502502  557.902527  530.082397  541.832458  1561200   \n",
       "2014-12-01  538.902466  541.412415  489.002228  526.402405  2146700   \n",
       "2015-01-02  529.012390  542.172424  487.562195  534.522461  2791200   \n",
       "2015-02-02  531.732361  564.712585  518.552307  558.402588  1841600   \n",
       "2015-03-02  560.532532  577.912598  544.222473  548.002441  1828900   \n",
       "2015-04-01  548.602417  571.142578  521.012390  537.340027  2116700   \n",
       "2015-05-01  538.429993  544.190002  521.085022  532.109985  1723100   \n",
       "2015-06-01  536.789978  543.739990  520.500000  520.510010  1662400   \n",
       "2015-07-01  524.729980  678.640015  515.179993  625.609985  2955600   \n",
       "2015-08-03  625.340027  674.900024  565.049988  618.250000  2661600   \n",
       "2015-09-01  602.359985  650.900024  589.380005  608.419983  2398400   \n",
       "2015-10-01  608.369995  730.000000  599.849976  710.809998  2337100   \n",
       "2015-11-02  711.059998  762.708008  705.849976  742.599976  1795300   \n",
       "2015-12-01  747.109985  775.955017  745.630005  762.369995  2519600   \n",
       "\n",
       "             Adj Close  Year Closed_Up  Month  Day  \n",
       "Date                                                \n",
       "2014-03-27  556.972473  2014     False      3   27  \n",
       "2014-04-01  526.662415  2014     False      4    1  \n",
       "2014-05-01  559.892578  2014      True      5    1  \n",
       "2014-06-02  575.282593  2014      True      6    2  \n",
       "2014-07-01  571.602539  2014     False      7    1  \n",
       "2014-08-01  571.602539  2014      True      8    1  \n",
       "2014-09-02  577.362610  2014      True      9    2  \n",
       "2014-10-01  559.082520  2014     False     10    1  \n",
       "2014-11-03  541.832458  2014     False     11    3  \n",
       "2014-12-01  526.402405  2014     False     12    1  \n",
       "2015-01-02  534.522461  2015      True      1    2  \n",
       "2015-02-02  558.402588  2015      True      2    2  \n",
       "2015-03-02  548.002441  2015     False      3    2  \n",
       "2015-04-01  537.340027  2015     False      4    1  \n",
       "2015-05-01  532.109985  2015     False      5    1  \n",
       "2015-06-01  520.510010  2015     False      6    1  \n",
       "2015-07-01  625.609985  2015      True      7    1  \n",
       "2015-08-03  618.250000  2015     False      8    3  \n",
       "2015-09-01  608.419983  2015      True      9    1  \n",
       "2015-10-01  710.809998  2015      True     10    1  \n",
       "2015-11-02  742.599976  2015      True     11    2  \n",
       "2015-12-01  762.369995  2015      True     12    1  "
      ]
     },
     "execution_count": 59,
     "metadata": {},
     "output_type": "execute_result"
    }
   ],
   "source": [
    "df_goog['Year'] = df_goog.index.year\n",
    "\n",
    "df_goog['Month'] = df_goog.index.month\n",
    "\n",
    "df_goog['Day'] = df_goog.index.day\n",
    "\n",
    "df_goog.sort_index(inplace=True)\n",
    "df_goog"
   ]
  },
  {
   "cell_type": "markdown",
   "metadata": {},
   "source": [
    "Let's walk through adding a dummy variable to flag days where the Close price was higher than the Open price"
   ]
  },
  {
   "cell_type": "code",
   "execution_count": 58,
   "metadata": {
    "collapsed": false
   },
   "outputs": [
    {
     "data": {
      "text/html": [
       "<div>\n",
       "<table border=\"1\" class=\"dataframe\">\n",
       "  <thead>\n",
       "    <tr style=\"text-align: right;\">\n",
       "      <th></th>\n",
       "      <th>Open</th>\n",
       "      <th>High</th>\n",
       "      <th>Low</th>\n",
       "      <th>Close</th>\n",
       "      <th>Volume</th>\n",
       "      <th>Adj Close</th>\n",
       "      <th>Year</th>\n",
       "      <th>Closed_Up</th>\n",
       "    </tr>\n",
       "    <tr>\n",
       "      <th>Date</th>\n",
       "      <th></th>\n",
       "      <th></th>\n",
       "      <th></th>\n",
       "      <th></th>\n",
       "      <th></th>\n",
       "      <th></th>\n",
       "      <th></th>\n",
       "      <th></th>\n",
       "    </tr>\n",
       "  </thead>\n",
       "  <tbody>\n",
       "    <tr>\n",
       "      <th>2014-03-27</th>\n",
       "      <td>568.002563</td>\n",
       "      <td>568.002563</td>\n",
       "      <td>552.922546</td>\n",
       "      <td>556.972473</td>\n",
       "      <td>25300</td>\n",
       "      <td>556.972473</td>\n",
       "      <td>2014</td>\n",
       "      <td>False</td>\n",
       "    </tr>\n",
       "    <tr>\n",
       "      <th>2014-04-01</th>\n",
       "      <td>558.712585</td>\n",
       "      <td>604.832764</td>\n",
       "      <td>502.802277</td>\n",
       "      <td>526.662415</td>\n",
       "      <td>3290800</td>\n",
       "      <td>526.662415</td>\n",
       "      <td>2014</td>\n",
       "      <td>False</td>\n",
       "    </tr>\n",
       "    <tr>\n",
       "      <th>2014-05-01</th>\n",
       "      <td>527.112366</td>\n",
       "      <td>567.842590</td>\n",
       "      <td>503.302277</td>\n",
       "      <td>559.892578</td>\n",
       "      <td>1828500</td>\n",
       "      <td>559.892578</td>\n",
       "      <td>2014</td>\n",
       "      <td>True</td>\n",
       "    </tr>\n",
       "    <tr>\n",
       "      <th>2014-06-02</th>\n",
       "      <td>560.702576</td>\n",
       "      <td>582.452637</td>\n",
       "      <td>538.752441</td>\n",
       "      <td>575.282593</td>\n",
       "      <td>1872200</td>\n",
       "      <td>575.282593</td>\n",
       "      <td>2014</td>\n",
       "      <td>True</td>\n",
       "    </tr>\n",
       "    <tr>\n",
       "      <th>2014-07-01</th>\n",
       "      <td>578.322632</td>\n",
       "      <td>599.652710</td>\n",
       "      <td>565.012573</td>\n",
       "      <td>571.602539</td>\n",
       "      <td>1668800</td>\n",
       "      <td>571.602539</td>\n",
       "      <td>2014</td>\n",
       "      <td>False</td>\n",
       "    </tr>\n",
       "  </tbody>\n",
       "</table>\n",
       "</div>"
      ],
      "text/plain": [
       "                  Open        High         Low       Close   Volume  \\\n",
       "Date                                                                  \n",
       "2014-03-27  568.002563  568.002563  552.922546  556.972473    25300   \n",
       "2014-04-01  558.712585  604.832764  502.802277  526.662415  3290800   \n",
       "2014-05-01  527.112366  567.842590  503.302277  559.892578  1828500   \n",
       "2014-06-02  560.702576  582.452637  538.752441  575.282593  1872200   \n",
       "2014-07-01  578.322632  599.652710  565.012573  571.602539  1668800   \n",
       "\n",
       "             Adj Close  Year Closed_Up  \n",
       "Date                                    \n",
       "2014-03-27  556.972473  2014     False  \n",
       "2014-04-01  526.662415  2014     False  \n",
       "2014-05-01  559.892578  2014      True  \n",
       "2014-06-02  575.282593  2014      True  \n",
       "2014-07-01  571.602539  2014     False  "
      ]
     },
     "execution_count": 58,
     "metadata": {},
     "output_type": "execute_result"
    }
   ],
   "source": [
    "df_goog[\"Closed_Up\"] = (df_goog['Close']-df_goog['Open']) > 0\n",
    "df_goog.head()"
   ]
  },
  {
   "cell_type": "markdown",
   "metadata": {},
   "source": [
    "We can use the DateTime object to access various different cuts of data using date attributes. For example, if we wanted to get all of the cuts from 2015, we would do as such:"
   ]
  },
  {
   "cell_type": "code",
   "execution_count": null,
   "metadata": {
    "collapsed": false
   },
   "outputs": [],
   "source": []
  },
  {
   "cell_type": "markdown",
   "metadata": {},
   "source": [
    "Let's recall the TimeDelta object. We can use this to shift our entire index by a given offset."
   ]
  },
  {
   "cell_type": "code",
   "execution_count": null,
   "metadata": {
    "collapsed": false
   },
   "outputs": [],
   "source": []
  },
  {
   "cell_type": "markdown",
   "metadata": {},
   "source": [
    "On your own, try to shift the entire time series **both** forwards and backwards by the following intervals:\n",
    "- 1 hour\n",
    "- 3 days\n",
    "- 12 years, 1 hour, and 43 seconds"
   ]
  },
  {
   "cell_type": "code",
   "execution_count": null,
   "metadata": {
    "collapsed": false
   },
   "outputs": [],
   "source": []
  },
  {
   "cell_type": "markdown",
   "metadata": {
    "collapsed": true
   },
   "source": [
    "## Discussion: Date ranges and Frequencies"
   ]
  },
  {
   "cell_type": "code",
   "execution_count": null,
   "metadata": {
    "collapsed": false
   },
   "outputs": [],
   "source": []
  },
  {
   "cell_type": "markdown",
   "metadata": {},
   "source": [
    "Note that `asfreq` gives us a `method` keyword argument. Backfill, or bfill, will propogate the last valid observation forward. In other words, it will use the value preceding a range of unknown indices to fill in the unknowns. Inversely, pad, or ffill, will use the first value succeeding a range of unknown indices to fill in the unknowns."
   ]
  },
  {
   "cell_type": "markdown",
   "metadata": {},
   "source": [
    "Now, let's discuss the following points:\n",
    "- What does `asfreq` do?\n",
    "- What does `resample` do?\n",
    "- What is the difference?\n",
    "- When would we want to use each?"
   ]
  },
  {
   "cell_type": "markdown",
   "metadata": {},
   "source": [
    "We can also create our own date ranges using a built in function, `date_range`. The `periods` and `freq` keyword arguments grant the user finegrained control over the resulting values. To reset the time data, use the `normalize=True` directive."
   ]
  },
  {
   "cell_type": "markdown",
   "metadata": {},
   "source": [
    "**NOTE:** See Reference B in the lesson notes for all of the available offset aliases"
   ]
  },
  {
   "cell_type": "code",
   "execution_count": null,
   "metadata": {
    "collapsed": false
   },
   "outputs": [],
   "source": []
  },
  {
   "cell_type": "markdown",
   "metadata": {},
   "source": [
    "We are also given a Period object, which can be used to represent a time interval. The Period object consists of a start time and an end time, and can be created by providing a start time and a given frequency."
   ]
  },
  {
   "cell_type": "code",
   "execution_count": null,
   "metadata": {
    "collapsed": false
   },
   "outputs": [],
   "source": []
  },
  {
   "cell_type": "markdown",
   "metadata": {},
   "source": [
    "Each of these objects can be used to alter and access data from our DataFrames. We'll try those out in our Independent Practice in a moment."
   ]
  }
 ],
 "metadata": {
  "kernelspec": {
   "display_name": "Python [conda root]",
   "language": "python",
   "name": "conda-root-py"
  },
  "language_info": {
   "codemirror_mode": {
    "name": "ipython",
    "version": 3
   },
   "file_extension": ".py",
   "mimetype": "text/x-python",
   "name": "python",
   "nbconvert_exporter": "python",
   "pygments_lexer": "ipython3",
   "version": "3.5.2"
  }
 },
 "nbformat": 4,
 "nbformat_minor": 0
}
