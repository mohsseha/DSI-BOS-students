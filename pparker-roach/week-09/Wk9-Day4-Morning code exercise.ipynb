{
 "cells": [
  {
   "cell_type": "markdown",
   "metadata": {},
   "source": [
    "# Creat a class object titled node where\n"
   ]
  },
  {
   "cell_type": "code",
   "execution_count": 36,
   "metadata": {
    "collapsed": false
   },
   "outputs": [],
   "source": [
    "class Node(object):\n",
    "    '''\n",
    "    Part 1:\n",
    "    v=Node(4)           # creates a node with value 4\n",
    "    v.val               # returns 4\n",
    "    v.left              # returns None\n",
    "    V.right             # also returns None\n",
    "    \n",
    "    v.left = Node(3)    # allows you to add a node tot he let of the main node\n",
    "    v.right = Node(5)   # adds a node to the right\n",
    "    \n",
    "    Part #2\n",
    "    v.add(6)            # will put 6 in an appropriate place in a binary tree under a node\n",
    "    v.add(4)            # does nothing because there already is a Node(4)\n",
    "    v.add([3,6,1,88,4]) # will do the right thing\n",
    "    '''\n",
    "\n",
    "    def __init__(self, a_number):\n",
    "        '''\n",
    "        '''\n",
    "        self.val = a_number\n",
    "        self.left = None\n",
    "        self.right = None\n",
    "        \n",
    "    def left(self, a_node=None):\n",
    "        '''\n",
    "        '''\n",
    "        if a_node == None:\n",
    "            return self.left\n",
    "        else:\n",
    "            self.left = a_node\n",
    "            return self.left    \n",
    "        \n",
    "    def right(self, a_node=None):\n",
    "        '''\n",
    "        '''\n",
    "        if a_node == None:\n",
    "            return self.right\n",
    "        else:\n",
    "            self.right = a_node\n",
    "            return self.right\n",
    "    \n",
    "    def add(self, numbers = None ):\n",
    "        '''\n",
    "        '''\n",
    "        if numbers == None:\n",
    "            return\n",
    "        if type(numbers) == int:\n",
    "            if numbers < self.val:\n",
    "                if self.left == None:\n",
    "                    self.left = Node(numbers)\n",
    "                else:\n",
    "                    self.left.add(numbers)\n",
    "            elif numbers > self.val:\n",
    "                if self.right == None:\n",
    "                    self.right = Node(numbers)\n",
    "        elif type(numbers) == list:\n",
    "            self.add(num)\n",
    "                "
   ]
  },
  {
   "cell_type": "code",
   "execution_count": 30,
   "metadata": {
    "collapsed": false
   },
   "outputs": [],
   "source": [
    "v = Node(4)"
   ]
  },
  {
   "cell_type": "code",
   "execution_count": 31,
   "metadata": {
    "collapsed": false
   },
   "outputs": [],
   "source": [
    "v.left = Node(3)"
   ]
  },
  {
   "cell_type": "code",
   "execution_count": 32,
   "metadata": {
    "collapsed": false
   },
   "outputs": [
    {
     "data": {
      "text/plain": [
       "3"
      ]
     },
     "execution_count": 32,
     "metadata": {},
     "output_type": "execute_result"
    }
   ],
   "source": [
    "v.left.val"
   ]
  },
  {
   "cell_type": "code",
   "execution_count": 25,
   "metadata": {
    "collapsed": false
   },
   "outputs": [
    {
     "data": {
      "text/plain": [
       "__main__.Node"
      ]
     },
     "execution_count": 25,
     "metadata": {},
     "output_type": "execute_result"
    }
   ],
   "source": [
    "type(v)"
   ]
  },
  {
   "cell_type": "code",
   "execution_count": 33,
   "metadata": {
    "collapsed": false
   },
   "outputs": [],
   "source": [
    "v.add(7)\n"
   ]
  },
  {
   "cell_type": "code",
   "execution_count": 35,
   "metadata": {
    "collapsed": false
   },
   "outputs": [
    {
     "data": {
      "text/plain": [
       "7"
      ]
     },
     "execution_count": 35,
     "metadata": {},
     "output_type": "execute_result"
    }
   ],
   "source": [
    "v.right.val\n"
   ]
  },
  {
   "cell_type": "code",
   "execution_count": 37,
   "metadata": {
    "collapsed": true
   },
   "outputs": [],
   "source": [
    "v.add([1,10,5,18,7])"
   ]
  },
  {
   "cell_type": "code",
   "execution_count": 40,
   "metadata": {
    "collapsed": false
   },
   "outputs": [
    {
     "ename": "AttributeError",
     "evalue": "type object 'Node' has no attribute 'describe'",
     "output_type": "error",
     "traceback": [
      "\u001b[0;31m---------------------------------------------------------------------------\u001b[0m",
      "\u001b[0;31mAttributeError\u001b[0m                            Traceback (most recent call last)",
      "\u001b[0;32m<ipython-input-40-5b9edf0d734b>\u001b[0m in \u001b[0;36m<module>\u001b[0;34m()\u001b[0m\n\u001b[0;32m----> 1\u001b[0;31m \u001b[0mNode\u001b[0m\u001b[1;33m.\u001b[0m\u001b[0mdescribe\u001b[0m\u001b[1;33m(\u001b[0m\u001b[1;33m)\u001b[0m\u001b[1;33m\u001b[0m\u001b[0m\n\u001b[0m",
      "\u001b[0;31mAttributeError\u001b[0m: type object 'Node' has no attribute 'describe'"
     ]
    }
   ],
   "source": []
  },
  {
   "cell_type": "code",
   "execution_count": null,
   "metadata": {
    "collapsed": true
   },
   "outputs": [],
   "source": []
  }
 ],
 "metadata": {
  "kernelspec": {
   "display_name": "Python [default]",
   "language": "python",
   "name": "python3"
  },
  "language_info": {
   "codemirror_mode": {
    "name": "ipython",
    "version": 3
   },
   "file_extension": ".py",
   "mimetype": "text/x-python",
   "name": "python",
   "nbconvert_exporter": "python",
   "pygments_lexer": "ipython3",
   "version": "3.5.2"
  }
 },
 "nbformat": 4,
 "nbformat_minor": 2
}
