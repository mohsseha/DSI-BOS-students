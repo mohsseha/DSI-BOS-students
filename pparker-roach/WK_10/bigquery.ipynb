{
 "cells": [
  {
   "cell_type": "code",
   "execution_count": 3,
   "metadata": {
    "collapsed": true
   },
   "outputs": [],
   "source": [
    "import pandas as pd\n"
   ]
  },
  {
   "cell_type": "code",
   "execution_count": 7,
   "metadata": {
    "collapsed": true
   },
   "outputs": [],
   "source": [
    "projectid = \"ga-bigquery-class-project\""
   ]
  },
  {
   "cell_type": "code",
   "execution_count": null,
   "metadata": {
    "collapsed": true
   },
   "outputs": [],
   "source": []
  },
  {
   "cell_type": "code",
   "execution_count": 194,
   "metadata": {
    "collapsed": true
   },
   "outputs": [],
   "source": [
    "query = '''SELECT RANK() OVER(ORDER BY count DESC) rank, count, comment, avg_score, count_subs, count_authors, example_id \n",
    "FROM (\n",
    "  SELECT comment, COUNT(*) count, AVG(avg_score) avg_score, COUNT(UNIQUE(subs)) count_subs, COUNT(UNIQUE(author)) count_authors, FIRST(example_id) example_id\n",
    "  FROM (\n",
    "    SELECT body comment, author, AVG(score) avg_score, UNIQUE(subreddit) subs, FIRST('http://reddit.com/r/'+subreddit+'/comments/'+REGEXP_REPLACE(link_id, 't[0-9]_','')+'/c/'+id) example_id\n",
    "    FROM [fh-bigquery:reddit_comments.2015_05]\n",
    "    WHERE author NOT IN (SELECT author FROM [fh-bigquery:reddit_comments.bots_201505])\n",
    "    AND subreddit IN (SELECT subreddit FROM [fh-bigquery:reddit_comments.subr_rank_201505] WHERE authors>10000)\n",
    "    GROUP EACH BY 1, 2\n",
    "  )\n",
    "  GROUP EACH BY 1\n",
    "  ORDER BY 2 DESC\n",
    "  LIMIT 300\n",
    ")'''\n",
    "\n",
    "query = '''SELECT body,  score, retrieved_on, created_utc, (retrieved_on - created_utc) AS diff, link_id, parent_id, id, subreddit, name  FROM [fh-bigquery:reddit_comments.all_2015] WHERE name=\"t1_cof7392\"\n",
    "and body != \"[removed]\" and body != \"[deleted]\" and link_id == parent_id ORDER BY retrieved_on LIMIT 10\n",
    "\n",
    "'''\n",
    "# where name=\"t1_cgcdg0o\""
   ]
  },
  {
   "cell_type": "code",
   "execution_count": 195,
   "metadata": {
    "collapsed": false
   },
   "outputs": [
    {
     "name": "stdout",
     "output_type": "stream",
     "text": [
      "Requesting query... ok.\n",
      "Query running...\n",
      "Query done.\n",
      "Processed: 156.9 Gb\n",
      "\n",
      "Retrieving results...\n",
      "  Got page: 1; 100% done. Elapsed 9.77 s.\n",
      "Got 1 rows.\n",
      "\n",
      "Total time taken 9.79 s.\n",
      "Finished at 2017-02-10 17:03:54.\n"
     ]
    }
   ],
   "source": [
    "data_frame = pd.read_gbq(query, project_id = projectid)"
   ]
  },
  {
   "cell_type": "code",
   "execution_count": 196,
   "metadata": {
    "collapsed": false
   },
   "outputs": [
    {
     "data": {
      "text/plain": [
       "(1, 10)"
      ]
     },
     "execution_count": 196,
     "metadata": {},
     "output_type": "execute_result"
    }
   ],
   "source": [
    "data_frame.shape"
   ]
  },
  {
   "cell_type": "code",
   "execution_count": 197,
   "metadata": {
    "collapsed": false
   },
   "outputs": [
    {
     "data": {
      "text/html": [
       "<div>\n",
       "<table border=\"1\" class=\"dataframe\">\n",
       "  <thead>\n",
       "    <tr style=\"text-align: right;\">\n",
       "      <th></th>\n",
       "      <th>body</th>\n",
       "      <th>score</th>\n",
       "      <th>retrieved_on</th>\n",
       "      <th>created_utc</th>\n",
       "      <th>diff</th>\n",
       "      <th>link_id</th>\n",
       "      <th>parent_id</th>\n",
       "      <th>id</th>\n",
       "      <th>subreddit</th>\n",
       "      <th>name</th>\n",
       "    </tr>\n",
       "  </thead>\n",
       "  <tbody>\n",
       "    <tr>\n",
       "      <th>0</th>\n",
       "      <td>Funny, but tasteless.</td>\n",
       "      <td>5</td>\n",
       "      <td>NaN</td>\n",
       "      <td>1423423425</td>\n",
       "      <td>NaN</td>\n",
       "      <td>t3_2v6adw</td>\n",
       "      <td>t3_2v6adw</td>\n",
       "      <td>cof7392</td>\n",
       "      <td>ImGoingToHellForThis</td>\n",
       "      <td>t1_cof7392</td>\n",
       "    </tr>\n",
       "  </tbody>\n",
       "</table>\n",
       "</div>"
      ],
      "text/plain": [
       "                     body  score  retrieved_on  created_utc  diff    link_id  \\\n",
       "0  Funny, but tasteless.       5           NaN   1423423425   NaN  t3_2v6adw   \n",
       "\n",
       "   parent_id       id             subreddit        name  \n",
       "0  t3_2v6adw  cof7392  ImGoingToHellForThis  t1_cof7392  "
      ]
     },
     "execution_count": 197,
     "metadata": {},
     "output_type": "execute_result"
    }
   ],
   "source": [
    "data_frame.head()"
   ]
  },
  {
   "cell_type": "markdown",
   "metadata": {},
   "source": [
    "https://www.reddit.com/r/worldnews/comments/5t64ar/exclusive_trump_border_wall_to_cost_216_billion/\n"
   ]
  },
  {
   "cell_type": "code",
   "execution_count": null,
   "metadata": {
    "collapsed": true
   },
   "outputs": [],
   "source": []
  },
  {
   "cell_type": "code",
   "execution_count": null,
   "metadata": {
    "collapsed": true
   },
   "outputs": [],
   "source": []
  }
 ],
 "metadata": {
  "kernelspec": {
   "display_name": "Python [default]",
   "language": "python",
   "name": "python3"
  },
  "language_info": {
   "codemirror_mode": {
    "name": "ipython",
    "version": 3
   },
   "file_extension": ".py",
   "mimetype": "text/x-python",
   "name": "python",
   "nbconvert_exporter": "python",
   "pygments_lexer": "ipython3",
   "version": "3.5.2"
  }
 },
 "nbformat": 4,
 "nbformat_minor": 2
}
