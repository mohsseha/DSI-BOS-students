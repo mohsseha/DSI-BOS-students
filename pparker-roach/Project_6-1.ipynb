{
 "cells": [
  {
   "cell_type": "markdown",
   "metadata": {},
   "source": [
    "# General Assembly Data Science Immersion Program\n",
    "# Project 6"
   ]
  },
  {
   "cell_type": "markdown",
   "metadata": {},
   "source": [
    "# Executive Summary "
   ]
  },
  {
   "cell_type": "markdown",
   "metadata": {},
   "source": [
    "## Problem Statement\n",
    "The assignment is to examine which factors lead to certain ratings for movies in order to predict that types of movies and individual may like. Netflix has not yet focused on examining the factors that have led to movies having been rated the top movies of all time.\n",
    "\n",
    "## Goal\n",
    "   Using machine learning techniques, specifically tree-based ensemble techniques (random forests, bagging, boosting, etc.) identify key factors which contribute to successful movie ratings, and present them using graphs and narratives. \n",
    "   \n",
    "## Deliverables\n",
    "    * Formal Problem Statement (included in this report)\n",
    "    * Summary Statistics\n",
    "    * The machine learning model use, with supporting code used to generate the findings\n",
    "    * Graphics to support the findings\n",
    "    * Recommendations for next steps   "
   ]
  },
  {
   "cell_type": "markdown",
   "metadata": {},
   "source": [
    "## Summary Statistics"
   ]
  },
  {
   "cell_type": "markdown",
   "metadata": {},
   "source": [
    "tbd"
   ]
  },
  {
   "cell_type": "markdown",
   "metadata": {},
   "source": [
    "## The Model"
   ]
  },
  {
   "cell_type": "markdown",
   "metadata": {},
   "source": [
    "tbd"
   ]
  },
  {
   "cell_type": "markdown",
   "metadata": {},
   "source": [
    "## Supporting Graphics"
   ]
  },
  {
   "cell_type": "markdown",
   "metadata": {},
   "source": [
    "tbd"
   ]
  },
  {
   "cell_type": "markdown",
   "metadata": {},
   "source": [
    "## Recommendations for Next Steps"
   ]
  },
  {
   "cell_type": "markdown",
   "metadata": {},
   "source": [
    "* parse the unstructured information in the 'description' field for each actor and pull out various awards, rankings, etc. and see if their inclusion in the models makes a difference\n",
    "* find mechanism to include full user reviews of movies to use in feature analysis\n",
    "* get the mechanism to store data in a local Postgres database working\n",
    "* create a simplified data schema model showing relationship between movies, actors, etc."
   ]
  },
  {
   "cell_type": "markdown",
   "metadata": {},
   "source": [
    "# The Documented Python Model Used For Deriving Results and Recommendations for Next Steps"
   ]
  },
  {
   "cell_type": "markdown",
   "metadata": {},
   "source": [
    "#### The following block is used to import all Python libraries used in this model"
   ]
  },
  {
   "cell_type": "code",
   "execution_count": null,
   "metadata": {
    "collapsed": false
   },
   "outputs": [],
   "source": [
    "import pandas as pd\n",
    "import numpy as np\n",
    "from imdbpie import Imdb #if libabry not found, pip install imdbpie from command line \n",
    "\n",
    "from IPython.display import Image\n"
   ]
  },
  {
   "cell_type": "markdown",
   "metadata": {},
   "source": [
    "### Data Selected\n",
    "The Internet Movie Database (abbreviated IMDb) is an online database of information related to films, television programs and video games, including cast, production crew, fictional characters, biographies, plot summaries, trivia and reviews, operated by IMDb.com, Inc., a subsidiary of Amazon.com. There is an IMDb API which direct access to a limited amount of data. Of interest to this work is a feature of the API which returns the Top 250 movies of all time as rated by a proprietary IMDb algorithm. You can also request data using the API on specific movies or actors. This feature will also be used in retrieving data.\n",
    "\n",
    "##### Top 250 Movies of All Time\n",
    "Using the API the data returned for a movies in this list is as follows:\n",
    "  * can_rate - can this movie be rated? All movies in this list are rated so this will not be used\n",
    "  * image - supplied by studio - will also not be used, but here is an example \n",
    "<img src=\"shawshank.jpg\" width=\"100\">\n",
    "  * num_votes - the number of votes this movie received - will potentially be used\n",
    "  * rating - the ratings for these nighest rated movies of all time range from 8.0 to 9.3 - will be used as our target\n",
    "  * tconst - the unique identifier for a movie - this key will be used in a variety of ways in constructing this model\n",
    "  * title - the \"string\" name of the movie - will not be used in the final model\n",
    "  * type - all the movies in this list are listed as \"feature\" so will not be used in this model\n",
    "  * year - the year the movie was released starting in 1921 to present - will be converted to a categorigal variable by decade\n",
    "    \n",
    "\n",
    "##### Top 100 Actors of all time data fields\n",
    "The IMDb website suppliesa list of the Top 100 Actors of All Time in a downloadable CSV format (http://www.imdb.com/list/ls050274118/). The CSV contains the following information:\n",
    "  * position - thier placement on the list - 1-100\n",
    "  * const - thier unique identifier in the IMDb database - equivalent to the movie's tconst field\n",
    "  * created - time/date stamp of when entry - will not be used\n",
    "  * modified - time/date stamp of when the entry was last modified - will not be used\n",
    "  * description - rich list of data about the actor including\n",
    "    - Acting Skill - 1 through 5 stars\n",
    "    - Overall Versatilitie - 1 through 5 stars\n",
    "    - Role Transformation - 1-5 stars\n",
    "    - Oscar Nominations - integer\n",
    "    - BAFTA Awards - British Academy of Film and Television Arts - integer\n",
    "    - BAFTA Nominations - integer\n",
    "    - Golden Globe - integer\n",
    "    - Golden Globe Nominations - integer\n",
    "    - \"movie name\" - Level of Difficulty - 1 through 5 stars\n",
    "    - Name - first and last name\n",
    "    - Known for - url to a movie that they are best known for\n",
    "    - Birth date (month/year/day)\n",
    "    \n",
    "##### Additional movie data to be retrieved with the API\n",
    "Using the \"tconst\" field returned in the Topp 250 list to retrieve data on individual movies. Data fields that will be retrieved for each movie include:\n",
    "  * \n",
    "\n",
    "Each dataset will be initially loaded into Pandas dataframes and then saved as Postgres tables for analysis"
   ]
  },
  {
   "cell_type": "markdown",
   "metadata": {},
   "source": [
    "##### Load the Top 250 Movies of all time into dataframe 'top_250' and drop unwanted columns"
   ]
  },
  {
   "cell_type": "code",
   "execution_count": null,
   "metadata": {
    "collapsed": false
   },
   "outputs": [],
   "source": [
    "imdb = Imdb()\n",
    "imdb_top = imdb.top_250()\n",
    "#imdb.search_for_title(\"The Dark Knight\")\n",
    "imdb_top\n",
    "top_250 = pd.DataFrame(imdb_top, columns=['can_rate', 'image', 'num_votes', 'rating', 'tconst', 'title', 'type', 'year'])\n",
    "top_250.drop(['can_rate', 'image', 'title', 'type'],inplace=True,axis=1)"
   ]
  },
  {
   "cell_type": "markdown",
   "metadata": {},
   "source": [
    "##### Import the Top 100 Actors and drop unwanted columns"
   ]
  },
  {
   "cell_type": "code",
   "execution_count": null,
   "metadata": {
    "collapsed": false
   },
   "outputs": [],
   "source": [
    "top_actors = pd.read_csv(\"top_100_actors.csv\")\n",
    "top_actors.drop(['created', 'modified'],inplace=True,axis=1)"
   ]
  },
  {
   "cell_type": "markdown",
   "metadata": {},
   "source": [
    "##### Pull selected movie information and add columns to top_250 dataframe"
   ]
  },
  {
   "cell_type": "code",
   "execution_count": null,
   "metadata": {
    "collapsed": false
   },
   "outputs": [],
   "source": [
    "for index, row in top_250.iterrows():\n",
    "    movie = imdb.get_title_by_id(row['tconst'])\n",
    "    print(movie.genres)\n",
    "    print(index)\n",
    "    pd.concat([top_250,pd.DataFrame(columns=['genres'])])\n",
    "    top_250.ix[index]['genres']=movie.genres\n",
    "    #top_250[index,'genres'] = movie.genres\n",
    "    #print(top_250.ix[index]['genres'])\n",
    "    \n",
    "#    top_250.set_value(index, 'genres', movie.genres)\n",
    "#     top_250.iloc[index]['certification'] = movie.certification\n",
    "#     top_250.iloc[index]['runtime'] = movie.runtime\n",
    "#     top_250.iloc[index]['writers_summary'] = movie.writers_summary\n",
    "#     top_250.iloc[index]['directors_summary'] = movie.directors_summary\n",
    "#     top_250.iloc[index]['creators'] = movie.creators\n",
    "#     top_250.iloc[index]['cast_summary'] = movie.cast_summary\n",
    "#     top_250.iloc[index]['credits'] = movie.credits\n",
    "print(top_250.shape)"
   ]
  },
  {
   "cell_type": "markdown",
   "metadata": {},
   "source": [
    "##### Pull selected actor information and add columns to top_actors dataframe"
   ]
  },
  {
   "cell_type": "code",
   "execution_count": null,
   "metadata": {
    "collapsed": false
   },
   "outputs": [],
   "source": []
  },
  {
   "cell_type": "markdown",
   "metadata": {},
   "source": [
    "Join API & scraped data in local Postgres"
   ]
  },
  {
   "cell_type": "code",
   "execution_count": null,
   "metadata": {
    "collapsed": true
   },
   "outputs": [],
   "source": []
  },
  {
   "cell_type": "markdown",
   "metadata": {},
   "source": [
    "Use natural language processing to understand the sentiments of users reviewing the movies"
   ]
  },
  {
   "cell_type": "code",
   "execution_count": null,
   "metadata": {
    "collapsed": true
   },
   "outputs": [],
   "source": []
  },
  {
   "cell_type": "markdown",
   "metadata": {},
   "source": [
    "Mine & refine your data"
   ]
  },
  {
   "cell_type": "code",
   "execution_count": null,
   "metadata": {
    "collapsed": true
   },
   "outputs": [],
   "source": []
  },
  {
   "cell_type": "markdown",
   "metadata": {},
   "source": [
    "Construct bagging and boosting ensemble models"
   ]
  },
  {
   "cell_type": "code",
   "execution_count": null,
   "metadata": {
    "collapsed": true
   },
   "outputs": [],
   "source": []
  },
  {
   "cell_type": "markdown",
   "metadata": {},
   "source": [
    "Construct elastic net models"
   ]
  },
  {
   "cell_type": "code",
   "execution_count": null,
   "metadata": {
    "collapsed": true
   },
   "outputs": [],
   "source": []
  },
  {
   "cell_type": "markdown",
   "metadata": {},
   "source": [
    "Perform gridsearch and validation on models"
   ]
  },
  {
   "cell_type": "code",
   "execution_count": null,
   "metadata": {
    "collapsed": true
   },
   "outputs": [],
   "source": []
  },
  {
   "cell_type": "markdown",
   "metadata": {},
   "source": [
    "Present the results of your findings in a formal report to Netflix, including:\n",
    "  * a problem statement,\n",
    "  * summary statistics of the various factors (year, number of ratings, etc.),\n",
    "  * your random forest model,\n",
    "  * and your recommendations for next steps!"
   ]
  },
  {
   "cell_type": "raw",
   "metadata": {},
   "source": []
  },
  {
   "cell_type": "code",
   "execution_count": null,
   "metadata": {
    "collapsed": false
   },
   "outputs": [],
   "source": []
  },
  {
   "cell_type": "code",
   "execution_count": null,
   "metadata": {
    "collapsed": false
   },
   "outputs": [],
   "source": []
  },
  {
   "cell_type": "code",
   "execution_count": null,
   "metadata": {
    "collapsed": false
   },
   "outputs": [],
   "source": []
  },
  {
   "cell_type": "code",
   "execution_count": null,
   "metadata": {
    "collapsed": true
   },
   "outputs": [],
   "source": []
  }
 ],
 "metadata": {
  "anaconda-cloud": {},
  "kernelspec": {
   "display_name": "Python [default]",
   "language": "python",
   "name": "python3"
  },
  "language_info": {
   "codemirror_mode": {
    "name": "ipython",
    "version": 3
   },
   "file_extension": ".py",
   "mimetype": "text/x-python",
   "name": "python",
   "nbconvert_exporter": "python",
   "pygments_lexer": "ipython3",
   "version": "3.5.2"
  }
 },
 "nbformat": 4,
 "nbformat_minor": 1
}
