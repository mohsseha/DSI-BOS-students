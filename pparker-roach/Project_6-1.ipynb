{
 "cells": [
  {
   "cell_type": "markdown",
   "metadata": {},
   "source": [
    "# General Assembly Data Science Immersion Program\n",
    "# Project 6"
   ]
  },
  {
   "cell_type": "markdown",
   "metadata": {},
   "source": [
    "# Executive Summary "
   ]
  },
  {
   "cell_type": "markdown",
   "metadata": {},
   "source": [
    "## Problem Statement\n",
    "The assignment is to examine which factors lead to certain ratings for movies in order to predict that types of movies and individual may like. Netflix has not yet focused on examining the factors that have led to movies having been rated the top movies of all time.\n",
    "\n",
    "## Goal\n",
    "   Using machine learning techniques, specifically tree-based ensemble techniques (random forests, bagging, boosting, etc.) identify key factors which contribute to successful movie ratings, and present them using graphs and narratives. \n",
    "   \n",
    "## Deliverables\n",
    "    * Formal Problem Statement (included in this report)\n",
    "    * Summary Statistics\n",
    "    * The machine learning model use, with supporting code used to generate the findings\n",
    "    * Graphics to support the findings\n",
    "    * Recommendations for next steps   "
   ]
  },
  {
   "cell_type": "markdown",
   "metadata": {},
   "source": [
    "## Summary Statistics"
   ]
  },
  {
   "cell_type": "markdown",
   "metadata": {},
   "source": []
  },
  {
   "cell_type": "markdown",
   "metadata": {},
   "source": [
    "## The Model"
   ]
  },
  {
   "cell_type": "markdown",
   "metadata": {},
   "source": []
  },
  {
   "cell_type": "markdown",
   "metadata": {},
   "source": [
    "## Supporting Graphics"
   ]
  },
  {
   "cell_type": "markdown",
   "metadata": {},
   "source": []
  },
  {
   "cell_type": "markdown",
   "metadata": {},
   "source": [
    "## Recommendations for Next Steps"
   ]
  },
  {
   "cell_type": "markdown",
   "metadata": {},
   "source": [
    "* parse the unstructured information in the 'description' field for each actor and pull out various awards, rankings, etc. and see if their inclusion in the models makes a difference\n",
    "* find mechanism to include full user reviews of movies to use in feature analysis\n",
    "* get the mechanism to store data in a local Postgres database working"
   ]
  },
  {
   "cell_type": "markdown",
   "metadata": {},
   "source": [
    "# The Documented Python Model Used For Deriving Results and Recommendations for Next Steps"
   ]
  },
  {
   "cell_type": "markdown",
   "metadata": {},
   "source": [
    "#### The following block is used to import all Python libraries used in this model"
   ]
  },
  {
   "cell_type": "code",
   "execution_count": 1,
   "metadata": {
    "collapsed": false
   },
   "outputs": [],
   "source": [
    "import pandas as pd\n",
    "import numpy as np\n",
    "from imdbpie import Imdb #if libabry not found, pip install imdbpie from command line \n",
    "\n",
    "from IPython.display import Image\n"
   ]
  },
  {
   "cell_type": "markdown",
   "metadata": {},
   "source": [
    "### Data Selected\n",
    "The Internet Movie Database (abbreviated IMDb) is an online database of information related to films, television programs and video games, including cast, production crew, fictional characters, biographies, plot summaries, trivia and reviews, operated by IMDb.com, Inc., a subsidiary of Amazon.com. There is an IMDb API which direct access to a limited amount of data. Of interest to this work is a feature of the API which returns the Top 250 movies of all time as rated by a proprietary IMDb algorithm. You can also request data using the API on specific movies or actors. This feature will also be used in retrieving data.\n",
    "\n",
    "##### Top 250 Movies of All Time\n",
    "Using the API the data returned for a movies in this list is as follows:\n",
    "  * can_rate - can this movie be rated? All movies in this list are rated so this will not be used\n",
    "  * image - supplied by studio - will also not be used, but here is an example \n",
    "<img src=\"shawshank.jpg\" width=\"100\">\n",
    "  * num_votes - the number of votes this movie received - will potentially be used\n",
    "  * rating - the ratings for these nighest rated movies of all time range from 8.0 to 9.3 - will be used as our target\n",
    "  * tconst - the unique identifier for a movie - this key will be used in a variety of ways in constructing this model\n",
    "  * title - the \"string\" name of the movie - will not be used in the final model\n",
    "  * type - all the movies in this list are listed as \"feature\" so will not be used in this model\n",
    "  * year - the year the movie was released starting in 1921 to present - will be converted to a categorigal variable by decade\n",
    "    \n",
    "\n",
    "##### Top 100 Actors of all time data fields\n",
    "The IMDb website suppliesa list of the Top 100 Actors of All Time in a downloadable CSV format (http://www.imdb.com/list/ls050274118/). The CSV contains the following information:\n",
    "  * position - thier placement on the list - 1-100\n",
    "  * const - thier unique identifier in the IMDb database - equivalent to the movie's tconst field\n",
    "  * created - time/date stamp of when entry - will not be used\n",
    "  * modified - time/date stamp of when the entry was last modified - will not be used\n",
    "  * description - rich list of data about the actor including\n",
    "    - Acting Skill - 1 through 5 stars\n",
    "    - Overall Versatilitie - 1 through 5 stars\n",
    "    - Role Transformation - 1-5 stars\n",
    "    - Oscar Nominations - integer\n",
    "    - BAFTA Awards - British Academy of Film and Television Arts - integer\n",
    "    - BAFTA Nominations - integer\n",
    "    - Golden Globe - integer\n",
    "    - Golden Globe Nominations - integer\n",
    "    - \"movie name\" - Level of Difficulty - 1 through 5 stars\n",
    "    - Name - first and last name\n",
    "    - Known for - url to a movie that they are best known for\n",
    "    - Birth date (month/year/day)\n",
    "    \n",
    "##### Additional movie data to be retrieved with the API\n",
    "Using the \"tconst\" field returned in the Topp 250 list to retrieve data on individual movies. Data fields that will be retrieved for each movie include:\n",
    "  * \n",
    "\n",
    "Each dataset will be initially loaded into Pandas dataframes and then saved as Postgres tables for analysis"
   ]
  },
  {
   "cell_type": "markdown",
   "metadata": {},
   "source": [
    "##### Load the Top 250 Movies of all time into dataframe 'top_250' and drop unwanted columns"
   ]
  },
  {
   "cell_type": "code",
   "execution_count": 2,
   "metadata": {
    "collapsed": false
   },
   "outputs": [],
   "source": [
    "imdb = Imdb()\n",
    "imdb_top = imdb.top_250()\n",
    "#imdb.search_for_title(\"The Dark Knight\")\n",
    "imdb_top\n",
    "top_250 = pd.DataFrame(imdb_top, columns=['can_rate', 'image', 'num_votes', 'rating', 'tconst', 'title', 'type', 'year'])\n",
    "top_250.drop(['can_rate', 'image', 'title', 'type'],inplace=True,axis=1)"
   ]
  },
  {
   "cell_type": "markdown",
   "metadata": {},
   "source": [
    "##### Import the Top 100 Actors and drop unwanted columns"
   ]
  },
  {
   "cell_type": "code",
   "execution_count": 3,
   "metadata": {
    "collapsed": false
   },
   "outputs": [],
   "source": [
    "top_actors = pd.read_csv(\"top_100_actors.csv\")\n",
    "top_actors.drop(['created', 'modified'],inplace=True,axis=1)"
   ]
  },
  {
   "cell_type": "markdown",
   "metadata": {},
   "source": [
    "##### Pull selected movie information and add columns to top_250 dataframe"
   ]
  },
  {
   "cell_type": "code",
   "execution_count": 4,
   "metadata": {
    "collapsed": false
   },
   "outputs": [
    {
     "name": "stdout",
     "output_type": "stream",
     "text": [
      "['Crime', 'Drama']\n",
      "0\n"
     ]
    },
    {
     "name": "stderr",
     "output_type": "stream",
     "text": [
      "C:\\Program Files\\Anaconda3\\lib\\site-packages\\ipykernel\\__main__.py:6: SettingWithCopyWarning: \n",
      "A value is trying to be set on a copy of a slice from a DataFrame\n",
      "\n",
      "See the caveats in the documentation: http://pandas.pydata.org/pandas-docs/stable/indexing.html#indexing-view-versus-copy\n",
      "C:\\Program Files\\Anaconda3\\lib\\site-packages\\pandas\\core\\series.py:749: SettingWithCopyWarning: \n",
      "A value is trying to be set on a copy of a slice from a DataFrame\n",
      "\n",
      "See the caveats in the documentation: http://pandas.pydata.org/pandas-docs/stable/indexing.html#indexing-view-versus-copy\n",
      "  self.loc[key] = value\n"
     ]
    },
    {
     "name": "stdout",
     "output_type": "stream",
     "text": [
      "['Crime', 'Drama']\n",
      "1\n",
      "['Crime', 'Drama']\n",
      "2\n",
      "['Action', 'Crime', 'Drama', 'Thriller']\n",
      "3\n",
      "['Crime', 'Drama']\n",
      "4\n",
      "['Biography', 'Drama', 'History']\n",
      "5\n",
      "['Crime', 'Drama']\n",
      "6\n",
      "['Adventure', 'Drama', 'Fantasy']\n",
      "7\n",
      "['Western']\n",
      "8\n",
      "['Drama']\n",
      "9\n",
      "['Adventure', 'Drama', 'Fantasy']\n",
      "10\n",
      "['Action', 'Adventure', 'Fantasy', 'Sci-Fi']\n",
      "11\n",
      "['Comedy', 'Drama']\n",
      "12\n",
      "['Action', 'Adventure', 'Sci-Fi', 'Thriller']\n",
      "13\n",
      "['Adventure', 'Drama', 'Fantasy']\n",
      "14\n",
      "['Drama']\n",
      "15\n",
      "['Biography', 'Crime', 'Drama']\n",
      "16\n",
      "['Action', 'Sci-Fi']\n",
      "17\n",
      "['Adventure', 'Drama']\n",
      "18\n",
      "['Action', 'Adventure', 'Fantasy', 'Sci-Fi']\n",
      "19\n",
      "['Crime', 'Drama']\n",
      "20\n",
      "['Crime', 'Drama', 'Mystery', 'Thriller']\n",
      "21\n",
      "['Comedy', 'Drama', 'Musical', 'Romance']\n",
      "22\n",
      "['Crime', 'Drama', 'Thriller']\n",
      "23\n",
      "['Drama', 'Family', 'Fantasy']\n",
      "24\n",
      "['Crime', 'Drama', 'Mystery', 'Thriller']\n",
      "25\n",
      "['Comedy', 'Drama', 'War']\n",
      "26\n",
      "['Crime', 'Drama', 'Thriller']\n",
      "27\n",
      "['Animation', 'Adventure', 'Family', 'Fantasy', 'Mystery']\n",
      "28\n",
      "['Drama', 'War']\n",
      "29\n",
      "['Western']\n",
      "30\n",
      "['Crime', 'Drama']\n",
      "31\n",
      "['Adventure', 'Drama', 'Sci-Fi']\n",
      "32\n",
      "['Drama', 'Romance', 'War']\n",
      "33\n",
      "['Horror', 'Mystery', 'Thriller']\n",
      "34\n",
      "['Comedy', 'Drama', 'Romance']\n",
      "35\n",
      "['Crime', 'Drama', 'Fantasy', 'Mystery']\n",
      "36\n",
      "['Action', 'Adventure']\n",
      "37\n",
      "['Biography', 'Comedy', 'Drama']\n",
      "38\n",
      "['Comedy', 'Drama', 'Family', 'Romance']\n",
      "39\n",
      "['Mystery', 'Thriller']\n",
      "40\n",
      "['Biography', 'Drama', 'War']\n",
      "41\n",
      "['Crime', 'Drama', 'Thriller']\n",
      "42\n",
      "['Action', 'Sci-Fi']\n",
      "43\n",
      "['Adventure', 'Comedy', 'Sci-Fi']\n",
      "44\n",
      "['Drama', 'Music']\n",
      "45\n",
      "['Action', 'Adventure', 'Drama']\n",
      "46\n",
      "['Mystery', 'Thriller']\n",
      "47\n",
      "['Drama', 'War']\n",
      "48\n",
      "['Drama', 'Mystery', 'Sci-Fi', 'Thriller']\n",
      "49\n",
      "['Animation', 'Adventure', 'Drama', 'Family', 'Musical']\n",
      "50\n",
      "['Horror', 'Sci-Fi']\n",
      "51\n",
      "['Comedy']\n",
      "52\n",
      "['Drama', 'Film-Noir']\n",
      "53\n",
      "['Comedy', 'Drama', 'War']\n",
      "54\n",
      "['Drama', 'Thriller']\n",
      "55\n",
      "['Drama']\n",
      "56\n",
      "['Drama', 'War']\n",
      "57\n",
      "['Animation', 'Drama', 'War']\n",
      "58\n",
      "['Drama', 'Western']\n",
      "59\n",
      "['Drama', 'Horror']\n",
      "60\n",
      "['Animation', 'Adventure', 'Family', 'Sci-Fi']\n",
      "61\n",
      "['Drama', 'Romance']\n",
      "62\n",
      "['Action', 'Thriller']\n",
      "63\n",
      "['Animation', 'Adventure', 'Fantasy']\n",
      "64\n",
      "['Action', 'Adventure', 'Sci-Fi', 'Thriller']\n",
      "65\n",
      "['Drama', 'Mystery', 'Thriller']\n",
      "66\n",
      "['Crime', 'Drama']\n",
      "67\n",
      "['Drama', 'Mystery']\n",
      "68\n",
      "['Adventure', 'Drama', 'Thriller', 'War']\n",
      "69\n",
      "['Crime', 'Drama', 'Mystery', 'Thriller']\n",
      "70\n",
      "['Action', 'Adventure', 'Crime', 'Mystery', 'Thriller']\n",
      "71\n",
      "['Mystery', 'Romance', 'Thriller']\n",
      "72\n",
      "['Action', 'Adventure', 'Fantasy', 'Sci-Fi']\n",
      "73\n",
      "['Crime', 'Drama', 'Thriller']\n",
      "74\n",
      "['Crime', 'Drama', 'Mystery', 'Thriller']\n",
      "75\n",
      "['Biography', 'Drama', 'History', 'War']\n",
      "76\n",
      "['Comedy', 'Romance']\n",
      "77\n",
      "['Drama']\n",
      "78\n",
      "['Crime', 'Drama', 'Sci-Fi']\n",
      "79\n",
      "['Crime', 'Drama']\n",
      "80\n",
      "['Adventure', 'Biography', 'Drama', 'History', 'War']\n",
      "81\n",
      "['Crime', 'Drama', 'Film-Noir', 'Mystery', 'Thriller']\n",
      "82\n",
      "['Drama', 'Family', 'Music']\n",
      "83\n",
      "['Crime', 'Drama']\n",
      "84\n",
      "['Drama', 'Fantasy', 'Romance', 'Sci-Fi']\n",
      "85\n",
      "['Animation', 'Adventure', 'Comedy', 'Family', 'Fantasy']\n",
      "86\n",
      "['Drama']\n",
      "87\n",
      "['Biography', 'Drama', 'History', 'Music']\n",
      "88\n",
      "['Drama', 'War']\n",
      "89\n",
      "['Drama', 'History', 'War']\n",
      "90\n",
      "['Comedy', 'Crime', 'Drama']\n",
      "91\n",
      "['Adventure', 'Mystery', 'Sci-Fi']\n",
      "92\n",
      "['Comedy', 'Musical', 'Romance']\n",
      "93\n",
      "['Drama']\n",
      "94\n",
      "['Animation', 'Adventure', 'Comedy', 'Family', 'Fantasy']\n",
      "95\n",
      "['Biography', 'Drama', 'Sport']\n",
      "96\n",
      "['Comedy', 'Crime']\n",
      "97\n",
      "['Adventure', 'Drama', 'War']\n",
      "98\n",
      "['Comedy', 'Drama', 'Family']\n",
      "99\n",
      "['Adventure', 'Comedy', 'Fantasy']\n",
      "100\n",
      "['Crime', 'Drama', 'Mystery', 'Thriller']\n",
      "101\n",
      "['Comedy', 'Drama']\n",
      "102\n",
      "['Western']\n",
      "103\n",
      "['Crime', 'Drama']\n",
      "104\n",
      "['Crime', 'Drama', 'Mystery']\n",
      "105\n",
      "['Comedy', 'Drama', 'Romance']\n",
      "106\n",
      "['Drama']\n",
      "107\n",
      "['Action', 'Adventure', 'Fantasy']\n",
      "108\n",
      "['Drama']\n",
      "109\n",
      "['Drama', 'Mystery']\n",
      "110\n",
      "['Drama', 'Sci-Fi']\n",
      "111\n",
      "['Action', 'Drama', 'Thriller']\n",
      "112\n",
      "['Drama']\n",
      "113\n",
      "['Action', 'Adventure']\n",
      "114\n",
      "['Animation', 'Adventure', 'Comedy', 'Family']\n",
      "115\n",
      "['Adventure', 'Drama', 'Western']\n",
      "116\n",
      "['Comedy', 'Romance']\n",
      "117\n",
      "['Drama', 'Western']\n",
      "118\n",
      "['Biography', 'Drama', 'History', 'War']\n",
      "119\n",
      "['Biography', 'Drama', 'Sport']\n",
      "120\n",
      "['Film-Noir', 'Mystery', 'Thriller']\n",
      "121\n",
      "['Action', 'Thriller']\n",
      "122\n",
      "['Drama', 'Family']\n",
      "123\n",
      "['Adventure', 'Drama', 'History', 'Thriller', 'War']\n",
      "124\n",
      "['Action', 'Crime', 'Drama', 'Thriller']\n",
      "125\n",
      "['Drama', 'Mystery', 'Thriller']\n",
      "126\n",
      "['Drama', 'Mystery', 'Sci-Fi', 'Thriller']\n",
      "127\n",
      "['Animation', 'Adventure', 'Comedy', 'Drama', 'Family', 'Fantasy']\n",
      "128\n",
      "['Drama', 'Fantasy', 'War']\n",
      "129\n",
      "['Drama']\n",
      "130\n",
      "['Animation', 'Family', 'Fantasy']\n",
      "131\n",
      "['Crime', 'Drama', 'Thriller']\n",
      "132\n",
      "['Drama']\n",
      "133\n",
      "['Action', 'Drama']\n",
      "134\n",
      "['Adventure', 'Comedy', 'Drama', 'Family']\n",
      "135\n",
      "['Drama', 'Mystery', 'Thriller']\n",
      "136\n",
      "['Adventure', 'Drama', 'War']\n",
      "137\n",
      "['Sci-Fi', 'Thriller']\n",
      "138\n",
      "['Comedy', 'Drama']\n",
      "139\n",
      "['Drama', 'Fantasy']\n",
      "140\n",
      "['Animation', 'Adventure', 'Family', 'Fantasy']\n",
      "141\n",
      "['Comedy', 'Crime']\n",
      "142\n",
      "['Crime', 'Drama', 'Thriller']\n",
      "143\n",
      "['Biography', 'Crime', 'Drama']\n",
      "144\n",
      "['Drama', 'War']\n",
      "145\n",
      "['Drama', 'Mystery', 'War']\n",
      "146\n",
      "['Biography', 'Drama']\n",
      "147\n",
      "['Crime', 'Drama', 'Mystery', 'Thriller']\n",
      "148\n",
      "['Action', 'Adventure', 'Comedy', 'Drama', 'War', 'Western']\n",
      "149\n",
      "['Drama', 'Romance']\n",
      "150\n",
      "['Biography', 'Drama']\n",
      "151\n",
      "['Action', 'Drama', 'Sport']\n",
      "152\n",
      "['Action', 'Drama', 'Thriller']\n",
      "153\n",
      "['Biography', 'Comedy', 'Crime', 'Drama']\n",
      "154\n",
      "['Drama', 'Romance']\n",
      "155\n",
      "['Biography', 'Drama', 'History']\n",
      "156\n",
      "['Drama']\n",
      "157\n",
      "['Comedy', 'Drama', 'History', 'Romance']\n",
      "158\n",
      "['Crime', 'Film-Noir', 'Thriller']\n",
      "159\n",
      "['Comedy', 'Crime', 'Mystery']\n",
      "160\n",
      "['Drama']\n",
      "161\n",
      "['Drama']\n",
      "162\n",
      "['Drama', 'War']\n",
      "163\n",
      "['Comedy', 'Family', 'Romance']\n",
      "164\n",
      "['Drama', 'History', 'Romance', 'War']\n",
      "165\n",
      "['Crime', 'Drama', 'Thriller']\n",
      "166\n",
      "['Comedy', 'Crime', 'Thriller']\n",
      "167\n",
      "['Animation', 'Adventure', 'Comedy', 'Family']\n",
      "168\n",
      "['Drama', 'Mystery', 'Thriller']\n",
      "169\n",
      "['Horror', 'Mystery', 'Sci-Fi']\n",
      "170\n",
      "['Crime', 'Drama']\n",
      "171\n",
      "['Drama', 'Mystery', 'Romance', 'Thriller']\n",
      "172\n",
      "['Crime', 'Drama', 'Thriller']\n",
      "173\n",
      "['Comedy', 'Drama', 'Romance']\n",
      "174\n",
      "['Animation', 'Action', 'Adventure', 'Comedy', 'Family', 'Fantasy']\n",
      "175\n",
      "['Action', 'Adventure', 'Comedy', 'Drama', 'Musical', 'Thriller']\n",
      "176\n",
      "['Action', 'Crime', 'Thriller']\n",
      "177\n",
      "['Adventure', 'Biography', 'Drama']\n",
      "178\n",
      "['Animation', 'Comedy', 'Drama']\n",
      "179\n",
      "['Crime', 'Drama', 'Mystery', 'Thriller']\n",
      "180\n",
      "['Drama', 'History']\n",
      "181\n",
      "['Drama', 'War']\n",
      "182\n",
      "['Comedy', 'Romance']\n",
      "183\n",
      "['Comedy']\n",
      "184\n",
      "['Action', 'Biography', 'Drama', 'Sport']\n",
      "185\n",
      "['Drama', 'History', 'War']\n",
      "186\n",
      "['Drama', 'War']\n",
      "187\n",
      "['Mystery', 'Thriller']\n",
      "188\n",
      "['Drama']\n",
      "189\n",
      "['Adventure', 'Drama', 'Thriller']\n",
      "190\n",
      "['Action', 'Adventure', 'Fantasy', 'Sci-Fi']\n",
      "191\n",
      "['Adventure', 'Drama']\n",
      "192\n",
      "['Biography', 'Drama']\n",
      "193\n",
      "['Crime', 'Drama', 'History']\n",
      "194\n",
      "['Comedy', 'Drama', 'Thriller']\n",
      "195\n",
      "['Drama']\n",
      "196\n",
      "['Crime', 'Drama']\n",
      "197\n",
      "['Biography', 'Crime', 'Drama', 'Western']\n",
      "198\n",
      "['Action', 'Adventure', 'Sci-Fi', 'Thriller']\n",
      "199\n",
      "['Crime', 'Film-Noir', 'Mystery']\n",
      "200\n",
      "['Biography', 'Drama', 'History']\n",
      "201\n",
      "['Adventure', 'Drama', 'History']\n",
      "202\n",
      "['Adventure', 'Comedy', 'Drama']\n",
      "203\n",
      "['Drama', 'Sport']\n",
      "204\n",
      "['Drama', 'Thriller']\n",
      "205\n",
      "['Drama', 'Thriller']\n",
      "206\n",
      "['Adventure', 'Sci-Fi', 'Thriller']\n",
      "207\n",
      "['Adventure', 'Family', 'Fantasy', 'Romance']\n",
      "208\n",
      "['Crime', 'Drama', 'Mystery', 'Thriller']\n",
      "209\n",
      "['Drama', 'Family']\n",
      "210\n",
      "['Crime', 'Drama', 'Mystery', 'Thriller']\n",
      "211\n",
      "['Drama', 'Sci-Fi']\n",
      "212\n",
      "['Animation', 'Adventure', 'Fantasy', 'Sci-Fi']\n",
      "213\n",
      "['Comedy', 'Drama', 'Sci-Fi']\n",
      "214\n",
      "['Drama', 'History']\n",
      "215\n",
      "['Drama', 'Romance']\n",
      "216\n",
      "['Crime', 'Drama', 'Film-Noir', 'Thriller']\n",
      "217\n",
      "['Adventure', 'Biography', 'Drama', 'History', 'War']\n",
      "218\n",
      "['Comedy', 'Romance']\n",
      "219\n",
      "['Drama', 'Sport']\n",
      "220\n",
      "['Biography', 'Drama', 'History']\n",
      "221\n",
      "['Adventure', 'Drama', 'Fantasy', 'Mystery']\n",
      "222\n",
      "['Action', 'Mystery', 'Thriller']\n",
      "223\n",
      "['Crime', 'Drama', 'Horror', 'Mystery', 'Thriller']\n",
      "224\n",
      "['Drama', 'Sci-Fi', 'Thriller']\n",
      "225\n",
      "['Animation', 'Adventure', 'Comedy', 'Family', 'Fantasy']\n",
      "226\n",
      "['Drama', 'Fantasy']\n",
      "227\n",
      "['Crime', 'Drama', 'Mystery', 'Thriller']\n",
      "228\n",
      "['Action', 'Sci-Fi']\n",
      "229\n",
      "['Adventure', 'Family', 'Fantasy', 'Musical']\n",
      "230\n",
      "['Comedy', 'Fantasy', 'Romance']\n",
      "231\n",
      "['Animation', 'Adventure', 'Comedy', 'Crime', 'Family', 'Mystery']\n",
      "232\n",
      "['Biography', 'Crime', 'Drama']\n",
      "233\n",
      "['Mystery', 'Sci-Fi', 'Thriller']\n",
      "234\n",
      "['Drama']\n",
      "235\n",
      "['Crime', 'Drama']\n",
      "236\n",
      "['Adventure', 'Drama', 'Thriller']\n",
      "237\n",
      "['Adventure', 'Drama', 'History', 'War']\n",
      "238\n",
      "['Drama', 'Romance', 'War']\n",
      "239\n",
      "['Crime', 'Drama', 'Mystery', 'Thriller']\n",
      "240\n",
      "['Crime', 'Film-Noir', 'Thriller']\n",
      "241\n",
      "['Drama', 'War']\n",
      "242\n",
      "['Action', 'Crime', 'Drama']\n",
      "243\n",
      "['Drama', 'Family', 'Sport']\n",
      "244\n",
      "['Crime', 'Thriller']\n",
      "245\n",
      "['Comedy', 'Crime']\n",
      "246\n",
      "['Drama']\n",
      "247\n",
      "['Biography', 'Drama', 'Thriller', 'War']\n",
      "248\n",
      "['Comedy', 'Drama', 'Romance', 'Sci-Fi']\n",
      "249\n",
      "(250, 4)\n"
     ]
    }
   ],
   "source": [
    "for index, row in top_250.iterrows():\n",
    "    movie = imdb.get_title_by_id(row['tconst'])\n",
    "    print(movie.genres)\n",
    "    print(index)\n",
    "    pd.concat([top_250,pd.DataFrame(columns=['genres'])])\n",
    "    top_250.ix[index]['genres']=movie.genres\n",
    "    #top_250[index,'genres'] = movie.genres\n",
    "    #print(top_250.ix[index]['genres'])\n",
    "    \n",
    "#    top_250.set_value(index, 'genres', movie.genres)\n",
    "#     top_250.iloc[index]['certification'] = movie.certification\n",
    "#     top_250.iloc[index]['runtime'] = movie.runtime\n",
    "#     top_250.iloc[index]['writers_summary'] = movie.writers_summary\n",
    "#     top_250.iloc[index]['directors_summary'] = movie.directors_summary\n",
    "#     top_250.iloc[index]['creators'] = movie.creators\n",
    "#     top_250.iloc[index]['cast_summary'] = movie.cast_summary\n",
    "#     top_250.iloc[index]['credits'] = movie.credits\n",
    "print(top_250.shape)"
   ]
  },
  {
   "cell_type": "markdown",
   "metadata": {},
   "source": [
    "##### Pull selected actor information and add columns to top_actors dataframe"
   ]
  },
  {
   "cell_type": "code",
   "execution_count": 16,
   "metadata": {
    "collapsed": false
   },
   "outputs": [
    {
     "ename": "AttributeError",
     "evalue": "'DataFrame' object has no attribute 'genres'",
     "output_type": "error",
     "traceback": [
      "\u001b[0;31m---------------------------------------------------------------------------\u001b[0m",
      "\u001b[0;31mAttributeError\u001b[0m                            Traceback (most recent call last)",
      "\u001b[0;32m<ipython-input-16-2c08dc15c576>\u001b[0m in \u001b[0;36m<module>\u001b[0;34m()\u001b[0m\n\u001b[0;32m----> 1\u001b[0;31m \u001b[0mtop_250\u001b[0m\u001b[1;33m.\u001b[0m\u001b[0mgenres\u001b[0m\u001b[1;33m\u001b[0m\u001b[0m\n\u001b[0m",
      "\u001b[0;32mC:\\Program Files\\Anaconda3\\lib\\site-packages\\pandas\\core\\generic.py\u001b[0m in \u001b[0;36m__getattr__\u001b[0;34m(self, name)\u001b[0m\n\u001b[1;32m   2670\u001b[0m             \u001b[1;32mif\u001b[0m \u001b[0mname\u001b[0m \u001b[1;32min\u001b[0m \u001b[0mself\u001b[0m\u001b[1;33m.\u001b[0m\u001b[0m_info_axis\u001b[0m\u001b[1;33m:\u001b[0m\u001b[1;33m\u001b[0m\u001b[0m\n\u001b[1;32m   2671\u001b[0m                 \u001b[1;32mreturn\u001b[0m \u001b[0mself\u001b[0m\u001b[1;33m[\u001b[0m\u001b[0mname\u001b[0m\u001b[1;33m]\u001b[0m\u001b[1;33m\u001b[0m\u001b[0m\n\u001b[0;32m-> 2672\u001b[0;31m             \u001b[1;32mreturn\u001b[0m \u001b[0mobject\u001b[0m\u001b[1;33m.\u001b[0m\u001b[0m__getattribute__\u001b[0m\u001b[1;33m(\u001b[0m\u001b[0mself\u001b[0m\u001b[1;33m,\u001b[0m \u001b[0mname\u001b[0m\u001b[1;33m)\u001b[0m\u001b[1;33m\u001b[0m\u001b[0m\n\u001b[0m\u001b[1;32m   2673\u001b[0m \u001b[1;33m\u001b[0m\u001b[0m\n\u001b[1;32m   2674\u001b[0m     \u001b[1;32mdef\u001b[0m \u001b[0m__setattr__\u001b[0m\u001b[1;33m(\u001b[0m\u001b[0mself\u001b[0m\u001b[1;33m,\u001b[0m \u001b[0mname\u001b[0m\u001b[1;33m,\u001b[0m \u001b[0mvalue\u001b[0m\u001b[1;33m)\u001b[0m\u001b[1;33m:\u001b[0m\u001b[1;33m\u001b[0m\u001b[0m\n",
      "\u001b[0;31mAttributeError\u001b[0m: 'DataFrame' object has no attribute 'genres'"
     ]
    }
   ],
   "source": [
    "top_250.genres"
   ]
  },
  {
   "cell_type": "markdown",
   "metadata": {},
   "source": [
    "Join API & scraped data in local Postgres"
   ]
  },
  {
   "cell_type": "code",
   "execution_count": null,
   "metadata": {
    "collapsed": true
   },
   "outputs": [],
   "source": []
  },
  {
   "cell_type": "markdown",
   "metadata": {},
   "source": [
    "Use natural language processing to understand the sentiments of users reviewing the movies"
   ]
  },
  {
   "cell_type": "code",
   "execution_count": null,
   "metadata": {
    "collapsed": true
   },
   "outputs": [],
   "source": []
  },
  {
   "cell_type": "markdown",
   "metadata": {},
   "source": [
    "Mine & refine your data"
   ]
  },
  {
   "cell_type": "code",
   "execution_count": null,
   "metadata": {
    "collapsed": true
   },
   "outputs": [],
   "source": []
  },
  {
   "cell_type": "markdown",
   "metadata": {},
   "source": [
    "Construct bagging and boosting ensemble models"
   ]
  },
  {
   "cell_type": "code",
   "execution_count": null,
   "metadata": {
    "collapsed": true
   },
   "outputs": [],
   "source": []
  },
  {
   "cell_type": "markdown",
   "metadata": {},
   "source": [
    "Construct elastic net models"
   ]
  },
  {
   "cell_type": "code",
   "execution_count": null,
   "metadata": {
    "collapsed": true
   },
   "outputs": [],
   "source": []
  },
  {
   "cell_type": "markdown",
   "metadata": {},
   "source": [
    "Perform gridsearch and validation on models"
   ]
  },
  {
   "cell_type": "code",
   "execution_count": null,
   "metadata": {
    "collapsed": true
   },
   "outputs": [],
   "source": []
  },
  {
   "cell_type": "markdown",
   "metadata": {},
   "source": [
    "Present the results of your findings in a formal report to Netflix, including:\n",
    "  * a problem statement,\n",
    "  * summary statistics of the various factors (year, number of ratings, etc.),\n",
    "  * your random forest model,\n",
    "  * and your recommendations for next steps!"
   ]
  },
  {
   "cell_type": "raw",
   "metadata": {},
   "source": []
  },
  {
   "cell_type": "code",
   "execution_count": null,
   "metadata": {
    "collapsed": false
   },
   "outputs": [],
   "source": []
  },
  {
   "cell_type": "code",
   "execution_count": null,
   "metadata": {
    "collapsed": false
   },
   "outputs": [],
   "source": []
  },
  {
   "cell_type": "code",
   "execution_count": null,
   "metadata": {
    "collapsed": false
   },
   "outputs": [],
   "source": []
  },
  {
   "cell_type": "code",
   "execution_count": null,
   "metadata": {
    "collapsed": true
   },
   "outputs": [],
   "source": []
  }
 ],
 "metadata": {
  "anaconda-cloud": {},
  "kernelspec": {
   "display_name": "Python [default]",
   "language": "python",
   "name": "python3"
  },
  "language_info": {
   "codemirror_mode": {
    "name": "ipython",
    "version": 3
   },
   "file_extension": ".py",
   "mimetype": "text/x-python",
   "name": "python",
   "nbconvert_exporter": "python",
   "pygments_lexer": "ipython3",
   "version": "3.5.2"
  }
 },
 "nbformat": 4,
 "nbformat_minor": 1
}
