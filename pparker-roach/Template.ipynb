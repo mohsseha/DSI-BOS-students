{
 "cells": [
  {
   "cell_type": "markdown",
   "metadata": {},
   "source": [
    "Write a problem statement & describe the goals of your study to be included in the final report\n",
    "Pull the data from the IMDB API\n",
    "Scrape related IMDB data\n",
    "Join API & scraped data in local Postgres\n",
    "Use natural language processing to understand the sentiments of users reviewing the movies\n",
    "Mine & refine your data\n",
    "Construct bagging and boosting ensemble models\n",
    "Construct elastic net models\n",
    "Perform gridsearch and validation on models\n",
    "Present the results of your findings in a formal report to Netflix, including:\n",
    "a problem statement,\n",
    "summary statistics of the various factors (year, number of ratings, etc.),\n",
    "your random forest model,\n",
    "and your recommendations for next steps!"
   ]
  },
  {
   "cell_type": "markdown",
   "metadata": {},
   "source": [
    "# Executive Summary\n"
   ]
  },
  {
   "cell_type": "code",
   "execution_count": null,
   "metadata": {
    "collapsed": false
   },
   "outputs": [],
   "source": []
  },
  {
   "cell_type": "code",
   "execution_count": null,
   "metadata": {
    "collapsed": true
   },
   "outputs": [],
   "source": []
  }
 ],
 "metadata": {
  "anaconda-cloud": {},
  "kernelspec": {
   "display_name": "Python [default]",
   "language": "python",
   "name": "python3"
  },
  "language_info": {
   "codemirror_mode": {
    "name": "ipython",
    "version": 3
   },
   "file_extension": ".py",
   "mimetype": "text/x-python",
   "name": "python",
   "nbconvert_exporter": "python",
   "pygments_lexer": "ipython3",
   "version": "3.5.2"
  }
 },
 "nbformat": 4,
 "nbformat_minor": 1
}
