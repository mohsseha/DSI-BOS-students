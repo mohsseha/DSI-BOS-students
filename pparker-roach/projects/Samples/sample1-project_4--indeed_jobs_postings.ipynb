{
 "cells": [
  {
   "cell_type": "markdown",
   "metadata": {
    "focus": false,
    "id": "69b9a648-bcc7-490d-9f9b-ea244d156bd6"
   },
   "source": [
    "# Web Scraping Indeed.com to Predict Salaries"
   ]
  },
  {
   "cell_type": "markdown",
   "metadata": {},
   "source": [
    "For this project, we used a set of characteristics to predict the salaries for data science jobs in the Boston area. We analyzed search results from Indeed.com, an online jobs board, and highlighted key phrases in each job posting. We also determined if each job's salary is above a threshold value. We used logistic regression to model this data. Machine learning and python experience were the strongest predictors of salary. Scientist, Start-up and PhD were all also positive predictors of salary, while requiring a bachelor's degree was a slightly negative predictor. However the model had poor precision (approximately 64% precision and recall), which may have been caused by variablity in the source salary data.\n",
    "\n",
    "Part I outlines the code used. Part II contains the writeup."
   ]
  },
  {
   "cell_type": "markdown",
   "metadata": {},
   "source": [
    "## Part I: Code"
   ]
  },
  {
   "cell_type": "markdown",
   "metadata": {},
   "source": [
    "#### Import libraries"
   ]
  },
  {
   "cell_type": "code",
   "execution_count": 5,
   "metadata": {
    "collapsed": false
   },
   "outputs": [],
   "source": [
    "# Webscraping\n",
    "from urllib.request import urlopen\n",
    "from bs4 import BeautifulSoup\n",
    "\n",
    "#Data and analysis\n",
    "import numpy as np\n",
    "import pandas as pd\n",
    "import statsmodels.formula.api as sm\n",
    "from sklearn import preprocessing, linear_model, metrics\n",
    "\n",
    "# Plotting\n",
    "import matplotlib.pyplot as plt\n",
    "import seaborn as sns\n",
    "\n",
    "%matplotlib inline\n",
    "params = {'legend.fontsize': 'x-large',\n",
    "          'figure.figsize': (10, 6),\n",
    "         'axes.labelsize': 'x-large',\n",
    "         'axes.titlesize': 20,\n",
    "         'xtick.labelsize':'x-large',\n",
    "         'ytick.labelsize':'x-large'}\n",
    "plt.rcParams.update(params)"
   ]
  },
  {
   "cell_type": "markdown",
   "metadata": {},
   "source": [
    "#### Define webscraping functions"
   ]
  },
  {
   "cell_type": "code",
   "execution_count": 6,
   "metadata": {
    "collapsed": false
   },
   "outputs": [],
   "source": [
    "def count_results(query = None, location = \"Boston\", binary_level = 1):\n",
    "    job_ids = pd.DataFrame()\n",
    "    \n",
    "    result_list = []\n",
    "        \n",
    "    # Find the number of results\n",
    "    URL_for_count = \"http://www.indeed.com/jobs?q=data+scientist+{}&jt=fulltime&l={}\".format(query, location)\n",
    "    soup_for_count = BeautifulSoup(urlopen(URL_for_count).read(), 'html.parser')\n",
    "\n",
    "    results_number = soup_for_count.find(\"div\", attrs = {\"id\": \"searchCount\"}).text\n",
    "    number_of_results = int(results_number.split(sep = ' ')[-1].replace(',', ''))\n",
    "\n",
    "    # Now loop through the pages. Viewing 100 results at a time means fewer page refreshes, which are a bottleneck.\n",
    "    i = int(number_of_results/100)\n",
    "    for page_number in range(i + 1):\n",
    "        URL_for_results = \"http://www.indeed.com/jobs?q=data+scientist+{}&jt=fulltime&l={}&limit=100&start={}\".format(query, location, str(100 * page_number))\n",
    "        soup_for_results = BeautifulSoup(urlopen(URL_for_results).read(), 'html.parser')\n",
    "        results = soup_for_results.find_all('div', attrs={'data-tn-component': 'organicJob'})\n",
    "            \n",
    "        # Extract the ID for each job listing\n",
    "        for x in results:\n",
    "            job_id = x.find('h2', attrs={\"class\": \"jobtitle\"})['id']\n",
    "            job_title = x.find('a', attrs={'data-tn-element': \"jobTitle\"}).text.strip().capitalize()\n",
    "            job_link = \"https://www.indeed.com\" + x.find('h2', attrs={\"class\": \"jobtitle\"}).find('a')['href']\n",
    "            result_list.append([job_id, job_title, job_link, binary_level])\n",
    "        \n",
    "        # Add the job ID numbers\n",
    "        job_ids = job_ids.append(result_list)\n",
    "    \n",
    "    # Remove re-posted jobs\n",
    "    job_ids.drop_duplicates(inplace = True)\n",
    "    return job_ids"
   ]
  },
  {
   "cell_type": "code",
   "execution_count": 7,
   "metadata": {
    "collapsed": false
   },
   "outputs": [],
   "source": [
    "# String format: \"keyword, keyword combination, keyword, ...\"\n",
    "def count_results_by_keywords(query_string = None):\n",
    "    \n",
    "    # Ends the function if given invalid inputs\n",
    "    if query_string == None:\n",
    "        return(print(\"No keyword entered.\"))\n",
    "    \n",
    "    # Format the keyword string in to URL query\n",
    "    query = \"%20OR%20\".join(query_string.split(\", \"))\n",
    "    query = query.replace(' ', '+')\n",
    "\n",
    "    # Perform the search\n",
    "    job_ids = count_results(\"%28{}%29\".format(query))\n",
    "    \n",
    "    # Rename job_ids's columns\n",
    "    job_ids.columns = ['id', 'job title', 'job link', '{}'.format(\" OR \".join(query_string.split(\", \")))]\n",
    "    \n",
    "    return (job_ids)\n",
    "    \n",
    "    \n",
    "def count_results_by_salary(salary_range_divider = None, salary_floor = 20000):\n",
    "    \n",
    "    if salary_range_divider <= salary_floor:\n",
    "        return(print(\"Enter a number larger than ${}.\".format(salary_floor)))\n",
    "        \n",
    "    job_ids = pd.DataFrame()\n",
    "    # Set dividing salaries\n",
    "    divider_strings = [\"+${}-{}\".format(salary_floor, salary_range_divider), \"+${}\".format(salary_range_divider)]\n",
    "    \n",
    "    # Perform two searches, starting with the low-salary jobs\n",
    "    for level, salary_criterion in enumerate(divider_strings):\n",
    "        job_ids = job_ids.append(count_results(salary_criterion, binary_level=level))\n",
    "    \n",
    "    # Rename job_ids's columns\n",
    "    job_ids.columns = ['id', 'job title', 'job link', 'salary over {}'.format(salary_range_divider)]\n",
    "    \n",
    "    return(job_ids)\n",
    "\n",
    "\n",
    "def count_results_by_years_experience(years_experience = None):\n",
    "    \n",
    "    # Ends the function if given invalid inputs\n",
    "    if years_experience == None or type(years_experience) != int:\n",
    "        return(print(\"Enter an integer value.\"))\n",
    "    \n",
    "    # Format the keyword string in to URL query\n",
    "    query = \"{}+years+or+{}%2B+years\".format(str(years_experience), str(years_experience))\n",
    "\n",
    "    # Perform the search\n",
    "    job_ids = count_results(\"%28{}%29\".format(query), binary_level = years_experience)\n",
    "    \n",
    "    # Rename job_ids's columns\n",
    "    job_ids.columns = ['id', 'job title', 'job link', 'years experience']\n",
    "    \n",
    "    return (job_ids)"
   ]
  },
  {
   "cell_type": "markdown",
   "metadata": {},
   "source": [
    "#### Collect data"
   ]
  },
  {
   "cell_type": "markdown",
   "metadata": {},
   "source": [
    "Each dataframe is produced in a separate cell so that keywords can be adjusted or new searches added more quickly."
   ]
  },
  {
   "cell_type": "code",
   "execution_count": 8,
   "metadata": {
    "collapsed": false
   },
   "outputs": [],
   "source": [
    "phd_dataframe = count_results_by_keywords(\"PhD, ph.d\")"
   ]
  },
  {
   "cell_type": "code",
   "execution_count": 9,
   "metadata": {
    "collapsed": false
   },
   "outputs": [],
   "source": [
    "bachelors_dataframe = count_results_by_keywords(\"Bachelors, BS, BA\") # Indeed.com's search includes \"Bachelor's\", \"B.S.\", etc."
   ]
  },
  {
   "cell_type": "code",
   "execution_count": 10,
   "metadata": {
    "collapsed": false
   },
   "outputs": [],
   "source": [
    "python_dataframe = count_results_by_keywords(\"Python\")"
   ]
  },
  {
   "cell_type": "code",
   "execution_count": 11,
   "metadata": {
    "collapsed": false
   },
   "outputs": [],
   "source": [
    "# Use %22 ... %22 to ensure at least one of these keywords are present\n",
    "management_dataframe = count_results_by_keywords(\"%22Manager%22, %22director%22\")\n",
    "\n",
    "# Rename the column to a readable format\n",
    "management_dataframe.columns = ['id', 'job title', 'job link', 'Manager OR director']"
   ]
  },
  {
   "cell_type": "code",
   "execution_count": 12,
   "metadata": {
    "collapsed": false
   },
   "outputs": [],
   "source": [
    "startup_dataframe = count_results_by_keywords(\"Startup, start-up\")"
   ]
  },
  {
   "cell_type": "code",
   "execution_count": 13,
   "metadata": {
    "collapsed": false
   },
   "outputs": [],
   "source": [
    "scientist_dataframe = count_results_by_keywords(\"Scientist\")"
   ]
  },
  {
   "cell_type": "code",
   "execution_count": 14,
   "metadata": {
    "collapsed": false
   },
   "outputs": [],
   "source": [
    "machine_learning_dataframe = count_results_by_keywords(\"Machine learning\")"
   ]
  },
  {
   "cell_type": "code",
   "execution_count": 15,
   "metadata": {
    "collapsed": false
   },
   "outputs": [],
   "source": [
    "lab_dataframe = count_results_by_keywords(\"Lab, laboratory\")"
   ]
  },
  {
   "cell_type": "code",
   "execution_count": 16,
   "metadata": {
    "collapsed": false
   },
   "outputs": [],
   "source": [
    "# Use %22 ... %22 to search for the exact phrase \"Software engineer\"\n",
    "software_engineer_dataframe = count_results_by_keywords(\"%22Software engineer%22\")\n",
    "\n",
    "# Rename the column to a readable format\n",
    "software_engineer_dataframe.columns = ['id', 'job title', 'job link', 'Software engineer']"
   ]
  },
  {
   "cell_type": "code",
   "execution_count": 17,
   "metadata": {
    "collapsed": false
   },
   "outputs": [],
   "source": [
    "experience_results_dataframe = pd.DataFrame()\n",
    "\n",
    "# Scan search results from a range of year requirements\n",
    "for years in range(1+7):\n",
    "    experience_results_dataframe = experience_results_dataframe.append(count_results_by_years_experience(years))\n",
    "    \n",
    "# Some jobs asked for a range of experience; keep the maximum values\n",
    "average_years_experience_dataframe = experience_results_dataframe.groupby(by = 'id', as_index = False).max()\n",
    "experience_dataframe = experience_results_dataframe.drop(labels = 'years experience', axis = 1).merge(average_years_experience_dataframe, on = ['id', 'job title', 'job link']).drop_duplicates(subset = 'id')"
   ]
  },
  {
   "cell_type": "code",
   "execution_count": 18,
   "metadata": {
    "collapsed": false
   },
   "outputs": [],
   "source": [
    "salary_dataframe = count_results_by_salary(90000)"
   ]
  },
  {
   "cell_type": "markdown",
   "metadata": {},
   "source": [
    "#### Combine data"
   ]
  },
  {
   "cell_type": "code",
   "execution_count": 19,
   "metadata": {
    "collapsed": false
   },
   "outputs": [],
   "source": [
    "common_columns = ['id', 'job title', 'job link']\n",
    "master_dataframe = phd_dataframe.merge(bachelors_dataframe, on = common_columns, how = 'outer')\\\n",
    "    .merge(python_dataframe, on = common_columns, how = 'outer')\\\n",
    "    .merge(startup_dataframe, on = common_columns, how = 'outer')\\\n",
    "    .merge(scientist_dataframe, on = common_columns, how = 'outer')\\\n",
    "    .merge(machine_learning_dataframe, on = common_columns, how = 'outer')\\\n",
    "    .merge(lab_dataframe, on = common_columns, how = 'outer')\\\n",
    "    .merge(software_engineer_dataframe, on = common_columns, how = 'outer')\\\n",
    "    .merge(management_dataframe, on = common_columns, how = 'outer')\\\n",
    "    .merge(experience_dataframe, on = common_columns, how = 'outer')\\\n",
    "    .merge(salary_dataframe, on = common_columns, how = 'outer')\n",
    "\n",
    "# Convert non-id columns to integers and fill NaN values\n",
    "data_conversion_mask = (master_dataframe.columns != 'id') & (master_dataframe.columns != 'job title') & (master_dataframe.columns != 'job link')\n",
    "master_dataframe.ix[:, data_conversion_mask] = master_dataframe.ix[:, data_conversion_mask].fillna(value = 0).astype(int)"
   ]
  },
  {
   "cell_type": "code",
   "execution_count": 20,
   "metadata": {
    "collapsed": false,
    "scrolled": true
   },
   "outputs": [
    {
     "data": {
      "text/html": [
       "<div>\n",
       "<table border=\"1\" class=\"dataframe\">\n",
       "  <thead>\n",
       "    <tr style=\"text-align: right;\">\n",
       "      <th></th>\n",
       "      <th>id</th>\n",
       "      <th>job title</th>\n",
       "      <th>job link</th>\n",
       "      <th>PhD OR ph.d</th>\n",
       "      <th>Bachelors OR BS OR BA</th>\n",
       "      <th>Python</th>\n",
       "      <th>Startup OR start-up</th>\n",
       "      <th>Scientist</th>\n",
       "      <th>Machine learning</th>\n",
       "      <th>Lab OR laboratory</th>\n",
       "      <th>Software engineer</th>\n",
       "      <th>Manager OR director</th>\n",
       "      <th>years experience</th>\n",
       "      <th>salary over 90000</th>\n",
       "    </tr>\n",
       "  </thead>\n",
       "  <tbody>\n",
       "    <tr>\n",
       "      <th>0</th>\n",
       "      <td>jl_7896e61d3e45dfb4</td>\n",
       "      <td>Scientist, research and modeling - cyber risk</td>\n",
       "      <td>https://www.indeed.com/rc/clk?jk=7896e61d3e45d...</td>\n",
       "      <td>1</td>\n",
       "      <td>0</td>\n",
       "      <td>0</td>\n",
       "      <td>0</td>\n",
       "      <td>0</td>\n",
       "      <td>0</td>\n",
       "      <td>0</td>\n",
       "      <td>0</td>\n",
       "      <td>0</td>\n",
       "      <td>0</td>\n",
       "      <td>0</td>\n",
       "    </tr>\n",
       "    <tr>\n",
       "      <th>1</th>\n",
       "      <td>jl_a116f7a8d8db626e</td>\n",
       "      <td>Research scientist, muscle</td>\n",
       "      <td>https://www.indeed.com/rc/clk?jk=a116f7a8d8db6...</td>\n",
       "      <td>1</td>\n",
       "      <td>0</td>\n",
       "      <td>0</td>\n",
       "      <td>0</td>\n",
       "      <td>1</td>\n",
       "      <td>0</td>\n",
       "      <td>0</td>\n",
       "      <td>0</td>\n",
       "      <td>0</td>\n",
       "      <td>3</td>\n",
       "      <td>0</td>\n",
       "    </tr>\n",
       "    <tr>\n",
       "      <th>2</th>\n",
       "      <td>jl_89b3b83a5b0fd82c</td>\n",
       "      <td>Cellular analytics scientist</td>\n",
       "      <td>https://www.indeed.com/rc/clk?jk=89b3b83a5b0fd...</td>\n",
       "      <td>1</td>\n",
       "      <td>1</td>\n",
       "      <td>0</td>\n",
       "      <td>0</td>\n",
       "      <td>1</td>\n",
       "      <td>0</td>\n",
       "      <td>1</td>\n",
       "      <td>0</td>\n",
       "      <td>0</td>\n",
       "      <td>6</td>\n",
       "      <td>1</td>\n",
       "    </tr>\n",
       "  </tbody>\n",
       "</table>\n",
       "</div>"
      ],
      "text/plain": [
       "                    id                                      job title  \\\n",
       "0  jl_7896e61d3e45dfb4  Scientist, research and modeling - cyber risk   \n",
       "1  jl_a116f7a8d8db626e                     Research scientist, muscle   \n",
       "2  jl_89b3b83a5b0fd82c                   Cellular analytics scientist   \n",
       "\n",
       "                                            job link  PhD OR ph.d  \\\n",
       "0  https://www.indeed.com/rc/clk?jk=7896e61d3e45d...            1   \n",
       "1  https://www.indeed.com/rc/clk?jk=a116f7a8d8db6...            1   \n",
       "2  https://www.indeed.com/rc/clk?jk=89b3b83a5b0fd...            1   \n",
       "\n",
       "   Bachelors OR BS OR BA  Python  Startup OR start-up  Scientist  \\\n",
       "0                      0       0                    0          0   \n",
       "1                      0       0                    0          1   \n",
       "2                      1       0                    0          1   \n",
       "\n",
       "   Machine learning  Lab OR laboratory  Software engineer  \\\n",
       "0                 0                  0                  0   \n",
       "1                 0                  0                  0   \n",
       "2                 0                  1                  0   \n",
       "\n",
       "   Manager OR director  years experience  salary over 90000  \n",
       "0                    0                 0                  0  \n",
       "1                    0                 3                  0  \n",
       "2                    0                 6                  1  "
      ]
     },
     "execution_count": 20,
     "metadata": {},
     "output_type": "execute_result"
    }
   ],
   "source": [
    "master_dataframe.head(3)"
   ]
  },
  {
   "cell_type": "code",
   "execution_count": 21,
   "metadata": {
    "collapsed": false,
    "scrolled": false
   },
   "outputs": [],
   "source": [
    "# Create a dataframe that keeps only the data features for analysis\n",
    "data_dataframe_mask = (master_dataframe['Lab OR laboratory'] == 0) | (master_dataframe['Software engineer'] == 1)\n",
    "data_dataframe = master_dataframe[data_dataframe_mask].drop(labels = common_columns, axis = 1).drop(labels = ['Lab OR laboratory', 'Software engineer'], axis = 1)\n",
    "#data_dataframe.loc[:, 'years experience'] = sklearn.preprocessing.minmax_scale(data_dataframe['years experience'].astype(float), copy = False)"
   ]
  },
  {
   "cell_type": "markdown",
   "metadata": {},
   "source": [
    "#### Model with statsmodel logistic regression"
   ]
  },
  {
   "cell_type": "code",
   "execution_count": 22,
   "metadata": {
    "collapsed": false
   },
   "outputs": [
    {
     "data": {
      "text/plain": [
       "Index(['PhD_OR_ph_d', 'Bachelors_OR_BS_OR_BA', 'Python', 'Startup_OR_start_up',\n",
       "       'Scientist', 'Machine_learning', 'Manager_OR_director',\n",
       "       'years_experience', 'salary_over_90000'],\n",
       "      dtype='object')"
      ]
     },
     "execution_count": 22,
     "metadata": {},
     "output_type": "execute_result"
    }
   ],
   "source": [
    "sm_model_dataframe = data_dataframe.copy()\n",
    "sm_model_dataframe.columns = sm_model_dataframe.columns.str.replace(' ', '_').str.replace('.', '_').str.replace('-', '_')\n",
    "sm_model_dataframe.columns"
   ]
  },
  {
   "cell_type": "code",
   "execution_count": 23,
   "metadata": {
    "collapsed": false,
    "scrolled": false
   },
   "outputs": [
    {
     "name": "stdout",
     "output_type": "stream",
     "text": [
      "Optimization terminated successfully.\n",
      "         Current function value: 0.601329\n",
      "         Iterations 6\n"
     ]
    },
    {
     "data": {
      "text/html": [
       "<table class=\"simpletable\">\n",
       "<caption>Logit Regression Results</caption>\n",
       "<tr>\n",
       "  <th>Dep. Variable:</th> <td>salary_over_90000</td> <th>  No. Observations:  </th>  <td>   882</td>  \n",
       "</tr>\n",
       "<tr>\n",
       "  <th>Model:</th>               <td>Logit</td>       <th>  Df Residuals:      </th>  <td>   873</td>  \n",
       "</tr>\n",
       "<tr>\n",
       "  <th>Method:</th>               <td>MLE</td>        <th>  Df Model:          </th>  <td>     8</td>  \n",
       "</tr>\n",
       "<tr>\n",
       "  <th>Date:</th>          <td>Tue, 03 Jan 2017</td>  <th>  Pseudo R-squ.:     </th>  <td>0.1199</td>  \n",
       "</tr>\n",
       "<tr>\n",
       "  <th>Time:</th>              <td>08:56:12</td>      <th>  Log-Likelihood:    </th> <td> -530.37</td> \n",
       "</tr>\n",
       "<tr>\n",
       "  <th>converged:</th>           <td>True</td>        <th>  LL-Null:           </th> <td> -602.61</td> \n",
       "</tr>\n",
       "<tr>\n",
       "  <th> </th>                      <td> </td>         <th>  LLR p-value:       </th> <td>2.778e-27</td>\n",
       "</tr>\n",
       "</table>\n",
       "<table class=\"simpletable\">\n",
       "<tr>\n",
       "            <td></td>               <th>coef</th>     <th>std err</th>      <th>z</th>      <th>P>|z|</th> <th>[95.0% Conf. Int.]</th> \n",
       "</tr>\n",
       "<tr>\n",
       "  <th>Intercept</th>             <td>   -0.7152</td> <td>    0.140</td> <td>   -5.106</td> <td> 0.000</td> <td>   -0.990    -0.441</td>\n",
       "</tr>\n",
       "<tr>\n",
       "  <th>PhD_OR_ph_d</th>           <td>   -0.2094</td> <td>    0.176</td> <td>   -1.193</td> <td> 0.233</td> <td>   -0.553     0.135</td>\n",
       "</tr>\n",
       "<tr>\n",
       "  <th>Bachelors_OR_BS_OR_BA</th> <td>   -0.2487</td> <td>    0.191</td> <td>   -1.304</td> <td> 0.192</td> <td>   -0.622     0.125</td>\n",
       "</tr>\n",
       "<tr>\n",
       "  <th>Python</th>                <td>    0.8636</td> <td>    0.211</td> <td>    4.091</td> <td> 0.000</td> <td>    0.450     1.277</td>\n",
       "</tr>\n",
       "<tr>\n",
       "  <th>Startup_OR_start_up</th>   <td>    0.7328</td> <td>    0.267</td> <td>    2.742</td> <td> 0.006</td> <td>    0.209     1.257</td>\n",
       "</tr>\n",
       "<tr>\n",
       "  <th>Scientist</th>             <td>    0.5520</td> <td>    0.197</td> <td>    2.801</td> <td> 0.005</td> <td>    0.166     0.938</td>\n",
       "</tr>\n",
       "<tr>\n",
       "  <th>Machine_learning</th>      <td>    0.9472</td> <td>    0.240</td> <td>    3.951</td> <td> 0.000</td> <td>    0.477     1.417</td>\n",
       "</tr>\n",
       "<tr>\n",
       "  <th>Manager_OR_director</th>   <td>    0.4094</td> <td>    0.198</td> <td>    2.067</td> <td> 0.039</td> <td>    0.021     0.798</td>\n",
       "</tr>\n",
       "<tr>\n",
       "  <th>years_experience</th>      <td>    0.0997</td> <td>    0.035</td> <td>    2.889</td> <td> 0.004</td> <td>    0.032     0.167</td>\n",
       "</tr>\n",
       "</table>"
      ],
      "text/plain": [
       "<class 'statsmodels.iolib.summary.Summary'>\n",
       "\"\"\"\n",
       "                           Logit Regression Results                           \n",
       "==============================================================================\n",
       "Dep. Variable:      salary_over_90000   No. Observations:                  882\n",
       "Model:                          Logit   Df Residuals:                      873\n",
       "Method:                           MLE   Df Model:                            8\n",
       "Date:                Tue, 03 Jan 2017   Pseudo R-squ.:                  0.1199\n",
       "Time:                        08:56:12   Log-Likelihood:                -530.37\n",
       "converged:                       True   LL-Null:                       -602.61\n",
       "                                        LLR p-value:                 2.778e-27\n",
       "=========================================================================================\n",
       "                            coef    std err          z      P>|z|      [95.0% Conf. Int.]\n",
       "-----------------------------------------------------------------------------------------\n",
       "Intercept                -0.7152      0.140     -5.106      0.000        -0.990    -0.441\n",
       "PhD_OR_ph_d              -0.2094      0.176     -1.193      0.233        -0.553     0.135\n",
       "Bachelors_OR_BS_OR_BA    -0.2487      0.191     -1.304      0.192        -0.622     0.125\n",
       "Python                    0.8636      0.211      4.091      0.000         0.450     1.277\n",
       "Startup_OR_start_up       0.7328      0.267      2.742      0.006         0.209     1.257\n",
       "Scientist                 0.5520      0.197      2.801      0.005         0.166     0.938\n",
       "Machine_learning          0.9472      0.240      3.951      0.000         0.477     1.417\n",
       "Manager_OR_director       0.4094      0.198      2.067      0.039         0.021     0.798\n",
       "years_experience          0.0997      0.035      2.889      0.004         0.032     0.167\n",
       "=========================================================================================\n",
       "\"\"\""
      ]
     },
     "execution_count": 23,
     "metadata": {},
     "output_type": "execute_result"
    }
   ],
   "source": [
    "sm_model = sm.logit(\"salary_over_90000 ~ PhD_OR_ph_d + Bachelors_OR_BS_OR_BA + Python + Startup_OR_start_up + Scientist + Machine_learning + Manager_OR_director + years_experience\", data=sm_model_dataframe).fit()\n",
    "sm_model.summary()"
   ]
  },
  {
   "cell_type": "markdown",
   "metadata": {},
   "source": [
    "#### Model with sklearn's logistic regression"
   ]
  },
  {
   "cell_type": "code",
   "execution_count": 24,
   "metadata": {
    "collapsed": false
   },
   "outputs": [],
   "source": [
    "import sklearn\n",
    "X = data_dataframe.drop('salary over 90000', axis = 1)\n",
    "y = data_dataframe['salary over 90000']\n",
    "skl_logreg = sklearn.linear_model.LogisticRegressionCV(cv = 6)\n",
    "skl_model = skl_logreg.fit(X, y)\n",
    "predictions = skl_model.predict(X)\n",
    "\n",
    "model_confusion_matrix = sklearn.metrics.confusion_matrix(y, predictions)"
   ]
  },
  {
   "cell_type": "code",
   "execution_count": 25,
   "metadata": {
    "collapsed": false
   },
   "outputs": [
    {
     "name": "stdout",
     "output_type": "stream",
     "text": [
      "Average cross validation scores: 0.6873842545445767\n",
      "Confusion matrix:\n",
      " [[143 236]\n",
      " [ 78 425]]\n",
      "Model performance: \n",
      "              precision    recall  f1-score   support\n",
      "\n",
      "          0       0.65      0.38      0.48       379\n",
      "          1       0.64      0.84      0.73       503\n",
      "\n",
      "avg / total       0.64      0.64      0.62       882\n",
      "\n",
      "Area under ROC curve for model: 0.6111195623095202\n"
     ]
    }
   ],
   "source": [
    "print(\"Average cross validation scores: {}\".format(sklearn.cross_validation.cross_val_score(skl_logreg, X, y, scoring='roc_auc').mean()))\n",
    "print(\"Confusion matrix:\\n\", model_confusion_matrix)\n",
    "print(\"Model performance: \\n\", sklearn.metrics.classification_report(y, predictions))\n",
    "print(\"Area under ROC curve for model: {}\".format(sklearn.metrics.roc_auc_score(y, predictions)))"
   ]
  },
  {
   "cell_type": "code",
   "execution_count": 26,
   "metadata": {
    "collapsed": false,
    "scrolled": true
   },
   "outputs": [
    {
     "data": {
      "text/html": [
       "<div>\n",
       "<table border=\"1\" class=\"dataframe\">\n",
       "  <thead>\n",
       "    <tr style=\"text-align: right;\">\n",
       "      <th></th>\n",
       "      <th>Probability over threshold</th>\n",
       "      <th>Probability under threshold</th>\n",
       "      <th>salary over 90000</th>\n",
       "    </tr>\n",
       "  </thead>\n",
       "  <tbody>\n",
       "    <tr>\n",
       "      <th>0</th>\n",
       "      <td>0.530673</td>\n",
       "      <td>0.469327</td>\n",
       "      <td>0</td>\n",
       "    </tr>\n",
       "    <tr>\n",
       "      <th>1</th>\n",
       "      <td>0.410054</td>\n",
       "      <td>0.589946</td>\n",
       "      <td>0</td>\n",
       "    </tr>\n",
       "    <tr>\n",
       "      <th>2</th>\n",
       "      <td>0.478266</td>\n",
       "      <td>0.521734</td>\n",
       "      <td>1</td>\n",
       "    </tr>\n",
       "    <tr>\n",
       "      <th>3</th>\n",
       "      <td>0.489134</td>\n",
       "      <td>0.510866</td>\n",
       "      <td>0</td>\n",
       "    </tr>\n",
       "    <tr>\n",
       "      <th>4</th>\n",
       "      <td>0.309352</td>\n",
       "      <td>0.690648</td>\n",
       "      <td>1</td>\n",
       "    </tr>\n",
       "  </tbody>\n",
       "</table>\n",
       "</div>"
      ],
      "text/plain": [
       "   Probability over threshold  Probability under threshold  salary over 90000\n",
       "0                    0.530673                     0.469327                  0\n",
       "1                    0.410054                     0.589946                  0\n",
       "2                    0.478266                     0.521734                  1\n",
       "3                    0.489134                     0.510866                  0\n",
       "4                    0.309352                     0.690648                  1"
      ]
     },
     "execution_count": 26,
     "metadata": {},
     "output_type": "execute_result"
    }
   ],
   "source": [
    "logreg_probabilites_dataframe = pd.DataFrame(skl_logreg.predict_proba(X), columns = [\"Probability over threshold\", \"Probability under threshold\"])\n",
    "model_vs_data_dataframe = pd.concat(objs = [logreg_probabilites_dataframe, master_dataframe[['salary over 90000']]],axis=1)\n",
    "model_vs_data_dataframe.head()"
   ]
  },
  {
   "cell_type": "code",
   "execution_count": 27,
   "metadata": {
    "collapsed": false
   },
   "outputs": [],
   "source": [
    "skl_logreg_model_coefficients = pd.DataFrame(data = skl_model.coef_, index = ['coefficient'], columns = data_dataframe.drop(labels = 'salary over 90000', axis = 1).columns).T"
   ]
  },
  {
   "cell_type": "markdown",
   "metadata": {},
   "source": [
    "<br></br>\n",
    "<br></br>\n",
    "# Part II: Report"
   ]
  },
  {
   "cell_type": "markdown",
   "metadata": {},
   "source": [
    "Since each company has different data science needs, we expected each job posting's requirements to vary by a large range. We therefore decided to focus our analysis on a few key pieces of information in each job posting, specifically:\n",
    "\n",
    "* If the job required a PhD or a bachelor's degree\n",
    "* If the job asked for experience with Python\n",
    "* If the company was likely to be a start-up\n",
    "* If the job specifically used \"scientist\", as a proxy for expectations of technical knowledge\n",
    "* If the job description mentioned machine learning\n",
    "* If the job function includes managing or directing responsibilites\n",
    "* The mean number of years of experience required\n",
    "\n",
    "Our goal is to predict which jobs will have a salary exceeding $90,000 based on these features. This value was chosen to represent the mean salary of our data, as is shown below. While we'd prefer to predict the salary more exactly, job salaries typically vary according to a number of factors (location, responsibilites, company policies, etc.) which means computing a salary range may be more useful."
   ]
  },
  {
   "cell_type": "code",
   "execution_count": 28,
   "metadata": {
    "collapsed": false
   },
   "outputs": [
    {
     "name": "stdout",
     "output_type": "stream",
     "text": [
      "Ratio of jobs over salary threshold to under salary threshold: 0.57\n"
     ]
    }
   ],
   "source": [
    "print(\"Ratio of jobs over salary threshold to under salary threshold: {}\".format(round(data_dataframe['salary over 90000'].describe()['mean'],3)))"
   ]
  },
  {
   "cell_type": "code",
   "execution_count": 29,
   "metadata": {
    "collapsed": false
   },
   "outputs": [
    {
     "data": {
      "image/png": "[encoded data removed]",
      "text/plain": [
       "<matplotlib.figure.Figure at 0x11b4b54a8>"
      ]
     },
     "metadata": {},
     "output_type": "display_data"
    }
   ],
   "source": [
    "sns.countplot(data = data_dataframe, x = 'salary over 90000')\n",
    "plt.title(\"Number of Jobs Under and Over Salary Threshold\")\n",
    "sns.plt.show()"
   ]
  },
  {
   "cell_type": "markdown",
   "metadata": {},
   "source": [
    "### Procedure: Scraping Job Listings From Indeed.com"
   ]
  },
  {
   "cell_type": "markdown",
   "metadata": {},
   "source": [
    "By a rough estimation, only a fraction of jobs posts explicitly included more that one of these features. Rather than follow the hyperlink for each post and scanning each page, which would likely have formatting particular to each company, we reasoned that we could leverage Indeed.com's search to obtain information we could not readily access. \n",
    "\n",
    "Each job posting on Indeed.com has a unique ID. (When capturing the data, we noticed approximately 20% had duplicated IDs. We determined by inspection that these were reposted jobs, and therefore reasonably removed these data points.) For this reason could we employ a strategy where we changed the search query and kept track of which jobs were among the results, perform multiple keyword searches, and merge the resulting data on the for each ID. For example, the following are the first few jobs that required a PhD and mentioned 3 years of experience:"
   ]
  },
  {
   "cell_type": "code",
   "execution_count": 30,
   "metadata": {
    "collapsed": false
   },
   "outputs": [
    {
     "data": {
      "text/html": [
       "<div>\n",
       "<table border=\"1\" class=\"dataframe\">\n",
       "  <thead>\n",
       "    <tr style=\"text-align: right;\">\n",
       "      <th></th>\n",
       "      <th>job title</th>\n",
       "      <th>PhD OR ph.d</th>\n",
       "      <th>years experience</th>\n",
       "    </tr>\n",
       "  </thead>\n",
       "  <tbody>\n",
       "    <tr>\n",
       "      <th>1</th>\n",
       "      <td>Research scientist, muscle</td>\n",
       "      <td>1</td>\n",
       "      <td>3</td>\n",
       "    </tr>\n",
       "    <tr>\n",
       "      <th>9</th>\n",
       "      <td>Phd research scientist- machine learning</td>\n",
       "      <td>1</td>\n",
       "      <td>3</td>\n",
       "    </tr>\n",
       "    <tr>\n",
       "      <th>19</th>\n",
       "      <td>Mass spectrometry data analyst, usa-boston</td>\n",
       "      <td>1</td>\n",
       "      <td>3</td>\n",
       "    </tr>\n",
       "    <tr>\n",
       "      <th>23</th>\n",
       "      <td>Senior analyst / water resources</td>\n",
       "      <td>1</td>\n",
       "      <td>3</td>\n",
       "    </tr>\n",
       "    <tr>\n",
       "      <th>30</th>\n",
       "      <td>Staff scientist, translational biology &amp; bioma...</td>\n",
       "      <td>1</td>\n",
       "      <td>3</td>\n",
       "    </tr>\n",
       "  </tbody>\n",
       "</table>\n",
       "</div>"
      ],
      "text/plain": [
       "                                            job title  PhD OR ph.d  \\\n",
       "1                          Research scientist, muscle            1   \n",
       "9            Phd research scientist- machine learning            1   \n",
       "19         Mass spectrometry data analyst, usa-boston            1   \n",
       "23                   Senior analyst / water resources            1   \n",
       "30  Staff scientist, translational biology & bioma...            1   \n",
       "\n",
       "    years experience  \n",
       "1                  3  \n",
       "9                  3  \n",
       "19                 3  \n",
       "23                 3  \n",
       "30                 3  "
      ]
     },
     "execution_count": 30,
     "metadata": {},
     "output_type": "execute_result"
    }
   ],
   "source": [
    "master_dataframe[(master_dataframe['PhD OR ph.d'] == 1) & (master_dataframe['years experience'] == 3)][['job title', 'PhD OR ph.d', 'years experience']].head()"
   ]
  },
  {
   "cell_type": "markdown",
   "metadata": {},
   "source": [
    "This method of analysis is much simpler than the most obvious alternative strategy --- following each job posting on Indeed.com to its description on an external website and performing a keyword search --- but the method relied on Indeed.com's search algorithm, which introduced complications:\n",
    "\n",
    "Indeed.com's support documentation stated that only about 20% of the job postings in a search result include salary information. The search results deliver this information if available; otherwise, the salaries are estimated from past job postings and user-provided data.\n",
    "\n",
    "The webscraping provided a significant number of results that contained keywords like \"data\" and \"science\" but may be unrelated to data science. For example:"
   ]
  },
  {
   "cell_type": "code",
   "execution_count": 31,
   "metadata": {
    "collapsed": false
   },
   "outputs": [
    {
     "data": {
      "text/plain": [
       "2                         Cellular analytics scientist\n",
       "3    Scientist, cancer cell dependencies, oncology ...\n",
       "4                           Product research scientist\n",
       "6                            Biomedical data scientist\n",
       "7      Research scientist / 40 / day / bwh - neurology\n",
       "Name: job title, dtype: object"
      ]
     },
     "execution_count": 31,
     "metadata": {},
     "output_type": "execute_result"
    }
   ],
   "source": [
    "master_dataframe[master_dataframe['Lab OR laboratory'] == 1]['job title'].head()"
   ]
  },
  {
   "cell_type": "markdown",
   "metadata": {},
   "source": [
    "An inspection of a sampling of the potentially unrelated jobs suggested that job postings that refered to a laboratory were more likely to focus on biology or related sciences. Similarly, job postings with titles that included \"software engineer\" were less likely to relate to data science. These keywords were used to filter these jobs from the data."
   ]
  },
  {
   "cell_type": "markdown",
   "metadata": {},
   "source": [
    "### Results and Analysis"
   ]
  },
  {
   "cell_type": "markdown",
   "metadata": {},
   "source": [
    "<u>The results may not be current since they are drawn from live webpages.</u>\n",
    "\n",
    "We analyzed postings for 1361 jobs. We removed 392 observations from the data, a 40.5% reduction, leaving 969 observations. \"Scientist\" was by far the most common keyword, occuring in approximately 75% of observations, followed by PhD, \"laboratory\", and bachelor's degree (36%, 29% and 28%, respectively)."
   ]
  },
  {
   "cell_type": "code",
   "execution_count": 32,
   "metadata": {
    "collapsed": false
   },
   "outputs": [
    {
     "name": "stdout",
     "output_type": "stream",
     "text": [
      "Jobs analyzed: 1258\n",
      "Job postings removed: 376 (-42.6% change)\n",
      "Remaining postings: 882\n",
      "\n",
      "Keywords\t\tFrequency\n",
      "years experience         1.976948\n",
      "Scientist                0.780604\n",
      "PhD OR ph.d              0.375994\n",
      "Lab OR laboratory        0.303657\n",
      "Bachelors OR BS OR BA    0.262321\n",
      "Python                   0.237679\n",
      "Manager OR director      0.182035\n",
      "Machine learning         0.181240\n",
      "Startup OR start-up      0.099364\n",
      "Software engineer        0.054054\n",
      "Name: mean, dtype: float64\n"
     ]
    }
   ],
   "source": [
    "print(\"Jobs analyzed: {}\\nJob postings removed: {} ({}% change)\\nRemaining postings: {}\".format(master_dataframe.shape[0], master_dataframe.shape[0] - data_dataframe.shape[0], round(100 * (1 - master_dataframe.shape[0] / data_dataframe.shape[0]),1), data_dataframe.shape[0]))\n",
    "print(\"\\nKeywords\\t\\tFrequency\\n{}\".format(master_dataframe.drop('salary over 90000', axis = 1).describe().loc['mean'].sort_values(ascending = False)))"
   ]
  },
  {
   "cell_type": "markdown",
   "metadata": {},
   "source": [
    "Of the keywords examined, Machine learning and Python were the strongest predictors of a job's salary, while having only a bachelor's degree was slightly negatively correlated with job salary."
   ]
  },
  {
   "cell_type": "code",
   "execution_count": 33,
   "metadata": {
    "collapsed": false
   },
   "outputs": [
    {
     "data": {
      "text/html": [
       "<div>\n",
       "<table border=\"1\" class=\"dataframe\">\n",
       "  <thead>\n",
       "    <tr style=\"text-align: right;\">\n",
       "      <th></th>\n",
       "      <th>coefficient</th>\n",
       "    </tr>\n",
       "  </thead>\n",
       "  <tbody>\n",
       "    <tr>\n",
       "      <th>Python</th>\n",
       "      <td>0.229670</td>\n",
       "    </tr>\n",
       "    <tr>\n",
       "      <th>Machine learning</th>\n",
       "      <td>0.209742</td>\n",
       "    </tr>\n",
       "    <tr>\n",
       "      <th>Scientist</th>\n",
       "      <td>0.166314</td>\n",
       "    </tr>\n",
       "    <tr>\n",
       "      <th>years experience</th>\n",
       "      <td>0.106757</td>\n",
       "    </tr>\n",
       "    <tr>\n",
       "      <th>Startup OR start-up</th>\n",
       "      <td>0.102273</td>\n",
       "    </tr>\n",
       "    <tr>\n",
       "      <th>Manager OR director</th>\n",
       "      <td>0.043520</td>\n",
       "    </tr>\n",
       "    <tr>\n",
       "      <th>PhD OR ph.d</th>\n",
       "      <td>0.038367</td>\n",
       "    </tr>\n",
       "    <tr>\n",
       "      <th>Bachelors OR BS OR BA</th>\n",
       "      <td>-0.019472</td>\n",
       "    </tr>\n",
       "  </tbody>\n",
       "</table>\n",
       "</div>"
      ],
      "text/plain": [
       "                       coefficient\n",
       "Python                    0.229670\n",
       "Machine learning          0.209742\n",
       "Scientist                 0.166314\n",
       "years experience          0.106757\n",
       "Startup OR start-up       0.102273\n",
       "Manager OR director       0.043520\n",
       "PhD OR ph.d               0.038367\n",
       "Bachelors OR BS OR BA    -0.019472"
      ]
     },
     "execution_count": 33,
     "metadata": {},
     "output_type": "execute_result"
    }
   ],
   "source": [
    "skl_logreg_model_coefficients.sort_values(by = 'coefficient', ascending = False)"
   ]
  },
  {
   "cell_type": "code",
   "execution_count": 34,
   "metadata": {
    "collapsed": false
   },
   "outputs": [
    {
     "data": {
      "image/png": "[encoded data removed]",
      "text/plain": [
       "<matplotlib.figure.Figure at 0x11908c710>"
      ]
     },
     "metadata": {},
     "output_type": "display_data"
    }
   ],
   "source": [
    "plt.figure(figsize=(10,6))\n",
    "sns.barplot(data = skl_logreg_model_coefficients.sort_values(by = 'coefficient', ascending = False).T, orient='h')\n",
    "plt.title(\"Influence of Features on Predicting Job Salary\")\n",
    "sns.plt.show()"
   ]
  },
  {
   "cell_type": "markdown",
   "metadata": {
    "collapsed": true
   },
   "source": [
    "## Conclusion"
   ]
  },
  {
   "cell_type": "markdown",
   "metadata": {},
   "source": [
    "The model's precision was likely impinged from the variability in Indeed.com's salary estimates. If given more time, one could measure this variability by comparing job postings where the salary is explicitly stated to those with estimated salaries."
   ]
  }
 ],
 "metadata": {
  "anaconda-cloud": {},
  "kernelspec": {
   "display_name": "Python [Root]",
   "language": "python",
   "name": "Python [Root]"
  },
  "language_info": {
   "codemirror_mode": {
    "name": "ipython",
    "version": 3
   },
   "file_extension": ".py",
   "mimetype": "text/x-python",
   "name": "python",
   "nbconvert_exporter": "python",
   "pygments_lexer": "ipython3",
   "version": "3.5.2"
  }
 },
 "nbformat": 4,
 "nbformat_minor": 0
}
