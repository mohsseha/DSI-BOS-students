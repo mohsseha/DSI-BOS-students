{
 "cells": [
  {
   "cell_type": "markdown",
   "metadata": {},
   "source": [
    "# Project 1\n",
    "\n",
    "## Step 1: Open the `sat_scores.csv` file. Investigate the data, and answer the questions below.\n"
   ]
  },
  {
   "cell_type": "markdown",
   "metadata": {},
   "source": [
    "##### 1. What does the data describe?"
   ]
  },
  {
   "cell_type": "markdown",
   "metadata": {},
   "source": [
    "It appears that this data set presents the average SAT scores and participation rate in each of the US 50 States. My assumption is that the data is a one year snapshot, but the exact year is not given."
   ]
  },
  {
   "cell_type": "markdown",
   "metadata": {},
   "source": [
    "##### 2. Does the data look complete? Are there any obvious issues with the observations?"
   ]
  },
  {
   "cell_type": "markdown",
   "metadata": {},
   "source": [
    "The data supplied is fully populated for the 50 US States, plus the District of Columbis. Puerto Rico is not represented in the data."
   ]
  },
  {
   "cell_type": "markdown",
   "metadata": {},
   "source": [
    "##### 3. Create a data dictionary for the dataset."
   ]
  },
  {
   "cell_type": "code",
   "execution_count": 41,
   "metadata": {
    "collapsed": true
   },
   "outputs": [],
   "source": [
    "sat_data = []"
   ]
  },
  {
   "cell_type": "markdown",
   "metadata": {},
   "source": [
    "## Step 2: Load the data."
   ]
  },
  {
   "cell_type": "markdown",
   "metadata": {},
   "source": [
    "##### 4. Load the data into a list of lists"
   ]
  },
  {
   "cell_type": "code",
   "execution_count": 42,
   "metadata": {
    "collapsed": false
   },
   "outputs": [
    {
     "data": {
      "text/plain": [
       "53"
      ]
     },
     "execution_count": 42,
     "metadata": {},
     "output_type": "execute_result"
    }
   ],
   "source": [
    "import csv\n",
    "\n",
    "data= []\n",
    "with open('../../data_sources/sat_scores.csv') as file:\n",
    "    reader = csv.reader(file)\n",
    "    for row in reader:\n",
    "        data.append(row)\n",
    "len(data)"
   ]
  },
  {
   "cell_type": "markdown",
   "metadata": {},
   "source": [
    "##### 5. Print the data"
   ]
  },
  {
   "cell_type": "code",
   "execution_count": 43,
   "metadata": {
    "collapsed": false
   },
   "outputs": [
    {
     "name": "stdout",
     "output_type": "stream",
     "text": [
      "[['State', 'Rate', 'Verbal', 'Math'], ['CT', '82', '509', '510'], ['NJ', '81', '499', '513'], ['MA', '79', '511', '515'], ['NY', '77', '495', '505'], ['NH', '72', '520', '516'], ['RI', '71', '501', '499'], ['PA', '71', '500', '499'], ['VT', '69', '511', '506'], ['ME', '69', '506', '500'], ['VA', '68', '510', '501'], ['DE', '67', '501', '499'], ['MD', '65', '508', '510'], ['NC', '65', '493', '499'], ['GA', '63', '491', '489'], ['IN', '60', '499', '501'], ['SC', '57', '486', '488'], ['DC', '56', '482', '474'], ['OR', '55', '526', '526'], ['FL', '54', '498', '499'], ['WA', '53', '527', '527'], ['TX', '53', '493', '499'], ['HI', '52', '485', '515'], ['AK', '51', '514', '510'], ['CA', '51', '498', '517'], ['AZ', '34', '523', '525'], ['NV', '33', '509', '515'], ['CO', '31', '539', '542'], ['OH', '26', '534', '439'], ['MT', '23', '539', '539'], ['WV', '18', '527', '512'], ['ID', '17', '543', '542'], ['TN', '13', '562', '553'], ['NM', '13', '551', '542'], ['IL', '12', '576', '589'], ['KY', '12', '550', '550'], ['WY', '11', '547', '545'], ['MI', '11', '561', '572'], ['MN', '9', '580', '589'], ['KS', '9', '577', '580'], ['AL', '9', '559', '554'], ['NE', '8', '562', '568'], ['OK', '8', '567', '561'], ['MO', '8', '577', '577'], ['LA', '7', '564', '562'], ['WI', '6', '584', '596'], ['AR', '6', '562', '550'], ['UT', '5', '575', '570'], ['IA', '5', '593', '603'], ['SD', '4', '577', '582'], ['ND', '4', '592', '599'], ['MS', '4', '566', '551'], ['All', '45', '506', '514']]\n"
     ]
    }
   ],
   "source": [
    "print(data)"
   ]
  },
  {
   "cell_type": "markdown",
   "metadata": {
    "collapsed": true
   },
   "source": [
    "##### 6. Extract a list of the labels from the data, and remove them from the data."
   ]
  },
  {
   "cell_type": "code",
   "execution_count": 44,
   "metadata": {
    "collapsed": false
   },
   "outputs": [],
   "source": [
    "labels = data[0]\n",
    "\n",
    "del data[0]\n",
    "del data[len(data)-1]\n"
   ]
  },
  {
   "cell_type": "markdown",
   "metadata": {},
   "source": [
    "##### 7. Create a list of State names extracted from the data. (Hint: use the list of labels to index on the State column)"
   ]
  },
  {
   "cell_type": "code",
   "execution_count": 45,
   "metadata": {
    "collapsed": false
   },
   "outputs": [
    {
     "name": "stdout",
     "output_type": "stream",
     "text": [
      "51\n"
     ]
    }
   ],
   "source": [
    "state_names = []\n",
    "for row in data:\n",
    "    state_names.append((row[0]))\n",
    "print(len(state_names))\n"
   ]
  },
  {
   "cell_type": "markdown",
   "metadata": {},
   "source": [
    "##### 8. Print the types of each column"
   ]
  },
  {
   "cell_type": "code",
   "execution_count": 46,
   "metadata": {
    "collapsed": false
   },
   "outputs": [
    {
     "data": {
      "text/plain": [
       "[str, str, str, str]"
      ]
     },
     "execution_count": 46,
     "metadata": {},
     "output_type": "execute_result"
    }
   ],
   "source": [
    "[type(element) for element in data[0]]"
   ]
  },
  {
   "cell_type": "markdown",
   "metadata": {},
   "source": [
    "##### 9. Do any types need to be reassigned? If so, go ahead and do it."
   ]
  },
  {
   "cell_type": "code",
   "execution_count": 47,
   "metadata": {
    "collapsed": false
   },
   "outputs": [],
   "source": [
    "#for row in data:\n",
    "#row[0].astype('float')\n",
    "    #print(row)\n",
    "state_vals = {}    \n",
    "for row in data:\n",
    "    for col in [1,2,3]:\n",
    "        row[col] = float(row[col])\n",
    "\n"
   ]
  },
  {
   "cell_type": "markdown",
   "metadata": {},
   "source": [
    "##### 10. Create a dictionary for each column mapping the State to its respective value for that column. "
   ]
  },
  {
   "cell_type": "code",
   "execution_count": 48,
   "metadata": {
    "collapsed": false
   },
   "outputs": [
    {
     "data": {
      "text/plain": [
       "{'math': [510.0,\n",
       "  513.0,\n",
       "  515.0,\n",
       "  505.0,\n",
       "  516.0,\n",
       "  499.0,\n",
       "  499.0,\n",
       "  506.0,\n",
       "  500.0,\n",
       "  501.0,\n",
       "  499.0,\n",
       "  510.0,\n",
       "  499.0,\n",
       "  489.0,\n",
       "  501.0,\n",
       "  488.0,\n",
       "  474.0,\n",
       "  526.0,\n",
       "  499.0,\n",
       "  527.0,\n",
       "  499.0,\n",
       "  515.0,\n",
       "  510.0,\n",
       "  517.0,\n",
       "  525.0,\n",
       "  515.0,\n",
       "  542.0,\n",
       "  439.0,\n",
       "  539.0,\n",
       "  512.0,\n",
       "  542.0,\n",
       "  553.0,\n",
       "  542.0,\n",
       "  589.0,\n",
       "  550.0,\n",
       "  545.0,\n",
       "  572.0,\n",
       "  589.0,\n",
       "  580.0,\n",
       "  554.0,\n",
       "  568.0,\n",
       "  561.0,\n",
       "  577.0,\n",
       "  562.0,\n",
       "  596.0,\n",
       "  550.0,\n",
       "  570.0,\n",
       "  603.0,\n",
       "  582.0,\n",
       "  599.0,\n",
       "  551.0],\n",
       " 'rate': [82.0,\n",
       "  81.0,\n",
       "  79.0,\n",
       "  77.0,\n",
       "  72.0,\n",
       "  71.0,\n",
       "  71.0,\n",
       "  69.0,\n",
       "  69.0,\n",
       "  68.0,\n",
       "  67.0,\n",
       "  65.0,\n",
       "  65.0,\n",
       "  63.0,\n",
       "  60.0,\n",
       "  57.0,\n",
       "  56.0,\n",
       "  55.0,\n",
       "  54.0,\n",
       "  53.0,\n",
       "  53.0,\n",
       "  52.0,\n",
       "  51.0,\n",
       "  51.0,\n",
       "  34.0,\n",
       "  33.0,\n",
       "  31.0,\n",
       "  26.0,\n",
       "  23.0,\n",
       "  18.0,\n",
       "  17.0,\n",
       "  13.0,\n",
       "  13.0,\n",
       "  12.0,\n",
       "  12.0,\n",
       "  11.0,\n",
       "  11.0,\n",
       "  9.0,\n",
       "  9.0,\n",
       "  9.0,\n",
       "  8.0,\n",
       "  8.0,\n",
       "  8.0,\n",
       "  7.0,\n",
       "  6.0,\n",
       "  6.0,\n",
       "  5.0,\n",
       "  5.0,\n",
       "  4.0,\n",
       "  4.0,\n",
       "  4.0],\n",
       " 'verbal': [509.0,\n",
       "  499.0,\n",
       "  511.0,\n",
       "  495.0,\n",
       "  520.0,\n",
       "  501.0,\n",
       "  500.0,\n",
       "  511.0,\n",
       "  506.0,\n",
       "  510.0,\n",
       "  501.0,\n",
       "  508.0,\n",
       "  493.0,\n",
       "  491.0,\n",
       "  499.0,\n",
       "  486.0,\n",
       "  482.0,\n",
       "  526.0,\n",
       "  498.0,\n",
       "  527.0,\n",
       "  493.0,\n",
       "  485.0,\n",
       "  514.0,\n",
       "  498.0,\n",
       "  523.0,\n",
       "  509.0,\n",
       "  539.0,\n",
       "  534.0,\n",
       "  539.0,\n",
       "  527.0,\n",
       "  543.0,\n",
       "  562.0,\n",
       "  551.0,\n",
       "  576.0,\n",
       "  550.0,\n",
       "  547.0,\n",
       "  561.0,\n",
       "  580.0,\n",
       "  577.0,\n",
       "  559.0,\n",
       "  562.0,\n",
       "  567.0,\n",
       "  577.0,\n",
       "  564.0,\n",
       "  584.0,\n",
       "  562.0,\n",
       "  575.0,\n",
       "  593.0,\n",
       "  577.0,\n",
       "  592.0,\n",
       "  566.0]}"
      ]
     },
     "execution_count": 48,
     "metadata": {},
     "output_type": "execute_result"
    }
   ],
   "source": [
    "\n",
    "state_rate = {}\n",
    "state_verbal = {}\n",
    "state_math = {}\n",
    "state_all_stats ={}\n",
    "\n",
    "\n",
    "state_all_stats = {'rate': [row[1] for row in data],\n",
    "             'verbal': [row[2] for row in data],\n",
    "             'math': [row[3] for row in data]\n",
    "            }\n",
    "\n",
    "    \n",
    "state_all_stats\n",
    "\n",
    "\n",
    "\n"
   ]
  },
  {
   "cell_type": "markdown",
   "metadata": {},
   "source": [
    "##### 11. Create a dictionary with the values for each of the numeric columns"
   ]
  },
  {
   "cell_type": "code",
   "execution_count": null,
   "metadata": {
    "collapsed": false
   },
   "outputs": [],
   "source": []
  },
  {
   "cell_type": "markdown",
   "metadata": {},
   "source": [
    "## Step 3: Describe the data"
   ]
  },
  {
   "cell_type": "markdown",
   "metadata": {},
   "source": [
    "##### 12. Print the min and max of each column"
   ]
  },
  {
   "cell_type": "code",
   "execution_count": 49,
   "metadata": {
    "collapsed": false
   },
   "outputs": [
    {
     "name": "stdout",
     "output_type": "stream",
     "text": [
      "Minimum Rate:  4.0\n",
      "Maximum Rate:  82.0\n",
      "Minimum Verbal:  482.0\n",
      "Maximum Verbal:  593.0\n",
      "Minimum Math:  439.0\n",
      "Maximum Math:  603.0\n"
     ]
    }
   ],
   "source": [
    "print(\"Minimum Rate: \",min(state_all_stats['rate']))\n",
    "print(\"Maximum Rate: \",max(state_all_stats['rate']))\n",
    "print(\"Minimum Verbal: \",min(state_all_stats['verbal']))\n",
    "print(\"Maximum Verbal: \",max(state_all_stats['verbal']))\n",
    "print(\"Minimum Math: \",min(state_all_stats['math']))\n",
    "print(\"Maximum Math: \",max(state_all_stats['math']))"
   ]
  },
  {
   "cell_type": "markdown",
   "metadata": {},
   "source": [
    "##### 13. Write a function using only list comprehensions, no loops, to compute Standard Deviation. Print the Standard Deviation of each numeric column."
   ]
  },
  {
   "cell_type": "code",
   "execution_count": 50,
   "metadata": {
    "collapsed": false
   },
   "outputs": [
    {
     "name": "stdout",
     "output_type": "stream",
     "text": [
      "Standard Deviation for Rates is  27.2792386761\n",
      "Standard Deviation for Verbal is  33.0319826842\n",
      "Standard Deviation for Math is  35.9298731731\n"
     ]
    }
   ],
   "source": [
    "def std_dev(col):\n",
    "    mean = sum(col) / len(col)\n",
    "    variances = [val - mean for val in col]\n",
    "    sqr = [diff ** 2 for diff in variances]\n",
    "    variance_figure = sum(sqr) / (len(col))\n",
    "    stnd_dev = variance_figure ** 0.5\n",
    "    return stnd_dev\n",
    "\n",
    "print(\"Standard Deviation for Rates is \",std_dev(state_all_stats['rate']))\n",
    "print(\"Standard Deviation for Verbal is \",std_dev(state_all_stats['verbal']))\n",
    "print(\"Standard Deviation for Math is \",std_dev(state_all_stats['math']))\n"
   ]
  },
  {
   "cell_type": "markdown",
   "metadata": {},
   "source": [
    "## Step 4: Visualize the data"
   ]
  },
  {
   "cell_type": "markdown",
   "metadata": {
    "collapsed": true
   },
   "source": [
    "##### 14. Using MatPlotLib and PyPlot, plot the distribution of the Rate using histograms."
   ]
  },
  {
   "cell_type": "code",
   "execution_count": 63,
   "metadata": {
    "collapsed": false
   },
   "outputs": [
    {
     "data": {
      "image/png": "[encoded data removed]",
      "text/plain": [
       "<matplotlib.figure.Figure at 0x26eca35b9b0>"
      ]
     },
     "metadata": {},
     "output_type": "display_data"
    }
   ],
   "source": [
    "import matplotlib as mpl\n",
    "import matplotlib.pyplot as plt\n",
    "%matplotlib inline\n",
    "\n",
    "# the histogram of the rates\n",
    "n, bins, patches = plt.hist(state_all_stats['rate'],  normed=1, facecolor='green', alpha=0.75)\n"
   ]
  },
  {
   "cell_type": "markdown",
   "metadata": {},
   "source": [
    "##### 15. Plot the Math distribution"
   ]
  },
  {
   "cell_type": "code",
   "execution_count": 64,
   "metadata": {
    "collapsed": false
   },
   "outputs": [
    {
     "data": {
      "image/png": "[encoded data removed]",
      "text/plain": [
       "<matplotlib.figure.Figure at 0x26eca2da5f8>"
      ]
     },
     "metadata": {},
     "output_type": "display_data"
    }
   ],
   "source": [
    "# the histogram of the math\n",
    "n, bins, patches = plt.hist(state_all_stats['math'],  normed=1, facecolor='green', alpha=0.75)"
   ]
  },
  {
   "cell_type": "markdown",
   "metadata": {},
   "source": [
    "##### 16. Plot the Verbal distribution"
   ]
  },
  {
   "cell_type": "code",
   "execution_count": 65,
   "metadata": {
    "collapsed": false
   },
   "outputs": [
    {
     "data": {
      "image/png": "[encoded data removed]",
      "text/plain": [
       "<matplotlib.figure.Figure at 0x26eca244f60>"
      ]
     },
     "metadata": {},
     "output_type": "display_data"
    }
   ],
   "source": [
    "# the histogram of the verbal\n",
    "n, bins, patches = plt.hist(state_all_stats['verbal'],  normed=1, facecolor='green', alpha=0.75)"
   ]
  },
  {
   "cell_type": "markdown",
   "metadata": {},
   "source": [
    "##### 17. What is the typical assumption for data distribution?"
   ]
  },
  {
   "cell_type": "markdown",
   "metadata": {
    "collapsed": false
   },
   "source": [
    "A good assumption to start with is that the data is normally distributed."
   ]
  },
  {
   "cell_type": "markdown",
   "metadata": {},
   "source": [
    "##### 18. Does that distribution hold true for our data?"
   ]
  },
  {
   "cell_type": "markdown",
   "metadata": {
    "collapsed": false
   },
   "source": [
    "Nope! \n",
    "  * The rate distribution appears to be multi-modal.\n",
    "  * The verbal distribution appears to have a positive skew.\n",
    "  * The math distribution also appears to be multi-modal."
   ]
  },
  {
   "cell_type": "markdown",
   "metadata": {},
   "source": [
    "##### 19. Plot some scatterplots. **BONUS**: Use a PyPlot `figure` to present multiple plots at once."
   ]
  },
  {
   "cell_type": "code",
   "execution_count": 54,
   "metadata": {
    "collapsed": false
   },
   "outputs": [
    {
     "data": {
      "image/png": "[encoded data removed]",
      "text/plain": [
       "<matplotlib.figure.Figure at 0x26ec8849a90>"
      ]
     },
     "metadata": {},
     "output_type": "display_data"
    }
   ],
   "source": [
    "#!/usr/bin/env python\n",
    "\n",
    "import numpy as np\n",
    "\n",
    "fig = plt.figure()\n",
    "ax1 = fig.add_subplot(121)\n",
    "\n",
    "\n",
    "\n",
    "## left panel\n",
    "ax1.scatter(state_all_stats['rate'], state_all_stats[\"verbal\"],color='blue',s=5,edgecolor='none')\n",
    "ax1.set_aspect(1./ax1.get_data_ratio()) # make axes square\n",
    "ax1.set_ylabel(\"State participation rate\")\n",
    "ax1.set_xlabel(\"Verbal Scores\")\n",
    "\n",
    "## right panel\n",
    "ax2 = fig.add_subplot(122)\n",
    "ax2.scatter(state_all_stats['rate'], state_all_stats[\"math\"],color='blue',s=5,edgecolor='none')\n",
    "ax2.set_aspect(1./ax2.get_data_ratio()) # make axes square\n",
    "ax2.set_xlabel(\"Math Scores\")\n",
    "\n",
    "plt.show()"
   ]
  },
  {
   "cell_type": "markdown",
   "metadata": {},
   "source": [
    "##### 20. Are there any interesting relationships to note?"
   ]
  },
  {
   "cell_type": "markdown",
   "metadata": {
    "collapsed": false
   },
   "source": [
    "There seems to be a relationship between a State's higher participation rate and their average test scores."
   ]
  },
  {
   "cell_type": "markdown",
   "metadata": {},
   "source": [
    "##### 21. Create box plots for each variable. "
   ]
  },
  {
   "cell_type": "code",
   "execution_count": 55,
   "metadata": {
    "collapsed": false,
    "scrolled": true
   },
   "outputs": [
    {
     "data": {
      "image/png": "[encoded data removed]",
      "text/plain": [
       "<matplotlib.figure.Figure at 0x26ec7858278>"
      ]
     },
     "metadata": {},
     "output_type": "display_data"
    }
   ],
   "source": [
    "\n",
    "\n",
    "fig = plt.figure()\n",
    "ax1 = fig.add_subplot(131)\n",
    "ax1 = plt.boxplot(state_all_stats['rate'])\n",
    "\n",
    "ax2 = fig.add_subplot(132)\n",
    "ax2 = plt.boxplot(state_all_stats['verbal'])\n",
    "\n",
    "ax3 = fig.add_subplot(133)\n",
    "ax3 = plt.boxplot(state_all_stats['math'])\n"
   ]
  },
  {
   "cell_type": "markdown",
   "metadata": {},
   "source": [
    "##### BONUS: Using Tableau, create a heat map for each variable using a map of the US. "
   ]
  },
  {
   "cell_type": "code",
   "execution_count": null,
   "metadata": {
    "collapsed": true
   },
   "outputs": [],
   "source": []
  }
 ],
 "metadata": {
  "anaconda-cloud": {},
  "kernelspec": {
   "display_name": "Python [conda root]",
   "language": "python",
   "name": "conda-root-py"
  },
  "language_info": {
   "codemirror_mode": {
    "name": "ipython",
    "version": 3
   },
   "file_extension": ".py",
   "mimetype": "text/x-python",
   "name": "python",
   "nbconvert_exporter": "python",
   "pygments_lexer": "ipython3",
   "version": "3.5.2"
  }
 },
 "nbformat": 4,
 "nbformat_minor": 0
}
