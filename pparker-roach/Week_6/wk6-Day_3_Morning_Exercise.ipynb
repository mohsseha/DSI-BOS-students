{
 "cells": [
  {
   "cell_type": "markdown",
   "metadata": {},
   "source": [
    "Given a tree identical to the format last night write a binary search function that will return either a true or false depending on if the number is in the tree. I.e.:\n",
    "Def findItem(tree,int)\n",
    "Will return a Boolean that returns true only when int is part of tree.\n",
    "The tree is in the format of yesterday's morning exercise but will be sorted. I.e. Left sub-tree is always smaller than \"node\" and right subtree is always bigger than \"node\".\n",
    "\n",
    "Here is an example of a sorted tree:\n",
    "\n",
    "```tree = {\"node\": 4, \"left\": {\"node\": 1}, \"right\": {\"node\": 7, \"left\": {\"node\": 5},}}```"
   ]
  },
  {
   "cell_type": "code",
   "execution_count": null,
   "metadata": {
    "collapsed": true
   },
   "outputs": [],
   "source": [
    "new_tree = {\"node\": 4, \"left\": {\"node\": 1}, \"right\": {\"node\": 7, \"left\": {\"node\": 5},}}\n",
    "if 7 in new_tree.values():\n",
    "    print{'asdf'}\n",
    "else:\n",
    "    print(\"asdfasasfdasd\")"
   ]
  },
  {
   "cell_type": "code",
   "execution_count": null,
   "metadata": {
    "collapsed": false
   },
   "outputs": [],
   "source": [
    "def finditem(tree,int):\n",
    "    #given a binary tree and and integer, return a true if the integer is in the tree, else false\n",
    "    found = False\n",
    "    if tree[\"node\"] == int:\n",
    "        return True\n",
    "    elif (\"left\" in tree.keys()) and tree[\"node\"] > int:\n",
    "        #print(\"going left\")\n",
    "        return finditem(tree[\"left\"], int)\n",
    "    elif (\"right\" in tree.keys()) and tree[\"node\"] < int:\n",
    "        #print(\"going right\")\n",
    "        return finditem(tree[\"right\"], int)\n",
    "    else:\n",
    "        return found\n",
    "    \n"
   ]
  },
  {
   "cell_type": "code",
   "execution_count": null,
   "metadata": {
    "collapsed": false
   },
   "outputs": [],
   "source": [
    "print(finditem(new_tree, 5))"
   ]
  },
  {
   "cell_type": "code",
   "execution_count": null,
   "metadata": {
    "collapsed": true
   },
   "outputs": [],
   "source": []
  }
 ],
 "metadata": {
  "anaconda-cloud": {},
  "kernelspec": {
   "display_name": "Python [default]",
   "language": "python",
   "name": "python3"
  },
  "language_info": {
   "codemirror_mode": {
    "name": "ipython",
    "version": 3
   },
   "file_extension": ".py",
   "mimetype": "text/x-python",
   "name": "python",
   "nbconvert_exporter": "python",
   "pygments_lexer": "ipython3",
   "version": "3.5.2"
  }
 },
 "nbformat": 4,
 "nbformat_minor": 1
}
