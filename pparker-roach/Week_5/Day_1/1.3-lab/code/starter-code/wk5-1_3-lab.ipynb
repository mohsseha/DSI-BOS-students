{
 "cells": [
  {
   "cell_type": "markdown",
   "metadata": {},
   "source": [
    "# Multi-table Datasets - ENRON Archive"
   ]
  },
  {
   "cell_type": "markdown",
   "metadata": {},
   "source": [
    "## 1. Data import\n",
    "\n",
    "Connect to the file 'assets/datasets/enron.db' using one of these methods:\n",
    "\n",
    "- sqlite3 python package\n",
    "- pandas.read_sql\n",
    "- SQLite Manager Firefox extension\n",
    "\n",
    "Take a look at the database and query the master table. How many Tables are there in the db?\n",
    "\n",
    "> Answer:\n",
    "There are 3 tables:\n",
    "- MessageBase\n",
    "- RecipientBase\n",
    "- EmployeeBase"
   ]
  },
  {
   "cell_type": "code",
   "execution_count": 2,
   "metadata": {
    "collapsed": false
   },
   "outputs": [],
   "source": [
    "import sqlite3\n",
    "import pandas as pd\n",
    "enron_db = 'C:/Users/Pat.NOAGALLERY/Documents/data_sources/enron.db'\n",
    "conn =sqlite3.connect(enron_db)"
   ]
  },
  {
   "cell_type": "code",
   "execution_count": 3,
   "metadata": {
    "collapsed": false
   },
   "outputs": [
    {
     "data": {
      "text/html": [
       "<div>\n",
       "<table border=\"1\" class=\"dataframe\">\n",
       "  <thead>\n",
       "    <tr style=\"text-align: right;\">\n",
       "      <th></th>\n",
       "      <th>name</th>\n",
       "    </tr>\n",
       "  </thead>\n",
       "  <tbody>\n",
       "    <tr>\n",
       "      <th>0</th>\n",
       "      <td>MessageBase</td>\n",
       "    </tr>\n",
       "    <tr>\n",
       "      <th>1</th>\n",
       "      <td>RecipientBase</td>\n",
       "    </tr>\n",
       "    <tr>\n",
       "      <th>2</th>\n",
       "      <td>EmployeeBase</td>\n",
       "    </tr>\n",
       "  </tbody>\n",
       "</table>\n",
       "</div>"
      ],
      "text/plain": [
       "            name\n",
       "0    MessageBase\n",
       "1  RecipientBase\n",
       "2   EmployeeBase"
      ]
     },
     "execution_count": 3,
     "metadata": {},
     "output_type": "execute_result"
    }
   ],
   "source": [
    "tables = pd.read_sql(\"SELECT name FROM sqlite_master WHERE TYPE ='table'\", con=conn)\n",
    "tables\n"
   ]
  },
  {
   "cell_type": "code",
   "execution_count": 4,
   "metadata": {
    "collapsed": false
   },
   "outputs": [
    {
     "data": {
      "text/html": [
       "<div>\n",
       "<table border=\"1\" class=\"dataframe\">\n",
       "  <thead>\n",
       "    <tr style=\"text-align: right;\">\n",
       "      <th></th>\n",
       "      <th>mid</th>\n",
       "      <th>filename</th>\n",
       "      <th>unix_time</th>\n",
       "      <th>subject</th>\n",
       "      <th>from_eid</th>\n",
       "    </tr>\n",
       "  </thead>\n",
       "  <tbody>\n",
       "    <tr>\n",
       "      <th>0</th>\n",
       "      <td>1</td>\n",
       "      <td>taylor-m/sent/11</td>\n",
       "      <td>910930020</td>\n",
       "      <td>Cd$ CME letter</td>\n",
       "      <td>138</td>\n",
       "    </tr>\n",
       "    <tr>\n",
       "      <th>1</th>\n",
       "      <td>2</td>\n",
       "      <td>taylor-m/sent/17</td>\n",
       "      <td>911459940</td>\n",
       "      <td>Indemnification</td>\n",
       "      <td>138</td>\n",
       "    </tr>\n",
       "    <tr>\n",
       "      <th>2</th>\n",
       "      <td>3</td>\n",
       "      <td>taylor-m/sent/18</td>\n",
       "      <td>911463840</td>\n",
       "      <td>Re: Indemnification</td>\n",
       "      <td>138</td>\n",
       "    </tr>\n",
       "    <tr>\n",
       "      <th>3</th>\n",
       "      <td>4</td>\n",
       "      <td>taylor-m/sent/23</td>\n",
       "      <td>911874180</td>\n",
       "      <td>Re: Coral Energy, L.P.</td>\n",
       "      <td>138</td>\n",
       "    </tr>\n",
       "    <tr>\n",
       "      <th>4</th>\n",
       "      <td>5</td>\n",
       "      <td>taylor-m/sent/27</td>\n",
       "      <td>912396120</td>\n",
       "      <td>Bankruptcy Code revisions</td>\n",
       "      <td>138</td>\n",
       "    </tr>\n",
       "    <tr>\n",
       "      <th>5</th>\n",
       "      <td>6</td>\n",
       "      <td>taylor-m/sent/31</td>\n",
       "      <td>912570420</td>\n",
       "      <td>Re: Position Description</td>\n",
       "      <td>138</td>\n",
       "    </tr>\n",
       "    <tr>\n",
       "      <th>6</th>\n",
       "      <td>7</td>\n",
       "      <td>taylor-m/sent/33</td>\n",
       "      <td>912576240</td>\n",
       "      <td>Koch</td>\n",
       "      <td>138</td>\n",
       "    </tr>\n",
       "    <tr>\n",
       "      <th>7</th>\n",
       "      <td>8</td>\n",
       "      <td>taylor-m/sent/40</td>\n",
       "      <td>912685080</td>\n",
       "      <td>Re: Time to Celebrate!</td>\n",
       "      <td>138</td>\n",
       "    </tr>\n",
       "    <tr>\n",
       "      <th>8</th>\n",
       "      <td>9</td>\n",
       "      <td>taylor-m/sent/41</td>\n",
       "      <td>912734100</td>\n",
       "      <td>Re: Vacation Request</td>\n",
       "      <td>138</td>\n",
       "    </tr>\n",
       "    <tr>\n",
       "      <th>9</th>\n",
       "      <td>10</td>\n",
       "      <td>taylor-m/sent/44</td>\n",
       "      <td>913166040</td>\n",
       "      <td>Re: Last Message</td>\n",
       "      <td>138</td>\n",
       "    </tr>\n",
       "  </tbody>\n",
       "</table>\n",
       "</div>"
      ],
      "text/plain": [
       "   mid          filename  unix_time                    subject  from_eid\n",
       "0    1  taylor-m/sent/11  910930020             Cd$ CME letter       138\n",
       "1    2  taylor-m/sent/17  911459940            Indemnification       138\n",
       "2    3  taylor-m/sent/18  911463840        Re: Indemnification       138\n",
       "3    4  taylor-m/sent/23  911874180     Re: Coral Energy, L.P.       138\n",
       "4    5  taylor-m/sent/27  912396120  Bankruptcy Code revisions       138\n",
       "5    6  taylor-m/sent/31  912570420   Re: Position Description       138\n",
       "6    7  taylor-m/sent/33  912576240                       Koch       138\n",
       "7    8  taylor-m/sent/40  912685080     Re: Time to Celebrate!       138\n",
       "8    9  taylor-m/sent/41  912734100       Re: Vacation Request       138\n",
       "9   10  taylor-m/sent/44  913166040           Re: Last Message       138"
      ]
     },
     "execution_count": 4,
     "metadata": {},
     "output_type": "execute_result"
    }
   ],
   "source": [
    "query = '''SELECT * FROM MessageBase LIMIT 10'''\n",
    "pd.read_sql(query, con=conn)"
   ]
  },
  {
   "cell_type": "code",
   "execution_count": 5,
   "metadata": {
    "collapsed": false
   },
   "outputs": [
    {
     "data": {
      "text/html": [
       "<div>\n",
       "<table border=\"1\" class=\"dataframe\">\n",
       "  <thead>\n",
       "    <tr style=\"text-align: right;\">\n",
       "      <th></th>\n",
       "      <th>mid</th>\n",
       "      <th>rno</th>\n",
       "      <th>to_eid</th>\n",
       "    </tr>\n",
       "  </thead>\n",
       "  <tbody>\n",
       "    <tr>\n",
       "      <th>0</th>\n",
       "      <td>1</td>\n",
       "      <td>1</td>\n",
       "      <td>59</td>\n",
       "    </tr>\n",
       "    <tr>\n",
       "      <th>1</th>\n",
       "      <td>2</td>\n",
       "      <td>1</td>\n",
       "      <td>15</td>\n",
       "    </tr>\n",
       "    <tr>\n",
       "      <th>2</th>\n",
       "      <td>3</td>\n",
       "      <td>1</td>\n",
       "      <td>15</td>\n",
       "    </tr>\n",
       "    <tr>\n",
       "      <th>3</th>\n",
       "      <td>4</td>\n",
       "      <td>1</td>\n",
       "      <td>109</td>\n",
       "    </tr>\n",
       "    <tr>\n",
       "      <th>4</th>\n",
       "      <td>4</td>\n",
       "      <td>2</td>\n",
       "      <td>49</td>\n",
       "    </tr>\n",
       "    <tr>\n",
       "      <th>5</th>\n",
       "      <td>4</td>\n",
       "      <td>3</td>\n",
       "      <td>120</td>\n",
       "    </tr>\n",
       "    <tr>\n",
       "      <th>6</th>\n",
       "      <td>4</td>\n",
       "      <td>4</td>\n",
       "      <td>59</td>\n",
       "    </tr>\n",
       "    <tr>\n",
       "      <th>7</th>\n",
       "      <td>5</td>\n",
       "      <td>1</td>\n",
       "      <td>45</td>\n",
       "    </tr>\n",
       "    <tr>\n",
       "      <th>8</th>\n",
       "      <td>5</td>\n",
       "      <td>2</td>\n",
       "      <td>53</td>\n",
       "    </tr>\n",
       "    <tr>\n",
       "      <th>9</th>\n",
       "      <td>6</td>\n",
       "      <td>1</td>\n",
       "      <td>113</td>\n",
       "    </tr>\n",
       "  </tbody>\n",
       "</table>\n",
       "</div>"
      ],
      "text/plain": [
       "   mid  rno  to_eid\n",
       "0    1    1      59\n",
       "1    2    1      15\n",
       "2    3    1      15\n",
       "3    4    1     109\n",
       "4    4    2      49\n",
       "5    4    3     120\n",
       "6    4    4      59\n",
       "7    5    1      45\n",
       "8    5    2      53\n",
       "9    6    1     113"
      ]
     },
     "execution_count": 5,
     "metadata": {},
     "output_type": "execute_result"
    }
   ],
   "source": [
    "query = '''SELECT * FROM RecipientBase LIMIT 10'''\n",
    "pd.read_sql(query, con=conn)"
   ]
  },
  {
   "cell_type": "code",
   "execution_count": 6,
   "metadata": {
    "collapsed": false
   },
   "outputs": [
    {
     "data": {
      "text/html": [
       "<div>\n",
       "<table border=\"1\" class=\"dataframe\">\n",
       "  <thead>\n",
       "    <tr style=\"text-align: right;\">\n",
       "      <th></th>\n",
       "      <th>eid</th>\n",
       "      <th>name</th>\n",
       "      <th>department</th>\n",
       "      <th>longdepartment</th>\n",
       "      <th>title</th>\n",
       "      <th>gender</th>\n",
       "      <th>seniority</th>\n",
       "    </tr>\n",
       "  </thead>\n",
       "  <tbody>\n",
       "    <tr>\n",
       "      <th>0</th>\n",
       "      <td>1</td>\n",
       "      <td>John Arnold</td>\n",
       "      <td>Forestry</td>\n",
       "      <td>ENA Gas Financial</td>\n",
       "      <td>VP Trading</td>\n",
       "      <td>Male</td>\n",
       "      <td>Senior</td>\n",
       "    </tr>\n",
       "    <tr>\n",
       "      <th>1</th>\n",
       "      <td>2</td>\n",
       "      <td>Harry Arora</td>\n",
       "      <td>Forestry</td>\n",
       "      <td>ENA East Power</td>\n",
       "      <td>VP Trading</td>\n",
       "      <td>Male</td>\n",
       "      <td>Senior</td>\n",
       "    </tr>\n",
       "    <tr>\n",
       "      <th>2</th>\n",
       "      <td>3</td>\n",
       "      <td>Robert Badeer</td>\n",
       "      <td>Forestry</td>\n",
       "      <td>ENA West Power</td>\n",
       "      <td>Mgr Trading</td>\n",
       "      <td>Male</td>\n",
       "      <td>Junior</td>\n",
       "    </tr>\n",
       "    <tr>\n",
       "      <th>3</th>\n",
       "      <td>4</td>\n",
       "      <td>Susan Bailey</td>\n",
       "      <td>Legal</td>\n",
       "      <td>ENA Legal</td>\n",
       "      <td>Specialist Legal</td>\n",
       "      <td>Female</td>\n",
       "      <td>Junior</td>\n",
       "    </tr>\n",
       "    <tr>\n",
       "      <th>4</th>\n",
       "      <td>5</td>\n",
       "      <td>Eric Bass</td>\n",
       "      <td>Forestry</td>\n",
       "      <td>ENA Gas Texas</td>\n",
       "      <td>Trader</td>\n",
       "      <td>Male</td>\n",
       "      <td>Junior</td>\n",
       "    </tr>\n",
       "    <tr>\n",
       "      <th>5</th>\n",
       "      <td>6</td>\n",
       "      <td>Don Baughman Jr.</td>\n",
       "      <td>Forestry</td>\n",
       "      <td>ENA East Power</td>\n",
       "      <td>Mgr Trading</td>\n",
       "      <td>Male</td>\n",
       "      <td>Junior</td>\n",
       "    </tr>\n",
       "    <tr>\n",
       "      <th>6</th>\n",
       "      <td>7</td>\n",
       "      <td>Sally Beck</td>\n",
       "      <td>Other</td>\n",
       "      <td>Energy Operations</td>\n",
       "      <td>VP</td>\n",
       "      <td>Female</td>\n",
       "      <td>Senior</td>\n",
       "    </tr>\n",
       "    <tr>\n",
       "      <th>7</th>\n",
       "      <td>8</td>\n",
       "      <td>Robert Benson</td>\n",
       "      <td>Forestry</td>\n",
       "      <td>ENA East Power</td>\n",
       "      <td>Dir Trading</td>\n",
       "      <td>Male</td>\n",
       "      <td>Senior</td>\n",
       "    </tr>\n",
       "    <tr>\n",
       "      <th>8</th>\n",
       "      <td>9</td>\n",
       "      <td>Lynn Blair</td>\n",
       "      <td>Other</td>\n",
       "      <td>ETS</td>\n",
       "      <td>Director</td>\n",
       "      <td>Female</td>\n",
       "      <td>Senior</td>\n",
       "    </tr>\n",
       "    <tr>\n",
       "      <th>9</th>\n",
       "      <td>10</td>\n",
       "      <td>Sandra F. Brawner</td>\n",
       "      <td>Forestry</td>\n",
       "      <td>ENA Gas East</td>\n",
       "      <td>Dir Trading</td>\n",
       "      <td>Female</td>\n",
       "      <td>Senior</td>\n",
       "    </tr>\n",
       "  </tbody>\n",
       "</table>\n",
       "</div>"
      ],
      "text/plain": [
       "   eid               name department     longdepartment             title  \\\n",
       "0    1        John Arnold   Forestry  ENA Gas Financial        VP Trading   \n",
       "1    2        Harry Arora   Forestry     ENA East Power        VP Trading   \n",
       "2    3      Robert Badeer   Forestry     ENA West Power       Mgr Trading   \n",
       "3    4       Susan Bailey      Legal          ENA Legal  Specialist Legal   \n",
       "4    5          Eric Bass   Forestry      ENA Gas Texas            Trader   \n",
       "5    6   Don Baughman Jr.   Forestry     ENA East Power       Mgr Trading   \n",
       "6    7         Sally Beck      Other  Energy Operations                VP   \n",
       "7    8      Robert Benson   Forestry     ENA East Power       Dir Trading   \n",
       "8    9         Lynn Blair      Other                ETS          Director   \n",
       "9   10  Sandra F. Brawner   Forestry       ENA Gas East       Dir Trading   \n",
       "\n",
       "   gender seniority  \n",
       "0    Male    Senior  \n",
       "1    Male    Senior  \n",
       "2    Male    Junior  \n",
       "3  Female    Junior  \n",
       "4    Male    Junior  \n",
       "5    Male    Junior  \n",
       "6  Female    Senior  \n",
       "7    Male    Senior  \n",
       "8  Female    Senior  \n",
       "9  Female    Senior  "
      ]
     },
     "execution_count": 6,
     "metadata": {},
     "output_type": "execute_result"
    }
   ],
   "source": [
    "query = '''SELECT * FROM EmployeeBase LIMIT 10'''\n",
    "pd.read_sql(query, con=conn)"
   ]
  },
  {
   "cell_type": "markdown",
   "metadata": {},
   "source": [
    "Query the `sqlite_master` table to retrieve the schema of the `EmployeeBase` table.\n",
    "\n",
    "1. What fields are there?\n",
    "1. What's the type of each of them?"
   ]
  },
  {
   "cell_type": "code",
   "execution_count": 7,
   "metadata": {
    "collapsed": false
   },
   "outputs": [
    {
     "name": "stdout",
     "output_type": "stream",
     "text": [
      "MessageBase\n",
      "(0, 'mid', 'INTEGER', 0, None, 1)\n",
      "(1, 'filename', 'TEXT', 0, None, 0)\n",
      "(2, 'unix_time', 'INTEGER', 0, None, 0)\n",
      "(3, 'subject', 'TEXT', 0, None, 0)\n",
      "(4, 'from_eid', 'INTEGER', 0, None, 0)\n",
      "RecipientBase\n",
      "(0, 'mid', 'INTEGER', 0, None, 1)\n",
      "(1, 'rno', 'INTEGER', 0, None, 2)\n",
      "(2, 'to_eid', 'INTEGER', 0, None, 0)\n",
      "EmployeeBase\n",
      "(0, 'eid', 'INTEGER', 0, None, 0)\n",
      "(1, 'name', 'TEXT', 0, None, 0)\n",
      "(2, 'department', 'TEXT', 0, None, 0)\n",
      "(3, 'longdepartment', 'TEXT', 0, None, 0)\n",
      "(4, 'title', 'TEXT', 0, None, 0)\n",
      "(5, 'gender', 'TEXT', 0, None, 0)\n",
      "(6, 'seniority', 'TEXT', 0, None, 0)\n"
     ]
    }
   ],
   "source": [
    "\n",
    "for table in tables['name']:\n",
    "    print(table)\n",
    "    for row in conn.execute(\"pragma table_info(\"+table+\")\").fetchall():\n",
    "        print (row)"
   ]
  },
  {
   "cell_type": "markdown",
   "metadata": {},
   "source": [
    "1. Print the first 5 rows of EmployeeBase table\n",
    "1. Print the first 5 rows of MessageBase table\n",
    "1. Print the first 5 rows of RecipientBase table\n",
    "\n",
    "**Hint**  use `SELECT` and `LIMIT`."
   ]
  },
  {
   "cell_type": "code",
   "execution_count": 8,
   "metadata": {
    "collapsed": false
   },
   "outputs": [
    {
     "name": "stdout",
     "output_type": "stream",
     "text": [
      "EmployeeBase\n",
      "   eid           name department     longdepartment             title  gender  \\\n",
      "0    1    John Arnold   Forestry  ENA Gas Financial        VP Trading    Male   \n",
      "1    2    Harry Arora   Forestry     ENA East Power        VP Trading    Male   \n",
      "2    3  Robert Badeer   Forestry     ENA West Power       Mgr Trading    Male   \n",
      "3    4   Susan Bailey      Legal          ENA Legal  Specialist Legal  Female   \n",
      "4    5      Eric Bass   Forestry      ENA Gas Texas            Trader    Male   \n",
      "\n",
      "  seniority  \n",
      "0    Senior  \n",
      "1    Senior  \n",
      "2    Junior  \n",
      "3    Junior  \n",
      "4    Junior  \n",
      "MessageBase\n",
      "   mid          filename  unix_time                    subject  from_eid\n",
      "0    1  taylor-m/sent/11  910930020             Cd$ CME letter       138\n",
      "1    2  taylor-m/sent/17  911459940            Indemnification       138\n",
      "2    3  taylor-m/sent/18  911463840        Re: Indemnification       138\n",
      "3    4  taylor-m/sent/23  911874180     Re: Coral Energy, L.P.       138\n",
      "4    5  taylor-m/sent/27  912396120  Bankruptcy Code revisions       138\n",
      "RecipientBase\n",
      "   mid  rno  to_eid\n",
      "0    1    1      59\n",
      "1    2    1      15\n",
      "2    3    1      15\n",
      "3    4    1     109\n",
      "4    4    2      49\n"
     ]
    }
   ],
   "source": [
    "query = '''SELECT * FROM EmployeeBase LIMIT 5'''\n",
    "print(\"EmployeeBase\")\n",
    "print(pd.read_sql(query, con=conn))\n",
    "query = '''SELECT * FROM MessageBase LIMIT 5'''\n",
    "print(\"MessageBase\")\n",
    "print(pd.read_sql(query, con=conn))\n",
    "query = '''SELECT * FROM RecipientBase LIMIT 5'''\n",
    "print(\"RecipientBase\")\n",
    "print(pd.read_sql(query, con=conn))\n"
   ]
  },
  {
   "cell_type": "markdown",
   "metadata": {},
   "source": [
    "Import each of the 3 tables to a Pandas Dataframes"
   ]
  },
  {
   "cell_type": "code",
   "execution_count": 9,
   "metadata": {
    "collapsed": false
   },
   "outputs": [
    {
     "name": "stdout",
     "output_type": "stream",
     "text": [
      "employee shape  (156, 7)\n",
      "message shape  (21635, 5)\n",
      "recipient shape  (38388, 3)\n"
     ]
    }
   ],
   "source": [
    "query = '''SELECT * FROM EmployeeBase'''\n",
    "employee = pd.read_sql(query, con=conn)\n",
    "print(\"employee shape \", employee.shape)\n",
    "query = '''SELECT * FROM MessageBase'''\n",
    "message = pd.read_sql(query, con=conn)\n",
    "print(\"message shape \", message.shape)\n",
    "query = '''SELECT * FROM RecipientBase'''\n",
    "recipient = pd.read_sql(query, con=conn)\n",
    "print(\"recipient shape \", recipient.shape)"
   ]
  },
  {
   "cell_type": "markdown",
   "metadata": {},
   "source": [
    "## 2. Data Exploration\n",
    "\n",
    "Use the 3 dataframes to answer the following questions:\n",
    "\n",
    "1. How many employees are there in the company?\n",
    "- How many messages are there in the database?\n",
    "- Convert the timestamp column in the messages. When was the oldest message sent? And the newest?\n",
    "- Some messages are sent to more than one recipient. Group the messages by message_id and count the number of recepients. Then look at the distribution of recepient numbers.\n",
    "    - How many messages have only one recepient?\n",
    "    - How many messages have >= 5 recepients?\n",
    "    - What's the highest number of recepients?\n",
    "    - Who sent the message with the highest number of recepients?\n",
    "- Plot the distribution of recepient numbers using Bokeh."
   ]
  },
  {
   "cell_type": "code",
   "execution_count": 10,
   "metadata": {
    "collapsed": false
   },
   "outputs": [
    {
     "name": "stdout",
     "output_type": "stream",
     "text": [
      "Total Employees =  156\n",
      "Total Messages =  21635\n",
      "Oldest Message =  1998-11-13 04:07:00\n",
      "Newest Message =  2002-06-21 13:37:34\n",
      "There were  2  messages with only 1 recipient\n",
      "There were  147  messages with >=  5 recipients\n",
      "The highest number of recipients for a message   1597\n",
      "The highest number of recipients for a message was sent by the user with eid  20\n"
     ]
    }
   ],
   "source": [
    "print (\"Total Employees = \", employee.shape[0])\n",
    "print (\"Total Messages = \", message.shape[0])\n",
    "\n",
    "import datetime\n",
    "import time\n",
    "message['time'] = pd.to_datetime(message['unix_time'], unit='s')\n",
    "print (\"Oldest Message = \", min(message.time))\n",
    "print (\"Newest Message = \", max(message.time))\n",
    "\n",
    "msg = message.groupby('from_eid').size()\n",
    "\n",
    "print(\"There were \", msg[msg == 1].count(), \" messages with only 1 recipient\")\n",
    "print(\"There were \", msg[msg >= 5].count(), \" messages with >=  5 recipients\")\n",
    "print(\"The highest number of recipients for a message  \", max(msg))\n",
    "print(\"The highest number of recipients for a message was sent by the user with eid \", msg[msg  == max(msg)].index[0])\n"
   ]
  },
  {
   "cell_type": "markdown",
   "metadata": {},
   "source": [
    "The following is the Bokeh distribution"
   ]
  },
  {
   "cell_type": "code",
   "execution_count": 11,
   "metadata": {
    "collapsed": false
   },
   "outputs": [
    {
     "name": "stderr",
     "output_type": "stream",
     "text": [
      "C:\\Program Files\\Anaconda3\\lib\\site-packages\\ipykernel\\__main__.py:19: BokehDeprecationWarning: bokeh.io.hplot was deprecated in Bokeh 0.12.0; please use bokeh.models.layouts.Row instead\n",
      "C:\\Program Files\\Anaconda3\\lib\\site-packages\\ipykernel\\__main__.py:19: BokehDeprecationWarning: bokeh.io.vplot was deprecated in Bokeh 0.12.0; please use bokeh.models.layouts.Column instead\n"
     ]
    }
   ],
   "source": [
    "from bokeh.charts import Histogram\n",
    "from bokeh.sampledata.autompg import autompg as df\n",
    "from bokeh.charts import defaults, vplot, hplot, show, output_file\n",
    "\n",
    "defaults.width = 450\n",
    "defaults.height = 350\n",
    "\n",
    "# input options\n",
    "hist = Histogram(msg, title=\"Distribution of Recepient Numbers\")\n",
    "\n",
    "hist.xaxis.axis_label = 'Messages'\n",
    "hist.yaxis.axis_label = '# of Msgs'\n",
    "\n",
    "\n",
    "output_file(\"histograms.html\")\n",
    "\n",
    "show(\n",
    "    vplot(\n",
    "        hplot(hist)\n",
    "    )\n",
    ")"
   ]
  },
  {
   "cell_type": "markdown",
   "metadata": {},
   "source": [
    "Rescale to investigate the tail of the curve"
   ]
  },
  {
   "cell_type": "markdown",
   "metadata": {
    "collapsed": false
   },
   "source": [
    "No need to write any code here as the Bokeh graphs are interactive and you can pan in to examine the tail of the curve."
   ]
  },
  {
   "cell_type": "markdown",
   "metadata": {},
   "source": [
    "## 3. Data Merging\n",
    "\n",
    "Use the pandas merge function to combine the information in the 3 dataframes to answer the following questions:\n",
    "\n",
    "1. Are there more Men or Women employees?\n",
    "- How is gender distributed across departments?\n",
    "- Who is sending more emails? Men or Women?\n",
    "- What's the average number of emails sent by each gender?\n",
    "- Are there more Juniors or Seniors?\n",
    "- Who is sending more emails? Juniors or Seniors?\n",
    "- Which department is sending more emails? How does that relate with the number of employees in the department?\n",
    "- Who are the top 3 senders of emails? (people who sent out the most emails)\n",
    "\n",
    "MessageBase\n",
    "\n",
    "\n",
    "(0, 'mid', 'INTEGER', 0, None, 1)\n",
    "\n",
    "(1, 'filename', 'TEXT', 0, None, 0)\n",
    "\n",
    "(2, 'unix_time', 'INTEGER', 0, None, 0)\n",
    "\n",
    "(3, 'subject', 'TEXT', 0, None, 0)\n",
    "\n",
    "(4, 'from_eid', 'INTEGER', 0, None, 0)\n",
    "\n",
    "RecipientBase\n",
    "\n",
    "(0, 'mid', 'INTEGER', 0, None, 1)\n",
    "\n",
    "(1, 'rno', 'INTEGER', 0, None, 2)\n",
    "\n",
    "(2, 'to_eid', 'INTEGER', 0, None, 0)\n",
    "\n",
    "EmployeeBase\n",
    "\n",
    "(0, 'eid', 'INTEGER', 0, None, 0)\n",
    "\n",
    "\n",
    "(1, 'name', 'TEXT', 0, None, 0)\n",
    "\n",
    "(2, 'department', 'TEXT', 0, None, 0)\n",
    "\n",
    "(3, 'longdepartment', 'TEXT', 0, None, 0)\n",
    "\n",
    "(4, 'title', 'TEXT', 0, None, 0)\n",
    "\n",
    "(5, 'gender', 'TEXT', 0, None, 0)\n",
    "\n",
    "(6, 'seniority', 'TEXT', 0, None, 0)\n"
   ]
  },
  {
   "cell_type": "code",
   "execution_count": 142,
   "metadata": {
    "collapsed": false
   },
   "outputs": [
    {
     "name": "stdout",
     "output_type": "stream",
     "text": [
      "\n",
      "The gender split in the organization is as follows \n",
      " gender\n",
      "Female     43\n",
      "Male      113\n",
      "dtype: int64\n",
      "\n",
      "Gender is split across departments as follows \n",
      " department  gender\n",
      "Forestry    Female    10\n",
      "            Male      50\n",
      "Legal       Female    13\n",
      "            Male      12\n",
      "Other       Female    20\n",
      "            Male      51\n",
      "dtype: int64\n",
      "\n",
      "Messages sent split by gender \n",
      " gender\n",
      "Female     8794\n",
      "Male      12841\n",
      "dtype: int64\n",
      "\n",
      "Messages sent split by gender \n",
      "               eid           mid     unix_time   from_eid\n",
      "gender                                                  \n",
      "Female  86.749033  10424.010348  9.836006e+08  86.749033\n",
      "Male    73.391247  11087.818939  9.864964e+08  73.391247\n"
     ]
    }
   ],
   "source": [
    "# Are there more Men or Women employees?\n",
    "gender = employee.groupby('gender').size()\n",
    "print (\"\\nThe gender split in the organization is as follows \\n\",gender)\n",
    "\n",
    "#How is gender di(stributed across departments?\n",
    "gender = employee.groupby(['department', 'gender']).size()\n",
    "print(\"\\nGender is split across departments as follows \\n\", gender)\n",
    "\n",
    "#Who is sending more emails? Men or Women?\n",
    "base = pd.merge(employee, message, left_on='eid', right_on='from_eid')\n",
    "basegender = base.groupby('gender').size()\n",
    "print(\"\\nMessages sent split by gender \\n\", basegender)\n",
    "\n",
    "# What's the average number of emails sent by each gender?\n",
    "basegender = base.groupby('gender').mean()\n",
    "print(\"\\nMessages sent split by gender \\n\", basegender)"
   ]
  },
  {
   "cell_type": "markdown",
   "metadata": {},
   "source": [
    "Answer the following questions regarding received messages:\n",
    "\n",
    "- Who is receiving more emails? Men or Women?\n",
    "- Who is receiving more emails? Juniors or Seniors?\n",
    "- Which department is receiving more emails? How does that relate with the number of employees in the department?\n",
    "- Who are the top 5 receivers of emails? (people who received the most emails)"
   ]
  },
  {
   "cell_type": "code",
   "execution_count": null,
   "metadata": {
    "collapsed": true
   },
   "outputs": [],
   "source": []
  },
  {
   "cell_type": "markdown",
   "metadata": {},
   "source": [
    "Which employees sent the most 'mass' emails?"
   ]
  },
  {
   "cell_type": "code",
   "execution_count": null,
   "metadata": {
    "collapsed": false
   },
   "outputs": [],
   "source": []
  },
  {
   "cell_type": "markdown",
   "metadata": {},
   "source": [
    "Keep exploring the dataset, which other questions would you ask?\n",
    "\n",
    "Work in pairs. Give each other a challenge and try to solve it."
   ]
  }
 ],
 "metadata": {
  "anaconda-cloud": {},
  "kernelspec": {
   "display_name": "Python [conda root]",
   "language": "python",
   "name": "conda-root-py"
  },
  "language_info": {
   "codemirror_mode": {
    "name": "ipython",
    "version": 3
   },
   "file_extension": ".py",
   "mimetype": "text/x-python",
   "name": "python",
   "nbconvert_exporter": "python",
   "pygments_lexer": "ipython3",
   "version": "3.5.2"
  }
 },
 "nbformat": 4,
 "nbformat_minor": 0
}
