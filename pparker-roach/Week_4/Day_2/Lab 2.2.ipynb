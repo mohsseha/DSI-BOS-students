{
 "cells": [
  {
   "cell_type": "code",
   "execution_count": 27,
   "metadata": {
    "collapsed": true
   },
   "outputs": [],
   "source": [
    "import pandas as pd\n",
    "import seaborn as sb\n",
    "import matplotlib.pyplot as plt\n",
    "import json\n",
    "%matplotlib inline\n",
    "\n",
    "pd.options.display.max_columns = 50\n",
    "pd.options.display.max_colwidth = 300"
   ]
  },
  {
   "cell_type": "markdown",
   "metadata": {},
   "source": [
    "## Predicting \"Greenness\" Of Content\n",
    "\n",
    "This dataset comes from [stumbleupon](https://www.stumbleupon.com/), a web page recommender and was made available [here](https://www.kaggle.com/c/stumbleupon/download/train.tsv)\n",
    "\n",
    "A description of the columns is below\n",
    "\n",
    "FieldName|Type|Description\n",
    "---------|----|-----------\n",
    "url|string|Url of the webpage to be classified\n",
    "urlid|integer| StumbleUpon's unique identifier for each url\n",
    "boilerplate|json|Boilerplate text\n",
    "alchemy_category|string|Alchemy category (per the publicly available Alchemy API found at www.alchemyapi.com)\n",
    "alchemy_category_score|double|Alchemy category score (per the publicly available Alchemy API found at www.alchemyapi.com)\n",
    "avglinksize| double|Average number of words in each link\n",
    "commonLinkRatio_1|double|# of links sharing at least 1 word with 1 other links / # of links\n",
    "commonLinkRatio_2|double|# of links sharing at least 1 word with 2 other links / # of links\n",
    "commonLinkRatio_3|double|# of links sharing at least 1 word with 3 other links / # of links\n",
    "commonLinkRatio_4|double|# of links sharing at least 1 word with 4 other links / # of links\n",
    "compression_ratio|double|Compression achieved on this page via gzip (measure of redundancy)\n",
    "embed_ratio|double|Count of number of <embed> usage\n",
    "frameBased|integer (0 or 1)|A page is frame-based (1) if it has no body markup but have a frameset markup\n",
    "frameTagRatio|double|Ratio of iframe markups over total number of markups\n",
    "hasDomainLink|integer (0 or 1)|True (1) if it contains an <a> with an url with domain\n",
    "html_ratio|double|Ratio of tags vs text in the page\n",
    "image_ratio|double|Ratio of <img> tags vs text in the page\n",
    "is_news|integer (0 or 1) | True (1) if StumbleUpon's news classifier determines that this webpage is news\n",
    "lengthyLinkDomain| integer (0 or 1)|True (1) if at least 3 <a> 's text contains more than 30 alphanumeric characters\n",
    "linkwordscore|double|Percentage of words on the page that are in hyperlink's text\n",
    "news_front_page| integer (0 or 1)|True (1) if StumbleUpon's news classifier determines that this webpage is front-page news\n",
    "non_markup_alphanum_characters|integer| Page's text's number of alphanumeric characters\n",
    "numberOfLinks|integer Number of <a>|markups\n",
    "numwords_in_url| double|Number of words in url\n",
    "parametrizedLinkRatio|double|A link is parametrized if it's url contains parameters or has an attached onClick event\n",
    "spelling_errors_ratio|double|Ratio of words not found in wiki (considered to be a spelling mistake)\n",
    "label|integer (0 or 1)|User-determined label. Either evergreen (1) or non-evergreen (0); available for train.tsv only"
   ]
  },
  {
   "cell_type": "markdown",
   "metadata": {},
   "source": [
    "### What are 'evergreen' sites?\n",
    "- These are websites that always relevant like recipes or reviews (as opposed to current events)\n",
    "- Look at some examples"
   ]
  },
  {
   "cell_type": "code",
   "execution_count": 28,
   "metadata": {
    "collapsed": false
   },
   "outputs": [],
   "source": [
    "data = pd.read_csv('C:/Users/Pat.NOAGALLERY/Documents/data_sources//train.tsv', sep='\\t', na_values={'is_news' : '?'}).fillna(0)\n",
    "\n",
    "# Extract the title and body from the boilerplate JSON text\n",
    "data['title'] = data.boilerplate.map(lambda x: json.loads(x).get('title', ''))\n",
    "data['body'] = data.boilerplate.map(lambda x: json.loads(x).get('body', ''))"
   ]
  },
  {
   "cell_type": "code",
   "execution_count": 41,
   "metadata": {
    "collapsed": false
   },
   "outputs": [
    {
     "data": {
      "text/html": [
       "<div>\n",
       "<table border=\"1\" class=\"dataframe\">\n",
       "  <thead>\n",
       "    <tr style=\"text-align: right;\">\n",
       "      <th></th>\n",
       "      <th>title</th>\n",
       "      <th>label</th>\n",
       "    </tr>\n",
       "  </thead>\n",
       "  <tbody>\n",
       "    <tr>\n",
       "      <th>0</th>\n",
       "      <td>IBM Sees Holographic Calls Air Breathing Batteries ibm sees holographic calls, air-breathing batteries</td>\n",
       "      <td>0</td>\n",
       "    </tr>\n",
       "    <tr>\n",
       "      <th>1</th>\n",
       "      <td>The Fully Electronic Futuristic Starting Gun That Eliminates Advantages in Races the fully electronic, futuristic starting gun that eliminates advantages in races the fully electronic, futuristic starting gun that eliminates advantages in races</td>\n",
       "      <td>1</td>\n",
       "    </tr>\n",
       "    <tr>\n",
       "      <th>2</th>\n",
       "      <td>Fruits that Fight the Flu fruits that fight the flu | cold &amp; flu | men's health</td>\n",
       "      <td>1</td>\n",
       "    </tr>\n",
       "    <tr>\n",
       "      <th>3</th>\n",
       "      <td>10 Foolproof Tips for Better Sleep</td>\n",
       "      <td>1</td>\n",
       "    </tr>\n",
       "    <tr>\n",
       "      <th>4</th>\n",
       "      <td>The 50 Coolest Jerseys You Didn t Know Existed coolest jerseys you haven't seen</td>\n",
       "      <td>0</td>\n",
       "    </tr>\n",
       "  </tbody>\n",
       "</table>\n",
       "</div>"
      ],
      "text/plain": [
       "                                                                                                                                                                                                                                                  title  \\\n",
       "0                                                                                                                                                IBM Sees Holographic Calls Air Breathing Batteries ibm sees holographic calls, air-breathing batteries   \n",
       "1  The Fully Electronic Futuristic Starting Gun That Eliminates Advantages in Races the fully electronic, futuristic starting gun that eliminates advantages in races the fully electronic, futuristic starting gun that eliminates advantages in races   \n",
       "2                                                                                                                                                                       Fruits that Fight the Flu fruits that fight the flu | cold & flu | men's health   \n",
       "3                                                                                                                                                                                                                   10 Foolproof Tips for Better Sleep    \n",
       "4                                                                                                                                                                       The 50 Coolest Jerseys You Didn t Know Existed coolest jerseys you haven't seen   \n",
       "\n",
       "   label  \n",
       "0      0  \n",
       "1      1  \n",
       "2      1  \n",
       "3      1  \n",
       "4      0  "
      ]
     },
     "execution_count": 41,
     "metadata": {},
     "output_type": "execute_result"
    }
   ],
   "source": [
    "data[['title', 'label']].head()"
   ]
  },
  {
   "cell_type": "markdown",
   "metadata": {},
   "source": [
    "#### Does being a news site effect green-ness?"
   ]
  },
  {
   "cell_type": "code",
   "execution_count": 30,
   "metadata": {
    "collapsed": false
   },
   "outputs": [
    {
     "name": "stdout",
     "output_type": "stream",
     "text": [
      "            label\n",
      "is_news          \n",
      "0.0      0.507562\n",
      "1.0      0.516916\n"
     ]
    },
    {
     "data": {
      "text/plain": [
       "<seaborn.axisgrid.FacetGrid at 0x23e89af1ef0>"
      ]
     },
     "execution_count": 30,
     "metadata": {},
     "output_type": "execute_result"
    },
    {
     "data": {
      "image/png": "[encoded data removed]",
      "text/plain": [
       "<matplotlib.figure.Figure at 0x23e9b18f630>"
      ]
     },
     "metadata": {},
     "output_type": "display_data"
    }
   ],
   "source": [
    "print(data.groupby('is_news')[['label']].mean())\n",
    "sb.factorplot(x='is_news', y='label', data=data, kind='bar')"
   ]
  },
  {
   "cell_type": "markdown",
   "metadata": {},
   "source": [
    "#### Does the website category effect green-ness?"
   ]
  },
  {
   "cell_type": "code",
   "execution_count": 31,
   "metadata": {
    "collapsed": false
   },
   "outputs": [
    {
     "name": "stdout",
     "output_type": "stream",
     "text": [
      "                       label\n",
      "alchemy_category            \n",
      "?                   0.502135\n",
      "arts_entertainment  0.371945\n",
      "business            0.711364\n",
      "computer_internet   0.246622\n",
      "culture_politics    0.457726\n",
      "gaming              0.368421\n",
      "health              0.573123\n",
      "law_crime           0.419355\n",
      "recreation          0.684296\n",
      "religion            0.416667\n",
      "science_technology  0.456747\n",
      "sports              0.205263\n",
      "unknown             0.333333\n",
      "weather             0.000000\n"
     ]
    },
    {
     "data": {
      "text/plain": [
       "<seaborn.axisgrid.FacetGrid at 0x23ea8426f60>"
      ]
     },
     "execution_count": 31,
     "metadata": {},
     "output_type": "execute_result"
    },
    {
     "data": {
      "image/png": "[encoded data removed]",
      "text/plain": [
       "<matplotlib.figure.Figure at 0x23ea8417e10>"
      ]
     },
     "metadata": {},
     "output_type": "display_data"
    }
   ],
   "source": [
    "print(data.groupby('alchemy_category')[['label']].mean())\n",
    "cat_plot = sb.factorplot(x='alchemy_category', y='label', data=data, kind='bar')\n",
    "cat_plot.set_xticklabels(rotation=90)"
   ]
  },
  {
   "cell_type": "markdown",
   "metadata": {},
   "source": [
    "#### Does the image ratio effect green-ness?"
   ]
  },
  {
   "cell_type": "code",
   "execution_count": 32,
   "metadata": {
    "collapsed": false
   },
   "outputs": [
    {
     "data": {
      "text/plain": [
       "<seaborn.axisgrid.FacetGrid at 0x23ebf352ba8>"
      ]
     },
     "execution_count": 32,
     "metadata": {},
     "output_type": "execute_result"
    },
    {
     "data": {
      "image/png": "[encoded data removed]",
      "text/plain": [
       "<matplotlib.figure.Figure at 0x23e89c56f28>"
      ]
     },
     "metadata": {},
     "output_type": "display_data"
    }
   ],
   "source": [
    "#print(data.groupby('image_ratio')[['label']].mean())\n",
    "sb.factorplot(x='image_ratio', y='label', data=data, kind='bar')\n"
   ]
  },
  {
   "cell_type": "markdown",
   "metadata": {},
   "source": [
    "#### Fit a logistic regression model using statsmodels\n",
    "- Test different features that may be valuable\n",
    "- Examine the coefficients, does the feature increase or decrease the effect of being evergreen?"
   ]
  },
  {
   "cell_type": "code",
   "execution_count": 47,
   "metadata": {
    "collapsed": false
   },
   "outputs": [
    {
     "name": "stdout",
     "output_type": "stream",
     "text": [
      "Warning: Maximum number of iterations has been exceeded.\n",
      "         Current function value: 0.649452\n",
      "         Iterations: 35\n"
     ]
    },
    {
     "name": "stderr",
     "output_type": "stream",
     "text": [
      "C:\\Program Files\\Anaconda3\\lib\\site-packages\\statsmodels\\base\\model.py:466: ConvergenceWarning: Maximum Likelihood optimization failed to converge. Check mle_retvals\n",
      "  \"Check mle_retvals\", ConvergenceWarning)\n"
     ]
    },
    {
     "data": {
      "text/html": [
       "<table class=\"simpletable\">\n",
       "<caption>Logit Regression Results</caption>\n",
       "<tr>\n",
       "  <th>Dep. Variable:</th>       <td>label</td>      <th>  No. Observations:  </th>   <td>  7395</td>  \n",
       "</tr>\n",
       "<tr>\n",
       "  <th>Model:</th>               <td>Logit</td>      <th>  Df Residuals:      </th>   <td>  7381</td>  \n",
       "</tr>\n",
       "<tr>\n",
       "  <th>Method:</th>               <td>MLE</td>       <th>  Df Model:          </th>   <td>    13</td>  \n",
       "</tr>\n",
       "<tr>\n",
       "  <th>Date:</th>          <td>Tue, 20 Dec 2016</td> <th>  Pseudo R-squ.:     </th>   <td>0.06256</td> \n",
       "</tr>\n",
       "<tr>\n",
       "  <th>Time:</th>              <td>13:48:11</td>     <th>  Log-Likelihood:    </th>  <td> -4802.7</td> \n",
       "</tr>\n",
       "<tr>\n",
       "  <th>converged:</th>           <td>False</td>      <th>  LL-Null:           </th>  <td> -5123.2</td> \n",
       "</tr>\n",
       "<tr>\n",
       "  <th> </th>                      <td> </td>        <th>  LLR p-value:       </th> <td>1.372e-128</td>\n",
       "</tr>\n",
       "</table>\n",
       "<table class=\"simpletable\">\n",
       "<tr>\n",
       "                     <td></td>                       <th>coef</th>     <th>std err</th>      <th>z</th>      <th>P>|z|</th> <th>[95.0% Conf. Int.]</th> \n",
       "</tr>\n",
       "<tr>\n",
       "  <th>Intercept</th>                              <td>    0.0085</td> <td>    0.041</td> <td>    0.207</td> <td> 0.836</td> <td>   -0.072     0.090</td>\n",
       "</tr>\n",
       "<tr>\n",
       "  <th>alchemy_category[T.arts_entertainment]</th> <td>   -0.5324</td> <td>    0.079</td> <td>   -6.731</td> <td> 0.000</td> <td>   -0.687    -0.377</td>\n",
       "</tr>\n",
       "<tr>\n",
       "  <th>alchemy_category[T.business]</th>           <td>    0.8935</td> <td>    0.085</td> <td>   10.499</td> <td> 0.000</td> <td>    0.727     1.060</td>\n",
       "</tr>\n",
       "<tr>\n",
       "  <th>alchemy_category[T.computer_internet]</th>  <td>   -1.1253</td> <td>    0.141</td> <td>   -7.979</td> <td> 0.000</td> <td>   -1.402    -0.849</td>\n",
       "</tr>\n",
       "<tr>\n",
       "  <th>alchemy_category[T.culture_politics]</th>   <td>   -0.1780</td> <td>    0.116</td> <td>   -1.535</td> <td> 0.125</td> <td>   -0.405     0.049</td>\n",
       "</tr>\n",
       "<tr>\n",
       "  <th>alchemy_category[T.gaming]</th>             <td>   -0.5475</td> <td>    0.241</td> <td>   -2.269</td> <td> 0.023</td> <td>   -1.021    -0.074</td>\n",
       "</tr>\n",
       "<tr>\n",
       "  <th>alchemy_category[T.health]</th>             <td>    0.2861</td> <td>    0.099</td> <td>    2.892</td> <td> 0.004</td> <td>    0.092     0.480</td>\n",
       "</tr>\n",
       "<tr>\n",
       "  <th>alchemy_category[T.law_crime]</th>          <td>   -0.3340</td> <td>    0.366</td> <td>   -0.912</td> <td> 0.362</td> <td>   -1.052     0.384</td>\n",
       "</tr>\n",
       "<tr>\n",
       "  <th>alchemy_category[T.recreation]</th>         <td>    0.7650</td> <td>    0.074</td> <td>   10.340</td> <td> 0.000</td> <td>    0.620     0.910</td>\n",
       "</tr>\n",
       "<tr>\n",
       "  <th>alchemy_category[T.religion]</th>           <td>   -0.3450</td> <td>    0.243</td> <td>   -1.422</td> <td> 0.155</td> <td>   -0.820     0.130</td>\n",
       "</tr>\n",
       "<tr>\n",
       "  <th>alchemy_category[T.science_technology]</th> <td>   -0.1820</td> <td>    0.125</td> <td>   -1.455</td> <td> 0.146</td> <td>   -0.427     0.063</td>\n",
       "</tr>\n",
       "<tr>\n",
       "  <th>alchemy_category[T.sports]</th>             <td>   -1.3623</td> <td>    0.134</td> <td>  -10.199</td> <td> 0.000</td> <td>   -1.624    -1.100</td>\n",
       "</tr>\n",
       "<tr>\n",
       "  <th>alchemy_category[T.unknown]</th>            <td>   -0.7017</td> <td>    0.867</td> <td>   -0.809</td> <td> 0.418</td> <td>   -2.401     0.998</td>\n",
       "</tr>\n",
       "<tr>\n",
       "  <th>alchemy_category[T.weather]</th>            <td>  -18.1423</td> <td> 4331.844</td> <td>   -0.004</td> <td> 0.997</td> <td>-8508.400  8472.115</td>\n",
       "</tr>\n",
       "</table>"
      ],
      "text/plain": [
       "<class 'statsmodels.iolib.summary.Summary'>\n",
       "\"\"\"\n",
       "                           Logit Regression Results                           \n",
       "==============================================================================\n",
       "Dep. Variable:                  label   No. Observations:                 7395\n",
       "Model:                          Logit   Df Residuals:                     7381\n",
       "Method:                           MLE   Df Model:                           13\n",
       "Date:                Tue, 20 Dec 2016   Pseudo R-squ.:                 0.06256\n",
       "Time:                        13:48:11   Log-Likelihood:                -4802.7\n",
       "converged:                      False   LL-Null:                       -5123.2\n",
       "                                        LLR p-value:                1.372e-128\n",
       "==========================================================================================================\n",
       "                                             coef    std err          z      P>|z|      [95.0% Conf. Int.]\n",
       "----------------------------------------------------------------------------------------------------------\n",
       "Intercept                                  0.0085      0.041      0.207      0.836        -0.072     0.090\n",
       "alchemy_category[T.arts_entertainment]    -0.5324      0.079     -6.731      0.000        -0.687    -0.377\n",
       "alchemy_category[T.business]               0.8935      0.085     10.499      0.000         0.727     1.060\n",
       "alchemy_category[T.computer_internet]     -1.1253      0.141     -7.979      0.000        -1.402    -0.849\n",
       "alchemy_category[T.culture_politics]      -0.1780      0.116     -1.535      0.125        -0.405     0.049\n",
       "alchemy_category[T.gaming]                -0.5475      0.241     -2.269      0.023        -1.021    -0.074\n",
       "alchemy_category[T.health]                 0.2861      0.099      2.892      0.004         0.092     0.480\n",
       "alchemy_category[T.law_crime]             -0.3340      0.366     -0.912      0.362        -1.052     0.384\n",
       "alchemy_category[T.recreation]             0.7650      0.074     10.340      0.000         0.620     0.910\n",
       "alchemy_category[T.religion]              -0.3450      0.243     -1.422      0.155        -0.820     0.130\n",
       "alchemy_category[T.science_technology]    -0.1820      0.125     -1.455      0.146        -0.427     0.063\n",
       "alchemy_category[T.sports]                -1.3623      0.134    -10.199      0.000        -1.624    -1.100\n",
       "alchemy_category[T.unknown]               -0.7017      0.867     -0.809      0.418        -2.401     0.998\n",
       "alchemy_category[T.weather]              -18.1423   4331.844     -0.004      0.997     -8508.400  8472.115\n",
       "==========================================================================================================\n",
       "\"\"\""
      ]
     },
     "execution_count": 47,
     "metadata": {},
     "output_type": "execute_result"
    }
   ],
   "source": [
    "import statsmodels.formula.api as sm\n",
    "\n",
    "model = sm.logit(\"label ~ alchemy_category\",data = data).fit()\n",
    "model.summary() "
   ]
  },
  {
   "cell_type": "code",
   "execution_count": null,
   "metadata": {
    "collapsed": true
   },
   "outputs": [],
   "source": []
  },
  {
   "cell_type": "markdown",
   "metadata": {
    "collapsed": true
   },
   "source": [
    "#### Fit a logistic regression model using statsmodels with text features\n",
    "- Add text features that may be useful, add this to the model and see if they improve the fit\n",
    "- Examine the coefficients, does the feature increase or decrease the effect of being evergreen?"
   ]
  },
  {
   "cell_type": "code",
   "execution_count": 52,
   "metadata": {
    "collapsed": false
   },
   "outputs": [
    {
     "name": "stdout",
     "output_type": "stream",
     "text": [
      "Optimization terminated successfully.\n",
      "         Current function value: 0.676303\n",
      "         Iterations 6\n"
     ]
    },
    {
     "data": {
      "text/html": [
       "<table class=\"simpletable\">\n",
       "<caption>Logit Regression Results</caption>\n",
       "<tr>\n",
       "  <th>Dep. Variable:</th>       <td>label</td>      <th>  No. Observations:  </th>  <td>  7395</td>  \n",
       "</tr>\n",
       "<tr>\n",
       "  <th>Model:</th>               <td>Logit</td>      <th>  Df Residuals:      </th>  <td>  7393</td>  \n",
       "</tr>\n",
       "<tr>\n",
       "  <th>Method:</th>               <td>MLE</td>       <th>  Df Model:          </th>  <td>     1</td>  \n",
       "</tr>\n",
       "<tr>\n",
       "  <th>Date:</th>          <td>Tue, 20 Dec 2016</td> <th>  Pseudo R-squ.:     </th>  <td>0.02380</td> \n",
       "</tr>\n",
       "<tr>\n",
       "  <th>Time:</th>              <td>13:52:50</td>     <th>  Log-Likelihood:    </th> <td> -5001.3</td> \n",
       "</tr>\n",
       "<tr>\n",
       "  <th>converged:</th>           <td>True</td>       <th>  LL-Null:           </th> <td> -5123.2</td> \n",
       "</tr>\n",
       "<tr>\n",
       "  <th> </th>                      <td> </td>        <th>  LLR p-value:       </th> <td>5.627e-55</td>\n",
       "</tr>\n",
       "</table>\n",
       "<table class=\"simpletable\">\n",
       "<tr>\n",
       "          <td></td>             <th>coef</th>     <th>std err</th>      <th>z</th>      <th>P>|z|</th> <th>[95.0% Conf. Int.]</th> \n",
       "</tr>\n",
       "<tr>\n",
       "  <th>Intercept</th>         <td>   -0.0227</td> <td>    0.024</td> <td>   -0.953</td> <td> 0.340</td> <td>   -0.069     0.024</td>\n",
       "</tr>\n",
       "<tr>\n",
       "  <th>is_recipe[T.True]</th> <td>    2.1377</td> <td>    0.173</td> <td>   12.330</td> <td> 0.000</td> <td>    1.798     2.478</td>\n",
       "</tr>\n",
       "</table>"
      ],
      "text/plain": [
       "<class 'statsmodels.iolib.summary.Summary'>\n",
       "\"\"\"\n",
       "                           Logit Regression Results                           \n",
       "==============================================================================\n",
       "Dep. Variable:                  label   No. Observations:                 7395\n",
       "Model:                          Logit   Df Residuals:                     7393\n",
       "Method:                           MLE   Df Model:                            1\n",
       "Date:                Tue, 20 Dec 2016   Pseudo R-squ.:                 0.02380\n",
       "Time:                        13:52:50   Log-Likelihood:                -5001.3\n",
       "converged:                       True   LL-Null:                       -5123.2\n",
       "                                        LLR p-value:                 5.627e-55\n",
       "=====================================================================================\n",
       "                        coef    std err          z      P>|z|      [95.0% Conf. Int.]\n",
       "-------------------------------------------------------------------------------------\n",
       "Intercept            -0.0227      0.024     -0.953      0.340        -0.069     0.024\n",
       "is_recipe[T.True]     2.1377      0.173     12.330      0.000         1.798     2.478\n",
       "=====================================================================================\n",
       "\"\"\""
      ]
     },
     "execution_count": 52,
     "metadata": {},
     "output_type": "execute_result"
    }
   ],
   "source": [
    "# EXAMPLE text feature 'recipe'\n",
    "data['is_recipe'] = data['title'].fillna('').str.contains('recipe')\n",
    "model = sm.logit(\"label ~ is_recipe\",data = data).fit()\n",
    "model.summary() "
   ]
  },
  {
   "cell_type": "code",
   "execution_count": 54,
   "metadata": {
    "collapsed": false
   },
   "outputs": [
    {
     "name": "stdout",
     "output_type": "stream",
     "text": [
      "Warning: Maximum number of iterations has been exceeded.\n",
      "         Current function value: 0.675934\n",
      "         Iterations: 35\n"
     ]
    },
    {
     "name": "stderr",
     "output_type": "stream",
     "text": [
      "C:\\Program Files\\Anaconda3\\lib\\site-packages\\statsmodels\\base\\model.py:466: ConvergenceWarning: Maximum Likelihood optimization failed to converge. Check mle_retvals\n",
      "  \"Check mle_retvals\", ConvergenceWarning)\n"
     ]
    },
    {
     "data": {
      "text/html": [
       "<table class=\"simpletable\">\n",
       "<caption>Logit Regression Results</caption>\n",
       "<tr>\n",
       "  <th>Dep. Variable:</th>       <td>label</td>      <th>  No. Observations:  </th>  <td>  7395</td>  \n",
       "</tr>\n",
       "<tr>\n",
       "  <th>Model:</th>               <td>Logit</td>      <th>  Df Residuals:      </th>  <td>  7392</td>  \n",
       "</tr>\n",
       "<tr>\n",
       "  <th>Method:</th>               <td>MLE</td>       <th>  Df Model:          </th>  <td>     2</td>  \n",
       "</tr>\n",
       "<tr>\n",
       "  <th>Date:</th>          <td>Tue, 20 Dec 2016</td> <th>  Pseudo R-squ.:     </th>  <td>0.02433</td> \n",
       "</tr>\n",
       "<tr>\n",
       "  <th>Time:</th>              <td>13:54:21</td>     <th>  Log-Likelihood:    </th> <td> -4998.5</td> \n",
       "</tr>\n",
       "<tr>\n",
       "  <th>converged:</th>           <td>False</td>      <th>  LL-Null:           </th> <td> -5123.2</td> \n",
       "</tr>\n",
       "<tr>\n",
       "  <th> </th>                      <td> </td>        <th>  LLR p-value:       </th> <td>7.222e-55</td>\n",
       "</tr>\n",
       "</table>\n",
       "<table class=\"simpletable\">\n",
       "<tr>\n",
       "              <td></td>                <th>coef</th>     <th>std err</th>      <th>z</th>      <th>P>|z|</th> <th>[95.0% Conf. Int.]</th> \n",
       "</tr>\n",
       "<tr>\n",
       "  <th>Intercept</th>                <td>   -0.0216</td> <td>    0.024</td> <td>   -0.906</td> <td> 0.365</td> <td>   -0.068     0.025</td>\n",
       "</tr>\n",
       "<tr>\n",
       "  <th>is_recipe[T.True]</th>        <td>    2.1366</td> <td>    0.173</td> <td>   12.324</td> <td> 0.000</td> <td>    1.797     2.476</td>\n",
       "</tr>\n",
       "<tr>\n",
       "  <th>alchemy_category[T.True]</th> <td>  -18.1121</td> <td> 4331.568</td> <td>   -0.004</td> <td> 0.997</td> <td>-8507.830  8471.606</td>\n",
       "</tr>\n",
       "</table>"
      ],
      "text/plain": [
       "<class 'statsmodels.iolib.summary.Summary'>\n",
       "\"\"\"\n",
       "                           Logit Regression Results                           \n",
       "==============================================================================\n",
       "Dep. Variable:                  label   No. Observations:                 7395\n",
       "Model:                          Logit   Df Residuals:                     7392\n",
       "Method:                           MLE   Df Model:                            2\n",
       "Date:                Tue, 20 Dec 2016   Pseudo R-squ.:                 0.02433\n",
       "Time:                        13:54:21   Log-Likelihood:                -4998.5\n",
       "converged:                      False   LL-Null:                       -5123.2\n",
       "                                        LLR p-value:                 7.222e-55\n",
       "============================================================================================\n",
       "                               coef    std err          z      P>|z|      [95.0% Conf. Int.]\n",
       "--------------------------------------------------------------------------------------------\n",
       "Intercept                   -0.0216      0.024     -0.906      0.365        -0.068     0.025\n",
       "is_recipe[T.True]            2.1366      0.173     12.324      0.000         1.797     2.476\n",
       "alchemy_category[T.True]   -18.1121   4331.568     -0.004      0.997     -8507.830  8471.606\n",
       "============================================================================================\n",
       "\"\"\""
      ]
     },
     "execution_count": 54,
     "metadata": {},
     "output_type": "execute_result"
    }
   ],
   "source": [
    "data['alchemy_category'] = data['title'].fillna('').str.contains('business')\n",
    "model = sm.logit(\"label ~ is_recipe + alchemy_category\",data = data).fit()\n",
    "model.summary() "
   ]
  },
  {
   "cell_type": "code",
   "execution_count": null,
   "metadata": {
    "collapsed": true
   },
   "outputs": [],
   "source": []
  }
 ],
 "metadata": {
  "anaconda-cloud": {},
  "kernelspec": {
   "display_name": "Python [conda root]",
   "language": "python",
   "name": "conda-root-py"
  },
  "language_info": {
   "codemirror_mode": {
    "name": "ipython",
    "version": 3
   },
   "file_extension": ".py",
   "mimetype": "text/x-python",
   "name": "python",
   "nbconvert_exporter": "python",
   "pygments_lexer": "ipython3",
   "version": "3.5.2"
  }
 },
 "nbformat": 4,
 "nbformat_minor": 0
}
