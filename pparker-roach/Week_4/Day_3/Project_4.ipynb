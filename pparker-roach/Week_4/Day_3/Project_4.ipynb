{
 "cells": [
  {
   "cell_type": "markdown",
   "metadata": {
    "focus": false,
    "id": "69b9a648-bcc7-490d-9f9b-ea244d156bd6"
   },
   "source": [
    "# Web Scraping for Indeed.com & Predicting Salaries"
   ]
  },
  {
   "cell_type": "markdown",
   "metadata": {
    "focus": false,
    "id": "34681254-c802-462f-829d-8894d0772d08"
   },
   "source": [
    "In this project, we will practice two major skills: collecting data by scraping a website and then building a binary predictor with Logistic Regression.\n",
    "\n",
    "We are going to collect salary information on data science jobs in a variety of markets. Then using the location, title and summary of the job we will attempt to predict the salary of the job. For job posting sites, this would be extraordinarily useful. While most listings DO NOT come with salary information (as you will see in this exercise), being to able extrapolate or predict the expected salaries from other listings can help guide negotiations.\n",
    "\n",
    "Normally, we could use regression for this task; however, we will convert this problem into classification and use Logistic Regression.\n",
    "\n",
    "- Question: Why would we want this to be a classification problem?\n",
    "- Answer: While more precision may be better, there is a fair amount of natural variance in job salaries - predicting a range be may be useful.\n",
    "\n",
    "Therefore, the first part of the assignment will be focused on scraping Indeed.com. In the second, we'll focus on using listings with salary information to build a model and predict additional salaries."
   ]
  },
  {
   "cell_type": "markdown",
   "metadata": {
    "focus": false,
    "id": "a948d79c-5527-4c0d-ab23-f5d43ce72056"
   },
   "source": [
    "### Scraping job listings from Indeed.com"
   ]
  },
  {
   "cell_type": "markdown",
   "metadata": {
    "focus": true,
    "id": "7203e0c9-e437-4802-a6ad-7dc464f94436"
   },
   "source": [
    "We will be scraping job listings from Indeed.com using BeautifulSoup. Luckily, Indeed.com is a simple text page where we can easily find relevant entries.\n",
    "\n",
    "First, look at the source of an Indeed.com page: (http://www.indeed.com/jobs?q=data+scientist+%2420%2C000&l=New+York&start=0&limit=3000\")\n",
    "\n",
    "Notice, each job listing is underneath a `div` tag with a class name of `result`. We can use BeautifulSoup to extract those. "
   ]
  },
  {
   "cell_type": "markdown",
   "metadata": {
    "focus": false,
    "id": "9732c901-ae26-4160-8376-42e22dd327df"
   },
   "source": [
    "#### Setup a request (using `requests`) to the URL below. Use BeautifulSoup to parse the page and extract all results (HINT: Look for div tags with class name result)\n",
    "\n",
    "The URL here has many query parameters\n",
    "\n",
    "- `q` for the job search\n",
    "- This is followed by \"+20,000\" to return results with salaries (or expected salaries >$20,000)\n",
    "- `l` for a location \n",
    "- `start` for what result number to start on"
   ]
  },
  {
   "cell_type": "code",
   "execution_count": 86,
   "metadata": {
    "collapsed": false,
    "focus": false,
    "id": "e915023e-6b0d-4982-af2a-b1e0355f4927"
   },
   "outputs": [],
   "source": [
    "URL = \"http://www.indeed.com/jobs?q=data+scientist+%2420%2C000&l=New+York&start=0&limit=100\"\n"
   ]
  },
  {
   "cell_type": "code",
   "execution_count": 87,
   "metadata": {
    "collapsed": false,
    "focus": false,
    "id": "2efefc73-064a-482d-b3b5-ddf5508cb4ec"
   },
   "outputs": [],
   "source": [
    "import requests\n",
    "import bs4\n",
    "from bs4 import BeautifulSoup\n"
   ]
  },
  {
   "cell_type": "code",
   "execution_count": 90,
   "metadata": {
    "collapsed": false,
    "focus": false,
    "id": "2c6752c4-7704-4c94-8bc0-6f13d2d0d570"
   },
   "outputs": [
    {
     "name": "stderr",
     "output_type": "stream",
     "text": [
      "C:\\Program Files\\Anaconda3\\lib\\site-packages\\bs4\\__init__.py:181: UserWarning: No parser was explicitly specified, so I'm using the best available HTML parser for this system (\"lxml\"). This usually isn't a problem, but if you run this code on another system, or in a different virtual environment, it may use a different parser and behave differently.\n",
      "\n",
      "The code that caused this warning is on line 184 of the file C:\\Program Files\\Anaconda3\\lib\\runpy.py. To get rid of this warning, change code that looks like this:\n",
      "\n",
      " BeautifulSoup([your markup])\n",
      "\n",
      "to this:\n",
      "\n",
      " BeautifulSoup([your markup], \"lxml\")\n",
      "\n",
      "  markup_type=markup_type))\n"
     ]
    }
   ],
   "source": [
    "r = requests.get(URL)\n",
    "\n",
    "soup = BeautifulSoup(r.content)\n",
    "#soup.find('div',{\"class\" : \"result\"})\n",
    "\n"
   ]
  },
  {
   "cell_type": "markdown",
   "metadata": {
    "focus": false,
    "id": "bb0b866a-26a7-45e9-8084-5a0f90eb4b3e"
   },
   "source": [
    "Let's look at one result more closely. A single `result` looks like\n",
    "\n",
    "```\n",
    "<div class=\" row result\" data-jk=\"2480d203f7e97210\" data-tn-component=\"organicJob\" id=\"p_2480d203f7e97210\" itemscope=\"\" itemtype=\"http://schema.org/JobPosting\">\n",
    "<h2 class=\"jobtitle\" id=\"jl_2480d203f7e97210\">\n",
    "<a class=\"turnstileLink\" data-tn-element=\"jobTitle\" onmousedown=\"return rclk(this,jobmap[0],1);\" rel=\"nofollow\" target=\"_blank\" title=\"AVP/Quantitative Analyst\">AVP/Quantitative Analyst</a>\n",
    "</h2>\n",
    "<span class=\"company\" itemprop=\"hiringOrganization\" itemtype=\"http://schema.org/Organization\">\n",
    "<span itemprop=\"name\">\n",
    "<a href=\"/cmp/Alliancebernstein?from=SERP&amp;campaignid=serp-linkcompanyname&amp;fromjk=2480d203f7e97210&amp;jcid=b374f2a780e04789\" target=\"_blank\">\n",
    "    AllianceBernstein</a></span>\n",
    "</span>\n",
    "<tr>\n",
    "<td class=\"snip\">\n",
    "<nobr>$117,500 - $127,500 a year</nobr>\n",
    "<div>\n",
    "<span class=\"summary\" itemprop=\"description\">\n",
    "C onduct quantitative and statistical research as well as portfolio management for various investment portfolios. Collaborate with Quantitative Analysts and</span>\n",
    "</div>\n",
    "</div>\n",
    "</td>\n",
    "</tr>\n",
    "</table>\n",
    "</div>\n",
    "```\n",
    "\n",
    "While this has some more verbose elements removed, we can see that there is some structure to the above:\n",
    "- The salary is available in a `nobr` element inside of a `td` element with `class='snip`.\n",
    "- The title of a job is in a link with class set to `jobtitle` and a `data-tn-element=\"jobTitle`.  \n",
    "- The location is set in a `span` with `class='location'`. \n",
    "- The company is set in a `span` with `class='company'`. "
   ]
  },
  {
   "cell_type": "markdown",
   "metadata": {
    "focus": false,
    "id": "f1eddb90-4ba8-483c-a229-77e93aa53119"
   },
   "source": [
    "### Write 4 functions to extract each item: location, company, job, and salary.\n",
    "\n",
    "example: \n",
    "```python\n",
    "def extract_location_from_result(result):\n",
    "    return result.find ...\n",
    "```\n",
    "\n",
    "\n",
    "- **Make sure these functions are robust and can handle cases where the data/field may not be available.**\n",
    "    - Remember to check if a field is empty or `None` for attempting to call methods on it\n",
    "    - Remember to use `try/except` if you anticipate errors\n",
    "- **Test** the functions on the results above and simple examples\n",
    "\n",
    "results = soup.find_all('div', attrs={'data-tn-component': 'organicJob'})\n",
    "\n",
    "for x in results:\n",
    "   company = x.find('span', attrs={\"itemprop\":\"name\"})\n",
    "   print('company:', company.text.strip())\n",
    "\n",
    "   job = x.find('a', attrs={'data-tn-element': \"jobTitle\"})\n",
    "   print('job:', job.text.strip())\n",
    "\n",
    "   salary = x.find('nobr')\n",
    "   if salary:\n",
    "       print('salary:', salary.text.strip())"
   ]
  },
  {
   "cell_type": "code",
   "execution_count": 92,
   "metadata": {
    "collapsed": false,
    "focus": false,
    "id": "a1af53c9-9090-494f-b82e-cadb60a54909"
   },
   "outputs": [
    {
     "name": "stdout",
     "output_type": "stream",
     "text": [
      "['jl_7d704e2dbc888592', 'jl_c4ebd6893f703fa9', 'jl_17e1a01839765d1f', 'jl_c295d72fdebbf963', 'jl_deb1db41fa28e242', 'jl_d966a01f4f61816c', 'jl_4f65a0835a5158df', 'jl_ad0a04a240217dd9', 'jl_47f2acc60275099c', 'jl_13af315afb7306a5', 'jl_0f086dc6b01a25a9', 'jl_f9257e56d2f31c68', 'jl_5df32b8b929debf1', 'jl_8cb25b756991ff37', 'jl_00e6bc95543aa71b', 'jl_720ca08b3a845877', 'jl_50a65229ec350a47', 'jl_9161d0c5c360ceeb', 'jl_679f4953b669b8bc', 'jl_16b5cbf9b347057c', 'jl_98d16f6d4218fc34', 'jl_346ea0734f9c2558', 'jl_348dc0d6f976934c', 'jl_85cb85bcf13d888c', 'jl_1879dda6cc6d1fe3', 'jl_92557cc3a97319e8', 'jl_8f2b0caa236246e0', 'jl_581f7585628c94a1', 'jl_9635ab80e27ef177', 'jl_e1513c16ffc8f068', 'jl_5708dd694ef11190', 'jl_45d0733539ae12fa', 'jl_f77d9dce3276bcc7', 'jl_6f798e431980307b', 'jl_1b2d1abe77f6161b', 'jl_3e8f7b2aadaf01a9', 'jl_864dca667ec6ad2a', 'jl_5e6844922418f5cd', 'jl_bbc4e2625dfb25ab', 'jl_deb76c5b1cafb388', 'jl_f81e6bf9e1390841', 'jl_82779fee8329f757', 'jl_bad48f32099ce42e', 'jl_51bba090e2928d48', 'jl_367e8cdcc8380b0b', 'jl_833613747331c43d', 'jl_294a11e8955ee554', 'jl_f172b8e39bc98a19', 'jl_0d835797b23de056', 'jl_5216630289ab0ef6', 'jl_5c6ff7d4ce212257', 'jl_b2e2c3168425ec11', 'jl_45e777c1172355b2', 'jl_f3a33684a1b15203', 'jl_bb5f72f65e6cfea9', 'jl_2884b77e120363fb', 'jl_47b0a165f77bf035', 'jl_8f474fd2bcabbff9', 'jl_81e02aa2b9a1d82c', 'jl_aafc697171da8178', 'jl_797dc9ddcae44a12', 'jl_9cf3e6141586abb7', 'jl_31d02b45ddc4ac87', 'jl_80663025afb4d754', 'jl_2fc1515998f7985f', 'jl_159275c7a48c59e3', 'jl_7152b1b42deb6448', 'jl_c6c7f4c04d1dc91f', 'jl_9a1cc294e601b6f5', 'jl_8449393c05c7fe7b', 'jl_4d0eb2e4287e914c', 'jl_4055ce2be41ece8b', 'jl_bda3c1e97aefb30e', 'jl_d72978cbaf6a903d', 'jl_eac12b6c8f8b9ca9', 'jl_10c8f7ac27fbec3d', 'jl_9d946134ea764825', 'jl_bca4b3ff25be5187', 'jl_82a65d3f9fbeda64', 'jl_0bb5be93ae96f543', 'jl_c820721e92b48468', 'jl_33ea2e4efb9a4a58', 'jl_6b7dabf9ae174fc7', 'jl_0af25b0911ed8abe', 'jl_f79e452c00bb08c5', 'jl_dd5f6842db3eb410', 'jl_c3f5d205ee6b4d08', 'jl_f9bfd711e870be32', 'jl_65784fe51079defb', 'jl_b0a529ee82bb5fa2', 'jl_566aa2696440077e', 'jl_d49612d0afe4c45b', 'jl_686de2b6eefd92cd', 'jl_6797e5a53e5ea197', 'jl_8f50bf92d379b709', 'jl_7b0f72d3d46ab9c4', 'jl_281b37ce89dd6b72', 'jl_2305b2b9cf02718c', 'jl_18a52cdeab3eb8c1', 'jl_d61ae7c86fe7764b']\n",
      "[None, None, None, None, None, None, None, None, None, None, None, None, None, None, 'Intern Programmer Finance Data Science', None, None, None, None, None, None, None, None, None, None, None, None, None, None, None, None, None, 'Data Scientist Role', None, None, None, 'CTO/NLP Engineer/Data Scientist', None, None, None, 'Senior Data Scientist', None, None, None, None, None, None, None, None, None, None, 'Data Scientist', None, 'Data Scientist', None, 'Data Scientist', None, None, None, None, None, None, None, None, None, None, None, None, None, None, None, None, None, None, None, 'Sr. Data Scientist', None, None, None, None, 'Data Scientist', 'Data Scientist', None, 'Data Scientist - Quantitative Hedge Fund', 'Data Scientist/Predictive Modeller', None, None, None, None, None, None, None, None, None, None, None, None, None, None, None]\n",
      "{'ID': ['jl_7d704e2dbc888592', 'jl_c4ebd6893f703fa9', 'jl_17e1a01839765d1f', 'jl_c295d72fdebbf963', 'jl_deb1db41fa28e242', 'jl_d966a01f4f61816c', 'jl_4f65a0835a5158df', 'jl_ad0a04a240217dd9', 'jl_47f2acc60275099c', 'jl_13af315afb7306a5', 'jl_0f086dc6b01a25a9', 'jl_f9257e56d2f31c68', 'jl_5df32b8b929debf1', 'jl_8cb25b756991ff37', 'jl_00e6bc95543aa71b', 'jl_720ca08b3a845877', 'jl_50a65229ec350a47', 'jl_9161d0c5c360ceeb', 'jl_679f4953b669b8bc', 'jl_16b5cbf9b347057c', 'jl_98d16f6d4218fc34', 'jl_346ea0734f9c2558', 'jl_348dc0d6f976934c', 'jl_85cb85bcf13d888c', 'jl_1879dda6cc6d1fe3', 'jl_92557cc3a97319e8', 'jl_8f2b0caa236246e0', 'jl_581f7585628c94a1', 'jl_9635ab80e27ef177', 'jl_e1513c16ffc8f068', 'jl_5708dd694ef11190', 'jl_45d0733539ae12fa', 'jl_f77d9dce3276bcc7', 'jl_6f798e431980307b', 'jl_1b2d1abe77f6161b', 'jl_3e8f7b2aadaf01a9', 'jl_864dca667ec6ad2a', 'jl_5e6844922418f5cd', 'jl_bbc4e2625dfb25ab', 'jl_deb76c5b1cafb388', 'jl_f81e6bf9e1390841', 'jl_82779fee8329f757', 'jl_bad48f32099ce42e', 'jl_51bba090e2928d48', 'jl_367e8cdcc8380b0b', 'jl_833613747331c43d', 'jl_294a11e8955ee554', 'jl_f172b8e39bc98a19', 'jl_0d835797b23de056', 'jl_5216630289ab0ef6', 'jl_5c6ff7d4ce212257', 'jl_b2e2c3168425ec11', 'jl_45e777c1172355b2', 'jl_f3a33684a1b15203', 'jl_bb5f72f65e6cfea9', 'jl_2884b77e120363fb', 'jl_47b0a165f77bf035', 'jl_8f474fd2bcabbff9', 'jl_81e02aa2b9a1d82c', 'jl_aafc697171da8178', 'jl_797dc9ddcae44a12', 'jl_9cf3e6141586abb7', 'jl_31d02b45ddc4ac87', 'jl_80663025afb4d754', 'jl_2fc1515998f7985f', 'jl_159275c7a48c59e3', 'jl_7152b1b42deb6448', 'jl_c6c7f4c04d1dc91f', 'jl_9a1cc294e601b6f5', 'jl_8449393c05c7fe7b', 'jl_4d0eb2e4287e914c', 'jl_4055ce2be41ece8b', 'jl_bda3c1e97aefb30e', 'jl_d72978cbaf6a903d', 'jl_eac12b6c8f8b9ca9', 'jl_10c8f7ac27fbec3d', 'jl_9d946134ea764825', 'jl_bca4b3ff25be5187', 'jl_82a65d3f9fbeda64', 'jl_0bb5be93ae96f543', 'jl_c820721e92b48468', 'jl_33ea2e4efb9a4a58', 'jl_6b7dabf9ae174fc7', 'jl_0af25b0911ed8abe', 'jl_f79e452c00bb08c5', 'jl_dd5f6842db3eb410', 'jl_c3f5d205ee6b4d08', 'jl_f9bfd711e870be32', 'jl_65784fe51079defb', 'jl_b0a529ee82bb5fa2', 'jl_566aa2696440077e', 'jl_d49612d0afe4c45b', 'jl_686de2b6eefd92cd', 'jl_6797e5a53e5ea197', 'jl_8f50bf92d379b709', 'jl_7b0f72d3d46ab9c4', 'jl_281b37ce89dd6b72', 'jl_2305b2b9cf02718c', 'jl_18a52cdeab3eb8c1', 'jl_d61ae7c86fe7764b']}\n",
      "{'Title': [None, None, None, None, None, None, None, None, None, None, None, None, None, None, 'Intern Programmer Finance Data Science', None, None, None, None, None, None, None, None, None, None, None, None, None, None, None, None, None, 'Data Scientist Role', None, None, None, 'CTO/NLP Engineer/Data Scientist', None, None, None, 'Senior Data Scientist', None, None, None, None, None, None, None, None, None, None, 'Data Scientist', None, 'Data Scientist', None, 'Data Scientist', None, None, None, None, None, None, None, None, None, None, None, None, None, None, None, None, None, None, None, 'Sr. Data Scientist', None, None, None, None, 'Data Scientist', 'Data Scientist', None, 'Data Scientist - Quantitative Hedge Fund', 'Data Scientist/Predictive Modeller', None, None, None, None, None, None, None, None, None, None, None, None, None, None, None], 'ID': ['jl_7d704e2dbc888592', 'jl_c4ebd6893f703fa9', 'jl_17e1a01839765d1f', 'jl_c295d72fdebbf963', 'jl_deb1db41fa28e242', 'jl_d966a01f4f61816c', 'jl_4f65a0835a5158df', 'jl_ad0a04a240217dd9', 'jl_47f2acc60275099c', 'jl_13af315afb7306a5', 'jl_0f086dc6b01a25a9', 'jl_f9257e56d2f31c68', 'jl_5df32b8b929debf1', 'jl_8cb25b756991ff37', 'jl_00e6bc95543aa71b', 'jl_720ca08b3a845877', 'jl_50a65229ec350a47', 'jl_9161d0c5c360ceeb', 'jl_679f4953b669b8bc', 'jl_16b5cbf9b347057c', 'jl_98d16f6d4218fc34', 'jl_346ea0734f9c2558', 'jl_348dc0d6f976934c', 'jl_85cb85bcf13d888c', 'jl_1879dda6cc6d1fe3', 'jl_92557cc3a97319e8', 'jl_8f2b0caa236246e0', 'jl_581f7585628c94a1', 'jl_9635ab80e27ef177', 'jl_e1513c16ffc8f068', 'jl_5708dd694ef11190', 'jl_45d0733539ae12fa', 'jl_f77d9dce3276bcc7', 'jl_6f798e431980307b', 'jl_1b2d1abe77f6161b', 'jl_3e8f7b2aadaf01a9', 'jl_864dca667ec6ad2a', 'jl_5e6844922418f5cd', 'jl_bbc4e2625dfb25ab', 'jl_deb76c5b1cafb388', 'jl_f81e6bf9e1390841', 'jl_82779fee8329f757', 'jl_bad48f32099ce42e', 'jl_51bba090e2928d48', 'jl_367e8cdcc8380b0b', 'jl_833613747331c43d', 'jl_294a11e8955ee554', 'jl_f172b8e39bc98a19', 'jl_0d835797b23de056', 'jl_5216630289ab0ef6', 'jl_5c6ff7d4ce212257', 'jl_b2e2c3168425ec11', 'jl_45e777c1172355b2', 'jl_f3a33684a1b15203', 'jl_bb5f72f65e6cfea9', 'jl_2884b77e120363fb', 'jl_47b0a165f77bf035', 'jl_8f474fd2bcabbff9', 'jl_81e02aa2b9a1d82c', 'jl_aafc697171da8178', 'jl_797dc9ddcae44a12', 'jl_9cf3e6141586abb7', 'jl_31d02b45ddc4ac87', 'jl_80663025afb4d754', 'jl_2fc1515998f7985f', 'jl_159275c7a48c59e3', 'jl_7152b1b42deb6448', 'jl_c6c7f4c04d1dc91f', 'jl_9a1cc294e601b6f5', 'jl_8449393c05c7fe7b', 'jl_4d0eb2e4287e914c', 'jl_4055ce2be41ece8b', 'jl_bda3c1e97aefb30e', 'jl_d72978cbaf6a903d', 'jl_eac12b6c8f8b9ca9', 'jl_10c8f7ac27fbec3d', 'jl_9d946134ea764825', 'jl_bca4b3ff25be5187', 'jl_82a65d3f9fbeda64', 'jl_0bb5be93ae96f543', 'jl_c820721e92b48468', 'jl_33ea2e4efb9a4a58', 'jl_6b7dabf9ae174fc7', 'jl_0af25b0911ed8abe', 'jl_f79e452c00bb08c5', 'jl_dd5f6842db3eb410', 'jl_c3f5d205ee6b4d08', 'jl_f9bfd711e870be32', 'jl_65784fe51079defb', 'jl_b0a529ee82bb5fa2', 'jl_566aa2696440077e', 'jl_d49612d0afe4c45b', 'jl_686de2b6eefd92cd', 'jl_6797e5a53e5ea197', 'jl_8f50bf92d379b709', 'jl_7b0f72d3d46ab9c4', 'jl_281b37ce89dd6b72', 'jl_2305b2b9cf02718c', 'jl_18a52cdeab3eb8c1', 'jl_d61ae7c86fe7764b']}\n"
     ]
    },
    {
     "ename": "NameError",
     "evalue": "name 'pd' is not defined",
     "output_type": "error",
     "traceback": [
      "\u001b[0;31m---------------------------------------------------------------------------\u001b[0m",
      "\u001b[0;31mNameError\u001b[0m                                 Traceback (most recent call last)",
      "\u001b[0;32m<ipython-input-92-4301937524e5>\u001b[0m in \u001b[0;36m<module>\u001b[0;34m()\u001b[0m\n\u001b[1;32m     44\u001b[0m \u001b[1;33m\u001b[0m\u001b[0m\n\u001b[1;32m     45\u001b[0m \u001b[1;33m\u001b[0m\u001b[0m\n\u001b[0;32m---> 46\u001b[0;31m \u001b[0mdf\u001b[0m \u001b[1;33m=\u001b[0m \u001b[0mpd\u001b[0m\u001b[1;33m.\u001b[0m\u001b[0mDataFrame\u001b[0m\u001b[1;33m(\u001b[0m\u001b[0mindeed\u001b[0m\u001b[1;33m,\u001b[0m \u001b[0mcolumns\u001b[0m\u001b[1;33m=\u001b[0m\u001b[1;33m[\u001b[0m\u001b[1;34m\"ID\"\u001b[0m\u001b[1;33m,\u001b[0m\u001b[1;34m\"Title\"\u001b[0m\u001b[1;33m]\u001b[0m\u001b[1;33m)\u001b[0m\u001b[1;33m\u001b[0m\u001b[0m\n\u001b[0m\u001b[1;32m     47\u001b[0m \u001b[0mprint\u001b[0m\u001b[1;33m(\u001b[0m\u001b[0mdf\u001b[0m\u001b[1;33m)\u001b[0m\u001b[1;33m\u001b[0m\u001b[0m\n",
      "\u001b[0;31mNameError\u001b[0m: name 'pd' is not defined"
     ]
    }
   ],
   "source": [
    "#results = soup.find_all('div', attrs={'data-tn-component': 'organicJob'})\n",
    "#results = soup.find_all('td', attrs={\"class\":\"jobtitle turnstilelink\"})\n",
    "\n",
    "\n",
    "\n",
    "def link_filter(new_url):\n",
    "    if 'rc/clk' in new_url:\n",
    "        pass\n",
    "    else:\n",
    "        job_title = getTitle(new_url)\n",
    "        return job_title\n",
    "\n",
    "def getTitle(URL):\n",
    "    r = requests.get(URL)\n",
    "    soup = BeautifulSoup(r.content, 'html.parser')\n",
    "    jobtitle = soup.find('b', {'class':'jobtitle'})\n",
    "    title = jobtitle.text.strip()\n",
    "    return title\n",
    "\n",
    "results = soup.find_all('div', attrs={'data-tn-component': 'organicJob'})\n",
    "ID = []\n",
    "Title = []\n",
    "for x in results:\n",
    "    company = x.find('span', attrs={\"itemprop\":\"name\"})\n",
    "    job = x.find('a', attrs={'data-tn-element': \"jobTitle\"})\n",
    "  \n",
    "    job_id = x.find('h2', attrs={\"class\": \"jobtitle\"})['id']\n",
    "    ID.append(job_id)\n",
    "  \n",
    "    #Link\n",
    "    link = x.find('h2', attrs={\"class\": \"jobtitle\"}).find('a')['href']\n",
    "    job_url = \"https://www.indeed.com\" + link\n",
    "\n",
    "    job_link = BeautifulSoup(r.content, 'html.parser')\n",
    "\n",
    "    Title.append(link_filter(job_url))\n",
    "print (ID)\n",
    "print (Title)\n",
    "indeed = {'ID': ID}\n",
    "print(indeed)\n",
    "\n",
    "indeed = {'ID': ID, 'Title':Title}\n",
    "print(indeed)\n",
    "\n",
    "\n",
    "df = pd.DataFrame(indeed, columns=[\"ID\",\"Title\"])\n",
    "print(df)\n"
   ]
  },
  {
   "cell_type": "markdown",
   "metadata": {
    "focus": false,
    "id": "34070e89-9521-4b45-90c8-57a6599aac68"
   },
   "source": [
    "Now, to scale up our scraping, we need to accumulate more results. We can do this by examining the URL above.\n",
    "\n",
    "- \"http://www.indeed.com/jobs?q=data+scientist+%2420%2C000&l=New+York&start=10\"\n",
    "\n",
    "There are two query parameters here we can alter to collect more results, the `l=New+York` and the `start=10`. The first controls the location of the results (so we can try a different city). The second controls where in the results to start and gives 10 results (thus, we can keep incrementing by 10 to go further in the list)."
   ]
  },
  {
   "cell_type": "markdown",
   "metadata": {
    "focus": false,
    "id": "e8beed7c-3e42-40c0-810f-5f67f8f885a0"
   },
   "source": [
    "#### Complete the following code to collect results from multiple cities and starting points. \n",
    "- Enter your city below to add it to the search\n",
    "- Remember to convert your salary to U.S. Dollars to match the other cities if the currency is different"
   ]
  },
  {
   "cell_type": "code",
   "execution_count": 5,
   "metadata": {
    "collapsed": true,
    "focus": false,
    "id": "a9aa87ec-3575-4a01-a986-eb684f2c47d0"
   },
   "outputs": [],
   "source": [
    "YOUR_CITY = ''"
   ]
  },
  {
   "cell_type": "code",
   "execution_count": 6,
   "metadata": {
    "collapsed": false,
    "focus": false,
    "id": "04b0f9af-540e-402f-8292-81748707c676"
   },
   "outputs": [],
   "source": [
    "url_template = \"http://www.indeed.com/jobs?q=data+scientist+%2420%2C000&l={}&start={}\"\n",
    "max_results_per_city = 100 # Set this to a high-value (5000) to generate more results. deed\n",
    "        # Append to the full set of results\n",
    "        pass"
   ]
  },
  {
   "cell_type": "markdown",
   "metadata": {
    "focus": false,
    "id": "20339c09-5032-4e27-91be-286e9b46cd13"
   },
   "source": [
    "#### Use the functions you wrote above to parse out the 4 fields - location, title, company and salary. Create a dataframe from the results with those 4 columns."
   ]
  },
  {
   "cell_type": "code",
   "execution_count": 7,
   "metadata": {
    "collapsed": false,
    "focus": false,
    "id": "6e259594-1c52-436b-ab9e-527e071941c1"
   },
   "outputs": [],
   "source": [
    "## YOUR CODE HERE"
   ]
  },
  {
   "cell_type": "markdown",
   "metadata": {
    "focus": false,
    "id": "ff98ce64-78a7-441f-a675-63464e32c834"
   },
   "source": [
    "Lastly, we need to clean up salary data. \n",
    "\n",
    "1. Only a small number of the scraped results have salary information - only these will be used for modeling.\n",
    "1. Some of the salaries are not yearly but hourly or weekly, these will not be useful to us for now\n",
    "1. Some of the entries may be duplicated\n",
    "1. The salaries are given as text and usually with ranges.\n",
    "\n",
    "#### Find the entries with annual salary entries, by filtering the entries without salaries or salaries that are not yearly (filter those that refer to hour or week). Also, remove duplicate entries"
   ]
  },
  {
   "cell_type": "code",
   "execution_count": 9,
   "metadata": {
    "collapsed": false,
    "focus": false,
    "id": "58533e57-f86b-494a-b841-e7b59c6229c6"
   },
   "outputs": [],
   "source": [
    "## YOUR CODE HERE"
   ]
  },
  {
   "cell_type": "markdown",
   "metadata": {
    "focus": false,
    "id": "7d4bc860-b214-4f75-9cd0-b234830b1ec2"
   },
   "source": [
    "#### Write a function that takes a salary string and converts it to a number, averaging a salary range if necessary"
   ]
  },
  {
   "cell_type": "code",
   "execution_count": 10,
   "metadata": {
    "collapsed": true,
    "focus": false,
    "id": "a0f701e0-80bd-40ba-9101-4535860c0968"
   },
   "outputs": [],
   "source": [
    "## YOUR CODE HERE"
   ]
  },
  {
   "cell_type": "markdown",
   "metadata": {
    "collapsed": false,
    "focus": false,
    "id": "43e71edd-210e-42b1-9336-70a931f048af"
   },
   "source": [
    "### Save your results as a CSV"
   ]
  },
  {
   "cell_type": "code",
   "execution_count": 14,
   "metadata": {
    "collapsed": true,
    "focus": false,
    "id": "783fd153-28ac-47ab-bfca-27e7c1de95b4"
   },
   "outputs": [],
   "source": [
    "## YOUR CODE HERE"
   ]
  },
  {
   "cell_type": "markdown",
   "metadata": {
    "focus": false,
    "id": "04563b69-f7b6-466f-9d65-fc62c9ddee6a"
   },
   "source": [
    "## Predicting salaries using Logistic Regression"
   ]
  },
  {
   "cell_type": "markdown",
   "metadata": {
    "focus": false,
    "id": "243e949e-2742-40af-872e-fec475fd306c"
   },
   "source": [
    "#### Load in the the data of scraped salaries"
   ]
  },
  {
   "cell_type": "code",
   "execution_count": 12,
   "metadata": {
    "collapsed": false,
    "focus": false,
    "id": "588f9845-6143-4bcc-bfd1-85d45b79303d"
   },
   "outputs": [],
   "source": [
    "## YOUR CODE HERE"
   ]
  },
  {
   "cell_type": "markdown",
   "metadata": {
    "focus": false,
    "id": "c7631f51-07f2-4c79-a093-3e9bc7849a48"
   },
   "source": [
    "#### We want to predict a binary variable - whether the salary was low or high. Compute the median salary and create a new binary variable that is true when the salary is high (above the median)\n",
    "\n",
    "We could also perform Linear Regression (or any regression) to predict the salary value here. Instead, we are going to convert this into a _binary_ classification problem, by predicting two classes, HIGH vs LOW salary.\n",
    "\n",
    "While performing regression may be better, performing classification may help remove some of the noise of the extreme salaries. We don't have to choice the `median` as the splitting point - we could also split on the 75th percentile or any other reasonable breaking point.\n",
    "\n",
    "In fact, the ideal scenario may be to predict many levels of salaries, "
   ]
  },
  {
   "cell_type": "code",
   "execution_count": 15,
   "metadata": {
    "collapsed": true,
    "focus": false,
    "id": "c20d2498-151c-44c3-a453-3a333c79a0ac"
   },
   "outputs": [],
   "source": [
    "## YOUR CODE HERE"
   ]
  },
  {
   "cell_type": "markdown",
   "metadata": {
    "focus": false,
    "id": "a7afb2c0-d41e-4779-8216-91cd8dd4473f"
   },
   "source": [
    "#### Thought experiment: What is the baseline accuracy for this model?"
   ]
  },
  {
   "cell_type": "code",
   "execution_count": 16,
   "metadata": {
    "collapsed": true,
    "focus": false,
    "id": "87a17d3d-b7f4-4747-9f75-f9af1d18a174"
   },
   "outputs": [],
   "source": [
    "## YOUR CODE HERE"
   ]
  },
  {
   "cell_type": "markdown",
   "metadata": {
    "focus": false,
    "id": "4fb29de2-5b98-474c-a4ad-5170b72b9aea"
   },
   "source": [
    "#### Create a Logistic Regression model to predict High/Low salary using statsmodel. Start by ONLY using the location as a feature. Display the coefficients and write a short summary of what they mean."
   ]
  },
  {
   "cell_type": "code",
   "execution_count": 17,
   "metadata": {
    "collapsed": false,
    "focus": false,
    "id": "ddbc6159-6854-4ca7-857f-bfecdaf6d9c2"
   },
   "outputs": [],
   "source": [
    "## YOUR CODE HERE"
   ]
  },
  {
   "cell_type": "markdown",
   "metadata": {
    "focus": false,
    "id": "0ef04f32-419c-4bf2-baf7-48201f03df89"
   },
   "source": [
    "#### Create a few new variables in your dataframe to represent interesting features of a job title.\n",
    "- For example, create a feature that represents whether 'Senior' is in the title \n",
    "- or whether 'Manager' is in the title. \n",
    "- Then build a new Logistic Regression model with these features. Do they add any value? \n"
   ]
  },
  {
   "cell_type": "code",
   "execution_count": 18,
   "metadata": {
    "collapsed": false,
    "focus": false,
    "id": "068dc1cf-7fd7-4f27-a1f1-7f0a5a221d29"
   },
   "outputs": [],
   "source": [
    "## YOUR CODE HERE"
   ]
  },
  {
   "cell_type": "markdown",
   "metadata": {
    "focus": false,
    "id": "9c9274ef-c9f5-4d56-b286-ecc8709eff9f"
   },
   "source": [
    "#### Rebuild this model with scikit-learn.\n",
    "- You can either create the dummy features manually or use the `dmatrix` function from `patsy`\n",
    "- Remember to scale the feature variables as well!\n"
   ]
  },
  {
   "cell_type": "code",
   "execution_count": 19,
   "metadata": {
    "collapsed": false,
    "focus": false,
    "id": "b76f65cd-cd3a-4e91-af55-12880be7b057"
   },
   "outputs": [],
   "source": [
    "## YOUR CODE HERE"
   ]
  },
  {
   "cell_type": "markdown",
   "metadata": {
    "focus": false,
    "id": "9367beff-72ba-4768-a0ba-a50b335de61d"
   },
   "source": [
    "#### Use cross-validation in scikit-learn to evaluate the model above. \n",
    "- Evaluate the accuracy, AUC, precision and recall of the model. \n",
    "- Discuss the differences and explain when you want a high-recall or a high-precision model in this scenario."
   ]
  },
  {
   "cell_type": "code",
   "execution_count": 20,
   "metadata": {
    "collapsed": false,
    "focus": false,
    "id": "269b9e7c-60b5-4a06-8255-881d7395bc1b"
   },
   "outputs": [],
   "source": [
    "## YOUR CODE HERE"
   ]
  },
  {
   "cell_type": "markdown",
   "metadata": {
    "focus": false,
    "id": "8c22664b-92e4-4fc2-b7ac-fbac865845d3"
   },
   "source": [
    "#### Compare L1 and L2 regularization for this logistic regression model. What effect does this have on the coefficients learned?"
   ]
  },
  {
   "cell_type": "code",
   "execution_count": 21,
   "metadata": {
    "collapsed": false,
    "focus": false,
    "id": "172fd952-5012-4630-81f4-1206da6eb820"
   },
   "outputs": [],
   "source": [
    "## YOUR CODE HERE"
   ]
  },
  {
   "cell_type": "code",
   "execution_count": 22,
   "metadata": {
    "collapsed": false,
    "focus": false,
    "id": "56cc8854-d722-411d-a6c7-e86310710f67"
   },
   "outputs": [],
   "source": [
    "## YOUR CODE HERE"
   ]
  },
  {
   "cell_type": "markdown",
   "metadata": {
    "focus": false,
    "id": "fead9b5b-7316-405d-87fd-e144dff0cbeb"
   },
   "source": [
    "#### Continue to incorporate other text features from the title or summary that you believe will predict the salary and examine their coefficients"
   ]
  },
  {
   "cell_type": "markdown",
   "metadata": {
    "focus": false,
    "id": "12d5edeb-a272-43a0-9977-d951f12fedfb"
   },
   "source": [
    "#### Take ~100 scraped entries with salaries. Convert them to use with your model and predict the salary - which entries have the highest predicted salaries?"
   ]
  },
  {
   "cell_type": "markdown",
   "metadata": {
    "focus": false,
    "id": "3be94357-e551-4094-b784-2df039216d33"
   },
   "source": [
    "### BONUS "
   ]
  },
  {
   "cell_type": "markdown",
   "metadata": {
    "focus": false,
    "id": "db045898-1d2d-4af2-8e79-437c4c7546b4"
   },
   "source": [
    "#### Bonus: Use Count Vectorizer from scikit-learn to create features from the text summaries. \n",
    "- Examine using count or binary features in the model\n",
    "- Re-evaluate the logistic regression model using these. Does this improve the model performance? \n",
    "- What text features are the most valuable? "
   ]
  },
  {
   "cell_type": "code",
   "execution_count": 23,
   "metadata": {
    "collapsed": false,
    "focus": false,
    "id": "4239e458-28bd-4675-8db3-c1d9c02b9854"
   },
   "outputs": [],
   "source": [
    "## YOUR CODE HERE"
   ]
  },
  {
   "cell_type": "code",
   "execution_count": 24,
   "metadata": {
    "collapsed": false,
    "focus": false,
    "id": "fec80936-37bc-4922-89bd-b5d615566c9c"
   },
   "outputs": [],
   "source": [
    "## YOUR CODE HERE"
   ]
  },
  {
   "cell_type": "markdown",
   "metadata": {
    "focus": false,
    "id": "d42b9fd8-39d5-416a-b40b-7410e6396c11"
   },
   "source": [
    "#### Re-test L1 and L2 regularization. You can use LogisticRegressionCV to find the optimal reguarlization parameters. \n",
    "- Re-test what text features are most valuable.  \n",
    "- How do L1 and L2 change the coefficients?"
   ]
  },
  {
   "cell_type": "code",
   "execution_count": 25,
   "metadata": {
    "collapsed": false,
    "focus": false,
    "id": "7570e237-c8cc-4e26-b569-7aee10627e79"
   },
   "outputs": [],
   "source": [
    "## YOUR CODE HERE"
   ]
  },
  {
   "cell_type": "code",
   "execution_count": null,
   "metadata": {
    "collapsed": true,
    "focus": false,
    "id": "e3a0c83d-e3b8-4bed-b864-7e795b34a3d4"
   },
   "outputs": [],
   "source": []
  }
 ],
 "metadata": {
  "anaconda-cloud": {},
  "kernelspec": {
   "display_name": "Python [conda root]",
   "language": "python",
   "name": "conda-root-py"
  },
  "language_info": {
   "codemirror_mode": {
    "name": "ipython",
    "version": 3
   },
   "file_extension": ".py",
   "mimetype": "text/x-python",
   "name": "python",
   "nbconvert_exporter": "python",
   "pygments_lexer": "ipython3",
   "version": "3.5.2"
  }
 },
 "nbformat": 4,
 "nbformat_minor": 0
}
