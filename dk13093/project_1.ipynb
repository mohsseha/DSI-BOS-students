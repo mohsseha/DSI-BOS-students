{
 "cells": [
  {
   "cell_type": "markdown",
   "metadata": {},
   "source": [
    "# Project 1\n",
    "\n",
    "## Step 1: Open the `sat_scores.csv` file. Investigate the data, and answer the questions below.\n"
   ]
  },
  {
   "cell_type": "markdown",
   "metadata": {},
   "source": [
    "##### 1. What does the data describe?"
   ]
  },
  {
   "cell_type": "markdown",
   "metadata": {},
   "source": []
  },
  {
   "cell_type": "markdown",
   "metadata": {},
   "source": [
    "##### 2. Does the data look complete? Are there any obvious issues with the observations?"
   ]
  },
  {
   "cell_type": "markdown",
   "metadata": {},
   "source": []
  },
  {
   "cell_type": "markdown",
   "metadata": {},
   "source": [
    "##### 3. Create a data dictionary for the dataset."
   ]
  },
  {
   "cell_type": "markdown",
   "metadata": {
    "collapsed": true
   },
   "source": []
  },
  {
   "cell_type": "markdown",
   "metadata": {},
   "source": [
    "## Step 2: Load the data."
   ]
  },
  {
   "cell_type": "markdown",
   "metadata": {},
   "source": [
    "##### 4. Load the data into a list of lists"
   ]
  },
  {
   "cell_type": "code",
   "execution_count": 2,
   "metadata": {
    "collapsed": false
   },
   "outputs": [],
   "source": [
    "import csv\n",
    "\n",
    "data= []\n",
    "with open('../assets/sat_scores.csv', 'rU') as f:\n",
    "    reader = csv.reader(f)\n",
    "    for row in reader:\n",
    "        data.append(row)\n",
    "f.close()"
   ]
  },
  {
   "cell_type": "markdown",
   "metadata": {},
   "source": [
    "##### 5. Print the data"
   ]
  },
  {
   "cell_type": "code",
   "execution_count": 3,
   "metadata": {
    "collapsed": false
   },
   "outputs": [
    {
     "name": "stdout",
     "output_type": "stream",
     "text": [
      "[['State', 'Rate', 'Verbal', 'Math'], ['CT', '82', '509', '510'], ['NJ', '81', '499', '513'], ['MA', '79', '511', '515'], ['NY', '77', '495', '505'], ['NH', '72', '520', '516'], ['RI', '71', '501', '499'], ['PA', '71', '500', '499'], ['VT', '69', '511', '506'], ['ME', '69', '506', '500'], ['VA', '68', '510', '501'], ['DE', '67', '501', '499'], ['MD', '65', '508', '510'], ['NC', '65', '493', '499'], ['GA', '63', '491', '489'], ['IN', '60', '499', '501'], ['SC', '57', '486', '488'], ['DC', '56', '482', '474'], ['OR', '55', '526', '526'], ['FL', '54', '498', '499'], ['WA', '53', '527', '527'], ['TX', '53', '493', '499'], ['HI', '52', '485', '515'], ['AK', '51', '514', '510'], ['CA', '51', '498', '517'], ['AZ', '34', '523', '525'], ['NV', '33', '509', '515'], ['CO', '31', '539', '542'], ['OH', '26', '534', '439'], ['MT', '23', '539', '539'], ['WV', '18', '527', '512'], ['ID', '17', '543', '542'], ['TN', '13', '562', '553'], ['NM', '13', '551', '542'], ['IL', '12', '576', '589'], ['KY', '12', '550', '550'], ['WY', '11', '547', '545'], ['MI', '11', '561', '572'], ['MN', '9', '580', '589'], ['KS', '9', '577', '580'], ['AL', '9', '559', '554'], ['NE', '8', '562', '568'], ['OK', '8', '567', '561'], ['MO', '8', '577', '577'], ['LA', '7', '564', '562'], ['WI', '6', '584', '596'], ['AR', '6', '562', '550'], ['UT', '5', '575', '570'], ['IA', '5', '593', '603'], ['SD', '4', '577', '582'], ['ND', '4', '592', '599'], ['MS', '4', '566', '551'], ['All', '45', '506', '514']]\n"
     ]
    }
   ],
   "source": [
    "print data"
   ]
  },
  {
   "cell_type": "markdown",
   "metadata": {
    "collapsed": true
   },
   "source": [
    "##### 6. Extract a list of the labels from the data, and remove them from the data."
   ]
  },
  {
   "cell_type": "code",
   "execution_count": 4,
   "metadata": {
    "collapsed": false
   },
   "outputs": [],
   "source": [
    "just_data = data[1:]\n",
    "#removes the first row since it's a label\n",
    "just_data\n",
    "just_data = just_data[:-1]\n",
    "#removes the last row since it's not actually a state"
   ]
  },
  {
   "cell_type": "markdown",
   "metadata": {},
   "source": [
    "##### 7. Create a list of State names extracted from the data. (Hint: use the list of labels to index on the State column)"
   ]
  },
  {
   "cell_type": "code",
   "execution_count": 5,
   "metadata": {
    "collapsed": false
   },
   "outputs": [
    {
     "data": {
      "text/plain": [
       "['CT',\n",
       " 'NJ',\n",
       " 'MA',\n",
       " 'NY',\n",
       " 'NH',\n",
       " 'RI',\n",
       " 'PA',\n",
       " 'VT',\n",
       " 'ME',\n",
       " 'VA',\n",
       " 'DE',\n",
       " 'MD',\n",
       " 'NC',\n",
       " 'GA',\n",
       " 'IN',\n",
       " 'SC',\n",
       " 'DC',\n",
       " 'OR',\n",
       " 'FL',\n",
       " 'WA',\n",
       " 'TX',\n",
       " 'HI',\n",
       " 'AK',\n",
       " 'CA',\n",
       " 'AZ',\n",
       " 'NV',\n",
       " 'CO',\n",
       " 'OH',\n",
       " 'MT',\n",
       " 'WV',\n",
       " 'ID',\n",
       " 'TN',\n",
       " 'NM',\n",
       " 'IL',\n",
       " 'KY',\n",
       " 'WY',\n",
       " 'MI',\n",
       " 'MN',\n",
       " 'KS',\n",
       " 'AL',\n",
       " 'NE',\n",
       " 'OK',\n",
       " 'MO',\n",
       " 'LA',\n",
       " 'WI',\n",
       " 'AR',\n",
       " 'UT',\n",
       " 'IA',\n",
       " 'SD',\n",
       " 'ND',\n",
       " 'MS']"
      ]
     },
     "execution_count": 5,
     "metadata": {},
     "output_type": "execute_result"
    }
   ],
   "source": [
    "state_names = []\n",
    "for row in just_data:\n",
    "    if row[0] not in state_names:\n",
    "        state_names.append(row[0])\n",
    "state_names"
   ]
  },
  {
   "cell_type": "markdown",
   "metadata": {},
   "source": [
    "##### 8. Print the types of each column"
   ]
  },
  {
   "cell_type": "code",
   "execution_count": 6,
   "metadata": {
    "collapsed": false
   },
   "outputs": [
    {
     "name": "stdout",
     "output_type": "stream",
     "text": [
      "<type 'str'>\n",
      "<type 'str'>\n",
      "<type 'str'>\n",
      "<type 'str'>\n"
     ]
    }
   ],
   "source": [
    "for i in just_data[0]:\n",
    "    print type(i)"
   ]
  },
  {
   "cell_type": "markdown",
   "metadata": {},
   "source": [
    "##### 9. Do any types need to be reassigned? If so, go ahead and do it."
   ]
  },
  {
   "cell_type": "code",
   "execution_count": 7,
   "metadata": {
    "collapsed": false
   },
   "outputs": [],
   "source": [
    "for i in range(len(just_data)):\n",
    "    for j in range(len(just_data[i])-1):\n",
    "        just_data[i][j+1] = int(just_data[i][j+1])"
   ]
  },
  {
   "cell_type": "markdown",
   "metadata": {},
   "source": [
    "##### 10. Create a dictionary for each column mapping the State to its respective value for that column. "
   ]
  },
  {
   "cell_type": "code",
   "execution_count": 8,
   "metadata": {
    "collapsed": false
   },
   "outputs": [
    {
     "name": "stdout",
     "output_type": "stream",
     "text": [
      "{'WA': 53, 'DE': 67, 'DC': 56, 'WI': 6, 'WV': 18, 'HI': 52, 'FL': 54, 'WY': 11, 'NH': 72, 'NJ': 81, 'NM': 13, 'TX': 53, 'LA': 7, 'NC': 65, 'ND': 4, 'NE': 8, 'TN': 13, 'NY': 77, 'PA': 71, 'RI': 71, 'NV': 33, 'VA': 68, 'CO': 31, 'AK': 51, 'AL': 9, 'AR': 6, 'VT': 69, 'IL': 12, 'GA': 63, 'IN': 60, 'IA': 5, 'OK': 8, 'AZ': 34, 'CA': 51, 'ID': 17, 'CT': 82, 'ME': 69, 'MD': 65, 'MA': 79, 'OH': 26, 'UT': 5, 'MO': 8, 'MN': 9, 'MI': 11, 'KS': 9, 'MT': 23, 'MS': 4, 'SC': 57, 'KY': 12, 'OR': 55, 'SD': 4}\n",
      "{'WA': 527, 'DE': 501, 'DC': 482, 'WI': 584, 'WV': 527, 'HI': 485, 'FL': 498, 'WY': 547, 'NH': 520, 'NJ': 499, 'NM': 551, 'TX': 493, 'LA': 564, 'NC': 493, 'ND': 592, 'NE': 562, 'TN': 562, 'NY': 495, 'PA': 500, 'RI': 501, 'NV': 509, 'VA': 510, 'CO': 539, 'AK': 514, 'AL': 559, 'AR': 562, 'VT': 511, 'IL': 576, 'GA': 491, 'IN': 499, 'IA': 593, 'OK': 567, 'AZ': 523, 'CA': 498, 'ID': 543, 'CT': 509, 'ME': 506, 'MD': 508, 'MA': 511, 'OH': 534, 'UT': 575, 'MO': 577, 'MN': 580, 'MI': 561, 'KS': 577, 'MT': 539, 'MS': 566, 'SC': 486, 'KY': 550, 'OR': 526, 'SD': 577}\n",
      "{'WA': 527, 'DE': 499, 'DC': 474, 'WI': 596, 'WV': 512, 'HI': 515, 'FL': 499, 'WY': 545, 'NH': 516, 'NJ': 513, 'NM': 542, 'TX': 499, 'LA': 562, 'NC': 499, 'ND': 599, 'NE': 568, 'TN': 553, 'NY': 505, 'PA': 499, 'RI': 499, 'NV': 515, 'VA': 501, 'CO': 542, 'AK': 510, 'AL': 554, 'AR': 550, 'VT': 506, 'IL': 589, 'GA': 489, 'IN': 501, 'IA': 603, 'OK': 561, 'AZ': 525, 'CA': 517, 'ID': 542, 'CT': 510, 'ME': 500, 'MD': 510, 'MA': 515, 'OH': 439, 'UT': 570, 'MO': 577, 'MN': 589, 'MI': 572, 'KS': 580, 'MT': 539, 'MS': 551, 'SC': 488, 'KY': 550, 'OR': 526, 'SD': 582}\n"
     ]
    }
   ],
   "source": [
    "rate = {}\n",
    "verbal = {}\n",
    "math = {}\n",
    "for row in just_data:\n",
    "    rate[row[0]] = row[1]\n",
    "    verbal[row[0]] = row[2]\n",
    "    math[row[0]] = row[3]\n",
    "print rate\n",
    "print verbal\n",
    "print math"
   ]
  },
  {
   "cell_type": "markdown",
   "metadata": {},
   "source": [
    "##### 11. Create a dictionary with the values for each of the numeric columns"
   ]
  },
  {
   "cell_type": "code",
   "execution_count": 9,
   "metadata": {
    "collapsed": false
   },
   "outputs": [
    {
     "name": "stdout",
     "output_type": "stream",
     "text": [
      "[[82, 509, 510], [81, 499, 513], [79, 511, 515], [77, 495, 505], [72, 520, 516], [71, 501, 499], [71, 500, 499], [69, 511, 506], [69, 506, 500], [68, 510, 501], [67, 501, 499], [65, 508, 510], [65, 493, 499], [63, 491, 489], [60, 499, 501], [57, 486, 488], [56, 482, 474], [55, 526, 526], [54, 498, 499], [53, 527, 527], [53, 493, 499], [52, 485, 515], [51, 514, 510], [51, 498, 517], [34, 523, 525], [33, 509, 515], [31, 539, 542], [26, 534, 439], [23, 539, 539], [18, 527, 512], [17, 543, 542], [13, 562, 553], [13, 551, 542], [12, 576, 589], [12, 550, 550], [11, 547, 545], [11, 561, 572], [9, 580, 589], [9, 577, 580], [9, 559, 554], [8, 562, 568], [8, 567, 561], [8, 577, 577], [7, 564, 562], [6, 584, 596], [6, 562, 550], [5, 575, 570], [5, 593, 603], [4, 577, 582], [4, 592, 599], [4, 566, 551]]\n",
      "{4: 3, 5: 2, 6: 2, 7: 1, 8: 3, 9: 3, 11: 2, 12: 2, 13: 2, 17: 1, 18: 1, 23: 1, 26: 1, 31: 1, 33: 1, 34: 1, 51: 2, 52: 1, 53: 2, 54: 1, 55: 1, 56: 1, 57: 1, 60: 1, 63: 1, 65: 2, 67: 1, 68: 1, 69: 2, 71: 2, 72: 1, 77: 1, 79: 1, 81: 1, 82: 1}\n",
      "{514: 1, 520: 1, 523: 1, 526: 1, 527: 2, 534: 1, 539: 2, 543: 1, 547: 1, 550: 1, 551: 1, 559: 1, 561: 1, 562: 3, 564: 1, 566: 1, 567: 1, 575: 1, 576: 1, 577: 3, 580: 1, 584: 1, 592: 1, 593: 1, 482: 1, 485: 1, 486: 1, 491: 1, 493: 2, 495: 1, 498: 2, 499: 2, 500: 1, 501: 2, 506: 1, 508: 1, 509: 2, 510: 1, 511: 2}\n",
      "{512: 1, 513: 1, 515: 3, 516: 1, 517: 1, 525: 1, 526: 1, 527: 1, 539: 1, 542: 3, 545: 1, 550: 2, 551: 1, 553: 1, 554: 1, 561: 1, 562: 1, 439: 1, 568: 1, 570: 1, 572: 1, 577: 1, 580: 1, 582: 1, 589: 2, 596: 1, 599: 1, 474: 1, 603: 1, 488: 1, 489: 1, 499: 6, 500: 1, 501: 2, 505: 1, 506: 1, 510: 3}\n"
     ]
    }
   ],
   "source": [
    "rate_num = {}\n",
    "verbal_num = {}\n",
    "math_num = {}\n",
    "\n",
    "just_num = []\n",
    "for row in just_data:\n",
    "    if row[1:4] not in just_num:\n",
    "        just_num.append(row[1:4])\n",
    "print just_num\n",
    "#makes a new array of just numbers\n",
    "\n",
    "for row in just_num:\n",
    "    if row[0] not in rate_num:\n",
    "        rate_num[row[0]] = 1\n",
    "    else:\n",
    "        rate_num[row[0]] = rate_num[row[0]] + 1\n",
    "\n",
    "for row in just_num:\n",
    "    if row[1] not in verbal_num:\n",
    "        verbal_num[row[1]] = 1\n",
    "    else:\n",
    "        verbal_num[row[1]] = verbal_num[row[1]] + 1\n",
    "\n",
    "for row in just_num:\n",
    "    if row[2] not in math_num:\n",
    "        math_num[row[2]] = 1\n",
    "    else:\n",
    "        math_num[row[2]] = math_num[row[2]] + 1\n",
    "\n",
    "\n",
    "print rate_num\n",
    "print verbal_num\n",
    "print math_num"
   ]
  },
  {
   "cell_type": "markdown",
   "metadata": {},
   "source": [
    "## Step 3: Describe the data"
   ]
  },
  {
   "cell_type": "markdown",
   "metadata": {},
   "source": [
    "##### 12. Print the min and max of each column"
   ]
  },
  {
   "cell_type": "code",
   "execution_count": 10,
   "metadata": {
    "collapsed": false
   },
   "outputs": [
    {
     "name": "stdout",
     "output_type": "stream",
     "text": [
      "[[ 82 509 510]\n",
      " [ 81 499 513]\n",
      " [ 79 511 515]\n",
      " [ 77 495 505]\n",
      " [ 72 520 516]\n",
      " [ 71 501 499]\n",
      " [ 71 500 499]\n",
      " [ 69 511 506]\n",
      " [ 69 506 500]\n",
      " [ 68 510 501]\n",
      " [ 67 501 499]\n",
      " [ 65 508 510]\n",
      " [ 65 493 499]\n",
      " [ 63 491 489]\n",
      " [ 60 499 501]\n",
      " [ 57 486 488]\n",
      " [ 56 482 474]\n",
      " [ 55 526 526]\n",
      " [ 54 498 499]\n",
      " [ 53 527 527]\n",
      " [ 53 493 499]\n",
      " [ 52 485 515]\n",
      " [ 51 514 510]\n",
      " [ 51 498 517]\n",
      " [ 34 523 525]\n",
      " [ 33 509 515]\n",
      " [ 31 539 542]\n",
      " [ 26 534 439]\n",
      " [ 23 539 539]\n",
      " [ 18 527 512]\n",
      " [ 17 543 542]\n",
      " [ 13 562 553]\n",
      " [ 13 551 542]\n",
      " [ 12 576 589]\n",
      " [ 12 550 550]\n",
      " [ 11 547 545]\n",
      " [ 11 561 572]\n",
      " [  9 580 589]\n",
      " [  9 577 580]\n",
      " [  9 559 554]\n",
      " [  8 562 568]\n",
      " [  8 567 561]\n",
      " [  8 577 577]\n",
      " [  7 564 562]\n",
      " [  6 584 596]\n",
      " [  6 562 550]\n",
      " [  5 575 570]\n",
      " [  5 593 603]\n",
      " [  4 577 582]\n",
      " [  4 592 599]\n",
      " [  4 566 551]]\n",
      "4\n",
      "82\n",
      "482\n",
      "593\n",
      "439\n",
      "603\n"
     ]
    }
   ],
   "source": [
    "import numpy as np\n",
    "\n",
    "data_array = np.asarray(just_num)\n",
    "print data_array\n",
    "\n",
    "rate_min = np.min(data_array[:,0])\n",
    "rate_max = np.max(data_array[:,0])\n",
    "verbal_min = np.min(data_array[:,1])\n",
    "verbal_max = np.max(data_array[:,1])\n",
    "math_min = np.min(data_array[:,2])\n",
    "math_max = np.max(data_array[:,2])\n",
    "\n",
    "print rate_min\n",
    "print rate_max\n",
    "\n",
    "print verbal_min\n",
    "print verbal_max\n",
    "\n",
    "print math_min\n",
    "print math_max"
   ]
  },
  {
   "cell_type": "markdown",
   "metadata": {},
   "source": [
    "##### 13. Write a function using only list comprehensions, no loops, to compute Standard Deviation. Print the Standard Deviation of each numeric column."
   ]
  },
  {
   "cell_type": "code",
   "execution_count": 15,
   "metadata": {
    "collapsed": false
   },
   "outputs": [
    {
     "name": "stdout",
     "output_type": "stream",
     "text": [
      "27.5506805724\n",
      "33.3606672242\n",
      "36.2873931547\n"
     ]
    }
   ],
   "source": [
    "rate_list = data_array[:,0]\n",
    "verbal_list = data_array[:,1]\n",
    "math_list = data_array[:,2]\n",
    "\n",
    "def find_std(values, dof = 1):\n",
    "    error = [x - np.mean(values) for x in values]\n",
    "    sqr = [y ** 2 for y in error]\n",
    "    var = sum(sqr) / (len(values) - dof)\n",
    "    std = var ** 0.5\n",
    "    return std\n",
    "\n",
    "print find_std(rate_list)\n",
    "print find_std(verbal_list)\n",
    "print find_std(math_list)\n",
    "\n"
   ]
  },
  {
   "cell_type": "markdown",
   "metadata": {},
   "source": [
    "## Step 4: Visualize the data"
   ]
  },
  {
   "cell_type": "markdown",
   "metadata": {
    "collapsed": true
   },
   "source": [
    "##### 14. Using MatPlotLib and PyPlot, plot the distribution of the Rate using histograms."
   ]
  },
  {
   "cell_type": "code",
   "execution_count": 17,
   "metadata": {
    "collapsed": false
   },
   "outputs": [
    {
     "data": {
      "image/png": "[encoded data removed]",
      "text/plain": [
       "<matplotlib.figure.Figure at 0x6979f28>"
      ]
     },
     "metadata": {},
     "output_type": "display_data"
    }
   ],
   "source": [
    "import numpy as np\n",
    "import matplotlib.mlab as mlab\n",
    "import matplotlib.pyplot as plt\n",
    "\n",
    "plt.hist(rate_list)\n",
    "plt.show()"
   ]
  },
  {
   "cell_type": "markdown",
   "metadata": {},
   "source": [
    "##### 15. Plot the Math distribution"
   ]
  },
  {
   "cell_type": "code",
   "execution_count": 18,
   "metadata": {
    "collapsed": false
   },
   "outputs": [
    {
     "data": {
      "image/png": "[encoded data removed]",
      "text/plain": [
       "<matplotlib.figure.Figure at 0x7c54320>"
      ]
     },
     "metadata": {},
     "output_type": "display_data"
    }
   ],
   "source": [
    "plt.hist(math_list)\n",
    "plt.show()"
   ]
  },
  {
   "cell_type": "markdown",
   "metadata": {},
   "source": [
    "##### 16. Plot the Verbal distribution"
   ]
  },
  {
   "cell_type": "code",
   "execution_count": 127,
   "metadata": {
    "collapsed": false
   },
   "outputs": [
    {
     "data": {
      "image/png": "[encoded data removed]",
      "text/plain": [
       "<matplotlib.figure.Figure at 0x7a735f8>"
      ]
     },
     "metadata": {},
     "output_type": "display_data"
    }
   ],
   "source": [
    "plt.hist(verbal_list)\n",
    "plt.show()"
   ]
  },
  {
   "cell_type": "markdown",
   "metadata": {},
   "source": [
    "##### 17. What is the typical assumption for data distribution?"
   ]
  },
  {
   "cell_type": "code",
   "execution_count": 19,
   "metadata": {
    "collapsed": false
   },
   "outputs": [
    {
     "name": "stdout",
     "output_type": "stream",
     "text": [
      "The typical assumption for data distribution is that it is normally distributed\n"
     ]
    }
   ],
   "source": [
    "print 'The typical assumption for data distribution is that it is normally distributed'"
   ]
  },
  {
   "cell_type": "markdown",
   "metadata": {},
   "source": [
    "##### 18. Does that distribution hold true for our data?"
   ]
  },
  {
   "cell_type": "code",
   "execution_count": 20,
   "metadata": {
    "collapsed": false
   },
   "outputs": [
    {
     "name": "stdout",
     "output_type": "stream",
     "text": [
      "No, both of the distributions for rate and verbal seems bimodal and the distribution for math seems positively skewed.\n"
     ]
    }
   ],
   "source": [
    "print 'No, both of the distributions for rate and verbal seems bimodal and the distribution for math seems positively skewed.'"
   ]
  },
  {
   "cell_type": "markdown",
   "metadata": {},
   "source": [
    "##### 19. Plot some scatterplots. **BONUS**: Use a PyPlot `figure` to present multiple plots at once."
   ]
  },
  {
   "cell_type": "code",
   "execution_count": 33,
   "metadata": {
    "collapsed": false
   },
   "outputs": [
    {
     "data": {
      "text/plain": [
       "<matplotlib.figure.Figure at 0x8810da0>"
      ]
     },
     "metadata": {},
     "output_type": "display_data"
    },
    {
     "data": {
      "text/plain": [
       "<matplotlib.figure.Figure at 0x87fe4e0>"
      ]
     },
     "metadata": {},
     "output_type": "display_data"
    },
    {
     "data": {
      "text/plain": [
       "<matplotlib.figure.Figure at 0xa4543c8>"
      ]
     },
     "metadata": {},
     "output_type": "display_data"
    },
    {
     "data": {
      "text/plain": [
       "<matplotlib.figure.Figure at 0x9754588>"
      ]
     },
     "metadata": {},
     "output_type": "display_data"
    },
    {
     "data": {
      "image/png": "[encoded data removed]",
      "text/plain": [
       "<matplotlib.figure.Figure at 0x8498a90>"
      ]
     },
     "metadata": {},
     "output_type": "display_data"
    }
   ],
   "source": [
    "fig = plt.figure()\n",
    "\n",
    "ax1 = fig.add_subplot(131)\n",
    "ax1.scatter(rate_list, math_list)\n",
    "ax2 = fig.add_subplot(132)\n",
    "ax2.scatter(rate_list, verbal_list)\n",
    "ax3 = fig.add_subplot(133)\n",
    "ax3.scatter(math_list, verbal_list)\n",
    "\n",
    "plt.show()"
   ]
  },
  {
   "cell_type": "markdown",
   "metadata": {},
   "source": [
    "##### 20. Are there any interesting relationships to note?"
   ]
  },
  {
   "cell_type": "code",
   "execution_count": 34,
   "metadata": {
    "collapsed": false
   },
   "outputs": [
    {
     "name": "stdout",
     "output_type": "stream",
     "text": [
      "Math and verbal list seems to be strongly correlated while there does not seem to be a strong correlation between rate and math nor rate and verbal\n"
     ]
    }
   ],
   "source": [
    "print 'Math and verbal list seems to be strongly correlated while there does not seem to be a strong correlation between rate and math nor rate and verbal'"
   ]
  },
  {
   "cell_type": "markdown",
   "metadata": {},
   "source": [
    "##### 21. Create box plots for each variable. "
   ]
  },
  {
   "cell_type": "code",
   "execution_count": 37,
   "metadata": {
    "collapsed": false
   },
   "outputs": [
    {
     "data": {
      "image/png": "[encoded data removed]",
      "text/plain": [
       "<matplotlib.figure.Figure at 0xa232518>"
      ]
     },
     "metadata": {},
     "output_type": "display_data"
    },
    {
     "data": {
      "image/png": "[encoded data removed]",
      "text/plain": [
       "<matplotlib.figure.Figure at 0x86287b8>"
      ]
     },
     "metadata": {},
     "output_type": "display_data"
    }
   ],
   "source": [
    "fig = plt.figure()\n",
    "\n",
    "ax1 = fig.add_subplot(131)\n",
    "ax1.boxplot(rate_list)\n",
    "ax2 = fig.add_subplot(132)\n",
    "ax2.boxplot(math_list)\n",
    "ax3 = fig.add_subplot(133)\n",
    "ax3.boxplot(verbal_list)\n",
    "\n",
    "plt.show()"
   ]
  },
  {
   "cell_type": "markdown",
   "metadata": {},
   "source": [
    "##### BONUS: Using Tableau, create a heat map for each variable using a map of the US. "
   ]
  },
  {
   "cell_type": "code",
   "execution_count": null,
   "metadata": {
    "collapsed": true
   },
   "outputs": [],
   "source": []
  }
 ],
 "metadata": {
  "anaconda-cloud": {},
  "kernelspec": {
   "display_name": "Python [default]",
   "language": "python",
   "name": "python2"
  }
 },
 "nbformat": 4,
 "nbformat_minor": 0
}
