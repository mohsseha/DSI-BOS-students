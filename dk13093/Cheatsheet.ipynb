{
 "cells": [
  {
   "cell_type": "code",
   "execution_count": 35,
   "metadata": {
    "collapsed": false
   },
   "outputs": [
    {
     "name": "stdout",
     "output_type": "stream",
     "text": [
      "height has been deprecated.\n",
      "\n"
     ]
    },
    {
     "data": {
      "text/html": [
       "<div>\n",
       "<table border=\"1\" class=\"dataframe\">\n",
       "  <thead>\n",
       "    <tr style=\"text-align: right;\">\n",
       "      <th></th>\n",
       "      <th>Functions</th>\n",
       "      <th>Definitions</th>\n",
       "    </tr>\n",
       "  </thead>\n",
       "  <tbody>\n",
       "    <tr>\n",
       "      <th>0</th>\n",
       "      <td>df.set_value(row, column, data)</td>\n",
       "      <td>fills in a cell in a dataframe individually</td>\n",
       "    </tr>\n",
       "    <tr>\n",
       "      <th>1</th>\n",
       "      <td>df[['column name']]].astype(desired_type)</td>\n",
       "      <td>converts all the data in the specificied column into the desired type</td>\n",
       "    </tr>\n",
       "    <tr>\n",
       "      <th>2</th>\n",
       "      <td>df['column name'].replace(regex=True,inplace=True,to_replace=r'\\D',value=r'')</td>\n",
       "      <td>replaces all non-numeric values to numeric values by removing commas &amp; other characters</td>\n",
       "    </tr>\n",
       "    <tr>\n",
       "      <th>3</th>\n",
       "      <td>df.replace({'column name':'dictionary name'})</td>\n",
       "      <td>goes through all the specified column and replaces the categorical data with the specified category with the respective value from the dictionary</td>\n",
       "    </tr>\n",
       "    <tr>\n",
       "      <th>4</th>\n",
       "      <td>pd.set_option('max_colwidth', 1000)</td>\n",
       "      <td>increases the column width in the output display of dataframe</td>\n",
       "    </tr>\n",
       "    <tr>\n",
       "      <th>5</th>\n",
       "      <td>df['column name'].unique()</td>\n",
       "      <td>only finds the unique values in the column</td>\n",
       "    </tr>\n",
       "    <tr>\n",
       "      <th>6</th>\n",
       "      <td>df.dtypes</td>\n",
       "      <td>displays the data types of all the columns in the data frame</td>\n",
       "    </tr>\n",
       "    <tr>\n",
       "      <th>7</th>\n",
       "      <td>pd.pivot_table(realEstate, index = ['column1','column2'], values = ['column3'], aggfunc = np.sum)</td>\n",
       "      <td>pivots the df by index order and then only displays the value of the column specified with the appropriate function input</td>\n",
       "    </tr>\n",
       "    <tr>\n",
       "      <th>8</th>\n",
       "      <td>df.sort_values(['column name'],ascending = False)</td>\n",
       "      <td>sorts the dataframe in the column in an order while maintaining row integrity</td>\n",
       "    </tr>\n",
       "    <tr>\n",
       "      <th>9</th>\n",
       "      <td>df.drop(df.columns[1,2, or range(x)], axis=1, inplace=True)</td>\n",
       "      <td>drops the specificed column or range of columns from the dataframe</td>\n",
       "    </tr>\n",
       "  </tbody>\n",
       "</table>\n",
       "</div>"
      ],
      "text/plain": [
       "                                                                                           Functions                                                                                                                                        Definitions\n",
       "0                                                                    df.set_value(row, column, data)                                                                                                        fills in a cell in a dataframe individually\n",
       "1                                                          df[['column name']]].astype(desired_type)                                                                              converts all the data in the specificied column into the desired type\n",
       "2                      df['column name'].replace(regex=True,inplace=True,to_replace=r'\\D',value=r'')                                                            replaces all non-numeric values to numeric values by removing commas & other characters\n",
       "3                                                      df.replace({'column name':'dictionary name'})  goes through all the specified column and replaces the categorical data with the specified category with the respective value from the dictionary\n",
       "4                                                                pd.set_option('max_colwidth', 1000)                                                                                      increases the column width in the output display of dataframe\n",
       "5                                                                         df['column name'].unique()                                                                                                         only finds the unique values in the column\n",
       "6                                                                                          df.dtypes                                                                                       displays the data types of all the columns in the data frame\n",
       "7  pd.pivot_table(realEstate, index = ['column1','column2'], values = ['column3'], aggfunc = np.sum)                          pivots the df by index order and then only displays the value of the column specified with the appropriate function input\n",
       "8                                                  df.sort_values(['column name'],ascending = False)                                                                      sorts the dataframe in the column in an order while maintaining row integrity\n",
       "9                                        df.drop(df.columns[1,2, or range(x)], axis=1, inplace=True)                                                                                 drops the specificed column or range of columns from the dataframe"
      ]
     },
     "execution_count": 35,
     "metadata": {},
     "output_type": "execute_result"
    }
   ],
   "source": [
    "import pandas as pd\n",
    "import numpy as np\n",
    "\n",
    "pd.set_option('display.height', 1000)\n",
    "pd.set_option('display.max_rows', 500)\n",
    "pd.set_option('display.max_columns', 500)\n",
    "pd.set_option('max_colwidth', 1000)\n",
    "\n",
    "cs = pd.DataFrame(index=range(5),columns=['Functions','Definitions'])\n",
    "cs\n",
    "\n",
    "cs.set_value(0, 'Functions', \"df.set_value(row, column, data)\")\n",
    "cs.set_value(0, 'Definitions', \"fills in a cell in a dataframe individually\")\n",
    "\n",
    "cs.set_value(1, 'Functions', \"df[['column name']]].astype(desired_type)\")\n",
    "cs.set_value(1, 'Definitions', \"converts all the data in the specificied column into the desired type\")\n",
    "\n",
    "cs.set_value(2, 'Functions', \"df['column name'].replace(regex=True,inplace=True,to_replace=r'\\D',value=r'')\")\n",
    "cs.set_value(2, 'Definitions', \"replaces all non-numeric values to numeric values by removing commas & other characters\")\n",
    "\n",
    "cs.set_value(3, 'Functions', \"df.replace({'column name':'dictionary name'})\")\n",
    "cs.set_value(3, 'Definitions', \"goes through all the specified column and replaces the categorical data with the specified category with the respective value from the dictionary\")\n",
    "\n",
    "cs.set_value(4, 'Functions', \"pd.set_option('max_colwidth', 1000)\")\n",
    "cs.set_value(4, 'Definitions', \"increases the column width in the output display of dataframe\")\n",
    "\n",
    "cs.set_value(5, 'Functions', \"df['column name'].unique()\")\n",
    "cs.set_value(5, 'Definitions', \"only finds the unique values in the column\")\n",
    "\n",
    "cs.set_value(6, 'Functions', \"df.dtypes\")\n",
    "cs.set_value(6, 'Definitions', \"displays the data types of all the columns in the data frame\")\n",
    "\n",
    "cs.set_value(7, 'Functions', \"pd.pivot_table(realEstate, index = ['column1','column2'], values = ['column3'], aggfunc = np.sum)\")\n",
    "cs.set_value(7, 'Definitions', \"pivots the df by index order and then only displays the value of the column specified with the appropriate function input\")\n",
    "\n",
    "cs.set_value(8, 'Functions', \"df.sort_values(['column name'],ascending = False)\")\n",
    "cs.set_value(8, 'Definitions', \"sorts the dataframe in the column in an order while maintaining row integrity\")\n",
    "\n",
    "cs.set_value(9, 'Functions', \"df.drop(df.columns[i,i+x, or range(x)], axis=1, inplace=True)\")\n",
    "cs.set_value(9, 'Definitions', \"drops the specificed column or range of columns from the dataframe\")\n",
    "\n",
    "cs.set_value(10, 'Functions', \"df.count(axis = 1)\")\n",
    "cs.set_value(10, 'Definitions', \"counts the number of non-empty cells in each row\")"
   ]
  },
  {
   "cell_type": "code",
   "execution_count": null,
   "metadata": {
    "collapsed": true
   },
   "outputs": [],
   "source": []
  }
 ],
 "metadata": {
  "kernelspec": {
   "display_name": "Python [default]",
   "language": "python",
   "name": "python2"
  },
  "language_info": {
   "codemirror_mode": {
    "name": "ipython",
    "version": 2
   },
   "file_extension": ".py",
   "mimetype": "text/x-python",
   "name": "python",
   "nbconvert_exporter": "python",
   "pygments_lexer": "ipython2",
   "version": "2.7.12"
  }
 },
 "nbformat": 4,
 "nbformat_minor": 1
}
