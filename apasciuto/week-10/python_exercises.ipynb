{
 "cells": [
  {
   "cell_type": "markdown",
   "metadata": {},
   "source": [
    "### Grid Walk\n",
    "Steps from (0,0) to (2,3)"
   ]
  },
  {
   "cell_type": "code",
   "execution_count": 1,
   "metadata": {
    "collapsed": true
   },
   "outputs": [],
   "source": [
    "grid = [[0, 1, 0, 0],\n",
    "        [0, 0, 0, 1],\n",
    "        [0, 0, 0, 0],\n",
    "        [0, 1, 0, 0]]"
   ]
  },
  {
   "cell_type": "code",
   "execution_count": 14,
   "metadata": {
    "collapsed": false
   },
   "outputs": [
    {
     "name": "stdout",
     "output_type": "stream",
     "text": [
      "10\n"
     ]
    }
   ],
   "source": [
    "def steps(x, y, grid):\n",
    "    if x == 0 or y == 0:\n",
    "        return 1\n",
    "    if x < 0 or y < 0:\n",
    "        return 0\n",
    "    if grid[x][y] != 0:\n",
    "        return grid[x][y]\n",
    "    grid[x][y] = steps(x-1, y, grid) + steps(x, y-1, grid)\n",
    "    return grid[x][y]\n",
    "\n",
    "x = 2\n",
    "y = 3\n",
    "grid = [0] * (x + 1)\n",
    "for i in range(x + 1):\n",
    "    grid[i] = [0] * (y + 1)\n",
    "print(steps(x, y, grid))"
   ]
  },
  {
   "cell_type": "code",
   "execution_count": 19,
   "metadata": {
    "collapsed": false
   },
   "outputs": [
    {
     "name": "stdout",
     "output_type": "stream",
     "text": [
      "2,3\n",
      "10\n"
     ]
    }
   ],
   "source": [
    "destination = input()\n",
    "dimensions = [int(x) for x in destination.split(',')]\n",
    "x = dimensions[0]\n",
    "y = dimensions[1]\n",
    "\n",
    "def steps(x, y, grid):\n",
    "    if x == 0 or y == 0:\n",
    "        return 1\n",
    "    if x < 0 or y < 0:\n",
    "        return 0\n",
    "    if grid[x][y] != 0:\n",
    "        return grid[x][y]\n",
    "    grid[x][y] = steps(x-1, y, grid) + steps(x, y-1, grid)\n",
    "    return grid[x][y]\n",
    "\n",
    "grid = [0] * (x + 1)\n",
    "for i in range(x + 1):\n",
    "    grid[i] = [0] * (y + 1)\n",
    "print(steps(x, y, grid))"
   ]
  },
  {
   "cell_type": "code",
   "execution_count": null,
   "metadata": {
    "collapsed": true
   },
   "outputs": [],
   "source": []
  }
 ],
 "metadata": {
  "kernelspec": {
   "display_name": "Python [default]",
   "language": "python",
   "name": "python3"
  },
  "language_info": {
   "codemirror_mode": {
    "name": "ipython",
    "version": 3
   },
   "file_extension": ".py",
   "mimetype": "text/x-python",
   "name": "python",
   "nbconvert_exporter": "python",
   "pygments_lexer": "ipython3",
   "version": "3.5.2"
  }
 },
 "nbformat": 4,
 "nbformat_minor": 2
}
