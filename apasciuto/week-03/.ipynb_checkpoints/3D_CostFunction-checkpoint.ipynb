{
 "cells": [
  {
   "cell_type": "code",
   "execution_count": 4,
   "metadata": {
    "collapsed": true
   },
   "outputs": [],
   "source": [
    "import numpy as np"
   ]
  },
  {
   "cell_type": "code",
   "execution_count": 50,
   "metadata": {
    "collapsed": false
   },
   "outputs": [],
   "source": [
    "def cost(w0, w1):\n",
    "    return (1-(w0+w1*1))**2+(3-(w0+w1*3))**2+(7-(w0+w1*8))**2+(8-(w0+w1*7))**2 +(10-(w0+w1*9))**2"
   ]
  },
  {
   "cell_type": "code",
   "execution_count": 53,
   "metadata": {
    "collapsed": false
   },
   "outputs": [],
   "source": [
    "SHAPE=40\n",
    "w0=np.linspace(-.5,.5,SHAPE)\n",
    "w0=np.outer(w0,np.ones(SHAPE))\n",
    "w1=np.linspace(.85,1.25,SHAPE)\n",
    "w1=np.outer(w1,np.ones(SHAPE)).T\n",
    "\n",
    "vCost=np.vectorize(cost)\n",
    "costArray=vCost(w0, w1)"
   ]
  },
  {
   "cell_type": "code",
   "execution_count": 54,
   "metadata": {
    "collapsed": false
   },
   "outputs": [
    {
     "name": "stdout",
     "output_type": "stream",
     "text": [
      "[[-0.5        -0.5        -0.5        ..., -0.5        -0.5        -0.5       ]\n",
      " [-0.47435897 -0.47435897 -0.47435897 ..., -0.47435897 -0.47435897\n",
      "  -0.47435897]\n",
      " [-0.44871795 -0.44871795 -0.44871795 ..., -0.44871795 -0.44871795\n",
      "  -0.44871795]\n",
      " ..., \n",
      " [ 0.44871795  0.44871795  0.44871795 ...,  0.44871795  0.44871795\n",
      "   0.44871795]\n",
      " [ 0.47435897  0.47435897  0.47435897 ...,  0.47435897  0.47435897\n",
      "   0.47435897]\n",
      " [ 0.5         0.5         0.5        ...,  0.5         0.5         0.5       ]]\n",
      "[[ 0.85        0.86025641  0.87051282 ...,  1.22948718  1.23974359  1.25      ]\n",
      " [ 0.85        0.86025641  0.87051282 ...,  1.22948718  1.23974359  1.25      ]\n",
      " [ 0.85        0.86025641  0.87051282 ...,  1.22948718  1.23974359  1.25      ]\n",
      " ..., \n",
      " [ 0.85        0.86025641  0.87051282 ...,  1.22948718  1.23974359  1.25      ]\n",
      " [ 0.85        0.86025641  0.87051282 ...,  1.22948718  1.23974359  1.25      ]\n",
      " [ 0.85        0.86025641  0.87051282 ...,  1.22948718  1.23974359  1.25      ]]\n"
     ]
    }
   ],
   "source": [
    "print(w0)\n",
    "print(w1)"
   ]
  },
  {
   "cell_type": "code",
   "execution_count": 42,
   "metadata": {
    "collapsed": false,
    "scrolled": true
   },
   "outputs": [
    {
     "name": "stdout",
     "output_type": "stream",
     "text": [
      "[[  1.33700000e+03   4.81444444e+02   5.61111111e+01   6.10000000e+01]\n",
      " [  1.18988889e+03   3.94777778e+02   2.98888889e+01   9.52222222e+01]\n",
      " [  1.04988889e+03   3.15222222e+02   1.07777778e+01   1.36555556e+02]\n",
      " [  9.17000000e+02   2.42777778e+02  -1.22222222e+00   1.85000000e+02]]\n"
     ]
    }
   ],
   "source": [
    "costArray=vCost(w0, w1)\n",
    "print(costArray)"
   ]
  },
  {
   "cell_type": "code",
   "execution_count": null,
   "metadata": {
    "collapsed": true
   },
   "outputs": [],
   "source": []
  }
 ],
 "metadata": {
  "anaconda-cloud": {},
  "kernelspec": {
   "display_name": "Python [conda root]",
   "language": "python",
   "name": "conda-root-py"
  },
  "language_info": {
   "codemirror_mode": {
    "name": "ipython",
    "version": 3
   },
   "file_extension": ".py",
   "mimetype": "text/x-python",
   "name": "python",
   "nbconvert_exporter": "python",
   "pygments_lexer": "ipython3",
   "version": "3.5.2"
  }
 },
 "nbformat": 4,
 "nbformat_minor": 1
}
