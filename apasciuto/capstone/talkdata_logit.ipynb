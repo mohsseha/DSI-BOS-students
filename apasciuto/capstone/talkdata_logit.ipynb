{
 "cells": [
  {
   "cell_type": "code",
   "execution_count": 1,
   "metadata": {
    "collapsed": false
   },
   "outputs": [
    {
     "name": "stderr",
     "output_type": "stream",
     "text": [
      "Using TensorFlow backend.\n"
     ]
    }
   ],
   "source": [
    "import os\n",
    "import re\n",
    "import string\n",
    "from IPython.display import display, Image\n",
    "\n",
    "import numpy as np\n",
    "import pandas as pd \n",
    "pd.set_option('display.max_columns', None)\n",
    "pd.set_option('display.max_rows', None)\n",
    "\n",
    "import scipy\n",
    "from scipy.sparse import csr_matrix, hstack\n",
    "\n",
    "from keras.models import Sequential\n",
    "from keras.layers import Dense, Dropout, Activation\n",
    "from keras.wrappers.scikit_learn import KerasClassifier\n",
    "from keras.utils import np_utils\n",
    "from keras.optimizers import SGD\n",
    "\n",
    "from sklearn.ensemble import RandomForestClassifier, AdaBoostClassifier\n",
    "from sklearn.ensemble import RandomForestRegressor, ExtraTreesRegressor\n",
    "from sklearn.model_selection import train_test_split, cross_val_score, GridSearchCV\n",
    "from sklearn.metrics import classification_report, confusion_matrix, roc_curve, auc, f1_score\n",
    "from sklearn.feature_extraction import FeatureHasher\n",
    "from sklearn.feature_extraction.text import CountVectorizer, TfidfVectorizer\n",
    "from sklearn.decomposition import TruncatedSVD, SparsePCA\n",
    "from sklearn.feature_selection import SelectPercentile, f_classif, chi2\n",
    "from sklearn.linear_model import LogisticRegression, SGDClassifier\n",
    "from sklearn.ensemble import AdaBoostClassifier\n",
    "from sklearn.linear_model import LinearRegression\n",
    "from sklearn.pipeline import Pipeline\n",
    "from sklearn.decomposition import PCA\n",
    "from sklearn.preprocessing import StandardScaler\n",
    "from sklearn.preprocessing import LabelEncoder, OneHotEncoder, scale\n",
    "from sklearn.model_selection import KFold\n",
    "from sklearn.metrics import log_loss\n",
    "\n",
    "import seaborn as sns\n",
    "\n",
    "import matplotlib.pyplot as plt\n",
    "import matplotlib.cm as cm\n",
    "%matplotlib inline"
   ]
  },
  {
   "cell_type": "code",
   "execution_count": 2,
   "metadata": {
    "collapsed": false
   },
   "outputs": [],
   "source": [
    "grouptrain = pd.read_csv('db/group.csv').set_index('device_id')\n",
    "grouptest = pd.read_csv(\"input/gender_age_test.csv\").set_index('device_id')\n",
    "device = pd.read_csv('input/phone_brand_device_model.csv')\n",
    "# Get rid of duplicate device ids in phone\n",
    "device = device.drop_duplicates('device_id',keep='first').set_index('device_id')\n",
    "events = pd.read_csv(\"input/events.csv\", parse_dates=['timestamp'], index_col='event_id')\n",
    "appevents = pd.read_csv(\"input/app_events.csv\", usecols=['event_id', 'app_id', 'is_active'], dtype={'is_active':bool})\n",
    "applabels = pd.read_csv(\"input/app_labels.csv\")\n",
    "# label_categories = pd.read_csv(\"input/label_categories.csv\")"
   ]
  },
  {
   "cell_type": "code",
   "execution_count": 3,
   "metadata": {
    "collapsed": true
   },
   "outputs": [],
   "source": [
    "device = device.rename(columns={'phone_brand' : 'device_brand'})"
   ]
  },
  {
   "cell_type": "code",
   "execution_count": 4,
   "metadata": {
    "collapsed": false
   },
   "outputs": [],
   "source": [
    "grouptrain['train_row'] = np.arange(len(grouptrain))\n",
    "grouptest['test_row'] = np.arange(len(grouptest))"
   ]
  },
  {
   "cell_type": "code",
   "execution_count": 5,
   "metadata": {
    "collapsed": false
   },
   "outputs": [],
   "source": [
    "le_brand = LabelEncoder().fit(device.device_brand)\n",
    "device['brand'] = le_brand.transform(device['device_brand'])\n",
    "grouptrain[\"brand\"] = device[\"brand\"]\n",
    "grouptest['brand'] = device['brand']"
   ]
  },
  {
   "cell_type": "code",
   "execution_count": 6,
   "metadata": {
    "collapsed": false,
    "scrolled": true
   },
   "outputs": [],
   "source": [
    "Xtrain_brand = csr_matrix((np.ones(len(grouptrain)), (grouptrain.train_row, grouptrain.brand)))\n",
    "Xtest_brand = csr_matrix((np.ones(len(grouptest)), (grouptest.test_row, grouptest.brand)))"
   ]
  },
  {
   "cell_type": "code",
   "execution_count": 7,
   "metadata": {
    "collapsed": false
   },
   "outputs": [
    {
     "name": "stdout",
     "output_type": "stream",
     "text": [
      "Brand features: train shape (74645, 131), test shape (112071, 131)\n"
     ]
    }
   ],
   "source": [
    "print('Brand features: train shape {}, test shape {}'.format(Xtrain_brand.shape, Xtest_brand.shape))"
   ]
  },
  {
   "cell_type": "code",
   "execution_count": 8,
   "metadata": {
    "collapsed": false
   },
   "outputs": [
    {
     "name": "stdout",
     "output_type": "stream",
     "text": [
      "Model features: train shape (74645, 1667), test shape (112071, 1667)\n"
     ]
    }
   ],
   "source": [
    "mobile = device.device_brand.str.cat(device.device_model)\n",
    "le_model = LabelEncoder().fit(mobile)\n",
    "device['model'] = le_model.transform(mobile)\n",
    "grouptrain['model'] = device['model']\n",
    "grouptest['model'] = device['model']\n",
    "Xtrain_model = csr_matrix((np.ones(grouptrain.shape[0]), \n",
    "                       (grouptrain.train_row, grouptrain.model)))\n",
    "Xtest_model = csr_matrix((np.ones(grouptest.shape[0]), \n",
    "                       (grouptest.test_row, grouptest.model)))\n",
    "print('Model features: train shape {}, test shape {}'.format(Xtrain_model.shape, Xtest_model.shape))"
   ]
  },
  {
   "cell_type": "code",
   "execution_count": 9,
   "metadata": {
    "collapsed": false
   },
   "outputs": [],
   "source": [
    "le_app = LabelEncoder().fit(appevents.app_id)\n",
    "appevents['app'] = le_app.transform(appevents.app_id)\n",
    "n_appclasses = len(le_app.classes_)\n",
    "deviceapps = (appevents.merge(events[['device_id']], how='left',left_on='event_id',right_index=True)\n",
    "                       .groupby(['device_id','app'])['app'].agg(['size'])\n",
    "                       .merge(grouptrain[['train_row']], how='left', left_index=True, right_index=True)\n",
    "                       .merge(grouptest[['test_row']], how='left', left_index=True, right_index=True)\n",
    "                       .reset_index())"
   ]
  },
  {
   "cell_type": "code",
   "execution_count": 10,
   "metadata": {
    "collapsed": false
   },
   "outputs": [],
   "source": [
    "dapp = deviceapps.dropna(subset=['train_row'])\n",
    "Xtrain_app = csr_matrix((np.ones(dapp.shape[0]), (dapp.train_row, dapp.app)), \n",
    "                      shape=(grouptrain.shape[0],n_appclasses))\n",
    "dapp = deviceapps.dropna(subset=['test_row'])\n",
    "Xtest_app = csr_matrix((np.ones(dapp.shape[0]), (dapp.test_row, dapp.app)), \n",
    "                      shape=(grouptest.shape[0],n_appclasses))"
   ]
  },
  {
   "cell_type": "code",
   "execution_count": 11,
   "metadata": {
    "collapsed": false
   },
   "outputs": [],
   "source": [
    "applabels = applabels.loc[applabels.app_id.isin(appevents.app_id.unique())]\n",
    "applabels['app'] = le_app.transform(applabels.app_id)\n",
    "le_labels = LabelEncoder().fit(applabels.label_id)\n",
    "applabels['label'] = le_labels.transform(applabels.label_id)\n",
    "n_labelsclasses = len(le_labels.classes_)"
   ]
  },
  {
   "cell_type": "code",
   "execution_count": 12,
   "metadata": {
    "collapsed": false
   },
   "outputs": [
    {
     "data": {
      "text/html": [
       "<div>\n",
       "<table border=\"1\" class=\"dataframe\">\n",
       "  <thead>\n",
       "    <tr style=\"text-align: right;\">\n",
       "      <th></th>\n",
       "      <th>device_id</th>\n",
       "      <th>label</th>\n",
       "      <th>size</th>\n",
       "      <th>train_row</th>\n",
       "      <th>test_row</th>\n",
       "    </tr>\n",
       "  </thead>\n",
       "  <tbody>\n",
       "    <tr>\n",
       "      <th>0</th>\n",
       "      <td>-9222956879900151005</td>\n",
       "      <td>117</td>\n",
       "      <td>1</td>\n",
       "      <td>33721.0</td>\n",
       "      <td>NaN</td>\n",
       "    </tr>\n",
       "    <tr>\n",
       "      <th>1</th>\n",
       "      <td>-9222956879900151005</td>\n",
       "      <td>120</td>\n",
       "      <td>1</td>\n",
       "      <td>33721.0</td>\n",
       "      <td>NaN</td>\n",
       "    </tr>\n",
       "    <tr>\n",
       "      <th>2</th>\n",
       "      <td>-9222956879900151005</td>\n",
       "      <td>126</td>\n",
       "      <td>1</td>\n",
       "      <td>33721.0</td>\n",
       "      <td>NaN</td>\n",
       "    </tr>\n",
       "    <tr>\n",
       "      <th>3</th>\n",
       "      <td>-9222956879900151005</td>\n",
       "      <td>138</td>\n",
       "      <td>2</td>\n",
       "      <td>33721.0</td>\n",
       "      <td>NaN</td>\n",
       "    </tr>\n",
       "    <tr>\n",
       "      <th>4</th>\n",
       "      <td>-9222956879900151005</td>\n",
       "      <td>147</td>\n",
       "      <td>2</td>\n",
       "      <td>33721.0</td>\n",
       "      <td>NaN</td>\n",
       "    </tr>\n",
       "  </tbody>\n",
       "</table>\n",
       "</div>"
      ],
      "text/plain": [
       "             device_id  label  size  train_row  test_row\n",
       "0 -9222956879900151005    117     1    33721.0       NaN\n",
       "1 -9222956879900151005    120     1    33721.0       NaN\n",
       "2 -9222956879900151005    126     1    33721.0       NaN\n",
       "3 -9222956879900151005    138     2    33721.0       NaN\n",
       "4 -9222956879900151005    147     2    33721.0       NaN"
      ]
     },
     "execution_count": 12,
     "metadata": {},
     "output_type": "execute_result"
    }
   ],
   "source": [
    "devicelabels = (deviceapps[['device_id','app']]\n",
    "                .merge(applabels[['app','label']])\n",
    "                .groupby(['device_id','label'])['app'].agg(['size'])\n",
    "                .merge(grouptrain[['train_row']], how='left', left_index=True, right_index=True)\n",
    "                .merge(grouptest[['test_row']], how='left', left_index=True, right_index=True)\n",
    "                .reset_index())\n",
    "devicelabels.head()"
   ]
  },
  {
   "cell_type": "code",
   "execution_count": 13,
   "metadata": {
    "collapsed": true
   },
   "outputs": [],
   "source": [
    "dapp = devicelabels.dropna(subset=['train_row'])\n",
    "Xtrain_label = csr_matrix((np.ones(dapp.shape[0]), (dapp.train_row, dapp.label)), \n",
    "                      shape=(grouptrain.shape[0],n_labelsclasses))\n",
    "dapp = devicelabels.dropna(subset=['test_row'])\n",
    "Xtest_label = csr_matrix((np.ones(dapp.shape[0]), (dapp.test_row, dapp.label)), \n",
    "                      shape=(grouptest.shape[0],n_labelsclasses))"
   ]
  },
  {
   "cell_type": "code",
   "execution_count": 14,
   "metadata": {
    "collapsed": false
   },
   "outputs": [
    {
     "name": "stdout",
     "output_type": "stream",
     "text": [
      "All features: train shape (74645, 21527), test shape (112071, 21527)\n"
     ]
    }
   ],
   "source": [
    "Xtrain = hstack((Xtrain_brand, Xtrain_model, Xtrain_app, Xtrain_label), format='csr')\n",
    "Xtest =  hstack((Xtest_brand, Xtest_model, Xtest_app, Xtest_label), format='csr')\n",
    "print('All features: train shape {}, test shape {}'.format(Xtrain.shape, Xtest.shape))"
   ]
  },
  {
   "cell_type": "code",
   "execution_count": 15,
   "metadata": {
    "collapsed": true
   },
   "outputs": [],
   "source": [
    "le = LabelEncoder().fit(grouptrain.group)\n",
    "y = le.transform(grouptrain.group)\n",
    "n_classes = len(le.classes_)"
   ]
  },
  {
   "cell_type": "code",
   "execution_count": 16,
   "metadata": {
    "collapsed": false
   },
   "outputs": [
    {
     "data": {
      "text/html": [
       "<div>\n",
       "<table border=\"1\" class=\"dataframe\">\n",
       "  <thead>\n",
       "    <tr style=\"text-align: right;\">\n",
       "      <th></th>\n",
       "      <th>F0-22</th>\n",
       "      <th>F23-26</th>\n",
       "      <th>F27-28</th>\n",
       "      <th>F29-32</th>\n",
       "      <th>F33-38</th>\n",
       "      <th>F39+</th>\n",
       "      <th>M0-22</th>\n",
       "      <th>M23-26</th>\n",
       "      <th>M27-28</th>\n",
       "      <th>M29-32</th>\n",
       "      <th>M33-38</th>\n",
       "      <th>M39+</th>\n",
       "    </tr>\n",
       "    <tr>\n",
       "      <th>device_id</th>\n",
       "      <th></th>\n",
       "      <th></th>\n",
       "      <th></th>\n",
       "      <th></th>\n",
       "      <th></th>\n",
       "      <th></th>\n",
       "      <th></th>\n",
       "      <th></th>\n",
       "      <th></th>\n",
       "      <th></th>\n",
       "      <th></th>\n",
       "      <th></th>\n",
       "    </tr>\n",
       "  </thead>\n",
       "  <tbody>\n",
       "    <tr>\n",
       "      <th>1002079943728939269</th>\n",
       "      <td>0.001019</td>\n",
       "      <td>0.006505</td>\n",
       "      <td>0.014032</td>\n",
       "      <td>0.013384</td>\n",
       "      <td>0.019838</td>\n",
       "      <td>0.043656</td>\n",
       "      <td>0.011813</td>\n",
       "      <td>0.034313</td>\n",
       "      <td>0.074756</td>\n",
       "      <td>0.169202</td>\n",
       "      <td>0.206469</td>\n",
       "      <td>0.405014</td>\n",
       "    </tr>\n",
       "    <tr>\n",
       "      <th>-1547860181818787117</th>\n",
       "      <td>0.006048</td>\n",
       "      <td>0.014264</td>\n",
       "      <td>0.031302</td>\n",
       "      <td>0.059026</td>\n",
       "      <td>0.047321</td>\n",
       "      <td>0.171971</td>\n",
       "      <td>0.006033</td>\n",
       "      <td>0.093162</td>\n",
       "      <td>0.056459</td>\n",
       "      <td>0.116598</td>\n",
       "      <td>0.181641</td>\n",
       "      <td>0.216174</td>\n",
       "    </tr>\n",
       "    <tr>\n",
       "      <th>7374582448058474277</th>\n",
       "      <td>0.015713</td>\n",
       "      <td>0.046021</td>\n",
       "      <td>0.035830</td>\n",
       "      <td>0.159737</td>\n",
       "      <td>0.118812</td>\n",
       "      <td>0.123501</td>\n",
       "      <td>0.013025</td>\n",
       "      <td>0.026272</td>\n",
       "      <td>0.043605</td>\n",
       "      <td>0.152647</td>\n",
       "      <td>0.129625</td>\n",
       "      <td>0.135212</td>\n",
       "    </tr>\n",
       "    <tr>\n",
       "      <th>-6220210354783429585</th>\n",
       "      <td>0.003210</td>\n",
       "      <td>0.025001</td>\n",
       "      <td>0.008382</td>\n",
       "      <td>0.012112</td>\n",
       "      <td>0.020735</td>\n",
       "      <td>0.229004</td>\n",
       "      <td>0.045639</td>\n",
       "      <td>0.135253</td>\n",
       "      <td>0.069829</td>\n",
       "      <td>0.122261</td>\n",
       "      <td>0.143592</td>\n",
       "      <td>0.184980</td>\n",
       "    </tr>\n",
       "    <tr>\n",
       "      <th>-5893464122623104785</th>\n",
       "      <td>0.035634</td>\n",
       "      <td>0.080179</td>\n",
       "      <td>0.042478</td>\n",
       "      <td>0.062225</td>\n",
       "      <td>0.044948</td>\n",
       "      <td>0.053792</td>\n",
       "      <td>0.091886</td>\n",
       "      <td>0.164689</td>\n",
       "      <td>0.097585</td>\n",
       "      <td>0.133064</td>\n",
       "      <td>0.100781</td>\n",
       "      <td>0.092741</td>\n",
       "    </tr>\n",
       "  </tbody>\n",
       "</table>\n",
       "</div>"
      ],
      "text/plain": [
       "                         F0-22    F23-26    F27-28    F29-32    F33-38  \\\n",
       "device_id                                                                \n",
       " 1002079943728939269  0.001019  0.006505  0.014032  0.013384  0.019838   \n",
       "-1547860181818787117  0.006048  0.014264  0.031302  0.059026  0.047321   \n",
       " 7374582448058474277  0.015713  0.046021  0.035830  0.159737  0.118812   \n",
       "-6220210354783429585  0.003210  0.025001  0.008382  0.012112  0.020735   \n",
       "-5893464122623104785  0.035634  0.080179  0.042478  0.062225  0.044948   \n",
       "\n",
       "                          F39+     M0-22    M23-26    M27-28    M29-32  \\\n",
       "device_id                                                                \n",
       " 1002079943728939269  0.043656  0.011813  0.034313  0.074756  0.169202   \n",
       "-1547860181818787117  0.171971  0.006033  0.093162  0.056459  0.116598   \n",
       " 7374582448058474277  0.123501  0.013025  0.026272  0.043605  0.152647   \n",
       "-6220210354783429585  0.229004  0.045639  0.135253  0.069829  0.122261   \n",
       "-5893464122623104785  0.053792  0.091886  0.164689  0.097585  0.133064   \n",
       "\n",
       "                        M33-38      M39+  \n",
       "device_id                                 \n",
       " 1002079943728939269  0.206469  0.405014  \n",
       "-1547860181818787117  0.181641  0.216174  \n",
       " 7374582448058474277  0.129625  0.135212  \n",
       "-6220210354783429585  0.143592  0.184980  \n",
       "-5893464122623104785  0.100781  0.092741  "
      ]
     },
     "execution_count": 16,
     "metadata": {},
     "output_type": "execute_result"
    }
   ],
   "source": [
    "clf = LogisticRegression(C=0.02, multi_class='multinomial',solver='lbfgs')\n",
    "clf.fit(Xtrain, y)\n",
    "pred = pd.DataFrame(clf.predict_proba(Xtest), index = grouptest.index, columns=le.classes_)\n",
    "pred.head()"
   ]
  },
  {
   "cell_type": "code",
   "execution_count": null,
   "metadata": {
    "collapsed": true
   },
   "outputs": [],
   "source": []
  },
  {
   "cell_type": "code",
   "execution_count": null,
   "metadata": {
    "collapsed": true
   },
   "outputs": [],
   "source": []
  }
 ],
 "metadata": {
  "kernelspec": {
   "display_name": "Python [default]",
   "language": "python",
   "name": "python3"
  },
  "language_info": {
   "codemirror_mode": {
    "name": "ipython",
    "version": 3
   },
   "file_extension": ".py",
   "mimetype": "text/x-python",
   "name": "python",
   "nbconvert_exporter": "python",
   "pygments_lexer": "ipython3",
   "version": "3.5.2"
  }
 },
 "nbformat": 4,
 "nbformat_minor": 2
}
