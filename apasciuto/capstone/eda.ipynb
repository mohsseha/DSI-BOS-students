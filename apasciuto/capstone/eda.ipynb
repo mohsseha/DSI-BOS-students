{
 "cells": [
  {
   "cell_type": "code",
   "execution_count": 2,
   "metadata": {
    "collapsed": true
   },
   "outputs": [],
   "source": [
    "import os\n",
    "import re\n",
    "import string\n",
    "\n",
    "import numpy as np\n",
    "import pandas as pd \n",
    "pd.set_option('display.max_columns', None)\n",
    "\n",
    "import seaborn as sns\n",
    "\n",
    "import matplotlib.pyplot as plt\n",
    "from mpl_toolkits.basemap import Basemap\n",
    "%matplotlib inline"
   ]
  },
  {
   "cell_type": "code",
   "execution_count": 3,
   "metadata": {
    "collapsed": false
   },
   "outputs": [
    {
     "name": "stdout",
     "output_type": "stream",
     "text": [
      "# File Size:\n",
      "app_events.csv                1037.27MB\n",
      "app_labels.csv                11.19MB\n",
      "brand_translate.csv           0.0MB\n",
      "events.csv                    195.43MB\n",
      "gender_age_test.csv           2.28MB\n",
      "gender_age_train.csv          2.37MB\n",
      "label_categories.csv          0.02MB\n",
      "phone_brand_device_model.csv  6.72MB\n"
     ]
    }
   ],
   "source": [
    "print(\"# File Size:\")\n",
    "for f in os.listdir('archive/'):\n",
    "    if 'csv' in f:\n",
    "        print(f.ljust(30) + str(round(os.path.getsize('archive/' + f) / 1000000, 2)) + 'MB')"
   ]
  },
  {
   "cell_type": "code",
   "execution_count": 5,
   "metadata": {
    "collapsed": false
   },
   "outputs": [],
   "source": [
    "device = pd.read_csv(\"archive/phone_brand_device_model.csv\")\n",
    "events = pd.read_csv(\"archive/events.csv\")\n",
    "app_events = pd.read_csv(\"archive/app_events.csv\")\n",
    "app_labels = pd.read_csv(\"archive/app_labels.csv\")\n",
    "label_categories = pd.read_csv(\"archive/label_categories.csv\")\n",
    "gender_age_train = pd.read_csv(\"archive/gender_age_train.csv\")\n",
    "gender_age_test = pd.read_csv(\"archive/gender_age_test.csv\")"
   ]
  },
  {
   "cell_type": "markdown",
   "metadata": {},
   "source": [
    "## DEVICE"
   ]
  },
  {
   "cell_type": "code",
   "execution_count": 8,
   "metadata": {
    "collapsed": false
   },
   "outputs": [
    {
     "data": {
      "text/html": [
       "<div>\n",
       "<table border=\"1\" class=\"dataframe\">\n",
       "  <thead>\n",
       "    <tr style=\"text-align: right;\">\n",
       "      <th></th>\n",
       "      <th>device_id</th>\n",
       "      <th>phone_brand</th>\n",
       "      <th>device_model</th>\n",
       "    </tr>\n",
       "  </thead>\n",
       "  <tbody>\n",
       "    <tr>\n",
       "      <th>0</th>\n",
       "      <td>-8890648629457979026</td>\n",
       "      <td>小米</td>\n",
       "      <td>红米</td>\n",
       "    </tr>\n",
       "  </tbody>\n",
       "</table>\n",
       "</div>"
      ],
      "text/plain": [
       "             device_id phone_brand device_model\n",
       "0 -8890648629457979026          小米           红米"
      ]
     },
     "execution_count": 8,
     "metadata": {},
     "output_type": "execute_result"
    }
   ],
   "source": [
    "device.head(1)"
   ]
  },
  {
   "cell_type": "code",
   "execution_count": 6,
   "metadata": {
    "collapsed": false
   },
   "outputs": [
    {
     "data": {
      "text/plain": [
       "(187245, 3)"
      ]
     },
     "execution_count": 6,
     "metadata": {},
     "output_type": "execute_result"
    }
   ],
   "source": [
    "device.shape"
   ]
  },
  {
   "cell_type": "code",
   "execution_count": 9,
   "metadata": {
    "collapsed": false
   },
   "outputs": [
    {
     "data": {
      "text/plain": [
       "device_id       0\n",
       "phone_brand     0\n",
       "device_model    0\n",
       "dtype: int64"
      ]
     },
     "execution_count": 9,
     "metadata": {},
     "output_type": "execute_result"
    }
   ],
   "source": [
    "device.isnull().sum()"
   ]
  },
  {
   "cell_type": "code",
   "execution_count": 6,
   "metadata": {
    "collapsed": true
   },
   "outputs": [
    {
     "data": {
      "text/plain": [
       "['小米',\n",
       " '小米',\n",
       " '三星',\n",
       " 'SUGAR',\n",
       " '三星',\n",
       " '华为',\n",
       " '小米',\n",
       " '华为',\n",
       " '小米',\n",
       " 'vivo',\n",
       " '三星',\n",
       " '小米',\n",
       " '三星',\n",
       " '三星',\n",
       " '小米',\n",
       " '小米',\n",
       " '华为',\n",
       " 'vivo',\n",
       " '小米',\n",
       " '魅族',\n",
       " '三星',\n",
       " '小米',\n",
       " '小米',\n",
       " 'vivo',\n",
       " '三星',\n",
       " '小米',\n",
       " '酷派',\n",
       " '天语',\n",
       " 'OPPO',\n",
       " '三星',\n",
       " '中兴',\n",
       " '酷派',\n",
       " 'vivo',\n",
       " '三星',\n",
       " '小米',\n",
       " '金立',\n",
       " '联想',\n",
       " '三星',\n",
       " '三星',\n",
       " '小米',\n",
       " '联想',\n",
       " '华为',\n",
       " '小米',\n",
       " '小米',\n",
       " '三星',\n",
       " '三星',\n",
       " '小米',\n",
       " '海信',\n",
       " '三星',\n",
       " '小米',\n",
       " '索尼',\n",
       " 'vivo',\n",
       " '联想',\n",
       " '酷派',\n",
       " '三星',\n",
       " 'LG',\n",
       " '小米',\n",
       " '小米',\n",
       " 'vivo',\n",
       " 'vivo',\n",
       " '华为',\n",
       " 'vivo',\n",
       " '酷派',\n",
       " '三星',\n",
       " '三星',\n",
       " '小米',\n",
       " 'vivo',\n",
       " 'OPPO',\n",
       " 'vivo',\n",
       " '小米',\n",
       " '小米',\n",
       " '三星',\n",
       " '索尼',\n",
       " '小米',\n",
       " 'OPPO',\n",
       " 'OPPO',\n",
       " '华为',\n",
       " '小米',\n",
       " '小米',\n",
       " '酷派',\n",
       " '华为',\n",
       " '三星',\n",
       " '三星',\n",
       " '华为',\n",
       " '三星',\n",
       " '联想',\n",
       " '小米',\n",
       " '三星',\n",
       " '华为',\n",
       " '华为',\n",
       " '华为',\n",
       " '三星',\n",
       " '华为',\n",
       " '华为',\n",
       " '金立',\n",
       " 'HTC',\n",
       " '联想',\n",
       " 'HTC',\n",
       " 'vivo',\n",
       " '三星',\n",
       " '三星',\n",
       " '三星',\n",
       " '小米',\n",
       " '三星',\n",
       " '小米',\n",
       " '小米',\n",
       " '小米',\n",
       " '小米',\n",
       " '华为',\n",
       " '酷比',\n",
       " '三星',\n",
       " '小米',\n",
       " '华为',\n",
       " '三星',\n",
       " '小米',\n",
       " '三星',\n",
       " '联想',\n",
       " '魅族',\n",
       " '小米',\n",
       " '小米',\n",
       " '三星',\n",
       " '联想',\n",
       " '酷派',\n",
       " '小米',\n",
       " '酷派',\n",
       " '小米',\n",
       " 'vivo',\n",
       " '魅族',\n",
       " '三星',\n",
       " '华为',\n",
       " '三星',\n",
       " '小米',\n",
       " '三星',\n",
       " '三星',\n",
       " '联想',\n",
       " '华为',\n",
       " '小米',\n",
       " '联想',\n",
       " '三星',\n",
       " '三星',\n",
       " '小米',\n",
       " 'OPPO',\n",
       " '小米',\n",
       " '小米',\n",
       " 'vivo',\n",
       " '三星',\n",
       " '魅族',\n",
       " '三星',\n",
       " '魅族',\n",
       " '小米',\n",
       " '华为',\n",
       " '小米',\n",
       " '小米',\n",
       " 'OPPO',\n",
       " '三星',\n",
       " '三星',\n",
       " '小米',\n",
       " 'OPPO',\n",
       " '小米',\n",
       " 'vivo',\n",
       " 'HTC',\n",
       " '小米',\n",
       " '小米',\n",
       " 'vivo',\n",
       " '小米',\n",
       " '三星',\n",
       " '小米',\n",
       " '索尼',\n",
       " 'vivo',\n",
       " '索尼',\n",
       " 'vivo',\n",
       " '三星',\n",
       " '小米',\n",
       " '三星',\n",
       " '华为',\n",
       " '三星',\n",
       " 'LG',\n",
       " '华为',\n",
       " '魅族',\n",
       " '华为',\n",
       " '小米',\n",
       " '华为',\n",
       " '魅族',\n",
       " '华为',\n",
       " '康佳',\n",
       " '华为',\n",
       " '三星',\n",
       " '联想',\n",
       " '三星',\n",
       " '金立',\n",
       " '奇酷',\n",
       " '华为',\n",
       " '小米',\n",
       " '小米',\n",
       " '小米',\n",
       " '小米',\n",
       " '欧博信',\n",
       " 'vivo',\n",
       " '三星',\n",
       " '三星',\n",
       " 'vivo',\n",
       " '酷派',\n",
       " '华为',\n",
       " '三星',\n",
       " 'vivo',\n",
       " '三星',\n",
       " '小米',\n",
       " '酷派',\n",
       " '三星',\n",
       " '华为',\n",
       " '华为',\n",
       " '小米',\n",
       " '小米',\n",
       " '小米',\n",
       " '小米',\n",
       " '魅族',\n",
       " 'vivo',\n",
       " '三星',\n",
       " '小米',\n",
       " '酷派',\n",
       " '三星',\n",
       " '欧比',\n",
       " '小米',\n",
       " 'HTC',\n",
       " '小米',\n",
       " '三星',\n",
       " '联想',\n",
       " '小米',\n",
       " '三星',\n",
       " '小米',\n",
       " '索尼',\n",
       " '华为',\n",
       " '三星',\n",
       " 'OPPO',\n",
       " '三星',\n",
       " 'OPPO',\n",
       " 'vivo',\n",
       " '华为',\n",
       " '三星',\n",
       " 'TCL',\n",
       " '三星',\n",
       " '三星',\n",
       " '三星',\n",
       " '三星',\n",
       " '小米',\n",
       " '三星',\n",
       " '小米',\n",
       " '联想',\n",
       " '三星',\n",
       " '三星',\n",
       " '华为',\n",
       " '小米',\n",
       " '小米',\n",
       " '小米',\n",
       " '华为',\n",
       " '三星',\n",
       " '酷派',\n",
       " '三星',\n",
       " '爱派尔',\n",
       " 'HTC',\n",
       " '华为',\n",
       " '小米',\n",
       " '三星',\n",
       " '三星',\n",
       " '三星',\n",
       " '三星',\n",
       " '小米',\n",
       " '华为',\n",
       " '小米',\n",
       " '华为',\n",
       " '三星',\n",
       " '魅族',\n",
       " '小米',\n",
       " '小米',\n",
       " '华为',\n",
       " 'OPPO',\n",
       " '小米',\n",
       " '华为',\n",
       " '联想',\n",
       " 'OPPO',\n",
       " '小米',\n",
       " '三星',\n",
       " '三星',\n",
       " '酷派',\n",
       " '华为',\n",
       " '小米',\n",
       " 'HTC',\n",
       " '三星',\n",
       " '三星',\n",
       " '酷派',\n",
       " '三星',\n",
       " '三星',\n",
       " '酷派',\n",
       " '三星',\n",
       " '小米',\n",
       " '华为',\n",
       " '索尼',\n",
       " '华为',\n",
       " '华为',\n",
       " '酷派',\n",
       " '小米',\n",
       " '华为',\n",
       " 'OPPO',\n",
       " '小米',\n",
       " '努比亚',\n",
       " '华为',\n",
       " '小米',\n",
       " '酷派',\n",
       " '酷派',\n",
       " '三星',\n",
       " '三星',\n",
       " '中兴',\n",
       " '联想',\n",
       " '小米',\n",
       " '小米',\n",
       " '三星',\n",
       " '三星',\n",
       " 'vivo',\n",
       " '小米',\n",
       " '酷派',\n",
       " '酷派',\n",
       " '三星',\n",
       " '三星',\n",
       " '小米',\n",
       " '魅族',\n",
       " '小米',\n",
       " '三星',\n",
       " '三星',\n",
       " 'OPPO',\n",
       " 'vivo',\n",
       " '魅族',\n",
       " '小米',\n",
       " '小米',\n",
       " '小米',\n",
       " '小米',\n",
       " '小米',\n",
       " 'vivo',\n",
       " 'vivo',\n",
       " '三星',\n",
       " '小米',\n",
       " 'vivo',\n",
       " '三星',\n",
       " '三星',\n",
       " '魅族',\n",
       " '小米',\n",
       " '三星',\n",
       " '华为',\n",
       " '华为',\n",
       " '三星',\n",
       " '华为',\n",
       " '联想',\n",
       " '三星',\n",
       " 'vivo',\n",
       " '三星',\n",
       " '三星',\n",
       " 'vivo',\n",
       " '三星',\n",
       " 'HTC',\n",
       " '华为',\n",
       " '小米',\n",
       " '三星',\n",
       " '金立',\n",
       " '小米',\n",
       " '酷派',\n",
       " 'OPPO',\n",
       " '华为',\n",
       " 'OPPO',\n",
       " '优米',\n",
       " '联想',\n",
       " '魅族',\n",
       " 'vivo',\n",
       " '小米',\n",
       " '华为',\n",
       " '三星',\n",
       " '优米',\n",
       " '金立',\n",
       " 'OPPO',\n",
       " '酷派',\n",
       " '三星',\n",
       " 'vivo',\n",
       " '三星',\n",
       " '小米',\n",
       " '小米',\n",
       " '金立',\n",
       " 'vivo',\n",
       " '小米',\n",
       " '小米',\n",
       " '小米',\n",
       " 'vivo',\n",
       " '金立',\n",
       " '华为',\n",
       " '三星',\n",
       " 'OPPO',\n",
       " '华为',\n",
       " '酷派',\n",
       " '三星',\n",
       " '小米',\n",
       " '小米',\n",
       " 'vivo',\n",
       " '三星',\n",
       " 'OPPO',\n",
       " 'vivo',\n",
       " '小米',\n",
       " '联想',\n",
       " 'vivo',\n",
       " '华为',\n",
       " '华为',\n",
       " '小米',\n",
       " '索尼',\n",
       " '三星',\n",
       " '魅族',\n",
       " '小米',\n",
       " '中兴',\n",
       " '小米',\n",
       " '三星',\n",
       " 'HTC',\n",
       " '小米',\n",
       " '小米',\n",
       " '小米',\n",
       " '酷派',\n",
       " '小米',\n",
       " 'LOGO',\n",
       " '小米',\n",
       " '小米',\n",
       " 'vivo',\n",
       " '索尼',\n",
       " '小米',\n",
       " '小米',\n",
       " '中兴',\n",
       " '华为',\n",
       " '三星',\n",
       " '华为',\n",
       " '三星',\n",
       " 'vivo',\n",
       " 'vivo',\n",
       " '华为',\n",
       " '金立',\n",
       " '三星',\n",
       " '华为',\n",
       " '酷派',\n",
       " '魅族',\n",
       " '中兴',\n",
       " 'vivo',\n",
       " '魅族',\n",
       " '小米',\n",
       " '酷派',\n",
       " 'HTC',\n",
       " '华为',\n",
       " 'OPPO',\n",
       " '小米',\n",
       " '华为',\n",
       " '联想',\n",
       " '三星',\n",
       " '华为',\n",
       " '小米',\n",
       " '小米',\n",
       " '小米',\n",
       " '小米',\n",
       " '三星',\n",
       " '联想',\n",
       " '华为',\n",
       " '三星',\n",
       " '小米',\n",
       " '华为',\n",
       " '华为',\n",
       " '华为',\n",
       " '小米',\n",
       " '三星',\n",
       " 'vivo',\n",
       " '天语',\n",
       " '魅族',\n",
       " 'vivo',\n",
       " 'vivo',\n",
       " '三星',\n",
       " '华为',\n",
       " '联想',\n",
       " '小米',\n",
       " '酷派',\n",
       " '小米',\n",
       " '小米',\n",
       " '华为',\n",
       " '小米',\n",
       " '小米',\n",
       " 'vivo',\n",
       " '索尼',\n",
       " '华为',\n",
       " '小米',\n",
       " '索尼',\n",
       " 'OPPO',\n",
       " '三星',\n",
       " '三星',\n",
       " '小米',\n",
       " '金立',\n",
       " '小米',\n",
       " '华为',\n",
       " '华为',\n",
       " '三星',\n",
       " '朵唯',\n",
       " '小米',\n",
       " '金立',\n",
       " '华为',\n",
       " '小米',\n",
       " '三星',\n",
       " 'OPPO',\n",
       " '华为',\n",
       " '小米',\n",
       " '华为',\n",
       " '三星',\n",
       " '三星',\n",
       " '华为',\n",
       " '华为',\n",
       " '三星',\n",
       " '小米',\n",
       " '酷派',\n",
       " '三星',\n",
       " '小米',\n",
       " '三星',\n",
       " '努比亚',\n",
       " '三星',\n",
       " 'OPPO',\n",
       " '三星',\n",
       " '魅族',\n",
       " '华为',\n",
       " '酷派',\n",
       " '华为',\n",
       " '小米',\n",
       " '三星',\n",
       " '三星',\n",
       " '华为',\n",
       " '中兴',\n",
       " '小米',\n",
       " 'HTC',\n",
       " '索尼',\n",
       " '三星',\n",
       " '三星',\n",
       " 'OPPO',\n",
       " '小米',\n",
       " '小米',\n",
       " '小米',\n",
       " '三星',\n",
       " '小米',\n",
       " '小米',\n",
       " '华为',\n",
       " '华为',\n",
       " '华为',\n",
       " '三星',\n",
       " '小米',\n",
       " '小米',\n",
       " '华为',\n",
       " 'vivo',\n",
       " '小米',\n",
       " 'HTC',\n",
       " '三星',\n",
       " '小米',\n",
       " '三星',\n",
       " 'OPPO',\n",
       " '小米',\n",
       " '华为',\n",
       " '华为',\n",
       " '联想',\n",
       " '海信',\n",
       " '华为',\n",
       " '小米',\n",
       " '小米',\n",
       " '三星',\n",
       " '黑米',\n",
       " '三星',\n",
       " 'TCL',\n",
       " '三星',\n",
       " '小米',\n",
       " '三星',\n",
       " '小米',\n",
       " 'OPPO',\n",
       " '三星',\n",
       " 'OPPO',\n",
       " '三星',\n",
       " '小米',\n",
       " '三星',\n",
       " '小米',\n",
       " '小米',\n",
       " '小米',\n",
       " '华为',\n",
       " '小米',\n",
       " '华为',\n",
       " '华为',\n",
       " '小米',\n",
       " '华为',\n",
       " '努比亚',\n",
       " '小米',\n",
       " '小米',\n",
       " '华为',\n",
       " '华为',\n",
       " '华为',\n",
       " '小米',\n",
       " 'vivo',\n",
       " '小米',\n",
       " '联想',\n",
       " '三星',\n",
       " '天语',\n",
       " '优米',\n",
       " '魅族',\n",
       " '小米',\n",
       " '欧博信',\n",
       " '三星',\n",
       " '联想',\n",
       " '华为',\n",
       " '小米',\n",
       " '索尼',\n",
       " '华为',\n",
       " '华为',\n",
       " '华为',\n",
       " '华为',\n",
       " '小米',\n",
       " '小米',\n",
       " 'OPPO',\n",
       " '三星',\n",
       " '小米',\n",
       " '三星',\n",
       " '小米',\n",
       " '小米',\n",
       " '联想',\n",
       " '酷派',\n",
       " '三星',\n",
       " '魅族',\n",
       " 'vivo',\n",
       " '联想',\n",
       " '三星',\n",
       " '华为',\n",
       " '小米',\n",
       " '酷派',\n",
       " '小米',\n",
       " '华为',\n",
       " '小米',\n",
       " '三星',\n",
       " '三星',\n",
       " 'vivo',\n",
       " '酷派',\n",
       " 'OPPO',\n",
       " '小米',\n",
       " '华为',\n",
       " '酷派',\n",
       " '酷派',\n",
       " '三星',\n",
       " '三星',\n",
       " '三星',\n",
       " '小米',\n",
       " 'vivo',\n",
       " '小米',\n",
       " 'OPPO',\n",
       " 'OPPO',\n",
       " '小米',\n",
       " 'OPPO',\n",
       " 'vivo',\n",
       " '联想',\n",
       " '三星',\n",
       " '三星',\n",
       " '小米',\n",
       " '努比亚',\n",
       " 'HTC',\n",
       " '华为',\n",
       " '三星',\n",
       " '小米',\n",
       " '华为',\n",
       " '小米',\n",
       " '三星',\n",
       " '三星',\n",
       " '华为',\n",
       " '中兴',\n",
       " '中兴',\n",
       " '三星',\n",
       " '海信',\n",
       " '三星',\n",
       " 'OPPO',\n",
       " '天语',\n",
       " 'TCL',\n",
       " '小米',\n",
       " '华为',\n",
       " 'OPPO',\n",
       " 'HTC',\n",
       " '小米',\n",
       " '华为',\n",
       " '小米',\n",
       " '华为',\n",
       " '三星',\n",
       " '小米',\n",
       " '酷派',\n",
       " '三星',\n",
       " '华为',\n",
       " '小米',\n",
       " '酷派',\n",
       " '三星',\n",
       " '华为',\n",
       " '三星',\n",
       " '三星',\n",
       " '联想',\n",
       " '华为',\n",
       " '联想',\n",
       " '三星',\n",
       " '三星',\n",
       " '华为',\n",
       " '小米',\n",
       " '三星',\n",
       " '三星',\n",
       " '三星',\n",
       " '小米',\n",
       " '小米',\n",
       " '酷派',\n",
       " '魅族',\n",
       " '小米',\n",
       " '小米',\n",
       " '三星',\n",
       " '三星',\n",
       " '三星',\n",
       " '三星',\n",
       " 'vivo',\n",
       " '华为',\n",
       " 'OPPO',\n",
       " '联想',\n",
       " '三星',\n",
       " '小米',\n",
       " '小米',\n",
       " '魅族',\n",
       " '锤子',\n",
       " '小米',\n",
       " '三星',\n",
       " '小米',\n",
       " '小米',\n",
       " '联想',\n",
       " '小米',\n",
       " '华为',\n",
       " '三星',\n",
       " 'vivo',\n",
       " '酷派',\n",
       " '魅族',\n",
       " '华为',\n",
       " '三星',\n",
       " '小米',\n",
       " '华为',\n",
       " '酷派',\n",
       " '小米',\n",
       " '爱派尔',\n",
       " 'vivo',\n",
       " '小米',\n",
       " '小米',\n",
       " '三星',\n",
       " '小米',\n",
       " '联想',\n",
       " '小米',\n",
       " '小米',\n",
       " 'OPPO',\n",
       " '三星',\n",
       " '中兴',\n",
       " 'OPPO',\n",
       " '酷派',\n",
       " 'HTC',\n",
       " '联想',\n",
       " 'vivo',\n",
       " '三星',\n",
       " '三星',\n",
       " '小米',\n",
       " '华为',\n",
       " '华为',\n",
       " '小米',\n",
       " '小米',\n",
       " '华为',\n",
       " '小米',\n",
       " '小米',\n",
       " '三星',\n",
       " 'OPPO',\n",
       " '小米',\n",
       " '小米',\n",
       " '三星',\n",
       " '华为',\n",
       " '三星',\n",
       " '三星',\n",
       " '三星',\n",
       " '三星',\n",
       " '小米',\n",
       " '三星',\n",
       " '朵唯',\n",
       " '华为',\n",
       " '小米',\n",
       " '海信',\n",
       " '小米',\n",
       " '联想',\n",
       " '三星',\n",
       " '小米',\n",
       " '华为',\n",
       " '魅族',\n",
       " '三星',\n",
       " '小米',\n",
       " '小米',\n",
       " 'OPPO',\n",
       " '三星',\n",
       " '华为',\n",
       " 'vivo',\n",
       " '酷派',\n",
       " '华为',\n",
       " '小米',\n",
       " '华为',\n",
       " '小米',\n",
       " '小米',\n",
       " '小米',\n",
       " 'HTC',\n",
       " '小米',\n",
       " '三星',\n",
       " '小米',\n",
       " '酷派',\n",
       " '酷派',\n",
       " '小米',\n",
       " '三星',\n",
       " '华为',\n",
       " '小米',\n",
       " '小米',\n",
       " '华为',\n",
       " 'OPPO',\n",
       " '联想',\n",
       " '三星',\n",
       " '小米',\n",
       " '小米',\n",
       " '三星',\n",
       " '华为',\n",
       " '小米',\n",
       " 'OPPO',\n",
       " '小米',\n",
       " '小米',\n",
       " '三星',\n",
       " '三星',\n",
       " '小米',\n",
       " '小米',\n",
       " 'OPPO',\n",
       " '华为',\n",
       " 'vivo',\n",
       " '小米',\n",
       " '小米',\n",
       " '小米',\n",
       " 'OPPO',\n",
       " '酷派',\n",
       " '小米',\n",
       " '华为',\n",
       " '华为',\n",
       " '酷比魔方',\n",
       " '小米',\n",
       " '华为',\n",
       " '三星',\n",
       " 'OPPO',\n",
       " '小米',\n",
       " 'OPPO',\n",
       " '三星',\n",
       " '华为',\n",
       " 'vivo',\n",
       " '小米',\n",
       " '小米',\n",
       " '酷派',\n",
       " '小米',\n",
       " '华为',\n",
       " '华为',\n",
       " 'vivo',\n",
       " 'OPPO',\n",
       " '小米',\n",
       " 'vivo',\n",
       " 'OPPO',\n",
       " '小米',\n",
       " '华为',\n",
       " '酷派',\n",
       " '华为',\n",
       " '小米',\n",
       " '三星',\n",
       " '三星',\n",
       " '努比亚',\n",
       " '中兴',\n",
       " '华为',\n",
       " '小米',\n",
       " '小米',\n",
       " '小米',\n",
       " '华为',\n",
       " '华为',\n",
       " '酷派',\n",
       " '小米',\n",
       " '华为',\n",
       " '酷派',\n",
       " '小米',\n",
       " '美图',\n",
       " 'vivo',\n",
       " '华为',\n",
       " '小米',\n",
       " '酷派',\n",
       " '小米',\n",
       " '华为',\n",
       " '小米',\n",
       " '三星',\n",
       " '小米',\n",
       " '酷派',\n",
       " '魅族',\n",
       " '华为',\n",
       " '小米',\n",
       " '华为',\n",
       " '三星',\n",
       " '华为',\n",
       " '三星',\n",
       " 'HTC',\n",
       " '酷派',\n",
       " '华为',\n",
       " '华为',\n",
       " 'OPPO',\n",
       " '三星',\n",
       " '小米',\n",
       " '小米',\n",
       " '小米',\n",
       " '华为',\n",
       " '三星',\n",
       " '三星',\n",
       " '魅族',\n",
       " '小米',\n",
       " '华为',\n",
       " '华为',\n",
       " '华为',\n",
       " '联想',\n",
       " '尼比鲁',\n",
       " '三星',\n",
       " '华为',\n",
       " '小米',\n",
       " 'vivo',\n",
       " '小米',\n",
       " '三星',\n",
       " '三星',\n",
       " 'OPPO',\n",
       " '小米',\n",
       " '小米',\n",
       " '三星',\n",
       " '索尼',\n",
       " '华为',\n",
       " '三星',\n",
       " '小米',\n",
       " '小米',\n",
       " '小米',\n",
       " '三星',\n",
       " '华为',\n",
       " '魅族',\n",
       " 'OPPO',\n",
       " 'TCL',\n",
       " '小米',\n",
       " 'OPPO',\n",
       " '华为',\n",
       " 'vivo',\n",
       " '一加',\n",
       " 'OPPO',\n",
       " 'vivo',\n",
       " '华为',\n",
       " '小米',\n",
       " '联想',\n",
       " '小米',\n",
       " 'HTC',\n",
       " 'OPPO',\n",
       " '酷派',\n",
       " '小米',\n",
       " '小米',\n",
       " '努比亚',\n",
       " '小米',\n",
       " '小米',\n",
       " 'vivo',\n",
       " '三星',\n",
       " 'vivo',\n",
       " '三星',\n",
       " '华为',\n",
       " 'HTC',\n",
       " '索尼',\n",
       " '小米',\n",
       " 'LG',\n",
       " '三星',\n",
       " '小米',\n",
       " '魅族',\n",
       " '小米',\n",
       " '小米',\n",
       " 'OPPO',\n",
       " '华为',\n",
       " 'vivo',\n",
       " 'vivo',\n",
       " '酷派',\n",
       " '华为',\n",
       " '三星',\n",
       " '小米',\n",
       " '小米',\n",
       " '华为',\n",
       " '酷派',\n",
       " '华为',\n",
       " '小米',\n",
       " 'vivo',\n",
       " '三星',\n",
       " '三星',\n",
       " '华为',\n",
       " 'OPPO',\n",
       " '联想',\n",
       " '魅族',\n",
       " '三星',\n",
       " '酷派',\n",
       " '三星',\n",
       " '小米',\n",
       " '优购',\n",
       " '诺基亚',\n",
       " ...]"
      ]
     },
     "execution_count": 6,
     "metadata": {},
     "output_type": "execute_result"
    }
   ],
   "source": [
    "list(device.phone_brand)"
   ]
  },
  {
   "cell_type": "markdown",
   "metadata": {},
   "source": [
    "## EVENTS"
   ]
  },
  {
   "cell_type": "code",
   "execution_count": 11,
   "metadata": {
    "collapsed": true
   },
   "outputs": [],
   "source": [
    "events = pd.read_csv(\"archive/events.csv\")"
   ]
  },
  {
   "cell_type": "code",
   "execution_count": 4,
   "metadata": {
    "collapsed": false,
    "scrolled": true
   },
   "outputs": [
    {
     "data": {
      "text/html": [
       "<div>\n",
       "<table border=\"1\" class=\"dataframe\">\n",
       "  <thead>\n",
       "    <tr style=\"text-align: right;\">\n",
       "      <th></th>\n",
       "      <th>event_id</th>\n",
       "      <th>device_id</th>\n",
       "      <th>timestamp</th>\n",
       "      <th>longitude</th>\n",
       "      <th>latitude</th>\n",
       "    </tr>\n",
       "  </thead>\n",
       "  <tbody>\n",
       "    <tr>\n",
       "      <th>0</th>\n",
       "      <td>1</td>\n",
       "      <td>29182687948017175</td>\n",
       "      <td>2016-05-01 00:55:25</td>\n",
       "      <td>121.38</td>\n",
       "      <td>31.24</td>\n",
       "    </tr>\n",
       "  </tbody>\n",
       "</table>\n",
       "</div>"
      ],
      "text/plain": [
       "   event_id          device_id            timestamp  longitude  latitude\n",
       "0         1  29182687948017175  2016-05-01 00:55:25     121.38     31.24"
      ]
     },
     "execution_count": 4,
     "metadata": {},
     "output_type": "execute_result"
    }
   ],
   "source": [
    "events.head(1)"
   ]
  },
  {
   "cell_type": "code",
   "execution_count": 10,
   "metadata": {
    "collapsed": false
   },
   "outputs": [
    {
     "data": {
      "text/plain": [
       "(3252950, 5)"
      ]
     },
     "execution_count": 10,
     "metadata": {},
     "output_type": "execute_result"
    }
   ],
   "source": [
    "events.shape"
   ]
  },
  {
   "cell_type": "code",
   "execution_count": 11,
   "metadata": {
    "collapsed": false
   },
   "outputs": [
    {
     "data": {
      "text/plain": [
       "event_id     0\n",
       "device_id    0\n",
       "timestamp    0\n",
       "longitude    0\n",
       "latitude     0\n",
       "dtype: int64"
      ]
     },
     "execution_count": 11,
     "metadata": {},
     "output_type": "execute_result"
    }
   ],
   "source": [
    "events.isnull().sum()"
   ]
  },
  {
   "cell_type": "code",
   "execution_count": 14,
   "metadata": {
    "collapsed": false
   },
   "outputs": [
    {
     "data": {
      "text/plain": [
       "3252950"
      ]
     },
     "execution_count": 14,
     "metadata": {},
     "output_type": "execute_result"
    }
   ],
   "source": [
    "len(events)"
   ]
  },
  {
   "cell_type": "code",
   "execution_count": 60,
   "metadata": {
    "collapsed": true
   },
   "outputs": [],
   "source": [
    "events.timestamp = pd.to_datetime(events.timestamp)"
   ]
  },
  {
   "cell_type": "code",
   "execution_count": 61,
   "metadata": {
    "collapsed": false,
    "scrolled": true
   },
   "outputs": [
    {
     "data": {
      "text/html": [
       "<div>\n",
       "<table border=\"1\" class=\"dataframe\">\n",
       "  <thead>\n",
       "    <tr style=\"text-align: right;\">\n",
       "      <th></th>\n",
       "      <th>event_id</th>\n",
       "      <th>device_id</th>\n",
       "      <th>timestamp</th>\n",
       "      <th>longitude</th>\n",
       "      <th>latitude</th>\n",
       "    </tr>\n",
       "  </thead>\n",
       "  <tbody>\n",
       "    <tr>\n",
       "      <th>0</th>\n",
       "      <td>1</td>\n",
       "      <td>29182687948017175</td>\n",
       "      <td>2016-05-01 00:55:25</td>\n",
       "      <td>121.38</td>\n",
       "      <td>31.24</td>\n",
       "    </tr>\n",
       "  </tbody>\n",
       "</table>\n",
       "</div>"
      ],
      "text/plain": [
       "   event_id          device_id           timestamp  longitude  latitude\n",
       "0         1  29182687948017175 2016-05-01 00:55:25     121.38     31.24"
      ]
     },
     "execution_count": 61,
     "metadata": {},
     "output_type": "execute_result"
    }
   ],
   "source": [
    "events.head(1)"
   ]
  },
  {
   "cell_type": "code",
   "execution_count": 62,
   "metadata": {
    "collapsed": true
   },
   "outputs": [],
   "source": [
    "events.sort_values('timestamp', inplace=True)"
   ]
  },
  {
   "cell_type": "code",
   "execution_count": 63,
   "metadata": {
    "collapsed": false,
    "scrolled": true
   },
   "outputs": [
    {
     "data": {
      "text/html": [
       "<div>\n",
       "<table border=\"1\" class=\"dataframe\">\n",
       "  <thead>\n",
       "    <tr style=\"text-align: right;\">\n",
       "      <th></th>\n",
       "      <th>event_id</th>\n",
       "      <th>device_id</th>\n",
       "      <th>timestamp</th>\n",
       "      <th>longitude</th>\n",
       "      <th>latitude</th>\n",
       "    </tr>\n",
       "  </thead>\n",
       "  <tbody>\n",
       "    <tr>\n",
       "      <th>975953</th>\n",
       "      <td>975954</td>\n",
       "      <td>1284250737810407640</td>\n",
       "      <td>2016-04-30 23:52:24</td>\n",
       "      <td>0.00</td>\n",
       "      <td>0.00</td>\n",
       "    </tr>\n",
       "    <tr>\n",
       "      <th>291990</th>\n",
       "      <td>291991</td>\n",
       "      <td>-5815555854982631278</td>\n",
       "      <td>2016-04-30 23:52:26</td>\n",
       "      <td>0.00</td>\n",
       "      <td>0.00</td>\n",
       "    </tr>\n",
       "    <tr>\n",
       "      <th>2404699</th>\n",
       "      <td>2404700</td>\n",
       "      <td>1779631023439405334</td>\n",
       "      <td>2016-04-30 23:52:26</td>\n",
       "      <td>114.25</td>\n",
       "      <td>30.58</td>\n",
       "    </tr>\n",
       "    <tr>\n",
       "      <th>1267792</th>\n",
       "      <td>1267793</td>\n",
       "      <td>9032751590435469715</td>\n",
       "      <td>2016-04-30 23:52:27</td>\n",
       "      <td>114.76</td>\n",
       "      <td>38.20</td>\n",
       "    </tr>\n",
       "    <tr>\n",
       "      <th>421244</th>\n",
       "      <td>421245</td>\n",
       "      <td>-1945835327787113275</td>\n",
       "      <td>2016-04-30 23:52:42</td>\n",
       "      <td>104.67</td>\n",
       "      <td>23.16</td>\n",
       "    </tr>\n",
       "  </tbody>\n",
       "</table>\n",
       "</div>"
      ],
      "text/plain": [
       "         event_id            device_id           timestamp  longitude  \\\n",
       "975953     975954  1284250737810407640 2016-04-30 23:52:24       0.00   \n",
       "291990     291991 -5815555854982631278 2016-04-30 23:52:26       0.00   \n",
       "2404699   2404700  1779631023439405334 2016-04-30 23:52:26     114.25   \n",
       "1267792   1267793  9032751590435469715 2016-04-30 23:52:27     114.76   \n",
       "421244     421245 -1945835327787113275 2016-04-30 23:52:42     104.67   \n",
       "\n",
       "         latitude  \n",
       "975953       0.00  \n",
       "291990       0.00  \n",
       "2404699     30.58  \n",
       "1267792     38.20  \n",
       "421244      23.16  "
      ]
     },
     "execution_count": 63,
     "metadata": {},
     "output_type": "execute_result"
    }
   ],
   "source": [
    "events.head()"
   ]
  },
  {
   "cell_type": "code",
   "execution_count": 64,
   "metadata": {
    "collapsed": false
   },
   "outputs": [],
   "source": [
    "events.set_index('timestamp', inplace=True)"
   ]
  },
  {
   "cell_type": "code",
   "execution_count": 66,
   "metadata": {
    "collapsed": true
   },
   "outputs": [],
   "source": [
    "events[\"year\"] = events.index.year"
   ]
  },
  {
   "cell_type": "code",
   "execution_count": 67,
   "metadata": {
    "collapsed": true
   },
   "outputs": [],
   "source": [
    "events[\"month\"] = events.index.month"
   ]
  },
  {
   "cell_type": "code",
   "execution_count": 68,
   "metadata": {
    "collapsed": true
   },
   "outputs": [],
   "source": [
    "events[\"day\"] = events.index.day"
   ]
  },
  {
   "cell_type": "code",
   "execution_count": 69,
   "metadata": {
    "collapsed": true
   },
   "outputs": [],
   "source": [
    "events[\"hour\"] = events.index.hour"
   ]
  },
  {
   "cell_type": "code",
   "execution_count": 73,
   "metadata": {
    "collapsed": false
   },
   "outputs": [
    {
     "data": {
      "text/html": [
       "<div>\n",
       "<table border=\"1\" class=\"dataframe\">\n",
       "  <thead>\n",
       "    <tr style=\"text-align: right;\">\n",
       "      <th></th>\n",
       "      <th>event_id</th>\n",
       "      <th>device_id</th>\n",
       "      <th>longitude</th>\n",
       "      <th>latitude</th>\n",
       "      <th>year</th>\n",
       "      <th>month</th>\n",
       "      <th>day</th>\n",
       "      <th>hour</th>\n",
       "    </tr>\n",
       "    <tr>\n",
       "      <th>timestamp</th>\n",
       "      <th></th>\n",
       "      <th></th>\n",
       "      <th></th>\n",
       "      <th></th>\n",
       "      <th></th>\n",
       "      <th></th>\n",
       "      <th></th>\n",
       "      <th></th>\n",
       "    </tr>\n",
       "  </thead>\n",
       "  <tbody>\n",
       "    <tr>\n",
       "      <th>2016-04-30 23:52:24</th>\n",
       "      <td>975954</td>\n",
       "      <td>1284250737810407640</td>\n",
       "      <td>0.00</td>\n",
       "      <td>0.00</td>\n",
       "      <td>2016</td>\n",
       "      <td>4</td>\n",
       "      <td>30</td>\n",
       "      <td>23</td>\n",
       "    </tr>\n",
       "    <tr>\n",
       "      <th>2016-04-30 23:52:26</th>\n",
       "      <td>291991</td>\n",
       "      <td>-5815555854982631278</td>\n",
       "      <td>0.00</td>\n",
       "      <td>0.00</td>\n",
       "      <td>2016</td>\n",
       "      <td>4</td>\n",
       "      <td>30</td>\n",
       "      <td>23</td>\n",
       "    </tr>\n",
       "    <tr>\n",
       "      <th>2016-04-30 23:52:26</th>\n",
       "      <td>2404700</td>\n",
       "      <td>1779631023439405334</td>\n",
       "      <td>114.25</td>\n",
       "      <td>30.58</td>\n",
       "      <td>2016</td>\n",
       "      <td>4</td>\n",
       "      <td>30</td>\n",
       "      <td>23</td>\n",
       "    </tr>\n",
       "    <tr>\n",
       "      <th>2016-04-30 23:52:27</th>\n",
       "      <td>1267793</td>\n",
       "      <td>9032751590435469715</td>\n",
       "      <td>114.76</td>\n",
       "      <td>38.20</td>\n",
       "      <td>2016</td>\n",
       "      <td>4</td>\n",
       "      <td>30</td>\n",
       "      <td>23</td>\n",
       "    </tr>\n",
       "    <tr>\n",
       "      <th>2016-04-30 23:52:42</th>\n",
       "      <td>421245</td>\n",
       "      <td>-1945835327787113275</td>\n",
       "      <td>104.67</td>\n",
       "      <td>23.16</td>\n",
       "      <td>2016</td>\n",
       "      <td>4</td>\n",
       "      <td>30</td>\n",
       "      <td>23</td>\n",
       "    </tr>\n",
       "  </tbody>\n",
       "</table>\n",
       "</div>"
      ],
      "text/plain": [
       "                     event_id            device_id  longitude  latitude  year  \\\n",
       "timestamp                                                                       \n",
       "2016-04-30 23:52:24    975954  1284250737810407640       0.00      0.00  2016   \n",
       "2016-04-30 23:52:26    291991 -5815555854982631278       0.00      0.00  2016   \n",
       "2016-04-30 23:52:26   2404700  1779631023439405334     114.25     30.58  2016   \n",
       "2016-04-30 23:52:27   1267793  9032751590435469715     114.76     38.20  2016   \n",
       "2016-04-30 23:52:42    421245 -1945835327787113275     104.67     23.16  2016   \n",
       "\n",
       "                     month  day  hour  \n",
       "timestamp                              \n",
       "2016-04-30 23:52:24      4   30    23  \n",
       "2016-04-30 23:52:26      4   30    23  \n",
       "2016-04-30 23:52:26      4   30    23  \n",
       "2016-04-30 23:52:27      4   30    23  \n",
       "2016-04-30 23:52:42      4   30    23  "
      ]
     },
     "execution_count": 73,
     "metadata": {},
     "output_type": "execute_result"
    }
   ],
   "source": [
    "events.head()"
   ]
  },
  {
   "cell_type": "code",
   "execution_count": 74,
   "metadata": {
    "collapsed": false
   },
   "outputs": [
    {
     "data": {
      "image/png": "[encoded data removed]",
      "text/plain": [
       "<matplotlib.figure.Figure at 0x13d9d5f60>"
      ]
     },
     "metadata": {},
     "output_type": "display_data"
    }
   ],
   "source": [
    "x = pd.read_csv('archive/events.csv')\n",
    "gd = x.groupby('device_id')\n",
    "\n",
    "\n",
    "i = 2000\n",
    "thresh = 10\n",
    "\n",
    "plt.figure(figsize=(11,7)) \n",
    "for g in gd:\n",
    "    g = g[1]\n",
    "    g = g.loc[g.latitude > 18]\n",
    "    g = g.loc[g.longitude > 80]\n",
    "    if g.shape[0] > thresh:\n",
    "        lon = g['longitude']\n",
    "        lat = g['latitude']\n",
    "        plt.plot(lon, lat, '-o', color=np.random.rand(3).tolist())\n",
    "        i -= 1\n",
    "    if i < 0:\n",
    "        break\n",
    "    \n",
    "plt.show()"
   ]
  },
  {
   "cell_type": "markdown",
   "metadata": {},
   "source": [
    "## APP EVENTS"
   ]
  },
  {
   "cell_type": "code",
   "execution_count": 24,
   "metadata": {
    "collapsed": false
   },
   "outputs": [
    {
     "data": {
      "text/html": [
       "<div>\n",
       "<table border=\"1\" class=\"dataframe\">\n",
       "  <thead>\n",
       "    <tr style=\"text-align: right;\">\n",
       "      <th></th>\n",
       "      <th>event_id</th>\n",
       "      <th>app_id</th>\n",
       "      <th>is_installed</th>\n",
       "      <th>is_active</th>\n",
       "    </tr>\n",
       "  </thead>\n",
       "  <tbody>\n",
       "    <tr>\n",
       "      <th>0</th>\n",
       "      <td>2</td>\n",
       "      <td>5927333115845830913</td>\n",
       "      <td>1</td>\n",
       "      <td>1</td>\n",
       "    </tr>\n",
       "  </tbody>\n",
       "</table>\n",
       "</div>"
      ],
      "text/plain": [
       "   event_id               app_id  is_installed  is_active\n",
       "0         2  5927333115845830913             1          1"
      ]
     },
     "execution_count": 24,
     "metadata": {},
     "output_type": "execute_result"
    }
   ],
   "source": [
    "app_events.head(1)"
   ]
  },
  {
   "cell_type": "code",
   "execution_count": 12,
   "metadata": {
    "collapsed": false
   },
   "outputs": [
    {
     "data": {
      "text/plain": [
       "event_id        0\n",
       "app_id          0\n",
       "is_installed    0\n",
       "is_active       0\n",
       "dtype: int64"
      ]
     },
     "execution_count": 12,
     "metadata": {},
     "output_type": "execute_result"
    }
   ],
   "source": [
    "app_events.isnull().sum()"
   ]
  },
  {
   "cell_type": "code",
   "execution_count": 13,
   "metadata": {
    "collapsed": false
   },
   "outputs": [
    {
     "data": {
      "text/plain": [
       "(32473067, 4)"
      ]
     },
     "execution_count": 13,
     "metadata": {},
     "output_type": "execute_result"
    }
   ],
   "source": [
    "app_events.shape"
   ]
  },
  {
   "cell_type": "code",
   "execution_count": 25,
   "metadata": {
    "collapsed": false
   },
   "outputs": [
    {
     "data": {
      "text/plain": [
       "0    60.789056\n",
       "1    39.210944\n",
       "Name: is_active, dtype: float64"
      ]
     },
     "execution_count": 25,
     "metadata": {},
     "output_type": "execute_result"
    }
   ],
   "source": [
    "app_events.is_active.value_counts()/len(app_events)*100"
   ]
  },
  {
   "cell_type": "code",
   "execution_count": 37,
   "metadata": {
    "collapsed": true
   },
   "outputs": [],
   "source": [
    "active = app_events[app_events.is_active == 1]"
   ]
  },
  {
   "cell_type": "markdown",
   "metadata": {},
   "source": [
    "### 12,732,996 Active Events"
   ]
  },
  {
   "cell_type": "code",
   "execution_count": 38,
   "metadata": {
    "collapsed": false
   },
   "outputs": [
    {
     "data": {
      "text/plain": [
       "(12732996, 4)"
      ]
     },
     "execution_count": 38,
     "metadata": {},
     "output_type": "execute_result"
    }
   ],
   "source": [
    "active.shape"
   ]
  },
  {
   "cell_type": "markdown",
   "metadata": {},
   "source": [
    "## APP LABELS"
   ]
  },
  {
   "cell_type": "code",
   "execution_count": 11,
   "metadata": {
    "collapsed": false
   },
   "outputs": [
    {
     "data": {
      "text/html": [
       "<div>\n",
       "<table border=\"1\" class=\"dataframe\">\n",
       "  <thead>\n",
       "    <tr style=\"text-align: right;\">\n",
       "      <th></th>\n",
       "      <th>app_id</th>\n",
       "      <th>label_id</th>\n",
       "    </tr>\n",
       "  </thead>\n",
       "  <tbody>\n",
       "    <tr>\n",
       "      <th>0</th>\n",
       "      <td>7324884708820027918</td>\n",
       "      <td>251</td>\n",
       "    </tr>\n",
       "  </tbody>\n",
       "</table>\n",
       "</div>"
      ],
      "text/plain": [
       "                app_id  label_id\n",
       "0  7324884708820027918       251"
      ]
     },
     "execution_count": 11,
     "metadata": {},
     "output_type": "execute_result"
    }
   ],
   "source": [
    "app_labels.head(1)"
   ]
  },
  {
   "cell_type": "code",
   "execution_count": 14,
   "metadata": {
    "collapsed": false
   },
   "outputs": [
    {
     "data": {
      "text/plain": [
       "app_id      0\n",
       "label_id    0\n",
       "dtype: int64"
      ]
     },
     "execution_count": 14,
     "metadata": {},
     "output_type": "execute_result"
    }
   ],
   "source": [
    "app_labels.isnull().sum()"
   ]
  },
  {
   "cell_type": "code",
   "execution_count": 15,
   "metadata": {
    "collapsed": false
   },
   "outputs": [
    {
     "data": {
      "text/plain": [
       "(459943, 2)"
      ]
     },
     "execution_count": 15,
     "metadata": {},
     "output_type": "execute_result"
    }
   ],
   "source": [
    "app_labels.shape"
   ]
  },
  {
   "cell_type": "code",
   "execution_count": 26,
   "metadata": {
    "collapsed": false
   },
   "outputs": [
    {
     "data": {
      "text/plain": [
       "459943"
      ]
     },
     "execution_count": 26,
     "metadata": {},
     "output_type": "execute_result"
    }
   ],
   "source": [
    "len(app_labels)"
   ]
  },
  {
   "cell_type": "markdown",
   "metadata": {},
   "source": [
    "## LABEL CATEGORIES"
   ]
  },
  {
   "cell_type": "code",
   "execution_count": 20,
   "metadata": {
    "collapsed": false
   },
   "outputs": [
    {
     "data": {
      "text/plain": [
       "(930, 2)"
      ]
     },
     "execution_count": 20,
     "metadata": {},
     "output_type": "execute_result"
    }
   ],
   "source": [
    "label_categories.shape"
   ]
  },
  {
   "cell_type": "code",
   "execution_count": 17,
   "metadata": {
    "collapsed": false
   },
   "outputs": [
    {
     "data": {
      "text/html": [
       "<div>\n",
       "<table border=\"1\" class=\"dataframe\">\n",
       "  <thead>\n",
       "    <tr style=\"text-align: right;\">\n",
       "      <th></th>\n",
       "      <th>label_id</th>\n",
       "      <th>category</th>\n",
       "    </tr>\n",
       "  </thead>\n",
       "  <tbody>\n",
       "    <tr>\n",
       "      <th>0</th>\n",
       "      <td>1</td>\n",
       "      <td>NaN</td>\n",
       "    </tr>\n",
       "    <tr>\n",
       "      <th>1</th>\n",
       "      <td>2</td>\n",
       "      <td>game-game type</td>\n",
       "    </tr>\n",
       "  </tbody>\n",
       "</table>\n",
       "</div>"
      ],
      "text/plain": [
       "   label_id        category\n",
       "0         1             NaN\n",
       "1         2  game-game type"
      ]
     },
     "execution_count": 17,
     "metadata": {},
     "output_type": "execute_result"
    }
   ],
   "source": [
    "label_categories.head(2)"
   ]
  },
  {
   "cell_type": "code",
   "execution_count": 19,
   "metadata": {
    "collapsed": false
   },
   "outputs": [
    {
     "data": {
      "text/plain": [
       "label_id    0\n",
       "category    3\n",
       "dtype: int64"
      ]
     },
     "execution_count": 19,
     "metadata": {},
     "output_type": "execute_result"
    }
   ],
   "source": [
    "label_categories.isnull().sum()"
   ]
  },
  {
   "cell_type": "markdown",
   "metadata": {},
   "source": [
    "## GENDER AGE TRAINING"
   ]
  },
  {
   "cell_type": "code",
   "execution_count": 40,
   "metadata": {
    "collapsed": false
   },
   "outputs": [
    {
     "data": {
      "text/html": [
       "<div>\n",
       "<table border=\"1\" class=\"dataframe\">\n",
       "  <thead>\n",
       "    <tr style=\"text-align: right;\">\n",
       "      <th></th>\n",
       "      <th>device_id</th>\n",
       "      <th>gender</th>\n",
       "      <th>age</th>\n",
       "      <th>group</th>\n",
       "    </tr>\n",
       "  </thead>\n",
       "  <tbody>\n",
       "    <tr>\n",
       "      <th>0</th>\n",
       "      <td>-8076087639492063270</td>\n",
       "      <td>M</td>\n",
       "      <td>35</td>\n",
       "      <td>M32-38</td>\n",
       "    </tr>\n",
       "  </tbody>\n",
       "</table>\n",
       "</div>"
      ],
      "text/plain": [
       "             device_id gender  age   group\n",
       "0 -8076087639492063270      M   35  M32-38"
      ]
     },
     "execution_count": 40,
     "metadata": {},
     "output_type": "execute_result"
    }
   ],
   "source": [
    "gender_age_train.head(1)"
   ]
  },
  {
   "cell_type": "code",
   "execution_count": 27,
   "metadata": {
    "collapsed": false
   },
   "outputs": [
    {
     "data": {
      "text/html": [
       "<div>\n",
       "<table border=\"1\" class=\"dataframe\">\n",
       "  <thead>\n",
       "    <tr style=\"text-align: right;\">\n",
       "      <th></th>\n",
       "      <th>device_id</th>\n",
       "      <th>gender</th>\n",
       "      <th>age</th>\n",
       "      <th>group</th>\n",
       "    </tr>\n",
       "  </thead>\n",
       "  <tbody>\n",
       "    <tr>\n",
       "      <th>3</th>\n",
       "      <td>-4938849341048082022</td>\n",
       "      <td>M</td>\n",
       "      <td>30</td>\n",
       "      <td>M29-31</td>\n",
       "    </tr>\n",
       "    <tr>\n",
       "      <th>4</th>\n",
       "      <td>245133531816851882</td>\n",
       "      <td>M</td>\n",
       "      <td>30</td>\n",
       "      <td>M29-31</td>\n",
       "    </tr>\n",
       "    <tr>\n",
       "      <th>5</th>\n",
       "      <td>-1297074871525174196</td>\n",
       "      <td>F</td>\n",
       "      <td>24</td>\n",
       "      <td>F24-26</td>\n",
       "    </tr>\n",
       "    <tr>\n",
       "      <th>12</th>\n",
       "      <td>2478205222798310601</td>\n",
       "      <td>F</td>\n",
       "      <td>28</td>\n",
       "      <td>F27-28</td>\n",
       "    </tr>\n",
       "    <tr>\n",
       "      <th>15</th>\n",
       "      <td>1508636020748379883</td>\n",
       "      <td>F</td>\n",
       "      <td>28</td>\n",
       "      <td>F27-28</td>\n",
       "    </tr>\n",
       "    <tr>\n",
       "      <th>21</th>\n",
       "      <td>8026504930081700361</td>\n",
       "      <td>M</td>\n",
       "      <td>25</td>\n",
       "      <td>M23-26</td>\n",
       "    </tr>\n",
       "    <tr>\n",
       "      <th>22</th>\n",
       "      <td>1118970699362079126</td>\n",
       "      <td>M</td>\n",
       "      <td>24</td>\n",
       "      <td>M23-26</td>\n",
       "    </tr>\n",
       "    <tr>\n",
       "      <th>23</th>\n",
       "      <td>-7271319853104672050</td>\n",
       "      <td>M</td>\n",
       "      <td>27</td>\n",
       "      <td>M27-28</td>\n",
       "    </tr>\n",
       "    <tr>\n",
       "      <th>24</th>\n",
       "      <td>-9216966316587614491</td>\n",
       "      <td>M</td>\n",
       "      <td>29</td>\n",
       "      <td>M29-31</td>\n",
       "    </tr>\n",
       "    <tr>\n",
       "      <th>32</th>\n",
       "      <td>7106922851105968241</td>\n",
       "      <td>M</td>\n",
       "      <td>22</td>\n",
       "      <td>M22-</td>\n",
       "    </tr>\n",
       "    <tr>\n",
       "      <th>36</th>\n",
       "      <td>3549658489155683094</td>\n",
       "      <td>M</td>\n",
       "      <td>26</td>\n",
       "      <td>M23-26</td>\n",
       "    </tr>\n",
       "    <tr>\n",
       "      <th>40</th>\n",
       "      <td>3014072209520807550</td>\n",
       "      <td>M</td>\n",
       "      <td>28</td>\n",
       "      <td>M27-28</td>\n",
       "    </tr>\n",
       "    <tr>\n",
       "      <th>41</th>\n",
       "      <td>-2871140782885206484</td>\n",
       "      <td>M</td>\n",
       "      <td>22</td>\n",
       "      <td>M22-</td>\n",
       "    </tr>\n",
       "    <tr>\n",
       "      <th>44</th>\n",
       "      <td>-5349338524207284103</td>\n",
       "      <td>M</td>\n",
       "      <td>27</td>\n",
       "      <td>M27-28</td>\n",
       "    </tr>\n",
       "    <tr>\n",
       "      <th>45</th>\n",
       "      <td>-147287084274333707</td>\n",
       "      <td>M</td>\n",
       "      <td>27</td>\n",
       "      <td>M27-28</td>\n",
       "    </tr>\n",
       "    <tr>\n",
       "      <th>46</th>\n",
       "      <td>-5712152567169524766</td>\n",
       "      <td>M</td>\n",
       "      <td>27</td>\n",
       "      <td>M27-28</td>\n",
       "    </tr>\n",
       "    <tr>\n",
       "      <th>47</th>\n",
       "      <td>-3305321723886863103</td>\n",
       "      <td>M</td>\n",
       "      <td>27</td>\n",
       "      <td>M27-28</td>\n",
       "    </tr>\n",
       "    <tr>\n",
       "      <th>48</th>\n",
       "      <td>-800851341622326751</td>\n",
       "      <td>F</td>\n",
       "      <td>27</td>\n",
       "      <td>F27-28</td>\n",
       "    </tr>\n",
       "    <tr>\n",
       "      <th>49</th>\n",
       "      <td>6870382681059864892</td>\n",
       "      <td>M</td>\n",
       "      <td>29</td>\n",
       "      <td>M29-31</td>\n",
       "    </tr>\n",
       "    <tr>\n",
       "      <th>60</th>\n",
       "      <td>-3563791052716940236</td>\n",
       "      <td>M</td>\n",
       "      <td>25</td>\n",
       "      <td>M23-26</td>\n",
       "    </tr>\n",
       "    <tr>\n",
       "      <th>61</th>\n",
       "      <td>-5348866880284858420</td>\n",
       "      <td>M</td>\n",
       "      <td>25</td>\n",
       "      <td>M23-26</td>\n",
       "    </tr>\n",
       "    <tr>\n",
       "      <th>63</th>\n",
       "      <td>-8428853393823283356</td>\n",
       "      <td>M</td>\n",
       "      <td>28</td>\n",
       "      <td>M27-28</td>\n",
       "    </tr>\n",
       "    <tr>\n",
       "      <th>65</th>\n",
       "      <td>6223951438363242934</td>\n",
       "      <td>M</td>\n",
       "      <td>28</td>\n",
       "      <td>M27-28</td>\n",
       "    </tr>\n",
       "    <tr>\n",
       "      <th>67</th>\n",
       "      <td>-6083834394280548453</td>\n",
       "      <td>F</td>\n",
       "      <td>27</td>\n",
       "      <td>F27-28</td>\n",
       "    </tr>\n",
       "    <tr>\n",
       "      <th>69</th>\n",
       "      <td>-6552729385743211</td>\n",
       "      <td>M</td>\n",
       "      <td>28</td>\n",
       "      <td>M27-28</td>\n",
       "    </tr>\n",
       "    <tr>\n",
       "      <th>73</th>\n",
       "      <td>8844957623159520450</td>\n",
       "      <td>M</td>\n",
       "      <td>28</td>\n",
       "      <td>M27-28</td>\n",
       "    </tr>\n",
       "    <tr>\n",
       "      <th>74</th>\n",
       "      <td>4156261305872406545</td>\n",
       "      <td>M</td>\n",
       "      <td>21</td>\n",
       "      <td>M22-</td>\n",
       "    </tr>\n",
       "    <tr>\n",
       "      <th>75</th>\n",
       "      <td>-6785797459639810711</td>\n",
       "      <td>M</td>\n",
       "      <td>28</td>\n",
       "      <td>M27-28</td>\n",
       "    </tr>\n",
       "    <tr>\n",
       "      <th>78</th>\n",
       "      <td>-7789505157081731608</td>\n",
       "      <td>M</td>\n",
       "      <td>25</td>\n",
       "      <td>M23-26</td>\n",
       "    </tr>\n",
       "    <tr>\n",
       "      <th>83</th>\n",
       "      <td>4049342567374065020</td>\n",
       "      <td>M</td>\n",
       "      <td>29</td>\n",
       "      <td>M29-31</td>\n",
       "    </tr>\n",
       "    <tr>\n",
       "      <th>...</th>\n",
       "      <td>...</td>\n",
       "      <td>...</td>\n",
       "      <td>...</td>\n",
       "      <td>...</td>\n",
       "    </tr>\n",
       "    <tr>\n",
       "      <th>74600</th>\n",
       "      <td>-8060362405164665091</td>\n",
       "      <td>M</td>\n",
       "      <td>27</td>\n",
       "      <td>M27-28</td>\n",
       "    </tr>\n",
       "    <tr>\n",
       "      <th>74602</th>\n",
       "      <td>-8242710533335095667</td>\n",
       "      <td>M</td>\n",
       "      <td>29</td>\n",
       "      <td>M29-31</td>\n",
       "    </tr>\n",
       "    <tr>\n",
       "      <th>74603</th>\n",
       "      <td>2176233713743660686</td>\n",
       "      <td>F</td>\n",
       "      <td>22</td>\n",
       "      <td>F23-</td>\n",
       "    </tr>\n",
       "    <tr>\n",
       "      <th>74605</th>\n",
       "      <td>1544087454490588295</td>\n",
       "      <td>M</td>\n",
       "      <td>27</td>\n",
       "      <td>M27-28</td>\n",
       "    </tr>\n",
       "    <tr>\n",
       "      <th>74607</th>\n",
       "      <td>804805193693465712</td>\n",
       "      <td>M</td>\n",
       "      <td>30</td>\n",
       "      <td>M29-31</td>\n",
       "    </tr>\n",
       "    <tr>\n",
       "      <th>74608</th>\n",
       "      <td>2835673032311494522</td>\n",
       "      <td>M</td>\n",
       "      <td>28</td>\n",
       "      <td>M27-28</td>\n",
       "    </tr>\n",
       "    <tr>\n",
       "      <th>74609</th>\n",
       "      <td>3177897734565028992</td>\n",
       "      <td>M</td>\n",
       "      <td>30</td>\n",
       "      <td>M29-31</td>\n",
       "    </tr>\n",
       "    <tr>\n",
       "      <th>74610</th>\n",
       "      <td>-7173915657253249474</td>\n",
       "      <td>M</td>\n",
       "      <td>29</td>\n",
       "      <td>M29-31</td>\n",
       "    </tr>\n",
       "    <tr>\n",
       "      <th>74611</th>\n",
       "      <td>-4687396929642382830</td>\n",
       "      <td>M</td>\n",
       "      <td>27</td>\n",
       "      <td>M27-28</td>\n",
       "    </tr>\n",
       "    <tr>\n",
       "      <th>74612</th>\n",
       "      <td>-1463996218727923727</td>\n",
       "      <td>F</td>\n",
       "      <td>30</td>\n",
       "      <td>F29-32</td>\n",
       "    </tr>\n",
       "    <tr>\n",
       "      <th>74614</th>\n",
       "      <td>-4533765300527195404</td>\n",
       "      <td>M</td>\n",
       "      <td>22</td>\n",
       "      <td>M22-</td>\n",
       "    </tr>\n",
       "    <tr>\n",
       "      <th>74615</th>\n",
       "      <td>7826033719277536366</td>\n",
       "      <td>M</td>\n",
       "      <td>28</td>\n",
       "      <td>M27-28</td>\n",
       "    </tr>\n",
       "    <tr>\n",
       "      <th>74617</th>\n",
       "      <td>1676125742207316285</td>\n",
       "      <td>F</td>\n",
       "      <td>28</td>\n",
       "      <td>F27-28</td>\n",
       "    </tr>\n",
       "    <tr>\n",
       "      <th>74619</th>\n",
       "      <td>7176422141809079294</td>\n",
       "      <td>M</td>\n",
       "      <td>23</td>\n",
       "      <td>M23-26</td>\n",
       "    </tr>\n",
       "    <tr>\n",
       "      <th>74620</th>\n",
       "      <td>-877731366874189491</td>\n",
       "      <td>M</td>\n",
       "      <td>22</td>\n",
       "      <td>M22-</td>\n",
       "    </tr>\n",
       "    <tr>\n",
       "      <th>74621</th>\n",
       "      <td>-1324027033843938692</td>\n",
       "      <td>M</td>\n",
       "      <td>22</td>\n",
       "      <td>M22-</td>\n",
       "    </tr>\n",
       "    <tr>\n",
       "      <th>74623</th>\n",
       "      <td>2032262288045492186</td>\n",
       "      <td>F</td>\n",
       "      <td>29</td>\n",
       "      <td>F29-32</td>\n",
       "    </tr>\n",
       "    <tr>\n",
       "      <th>74624</th>\n",
       "      <td>-6220019934264142137</td>\n",
       "      <td>M</td>\n",
       "      <td>29</td>\n",
       "      <td>M29-31</td>\n",
       "    </tr>\n",
       "    <tr>\n",
       "      <th>74625</th>\n",
       "      <td>-4071460957162948519</td>\n",
       "      <td>F</td>\n",
       "      <td>27</td>\n",
       "      <td>F27-28</td>\n",
       "    </tr>\n",
       "    <tr>\n",
       "      <th>74626</th>\n",
       "      <td>8012242415081116163</td>\n",
       "      <td>F</td>\n",
       "      <td>30</td>\n",
       "      <td>F29-32</td>\n",
       "    </tr>\n",
       "    <tr>\n",
       "      <th>74628</th>\n",
       "      <td>2918022610076499795</td>\n",
       "      <td>M</td>\n",
       "      <td>26</td>\n",
       "      <td>M23-26</td>\n",
       "    </tr>\n",
       "    <tr>\n",
       "      <th>74630</th>\n",
       "      <td>-2510601842775405069</td>\n",
       "      <td>F</td>\n",
       "      <td>22</td>\n",
       "      <td>F23-</td>\n",
       "    </tr>\n",
       "    <tr>\n",
       "      <th>74631</th>\n",
       "      <td>-2572857383593438598</td>\n",
       "      <td>F</td>\n",
       "      <td>21</td>\n",
       "      <td>F23-</td>\n",
       "    </tr>\n",
       "    <tr>\n",
       "      <th>74636</th>\n",
       "      <td>8116314513428390753</td>\n",
       "      <td>M</td>\n",
       "      <td>25</td>\n",
       "      <td>M23-26</td>\n",
       "    </tr>\n",
       "    <tr>\n",
       "      <th>74637</th>\n",
       "      <td>-3539330294838027409</td>\n",
       "      <td>M</td>\n",
       "      <td>25</td>\n",
       "      <td>M23-26</td>\n",
       "    </tr>\n",
       "    <tr>\n",
       "      <th>74639</th>\n",
       "      <td>-4752726726975186730</td>\n",
       "      <td>M</td>\n",
       "      <td>26</td>\n",
       "      <td>M23-26</td>\n",
       "    </tr>\n",
       "    <tr>\n",
       "      <th>74640</th>\n",
       "      <td>4682031842235089751</td>\n",
       "      <td>M</td>\n",
       "      <td>30</td>\n",
       "      <td>M29-31</td>\n",
       "    </tr>\n",
       "    <tr>\n",
       "      <th>74641</th>\n",
       "      <td>-9178703742877135986</td>\n",
       "      <td>M</td>\n",
       "      <td>30</td>\n",
       "      <td>M29-31</td>\n",
       "    </tr>\n",
       "    <tr>\n",
       "      <th>74642</th>\n",
       "      <td>180946546684162312</td>\n",
       "      <td>M</td>\n",
       "      <td>20</td>\n",
       "      <td>M22-</td>\n",
       "    </tr>\n",
       "    <tr>\n",
       "      <th>74644</th>\n",
       "      <td>89181010588227347</td>\n",
       "      <td>M</td>\n",
       "      <td>25</td>\n",
       "      <td>M23-26</td>\n",
       "    </tr>\n",
       "  </tbody>\n",
       "</table>\n",
       "<p>42969 rows × 4 columns</p>\n",
       "</div>"
      ],
      "text/plain": [
       "                 device_id gender  age   group\n",
       "3     -4938849341048082022      M   30  M29-31\n",
       "4       245133531816851882      M   30  M29-31\n",
       "5     -1297074871525174196      F   24  F24-26\n",
       "12     2478205222798310601      F   28  F27-28\n",
       "15     1508636020748379883      F   28  F27-28\n",
       "21     8026504930081700361      M   25  M23-26\n",
       "22     1118970699362079126      M   24  M23-26\n",
       "23    -7271319853104672050      M   27  M27-28\n",
       "24    -9216966316587614491      M   29  M29-31\n",
       "32     7106922851105968241      M   22    M22-\n",
       "36     3549658489155683094      M   26  M23-26\n",
       "40     3014072209520807550      M   28  M27-28\n",
       "41    -2871140782885206484      M   22    M22-\n",
       "44    -5349338524207284103      M   27  M27-28\n",
       "45     -147287084274333707      M   27  M27-28\n",
       "46    -5712152567169524766      M   27  M27-28\n",
       "47    -3305321723886863103      M   27  M27-28\n",
       "48     -800851341622326751      F   27  F27-28\n",
       "49     6870382681059864892      M   29  M29-31\n",
       "60    -3563791052716940236      M   25  M23-26\n",
       "61    -5348866880284858420      M   25  M23-26\n",
       "63    -8428853393823283356      M   28  M27-28\n",
       "65     6223951438363242934      M   28  M27-28\n",
       "67    -6083834394280548453      F   27  F27-28\n",
       "69       -6552729385743211      M   28  M27-28\n",
       "73     8844957623159520450      M   28  M27-28\n",
       "74     4156261305872406545      M   21    M22-\n",
       "75    -6785797459639810711      M   28  M27-28\n",
       "78    -7789505157081731608      M   25  M23-26\n",
       "83     4049342567374065020      M   29  M29-31\n",
       "...                    ...    ...  ...     ...\n",
       "74600 -8060362405164665091      M   27  M27-28\n",
       "74602 -8242710533335095667      M   29  M29-31\n",
       "74603  2176233713743660686      F   22    F23-\n",
       "74605  1544087454490588295      M   27  M27-28\n",
       "74607   804805193693465712      M   30  M29-31\n",
       "74608  2835673032311494522      M   28  M27-28\n",
       "74609  3177897734565028992      M   30  M29-31\n",
       "74610 -7173915657253249474      M   29  M29-31\n",
       "74611 -4687396929642382830      M   27  M27-28\n",
       "74612 -1463996218727923727      F   30  F29-32\n",
       "74614 -4533765300527195404      M   22    M22-\n",
       "74615  7826033719277536366      M   28  M27-28\n",
       "74617  1676125742207316285      F   28  F27-28\n",
       "74619  7176422141809079294      M   23  M23-26\n",
       "74620  -877731366874189491      M   22    M22-\n",
       "74621 -1324027033843938692      M   22    M22-\n",
       "74623  2032262288045492186      F   29  F29-32\n",
       "74624 -6220019934264142137      M   29  M29-31\n",
       "74625 -4071460957162948519      F   27  F27-28\n",
       "74626  8012242415081116163      F   30  F29-32\n",
       "74628  2918022610076499795      M   26  M23-26\n",
       "74630 -2510601842775405069      F   22    F23-\n",
       "74631 -2572857383593438598      F   21    F23-\n",
       "74636  8116314513428390753      M   25  M23-26\n",
       "74637 -3539330294838027409      M   25  M23-26\n",
       "74639 -4752726726975186730      M   26  M23-26\n",
       "74640  4682031842235089751      M   30  M29-31\n",
       "74641 -9178703742877135986      M   30  M29-31\n",
       "74642   180946546684162312      M   20    M22-\n",
       "74644    89181010588227347      M   25  M23-26\n",
       "\n",
       "[42969 rows x 4 columns]"
      ]
     },
     "execution_count": 27,
     "metadata": {},
     "output_type": "execute_result"
    }
   ],
   "source": [
    "gender_age_train[gender_age_train['age'] <= 30]"
   ]
  },
  {
   "cell_type": "code",
   "execution_count": 21,
   "metadata": {
    "collapsed": false
   },
   "outputs": [
    {
     "data": {
      "text/plain": [
       "(74645, 4)"
      ]
     },
     "execution_count": 21,
     "metadata": {},
     "output_type": "execute_result"
    }
   ],
   "source": [
    "gender_age_train.shape"
   ]
  },
  {
   "cell_type": "code",
   "execution_count": 22,
   "metadata": {
    "collapsed": false
   },
   "outputs": [
    {
     "data": {
      "text/plain": [
       "device_id    0\n",
       "gender       0\n",
       "age          0\n",
       "group        0\n",
       "dtype: int64"
      ]
     },
     "execution_count": 22,
     "metadata": {},
     "output_type": "execute_result"
    }
   ],
   "source": [
    "gender_age_train.isnull().sum()"
   ]
  },
  {
   "cell_type": "code",
   "execution_count": 42,
   "metadata": {
    "collapsed": false
   },
   "outputs": [
    {
     "name": "stdout",
     "output_type": "stream",
     "text": [
      "M    47904\n",
      "F    26741\n",
      "Name: gender, dtype: int64\n"
     ]
    },
    {
     "data": {
      "image/png": "[encoded data removed]",
      "text/plain": [
       "<matplotlib.figure.Figure at 0x114230a58>"
      ]
     },
     "metadata": {},
     "output_type": "display_data"
    }
   ],
   "source": [
    "print(gender_age_train.gender.value_counts())\n",
    "ax = sns.countplot(x=\"gender\", data=gender_age_train)"
   ]
  },
  {
   "cell_type": "code",
   "execution_count": 55,
   "metadata": {
    "collapsed": false
   },
   "outputs": [
    {
     "name": "stdout",
     "output_type": "stream",
     "text": [
      "Percentage of Male vs. Female\n"
     ]
    },
    {
     "data": {
      "text/plain": [
       "M    64.175765\n",
       "F    35.824235\n",
       "Name: gender, dtype: float64"
      ]
     },
     "execution_count": 55,
     "metadata": {},
     "output_type": "execute_result"
    }
   ],
   "source": [
    "print(\"Percentage of Male vs. Female\")\n",
    "gender_age_train.gender.value_counts()/len(gender_age_train)*100"
   ]
  },
  {
   "cell_type": "code",
   "execution_count": 57,
   "metadata": {
    "collapsed": false
   },
   "outputs": [
    {
     "name": "stdout",
     "output_type": "stream",
     "text": [
      "Distribution by Group\n"
     ]
    },
    {
     "data": {
      "text/plain": [
       "F27-28     4.177105\n",
       "F24-26     5.613236\n",
       "F43+       5.618595\n",
       "F29-32     6.200013\n",
       "F23-       6.765356\n",
       "M27-28     7.294527\n",
       "F33-42     7.449930\n",
       "M29-31     9.791681\n",
       "M22-      10.031482\n",
       "M39+      11.495747\n",
       "M32-38    12.694755\n",
       "M23-26    12.867573\n",
       "Name: group, dtype: float64"
      ]
     },
     "execution_count": 57,
     "metadata": {},
     "output_type": "execute_result"
    }
   ],
   "source": [
    "print(\"Distribution by Group\")\n",
    "gender_age_train.group.value_counts().sort_values()/len(gender_age_train)*100"
   ]
  },
  {
   "cell_type": "code",
   "execution_count": 24,
   "metadata": {
    "collapsed": false
   },
   "outputs": [
    {
     "data": {
      "text/plain": [
       "F27-28    3118\n",
       "F24-26    4190\n",
       "F43+      4194\n",
       "F29-32    4628\n",
       "F23-      5050\n",
       "M27-28    5445\n",
       "F33-42    5561\n",
       "M29-31    7309\n",
       "M22-      7488\n",
       "M39+      8581\n",
       "M32-38    9476\n",
       "M23-26    9605\n",
       "Name: group, dtype: int64"
      ]
     },
     "execution_count": 24,
     "metadata": {},
     "output_type": "execute_result"
    }
   ],
   "source": [
    "gender_age_train.group.value_counts().sort_values()"
   ]
  },
  {
   "cell_type": "code",
   "execution_count": 46,
   "metadata": {
    "collapsed": false
   },
   "outputs": [
    {
     "name": "stderr",
     "output_type": "stream",
     "text": [
      "/Users/AntonioPasciuto/anaconda/lib/python3.5/site-packages/statsmodels/nonparametric/kdetools.py:20: VisibleDeprecationWarning: using a non-integer number instead of an integer will result in an error in the future\n",
      "  y = X[:m/2+1] + np.r_[0,X[m/2+1:],0]*1j\n"
     ]
    },
    {
     "data": {
      "image/png": "[encoded data removed]",
      "text/plain": [
       "<matplotlib.figure.Figure at 0x12939af98>"
      ]
     },
     "metadata": {},
     "output_type": "display_data"
    }
   ],
   "source": [
    "sns.distplot(gender_age_train.age, hist=False);\n",
    "#here age is not normally distributaed between 20 - 40 are the dominate age "
   ]
  },
  {
   "cell_type": "code",
   "execution_count": 51,
   "metadata": {
    "collapsed": false
   },
   "outputs": [
    {
     "name": "stderr",
     "output_type": "stream",
     "text": [
      "/Users/AntonioPasciuto/anaconda/lib/python3.5/site-packages/statsmodels/nonparametric/kdetools.py:20: VisibleDeprecationWarning: using a non-integer number instead of an integer will result in an error in the future\n",
      "  y = X[:m/2+1] + np.r_[0,X[m/2+1:],0]*1j\n"
     ]
    },
    {
     "data": {
      "image/png": "[encoded data removed]",
      "text/plain": [
       "<matplotlib.figure.Figure at 0x13d840828>"
      ]
     },
     "metadata": {},
     "output_type": "display_data"
    }
   ],
   "source": [
    "sns.kdeplot(gender_age_train.age[gender_age_train.gender==\"M\"], label=\"Male\")\n",
    "sns.kdeplot(gender_age_train.age[gender_age_train.gender==\"F\"],  label=\"Female\")\n",
    "plt.legend();"
   ]
  },
  {
   "cell_type": "code",
   "execution_count": 50,
   "metadata": {
    "collapsed": false
   },
   "outputs": [
    {
     "name": "stdout",
     "output_type": "stream",
     "text": [
      "Men\n"
     ]
    },
    {
     "data": {
      "image/png": "[encoded data removed]",
      "text/plain": [
       "<matplotlib.figure.Figure at 0x12929d6a0>"
      ]
     },
     "metadata": {},
     "output_type": "display_data"
    }
   ],
   "source": [
    "print(\"Men\")\n",
    "ax = sns.countplot(x=\"group\", data=gender_age_train[gender_age_train.gender==\"M\"])"
   ]
  },
  {
   "cell_type": "code",
   "execution_count": 53,
   "metadata": {
    "collapsed": false
   },
   "outputs": [
    {
     "name": "stdout",
     "output_type": "stream",
     "text": [
      "Women\n"
     ]
    },
    {
     "data": {
      "image/png": "[encoded data removed]",
      "text/plain": [
       "<matplotlib.figure.Figure at 0x13dc26208>"
      ]
     },
     "metadata": {},
     "output_type": "display_data"
    }
   ],
   "source": [
    "print(\"Women\")\n",
    "ax = sns.countplot(x=\"group\", data=gender_age_train[gender_age_train.gender==\"F\"])"
   ]
  }
 ],
 "metadata": {
  "kernelspec": {
   "display_name": "Python [default]",
   "language": "python",
   "name": "python3"
  },
  "language_info": {
   "codemirror_mode": {
    "name": "ipython",
    "version": 3
   },
   "file_extension": ".py",
   "mimetype": "text/x-python",
   "name": "python",
   "nbconvert_exporter": "python",
   "pygments_lexer": "ipython3",
   "version": "3.5.2"
  }
 },
 "nbformat": 4,
 "nbformat_minor": 2
}
