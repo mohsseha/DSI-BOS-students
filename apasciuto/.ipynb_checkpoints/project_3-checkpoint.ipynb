{
 "cells": [
  {
   "cell_type": "code",
   "execution_count": 41,
   "metadata": {
    "collapsed": true
   },
   "outputs": [],
   "source": [
    "import numpy as np\n",
    "import pandas as pd\n",
    "import seaborn as sns\n",
    "from sklearn import linear_model, preprocessing, metrics\n",
    "from sklearn.cross_validation import train_test_split, cross_val_score, cross_val_predict\n",
    "from collections import defaultdict\n",
    "import matplotlib.pyplot as plt\n",
    "plt.rcParams['figure.figsize'] = 5, 5\n",
    "%matplotlib inline"
   ]
  },
  {
   "cell_type": "code",
   "execution_count": 42,
   "metadata": {
    "collapsed": true
   },
   "outputs": [],
   "source": [
    "source = pd.read_csv('../../DSI-BOS-students/apasciuto/datasets/w3_liquorsale.csv')"
   ]
  },
  {
   "cell_type": "code",
   "execution_count": 43,
   "metadata": {
    "collapsed": false
   },
   "outputs": [],
   "source": [
    "# source.head()"
   ]
  },
  {
   "cell_type": "code",
   "execution_count": 44,
   "metadata": {
    "collapsed": true
   },
   "outputs": [],
   "source": [
    "data = source"
   ]
  },
  {
   "cell_type": "code",
   "execution_count": 45,
   "metadata": {
    "collapsed": true
   },
   "outputs": [],
   "source": [
    "data.dropna(inplace=True)"
   ]
  },
  {
   "cell_type": "code",
   "execution_count": 46,
   "metadata": {
    "collapsed": true
   },
   "outputs": [],
   "source": [
    "data.rename(columns={\"Bottle Volume (ml)\": \"Volume Per Bottle (ml)\", \"Volume Sold (Liters)\": \"Total Volume Sold (Liters)\"}, inplace=True)"
   ]
  },
  {
   "cell_type": "code",
   "execution_count": 47,
   "metadata": {
    "collapsed": false
   },
   "outputs": [],
   "source": [
    "cols = [\"State Bottle Cost\", \"State Bottle Retail\", \"Sale (Dollars)\"]\n",
    "for col in cols:\n",
    "    data[col] = data[col].apply(lambda x: float(x.replace(\"$\", \"\")))"
   ]
  },
  {
   "cell_type": "code",
   "execution_count": 48,
   "metadata": {
    "collapsed": true
   },
   "outputs": [],
   "source": [
    "data[\"Date\"] = pd.to_datetime(data[\"Date\"], infer_datetime_format=True)"
   ]
  },
  {
   "cell_type": "code",
   "execution_count": 49,
   "metadata": {
    "collapsed": true
   },
   "outputs": [],
   "source": [
    "data = data.sort_values(by='Date', ascending=True)"
   ]
  },
  {
   "cell_type": "code",
   "execution_count": 50,
   "metadata": {
    "collapsed": true
   },
   "outputs": [],
   "source": [
    "data = data.set_index(\"Date\")"
   ]
  },
  {
   "cell_type": "code",
   "execution_count": 51,
   "metadata": {
    "collapsed": true
   },
   "outputs": [],
   "source": [
    "# data.head()"
   ]
  },
  {
   "cell_type": "code",
   "execution_count": 52,
   "metadata": {
    "collapsed": true
   },
   "outputs": [],
   "source": [
    "data[\"Total Sales\"] = data[\"State Bottle Retail\"].mul(data[\"Bottles Sold\"])"
   ]
  },
  {
   "cell_type": "code",
   "execution_count": 53,
   "metadata": {
    "collapsed": true
   },
   "outputs": [],
   "source": [
    "data[\"Sales Margin\"] = (data[\"State Bottle Retail\"] - data[\"State Bottle Cost\"]) * data[\"Bottles Sold\"]"
   ]
  },
  {
   "cell_type": "code",
   "execution_count": 54,
   "metadata": {
    "collapsed": true
   },
   "outputs": [],
   "source": [
    "market_data = data[[\"Store Number\", \"City\", \"Zip Code\", \"Category Name\", \"Item Description\", \"Volume Per Bottle (ml)\", \"Total Volume Sold (Liters)\", \"Bottles Sold\", \"State Bottle Cost\", \"State Bottle Retail\", \"Sales Margin\", \"Total Sales\"]]"
   ]
  },
  {
   "cell_type": "code",
   "execution_count": 55,
   "metadata": {
    "collapsed": false
   },
   "outputs": [
    {
     "data": {
      "text/html": [
       "<div>\n",
       "<table border=\"1\" class=\"dataframe\">\n",
       "  <thead>\n",
       "    <tr style=\"text-align: right;\">\n",
       "      <th></th>\n",
       "      <th>Store Number</th>\n",
       "      <th>City</th>\n",
       "      <th>Zip Code</th>\n",
       "      <th>Category Name</th>\n",
       "      <th>Item Description</th>\n",
       "      <th>Volume Per Bottle (ml)</th>\n",
       "      <th>Total Volume Sold (Liters)</th>\n",
       "      <th>Bottles Sold</th>\n",
       "      <th>State Bottle Cost</th>\n",
       "      <th>State Bottle Retail</th>\n",
       "      <th>Sales Margin</th>\n",
       "      <th>Total Sales</th>\n",
       "    </tr>\n",
       "    <tr>\n",
       "      <th>Date</th>\n",
       "      <th></th>\n",
       "      <th></th>\n",
       "      <th></th>\n",
       "      <th></th>\n",
       "      <th></th>\n",
       "      <th></th>\n",
       "      <th></th>\n",
       "      <th></th>\n",
       "      <th></th>\n",
       "      <th></th>\n",
       "      <th></th>\n",
       "      <th></th>\n",
       "    </tr>\n",
       "  </thead>\n",
       "  <tbody>\n",
       "    <tr>\n",
       "      <th>2015-01-05</th>\n",
       "      <td>4491</td>\n",
       "      <td>CEDAR RAPIDS</td>\n",
       "      <td>52403</td>\n",
       "      <td>VODKA 80 PROOF</td>\n",
       "      <td>Hawkeye Vodka</td>\n",
       "      <td>1750</td>\n",
       "      <td>10.5</td>\n",
       "      <td>6</td>\n",
       "      <td>7.17</td>\n",
       "      <td>10.76</td>\n",
       "      <td>21.54</td>\n",
       "      <td>64.56</td>\n",
       "    </tr>\n",
       "    <tr>\n",
       "      <th>2015-01-05</th>\n",
       "      <td>4910</td>\n",
       "      <td>WATERLOO</td>\n",
       "      <td>50702</td>\n",
       "      <td>SPICED RUM</td>\n",
       "      <td>Captain Morgan Spiced Rum</td>\n",
       "      <td>1000</td>\n",
       "      <td>12.0</td>\n",
       "      <td>12</td>\n",
       "      <td>11.75</td>\n",
       "      <td>17.63</td>\n",
       "      <td>70.56</td>\n",
       "      <td>211.56</td>\n",
       "    </tr>\n",
       "    <tr>\n",
       "      <th>2015-01-05</th>\n",
       "      <td>2643</td>\n",
       "      <td>WATERLOO</td>\n",
       "      <td>50701</td>\n",
       "      <td>DECANTERS &amp; SPECIALTY PACKAGES</td>\n",
       "      <td>Jack Daniel's SB Ducks Unlimited w/Btl Stopper</td>\n",
       "      <td>750</td>\n",
       "      <td>4.5</td>\n",
       "      <td>6</td>\n",
       "      <td>27.09</td>\n",
       "      <td>40.64</td>\n",
       "      <td>81.30</td>\n",
       "      <td>243.84</td>\n",
       "    </tr>\n",
       "    <tr>\n",
       "      <th>2015-01-05</th>\n",
       "      <td>4967</td>\n",
       "      <td>BLUE GRASS</td>\n",
       "      <td>52726</td>\n",
       "      <td>CANADIAN WHISKIES</td>\n",
       "      <td>Black Velvet Toasted Caramel Mini</td>\n",
       "      <td>600</td>\n",
       "      <td>0.6</td>\n",
       "      <td>1</td>\n",
       "      <td>4.96</td>\n",
       "      <td>7.44</td>\n",
       "      <td>2.48</td>\n",
       "      <td>7.44</td>\n",
       "    </tr>\n",
       "    <tr>\n",
       "      <th>2015-01-05</th>\n",
       "      <td>4284</td>\n",
       "      <td>IOWA FALLS</td>\n",
       "      <td>50126</td>\n",
       "      <td>PEACH SCHNAPPS</td>\n",
       "      <td>Dekuyper Luscious Peachtree Schnapps</td>\n",
       "      <td>750</td>\n",
       "      <td>9.0</td>\n",
       "      <td>12</td>\n",
       "      <td>6.30</td>\n",
       "      <td>9.45</td>\n",
       "      <td>37.80</td>\n",
       "      <td>113.40</td>\n",
       "    </tr>\n",
       "  </tbody>\n",
       "</table>\n",
       "</div>"
      ],
      "text/plain": [
       "            Store Number          City Zip Code  \\\n",
       "Date                                              \n",
       "2015-01-05          4491  CEDAR RAPIDS    52403   \n",
       "2015-01-05          4910      WATERLOO    50702   \n",
       "2015-01-05          2643      WATERLOO    50701   \n",
       "2015-01-05          4967    BLUE GRASS    52726   \n",
       "2015-01-05          4284    IOWA FALLS    50126   \n",
       "\n",
       "                             Category Name  \\\n",
       "Date                                         \n",
       "2015-01-05                  VODKA 80 PROOF   \n",
       "2015-01-05                      SPICED RUM   \n",
       "2015-01-05  DECANTERS & SPECIALTY PACKAGES   \n",
       "2015-01-05               CANADIAN WHISKIES   \n",
       "2015-01-05                  PEACH SCHNAPPS   \n",
       "\n",
       "                                          Item Description  \\\n",
       "Date                                                         \n",
       "2015-01-05                                   Hawkeye Vodka   \n",
       "2015-01-05                       Captain Morgan Spiced Rum   \n",
       "2015-01-05  Jack Daniel's SB Ducks Unlimited w/Btl Stopper   \n",
       "2015-01-05               Black Velvet Toasted Caramel Mini   \n",
       "2015-01-05            Dekuyper Luscious Peachtree Schnapps   \n",
       "\n",
       "            Volume Per Bottle (ml)  Total Volume Sold (Liters)  Bottles Sold  \\\n",
       "Date                                                                           \n",
       "2015-01-05                    1750                        10.5             6   \n",
       "2015-01-05                    1000                        12.0            12   \n",
       "2015-01-05                     750                         4.5             6   \n",
       "2015-01-05                     600                         0.6             1   \n",
       "2015-01-05                     750                         9.0            12   \n",
       "\n",
       "            State Bottle Cost  State Bottle Retail  Sales Margin  Total Sales  \n",
       "Date                                                                           \n",
       "2015-01-05               7.17                10.76         21.54        64.56  \n",
       "2015-01-05              11.75                17.63         70.56       211.56  \n",
       "2015-01-05              27.09                40.64         81.30       243.84  \n",
       "2015-01-05               4.96                 7.44          2.48         7.44  \n",
       "2015-01-05               6.30                 9.45         37.80       113.40  "
      ]
     },
     "execution_count": 55,
     "metadata": {},
     "output_type": "execute_result"
    }
   ],
   "source": [
    "market_data.head()"
   ]
  },
  {
   "cell_type": "code",
   "execution_count": null,
   "metadata": {
    "collapsed": true
   },
   "outputs": [],
   "source": []
  }
 ],
 "metadata": {
  "kernelspec": {
   "display_name": "Python [default]",
   "language": "python",
   "name": "python3"
  },
  "language_info": {
   "codemirror_mode": {
    "name": "ipython",
    "version": 3
   },
   "file_extension": ".py",
   "mimetype": "text/x-python",
   "name": "python",
   "nbconvert_exporter": "python",
   "pygments_lexer": "ipython3",
   "version": "3.5.2"
  }
 },
 "nbformat": 4,
 "nbformat_minor": 1
}
