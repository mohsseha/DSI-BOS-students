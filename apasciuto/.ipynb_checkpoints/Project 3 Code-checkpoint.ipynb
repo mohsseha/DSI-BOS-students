{
 "cells": [
  {
   "cell_type": "markdown",
   "metadata": {},
   "source": [
    "# Getting started\n",
    "\n",
    "Once you've chosen your scenario, download the data from [the Iowa website](https://data.iowa.gov/Economy/Iowa-Liquor-Sales/m3tr-qhgy) in csv format. Start by loading the data with pandas. You may need to parse the date columns appropriately."
   ]
  },
  {
   "cell_type": "code",
   "execution_count": 242,
   "metadata": {
    "collapsed": true
   },
   "outputs": [],
   "source": [
    "import numpy as np\n",
    "import pandas as pd\n",
    "import seaborn as sns\n",
    "from sklearn import linear_model\n",
    "import matplotlib.pyplot as plt\n",
    "%matplotlib inline"
   ]
  },
  {
   "cell_type": "code",
   "execution_count": 243,
   "metadata": {
    "collapsed": false
   },
   "outputs": [],
   "source": [
    "source = pd.read_csv(\"../../DSI-BOS-students/apasciuto/datasets/w3_liquorsale.csv\", low_memory=False)"
   ]
  },
  {
   "cell_type": "code",
   "execution_count": 244,
   "metadata": {
    "collapsed": true
   },
   "outputs": [],
   "source": [
    "data = source"
   ]
  },
  {
   "cell_type": "code",
   "execution_count": 245,
   "metadata": {
    "collapsed": true
   },
   "outputs": [],
   "source": [
    "data[\"Date\"] = pd.to_datetime(data[\"Date\"], infer_datetime_format=True)"
   ]
  },
  {
   "cell_type": "code",
   "execution_count": 246,
   "metadata": {
    "collapsed": true
   },
   "outputs": [],
   "source": [
    "cols = [\"State Bottle Cost\", \"State Bottle Retail\", \"Sale (Dollars)\"]\n",
    "for col in cols:\n",
    "    data[col] = data[col].apply(lambda x: float(x.replace(\"$\", \"\")))"
   ]
  },
  {
   "cell_type": "code",
   "execution_count": 247,
   "metadata": {
    "collapsed": true
   },
   "outputs": [],
   "source": [
    "data = source.sort_values(by='Date', ascending=True)"
   ]
  },
  {
   "cell_type": "code",
   "execution_count": 248,
   "metadata": {
    "collapsed": false
   },
   "outputs": [],
   "source": [
    "# print(data.Date.min())\n",
    "# print(data.Date.max())"
   ]
  },
  {
   "cell_type": "code",
   "execution_count": 249,
   "metadata": {
    "collapsed": false
   },
   "outputs": [],
   "source": [
    "# data.head()"
   ]
  },
  {
   "cell_type": "code",
   "execution_count": 250,
   "metadata": {
    "collapsed": false
   },
   "outputs": [],
   "source": [
    "data = data.set_index(\"Date\")"
   ]
  },
  {
   "cell_type": "code",
   "execution_count": 251,
   "metadata": {
    "collapsed": false
   },
   "outputs": [],
   "source": [
    "data.dropna(inplace=True)"
   ]
  },
  {
   "cell_type": "code",
   "execution_count": 252,
   "metadata": {
    "collapsed": false
   },
   "outputs": [],
   "source": [
    "# data.info()"
   ]
  },
  {
   "cell_type": "code",
   "execution_count": 253,
   "metadata": {
    "collapsed": false
   },
   "outputs": [],
   "source": [
    "data[\"Total Sales\"] = data[\"State Bottle Retail\"].mul(data[\"Bottles Sold\"])"
   ]
  },
  {
   "cell_type": "code",
   "execution_count": 254,
   "metadata": {
    "collapsed": true
   },
   "outputs": [],
   "source": [
    "data[\"Total Volume Sold (Liters)\"] = data[\"Volume Sold (Liters)\"].mul(data[\"Bottles Sold\"])"
   ]
  },
  {
   "cell_type": "code",
   "execution_count": 255,
   "metadata": {
    "collapsed": false
   },
   "outputs": [],
   "source": [
    "market_data = data[[\"Store Number\", \"City\", \"Zip Code\", \"Total Sales\", \"Item Description\", \"Category Name\", \"Total Volume Sold (Liters)\"]]"
   ]
  },
  {
   "cell_type": "code",
   "execution_count": 256,
   "metadata": {
    "collapsed": false
   },
   "outputs": [
    {
     "data": {
      "text/html": [
       "<div>\n",
       "<table border=\"1\" class=\"dataframe\">\n",
       "  <thead>\n",
       "    <tr style=\"text-align: right;\">\n",
       "      <th></th>\n",
       "      <th>Store Number</th>\n",
       "      <th>City</th>\n",
       "      <th>Zip Code</th>\n",
       "      <th>Total Sales</th>\n",
       "      <th>Item Description</th>\n",
       "      <th>Category Name</th>\n",
       "      <th>Total Volume Sold (Liters)</th>\n",
       "    </tr>\n",
       "    <tr>\n",
       "      <th>Date</th>\n",
       "      <th></th>\n",
       "      <th></th>\n",
       "      <th></th>\n",
       "      <th></th>\n",
       "      <th></th>\n",
       "      <th></th>\n",
       "      <th></th>\n",
       "    </tr>\n",
       "  </thead>\n",
       "  <tbody>\n",
       "    <tr>\n",
       "      <th>2015-01-05</th>\n",
       "      <td>4303</td>\n",
       "      <td>MEDIAPOLIS</td>\n",
       "      <td>52637</td>\n",
       "      <td>16.52</td>\n",
       "      <td>Smirnoff Vodka 80 Prf</td>\n",
       "      <td>VODKA 80 PROOF</td>\n",
       "      <td>3.2</td>\n",
       "    </tr>\n",
       "    <tr>\n",
       "      <th>2015-01-05</th>\n",
       "      <td>2650</td>\n",
       "      <td>HARLAN</td>\n",
       "      <td>51537</td>\n",
       "      <td>92.85</td>\n",
       "      <td>Belvedere Vodka</td>\n",
       "      <td>IMPORTED VODKA</td>\n",
       "      <td>9.0</td>\n",
       "    </tr>\n",
       "    <tr>\n",
       "      <th>2015-01-05</th>\n",
       "      <td>2613</td>\n",
       "      <td>COUNCIL BLUFFS</td>\n",
       "      <td>51501</td>\n",
       "      <td>23.58</td>\n",
       "      <td>Smirnoff Silver Vodka 90 Prf</td>\n",
       "      <td>OTHER PROOF VODKA</td>\n",
       "      <td>3.0</td>\n",
       "    </tr>\n",
       "    <tr>\n",
       "      <th>2015-01-05</th>\n",
       "      <td>4806</td>\n",
       "      <td>WEST LIBERTY</td>\n",
       "      <td>52776</td>\n",
       "      <td>342.00</td>\n",
       "      <td>Ciroc Coconut</td>\n",
       "      <td>IMPORTED VODKA - MISC</td>\n",
       "      <td>108.0</td>\n",
       "    </tr>\n",
       "    <tr>\n",
       "      <th>2015-01-05</th>\n",
       "      <td>2650</td>\n",
       "      <td>HARLAN</td>\n",
       "      <td>51537</td>\n",
       "      <td>57.92</td>\n",
       "      <td>Titos Vodka</td>\n",
       "      <td>VODKA 80 PROOF</td>\n",
       "      <td>12.0</td>\n",
       "    </tr>\n",
       "  </tbody>\n",
       "</table>\n",
       "</div>"
      ],
      "text/plain": [
       "            Store Number            City Zip Code  Total Sales  \\\n",
       "Date                                                             \n",
       "2015-01-05          4303      MEDIAPOLIS    52637        16.52   \n",
       "2015-01-05          2650          HARLAN    51537        92.85   \n",
       "2015-01-05          2613  COUNCIL BLUFFS    51501        23.58   \n",
       "2015-01-05          4806    WEST LIBERTY    52776       342.00   \n",
       "2015-01-05          2650          HARLAN    51537        57.92   \n",
       "\n",
       "                        Item Description          Category Name  \\\n",
       "Date                                                              \n",
       "2015-01-05         Smirnoff Vodka 80 Prf         VODKA 80 PROOF   \n",
       "2015-01-05               Belvedere Vodka         IMPORTED VODKA   \n",
       "2015-01-05  Smirnoff Silver Vodka 90 Prf      OTHER PROOF VODKA   \n",
       "2015-01-05                 Ciroc Coconut  IMPORTED VODKA - MISC   \n",
       "2015-01-05                   Titos Vodka         VODKA 80 PROOF   \n",
       "\n",
       "            Total Volume Sold (Liters)  \n",
       "Date                                    \n",
       "2015-01-05                         3.2  \n",
       "2015-01-05                         9.0  \n",
       "2015-01-05                         3.0  \n",
       "2015-01-05                       108.0  \n",
       "2015-01-05                        12.0  "
      ]
     },
     "execution_count": 256,
     "metadata": {},
     "output_type": "execute_result"
    }
   ],
   "source": [
    "market_data.head()"
   ]
  },
  {
   "cell_type": "code",
   "execution_count": 257,
   "metadata": {
    "collapsed": false
   },
   "outputs": [
    {
     "data": {
      "text/plain": [
       "28644382.880000506"
      ]
     },
     "execution_count": 257,
     "metadata": {},
     "output_type": "execute_result"
    }
   ],
   "source": [
    "twentyfifteen_sales = market_data.loc[\"2015-01-05\":\"2016-01-04\", \"Total Sales\"].sum()\n",
    "twentyfifteen_sales"
   ]
  },
  {
   "cell_type": "code",
   "execution_count": null,
   "metadata": {
    "collapsed": false
   },
   "outputs": [],
   "source": []
  },
  {
   "cell_type": "code",
   "execution_count": 201,
   "metadata": {
    "collapsed": false
   },
   "outputs": [
    {
     "data": {
      "text/plain": [
       "158410014.54000542"
      ]
     },
     "execution_count": 201,
     "metadata": {},
     "output_type": "execute_result"
    }
   ],
   "source": [
    "twentyfifteen_volume = market_data.loc[\"2015-01-05\":\"2016-01-04\", \"Total Volume Sold (Liters)\"].sum()\n",
    "twentyfifteen_volume"
   ]
  },
  {
   "cell_type": "code",
   "execution_count": null,
   "metadata": {
    "collapsed": true
   },
   "outputs": [],
   "source": []
  },
  {
   "cell_type": "code",
   "execution_count": 154,
   "metadata": {
    "collapsed": false
   },
   "outputs": [],
   "source": [
    "twenty_fifteen_one = data.loc[\"2015-01-05\":\"2015-04-04\"]"
   ]
  },
  {
   "cell_type": "code",
   "execution_count": 155,
   "metadata": {
    "collapsed": true
   },
   "outputs": [],
   "source": [
    "twentyfifteen_one = twenty_fifteen_one[[\"Store Number\", \"City\", \"Zip Code\", \"Total Sales\", \"Total Volume Sold (Liters)\", \"Item Description\", \"Category Name\"]]"
   ]
  },
  {
   "cell_type": "code",
   "execution_count": 156,
   "metadata": {
    "collapsed": true
   },
   "outputs": [
    {
     "data": {
      "text/html": [
       "<div>\n",
       "<table border=\"1\" class=\"dataframe\">\n",
       "  <thead>\n",
       "    <tr style=\"text-align: right;\">\n",
       "      <th></th>\n",
       "      <th>Store Number</th>\n",
       "      <th>City</th>\n",
       "      <th>Zip Code</th>\n",
       "      <th>Total Sales</th>\n",
       "      <th>Total Volume Sold (Liters)</th>\n",
       "      <th>Item Description</th>\n",
       "      <th>Category Name</th>\n",
       "    </tr>\n",
       "    <tr>\n",
       "      <th>Date</th>\n",
       "      <th></th>\n",
       "      <th></th>\n",
       "      <th></th>\n",
       "      <th></th>\n",
       "      <th></th>\n",
       "      <th></th>\n",
       "      <th></th>\n",
       "    </tr>\n",
       "  </thead>\n",
       "  <tbody>\n",
       "    <tr>\n",
       "      <th>2015-01-05</th>\n",
       "      <td>4303</td>\n",
       "      <td>MEDIAPOLIS</td>\n",
       "      <td>52637</td>\n",
       "      <td>16.52</td>\n",
       "      <td>3.2</td>\n",
       "      <td>Smirnoff Vodka 80 Prf</td>\n",
       "      <td>VODKA 80 PROOF</td>\n",
       "    </tr>\n",
       "    <tr>\n",
       "      <th>2015-01-05</th>\n",
       "      <td>2650</td>\n",
       "      <td>HARLAN</td>\n",
       "      <td>51537</td>\n",
       "      <td>92.85</td>\n",
       "      <td>9.0</td>\n",
       "      <td>Belvedere Vodka</td>\n",
       "      <td>IMPORTED VODKA</td>\n",
       "    </tr>\n",
       "    <tr>\n",
       "      <th>2015-01-05</th>\n",
       "      <td>2613</td>\n",
       "      <td>COUNCIL BLUFFS</td>\n",
       "      <td>51501</td>\n",
       "      <td>23.58</td>\n",
       "      <td>3.0</td>\n",
       "      <td>Smirnoff Silver Vodka 90 Prf</td>\n",
       "      <td>OTHER PROOF VODKA</td>\n",
       "    </tr>\n",
       "    <tr>\n",
       "      <th>2015-01-05</th>\n",
       "      <td>4806</td>\n",
       "      <td>WEST LIBERTY</td>\n",
       "      <td>52776</td>\n",
       "      <td>342.00</td>\n",
       "      <td>108.0</td>\n",
       "      <td>Ciroc Coconut</td>\n",
       "      <td>IMPORTED VODKA - MISC</td>\n",
       "    </tr>\n",
       "    <tr>\n",
       "      <th>2015-01-05</th>\n",
       "      <td>2650</td>\n",
       "      <td>HARLAN</td>\n",
       "      <td>51537</td>\n",
       "      <td>57.92</td>\n",
       "      <td>12.0</td>\n",
       "      <td>Titos Vodka</td>\n",
       "      <td>VODKA 80 PROOF</td>\n",
       "    </tr>\n",
       "  </tbody>\n",
       "</table>\n",
       "</div>"
      ],
      "text/plain": [
       "            Store Number            City Zip Code  Total Sales  \\\n",
       "Date                                                             \n",
       "2015-01-05          4303      MEDIAPOLIS    52637        16.52   \n",
       "2015-01-05          2650          HARLAN    51537        92.85   \n",
       "2015-01-05          2613  COUNCIL BLUFFS    51501        23.58   \n",
       "2015-01-05          4806    WEST LIBERTY    52776       342.00   \n",
       "2015-01-05          2650          HARLAN    51537        57.92   \n",
       "\n",
       "            Total Volume Sold (Liters)              Item Description  \\\n",
       "Date                                                                   \n",
       "2015-01-05                         3.2         Smirnoff Vodka 80 Prf   \n",
       "2015-01-05                         9.0               Belvedere Vodka   \n",
       "2015-01-05                         3.0  Smirnoff Silver Vodka 90 Prf   \n",
       "2015-01-05                       108.0                 Ciroc Coconut   \n",
       "2015-01-05                        12.0                   Titos Vodka   \n",
       "\n",
       "                    Category Name  \n",
       "Date                               \n",
       "2015-01-05         VODKA 80 PROOF  \n",
       "2015-01-05         IMPORTED VODKA  \n",
       "2015-01-05      OTHER PROOF VODKA  \n",
       "2015-01-05  IMPORTED VODKA - MISC  \n",
       "2015-01-05         VODKA 80 PROOF  "
      ]
     },
     "execution_count": 156,
     "metadata": {},
     "output_type": "execute_result"
    }
   ],
   "source": [
    "twentyfifteen_one.head()"
   ]
  },
  {
   "cell_type": "code",
   "execution_count": 136,
   "metadata": {
    "collapsed": true
   },
   "outputs": [],
   "source": [
    "twenty_fifteen_two = data.loc[\"2015-04-05\":\"2015-07-04\"]"
   ]
  },
  {
   "cell_type": "code",
   "execution_count": null,
   "metadata": {
    "collapsed": true
   },
   "outputs": [],
   "source": []
  },
  {
   "cell_type": "code",
   "execution_count": 137,
   "metadata": {
    "collapsed": true
   },
   "outputs": [],
   "source": [
    "twenty_fifteen_three = data.loc[\"2015-07-05\":\"2015-10-04\"]"
   ]
  },
  {
   "cell_type": "code",
   "execution_count": null,
   "metadata": {
    "collapsed": true
   },
   "outputs": [],
   "source": []
  },
  {
   "cell_type": "code",
   "execution_count": 138,
   "metadata": {
    "collapsed": true
   },
   "outputs": [],
   "source": [
    "twenty_fifteen_four = data.loc[\"2015-10-05\":\"2016-01-04\"]"
   ]
  },
  {
   "cell_type": "code",
   "execution_count": null,
   "metadata": {
    "collapsed": true
   },
   "outputs": [],
   "source": []
  },
  {
   "cell_type": "code",
   "execution_count": 139,
   "metadata": {
    "collapsed": true
   },
   "outputs": [],
   "source": [
    "twenty_sixteen_one = data[\"2015-01-05\":\"2016-03-31\"]"
   ]
  },
  {
   "cell_type": "code",
   "execution_count": null,
   "metadata": {
    "collapsed": true
   },
   "outputs": [],
   "source": []
  },
  {
   "cell_type": "code",
   "execution_count": null,
   "metadata": {
    "collapsed": true
   },
   "outputs": [],
   "source": []
  },
  {
   "cell_type": "code",
   "execution_count": null,
   "metadata": {
    "collapsed": true
   },
   "outputs": [],
   "source": [
    "twenty_fifteen_one = data[\"\"]\n",
    "twenty_fifteen_one = data[(data.Date >= '2015-01-05') & (data.Date <= '2015-04-04')]"
   ]
  },
  {
   "cell_type": "code",
   "execution_count": 60,
   "metadata": {
    "collapsed": true
   },
   "outputs": [
    {
     "data": {
      "text/plain": [
       "DES MOINES         23724\n",
       "CEDAR RAPIDS       18888\n",
       "DAVENPORT          11580\n",
       "WATERLOO            8425\n",
       "COUNCIL BLUFFS      8060\n",
       "SIOUX CITY          7992\n",
       "IOWA CITY           7951\n",
       "AMES                7548\n",
       "WEST DES MOINES     7162\n",
       "DUBUQUE             6915\n",
       "CEDAR FALLS         5735\n",
       "ANKENY              4836\n",
       "MASON CITY          4191\n",
       "BETTENDORF          3709\n",
       "CORALVILLE          3490\n",
       "MUSCATINE           3397\n",
       "BURLINGTON          3144\n",
       "CLINTON             3111\n",
       "FORT DODGE          2989\n",
       "WINDSOR HEIGHTS     2811\n",
       "MARSHALLTOWN        2694\n",
       "NEWTON              2544\n",
       "STORM LAKE          2533\n",
       "MARION              2489\n",
       "URBANDALE           2438\n",
       "OTTUMWA             2295\n",
       "JOHNSTON            2141\n",
       "ALTOONA             2113\n",
       "CLEAR LAKE          2083\n",
       "SPENCER             1910\n",
       "                   ...  \n",
       "GILMORE CITY          16\n",
       "SCHALLER              15\n",
       "VAN METER             15\n",
       "WASHBURN              15\n",
       "DANVILLE              15\n",
       "GOLDFIELD             15\n",
       "WALL LAKE             14\n",
       "ALTA                  14\n",
       "DOWS                  13\n",
       "SULLY                 12\n",
       "AFTON                 12\n",
       "DELHI                 11\n",
       "AURELIA               11\n",
       "LOVILIA               11\n",
       "MERRILL               10\n",
       "STANWOOD               9\n",
       "LATIMER                9\n",
       "MINDEN                 9\n",
       "EVERLY                 7\n",
       "GILBERTVILLE           6\n",
       "FONDA                  6\n",
       "SEYMOUR                6\n",
       "MELBOURNE              6\n",
       "Cumming                6\n",
       "GRISWOLD               5\n",
       "RUNNELLS               3\n",
       "TABOR                  3\n",
       "LOHRVILLE              3\n",
       "ROBINS                 2\n",
       "Carroll                1\n",
       "Name: City, dtype: int64"
      ]
     },
     "execution_count": 60,
     "metadata": {},
     "output_type": "execute_result"
    }
   ],
   "source": [
    "data[\"City\"].value_counts()"
   ]
  },
  {
   "cell_type": "code",
   "execution_count": 59,
   "metadata": {
    "collapsed": true
   },
   "outputs": [
    {
     "data": {
      "text/plain": [
       "array(['MEDIAPOLIS', 'HARLAN', 'COUNCIL BLUFFS', 'WEST LIBERTY',\n",
       "       'CEDAR RAPIDS', 'ANKENY', 'MAXWELL', 'BURLINGTON', 'DAVENPORT',\n",
       "       'BETTENDORF', 'INDIANOLA', 'WEST DES MOINES', 'DES MOINES',\n",
       "       'WILTON', 'MAQUOKETA', 'MUSCATINE', 'CORALVILLE', 'IOWA FALLS',\n",
       "       'JESUP', 'MOUNT PLEASANT', 'WATERLOO', 'CLIVE', 'FORT MADISON',\n",
       "       'BONDURANT', 'MONONA', 'STUART', 'KEOKUK', 'EVANSDALE', 'FAIRFIELD',\n",
       "       'SOLON', 'INDEPENDENCE', 'HAMPTON', 'PARKERSBURG', 'HIAWATHA',\n",
       "       'GRUNDY CENTER', 'MOUNT VERNON', 'ANITA', 'ATLANTIC',\n",
       "       'WEST BURLINGTON', 'WOODBINE', 'CRESCENT', 'DURANT', 'WELLMAN',\n",
       "       'WASHINGTON', 'GUTHRIE CENTER', 'SIGOURNEY', 'ZWINGLE', 'MARION',\n",
       "       'ALTOONA', 'COLUMBUS JUNCTION', 'MANCHESTER', 'NEWTON', 'IOWA CITY',\n",
       "       'BELLEVUE', 'WAUKEE', 'JOHNSTON', 'AUDUBON', 'ANAMOSA',\n",
       "       'GUTTENBURG', 'ELDON', 'CLEAR LAKE', 'BLUE GRASS', 'KEOSAUQUA',\n",
       "       'LOGAN', 'WEST POINT', 'MISSOURI VALLEY', 'NORTH ENGLISH',\n",
       "       'EDGEWOOD', 'DUNLAP', 'CASEY', 'MT PLEASANT', 'RIVERSIDE', 'PANORA',\n",
       "       'MONROE', 'CARTER LAKE', 'STRAWBERRY POINT', 'ACKLEY', 'GUTTENBERG',\n",
       "       'ELDORA', 'HOLY CROSS', 'ARLINGTON', 'CHEROKEE', 'TREYNOR',\n",
       "       'SIOUX CENTER', 'SPENCER', 'NEW HAMPTON', 'ESTHERVILLE',\n",
       "       'ARNOLDS PARK', 'RED OAK', 'STORY CITY', 'WINDSOR HEIGHTS',\n",
       "       'CRESTON', 'LARCHWOOD', 'MOUNT AYR', 'MARSHALLTOWN', 'GRIMES',\n",
       "       'WAVERLY', 'FORT DODGE', 'TOLEDO', 'LA PORTE CITY', 'WEBSTER CITY',\n",
       "       'CLARINDA', 'CORNING', 'OSAGE', 'WINTERSET', 'EMMETSBURG',\n",
       "       'POLK CITY', 'ROCK RAPIDS', 'BELMOND', 'LENOX', 'RUTHVEN',\n",
       "       'ST ANSGAR', 'LE MARS', 'CLARION', 'URBANDALE', 'MILFORD', 'BAXTER',\n",
       "       'SPIRIT LAKE', 'LE GRAND', 'DE SOTO', 'AKRON', 'PRIMGHAR',\n",
       "       'SHELDON', 'NEOLA', 'SIBLEY', 'CRESCO', 'LAKE PARK', 'SHELLSBURG',\n",
       "       'HUMBOLDT', 'CHARLES CITY', 'MALVERN', 'SHENANDOAH', 'LEMARS',\n",
       "       'OAKLAND', 'PAULLINA', 'INWOOD', 'AMES', 'HUDSON', 'LAURENS',\n",
       "       'BEDFORD', 'AVOCA', 'GREENFIELD', 'HARTLEY', 'TRAER', 'VINTON',\n",
       "       'FREDERICKSBURG', 'BELLE PLAINE', 'PALO', 'WEST BEND',\n",
       "       'ORANGE CITY', 'ELMA', 'POCAHONTAS', 'GRISWOLD', 'EAGLE GROVE',\n",
       "       'CENTRAL CITY', 'NORA SPRINGS', 'GLENWOOD', 'ADEL', 'PERRY',\n",
       "       'MARCUS', 'BEVINGTON', 'GLADBROOK', 'DUMONT', 'SANBORN', 'JEWELL',\n",
       "       'ALLISON', 'LAWLER', 'ALDEN', 'VAN METER', 'HAWARDEN',\n",
       "       'GRAETTINGER', 'FLOYD', 'REMSEN', 'CENTER POINT', 'GREENE',\n",
       "       'REINBECK', 'SIOUX CITY', 'CEDAR FALLS', 'OSKALOOSA', 'BANCROFT',\n",
       "       'CENTERVILLE', 'DUBUQUE', 'CARLISLE', 'WAUKON', 'BOONE',\n",
       "       'STORM LAKE', 'BROOKLYN', 'WEST UNION', 'PLEASANTVILLE',\n",
       "       'PRAIRIE CITY', 'NEVADA', 'KNOXVILLE', 'SAC CITY', 'PLEASANT HILL',\n",
       "       'OELWEIN', 'Dubuque', 'OTTUMWA', 'MONTICELLO', 'DECORAH', 'GOWRIE',\n",
       "       'BLOOMFIELD', 'DYERSVILLE', 'WESLEY', 'CHARITON', 'SIOUX RAPIDS',\n",
       "       'PELLA', 'ALGONA', 'NORTH LIBERTY', 'CASCADE', 'OTTUWMA', 'DAYTON',\n",
       "       'POSTVILLE', 'ANTHON', 'TRIPOLI', 'MARENGO', 'CORYDON', 'BRITT',\n",
       "       'SCHLESWIG', 'ONAWA', 'MAPLETON', 'FAIRFAX', 'GARNER', 'HOLSTEIN',\n",
       "       'LAKE CITY', 'SERGEANT BLUFF', 'MELCHER-DALLAS', 'FORT ATKINSON',\n",
       "       'LAKE VIEW', 'SWISHER', 'ALBIA', 'BUFFALO CENTER', 'FOREST CITY',\n",
       "       'MANSON', 'IDA GROVE', 'LANSING', 'SUMNER', 'BUSSEY', 'OGDEN',\n",
       "       'HUMESTON', 'WALL LAKE', 'FARLEY', 'ST LUCAS', 'ROCKWELL CITY',\n",
       "       'DENVER', 'DENISON', 'JEFFERSON', 'NORWALK', 'MASON CITY',\n",
       "       'CLINTON', 'MT VERNON', 'CARROLL', 'DEWITT', 'CAMBRIDGE', 'COLFAX',\n",
       "       'PRINCETON', 'MADRID', 'GRINNELL', 'LAKE MILLS', 'NORTHWOOD',\n",
       "       'MANNING', 'GLIDDEN', 'MONTEZUMA', 'STATE CENTER', 'TIPTON',\n",
       "       'LECLAIRE', 'OSCEOLA', 'CAMANCHE', 'GRAND JUNCTION', 'ELDRIDGE',\n",
       "       'COON RAPIDS', 'WILLIAMSBURG', 'WEST BRANCH', 'Northwood',\n",
       "       'ROCKWELL', 'KELLOG', 'SHEFFIELD', 'CONRAD', 'WAPELLO', 'LISBON',\n",
       "       'WALNUT', 'ELKADER', 'FARMINGTON', 'KEOTA', 'MECHANICSVILLE',\n",
       "       'WELLSBURG', 'HAZLETON', 'PACIFIC JUNCTION', 'SUTHERLAND',\n",
       "       'ELLSWORTH', 'GEORGE', 'RICEVILLE', 'FAIRBANK', 'FONTANELLE',\n",
       "       'STRATFORD', 'CLARKSVILLE', 'ROLFE', 'SCHALLER', 'ROCK VALLEY',\n",
       "       'GRANGER', 'URBANA', 'KINGSLEY', 'HUXLEY', 'SLOAN', 'ELY', 'TIFFIN',\n",
       "       'ST CHARLES', 'LEON', 'LAMONI', 'NEW SHARON', 'EXIRA', 'COLO',\n",
       "       'EVERLY', 'HOSPERS', 'DYSART', 'AFTON', 'IRETON', 'VILLISCA',\n",
       "       'NASHUA', 'SLATER', 'MORAVIA', 'FAYETTE', 'SCRANTON', 'LE CLAIRE',\n",
       "       'WHEATLAND', 'GRAND MOUND', 'HUBBARD', 'WINTHROP', 'RAYMOND',\n",
       "       'LOST NATION', 'BALDWIN', 'ADAIR', 'GOLDFIELD', 'ALTA', 'DOWS',\n",
       "       'HAMBURG', 'OTHO', 'WASHBURN', 'AURELIA', 'DAKOTA CITY',\n",
       "       'HARPERS FERRY', 'LOVILIA', 'WOODWARD', 'BUFFALO', 'EARLHAM',\n",
       "       'ARMSTRONG', 'EARLY', 'GILMORE CITY', 'Urbandale', 'SWEA CITY',\n",
       "       'EDDYVILLE', 'SPRINGVILLE', 'WALKER', 'PEOSTA', 'SULLY', 'MONTROSE',\n",
       "       'MARTENSDALE', 'DANVILLE', 'STANWOOD', \"ARNOLD'S PARK\", 'Inwood',\n",
       "       'NEW VIRGINIA', 'DONNELLSON', 'OKOBOJI', 'MANLY', 'CORWITH',\n",
       "       'DELMAR', 'LATIMER', 'FONDA', 'MELBOURNE', 'MERRILL', 'VICTOR',\n",
       "       'KELLOGG', 'Cumming', 'Des Moines', 'DELAWARE', 'DELHI', 'MINDEN',\n",
       "       'WALFORD', 'ROBINS', 'LOHRVILLE', 'SEYMOUR', 'Carroll', 'RUNNELLS',\n",
       "       'TABOR', 'GILBERTVILLE'], dtype=object)"
      ]
     },
     "execution_count": 59,
     "metadata": {},
     "output_type": "execute_result"
    }
   ],
   "source": [
    "data[\"City\"].unique()"
   ]
  },
  {
   "cell_type": "code",
   "execution_count": 48,
   "metadata": {
    "collapsed": true
   },
   "outputs": [
    {
     "data": {
      "text/plain": [
       "DES MOINES         23724\n",
       "CEDAR RAPIDS       18888\n",
       "DAVENPORT          11580\n",
       "WATERLOO            8425\n",
       "COUNCIL BLUFFS      8060\n",
       "SIOUX CITY          7992\n",
       "IOWA CITY           7951\n",
       "AMES                7548\n",
       "WEST DES MOINES     7162\n",
       "DUBUQUE             6915\n",
       "CEDAR FALLS         5735\n",
       "ANKENY              4836\n",
       "MASON CITY          4191\n",
       "BETTENDORF          3709\n",
       "CORALVILLE          3490\n",
       "MUSCATINE           3397\n",
       "BURLINGTON          3144\n",
       "CLINTON             3111\n",
       "FORT DODGE          2989\n",
       "WINDSOR HEIGHTS     2811\n",
       "MARSHALLTOWN        2694\n",
       "NEWTON              2544\n",
       "STORM LAKE          2533\n",
       "MARION              2489\n",
       "URBANDALE           2438\n",
       "OTTUMWA             2295\n",
       "JOHNSTON            2141\n",
       "ALTOONA             2113\n",
       "CLEAR LAKE          2083\n",
       "SPENCER             1910\n",
       "                   ...  \n",
       "GILMORE CITY          16\n",
       "SCHALLER              15\n",
       "VAN METER             15\n",
       "WASHBURN              15\n",
       "DANVILLE              15\n",
       "GOLDFIELD             15\n",
       "WALL LAKE             14\n",
       "ALTA                  14\n",
       "DOWS                  13\n",
       "SULLY                 12\n",
       "AFTON                 12\n",
       "DELHI                 11\n",
       "AURELIA               11\n",
       "LOVILIA               11\n",
       "MERRILL               10\n",
       "STANWOOD               9\n",
       "LATIMER                9\n",
       "MINDEN                 9\n",
       "EVERLY                 7\n",
       "GILBERTVILLE           6\n",
       "FONDA                  6\n",
       "SEYMOUR                6\n",
       "MELBOURNE              6\n",
       "Cumming                6\n",
       "GRISWOLD               5\n",
       "RUNNELLS               3\n",
       "TABOR                  3\n",
       "LOHRVILLE              3\n",
       "ROBINS                 2\n",
       "Carroll                1\n",
       "Name: City, dtype: int64"
      ]
     },
     "execution_count": 48,
     "metadata": {},
     "output_type": "execute_result"
    }
   ],
   "source": [
    "data.City.value_counts()"
   ]
  },
  {
   "cell_type": "code",
   "execution_count": 45,
   "metadata": {
    "collapsed": false
   },
   "outputs": [
    {
     "data": {
      "text/plain": [
       "['Store Number',\n",
       " 'City',\n",
       " 'Zip Code',\n",
       " 'County Number',\n",
       " 'County',\n",
       " 'Category',\n",
       " 'Category Name',\n",
       " 'Vendor Number',\n",
       " 'Item Number',\n",
       " 'Item Description',\n",
       " 'Bottle Volume (ml)',\n",
       " 'State Bottle Cost',\n",
       " 'State Bottle Retail',\n",
       " 'Bottles Sold',\n",
       " 'Sale (Dollars)',\n",
       " 'Volume Sold (Liters)',\n",
       " 'Volume Sold (Gallons)']"
      ]
     },
     "execution_count": 45,
     "metadata": {},
     "output_type": "execute_result"
    }
   ],
   "source": [
    "list(data.columns)"
   ]
  },
  {
   "cell_type": "code",
   "execution_count": null,
   "metadata": {
    "collapsed": true
   },
   "outputs": [],
   "source": []
  },
  {
   "cell_type": "code",
   "execution_count": 72,
   "metadata": {
    "collapsed": true
   },
   "outputs": [],
   "source": [
    "data[\"Date\"] = pd.to_datetime(data[\"Date\"], infer_datetime_format=True)"
   ]
  },
  {
   "cell_type": "code",
   "execution_count": 76,
   "metadata": {
    "collapsed": false
   },
   "outputs": [],
   "source": [
    "cols = [\"State Bottle Cost\", \"State Bottle Retail\", \"Sale (Dollars)\"]\n",
    "for col in cols:\n",
    "    data[col] = data[col].apply(lambda x: float(x.replace(\"$\", \"\")))"
   ]
  },
  {
   "cell_type": "code",
   "execution_count": 77,
   "metadata": {
    "collapsed": true
   },
   "outputs": [],
   "source": [
    "data = data.dropna()"
   ]
  },
  {
   "cell_type": "code",
   "execution_count": 78,
   "metadata": {
    "collapsed": false
   },
   "outputs": [
    {
     "data": {
      "text/html": [
       "<div>\n",
       "<table border=\"1\" class=\"dataframe\">\n",
       "  <thead>\n",
       "    <tr style=\"text-align: right;\">\n",
       "      <th></th>\n",
       "      <th>Date</th>\n",
       "      <th>Store Number</th>\n",
       "      <th>City</th>\n",
       "      <th>Zip Code</th>\n",
       "      <th>County Number</th>\n",
       "      <th>County</th>\n",
       "      <th>Category</th>\n",
       "      <th>Category Name</th>\n",
       "      <th>Vendor Number</th>\n",
       "      <th>Item Number</th>\n",
       "      <th>Item Description</th>\n",
       "      <th>Bottle Volume (ml)</th>\n",
       "      <th>State Bottle Cost</th>\n",
       "      <th>State Bottle Retail</th>\n",
       "      <th>Bottles Sold</th>\n",
       "      <th>Sale (Dollars)</th>\n",
       "      <th>Volume Sold (Liters)</th>\n",
       "      <th>Volume Sold (Gallons)</th>\n",
       "    </tr>\n",
       "  </thead>\n",
       "  <tbody>\n",
       "    <tr>\n",
       "      <th>0</th>\n",
       "      <td>2015-11-04</td>\n",
       "      <td>3717</td>\n",
       "      <td>SUMNER</td>\n",
       "      <td>50674</td>\n",
       "      <td>9.0</td>\n",
       "      <td>Bremer</td>\n",
       "      <td>1051100.0</td>\n",
       "      <td>APRICOT BRANDIES</td>\n",
       "      <td>55</td>\n",
       "      <td>54436</td>\n",
       "      <td>Mr. Boston Apricot Brandy</td>\n",
       "      <td>750</td>\n",
       "      <td>4.50</td>\n",
       "      <td>6.75</td>\n",
       "      <td>12</td>\n",
       "      <td>81.00</td>\n",
       "      <td>9.0</td>\n",
       "      <td>2.38</td>\n",
       "    </tr>\n",
       "    <tr>\n",
       "      <th>1</th>\n",
       "      <td>2016-03-02</td>\n",
       "      <td>2614</td>\n",
       "      <td>DAVENPORT</td>\n",
       "      <td>52807</td>\n",
       "      <td>82.0</td>\n",
       "      <td>Scott</td>\n",
       "      <td>1011100.0</td>\n",
       "      <td>BLENDED WHISKIES</td>\n",
       "      <td>395</td>\n",
       "      <td>27605</td>\n",
       "      <td>Tin Cup</td>\n",
       "      <td>750</td>\n",
       "      <td>13.75</td>\n",
       "      <td>20.63</td>\n",
       "      <td>2</td>\n",
       "      <td>41.26</td>\n",
       "      <td>1.5</td>\n",
       "      <td>0.40</td>\n",
       "    </tr>\n",
       "    <tr>\n",
       "      <th>2</th>\n",
       "      <td>2016-02-11</td>\n",
       "      <td>2106</td>\n",
       "      <td>CEDAR FALLS</td>\n",
       "      <td>50613</td>\n",
       "      <td>7.0</td>\n",
       "      <td>Black Hawk</td>\n",
       "      <td>1011200.0</td>\n",
       "      <td>STRAIGHT BOURBON WHISKIES</td>\n",
       "      <td>65</td>\n",
       "      <td>19067</td>\n",
       "      <td>Jim Beam</td>\n",
       "      <td>1000</td>\n",
       "      <td>12.59</td>\n",
       "      <td>18.89</td>\n",
       "      <td>24</td>\n",
       "      <td>453.36</td>\n",
       "      <td>24.0</td>\n",
       "      <td>6.34</td>\n",
       "    </tr>\n",
       "    <tr>\n",
       "      <th>3</th>\n",
       "      <td>2016-02-03</td>\n",
       "      <td>2501</td>\n",
       "      <td>AMES</td>\n",
       "      <td>50010</td>\n",
       "      <td>85.0</td>\n",
       "      <td>Story</td>\n",
       "      <td>1071100.0</td>\n",
       "      <td>AMERICAN COCKTAILS</td>\n",
       "      <td>395</td>\n",
       "      <td>59154</td>\n",
       "      <td>1800 Ultimate Margarita</td>\n",
       "      <td>1750</td>\n",
       "      <td>9.50</td>\n",
       "      <td>14.25</td>\n",
       "      <td>6</td>\n",
       "      <td>85.50</td>\n",
       "      <td>10.5</td>\n",
       "      <td>2.77</td>\n",
       "    </tr>\n",
       "    <tr>\n",
       "      <th>4</th>\n",
       "      <td>2015-08-18</td>\n",
       "      <td>3654</td>\n",
       "      <td>BELMOND</td>\n",
       "      <td>50421</td>\n",
       "      <td>99.0</td>\n",
       "      <td>Wright</td>\n",
       "      <td>1031080.0</td>\n",
       "      <td>VODKA 80 PROOF</td>\n",
       "      <td>297</td>\n",
       "      <td>35918</td>\n",
       "      <td>Five O'clock Vodka</td>\n",
       "      <td>1750</td>\n",
       "      <td>7.20</td>\n",
       "      <td>10.80</td>\n",
       "      <td>12</td>\n",
       "      <td>129.60</td>\n",
       "      <td>21.0</td>\n",
       "      <td>5.55</td>\n",
       "    </tr>\n",
       "  </tbody>\n",
       "</table>\n",
       "</div>"
      ],
      "text/plain": [
       "        Date  Store Number         City Zip Code  County Number      County  \\\n",
       "0 2015-11-04          3717       SUMNER    50674            9.0      Bremer   \n",
       "1 2016-03-02          2614    DAVENPORT    52807           82.0       Scott   \n",
       "2 2016-02-11          2106  CEDAR FALLS    50613            7.0  Black Hawk   \n",
       "3 2016-02-03          2501         AMES    50010           85.0       Story   \n",
       "4 2015-08-18          3654      BELMOND    50421           99.0      Wright   \n",
       "\n",
       "    Category              Category Name  Vendor Number  Item Number  \\\n",
       "0  1051100.0           APRICOT BRANDIES             55        54436   \n",
       "1  1011100.0           BLENDED WHISKIES            395        27605   \n",
       "2  1011200.0  STRAIGHT BOURBON WHISKIES             65        19067   \n",
       "3  1071100.0         AMERICAN COCKTAILS            395        59154   \n",
       "4  1031080.0             VODKA 80 PROOF            297        35918   \n",
       "\n",
       "            Item Description  Bottle Volume (ml)  State Bottle Cost  \\\n",
       "0  Mr. Boston Apricot Brandy                 750               4.50   \n",
       "1                    Tin Cup                 750              13.75   \n",
       "2                   Jim Beam                1000              12.59   \n",
       "3    1800 Ultimate Margarita                1750               9.50   \n",
       "4         Five O'clock Vodka                1750               7.20   \n",
       "\n",
       "   State Bottle Retail  Bottles Sold  Sale (Dollars)  Volume Sold (Liters)  \\\n",
       "0                 6.75            12           81.00                   9.0   \n",
       "1                20.63             2           41.26                   1.5   \n",
       "2                18.89            24          453.36                  24.0   \n",
       "3                14.25             6           85.50                  10.5   \n",
       "4                10.80            12          129.60                  21.0   \n",
       "\n",
       "   Volume Sold (Gallons)  \n",
       "0                   2.38  \n",
       "1                   0.40  \n",
       "2                   6.34  \n",
       "3                   2.77  \n",
       "4                   5.55  "
      ]
     },
     "execution_count": 78,
     "metadata": {},
     "output_type": "execute_result"
    }
   ],
   "source": [
    "data.head()"
   ]
  },
  {
   "cell_type": "code",
   "execution_count": 79,
   "metadata": {
    "collapsed": false
   },
   "outputs": [
    {
     "data": {
      "text/plain": [
       "count    269258.000000\n",
       "mean          9.763293\n",
       "std           7.039787\n",
       "min           0.890000\n",
       "25%           5.500000\n",
       "50%           8.000000\n",
       "75%          11.920000\n",
       "max         425.000000\n",
       "Name: State Bottle Cost, dtype: float64"
      ]
     },
     "execution_count": 79,
     "metadata": {},
     "output_type": "execute_result"
    }
   ],
   "source": [
    "data['State Bottle Cost'].describe()"
   ]
  },
  {
   "cell_type": "code",
   "execution_count": null,
   "metadata": {
    "collapsed": true
   },
   "outputs": [],
   "source": []
  },
  {
   "cell_type": "markdown",
   "metadata": {},
   "source": [
    "# Explore the data\n",
    "\n",
    "Perform some exploratory statistical analysis and make some plots, such as histograms of transaction totals, bottles sold, etc."
   ]
  },
  {
   "cell_type": "code",
   "execution_count": 4,
   "metadata": {
    "collapsed": true
   },
   "outputs": [],
   "source": [
    "# import seaborn as sns\n",
    "# import matplotlib.pyplot as plt"
   ]
  },
  {
   "cell_type": "markdown",
   "metadata": {},
   "source": [
    "## Record your findings\n",
    "\n",
    "Be sure to write out anything observations from your exploratory analysis."
   ]
  },
  {
   "cell_type": "markdown",
   "metadata": {},
   "source": [
    "# Mine the data\n",
    "Now you are ready to compute the variables you will use for your regression from the data. For example, you may want to\n",
    "compute total sales per store from Jan to March of 2015, mean price per bottle, etc. Refer to the readme for more ideas appropriate to your scenario.\n",
    "\n",
    "Pandas is your friend for this task. Take a look at the operations [here](http://pandas.pydata.org/pandas-docs/stable/groupby.html) for ideas on how to make the best use of pandas and feel free to search for blog and Stack Overflow posts to help you group data by certain variables and compute sums, means, etc. You may find it useful to create a new data frame to house this summary data."
   ]
  },
  {
   "cell_type": "markdown",
   "metadata": {},
   "source": [
    "# Refine the data\n",
    "Look for any statistical relationships, correlations, or other relevant properties of the dataset."
   ]
  },
  {
   "cell_type": "code",
   "execution_count": null,
   "metadata": {
    "collapsed": true
   },
   "outputs": [],
   "source": []
  },
  {
   "cell_type": "markdown",
   "metadata": {},
   "source": [
    "# Build your models\n",
    "\n",
    "Using scikit-learn or statsmodels, build the necessary models for your scenario. Evaluate model fit."
   ]
  },
  {
   "cell_type": "code",
   "execution_count": 6,
   "metadata": {
    "collapsed": true
   },
   "outputs": [],
   "source": [
    "from sklearn import linear_model\n"
   ]
  },
  {
   "cell_type": "markdown",
   "metadata": {},
   "source": [
    "## Plot your results\n",
    "\n",
    "Again make sure that you record any valuable information. For example, in the tax scenario, did you find the sales from the first three months of the year to be a good predictor of the total sales for the year? Plot the predictions versus the true values and discuss the successes and limitations of your models"
   ]
  },
  {
   "cell_type": "code",
   "execution_count": null,
   "metadata": {
    "collapsed": true
   },
   "outputs": [],
   "source": []
  },
  {
   "cell_type": "markdown",
   "metadata": {},
   "source": [
    "# Present the Results\n",
    "\n",
    "Present your conclusions and results. If you have more than one interesting model feel free to include more than one along with a discussion. Use your work in this notebook to prepare your write-up."
   ]
  },
  {
   "cell_type": "code",
   "execution_count": null,
   "metadata": {
    "collapsed": true
   },
   "outputs": [],
   "source": []
  }
 ],
 "metadata": {
  "anaconda-cloud": {},
  "kernelspec": {
   "display_name": "Python [default]",
   "language": "python",
   "name": "python3"
  },
  "language_info": {
   "codemirror_mode": {
    "name": "ipython",
    "version": 3
   },
   "file_extension": ".py",
   "mimetype": "text/x-python",
   "name": "python",
   "nbconvert_exporter": "python",
   "pygments_lexer": "ipython3",
   "version": "3.5.2"
  }
 },
 "nbformat": 4,
 "nbformat_minor": 0
}
