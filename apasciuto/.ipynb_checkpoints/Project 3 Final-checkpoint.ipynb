{
 "cells": [
  {
   "cell_type": "markdown",
   "metadata": {},
   "source": [
    "# Getting started\n",
    "\n",
    "Once you've chosen your scenario, download the data from [the Iowa website](https://data.iowa.gov/Economy/Iowa-Liquor-Sales/m3tr-qhgy) in csv format. Start by loading the data with pandas. You may need to parse the date columns appropriately."
   ]
  },
  {
   "cell_type": "code",
   "execution_count": 209,
   "metadata": {
    "collapsed": true
   },
   "outputs": [],
   "source": [
    "import numpy as np\n",
    "import pandas as pd\n",
    "import seaborn as sns\n",
    "from sklearn import linear_model, preprocessing, metrics\n",
    "from sklearn.cross_validation import train_test_split, cross_val_score, cross_val_predict\n",
    "from collections import defaultdict\n",
    "import matplotlib.pyplot as plt\n",
    "plt.rcParams['figure.figsize'] = 8, 8\n",
    "%matplotlib inline"
   ]
  },
  {
   "cell_type": "code",
   "execution_count": 210,
   "metadata": {
    "collapsed": false
   },
   "outputs": [],
   "source": [
    "df = pd.read_csv('../../DSI-BOS-students/apasciuto/datasets/w3_liquorsale.csv')"
   ]
  },
  {
   "cell_type": "code",
   "execution_count": 211,
   "metadata": {
    "collapsed": true
   },
   "outputs": [],
   "source": [
    "df = df.drop(['County Number', 'Vendor Number','Item Number','Item Description', 'Volume Sold (Gallons)'], axis = 1)"
   ]
  },
  {
   "cell_type": "code",
   "execution_count": 212,
   "metadata": {
    "collapsed": true
   },
   "outputs": [],
   "source": [
    "cols = [\"State Bottle Cost\", \"State Bottle Retail\", \"Sale (Dollars)\"]\n",
    "for col in cols:\n",
    "    df[col] = df[col].apply(lambda x: float(x[1:]))"
   ]
  },
  {
   "cell_type": "code",
   "execution_count": 213,
   "metadata": {
    "collapsed": true
   },
   "outputs": [],
   "source": [
    "df = df.dropna()"
   ]
  },
  {
   "cell_type": "code",
   "execution_count": 214,
   "metadata": {
    "collapsed": true
   },
   "outputs": [],
   "source": [
    "df[\"Date\"] = pd.to_datetime(df[\"Date\"], format=\"%m/%d/%Y\")"
   ]
  },
  {
   "cell_type": "code",
   "execution_count": 215,
   "metadata": {
    "collapsed": false
   },
   "outputs": [],
   "source": [
    "# Calculate margins, unit prices\n",
    "df[\"Margin\"] = (df[\"State Bottle Retail\"] - df[\"State Bottle Cost\"]) * df[\"Bottles Sold\"]\n",
    "df[\"Price per Liter\"] = df[\"Sale (Dollars)\"] / df[\"Volume Sold (Liters)\"]\n",
    "df[\"Price per Bottle\"] = df[\"Sale (Dollars)\"]/ df[\"Bottles Sold\"]"
   ]
  },
  {
   "cell_type": "code",
   "execution_count": 216,
   "metadata": {
    "collapsed": false
   },
   "outputs": [],
   "source": [
    "# Sales per store, 2015\n",
    "# Filter by our start and end dates\n",
    "df.sort_values(by=[\"Store Number\", \"Date\"], inplace=True)\n",
    "start_date = pd.Timestamp(\"20150101\")\n",
    "end_date = pd.Timestamp(\"20160331\")\n",
    "mask = (df['Date'] >= start_date) & (df['Date'] <= end_date)\n",
    "sales = df[mask]"
   ]
  },
  {
   "cell_type": "code",
   "execution_count": 217,
   "metadata": {
    "collapsed": false
   },
   "outputs": [],
   "source": [
    "sales = sales.groupby(by=\"Store Number\", as_index=False)"
   ]
  },
  {
   "cell_type": "code",
   "execution_count": 218,
   "metadata": {
    "collapsed": true
   },
   "outputs": [],
   "source": [
    "# Compute sums, means\n",
    "sales = sales.agg({\"County\": lambda x: x.iloc[0],\n",
    "                   \"Sale (Dollars)\": [np.sum, np.mean],\n",
    "                   \"Volume Sold (Liters)\": [np.sum, np.mean],\n",
    "                   \"Margin\": np.sum,\n",
    "                   \"Price per Liter\": np.mean,\n",
    "                   \"Zip Code\": lambda x: x.iloc[0], # just extract once, should be the same\n",
    "                   \"City\": lambda x: x.iloc[0],\n",
    "                   \"Bottles Sold\": [np.sum, np.mean], \n",
    "                   \"Price per Bottle\": np.mean})"
   ]
  },
  {
   "cell_type": "code",
   "execution_count": 219,
   "metadata": {
    "collapsed": true
   },
   "outputs": [],
   "source": [
    "# Collapse the column indices\n",
    "sales.columns = [' '.join(col).strip() for col in sales.columns.values]"
   ]
  },
  {
   "cell_type": "code",
   "execution_count": 220,
   "metadata": {
    "collapsed": false
   },
   "outputs": [],
   "source": [
    "sales.columns = ['Store Number', 'County', 'City', 'Zip Code', '2015 Sales', '2015 Sales mean', '2015 Margin', 'Total Bottles Sold', \n",
    "        'Bottles Sold mean', 'Price per Bottle mean', '2015 Volume Sold (Liters)', '2015 Volume Sold (Liters) mean',\n",
    "        'Price per Liter mean'] "
   ]
  },
  {
   "cell_type": "code",
   "execution_count": 221,
   "metadata": {
    "collapsed": false
   },
   "outputs": [],
   "source": [
    "# Determine which stores were open all of 2015\n",
    "# Find the first and last sales date.\n",
    "dates = df.groupby(by=[\"Store Number\"], as_index=False)\n",
    "dates = dates.agg({\"Date\": [np.min, np.max]})\n",
    "dates.columns = [' '.join(col).strip() for col in dates.columns.values]\n",
    "\n",
    "# Sales 2015  Q1\n",
    "# Filter out stores that opened or closed throughout the year\n",
    "# You may want to save this step until you start modelling\n",
    "lower_cutoff = pd.Timestamp(\"20150105\")\n",
    "upper_cutoff = pd.Timestamp(\"20150331\")\n",
    "mask = (dates['Date amin'] < lower_cutoff) & (dates['Date amax'] > upper_cutoff)\n",
    "good_stores = dates[mask][\"Store Number\"]\n",
    "data_for_open_stores = df[df[\"Store Number\"].isin(good_stores)]"
   ]
  },
  {
   "cell_type": "code",
   "execution_count": 222,
   "metadata": {
    "collapsed": false
   },
   "outputs": [
    {
     "data": {
      "text/html": [
       "<div>\n",
       "<table border=\"1\" class=\"dataframe\">\n",
       "  <thead>\n",
       "    <tr style=\"text-align: right;\">\n",
       "      <th></th>\n",
       "      <th>Store Number</th>\n",
       "      <th>County</th>\n",
       "      <th>City</th>\n",
       "      <th>Zip Code</th>\n",
       "      <th>2015 Sales</th>\n",
       "      <th>2015 Sales mean</th>\n",
       "      <th>2015 Margin</th>\n",
       "      <th>Total Bottles Sold</th>\n",
       "      <th>Bottles Sold mean</th>\n",
       "      <th>Price per Bottle mean</th>\n",
       "      <th>2015 Volume Sold (Liters)</th>\n",
       "      <th>2015 Volume Sold (Liters) mean</th>\n",
       "      <th>Price per Liter mean</th>\n",
       "    </tr>\n",
       "  </thead>\n",
       "  <tbody>\n",
       "    <tr>\n",
       "      <th>0</th>\n",
       "      <td>2106</td>\n",
       "      <td>15.479095</td>\n",
       "      <td>11836.10</td>\n",
       "      <td>18.153528</td>\n",
       "      <td>Black Hawk</td>\n",
       "      <td>CEDAR FALLS</td>\n",
       "      <td>12573</td>\n",
       "      <td>19.283742</td>\n",
       "      <td>176517.45</td>\n",
       "      <td>270.732285</td>\n",
       "      <td>58916.88</td>\n",
       "      <td>50613</td>\n",
       "      <td>17.869110</td>\n",
       "    </tr>\n",
       "    <tr>\n",
       "      <th>1</th>\n",
       "      <td>2113</td>\n",
       "      <td>16.267717</td>\n",
       "      <td>836.85</td>\n",
       "      <td>4.548098</td>\n",
       "      <td>Webster</td>\n",
       "      <td>GOWRIE</td>\n",
       "      <td>830</td>\n",
       "      <td>4.510870</td>\n",
       "      <td>11376.12</td>\n",
       "      <td>61.826739</td>\n",
       "      <td>3802.53</td>\n",
       "      <td>50543</td>\n",
       "      <td>18.301651</td>\n",
       "    </tr>\n",
       "    <tr>\n",
       "      <th>2</th>\n",
       "      <td>2130</td>\n",
       "      <td>15.015197</td>\n",
       "      <td>8436.27</td>\n",
       "      <td>16.606831</td>\n",
       "      <td>Black Hawk</td>\n",
       "      <td>WATERLOO</td>\n",
       "      <td>9144</td>\n",
       "      <td>18.000000</td>\n",
       "      <td>139440.02</td>\n",
       "      <td>274.488228</td>\n",
       "      <td>46517.61</td>\n",
       "      <td>50703</td>\n",
       "      <td>16.963739</td>\n",
       "    </tr>\n",
       "    <tr>\n",
       "      <th>3</th>\n",
       "      <td>2152</td>\n",
       "      <td>12.829193</td>\n",
       "      <td>720.87</td>\n",
       "      <td>4.477453</td>\n",
       "      <td>Cerro Gordo</td>\n",
       "      <td>ROCKWELL</td>\n",
       "      <td>670</td>\n",
       "      <td>4.161491</td>\n",
       "      <td>8625.74</td>\n",
       "      <td>53.576025</td>\n",
       "      <td>2891.61</td>\n",
       "      <td>50469</td>\n",
       "      <td>12.954562</td>\n",
       "    </tr>\n",
       "    <tr>\n",
       "      <th>4</th>\n",
       "      <td>2178</td>\n",
       "      <td>14.432203</td>\n",
       "      <td>2437.92</td>\n",
       "      <td>8.264136</td>\n",
       "      <td>Allamakee</td>\n",
       "      <td>WAUKON</td>\n",
       "      <td>2408</td>\n",
       "      <td>8.162712</td>\n",
       "      <td>29912.68</td>\n",
       "      <td>101.398915</td>\n",
       "      <td>10034.46</td>\n",
       "      <td>52172</td>\n",
       "      <td>15.866688</td>\n",
       "    </tr>\n",
       "  </tbody>\n",
       "</table>\n",
       "</div>"
      ],
      "text/plain": [
       "   Store Number     County      City   Zip Code   2015 Sales 2015 Sales mean  \\\n",
       "0          2106  15.479095  11836.10  18.153528   Black Hawk     CEDAR FALLS   \n",
       "1          2113  16.267717    836.85   4.548098      Webster          GOWRIE   \n",
       "2          2130  15.015197   8436.27  16.606831   Black Hawk        WATERLOO   \n",
       "3          2152  12.829193    720.87   4.477453  Cerro Gordo        ROCKWELL   \n",
       "4          2178  14.432203   2437.92   8.264136    Allamakee          WAUKON   \n",
       "\n",
       "   2015 Margin  Total Bottles Sold  Bottles Sold mean  Price per Bottle mean  \\\n",
       "0        12573           19.283742          176517.45             270.732285   \n",
       "1          830            4.510870           11376.12              61.826739   \n",
       "2         9144           18.000000          139440.02             274.488228   \n",
       "3          670            4.161491            8625.74              53.576025   \n",
       "4         2408            8.162712           29912.68             101.398915   \n",
       "\n",
       "   2015 Volume Sold (Liters) 2015 Volume Sold (Liters) mean  \\\n",
       "0                   58916.88                          50613   \n",
       "1                    3802.53                          50543   \n",
       "2                   46517.61                          50703   \n",
       "3                    2891.61                          50469   \n",
       "4                   10034.46                          52172   \n",
       "\n",
       "   Price per Liter mean  \n",
       "0             17.869110  \n",
       "1             18.301651  \n",
       "2             16.963739  \n",
       "3             12.954562  \n",
       "4             15.866688  "
      ]
     },
     "execution_count": 222,
     "metadata": {},
     "output_type": "execute_result"
    }
   ],
   "source": [
    "sales.head()"
   ]
  },
  {
   "cell_type": "code",
   "execution_count": 223,
   "metadata": {
    "collapsed": false,
    "scrolled": true
   },
   "outputs": [],
   "source": [
    "# Determine which stores were open all of 2016\n",
    "# Find the first and last sales date.\n",
    "dates = df.groupby(by=[\"Store Number\"], as_index=False)\n",
    "dates = dates.agg({\"Date\": [np.min, np.max]})\n",
    "dates.columns = [' '.join(col).strip() for col in dates.columns.values]\n",
    "\n",
    "# Sales 2016  Q1\n",
    "# Filter out stores that opened or closed throughout the year\n",
    "# You may want to save this step until you start modelling\n",
    "lower_cutoff = pd.Timestamp(\"20160105\")\n",
    "upper_cutoff = pd.Timestamp(\"20160331\")\n",
    "mask = (dates['Date amin'] < lower_cutoff) & (dates['Date amax'] > upper_cutoff)\n",
    "good_stores = dates[mask][\"Store Number\"]\n",
    "data_for_open_stores = df[df[\"Store Number\"].isin(good_stores)]"
   ]
  },
  {
   "cell_type": "code",
   "execution_count": 224,
   "metadata": {
    "collapsed": false
   },
   "outputs": [
    {
     "data": {
      "text/html": [
       "<div>\n",
       "<table border=\"1\" class=\"dataframe\">\n",
       "  <thead>\n",
       "    <tr style=\"text-align: right;\">\n",
       "      <th></th>\n",
       "      <th>Store Number</th>\n",
       "      <th>County</th>\n",
       "      <th>City</th>\n",
       "      <th>Zip Code</th>\n",
       "      <th>2015 Sales</th>\n",
       "      <th>2015 Sales mean</th>\n",
       "      <th>2015 Margin</th>\n",
       "      <th>Total Bottles Sold</th>\n",
       "      <th>Bottles Sold mean</th>\n",
       "      <th>Price per Bottle mean</th>\n",
       "      <th>2015 Volume Sold (Liters)</th>\n",
       "      <th>2015 Volume Sold (Liters) mean</th>\n",
       "      <th>Price per Liter mean</th>\n",
       "    </tr>\n",
       "  </thead>\n",
       "  <tbody>\n",
       "    <tr>\n",
       "      <th>0</th>\n",
       "      <td>2106</td>\n",
       "      <td>15.479095</td>\n",
       "      <td>11836.10</td>\n",
       "      <td>18.153528</td>\n",
       "      <td>Black Hawk</td>\n",
       "      <td>CEDAR FALLS</td>\n",
       "      <td>12573</td>\n",
       "      <td>19.283742</td>\n",
       "      <td>176517.45</td>\n",
       "      <td>270.732285</td>\n",
       "      <td>58916.88</td>\n",
       "      <td>50613</td>\n",
       "      <td>17.869110</td>\n",
       "    </tr>\n",
       "    <tr>\n",
       "      <th>1</th>\n",
       "      <td>2113</td>\n",
       "      <td>16.267717</td>\n",
       "      <td>836.85</td>\n",
       "      <td>4.548098</td>\n",
       "      <td>Webster</td>\n",
       "      <td>GOWRIE</td>\n",
       "      <td>830</td>\n",
       "      <td>4.510870</td>\n",
       "      <td>11376.12</td>\n",
       "      <td>61.826739</td>\n",
       "      <td>3802.53</td>\n",
       "      <td>50543</td>\n",
       "      <td>18.301651</td>\n",
       "    </tr>\n",
       "    <tr>\n",
       "      <th>2</th>\n",
       "      <td>2130</td>\n",
       "      <td>15.015197</td>\n",
       "      <td>8436.27</td>\n",
       "      <td>16.606831</td>\n",
       "      <td>Black Hawk</td>\n",
       "      <td>WATERLOO</td>\n",
       "      <td>9144</td>\n",
       "      <td>18.000000</td>\n",
       "      <td>139440.02</td>\n",
       "      <td>274.488228</td>\n",
       "      <td>46517.61</td>\n",
       "      <td>50703</td>\n",
       "      <td>16.963739</td>\n",
       "    </tr>\n",
       "    <tr>\n",
       "      <th>3</th>\n",
       "      <td>2152</td>\n",
       "      <td>12.829193</td>\n",
       "      <td>720.87</td>\n",
       "      <td>4.477453</td>\n",
       "      <td>Cerro Gordo</td>\n",
       "      <td>ROCKWELL</td>\n",
       "      <td>670</td>\n",
       "      <td>4.161491</td>\n",
       "      <td>8625.74</td>\n",
       "      <td>53.576025</td>\n",
       "      <td>2891.61</td>\n",
       "      <td>50469</td>\n",
       "      <td>12.954562</td>\n",
       "    </tr>\n",
       "    <tr>\n",
       "      <th>4</th>\n",
       "      <td>2178</td>\n",
       "      <td>14.432203</td>\n",
       "      <td>2437.92</td>\n",
       "      <td>8.264136</td>\n",
       "      <td>Allamakee</td>\n",
       "      <td>WAUKON</td>\n",
       "      <td>2408</td>\n",
       "      <td>8.162712</td>\n",
       "      <td>29912.68</td>\n",
       "      <td>101.398915</td>\n",
       "      <td>10034.46</td>\n",
       "      <td>52172</td>\n",
       "      <td>15.866688</td>\n",
       "    </tr>\n",
       "  </tbody>\n",
       "</table>\n",
       "</div>"
      ],
      "text/plain": [
       "   Store Number     County      City   Zip Code   2015 Sales 2015 Sales mean  \\\n",
       "0          2106  15.479095  11836.10  18.153528   Black Hawk     CEDAR FALLS   \n",
       "1          2113  16.267717    836.85   4.548098      Webster          GOWRIE   \n",
       "2          2130  15.015197   8436.27  16.606831   Black Hawk        WATERLOO   \n",
       "3          2152  12.829193    720.87   4.477453  Cerro Gordo        ROCKWELL   \n",
       "4          2178  14.432203   2437.92   8.264136    Allamakee          WAUKON   \n",
       "\n",
       "   2015 Margin  Total Bottles Sold  Bottles Sold mean  Price per Bottle mean  \\\n",
       "0        12573           19.283742          176517.45             270.732285   \n",
       "1          830            4.510870           11376.12              61.826739   \n",
       "2         9144           18.000000          139440.02             274.488228   \n",
       "3          670            4.161491            8625.74              53.576025   \n",
       "4         2408            8.162712           29912.68             101.398915   \n",
       "\n",
       "   2015 Volume Sold (Liters) 2015 Volume Sold (Liters) mean  \\\n",
       "0                   58916.88                          50613   \n",
       "1                    3802.53                          50543   \n",
       "2                   46517.61                          50703   \n",
       "3                    2891.61                          50469   \n",
       "4                   10034.46                          52172   \n",
       "\n",
       "   Price per Liter mean  \n",
       "0             17.869110  \n",
       "1             18.301651  \n",
       "2             16.963739  \n",
       "3             12.954562  \n",
       "4             15.866688  "
      ]
     },
     "execution_count": 224,
     "metadata": {},
     "output_type": "execute_result"
    }
   ],
   "source": [
    "sales.head()"
   ]
  },
  {
   "cell_type": "code",
   "execution_count": 335,
   "metadata": {
    "collapsed": false
   },
   "outputs": [],
   "source": [
    "# data.info()"
   ]
  },
  {
   "cell_type": "code",
   "execution_count": 336,
   "metadata": {
    "collapsed": false
   },
   "outputs": [],
   "source": [
    "data[\"Total Sales\"] = data[\"State Bottle Retail\"].mul(data[\"Bottles Sold\"])"
   ]
  },
  {
   "cell_type": "code",
   "execution_count": 337,
   "metadata": {
    "collapsed": true
   },
   "outputs": [],
   "source": [
    "data[\"Sales Margin\"] = (data[\"State Bottle Retail\"] - data[\"State Bottle Cost\"]) * data[\"Bottles Sold\"]"
   ]
  },
  {
   "cell_type": "code",
   "execution_count": 340,
   "metadata": {
    "collapsed": true
   },
   "outputs": [],
   "source": [
    "data[\"Total Volume Sold (Liters)\"] = data[\"Volume Sold (Liters)\"].mul(data[\"Bottles Sold\"])"
   ]
  },
  {
   "cell_type": "code",
   "execution_count": 341,
   "metadata": {
    "collapsed": false
   },
   "outputs": [],
   "source": [
    "market_data = data[[\"Store Number\", \"City\", \"Zip Code\", \"Bottles Sold\", \"Sales Margin\", \"Total Sales\", \"Item Description\", \"Category Name\", \"Total Volume Sold (Liters)\"]]"
   ]
  },
  {
   "cell_type": "code",
   "execution_count": 342,
   "metadata": {
    "collapsed": false,
    "scrolled": false
   },
   "outputs": [
    {
     "data": {
      "text/html": [
       "<div>\n",
       "<table border=\"1\" class=\"dataframe\">\n",
       "  <thead>\n",
       "    <tr style=\"text-align: right;\">\n",
       "      <th></th>\n",
       "      <th>Store Number</th>\n",
       "      <th>City</th>\n",
       "      <th>Zip Code</th>\n",
       "      <th>Bottles Sold</th>\n",
       "      <th>Sales Margin</th>\n",
       "      <th>Total Sales</th>\n",
       "      <th>Item Description</th>\n",
       "      <th>Category Name</th>\n",
       "      <th>Total Volume Sold (Liters)</th>\n",
       "    </tr>\n",
       "    <tr>\n",
       "      <th>Date</th>\n",
       "      <th></th>\n",
       "      <th></th>\n",
       "      <th></th>\n",
       "      <th></th>\n",
       "      <th></th>\n",
       "      <th></th>\n",
       "      <th></th>\n",
       "      <th></th>\n",
       "      <th></th>\n",
       "    </tr>\n",
       "  </thead>\n",
       "  <tbody>\n",
       "    <tr>\n",
       "      <th>2015-01-05</th>\n",
       "      <td>4303</td>\n",
       "      <td>MEDIAPOLIS</td>\n",
       "      <td>52637</td>\n",
       "      <td>4</td>\n",
       "      <td>5.52</td>\n",
       "      <td>16.52</td>\n",
       "      <td>Smirnoff Vodka 80 Prf</td>\n",
       "      <td>VODKA 80 PROOF</td>\n",
       "      <td>3.2</td>\n",
       "    </tr>\n",
       "    <tr>\n",
       "      <th>2015-01-05</th>\n",
       "      <td>2650</td>\n",
       "      <td>HARLAN</td>\n",
       "      <td>51537</td>\n",
       "      <td>3</td>\n",
       "      <td>30.96</td>\n",
       "      <td>92.85</td>\n",
       "      <td>Belvedere Vodka</td>\n",
       "      <td>IMPORTED VODKA</td>\n",
       "      <td>9.0</td>\n",
       "    </tr>\n",
       "    <tr>\n",
       "      <th>2015-01-05</th>\n",
       "      <td>2613</td>\n",
       "      <td>COUNCIL BLUFFS</td>\n",
       "      <td>51501</td>\n",
       "      <td>2</td>\n",
       "      <td>7.86</td>\n",
       "      <td>23.58</td>\n",
       "      <td>Smirnoff Silver Vodka 90 Prf</td>\n",
       "      <td>OTHER PROOF VODKA</td>\n",
       "      <td>3.0</td>\n",
       "    </tr>\n",
       "    <tr>\n",
       "      <th>2015-01-05</th>\n",
       "      <td>4806</td>\n",
       "      <td>WEST LIBERTY</td>\n",
       "      <td>52776</td>\n",
       "      <td>12</td>\n",
       "      <td>114.00</td>\n",
       "      <td>342.00</td>\n",
       "      <td>Ciroc Coconut</td>\n",
       "      <td>IMPORTED VODKA - MISC</td>\n",
       "      <td>108.0</td>\n",
       "    </tr>\n",
       "    <tr>\n",
       "      <th>2015-01-05</th>\n",
       "      <td>2650</td>\n",
       "      <td>HARLAN</td>\n",
       "      <td>51537</td>\n",
       "      <td>4</td>\n",
       "      <td>19.32</td>\n",
       "      <td>57.92</td>\n",
       "      <td>Titos Vodka</td>\n",
       "      <td>VODKA 80 PROOF</td>\n",
       "      <td>12.0</td>\n",
       "    </tr>\n",
       "  </tbody>\n",
       "</table>\n",
       "</div>"
      ],
      "text/plain": [
       "            Store Number            City Zip Code  Bottles Sold  Sales Margin  \\\n",
       "Date                                                                            \n",
       "2015-01-05          4303      MEDIAPOLIS    52637             4          5.52   \n",
       "2015-01-05          2650          HARLAN    51537             3         30.96   \n",
       "2015-01-05          2613  COUNCIL BLUFFS    51501             2          7.86   \n",
       "2015-01-05          4806    WEST LIBERTY    52776            12        114.00   \n",
       "2015-01-05          2650          HARLAN    51537             4         19.32   \n",
       "\n",
       "            Total Sales              Item Description          Category Name  \\\n",
       "Date                                                                           \n",
       "2015-01-05        16.52         Smirnoff Vodka 80 Prf         VODKA 80 PROOF   \n",
       "2015-01-05        92.85               Belvedere Vodka         IMPORTED VODKA   \n",
       "2015-01-05        23.58  Smirnoff Silver Vodka 90 Prf      OTHER PROOF VODKA   \n",
       "2015-01-05       342.00                 Ciroc Coconut  IMPORTED VODKA - MISC   \n",
       "2015-01-05        57.92                   Titos Vodka         VODKA 80 PROOF   \n",
       "\n",
       "            Total Volume Sold (Liters)  \n",
       "Date                                    \n",
       "2015-01-05                         3.2  \n",
       "2015-01-05                         9.0  \n",
       "2015-01-05                         3.0  \n",
       "2015-01-05                       108.0  \n",
       "2015-01-05                        12.0  "
      ]
     },
     "execution_count": 342,
     "metadata": {},
     "output_type": "execute_result"
    }
   ],
   "source": [
    "market_data.head()"
   ]
  },
  {
   "cell_type": "code",
   "execution_count": 295,
   "metadata": {
    "collapsed": false
   },
   "outputs": [],
   "source": [
    "twentyfifteen = market_data.loc[\"2015-01-05\":\"2016-01-04\"]"
   ]
  },
  {
   "cell_type": "code",
   "execution_count": 298,
   "metadata": {
    "collapsed": false,
    "scrolled": true
   },
   "outputs": [
    {
     "data": {
      "text/plain": [
       "158410014.54000542"
      ]
     },
     "execution_count": 298,
     "metadata": {},
     "output_type": "execute_result"
    }
   ],
   "source": [
    "twentyfifteen_volume = twentyfifteen[\"Total Volume Sold (Liters)\"].sum()\n",
    "twentyfifteen_volume"
   ]
  },
  {
   "cell_type": "code",
   "execution_count": 297,
   "metadata": {
    "collapsed": false
   },
   "outputs": [
    {
     "data": {
      "text/plain": [
       "28644382.880000506"
      ]
     },
     "execution_count": 297,
     "metadata": {},
     "output_type": "execute_result"
    }
   ],
   "source": [
    "twentyfifteen_sales = twentyfifteen[\"Total Sales\"].sum()\n",
    "twentyfifteen_sales"
   ]
  },
  {
   "cell_type": "code",
   "execution_count": 154,
   "metadata": {
    "collapsed": false
   },
   "outputs": [],
   "source": [
    "twenty_fifteen_one = data.loc[\"2015-01-05\":\"2015-04-04\"]"
   ]
  },
  {
   "cell_type": "code",
   "execution_count": 155,
   "metadata": {
    "collapsed": true
   },
   "outputs": [],
   "source": [
    "twentyfifteen_one = twenty_fifteen_one[[\"Store Number\", \"City\", \"Zip Code\", \"Total Sales\", \"Total Volume Sold (Liters)\", \"Item Description\", \"Category Name\"]]"
   ]
  },
  {
   "cell_type": "code",
   "execution_count": 156,
   "metadata": {
    "collapsed": true
   },
   "outputs": [
    {
     "data": {
      "text/html": [
       "<div>\n",
       "<table border=\"1\" class=\"dataframe\">\n",
       "  <thead>\n",
       "    <tr style=\"text-align: right;\">\n",
       "      <th></th>\n",
       "      <th>Store Number</th>\n",
       "      <th>City</th>\n",
       "      <th>Zip Code</th>\n",
       "      <th>Total Sales</th>\n",
       "      <th>Total Volume Sold (Liters)</th>\n",
       "      <th>Item Description</th>\n",
       "      <th>Category Name</th>\n",
       "    </tr>\n",
       "    <tr>\n",
       "      <th>Date</th>\n",
       "      <th></th>\n",
       "      <th></th>\n",
       "      <th></th>\n",
       "      <th></th>\n",
       "      <th></th>\n",
       "      <th></th>\n",
       "      <th></th>\n",
       "    </tr>\n",
       "  </thead>\n",
       "  <tbody>\n",
       "    <tr>\n",
       "      <th>2015-01-05</th>\n",
       "      <td>4303</td>\n",
       "      <td>MEDIAPOLIS</td>\n",
       "      <td>52637</td>\n",
       "      <td>16.52</td>\n",
       "      <td>3.2</td>\n",
       "      <td>Smirnoff Vodka 80 Prf</td>\n",
       "      <td>VODKA 80 PROOF</td>\n",
       "    </tr>\n",
       "    <tr>\n",
       "      <th>2015-01-05</th>\n",
       "      <td>2650</td>\n",
       "      <td>HARLAN</td>\n",
       "      <td>51537</td>\n",
       "      <td>92.85</td>\n",
       "      <td>9.0</td>\n",
       "      <td>Belvedere Vodka</td>\n",
       "      <td>IMPORTED VODKA</td>\n",
       "    </tr>\n",
       "    <tr>\n",
       "      <th>2015-01-05</th>\n",
       "      <td>2613</td>\n",
       "      <td>COUNCIL BLUFFS</td>\n",
       "      <td>51501</td>\n",
       "      <td>23.58</td>\n",
       "      <td>3.0</td>\n",
       "      <td>Smirnoff Silver Vodka 90 Prf</td>\n",
       "      <td>OTHER PROOF VODKA</td>\n",
       "    </tr>\n",
       "    <tr>\n",
       "      <th>2015-01-05</th>\n",
       "      <td>4806</td>\n",
       "      <td>WEST LIBERTY</td>\n",
       "      <td>52776</td>\n",
       "      <td>342.00</td>\n",
       "      <td>108.0</td>\n",
       "      <td>Ciroc Coconut</td>\n",
       "      <td>IMPORTED VODKA - MISC</td>\n",
       "    </tr>\n",
       "    <tr>\n",
       "      <th>2015-01-05</th>\n",
       "      <td>2650</td>\n",
       "      <td>HARLAN</td>\n",
       "      <td>51537</td>\n",
       "      <td>57.92</td>\n",
       "      <td>12.0</td>\n",
       "      <td>Titos Vodka</td>\n",
       "      <td>VODKA 80 PROOF</td>\n",
       "    </tr>\n",
       "  </tbody>\n",
       "</table>\n",
       "</div>"
      ],
      "text/plain": [
       "            Store Number            City Zip Code  Total Sales  \\\n",
       "Date                                                             \n",
       "2015-01-05          4303      MEDIAPOLIS    52637        16.52   \n",
       "2015-01-05          2650          HARLAN    51537        92.85   \n",
       "2015-01-05          2613  COUNCIL BLUFFS    51501        23.58   \n",
       "2015-01-05          4806    WEST LIBERTY    52776       342.00   \n",
       "2015-01-05          2650          HARLAN    51537        57.92   \n",
       "\n",
       "            Total Volume Sold (Liters)              Item Description  \\\n",
       "Date                                                                   \n",
       "2015-01-05                         3.2         Smirnoff Vodka 80 Prf   \n",
       "2015-01-05                         9.0               Belvedere Vodka   \n",
       "2015-01-05                         3.0  Smirnoff Silver Vodka 90 Prf   \n",
       "2015-01-05                       108.0                 Ciroc Coconut   \n",
       "2015-01-05                        12.0                   Titos Vodka   \n",
       "\n",
       "                    Category Name  \n",
       "Date                               \n",
       "2015-01-05         VODKA 80 PROOF  \n",
       "2015-01-05         IMPORTED VODKA  \n",
       "2015-01-05      OTHER PROOF VODKA  \n",
       "2015-01-05  IMPORTED VODKA - MISC  \n",
       "2015-01-05         VODKA 80 PROOF  "
      ]
     },
     "execution_count": 156,
     "metadata": {},
     "output_type": "execute_result"
    }
   ],
   "source": [
    "twentyfifteen_one = market_data.loc[\"2015-01-05\":\"2015-04-04\"]"
   ]
  },
  {
   "cell_type": "code",
   "execution_count": 136,
   "metadata": {
    "collapsed": true
   },
   "outputs": [],
   "source": [
    "twenty_fifteen_two = data.loc[\"2015-04-05\":\"2015-07-04\"]"
   ]
  },
  {
   "cell_type": "code",
   "execution_count": 137,
   "metadata": {
    "collapsed": true
   },
   "outputs": [],
   "source": [
    "twenty_fifteen_three = data.loc[\"2015-07-05\":\"2015-10-04\"]"
   ]
  },
  {
   "cell_type": "code",
   "execution_count": 138,
   "metadata": {
    "collapsed": true
   },
   "outputs": [],
   "source": [
    "twenty_fifteen_four = data.loc[\"2015-10-05\":\"2016-01-04\"]"
   ]
  },
  {
   "cell_type": "code",
   "execution_count": 139,
   "metadata": {
    "collapsed": true
   },
   "outputs": [],
   "source": [
    "twenty_sixteen_one = data[\"2015-01-05\":\"2016-03-31\"]"
   ]
  },
  {
   "cell_type": "code",
   "execution_count": 45,
   "metadata": {
    "collapsed": false
   },
   "outputs": [
    {
     "data": {
      "text/plain": [
       "['Store Number',\n",
       " 'City',\n",
       " 'Zip Code',\n",
       " 'County Number',\n",
       " 'County',\n",
       " 'Category',\n",
       " 'Category Name',\n",
       " 'Vendor Number',\n",
       " 'Item Number',\n",
       " 'Item Description',\n",
       " 'Bottle Volume (ml)',\n",
       " 'State Bottle Cost',\n",
       " 'State Bottle Retail',\n",
       " 'Bottles Sold',\n",
       " 'Sale (Dollars)',\n",
       " 'Volume Sold (Liters)',\n",
       " 'Volume Sold (Gallons)']"
      ]
     },
     "execution_count": 45,
     "metadata": {},
     "output_type": "execute_result"
    }
   ],
   "source": [
    "list(data.columns)"
   ]
  },
  {
   "cell_type": "code",
   "execution_count": null,
   "metadata": {
    "collapsed": true
   },
   "outputs": [],
   "source": []
  },
  {
   "cell_type": "code",
   "execution_count": 72,
   "metadata": {
    "collapsed": true
   },
   "outputs": [],
   "source": [
    "data[\"Date\"] = pd.to_datetime(data[\"Date\"], infer_datetime_format=True)"
   ]
  },
  {
   "cell_type": "code",
   "execution_count": 76,
   "metadata": {
    "collapsed": false
   },
   "outputs": [],
   "source": [
    "cols = [\"State Bottle Cost\", \"State Bottle Retail\", \"Sale (Dollars)\"]\n",
    "for col in cols:\n",
    "    data[col] = data[col].apply(lambda x: float(x.replace(\"$\", \"\")))"
   ]
  },
  {
   "cell_type": "code",
   "execution_count": 77,
   "metadata": {
    "collapsed": true
   },
   "outputs": [],
   "source": [
    "data = data.dropna()"
   ]
  },
  {
   "cell_type": "code",
   "execution_count": 78,
   "metadata": {
    "collapsed": false
   },
   "outputs": [
    {
     "data": {
      "text/html": [
       "<div>\n",
       "<table border=\"1\" class=\"dataframe\">\n",
       "  <thead>\n",
       "    <tr style=\"text-align: right;\">\n",
       "      <th></th>\n",
       "      <th>Date</th>\n",
       "      <th>Store Number</th>\n",
       "      <th>City</th>\n",
       "      <th>Zip Code</th>\n",
       "      <th>County Number</th>\n",
       "      <th>County</th>\n",
       "      <th>Category</th>\n",
       "      <th>Category Name</th>\n",
       "      <th>Vendor Number</th>\n",
       "      <th>Item Number</th>\n",
       "      <th>Item Description</th>\n",
       "      <th>Bottle Volume (ml)</th>\n",
       "      <th>State Bottle Cost</th>\n",
       "      <th>State Bottle Retail</th>\n",
       "      <th>Bottles Sold</th>\n",
       "      <th>Sale (Dollars)</th>\n",
       "      <th>Volume Sold (Liters)</th>\n",
       "      <th>Volume Sold (Gallons)</th>\n",
       "    </tr>\n",
       "  </thead>\n",
       "  <tbody>\n",
       "    <tr>\n",
       "      <th>0</th>\n",
       "      <td>2015-11-04</td>\n",
       "      <td>3717</td>\n",
       "      <td>SUMNER</td>\n",
       "      <td>50674</td>\n",
       "      <td>9.0</td>\n",
       "      <td>Bremer</td>\n",
       "      <td>1051100.0</td>\n",
       "      <td>APRICOT BRANDIES</td>\n",
       "      <td>55</td>\n",
       "      <td>54436</td>\n",
       "      <td>Mr. Boston Apricot Brandy</td>\n",
       "      <td>750</td>\n",
       "      <td>4.50</td>\n",
       "      <td>6.75</td>\n",
       "      <td>12</td>\n",
       "      <td>81.00</td>\n",
       "      <td>9.0</td>\n",
       "      <td>2.38</td>\n",
       "    </tr>\n",
       "    <tr>\n",
       "      <th>1</th>\n",
       "      <td>2016-03-02</td>\n",
       "      <td>2614</td>\n",
       "      <td>DAVENPORT</td>\n",
       "      <td>52807</td>\n",
       "      <td>82.0</td>\n",
       "      <td>Scott</td>\n",
       "      <td>1011100.0</td>\n",
       "      <td>BLENDED WHISKIES</td>\n",
       "      <td>395</td>\n",
       "      <td>27605</td>\n",
       "      <td>Tin Cup</td>\n",
       "      <td>750</td>\n",
       "      <td>13.75</td>\n",
       "      <td>20.63</td>\n",
       "      <td>2</td>\n",
       "      <td>41.26</td>\n",
       "      <td>1.5</td>\n",
       "      <td>0.40</td>\n",
       "    </tr>\n",
       "    <tr>\n",
       "      <th>2</th>\n",
       "      <td>2016-02-11</td>\n",
       "      <td>2106</td>\n",
       "      <td>CEDAR FALLS</td>\n",
       "      <td>50613</td>\n",
       "      <td>7.0</td>\n",
       "      <td>Black Hawk</td>\n",
       "      <td>1011200.0</td>\n",
       "      <td>STRAIGHT BOURBON WHISKIES</td>\n",
       "      <td>65</td>\n",
       "      <td>19067</td>\n",
       "      <td>Jim Beam</td>\n",
       "      <td>1000</td>\n",
       "      <td>12.59</td>\n",
       "      <td>18.89</td>\n",
       "      <td>24</td>\n",
       "      <td>453.36</td>\n",
       "      <td>24.0</td>\n",
       "      <td>6.34</td>\n",
       "    </tr>\n",
       "    <tr>\n",
       "      <th>3</th>\n",
       "      <td>2016-02-03</td>\n",
       "      <td>2501</td>\n",
       "      <td>AMES</td>\n",
       "      <td>50010</td>\n",
       "      <td>85.0</td>\n",
       "      <td>Story</td>\n",
       "      <td>1071100.0</td>\n",
       "      <td>AMERICAN COCKTAILS</td>\n",
       "      <td>395</td>\n",
       "      <td>59154</td>\n",
       "      <td>1800 Ultimate Margarita</td>\n",
       "      <td>1750</td>\n",
       "      <td>9.50</td>\n",
       "      <td>14.25</td>\n",
       "      <td>6</td>\n",
       "      <td>85.50</td>\n",
       "      <td>10.5</td>\n",
       "      <td>2.77</td>\n",
       "    </tr>\n",
       "    <tr>\n",
       "      <th>4</th>\n",
       "      <td>2015-08-18</td>\n",
       "      <td>3654</td>\n",
       "      <td>BELMOND</td>\n",
       "      <td>50421</td>\n",
       "      <td>99.0</td>\n",
       "      <td>Wright</td>\n",
       "      <td>1031080.0</td>\n",
       "      <td>VODKA 80 PROOF</td>\n",
       "      <td>297</td>\n",
       "      <td>35918</td>\n",
       "      <td>Five O'clock Vodka</td>\n",
       "      <td>1750</td>\n",
       "      <td>7.20</td>\n",
       "      <td>10.80</td>\n",
       "      <td>12</td>\n",
       "      <td>129.60</td>\n",
       "      <td>21.0</td>\n",
       "      <td>5.55</td>\n",
       "    </tr>\n",
       "  </tbody>\n",
       "</table>\n",
       "</div>"
      ],
      "text/plain": [
       "        Date  Store Number         City Zip Code  County Number      County  \\\n",
       "0 2015-11-04          3717       SUMNER    50674            9.0      Bremer   \n",
       "1 2016-03-02          2614    DAVENPORT    52807           82.0       Scott   \n",
       "2 2016-02-11          2106  CEDAR FALLS    50613            7.0  Black Hawk   \n",
       "3 2016-02-03          2501         AMES    50010           85.0       Story   \n",
       "4 2015-08-18          3654      BELMOND    50421           99.0      Wright   \n",
       "\n",
       "    Category              Category Name  Vendor Number  Item Number  \\\n",
       "0  1051100.0           APRICOT BRANDIES             55        54436   \n",
       "1  1011100.0           BLENDED WHISKIES            395        27605   \n",
       "2  1011200.0  STRAIGHT BOURBON WHISKIES             65        19067   \n",
       "3  1071100.0         AMERICAN COCKTAILS            395        59154   \n",
       "4  1031080.0             VODKA 80 PROOF            297        35918   \n",
       "\n",
       "            Item Description  Bottle Volume (ml)  State Bottle Cost  \\\n",
       "0  Mr. Boston Apricot Brandy                 750               4.50   \n",
       "1                    Tin Cup                 750              13.75   \n",
       "2                   Jim Beam                1000              12.59   \n",
       "3    1800 Ultimate Margarita                1750               9.50   \n",
       "4         Five O'clock Vodka                1750               7.20   \n",
       "\n",
       "   State Bottle Retail  Bottles Sold  Sale (Dollars)  Volume Sold (Liters)  \\\n",
       "0                 6.75            12           81.00                   9.0   \n",
       "1                20.63             2           41.26                   1.5   \n",
       "2                18.89            24          453.36                  24.0   \n",
       "3                14.25             6           85.50                  10.5   \n",
       "4                10.80            12          129.60                  21.0   \n",
       "\n",
       "   Volume Sold (Gallons)  \n",
       "0                   2.38  \n",
       "1                   0.40  \n",
       "2                   6.34  \n",
       "3                   2.77  \n",
       "4                   5.55  "
      ]
     },
     "execution_count": 78,
     "metadata": {},
     "output_type": "execute_result"
    }
   ],
   "source": [
    "data.head()"
   ]
  },
  {
   "cell_type": "code",
   "execution_count": 79,
   "metadata": {
    "collapsed": false
   },
   "outputs": [
    {
     "data": {
      "text/plain": [
       "count    269258.000000\n",
       "mean          9.763293\n",
       "std           7.039787\n",
       "min           0.890000\n",
       "25%           5.500000\n",
       "50%           8.000000\n",
       "75%          11.920000\n",
       "max         425.000000\n",
       "Name: State Bottle Cost, dtype: float64"
      ]
     },
     "execution_count": 79,
     "metadata": {},
     "output_type": "execute_result"
    }
   ],
   "source": [
    "data['State Bottle Cost'].describe()"
   ]
  },
  {
   "cell_type": "code",
   "execution_count": null,
   "metadata": {
    "collapsed": true
   },
   "outputs": [],
   "source": []
  },
  {
   "cell_type": "markdown",
   "metadata": {},
   "source": [
    "# Explore the data\n",
    "\n",
    "Perform some exploratory statistical analysis and make some plots, such as histograms of transaction totals, bottles sold, etc."
   ]
  },
  {
   "cell_type": "code",
   "execution_count": 4,
   "metadata": {
    "collapsed": true
   },
   "outputs": [],
   "source": [
    "# import seaborn as sns\n",
    "# import matplotlib.pyplot as plt"
   ]
  },
  {
   "cell_type": "markdown",
   "metadata": {},
   "source": [
    "## Record your findings\n",
    "\n",
    "Be sure to write out anything observations from your exploratory analysis."
   ]
  },
  {
   "cell_type": "markdown",
   "metadata": {},
   "source": [
    "# Mine the data\n",
    "Now you are ready to compute the variables you will use for your regression from the data. For example, you may want to\n",
    "compute total sales per store from Jan to March of 2015, mean price per bottle, etc. Refer to the readme for more ideas appropriate to your scenario.\n",
    "\n",
    "Pandas is your friend for this task. Take a look at the operations [here](http://pandas.pydata.org/pandas-docs/stable/groupby.html) for ideas on how to make the best use of pandas and feel free to search for blog and Stack Overflow posts to help you group data by certain variables and compute sums, means, etc. You may find it useful to create a new data frame to house this summary data."
   ]
  },
  {
   "cell_type": "markdown",
   "metadata": {},
   "source": [
    "# Refine the data\n",
    "Look for any statistical relationships, correlations, or other relevant properties of the dataset."
   ]
  },
  {
   "cell_type": "code",
   "execution_count": null,
   "metadata": {
    "collapsed": true
   },
   "outputs": [],
   "source": []
  },
  {
   "cell_type": "markdown",
   "metadata": {},
   "source": [
    "# Build your models\n",
    "\n",
    "Using scikit-learn or statsmodels, build the necessary models for your scenario. Evaluate model fit."
   ]
  },
  {
   "cell_type": "code",
   "execution_count": 6,
   "metadata": {
    "collapsed": true
   },
   "outputs": [],
   "source": [
    "from sklearn import linear_model\n"
   ]
  },
  {
   "cell_type": "markdown",
   "metadata": {},
   "source": [
    "## Plot your results\n",
    "\n",
    "Again make sure that you record any valuable information. For example, in the tax scenario, did you find the sales from the first three months of the year to be a good predictor of the total sales for the year? Plot the predictions versus the true values and discuss the successes and limitations of your models"
   ]
  },
  {
   "cell_type": "code",
   "execution_count": null,
   "metadata": {
    "collapsed": true
   },
   "outputs": [],
   "source": []
  },
  {
   "cell_type": "markdown",
   "metadata": {},
   "source": [
    "# Present the Results\n",
    "\n",
    "Present your conclusions and results. If you have more than one interesting model feel free to include more than one along with a discussion. Use your work in this notebook to prepare your write-up."
   ]
  },
  {
   "cell_type": "code",
   "execution_count": null,
   "metadata": {
    "collapsed": true
   },
   "outputs": [],
   "source": []
  }
 ],
 "metadata": {
  "anaconda-cloud": {},
  "kernelspec": {
   "display_name": "Python [default]",
   "language": "python",
   "name": "python3"
  },
  "language_info": {
   "codemirror_mode": {
    "name": "ipython",
    "version": 3
   },
   "file_extension": ".py",
   "mimetype": "text/x-python",
   "name": "python",
   "nbconvert_exporter": "python",
   "pygments_lexer": "ipython3",
   "version": "3.5.2"
  }
 },
 "nbformat": 4,
 "nbformat_minor": 0
}
