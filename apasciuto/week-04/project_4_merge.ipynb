{
 "cells": [
  {
   "cell_type": "code",
   "execution_count": 1,
   "metadata": {
    "collapsed": true
   },
   "outputs": [],
   "source": [
    "import numpy as np\n",
    "import pandas as pd"
   ]
  },
  {
   "cell_type": "code",
   "execution_count": null,
   "metadata": {
    "collapsed": true
   },
   "outputs": [],
   "source": [
    "# data[].fillna(0, inplace=True)"
   ]
  },
  {
   "cell_type": "code",
   "execution_count": 3,
   "metadata": {
    "collapsed": false
   },
   "outputs": [
    {
     "name": "stdout",
     "output_type": "stream",
     "text": [
      "<class 'pandas.core.frame.DataFrame'>\n",
      "RangeIndex: 305 entries, 0 to 304\n",
      "Data columns (total 3 columns):\n",
      "Unnamed: 0    305 non-null int64\n",
      "id            305 non-null object\n",
      "Python        305 non-null int64\n",
      "dtypes: int64(2), object(1)\n",
      "memory usage: 7.2+ KB\n"
     ]
    }
   ],
   "source": [
    "table_one = pd.read_csv(\"https://raw.githubusercontent.com/mohsseha/DSI-BOS-students/master/timote_hogan/Project-04/id_and_Python.csv\")\n",
    "table_one.info()"
   ]
  },
  {
   "cell_type": "code",
   "execution_count": 4,
   "metadata": {
    "collapsed": false
   },
   "outputs": [
    {
     "name": "stdout",
     "output_type": "stream",
     "text": [
      "<class 'pandas.core.frame.DataFrame'>\n",
      "RangeIndex: 1125 entries, 0 to 1124\n",
      "Data columns (total 3 columns):\n",
      "Unnamed: 0    1125 non-null int64\n",
      "id            1125 non-null object\n",
      "over_90k      1125 non-null int64\n",
      "dtypes: int64(2), object(1)\n",
      "memory usage: 26.4+ KB\n"
     ]
    }
   ],
   "source": [
    "table_two = pd.read_csv(\"https://raw.githubusercontent.com/mohsseha/DSI-BOS-students/master/timote_hogan/Project-04/id_salary.csv\")\n",
    "table_two.info()"
   ]
  },
  {
   "cell_type": "code",
   "execution_count": 5,
   "metadata": {
    "collapsed": false
   },
   "outputs": [
    {
     "name": "stdout",
     "output_type": "stream",
     "text": [
      "<class 'pandas.core.frame.DataFrame'>\n",
      "RangeIndex: 1000 entries, 0 to 999\n",
      "Data columns (total 3 columns):\n",
      "Unnamed: 0    1000 non-null int64\n",
      "id            1000 non-null object\n",
      "years         1000 non-null int64\n",
      "dtypes: int64(2), object(1)\n",
      "memory usage: 23.5+ KB\n"
     ]
    }
   ],
   "source": [
    "table_three = pd.read_csv(\"https://raw.githubusercontent.com/mohsseha/DSI-BOS-students/master/timote_hogan/Project-04/id_years.csv\")\n",
    "table_three.info()"
   ]
  },
  {
   "cell_type": "code",
   "execution_count": 6,
   "metadata": {
    "collapsed": false
   },
   "outputs": [
    {
     "name": "stdout",
     "output_type": "stream",
     "text": [
      "<class 'pandas.core.frame.DataFrame'>\n",
      "RangeIndex: 720 entries, 0 to 719\n",
      "Data columns (total 4 columns):\n",
      "Unnamed: 0    720 non-null int64\n",
      "job_id        720 non-null object\n",
      "has_phd       720 non-null int64\n",
      "title         720 non-null object\n",
      "dtypes: int64(2), object(2)\n",
      "memory usage: 22.6+ KB\n"
     ]
    }
   ],
   "source": [
    "table_four = pd.read_csv(\"https://raw.githubusercontent.com/mohsseha/DSI-BOS-students/master/timote_hogan/Project-04/phd_df.csv\")\n",
    "table_four.info()\n"
   ]
  },
  {
   "cell_type": "code",
   "execution_count": 12,
   "metadata": {
    "collapsed": false
   },
   "outputs": [],
   "source": [
    "table_four = table_four.drop('title', axis=1)"
   ]
  },
  {
   "cell_type": "code",
   "execution_count": 13,
   "metadata": {
    "collapsed": false
   },
   "outputs": [
    {
     "data": {
      "text/plain": [
       "Index(['Unnamed: 0', 'job_id', 'has_phd'], dtype='object')"
      ]
     },
     "execution_count": 13,
     "metadata": {},
     "output_type": "execute_result"
    }
   ],
   "source": [
    "table_four.columns"
   ]
  },
  {
   "cell_type": "code",
   "execution_count": 14,
   "metadata": {
    "collapsed": false
   },
   "outputs": [
    {
     "name": "stdout",
     "output_type": "stream",
     "text": [
      "<class 'pandas.core.frame.DataFrame'>\n",
      "RangeIndex: 2490 entries, 0 to 2489\n",
      "Data columns (total 3 columns):\n",
      "Unnamed: 0     2490 non-null int64\n",
      "id             2490 non-null object\n",
      "has_startup    2490 non-null int64\n",
      "dtypes: int64(2), object(1)\n",
      "memory usage: 58.4+ KB\n"
     ]
    }
   ],
   "source": [
    "table_five = pd.read_csv(\"https://raw.githubusercontent.com/mohsseha/DSI-BOS-students/master/timote_hogan/Project-04/startup_df.csv\")\n",
    "table_five.info()"
   ]
  },
  {
   "cell_type": "code",
   "execution_count": null,
   "metadata": {
    "collapsed": true
   },
   "outputs": [],
   "source": [
    "table_six = pd.read_csv(\"\")\n",
    "table_six.info()"
   ]
  },
  {
   "cell_type": "code",
   "execution_count": null,
   "metadata": {
    "collapsed": true
   },
   "outputs": [],
   "source": []
  },
  {
   "cell_type": "code",
   "execution_count": null,
   "metadata": {
    "collapsed": true
   },
   "outputs": [],
   "source": [
    "first_merge = pd.merge(table_one, table_two, on='id')\n",
    "first_merge.info()"
   ]
  },
  {
   "cell_type": "code",
   "execution_count": null,
   "metadata": {
    "collapsed": true
   },
   "outputs": [],
   "source": [
    "second_merge = pd.merge(table_three, table_four, on='id')\n",
    "second_merge.info()"
   ]
  },
  {
   "cell_type": "code",
   "execution_count": null,
   "metadata": {
    "collapsed": true
   },
   "outputs": [],
   "source": [
    "third_merge = pd.merge(table_five, table_six, on='id')\n",
    "third_merge.info()"
   ]
  },
  {
   "cell_type": "code",
   "execution_count": null,
   "metadata": {
    "collapsed": true
   },
   "outputs": [],
   "source": [
    "indeed_jobs = pd.merge(fist_merge, second_merge, third_merge, on='id', how='left')\n",
    "indeed_jobs.info()"
   ]
  },
  {
   "cell_type": "code",
   "execution_count": null,
   "metadata": {
    "collapsed": true
   },
   "outputs": [],
   "source": [
    "indeed_jobs[\"\"].fillna(df[\"\", inplace=True)\n",
    "df"
   ]
  },
  {
   "cell_type": "code",
   "execution_count": null,
   "metadata": {
    "collapsed": true
   },
   "outputs": [],
   "source": [
    "indeed_jobs.to_csv('indeedJobs.csv')"
   ]
  },
  {
   "cell_type": "code",
   "execution_count": null,
   "metadata": {
    "collapsed": true
   },
   "outputs": [],
   "source": []
  },
  {
   "cell_type": "code",
   "execution_count": null,
   "metadata": {
    "collapsed": true
   },
   "outputs": [],
   "source": []
  },
  {
   "cell_type": "code",
   "execution_count": null,
   "metadata": {
    "collapsed": true
   },
   "outputs": [],
   "source": []
  }
 ],
 "metadata": {
  "kernelspec": {
   "display_name": "Python [default]",
   "language": "python",
   "name": "python3"
  },
  "language_info": {
   "codemirror_mode": {
    "name": "ipython",
    "version": 3
   },
   "file_extension": ".py",
   "mimetype": "text/x-python",
   "name": "python",
   "nbconvert_exporter": "python",
   "pygments_lexer": "ipython3",
   "version": "3.5.2"
  }
 },
 "nbformat": 4,
 "nbformat_minor": 1
}
