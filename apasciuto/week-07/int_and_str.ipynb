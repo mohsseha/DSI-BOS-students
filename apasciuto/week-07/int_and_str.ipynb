{
 "cells": [
  {
   "cell_type": "code",
   "execution_count": 11,
   "metadata": {
    "collapsed": false
   },
   "outputs": [
    {
     "data": {
      "text/plain": [
       "'V'"
      ]
     },
     "execution_count": 11,
     "metadata": {},
     "output_type": "execute_result"
    }
   ],
   "source": [
    "def int_to_str (integer):\n",
    "\n",
    "    returnstring=''\n",
    "    table=[['M',1000],['CM',900],['D',500],['CD',400],['C',100],['XC',90],['L',50],['XL',40],['X',10],['IX',9],['V',5],['IV',4],['I',1]]\n",
    "\n",
    "    for pair in table:\n",
    "\n",
    "        while integer-pair[1]>=0:\n",
    "\n",
    "            integer-=pair[1]\n",
    "            returnstring+=pair[0]\n",
    "\n",
    "    return returnstring\n",
    "\n",
    "int_to_str(5)"
   ]
  },
  {
   "cell_type": "code",
   "execution_count": 10,
   "metadata": {
    "collapsed": false
   },
   "outputs": [
    {
     "data": {
      "text/plain": [
       "5"
      ]
     },
     "execution_count": 10,
     "metadata": {},
     "output_type": "execute_result"
    }
   ],
   "source": [
    "def str_to_int(string):\n",
    "\n",
    "    table=[['M',1000],['CM',900],['D',500],['CD',400],['C',100],['XC',90],['L',50],['XL',40],['X',10],['IX',9],['V',5],['IV',4],['I',1]]\n",
    "    returnint=0\n",
    "    \n",
    "    for pair in table:\n",
    "\n",
    "        cont=True\n",
    "\n",
    "        while cont:\n",
    "            if len(string)>=len(pair[0]):\n",
    "\n",
    "                if string[0:len(pair[0])]==pair[0]:\n",
    "                    returnint+=pair[1]\n",
    "                    string=string[len(pair[0]):]\n",
    "\n",
    "                else: cont=False\n",
    "            else: cont=False\n",
    "\n",
    "    return returnint\n",
    "\n",
    "str_to_int(\"V\")"
   ]
  },
  {
   "cell_type": "code",
   "execution_count": null,
   "metadata": {
    "collapsed": true
   },
   "outputs": [],
   "source": []
  }
 ],
 "metadata": {
  "anaconda-cloud": {},
  "kernelspec": {
   "display_name": "Python [default]",
   "language": "python",
   "name": "python3"
  },
  "language_info": {
   "codemirror_mode": {
    "name": "ipython",
    "version": 3
   },
   "file_extension": ".py",
   "mimetype": "text/x-python",
   "name": "python",
   "nbconvert_exporter": "python",
   "pygments_lexer": "ipython3",
   "version": "3.5.2"
  }
 },
 "nbformat": 4,
 "nbformat_minor": 1
}
