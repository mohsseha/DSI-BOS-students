{
 "cells": [
  {
   "cell_type": "code",
   "execution_count": 4,
   "metadata": {
    "collapsed": true
   },
   "outputs": [],
   "source": [
    "def tree_build(elem, tree):\n",
    "    if \"node\" not in tree:\n",
    "        tree[\"node\"] = elem\n",
    "    else:\n",
    "        if elem < tree[\"node\"]:\n",
    "            if \"left\" in tree:\n",
    "                tree_build(elem, tree[\"left\"])\n",
    "            else:\n",
    "                tree[\"left\"] = {}\n",
    "                tree[\"left\"][\"node\"] = elem\n",
    "        if elem >tree[\"node\"]:\n",
    "            if \"right\" in tree:\n",
    "                tree_build(elem, tree[\"right\"])\n",
    "            else:\n",
    "                tree[\"right\"] = {}\n",
    "                tree[\"right\"][\"node\"] = elem\n",
    "                \n",
    "    return(tree)"
   ]
  },
  {
   "cell_type": "code",
   "execution_count": 9,
   "metadata": {
    "collapsed": false
   },
   "outputs": [],
   "source": [
    "# Build list and RANDOMIZE order\n",
    "import random\n",
    "l = list(range(1,10))\n",
    "random.shuffle(l)\n",
    "\n",
    "# Build tree\n",
    "tree = {}\n",
    "for elem in l:\n",
    "    tree = tree_build(elem, tree)"
   ]
  },
  {
   "cell_type": "code",
   "execution_count": 10,
   "metadata": {
    "collapsed": false
   },
   "outputs": [
    {
     "name": "stdout",
     "output_type": "stream",
     "text": [
      "[1, 9, 2, 3, 4, 7, 5, 6, 8]\n"
     ]
    },
    {
     "data": {
      "text/plain": [
       "{'node': 1,\n",
       " 'right': {'left': {'node': 2,\n",
       "   'right': {'node': 3,\n",
       "    'right': {'node': 4,\n",
       "     'right': {'left': {'node': 5, 'right': {'node': 6}},\n",
       "      'node': 7,\n",
       "      'right': {'node': 8}}}}},\n",
       "  'node': 9}}"
      ]
     },
     "execution_count": 10,
     "metadata": {},
     "output_type": "execute_result"
    }
   ],
   "source": [
    "print(l)\n",
    "(tree)"
   ]
  },
  {
   "cell_type": "code",
   "execution_count": 7,
   "metadata": {
    "collapsed": false
   },
   "outputs": [],
   "source": [
    "# Depth-first search\n",
    "def finditem(tree, entry):\n",
    "    flag = False\n",
    "    \n",
    "    if entry == tree[\"node\"]:\n",
    "        flag = True\n",
    "    \n",
    "    if entry < tree[\"node\"]:\n",
    "        if \"left\" in tree:\n",
    "            flag = finditem(tree[\"left\"], entry)\n",
    "    if entry > tree[\"node\"]:\n",
    "        if \"right\" in tree:\n",
    "            flag = finditem(tree[\"right\"], entry)\n",
    "     \n",
    "    return(flag)"
   ]
  },
  {
   "cell_type": "code",
   "execution_count": 8,
   "metadata": {
    "collapsed": false
   },
   "outputs": [
    {
     "name": "stdout",
     "output_type": "stream",
     "text": [
      "0 False\n",
      "1 True\n",
      "2 True\n",
      "3 True\n",
      "4 True\n",
      "5 True\n",
      "6 True\n",
      "7 True\n",
      "8 True\n",
      "9 True\n",
      "10 False\n",
      "11 False\n",
      "12 False\n",
      "13 False\n",
      "14 False\n",
      "15 False\n",
      "16 False\n",
      "17 False\n",
      "18 False\n",
      "19 False\n"
     ]
    }
   ],
   "source": [
    "# Check\n",
    "for i in range(20):\n",
    "    print(i, finditem(tree, i))"
   ]
  },
  {
   "cell_type": "code",
   "execution_count": 166,
   "metadata": {
    "collapsed": false
   },
   "outputs": [],
   "source": []
  }
 ],
 "metadata": {
  "anaconda-cloud": {},
  "kernelspec": {
   "display_name": "Python [default]",
   "language": "python",
   "name": "python3"
  },
  "language_info": {
   "codemirror_mode": {
    "name": "ipython",
    "version": 3
   },
   "file_extension": ".py",
   "mimetype": "text/x-python",
   "name": "python",
   "nbconvert_exporter": "python",
   "pygments_lexer": "ipython3",
   "version": "3.5.2"
  }
 },
 "nbformat": 4,
 "nbformat_minor": 1
}
