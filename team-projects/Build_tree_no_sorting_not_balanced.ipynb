{
 "cells": [
  {
   "cell_type": "code",
   "execution_count": 2,
   "metadata": {
    "collapsed": true
   },
   "outputs": [],
   "source": [
    "import random"
   ]
  },
  {
   "cell_type": "code",
   "execution_count": 8,
   "metadata": {
    "collapsed": false
   },
   "outputs": [],
   "source": [
    "def tree_build_util(elem, tree):\n",
    "    if \"node\" not in tree:\n",
    "        tree[\"node\"] = elem\n",
    "    else:\n",
    "        if elem < tree[\"node\"]:\n",
    "            if \"left\" in tree:\n",
    "                tree_build_util(elem, tree[\"left\"])\n",
    "            else:\n",
    "                tree[\"left\"] = {}\n",
    "                tree[\"left\"][\"node\"] = elem\n",
    "        if elem >tree[\"node\"]:\n",
    "            if \"right\" in tree:\n",
    "                tree_build_util(elem, tree[\"right\"])\n",
    "            else:\n",
    "                tree[\"right\"] = {}\n",
    "                tree[\"right\"][\"node\"] = elem\n",
    "                \n",
    "    return(tree)\n",
    "\n",
    "def tree_build(elem_list):\n",
    "    random.shuffle(elem_list)\n",
    "    tree={}\n",
    "    for elem in elem_list:\n",
    "        tree = tree_build_util(elem,tree)\n",
    "    return tree"
   ]
  },
  {
   "cell_type": "code",
   "execution_count": 11,
   "metadata": {
    "collapsed": false
   },
   "outputs": [],
   "source": [
    "def tree_build(elem_list):\n",
    "    random.shuffle(elem_list)\n",
    "    tree={}\n",
    "    for elem in elem_list:\n",
    "        tree = tree_build_util(elem,tree)\n",
    "    return tree"
   ]
  },
  {
   "cell_type": "code",
   "execution_count": 17,
   "metadata": {
    "collapsed": false
   },
   "outputs": [
    {
     "name": "stdout",
     "output_type": "stream",
     "text": [
      "CPU times: user 15.1 s, sys: 481 ms, total: 15.6 s\n",
      "Wall time: 16.4 s\n"
     ]
    }
   ],
   "source": [
    "%time tree=tree_build(list(range(1000000)))"
   ]
  },
  {
   "cell_type": "code",
   "execution_count": 18,
   "metadata": {
    "collapsed": false
   },
   "outputs": [],
   "source": [
    "# Depth-first search\n",
    "def finditem(tree, entry):\n",
    "    flag = False\n",
    "    \n",
    "    if entry == tree[\"node\"]:\n",
    "        flag = True\n",
    "    \n",
    "    if entry < tree[\"node\"]:\n",
    "        if \"left\" in tree:\n",
    "            flag = finditem(tree[\"left\"], entry)\n",
    "    if entry > tree[\"node\"]:\n",
    "        if \"right\" in tree:\n",
    "            flag = finditem(tree[\"right\"], entry)\n",
    "     \n",
    "    return(flag)"
   ]
  },
  {
   "cell_type": "code",
   "execution_count": 22,
   "metadata": {
    "collapsed": false
   },
   "outputs": [
    {
     "name": "stdout",
     "output_type": "stream",
     "text": [
      "CPU times: user 23 µs, sys: 1 µs, total: 24 µs\n",
      "Wall time: 26.9 µs\n"
     ]
    },
    {
     "data": {
      "text/plain": [
       "False"
      ]
     },
     "execution_count": 22,
     "metadata": {},
     "output_type": "execute_result"
    }
   ],
   "source": [
    "# Check\n",
    "%time finditem(tree,100000000)"
   ]
  },
  {
   "cell_type": "code",
   "execution_count": 166,
   "metadata": {
    "collapsed": false
   },
   "outputs": [],
   "source": []
  }
 ],
 "metadata": {
  "anaconda-cloud": {},
  "kernelspec": {
   "display_name": "Python [default]",
   "language": "python",
   "name": "python3"
  },
  "language_info": {
   "codemirror_mode": {
    "name": "ipython",
    "version": 3
   },
   "file_extension": ".py",
   "mimetype": "text/x-python",
   "name": "python",
   "nbconvert_exporter": "python",
   "pygments_lexer": "ipython3",
   "version": "3.5.2"
  }
 },
 "nbformat": 4,
 "nbformat_minor": 1
}
