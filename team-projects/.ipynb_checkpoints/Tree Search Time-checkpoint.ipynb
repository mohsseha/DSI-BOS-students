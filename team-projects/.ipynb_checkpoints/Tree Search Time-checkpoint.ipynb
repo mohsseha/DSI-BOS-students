{
 "cells": [
  {
   "cell_type": "code",
   "execution_count": 24,
   "metadata": {
    "collapsed": false
   },
   "outputs": [],
   "source": [
    "import matplotlib.pyplot as plt\n",
    "import seaborn as sns\n",
    "import random\n",
    "import timeit\n",
    "import numpy as np"
   ]
  },
  {
   "cell_type": "code",
   "execution_count": 25,
   "metadata": {
    "collapsed": false
   },
   "outputs": [],
   "source": [
    "def depthsearch(tree, entry):\n",
    "    flag = False\n",
    "    if entry == tree[\"node\"]:\n",
    "        flag = True\n",
    "    if entry < tree[\"node\"]:\n",
    "        if \"left\" in tree:\n",
    "            flag = depthsearch(tree[\"left\"], entry)\n",
    "    if entry > tree[\"node\"]:\n",
    "        if \"right\" in tree:\n",
    "            flag = depthsearch(tree[\"right\"], entry)\n",
    "    return(flag)"
   ]
  },
  {
   "cell_type": "code",
   "execution_count": 26,
   "metadata": {
    "collapsed": false
   },
   "outputs": [
    {
     "data": {
      "text/plain": [
       "{'left': {'left': {'left': {'left': {'left': {'left': {'left': {'left': {'left': {'left': {'left': {'left': {'left': {'left': {'left': {'left': {'left': {'left': {'left': {'left': {'left': {'left': {'left': {'left': {'left': {'left': {'left': {'left': {'left': {'left': {'left': {'left': {'left': {'left': {'left': {'left': {'left': {'left': {'left': {'left': {'left': {'left': {'left': {'left': {'left': {'left': {'left': {'left': {'left': {'left': {'node': 0},\n",
       "                                                  'node': 1},\n",
       "                                                 'node': 2},\n",
       "                                                'node': 3},\n",
       "                                               'node': 4},\n",
       "                                              'node': 5},\n",
       "                                             'node': 6},\n",
       "                                            'node': 7},\n",
       "                                           'node': 8},\n",
       "                                          'node': 9},\n",
       "                                         'node': 10},\n",
       "                                        'node': 11},\n",
       "                                       'node': 12},\n",
       "                                      'node': 13},\n",
       "                                     'node': 14},\n",
       "                                    'node': 15},\n",
       "                                   'node': 16},\n",
       "                                  'node': 17},\n",
       "                                 'node': 18},\n",
       "                                'node': 19},\n",
       "                               'node': 20},\n",
       "                              'node': 21},\n",
       "                             'node': 22},\n",
       "                            'node': 23},\n",
       "                           'node': 24},\n",
       "                          'node': 25},\n",
       "                         'node': 26},\n",
       "                        'node': 27},\n",
       "                       'node': 28},\n",
       "                      'node': 29},\n",
       "                     'node': 30},\n",
       "                    'node': 31},\n",
       "                   'node': 32},\n",
       "                  'node': 33},\n",
       "                 'node': 34},\n",
       "                'node': 35},\n",
       "               'node': 36},\n",
       "              'node': 37},\n",
       "             'node': 38},\n",
       "            'node': 39},\n",
       "           'node': 40},\n",
       "          'node': 41},\n",
       "         'node': 42},\n",
       "        'node': 43},\n",
       "       'node': 44},\n",
       "      'node': 45},\n",
       "     'node': 46},\n",
       "    'node': 47},\n",
       "   'node': 48},\n",
       "  'node': 49},\n",
       " 'node': 50,\n",
       " 'right': {'node': 51,\n",
       "  'right': {'node': 52,\n",
       "   'right': {'node': 53,\n",
       "    'right': {'node': 54,\n",
       "     'right': {'node': 55,\n",
       "      'right': {'node': 56,\n",
       "       'right': {'node': 57,\n",
       "        'right': {'node': 58,\n",
       "         'right': {'node': 59,\n",
       "          'right': {'node': 60,\n",
       "           'right': {'node': 61,\n",
       "            'right': {'node': 62,\n",
       "             'right': {'node': 63,\n",
       "              'right': {'node': 64,\n",
       "               'right': {'node': 65,\n",
       "                'right': {'node': 66,\n",
       "                 'right': {'node': 67,\n",
       "                  'right': {'node': 68,\n",
       "                   'right': {'node': 69,\n",
       "                    'right': {'node': 70,\n",
       "                     'right': {'node': 71,\n",
       "                      'right': {'node': 72,\n",
       "                       'right': {'node': 73,\n",
       "                        'right': {'node': 74,\n",
       "                         'right': {'node': 75,\n",
       "                          'right': {'node': 76,\n",
       "                           'right': {'node': 77,\n",
       "                            'right': {'node': 78,\n",
       "                             'right': {'node': 79,\n",
       "                              'right': {'node': 80,\n",
       "                               'right': {'node': 81,\n",
       "                                'right': {'node': 82,\n",
       "                                 'right': {'node': 83,\n",
       "                                  'right': {'node': 84,\n",
       "                                   'right': {'node': 85,\n",
       "                                    'right': {'node': 86,\n",
       "                                     'right': {'node': 87,\n",
       "                                      'right': {'node': 88,\n",
       "                                       'right': {'node': 89,\n",
       "                                        'right': {'node': 90,\n",
       "                                         'right': {'node': 91,\n",
       "                                          'right': {'node': 92,\n",
       "                                           'right': {'node': 93,\n",
       "                                            'right': {'node': 94,\n",
       "                                             'right': {'node': 95,\n",
       "                                              'right': {'node': 96,\n",
       "                                               'right': {'node': 97,\n",
       "                                                'right': {'node': 98,\n",
       "                                                 'right': {'node': 99}}}}}}}}}}}}}}}}}}}}}}}}}}}}}}}}}}}}}}}}}}}}}}}}}}"
      ]
     },
     "execution_count": 26,
     "metadata": {},
     "output_type": "execute_result"
    }
   ],
   "source": [
    "#this tree build does not work as expected\n",
    "def build_tree(number_list):\n",
    "    \n",
    "    # Sort the list\n",
    "    sorted_list = np.sort(number_list)\n",
    "    \n",
    "    # Find the median's value and index\n",
    "    median_value_index = int(len(sorted_list) / 2)\n",
    "    median = sorted_list[median_value_index]\n",
    "    \n",
    "    # Initialize the dictionaries\n",
    "    dictionary = {}\n",
    "    left_dictionary = {'node': sorted_list[0]}\n",
    "    right_dictionary = {'node': sorted_list[len(sorted_list) - 1]}\n",
    "    \n",
    "    # Build the left and right sides\n",
    "    for index in range(1, median_value_index):\n",
    "        left_dictionary = {'node': sorted_list[index], 'left': left_dictionary}\n",
    "        right_dictionary = {'node': sorted_list[len(sorted_list) - index - 1], 'right': right_dictionary}\n",
    "    \n",
    "    # Combine the dictionaries\n",
    "    dictionary = {'left': left_dictionary, \n",
    "                  'node': right_dictionary['node'], \n",
    "                  'right': right_dictionary['right']}\n",
    "    \n",
    "    # DEBUGGING\n",
    "    #print(sorted_list)\n",
    "    #print(\"node: \", dictionary['node'])\n",
    "    #print(\"left: \", dictionary['left'])\n",
    "    #print(\"right: \", dictionary['right'])\n",
    "    \n",
    "    return dictionary\n",
    "\n",
    "test_list = list(range(100))\n",
    "build_tree(test_list)"
   ]
  },
  {
   "cell_type": "code",
   "execution_count": 27,
   "metadata": {
    "collapsed": true
   },
   "outputs": [],
   "source": [
    "#function appends to a list for plotting, appends the length of time a search takes for the first N values of a list:\n",
    "def get_speeds(input_vector, N):\n",
    "    \n",
    "    #builds a tree based on the first N values of the input vector\n",
    "    tree = build_tree(input_vector[0:N]) # build the tree\n",
    "    \n",
    "    #create a random integer to search for within the tree\n",
    "    ri = input_vector[0]\n",
    "    \n",
    "    time = 0\n",
    "    #start timer\n",
    "    start = timeit.default_timer()\n",
    "    \n",
    "    #run search 100 times:\n",
    "    for j in range(100):\n",
    "        depthsearch(tree, ri)\n",
    "    #stop timer:\n",
    "    stop = timeit.default_timer()\n",
    "    \n",
    "    #get total time for 100 searches through the first N values in the input vector:\n",
    "    time = (stop - start)\n",
    "    \n",
    "    #append total time to the timer list\n",
    "    timer.append(time)\n",
    "  "
   ]
  },
  {
   "cell_type": "code",
   "execution_count": 28,
   "metadata": {
    "collapsed": false
   },
   "outputs": [
    {
     "data": {
      "image/png": "[encoded data removed]",
      "text/plain": [
       "<matplotlib.figure.Figure at 0xbdb7160>"
      ]
     },
     "metadata": {},
     "output_type": "display_data"
    }
   ],
   "source": [
    "#initiate a test list and timer list\n",
    "test_list = list(range(1000))\n",
    "timer = []\n",
    "\n",
    "#plots the speed of a tree search for the first N values within a list\n",
    "def plot_speeds(input_vector,N,steps):\n",
    "    #creates list of how many items to serach through\n",
    "    list_of_N = np.arange(1,N,steps)\n",
    "\n",
    "    \n",
    "#loop plots the time it takes to run a search each number of items it searches through\n",
    "    for i in list_of_N:\n",
    "        get_speeds(input_vector,N)\n",
    "    plt.plot(list_of_N,timer)\n",
    "    plt.show()\n",
    "    \n",
    "plot_speeds(test_list,5000,100)"
   ]
  }
 ],
 "metadata": {
  "anaconda-cloud": {},
  "kernelspec": {
   "display_name": "Python [conda root]",
   "language": "python",
   "name": "conda-root-py"
  },
  "language_info": {
   "codemirror_mode": {
    "name": "ipython",
    "version": 3
   },
   "file_extension": ".py",
   "mimetype": "text/x-python",
   "name": "python",
   "nbconvert_exporter": "python",
   "pygments_lexer": "ipython3",
   "version": "3.5.2"
  }
 },
 "nbformat": 4,
 "nbformat_minor": 1
}
