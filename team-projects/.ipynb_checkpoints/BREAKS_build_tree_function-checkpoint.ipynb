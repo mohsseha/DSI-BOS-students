{
 "cells": [
  {
   "cell_type": "code",
   "execution_count": 1,
   "metadata": {
    "collapsed": true
   },
   "outputs": [],
   "source": [
    "import random\n",
    "import numpy as np"
   ]
  },
  {
   "cell_type": "code",
   "execution_count": 2,
   "metadata": {
    "collapsed": false
   },
   "outputs": [
    {
     "data": {
      "text/plain": [
       "[0, 2, -1, -2, 0, -2]"
      ]
     },
     "execution_count": 2,
     "metadata": {},
     "output_type": "execute_result"
    }
   ],
   "source": [
    "# DEBUGGING: Make a test list\n",
    "\n",
    "test_list = [random.randint(-5, 5) for _ in range(6)]\n",
    "test_list"
   ]
  },
  {
   "cell_type": "code",
   "execution_count": 3,
   "metadata": {
    "collapsed": false
   },
   "outputs": [],
   "source": [
    "# Pseudocode:\n",
    "#     Sort the list\n",
    "#     Find the median value and its index in the list\n",
    "#     Build left- and right-hand trees, starting at the edges\n",
    "#     Combine the left- and right-hand trees\n",
    "\n",
    "def build_tree(number_list):\n",
    "    \n",
    "    # Sort the list\n",
    "    sorted_list = np.sort(number_list)\n",
    "    \n",
    "    # Find the median's value and index\n",
    "    median_value_index = int(len(sorted_list) / 2)\n",
    "    median = sorted_list[median_value_index]\n",
    "    \n",
    "    # Initialize the dictionaries\n",
    "    dictionary = {}\n",
    "    left_dictionary = {'node': sorted_list[0]}\n",
    "    right_dictionary = {'node': sorted_list[len(sorted_list) - 1]}\n",
    "    \n",
    "    # Build the left and right sides\n",
    "    for index in range(1, median_value_index):\n",
    "        left_dictionary = {'node': sorted_list[index], 'left': left_dictionary}\n",
    "        right_dictionary = {'node': sorted_list[len(sorted_list) - index - 1], 'right': right_dictionary}\n",
    "    \n",
    "    # Combine the dictionaries\n",
    "    dictionary = {'left': left_dictionary, \n",
    "                  'node': right_dictionary['node'], \n",
    "                  'right': right_dictionary['right']}\n",
    "    \n",
    "    # DEBUGGING\n",
    "    print(sorted_list)\n",
    "    print(\"node: \", dictionary['node'])\n",
    "    print(\"left: \", dictionary['left'])\n",
    "    print(\"right: \", dictionary['right'])\n",
    "    \n",
    "    return dictionary"
   ]
  },
  {
   "cell_type": "code",
   "execution_count": 4,
   "metadata": {
    "collapsed": false
   },
   "outputs": [
    {
     "name": "stdout",
     "output_type": "stream",
     "text": [
      "[-2 -2 -1  0  0  2]\n",
      "node:  0\n",
      "left:  {'left': {'left': {'node': -2}, 'node': -2}, 'node': -1}\n",
      "right:  {'right': {'node': 2}, 'node': 0}\n"
     ]
    },
    {
     "data": {
      "text/plain": [
       "{'left': {'left': {'left': {'node': -2}, 'node': -2}, 'node': -1},\n",
       " 'node': 0,\n",
       " 'right': {'node': 0, 'right': {'node': 2}}}"
      ]
     },
     "execution_count": 4,
     "metadata": {},
     "output_type": "execute_result"
    }
   ],
   "source": [
    "build_tree(test_list)"
   ]
  },
  {
   "cell_type": "code",
   "execution_count": null,
   "metadata": {
    "collapsed": true
   },
   "outputs": [],
   "source": []
  }
 ],
 "metadata": {
  "kernelspec": {
   "display_name": "Python [Root]",
   "language": "python",
   "name": "Python [Root]"
  },
  "language_info": {
   "codemirror_mode": {
    "name": "ipython",
    "version": 3
   },
   "file_extension": ".py",
   "mimetype": "text/x-python",
   "name": "python",
   "nbconvert_exporter": "python",
   "pygments_lexer": "ipython3",
   "version": "3.5.2"
  }
 },
 "nbformat": 4,
 "nbformat_minor": 0
}
