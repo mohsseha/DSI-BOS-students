{
 "cells": [
  {
   "cell_type": "code",
   "execution_count": null,
   "metadata": {
    "collapsed": true
   },
   "outputs": [],
   "source": [
    "import matplotlib.pyplot as plt\n",
    "import matplotlib\n",
    "import time\n",
    "\n",
    "def plot_points(points, size=5, title=\"\", x_label=\"\", y_label=\"\"): \n",
    "    fig = plt.figure()\n",
    "    fig.suptitle(title, fontsize=14, fontweight='bold')\n",
    "\n",
    "    ax = fig.add_subplot(111)\n",
    "    fig.subplots_adjust(top=0.85)\n",
    "    ax.set_title('x / y axes proportion is linear')\n",
    "\n",
    "    ax.set_xlabel(x_label)\n",
    "    ax.set_ylabel(y_label)\n",
    "    \n",
    "    plt.scatter(*zip(*points), s=size)\n",
    "    plt.show()\n",
    "\n",
    "def plot_benchmark(procedure, size_range, input_generator=lambda x:x, tries=1):\n",
    "    points = []\n",
    "    for size in size_range:\n",
    "        start = time.time()\n",
    "        for _ in range(tries):\n",
    "            result = procedure(input_generator(size))\n",
    "        points.append((size, (time.time() - start) / tries))\n",
    "    plot_points(points, size=0.1, title=\"Benchmark\", x_label=\"Input size\", y_label=\"Time in seconds\")\n",
    "        \n",
    "\n",
    "import random\n",
    "\n",
    "def random_bool_list(size):\n",
    "    return [random.randint(0, 1) for _ in range(size)]\n",
    "def count_ones(lst):\n",
    "    return lst.count(1)\n",
    "plot_benchmark(count_ones, range(300),input_generator=random_bool_list,tries=30)"
   ]
  }
 ],
 "metadata": {
  "kernelspec": {
   "display_name": "Python [default]",
   "language": "python",
   "name": "python3"
  },
  "language_info": {
   "codemirror_mode": {
    "name": "ipython",
    "version": 3
   },
   "file_extension": ".py",
   "mimetype": "text/x-python",
   "name": "python",
   "nbconvert_exporter": "python",
   "pygments_lexer": "ipython3",
   "version": "3.5.2"
  }
 },
 "nbformat": 4,
 "nbformat_minor": 1
}
