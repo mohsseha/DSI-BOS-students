{
 "cells": [
  {
   "cell_type": "code",
   "execution_count": 1,
   "metadata": {
    "collapsed": true
   },
   "outputs": [],
   "source": [
    "import pandas as pd\n",
    "import numpy as np\n",
    "import os\n",
    "from matplotlib import pyplot as plt\n",
    "import numpy as np\n",
    "import math\n",
    "from sklearn.preprocessing import StandardScaler\n",
    "from sklearn.decomposition import PCA "
   ]
  },
  {
   "cell_type": "markdown",
   "metadata": {},
   "source": [
    "# Case #1: Congressional Voting Data"
   ]
  },
  {
   "cell_type": "markdown",
   "metadata": {},
   "source": [
    "After you've downloaded the data from the repository, go ahead and load it with Pandas"
   ]
  },
  {
   "cell_type": "code",
   "execution_count": 227,
   "metadata": {
    "collapsed": false
   },
   "outputs": [],
   "source": [
    "df = pd.read_csv(\"../assets/datasets/votes.csv\")"
   ]
  },
  {
   "cell_type": "code",
   "execution_count": 228,
   "metadata": {
    "collapsed": false
   },
   "outputs": [
    {
     "data": {
      "text/html": [
       "<div>\n",
       "<table border=\"1\" class=\"dataframe\">\n",
       "  <thead>\n",
       "    <tr style=\"text-align: right;\">\n",
       "      <th></th>\n",
       "      <th>Unnamed: 0</th>\n",
       "      <th>Class</th>\n",
       "      <th>V1</th>\n",
       "      <th>V2</th>\n",
       "      <th>V3</th>\n",
       "      <th>V4</th>\n",
       "      <th>V5</th>\n",
       "      <th>V6</th>\n",
       "      <th>V7</th>\n",
       "      <th>V8</th>\n",
       "      <th>V9</th>\n",
       "      <th>V10</th>\n",
       "      <th>V11</th>\n",
       "      <th>V12</th>\n",
       "      <th>V13</th>\n",
       "      <th>V14</th>\n",
       "      <th>V15</th>\n",
       "      <th>V16</th>\n",
       "    </tr>\n",
       "  </thead>\n",
       "  <tbody>\n",
       "    <tr>\n",
       "      <th>0</th>\n",
       "      <td>1</td>\n",
       "      <td>republican</td>\n",
       "      <td>n</td>\n",
       "      <td>y</td>\n",
       "      <td>n</td>\n",
       "      <td>y</td>\n",
       "      <td>y</td>\n",
       "      <td>y</td>\n",
       "      <td>n</td>\n",
       "      <td>n</td>\n",
       "      <td>n</td>\n",
       "      <td>y</td>\n",
       "      <td>NaN</td>\n",
       "      <td>y</td>\n",
       "      <td>y</td>\n",
       "      <td>y</td>\n",
       "      <td>n</td>\n",
       "      <td>y</td>\n",
       "    </tr>\n",
       "    <tr>\n",
       "      <th>1</th>\n",
       "      <td>2</td>\n",
       "      <td>republican</td>\n",
       "      <td>n</td>\n",
       "      <td>y</td>\n",
       "      <td>n</td>\n",
       "      <td>y</td>\n",
       "      <td>y</td>\n",
       "      <td>y</td>\n",
       "      <td>n</td>\n",
       "      <td>n</td>\n",
       "      <td>n</td>\n",
       "      <td>n</td>\n",
       "      <td>n</td>\n",
       "      <td>y</td>\n",
       "      <td>y</td>\n",
       "      <td>y</td>\n",
       "      <td>n</td>\n",
       "      <td>NaN</td>\n",
       "    </tr>\n",
       "    <tr>\n",
       "      <th>2</th>\n",
       "      <td>3</td>\n",
       "      <td>democrat</td>\n",
       "      <td>NaN</td>\n",
       "      <td>y</td>\n",
       "      <td>y</td>\n",
       "      <td>NaN</td>\n",
       "      <td>y</td>\n",
       "      <td>y</td>\n",
       "      <td>n</td>\n",
       "      <td>n</td>\n",
       "      <td>n</td>\n",
       "      <td>n</td>\n",
       "      <td>y</td>\n",
       "      <td>n</td>\n",
       "      <td>y</td>\n",
       "      <td>y</td>\n",
       "      <td>n</td>\n",
       "      <td>n</td>\n",
       "    </tr>\n",
       "    <tr>\n",
       "      <th>3</th>\n",
       "      <td>4</td>\n",
       "      <td>democrat</td>\n",
       "      <td>n</td>\n",
       "      <td>y</td>\n",
       "      <td>y</td>\n",
       "      <td>n</td>\n",
       "      <td>NaN</td>\n",
       "      <td>y</td>\n",
       "      <td>n</td>\n",
       "      <td>n</td>\n",
       "      <td>n</td>\n",
       "      <td>n</td>\n",
       "      <td>y</td>\n",
       "      <td>n</td>\n",
       "      <td>y</td>\n",
       "      <td>n</td>\n",
       "      <td>n</td>\n",
       "      <td>y</td>\n",
       "    </tr>\n",
       "    <tr>\n",
       "      <th>4</th>\n",
       "      <td>5</td>\n",
       "      <td>democrat</td>\n",
       "      <td>y</td>\n",
       "      <td>y</td>\n",
       "      <td>y</td>\n",
       "      <td>n</td>\n",
       "      <td>y</td>\n",
       "      <td>y</td>\n",
       "      <td>n</td>\n",
       "      <td>n</td>\n",
       "      <td>n</td>\n",
       "      <td>n</td>\n",
       "      <td>y</td>\n",
       "      <td>NaN</td>\n",
       "      <td>y</td>\n",
       "      <td>y</td>\n",
       "      <td>y</td>\n",
       "      <td>y</td>\n",
       "    </tr>\n",
       "  </tbody>\n",
       "</table>\n",
       "</div>"
      ],
      "text/plain": [
       "   Unnamed: 0       Class   V1 V2 V3   V4   V5 V6 V7 V8 V9 V10  V11  V12 V13  \\\n",
       "0           1  republican    n  y  n    y    y  y  n  n  n   y  NaN    y   y   \n",
       "1           2  republican    n  y  n    y    y  y  n  n  n   n    n    y   y   \n",
       "2           3    democrat  NaN  y  y  NaN    y  y  n  n  n   n    y    n   y   \n",
       "3           4    democrat    n  y  y    n  NaN  y  n  n  n   n    y    n   y   \n",
       "4           5    democrat    y  y  y    n    y  y  n  n  n   n    y  NaN   y   \n",
       "\n",
       "  V14 V15  V16  \n",
       "0   y   n    y  \n",
       "1   y   n  NaN  \n",
       "2   y   n    n  \n",
       "3   n   n    y  \n",
       "4   y   y    y  "
      ]
     },
     "execution_count": 228,
     "metadata": {},
     "output_type": "execute_result"
    }
   ],
   "source": [
    "df.head()"
   ]
  },
  {
   "cell_type": "code",
   "execution_count": 229,
   "metadata": {
    "collapsed": true
   },
   "outputs": [],
   "source": [
    "del df[\"Unnamed: 0\"]\n",
    "y = df[\"Class\"]\n",
    "del df[\"Class\"]"
   ]
  },
  {
   "cell_type": "code",
   "execution_count": 230,
   "metadata": {
    "collapsed": true
   },
   "outputs": [],
   "source": [
    "for col in df.columns:\n",
    "    new = [-1 if (i==\"n\") else 1 if (i==\"y\") else 0 for i in df[col]]\n",
    "    df[col] = new"
   ]
  },
  {
   "cell_type": "code",
   "execution_count": 231,
   "metadata": {
    "collapsed": false
   },
   "outputs": [],
   "source": [
    "df[\"Class\"] = y"
   ]
  },
  {
   "cell_type": "code",
   "execution_count": 232,
   "metadata": {
    "collapsed": false
   },
   "outputs": [
    {
     "data": {
      "text/html": [
       "<div>\n",
       "<table border=\"1\" class=\"dataframe\">\n",
       "  <thead>\n",
       "    <tr style=\"text-align: right;\">\n",
       "      <th></th>\n",
       "      <th>V1</th>\n",
       "      <th>V2</th>\n",
       "      <th>V3</th>\n",
       "      <th>V4</th>\n",
       "      <th>V5</th>\n",
       "      <th>V6</th>\n",
       "      <th>V7</th>\n",
       "      <th>V8</th>\n",
       "      <th>V9</th>\n",
       "      <th>V10</th>\n",
       "      <th>V11</th>\n",
       "      <th>V12</th>\n",
       "      <th>V13</th>\n",
       "      <th>V14</th>\n",
       "      <th>V15</th>\n",
       "      <th>V16</th>\n",
       "      <th>Class</th>\n",
       "    </tr>\n",
       "  </thead>\n",
       "  <tbody>\n",
       "    <tr>\n",
       "      <th>0</th>\n",
       "      <td>-1</td>\n",
       "      <td>1</td>\n",
       "      <td>-1</td>\n",
       "      <td>1</td>\n",
       "      <td>1</td>\n",
       "      <td>1</td>\n",
       "      <td>-1</td>\n",
       "      <td>-1</td>\n",
       "      <td>-1</td>\n",
       "      <td>1</td>\n",
       "      <td>0</td>\n",
       "      <td>1</td>\n",
       "      <td>1</td>\n",
       "      <td>1</td>\n",
       "      <td>-1</td>\n",
       "      <td>1</td>\n",
       "      <td>republican</td>\n",
       "    </tr>\n",
       "    <tr>\n",
       "      <th>1</th>\n",
       "      <td>-1</td>\n",
       "      <td>1</td>\n",
       "      <td>-1</td>\n",
       "      <td>1</td>\n",
       "      <td>1</td>\n",
       "      <td>1</td>\n",
       "      <td>-1</td>\n",
       "      <td>-1</td>\n",
       "      <td>-1</td>\n",
       "      <td>-1</td>\n",
       "      <td>-1</td>\n",
       "      <td>1</td>\n",
       "      <td>1</td>\n",
       "      <td>1</td>\n",
       "      <td>-1</td>\n",
       "      <td>0</td>\n",
       "      <td>republican</td>\n",
       "    </tr>\n",
       "    <tr>\n",
       "      <th>2</th>\n",
       "      <td>0</td>\n",
       "      <td>1</td>\n",
       "      <td>1</td>\n",
       "      <td>0</td>\n",
       "      <td>1</td>\n",
       "      <td>1</td>\n",
       "      <td>-1</td>\n",
       "      <td>-1</td>\n",
       "      <td>-1</td>\n",
       "      <td>-1</td>\n",
       "      <td>1</td>\n",
       "      <td>-1</td>\n",
       "      <td>1</td>\n",
       "      <td>1</td>\n",
       "      <td>-1</td>\n",
       "      <td>-1</td>\n",
       "      <td>democrat</td>\n",
       "    </tr>\n",
       "    <tr>\n",
       "      <th>3</th>\n",
       "      <td>-1</td>\n",
       "      <td>1</td>\n",
       "      <td>1</td>\n",
       "      <td>-1</td>\n",
       "      <td>0</td>\n",
       "      <td>1</td>\n",
       "      <td>-1</td>\n",
       "      <td>-1</td>\n",
       "      <td>-1</td>\n",
       "      <td>-1</td>\n",
       "      <td>1</td>\n",
       "      <td>-1</td>\n",
       "      <td>1</td>\n",
       "      <td>-1</td>\n",
       "      <td>-1</td>\n",
       "      <td>1</td>\n",
       "      <td>democrat</td>\n",
       "    </tr>\n",
       "    <tr>\n",
       "      <th>4</th>\n",
       "      <td>1</td>\n",
       "      <td>1</td>\n",
       "      <td>1</td>\n",
       "      <td>-1</td>\n",
       "      <td>1</td>\n",
       "      <td>1</td>\n",
       "      <td>-1</td>\n",
       "      <td>-1</td>\n",
       "      <td>-1</td>\n",
       "      <td>-1</td>\n",
       "      <td>1</td>\n",
       "      <td>0</td>\n",
       "      <td>1</td>\n",
       "      <td>1</td>\n",
       "      <td>1</td>\n",
       "      <td>1</td>\n",
       "      <td>democrat</td>\n",
       "    </tr>\n",
       "  </tbody>\n",
       "</table>\n",
       "</div>"
      ],
      "text/plain": [
       "   V1  V2  V3  V4  V5  V6  V7  V8  V9  V10  V11  V12  V13  V14  V15  V16  \\\n",
       "0  -1   1  -1   1   1   1  -1  -1  -1    1    0    1    1    1   -1    1   \n",
       "1  -1   1  -1   1   1   1  -1  -1  -1   -1   -1    1    1    1   -1    0   \n",
       "2   0   1   1   0   1   1  -1  -1  -1   -1    1   -1    1    1   -1   -1   \n",
       "3  -1   1   1  -1   0   1  -1  -1  -1   -1    1   -1    1   -1   -1    1   \n",
       "4   1   1   1  -1   1   1  -1  -1  -1   -1    1    0    1    1    1    1   \n",
       "\n",
       "        Class  \n",
       "0  republican  \n",
       "1  republican  \n",
       "2    democrat  \n",
       "3    democrat  \n",
       "4    democrat  "
      ]
     },
     "execution_count": 232,
     "metadata": {},
     "output_type": "execute_result"
    }
   ],
   "source": [
    "df.head()"
   ]
  },
  {
   "cell_type": "markdown",
   "metadata": {},
   "source": [
    "Next, let's define the x and y variables: "
   ]
  },
  {
   "cell_type": "code",
   "execution_count": 233,
   "metadata": {
    "collapsed": false
   },
   "outputs": [],
   "source": [
    "df.to_csv(\"votes_corrected.csv\")"
   ]
  },
  {
   "cell_type": "code",
   "execution_count": 234,
   "metadata": {
    "collapsed": true
   },
   "outputs": [],
   "source": [
    "del df[\"Class\"]"
   ]
  },
  {
   "cell_type": "markdown",
   "metadata": {},
   "source": [
    "Next, create the covariance matrix from the standardized x-values and decompose these values to find the eigenvalues and eigenvectors"
   ]
  },
  {
   "cell_type": "code",
   "execution_count": 235,
   "metadata": {
    "collapsed": true
   },
   "outputs": [],
   "source": [
    "x = df.ix[:,0:16].values\n"
   ]
  },
  {
   "cell_type": "code",
   "execution_count": 236,
   "metadata": {
    "collapsed": false
   },
   "outputs": [
    {
     "name": "stderr",
     "output_type": "stream",
     "text": [
      "C:\\Program Files\\Anaconda3\\lib\\site-packages\\sklearn\\utils\\validation.py:429: DataConversionWarning: Data with input dtype int64 was converted to float64 by StandardScaler.\n",
      "  warnings.warn(msg, _DataConversionWarning)\n"
     ]
    }
   ],
   "source": [
    "xs = StandardScaler().fit_transform(x)"
   ]
  },
  {
   "cell_type": "code",
   "execution_count": 237,
   "metadata": {
    "collapsed": true
   },
   "outputs": [],
   "source": [
    "cov_mat = np.cov(xs.T)"
   ]
  },
  {
   "cell_type": "code",
   "execution_count": 238,
   "metadata": {
    "collapsed": true
   },
   "outputs": [],
   "source": [
    "eig_val, eig_vec = np.linalg.eig(cov_mat)"
   ]
  },
  {
   "cell_type": "markdown",
   "metadata": {},
   "source": [
    "Now, let's check the eigenvalues: "
   ]
  },
  {
   "cell_type": "code",
   "execution_count": 239,
   "metadata": {
    "collapsed": false
   },
   "outputs": [
    {
     "data": {
      "text/plain": [
       "array([ 7.41941927,  1.43046958,  1.13360175,  0.86493939,  0.80421642,\n",
       "        0.75270164,  0.13339919,  0.21590379,  0.24093066,  0.57627688,\n",
       "        0.30600181,  0.33179831,  0.5265407 ,  0.47299703,  0.39372229,\n",
       "        0.43394765])"
      ]
     },
     "execution_count": 239,
     "metadata": {},
     "output_type": "execute_result"
    }
   ],
   "source": [
    "eig_val"
   ]
  },
  {
   "cell_type": "markdown",
   "metadata": {},
   "source": [
    "And the eigenvectors: "
   ]
  },
  {
   "cell_type": "markdown",
   "metadata": {},
   "source": [
    "To find the principal componants, find the eigenpairs, and sort them from highest to lowest. "
   ]
  },
  {
   "cell_type": "markdown",
   "metadata": {
    "collapsed": true
   },
   "source": [
    "Now, calculate the explained variance. Recall the methods we learned in lesson 2.2!"
   ]
  },
  {
   "cell_type": "code",
   "execution_count": 240,
   "metadata": {
    "collapsed": false
   },
   "outputs": [],
   "source": [
    "total_eigen = sum(eig_val)\n",
    "varExpl = [(i/total_eigen)*100 for i in sorted(eig_val, reverse=True)]\n",
    "cum_var = np.cumsum(varExpl)"
   ]
  },
  {
   "cell_type": "markdown",
   "metadata": {},
   "source": [
    "Now, calculate the explained variance and the Cumulative explained variance"
   ]
  },
  {
   "cell_type": "code",
   "execution_count": 241,
   "metadata": {
    "collapsed": false
   },
   "outputs": [
    {
     "data": {
      "text/plain": [
       "array([  46.26476956,   55.1846517 ,   62.25337526,   67.64681919,\n",
       "         72.66161699,   77.35518756,   80.94863821,   84.23195232,\n",
       "         87.18138785,   89.8873258 ,   92.34243322,   94.41140546,\n",
       "         96.31952017,   97.82187513,   99.16817174,  100.        ])"
      ]
     },
     "execution_count": 241,
     "metadata": {},
     "output_type": "execute_result"
    }
   ],
   "source": [
    "cum_var"
   ]
  },
  {
   "cell_type": "code",
   "execution_count": 242,
   "metadata": {
    "collapsed": false
   },
   "outputs": [
    {
     "data": {
      "image/png": "[encoded data removed]",
      "text/plain": [
       "<matplotlib.figure.Figure at 0x25d9e04d278>"
      ]
     },
     "metadata": {},
     "output_type": "display_data"
    }
   ],
   "source": [
    "plt.ylabel(\"Cumulative variance\")\n",
    "plt.xlabel(\"# principal components\")\n",
    "plt.plot(cum_var)\n",
    "plt.show()"
   ]
  },
  {
   "cell_type": "markdown",
   "metadata": {},
   "source": [
    "Now, conduct the PCA using scikit learn"
   ]
  },
  {
   "cell_type": "code",
   "execution_count": 243,
   "metadata": {
    "collapsed": true
   },
   "outputs": [],
   "source": [
    "k = 5"
   ]
  },
  {
   "cell_type": "code",
   "execution_count": 244,
   "metadata": {
    "collapsed": false
   },
   "outputs": [],
   "source": [
    "pcask1 = PCA(n_components = k)\n",
    "pca_sk = pcask1.fit_transform(xs)"
   ]
  },
  {
   "cell_type": "code",
   "execution_count": 245,
   "metadata": {
    "collapsed": false
   },
   "outputs": [
    {
     "data": {
      "text/plain": [
       "435"
      ]
     },
     "execution_count": 245,
     "metadata": {},
     "output_type": "execute_result"
    }
   ],
   "source": [
    "len(pca_sk)"
   ]
  },
  {
   "cell_type": "code",
   "execution_count": 246,
   "metadata": {
    "collapsed": true
   },
   "outputs": [],
   "source": [
    "from sklearn.cluster import KMeans\n",
    "model1 = KMeans(n_clusters = 2)"
   ]
  },
  {
   "cell_type": "code",
   "execution_count": 247,
   "metadata": {
    "collapsed": false
   },
   "outputs": [
    {
     "data": {
      "text/plain": [
       "KMeans(algorithm='auto', copy_x=True, init='k-means++', max_iter=300,\n",
       "    n_clusters=2, n_init=10, n_jobs=1, precompute_distances='auto',\n",
       "    random_state=None, tol=0.0001, verbose=0)"
      ]
     },
     "execution_count": 247,
     "metadata": {},
     "output_type": "execute_result"
    }
   ],
   "source": [
    "model1.fit(pca_sk)"
   ]
  },
  {
   "cell_type": "code",
   "execution_count": 248,
   "metadata": {
    "collapsed": false
   },
   "outputs": [],
   "source": [
    "labels = model1.labels_"
   ]
  },
  {
   "cell_type": "code",
   "execution_count": 254,
   "metadata": {
    "collapsed": false
   },
   "outputs": [],
   "source": [
    "y_num = [0 if i == \"republican\" else 1 for i in y]"
   ]
  },
  {
   "cell_type": "code",
   "execution_count": 255,
   "metadata": {
    "collapsed": true
   },
   "outputs": [],
   "source": [
    "y_act = np.array(y_num)"
   ]
  },
  {
   "cell_type": "code",
   "execution_count": 256,
   "metadata": {
    "collapsed": false
   },
   "outputs": [
    {
     "data": {
      "text/plain": [
       "0.89824116927644893"
      ]
     },
     "execution_count": 256,
     "metadata": {},
     "output_type": "execute_result"
    }
   ],
   "source": [
    "y_act.dot(labels)/np.sqrt((y_act.dot(y_act))*(labels.dot(labels)))"
   ]
  },
  {
   "cell_type": "code",
   "execution_count": 257,
   "metadata": {
    "collapsed": true
   },
   "outputs": [],
   "source": [
    "from sklearn.metrics import confusion_matrix"
   ]
  },
  {
   "cell_type": "code",
   "execution_count": 258,
   "metadata": {
    "collapsed": false
   },
   "outputs": [
    {
     "data": {
      "text/plain": [
       "array([[158,  10],\n",
       "       [ 42, 225]])"
      ]
     },
     "execution_count": 258,
     "metadata": {},
     "output_type": "execute_result"
    }
   ],
   "source": [
    "confusion_matrix(y_num, labels)"
   ]
  },
  {
   "cell_type": "markdown",
   "metadata": {},
   "source": [
    "n = 5, array([[225,  42],\n",
    "       [ 10, 158]]), cor = 0.86"
   ]
  },
  {
   "cell_type": "markdown",
   "metadata": {
    "collapsed": true
   },
   "source": [
    "n= 10, array([[225,  42],\n",
    "       [ 10, 158]]), cor = 0.86"
   ]
  },
  {
   "cell_type": "markdown",
   "metadata": {
    "collapsed": true
   },
   "source": [
    "n = 17, array([[225,  42],\n",
    "       [ 10, 158]]) cor = 0.866"
   ]
  },
  {
   "cell_type": "code",
   "execution_count": 259,
   "metadata": {
    "collapsed": false
   },
   "outputs": [
    {
     "data": {
      "text/plain": [
       "array([[ 3.49638139,  0.08617499, -1.37262069, -0.54606522, -0.50874647],\n",
       "       [ 3.73464316,  0.61772426,  0.95019213, -0.28260878, -0.67194348],\n",
       "       [ 2.0581138 ,  2.82717954,  0.13865711,  0.44397967,  1.07274371],\n",
       "       ..., \n",
       "       [ 3.34355972,  0.74714846, -0.42868994,  0.53514793, -1.38084876],\n",
       "       [ 2.50672257, -1.74608814, -0.0407045 , -0.13138701, -0.87362757],\n",
       "       [ 3.68853581,  0.1699092 ,  0.28985992,  0.41312852,  1.20048722]])"
      ]
     },
     "execution_count": 259,
     "metadata": {},
     "output_type": "execute_result"
    }
   ],
   "source": [
    "pca_sk"
   ]
  },
  {
   "cell_type": "code",
   "execution_count": 260,
   "metadata": {
    "collapsed": true
   },
   "outputs": [],
   "source": [
    "pca1 = [i[0] for i in pca_sk]\n",
    "pca2 = [i[2] for i in pca_sk]"
   ]
  },
  {
   "cell_type": "code",
   "execution_count": 261,
   "metadata": {
    "collapsed": false
   },
   "outputs": [
    {
     "data": {
      "image/png": "[encoded data removed]",
      "text/plain": [
       "<matplotlib.figure.Figure at 0x25d9e0a2400>"
      ]
     },
     "metadata": {},
     "output_type": "display_data"
    }
   ],
   "source": [
    "plt.xlabel(\"pca1\")\n",
    "plt.xlabel(\"pca2\")\n",
    "plt.scatter(pca1, pca2)\n",
    "plt.show()"
   ]
  },
  {
   "cell_type": "code",
   "execution_count": 262,
   "metadata": {
    "collapsed": false
   },
   "outputs": [
    {
     "data": {
      "text/html": [
       "<div>\n",
       "<table border=\"1\" class=\"dataframe\">\n",
       "  <thead>\n",
       "    <tr style=\"text-align: right;\">\n",
       "      <th></th>\n",
       "      <th>V1</th>\n",
       "      <th>V2</th>\n",
       "      <th>V3</th>\n",
       "      <th>V4</th>\n",
       "      <th>V5</th>\n",
       "      <th>V6</th>\n",
       "      <th>V7</th>\n",
       "      <th>V8</th>\n",
       "      <th>V9</th>\n",
       "      <th>V10</th>\n",
       "      <th>V11</th>\n",
       "      <th>V12</th>\n",
       "      <th>V13</th>\n",
       "      <th>V14</th>\n",
       "      <th>V15</th>\n",
       "      <th>V16</th>\n",
       "      <th>party</th>\n",
       "    </tr>\n",
       "  </thead>\n",
       "  <tbody>\n",
       "    <tr>\n",
       "      <th>0</th>\n",
       "      <td>-1</td>\n",
       "      <td>1</td>\n",
       "      <td>-1</td>\n",
       "      <td>1</td>\n",
       "      <td>1</td>\n",
       "      <td>1</td>\n",
       "      <td>-1</td>\n",
       "      <td>-1</td>\n",
       "      <td>-1</td>\n",
       "      <td>1</td>\n",
       "      <td>0</td>\n",
       "      <td>1</td>\n",
       "      <td>1</td>\n",
       "      <td>1</td>\n",
       "      <td>-1</td>\n",
       "      <td>1</td>\n",
       "      <td>0</td>\n",
       "    </tr>\n",
       "    <tr>\n",
       "      <th>1</th>\n",
       "      <td>-1</td>\n",
       "      <td>1</td>\n",
       "      <td>-1</td>\n",
       "      <td>1</td>\n",
       "      <td>1</td>\n",
       "      <td>1</td>\n",
       "      <td>-1</td>\n",
       "      <td>-1</td>\n",
       "      <td>-1</td>\n",
       "      <td>-1</td>\n",
       "      <td>-1</td>\n",
       "      <td>1</td>\n",
       "      <td>1</td>\n",
       "      <td>1</td>\n",
       "      <td>-1</td>\n",
       "      <td>0</td>\n",
       "      <td>0</td>\n",
       "    </tr>\n",
       "    <tr>\n",
       "      <th>2</th>\n",
       "      <td>0</td>\n",
       "      <td>1</td>\n",
       "      <td>1</td>\n",
       "      <td>0</td>\n",
       "      <td>1</td>\n",
       "      <td>1</td>\n",
       "      <td>-1</td>\n",
       "      <td>-1</td>\n",
       "      <td>-1</td>\n",
       "      <td>-1</td>\n",
       "      <td>1</td>\n",
       "      <td>-1</td>\n",
       "      <td>1</td>\n",
       "      <td>1</td>\n",
       "      <td>-1</td>\n",
       "      <td>-1</td>\n",
       "      <td>1</td>\n",
       "    </tr>\n",
       "    <tr>\n",
       "      <th>3</th>\n",
       "      <td>-1</td>\n",
       "      <td>1</td>\n",
       "      <td>1</td>\n",
       "      <td>-1</td>\n",
       "      <td>0</td>\n",
       "      <td>1</td>\n",
       "      <td>-1</td>\n",
       "      <td>-1</td>\n",
       "      <td>-1</td>\n",
       "      <td>-1</td>\n",
       "      <td>1</td>\n",
       "      <td>-1</td>\n",
       "      <td>1</td>\n",
       "      <td>-1</td>\n",
       "      <td>-1</td>\n",
       "      <td>1</td>\n",
       "      <td>1</td>\n",
       "    </tr>\n",
       "    <tr>\n",
       "      <th>4</th>\n",
       "      <td>1</td>\n",
       "      <td>1</td>\n",
       "      <td>1</td>\n",
       "      <td>-1</td>\n",
       "      <td>1</td>\n",
       "      <td>1</td>\n",
       "      <td>-1</td>\n",
       "      <td>-1</td>\n",
       "      <td>-1</td>\n",
       "      <td>-1</td>\n",
       "      <td>1</td>\n",
       "      <td>0</td>\n",
       "      <td>1</td>\n",
       "      <td>1</td>\n",
       "      <td>1</td>\n",
       "      <td>1</td>\n",
       "      <td>1</td>\n",
       "    </tr>\n",
       "  </tbody>\n",
       "</table>\n",
       "</div>"
      ],
      "text/plain": [
       "   V1  V2  V3  V4  V5  V6  V7  V8  V9  V10  V11  V12  V13  V14  V15  V16  \\\n",
       "0  -1   1  -1   1   1   1  -1  -1  -1    1    0    1    1    1   -1    1   \n",
       "1  -1   1  -1   1   1   1  -1  -1  -1   -1   -1    1    1    1   -1    0   \n",
       "2   0   1   1   0   1   1  -1  -1  -1   -1    1   -1    1    1   -1   -1   \n",
       "3  -1   1   1  -1   0   1  -1  -1  -1   -1    1   -1    1   -1   -1    1   \n",
       "4   1   1   1  -1   1   1  -1  -1  -1   -1    1    0    1    1    1    1   \n",
       "\n",
       "   party  \n",
       "0      0  \n",
       "1      0  \n",
       "2      1  \n",
       "3      1  \n",
       "4      1  "
      ]
     },
     "execution_count": 262,
     "metadata": {},
     "output_type": "execute_result"
    }
   ],
   "source": [
    "df[\"party\"] = y_num\n",
    "df.head()"
   ]
  },
  {
   "cell_type": "code",
   "execution_count": 178,
   "metadata": {
    "collapsed": false
   },
   "outputs": [
    {
     "data": {
      "text/html": [
       "<div>\n",
       "<table border=\"1\" class=\"dataframe\">\n",
       "  <thead>\n",
       "    <tr style=\"text-align: right;\">\n",
       "      <th></th>\n",
       "      <th>V1</th>\n",
       "      <th>V2</th>\n",
       "      <th>V3</th>\n",
       "      <th>V4</th>\n",
       "      <th>V5</th>\n",
       "      <th>V6</th>\n",
       "      <th>V7</th>\n",
       "      <th>V8</th>\n",
       "      <th>V9</th>\n",
       "      <th>V10</th>\n",
       "      <th>V11</th>\n",
       "      <th>V12</th>\n",
       "      <th>V13</th>\n",
       "      <th>V14</th>\n",
       "      <th>V15</th>\n",
       "      <th>V16</th>\n",
       "      <th>party</th>\n",
       "    </tr>\n",
       "  </thead>\n",
       "  <tbody>\n",
       "    <tr>\n",
       "      <th>V1</th>\n",
       "      <td>1.000000</td>\n",
       "      <td>0.023232</td>\n",
       "      <td>0.397680</td>\n",
       "      <td>-0.421307</td>\n",
       "      <td>-0.369100</td>\n",
       "      <td>-0.402215</td>\n",
       "      <td>0.362022</td>\n",
       "      <td>0.399039</td>\n",
       "      <td>0.339840</td>\n",
       "      <td>-0.086469</td>\n",
       "      <td>0.105277</td>\n",
       "      <td>-0.411120</td>\n",
       "      <td>-0.348360</td>\n",
       "      <td>-0.370628</td>\n",
       "      <td>0.201782</td>\n",
       "      <td>0.116570</td>\n",
       "      <td>-0.405217</td>\n",
       "    </tr>\n",
       "    <tr>\n",
       "      <th>V2</th>\n",
       "      <td>0.023232</td>\n",
       "      <td>1.000000</td>\n",
       "      <td>-0.054237</td>\n",
       "      <td>0.076274</td>\n",
       "      <td>0.133882</td>\n",
       "      <td>0.149569</td>\n",
       "      <td>-0.203465</td>\n",
       "      <td>-0.103966</td>\n",
       "      <td>-0.190123</td>\n",
       "      <td>-0.122931</td>\n",
       "      <td>0.188786</td>\n",
       "      <td>-0.019364</td>\n",
       "      <td>0.223338</td>\n",
       "      <td>-0.016535</td>\n",
       "      <td>-0.110940</td>\n",
       "      <td>-0.091440</td>\n",
       "      <td>0.004212</td>\n",
       "    </tr>\n",
       "    <tr>\n",
       "      <th>V3</th>\n",
       "      <td>0.397680</td>\n",
       "      <td>-0.054237</td>\n",
       "      <td>1.000000</td>\n",
       "      <td>-0.725232</td>\n",
       "      <td>-0.651244</td>\n",
       "      <td>-0.431960</td>\n",
       "      <td>0.579655</td>\n",
       "      <td>0.698150</td>\n",
       "      <td>0.603294</td>\n",
       "      <td>0.022112</td>\n",
       "      <td>0.218328</td>\n",
       "      <td>-0.645382</td>\n",
       "      <td>-0.526661</td>\n",
       "      <td>-0.585085</td>\n",
       "      <td>0.478330</td>\n",
       "      <td>0.311423</td>\n",
       "      <td>-0.738946</td>\n",
       "    </tr>\n",
       "    <tr>\n",
       "      <th>V4</th>\n",
       "      <td>-0.421307</td>\n",
       "      <td>0.076274</td>\n",
       "      <td>-0.725232</td>\n",
       "      <td>1.000000</td>\n",
       "      <td>0.753347</td>\n",
       "      <td>0.476290</td>\n",
       "      <td>-0.580509</td>\n",
       "      <td>-0.694025</td>\n",
       "      <td>-0.639042</td>\n",
       "      <td>0.044360</td>\n",
       "      <td>-0.282151</td>\n",
       "      <td>0.690901</td>\n",
       "      <td>0.593952</td>\n",
       "      <td>0.647853</td>\n",
       "      <td>-0.538417</td>\n",
       "      <td>-0.270164</td>\n",
       "      <td>0.911456</td>\n",
       "    </tr>\n",
       "    <tr>\n",
       "      <th>V5</th>\n",
       "      <td>-0.369100</td>\n",
       "      <td>0.133882</td>\n",
       "      <td>-0.651244</td>\n",
       "      <td>0.753347</td>\n",
       "      <td>1.000000</td>\n",
       "      <td>0.624175</td>\n",
       "      <td>-0.694744</td>\n",
       "      <td>-0.827431</td>\n",
       "      <td>-0.782799</td>\n",
       "      <td>0.009348</td>\n",
       "      <td>-0.146776</td>\n",
       "      <td>0.634723</td>\n",
       "      <td>0.645797</td>\n",
       "      <td>0.695011</td>\n",
       "      <td>-0.558103</td>\n",
       "      <td>-0.274914</td>\n",
       "      <td>0.708580</td>\n",
       "    </tr>\n",
       "    <tr>\n",
       "      <th>V6</th>\n",
       "      <td>-0.402215</td>\n",
       "      <td>0.149569</td>\n",
       "      <td>-0.431960</td>\n",
       "      <td>0.476290</td>\n",
       "      <td>0.624175</td>\n",
       "      <td>1.000000</td>\n",
       "      <td>-0.544016</td>\n",
       "      <td>-0.553281</td>\n",
       "      <td>-0.573118</td>\n",
       "      <td>0.090209</td>\n",
       "      <td>0.014060</td>\n",
       "      <td>0.506593</td>\n",
       "      <td>0.546624</td>\n",
       "      <td>0.579975</td>\n",
       "      <td>-0.450018</td>\n",
       "      <td>-0.196053</td>\n",
       "      <td>0.426636</td>\n",
       "    </tr>\n",
       "    <tr>\n",
       "      <th>V7</th>\n",
       "      <td>0.362022</td>\n",
       "      <td>-0.203465</td>\n",
       "      <td>0.579655</td>\n",
       "      <td>-0.580509</td>\n",
       "      <td>-0.694744</td>\n",
       "      <td>-0.544016</td>\n",
       "      <td>1.000000</td>\n",
       "      <td>0.722267</td>\n",
       "      <td>0.657857</td>\n",
       "      <td>0.034410</td>\n",
       "      <td>0.042498</td>\n",
       "      <td>-0.536499</td>\n",
       "      <td>-0.570938</td>\n",
       "      <td>-0.519201</td>\n",
       "      <td>0.484321</td>\n",
       "      <td>0.351131</td>\n",
       "      <td>-0.513384</td>\n",
       "    </tr>\n",
       "    <tr>\n",
       "      <th>V8</th>\n",
       "      <td>0.399039</td>\n",
       "      <td>-0.103966</td>\n",
       "      <td>0.698150</td>\n",
       "      <td>-0.694025</td>\n",
       "      <td>-0.827431</td>\n",
       "      <td>-0.553281</td>\n",
       "      <td>0.722267</td>\n",
       "      <td>1.000000</td>\n",
       "      <td>0.742742</td>\n",
       "      <td>0.029609</td>\n",
       "      <td>0.137919</td>\n",
       "      <td>-0.615388</td>\n",
       "      <td>-0.607425</td>\n",
       "      <td>-0.624809</td>\n",
       "      <td>0.537815</td>\n",
       "      <td>0.318951</td>\n",
       "      <td>-0.649861</td>\n",
       "    </tr>\n",
       "    <tr>\n",
       "      <th>V9</th>\n",
       "      <td>0.339840</td>\n",
       "      <td>-0.190123</td>\n",
       "      <td>0.603294</td>\n",
       "      <td>-0.639042</td>\n",
       "      <td>-0.782799</td>\n",
       "      <td>-0.573118</td>\n",
       "      <td>0.657857</td>\n",
       "      <td>0.742742</td>\n",
       "      <td>1.000000</td>\n",
       "      <td>0.030900</td>\n",
       "      <td>0.043339</td>\n",
       "      <td>-0.586307</td>\n",
       "      <td>-0.527483</td>\n",
       "      <td>-0.556156</td>\n",
       "      <td>0.480704</td>\n",
       "      <td>0.292134</td>\n",
       "      <td>-0.617281</td>\n",
       "    </tr>\n",
       "    <tr>\n",
       "      <th>V10</th>\n",
       "      <td>-0.086469</td>\n",
       "      <td>-0.122931</td>\n",
       "      <td>0.022112</td>\n",
       "      <td>0.044360</td>\n",
       "      <td>0.009348</td>\n",
       "      <td>0.090209</td>\n",
       "      <td>0.034410</td>\n",
       "      <td>0.029609</td>\n",
       "      <td>0.030900</td>\n",
       "      <td>1.000000</td>\n",
       "      <td>-0.034410</td>\n",
       "      <td>0.040293</td>\n",
       "      <td>0.047579</td>\n",
       "      <td>0.116116</td>\n",
       "      <td>-0.056767</td>\n",
       "      <td>0.120774</td>\n",
       "      <td>0.083091</td>\n",
       "    </tr>\n",
       "    <tr>\n",
       "      <th>V11</th>\n",
       "      <td>0.105277</td>\n",
       "      <td>0.188786</td>\n",
       "      <td>0.218328</td>\n",
       "      <td>-0.282151</td>\n",
       "      <td>-0.146776</td>\n",
       "      <td>0.014060</td>\n",
       "      <td>0.042498</td>\n",
       "      <td>0.137919</td>\n",
       "      <td>0.043339</td>\n",
       "      <td>-0.034410</td>\n",
       "      <td>1.000000</td>\n",
       "      <td>-0.195707</td>\n",
       "      <td>-0.098048</td>\n",
       "      <td>-0.130878</td>\n",
       "      <td>0.149526</td>\n",
       "      <td>0.037639</td>\n",
       "      <td>-0.366655</td>\n",
       "    </tr>\n",
       "    <tr>\n",
       "      <th>V12</th>\n",
       "      <td>-0.411120</td>\n",
       "      <td>-0.019364</td>\n",
       "      <td>-0.645382</td>\n",
       "      <td>0.690901</td>\n",
       "      <td>0.634723</td>\n",
       "      <td>0.506593</td>\n",
       "      <td>-0.536499</td>\n",
       "      <td>-0.615388</td>\n",
       "      <td>-0.586307</td>\n",
       "      <td>0.040293</td>\n",
       "      <td>-0.195707</td>\n",
       "      <td>1.000000</td>\n",
       "      <td>0.544528</td>\n",
       "      <td>0.590937</td>\n",
       "      <td>-0.492121</td>\n",
       "      <td>-0.249075</td>\n",
       "      <td>0.688317</td>\n",
       "    </tr>\n",
       "    <tr>\n",
       "      <th>V13</th>\n",
       "      <td>-0.348360</td>\n",
       "      <td>0.223338</td>\n",
       "      <td>-0.526661</td>\n",
       "      <td>0.593952</td>\n",
       "      <td>0.645797</td>\n",
       "      <td>0.546624</td>\n",
       "      <td>-0.570938</td>\n",
       "      <td>-0.607425</td>\n",
       "      <td>-0.527483</td>\n",
       "      <td>0.047579</td>\n",
       "      <td>-0.098048</td>\n",
       "      <td>0.544528</td>\n",
       "      <td>1.000000</td>\n",
       "      <td>0.544490</td>\n",
       "      <td>-0.489417</td>\n",
       "      <td>-0.239097</td>\n",
       "      <td>0.539501</td>\n",
       "    </tr>\n",
       "    <tr>\n",
       "      <th>V14</th>\n",
       "      <td>-0.370628</td>\n",
       "      <td>-0.016535</td>\n",
       "      <td>-0.585085</td>\n",
       "      <td>0.647853</td>\n",
       "      <td>0.695011</td>\n",
       "      <td>0.579975</td>\n",
       "      <td>-0.519201</td>\n",
       "      <td>-0.624809</td>\n",
       "      <td>-0.556156</td>\n",
       "      <td>0.116116</td>\n",
       "      <td>-0.130878</td>\n",
       "      <td>0.590937</td>\n",
       "      <td>0.544490</td>\n",
       "      <td>1.000000</td>\n",
       "      <td>-0.529070</td>\n",
       "      <td>-0.202678</td>\n",
       "      <td>0.611807</td>\n",
       "    </tr>\n",
       "    <tr>\n",
       "      <th>V15</th>\n",
       "      <td>0.201782</td>\n",
       "      <td>-0.110940</td>\n",
       "      <td>0.478330</td>\n",
       "      <td>-0.538417</td>\n",
       "      <td>-0.558103</td>\n",
       "      <td>-0.450018</td>\n",
       "      <td>0.484321</td>\n",
       "      <td>0.537815</td>\n",
       "      <td>0.480704</td>\n",
       "      <td>-0.056767</td>\n",
       "      <td>0.149526</td>\n",
       "      <td>-0.492121</td>\n",
       "      <td>-0.489417</td>\n",
       "      <td>-0.529070</td>\n",
       "      <td>1.000000</td>\n",
       "      <td>0.193962</td>\n",
       "      <td>-0.518707</td>\n",
       "    </tr>\n",
       "    <tr>\n",
       "      <th>V16</th>\n",
       "      <td>0.116570</td>\n",
       "      <td>-0.091440</td>\n",
       "      <td>0.311423</td>\n",
       "      <td>-0.270164</td>\n",
       "      <td>-0.274914</td>\n",
       "      <td>-0.196053</td>\n",
       "      <td>0.351131</td>\n",
       "      <td>0.318951</td>\n",
       "      <td>0.292134</td>\n",
       "      <td>0.120774</td>\n",
       "      <td>0.037639</td>\n",
       "      <td>-0.249075</td>\n",
       "      <td>-0.239097</td>\n",
       "      <td>-0.202678</td>\n",
       "      <td>0.193962</td>\n",
       "      <td>1.000000</td>\n",
       "      <td>-0.219230</td>\n",
       "    </tr>\n",
       "    <tr>\n",
       "      <th>party</th>\n",
       "      <td>-0.405217</td>\n",
       "      <td>0.004212</td>\n",
       "      <td>-0.738946</td>\n",
       "      <td>0.911456</td>\n",
       "      <td>0.708580</td>\n",
       "      <td>0.426636</td>\n",
       "      <td>-0.513384</td>\n",
       "      <td>-0.649861</td>\n",
       "      <td>-0.617281</td>\n",
       "      <td>0.083091</td>\n",
       "      <td>-0.366655</td>\n",
       "      <td>0.688317</td>\n",
       "      <td>0.539501</td>\n",
       "      <td>0.611807</td>\n",
       "      <td>-0.518707</td>\n",
       "      <td>-0.219230</td>\n",
       "      <td>1.000000</td>\n",
       "    </tr>\n",
       "  </tbody>\n",
       "</table>\n",
       "</div>"
      ],
      "text/plain": [
       "             V1        V2        V3        V4        V5        V6        V7  \\\n",
       "V1     1.000000  0.023232  0.397680 -0.421307 -0.369100 -0.402215  0.362022   \n",
       "V2     0.023232  1.000000 -0.054237  0.076274  0.133882  0.149569 -0.203465   \n",
       "V3     0.397680 -0.054237  1.000000 -0.725232 -0.651244 -0.431960  0.579655   \n",
       "V4    -0.421307  0.076274 -0.725232  1.000000  0.753347  0.476290 -0.580509   \n",
       "V5    -0.369100  0.133882 -0.651244  0.753347  1.000000  0.624175 -0.694744   \n",
       "V6    -0.402215  0.149569 -0.431960  0.476290  0.624175  1.000000 -0.544016   \n",
       "V7     0.362022 -0.203465  0.579655 -0.580509 -0.694744 -0.544016  1.000000   \n",
       "V8     0.399039 -0.103966  0.698150 -0.694025 -0.827431 -0.553281  0.722267   \n",
       "V9     0.339840 -0.190123  0.603294 -0.639042 -0.782799 -0.573118  0.657857   \n",
       "V10   -0.086469 -0.122931  0.022112  0.044360  0.009348  0.090209  0.034410   \n",
       "V11    0.105277  0.188786  0.218328 -0.282151 -0.146776  0.014060  0.042498   \n",
       "V12   -0.411120 -0.019364 -0.645382  0.690901  0.634723  0.506593 -0.536499   \n",
       "V13   -0.348360  0.223338 -0.526661  0.593952  0.645797  0.546624 -0.570938   \n",
       "V14   -0.370628 -0.016535 -0.585085  0.647853  0.695011  0.579975 -0.519201   \n",
       "V15    0.201782 -0.110940  0.478330 -0.538417 -0.558103 -0.450018  0.484321   \n",
       "V16    0.116570 -0.091440  0.311423 -0.270164 -0.274914 -0.196053  0.351131   \n",
       "party -0.405217  0.004212 -0.738946  0.911456  0.708580  0.426636 -0.513384   \n",
       "\n",
       "             V8        V9       V10       V11       V12       V13       V14  \\\n",
       "V1     0.399039  0.339840 -0.086469  0.105277 -0.411120 -0.348360 -0.370628   \n",
       "V2    -0.103966 -0.190123 -0.122931  0.188786 -0.019364  0.223338 -0.016535   \n",
       "V3     0.698150  0.603294  0.022112  0.218328 -0.645382 -0.526661 -0.585085   \n",
       "V4    -0.694025 -0.639042  0.044360 -0.282151  0.690901  0.593952  0.647853   \n",
       "V5    -0.827431 -0.782799  0.009348 -0.146776  0.634723  0.645797  0.695011   \n",
       "V6    -0.553281 -0.573118  0.090209  0.014060  0.506593  0.546624  0.579975   \n",
       "V7     0.722267  0.657857  0.034410  0.042498 -0.536499 -0.570938 -0.519201   \n",
       "V8     1.000000  0.742742  0.029609  0.137919 -0.615388 -0.607425 -0.624809   \n",
       "V9     0.742742  1.000000  0.030900  0.043339 -0.586307 -0.527483 -0.556156   \n",
       "V10    0.029609  0.030900  1.000000 -0.034410  0.040293  0.047579  0.116116   \n",
       "V11    0.137919  0.043339 -0.034410  1.000000 -0.195707 -0.098048 -0.130878   \n",
       "V12   -0.615388 -0.586307  0.040293 -0.195707  1.000000  0.544528  0.590937   \n",
       "V13   -0.607425 -0.527483  0.047579 -0.098048  0.544528  1.000000  0.544490   \n",
       "V14   -0.624809 -0.556156  0.116116 -0.130878  0.590937  0.544490  1.000000   \n",
       "V15    0.537815  0.480704 -0.056767  0.149526 -0.492121 -0.489417 -0.529070   \n",
       "V16    0.318951  0.292134  0.120774  0.037639 -0.249075 -0.239097 -0.202678   \n",
       "party -0.649861 -0.617281  0.083091 -0.366655  0.688317  0.539501  0.611807   \n",
       "\n",
       "            V15       V16     party  \n",
       "V1     0.201782  0.116570 -0.405217  \n",
       "V2    -0.110940 -0.091440  0.004212  \n",
       "V3     0.478330  0.311423 -0.738946  \n",
       "V4    -0.538417 -0.270164  0.911456  \n",
       "V5    -0.558103 -0.274914  0.708580  \n",
       "V6    -0.450018 -0.196053  0.426636  \n",
       "V7     0.484321  0.351131 -0.513384  \n",
       "V8     0.537815  0.318951 -0.649861  \n",
       "V9     0.480704  0.292134 -0.617281  \n",
       "V10   -0.056767  0.120774  0.083091  \n",
       "V11    0.149526  0.037639 -0.366655  \n",
       "V12   -0.492121 -0.249075  0.688317  \n",
       "V13   -0.489417 -0.239097  0.539501  \n",
       "V14   -0.529070 -0.202678  0.611807  \n",
       "V15    1.000000  0.193962 -0.518707  \n",
       "V16    0.193962  1.000000 -0.219230  \n",
       "party -0.518707 -0.219230  1.000000  "
      ]
     },
     "execution_count": 178,
     "metadata": {},
     "output_type": "execute_result"
    }
   ],
   "source": [
    "df.corr()"
   ]
  },
  {
   "cell_type": "code",
   "execution_count": 179,
   "metadata": {
    "collapsed": true
   },
   "outputs": [],
   "source": [
    "del df[\"party\"]"
   ]
  },
  {
   "cell_type": "markdown",
   "metadata": {},
   "source": [
    "## Decision tree with top 5 features (from R values)"
   ]
  },
  {
   "cell_type": "code",
   "execution_count": 263,
   "metadata": {
    "collapsed": true
   },
   "outputs": [],
   "source": [
    "from sklearn.tree import DecisionTreeClassifier\n",
    "dtc = DecisionTreeClassifier()"
   ]
  },
  {
   "cell_type": "code",
   "execution_count": 264,
   "metadata": {
    "collapsed": false
   },
   "outputs": [],
   "source": [
    "X = df[[\"V3\", \"V4\", \"V5\", \"V8\", \"V12\"]]\n",
    "y = y_num"
   ]
  },
  {
   "cell_type": "code",
   "execution_count": 265,
   "metadata": {
    "collapsed": true
   },
   "outputs": [],
   "source": [
    "from sklearn.cross_validation import train_test_split"
   ]
  },
  {
   "cell_type": "code",
   "execution_count": 266,
   "metadata": {
    "collapsed": true
   },
   "outputs": [],
   "source": [
    "X_train, X_test, y_train, y_test = train_test_split(X, y, stratify = y, test_size = 0.3)"
   ]
  },
  {
   "cell_type": "code",
   "execution_count": 267,
   "metadata": {
    "collapsed": false
   },
   "outputs": [
    {
     "data": {
      "text/plain": [
       "DecisionTreeClassifier(class_weight=None, criterion='gini', max_depth=None,\n",
       "            max_features=None, max_leaf_nodes=None,\n",
       "            min_impurity_split=1e-07, min_samples_leaf=1,\n",
       "            min_samples_split=2, min_weight_fraction_leaf=0.0,\n",
       "            presort=False, random_state=None, splitter='best')"
      ]
     },
     "execution_count": 267,
     "metadata": {},
     "output_type": "execute_result"
    }
   ],
   "source": [
    "dtc.fit(X_train, y_train)"
   ]
  },
  {
   "cell_type": "code",
   "execution_count": 268,
   "metadata": {
    "collapsed": true
   },
   "outputs": [],
   "source": [
    "y_pred = dtc.predict(X_test)"
   ]
  },
  {
   "cell_type": "code",
   "execution_count": 269,
   "metadata": {
    "collapsed": true
   },
   "outputs": [],
   "source": [
    "from sklearn.metrics import accuracy_score"
   ]
  },
  {
   "cell_type": "code",
   "execution_count": 270,
   "metadata": {
    "collapsed": false
   },
   "outputs": [
    {
     "data": {
      "text/plain": [
       "0.95419847328244278"
      ]
     },
     "execution_count": 270,
     "metadata": {},
     "output_type": "execute_result"
    }
   ],
   "source": [
    "accuracy_score(y_test, y_pred)"
   ]
  },
  {
   "cell_type": "markdown",
   "metadata": {},
   "source": [
    "## Decision tree with top 5 features from PCA"
   ]
  },
  {
   "cell_type": "code",
   "execution_count": 271,
   "metadata": {
    "collapsed": true
   },
   "outputs": [],
   "source": [
    "dtc1 = DecisionTreeClassifier()\n",
    "X_train, X_test, y_train, y_test = train_test_split(pca_sk,y_num,test_size=0.3,stratify = y_num)\n",
    "dtc1.fit(X_train,y_train)\n",
    "\n",
    "predictions = dtc1.predict(X_test)"
   ]
  },
  {
   "cell_type": "code",
   "execution_count": 272,
   "metadata": {
    "collapsed": false
   },
   "outputs": [
    {
     "data": {
      "text/plain": [
       "0.92366412213740456"
      ]
     },
     "execution_count": 272,
     "metadata": {},
     "output_type": "execute_result"
    }
   ],
   "source": [
    "accuracy_score(y_test, predictions)"
   ]
  },
  {
   "cell_type": "markdown",
   "metadata": {},
   "source": [
    "## Logistic regression with top 5 PCA features"
   ]
  },
  {
   "cell_type": "code",
   "execution_count": null,
   "metadata": {
    "collapsed": true
   },
   "outputs": [],
   "source": [
    "model = LogisticRegression()\n",
    "\n",
    "model.fit(x, y)\n",
    "\n",
    "X_train, X_test, y_train, y_test = train_test_split(x, y, test_size=0.3, random_state=0)\n",
    "\n",
    "sc = StandardScaler()\n",
    "\n",
    "X_train_std = sc.fit_transform(X_train)\n",
    "\n",
    "X_test_std = sc.transform(X_test)\n",
    "\n",
    "C = [10, 1, .1, .001]\n",
    "\n",
    "for c in C:\n",
    "   clf = LogisticRegression(penalty='l2', C=c)\n",
    "   clf.fit(X_train, y_train)\n",
    "   print('C:', c)\n",
    "   print('Coefficient of each feature:', clf.coef_)\n",
    "   print('Training accuracy:', clf.score(X_train, y_train))\n",
    "   print('Test accuracy:', clf.score(X_test, y_test))\n",
    "   print(\"\")\n",
    "   \n",
    "logreg = LogisticRegression(random_state=77)\n",
    "logreg.fit(X_train, y_train)\n",
    "Y_pred = logreg.predict(X_test)\n",
    "\n",
    "Y_pp = pd.DataFrame(logreg.predict_proba(X_test), columns=['republicans','democrat'])\n",
    "print(Y_pp.iloc[0:20])"
   ]
  }
 ],
 "metadata": {
  "anaconda-cloud": {},
  "kernelspec": {
   "display_name": "Python [default]",
   "language": "python",
   "name": "python3"
  },
  "language_info": {
   "codemirror_mode": {
    "name": "ipython",
    "version": 3
   },
   "file_extension": ".py",
   "mimetype": "text/x-python",
   "name": "python",
   "nbconvert_exporter": "python",
   "pygments_lexer": "ipython3",
   "version": "3.5.2"
  }
 },
 "nbformat": 4,
 "nbformat_minor": 0
}
