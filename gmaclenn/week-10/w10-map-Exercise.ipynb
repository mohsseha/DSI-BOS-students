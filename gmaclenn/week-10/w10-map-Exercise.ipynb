{
 "cells": [
  {
   "cell_type": "code",
   "execution_count": 1,
   "metadata": {
    "collapsed": true
   },
   "outputs": [],
   "source": [
    "# map = [[False, True, False, False],\n",
    "#         [False, False, False, True],\n",
    "#         [False, False, False, False],\n",
    "#         [False, True, False False]]\n",
    "# you are given x = row, y = column\n",
    "# what is the shortest number of steps from (0, 0) to (X,Y)\n",
    "# distance from origin to x, y\n",
    "\n",
    "# there are two ways of doing this problem. One of them will work but will take exponential resources.\n",
    "# the other does not but don't necessarily try this. 0, 0 is always the top left."
   ]
  },
  {
   "cell_type": "code",
   "execution_count": 86,
   "metadata": {
    "collapsed": false
   },
   "outputs": [],
   "source": [
    "def dist_from_org_to_xy(x, y, map1):\n",
    "    counter = 0\n",
    "    cx = 0\n",
    "    cy = 0\n",
    "    max_x = len(map1)\n",
    "    max_y = len(map1[0])\n",
    "#     print max_x, max_y\n",
    "    for i in range(x):\n",
    "            counter +=1\n",
    "            cx += 1\n",
    "            print check_sides(map1, (i, 0))\n",
    "    print counter, cx"
   ]
  },
  {
   "cell_type": "code",
   "execution_count": null,
   "metadata": {
    "collapsed": false
   },
   "outputs": [],
   "source": [
    "dist_from_org_to_xy(map1, 0, 0)"
   ]
  },
  {
   "cell_type": "code",
   "execution_count": null,
   "metadata": {
    "collapsed": true
   },
   "outputs": [],
   "source": [
    "class Node(object):\n",
    "    \n",
    "    \"\"\"docstring for .\"\"\"\n",
    "    def __init__(self, value):\n",
    "        self.val = value\n",
    "        self.left = None\n",
    "        self.right = None"
   ]
  },
  {
   "cell_type": "code",
   "execution_count": 81,
   "metadata": {
    "collapsed": false
   },
   "outputs": [],
   "source": [
    "def check_below(map1, x, y):\n",
    "    print x, y\n",
    "    max_x = len(map1)\n",
    "    max_y = len(map1[0])\n",
    "    print max_x, max_y\n",
    "    while x < max_x:\n",
    "        x += 1\n",
    "        check_below(map1, x, y)\n",
    "# #         if (map1[x+1][y] == False) & (map1[x][y+1] == True): # checks down one\n",
    "#             x += 1\n",
    "#             check_below(map1, x, y)\n",
    "#         else:\n",
    "#             break"
   ]
  },
  {
   "cell_type": "code",
   "execution_count": 82,
   "metadata": {
    "collapsed": false
   },
   "outputs": [
    {
     "name": "stdout",
     "output_type": "stream",
     "text": [
      "0 0\n",
      "4 4\n",
      "1 0\n",
      "4 4\n",
      "2 0\n",
      "4 4\n",
      "3 0\n",
      "4 4\n",
      "4 0\n",
      "4 4\n",
      "4 0\n",
      "4 4\n",
      "3 0\n",
      "4 4\n",
      "4 0\n",
      "4 4\n",
      "4 0\n",
      "4 4\n",
      "2 0\n",
      "4 4\n",
      "3 0\n",
      "4 4\n",
      "4 0\n",
      "4 4\n",
      "4 0\n",
      "4 4\n",
      "3 0\n",
      "4 4\n",
      "4 0\n",
      "4 4\n",
      "4 0\n",
      "4 4\n"
     ]
    }
   ],
   "source": [
    "check_below(map1, 0, 0)"
   ]
  },
  {
   "cell_type": "code",
   "execution_count": null,
   "metadata": {
    "collapsed": false
   },
   "outputs": [
    {
     "name": "stdout",
     "output_type": "stream",
     "text": [
      "0 0\n",
      "1 0\n",
      "2 0\n"
     ]
    }
   ],
   "source": [
    "# cl = current location\n",
    "def check_right(map1, x, y):\n",
    "    while y < len(map1[0]):\n",
    "        if (map1[x][y+1] == False) & (map1[x+1][y] == True): # checks to the right one\n",
    "            y += 1\n",
    "            print x, y, 'The path to the right is the only option'\n",
    "            return check_sides(map1, x, y)\n",
    "        else:\n",
    "            break\n",
    "    \n",
    "\n",
    "\n",
    "def check_sides(map1, x, y):\n",
    "    # cl = (0, 0)\n",
    "    print x, y\n",
    "    while x < len(map1):\n",
    "        if (map1[x+1][y] == False) & (map1[x][y+1] == True): # checks down one\n",
    "            x += 1\n",
    "            return check_sides(map1, x, y)\n",
    "        else:\n",
    "            check_right(map1, x, y)\n",
    "            \n",
    "    while y < len(map1[0]):\n",
    "        if (map1[x][y+1] == False) & (map1[x+1][y] == True): # checks to the right one\n",
    "            y += 1\n",
    "            print x, y, 'The path to the right is the only option'\n",
    "            return check_sides(map1, x, y)\n",
    "\n",
    "#     elif (map1[x][y+1] == False) & (map1[x+1][y] == False):\n",
    "#             print \"Either down or right is an option\"\n",
    "\n",
    "    \n",
    "    \n",
    "    \n",
    "\n",
    "check_sides(map1, 0, 0)\n",
    "check_below(map1, 0, 0)\n",
    "\n",
    "# dist_from_org_to_xy(3, 4, map1)"
   ]
  },
  {
   "cell_type": "code",
   "execution_count": 95,
   "metadata": {
    "collapsed": false
   },
   "outputs": [
    {
     "name": "stdout",
     "output_type": "stream",
     "text": [
      "\n"
     ]
    }
   ],
   "source": [
    "map1 = [[False, True, False, False],\n",
    "        [False, True, False, True],\n",
    "        [False, False, False, False],\n",
    "        [False, True, False, False]]"
   ]
  },
  {
   "cell_type": "code",
   "execution_count": 16,
   "metadata": {
    "collapsed": false
   },
   "outputs": [
    {
     "name": "stdout",
     "output_type": "stream",
     "text": [
      "[[False, True, False, False], [False, False, False, True], [False, False, False, False], [False, True, False, False]]\n"
     ]
    }
   ],
   "source": [
    "if map1[0][0] == False:\n",
    "    print map1\n",
    "    "
   ]
  },
  {
   "cell_type": "code",
   "execution_count": 18,
   "metadata": {
    "collapsed": false
   },
   "outputs": [
    {
     "data": {
      "text/plain": [
       "(4, 4)"
      ]
     },
     "execution_count": 18,
     "metadata": {},
     "output_type": "execute_result"
    }
   ],
   "source": [
    "len(map1), len(map1[0])"
   ]
  },
  {
   "cell_type": "code",
   "execution_count": 30,
   "metadata": {
    "collapsed": true
   },
   "outputs": [],
   "source": [
    "class Switcher(object):\n",
    "    def numbers_to_methods_to_strings(self, argument):\n",
    "        \"\"\"Dispatch method\"\"\"\n",
    "        # prefix the method_name with 'number_' because method names\n",
    "        # cannot begin with an integer.\n",
    "        method_name = 'number_' + str(argument)\n",
    "        # Get the method from 'self'. Default to a lambda.\n",
    "        method = getattr(self, method_name, lambda: \"nothing\")\n",
    "        # Call the method as we return it\n",
    "        return method()\n",
    "\n",
    "    def number_0(self):\n",
    "        return \"zero\"\n",
    "\n",
    "    def number_1(self):\n",
    "        return \"one\"\n",
    "\n",
    "    def number_2(self):\n",
    "        return \"two\""
   ]
  },
  {
   "cell_type": "code",
   "execution_count": 47,
   "metadata": {
    "collapsed": false
   },
   "outputs": [],
   "source": [
    "s = Switcher()"
   ]
  },
  {
   "cell_type": "code",
   "execution_count": 88,
   "metadata": {
    "collapsed": false
   },
   "outputs": [
    {
     "data": {
      "text/plain": [
       "'zero'"
      ]
     },
     "execution_count": 88,
     "metadata": {},
     "output_type": "execute_result"
    }
   ],
   "source": [
    "s.numbers_to_methods_to_strings(0)"
   ]
  },
  {
   "cell_type": "code",
   "execution_count": null,
   "metadata": {
    "collapsed": true
   },
   "outputs": [],
   "source": []
  }
 ],
 "metadata": {
  "kernelspec": {
   "display_name": "Python [conda root]",
   "language": "python",
   "name": "conda-root-py"
  },
  "language_info": {
   "codemirror_mode": {
    "name": "ipython",
    "version": 2
   },
   "file_extension": ".py",
   "mimetype": "text/x-python",
   "name": "python",
   "nbconvert_exporter": "python",
   "pygments_lexer": "ipython2",
   "version": "2.7.13"
  }
 },
 "nbformat": 4,
 "nbformat_minor": 2
}
