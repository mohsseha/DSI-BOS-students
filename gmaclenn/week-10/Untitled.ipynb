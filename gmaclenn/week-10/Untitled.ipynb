{
 "cells": [
  {
   "cell_type": "markdown",
   "metadata": {},
   "source": [
    "HW - Day 2\n",
    "Write a method:\n",
    "\n",
    "is_more_than_1_off(s1, s2)\n",
    "\n",
    "S1, S2 -> Return\n",
    "\n",
    "“Cat”, “Cat”, F\n",
    "Cat, cats, F\n",
    "Caats, cats, F\n",
    "Cat, caats, T\n",
    "Cats, Dog, T\n",
    "At, cat, F\n",
    "Mat, maths, T\n",
    "Cat, Act, T\n",
    "\n",
    "\n",
    "\n",
    "\n",
    "\n",
    "Insert, delete,\n"
   ]
  },
  {
   "cell_type": "code",
   "execution_count": 157,
   "metadata": {
    "collapsed": false
   },
   "outputs": [],
   "source": [
    "def is_more_than_1_off(s1, s2):\n",
    "    counter = 0\n",
    "    # First checks to see if the lengths of the strings are more than one apart.\n",
    "    # if true we can automatically return True\n",
    "    if abs(len(s1) - len(s2)) > 1:\n",
    "        return True\n",
    "    else:\n",
    "        # Now that we are filtered to only strings that are one length apart from eachtother we\n",
    "        # can filter this into three camps. len(s1) is smaller, len(s1) is greater and len(s1) == len(s2)\n",
    "        # for each scenario we will compare the string to itself and to one value forward or backwards\n",
    "        if len(s1) < len(s2):\n",
    "            a, b = 0, 0 # initialize intermediate values to 0\n",
    "            for i in range(len(s1)): # iterate over the smaller of the two lengths\n",
    "                if s1[i] != s2[i+1]: # shift the shorter value over to for comparison\n",
    "                    a += 1\n",
    "#                     print s1[i], s2[i+1], a\n",
    "            for i in range(len(s1)): \n",
    "                if s1[i] != s2[i]: # one to one comparison\n",
    "                    b += 1\n",
    "#                     print s1[i], s2[i], b\n",
    "            counter = min(a,b) # take the minimum of the two counter operators\n",
    "        \n",
    "        # now checks values where s2 is longer\n",
    "        elif len(s1) > len(s2):\n",
    "            a, b = 0, 0\n",
    "            for i in range(len(s2)):\n",
    "                if s1[i+1] != s2[i]:\n",
    "                    a += 1\n",
    "#                     print s1[i+1], s2[i], a\n",
    "            for i in range(len(s2)):\n",
    "                if s1[i] != s2[i]:\n",
    "                    b += 1\n",
    "#                     print s1[i], s2[i], b\n",
    "            counter = min(a,b)\n",
    "\n",
    "            \n",
    "        else:\n",
    "            for i in range(min(len(s1), len(s2))):\n",
    "                if s1[i] != s2[i]:\n",
    "                    counter += 1\n",
    "            \n",
    "    if counter > 1:\n",
    "        return True\n",
    "    else:\n",
    "        return False"
   ]
  },
  {
   "cell_type": "code",
   "execution_count": 197,
   "metadata": {
    "collapsed": false
   },
   "outputs": [
    {
     "data": {
      "text/plain": [
       "True"
      ]
     },
     "execution_count": 197,
     "metadata": {},
     "output_type": "execute_result"
    }
   ],
   "source": [
    "is_more_than_1_off('houston', 'hoston')"
   ]
  },
  {
   "cell_type": "code",
   "execution_count": null,
   "metadata": {
    "collapsed": true
   },
   "outputs": [],
   "source": []
  },
  {
   "cell_type": "code",
   "execution_count": null,
   "metadata": {
    "collapsed": true
   },
   "outputs": [],
   "source": [
    "def is_more_than_1_off(s1, s2):\n",
    "    counter = 0\n",
    "    # First checks to see if the lengths of the strings are more than one apart.\n",
    "    # if true we can automatically return True\n",
    "    if abs(len(s1) - len(s2)) > 1:\n",
    "        return True\n",
    "    else:\n",
    "        # Now that we are filtered to only strings that are one length apart from eachtother we\n",
    "        # can filter this into three camps. len(s1) is smaller, len(s1) is greater and len(s1) == len(s2)\n",
    "        # for each scenario we will compare the string to itself and to one value forward or backwards\n",
    "        if len(s1) < len(s2):\n",
    "            a, b = 0, 0 # initialize intermediate values to 0\n",
    "            for i in range(len(s1)): # iterate over the smaller of the two lengths\n",
    "                if s1[i] != s2[i+1]: # shift the shorter value over to for comparison\n",
    "                    a += 1\n",
    "#                     print s1[i], s2[i+1], a\n",
    "            for i in range(len(s1)): \n",
    "                if s1[i] != s2[i]: # one to one comparison\n",
    "                    b += 1\n",
    "#                     print s1[i], s2[i], b\n",
    "            counter = min(a,b) # take the minimum of the two counter operators\n",
    "        \n",
    "        # now checks values where s2 is longer\n",
    "        elif len(s1) > len(s2):\n",
    "            a, b = 0, 0\n",
    "            for i in range(len(s2)):\n",
    "                if s1[i+1] != s2[i]:\n",
    "                    a += 1\n",
    "#                     print s1[i+1], s2[i], a\n",
    "            for i in range(len(s2)):\n",
    "                if s1[i] != s2[i]:\n",
    "                    b += 1\n",
    "#                     print s1[i], s2[i], b\n",
    "            counter = min(a,b)\n",
    "\n",
    "            \n",
    "        else:\n",
    "            for i in range(min(len(s1), len(s2))):\n",
    "                if s1[i] != s2[i]:\n",
    "                    counter += 1\n",
    "            \n",
    "    if counter > 1:\n",
    "        return True\n",
    "    else:\n",
    "        return False"
   ]
  },
  {
   "cell_type": "code",
   "execution_count": null,
   "metadata": {
    "collapsed": true
   },
   "outputs": [],
   "source": []
  }
 ],
 "metadata": {
  "kernelspec": {
   "display_name": "Python [conda root]",
   "language": "python",
   "name": "conda-root-py"
  },
  "language_info": {
   "codemirror_mode": {
    "name": "ipython",
    "version": 2
   },
   "file_extension": ".py",
   "mimetype": "text/x-python",
   "name": "python",
   "nbconvert_exporter": "python",
   "pygments_lexer": "ipython2",
   "version": "2.7.13"
  }
 },
 "nbformat": 4,
 "nbformat_minor": 2
}
