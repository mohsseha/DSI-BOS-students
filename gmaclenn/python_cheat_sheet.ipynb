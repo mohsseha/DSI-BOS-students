{
 "cells": [
  {
   "cell_type": "code",
   "execution_count": 10,
   "metadata": {
    "collapsed": false
   },
   "outputs": [],
   "source": [
    "cheat_sheet = {}\n",
    "cheat_sheet['pd.read_csv()'] = \"A function that reads csv files into a pandas DataFrame object\"\n",
    "cheat_sheet['.keys'] = \"A function that lists out all the keys in a dictionary\"\n",
    "cheat_sheet['.replace'] = \"A function that takes two inputs and replaces one value with another\"\n",
    "cheat_sheet['.astype()'] = \"A function that allows you to convert values between types\"\n",
    "cheat_sheet['.describe()'] = \"A function that provides summary statistics\"\n",
    "cheat_sheet['pd.pivot_table'] = \"A function that produces a pivot table\"\n",
    "cheat_sheet['.head()'] = \"A function that prints the first 10 rows\"\n",
    "cheat_sheet['.tail()'] = \"A function that prints the last 10 rows\"\n",
    "cheat_sheet['.columns'] = \"A function that list out the columns in a DataFrame\"\n",
    "cheat_sheet['.to_series'] = \"A function that converts a type to a series\"\n",
    "cheat_sheet['.groupby(df.dtypes).groups'] = \"A function that allows you to group by datatypes into various groups\"\n",
    "cheat_sheet['df.dropna(axis=1,how=\"all\")'] = \"Drops columns where ALL the data in a particular column is null\"\n",
    "cheat_sheet['.iloc'] = \"Allows us to identify values by index location (iloc) in a DataFrame\"\n",
    "cheat_sheet['np.size()'] = \"Allows us to see the entire size of an object. So a 3X3 DataFrame would return 9.\"\n",
    "cheat_sheet['dir()'] = 'Shows a directory of functions available to that object type'\n",
    "cheat_sheet['.dtypes'] = 'Shows you the datatypes for all the items within the list or series you call the function on'\n",
    "cheat_sheet['df.ix()'] = 'You can use this in pandas to id DataFrames in another way'\n",
    "cheat_sheet['.unique()'] = 'Pulls unique values from the collection'\n",
    "cheat_sheet['.sort_value'] = 'Sorts the values in a given collection'\n",
    "cheat_sheet['.dt.days'] = 'Allows you to select the days item on a datetime object'\n",
    "# df.columns.to_series().groupby(df.dtypes).groups"
   ]
  },
  {
   "cell_type": "markdown",
   "metadata": {},
   "source": [
    "\n"
   ]
  },
  {
   "cell_type": "code",
   "execution_count": 11,
   "metadata": {
    "collapsed": false
   },
   "outputs": [
    {
     "name": "stdout",
     "output_type": "stream",
     "text": [
      "['.tail()', '.columns', '.groupby(df.dtypes).groups', '.to_series', '.iloc', 'pd.pivot_table', '.replace', 'pd.read_csv()', 'df.dropna(axis=1,how=\"all\")', 'df.ix()', 'dir()', 'np.size()', '.sort_value', '.keys', '.head()', '.describe()', '.unique()', '.astype()', '.dtypes', '.dt.days']\n"
     ]
    }
   ],
   "source": [
    "print cheat_sheet.keys()"
   ]
  },
  {
   "cell_type": "code",
   "execution_count": 12,
   "metadata": {
    "collapsed": false
   },
   "outputs": [
    {
     "name": "stdout",
     "output_type": "stream",
     "text": [
      "Allows us to see the entire size of an object. So a 3X3 DataFrame would return 9.\n"
     ]
    }
   ],
   "source": [
    "print cheat_sheet['np.size()']"
   ]
  },
  {
   "cell_type": "code",
   "execution_count": null,
   "metadata": {
    "collapsed": true
   },
   "outputs": [],
   "source": []
  }
 ],
 "metadata": {
  "kernelspec": {
   "display_name": "Python 2",
   "language": "python",
   "name": "python2"
  },
  "language_info": {
   "codemirror_mode": {
    "name": "ipython",
    "version": 2
   },
   "file_extension": ".py",
   "mimetype": "text/x-python",
   "name": "python",
   "nbconvert_exporter": "python",
   "pygments_lexer": "ipython2",
   "version": "2.7.12"
  }
 },
 "nbformat": 4,
 "nbformat_minor": 0
}
