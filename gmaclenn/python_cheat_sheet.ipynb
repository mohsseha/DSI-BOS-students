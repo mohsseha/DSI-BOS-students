{
 "cells": [
  {
   "cell_type": "code",
   "execution_count": 10,
   "metadata": {
    "collapsed": false
   },
   "outputs": [],
   "source": [
    "cheat_sheet = {}\n",
    "cheat_sheet['pd.read_csv()'] = \"A function that reads csv files into a pandas DataFrame object\"\n",
    "cheat_sheet['.keys'] = \"A function that lists out all the keys in a dictionary\"\n",
    "cheat_sheet['.replace'] = \"A function that takes two inputs and replaces one value with another\"\n",
    "cheat_sheet['.astype()'] = \"A function that allows you to convert values between types\"\n",
    "cheat_sheet['.describe()'] = \"A function that provides summary statistics\"\n",
    "cheat_sheet['pd.pivot_table'] = \"A function that produces a pivot table\"\n",
    "cheat_sheet['.head()'] = \"A function that prints the first 10 rows\"\n",
    "cheat_sheet['.tail()'] = \"A function that prints the last 10 rows\"\n",
    "cheat_sheet['.columns'] = \"A function that list out the columns in a DataFrame\"\n",
    "cheat_sheet['.to_series'] = \"A function that converts a type to a series\"\n",
    "cheat_sheet['.groupby(df.dtypes).groups'] = \"A function that allows you to group by datatypes into various groups\"\n",
    "cheat_sheet['df.dropna(axis=1,how=\"all\")'] = \"Drops columns where ALL the data in a particular column is null\"\n",
    "cheat_sheet['.iloc'] = \"Allows us to identify values by index location (iloc) in a DataFrame\"\n",
    "cheat_sheet['np.size()'] = \"Allows us to see the entire size of an object. So a 3X3 DataFrame would return 9.\"\n",
    "cheat_sheet['dir()'] = 'Shows a directory of functions available to that object type'\n",
    "cheat_sheet['.dtypes'] = 'Shows you the datatypes for all the items within the list or series you call the function on'\n",
    "cheat_sheet['df.ix()'] = 'You can use this in pandas to id DataFrames in another way'\n",
    "cheat_sheet['.unique()'] = 'Pulls unique values from the collection'\n",
    "cheat_sheet['.sort_value'] = 'Sorts the values in a given collection'\n",
    "cheat_sheet['.dt.days'] = 'Allows you to select the days item on a datetime object'\n",
    "cheat_sheet['pd.to_datetime(df column, format = %Y-%m-%d)'] = 'Allows you to specify the order and how the dates are displayed'\n",
    "cheat_sheet['collections.Counter()'] = 'Import collections, the counter fuction allows you to perform a number of different count operations on the df,list,series or object'\n",
    "cheat_sheet['df.columnname.values'] = 'Important to use the .values when we want to perform list comprehension on pandas dataframes. Ex. [1 if x >= 200000 else 0 for x in sac[\"price\"].values]'\n",
    "cheat_sheet['sorted()'] = 'Allows you to sort a list'\n",
    "cheat_sheet['train_test_split()'] = 'X_train, X_test, y_train, y_test = train_test_split(X, y, test_size=0.30, random_state=42) from the sklearn module'\n",
    "cheat_sheet['zip()'] = 'Allows you to combine two terms into a specific data type. For instance take two values and zip them together to a tuple'\n",
    "cheat_sheet['df.T.values.tolist()'] = 'Takes a df, transposes it, takes the values and converts it to a list. Very useful for manipulating dfs'\n",
    "cheat_sheet['.corr'] = 'Allows you to see the correlations between various columns in a dataframe'\n",
    "cheat_sheet['np.ravel()'] = 'Allows you to convert items to a 1-d array'\n",
    "cheat_sheet['\"%0.xf\" % object'] = 'Allows you to format(f) the object to 0.x significant digits'\n",
    "cheat_sheet['pd.DataFrame()'] = 'Creates a new DataFrame object in pandas'\n",
    "\n",
    "\n",
    "# y, x = patsy.dmatrices(\"something ~ Other things\", df)\n",
    "\n",
    "# to filter out outliars. \n",
    "# df.columns.to_series().groupby(df.dtypes).groups"
   ]
  },
  {
   "cell_type": "code",
   "execution_count": null,
   "metadata": {
    "collapsed": true
   },
   "outputs": [],
   "source": []
  },
  {
   "cell_type": "markdown",
   "metadata": {},
   "source": [
    "\n"
   ]
  },
  {
   "cell_type": "code",
   "execution_count": 11,
   "metadata": {
    "collapsed": false
   },
   "outputs": [
    {
     "name": "stdout",
     "output_type": "stream",
     "text": [
      "['.iloc', '.astype()', '.unique()', 'df.columnname.values', '.head()', 'df.T.values.tolist()', 'df.ix()', '.dtypes', 'np.ravel()', '.to_series', 'dir()', '.replace', 'df.dropna(axis=1,how=\"all\")', '.corr', 'pd.to_datetime(df column, format = %Y-%m-%d)', 'sorted()', 'train_test_split()', '.tail()', '.groupby(df.dtypes).groups', 'pd.pivot_table', 'np.size()', 'collections.Counter()', '.sort_value', '.columns', '\"%0.xf\" % object', 'pd.DataFrame()', 'pd.read_csv()', '.keys', 'zip()', '.describe()', '.dt.days']\n"
     ]
    }
   ],
   "source": [
    "print cheat_sheet.keys()"
   ]
  },
  {
   "cell_type": "code",
   "execution_count": 24,
   "metadata": {
    "collapsed": false
   },
   "outputs": [
    {
     "name": "stdout",
     "output_type": "stream",
     "text": [
      "Allows you to select the days item on a datetime object\n"
     ]
    }
   ],
   "source": [
    "print cheat_sheet['.dt.days']"
   ]
  },
  {
   "cell_type": "code",
   "execution_count": 15,
   "metadata": {
    "collapsed": false
   },
   "outputs": [
    {
     "data": {
      "text/plain": [
       "['\"%0.xf\" % object',\n",
       " '.astype()',\n",
       " '.columns',\n",
       " '.corr',\n",
       " '.describe()',\n",
       " '.dt.days',\n",
       " '.dtypes',\n",
       " '.groupby(df.dtypes).groups',\n",
       " '.head()',\n",
       " '.iloc',\n",
       " '.keys',\n",
       " '.replace',\n",
       " '.sort_value',\n",
       " '.tail()',\n",
       " '.to_series',\n",
       " '.unique()',\n",
       " 'collections.Counter()',\n",
       " 'df.T.values.tolist()',\n",
       " 'df.columnname.values',\n",
       " 'df.dropna(axis=1,how=\"all\")',\n",
       " 'df.ix()',\n",
       " 'dir()',\n",
       " 'np.ravel()',\n",
       " 'np.size()',\n",
       " 'pd.DataFrame()',\n",
       " 'pd.pivot_table',\n",
       " 'pd.read_csv()',\n",
       " 'pd.to_datetime(df column, format = %Y-%m-%d)',\n",
       " 'sorted()',\n",
       " 'train_test_split()',\n",
       " 'zip()']"
      ]
     },
     "execution_count": 15,
     "metadata": {},
     "output_type": "execute_result"
    }
   ],
   "source": [
    "sorted(cheat_sheet.keys())"
   ]
  },
  {
   "cell_type": "code",
   "execution_count": null,
   "metadata": {
    "collapsed": true
   },
   "outputs": [],
   "source": []
  }
 ],
 "metadata": {
  "kernelspec": {
   "display_name": "Python 2",
   "language": "python",
   "name": "python2"
  },
  "language_info": {
   "codemirror_mode": {
    "name": "ipython",
    "version": 2
   },
   "file_extension": ".py",
   "mimetype": "text/x-python",
   "name": "python",
   "nbconvert_exporter": "python",
   "pygments_lexer": "ipython2",
   "version": "2.7.12"
  }
 },
 "nbformat": 4,
 "nbformat_minor": 0
}
