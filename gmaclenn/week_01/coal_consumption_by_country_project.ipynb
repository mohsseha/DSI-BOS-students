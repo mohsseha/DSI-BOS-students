{
 "cells": [
  {
   "cell_type": "markdown",
   "metadata": {},
   "source": [
    "    Import Libraries"
   ]
  },
  {
   "cell_type": "code",
   "execution_count": 2,
   "metadata": {
    "collapsed": true
   },
   "outputs": [],
   "source": [
    "import csv\n",
    "import numpy as np\n",
    "import seaborn as sns\n",
    "import matplotlib.pyplot as plt"
   ]
  },
  {
   "cell_type": "code",
   "execution_count": 12,
   "metadata": {
    "collapsed": false
   },
   "outputs": [
    {
     "name": "stdout",
     "output_type": "stream",
     "text": [
      "Applications\n",
      "ArcGIS\n",
      "BootCamp\n",
      "DSI-BOS-students\n",
      "DSI-course-materials\n",
      "Desktop\n",
      "Documents\n",
      "Downloads\n",
      "Dropbox\n",
      "Google Drive\n",
      "Library\n",
      "Movies\n",
      "Music\n",
      "Pictures\n",
      "Public\n",
      "Python\n",
      "R\n",
      "Sites\n",
      "TuneUp Duplicates\n",
      "Ubuntu\n",
      "VirtualBox VMs\n",
      "anaconda\n",
      "hello-world\n",
      "majors_employment_data_challenge.ipynb\n",
      "myfile\n",
      "pgadmin.log\n"
     ]
    }
   ],
   "source": [
    "%%bash\n",
    "cd ~\n",
    "ls"
   ]
  },
  {
   "cell_type": "markdown",
   "metadata": {},
   "source": [
    "    Open CSV file and read it."
   ]
  },
  {
   "cell_type": "code",
   "execution_count": 3,
   "metadata": {
    "collapsed": false
   },
   "outputs": [],
   "source": [
    "f = open(\"/Users/gregorymaclennan/downloads/totalcoalconsumption19802009quadrillionbtu.csv\", \"rU\")\n",
    "coal = csv.reader(f)"
   ]
  },
  {
   "cell_type": "markdown",
   "metadata": {},
   "source": [
    "    Examine first few lines of code"
   ]
  },
  {
   "cell_type": "code",
   "execution_count": 4,
   "metadata": {
    "collapsed": false
   },
   "outputs": [
    {
     "name": "stdout",
     "output_type": "stream",
     "text": [
      "<type '_csv.reader'>\n"
     ]
    }
   ],
   "source": [
    "print type(coal)"
   ]
  },
  {
   "cell_type": "markdown",
   "metadata": {},
   "source": [
    "    Get each line in a new list"
   ]
  },
  {
   "cell_type": "code",
   "execution_count": 5,
   "metadata": {
    "collapsed": false
   },
   "outputs": [
    {
     "name": "stdout",
     "output_type": "stream",
     "text": [
      "[['', '1980', '1981', '1982', '1983', '1984', '1985', '1986', '1987', '1988', '1989', '1990', '1991', '1992', '1993', '1994', '1995', '1996', '1997', '1998', '1999', '2000', '2001', '2002', '2003', '2004', '2005', '2006', '2007', '2008', '2009'], ['Bermuda', '0', '0', '0', '0', '0', '0', '0', '0', '0', '0', '0', '0', '0', '0', '0', '0', '0', '0', '0', '0', '0', '0', '0', '0', '0', '0', '0', '0', '0', '0'], ['Canada', '0.96156', '0.99047', '1.05584', '1.11653', '1.23682', '1.20679', '1.12583', '1.25072', '1.35809', '1.35196', '1.21338', '1.26457', '1.32379', '1.22875', '1.24492', '1.28479', '1.30032', '1.44933', '1.50985', '1.505', '1.61651', '1.35444', '1.36876', '1.38766', '1.43684', '1.44948', '1.42135', '1.38369', '1.37388', '1.14314'], ['Greenland', '0.00005', '0.00005', '0.00003', '0.00003', '0.00003', '0', '0', '0', '0', '0', '0', '0', '0', '0', '0', '0', '0', '0', '0', '0', '0', '0', '0', '0', '0', '0', '0', '0', '0', '0'], ['Mexico', '0.10239', '0.10562', '0.11967', '0.12869', '0.13071', '0.14646', '0.15609', '0.17001', '0.15967', '0.17359', '0.1694', '0.15916', '0.16584', '0.19118', '0.1836', '0.20768', '0.25067', '0.26373', '0.26753', '0.28947', '0.29444', '0.32908', '0.36525', '0.41878', '0.31944', '0.39739', '0.39244', '0.38911', '0.32008', '0.3365']]\n"
     ]
    }
   ],
   "source": [
    "new_coal = []\n",
    "[new_coal.append(row) for row in coal]\n",
    "print new_coal[:5]"
   ]
  },
  {
   "cell_type": "code",
   "execution_count": 6,
   "metadata": {
    "collapsed": false
   },
   "outputs": [
    {
     "name": "stdout",
     "output_type": "stream",
     "text": [
      "['', '1980', '1981', '1982', '1983', '1984', '1985', '1986', '1987', '1988', '1989', '1990', '1991', '1992', '1993', '1994', '1995', '1996', '1997', '1998', '1999', '2000', '2001', '2002', '2003', '2004', '2005', '2006', '2007', '2008', '2009']\n",
      "[[0.0, 0.0, 0.0, 0.0, 0.0, 0.0, 0.0, 0.0, 0.0, 0.0, 0.0, 0.0, 0.0, 0.0, 0.0, 0.0, 0.0, 0.0, 0.0, 0.0, 0.0, 0.0, 0.0, 0.0, 0.0, 0.0, 0.0, 0.0, 0.0, 0.0], [0.96156, 0.99047, 1.05584, 1.11653, 1.23682, 1.20679, 1.12583, 1.25072, 1.35809, 1.35196, 1.21338, 1.26457, 1.32379, 1.22875, 1.24492, 1.28479, 1.30032, 1.44933, 1.50985, 1.505, 1.61651, 1.35444, 1.36876, 1.38766, 1.43684, 1.44948, 1.42135, 1.38369, 1.37388, 1.14314], [5e-05, 5e-05, 3e-05, 3e-05, 3e-05, 0.0, 0.0, 0.0, 0.0, 0.0, 0.0, 0.0, 0.0, 0.0, 0.0, 0.0, 0.0, 0.0, 0.0, 0.0, 0.0, 0.0, 0.0, 0.0, 0.0, 0.0, 0.0, 0.0, 0.0, 0.0], [0.10239, 0.10562, 0.11967, 0.12869, 0.13071, 0.14646, 0.15609, 0.17001, 0.15967, 0.17359, 0.1694, 0.15916, 0.16584, 0.19118, 0.1836, 0.20768, 0.25067, 0.26373, 0.26753, 0.28947, 0.29444, 0.32908, 0.36525, 0.41878, 0.31944, 0.39739, 0.39244, 0.38911, 0.32008, 0.3365], [0.0, 0.0, 0.0, 0.0, 0.0, 0.0, 0.0, 0.0, 0.0, 0.0, 0.0, 0.0, 0.0, 0.0, 0.0, 0.0, 0.0, 0.0, 0.0, 0.0, 0.0, 0.0, 0.0, 0.0, 0.0, 0.0, 0.0, 0.0, 0.0, 0.0]]\n"
     ]
    }
   ],
   "source": [
    "header = new_coal[0]\n",
    "new_coal = new_coal[1:]\n",
    "print header\n",
    "\n",
    "float_coal = []\n",
    "for row in new_coal:\n",
    "    temp_coal = []\n",
    "    temp_list  = [float(i) for i in row[1:]]\n",
    "    float_coal.append(temp_list)\n",
    "    \n",
    "print float_coal[0:5]\n",
    "        \n",
    "\n",
    "            \n",
    "    "
   ]
  },
  {
   "cell_type": "code",
   "execution_count": 7,
   "metadata": {
    "collapsed": true
   },
   "outputs": [],
   "source": [
    "for i in range(len(float_coal)):\n",
    "    float_coal[i].insert(0, new_coal[i][0])"
   ]
  },
  {
   "cell_type": "code",
   "execution_count": 8,
   "metadata": {
    "collapsed": false
   },
   "outputs": [
    {
     "name": "stdout",
     "output_type": "stream",
     "text": [
      "[['Bermuda', 0.0, 0.0, 0.0, 0.0, 0.0, 0.0, 0.0, 0.0, 0.0, 0.0, 0.0, 0.0, 0.0, 0.0, 0.0, 0.0, 0.0, 0.0, 0.0, 0.0, 0.0, 0.0, 0.0, 0.0, 0.0, 0.0, 0.0, 0.0, 0.0, 0.0], ['Canada', 0.96156, 0.99047, 1.05584, 1.11653, 1.23682, 1.20679, 1.12583, 1.25072, 1.35809, 1.35196, 1.21338, 1.26457, 1.32379, 1.22875, 1.24492, 1.28479, 1.30032, 1.44933, 1.50985, 1.505, 1.61651, 1.35444, 1.36876, 1.38766, 1.43684, 1.44948, 1.42135, 1.38369, 1.37388, 1.14314], ['Greenland', 5e-05, 5e-05, 3e-05, 3e-05, 3e-05, 0.0, 0.0, 0.0, 0.0, 0.0, 0.0, 0.0, 0.0, 0.0, 0.0, 0.0, 0.0, 0.0, 0.0, 0.0, 0.0, 0.0, 0.0, 0.0, 0.0, 0.0, 0.0, 0.0, 0.0, 0.0]]\n"
     ]
    }
   ],
   "source": [
    "print float_coal[0:3]"
   ]
  },
  {
   "cell_type": "code",
   "execution_count": 9,
   "metadata": {
    "collapsed": false
   },
   "outputs": [
    {
     "name": "stdout",
     "output_type": "stream",
     "text": [
      "31\n"
     ]
    }
   ],
   "source": [
    "print len(float_coal[0])"
   ]
  },
  {
   "cell_type": "code",
   "execution_count": null,
   "metadata": {
    "collapsed": true
   },
   "outputs": [],
   "source": [
    "plt.plot(header[1:], float_coal[1][1:])\n",
    "plt.show()"
   ]
  },
  {
   "cell_type": "code",
   "execution_count": 9,
   "metadata": {
    "collapsed": false
   },
   "outputs": [
    {
     "name": "stdout",
     "output_type": "stream",
     "text": [
      "['Canada', 0.96156, 0.99047, 1.05584, 1.11653, 1.23682, 1.20679, 1.12583, 1.25072, 1.35809, 1.35196, 1.21338, 1.26457, 1.32379, 1.22875, 1.24492, 1.28479, 1.30032, 1.44933, 1.50985, 1.505, 1.61651, 1.35444, 1.36876, 1.38766, 1.43684, 1.44948, 1.42135, 1.38369, 1.37388, 1.14314]\n"
     ]
    }
   ],
   "source": [
    "print float_coal[1]"
   ]
  },
  {
   "cell_type": "code",
   "execution_count": null,
   "metadata": {
    "collapsed": true
   },
   "outputs": [],
   "source": []
  }
 ],
 "metadata": {
  "kernelspec": {
   "display_name": "Python 2",
   "language": "python",
   "name": "python2"
  },
  "language_info": {
   "codemirror_mode": {
    "name": "ipython",
    "version": 2
   },
   "file_extension": ".py",
   "mimetype": "text/x-python",
   "name": "python",
   "nbconvert_exporter": "python",
   "pygments_lexer": "ipython2",
   "version": "2.7.12"
  }
 },
 "nbformat": 4,
 "nbformat_minor": 0
}
