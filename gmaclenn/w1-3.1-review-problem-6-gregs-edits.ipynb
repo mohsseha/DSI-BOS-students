{
 "cells": [
  {
   "cell_type": "markdown",
   "metadata": {},
   "source": [
    "### Review problem 6 (hard)\n",
    "\n",
    "For this problem you will be defining a function that calculates the **spearman correlation coefficient** between two lists. The spearman correlation is a measure of how related two sets of numbers are.\n",
    "\n",
    "Your function should:\n",
    "\n",
    "- Accept two provided lists of numbers, ```X``` and ```Y```\n",
    "- Print the length of ```X``` and ```Y``` using the ```len()``` function, like so:\n",
    "    ```python\n",
    "    Length of X: 40\n",
    "    Length of Y: 40\n",
    "    ```\n",
    "- Calculate the **rank** of the numbers in the ```X``` and ```Y``` lists. The **rank** is a number that defines what index position each number would be if the list were in order.\n",
    "    - For example: say ```list1 = [5,2,0,9,-5]```, then ```list1_rank = [3,2,1,4,0]```\n",
    "    - Calculating the rank is not trivial. You can use the ```rankdata()``` function from ```scipy.stats``` on a list to get the ranks of the numbers.\n",
    "    - Assign the rank of list ```X``` to ```X_rank``` and list ```Y``` to ```Y_rank```\n",
    "- Calculate the **covariance between ```X_rank``` and ```Y_rank```** as ```XY_rank_cov```:\n",
    "    - The **covariance** is a measure of the \"relatedness\" between two lists of variables.\n",
    "    - To calculate the covariance between these two lists:\n",
    "        1. Calculate ```X_mean```: the mean of ```X_rank``` using ```np.mean()```\n",
    "        2. Calculate ```Y_mean```: the mean of ```Y_rank``` using ```np.mean()```\n",
    "        3. Calculate ```X_deviation```: subtract ```X_mean``` from each element of ```X_rank```\n",
    "        4. Calculate ```Y_deviation```: subtract ```Y_mean``` from each element of ```Y_rank```\n",
    "        5. Calculate ```XY_d```: multiply ```X_deviation``` with ```Y_deviation```, **element by element**. You can use pythons ```zip()``` function to iterate across lists at the same time:\n",
    "            ```python\n",
    "            for xd, yd in zip(X_deviation, Y_deviation):\n",
    "            ```\n",
    "        6. Calculate ```sum_XY_d```: the sum of the elements in ```XY_d``` with ```np.sum()```\n",
    "        7. Calculate ```XY_rank_cov```: divide ```sum_XY_d``` by ```len(XY_d)```\n",
    "- Calculate the standard deviations ```X_rank_std``` and ```Y_rank_std``` of the ```X_rank``` and ```Y_rank``` lists using ```np.std()```\n",
    "- Calculate the **spearman rank correlation coefficient** as ```XY_spearman```: divide ```XY_rank_cov``` by ```(X_rank_std * Y_rank_std)```\n",
    "- Print ```XY_spearman```\n",
    "- Compare your value to the scipy function for spearman: print out ```spearmanr(X, Y)```"
   ]
  },
  {
   "cell_type": "code",
   "execution_count": 90,
   "metadata": {
    "collapsed": false
   },
   "outputs": [],
   "source": [
    "import numpy as np\n",
    "from scipy.stats import spearmanr\n",
    "from scipy.stats import rankdata\n",
    "\n",
    "X = [14.2,5.8,4.8,12.7,5.6,-1.2,5.3,11.9,4.8,8.1,1.5,8.5,14.9,6.1,\n",
    "     6.8,12.6,15.5,24.3,15.6,16.8,22.3,22.6,26.2,19.0,24.3,26.3,\n",
    "     25.3,31.6,27.3,33.0,32.6,30.7,29.6,34.7,32.7,43.1,40.1,35.4,49.6,38.6]\n",
    "\n",
    "Y = [-15.5,-8.5,0.8,-3.9,4.9,12.7,10.0,16.5,5.7,13.1,10.3,12.4,-1.5,\n",
    "     1.7,26.0,14.3,30.3,21.7,27.5,38.2,18.9,21.2,18.2,26.1,14.7,16.4,\n",
    "     22.8,34.3,37.1,38.9,39.1,33.8,52.2,36.5,20.7,21.6,14.5,33.6,44.5,44.2]"
   ]
  },
  {
   "cell_type": "code",
   "execution_count": 110,
   "metadata": {
    "collapsed": false
   },
   "outputs": [
    {
     "name": "stdout",
     "output_type": "stream",
     "text": [
      "Length of X: 40\n",
      "Length of Y: 40\n"
     ]
    }
   ],
   "source": [
    "# Create your function for spearman here:\n",
    "# Print the length of both lists\n",
    "print\"Length of X:\",len(X)\n",
    "print\"Length of Y:\",len(Y)"
   ]
  },
  {
   "cell_type": "code",
   "execution_count": 108,
   "metadata": {
    "collapsed": false
   },
   "outputs": [
    {
     "name": "stdout",
     "output_type": "stream",
     "text": [
      "[ 15.    7.    3.5  14.    6.    1.    5.   12.    3.5  10.    2.   11.\n",
      "  16.    8.    9.   13.   17.   23.5  18.   19.   21.   22.   26.   20.\n",
      "  23.5  27.   25.   31.   28.   34.   32.   30.   29.   35.   33.   39.\n",
      "  38.   36.   40.   37. ]\n",
      "[  1.   2.   5.   3.   7.  12.   9.  18.   8.  13.  10.  11.   4.   6.  26.\n",
      "  14.  29.  24.  28.  35.  20.  22.  19.  27.  16.  17.  25.  32.  34.  36.\n",
      "  37.  31.  40.  33.  21.  23.  15.  30.  39.  38.]\n"
     ]
    }
   ],
   "source": [
    "# rank lists X and Y to x_rank and y_rank respectively\n",
    "x_rank = rankdata(X)\n",
    "y_rank = rankdata(Y)\n",
    "\n",
    "print(x_rank)\n",
    "print(y_rank)\n"
   ]
  },
  {
   "cell_type": "code",
   "execution_count": 100,
   "metadata": {
    "collapsed": false
   },
   "outputs": [
    {
     "name": "stdout",
     "output_type": "stream",
     "text": [
      "20.5 20.5\n",
      "[-5.5, -13.5, -17.0, -6.5, -14.5, -19.5, -15.5, -8.5, -17.0, -10.5, -18.5, -9.5, -4.5, -12.5, -11.5, -7.5, -3.5, 3.0, -2.5, -1.5, 0.5, 1.5, 5.5, -0.5, 3.0, 6.5, 4.5, 10.5, 7.5, 13.5, 11.5, 9.5, 8.5, 14.5, 12.5, 18.5, 17.5, 15.5, 19.5, 16.5]\n",
      "[-19.5, -18.5, -15.5, -17.5, -13.5, -8.5, -11.5, -2.5, -12.5, -7.5, -10.5, -9.5, -16.5, -14.5, 5.5, -6.5, 8.5, 3.5, 7.5, 14.5, -0.5, 1.5, -1.5, 6.5, -4.5, -3.5, 4.5, 11.5, 13.5, 15.5, 16.5, 10.5, 19.5, 12.5, 0.5, 2.5, -5.5, 9.5, 18.5, 17.5]\n"
     ]
    }
   ],
   "source": [
    "# calculated the mean values for x_rank and y_rank\n",
    "x_mean = np.mean(x_rank)\n",
    "y_mean = np.mean(y_rank)\n",
    "print x_mean, y_mean\n",
    "# calculated the deviation values between the values at X and x_mean and Y and y_mean\n",
    "x_deviation = [i - x_mean for i in x_rank]\n",
    "y_deviation = [i - y_mean for i in y_rank]\n",
    "print x_deviation\n",
    "print y_deviation"
   ]
  },
  {
   "cell_type": "code",
   "execution_count": 101,
   "metadata": {
    "collapsed": false
   },
   "outputs": [
    {
     "name": "stdout",
     "output_type": "stream",
     "text": [
      "[107.25, 249.75, 263.5, 113.75, 195.75, 165.75, 178.25, 21.25, 212.5, 78.75, 194.25, 90.25, 74.25, 181.25, -63.25, 48.75, -29.75, 10.5, -18.75, -21.75, -0.25, 2.25, -8.25, -3.25, -13.5, -22.75, 20.25, 120.75, 101.25, 209.25, 189.75, 99.75, 165.75, 181.25, 6.25, 46.25, -96.25, 147.25, 360.75, 288.75]\n"
     ]
    }
   ],
   "source": [
    "XY_d = [xd*yd for xd, yd in zip(x_deviation, y_deviation)]\n",
    "print(XY_d)"
   ]
  },
  {
   "cell_type": "code",
   "execution_count": 102,
   "metadata": {
    "collapsed": false
   },
   "outputs": [
    {
     "name": "stdout",
     "output_type": "stream",
     "text": [
      "3847.5\n"
     ]
    }
   ],
   "source": [
    "sum_XY_d = np.sum(XY_d)\n",
    "print(sum_XY_d)"
   ]
  },
  {
   "cell_type": "code",
   "execution_count": 103,
   "metadata": {
    "collapsed": false
   },
   "outputs": [
    {
     "name": "stdout",
     "output_type": "stream",
     "text": [
      "96.1875\n"
     ]
    }
   ],
   "source": [
    "# Calculate XY_rank_cov: divide sum_XY_d by len(XY_d)\n",
    "XY_rank_cov = sum_XY_d / len(XY_d)\n",
    "print(XY_rank_cov)"
   ]
  },
  {
   "cell_type": "code",
   "execution_count": 104,
   "metadata": {
    "collapsed": false
   },
   "outputs": [
    {
     "name": "stdout",
     "output_type": "stream",
     "text": [
      "11.5423134596\n",
      "11.5433963806\n"
     ]
    }
   ],
   "source": [
    "# Calculate the standard deviations X_rank_std and Y_rank_std of the X_rank and Y_rank lists using np.std()\n",
    "X_rank_std = np.std(x_rank)\n",
    "Y_rank_std = np.std(y_rank)\n",
    "print(X_rank_std)\n",
    "print(Y_rank_std)"
   ]
  },
  {
   "cell_type": "code",
   "execution_count": 105,
   "metadata": {
    "collapsed": true
   },
   "outputs": [],
   "source": [
    "# Calculate the spearman rank correlation coefficient as XY_spearman: divide XY_rank_cov by (X_rank_std * Y_rank_std)\n",
    "XY_spearman = XY_rank_cov / (X_rank_std * Y_rank_std)"
   ]
  },
  {
   "cell_type": "code",
   "execution_count": 106,
   "metadata": {
    "collapsed": false
   },
   "outputs": [
    {
     "name": "stdout",
     "output_type": "stream",
     "text": [
      "0.721925136867\n",
      "SpearmanrResult(correlation=0.72192513686692761, pvalue=1.4606957738616958e-07)\n"
     ]
    }
   ],
   "source": [
    "# Print XY_spearman\n",
    "# Compare your value to the scipy function for spearman: print out spearmanr(X, Y)\n",
    "print XY_spearman\n",
    "print spearmanr(X,Y)"
   ]
  }
 ],
 "metadata": {
  "kernelspec": {
   "display_name": "Python 2",
   "language": "python",
   "name": "python2"
  },
  "language_info": {
   "codemirror_mode": {
    "name": "ipython",
    "version": 2
   },
   "file_extension": ".py",
   "mimetype": "text/x-python",
   "name": "python",
   "nbconvert_exporter": "python",
   "pygments_lexer": "ipython2",
   "version": "2.7.11"
  }
 },
 "nbformat": 4,
 "nbformat_minor": 0
}
