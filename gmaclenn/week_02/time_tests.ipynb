{
 "cells": [
  {
   "cell_type": "code",
   "execution_count": 35,
   "metadata": {
    "collapsed": false
   },
   "outputs": [
    {
     "name": "stdout",
     "output_type": "stream",
     "text": [
      "745.601177216 ms\n"
     ]
    }
   ],
   "source": [
    "import time\n",
    "a = time.time()\n",
    "\n",
    "dataset = range(10000000)\n",
    "sum(dataset)\n",
    "\n",
    "b = time.time()\n",
    "print (b - a) * 1000, \"ms\""
   ]
  },
  {
   "cell_type": "code",
   "execution_count": 37,
   "metadata": {
    "collapsed": false
   },
   "outputs": [
    {
     "name": "stdout",
     "output_type": "stream",
     "text": [
      "238.846063614 ms\n"
     ]
    }
   ],
   "source": [
    "import time\n",
    "dataset = range(10000000)\n",
    "\n",
    "a = time.time()\n",
    "\n",
    "sum(dataset)\n",
    "\n",
    "b = time.time()\n",
    "print (b - a) * 1000, \"ms\""
   ]
  },
  {
   "cell_type": "code",
   "execution_count": 38,
   "metadata": {
    "collapsed": false
   },
   "outputs": [
    {
     "name": "stdout",
     "output_type": "stream",
     "text": [
      "3319.45109367 ms\n"
     ]
    }
   ],
   "source": [
    "import time\n",
    "import pandas as pd\n",
    "a = time.time()\n",
    "\n",
    "dataset = range(10000000)\n",
    "df = pd.DataFrame(dataset)\n",
    "df.sum()\n",
    "\n",
    "b = time.time()\n",
    "print (b - a) * 1000, \"ms\""
   ]
  },
  {
   "cell_type": "code",
   "execution_count": 39,
   "metadata": {
    "collapsed": false
   },
   "outputs": [
    {
     "name": "stdout",
     "output_type": "stream",
     "text": [
      "18.9619064331 ms\n"
     ]
    }
   ],
   "source": [
    "import time\n",
    "import pandas as pd\n",
    "dataset = range(10000000)\n",
    "df = pd.DataFrame(dataset)\n",
    "a = time.time()\n",
    "\n",
    "df.sum()\n",
    "\n",
    "b = time.time()\n",
    "print (b - a) * 1000, \"ms\""
   ]
  },
  {
   "cell_type": "code",
   "execution_count": 40,
   "metadata": {
    "collapsed": false
   },
   "outputs": [
    {
     "name": "stdout",
     "output_type": "stream",
     "text": [
      "17.863035202 ms\n",
      "223.665952682 ms\n"
     ]
    }
   ],
   "source": [
    "import time\n",
    "import pandas as pd\n",
    "\n",
    "dataset = range(10000000)\n",
    "df = pd.DataFrame(dataset)\n",
    "\n",
    "a = time.time()\n",
    "df.sum()\n",
    "b = time.time()\n",
    "\n",
    "c = time.time()\n",
    "sum(dataset)\n",
    "d = time.time()\n",
    "\n",
    "print (b - a) * 1000, \"ms\"\n",
    "print (d - c) * 1000, \"ms\""
   ]
  },
  {
   "cell_type": "code",
   "execution_count": 17,
   "metadata": {
    "collapsed": false
   },
   "outputs": [
    {
     "name": "stdout",
     "output_type": "stream",
     "text": [
      "477.767944336 ms\n",
      "2854.73704338 ms\n"
     ]
    }
   ],
   "source": [
    "import time\n",
    "import pandas as pd\n",
    "\n",
    "dataset = range(10000000)\n",
    "df = pd.DataFrame(dataset)\n",
    "\n",
    "a = time.time()\n",
    "dataset = range(10000000)\n",
    "b = time.time()\n",
    "\n",
    "c = time.time()\n",
    "dataset = range(10000000)\n",
    "df = pd.DataFrame(dataset)\n",
    "d = time.time()\n",
    "\n",
    "print (b-a) * 1000, \"ms\"\n",
    "print (d-c) * 1000, \"ms\""
   ]
  },
  {
   "cell_type": "code",
   "execution_count": 22,
   "metadata": {
    "collapsed": false
   },
   "outputs": [
    {
     "name": "stdout",
     "output_type": "stream",
     "text": [
      "79.9188613892 ms\n",
      "3899.05309677 ms\n",
      "3332.74817467 ms\n"
     ]
    }
   ],
   "source": [
    "import time\n",
    "import pandas as pd\n",
    "\n",
    "dataset = range(10000000)\n",
    "df = pd.DataFrame(dataset)\n",
    "\n",
    "a = time.time()\n",
    "df * 999\n",
    "b = time.time()\n",
    "\n",
    "c = time.time()\n",
    "[i*999 for i in dataset]\n",
    "d = time.time()\n",
    "\n",
    "e = time.time()\n",
    "for i in dataset:\n",
    "    i * 999\n",
    "f = time.time()\n",
    "\n",
    "print (b-a) * 1000, \"ms\"\n",
    "print (d-c) * 1000, \"ms\"\n",
    "print (f-e) * 1000, \"ms\""
   ]
  },
  {
   "cell_type": "code",
   "execution_count": 31,
   "metadata": {
    "collapsed": false
   },
   "outputs": [
    {
     "name": "stdout",
     "output_type": "stream",
     "text": [
      "83.7428569794 ms\n",
      "3732.2101593 ms\n",
      "4192.20399857 ms\n",
      "3320.2290535 ms\n"
     ]
    }
   ],
   "source": [
    "import time\n",
    "import pandas as pd\n",
    "\n",
    "dataset = range(10000000)\n",
    "df = pd.DataFrame(dataset)\n",
    "\n",
    "a = time.time()\n",
    "df * 999\n",
    "b = time.time()\n",
    "\n",
    "c = time.time()\n",
    "[i*(59 * 59) for i in dataset]\n",
    "d = time.time()\n",
    "\n",
    "e = time.time()\n",
    "zz = 59 * 59\n",
    "[i * zz for i in dataset]\n",
    "f = time.time()\n",
    "\n",
    "g = time.time()\n",
    "for i in dataset:\n",
    "    i * 999\n",
    "h = time.time()\n",
    "\n",
    "print (b-a) * 1000, \"ms\"\n",
    "print (d-c) * 1000, \"ms\"\n",
    "print (f-e) * 1000, \"ms\"\n",
    "print (h-g) * 1000, \"ms\""
   ]
  },
  {
   "cell_type": "code",
   "execution_count": null,
   "metadata": {
    "collapsed": true
   },
   "outputs": [],
   "source": []
  }
 ],
 "metadata": {
  "kernelspec": {
   "display_name": "Python 2",
   "language": "python",
   "name": "python2"
  },
  "language_info": {
   "codemirror_mode": {
    "name": "ipython",
    "version": 2
   },
   "file_extension": ".py",
   "mimetype": "text/x-python",
   "name": "python",
   "nbconvert_exporter": "python",
   "pygments_lexer": "ipython2",
   "version": "2.7.12"
  }
 },
 "nbformat": 4,
 "nbformat_minor": 0
}
