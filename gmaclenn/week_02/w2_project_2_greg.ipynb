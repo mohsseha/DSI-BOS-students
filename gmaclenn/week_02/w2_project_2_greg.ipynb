{
 "cells": [
  {
   "cell_type": "markdown",
   "metadata": {
    "focus": true,
    "id": "263eb813-da45-48cf-9a8f-9da76c18e470"
   },
   "source": [
    "# Project 2\n",
    "## Step 1: Exploring your data.\n",
    "\n",
    "##### Load your data in using Pandas and start to explore. Save all of your early exploration code here and include in your final submission."
   ]
  },
  {
   "cell_type": "code",
   "execution_count": 1,
   "metadata": {
    "collapsed": false,
    "focus": false,
    "id": "b733d2fe-6d33-41dd-a3fc-5dfe9d71d91f"
   },
   "outputs": [
    {
     "name": "stdout",
     "output_type": "stream",
     "text": [
      "   year      artist.inverted                                  track  time  \\\n",
      "0  2000      Destiny's Child               Independent Women Part I  3:38   \n",
      "1  2000              Santana                           Maria, Maria  4:18   \n",
      "2  2000        Savage Garden                     I Knew I Loved You  4:07   \n",
      "3  2000              Madonna                                  Music  3:45   \n",
      "4  2000  Aguilera, Christina  Come On Over Baby (All I Want Is You)  3:38   \n",
      "\n",
      "  genre date.entered date.peaked  x1st.week  x2nd.week  x3rd.week     ...      \\\n",
      "0  Rock   2000-09-23  2000-11-18         78       63.0       49.0     ...       \n",
      "1  Rock   2000-02-12  2000-04-08         15        8.0        6.0     ...       \n",
      "2  Rock   1999-10-23  2000-01-29         71       48.0       43.0     ...       \n",
      "3  Rock   2000-08-12  2000-09-16         41       23.0       18.0     ...       \n",
      "4  Rock   2000-08-05  2000-10-14         57       47.0       45.0     ...       \n",
      "\n",
      "   x67th.week  x68th.week  x69th.week  x70th.week  x71st.week  x72nd.week  \\\n",
      "0         NaN         NaN         NaN         NaN         NaN         NaN   \n",
      "1         NaN         NaN         NaN         NaN         NaN         NaN   \n",
      "2         NaN         NaN         NaN         NaN         NaN         NaN   \n",
      "3         NaN         NaN         NaN         NaN         NaN         NaN   \n",
      "4         NaN         NaN         NaN         NaN         NaN         NaN   \n",
      "\n",
      "   x73rd.week  x74th.week  x75th.week  x76th.week  \n",
      "0         NaN         NaN         NaN         NaN  \n",
      "1         NaN         NaN         NaN         NaN  \n",
      "2         NaN         NaN         NaN         NaN  \n",
      "3         NaN         NaN         NaN         NaN  \n",
      "4         NaN         NaN         NaN         NaN  \n",
      "\n",
      "[5 rows x 83 columns]\n",
      "Index([u'year', u'artist.inverted', u'track', u'time', u'genre',\n",
      "       u'date.entered', u'date.peaked', u'x1st.week', u'x2nd.week',\n",
      "       u'x3rd.week', u'x4th.week', u'x5th.week', u'x6th.week', u'x7th.week',\n",
      "       u'x8th.week', u'x9th.week', u'x10th.week', u'x11th.week', u'x12th.week',\n",
      "       u'x13th.week', u'x14th.week', u'x15th.week', u'x16th.week',\n",
      "       u'x17th.week', u'x18th.week', u'x19th.week', u'x20th.week',\n",
      "       u'x21st.week', u'x22nd.week', u'x23rd.week', u'x24th.week',\n",
      "       u'x25th.week', u'x26th.week', u'x27th.week', u'x28th.week',\n",
      "       u'x29th.week', u'x30th.week', u'x31st.week', u'x32nd.week',\n",
      "       u'x33rd.week', u'x34th.week', u'x35th.week', u'x36th.week',\n",
      "       u'x37th.week', u'x38th.week', u'x39th.week', u'x40th.week',\n",
      "       u'x41st.week', u'x42nd.week', u'x43rd.week', u'x44th.week',\n",
      "       u'x45th.week', u'x46th.week', u'x47th.week', u'x48th.week',\n",
      "       u'x49th.week', u'x50th.week', u'x51st.week', u'x52nd.week',\n",
      "       u'x53rd.week', u'x54th.week', u'x55th.week', u'x56th.week',\n",
      "       u'x57th.week', u'x58th.week', u'x59th.week', u'x60th.week',\n",
      "       u'x61st.week', u'x62nd.week', u'x63rd.week', u'x64th.week',\n",
      "       u'x65th.week', u'x66th.week', u'x67th.week', u'x68th.week',\n",
      "       u'x69th.week', u'x70th.week', u'x71st.week', u'x72nd.week',\n",
      "       u'x73rd.week', u'x74th.week', u'x75th.week', u'x76th.week'],\n",
      "      dtype='object')\n",
      "year                 int64\n",
      "artist.inverted     object\n",
      "track               object\n",
      "time                object\n",
      "genre               object\n",
      "date.entered        object\n",
      "date.peaked         object\n",
      "x1st.week            int64\n",
      "x2nd.week          float64\n",
      "x3rd.week          float64\n",
      "x4th.week          float64\n",
      "x5th.week          float64\n",
      "x6th.week          float64\n",
      "x7th.week          float64\n",
      "x8th.week          float64\n",
      "x9th.week          float64\n",
      "x10th.week         float64\n",
      "x11th.week         float64\n",
      "x12th.week         float64\n",
      "x13th.week         float64\n",
      "x14th.week         float64\n",
      "x15th.week         float64\n",
      "x16th.week         float64\n",
      "x17th.week         float64\n",
      "x18th.week         float64\n",
      "x19th.week         float64\n",
      "x20th.week         float64\n",
      "x21st.week         float64\n",
      "x22nd.week         float64\n",
      "x23rd.week         float64\n",
      "                    ...   \n",
      "x47th.week         float64\n",
      "x48th.week         float64\n",
      "x49th.week         float64\n",
      "x50th.week         float64\n",
      "x51st.week         float64\n",
      "x52nd.week         float64\n",
      "x53rd.week         float64\n",
      "x54th.week         float64\n",
      "x55th.week         float64\n",
      "x56th.week         float64\n",
      "x57th.week         float64\n",
      "x58th.week         float64\n",
      "x59th.week         float64\n",
      "x60th.week         float64\n",
      "x61st.week         float64\n",
      "x62nd.week         float64\n",
      "x63rd.week         float64\n",
      "x64th.week         float64\n",
      "x65th.week         float64\n",
      "x66th.week         float64\n",
      "x67th.week         float64\n",
      "x68th.week         float64\n",
      "x69th.week         float64\n",
      "x70th.week         float64\n",
      "x71st.week         float64\n",
      "x72nd.week         float64\n",
      "x73rd.week         float64\n",
      "x74th.week         float64\n",
      "x75th.week         float64\n",
      "x76th.week         float64\n",
      "dtype: object\n"
     ]
    }
   ],
   "source": [
    "import pandas as pd\n",
    "\n",
    "billboard_data = pd.read_csv('/Users/gregorymaclennan/source_files/billboard.csv')\n",
    "print billboard_data.head(5) # check the data out\n",
    "print billboard_data.columns # get a list of all the columns\n",
    "print billboard_data.dtypes # check the data types of all the columns\n",
    "# Note that the dates are object types and the x.1st week is type int"
   ]
  },
  {
   "cell_type": "markdown",
   "metadata": {
    "focus": false,
    "id": "94514384-cf79-4e7a-a09b-02cddc91e77c"
   },
   "source": [
    "##### Write a brief description of your data, and any interesting observations you've made thus far. "
   ]
  },
  {
   "cell_type": "markdown",
   "metadata": {
    "collapsed": true,
    "focus": false,
    "id": "33a9e3f0-a29d-4b02-90bd-528bdb44fb78"
   },
   "source": [
    "The billboard.csv file contains a list of 317 songs that appeared on the billboard top 100 list in the year 2000. We have 76 weeks of data on each track, with information on when the track first entered the list and when the track peaked. It appears that some of the data from the last columns have numerous NaN values, so it will be interesting to see if there is any data in those columns at all. As noted above the 1st week column is of type int and the date columns are of type object. "
   ]
  },
  {
   "cell_type": "markdown",
   "metadata": {
    "focus": false,
    "id": "888b6223-3bb4-4d91-b753-4867a3a1b281"
   },
   "source": [
    "## Step 2: Clean your data."
   ]
  },
  {
   "cell_type": "markdown",
   "metadata": {
    "focus": false,
    "id": "8a273328-6d9f-4dfc-88f8-a0c18e4d7f90"
   },
   "source": [
    "##### Do some rudimentary cleaning. Rename any columns that are poorly named, shorten any strings that may be too long, check for missing values (and replace them if it makes sense to do so). Explain your rationale for the way you choose to \"impute\" the missing data."
   ]
  },
  {
   "cell_type": "code",
   "execution_count": 6,
   "metadata": {
    "collapsed": false,
    "focus": false,
    "id": "00022458-8edc-4f84-8492-0be04397fa64"
   },
   "outputs": [
    {
     "name": "stdout",
     "output_type": "stream",
     "text": [
      "year                        int64\n",
      "artist.inverted            object\n",
      "track                      object\n",
      "time                       object\n",
      "genre                      object\n",
      "date.entered       datetime64[ns]\n",
      "date.peaked        datetime64[ns]\n",
      "x1st.week                 float64\n",
      "x2nd.week                 float64\n",
      "x3rd.week                 float64\n",
      "x4th.week                 float64\n",
      "x5th.week                 float64\n",
      "x6th.week                 float64\n",
      "x7th.week                 float64\n",
      "x8th.week                 float64\n",
      "x9th.week                 float64\n",
      "x10th.week                float64\n",
      "x11th.week                float64\n",
      "x12th.week                float64\n",
      "x13th.week                float64\n",
      "x14th.week                float64\n",
      "x15th.week                float64\n",
      "x16th.week                float64\n",
      "x17th.week                float64\n",
      "x18th.week                float64\n",
      "x19th.week                float64\n",
      "x20th.week                float64\n",
      "x21st.week                float64\n",
      "x22nd.week                float64\n",
      "x23rd.week                float64\n",
      "                        ...      \n",
      "x36th.week                float64\n",
      "x37th.week                float64\n",
      "x38th.week                float64\n",
      "x39th.week                float64\n",
      "x40th.week                float64\n",
      "x41st.week                float64\n",
      "x42nd.week                float64\n",
      "x43rd.week                float64\n",
      "x44th.week                float64\n",
      "x45th.week                float64\n",
      "x46th.week                float64\n",
      "x47th.week                float64\n",
      "x48th.week                float64\n",
      "x49th.week                float64\n",
      "x50th.week                float64\n",
      "x51st.week                float64\n",
      "x52nd.week                float64\n",
      "x53rd.week                float64\n",
      "x54th.week                float64\n",
      "x55th.week                float64\n",
      "x56th.week                float64\n",
      "x57th.week                float64\n",
      "x58th.week                float64\n",
      "x59th.week                float64\n",
      "x60th.week                float64\n",
      "x61st.week                float64\n",
      "x62nd.week                float64\n",
      "x63rd.week                float64\n",
      "x64th.week                float64\n",
      "x65th.week                float64\n",
      "dtype: object\n"
     ]
    }
   ],
   "source": [
    "# takes the date.entered and date.peaked column and converts the strings to datetime format\n",
    "billboard_data['date.entered'] = pd.to_datetime(billboard_data['date.entered']) \n",
    "billboard_data['date.peaked'] = pd.to_datetime(billboard_data['date.peaked'])\n",
    "# convert the x1st.week column from int to float\n",
    "billboard_data['x1st.week'] = billboard_data['x1st.week'].astype(float)\n",
    "# print billboard_data.dtypes # confirm both columns were changed properly\n",
    "billboard_data = billboard_data.dropna(axis=1,how='all') # if ALL values in any of the columns are NaN then we will drop the column.\n",
    "# That way we can drop any columns that have no data at all in them.\n",
    "print billboard_data.dtypes"
   ]
  },
  {
   "cell_type": "code",
   "execution_count": 33,
   "metadata": {
    "collapsed": true
   },
   "outputs": [],
   "source": [
    "# Export cleaned data for use in Tabeleau\n",
    "billboard_data.to_csv('/Users/gregorymaclennan/source_files/billboard_data_cleaned.csv')"
   ]
  },
  {
   "cell_type": "markdown",
   "metadata": {
    "focus": false,
    "id": "604ee5d7-10ed-4d14-9f86-16a6b240c00d"
   },
   "source": [
    "##### Using Pandas' built in `melt` function, pivot the weekly ranking data to be long rather than wide. As a result, you will have removed the 72 'week' columns and replace it with two: Week and Ranking. There will now be multiple entries for each song, one for each week on the Billboard rankings."
   ]
  },
  {
   "cell_type": "code",
   "execution_count": 21,
   "metadata": {
    "collapsed": false,
    "focus": false,
    "id": "bf0161ca-0fcb-4883-a216-93fd7ffa6456"
   },
   "outputs": [
    {
     "name": "stdout",
     "output_type": "stream",
     "text": [
      "   year      artist.inverted                                  track  time  \\\n",
      "0  2000      Destiny's Child               Independent Women Part I  3:38   \n",
      "1  2000              Santana                           Maria, Maria  4:18   \n",
      "2  2000        Savage Garden                     I Knew I Loved You  4:07   \n",
      "3  2000              Madonna                                  Music  3:45   \n",
      "4  2000  Aguilera, Christina  Come On Over Baby (All I Want Is You)  3:38   \n",
      "\n",
      "  genre date.entered date.peaked       week  ranking  \n",
      "0  Rock   2000-09-23  2000-11-18  x1st.week     78.0  \n",
      "1  Rock   2000-02-12  2000-04-08  x1st.week     15.0  \n",
      "2  Rock   1999-10-23  2000-01-29  x1st.week     71.0  \n",
      "3  Rock   2000-08-12  2000-09-16  x1st.week     41.0  \n",
      "4  Rock   2000-08-05  2000-10-14  x1st.week     57.0  \n"
     ]
    }
   ],
   "source": [
    "# select the 7 id columns which we want to keep in place\n",
    "id_columns = ['year','artist.inverted','track','time','genre','date.entered','date.peaked']\n",
    "\n",
    "# use the melt function to pivot the weekly ranking data and label the columns appropriately\n",
    "billboard_data_melt = pd.melt(billboard_data,id_vars=id_columns,var_name='week',value_name='ranking')\n",
    "print billboard_data_melt.head(5) # confirm the transformation\n",
    "\n",
    "# export the melt df to tableau\n",
    "billboard_data_melt.to_csv('/Users/gregorymaclennan/source_files/billboard_data_melt_cleaned.csv')"
   ]
  },
  {
   "cell_type": "markdown",
   "metadata": {
    "focus": false,
    "id": "2023c5a8-1f4e-4d83-9a52-c41a5090af74"
   },
   "source": [
    "## Step 3: Visualize your data."
   ]
  },
  {
   "cell_type": "markdown",
   "metadata": {
    "focus": false,
    "id": "dfaca026-8eca-4119-b4c1-e43433790c8e"
   },
   "source": [
    "##### Using a plotting utility of your choice (Tableau or python modules or both), create visualizations that will provide context to your data. There is no minimum or maximum number of graphs you should generate, but there should be a clear and consistent story being told. Give insights to the distribution, statistics, and relationships of the data. "
   ]
  },
  {
   "cell_type": "code",
   "execution_count": 44,
   "metadata": {
    "collapsed": true
   },
   "outputs": [],
   "source": [
    "import matplotlib.pyplot as plt\n",
    "import seaborn as sns\n",
    "import numpy as np\n",
    "%matplotlib inline"
   ]
  },
  {
   "cell_type": "code",
   "execution_count": 131,
   "metadata": {
    "collapsed": false
   },
   "outputs": [
    {
     "data": {
      "image/png": "[encoded data removed]",
      "text/plain": [
       "<matplotlib.figure.Figure at 0x110ec8410>"
      ]
     },
     "metadata": {},
     "output_type": "display_data"
    },
    {
     "data": {
      "image/png": "[encoded data removed]",
      "text/plain": [
       "<matplotlib.figure.Figure at 0x119834dd0>"
      ]
     },
     "metadata": {},
     "output_type": "display_data"
    },
    {
     "data": {
      "image/png": "[encoded data removed]",
      "text/plain": [
       "<matplotlib.figure.Figure at 0x119c9bc50>"
      ]
     },
     "metadata": {},
     "output_type": "display_data"
    }
   ],
   "source": [
    "genre_mean_ranking = billboard_data_melt.pivot_table(index='genre')\n",
    "genre_min_ranking = billboard_data_melt.pivot_table(index='genre', aggfunc=(np.min,np.max,np.std))\n",
    "genre_count_ranking = billboard_data_melt.pivot_table(index='genre')\n",
    "# print genre_mean_ranking\n",
    "\n",
    "most_volatile_artists = billboard_data_melt.pivot_table(index='artist.inverted', values='ranking', aggfunc=np.std).sort_values(ascending=False).head(10)\n",
    "most_volatile_artists.plot(kind='bar',y='ranking')\n",
    "plt.show()\n",
    "\n",
    "genre_mean_ranking.plot(kind='bar',y='ranking')\n",
    "plt.show()\n",
    "\n",
    "genre_min_ranking.plot(kind='bar', y='ranking')\n",
    "plt.show()"
   ]
  },
  {
   "cell_type": "code",
   "execution_count": 140,
   "metadata": {
    "collapsed": false,
    "focus": false,
    "id": "aa0c535c-497c-4f10-b695-540612ca534e"
   },
   "outputs": [
    {
     "name": "stdout",
     "output_type": "stream",
     "text": [
      "ranking         float64\n",
      "time_to_peak    float64\n",
      "year            float64\n",
      "dtype: object\n"
     ]
    },
    {
     "data": {
      "image/png": "[encoded data removed]",
      "text/plain": [
       "<matplotlib.figure.Figure at 0x119970e10>"
      ]
     },
     "metadata": {},
     "output_type": "display_data"
    }
   ],
   "source": [
    "top_10_mean_ranking = pd.pivot_table(billboard_data_melt, index='artist.inverted',aggfunc=np.mean).sort_values('ranking').head(10)\n",
    "print top_10_mean_ranking.dtypes #*discovered that there is no artist.inverted\n",
    "\n",
    "top_10_mean_ranking.plot(kind='bar',y='ranking')\n",
    "plt.show()\n"
   ]
  },
  {
   "cell_type": "code",
   "execution_count": 136,
   "metadata": {
    "collapsed": false
   },
   "outputs": [
    {
     "name": "stdout",
     "output_type": "stream",
     "text": [
      "int64\n",
      "   year      artist.inverted                                  track  time  \\\n",
      "0  2000      Destiny's Child               Independent Women Part I  3:38   \n",
      "1  2000              Santana                           Maria, Maria  4:18   \n",
      "2  2000        Savage Garden                     I Knew I Loved You  4:07   \n",
      "3  2000              Madonna                                  Music  3:45   \n",
      "4  2000  Aguilera, Christina  Come On Over Baby (All I Want Is You)  3:38   \n",
      "\n",
      "  genre date.entered date.peaked  x1st.week  x2nd.week  x3rd.week  \\\n",
      "0  Rock   2000-09-23  2000-11-18       78.0       63.0       49.0   \n",
      "1  Rock   2000-02-12  2000-04-08       15.0        8.0        6.0   \n",
      "2  Rock   1999-10-23  2000-01-29       71.0       48.0       43.0   \n",
      "3  Rock   2000-08-12  2000-09-16       41.0       23.0       18.0   \n",
      "4  Rock   2000-08-05  2000-10-14       57.0       47.0       45.0   \n",
      "\n",
      "       ...       x58th.week  x59th.week  x60th.week  x61st.week  x62nd.week  \\\n",
      "0      ...              NaN         NaN         NaN         NaN         NaN   \n",
      "1      ...              NaN         NaN         NaN         NaN         NaN   \n",
      "2      ...              NaN         NaN         NaN         NaN         NaN   \n",
      "3      ...              NaN         NaN         NaN         NaN         NaN   \n",
      "4      ...              NaN         NaN         NaN         NaN         NaN   \n",
      "\n",
      "   x63rd.week  x64th.week  x65th.week  time_to_peak  days_to_peak  \n",
      "0         NaN         NaN         NaN            56            56  \n",
      "1         NaN         NaN         NaN            56            56  \n",
      "2         NaN         NaN         NaN            98            98  \n",
      "3         NaN         NaN         NaN            35            35  \n",
      "4         NaN         NaN         NaN            70            70  \n",
      "\n",
      "[5 rows x 74 columns]\n",
      "[[<matplotlib.axes._subplots.AxesSubplot object at 0x11946c710>]]\n"
     ]
    },
    {
     "data": {
      "image/png": "[encoded data removed]",
      "text/plain": [
       "<matplotlib.figure.Figure at 0x11a76a4d0>"
      ]
     },
     "metadata": {},
     "output_type": "display_data"
    }
   ],
   "source": [
    "# create a time to peak column in the dataframe.\n",
    "billboard_data['days_to_peak'] = abs(billboard_data['date.entered']-billboard_data['date.peaked']).dt.days\n",
    "print billboard_data['days_to_peak'].dtype\n",
    "print billboard_data.head(5)\n",
    "print billboard_data.hist(column='time_to_peak', bins=20)\n",
    "plt.savefig('/Users/gregorymaclennan/source_files/days_to_peak.png')"
   ]
  },
  {
   "cell_type": "markdown",
   "metadata": {
    "focus": false,
    "id": "8401c631-245b-4560-8971-25cb2406c2ab"
   },
   "source": [
    "## Step 4: Create a Problem Statement.\n",
    "\n",
    "##### Having explored the data, come up with a problem statement for this data set. You can feel free to introduce data from any other source to support your problem statement, just be sure to provide a link to the origin of the data. Once again- be creative!"
   ]
  },
  {
   "cell_type": "markdown",
   "metadata": {
    "collapsed": true,
    "focus": false,
    "id": "e1b81214-9b26-4735-8c1b-4482e948b355"
   },
   "source": [
    "What genre of music should I choose if I want to write a song that will stay in the top 25 for as long as possible? "
   ]
  },
  {
   "cell_type": "markdown",
   "metadata": {
    "collapsed": false,
    "focus": false,
    "id": "a0ff30a0-48be-4851-9ec3-4ce8ece08a67"
   },
   "source": [
    "## Step 5: Brainstorm your Approach.\n",
    "##### In bullet-list form, provide a proposed approach for evaluating your problem statement. This can be somewhat high-level, but start to think about ways you can massage the data for maximum efficacy. "
   ]
  },
  {
   "cell_type": "markdown",
   "metadata": {
    "collapsed": true,
    "focus": false,
    "id": "9d772c7b-61e0-4bc4-bb1a-f3d43ba54862"
   },
   "source": [
    "* Read in CSV data to a Pandas DataFrame\n",
    "* Clean the CSV data\n",
    "    * Modify the data types for the appropriate columns\n",
    "    * Remove the columns where all the values are null\n",
    "* Create a new dataframe where we pivot the numerical values to a new column and keep the id values as is using the melt function\n",
    "* Create a pivot table that indexes on the genre column and look at the mean rank by genre\n",
    "* Export Data into Tableau\n",
    "* Pull together a visual representation of the average number of weeks a song stays in the top 25 by genre"
   ]
  },
  {
   "cell_type": "markdown",
   "metadata": {
    "collapsed": true,
    "focus": false,
    "id": "a3c74c5b-3d90-4442-97d9-ae320fe238d1"
   },
   "source": [
    "## Step 6: Create a blog post with your code snippets and visualizations.\n",
    "##### Data Science is a growing field, and the Tech industry thrives off of collaboration and sharing of knowledge. Blogging is a powerful means for pushing the needle forward in our field. Using your blogging platform of choice, create a post describing each of the 5 steps above. Rather than writing a procedural text, imagine you're describing the data, visualizations, and conclusions you've arrived at to your peers. Aim for a minimum of 500 words. "
   ]
  },
  {
   "cell_type": "markdown",
   "metadata": {
    "collapsed": true,
    "focus": false,
    "id": "9b0185e4-7023-4086-b8b7-e15bcacc9984"
   },
   "source": [
    "'https://gmaclenn.github.io/projects/2016/12/09/Billboard.html'"
   ]
  },
  {
   "cell_type": "markdown",
   "metadata": {
    "focus": false,
    "id": "aee61cbf-dfe9-40d3-bfef-772a60bed757"
   },
   "source": [
    "## BONUS: The Content Managers working for the Podcast Publishing Company have recognized you as a thought leader in your field. They've asked you to pen a white paper (minimum 500 words) on the subject of 'What It Means To Have Clean Data'. This will be an opinion piece read by a wide audience, so be sure to back up your statements with real world examples or scenarios.\n",
    "\n",
    "##### Hint: To get started, look around on the internet for articles, blog posts, papers, youtube videos, podcasts, reddit discussions, anything that will help you understand the challenges and implications of dealing with big data. This should be a personal reflection on everything you've learned this week, and the learning goals that have been set out for you going forward. "
   ]
  },
  {
   "cell_type": "code",
   "execution_count": null,
   "metadata": {
    "collapsed": true,
    "focus": false,
    "id": "28deb393-c994-47bc-87d2-035741ce527c"
   },
   "outputs": [],
   "source": []
  }
 ],
 "metadata": {
  "kernelspec": {
   "display_name": "Python 2",
   "language": "python",
   "name": "python2"
  },
  "language_info": {
   "codemirror_mode": {
    "name": "ipython",
    "version": 2
   },
   "file_extension": ".py",
   "mimetype": "text/x-python",
   "name": "python",
   "nbconvert_exporter": "python",
   "pygments_lexer": "ipython2",
   "version": "2.7.12"
  }
 },
 "nbformat": 4,
 "nbformat_minor": 0
}
